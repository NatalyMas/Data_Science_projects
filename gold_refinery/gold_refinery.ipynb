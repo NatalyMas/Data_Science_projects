{
 "cells": [
  {
   "cell_type": "markdown",
   "metadata": {},
   "source": [
    "# Восстановление золота из руды"
   ]
  },
  {
   "cell_type": "markdown",
   "metadata": {
    "toc": true
   },
   "source": [
    "<h1>Содержание<span class=\"tocSkip\"></span></h1>\n",
    "<div class=\"toc\"><ul class=\"toc-item\"><li><span><a href=\"#Подготовка-данных\" data-toc-modified-id=\"Подготовка-данных-1\"><span class=\"toc-item-num\">1&nbsp;&nbsp;</span>Подготовка данных</a></span><ul class=\"toc-item\"><li><span><a href=\"#Загрузка-и-обзор-данных\" data-toc-modified-id=\"Загрузка-и-обзор-данных-1.1\"><span class=\"toc-item-num\">1.1&nbsp;&nbsp;</span>Загрузка и обзор данных</a></span></li><li><span><a href=\"#Проверка-расчета-эффективности-обогащения\" data-toc-modified-id=\"Проверка-расчета-эффективности-обогащения-1.2\"><span class=\"toc-item-num\">1.2&nbsp;&nbsp;</span>Проверка расчета эффективности обогащения</a></span></li><li><span><a href=\"#Анализ-признаков,-недоступных-в-тестовой-выборке\" data-toc-modified-id=\"Анализ-признаков,-недоступных-в-тестовой-выборке-1.3\"><span class=\"toc-item-num\">1.3&nbsp;&nbsp;</span>Анализ признаков, недоступных в тестовой выборке</a></span></li><li><span><a href=\"#Предобработка-данных\" data-toc-modified-id=\"Предобработка-данных-1.4\"><span class=\"toc-item-num\">1.4&nbsp;&nbsp;</span>Предобработка данных</a></span><ul class=\"toc-item\"><li><span><a href=\"#Индексы\" data-toc-modified-id=\"Индексы-1.4.1\"><span class=\"toc-item-num\">1.4.1&nbsp;&nbsp;</span>Индексы</a></span></li><li><span><a href=\"#Проверка-наличия-явных-дубликатов.\" data-toc-modified-id=\"Проверка-наличия-явных-дубликатов.-1.4.2\"><span class=\"toc-item-num\">1.4.2&nbsp;&nbsp;</span>Проверка наличия явных дубликатов.</a></span></li><li><span><a href=\"#Работа-с-пропусками\" data-toc-modified-id=\"Работа-с-пропусками-1.4.3\"><span class=\"toc-item-num\">1.4.3&nbsp;&nbsp;</span>Работа с пропусками</a></span></li></ul></li></ul></li><li><span><a href=\"#Анализ-данных\" data-toc-modified-id=\"Анализ-данных-2\"><span class=\"toc-item-num\">2&nbsp;&nbsp;</span>Анализ данных</a></span><ul class=\"toc-item\"><li><span><a href=\"#Анализ-изменения-концентрации-металлов-(Au,-Ag,-Pb)-на-различных-этапах\" data-toc-modified-id=\"Анализ-изменения-концентрации-металлов-(Au,-Ag,-Pb)-на-различных-этапах-2.1\"><span class=\"toc-item-num\">2.1&nbsp;&nbsp;</span>Анализ изменения концентрации металлов (Au, Ag, Pb) на различных этапах</a></span></li><li><span><a href=\"#Сравнение-распределения-размеров-гранул-исходного-сырья-на-обучающей-и-тестовой-выборках.\" data-toc-modified-id=\"Сравнение-распределения-размеров-гранул-исходного-сырья-на-обучающей-и-тестовой-выборках.-2.2\"><span class=\"toc-item-num\">2.2&nbsp;&nbsp;</span>Сравнение распределения размеров гранул исходного сырья на обучающей и тестовой выборках.</a></span></li><li><span><a href=\"#Исследование-суммарной-концентрации-металлов-на-разных-стадиях\" data-toc-modified-id=\"Исследование-суммарной-концентрации-металлов-на-разных-стадиях-2.3\"><span class=\"toc-item-num\">2.3&nbsp;&nbsp;</span>Исследование суммарной концентрации металлов на разных стадиях</a></span></li></ul></li><li><span><a href=\"#Модель\" data-toc-modified-id=\"Модель-3\"><span class=\"toc-item-num\">3&nbsp;&nbsp;</span>Модель</a></span><ul class=\"toc-item\"><li><span><a href=\"#Функция-для-вычисления-итоговой-sMAPE\" data-toc-modified-id=\"Функция-для-вычисления-итоговой-sMAPE-3.1\"><span class=\"toc-item-num\">3.1&nbsp;&nbsp;</span>Функция для вычисления итоговой sMAPE</a></span></li><li><span><a href=\"#Построение-моделей-и-оценка-качества\" data-toc-modified-id=\"Построение-моделей-и-оценка-качества-3.2\"><span class=\"toc-item-num\">3.2&nbsp;&nbsp;</span>Построение моделей и оценка качества</a></span><ul class=\"toc-item\"><li><span><a href=\"#Подготовка-данных-для-моделей\" data-toc-modified-id=\"Подготовка-данных-для-моделей-3.2.1\"><span class=\"toc-item-num\">3.2.1&nbsp;&nbsp;</span>Подготовка данных для моделей</a></span></li><li><span><a href=\"#Модели\" data-toc-modified-id=\"Модели-3.2.2\"><span class=\"toc-item-num\">3.2.2&nbsp;&nbsp;</span>Модели</a></span></li><li><span><a href=\"#Проверка-лучшей-модели\" data-toc-modified-id=\"Проверка-лучшей-модели-3.2.3\"><span class=\"toc-item-num\">3.2.3&nbsp;&nbsp;</span>Проверка лучшей модели</a></span></li></ul></li></ul></li><li><span><a href=\"#Вывод\" data-toc-modified-id=\"Вывод-4\"><span class=\"toc-item-num\">4&nbsp;&nbsp;</span>Вывод</a></span></li><li><span><a href=\"#Чек-лист-готовности-проекта\" data-toc-modified-id=\"Чек-лист-готовности-проекта-5\"><span class=\"toc-item-num\">5&nbsp;&nbsp;</span>Чек-лист готовности проекта</a></span></li></ul></div>"
   ]
  },
  {
   "cell_type": "markdown",
   "metadata": {},
   "source": [
    "Подготовим прототип модели машинного обучения для «Цифры». Компания разрабатывает решения для эффективной работы промышленных предприятий.\n",
    "\n",
    "Модель должна предсказать коэффициент восстановления золота из золотосодержащей руды. Используем данные с параметрами добычи и очистки. \n",
    "\n",
    "Модель поможет оптимизировать производство, чтобы не запускать предприятие с убыточными характеристиками.\n",
    "\n",
    "Нам нужно:\n",
    "\n",
    "1. Подготовить данные;\n",
    "2. Провести исследовательский анализ данных;\n",
    "3. Построить и обучить модель."
   ]
  },
  {
   "cell_type": "markdown",
   "metadata": {},
   "source": [
    "## Подготовка данных"
   ]
  },
  {
   "cell_type": "markdown",
   "metadata": {},
   "source": [
    "### Загрузка и обзор данных"
   ]
  },
  {
   "cell_type": "code",
   "execution_count": 1,
   "metadata": {},
   "outputs": [],
   "source": [
    "import pandas as pd\n",
    "import numpy as np\n",
    "import seaborn as sns\n",
    "import matplotlib.pyplot as plt\n",
    "\n",
    "from sklearn.metrics import mean_absolute_error\n",
    "from sklearn.preprocessing import StandardScaler\n",
    "from sklearn.linear_model import LinearRegression\n",
    "from sklearn.model_selection import cross_val_score\n",
    "from sklearn.ensemble import RandomForestRegressor\n",
    "from sklearn.model_selection import GridSearchCV\n",
    "from sklearn.metrics import make_scorer\n",
    "from sklearn.ensemble import GradientBoostingRegressor\n",
    "from sklearn.dummy import DummyRegressor\n",
    "from sklearn.linear_model import Lasso\n",
    "\n",
    "from numpy.random import RandomState\n",
    "state = RandomState(12345) \n",
    "\n",
    "np.seterr(invalid='ignore');"
   ]
  },
  {
   "cell_type": "code",
   "execution_count": 2,
   "metadata": {},
   "outputs": [],
   "source": [
    "df_train = pd.read_csv('/datasets/gold_industry_train.csv')\n",
    "df_test = pd.read_csv('/datasets/gold_industry_test.csv')\n",
    "df_full = pd.read_csv('/datasets/gold_industry_full.csv')"
   ]
  },
  {
   "cell_type": "code",
   "execution_count": 3,
   "metadata": {
    "collapsed": true
   },
   "outputs": [
    {
     "name": "stdout",
     "output_type": "stream",
     "text": [
      "<class 'pandas.core.frame.DataFrame'>\n",
      "RangeIndex: 14579 entries, 0 to 14578\n",
      "Data columns (total 87 columns):\n",
      " #   Column                                              Non-Null Count  Dtype  \n",
      "---  ------                                              --------------  -----  \n",
      " 0   date                                                14579 non-null  object \n",
      " 1   rougher.input.feed_au                               14579 non-null  float64\n",
      " 2   rougher.input.feed_ag                               14579 non-null  float64\n",
      " 3   rougher.input.feed_pb                               14507 non-null  float64\n",
      " 4   rougher.input.feed_sol                              14502 non-null  float64\n",
      " 5   rougher.input.feed_rate                             14572 non-null  float64\n",
      " 6   rougher.input.feed_size                             14478 non-null  float64\n",
      " 7   rougher.input.floatbank10_sulfate                   14548 non-null  float64\n",
      " 8   rougher.input.floatbank10_xanthate                  14572 non-null  float64\n",
      " 9   rougher.state.floatbank10_a_air                     14579 non-null  float64\n",
      " 10  rougher.state.floatbank10_a_level                   14579 non-null  float64\n",
      " 11  rougher.state.floatbank10_b_air                     14579 non-null  float64\n",
      " 12  rougher.state.floatbank10_b_level                   14579 non-null  float64\n",
      " 13  rougher.state.floatbank10_c_air                     14579 non-null  float64\n",
      " 14  rougher.state.floatbank10_c_level                   14579 non-null  float64\n",
      " 15  rougher.state.floatbank10_d_air                     14579 non-null  float64\n",
      " 16  rougher.state.floatbank10_d_level                   14579 non-null  float64\n",
      " 17  rougher.state.floatbank10_e_air                     14150 non-null  float64\n",
      " 18  rougher.state.floatbank10_e_level                   14579 non-null  float64\n",
      " 19  rougher.state.floatbank10_f_air                     14579 non-null  float64\n",
      " 20  rougher.state.floatbank10_f_level                   14579 non-null  float64\n",
      " 21  rougher.input.floatbank11_sulfate                   14543 non-null  float64\n",
      " 22  rougher.input.floatbank11_xanthate                  14172 non-null  float64\n",
      " 23  rougher.calculation.sulfate_to_au_concentrate       14578 non-null  float64\n",
      " 24  rougher.calculation.floatbank10_sulfate_to_au_feed  14578 non-null  float64\n",
      " 25  rougher.calculation.floatbank11_sulfate_to_au_feed  14578 non-null  float64\n",
      " 26  rougher.calculation.au_pb_ratio                     14579 non-null  float64\n",
      " 27  rougher.output.concentrate_au                       14579 non-null  float64\n",
      " 28  rougher.output.concentrate_ag                       14579 non-null  float64\n",
      " 29  rougher.output.concentrate_pb                       14579 non-null  float64\n",
      " 30  rougher.output.concentrate_sol                      14561 non-null  float64\n",
      " 31  rougher.output.recovery                             14579 non-null  float64\n",
      " 32  rougher.output.tail_au                              14579 non-null  float64\n",
      " 33  rougher.output.tail_ag                              14578 non-null  float64\n",
      " 34  rougher.output.tail_pb                              14579 non-null  float64\n",
      " 35  rougher.output.tail_sol                             14579 non-null  float64\n",
      " 36  primary_cleaner.input.sulfate                       14556 non-null  float64\n",
      " 37  primary_cleaner.input.depressant                    14551 non-null  float64\n",
      " 38  primary_cleaner.input.feed_size                     14579 non-null  float64\n",
      " 39  primary_cleaner.input.xanthate                      14518 non-null  float64\n",
      " 40  primary_cleaner.state.floatbank8_a_air              14576 non-null  float64\n",
      " 41  primary_cleaner.state.floatbank8_a_level            14579 non-null  float64\n",
      " 42  primary_cleaner.state.floatbank8_b_air              14576 non-null  float64\n",
      " 43  primary_cleaner.state.floatbank8_b_level            14579 non-null  float64\n",
      " 44  primary_cleaner.state.floatbank8_c_air              14579 non-null  float64\n",
      " 45  primary_cleaner.state.floatbank8_c_level            14579 non-null  float64\n",
      " 46  primary_cleaner.state.floatbank8_d_air              14578 non-null  float64\n",
      " 47  primary_cleaner.state.floatbank8_d_level            14579 non-null  float64\n",
      " 48  primary_cleaner.output.concentrate_au               14579 non-null  float64\n",
      " 49  primary_cleaner.output.concentrate_ag               14579 non-null  float64\n",
      " 50  primary_cleaner.output.concentrate_pb               14491 non-null  float64\n",
      " 51  primary_cleaner.output.concentrate_sol              14314 non-null  float64\n",
      " 52  primary_cleaner.output.tail_au                      14579 non-null  float64\n",
      " 53  primary_cleaner.output.tail_ag                      14575 non-null  float64\n",
      " 54  primary_cleaner.output.tail_pb                      14573 non-null  float64\n",
      " 55  primary_cleaner.output.tail_sol                     14534 non-null  float64\n",
      " 56  secondary_cleaner.state.floatbank2_a_air            14485 non-null  float64\n",
      " 57  secondary_cleaner.state.floatbank2_a_level          14579 non-null  float64\n",
      " 58  secondary_cleaner.state.floatbank2_b_air            14557 non-null  float64\n",
      " 59  secondary_cleaner.state.floatbank2_b_level          14579 non-null  float64\n",
      " 60  secondary_cleaner.state.floatbank3_a_air            14567 non-null  float64\n",
      " 61  secondary_cleaner.state.floatbank3_a_level          14579 non-null  float64\n",
      " 62  secondary_cleaner.state.floatbank3_b_air            14579 non-null  float64\n",
      " 63  secondary_cleaner.state.floatbank3_b_level          14579 non-null  float64\n",
      " 64  secondary_cleaner.state.floatbank4_a_air            14574 non-null  float64\n",
      " 65  secondary_cleaner.state.floatbank4_a_level          14579 non-null  float64\n",
      " 66  secondary_cleaner.state.floatbank4_b_air            14579 non-null  float64\n",
      " 67  secondary_cleaner.state.floatbank4_b_level          14579 non-null  float64\n",
      " 68  secondary_cleaner.state.floatbank5_a_air            14579 non-null  float64\n",
      " 69  secondary_cleaner.state.floatbank5_a_level          14579 non-null  float64\n",
      " 70  secondary_cleaner.state.floatbank5_b_air            14579 non-null  float64\n",
      " 71  secondary_cleaner.state.floatbank5_b_level          14579 non-null  float64\n",
      " 72  secondary_cleaner.state.floatbank6_a_air            14578 non-null  float64\n",
      " 73  secondary_cleaner.state.floatbank6_a_level          14579 non-null  float64\n",
      " 74  secondary_cleaner.output.tail_au                    14579 non-null  float64\n",
      " 75  secondary_cleaner.output.tail_ag                    14578 non-null  float64\n",
      " 76  secondary_cleaner.output.tail_pb                    14575 non-null  float64\n",
      " 77  secondary_cleaner.output.tail_sol                   13659 non-null  float64\n",
      " 78  final.output.concentrate_au                         14579 non-null  float64\n",
      " 79  final.output.concentrate_ag                         14578 non-null  float64\n",
      " 80  final.output.concentrate_pb                         14578 non-null  float64\n",
      " 81  final.output.concentrate_sol                        14387 non-null  float64\n",
      " 82  final.output.recovery                               14579 non-null  float64\n",
      " 83  final.output.tail_au                                14579 non-null  float64\n",
      " 84  final.output.tail_ag                                14578 non-null  float64\n",
      " 85  final.output.tail_pb                                14504 non-null  float64\n",
      " 86  final.output.tail_sol                               14574 non-null  float64\n",
      "dtypes: float64(86), object(1)\n",
      "memory usage: 9.7+ MB\n"
     ]
    },
    {
     "data": {
      "text/plain": [
       "None"
      ]
     },
     "metadata": {},
     "output_type": "display_data"
    },
    {
     "data": {
      "text/html": [
       "<div>\n",
       "<style scoped>\n",
       "    .dataframe tbody tr th:only-of-type {\n",
       "        vertical-align: middle;\n",
       "    }\n",
       "\n",
       "    .dataframe tbody tr th {\n",
       "        vertical-align: top;\n",
       "    }\n",
       "\n",
       "    .dataframe thead th {\n",
       "        text-align: right;\n",
       "    }\n",
       "</style>\n",
       "<table border=\"1\" class=\"dataframe\">\n",
       "  <thead>\n",
       "    <tr style=\"text-align: right;\">\n",
       "      <th></th>\n",
       "      <th>date</th>\n",
       "      <th>rougher.input.feed_au</th>\n",
       "      <th>rougher.input.feed_ag</th>\n",
       "      <th>rougher.input.feed_pb</th>\n",
       "      <th>rougher.input.feed_sol</th>\n",
       "      <th>rougher.input.feed_rate</th>\n",
       "      <th>rougher.input.feed_size</th>\n",
       "      <th>rougher.input.floatbank10_sulfate</th>\n",
       "      <th>rougher.input.floatbank10_xanthate</th>\n",
       "      <th>rougher.state.floatbank10_a_air</th>\n",
       "      <th>...</th>\n",
       "      <th>secondary_cleaner.output.tail_sol</th>\n",
       "      <th>final.output.concentrate_au</th>\n",
       "      <th>final.output.concentrate_ag</th>\n",
       "      <th>final.output.concentrate_pb</th>\n",
       "      <th>final.output.concentrate_sol</th>\n",
       "      <th>final.output.recovery</th>\n",
       "      <th>final.output.tail_au</th>\n",
       "      <th>final.output.tail_ag</th>\n",
       "      <th>final.output.tail_pb</th>\n",
       "      <th>final.output.tail_sol</th>\n",
       "    </tr>\n",
       "  </thead>\n",
       "  <tbody>\n",
       "    <tr>\n",
       "      <th>0</th>\n",
       "      <td>2016-01-15 00:00:00</td>\n",
       "      <td>6.486150</td>\n",
       "      <td>6.100378</td>\n",
       "      <td>2.284912</td>\n",
       "      <td>36.808594</td>\n",
       "      <td>523.546326</td>\n",
       "      <td>55.486599</td>\n",
       "      <td>11.986616</td>\n",
       "      <td>6.007990</td>\n",
       "      <td>999.706909</td>\n",
       "      <td>...</td>\n",
       "      <td>8.764648</td>\n",
       "      <td>42.192020</td>\n",
       "      <td>6.055403</td>\n",
       "      <td>9.889648</td>\n",
       "      <td>5.507324</td>\n",
       "      <td>70.541216</td>\n",
       "      <td>2.143149</td>\n",
       "      <td>10.411962</td>\n",
       "      <td>0.895447</td>\n",
       "      <td>16.904297</td>\n",
       "    </tr>\n",
       "    <tr>\n",
       "      <th>1</th>\n",
       "      <td>2016-01-15 01:00:00</td>\n",
       "      <td>6.478583</td>\n",
       "      <td>6.161113</td>\n",
       "      <td>2.266033</td>\n",
       "      <td>35.753385</td>\n",
       "      <td>525.290581</td>\n",
       "      <td>57.278666</td>\n",
       "      <td>11.971193</td>\n",
       "      <td>6.005766</td>\n",
       "      <td>1000.286398</td>\n",
       "      <td>...</td>\n",
       "      <td>9.001494</td>\n",
       "      <td>42.701629</td>\n",
       "      <td>6.029369</td>\n",
       "      <td>9.968944</td>\n",
       "      <td>5.257781</td>\n",
       "      <td>69.266198</td>\n",
       "      <td>2.224930</td>\n",
       "      <td>10.462676</td>\n",
       "      <td>0.927452</td>\n",
       "      <td>16.634514</td>\n",
       "    </tr>\n",
       "    <tr>\n",
       "      <th>2</th>\n",
       "      <td>2016-01-15 02:00:00</td>\n",
       "      <td>6.362222</td>\n",
       "      <td>6.116455</td>\n",
       "      <td>2.159622</td>\n",
       "      <td>35.971630</td>\n",
       "      <td>530.026610</td>\n",
       "      <td>57.510649</td>\n",
       "      <td>11.920603</td>\n",
       "      <td>6.197377</td>\n",
       "      <td>999.719565</td>\n",
       "      <td>...</td>\n",
       "      <td>8.842896</td>\n",
       "      <td>42.657501</td>\n",
       "      <td>6.055926</td>\n",
       "      <td>10.213995</td>\n",
       "      <td>5.383759</td>\n",
       "      <td>68.116445</td>\n",
       "      <td>2.257889</td>\n",
       "      <td>10.507046</td>\n",
       "      <td>0.953716</td>\n",
       "      <td>16.208849</td>\n",
       "    </tr>\n",
       "    <tr>\n",
       "      <th>3</th>\n",
       "      <td>2016-01-15 03:00:00</td>\n",
       "      <td>6.118189</td>\n",
       "      <td>6.043309</td>\n",
       "      <td>2.037807</td>\n",
       "      <td>36.862241</td>\n",
       "      <td>542.590390</td>\n",
       "      <td>57.792734</td>\n",
       "      <td>11.630094</td>\n",
       "      <td>6.203177</td>\n",
       "      <td>999.814770</td>\n",
       "      <td>...</td>\n",
       "      <td>9.122857</td>\n",
       "      <td>42.689819</td>\n",
       "      <td>6.047977</td>\n",
       "      <td>9.977019</td>\n",
       "      <td>4.858634</td>\n",
       "      <td>68.347543</td>\n",
       "      <td>2.146849</td>\n",
       "      <td>10.422762</td>\n",
       "      <td>0.883763</td>\n",
       "      <td>16.532835</td>\n",
       "    </tr>\n",
       "    <tr>\n",
       "      <th>4</th>\n",
       "      <td>2016-01-15 04:00:00</td>\n",
       "      <td>5.663707</td>\n",
       "      <td>6.060915</td>\n",
       "      <td>1.786875</td>\n",
       "      <td>34.347666</td>\n",
       "      <td>540.531893</td>\n",
       "      <td>56.047189</td>\n",
       "      <td>10.957755</td>\n",
       "      <td>6.198826</td>\n",
       "      <td>999.678690</td>\n",
       "      <td>...</td>\n",
       "      <td>8.871028</td>\n",
       "      <td>42.774141</td>\n",
       "      <td>6.148599</td>\n",
       "      <td>10.142511</td>\n",
       "      <td>4.939416</td>\n",
       "      <td>66.927016</td>\n",
       "      <td>2.055292</td>\n",
       "      <td>10.360302</td>\n",
       "      <td>0.792826</td>\n",
       "      <td>16.525686</td>\n",
       "    </tr>\n",
       "  </tbody>\n",
       "</table>\n",
       "<p>5 rows × 87 columns</p>\n",
       "</div>"
      ],
      "text/plain": [
       "                  date  rougher.input.feed_au  rougher.input.feed_ag  \\\n",
       "0  2016-01-15 00:00:00               6.486150               6.100378   \n",
       "1  2016-01-15 01:00:00               6.478583               6.161113   \n",
       "2  2016-01-15 02:00:00               6.362222               6.116455   \n",
       "3  2016-01-15 03:00:00               6.118189               6.043309   \n",
       "4  2016-01-15 04:00:00               5.663707               6.060915   \n",
       "\n",
       "   rougher.input.feed_pb  rougher.input.feed_sol  rougher.input.feed_rate  \\\n",
       "0               2.284912               36.808594               523.546326   \n",
       "1               2.266033               35.753385               525.290581   \n",
       "2               2.159622               35.971630               530.026610   \n",
       "3               2.037807               36.862241               542.590390   \n",
       "4               1.786875               34.347666               540.531893   \n",
       "\n",
       "   rougher.input.feed_size  rougher.input.floatbank10_sulfate  \\\n",
       "0                55.486599                          11.986616   \n",
       "1                57.278666                          11.971193   \n",
       "2                57.510649                          11.920603   \n",
       "3                57.792734                          11.630094   \n",
       "4                56.047189                          10.957755   \n",
       "\n",
       "   rougher.input.floatbank10_xanthate  rougher.state.floatbank10_a_air  ...  \\\n",
       "0                            6.007990                       999.706909  ...   \n",
       "1                            6.005766                      1000.286398  ...   \n",
       "2                            6.197377                       999.719565  ...   \n",
       "3                            6.203177                       999.814770  ...   \n",
       "4                            6.198826                       999.678690  ...   \n",
       "\n",
       "   secondary_cleaner.output.tail_sol  final.output.concentrate_au  \\\n",
       "0                           8.764648                    42.192020   \n",
       "1                           9.001494                    42.701629   \n",
       "2                           8.842896                    42.657501   \n",
       "3                           9.122857                    42.689819   \n",
       "4                           8.871028                    42.774141   \n",
       "\n",
       "   final.output.concentrate_ag  final.output.concentrate_pb  \\\n",
       "0                     6.055403                     9.889648   \n",
       "1                     6.029369                     9.968944   \n",
       "2                     6.055926                    10.213995   \n",
       "3                     6.047977                     9.977019   \n",
       "4                     6.148599                    10.142511   \n",
       "\n",
       "   final.output.concentrate_sol  final.output.recovery  final.output.tail_au  \\\n",
       "0                      5.507324              70.541216              2.143149   \n",
       "1                      5.257781              69.266198              2.224930   \n",
       "2                      5.383759              68.116445              2.257889   \n",
       "3                      4.858634              68.347543              2.146849   \n",
       "4                      4.939416              66.927016              2.055292   \n",
       "\n",
       "   final.output.tail_ag  final.output.tail_pb  final.output.tail_sol  \n",
       "0             10.411962              0.895447              16.904297  \n",
       "1             10.462676              0.927452              16.634514  \n",
       "2             10.507046              0.953716              16.208849  \n",
       "3             10.422762              0.883763              16.532835  \n",
       "4             10.360302              0.792826              16.525686  \n",
       "\n",
       "[5 rows x 87 columns]"
      ]
     },
     "metadata": {},
     "output_type": "display_data"
    },
    {
     "data": {
      "text/html": [
       "<div>\n",
       "<style scoped>\n",
       "    .dataframe tbody tr th:only-of-type {\n",
       "        vertical-align: middle;\n",
       "    }\n",
       "\n",
       "    .dataframe tbody tr th {\n",
       "        vertical-align: top;\n",
       "    }\n",
       "\n",
       "    .dataframe thead th {\n",
       "        text-align: right;\n",
       "    }\n",
       "</style>\n",
       "<table border=\"1\" class=\"dataframe\">\n",
       "  <thead>\n",
       "    <tr style=\"text-align: right;\">\n",
       "      <th></th>\n",
       "      <th>rougher.input.feed_au</th>\n",
       "      <th>rougher.input.feed_ag</th>\n",
       "      <th>rougher.input.feed_pb</th>\n",
       "      <th>rougher.input.feed_sol</th>\n",
       "      <th>rougher.input.feed_rate</th>\n",
       "      <th>rougher.input.feed_size</th>\n",
       "      <th>rougher.input.floatbank10_sulfate</th>\n",
       "      <th>rougher.input.floatbank10_xanthate</th>\n",
       "      <th>rougher.state.floatbank10_a_air</th>\n",
       "      <th>rougher.state.floatbank10_a_level</th>\n",
       "      <th>...</th>\n",
       "      <th>secondary_cleaner.output.tail_sol</th>\n",
       "      <th>final.output.concentrate_au</th>\n",
       "      <th>final.output.concentrate_ag</th>\n",
       "      <th>final.output.concentrate_pb</th>\n",
       "      <th>final.output.concentrate_sol</th>\n",
       "      <th>final.output.recovery</th>\n",
       "      <th>final.output.tail_au</th>\n",
       "      <th>final.output.tail_ag</th>\n",
       "      <th>final.output.tail_pb</th>\n",
       "      <th>final.output.tail_sol</th>\n",
       "    </tr>\n",
       "  </thead>\n",
       "  <tbody>\n",
       "    <tr>\n",
       "      <th>count</th>\n",
       "      <td>14579.000000</td>\n",
       "      <td>14579.000000</td>\n",
       "      <td>14507.000000</td>\n",
       "      <td>14502.000000</td>\n",
       "      <td>14572.000000</td>\n",
       "      <td>14478.000000</td>\n",
       "      <td>14548.000000</td>\n",
       "      <td>14572.000000</td>\n",
       "      <td>14579.000000</td>\n",
       "      <td>14579.000000</td>\n",
       "      <td>...</td>\n",
       "      <td>13659.000000</td>\n",
       "      <td>14579.000000</td>\n",
       "      <td>14578.000000</td>\n",
       "      <td>14578.000000</td>\n",
       "      <td>14387.000000</td>\n",
       "      <td>14579.000000</td>\n",
       "      <td>14579.000000</td>\n",
       "      <td>14578.000000</td>\n",
       "      <td>14504.000000</td>\n",
       "      <td>14574.000000</td>\n",
       "    </tr>\n",
       "    <tr>\n",
       "      <th>mean</th>\n",
       "      <td>8.352941</td>\n",
       "      <td>8.877460</td>\n",
       "      <td>3.604221</td>\n",
       "      <td>36.561420</td>\n",
       "      <td>474.332784</td>\n",
       "      <td>58.922712</td>\n",
       "      <td>12.427399</td>\n",
       "      <td>5.994854</td>\n",
       "      <td>1104.208278</td>\n",
       "      <td>-379.367166</td>\n",
       "      <td>...</td>\n",
       "      <td>7.111347</td>\n",
       "      <td>43.979499</td>\n",
       "      <td>5.192145</td>\n",
       "      <td>9.923809</td>\n",
       "      <td>9.566676</td>\n",
       "      <td>66.759066</td>\n",
       "      <td>3.087939</td>\n",
       "      <td>9.731972</td>\n",
       "      <td>2.719985</td>\n",
       "      <td>10.612745</td>\n",
       "    </tr>\n",
       "    <tr>\n",
       "      <th>std</th>\n",
       "      <td>1.934376</td>\n",
       "      <td>1.922536</td>\n",
       "      <td>1.056063</td>\n",
       "      <td>5.209823</td>\n",
       "      <td>108.503552</td>\n",
       "      <td>22.407410</td>\n",
       "      <td>3.428939</td>\n",
       "      <td>1.152873</td>\n",
       "      <td>162.235606</td>\n",
       "      <td>94.652311</td>\n",
       "      <td>...</td>\n",
       "      <td>3.909951</td>\n",
       "      <td>5.471437</td>\n",
       "      <td>1.388014</td>\n",
       "      <td>1.706976</td>\n",
       "      <td>2.805654</td>\n",
       "      <td>10.619709</td>\n",
       "      <td>0.915187</td>\n",
       "      <td>2.358143</td>\n",
       "      <td>0.958929</td>\n",
       "      <td>2.871075</td>\n",
       "    </tr>\n",
       "    <tr>\n",
       "      <th>min</th>\n",
       "      <td>0.010000</td>\n",
       "      <td>0.010000</td>\n",
       "      <td>0.010000</td>\n",
       "      <td>0.010000</td>\n",
       "      <td>0.002986</td>\n",
       "      <td>0.049194</td>\n",
       "      <td>0.001083</td>\n",
       "      <td>0.000568</td>\n",
       "      <td>-0.042069</td>\n",
       "      <td>-657.949759</td>\n",
       "      <td>...</td>\n",
       "      <td>0.000000</td>\n",
       "      <td>0.000000</td>\n",
       "      <td>0.000000</td>\n",
       "      <td>0.000000</td>\n",
       "      <td>0.000000</td>\n",
       "      <td>0.000000</td>\n",
       "      <td>0.000000</td>\n",
       "      <td>0.000000</td>\n",
       "      <td>0.000000</td>\n",
       "      <td>0.000000</td>\n",
       "    </tr>\n",
       "    <tr>\n",
       "      <th>25%</th>\n",
       "      <td>6.932996</td>\n",
       "      <td>7.341922</td>\n",
       "      <td>2.880490</td>\n",
       "      <td>34.093951</td>\n",
       "      <td>411.048483</td>\n",
       "      <td>47.278490</td>\n",
       "      <td>10.002832</td>\n",
       "      <td>5.304167</td>\n",
       "      <td>999.644856</td>\n",
       "      <td>-499.861797</td>\n",
       "      <td>...</td>\n",
       "      <td>3.784897</td>\n",
       "      <td>43.345906</td>\n",
       "      <td>4.283347</td>\n",
       "      <td>9.103183</td>\n",
       "      <td>7.860030</td>\n",
       "      <td>63.114596</td>\n",
       "      <td>2.505287</td>\n",
       "      <td>8.088928</td>\n",
       "      <td>2.036512</td>\n",
       "      <td>9.013412</td>\n",
       "    </tr>\n",
       "    <tr>\n",
       "      <th>50%</th>\n",
       "      <td>8.225284</td>\n",
       "      <td>8.715859</td>\n",
       "      <td>3.532399</td>\n",
       "      <td>37.097511</td>\n",
       "      <td>498.187968</td>\n",
       "      <td>54.361187</td>\n",
       "      <td>12.003320</td>\n",
       "      <td>6.003053</td>\n",
       "      <td>1000.982624</td>\n",
       "      <td>-300.314199</td>\n",
       "      <td>...</td>\n",
       "      <td>7.629968</td>\n",
       "      <td>44.975014</td>\n",
       "      <td>5.118647</td>\n",
       "      <td>10.046455</td>\n",
       "      <td>9.301970</td>\n",
       "      <td>67.962788</td>\n",
       "      <td>3.029238</td>\n",
       "      <td>9.818512</td>\n",
       "      <td>2.774847</td>\n",
       "      <td>10.670515</td>\n",
       "    </tr>\n",
       "    <tr>\n",
       "      <th>75%</th>\n",
       "      <td>9.832210</td>\n",
       "      <td>10.255843</td>\n",
       "      <td>4.257282</td>\n",
       "      <td>39.899799</td>\n",
       "      <td>549.586552</td>\n",
       "      <td>64.464926</td>\n",
       "      <td>14.929903</td>\n",
       "      <td>6.796632</td>\n",
       "      <td>1292.663971</td>\n",
       "      <td>-299.989315</td>\n",
       "      <td>...</td>\n",
       "      <td>10.367050</td>\n",
       "      <td>46.275153</td>\n",
       "      <td>5.925380</td>\n",
       "      <td>10.981203</td>\n",
       "      <td>11.001573</td>\n",
       "      <td>72.598187</td>\n",
       "      <td>3.614098</td>\n",
       "      <td>11.169187</td>\n",
       "      <td>3.353845</td>\n",
       "      <td>12.130827</td>\n",
       "    </tr>\n",
       "    <tr>\n",
       "      <th>max</th>\n",
       "      <td>13.731330</td>\n",
       "      <td>14.596026</td>\n",
       "      <td>7.052325</td>\n",
       "      <td>53.475325</td>\n",
       "      <td>717.508837</td>\n",
       "      <td>484.967466</td>\n",
       "      <td>36.118275</td>\n",
       "      <td>9.703448</td>\n",
       "      <td>1512.299531</td>\n",
       "      <td>-273.776101</td>\n",
       "      <td>...</td>\n",
       "      <td>26.000772</td>\n",
       "      <td>52.756638</td>\n",
       "      <td>16.001945</td>\n",
       "      <td>16.705297</td>\n",
       "      <td>19.423912</td>\n",
       "      <td>100.000000</td>\n",
       "      <td>8.245022</td>\n",
       "      <td>19.552149</td>\n",
       "      <td>5.804178</td>\n",
       "      <td>22.317730</td>\n",
       "    </tr>\n",
       "  </tbody>\n",
       "</table>\n",
       "<p>8 rows × 86 columns</p>\n",
       "</div>"
      ],
      "text/plain": [
       "       rougher.input.feed_au  rougher.input.feed_ag  rougher.input.feed_pb  \\\n",
       "count           14579.000000           14579.000000           14507.000000   \n",
       "mean                8.352941               8.877460               3.604221   \n",
       "std                 1.934376               1.922536               1.056063   \n",
       "min                 0.010000               0.010000               0.010000   \n",
       "25%                 6.932996               7.341922               2.880490   \n",
       "50%                 8.225284               8.715859               3.532399   \n",
       "75%                 9.832210              10.255843               4.257282   \n",
       "max                13.731330              14.596026               7.052325   \n",
       "\n",
       "       rougher.input.feed_sol  rougher.input.feed_rate  \\\n",
       "count            14502.000000             14572.000000   \n",
       "mean                36.561420               474.332784   \n",
       "std                  5.209823               108.503552   \n",
       "min                  0.010000                 0.002986   \n",
       "25%                 34.093951               411.048483   \n",
       "50%                 37.097511               498.187968   \n",
       "75%                 39.899799               549.586552   \n",
       "max                 53.475325               717.508837   \n",
       "\n",
       "       rougher.input.feed_size  rougher.input.floatbank10_sulfate  \\\n",
       "count             14478.000000                       14548.000000   \n",
       "mean                 58.922712                          12.427399   \n",
       "std                  22.407410                           3.428939   \n",
       "min                   0.049194                           0.001083   \n",
       "25%                  47.278490                          10.002832   \n",
       "50%                  54.361187                          12.003320   \n",
       "75%                  64.464926                          14.929903   \n",
       "max                 484.967466                          36.118275   \n",
       "\n",
       "       rougher.input.floatbank10_xanthate  rougher.state.floatbank10_a_air  \\\n",
       "count                        14572.000000                     14579.000000   \n",
       "mean                             5.994854                      1104.208278   \n",
       "std                              1.152873                       162.235606   \n",
       "min                              0.000568                        -0.042069   \n",
       "25%                              5.304167                       999.644856   \n",
       "50%                              6.003053                      1000.982624   \n",
       "75%                              6.796632                      1292.663971   \n",
       "max                              9.703448                      1512.299531   \n",
       "\n",
       "       rougher.state.floatbank10_a_level  ...  \\\n",
       "count                       14579.000000  ...   \n",
       "mean                         -379.367166  ...   \n",
       "std                            94.652311  ...   \n",
       "min                          -657.949759  ...   \n",
       "25%                          -499.861797  ...   \n",
       "50%                          -300.314199  ...   \n",
       "75%                          -299.989315  ...   \n",
       "max                          -273.776101  ...   \n",
       "\n",
       "       secondary_cleaner.output.tail_sol  final.output.concentrate_au  \\\n",
       "count                       13659.000000                 14579.000000   \n",
       "mean                            7.111347                    43.979499   \n",
       "std                             3.909951                     5.471437   \n",
       "min                             0.000000                     0.000000   \n",
       "25%                             3.784897                    43.345906   \n",
       "50%                             7.629968                    44.975014   \n",
       "75%                            10.367050                    46.275153   \n",
       "max                            26.000772                    52.756638   \n",
       "\n",
       "       final.output.concentrate_ag  final.output.concentrate_pb  \\\n",
       "count                 14578.000000                 14578.000000   \n",
       "mean                      5.192145                     9.923809   \n",
       "std                       1.388014                     1.706976   \n",
       "min                       0.000000                     0.000000   \n",
       "25%                       4.283347                     9.103183   \n",
       "50%                       5.118647                    10.046455   \n",
       "75%                       5.925380                    10.981203   \n",
       "max                      16.001945                    16.705297   \n",
       "\n",
       "       final.output.concentrate_sol  final.output.recovery  \\\n",
       "count                  14387.000000           14579.000000   \n",
       "mean                       9.566676              66.759066   \n",
       "std                        2.805654              10.619709   \n",
       "min                        0.000000               0.000000   \n",
       "25%                        7.860030              63.114596   \n",
       "50%                        9.301970              67.962788   \n",
       "75%                       11.001573              72.598187   \n",
       "max                       19.423912             100.000000   \n",
       "\n",
       "       final.output.tail_au  final.output.tail_ag  final.output.tail_pb  \\\n",
       "count          14579.000000          14578.000000          14504.000000   \n",
       "mean               3.087939              9.731972              2.719985   \n",
       "std                0.915187              2.358143              0.958929   \n",
       "min                0.000000              0.000000              0.000000   \n",
       "25%                2.505287              8.088928              2.036512   \n",
       "50%                3.029238              9.818512              2.774847   \n",
       "75%                3.614098             11.169187              3.353845   \n",
       "max                8.245022             19.552149              5.804178   \n",
       "\n",
       "       final.output.tail_sol  \n",
       "count           14574.000000  \n",
       "mean               10.612745  \n",
       "std                 2.871075  \n",
       "min                 0.000000  \n",
       "25%                 9.013412  \n",
       "50%                10.670515  \n",
       "75%                12.130827  \n",
       "max                22.317730  \n",
       "\n",
       "[8 rows x 86 columns]"
      ]
     },
     "metadata": {},
     "output_type": "display_data"
    },
    {
     "name": "stdout",
     "output_type": "stream",
     "text": [
      "<class 'pandas.core.frame.DataFrame'>\n",
      "RangeIndex: 4860 entries, 0 to 4859\n",
      "Data columns (total 53 columns):\n",
      " #   Column                                      Non-Null Count  Dtype  \n",
      "---  ------                                      --------------  -----  \n",
      " 0   date                                        4860 non-null   object \n",
      " 1   rougher.input.feed_au                       4860 non-null   float64\n",
      " 2   rougher.input.feed_ag                       4860 non-null   float64\n",
      " 3   rougher.input.feed_pb                       4832 non-null   float64\n",
      " 4   rougher.input.feed_sol                      4838 non-null   float64\n",
      " 5   rougher.input.feed_rate                     4856 non-null   float64\n",
      " 6   rougher.input.feed_size                     4816 non-null   float64\n",
      " 7   rougher.input.floatbank10_sulfate           4857 non-null   float64\n",
      " 8   rougher.input.floatbank10_xanthate          4859 non-null   float64\n",
      " 9   rougher.state.floatbank10_a_air             4859 non-null   float64\n",
      " 10  rougher.state.floatbank10_a_level           4859 non-null   float64\n",
      " 11  rougher.state.floatbank10_b_air             4859 non-null   float64\n",
      " 12  rougher.state.floatbank10_b_level           4859 non-null   float64\n",
      " 13  rougher.state.floatbank10_c_air             4859 non-null   float64\n",
      " 14  rougher.state.floatbank10_c_level           4859 non-null   float64\n",
      " 15  rougher.state.floatbank10_d_air             4860 non-null   float64\n",
      " 16  rougher.state.floatbank10_d_level           4860 non-null   float64\n",
      " 17  rougher.state.floatbank10_e_air             4853 non-null   float64\n",
      " 18  rougher.state.floatbank10_e_level           4860 non-null   float64\n",
      " 19  rougher.state.floatbank10_f_air             4860 non-null   float64\n",
      " 20  rougher.state.floatbank10_f_level           4860 non-null   float64\n",
      " 21  rougher.input.floatbank11_sulfate           4852 non-null   float64\n",
      " 22  rougher.input.floatbank11_xanthate          4814 non-null   float64\n",
      " 23  primary_cleaner.input.sulfate               4859 non-null   float64\n",
      " 24  primary_cleaner.input.depressant            4851 non-null   float64\n",
      " 25  primary_cleaner.input.feed_size             4860 non-null   float64\n",
      " 26  primary_cleaner.input.xanthate              4817 non-null   float64\n",
      " 27  primary_cleaner.state.floatbank8_a_air      4859 non-null   float64\n",
      " 28  primary_cleaner.state.floatbank8_a_level    4859 non-null   float64\n",
      " 29  primary_cleaner.state.floatbank8_b_air      4859 non-null   float64\n",
      " 30  primary_cleaner.state.floatbank8_b_level    4859 non-null   float64\n",
      " 31  primary_cleaner.state.floatbank8_c_air      4858 non-null   float64\n",
      " 32  primary_cleaner.state.floatbank8_c_level    4859 non-null   float64\n",
      " 33  primary_cleaner.state.floatbank8_d_air      4858 non-null   float64\n",
      " 34  primary_cleaner.state.floatbank8_d_level    4859 non-null   float64\n",
      " 35  secondary_cleaner.state.floatbank2_a_air    4734 non-null   float64\n",
      " 36  secondary_cleaner.state.floatbank2_a_level  4859 non-null   float64\n",
      " 37  secondary_cleaner.state.floatbank2_b_air    4859 non-null   float64\n",
      " 38  secondary_cleaner.state.floatbank2_b_level  4859 non-null   float64\n",
      " 39  secondary_cleaner.state.floatbank3_a_air    4859 non-null   float64\n",
      " 40  secondary_cleaner.state.floatbank3_a_level  4859 non-null   float64\n",
      " 41  secondary_cleaner.state.floatbank3_b_air    4859 non-null   float64\n",
      " 42  secondary_cleaner.state.floatbank3_b_level  4859 non-null   float64\n",
      " 43  secondary_cleaner.state.floatbank4_a_air    4859 non-null   float64\n",
      " 44  secondary_cleaner.state.floatbank4_a_level  4859 non-null   float64\n",
      " 45  secondary_cleaner.state.floatbank4_b_air    4859 non-null   float64\n",
      " 46  secondary_cleaner.state.floatbank4_b_level  4859 non-null   float64\n",
      " 47  secondary_cleaner.state.floatbank5_a_air    4859 non-null   float64\n",
      " 48  secondary_cleaner.state.floatbank5_a_level  4859 non-null   float64\n",
      " 49  secondary_cleaner.state.floatbank5_b_air    4859 non-null   float64\n",
      " 50  secondary_cleaner.state.floatbank5_b_level  4859 non-null   float64\n",
      " 51  secondary_cleaner.state.floatbank6_a_air    4859 non-null   float64\n",
      " 52  secondary_cleaner.state.floatbank6_a_level  4859 non-null   float64\n",
      "dtypes: float64(52), object(1)\n",
      "memory usage: 2.0+ MB\n"
     ]
    },
    {
     "data": {
      "text/plain": [
       "None"
      ]
     },
     "metadata": {},
     "output_type": "display_data"
    },
    {
     "data": {
      "text/html": [
       "<div>\n",
       "<style scoped>\n",
       "    .dataframe tbody tr th:only-of-type {\n",
       "        vertical-align: middle;\n",
       "    }\n",
       "\n",
       "    .dataframe tbody tr th {\n",
       "        vertical-align: top;\n",
       "    }\n",
       "\n",
       "    .dataframe thead th {\n",
       "        text-align: right;\n",
       "    }\n",
       "</style>\n",
       "<table border=\"1\" class=\"dataframe\">\n",
       "  <thead>\n",
       "    <tr style=\"text-align: right;\">\n",
       "      <th></th>\n",
       "      <th>date</th>\n",
       "      <th>rougher.input.feed_au</th>\n",
       "      <th>rougher.input.feed_ag</th>\n",
       "      <th>rougher.input.feed_pb</th>\n",
       "      <th>rougher.input.feed_sol</th>\n",
       "      <th>rougher.input.feed_rate</th>\n",
       "      <th>rougher.input.feed_size</th>\n",
       "      <th>rougher.input.floatbank10_sulfate</th>\n",
       "      <th>rougher.input.floatbank10_xanthate</th>\n",
       "      <th>rougher.state.floatbank10_a_air</th>\n",
       "      <th>...</th>\n",
       "      <th>secondary_cleaner.state.floatbank4_a_air</th>\n",
       "      <th>secondary_cleaner.state.floatbank4_a_level</th>\n",
       "      <th>secondary_cleaner.state.floatbank4_b_air</th>\n",
       "      <th>secondary_cleaner.state.floatbank4_b_level</th>\n",
       "      <th>secondary_cleaner.state.floatbank5_a_air</th>\n",
       "      <th>secondary_cleaner.state.floatbank5_a_level</th>\n",
       "      <th>secondary_cleaner.state.floatbank5_b_air</th>\n",
       "      <th>secondary_cleaner.state.floatbank5_b_level</th>\n",
       "      <th>secondary_cleaner.state.floatbank6_a_air</th>\n",
       "      <th>secondary_cleaner.state.floatbank6_a_level</th>\n",
       "    </tr>\n",
       "  </thead>\n",
       "  <tbody>\n",
       "    <tr>\n",
       "      <th>0</th>\n",
       "      <td>2017-12-09 14:59:59</td>\n",
       "      <td>4.365491</td>\n",
       "      <td>6.158718</td>\n",
       "      <td>3.875727</td>\n",
       "      <td>39.135119</td>\n",
       "      <td>555.820208</td>\n",
       "      <td>94.544358</td>\n",
       "      <td>6.146982</td>\n",
       "      <td>9.308612</td>\n",
       "      <td>1196.238112</td>\n",
       "      <td>...</td>\n",
       "      <td>23.018622</td>\n",
       "      <td>-500.492702</td>\n",
       "      <td>20.020205</td>\n",
       "      <td>-500.220296</td>\n",
       "      <td>17.963512</td>\n",
       "      <td>-499.939490</td>\n",
       "      <td>12.990306</td>\n",
       "      <td>-500.080993</td>\n",
       "      <td>19.990336</td>\n",
       "      <td>-499.191575</td>\n",
       "    </tr>\n",
       "    <tr>\n",
       "      <th>1</th>\n",
       "      <td>2017-12-09 15:59:59</td>\n",
       "      <td>4.362781</td>\n",
       "      <td>6.048130</td>\n",
       "      <td>3.902537</td>\n",
       "      <td>39.713906</td>\n",
       "      <td>544.731687</td>\n",
       "      <td>123.742430</td>\n",
       "      <td>6.210119</td>\n",
       "      <td>9.297709</td>\n",
       "      <td>1201.904177</td>\n",
       "      <td>...</td>\n",
       "      <td>23.024963</td>\n",
       "      <td>-501.153409</td>\n",
       "      <td>20.054122</td>\n",
       "      <td>-500.314711</td>\n",
       "      <td>17.979515</td>\n",
       "      <td>-499.272871</td>\n",
       "      <td>12.992404</td>\n",
       "      <td>-499.976268</td>\n",
       "      <td>20.013986</td>\n",
       "      <td>-500.625471</td>\n",
       "    </tr>\n",
       "    <tr>\n",
       "      <th>2</th>\n",
       "      <td>2017-12-09 16:59:59</td>\n",
       "      <td>5.081681</td>\n",
       "      <td>6.082745</td>\n",
       "      <td>4.564078</td>\n",
       "      <td>37.208683</td>\n",
       "      <td>558.155110</td>\n",
       "      <td>82.610855</td>\n",
       "      <td>7.363824</td>\n",
       "      <td>9.003562</td>\n",
       "      <td>1200.826926</td>\n",
       "      <td>...</td>\n",
       "      <td>22.993827</td>\n",
       "      <td>-501.559663</td>\n",
       "      <td>20.029144</td>\n",
       "      <td>-500.000662</td>\n",
       "      <td>18.012723</td>\n",
       "      <td>-500.024764</td>\n",
       "      <td>13.016445</td>\n",
       "      <td>-500.058432</td>\n",
       "      <td>19.973767</td>\n",
       "      <td>-501.394155</td>\n",
       "    </tr>\n",
       "    <tr>\n",
       "      <th>3</th>\n",
       "      <td>2017-12-09 17:59:59</td>\n",
       "      <td>5.145949</td>\n",
       "      <td>6.084374</td>\n",
       "      <td>4.768124</td>\n",
       "      <td>36.808874</td>\n",
       "      <td>539.713765</td>\n",
       "      <td>77.984784</td>\n",
       "      <td>6.927072</td>\n",
       "      <td>8.955597</td>\n",
       "      <td>1199.292489</td>\n",
       "      <td>...</td>\n",
       "      <td>23.032807</td>\n",
       "      <td>-501.287889</td>\n",
       "      <td>19.977466</td>\n",
       "      <td>-500.159903</td>\n",
       "      <td>17.980463</td>\n",
       "      <td>-500.504602</td>\n",
       "      <td>12.949071</td>\n",
       "      <td>-500.009937</td>\n",
       "      <td>20.010332</td>\n",
       "      <td>-508.337973</td>\n",
       "    </tr>\n",
       "    <tr>\n",
       "      <th>4</th>\n",
       "      <td>2017-12-09 18:59:59</td>\n",
       "      <td>5.735249</td>\n",
       "      <td>6.165220</td>\n",
       "      <td>4.512346</td>\n",
       "      <td>37.810642</td>\n",
       "      <td>558.713584</td>\n",
       "      <td>86.434874</td>\n",
       "      <td>7.823471</td>\n",
       "      <td>7.490356</td>\n",
       "      <td>1198.005449</td>\n",
       "      <td>...</td>\n",
       "      <td>23.001911</td>\n",
       "      <td>-499.947838</td>\n",
       "      <td>20.023735</td>\n",
       "      <td>-499.713680</td>\n",
       "      <td>17.990955</td>\n",
       "      <td>-500.334769</td>\n",
       "      <td>13.007523</td>\n",
       "      <td>-499.968459</td>\n",
       "      <td>19.995999</td>\n",
       "      <td>-499.788805</td>\n",
       "    </tr>\n",
       "  </tbody>\n",
       "</table>\n",
       "<p>5 rows × 53 columns</p>\n",
       "</div>"
      ],
      "text/plain": [
       "                  date  rougher.input.feed_au  rougher.input.feed_ag  \\\n",
       "0  2017-12-09 14:59:59               4.365491               6.158718   \n",
       "1  2017-12-09 15:59:59               4.362781               6.048130   \n",
       "2  2017-12-09 16:59:59               5.081681               6.082745   \n",
       "3  2017-12-09 17:59:59               5.145949               6.084374   \n",
       "4  2017-12-09 18:59:59               5.735249               6.165220   \n",
       "\n",
       "   rougher.input.feed_pb  rougher.input.feed_sol  rougher.input.feed_rate  \\\n",
       "0               3.875727               39.135119               555.820208   \n",
       "1               3.902537               39.713906               544.731687   \n",
       "2               4.564078               37.208683               558.155110   \n",
       "3               4.768124               36.808874               539.713765   \n",
       "4               4.512346               37.810642               558.713584   \n",
       "\n",
       "   rougher.input.feed_size  rougher.input.floatbank10_sulfate  \\\n",
       "0                94.544358                           6.146982   \n",
       "1               123.742430                           6.210119   \n",
       "2                82.610855                           7.363824   \n",
       "3                77.984784                           6.927072   \n",
       "4                86.434874                           7.823471   \n",
       "\n",
       "   rougher.input.floatbank10_xanthate  rougher.state.floatbank10_a_air  ...  \\\n",
       "0                            9.308612                      1196.238112  ...   \n",
       "1                            9.297709                      1201.904177  ...   \n",
       "2                            9.003562                      1200.826926  ...   \n",
       "3                            8.955597                      1199.292489  ...   \n",
       "4                            7.490356                      1198.005449  ...   \n",
       "\n",
       "   secondary_cleaner.state.floatbank4_a_air  \\\n",
       "0                                 23.018622   \n",
       "1                                 23.024963   \n",
       "2                                 22.993827   \n",
       "3                                 23.032807   \n",
       "4                                 23.001911   \n",
       "\n",
       "   secondary_cleaner.state.floatbank4_a_level  \\\n",
       "0                                 -500.492702   \n",
       "1                                 -501.153409   \n",
       "2                                 -501.559663   \n",
       "3                                 -501.287889   \n",
       "4                                 -499.947838   \n",
       "\n",
       "   secondary_cleaner.state.floatbank4_b_air  \\\n",
       "0                                 20.020205   \n",
       "1                                 20.054122   \n",
       "2                                 20.029144   \n",
       "3                                 19.977466   \n",
       "4                                 20.023735   \n",
       "\n",
       "   secondary_cleaner.state.floatbank4_b_level  \\\n",
       "0                                 -500.220296   \n",
       "1                                 -500.314711   \n",
       "2                                 -500.000662   \n",
       "3                                 -500.159903   \n",
       "4                                 -499.713680   \n",
       "\n",
       "   secondary_cleaner.state.floatbank5_a_air  \\\n",
       "0                                 17.963512   \n",
       "1                                 17.979515   \n",
       "2                                 18.012723   \n",
       "3                                 17.980463   \n",
       "4                                 17.990955   \n",
       "\n",
       "   secondary_cleaner.state.floatbank5_a_level  \\\n",
       "0                                 -499.939490   \n",
       "1                                 -499.272871   \n",
       "2                                 -500.024764   \n",
       "3                                 -500.504602   \n",
       "4                                 -500.334769   \n",
       "\n",
       "   secondary_cleaner.state.floatbank5_b_air  \\\n",
       "0                                 12.990306   \n",
       "1                                 12.992404   \n",
       "2                                 13.016445   \n",
       "3                                 12.949071   \n",
       "4                                 13.007523   \n",
       "\n",
       "   secondary_cleaner.state.floatbank5_b_level  \\\n",
       "0                                 -500.080993   \n",
       "1                                 -499.976268   \n",
       "2                                 -500.058432   \n",
       "3                                 -500.009937   \n",
       "4                                 -499.968459   \n",
       "\n",
       "   secondary_cleaner.state.floatbank6_a_air  \\\n",
       "0                                 19.990336   \n",
       "1                                 20.013986   \n",
       "2                                 19.973767   \n",
       "3                                 20.010332   \n",
       "4                                 19.995999   \n",
       "\n",
       "   secondary_cleaner.state.floatbank6_a_level  \n",
       "0                                 -499.191575  \n",
       "1                                 -500.625471  \n",
       "2                                 -501.394155  \n",
       "3                                 -508.337973  \n",
       "4                                 -499.788805  \n",
       "\n",
       "[5 rows x 53 columns]"
      ]
     },
     "metadata": {},
     "output_type": "display_data"
    },
    {
     "data": {
      "text/html": [
       "<div>\n",
       "<style scoped>\n",
       "    .dataframe tbody tr th:only-of-type {\n",
       "        vertical-align: middle;\n",
       "    }\n",
       "\n",
       "    .dataframe tbody tr th {\n",
       "        vertical-align: top;\n",
       "    }\n",
       "\n",
       "    .dataframe thead th {\n",
       "        text-align: right;\n",
       "    }\n",
       "</style>\n",
       "<table border=\"1\" class=\"dataframe\">\n",
       "  <thead>\n",
       "    <tr style=\"text-align: right;\">\n",
       "      <th></th>\n",
       "      <th>rougher.input.feed_au</th>\n",
       "      <th>rougher.input.feed_ag</th>\n",
       "      <th>rougher.input.feed_pb</th>\n",
       "      <th>rougher.input.feed_sol</th>\n",
       "      <th>rougher.input.feed_rate</th>\n",
       "      <th>rougher.input.feed_size</th>\n",
       "      <th>rougher.input.floatbank10_sulfate</th>\n",
       "      <th>rougher.input.floatbank10_xanthate</th>\n",
       "      <th>rougher.state.floatbank10_a_air</th>\n",
       "      <th>rougher.state.floatbank10_a_level</th>\n",
       "      <th>...</th>\n",
       "      <th>secondary_cleaner.state.floatbank4_a_air</th>\n",
       "      <th>secondary_cleaner.state.floatbank4_a_level</th>\n",
       "      <th>secondary_cleaner.state.floatbank4_b_air</th>\n",
       "      <th>secondary_cleaner.state.floatbank4_b_level</th>\n",
       "      <th>secondary_cleaner.state.floatbank5_a_air</th>\n",
       "      <th>secondary_cleaner.state.floatbank5_a_level</th>\n",
       "      <th>secondary_cleaner.state.floatbank5_b_air</th>\n",
       "      <th>secondary_cleaner.state.floatbank5_b_level</th>\n",
       "      <th>secondary_cleaner.state.floatbank6_a_air</th>\n",
       "      <th>secondary_cleaner.state.floatbank6_a_level</th>\n",
       "    </tr>\n",
       "  </thead>\n",
       "  <tbody>\n",
       "    <tr>\n",
       "      <th>count</th>\n",
       "      <td>4860.000000</td>\n",
       "      <td>4860.000000</td>\n",
       "      <td>4832.000000</td>\n",
       "      <td>4838.000000</td>\n",
       "      <td>4856.000000</td>\n",
       "      <td>4816.000000</td>\n",
       "      <td>4857.000000</td>\n",
       "      <td>4859.000000</td>\n",
       "      <td>4859.000000</td>\n",
       "      <td>4859.000000</td>\n",
       "      <td>...</td>\n",
       "      <td>4.859000e+03</td>\n",
       "      <td>4859.000000</td>\n",
       "      <td>4.859000e+03</td>\n",
       "      <td>4859.000000</td>\n",
       "      <td>4859.000000</td>\n",
       "      <td>4859.000000</td>\n",
       "      <td>4859.000000</td>\n",
       "      <td>4859.000000</td>\n",
       "      <td>4859.000000</td>\n",
       "      <td>4859.000000</td>\n",
       "    </tr>\n",
       "    <tr>\n",
       "      <th>mean</th>\n",
       "      <td>8.005584</td>\n",
       "      <td>8.547348</td>\n",
       "      <td>3.579662</td>\n",
       "      <td>37.095864</td>\n",
       "      <td>490.285103</td>\n",
       "      <td>59.113400</td>\n",
       "      <td>12.055735</td>\n",
       "      <td>6.101308</td>\n",
       "      <td>1108.635895</td>\n",
       "      <td>-368.340127</td>\n",
       "      <td>...</td>\n",
       "      <td>1.985770e+01</td>\n",
       "      <td>-488.665140</td>\n",
       "      <td>1.557025e+01</td>\n",
       "      <td>-464.176507</td>\n",
       "      <td>16.594103</td>\n",
       "      <td>-490.815250</td>\n",
       "      <td>12.945971</td>\n",
       "      <td>-489.583564</td>\n",
       "      <td>19.053888</td>\n",
       "      <td>-504.678924</td>\n",
       "    </tr>\n",
       "    <tr>\n",
       "      <th>std</th>\n",
       "      <td>1.993590</td>\n",
       "      <td>1.958601</td>\n",
       "      <td>1.029377</td>\n",
       "      <td>4.926284</td>\n",
       "      <td>94.371623</td>\n",
       "      <td>19.125122</td>\n",
       "      <td>3.407642</td>\n",
       "      <td>1.042754</td>\n",
       "      <td>156.493143</td>\n",
       "      <td>91.155929</td>\n",
       "      <td>...</td>\n",
       "      <td>5.913105e+00</td>\n",
       "      <td>44.392714</td>\n",
       "      <td>4.927361e+00</td>\n",
       "      <td>65.706994</td>\n",
       "      <td>5.724305</td>\n",
       "      <td>32.258443</td>\n",
       "      <td>5.533176</td>\n",
       "      <td>37.084609</td>\n",
       "      <td>5.548996</td>\n",
       "      <td>38.690186</td>\n",
       "    </tr>\n",
       "    <tr>\n",
       "      <th>min</th>\n",
       "      <td>0.010000</td>\n",
       "      <td>0.010000</td>\n",
       "      <td>0.010000</td>\n",
       "      <td>0.010000</td>\n",
       "      <td>0.012786</td>\n",
       "      <td>0.046369</td>\n",
       "      <td>0.018907</td>\n",
       "      <td>0.015783</td>\n",
       "      <td>300.792494</td>\n",
       "      <td>-600.568138</td>\n",
       "      <td>...</td>\n",
       "      <td>1.079872e-16</td>\n",
       "      <td>-799.704969</td>\n",
       "      <td>2.489718e-17</td>\n",
       "      <td>-799.860767</td>\n",
       "      <td>-0.371498</td>\n",
       "      <td>-797.142475</td>\n",
       "      <td>1.358469</td>\n",
       "      <td>-800.006180</td>\n",
       "      <td>0.160386</td>\n",
       "      <td>-809.734800</td>\n",
       "    </tr>\n",
       "    <tr>\n",
       "      <th>25%</th>\n",
       "      <td>6.574363</td>\n",
       "      <td>6.975898</td>\n",
       "      <td>2.903612</td>\n",
       "      <td>34.510841</td>\n",
       "      <td>434.099695</td>\n",
       "      <td>47.596984</td>\n",
       "      <td>9.890429</td>\n",
       "      <td>5.499808</td>\n",
       "      <td>999.715729</td>\n",
       "      <td>-499.731972</td>\n",
       "      <td>...</td>\n",
       "      <td>1.501123e+01</td>\n",
       "      <td>-500.704004</td>\n",
       "      <td>1.202172e+01</td>\n",
       "      <td>-500.196517</td>\n",
       "      <td>11.073822</td>\n",
       "      <td>-500.483564</td>\n",
       "      <td>9.011890</td>\n",
       "      <td>-500.129913</td>\n",
       "      <td>14.963953</td>\n",
       "      <td>-500.668501</td>\n",
       "    </tr>\n",
       "    <tr>\n",
       "      <th>50%</th>\n",
       "      <td>7.812923</td>\n",
       "      <td>8.179714</td>\n",
       "      <td>3.540772</td>\n",
       "      <td>37.499761</td>\n",
       "      <td>502.118742</td>\n",
       "      <td>55.509481</td>\n",
       "      <td>11.997859</td>\n",
       "      <td>6.099805</td>\n",
       "      <td>1001.414798</td>\n",
       "      <td>-300.181367</td>\n",
       "      <td>...</td>\n",
       "      <td>1.996807e+01</td>\n",
       "      <td>-499.892919</td>\n",
       "      <td>1.501240e+01</td>\n",
       "      <td>-499.540776</td>\n",
       "      <td>16.631195</td>\n",
       "      <td>-499.873136</td>\n",
       "      <td>11.999417</td>\n",
       "      <td>-499.955304</td>\n",
       "      <td>19.960006</td>\n",
       "      <td>-500.033769</td>\n",
       "    </tr>\n",
       "    <tr>\n",
       "      <th>75%</th>\n",
       "      <td>9.556589</td>\n",
       "      <td>10.084339</td>\n",
       "      <td>4.199847</td>\n",
       "      <td>40.461315</td>\n",
       "      <td>555.596563</td>\n",
       "      <td>66.661547</td>\n",
       "      <td>14.496072</td>\n",
       "      <td>6.802101</td>\n",
       "      <td>1202.837565</td>\n",
       "      <td>-299.961547</td>\n",
       "      <td>...</td>\n",
       "      <td>2.498900e+01</td>\n",
       "      <td>-498.652030</td>\n",
       "      <td>1.999949e+01</td>\n",
       "      <td>-400.302329</td>\n",
       "      <td>19.983191</td>\n",
       "      <td>-498.852815</td>\n",
       "      <td>15.004198</td>\n",
       "      <td>-499.643776</td>\n",
       "      <td>24.974583</td>\n",
       "      <td>-499.460134</td>\n",
       "    </tr>\n",
       "    <tr>\n",
       "      <th>max</th>\n",
       "      <td>13.417156</td>\n",
       "      <td>14.533698</td>\n",
       "      <td>7.142594</td>\n",
       "      <td>53.477742</td>\n",
       "      <td>702.523396</td>\n",
       "      <td>363.989699</td>\n",
       "      <td>30.010759</td>\n",
       "      <td>9.396928</td>\n",
       "      <td>1521.980372</td>\n",
       "      <td>-281.039299</td>\n",
       "      <td>...</td>\n",
       "      <td>3.008450e+01</td>\n",
       "      <td>-383.373053</td>\n",
       "      <td>2.398898e+01</td>\n",
       "      <td>-114.250832</td>\n",
       "      <td>33.215996</td>\n",
       "      <td>-288.963521</td>\n",
       "      <td>24.177106</td>\n",
       "      <td>-141.934397</td>\n",
       "      <td>32.028529</td>\n",
       "      <td>-104.427459</td>\n",
       "    </tr>\n",
       "  </tbody>\n",
       "</table>\n",
       "<p>8 rows × 52 columns</p>\n",
       "</div>"
      ],
      "text/plain": [
       "       rougher.input.feed_au  rougher.input.feed_ag  rougher.input.feed_pb  \\\n",
       "count            4860.000000            4860.000000            4832.000000   \n",
       "mean                8.005584               8.547348               3.579662   \n",
       "std                 1.993590               1.958601               1.029377   \n",
       "min                 0.010000               0.010000               0.010000   \n",
       "25%                 6.574363               6.975898               2.903612   \n",
       "50%                 7.812923               8.179714               3.540772   \n",
       "75%                 9.556589              10.084339               4.199847   \n",
       "max                13.417156              14.533698               7.142594   \n",
       "\n",
       "       rougher.input.feed_sol  rougher.input.feed_rate  \\\n",
       "count             4838.000000              4856.000000   \n",
       "mean                37.095864               490.285103   \n",
       "std                  4.926284                94.371623   \n",
       "min                  0.010000                 0.012786   \n",
       "25%                 34.510841               434.099695   \n",
       "50%                 37.499761               502.118742   \n",
       "75%                 40.461315               555.596563   \n",
       "max                 53.477742               702.523396   \n",
       "\n",
       "       rougher.input.feed_size  rougher.input.floatbank10_sulfate  \\\n",
       "count              4816.000000                        4857.000000   \n",
       "mean                 59.113400                          12.055735   \n",
       "std                  19.125122                           3.407642   \n",
       "min                   0.046369                           0.018907   \n",
       "25%                  47.596984                           9.890429   \n",
       "50%                  55.509481                          11.997859   \n",
       "75%                  66.661547                          14.496072   \n",
       "max                 363.989699                          30.010759   \n",
       "\n",
       "       rougher.input.floatbank10_xanthate  rougher.state.floatbank10_a_air  \\\n",
       "count                         4859.000000                      4859.000000   \n",
       "mean                             6.101308                      1108.635895   \n",
       "std                              1.042754                       156.493143   \n",
       "min                              0.015783                       300.792494   \n",
       "25%                              5.499808                       999.715729   \n",
       "50%                              6.099805                      1001.414798   \n",
       "75%                              6.802101                      1202.837565   \n",
       "max                              9.396928                      1521.980372   \n",
       "\n",
       "       rougher.state.floatbank10_a_level  ...  \\\n",
       "count                        4859.000000  ...   \n",
       "mean                         -368.340127  ...   \n",
       "std                            91.155929  ...   \n",
       "min                          -600.568138  ...   \n",
       "25%                          -499.731972  ...   \n",
       "50%                          -300.181367  ...   \n",
       "75%                          -299.961547  ...   \n",
       "max                          -281.039299  ...   \n",
       "\n",
       "       secondary_cleaner.state.floatbank4_a_air  \\\n",
       "count                              4.859000e+03   \n",
       "mean                               1.985770e+01   \n",
       "std                                5.913105e+00   \n",
       "min                                1.079872e-16   \n",
       "25%                                1.501123e+01   \n",
       "50%                                1.996807e+01   \n",
       "75%                                2.498900e+01   \n",
       "max                                3.008450e+01   \n",
       "\n",
       "       secondary_cleaner.state.floatbank4_a_level  \\\n",
       "count                                 4859.000000   \n",
       "mean                                  -488.665140   \n",
       "std                                     44.392714   \n",
       "min                                   -799.704969   \n",
       "25%                                   -500.704004   \n",
       "50%                                   -499.892919   \n",
       "75%                                   -498.652030   \n",
       "max                                   -383.373053   \n",
       "\n",
       "       secondary_cleaner.state.floatbank4_b_air  \\\n",
       "count                              4.859000e+03   \n",
       "mean                               1.557025e+01   \n",
       "std                                4.927361e+00   \n",
       "min                                2.489718e-17   \n",
       "25%                                1.202172e+01   \n",
       "50%                                1.501240e+01   \n",
       "75%                                1.999949e+01   \n",
       "max                                2.398898e+01   \n",
       "\n",
       "       secondary_cleaner.state.floatbank4_b_level  \\\n",
       "count                                 4859.000000   \n",
       "mean                                  -464.176507   \n",
       "std                                     65.706994   \n",
       "min                                   -799.860767   \n",
       "25%                                   -500.196517   \n",
       "50%                                   -499.540776   \n",
       "75%                                   -400.302329   \n",
       "max                                   -114.250832   \n",
       "\n",
       "       secondary_cleaner.state.floatbank5_a_air  \\\n",
       "count                               4859.000000   \n",
       "mean                                  16.594103   \n",
       "std                                    5.724305   \n",
       "min                                   -0.371498   \n",
       "25%                                   11.073822   \n",
       "50%                                   16.631195   \n",
       "75%                                   19.983191   \n",
       "max                                   33.215996   \n",
       "\n",
       "       secondary_cleaner.state.floatbank5_a_level  \\\n",
       "count                                 4859.000000   \n",
       "mean                                  -490.815250   \n",
       "std                                     32.258443   \n",
       "min                                   -797.142475   \n",
       "25%                                   -500.483564   \n",
       "50%                                   -499.873136   \n",
       "75%                                   -498.852815   \n",
       "max                                   -288.963521   \n",
       "\n",
       "       secondary_cleaner.state.floatbank5_b_air  \\\n",
       "count                               4859.000000   \n",
       "mean                                  12.945971   \n",
       "std                                    5.533176   \n",
       "min                                    1.358469   \n",
       "25%                                    9.011890   \n",
       "50%                                   11.999417   \n",
       "75%                                   15.004198   \n",
       "max                                   24.177106   \n",
       "\n",
       "       secondary_cleaner.state.floatbank5_b_level  \\\n",
       "count                                 4859.000000   \n",
       "mean                                  -489.583564   \n",
       "std                                     37.084609   \n",
       "min                                   -800.006180   \n",
       "25%                                   -500.129913   \n",
       "50%                                   -499.955304   \n",
       "75%                                   -499.643776   \n",
       "max                                   -141.934397   \n",
       "\n",
       "       secondary_cleaner.state.floatbank6_a_air  \\\n",
       "count                               4859.000000   \n",
       "mean                                  19.053888   \n",
       "std                                    5.548996   \n",
       "min                                    0.160386   \n",
       "25%                                   14.963953   \n",
       "50%                                   19.960006   \n",
       "75%                                   24.974583   \n",
       "max                                   32.028529   \n",
       "\n",
       "       secondary_cleaner.state.floatbank6_a_level  \n",
       "count                                 4859.000000  \n",
       "mean                                  -504.678924  \n",
       "std                                     38.690186  \n",
       "min                                   -809.734800  \n",
       "25%                                   -500.668501  \n",
       "50%                                   -500.033769  \n",
       "75%                                   -499.460134  \n",
       "max                                   -104.427459  \n",
       "\n",
       "[8 rows x 52 columns]"
      ]
     },
     "metadata": {},
     "output_type": "display_data"
    }
   ],
   "source": [
    "#чтобы больше видеть глазами\n",
    "pd.set_option('display.max_rows', None)\n",
    "\n",
    "display(df_train.info())\n",
    "display(df_train.head())\n",
    "display(df_train.describe())\n",
    "\n",
    "display(df_test.info())\n",
    "display(df_test.head())\n",
    "display(df_test.describe())"
   ]
  },
  {
   "cell_type": "markdown",
   "metadata": {},
   "source": [
    "**Данные загружены. С названиями столбцов проблем нет. В обучающей и тестовой выборке отличается количество признаков. Медианы и средние слабо отличаются, значит, влияние выбросов невелико. Все признаки, кроме даты/времени, числовые. Есть пропуски, но на первый взгляд немного. Порядки величин в столбцах отличаются.**"
   ]
  },
  {
   "cell_type": "markdown",
   "metadata": {},
   "source": [
    "### Проверка расчета эффективности обогащения"
   ]
  },
  {
   "cell_type": "markdown",
   "metadata": {},
   "source": [
    "Проверим, что эффективность обогащения рассчитана правильно. Вычислим её на обучающей выборке для признака *rougher.output.recovery*. Найдем MAE между расчётами и значением признака. Эффективность обогащения считается так:"
   ]
  },
  {
   "cell_type": "markdown",
   "metadata": {},
   "source": [
    "$Recovery = 100\\times\\dfrac{(C\\times(F-T))}{(F\\times(C-T))}$"
   ]
  },
  {
   "cell_type": "markdown",
   "metadata": {},
   "source": [
    "где:\n",
    "- C — доля золота в концентрате после флотации/очистки; это *rougher.output.concentrate_au;*\n",
    "- F — доля золота в сырье/концентрате до флотации/очистки; это *rougher.input.feed_au;*\n",
    "- T — доля золота в отвальных хвостах после флотации/очистки; это *rougher.output.tail_au.*"
   ]
  },
  {
   "cell_type": "code",
   "execution_count": 4,
   "metadata": {},
   "outputs": [
    {
     "data": {
      "text/plain": [
       "9.83758577644259e-15"
      ]
     },
     "execution_count": 4,
     "metadata": {},
     "output_type": "execute_result"
    }
   ],
   "source": [
    "recovery_rougher = 100*((df_train['rougher.output.concentrate_au'] *\n",
    "                                            (df_train['rougher.input.feed_au'] - df_train['rougher.output.tail_au'])) /\n",
    "                                            (df_train['rougher.input.feed_au'] * \n",
    "                                            (df_train['rougher.output.concentrate_au'] - df_train['rougher.output.tail_au']))\n",
    "                                            )\n",
    "mae = mean_absolute_error(recovery_rougher, df_train['rougher.output.recovery'])\n",
    "mae                      "
   ]
  },
  {
   "cell_type": "markdown",
   "metadata": {},
   "source": [
    "**Ошибка расчета крайне мала, признак *rougher.output.recovery* посчитан правильно. Это значит, что расчетам в тренировочной выборке можно доверять.**"
   ]
  },
  {
   "cell_type": "markdown",
   "metadata": {},
   "source": [
    "### Анализ признаков, недоступных в тестовой выборке"
   ]
  },
  {
   "cell_type": "markdown",
   "metadata": {},
   "source": [
    "В тренировочной выборке больше столбцов, посмотрим, что это за столбцы."
   ]
  },
  {
   "cell_type": "code",
   "execution_count": 5,
   "metadata": {
    "collapsed": true
   },
   "outputs": [
    {
     "data": {
      "text/plain": [
       "{'final.output.concentrate_ag',\n",
       " 'final.output.concentrate_au',\n",
       " 'final.output.concentrate_pb',\n",
       " 'final.output.concentrate_sol',\n",
       " 'final.output.recovery',\n",
       " 'final.output.tail_ag',\n",
       " 'final.output.tail_au',\n",
       " 'final.output.tail_pb',\n",
       " 'final.output.tail_sol',\n",
       " 'primary_cleaner.output.concentrate_ag',\n",
       " 'primary_cleaner.output.concentrate_au',\n",
       " 'primary_cleaner.output.concentrate_pb',\n",
       " 'primary_cleaner.output.concentrate_sol',\n",
       " 'primary_cleaner.output.tail_ag',\n",
       " 'primary_cleaner.output.tail_au',\n",
       " 'primary_cleaner.output.tail_pb',\n",
       " 'primary_cleaner.output.tail_sol',\n",
       " 'rougher.calculation.au_pb_ratio',\n",
       " 'rougher.calculation.floatbank10_sulfate_to_au_feed',\n",
       " 'rougher.calculation.floatbank11_sulfate_to_au_feed',\n",
       " 'rougher.calculation.sulfate_to_au_concentrate',\n",
       " 'rougher.output.concentrate_ag',\n",
       " 'rougher.output.concentrate_au',\n",
       " 'rougher.output.concentrate_pb',\n",
       " 'rougher.output.concentrate_sol',\n",
       " 'rougher.output.recovery',\n",
       " 'rougher.output.tail_ag',\n",
       " 'rougher.output.tail_au',\n",
       " 'rougher.output.tail_pb',\n",
       " 'rougher.output.tail_sol',\n",
       " 'secondary_cleaner.output.tail_ag',\n",
       " 'secondary_cleaner.output.tail_au',\n",
       " 'secondary_cleaner.output.tail_pb',\n",
       " 'secondary_cleaner.output.tail_sol'}"
      ]
     },
     "metadata": {},
     "output_type": "display_data"
    },
    {
     "data": {
      "text/plain": [
       "34"
      ]
     },
     "metadata": {},
     "output_type": "display_data"
    }
   ],
   "source": [
    "display(set(df_train.columns) - set(df_test.columns))\n",
    "display(len(set(df_train.columns) - set(df_test.columns)))"
   ]
  },
  {
   "cell_type": "markdown",
   "metadata": {},
   "source": [
    "**Признаки в обучающей и тестовой отличаются не случайно - в тестовой отсутствуют столбцы с типами параметра calculation и output. Видимо, эта информация извлекается во время производственного процесса и неизвестна заранее. Всего таких столбцов 34, ровно настолько отличается количество столбцов в тренировочной (87) и тестовой (53) выборках. Значит, в тестовой выборке новых столбцов нет.**"
   ]
  },
  {
   "cell_type": "markdown",
   "metadata": {},
   "source": [
    "### Предобработка данных"
   ]
  },
  {
   "cell_type": "markdown",
   "metadata": {},
   "source": [
    "#### Индексы"
   ]
  },
  {
   "cell_type": "code",
   "execution_count": 6,
   "metadata": {},
   "outputs": [
    {
     "data": {
      "text/plain": [
       "2016-06-20 00:59:59    1\n",
       "2017-04-07 06:59:59    1\n",
       "2018-07-07 02:59:59    1\n",
       "2016-10-16 14:59:59    1\n",
       "2017-08-26 12:59:59    1\n",
       "Name: date, dtype: int64"
      ]
     },
     "execution_count": 6,
     "metadata": {},
     "output_type": "execute_result"
    }
   ],
   "source": [
    "df_full['date'].value_counts(ascending = False).head()"
   ]
  },
  {
   "cell_type": "markdown",
   "metadata": {},
   "source": [
    "Значения в столбце *'date'* уникальны, назначим их индексами (чтобы объекты можно было найти в разных выборках, например, в тестовой и общей)."
   ]
  },
  {
   "cell_type": "code",
   "execution_count": 7,
   "metadata": {},
   "outputs": [],
   "source": [
    "df_full.set_index('date', inplace=True);\n",
    "df_train.set_index('date', inplace=True);\n",
    "df_test.set_index('date', inplace=True);"
   ]
  },
  {
   "cell_type": "markdown",
   "metadata": {},
   "source": [
    "#### Проверка наличия явных дубликатов."
   ]
  },
  {
   "cell_type": "code",
   "execution_count": 8,
   "metadata": {
    "scrolled": true
   },
   "outputs": [
    {
     "data": {
      "text/plain": [
       "0"
      ]
     },
     "metadata": {},
     "output_type": "display_data"
    },
    {
     "data": {
      "text/plain": [
       "0"
      ]
     },
     "metadata": {},
     "output_type": "display_data"
    }
   ],
   "source": [
    "display(df_train.duplicated().sum())\n",
    "display(df_test.duplicated().sum())"
   ]
  },
  {
   "cell_type": "markdown",
   "metadata": {},
   "source": [
    "Явных дубликатов нет. Неявные искать не имеет смысла, т.к. даты уникальны, а все остальные признаки числовые."
   ]
  },
  {
   "cell_type": "markdown",
   "metadata": {},
   "source": [
    "#### Работа с пропусками"
   ]
  },
  {
   "cell_type": "markdown",
   "metadata": {},
   "source": [
    "Посмотрим, где сколько пропусков в обеих выборках."
   ]
  },
  {
   "cell_type": "code",
   "execution_count": 9,
   "metadata": {
    "collapsed": true
   },
   "outputs": [
    {
     "data": {
      "text/plain": [
       "rougher.input.feed_au                                   0\n",
       "rougher.input.feed_ag                                   0\n",
       "rougher.input.feed_pb                                  72\n",
       "rougher.input.feed_sol                                 77\n",
       "rougher.input.feed_rate                                 7\n",
       "rougher.input.feed_size                               101\n",
       "rougher.input.floatbank10_sulfate                      31\n",
       "rougher.input.floatbank10_xanthate                      7\n",
       "rougher.state.floatbank10_a_air                         0\n",
       "rougher.state.floatbank10_a_level                       0\n",
       "rougher.state.floatbank10_b_air                         0\n",
       "rougher.state.floatbank10_b_level                       0\n",
       "rougher.state.floatbank10_c_air                         0\n",
       "rougher.state.floatbank10_c_level                       0\n",
       "rougher.state.floatbank10_d_air                         0\n",
       "rougher.state.floatbank10_d_level                       0\n",
       "rougher.state.floatbank10_e_air                       429\n",
       "rougher.state.floatbank10_e_level                       0\n",
       "rougher.state.floatbank10_f_air                         0\n",
       "rougher.state.floatbank10_f_level                       0\n",
       "rougher.input.floatbank11_sulfate                      36\n",
       "rougher.input.floatbank11_xanthate                    407\n",
       "rougher.calculation.sulfate_to_au_concentrate           1\n",
       "rougher.calculation.floatbank10_sulfate_to_au_feed      1\n",
       "rougher.calculation.floatbank11_sulfate_to_au_feed      1\n",
       "rougher.calculation.au_pb_ratio                         0\n",
       "rougher.output.concentrate_au                           0\n",
       "rougher.output.concentrate_ag                           0\n",
       "rougher.output.concentrate_pb                           0\n",
       "rougher.output.concentrate_sol                         18\n",
       "rougher.output.recovery                                 0\n",
       "rougher.output.tail_au                                  0\n",
       "rougher.output.tail_ag                                  1\n",
       "rougher.output.tail_pb                                  0\n",
       "rougher.output.tail_sol                                 0\n",
       "primary_cleaner.input.sulfate                          23\n",
       "primary_cleaner.input.depressant                       28\n",
       "primary_cleaner.input.feed_size                         0\n",
       "primary_cleaner.input.xanthate                         61\n",
       "primary_cleaner.state.floatbank8_a_air                  3\n",
       "primary_cleaner.state.floatbank8_a_level                0\n",
       "primary_cleaner.state.floatbank8_b_air                  3\n",
       "primary_cleaner.state.floatbank8_b_level                0\n",
       "primary_cleaner.state.floatbank8_c_air                  0\n",
       "primary_cleaner.state.floatbank8_c_level                0\n",
       "primary_cleaner.state.floatbank8_d_air                  1\n",
       "primary_cleaner.state.floatbank8_d_level                0\n",
       "primary_cleaner.output.concentrate_au                   0\n",
       "primary_cleaner.output.concentrate_ag                   0\n",
       "primary_cleaner.output.concentrate_pb                  88\n",
       "primary_cleaner.output.concentrate_sol                265\n",
       "primary_cleaner.output.tail_au                          0\n",
       "primary_cleaner.output.tail_ag                          4\n",
       "primary_cleaner.output.tail_pb                          6\n",
       "primary_cleaner.output.tail_sol                        45\n",
       "secondary_cleaner.state.floatbank2_a_air               94\n",
       "secondary_cleaner.state.floatbank2_a_level              0\n",
       "secondary_cleaner.state.floatbank2_b_air               22\n",
       "secondary_cleaner.state.floatbank2_b_level              0\n",
       "secondary_cleaner.state.floatbank3_a_air               12\n",
       "secondary_cleaner.state.floatbank3_a_level              0\n",
       "secondary_cleaner.state.floatbank3_b_air                0\n",
       "secondary_cleaner.state.floatbank3_b_level              0\n",
       "secondary_cleaner.state.floatbank4_a_air                5\n",
       "secondary_cleaner.state.floatbank4_a_level              0\n",
       "secondary_cleaner.state.floatbank4_b_air                0\n",
       "secondary_cleaner.state.floatbank4_b_level              0\n",
       "secondary_cleaner.state.floatbank5_a_air                0\n",
       "secondary_cleaner.state.floatbank5_a_level              0\n",
       "secondary_cleaner.state.floatbank5_b_air                0\n",
       "secondary_cleaner.state.floatbank5_b_level              0\n",
       "secondary_cleaner.state.floatbank6_a_air                1\n",
       "secondary_cleaner.state.floatbank6_a_level              0\n",
       "secondary_cleaner.output.tail_au                        0\n",
       "secondary_cleaner.output.tail_ag                        1\n",
       "secondary_cleaner.output.tail_pb                        4\n",
       "secondary_cleaner.output.tail_sol                     920\n",
       "final.output.concentrate_au                             0\n",
       "final.output.concentrate_ag                             1\n",
       "final.output.concentrate_pb                             1\n",
       "final.output.concentrate_sol                          192\n",
       "final.output.recovery                                   0\n",
       "final.output.tail_au                                    0\n",
       "final.output.tail_ag                                    1\n",
       "final.output.tail_pb                                   75\n",
       "final.output.tail_sol                                   5\n",
       "dtype: int64"
      ]
     },
     "metadata": {},
     "output_type": "display_data"
    },
    {
     "name": "stdout",
     "output_type": "stream",
     "text": [
      "Всего пропусков: 3050\n",
      "По отношению к количеству строк: 0.20920502092050208\n",
      "Пропусков в столбцах output 1627\n"
     ]
    }
   ],
   "source": [
    "display(df_train.isna().sum())\n",
    "print('Всего пропусков:', df_train.isna().sum().sum())\n",
    "print('По отношению к количеству строк:', df_train.isna().sum().sum()/len(df_train))\n",
    "\n",
    "columns_output = [x for x in df_train.columns if 'output' in x]\n",
    "print('Пропусков в столбцах output', df_train[columns_output].isna().sum().sum())"
   ]
  },
  {
   "cell_type": "markdown",
   "metadata": {},
   "source": [
    "В тренировочной выборке 3050 пропусков, причем больше половины из них приходится на *output* на разных стадиях."
   ]
  },
  {
   "cell_type": "markdown",
   "metadata": {},
   "source": [
    "Посмотрим, сколько даных потеряем, если удалим пропуски в тренировочной выборке."
   ]
  },
  {
   "cell_type": "code",
   "execution_count": 10,
   "metadata": {},
   "outputs": [
    {
     "data": {
      "text/plain": [
       "0.1537828383291035"
      ]
     },
     "execution_count": 10,
     "metadata": {},
     "output_type": "execute_result"
    }
   ],
   "source": [
    "(len(df_train) - len(df_train.dropna()))/len(df_train)"
   ]
  },
  {
   "cell_type": "markdown",
   "metadata": {},
   "source": [
    "15% много."
   ]
  },
  {
   "cell_type": "markdown",
   "metadata": {},
   "source": [
    "Расчет был выполнен для случаев, когда все пропуски заполняются ffill-ом, когда все удаляются и комбинация этих двух подходов. Результат лучше всего при заполнении, поэтому использовано заполнение."
   ]
  },
  {
   "cell_type": "markdown",
   "metadata": {},
   "source": [
    "Заполним пропуски. В условии сказано, что 'соседние по времени параметры часто похожи'. Посмотрим на эти столбцы."
   ]
  },
  {
   "cell_type": "code",
   "execution_count": 11,
   "metadata": {
    "collapsed": true
   },
   "outputs": [
    {
     "data": {
      "text/html": [
       "<div>\n",
       "<style scoped>\n",
       "    .dataframe tbody tr th:only-of-type {\n",
       "        vertical-align: middle;\n",
       "    }\n",
       "\n",
       "    .dataframe tbody tr th {\n",
       "        vertical-align: top;\n",
       "    }\n",
       "\n",
       "    .dataframe thead th {\n",
       "        text-align: right;\n",
       "    }\n",
       "</style>\n",
       "<table border=\"1\" class=\"dataframe\">\n",
       "  <thead>\n",
       "    <tr style=\"text-align: right;\">\n",
       "      <th></th>\n",
       "      <th>rougher.input.feed_pb</th>\n",
       "      <th>rougher.input.feed_sol</th>\n",
       "      <th>rougher.input.feed_rate</th>\n",
       "      <th>rougher.input.feed_size</th>\n",
       "      <th>rougher.input.floatbank10_sulfate</th>\n",
       "      <th>rougher.input.floatbank10_xanthate</th>\n",
       "      <th>rougher.state.floatbank10_a_air</th>\n",
       "      <th>rougher.state.floatbank10_a_level</th>\n",
       "      <th>rougher.state.floatbank10_b_air</th>\n",
       "      <th>rougher.state.floatbank10_b_level</th>\n",
       "      <th>...</th>\n",
       "      <th>secondary_cleaner.state.floatbank4_a_air</th>\n",
       "      <th>secondary_cleaner.state.floatbank4_a_level</th>\n",
       "      <th>secondary_cleaner.state.floatbank4_b_air</th>\n",
       "      <th>secondary_cleaner.state.floatbank4_b_level</th>\n",
       "      <th>secondary_cleaner.state.floatbank5_a_air</th>\n",
       "      <th>secondary_cleaner.state.floatbank5_a_level</th>\n",
       "      <th>secondary_cleaner.state.floatbank5_b_air</th>\n",
       "      <th>secondary_cleaner.state.floatbank5_b_level</th>\n",
       "      <th>secondary_cleaner.state.floatbank6_a_air</th>\n",
       "      <th>secondary_cleaner.state.floatbank6_a_level</th>\n",
       "    </tr>\n",
       "    <tr>\n",
       "      <th>date</th>\n",
       "      <th></th>\n",
       "      <th></th>\n",
       "      <th></th>\n",
       "      <th></th>\n",
       "      <th></th>\n",
       "      <th></th>\n",
       "      <th></th>\n",
       "      <th></th>\n",
       "      <th></th>\n",
       "      <th></th>\n",
       "      <th></th>\n",
       "      <th></th>\n",
       "      <th></th>\n",
       "      <th></th>\n",
       "      <th></th>\n",
       "      <th></th>\n",
       "      <th></th>\n",
       "      <th></th>\n",
       "      <th></th>\n",
       "      <th></th>\n",
       "      <th></th>\n",
       "    </tr>\n",
       "  </thead>\n",
       "  <tbody>\n",
       "    <tr>\n",
       "      <th>2016-01-15 00:00:00</th>\n",
       "      <td>2.284912</td>\n",
       "      <td>36.808594</td>\n",
       "      <td>523.546326</td>\n",
       "      <td>55.486599</td>\n",
       "      <td>11.986616</td>\n",
       "      <td>6.007990</td>\n",
       "      <td>999.706909</td>\n",
       "      <td>-404.066986</td>\n",
       "      <td>1603.011353</td>\n",
       "      <td>-434.715027</td>\n",
       "      <td>...</td>\n",
       "      <td>14.016835</td>\n",
       "      <td>-502.488007</td>\n",
       "      <td>12.099931</td>\n",
       "      <td>-504.715942</td>\n",
       "      <td>9.925633</td>\n",
       "      <td>-498.310211</td>\n",
       "      <td>8.079666</td>\n",
       "      <td>-500.470978</td>\n",
       "      <td>14.151341</td>\n",
       "      <td>-605.841980</td>\n",
       "    </tr>\n",
       "    <tr>\n",
       "      <th>2016-01-15 01:00:00</th>\n",
       "      <td>2.266033</td>\n",
       "      <td>35.753385</td>\n",
       "      <td>525.290581</td>\n",
       "      <td>57.278666</td>\n",
       "      <td>11.971193</td>\n",
       "      <td>6.005766</td>\n",
       "      <td>1000.286398</td>\n",
       "      <td>-400.065196</td>\n",
       "      <td>1600.754587</td>\n",
       "      <td>-449.953435</td>\n",
       "      <td>...</td>\n",
       "      <td>13.992281</td>\n",
       "      <td>-505.503262</td>\n",
       "      <td>11.950531</td>\n",
       "      <td>-501.331529</td>\n",
       "      <td>10.039245</td>\n",
       "      <td>-500.169983</td>\n",
       "      <td>7.984757</td>\n",
       "      <td>-500.582168</td>\n",
       "      <td>13.998353</td>\n",
       "      <td>-599.787184</td>\n",
       "    </tr>\n",
       "    <tr>\n",
       "      <th>2016-01-15 02:00:00</th>\n",
       "      <td>2.159622</td>\n",
       "      <td>35.971630</td>\n",
       "      <td>530.026610</td>\n",
       "      <td>57.510649</td>\n",
       "      <td>11.920603</td>\n",
       "      <td>6.197377</td>\n",
       "      <td>999.719565</td>\n",
       "      <td>-400.074028</td>\n",
       "      <td>1599.337330</td>\n",
       "      <td>-450.008530</td>\n",
       "      <td>...</td>\n",
       "      <td>14.015015</td>\n",
       "      <td>-502.520901</td>\n",
       "      <td>11.912783</td>\n",
       "      <td>-501.133383</td>\n",
       "      <td>10.070913</td>\n",
       "      <td>-500.129135</td>\n",
       "      <td>8.013877</td>\n",
       "      <td>-500.517572</td>\n",
       "      <td>14.028663</td>\n",
       "      <td>-601.427363</td>\n",
       "    </tr>\n",
       "    <tr>\n",
       "      <th>2016-01-15 03:00:00</th>\n",
       "      <td>2.037807</td>\n",
       "      <td>36.862241</td>\n",
       "      <td>542.590390</td>\n",
       "      <td>57.792734</td>\n",
       "      <td>11.630094</td>\n",
       "      <td>6.203177</td>\n",
       "      <td>999.814770</td>\n",
       "      <td>-400.200179</td>\n",
       "      <td>1600.059442</td>\n",
       "      <td>-450.619948</td>\n",
       "      <td>...</td>\n",
       "      <td>14.036510</td>\n",
       "      <td>-500.857308</td>\n",
       "      <td>11.999550</td>\n",
       "      <td>-501.193686</td>\n",
       "      <td>9.970366</td>\n",
       "      <td>-499.201640</td>\n",
       "      <td>7.977324</td>\n",
       "      <td>-500.255908</td>\n",
       "      <td>14.005551</td>\n",
       "      <td>-599.996129</td>\n",
       "    </tr>\n",
       "    <tr>\n",
       "      <th>2016-01-15 04:00:00</th>\n",
       "      <td>1.786875</td>\n",
       "      <td>34.347666</td>\n",
       "      <td>540.531893</td>\n",
       "      <td>56.047189</td>\n",
       "      <td>10.957755</td>\n",
       "      <td>6.198826</td>\n",
       "      <td>999.678690</td>\n",
       "      <td>-399.752729</td>\n",
       "      <td>1600.208824</td>\n",
       "      <td>-449.599614</td>\n",
       "      <td>...</td>\n",
       "      <td>14.027298</td>\n",
       "      <td>-499.838632</td>\n",
       "      <td>11.953070</td>\n",
       "      <td>-501.053894</td>\n",
       "      <td>9.925709</td>\n",
       "      <td>-501.686727</td>\n",
       "      <td>7.894242</td>\n",
       "      <td>-500.356035</td>\n",
       "      <td>13.996647</td>\n",
       "      <td>-601.496691</td>\n",
       "    </tr>\n",
       "    <tr>\n",
       "      <th>2016-01-15 05:00:00</th>\n",
       "      <td>1.879351</td>\n",
       "      <td>35.470082</td>\n",
       "      <td>546.173470</td>\n",
       "      <td>57.469578</td>\n",
       "      <td>11.072517</td>\n",
       "      <td>6.200383</td>\n",
       "      <td>999.934134</td>\n",
       "      <td>-400.599524</td>\n",
       "      <td>1601.080554</td>\n",
       "      <td>-450.120760</td>\n",
       "      <td>...</td>\n",
       "      <td>13.938497</td>\n",
       "      <td>-500.970168</td>\n",
       "      <td>11.883350</td>\n",
       "      <td>-500.395298</td>\n",
       "      <td>10.054147</td>\n",
       "      <td>-496.374715</td>\n",
       "      <td>7.965083</td>\n",
       "      <td>-499.364752</td>\n",
       "      <td>14.017067</td>\n",
       "      <td>-599.707915</td>\n",
       "    </tr>\n",
       "    <tr>\n",
       "      <th>2016-01-15 06:00:00</th>\n",
       "      <td>2.105501</td>\n",
       "      <td>34.920570</td>\n",
       "      <td>523.376439</td>\n",
       "      <td>56.674647</td>\n",
       "      <td>11.535899</td>\n",
       "      <td>6.204974</td>\n",
       "      <td>999.832373</td>\n",
       "      <td>-399.353521</td>\n",
       "      <td>1600.753019</td>\n",
       "      <td>-450.050089</td>\n",
       "      <td>...</td>\n",
       "      <td>14.046819</td>\n",
       "      <td>-500.971133</td>\n",
       "      <td>12.091543</td>\n",
       "      <td>-500.501426</td>\n",
       "      <td>10.003247</td>\n",
       "      <td>-497.083180</td>\n",
       "      <td>8.010890</td>\n",
       "      <td>-500.002423</td>\n",
       "      <td>14.029649</td>\n",
       "      <td>-600.905470</td>\n",
       "    </tr>\n",
       "    <tr>\n",
       "      <th>2016-01-15 07:00:00</th>\n",
       "      <td>2.310432</td>\n",
       "      <td>36.091386</td>\n",
       "      <td>549.842749</td>\n",
       "      <td>56.730325</td>\n",
       "      <td>12.557906</td>\n",
       "      <td>6.799275</td>\n",
       "      <td>1000.166602</td>\n",
       "      <td>-400.556601</td>\n",
       "      <td>1598.877246</td>\n",
       "      <td>-450.070980</td>\n",
       "      <td>...</td>\n",
       "      <td>13.974691</td>\n",
       "      <td>-501.819696</td>\n",
       "      <td>12.101324</td>\n",
       "      <td>-500.583446</td>\n",
       "      <td>9.873169</td>\n",
       "      <td>-499.171928</td>\n",
       "      <td>7.993381</td>\n",
       "      <td>-499.794518</td>\n",
       "      <td>13.984498</td>\n",
       "      <td>-600.411070</td>\n",
       "    </tr>\n",
       "    <tr>\n",
       "      <th>2016-01-15 08:00:00</th>\n",
       "      <td>2.391713</td>\n",
       "      <td>35.753879</td>\n",
       "      <td>560.115242</td>\n",
       "      <td>56.649893</td>\n",
       "      <td>13.166128</td>\n",
       "      <td>6.798659</td>\n",
       "      <td>1000.026864</td>\n",
       "      <td>-399.968583</td>\n",
       "      <td>1599.813104</td>\n",
       "      <td>-450.481122</td>\n",
       "      <td>...</td>\n",
       "      <td>13.964030</td>\n",
       "      <td>-504.252450</td>\n",
       "      <td>12.060738</td>\n",
       "      <td>-501.174549</td>\n",
       "      <td>10.033838</td>\n",
       "      <td>-501.178133</td>\n",
       "      <td>7.881604</td>\n",
       "      <td>-499.729434</td>\n",
       "      <td>13.967135</td>\n",
       "      <td>-599.061188</td>\n",
       "    </tr>\n",
       "    <tr>\n",
       "      <th>2016-01-15 09:00:00</th>\n",
       "      <td>2.539114</td>\n",
       "      <td>38.553938</td>\n",
       "      <td>566.616045</td>\n",
       "      <td>60.308763</td>\n",
       "      <td>13.996130</td>\n",
       "      <td>6.800263</td>\n",
       "      <td>1000.332327</td>\n",
       "      <td>-400.149341</td>\n",
       "      <td>1599.255585</td>\n",
       "      <td>-449.938835</td>\n",
       "      <td>...</td>\n",
       "      <td>14.008944</td>\n",
       "      <td>-504.170807</td>\n",
       "      <td>11.995903</td>\n",
       "      <td>-501.269181</td>\n",
       "      <td>10.043100</td>\n",
       "      <td>-498.529996</td>\n",
       "      <td>8.002633</td>\n",
       "      <td>-499.761922</td>\n",
       "      <td>14.004767</td>\n",
       "      <td>-599.595324</td>\n",
       "    </tr>\n",
       "    <tr>\n",
       "      <th>2016-01-15 10:00:00</th>\n",
       "      <td>2.388039</td>\n",
       "      <td>38.401311</td>\n",
       "      <td>585.558457</td>\n",
       "      <td>60.460149</td>\n",
       "      <td>14.046094</td>\n",
       "      <td>6.736785</td>\n",
       "      <td>1000.564000</td>\n",
       "      <td>-399.939031</td>\n",
       "      <td>1599.862320</td>\n",
       "      <td>-449.069981</td>\n",
       "      <td>...</td>\n",
       "      <td>14.029704</td>\n",
       "      <td>-503.940828</td>\n",
       "      <td>12.022296</td>\n",
       "      <td>-501.238477</td>\n",
       "      <td>10.020094</td>\n",
       "      <td>-500.061845</td>\n",
       "      <td>7.964024</td>\n",
       "      <td>-499.283982</td>\n",
       "      <td>14.003011</td>\n",
       "      <td>-599.879856</td>\n",
       "    </tr>\n",
       "    <tr>\n",
       "      <th>2016-01-15 11:00:00</th>\n",
       "      <td>2.307925</td>\n",
       "      <td>39.219495</td>\n",
       "      <td>558.058111</td>\n",
       "      <td>62.276332</td>\n",
       "      <td>13.768974</td>\n",
       "      <td>6.703342</td>\n",
       "      <td>999.978605</td>\n",
       "      <td>-399.325394</td>\n",
       "      <td>1599.715875</td>\n",
       "      <td>-450.497806</td>\n",
       "      <td>...</td>\n",
       "      <td>13.981325</td>\n",
       "      <td>-504.947519</td>\n",
       "      <td>12.014060</td>\n",
       "      <td>-500.647565</td>\n",
       "      <td>10.000087</td>\n",
       "      <td>-499.306972</td>\n",
       "      <td>8.002007</td>\n",
       "      <td>-499.970754</td>\n",
       "      <td>14.019977</td>\n",
       "      <td>-599.986714</td>\n",
       "    </tr>\n",
       "    <tr>\n",
       "      <th>2016-01-15 12:00:00</th>\n",
       "      <td>2.673614</td>\n",
       "      <td>40.034093</td>\n",
       "      <td>567.140031</td>\n",
       "      <td>62.540611</td>\n",
       "      <td>13.933153</td>\n",
       "      <td>6.809516</td>\n",
       "      <td>999.573624</td>\n",
       "      <td>-399.954820</td>\n",
       "      <td>1599.744500</td>\n",
       "      <td>-449.745427</td>\n",
       "      <td>...</td>\n",
       "      <td>14.015223</td>\n",
       "      <td>-503.202022</td>\n",
       "      <td>11.994299</td>\n",
       "      <td>-500.337803</td>\n",
       "      <td>10.037149</td>\n",
       "      <td>-499.395047</td>\n",
       "      <td>8.056439</td>\n",
       "      <td>-499.479716</td>\n",
       "      <td>13.977626</td>\n",
       "      <td>-600.075029</td>\n",
       "    </tr>\n",
       "    <tr>\n",
       "      <th>2016-01-15 13:00:00</th>\n",
       "      <td>2.684098</td>\n",
       "      <td>40.832541</td>\n",
       "      <td>573.195738</td>\n",
       "      <td>63.562402</td>\n",
       "      <td>15.007101</td>\n",
       "      <td>6.898654</td>\n",
       "      <td>999.379430</td>\n",
       "      <td>-400.011771</td>\n",
       "      <td>1599.920462</td>\n",
       "      <td>-449.538536</td>\n",
       "      <td>...</td>\n",
       "      <td>14.019768</td>\n",
       "      <td>-541.569984</td>\n",
       "      <td>12.021831</td>\n",
       "      <td>-545.572166</td>\n",
       "      <td>10.021058</td>\n",
       "      <td>-501.386982</td>\n",
       "      <td>7.947110</td>\n",
       "      <td>-500.062750</td>\n",
       "      <td>14.014991</td>\n",
       "      <td>-600.670573</td>\n",
       "    </tr>\n",
       "    <tr>\n",
       "      <th>2016-01-15 14:00:00</th>\n",
       "      <td>2.777324</td>\n",
       "      <td>40.381002</td>\n",
       "      <td>571.766992</td>\n",
       "      <td>62.823127</td>\n",
       "      <td>14.812266</td>\n",
       "      <td>7.064468</td>\n",
       "      <td>999.708593</td>\n",
       "      <td>-400.075046</td>\n",
       "      <td>1600.639292</td>\n",
       "      <td>-450.110961</td>\n",
       "      <td>...</td>\n",
       "      <td>14.001632</td>\n",
       "      <td>-509.808331</td>\n",
       "      <td>12.087669</td>\n",
       "      <td>-510.782166</td>\n",
       "      <td>10.032043</td>\n",
       "      <td>-499.128183</td>\n",
       "      <td>8.016140</td>\n",
       "      <td>-499.806844</td>\n",
       "      <td>13.949790</td>\n",
       "      <td>-600.140776</td>\n",
       "    </tr>\n",
       "    <tr>\n",
       "      <th>2016-01-15 15:00:00</th>\n",
       "      <td>2.914109</td>\n",
       "      <td>40.968984</td>\n",
       "      <td>570.701886</td>\n",
       "      <td>65.370754</td>\n",
       "      <td>15.389413</td>\n",
       "      <td>7.162354</td>\n",
       "      <td>999.493943</td>\n",
       "      <td>-400.184190</td>\n",
       "      <td>1600.378002</td>\n",
       "      <td>-450.008658</td>\n",
       "      <td>...</td>\n",
       "      <td>14.006954</td>\n",
       "      <td>-550.240978</td>\n",
       "      <td>11.953813</td>\n",
       "      <td>-550.149839</td>\n",
       "      <td>9.990842</td>\n",
       "      <td>-498.389342</td>\n",
       "      <td>8.054376</td>\n",
       "      <td>-500.157986</td>\n",
       "      <td>14.012039</td>\n",
       "      <td>-599.151759</td>\n",
       "    </tr>\n",
       "    <tr>\n",
       "      <th>2016-01-15 16:00:00</th>\n",
       "      <td>2.834492</td>\n",
       "      <td>41.443478</td>\n",
       "      <td>568.096149</td>\n",
       "      <td>65.275200</td>\n",
       "      <td>15.493403</td>\n",
       "      <td>7.299951</td>\n",
       "      <td>999.461839</td>\n",
       "      <td>-399.926624</td>\n",
       "      <td>1600.388804</td>\n",
       "      <td>-449.467974</td>\n",
       "      <td>...</td>\n",
       "      <td>14.052053</td>\n",
       "      <td>-551.629578</td>\n",
       "      <td>11.998520</td>\n",
       "      <td>-550.406603</td>\n",
       "      <td>10.016843</td>\n",
       "      <td>-501.493066</td>\n",
       "      <td>7.962699</td>\n",
       "      <td>-499.445532</td>\n",
       "      <td>14.004658</td>\n",
       "      <td>-600.347249</td>\n",
       "    </tr>\n",
       "    <tr>\n",
       "      <th>2016-01-15 17:00:00</th>\n",
       "      <td>2.525838</td>\n",
       "      <td>41.302359</td>\n",
       "      <td>571.140653</td>\n",
       "      <td>64.816398</td>\n",
       "      <td>14.501843</td>\n",
       "      <td>7.301759</td>\n",
       "      <td>1000.107388</td>\n",
       "      <td>-399.263233</td>\n",
       "      <td>1599.780054</td>\n",
       "      <td>-449.883122</td>\n",
       "      <td>...</td>\n",
       "      <td>13.943970</td>\n",
       "      <td>-541.642068</td>\n",
       "      <td>11.993920</td>\n",
       "      <td>-550.493894</td>\n",
       "      <td>9.985232</td>\n",
       "      <td>-499.796583</td>\n",
       "      <td>7.985524</td>\n",
       "      <td>-499.872153</td>\n",
       "      <td>13.973257</td>\n",
       "      <td>-600.054998</td>\n",
       "    </tr>\n",
       "    <tr>\n",
       "      <th>2016-01-15 18:00:00</th>\n",
       "      <td>1.800531</td>\n",
       "      <td>41.361179</td>\n",
       "      <td>565.579162</td>\n",
       "      <td>66.027105</td>\n",
       "      <td>12.374041</td>\n",
       "      <td>7.259081</td>\n",
       "      <td>999.999106</td>\n",
       "      <td>-400.421222</td>\n",
       "      <td>1600.647223</td>\n",
       "      <td>-450.240212</td>\n",
       "      <td>...</td>\n",
       "      <td>13.936580</td>\n",
       "      <td>-551.234266</td>\n",
       "      <td>12.061748</td>\n",
       "      <td>-550.293577</td>\n",
       "      <td>10.055894</td>\n",
       "      <td>-500.347054</td>\n",
       "      <td>8.022863</td>\n",
       "      <td>-500.435095</td>\n",
       "      <td>13.948462</td>\n",
       "      <td>-599.696711</td>\n",
       "    </tr>\n",
       "    <tr>\n",
       "      <th>2016-01-15 19:00:00</th>\n",
       "      <td>1.348571</td>\n",
       "      <td>41.098193</td>\n",
       "      <td>574.339222</td>\n",
       "      <td>63.137812</td>\n",
       "      <td>11.492352</td>\n",
       "      <td>6.998960</td>\n",
       "      <td>1000.171770</td>\n",
       "      <td>-399.355527</td>\n",
       "      <td>1599.875042</td>\n",
       "      <td>-448.855557</td>\n",
       "      <td>...</td>\n",
       "      <td>14.009495</td>\n",
       "      <td>-551.557836</td>\n",
       "      <td>11.970346</td>\n",
       "      <td>-550.917279</td>\n",
       "      <td>10.024791</td>\n",
       "      <td>-500.350298</td>\n",
       "      <td>7.997472</td>\n",
       "      <td>-499.453616</td>\n",
       "      <td>14.034649</td>\n",
       "      <td>-600.172333</td>\n",
       "    </tr>\n",
       "  </tbody>\n",
       "</table>\n",
       "<p>20 rows × 44 columns</p>\n",
       "</div>"
      ],
      "text/plain": [
       "                     rougher.input.feed_pb  rougher.input.feed_sol  \\\n",
       "date                                                                 \n",
       "2016-01-15 00:00:00               2.284912               36.808594   \n",
       "2016-01-15 01:00:00               2.266033               35.753385   \n",
       "2016-01-15 02:00:00               2.159622               35.971630   \n",
       "2016-01-15 03:00:00               2.037807               36.862241   \n",
       "2016-01-15 04:00:00               1.786875               34.347666   \n",
       "2016-01-15 05:00:00               1.879351               35.470082   \n",
       "2016-01-15 06:00:00               2.105501               34.920570   \n",
       "2016-01-15 07:00:00               2.310432               36.091386   \n",
       "2016-01-15 08:00:00               2.391713               35.753879   \n",
       "2016-01-15 09:00:00               2.539114               38.553938   \n",
       "2016-01-15 10:00:00               2.388039               38.401311   \n",
       "2016-01-15 11:00:00               2.307925               39.219495   \n",
       "2016-01-15 12:00:00               2.673614               40.034093   \n",
       "2016-01-15 13:00:00               2.684098               40.832541   \n",
       "2016-01-15 14:00:00               2.777324               40.381002   \n",
       "2016-01-15 15:00:00               2.914109               40.968984   \n",
       "2016-01-15 16:00:00               2.834492               41.443478   \n",
       "2016-01-15 17:00:00               2.525838               41.302359   \n",
       "2016-01-15 18:00:00               1.800531               41.361179   \n",
       "2016-01-15 19:00:00               1.348571               41.098193   \n",
       "\n",
       "                     rougher.input.feed_rate  rougher.input.feed_size  \\\n",
       "date                                                                    \n",
       "2016-01-15 00:00:00               523.546326                55.486599   \n",
       "2016-01-15 01:00:00               525.290581                57.278666   \n",
       "2016-01-15 02:00:00               530.026610                57.510649   \n",
       "2016-01-15 03:00:00               542.590390                57.792734   \n",
       "2016-01-15 04:00:00               540.531893                56.047189   \n",
       "2016-01-15 05:00:00               546.173470                57.469578   \n",
       "2016-01-15 06:00:00               523.376439                56.674647   \n",
       "2016-01-15 07:00:00               549.842749                56.730325   \n",
       "2016-01-15 08:00:00               560.115242                56.649893   \n",
       "2016-01-15 09:00:00               566.616045                60.308763   \n",
       "2016-01-15 10:00:00               585.558457                60.460149   \n",
       "2016-01-15 11:00:00               558.058111                62.276332   \n",
       "2016-01-15 12:00:00               567.140031                62.540611   \n",
       "2016-01-15 13:00:00               573.195738                63.562402   \n",
       "2016-01-15 14:00:00               571.766992                62.823127   \n",
       "2016-01-15 15:00:00               570.701886                65.370754   \n",
       "2016-01-15 16:00:00               568.096149                65.275200   \n",
       "2016-01-15 17:00:00               571.140653                64.816398   \n",
       "2016-01-15 18:00:00               565.579162                66.027105   \n",
       "2016-01-15 19:00:00               574.339222                63.137812   \n",
       "\n",
       "                     rougher.input.floatbank10_sulfate  \\\n",
       "date                                                     \n",
       "2016-01-15 00:00:00                          11.986616   \n",
       "2016-01-15 01:00:00                          11.971193   \n",
       "2016-01-15 02:00:00                          11.920603   \n",
       "2016-01-15 03:00:00                          11.630094   \n",
       "2016-01-15 04:00:00                          10.957755   \n",
       "2016-01-15 05:00:00                          11.072517   \n",
       "2016-01-15 06:00:00                          11.535899   \n",
       "2016-01-15 07:00:00                          12.557906   \n",
       "2016-01-15 08:00:00                          13.166128   \n",
       "2016-01-15 09:00:00                          13.996130   \n",
       "2016-01-15 10:00:00                          14.046094   \n",
       "2016-01-15 11:00:00                          13.768974   \n",
       "2016-01-15 12:00:00                          13.933153   \n",
       "2016-01-15 13:00:00                          15.007101   \n",
       "2016-01-15 14:00:00                          14.812266   \n",
       "2016-01-15 15:00:00                          15.389413   \n",
       "2016-01-15 16:00:00                          15.493403   \n",
       "2016-01-15 17:00:00                          14.501843   \n",
       "2016-01-15 18:00:00                          12.374041   \n",
       "2016-01-15 19:00:00                          11.492352   \n",
       "\n",
       "                     rougher.input.floatbank10_xanthate  \\\n",
       "date                                                      \n",
       "2016-01-15 00:00:00                            6.007990   \n",
       "2016-01-15 01:00:00                            6.005766   \n",
       "2016-01-15 02:00:00                            6.197377   \n",
       "2016-01-15 03:00:00                            6.203177   \n",
       "2016-01-15 04:00:00                            6.198826   \n",
       "2016-01-15 05:00:00                            6.200383   \n",
       "2016-01-15 06:00:00                            6.204974   \n",
       "2016-01-15 07:00:00                            6.799275   \n",
       "2016-01-15 08:00:00                            6.798659   \n",
       "2016-01-15 09:00:00                            6.800263   \n",
       "2016-01-15 10:00:00                            6.736785   \n",
       "2016-01-15 11:00:00                            6.703342   \n",
       "2016-01-15 12:00:00                            6.809516   \n",
       "2016-01-15 13:00:00                            6.898654   \n",
       "2016-01-15 14:00:00                            7.064468   \n",
       "2016-01-15 15:00:00                            7.162354   \n",
       "2016-01-15 16:00:00                            7.299951   \n",
       "2016-01-15 17:00:00                            7.301759   \n",
       "2016-01-15 18:00:00                            7.259081   \n",
       "2016-01-15 19:00:00                            6.998960   \n",
       "\n",
       "                     rougher.state.floatbank10_a_air  \\\n",
       "date                                                   \n",
       "2016-01-15 00:00:00                       999.706909   \n",
       "2016-01-15 01:00:00                      1000.286398   \n",
       "2016-01-15 02:00:00                       999.719565   \n",
       "2016-01-15 03:00:00                       999.814770   \n",
       "2016-01-15 04:00:00                       999.678690   \n",
       "2016-01-15 05:00:00                       999.934134   \n",
       "2016-01-15 06:00:00                       999.832373   \n",
       "2016-01-15 07:00:00                      1000.166602   \n",
       "2016-01-15 08:00:00                      1000.026864   \n",
       "2016-01-15 09:00:00                      1000.332327   \n",
       "2016-01-15 10:00:00                      1000.564000   \n",
       "2016-01-15 11:00:00                       999.978605   \n",
       "2016-01-15 12:00:00                       999.573624   \n",
       "2016-01-15 13:00:00                       999.379430   \n",
       "2016-01-15 14:00:00                       999.708593   \n",
       "2016-01-15 15:00:00                       999.493943   \n",
       "2016-01-15 16:00:00                       999.461839   \n",
       "2016-01-15 17:00:00                      1000.107388   \n",
       "2016-01-15 18:00:00                       999.999106   \n",
       "2016-01-15 19:00:00                      1000.171770   \n",
       "\n",
       "                     rougher.state.floatbank10_a_level  \\\n",
       "date                                                     \n",
       "2016-01-15 00:00:00                        -404.066986   \n",
       "2016-01-15 01:00:00                        -400.065196   \n",
       "2016-01-15 02:00:00                        -400.074028   \n",
       "2016-01-15 03:00:00                        -400.200179   \n",
       "2016-01-15 04:00:00                        -399.752729   \n",
       "2016-01-15 05:00:00                        -400.599524   \n",
       "2016-01-15 06:00:00                        -399.353521   \n",
       "2016-01-15 07:00:00                        -400.556601   \n",
       "2016-01-15 08:00:00                        -399.968583   \n",
       "2016-01-15 09:00:00                        -400.149341   \n",
       "2016-01-15 10:00:00                        -399.939031   \n",
       "2016-01-15 11:00:00                        -399.325394   \n",
       "2016-01-15 12:00:00                        -399.954820   \n",
       "2016-01-15 13:00:00                        -400.011771   \n",
       "2016-01-15 14:00:00                        -400.075046   \n",
       "2016-01-15 15:00:00                        -400.184190   \n",
       "2016-01-15 16:00:00                        -399.926624   \n",
       "2016-01-15 17:00:00                        -399.263233   \n",
       "2016-01-15 18:00:00                        -400.421222   \n",
       "2016-01-15 19:00:00                        -399.355527   \n",
       "\n",
       "                     rougher.state.floatbank10_b_air  \\\n",
       "date                                                   \n",
       "2016-01-15 00:00:00                      1603.011353   \n",
       "2016-01-15 01:00:00                      1600.754587   \n",
       "2016-01-15 02:00:00                      1599.337330   \n",
       "2016-01-15 03:00:00                      1600.059442   \n",
       "2016-01-15 04:00:00                      1600.208824   \n",
       "2016-01-15 05:00:00                      1601.080554   \n",
       "2016-01-15 06:00:00                      1600.753019   \n",
       "2016-01-15 07:00:00                      1598.877246   \n",
       "2016-01-15 08:00:00                      1599.813104   \n",
       "2016-01-15 09:00:00                      1599.255585   \n",
       "2016-01-15 10:00:00                      1599.862320   \n",
       "2016-01-15 11:00:00                      1599.715875   \n",
       "2016-01-15 12:00:00                      1599.744500   \n",
       "2016-01-15 13:00:00                      1599.920462   \n",
       "2016-01-15 14:00:00                      1600.639292   \n",
       "2016-01-15 15:00:00                      1600.378002   \n",
       "2016-01-15 16:00:00                      1600.388804   \n",
       "2016-01-15 17:00:00                      1599.780054   \n",
       "2016-01-15 18:00:00                      1600.647223   \n",
       "2016-01-15 19:00:00                      1599.875042   \n",
       "\n",
       "                     rougher.state.floatbank10_b_level  ...  \\\n",
       "date                                                    ...   \n",
       "2016-01-15 00:00:00                        -434.715027  ...   \n",
       "2016-01-15 01:00:00                        -449.953435  ...   \n",
       "2016-01-15 02:00:00                        -450.008530  ...   \n",
       "2016-01-15 03:00:00                        -450.619948  ...   \n",
       "2016-01-15 04:00:00                        -449.599614  ...   \n",
       "2016-01-15 05:00:00                        -450.120760  ...   \n",
       "2016-01-15 06:00:00                        -450.050089  ...   \n",
       "2016-01-15 07:00:00                        -450.070980  ...   \n",
       "2016-01-15 08:00:00                        -450.481122  ...   \n",
       "2016-01-15 09:00:00                        -449.938835  ...   \n",
       "2016-01-15 10:00:00                        -449.069981  ...   \n",
       "2016-01-15 11:00:00                        -450.497806  ...   \n",
       "2016-01-15 12:00:00                        -449.745427  ...   \n",
       "2016-01-15 13:00:00                        -449.538536  ...   \n",
       "2016-01-15 14:00:00                        -450.110961  ...   \n",
       "2016-01-15 15:00:00                        -450.008658  ...   \n",
       "2016-01-15 16:00:00                        -449.467974  ...   \n",
       "2016-01-15 17:00:00                        -449.883122  ...   \n",
       "2016-01-15 18:00:00                        -450.240212  ...   \n",
       "2016-01-15 19:00:00                        -448.855557  ...   \n",
       "\n",
       "                     secondary_cleaner.state.floatbank4_a_air  \\\n",
       "date                                                            \n",
       "2016-01-15 00:00:00                                 14.016835   \n",
       "2016-01-15 01:00:00                                 13.992281   \n",
       "2016-01-15 02:00:00                                 14.015015   \n",
       "2016-01-15 03:00:00                                 14.036510   \n",
       "2016-01-15 04:00:00                                 14.027298   \n",
       "2016-01-15 05:00:00                                 13.938497   \n",
       "2016-01-15 06:00:00                                 14.046819   \n",
       "2016-01-15 07:00:00                                 13.974691   \n",
       "2016-01-15 08:00:00                                 13.964030   \n",
       "2016-01-15 09:00:00                                 14.008944   \n",
       "2016-01-15 10:00:00                                 14.029704   \n",
       "2016-01-15 11:00:00                                 13.981325   \n",
       "2016-01-15 12:00:00                                 14.015223   \n",
       "2016-01-15 13:00:00                                 14.019768   \n",
       "2016-01-15 14:00:00                                 14.001632   \n",
       "2016-01-15 15:00:00                                 14.006954   \n",
       "2016-01-15 16:00:00                                 14.052053   \n",
       "2016-01-15 17:00:00                                 13.943970   \n",
       "2016-01-15 18:00:00                                 13.936580   \n",
       "2016-01-15 19:00:00                                 14.009495   \n",
       "\n",
       "                     secondary_cleaner.state.floatbank4_a_level  \\\n",
       "date                                                              \n",
       "2016-01-15 00:00:00                                 -502.488007   \n",
       "2016-01-15 01:00:00                                 -505.503262   \n",
       "2016-01-15 02:00:00                                 -502.520901   \n",
       "2016-01-15 03:00:00                                 -500.857308   \n",
       "2016-01-15 04:00:00                                 -499.838632   \n",
       "2016-01-15 05:00:00                                 -500.970168   \n",
       "2016-01-15 06:00:00                                 -500.971133   \n",
       "2016-01-15 07:00:00                                 -501.819696   \n",
       "2016-01-15 08:00:00                                 -504.252450   \n",
       "2016-01-15 09:00:00                                 -504.170807   \n",
       "2016-01-15 10:00:00                                 -503.940828   \n",
       "2016-01-15 11:00:00                                 -504.947519   \n",
       "2016-01-15 12:00:00                                 -503.202022   \n",
       "2016-01-15 13:00:00                                 -541.569984   \n",
       "2016-01-15 14:00:00                                 -509.808331   \n",
       "2016-01-15 15:00:00                                 -550.240978   \n",
       "2016-01-15 16:00:00                                 -551.629578   \n",
       "2016-01-15 17:00:00                                 -541.642068   \n",
       "2016-01-15 18:00:00                                 -551.234266   \n",
       "2016-01-15 19:00:00                                 -551.557836   \n",
       "\n",
       "                     secondary_cleaner.state.floatbank4_b_air  \\\n",
       "date                                                            \n",
       "2016-01-15 00:00:00                                 12.099931   \n",
       "2016-01-15 01:00:00                                 11.950531   \n",
       "2016-01-15 02:00:00                                 11.912783   \n",
       "2016-01-15 03:00:00                                 11.999550   \n",
       "2016-01-15 04:00:00                                 11.953070   \n",
       "2016-01-15 05:00:00                                 11.883350   \n",
       "2016-01-15 06:00:00                                 12.091543   \n",
       "2016-01-15 07:00:00                                 12.101324   \n",
       "2016-01-15 08:00:00                                 12.060738   \n",
       "2016-01-15 09:00:00                                 11.995903   \n",
       "2016-01-15 10:00:00                                 12.022296   \n",
       "2016-01-15 11:00:00                                 12.014060   \n",
       "2016-01-15 12:00:00                                 11.994299   \n",
       "2016-01-15 13:00:00                                 12.021831   \n",
       "2016-01-15 14:00:00                                 12.087669   \n",
       "2016-01-15 15:00:00                                 11.953813   \n",
       "2016-01-15 16:00:00                                 11.998520   \n",
       "2016-01-15 17:00:00                                 11.993920   \n",
       "2016-01-15 18:00:00                                 12.061748   \n",
       "2016-01-15 19:00:00                                 11.970346   \n",
       "\n",
       "                     secondary_cleaner.state.floatbank4_b_level  \\\n",
       "date                                                              \n",
       "2016-01-15 00:00:00                                 -504.715942   \n",
       "2016-01-15 01:00:00                                 -501.331529   \n",
       "2016-01-15 02:00:00                                 -501.133383   \n",
       "2016-01-15 03:00:00                                 -501.193686   \n",
       "2016-01-15 04:00:00                                 -501.053894   \n",
       "2016-01-15 05:00:00                                 -500.395298   \n",
       "2016-01-15 06:00:00                                 -500.501426   \n",
       "2016-01-15 07:00:00                                 -500.583446   \n",
       "2016-01-15 08:00:00                                 -501.174549   \n",
       "2016-01-15 09:00:00                                 -501.269181   \n",
       "2016-01-15 10:00:00                                 -501.238477   \n",
       "2016-01-15 11:00:00                                 -500.647565   \n",
       "2016-01-15 12:00:00                                 -500.337803   \n",
       "2016-01-15 13:00:00                                 -545.572166   \n",
       "2016-01-15 14:00:00                                 -510.782166   \n",
       "2016-01-15 15:00:00                                 -550.149839   \n",
       "2016-01-15 16:00:00                                 -550.406603   \n",
       "2016-01-15 17:00:00                                 -550.493894   \n",
       "2016-01-15 18:00:00                                 -550.293577   \n",
       "2016-01-15 19:00:00                                 -550.917279   \n",
       "\n",
       "                     secondary_cleaner.state.floatbank5_a_air  \\\n",
       "date                                                            \n",
       "2016-01-15 00:00:00                                  9.925633   \n",
       "2016-01-15 01:00:00                                 10.039245   \n",
       "2016-01-15 02:00:00                                 10.070913   \n",
       "2016-01-15 03:00:00                                  9.970366   \n",
       "2016-01-15 04:00:00                                  9.925709   \n",
       "2016-01-15 05:00:00                                 10.054147   \n",
       "2016-01-15 06:00:00                                 10.003247   \n",
       "2016-01-15 07:00:00                                  9.873169   \n",
       "2016-01-15 08:00:00                                 10.033838   \n",
       "2016-01-15 09:00:00                                 10.043100   \n",
       "2016-01-15 10:00:00                                 10.020094   \n",
       "2016-01-15 11:00:00                                 10.000087   \n",
       "2016-01-15 12:00:00                                 10.037149   \n",
       "2016-01-15 13:00:00                                 10.021058   \n",
       "2016-01-15 14:00:00                                 10.032043   \n",
       "2016-01-15 15:00:00                                  9.990842   \n",
       "2016-01-15 16:00:00                                 10.016843   \n",
       "2016-01-15 17:00:00                                  9.985232   \n",
       "2016-01-15 18:00:00                                 10.055894   \n",
       "2016-01-15 19:00:00                                 10.024791   \n",
       "\n",
       "                     secondary_cleaner.state.floatbank5_a_level  \\\n",
       "date                                                              \n",
       "2016-01-15 00:00:00                                 -498.310211   \n",
       "2016-01-15 01:00:00                                 -500.169983   \n",
       "2016-01-15 02:00:00                                 -500.129135   \n",
       "2016-01-15 03:00:00                                 -499.201640   \n",
       "2016-01-15 04:00:00                                 -501.686727   \n",
       "2016-01-15 05:00:00                                 -496.374715   \n",
       "2016-01-15 06:00:00                                 -497.083180   \n",
       "2016-01-15 07:00:00                                 -499.171928   \n",
       "2016-01-15 08:00:00                                 -501.178133   \n",
       "2016-01-15 09:00:00                                 -498.529996   \n",
       "2016-01-15 10:00:00                                 -500.061845   \n",
       "2016-01-15 11:00:00                                 -499.306972   \n",
       "2016-01-15 12:00:00                                 -499.395047   \n",
       "2016-01-15 13:00:00                                 -501.386982   \n",
       "2016-01-15 14:00:00                                 -499.128183   \n",
       "2016-01-15 15:00:00                                 -498.389342   \n",
       "2016-01-15 16:00:00                                 -501.493066   \n",
       "2016-01-15 17:00:00                                 -499.796583   \n",
       "2016-01-15 18:00:00                                 -500.347054   \n",
       "2016-01-15 19:00:00                                 -500.350298   \n",
       "\n",
       "                     secondary_cleaner.state.floatbank5_b_air  \\\n",
       "date                                                            \n",
       "2016-01-15 00:00:00                                  8.079666   \n",
       "2016-01-15 01:00:00                                  7.984757   \n",
       "2016-01-15 02:00:00                                  8.013877   \n",
       "2016-01-15 03:00:00                                  7.977324   \n",
       "2016-01-15 04:00:00                                  7.894242   \n",
       "2016-01-15 05:00:00                                  7.965083   \n",
       "2016-01-15 06:00:00                                  8.010890   \n",
       "2016-01-15 07:00:00                                  7.993381   \n",
       "2016-01-15 08:00:00                                  7.881604   \n",
       "2016-01-15 09:00:00                                  8.002633   \n",
       "2016-01-15 10:00:00                                  7.964024   \n",
       "2016-01-15 11:00:00                                  8.002007   \n",
       "2016-01-15 12:00:00                                  8.056439   \n",
       "2016-01-15 13:00:00                                  7.947110   \n",
       "2016-01-15 14:00:00                                  8.016140   \n",
       "2016-01-15 15:00:00                                  8.054376   \n",
       "2016-01-15 16:00:00                                  7.962699   \n",
       "2016-01-15 17:00:00                                  7.985524   \n",
       "2016-01-15 18:00:00                                  8.022863   \n",
       "2016-01-15 19:00:00                                  7.997472   \n",
       "\n",
       "                     secondary_cleaner.state.floatbank5_b_level  \\\n",
       "date                                                              \n",
       "2016-01-15 00:00:00                                 -500.470978   \n",
       "2016-01-15 01:00:00                                 -500.582168   \n",
       "2016-01-15 02:00:00                                 -500.517572   \n",
       "2016-01-15 03:00:00                                 -500.255908   \n",
       "2016-01-15 04:00:00                                 -500.356035   \n",
       "2016-01-15 05:00:00                                 -499.364752   \n",
       "2016-01-15 06:00:00                                 -500.002423   \n",
       "2016-01-15 07:00:00                                 -499.794518   \n",
       "2016-01-15 08:00:00                                 -499.729434   \n",
       "2016-01-15 09:00:00                                 -499.761922   \n",
       "2016-01-15 10:00:00                                 -499.283982   \n",
       "2016-01-15 11:00:00                                 -499.970754   \n",
       "2016-01-15 12:00:00                                 -499.479716   \n",
       "2016-01-15 13:00:00                                 -500.062750   \n",
       "2016-01-15 14:00:00                                 -499.806844   \n",
       "2016-01-15 15:00:00                                 -500.157986   \n",
       "2016-01-15 16:00:00                                 -499.445532   \n",
       "2016-01-15 17:00:00                                 -499.872153   \n",
       "2016-01-15 18:00:00                                 -500.435095   \n",
       "2016-01-15 19:00:00                                 -499.453616   \n",
       "\n",
       "                     secondary_cleaner.state.floatbank6_a_air  \\\n",
       "date                                                            \n",
       "2016-01-15 00:00:00                                 14.151341   \n",
       "2016-01-15 01:00:00                                 13.998353   \n",
       "2016-01-15 02:00:00                                 14.028663   \n",
       "2016-01-15 03:00:00                                 14.005551   \n",
       "2016-01-15 04:00:00                                 13.996647   \n",
       "2016-01-15 05:00:00                                 14.017067   \n",
       "2016-01-15 06:00:00                                 14.029649   \n",
       "2016-01-15 07:00:00                                 13.984498   \n",
       "2016-01-15 08:00:00                                 13.967135   \n",
       "2016-01-15 09:00:00                                 14.004767   \n",
       "2016-01-15 10:00:00                                 14.003011   \n",
       "2016-01-15 11:00:00                                 14.019977   \n",
       "2016-01-15 12:00:00                                 13.977626   \n",
       "2016-01-15 13:00:00                                 14.014991   \n",
       "2016-01-15 14:00:00                                 13.949790   \n",
       "2016-01-15 15:00:00                                 14.012039   \n",
       "2016-01-15 16:00:00                                 14.004658   \n",
       "2016-01-15 17:00:00                                 13.973257   \n",
       "2016-01-15 18:00:00                                 13.948462   \n",
       "2016-01-15 19:00:00                                 14.034649   \n",
       "\n",
       "                     secondary_cleaner.state.floatbank6_a_level  \n",
       "date                                                             \n",
       "2016-01-15 00:00:00                                 -605.841980  \n",
       "2016-01-15 01:00:00                                 -599.787184  \n",
       "2016-01-15 02:00:00                                 -601.427363  \n",
       "2016-01-15 03:00:00                                 -599.996129  \n",
       "2016-01-15 04:00:00                                 -601.496691  \n",
       "2016-01-15 05:00:00                                 -599.707915  \n",
       "2016-01-15 06:00:00                                 -600.905470  \n",
       "2016-01-15 07:00:00                                 -600.411070  \n",
       "2016-01-15 08:00:00                                 -599.061188  \n",
       "2016-01-15 09:00:00                                 -599.595324  \n",
       "2016-01-15 10:00:00                                 -599.879856  \n",
       "2016-01-15 11:00:00                                 -599.986714  \n",
       "2016-01-15 12:00:00                                 -600.075029  \n",
       "2016-01-15 13:00:00                                 -600.670573  \n",
       "2016-01-15 14:00:00                                 -600.140776  \n",
       "2016-01-15 15:00:00                                 -599.151759  \n",
       "2016-01-15 16:00:00                                 -600.347249  \n",
       "2016-01-15 17:00:00                                 -600.054998  \n",
       "2016-01-15 18:00:00                                 -599.696711  \n",
       "2016-01-15 19:00:00                                 -600.172333  \n",
       "\n",
       "[20 rows x 44 columns]"
      ]
     },
     "execution_count": 11,
     "metadata": {},
     "output_type": "execute_result"
    }
   ],
   "source": [
    "columns_with_blanks = df_test.columns[df_test.isnull().sum() > 0]\n",
    "df_train[columns_with_blanks].head(20)"
   ]
  },
  {
   "cell_type": "markdown",
   "metadata": {},
   "source": [
    "Действительно значения, в основном, меняются плавно. Заменим пропуски на следующие по времени значения."
   ]
  },
  {
   "cell_type": "code",
   "execution_count": 12,
   "metadata": {
    "scrolled": false
   },
   "outputs": [],
   "source": [
    "df_train.fillna(method='ffill', inplace=True)"
   ]
  },
  {
   "cell_type": "markdown",
   "metadata": {},
   "source": [
    "Теперь переходим к тестовой выборке."
   ]
  },
  {
   "cell_type": "code",
   "execution_count": 13,
   "metadata": {
    "collapsed": true
   },
   "outputs": [
    {
     "data": {
      "text/plain": [
       "rougher.input.feed_au                           0\n",
       "rougher.input.feed_ag                           0\n",
       "rougher.input.feed_pb                          28\n",
       "rougher.input.feed_sol                         22\n",
       "rougher.input.feed_rate                         4\n",
       "rougher.input.feed_size                        44\n",
       "rougher.input.floatbank10_sulfate               3\n",
       "rougher.input.floatbank10_xanthate              1\n",
       "rougher.state.floatbank10_a_air                 1\n",
       "rougher.state.floatbank10_a_level               1\n",
       "rougher.state.floatbank10_b_air                 1\n",
       "rougher.state.floatbank10_b_level               1\n",
       "rougher.state.floatbank10_c_air                 1\n",
       "rougher.state.floatbank10_c_level               1\n",
       "rougher.state.floatbank10_d_air                 0\n",
       "rougher.state.floatbank10_d_level               0\n",
       "rougher.state.floatbank10_e_air                 7\n",
       "rougher.state.floatbank10_e_level               0\n",
       "rougher.state.floatbank10_f_air                 0\n",
       "rougher.state.floatbank10_f_level               0\n",
       "rougher.input.floatbank11_sulfate               8\n",
       "rougher.input.floatbank11_xanthate             46\n",
       "primary_cleaner.input.sulfate                   1\n",
       "primary_cleaner.input.depressant                9\n",
       "primary_cleaner.input.feed_size                 0\n",
       "primary_cleaner.input.xanthate                 43\n",
       "primary_cleaner.state.floatbank8_a_air          1\n",
       "primary_cleaner.state.floatbank8_a_level        1\n",
       "primary_cleaner.state.floatbank8_b_air          1\n",
       "primary_cleaner.state.floatbank8_b_level        1\n",
       "primary_cleaner.state.floatbank8_c_air          2\n",
       "primary_cleaner.state.floatbank8_c_level        1\n",
       "primary_cleaner.state.floatbank8_d_air          2\n",
       "primary_cleaner.state.floatbank8_d_level        1\n",
       "secondary_cleaner.state.floatbank2_a_air      126\n",
       "secondary_cleaner.state.floatbank2_a_level      1\n",
       "secondary_cleaner.state.floatbank2_b_air        1\n",
       "secondary_cleaner.state.floatbank2_b_level      1\n",
       "secondary_cleaner.state.floatbank3_a_air        1\n",
       "secondary_cleaner.state.floatbank3_a_level      1\n",
       "secondary_cleaner.state.floatbank3_b_air        1\n",
       "secondary_cleaner.state.floatbank3_b_level      1\n",
       "secondary_cleaner.state.floatbank4_a_air        1\n",
       "secondary_cleaner.state.floatbank4_a_level      1\n",
       "secondary_cleaner.state.floatbank4_b_air        1\n",
       "secondary_cleaner.state.floatbank4_b_level      1\n",
       "secondary_cleaner.state.floatbank5_a_air        1\n",
       "secondary_cleaner.state.floatbank5_a_level      1\n",
       "secondary_cleaner.state.floatbank5_b_air        1\n",
       "secondary_cleaner.state.floatbank5_b_level      1\n",
       "secondary_cleaner.state.floatbank6_a_air        1\n",
       "secondary_cleaner.state.floatbank6_a_level      1\n",
       "dtype: int64"
      ]
     },
     "metadata": {},
     "output_type": "display_data"
    },
    {
     "name": "stdout",
     "output_type": "stream",
     "text": [
      "Всего пропусков: 375\n",
      "По отношению к количеству строк: 0.07716049382716049\n"
     ]
    }
   ],
   "source": [
    "display(df_test.isna().sum())\n",
    "print('Всего пропусков:', df_test.isna().sum().sum())\n",
    "print('По отношению к количеству строк:', df_test.isna().sum().sum()/len(df_test))"
   ]
  },
  {
   "cell_type": "code",
   "execution_count": 14,
   "metadata": {
    "collapsed": true
   },
   "outputs": [
    {
     "data": {
      "text/html": [
       "<div>\n",
       "<style scoped>\n",
       "    .dataframe tbody tr th:only-of-type {\n",
       "        vertical-align: middle;\n",
       "    }\n",
       "\n",
       "    .dataframe tbody tr th {\n",
       "        vertical-align: top;\n",
       "    }\n",
       "\n",
       "    .dataframe thead th {\n",
       "        text-align: right;\n",
       "    }\n",
       "</style>\n",
       "<table border=\"1\" class=\"dataframe\">\n",
       "  <thead>\n",
       "    <tr style=\"text-align: right;\">\n",
       "      <th></th>\n",
       "      <th>rougher.input.feed_pb</th>\n",
       "      <th>rougher.input.feed_sol</th>\n",
       "      <th>rougher.input.feed_rate</th>\n",
       "      <th>rougher.input.feed_size</th>\n",
       "      <th>rougher.input.floatbank10_sulfate</th>\n",
       "      <th>rougher.input.floatbank10_xanthate</th>\n",
       "      <th>rougher.state.floatbank10_a_air</th>\n",
       "      <th>rougher.state.floatbank10_a_level</th>\n",
       "      <th>rougher.state.floatbank10_b_air</th>\n",
       "      <th>rougher.state.floatbank10_b_level</th>\n",
       "      <th>...</th>\n",
       "      <th>secondary_cleaner.state.floatbank4_a_air</th>\n",
       "      <th>secondary_cleaner.state.floatbank4_a_level</th>\n",
       "      <th>secondary_cleaner.state.floatbank4_b_air</th>\n",
       "      <th>secondary_cleaner.state.floatbank4_b_level</th>\n",
       "      <th>secondary_cleaner.state.floatbank5_a_air</th>\n",
       "      <th>secondary_cleaner.state.floatbank5_a_level</th>\n",
       "      <th>secondary_cleaner.state.floatbank5_b_air</th>\n",
       "      <th>secondary_cleaner.state.floatbank5_b_level</th>\n",
       "      <th>secondary_cleaner.state.floatbank6_a_air</th>\n",
       "      <th>secondary_cleaner.state.floatbank6_a_level</th>\n",
       "    </tr>\n",
       "    <tr>\n",
       "      <th>date</th>\n",
       "      <th></th>\n",
       "      <th></th>\n",
       "      <th></th>\n",
       "      <th></th>\n",
       "      <th></th>\n",
       "      <th></th>\n",
       "      <th></th>\n",
       "      <th></th>\n",
       "      <th></th>\n",
       "      <th></th>\n",
       "      <th></th>\n",
       "      <th></th>\n",
       "      <th></th>\n",
       "      <th></th>\n",
       "      <th></th>\n",
       "      <th></th>\n",
       "      <th></th>\n",
       "      <th></th>\n",
       "      <th></th>\n",
       "      <th></th>\n",
       "      <th></th>\n",
       "    </tr>\n",
       "  </thead>\n",
       "  <tbody>\n",
       "    <tr>\n",
       "      <th>2017-12-09 14:59:59</th>\n",
       "      <td>3.875727</td>\n",
       "      <td>39.135119</td>\n",
       "      <td>555.820208</td>\n",
       "      <td>94.544358</td>\n",
       "      <td>6.146982</td>\n",
       "      <td>9.308612</td>\n",
       "      <td>1196.238112</td>\n",
       "      <td>-299.862743</td>\n",
       "      <td>1147.248241</td>\n",
       "      <td>-500.363165</td>\n",
       "      <td>...</td>\n",
       "      <td>23.018622</td>\n",
       "      <td>-500.492702</td>\n",
       "      <td>20.020205</td>\n",
       "      <td>-500.220296</td>\n",
       "      <td>17.963512</td>\n",
       "      <td>-499.939490</td>\n",
       "      <td>12.990306</td>\n",
       "      <td>-500.080993</td>\n",
       "      <td>19.990336</td>\n",
       "      <td>-499.191575</td>\n",
       "    </tr>\n",
       "    <tr>\n",
       "      <th>2017-12-09 15:59:59</th>\n",
       "      <td>3.902537</td>\n",
       "      <td>39.713906</td>\n",
       "      <td>544.731687</td>\n",
       "      <td>123.742430</td>\n",
       "      <td>6.210119</td>\n",
       "      <td>9.297709</td>\n",
       "      <td>1201.904177</td>\n",
       "      <td>-299.907308</td>\n",
       "      <td>1154.087804</td>\n",
       "      <td>-500.036580</td>\n",
       "      <td>...</td>\n",
       "      <td>23.024963</td>\n",
       "      <td>-501.153409</td>\n",
       "      <td>20.054122</td>\n",
       "      <td>-500.314711</td>\n",
       "      <td>17.979515</td>\n",
       "      <td>-499.272871</td>\n",
       "      <td>12.992404</td>\n",
       "      <td>-499.976268</td>\n",
       "      <td>20.013986</td>\n",
       "      <td>-500.625471</td>\n",
       "    </tr>\n",
       "    <tr>\n",
       "      <th>2017-12-09 16:59:59</th>\n",
       "      <td>4.564078</td>\n",
       "      <td>37.208683</td>\n",
       "      <td>558.155110</td>\n",
       "      <td>82.610855</td>\n",
       "      <td>7.363824</td>\n",
       "      <td>9.003562</td>\n",
       "      <td>1200.826926</td>\n",
       "      <td>-300.124116</td>\n",
       "      <td>1150.754676</td>\n",
       "      <td>-499.986009</td>\n",
       "      <td>...</td>\n",
       "      <td>22.993827</td>\n",
       "      <td>-501.559663</td>\n",
       "      <td>20.029144</td>\n",
       "      <td>-500.000662</td>\n",
       "      <td>18.012723</td>\n",
       "      <td>-500.024764</td>\n",
       "      <td>13.016445</td>\n",
       "      <td>-500.058432</td>\n",
       "      <td>19.973767</td>\n",
       "      <td>-501.394155</td>\n",
       "    </tr>\n",
       "    <tr>\n",
       "      <th>2017-12-09 17:59:59</th>\n",
       "      <td>4.768124</td>\n",
       "      <td>36.808874</td>\n",
       "      <td>539.713765</td>\n",
       "      <td>77.984784</td>\n",
       "      <td>6.927072</td>\n",
       "      <td>8.955597</td>\n",
       "      <td>1199.292489</td>\n",
       "      <td>-299.778385</td>\n",
       "      <td>1152.512559</td>\n",
       "      <td>-500.338106</td>\n",
       "      <td>...</td>\n",
       "      <td>23.032807</td>\n",
       "      <td>-501.287889</td>\n",
       "      <td>19.977466</td>\n",
       "      <td>-500.159903</td>\n",
       "      <td>17.980463</td>\n",
       "      <td>-500.504602</td>\n",
       "      <td>12.949071</td>\n",
       "      <td>-500.009937</td>\n",
       "      <td>20.010332</td>\n",
       "      <td>-508.337973</td>\n",
       "    </tr>\n",
       "    <tr>\n",
       "      <th>2017-12-09 18:59:59</th>\n",
       "      <td>4.512346</td>\n",
       "      <td>37.810642</td>\n",
       "      <td>558.713584</td>\n",
       "      <td>86.434874</td>\n",
       "      <td>7.823471</td>\n",
       "      <td>7.490356</td>\n",
       "      <td>1198.005449</td>\n",
       "      <td>-300.283401</td>\n",
       "      <td>1099.481500</td>\n",
       "      <td>-499.702465</td>\n",
       "      <td>...</td>\n",
       "      <td>23.001911</td>\n",
       "      <td>-499.947838</td>\n",
       "      <td>20.023735</td>\n",
       "      <td>-499.713680</td>\n",
       "      <td>17.990955</td>\n",
       "      <td>-500.334769</td>\n",
       "      <td>13.007523</td>\n",
       "      <td>-499.968459</td>\n",
       "      <td>19.995999</td>\n",
       "      <td>-499.788805</td>\n",
       "    </tr>\n",
       "    <tr>\n",
       "      <th>2017-12-09 19:59:59</th>\n",
       "      <td>4.468803</td>\n",
       "      <td>37.816555</td>\n",
       "      <td>547.515088</td>\n",
       "      <td>85.875864</td>\n",
       "      <td>8.040386</td>\n",
       "      <td>7.500718</td>\n",
       "      <td>1201.408796</td>\n",
       "      <td>-299.647294</td>\n",
       "      <td>1099.371712</td>\n",
       "      <td>-500.851578</td>\n",
       "      <td>...</td>\n",
       "      <td>22.977833</td>\n",
       "      <td>-499.910098</td>\n",
       "      <td>20.000113</td>\n",
       "      <td>-500.584093</td>\n",
       "      <td>18.003899</td>\n",
       "      <td>-500.326371</td>\n",
       "      <td>12.978611</td>\n",
       "      <td>-499.966502</td>\n",
       "      <td>19.988673</td>\n",
       "      <td>-500.742891</td>\n",
       "    </tr>\n",
       "    <tr>\n",
       "      <th>2017-12-09 20:59:59</th>\n",
       "      <td>4.458071</td>\n",
       "      <td>36.829223</td>\n",
       "      <td>518.363800</td>\n",
       "      <td>73.426294</td>\n",
       "      <td>7.641859</td>\n",
       "      <td>7.498470</td>\n",
       "      <td>1198.551240</td>\n",
       "      <td>-300.152108</td>\n",
       "      <td>1100.164710</td>\n",
       "      <td>-500.079041</td>\n",
       "      <td>...</td>\n",
       "      <td>22.964590</td>\n",
       "      <td>-500.083299</td>\n",
       "      <td>20.010567</td>\n",
       "      <td>-500.545746</td>\n",
       "      <td>18.040164</td>\n",
       "      <td>-498.936442</td>\n",
       "      <td>12.988702</td>\n",
       "      <td>-499.985412</td>\n",
       "      <td>20.014155</td>\n",
       "      <td>-499.443855</td>\n",
       "    </tr>\n",
       "    <tr>\n",
       "      <th>2017-12-09 21:59:59</th>\n",
       "      <td>4.428267</td>\n",
       "      <td>37.170131</td>\n",
       "      <td>500.494798</td>\n",
       "      <td>75.915232</td>\n",
       "      <td>7.230213</td>\n",
       "      <td>7.496599</td>\n",
       "      <td>1201.172468</td>\n",
       "      <td>-300.089700</td>\n",
       "      <td>1101.861501</td>\n",
       "      <td>-499.260271</td>\n",
       "      <td>...</td>\n",
       "      <td>23.010484</td>\n",
       "      <td>-500.498525</td>\n",
       "      <td>20.043525</td>\n",
       "      <td>-499.701442</td>\n",
       "      <td>17.991164</td>\n",
       "      <td>-500.324632</td>\n",
       "      <td>13.000809</td>\n",
       "      <td>-500.181711</td>\n",
       "      <td>20.001605</td>\n",
       "      <td>-500.229965</td>\n",
       "    </tr>\n",
       "    <tr>\n",
       "      <th>2017-12-09 22:59:59</th>\n",
       "      <td>4.370640</td>\n",
       "      <td>37.356892</td>\n",
       "      <td>540.990643</td>\n",
       "      <td>79.668503</td>\n",
       "      <td>7.089240</td>\n",
       "      <td>7.524634</td>\n",
       "      <td>1195.305111</td>\n",
       "      <td>-300.229149</td>\n",
       "      <td>1099.810739</td>\n",
       "      <td>-499.432120</td>\n",
       "      <td>...</td>\n",
       "      <td>22.979813</td>\n",
       "      <td>-500.451722</td>\n",
       "      <td>19.995022</td>\n",
       "      <td>-500.415107</td>\n",
       "      <td>18.057379</td>\n",
       "      <td>-499.238503</td>\n",
       "      <td>13.011922</td>\n",
       "      <td>-500.067255</td>\n",
       "      <td>20.002796</td>\n",
       "      <td>-504.347015</td>\n",
       "    </tr>\n",
       "    <tr>\n",
       "      <th>2017-12-09 23:59:59</th>\n",
       "      <td>4.274908</td>\n",
       "      <td>38.631317</td>\n",
       "      <td>492.146649</td>\n",
       "      <td>90.792119</td>\n",
       "      <td>7.367698</td>\n",
       "      <td>6.543369</td>\n",
       "      <td>1203.076302</td>\n",
       "      <td>-299.896920</td>\n",
       "      <td>1098.645509</td>\n",
       "      <td>-500.783736</td>\n",
       "      <td>...</td>\n",
       "      <td>23.050901</td>\n",
       "      <td>-501.185001</td>\n",
       "      <td>20.016755</td>\n",
       "      <td>-499.840744</td>\n",
       "      <td>17.991566</td>\n",
       "      <td>-500.303770</td>\n",
       "      <td>13.023215</td>\n",
       "      <td>-500.018271</td>\n",
       "      <td>20.015115</td>\n",
       "      <td>-515.537548</td>\n",
       "    </tr>\n",
       "    <tr>\n",
       "      <th>2017-12-10 00:59:59</th>\n",
       "      <td>4.038732</td>\n",
       "      <td>37.891009</td>\n",
       "      <td>580.144363</td>\n",
       "      <td>88.632468</td>\n",
       "      <td>7.010849</td>\n",
       "      <td>7.009431</td>\n",
       "      <td>1200.355599</td>\n",
       "      <td>-299.849532</td>\n",
       "      <td>1102.358134</td>\n",
       "      <td>-501.027399</td>\n",
       "      <td>...</td>\n",
       "      <td>22.980180</td>\n",
       "      <td>-500.853198</td>\n",
       "      <td>20.053897</td>\n",
       "      <td>-500.201780</td>\n",
       "      <td>17.983118</td>\n",
       "      <td>-500.053528</td>\n",
       "      <td>13.008261</td>\n",
       "      <td>-500.198979</td>\n",
       "      <td>19.995219</td>\n",
       "      <td>-500.670889</td>\n",
       "    </tr>\n",
       "    <tr>\n",
       "      <th>2017-12-10 01:59:59</th>\n",
       "      <td>4.277194</td>\n",
       "      <td>38.304911</td>\n",
       "      <td>594.160693</td>\n",
       "      <td>76.935617</td>\n",
       "      <td>9.521730</td>\n",
       "      <td>6.803199</td>\n",
       "      <td>1201.077673</td>\n",
       "      <td>-300.125915</td>\n",
       "      <td>1100.339961</td>\n",
       "      <td>-500.139385</td>\n",
       "      <td>...</td>\n",
       "      <td>23.009883</td>\n",
       "      <td>-501.419166</td>\n",
       "      <td>20.026646</td>\n",
       "      <td>-499.967467</td>\n",
       "      <td>17.969402</td>\n",
       "      <td>-499.953072</td>\n",
       "      <td>12.998181</td>\n",
       "      <td>-499.799618</td>\n",
       "      <td>20.011666</td>\n",
       "      <td>-504.998843</td>\n",
       "    </tr>\n",
       "    <tr>\n",
       "      <th>2017-12-10 02:59:59</th>\n",
       "      <td>4.486592</td>\n",
       "      <td>37.766723</td>\n",
       "      <td>564.027590</td>\n",
       "      <td>78.171686</td>\n",
       "      <td>8.446899</td>\n",
       "      <td>6.795648</td>\n",
       "      <td>1200.786171</td>\n",
       "      <td>-300.065488</td>\n",
       "      <td>1100.576539</td>\n",
       "      <td>-500.039315</td>\n",
       "      <td>...</td>\n",
       "      <td>23.010629</td>\n",
       "      <td>-500.722839</td>\n",
       "      <td>20.013784</td>\n",
       "      <td>-500.576677</td>\n",
       "      <td>17.998816</td>\n",
       "      <td>-499.254573</td>\n",
       "      <td>12.968955</td>\n",
       "      <td>-499.921864</td>\n",
       "      <td>19.995610</td>\n",
       "      <td>-502.136200</td>\n",
       "    </tr>\n",
       "    <tr>\n",
       "      <th>2017-12-10 03:59:59</th>\n",
       "      <td>4.199217</td>\n",
       "      <td>38.142819</td>\n",
       "      <td>569.431598</td>\n",
       "      <td>86.332371</td>\n",
       "      <td>8.085889</td>\n",
       "      <td>6.800697</td>\n",
       "      <td>1199.000386</td>\n",
       "      <td>-300.402503</td>\n",
       "      <td>1101.115430</td>\n",
       "      <td>-499.408891</td>\n",
       "      <td>...</td>\n",
       "      <td>22.984276</td>\n",
       "      <td>-500.133060</td>\n",
       "      <td>20.010140</td>\n",
       "      <td>-500.646635</td>\n",
       "      <td>18.036115</td>\n",
       "      <td>-500.493958</td>\n",
       "      <td>13.033988</td>\n",
       "      <td>-500.010890</td>\n",
       "      <td>20.012430</td>\n",
       "      <td>-506.645253</td>\n",
       "    </tr>\n",
       "    <tr>\n",
       "      <th>2017-12-10 04:59:59</th>\n",
       "      <td>3.542035</td>\n",
       "      <td>38.712691</td>\n",
       "      <td>562.720172</td>\n",
       "      <td>83.762211</td>\n",
       "      <td>7.667440</td>\n",
       "      <td>6.803849</td>\n",
       "      <td>1199.693034</td>\n",
       "      <td>-300.027171</td>\n",
       "      <td>1100.245853</td>\n",
       "      <td>-499.581915</td>\n",
       "      <td>...</td>\n",
       "      <td>22.978678</td>\n",
       "      <td>-500.852652</td>\n",
       "      <td>20.041055</td>\n",
       "      <td>-500.271172</td>\n",
       "      <td>17.997010</td>\n",
       "      <td>-500.330720</td>\n",
       "      <td>12.987711</td>\n",
       "      <td>-500.275026</td>\n",
       "      <td>19.999892</td>\n",
       "      <td>-526.272491</td>\n",
       "    </tr>\n",
       "    <tr>\n",
       "      <th>2017-12-10 05:59:59</th>\n",
       "      <td>4.691105</td>\n",
       "      <td>39.266678</td>\n",
       "      <td>592.662483</td>\n",
       "      <td>83.090911</td>\n",
       "      <td>12.096074</td>\n",
       "      <td>6.798341</td>\n",
       "      <td>1199.276699</td>\n",
       "      <td>-300.067545</td>\n",
       "      <td>1099.586361</td>\n",
       "      <td>-500.489691</td>\n",
       "      <td>...</td>\n",
       "      <td>23.040780</td>\n",
       "      <td>-501.668565</td>\n",
       "      <td>19.982628</td>\n",
       "      <td>-500.089828</td>\n",
       "      <td>17.945884</td>\n",
       "      <td>-500.873584</td>\n",
       "      <td>13.011863</td>\n",
       "      <td>-500.144702</td>\n",
       "      <td>20.005985</td>\n",
       "      <td>-517.425191</td>\n",
       "    </tr>\n",
       "    <tr>\n",
       "      <th>2017-12-10 06:59:59</th>\n",
       "      <td>4.856835</td>\n",
       "      <td>38.754562</td>\n",
       "      <td>576.980182</td>\n",
       "      <td>78.594557</td>\n",
       "      <td>9.565935</td>\n",
       "      <td>6.800629</td>\n",
       "      <td>1199.063429</td>\n",
       "      <td>-299.855385</td>\n",
       "      <td>1099.064045</td>\n",
       "      <td>-500.090441</td>\n",
       "      <td>...</td>\n",
       "      <td>23.012193</td>\n",
       "      <td>-500.811660</td>\n",
       "      <td>20.034071</td>\n",
       "      <td>-500.842036</td>\n",
       "      <td>17.942353</td>\n",
       "      <td>-500.525108</td>\n",
       "      <td>12.978826</td>\n",
       "      <td>-499.723166</td>\n",
       "      <td>19.987600</td>\n",
       "      <td>-503.952054</td>\n",
       "    </tr>\n",
       "    <tr>\n",
       "      <th>2017-12-10 07:59:59</th>\n",
       "      <td>2.728483</td>\n",
       "      <td>39.489968</td>\n",
       "      <td>598.217753</td>\n",
       "      <td>84.860057</td>\n",
       "      <td>8.235333</td>\n",
       "      <td>6.839899</td>\n",
       "      <td>1199.367452</td>\n",
       "      <td>-300.041820</td>\n",
       "      <td>1098.985251</td>\n",
       "      <td>-500.335660</td>\n",
       "      <td>...</td>\n",
       "      <td>23.006011</td>\n",
       "      <td>-502.144745</td>\n",
       "      <td>20.008105</td>\n",
       "      <td>-499.606839</td>\n",
       "      <td>17.995908</td>\n",
       "      <td>-501.089258</td>\n",
       "      <td>12.984028</td>\n",
       "      <td>-500.115816</td>\n",
       "      <td>19.989632</td>\n",
       "      <td>-503.146043</td>\n",
       "    </tr>\n",
       "    <tr>\n",
       "      <th>2017-12-10 08:59:59</th>\n",
       "      <td>3.691255</td>\n",
       "      <td>39.143157</td>\n",
       "      <td>586.914941</td>\n",
       "      <td>90.413118</td>\n",
       "      <td>8.903894</td>\n",
       "      <td>6.996491</td>\n",
       "      <td>1199.184924</td>\n",
       "      <td>-299.805464</td>\n",
       "      <td>1098.458156</td>\n",
       "      <td>-500.184825</td>\n",
       "      <td>...</td>\n",
       "      <td>23.022517</td>\n",
       "      <td>-503.497045</td>\n",
       "      <td>20.027162</td>\n",
       "      <td>-499.495536</td>\n",
       "      <td>17.995119</td>\n",
       "      <td>-509.428268</td>\n",
       "      <td>13.065025</td>\n",
       "      <td>-485.610059</td>\n",
       "      <td>20.015090</td>\n",
       "      <td>-456.487688</td>\n",
       "    </tr>\n",
       "    <tr>\n",
       "      <th>2017-12-10 09:59:59</th>\n",
       "      <td>4.696397</td>\n",
       "      <td>37.432204</td>\n",
       "      <td>557.583656</td>\n",
       "      <td>77.705690</td>\n",
       "      <td>10.644145</td>\n",
       "      <td>7.197590</td>\n",
       "      <td>1204.599673</td>\n",
       "      <td>-300.334133</td>\n",
       "      <td>1102.041027</td>\n",
       "      <td>-499.519905</td>\n",
       "      <td>...</td>\n",
       "      <td>22.997563</td>\n",
       "      <td>-501.336582</td>\n",
       "      <td>20.048473</td>\n",
       "      <td>-501.902658</td>\n",
       "      <td>17.983765</td>\n",
       "      <td>-500.191942</td>\n",
       "      <td>13.001024</td>\n",
       "      <td>-499.936685</td>\n",
       "      <td>20.017953</td>\n",
       "      <td>-507.234586</td>\n",
       "    </tr>\n",
       "  </tbody>\n",
       "</table>\n",
       "<p>20 rows × 44 columns</p>\n",
       "</div>"
      ],
      "text/plain": [
       "                     rougher.input.feed_pb  rougher.input.feed_sol  \\\n",
       "date                                                                 \n",
       "2017-12-09 14:59:59               3.875727               39.135119   \n",
       "2017-12-09 15:59:59               3.902537               39.713906   \n",
       "2017-12-09 16:59:59               4.564078               37.208683   \n",
       "2017-12-09 17:59:59               4.768124               36.808874   \n",
       "2017-12-09 18:59:59               4.512346               37.810642   \n",
       "2017-12-09 19:59:59               4.468803               37.816555   \n",
       "2017-12-09 20:59:59               4.458071               36.829223   \n",
       "2017-12-09 21:59:59               4.428267               37.170131   \n",
       "2017-12-09 22:59:59               4.370640               37.356892   \n",
       "2017-12-09 23:59:59               4.274908               38.631317   \n",
       "2017-12-10 00:59:59               4.038732               37.891009   \n",
       "2017-12-10 01:59:59               4.277194               38.304911   \n",
       "2017-12-10 02:59:59               4.486592               37.766723   \n",
       "2017-12-10 03:59:59               4.199217               38.142819   \n",
       "2017-12-10 04:59:59               3.542035               38.712691   \n",
       "2017-12-10 05:59:59               4.691105               39.266678   \n",
       "2017-12-10 06:59:59               4.856835               38.754562   \n",
       "2017-12-10 07:59:59               2.728483               39.489968   \n",
       "2017-12-10 08:59:59               3.691255               39.143157   \n",
       "2017-12-10 09:59:59               4.696397               37.432204   \n",
       "\n",
       "                     rougher.input.feed_rate  rougher.input.feed_size  \\\n",
       "date                                                                    \n",
       "2017-12-09 14:59:59               555.820208                94.544358   \n",
       "2017-12-09 15:59:59               544.731687               123.742430   \n",
       "2017-12-09 16:59:59               558.155110                82.610855   \n",
       "2017-12-09 17:59:59               539.713765                77.984784   \n",
       "2017-12-09 18:59:59               558.713584                86.434874   \n",
       "2017-12-09 19:59:59               547.515088                85.875864   \n",
       "2017-12-09 20:59:59               518.363800                73.426294   \n",
       "2017-12-09 21:59:59               500.494798                75.915232   \n",
       "2017-12-09 22:59:59               540.990643                79.668503   \n",
       "2017-12-09 23:59:59               492.146649                90.792119   \n",
       "2017-12-10 00:59:59               580.144363                88.632468   \n",
       "2017-12-10 01:59:59               594.160693                76.935617   \n",
       "2017-12-10 02:59:59               564.027590                78.171686   \n",
       "2017-12-10 03:59:59               569.431598                86.332371   \n",
       "2017-12-10 04:59:59               562.720172                83.762211   \n",
       "2017-12-10 05:59:59               592.662483                83.090911   \n",
       "2017-12-10 06:59:59               576.980182                78.594557   \n",
       "2017-12-10 07:59:59               598.217753                84.860057   \n",
       "2017-12-10 08:59:59               586.914941                90.413118   \n",
       "2017-12-10 09:59:59               557.583656                77.705690   \n",
       "\n",
       "                     rougher.input.floatbank10_sulfate  \\\n",
       "date                                                     \n",
       "2017-12-09 14:59:59                           6.146982   \n",
       "2017-12-09 15:59:59                           6.210119   \n",
       "2017-12-09 16:59:59                           7.363824   \n",
       "2017-12-09 17:59:59                           6.927072   \n",
       "2017-12-09 18:59:59                           7.823471   \n",
       "2017-12-09 19:59:59                           8.040386   \n",
       "2017-12-09 20:59:59                           7.641859   \n",
       "2017-12-09 21:59:59                           7.230213   \n",
       "2017-12-09 22:59:59                           7.089240   \n",
       "2017-12-09 23:59:59                           7.367698   \n",
       "2017-12-10 00:59:59                           7.010849   \n",
       "2017-12-10 01:59:59                           9.521730   \n",
       "2017-12-10 02:59:59                           8.446899   \n",
       "2017-12-10 03:59:59                           8.085889   \n",
       "2017-12-10 04:59:59                           7.667440   \n",
       "2017-12-10 05:59:59                          12.096074   \n",
       "2017-12-10 06:59:59                           9.565935   \n",
       "2017-12-10 07:59:59                           8.235333   \n",
       "2017-12-10 08:59:59                           8.903894   \n",
       "2017-12-10 09:59:59                          10.644145   \n",
       "\n",
       "                     rougher.input.floatbank10_xanthate  \\\n",
       "date                                                      \n",
       "2017-12-09 14:59:59                            9.308612   \n",
       "2017-12-09 15:59:59                            9.297709   \n",
       "2017-12-09 16:59:59                            9.003562   \n",
       "2017-12-09 17:59:59                            8.955597   \n",
       "2017-12-09 18:59:59                            7.490356   \n",
       "2017-12-09 19:59:59                            7.500718   \n",
       "2017-12-09 20:59:59                            7.498470   \n",
       "2017-12-09 21:59:59                            7.496599   \n",
       "2017-12-09 22:59:59                            7.524634   \n",
       "2017-12-09 23:59:59                            6.543369   \n",
       "2017-12-10 00:59:59                            7.009431   \n",
       "2017-12-10 01:59:59                            6.803199   \n",
       "2017-12-10 02:59:59                            6.795648   \n",
       "2017-12-10 03:59:59                            6.800697   \n",
       "2017-12-10 04:59:59                            6.803849   \n",
       "2017-12-10 05:59:59                            6.798341   \n",
       "2017-12-10 06:59:59                            6.800629   \n",
       "2017-12-10 07:59:59                            6.839899   \n",
       "2017-12-10 08:59:59                            6.996491   \n",
       "2017-12-10 09:59:59                            7.197590   \n",
       "\n",
       "                     rougher.state.floatbank10_a_air  \\\n",
       "date                                                   \n",
       "2017-12-09 14:59:59                      1196.238112   \n",
       "2017-12-09 15:59:59                      1201.904177   \n",
       "2017-12-09 16:59:59                      1200.826926   \n",
       "2017-12-09 17:59:59                      1199.292489   \n",
       "2017-12-09 18:59:59                      1198.005449   \n",
       "2017-12-09 19:59:59                      1201.408796   \n",
       "2017-12-09 20:59:59                      1198.551240   \n",
       "2017-12-09 21:59:59                      1201.172468   \n",
       "2017-12-09 22:59:59                      1195.305111   \n",
       "2017-12-09 23:59:59                      1203.076302   \n",
       "2017-12-10 00:59:59                      1200.355599   \n",
       "2017-12-10 01:59:59                      1201.077673   \n",
       "2017-12-10 02:59:59                      1200.786171   \n",
       "2017-12-10 03:59:59                      1199.000386   \n",
       "2017-12-10 04:59:59                      1199.693034   \n",
       "2017-12-10 05:59:59                      1199.276699   \n",
       "2017-12-10 06:59:59                      1199.063429   \n",
       "2017-12-10 07:59:59                      1199.367452   \n",
       "2017-12-10 08:59:59                      1199.184924   \n",
       "2017-12-10 09:59:59                      1204.599673   \n",
       "\n",
       "                     rougher.state.floatbank10_a_level  \\\n",
       "date                                                     \n",
       "2017-12-09 14:59:59                        -299.862743   \n",
       "2017-12-09 15:59:59                        -299.907308   \n",
       "2017-12-09 16:59:59                        -300.124116   \n",
       "2017-12-09 17:59:59                        -299.778385   \n",
       "2017-12-09 18:59:59                        -300.283401   \n",
       "2017-12-09 19:59:59                        -299.647294   \n",
       "2017-12-09 20:59:59                        -300.152108   \n",
       "2017-12-09 21:59:59                        -300.089700   \n",
       "2017-12-09 22:59:59                        -300.229149   \n",
       "2017-12-09 23:59:59                        -299.896920   \n",
       "2017-12-10 00:59:59                        -299.849532   \n",
       "2017-12-10 01:59:59                        -300.125915   \n",
       "2017-12-10 02:59:59                        -300.065488   \n",
       "2017-12-10 03:59:59                        -300.402503   \n",
       "2017-12-10 04:59:59                        -300.027171   \n",
       "2017-12-10 05:59:59                        -300.067545   \n",
       "2017-12-10 06:59:59                        -299.855385   \n",
       "2017-12-10 07:59:59                        -300.041820   \n",
       "2017-12-10 08:59:59                        -299.805464   \n",
       "2017-12-10 09:59:59                        -300.334133   \n",
       "\n",
       "                     rougher.state.floatbank10_b_air  \\\n",
       "date                                                   \n",
       "2017-12-09 14:59:59                      1147.248241   \n",
       "2017-12-09 15:59:59                      1154.087804   \n",
       "2017-12-09 16:59:59                      1150.754676   \n",
       "2017-12-09 17:59:59                      1152.512559   \n",
       "2017-12-09 18:59:59                      1099.481500   \n",
       "2017-12-09 19:59:59                      1099.371712   \n",
       "2017-12-09 20:59:59                      1100.164710   \n",
       "2017-12-09 21:59:59                      1101.861501   \n",
       "2017-12-09 22:59:59                      1099.810739   \n",
       "2017-12-09 23:59:59                      1098.645509   \n",
       "2017-12-10 00:59:59                      1102.358134   \n",
       "2017-12-10 01:59:59                      1100.339961   \n",
       "2017-12-10 02:59:59                      1100.576539   \n",
       "2017-12-10 03:59:59                      1101.115430   \n",
       "2017-12-10 04:59:59                      1100.245853   \n",
       "2017-12-10 05:59:59                      1099.586361   \n",
       "2017-12-10 06:59:59                      1099.064045   \n",
       "2017-12-10 07:59:59                      1098.985251   \n",
       "2017-12-10 08:59:59                      1098.458156   \n",
       "2017-12-10 09:59:59                      1102.041027   \n",
       "\n",
       "                     rougher.state.floatbank10_b_level  ...  \\\n",
       "date                                                    ...   \n",
       "2017-12-09 14:59:59                        -500.363165  ...   \n",
       "2017-12-09 15:59:59                        -500.036580  ...   \n",
       "2017-12-09 16:59:59                        -499.986009  ...   \n",
       "2017-12-09 17:59:59                        -500.338106  ...   \n",
       "2017-12-09 18:59:59                        -499.702465  ...   \n",
       "2017-12-09 19:59:59                        -500.851578  ...   \n",
       "2017-12-09 20:59:59                        -500.079041  ...   \n",
       "2017-12-09 21:59:59                        -499.260271  ...   \n",
       "2017-12-09 22:59:59                        -499.432120  ...   \n",
       "2017-12-09 23:59:59                        -500.783736  ...   \n",
       "2017-12-10 00:59:59                        -501.027399  ...   \n",
       "2017-12-10 01:59:59                        -500.139385  ...   \n",
       "2017-12-10 02:59:59                        -500.039315  ...   \n",
       "2017-12-10 03:59:59                        -499.408891  ...   \n",
       "2017-12-10 04:59:59                        -499.581915  ...   \n",
       "2017-12-10 05:59:59                        -500.489691  ...   \n",
       "2017-12-10 06:59:59                        -500.090441  ...   \n",
       "2017-12-10 07:59:59                        -500.335660  ...   \n",
       "2017-12-10 08:59:59                        -500.184825  ...   \n",
       "2017-12-10 09:59:59                        -499.519905  ...   \n",
       "\n",
       "                     secondary_cleaner.state.floatbank4_a_air  \\\n",
       "date                                                            \n",
       "2017-12-09 14:59:59                                 23.018622   \n",
       "2017-12-09 15:59:59                                 23.024963   \n",
       "2017-12-09 16:59:59                                 22.993827   \n",
       "2017-12-09 17:59:59                                 23.032807   \n",
       "2017-12-09 18:59:59                                 23.001911   \n",
       "2017-12-09 19:59:59                                 22.977833   \n",
       "2017-12-09 20:59:59                                 22.964590   \n",
       "2017-12-09 21:59:59                                 23.010484   \n",
       "2017-12-09 22:59:59                                 22.979813   \n",
       "2017-12-09 23:59:59                                 23.050901   \n",
       "2017-12-10 00:59:59                                 22.980180   \n",
       "2017-12-10 01:59:59                                 23.009883   \n",
       "2017-12-10 02:59:59                                 23.010629   \n",
       "2017-12-10 03:59:59                                 22.984276   \n",
       "2017-12-10 04:59:59                                 22.978678   \n",
       "2017-12-10 05:59:59                                 23.040780   \n",
       "2017-12-10 06:59:59                                 23.012193   \n",
       "2017-12-10 07:59:59                                 23.006011   \n",
       "2017-12-10 08:59:59                                 23.022517   \n",
       "2017-12-10 09:59:59                                 22.997563   \n",
       "\n",
       "                     secondary_cleaner.state.floatbank4_a_level  \\\n",
       "date                                                              \n",
       "2017-12-09 14:59:59                                 -500.492702   \n",
       "2017-12-09 15:59:59                                 -501.153409   \n",
       "2017-12-09 16:59:59                                 -501.559663   \n",
       "2017-12-09 17:59:59                                 -501.287889   \n",
       "2017-12-09 18:59:59                                 -499.947838   \n",
       "2017-12-09 19:59:59                                 -499.910098   \n",
       "2017-12-09 20:59:59                                 -500.083299   \n",
       "2017-12-09 21:59:59                                 -500.498525   \n",
       "2017-12-09 22:59:59                                 -500.451722   \n",
       "2017-12-09 23:59:59                                 -501.185001   \n",
       "2017-12-10 00:59:59                                 -500.853198   \n",
       "2017-12-10 01:59:59                                 -501.419166   \n",
       "2017-12-10 02:59:59                                 -500.722839   \n",
       "2017-12-10 03:59:59                                 -500.133060   \n",
       "2017-12-10 04:59:59                                 -500.852652   \n",
       "2017-12-10 05:59:59                                 -501.668565   \n",
       "2017-12-10 06:59:59                                 -500.811660   \n",
       "2017-12-10 07:59:59                                 -502.144745   \n",
       "2017-12-10 08:59:59                                 -503.497045   \n",
       "2017-12-10 09:59:59                                 -501.336582   \n",
       "\n",
       "                     secondary_cleaner.state.floatbank4_b_air  \\\n",
       "date                                                            \n",
       "2017-12-09 14:59:59                                 20.020205   \n",
       "2017-12-09 15:59:59                                 20.054122   \n",
       "2017-12-09 16:59:59                                 20.029144   \n",
       "2017-12-09 17:59:59                                 19.977466   \n",
       "2017-12-09 18:59:59                                 20.023735   \n",
       "2017-12-09 19:59:59                                 20.000113   \n",
       "2017-12-09 20:59:59                                 20.010567   \n",
       "2017-12-09 21:59:59                                 20.043525   \n",
       "2017-12-09 22:59:59                                 19.995022   \n",
       "2017-12-09 23:59:59                                 20.016755   \n",
       "2017-12-10 00:59:59                                 20.053897   \n",
       "2017-12-10 01:59:59                                 20.026646   \n",
       "2017-12-10 02:59:59                                 20.013784   \n",
       "2017-12-10 03:59:59                                 20.010140   \n",
       "2017-12-10 04:59:59                                 20.041055   \n",
       "2017-12-10 05:59:59                                 19.982628   \n",
       "2017-12-10 06:59:59                                 20.034071   \n",
       "2017-12-10 07:59:59                                 20.008105   \n",
       "2017-12-10 08:59:59                                 20.027162   \n",
       "2017-12-10 09:59:59                                 20.048473   \n",
       "\n",
       "                     secondary_cleaner.state.floatbank4_b_level  \\\n",
       "date                                                              \n",
       "2017-12-09 14:59:59                                 -500.220296   \n",
       "2017-12-09 15:59:59                                 -500.314711   \n",
       "2017-12-09 16:59:59                                 -500.000662   \n",
       "2017-12-09 17:59:59                                 -500.159903   \n",
       "2017-12-09 18:59:59                                 -499.713680   \n",
       "2017-12-09 19:59:59                                 -500.584093   \n",
       "2017-12-09 20:59:59                                 -500.545746   \n",
       "2017-12-09 21:59:59                                 -499.701442   \n",
       "2017-12-09 22:59:59                                 -500.415107   \n",
       "2017-12-09 23:59:59                                 -499.840744   \n",
       "2017-12-10 00:59:59                                 -500.201780   \n",
       "2017-12-10 01:59:59                                 -499.967467   \n",
       "2017-12-10 02:59:59                                 -500.576677   \n",
       "2017-12-10 03:59:59                                 -500.646635   \n",
       "2017-12-10 04:59:59                                 -500.271172   \n",
       "2017-12-10 05:59:59                                 -500.089828   \n",
       "2017-12-10 06:59:59                                 -500.842036   \n",
       "2017-12-10 07:59:59                                 -499.606839   \n",
       "2017-12-10 08:59:59                                 -499.495536   \n",
       "2017-12-10 09:59:59                                 -501.902658   \n",
       "\n",
       "                     secondary_cleaner.state.floatbank5_a_air  \\\n",
       "date                                                            \n",
       "2017-12-09 14:59:59                                 17.963512   \n",
       "2017-12-09 15:59:59                                 17.979515   \n",
       "2017-12-09 16:59:59                                 18.012723   \n",
       "2017-12-09 17:59:59                                 17.980463   \n",
       "2017-12-09 18:59:59                                 17.990955   \n",
       "2017-12-09 19:59:59                                 18.003899   \n",
       "2017-12-09 20:59:59                                 18.040164   \n",
       "2017-12-09 21:59:59                                 17.991164   \n",
       "2017-12-09 22:59:59                                 18.057379   \n",
       "2017-12-09 23:59:59                                 17.991566   \n",
       "2017-12-10 00:59:59                                 17.983118   \n",
       "2017-12-10 01:59:59                                 17.969402   \n",
       "2017-12-10 02:59:59                                 17.998816   \n",
       "2017-12-10 03:59:59                                 18.036115   \n",
       "2017-12-10 04:59:59                                 17.997010   \n",
       "2017-12-10 05:59:59                                 17.945884   \n",
       "2017-12-10 06:59:59                                 17.942353   \n",
       "2017-12-10 07:59:59                                 17.995908   \n",
       "2017-12-10 08:59:59                                 17.995119   \n",
       "2017-12-10 09:59:59                                 17.983765   \n",
       "\n",
       "                     secondary_cleaner.state.floatbank5_a_level  \\\n",
       "date                                                              \n",
       "2017-12-09 14:59:59                                 -499.939490   \n",
       "2017-12-09 15:59:59                                 -499.272871   \n",
       "2017-12-09 16:59:59                                 -500.024764   \n",
       "2017-12-09 17:59:59                                 -500.504602   \n",
       "2017-12-09 18:59:59                                 -500.334769   \n",
       "2017-12-09 19:59:59                                 -500.326371   \n",
       "2017-12-09 20:59:59                                 -498.936442   \n",
       "2017-12-09 21:59:59                                 -500.324632   \n",
       "2017-12-09 22:59:59                                 -499.238503   \n",
       "2017-12-09 23:59:59                                 -500.303770   \n",
       "2017-12-10 00:59:59                                 -500.053528   \n",
       "2017-12-10 01:59:59                                 -499.953072   \n",
       "2017-12-10 02:59:59                                 -499.254573   \n",
       "2017-12-10 03:59:59                                 -500.493958   \n",
       "2017-12-10 04:59:59                                 -500.330720   \n",
       "2017-12-10 05:59:59                                 -500.873584   \n",
       "2017-12-10 06:59:59                                 -500.525108   \n",
       "2017-12-10 07:59:59                                 -501.089258   \n",
       "2017-12-10 08:59:59                                 -509.428268   \n",
       "2017-12-10 09:59:59                                 -500.191942   \n",
       "\n",
       "                     secondary_cleaner.state.floatbank5_b_air  \\\n",
       "date                                                            \n",
       "2017-12-09 14:59:59                                 12.990306   \n",
       "2017-12-09 15:59:59                                 12.992404   \n",
       "2017-12-09 16:59:59                                 13.016445   \n",
       "2017-12-09 17:59:59                                 12.949071   \n",
       "2017-12-09 18:59:59                                 13.007523   \n",
       "2017-12-09 19:59:59                                 12.978611   \n",
       "2017-12-09 20:59:59                                 12.988702   \n",
       "2017-12-09 21:59:59                                 13.000809   \n",
       "2017-12-09 22:59:59                                 13.011922   \n",
       "2017-12-09 23:59:59                                 13.023215   \n",
       "2017-12-10 00:59:59                                 13.008261   \n",
       "2017-12-10 01:59:59                                 12.998181   \n",
       "2017-12-10 02:59:59                                 12.968955   \n",
       "2017-12-10 03:59:59                                 13.033988   \n",
       "2017-12-10 04:59:59                                 12.987711   \n",
       "2017-12-10 05:59:59                                 13.011863   \n",
       "2017-12-10 06:59:59                                 12.978826   \n",
       "2017-12-10 07:59:59                                 12.984028   \n",
       "2017-12-10 08:59:59                                 13.065025   \n",
       "2017-12-10 09:59:59                                 13.001024   \n",
       "\n",
       "                     secondary_cleaner.state.floatbank5_b_level  \\\n",
       "date                                                              \n",
       "2017-12-09 14:59:59                                 -500.080993   \n",
       "2017-12-09 15:59:59                                 -499.976268   \n",
       "2017-12-09 16:59:59                                 -500.058432   \n",
       "2017-12-09 17:59:59                                 -500.009937   \n",
       "2017-12-09 18:59:59                                 -499.968459   \n",
       "2017-12-09 19:59:59                                 -499.966502   \n",
       "2017-12-09 20:59:59                                 -499.985412   \n",
       "2017-12-09 21:59:59                                 -500.181711   \n",
       "2017-12-09 22:59:59                                 -500.067255   \n",
       "2017-12-09 23:59:59                                 -500.018271   \n",
       "2017-12-10 00:59:59                                 -500.198979   \n",
       "2017-12-10 01:59:59                                 -499.799618   \n",
       "2017-12-10 02:59:59                                 -499.921864   \n",
       "2017-12-10 03:59:59                                 -500.010890   \n",
       "2017-12-10 04:59:59                                 -500.275026   \n",
       "2017-12-10 05:59:59                                 -500.144702   \n",
       "2017-12-10 06:59:59                                 -499.723166   \n",
       "2017-12-10 07:59:59                                 -500.115816   \n",
       "2017-12-10 08:59:59                                 -485.610059   \n",
       "2017-12-10 09:59:59                                 -499.936685   \n",
       "\n",
       "                     secondary_cleaner.state.floatbank6_a_air  \\\n",
       "date                                                            \n",
       "2017-12-09 14:59:59                                 19.990336   \n",
       "2017-12-09 15:59:59                                 20.013986   \n",
       "2017-12-09 16:59:59                                 19.973767   \n",
       "2017-12-09 17:59:59                                 20.010332   \n",
       "2017-12-09 18:59:59                                 19.995999   \n",
       "2017-12-09 19:59:59                                 19.988673   \n",
       "2017-12-09 20:59:59                                 20.014155   \n",
       "2017-12-09 21:59:59                                 20.001605   \n",
       "2017-12-09 22:59:59                                 20.002796   \n",
       "2017-12-09 23:59:59                                 20.015115   \n",
       "2017-12-10 00:59:59                                 19.995219   \n",
       "2017-12-10 01:59:59                                 20.011666   \n",
       "2017-12-10 02:59:59                                 19.995610   \n",
       "2017-12-10 03:59:59                                 20.012430   \n",
       "2017-12-10 04:59:59                                 19.999892   \n",
       "2017-12-10 05:59:59                                 20.005985   \n",
       "2017-12-10 06:59:59                                 19.987600   \n",
       "2017-12-10 07:59:59                                 19.989632   \n",
       "2017-12-10 08:59:59                                 20.015090   \n",
       "2017-12-10 09:59:59                                 20.017953   \n",
       "\n",
       "                     secondary_cleaner.state.floatbank6_a_level  \n",
       "date                                                             \n",
       "2017-12-09 14:59:59                                 -499.191575  \n",
       "2017-12-09 15:59:59                                 -500.625471  \n",
       "2017-12-09 16:59:59                                 -501.394155  \n",
       "2017-12-09 17:59:59                                 -508.337973  \n",
       "2017-12-09 18:59:59                                 -499.788805  \n",
       "2017-12-09 19:59:59                                 -500.742891  \n",
       "2017-12-09 20:59:59                                 -499.443855  \n",
       "2017-12-09 21:59:59                                 -500.229965  \n",
       "2017-12-09 22:59:59                                 -504.347015  \n",
       "2017-12-09 23:59:59                                 -515.537548  \n",
       "2017-12-10 00:59:59                                 -500.670889  \n",
       "2017-12-10 01:59:59                                 -504.998843  \n",
       "2017-12-10 02:59:59                                 -502.136200  \n",
       "2017-12-10 03:59:59                                 -506.645253  \n",
       "2017-12-10 04:59:59                                 -526.272491  \n",
       "2017-12-10 05:59:59                                 -517.425191  \n",
       "2017-12-10 06:59:59                                 -503.952054  \n",
       "2017-12-10 07:59:59                                 -503.146043  \n",
       "2017-12-10 08:59:59                                 -456.487688  \n",
       "2017-12-10 09:59:59                                 -507.234586  \n",
       "\n",
       "[20 rows x 44 columns]"
      ]
     },
     "execution_count": 14,
     "metadata": {},
     "output_type": "execute_result"
    }
   ],
   "source": [
    "columns_with_blanks = df_test.columns[df_test.isnull().sum() > 0]\n",
    "df_test[columns_with_blanks].head(20)"
   ]
  },
  {
   "cell_type": "markdown",
   "metadata": {},
   "source": [
    "В тестовой выборке пропусков относительно меньше. По изменению значений картина сходна с тренировочной. Удалять данные из тестовой выборки некорректно, поэтому заполним пропуски аналогично."
   ]
  },
  {
   "cell_type": "code",
   "execution_count": 15,
   "metadata": {},
   "outputs": [],
   "source": [
    "df_test.fillna(method='ffill', inplace=True)"
   ]
  },
  {
   "cell_type": "markdown",
   "metadata": {},
   "source": [
    "**Проверено отсутствие дубликатов, в тренировочной выборке пропуски в столбцах, общих с тестовой, удалены, а остальные заменены на следующие по времени значения, т.к. в условии сказано, что 'соседние по времени параметры часто похожи'. В тестовой все заменены следующими по времени значениями.**"
   ]
  },
  {
   "cell_type": "markdown",
   "metadata": {},
   "source": [
    "## Анализ данных"
   ]
  },
  {
   "cell_type": "markdown",
   "metadata": {},
   "source": [
    "### Анализ изменения концентрации металлов (Au, Ag, Pb) на различных этапах"
   ]
  },
  {
   "cell_type": "markdown",
   "metadata": {},
   "source": [
    "Возьмем интересующие нас столбцы и построим по ним гистограммы."
   ]
  },
  {
   "cell_type": "code",
   "execution_count": 16,
   "metadata": {},
   "outputs": [],
   "source": [
    "columns_au = ['rougher.input.feed_au', 'rougher.output.concentrate_au', 'primary_cleaner.output.concentrate_au',\n",
    "              'final.output.concentrate_au']\n",
    "columns_ag = ['rougher.input.feed_ag', 'rougher.output.concentrate_ag', 'primary_cleaner.output.concentrate_ag',\n",
    "              'final.output.concentrate_ag']\n",
    "columns_pb = ['rougher.input.feed_pb', 'rougher.output.concentrate_pb', 'primary_cleaner.output.concentrate_pb',\n",
    "              'final.output.concentrate_pb']"
   ]
  },
  {
   "cell_type": "code",
   "execution_count": 17,
   "metadata": {
    "scrolled": false
   },
   "outputs": [
    {
     "data": {
      "image/png": "[encoded data removed]",
      "text/plain": [
       "<Figure size 1080x648 with 1 Axes>"
      ]
     },
     "metadata": {
      "needs_background": "light"
     },
     "output_type": "display_data"
    },
    {
     "data": {
      "image/png": "[encoded data removed]",
      "text/plain": [
       "<Figure size 1080x648 with 1 Axes>"
      ]
     },
     "metadata": {
      "needs_background": "light"
     },
     "output_type": "display_data"
    },
    {
     "data": {
      "image/png": "[encoded data removed]",
      "text/plain": [
       "<Figure size 1080x648 with 1 Axes>"
      ]
     },
     "metadata": {
      "needs_background": "light"
     },
     "output_type": "display_data"
    }
   ],
   "source": [
    "for columns in [columns_au, columns_ag, columns_pb]:\n",
    "    df_train[columns].plot.hist(bins=70, figsize = (15,9), alpha = 0.5);"
   ]
  },
  {
   "cell_type": "markdown",
   "metadata": {},
   "source": [
    "**Концентрация золота стабильно повышается от примерно 7% до примерно 45%, распределения хорошие - нормальные, унимодальные. У серебра концентрация стартует с примерно 8%, повышается после флотации, возвращается к исходным значениям после первичной обработки, а потом падает до примерно 5%, причем первоначальное распределение, бимодальное, постепенно превращается в унимодальное. (Непонятно, серебро же хорошо??) Концентрация свинца изначально около 3%, повышается в 2.5 раза после флотации, после первичной очистки еще немного увеличивается (до 10%), но распределение расползается вширь, а в результате вторичной очистки распределение снова сужается. Хотя надо заметить, что у предыдущих металлов последняя очистка тоже сужала распределения.**"
   ]
  },
  {
   "cell_type": "markdown",
   "metadata": {},
   "source": [
    "Столбики у нулевой отметки говорят, что в некоторых образцах металлов не было вовсе. Или, возможно, это аномалии. Посмотрим, как менялось их количество по стадиям:"
   ]
  },
  {
   "cell_type": "code",
   "execution_count": 18,
   "metadata": {},
   "outputs": [
    {
     "name": "stdout",
     "output_type": "stream",
     "text": [
      "В столбце rougher.input.feed_au 0 нулевых значений\n",
      "В столбце rougher.output.concentrate_au 394 нулевых значений\n",
      "В столбце primary_cleaner.output.concentrate_au 108 нулевых значений\n",
      "В столбце final.output.concentrate_au 98 нулевых значений\n",
      "\n",
      "В столбце rougher.input.feed_ag 0 нулевых значений\n",
      "В столбце rougher.output.concentrate_ag 394 нулевых значений\n",
      "В столбце primary_cleaner.output.concentrate_ag 108 нулевых значений\n",
      "В столбце final.output.concentrate_ag 98 нулевых значений\n",
      "\n",
      "В столбце rougher.input.feed_pb 0 нулевых значений\n",
      "В столбце rougher.output.concentrate_pb 394 нулевых значений\n",
      "В столбце primary_cleaner.output.concentrate_pb 114 нулевых значений\n",
      "В столбце final.output.concentrate_pb 98 нулевых значений\n",
      "\n",
      "Количество строк, в которых rougher.output.concentrate всех металлов равен 0: 394\n"
     ]
    }
   ],
   "source": [
    "for columns_list in [columns_au, columns_ag, columns_pb]:\n",
    "    for column in columns_list:\n",
    "        print (f'В столбце {column} {len(df_train[df_train[column]==0])} нулевых значений')\n",
    "    print()\n",
    "print('Количество строк, в которых rougher.output.concentrate всех металлов равен 0:',\n",
    "      len(df_train[(df_train['rougher.output.concentrate_au']==0) & (df_train['rougher.output.concentrate_ag']==0) & \n",
    "                   (df_train['rougher.output.concentrate_pb']==0)]))"
   ]
  },
  {
   "cell_type": "markdown",
   "metadata": {},
   "source": [
    "Явно что-то не то: на входе образцов с нулевой концентрацией нет, потом они появляются, а потом их становится меньше, причем одни и те же строки, только у свинца есть лишних 5 строк на стадии *primary_cleaner*. Видимо, в это время произошла техническая ошибка. Мы не хотим учить модель на ошибочных данных, поэтому удалим их."
   ]
  },
  {
   "cell_type": "code",
   "execution_count": 19,
   "metadata": {},
   "outputs": [
    {
     "name": "stdout",
     "output_type": "stream",
     "text": [
      "Удалено строк: 597\n"
     ]
    }
   ],
   "source": [
    "size_before = df_train.shape[0]\n",
    "#удаляем по свинцу, т.к. у него больше нулей\n",
    "df_train = df_train[(df_train['rougher.output.concentrate_pb']!=0) & (df_train['primary_cleaner.output.concentrate_pb']!=0) &\n",
    "                    (df_train['final.output.concentrate_pb']!=0)]\n",
    "\n",
    "print(f'Удалено строк: {size_before - df_train.shape[0]}')"
   ]
  },
  {
   "cell_type": "markdown",
   "metadata": {},
   "source": [
    "394+114+98=606, что неравно 597. Видимо, множества пересекаются. Убедимся, что нулей в концентрациях не осталось."
   ]
  },
  {
   "cell_type": "code",
   "execution_count": 20,
   "metadata": {},
   "outputs": [
    {
     "name": "stdout",
     "output_type": "stream",
     "text": [
      "Количество строк, в которых rougher.input.feed хотя бы одного металла равен 0: 0\n",
      "Количество строк, в которых rougher.output.concentrate хотя бы одного металла равен 0: 0\n",
      "Количество строк, в которых primary_cleaner.output.concentrate хотя бы одного металла равен 0: 0\n",
      "Количество строк, в которых final.output.concentrate хотя бы одного металла равен 0: 0\n"
     ]
    }
   ],
   "source": [
    "print('Количество строк, в которых rougher.input.feed хотя бы одного металла равен 0:',\n",
    "      len(df_train[(df_train['rougher.input.feed_au']==0) | (df_train['rougher.input.feed_ag']==0) | \n",
    "                   (df_train['rougher.input.feed_pb']==0)]))\n",
    "print('Количество строк, в которых rougher.output.concentrate хотя бы одного металла равен 0:',\n",
    "      len(df_train[(df_train['rougher.output.concentrate_au']==0) | (df_train['rougher.output.concentrate_ag']==0) | \n",
    "                   (df_train['rougher.output.concentrate_pb']==0)]))\n",
    "print('Количество строк, в которых primary_cleaner.output.concentrate хотя бы одного металла равен 0:',\n",
    "      len(df_train[(df_train['primary_cleaner.output.concentrate_au']==0) | \n",
    "                   (df_train['primary_cleaner.output.concentrate_ag']==0) | \n",
    "                   (df_train['primary_cleaner.output.concentrate_pb']==0)]))\n",
    "print('Количество строк, в которых final.output.concentrate хотя бы одного металла равен 0:',\n",
    "      len(df_train[(df_train['final.output.concentrate_au']==0) | \n",
    "                   (df_train['final.output.concentrate_ag']==0) | \n",
    "                   (df_train['final.output.concentrate_pb']==0)]))"
   ]
  },
  {
   "cell_type": "markdown",
   "metadata": {},
   "source": [
    "Поищем еще подозрительные, слишком часто встречающиеся значения."
   ]
  },
  {
   "cell_type": "code",
   "execution_count": 21,
   "metadata": {
    "collapsed": true
   },
   "outputs": [
    {
     "name": "stdout",
     "output_type": "stream",
     "text": [
      "7.495525     5\n",
      "7.413458     4\n",
      "0.010000     3\n",
      "11.629298    2\n",
      "7.324856     1\n",
      "Name: rougher.input.feed_au, dtype: int64\n",
      "18.652372    5\n",
      "17.099216    4\n",
      "0.010000     3\n",
      "19.646963    2\n",
      "18.946179    1\n",
      "Name: rougher.output.concentrate_au, dtype: int64\n",
      "0.010000     98\n",
      "30.350809     5\n",
      "36.306431     4\n",
      "27.765463     4\n",
      "33.581341     2\n",
      "Name: primary_cleaner.output.concentrate_au, dtype: int64\n",
      "46.105030    5\n",
      "42.527939    4\n",
      "45.270618    4\n",
      "45.368858    2\n",
      "48.166565    2\n",
      "Name: final.output.concentrate_au, dtype: int64\n",
      "5.753713     5\n",
      "8.364123     4\n",
      "0.010000     3\n",
      "11.450708    2\n",
      "11.924768    1\n",
      "Name: rougher.input.feed_ag, dtype: int64\n",
      "9.252737     5\n",
      "12.098115    4\n",
      "0.010000     3\n",
      "13.081013    2\n",
      "13.358250    1\n",
      "Name: rougher.output.concentrate_ag, dtype: int64\n",
      "0.010000    98\n",
      "8.339732     5\n",
      "7.925334     4\n",
      "9.987871     4\n",
      "8.874217     2\n",
      "Name: primary_cleaner.output.concentrate_ag, dtype: int64\n",
      "3.572025    5\n",
      "5.413548    4\n",
      "5.955403    4\n",
      "5.454124    2\n",
      "3.132967    2\n",
      "Name: final.output.concentrate_ag, dtype: int64\n",
      "1.533528    33\n",
      "0.125889    15\n",
      "1.352495    14\n",
      "4.226074     5\n",
      "0.554024     5\n",
      "Name: rougher.input.feed_pb, dtype: int64\n",
      "8.452148    7\n",
      "7.944824    6\n",
      "9.764648    5\n",
      "8.577148    5\n",
      "8.514648    4\n",
      "Name: rougher.output.concentrate_pb, dtype: int64\n",
      "0.010000     99\n",
      "5.055124      7\n",
      "10.952148     5\n",
      "14.202148     5\n",
      "5.321763      5\n",
      "Name: primary_cleaner.output.concentrate_pb, dtype: int64\n",
      "12.577148    5\n",
      "9.389648     5\n",
      "11.452148    4\n",
      "10.452148    3\n",
      "11.202148    3\n",
      "Name: final.output.concentrate_pb, dtype: int64\n"
     ]
    }
   ],
   "source": [
    "for columns_list in [columns_au, columns_ag, columns_pb]:\n",
    "    for column in columns_list:\n",
    "        print (df_train[column].value_counts().head())"
   ]
  },
  {
   "cell_type": "markdown",
   "metadata": {},
   "source": [
    "На стадии *primary_cleaner* слишком часто встречается значение 0.01. Проверим, наименьшее ли это значение."
   ]
  },
  {
   "cell_type": "code",
   "execution_count": 22,
   "metadata": {},
   "outputs": [
    {
     "data": {
      "text/plain": [
       "date\n",
       "2017-10-15 18:59:59    0.01\n",
       "2017-08-25 01:59:59    0.01\n",
       "Name: primary_cleaner.output.concentrate_au, dtype: float64"
      ]
     },
     "metadata": {},
     "output_type": "display_data"
    },
    {
     "data": {
      "text/plain": [
       "date\n",
       "2017-10-16 11:59:59    0.01\n",
       "2017-12-02 17:59:59    0.01\n",
       "Name: primary_cleaner.output.concentrate_ag, dtype: float64"
      ]
     },
     "metadata": {},
     "output_type": "display_data"
    },
    {
     "data": {
      "text/plain": [
       "date\n",
       "2017-11-12 16:59:59    0.01\n",
       "2017-10-16 14:59:59    0.01\n",
       "Name: primary_cleaner.output.concentrate_pb, dtype: float64"
      ]
     },
     "metadata": {},
     "output_type": "display_data"
    }
   ],
   "source": [
    "display(df_train['primary_cleaner.output.concentrate_au'].sort_values().head(2))\n",
    "display(df_train['primary_cleaner.output.concentrate_ag'].sort_values().head(2))\n",
    "display(df_train['primary_cleaner.output.concentrate_pb'].sort_values().head(2))"
   ]
  },
  {
   "cell_type": "markdown",
   "metadata": {},
   "source": [
    "Да, наименьшее. (Возможно, на производстве какой-нибудь датчик заело на минимальной отметке или что-то в этом духе). Посмотрим, одни и те же это строки или нет."
   ]
  },
  {
   "cell_type": "code",
   "execution_count": 23,
   "metadata": {},
   "outputs": [
    {
     "data": {
      "text/html": [
       "<div>\n",
       "<style scoped>\n",
       "    .dataframe tbody tr th:only-of-type {\n",
       "        vertical-align: middle;\n",
       "    }\n",
       "\n",
       "    .dataframe tbody tr th {\n",
       "        vertical-align: top;\n",
       "    }\n",
       "\n",
       "    .dataframe thead th {\n",
       "        text-align: right;\n",
       "    }\n",
       "</style>\n",
       "<table border=\"1\" class=\"dataframe\">\n",
       "  <thead>\n",
       "    <tr style=\"text-align: right;\">\n",
       "      <th></th>\n",
       "      <th>rougher.input.feed_au</th>\n",
       "      <th>rougher.input.feed_ag</th>\n",
       "      <th>rougher.input.feed_pb</th>\n",
       "      <th>rougher.input.feed_sol</th>\n",
       "      <th>rougher.input.feed_rate</th>\n",
       "      <th>rougher.input.feed_size</th>\n",
       "      <th>rougher.input.floatbank10_sulfate</th>\n",
       "      <th>rougher.input.floatbank10_xanthate</th>\n",
       "      <th>rougher.state.floatbank10_a_air</th>\n",
       "      <th>rougher.state.floatbank10_a_level</th>\n",
       "      <th>...</th>\n",
       "      <th>secondary_cleaner.output.tail_sol</th>\n",
       "      <th>final.output.concentrate_au</th>\n",
       "      <th>final.output.concentrate_ag</th>\n",
       "      <th>final.output.concentrate_pb</th>\n",
       "      <th>final.output.concentrate_sol</th>\n",
       "      <th>final.output.recovery</th>\n",
       "      <th>final.output.tail_au</th>\n",
       "      <th>final.output.tail_ag</th>\n",
       "      <th>final.output.tail_pb</th>\n",
       "      <th>final.output.tail_sol</th>\n",
       "    </tr>\n",
       "    <tr>\n",
       "      <th>date</th>\n",
       "      <th></th>\n",
       "      <th></th>\n",
       "      <th></th>\n",
       "      <th></th>\n",
       "      <th></th>\n",
       "      <th></th>\n",
       "      <th></th>\n",
       "      <th></th>\n",
       "      <th></th>\n",
       "      <th></th>\n",
       "      <th></th>\n",
       "      <th></th>\n",
       "      <th></th>\n",
       "      <th></th>\n",
       "      <th></th>\n",
       "      <th></th>\n",
       "      <th></th>\n",
       "      <th></th>\n",
       "      <th></th>\n",
       "      <th></th>\n",
       "      <th></th>\n",
       "    </tr>\n",
       "  </thead>\n",
       "  <tbody>\n",
       "    <tr>\n",
       "      <th>2017-08-25 01:59:59</th>\n",
       "      <td>8.511010</td>\n",
       "      <td>9.794057</td>\n",
       "      <td>3.083146</td>\n",
       "      <td>39.199021</td>\n",
       "      <td>624.839180</td>\n",
       "      <td>75.834018</td>\n",
       "      <td>9.879148</td>\n",
       "      <td>7.595310</td>\n",
       "      <td>1396.056283</td>\n",
       "      <td>-299.972334</td>\n",
       "      <td>...</td>\n",
       "      <td>4.404968</td>\n",
       "      <td>43.539538</td>\n",
       "      <td>6.726756</td>\n",
       "      <td>9.316409</td>\n",
       "      <td>9.656618</td>\n",
       "      <td>84.044557</td>\n",
       "      <td>1.624926</td>\n",
       "      <td>9.494177</td>\n",
       "      <td>0.742386</td>\n",
       "      <td>14.232371</td>\n",
       "    </tr>\n",
       "    <tr>\n",
       "      <th>2017-08-25 02:59:59</th>\n",
       "      <td>7.929114</td>\n",
       "      <td>9.386383</td>\n",
       "      <td>2.731967</td>\n",
       "      <td>39.901225</td>\n",
       "      <td>619.846411</td>\n",
       "      <td>86.210512</td>\n",
       "      <td>9.644634</td>\n",
       "      <td>7.599772</td>\n",
       "      <td>1398.910393</td>\n",
       "      <td>-300.294509</td>\n",
       "      <td>...</td>\n",
       "      <td>4.628381</td>\n",
       "      <td>46.270458</td>\n",
       "      <td>5.487604</td>\n",
       "      <td>8.993153</td>\n",
       "      <td>8.867548</td>\n",
       "      <td>77.929146</td>\n",
       "      <td>2.019746</td>\n",
       "      <td>9.898577</td>\n",
       "      <td>1.070071</td>\n",
       "      <td>13.749108</td>\n",
       "    </tr>\n",
       "    <tr>\n",
       "      <th>2017-08-25 03:59:59</th>\n",
       "      <td>7.776068</td>\n",
       "      <td>9.319653</td>\n",
       "      <td>2.690022</td>\n",
       "      <td>39.442244</td>\n",
       "      <td>649.300753</td>\n",
       "      <td>85.678354</td>\n",
       "      <td>9.476913</td>\n",
       "      <td>7.600887</td>\n",
       "      <td>1400.673119</td>\n",
       "      <td>-299.843507</td>\n",
       "      <td>...</td>\n",
       "      <td>4.170550</td>\n",
       "      <td>46.542596</td>\n",
       "      <td>5.416265</td>\n",
       "      <td>8.924470</td>\n",
       "      <td>9.075385</td>\n",
       "      <td>79.831148</td>\n",
       "      <td>1.809719</td>\n",
       "      <td>9.613796</td>\n",
       "      <td>0.920154</td>\n",
       "      <td>13.759155</td>\n",
       "    </tr>\n",
       "    <tr>\n",
       "      <th>2017-08-28 10:59:59</th>\n",
       "      <td>5.367856</td>\n",
       "      <td>7.930709</td>\n",
       "      <td>1.829621</td>\n",
       "      <td>35.559113</td>\n",
       "      <td>516.844060</td>\n",
       "      <td>58.347431</td>\n",
       "      <td>7.963172</td>\n",
       "      <td>6.996683</td>\n",
       "      <td>1399.233038</td>\n",
       "      <td>-300.069984</td>\n",
       "      <td>...</td>\n",
       "      <td>2.084210</td>\n",
       "      <td>8.959882</td>\n",
       "      <td>1.573483</td>\n",
       "      <td>2.003418</td>\n",
       "      <td>1.595550</td>\n",
       "      <td>69.977701</td>\n",
       "      <td>2.774884</td>\n",
       "      <td>10.065562</td>\n",
       "      <td>1.158478</td>\n",
       "      <td>4.305685</td>\n",
       "    </tr>\n",
       "    <tr>\n",
       "      <th>2017-08-29 03:59:59</th>\n",
       "      <td>8.045621</td>\n",
       "      <td>8.759227</td>\n",
       "      <td>3.859752</td>\n",
       "      <td>40.828380</td>\n",
       "      <td>557.734814</td>\n",
       "      <td>80.489388</td>\n",
       "      <td>11.685511</td>\n",
       "      <td>7.496390</td>\n",
       "      <td>1401.371854</td>\n",
       "      <td>-300.227375</td>\n",
       "      <td>...</td>\n",
       "      <td>2.547359</td>\n",
       "      <td>44.325080</td>\n",
       "      <td>5.705777</td>\n",
       "      <td>10.616839</td>\n",
       "      <td>8.426868</td>\n",
       "      <td>71.664024</td>\n",
       "      <td>2.620707</td>\n",
       "      <td>10.146535</td>\n",
       "      <td>2.288348</td>\n",
       "      <td>10.710631</td>\n",
       "    </tr>\n",
       "    <tr>\n",
       "      <th>2017-08-29 18:59:59</th>\n",
       "      <td>6.579509</td>\n",
       "      <td>8.257593</td>\n",
       "      <td>3.090519</td>\n",
       "      <td>40.754337</td>\n",
       "      <td>580.529297</td>\n",
       "      <td>77.209244</td>\n",
       "      <td>8.631435</td>\n",
       "      <td>7.003563</td>\n",
       "      <td>1399.615639</td>\n",
       "      <td>-300.116955</td>\n",
       "      <td>...</td>\n",
       "      <td>1.079847</td>\n",
       "      <td>43.544959</td>\n",
       "      <td>5.851222</td>\n",
       "      <td>11.174162</td>\n",
       "      <td>7.747325</td>\n",
       "      <td>77.226550</td>\n",
       "      <td>1.696319</td>\n",
       "      <td>9.129739</td>\n",
       "      <td>1.394442</td>\n",
       "      <td>10.079147</td>\n",
       "    </tr>\n",
       "    <tr>\n",
       "      <th>2017-09-04 06:59:59</th>\n",
       "      <td>8.833919</td>\n",
       "      <td>10.266506</td>\n",
       "      <td>3.993176</td>\n",
       "      <td>41.567898</td>\n",
       "      <td>566.305635</td>\n",
       "      <td>79.369725</td>\n",
       "      <td>11.040378</td>\n",
       "      <td>7.499491</td>\n",
       "      <td>1407.161903</td>\n",
       "      <td>-299.833320</td>\n",
       "      <td>...</td>\n",
       "      <td>4.728183</td>\n",
       "      <td>44.357003</td>\n",
       "      <td>6.065785</td>\n",
       "      <td>9.637687</td>\n",
       "      <td>9.554317</td>\n",
       "      <td>74.249155</td>\n",
       "      <td>2.669559</td>\n",
       "      <td>12.695355</td>\n",
       "      <td>2.642092</td>\n",
       "      <td>10.898571</td>\n",
       "    </tr>\n",
       "    <tr>\n",
       "      <th>2017-09-08 04:59:59</th>\n",
       "      <td>8.447153</td>\n",
       "      <td>13.161507</td>\n",
       "      <td>3.219471</td>\n",
       "      <td>42.974428</td>\n",
       "      <td>560.142431</td>\n",
       "      <td>74.058405</td>\n",
       "      <td>9.809074</td>\n",
       "      <td>7.496532</td>\n",
       "      <td>1398.024306</td>\n",
       "      <td>-299.930487</td>\n",
       "      <td>...</td>\n",
       "      <td>4.698726</td>\n",
       "      <td>43.083309</td>\n",
       "      <td>6.293435</td>\n",
       "      <td>9.937424</td>\n",
       "      <td>9.158537</td>\n",
       "      <td>71.204603</td>\n",
       "      <td>2.827072</td>\n",
       "      <td>14.224046</td>\n",
       "      <td>2.804540</td>\n",
       "      <td>11.035412</td>\n",
       "    </tr>\n",
       "    <tr>\n",
       "      <th>2017-09-08 23:59:59</th>\n",
       "      <td>7.884139</td>\n",
       "      <td>11.212905</td>\n",
       "      <td>3.278252</td>\n",
       "      <td>42.181420</td>\n",
       "      <td>599.944345</td>\n",
       "      <td>79.172588</td>\n",
       "      <td>9.345787</td>\n",
       "      <td>7.098478</td>\n",
       "      <td>1401.346649</td>\n",
       "      <td>-300.065911</td>\n",
       "      <td>...</td>\n",
       "      <td>2.888064</td>\n",
       "      <td>45.875289</td>\n",
       "      <td>5.831580</td>\n",
       "      <td>8.276129</td>\n",
       "      <td>8.865220</td>\n",
       "      <td>79.829272</td>\n",
       "      <td>1.843160</td>\n",
       "      <td>12.305854</td>\n",
       "      <td>1.598950</td>\n",
       "      <td>11.646101</td>\n",
       "    </tr>\n",
       "    <tr>\n",
       "      <th>2017-09-09 00:59:59</th>\n",
       "      <td>9.161234</td>\n",
       "      <td>11.612099</td>\n",
       "      <td>3.377968</td>\n",
       "      <td>43.831035</td>\n",
       "      <td>575.813511</td>\n",
       "      <td>91.208104</td>\n",
       "      <td>10.814759</td>\n",
       "      <td>7.100028</td>\n",
       "      <td>1404.259410</td>\n",
       "      <td>-300.108959</td>\n",
       "      <td>...</td>\n",
       "      <td>3.898328</td>\n",
       "      <td>44.354984</td>\n",
       "      <td>6.186060</td>\n",
       "      <td>8.840333</td>\n",
       "      <td>9.862198</td>\n",
       "      <td>79.902854</td>\n",
       "      <td>2.205056</td>\n",
       "      <td>12.799574</td>\n",
       "      <td>2.058898</td>\n",
       "      <td>11.931232</td>\n",
       "    </tr>\n",
       "    <tr>\n",
       "      <th>2017-09-16 04:59:59</th>\n",
       "      <td>10.085683</td>\n",
       "      <td>10.759035</td>\n",
       "      <td>3.895527</td>\n",
       "      <td>37.655175</td>\n",
       "      <td>573.733982</td>\n",
       "      <td>71.465892</td>\n",
       "      <td>13.375033</td>\n",
       "      <td>6.910115</td>\n",
       "      <td>1398.449650</td>\n",
       "      <td>-299.901949</td>\n",
       "      <td>...</td>\n",
       "      <td>1.368851</td>\n",
       "      <td>45.371362</td>\n",
       "      <td>5.232939</td>\n",
       "      <td>9.829124</td>\n",
       "      <td>9.363762</td>\n",
       "      <td>76.792065</td>\n",
       "      <td>2.822484</td>\n",
       "      <td>12.320390</td>\n",
       "      <td>2.261123</td>\n",
       "      <td>8.721284</td>\n",
       "    </tr>\n",
       "    <tr>\n",
       "      <th>2017-10-14 03:59:59</th>\n",
       "      <td>7.093451</td>\n",
       "      <td>8.205597</td>\n",
       "      <td>3.118238</td>\n",
       "      <td>39.145974</td>\n",
       "      <td>469.429626</td>\n",
       "      <td>67.478999</td>\n",
       "      <td>8.860904</td>\n",
       "      <td>5.994986</td>\n",
       "      <td>1200.766089</td>\n",
       "      <td>-300.293541</td>\n",
       "      <td>...</td>\n",
       "      <td>2.607754</td>\n",
       "      <td>42.525172</td>\n",
       "      <td>6.185016</td>\n",
       "      <td>10.983289</td>\n",
       "      <td>8.938107</td>\n",
       "      <td>73.174197</td>\n",
       "      <td>2.167429</td>\n",
       "      <td>10.477601</td>\n",
       "      <td>1.716473</td>\n",
       "      <td>8.469551</td>\n",
       "    </tr>\n",
       "    <tr>\n",
       "      <th>2017-10-14 04:59:59</th>\n",
       "      <td>6.846402</td>\n",
       "      <td>8.080993</td>\n",
       "      <td>2.937962</td>\n",
       "      <td>37.043624</td>\n",
       "      <td>449.931478</td>\n",
       "      <td>58.104492</td>\n",
       "      <td>7.333421</td>\n",
       "      <td>6.005524</td>\n",
       "      <td>1199.691718</td>\n",
       "      <td>-300.190339</td>\n",
       "      <td>...</td>\n",
       "      <td>2.607754</td>\n",
       "      <td>43.277438</td>\n",
       "      <td>5.895141</td>\n",
       "      <td>10.905893</td>\n",
       "      <td>8.076653</td>\n",
       "      <td>72.618404</td>\n",
       "      <td>2.117968</td>\n",
       "      <td>10.431080</td>\n",
       "      <td>1.777704</td>\n",
       "      <td>7.308982</td>\n",
       "    </tr>\n",
       "    <tr>\n",
       "      <th>2017-10-14 11:59:59</th>\n",
       "      <td>6.777035</td>\n",
       "      <td>7.865554</td>\n",
       "      <td>3.041000</td>\n",
       "      <td>36.331345</td>\n",
       "      <td>452.252766</td>\n",
       "      <td>56.235310</td>\n",
       "      <td>6.996346</td>\n",
       "      <td>5.999497</td>\n",
       "      <td>1199.691148</td>\n",
       "      <td>-299.725592</td>\n",
       "      <td>...</td>\n",
       "      <td>2.607754</td>\n",
       "      <td>44.833258</td>\n",
       "      <td>5.318046</td>\n",
       "      <td>10.363597</td>\n",
       "      <td>7.823090</td>\n",
       "      <td>69.966319</td>\n",
       "      <td>2.276119</td>\n",
       "      <td>10.494856</td>\n",
       "      <td>1.902561</td>\n",
       "      <td>6.421239</td>\n",
       "    </tr>\n",
       "    <tr>\n",
       "      <th>2017-10-14 12:59:59</th>\n",
       "      <td>6.670748</td>\n",
       "      <td>7.653069</td>\n",
       "      <td>3.055419</td>\n",
       "      <td>36.606267</td>\n",
       "      <td>499.010289</td>\n",
       "      <td>56.492193</td>\n",
       "      <td>7.197295</td>\n",
       "      <td>6.006284</td>\n",
       "      <td>1197.976143</td>\n",
       "      <td>-299.793875</td>\n",
       "      <td>...</td>\n",
       "      <td>2.607754</td>\n",
       "      <td>43.825298</td>\n",
       "      <td>5.596762</td>\n",
       "      <td>10.634315</td>\n",
       "      <td>7.833930</td>\n",
       "      <td>69.036244</td>\n",
       "      <td>2.308047</td>\n",
       "      <td>10.305114</td>\n",
       "      <td>1.911516</td>\n",
       "      <td>6.048201</td>\n",
       "    </tr>\n",
       "    <tr>\n",
       "      <th>2017-10-14 13:59:59</th>\n",
       "      <td>6.515375</td>\n",
       "      <td>7.598806</td>\n",
       "      <td>2.974508</td>\n",
       "      <td>36.388249</td>\n",
       "      <td>535.115022</td>\n",
       "      <td>56.492531</td>\n",
       "      <td>7.803673</td>\n",
       "      <td>6.000424</td>\n",
       "      <td>1196.865807</td>\n",
       "      <td>-299.730056</td>\n",
       "      <td>...</td>\n",
       "      <td>2.607754</td>\n",
       "      <td>44.423066</td>\n",
       "      <td>5.331514</td>\n",
       "      <td>11.085578</td>\n",
       "      <td>7.612998</td>\n",
       "      <td>68.755934</td>\n",
       "      <td>2.263971</td>\n",
       "      <td>10.369490</td>\n",
       "      <td>1.904403</td>\n",
       "      <td>6.163386</td>\n",
       "    </tr>\n",
       "    <tr>\n",
       "      <th>2017-10-14 14:59:59</th>\n",
       "      <td>6.336843</td>\n",
       "      <td>7.381797</td>\n",
       "      <td>2.872916</td>\n",
       "      <td>36.823038</td>\n",
       "      <td>580.087360</td>\n",
       "      <td>56.492869</td>\n",
       "      <td>8.259757</td>\n",
       "      <td>6.000975</td>\n",
       "      <td>1200.137091</td>\n",
       "      <td>-300.055183</td>\n",
       "      <td>...</td>\n",
       "      <td>2.607754</td>\n",
       "      <td>45.127819</td>\n",
       "      <td>5.097291</td>\n",
       "      <td>10.976357</td>\n",
       "      <td>7.425483</td>\n",
       "      <td>67.521460</td>\n",
       "      <td>2.273691</td>\n",
       "      <td>9.947217</td>\n",
       "      <td>1.870494</td>\n",
       "      <td>6.905415</td>\n",
       "    </tr>\n",
       "    <tr>\n",
       "      <th>2017-10-14 15:59:59</th>\n",
       "      <td>6.063214</td>\n",
       "      <td>7.263733</td>\n",
       "      <td>2.690252</td>\n",
       "      <td>37.899202</td>\n",
       "      <td>541.614886</td>\n",
       "      <td>56.493206</td>\n",
       "      <td>7.768199</td>\n",
       "      <td>5.998493</td>\n",
       "      <td>1206.143764</td>\n",
       "      <td>-300.047579</td>\n",
       "      <td>...</td>\n",
       "      <td>2.607754</td>\n",
       "      <td>46.217237</td>\n",
       "      <td>4.796146</td>\n",
       "      <td>10.666793</td>\n",
       "      <td>7.449378</td>\n",
       "      <td>65.310326</td>\n",
       "      <td>2.300409</td>\n",
       "      <td>9.580758</td>\n",
       "      <td>1.859688</td>\n",
       "      <td>7.600167</td>\n",
       "    </tr>\n",
       "    <tr>\n",
       "      <th>2017-10-14 16:59:59</th>\n",
       "      <td>6.052977</td>\n",
       "      <td>7.192295</td>\n",
       "      <td>2.707108</td>\n",
       "      <td>38.061088</td>\n",
       "      <td>570.405499</td>\n",
       "      <td>56.493544</td>\n",
       "      <td>7.600558</td>\n",
       "      <td>6.002209</td>\n",
       "      <td>1198.283560</td>\n",
       "      <td>-300.202865</td>\n",
       "      <td>...</td>\n",
       "      <td>2.607754</td>\n",
       "      <td>47.017610</td>\n",
       "      <td>4.579082</td>\n",
       "      <td>10.392268</td>\n",
       "      <td>7.949529</td>\n",
       "      <td>67.962788</td>\n",
       "      <td>2.125143</td>\n",
       "      <td>9.156723</td>\n",
       "      <td>1.703207</td>\n",
       "      <td>8.506100</td>\n",
       "    </tr>\n",
       "    <tr>\n",
       "      <th>2017-10-14 17:59:59</th>\n",
       "      <td>6.736395</td>\n",
       "      <td>7.640958</td>\n",
       "      <td>3.102239</td>\n",
       "      <td>39.581957</td>\n",
       "      <td>603.828767</td>\n",
       "      <td>56.493881</td>\n",
       "      <td>8.776707</td>\n",
       "      <td>6.003504</td>\n",
       "      <td>1196.861280</td>\n",
       "      <td>-299.560782</td>\n",
       "      <td>...</td>\n",
       "      <td>2.607754</td>\n",
       "      <td>46.575828</td>\n",
       "      <td>4.721623</td>\n",
       "      <td>10.458483</td>\n",
       "      <td>7.879131</td>\n",
       "      <td>70.430947</td>\n",
       "      <td>2.217808</td>\n",
       "      <td>9.217838</td>\n",
       "      <td>1.811741</td>\n",
       "      <td>8.467872</td>\n",
       "    </tr>\n",
       "    <tr>\n",
       "      <th>2017-10-14 18:59:59</th>\n",
       "      <td>7.242145</td>\n",
       "      <td>8.215295</td>\n",
       "      <td>3.397540</td>\n",
       "      <td>39.776459</td>\n",
       "      <td>621.508411</td>\n",
       "      <td>56.494219</td>\n",
       "      <td>9.868970</td>\n",
       "      <td>5.999318</td>\n",
       "      <td>1201.330031</td>\n",
       "      <td>-299.908714</td>\n",
       "      <td>...</td>\n",
       "      <td>2.607754</td>\n",
       "      <td>46.901379</td>\n",
       "      <td>4.642588</td>\n",
       "      <td>10.388878</td>\n",
       "      <td>7.976871</td>\n",
       "      <td>71.138378</td>\n",
       "      <td>2.348134</td>\n",
       "      <td>9.443956</td>\n",
       "      <td>1.951900</td>\n",
       "      <td>8.966072</td>\n",
       "    </tr>\n",
       "    <tr>\n",
       "      <th>2017-10-14 19:59:59</th>\n",
       "      <td>7.121803</td>\n",
       "      <td>8.292443</td>\n",
       "      <td>3.264683</td>\n",
       "      <td>40.555007</td>\n",
       "      <td>553.558484</td>\n",
       "      <td>56.494768</td>\n",
       "      <td>9.903913</td>\n",
       "      <td>6.592099</td>\n",
       "      <td>1201.169191</td>\n",
       "      <td>-300.682197</td>\n",
       "      <td>...</td>\n",
       "      <td>2.021586</td>\n",
       "      <td>45.581985</td>\n",
       "      <td>4.962091</td>\n",
       "      <td>10.710637</td>\n",
       "      <td>8.672799</td>\n",
       "      <td>67.187304</td>\n",
       "      <td>2.610938</td>\n",
       "      <td>10.206823</td>\n",
       "      <td>2.224774</td>\n",
       "      <td>9.163976</td>\n",
       "    </tr>\n",
       "    <tr>\n",
       "      <th>2017-10-14 20:59:59</th>\n",
       "      <td>6.434599</td>\n",
       "      <td>7.920993</td>\n",
       "      <td>2.827380</td>\n",
       "      <td>40.492128</td>\n",
       "      <td>585.471858</td>\n",
       "      <td>56.497088</td>\n",
       "      <td>9.461826</td>\n",
       "      <td>6.999711</td>\n",
       "      <td>1199.513152</td>\n",
       "      <td>-299.709588</td>\n",
       "      <td>...</td>\n",
       "      <td>1.996292</td>\n",
       "      <td>44.545999</td>\n",
       "      <td>5.510057</td>\n",
       "      <td>10.622372</td>\n",
       "      <td>8.949570</td>\n",
       "      <td>68.062130</td>\n",
       "      <td>2.279148</td>\n",
       "      <td>10.219740</td>\n",
       "      <td>2.033676</td>\n",
       "      <td>8.907780</td>\n",
       "    </tr>\n",
       "    <tr>\n",
       "      <th>2017-10-15 02:59:59</th>\n",
       "      <td>4.436384</td>\n",
       "      <td>7.101248</td>\n",
       "      <td>1.533528</td>\n",
       "      <td>41.581423</td>\n",
       "      <td>578.703315</td>\n",
       "      <td>56.499806</td>\n",
       "      <td>8.040675</td>\n",
       "      <td>5.988365</td>\n",
       "      <td>1198.982259</td>\n",
       "      <td>-299.940074</td>\n",
       "      <td>...</td>\n",
       "      <td>2.144401</td>\n",
       "      <td>42.431382</td>\n",
       "      <td>6.370225</td>\n",
       "      <td>11.200976</td>\n",
       "      <td>8.808717</td>\n",
       "      <td>62.643957</td>\n",
       "      <td>1.773410</td>\n",
       "      <td>9.870631</td>\n",
       "      <td>1.463475</td>\n",
       "      <td>9.094301</td>\n",
       "    </tr>\n",
       "    <tr>\n",
       "      <th>2017-10-15 03:59:59</th>\n",
       "      <td>2.450551</td>\n",
       "      <td>6.648316</td>\n",
       "      <td>1.533528</td>\n",
       "      <td>41.739046</td>\n",
       "      <td>574.378897</td>\n",
       "      <td>56.502525</td>\n",
       "      <td>5.053696</td>\n",
       "      <td>5.498925</td>\n",
       "      <td>1201.251521</td>\n",
       "      <td>-300.018283</td>\n",
       "      <td>...</td>\n",
       "      <td>2.144401</td>\n",
       "      <td>43.799048</td>\n",
       "      <td>5.936281</td>\n",
       "      <td>10.628963</td>\n",
       "      <td>8.094710</td>\n",
       "      <td>42.942625</td>\n",
       "      <td>1.432641</td>\n",
       "      <td>9.324558</td>\n",
       "      <td>0.987726</td>\n",
       "      <td>9.450270</td>\n",
       "    </tr>\n",
       "    <tr>\n",
       "      <th>2017-10-15 04:59:59</th>\n",
       "      <td>0.889864</td>\n",
       "      <td>6.513687</td>\n",
       "      <td>1.533528</td>\n",
       "      <td>36.353870</td>\n",
       "      <td>582.998177</td>\n",
       "      <td>56.507025</td>\n",
       "      <td>4.997086</td>\n",
       "      <td>4.799549</td>\n",
       "      <td>1205.104984</td>\n",
       "      <td>-300.210732</td>\n",
       "      <td>...</td>\n",
       "      <td>2.144401</td>\n",
       "      <td>50.518813</td>\n",
       "      <td>5.644008</td>\n",
       "      <td>6.994057</td>\n",
       "      <td>7.987903</td>\n",
       "      <td>0.430264</td>\n",
       "      <td>0.886103</td>\n",
       "      <td>8.709877</td>\n",
       "      <td>0.987726</td>\n",
       "      <td>8.533550</td>\n",
       "    </tr>\n",
       "    <tr>\n",
       "      <th>2017-10-15 05:59:59</th>\n",
       "      <td>0.825207</td>\n",
       "      <td>6.341264</td>\n",
       "      <td>1.533528</td>\n",
       "      <td>37.074476</td>\n",
       "      <td>590.158751</td>\n",
       "      <td>56.502182</td>\n",
       "      <td>4.981458</td>\n",
       "      <td>4.795947</td>\n",
       "      <td>1200.270892</td>\n",
       "      <td>-299.881545</td>\n",
       "      <td>...</td>\n",
       "      <td>2.144401</td>\n",
       "      <td>48.817110</td>\n",
       "      <td>6.213038</td>\n",
       "      <td>6.413989</td>\n",
       "      <td>8.579746</td>\n",
       "      <td>64.661004</td>\n",
       "      <td>0.294842</td>\n",
       "      <td>3.700625</td>\n",
       "      <td>0.987726</td>\n",
       "      <td>4.558537</td>\n",
       "    </tr>\n",
       "    <tr>\n",
       "      <th>2017-10-15 06:59:59</th>\n",
       "      <td>0.761151</td>\n",
       "      <td>6.208773</td>\n",
       "      <td>1.533528</td>\n",
       "      <td>35.578858</td>\n",
       "      <td>582.163034</td>\n",
       "      <td>56.497339</td>\n",
       "      <td>5.001577</td>\n",
       "      <td>4.798218</td>\n",
       "      <td>1199.947796</td>\n",
       "      <td>-300.138610</td>\n",
       "      <td>...</td>\n",
       "      <td>0.567186</td>\n",
       "      <td>46.489701</td>\n",
       "      <td>7.457426</td>\n",
       "      <td>6.742723</td>\n",
       "      <td>8.613503</td>\n",
       "      <td>14.897570</td>\n",
       "      <td>0.649341</td>\n",
       "      <td>8.125589</td>\n",
       "      <td>0.987726</td>\n",
       "      <td>9.855286</td>\n",
       "    </tr>\n",
       "    <tr>\n",
       "      <th>2017-10-15 07:59:59</th>\n",
       "      <td>1.078093</td>\n",
       "      <td>6.440724</td>\n",
       "      <td>1.533528</td>\n",
       "      <td>37.779850</td>\n",
       "      <td>531.087011</td>\n",
       "      <td>56.487652</td>\n",
       "      <td>4.999422</td>\n",
       "      <td>4.799903</td>\n",
       "      <td>1201.166496</td>\n",
       "      <td>-299.523726</td>\n",
       "      <td>...</td>\n",
       "      <td>0.193370</td>\n",
       "      <td>48.325457</td>\n",
       "      <td>6.637425</td>\n",
       "      <td>6.411211</td>\n",
       "      <td>8.447781</td>\n",
       "      <td>34.915523</td>\n",
       "      <td>0.707180</td>\n",
       "      <td>8.353175</td>\n",
       "      <td>0.987726</td>\n",
       "      <td>9.306899</td>\n",
       "    </tr>\n",
       "    <tr>\n",
       "      <th>2017-10-15 08:59:59</th>\n",
       "      <td>1.672941</td>\n",
       "      <td>6.581641</td>\n",
       "      <td>1.533528</td>\n",
       "      <td>36.416716</td>\n",
       "      <td>560.362328</td>\n",
       "      <td>56.482809</td>\n",
       "      <td>4.990482</td>\n",
       "      <td>4.799624</td>\n",
       "      <td>1198.967980</td>\n",
       "      <td>-300.365650</td>\n",
       "      <td>...</td>\n",
       "      <td>0.924876</td>\n",
       "      <td>46.377506</td>\n",
       "      <td>7.233254</td>\n",
       "      <td>6.697980</td>\n",
       "      <td>8.527600</td>\n",
       "      <td>65.060229</td>\n",
       "      <td>0.598569</td>\n",
       "      <td>7.987048</td>\n",
       "      <td>0.987726</td>\n",
       "      <td>10.215579</td>\n",
       "    </tr>\n",
       "    <tr>\n",
       "      <th>2017-10-15 09:59:59</th>\n",
       "      <td>1.311574</td>\n",
       "      <td>6.626243</td>\n",
       "      <td>1.533528</td>\n",
       "      <td>36.940068</td>\n",
       "      <td>561.801425</td>\n",
       "      <td>56.478425</td>\n",
       "      <td>5.000573</td>\n",
       "      <td>4.799043</td>\n",
       "      <td>1195.149652</td>\n",
       "      <td>-300.074560</td>\n",
       "      <td>...</td>\n",
       "      <td>1.105374</td>\n",
       "      <td>42.965881</td>\n",
       "      <td>8.688559</td>\n",
       "      <td>7.380623</td>\n",
       "      <td>9.018584</td>\n",
       "      <td>41.081508</td>\n",
       "      <td>0.782573</td>\n",
       "      <td>8.308875</td>\n",
       "      <td>0.987726</td>\n",
       "      <td>9.790457</td>\n",
       "    </tr>\n",
       "    <tr>\n",
       "      <th>2017-10-15 10:59:59</th>\n",
       "      <td>0.804901</td>\n",
       "      <td>6.418922</td>\n",
       "      <td>1.533528</td>\n",
       "      <td>37.420139</td>\n",
       "      <td>552.400782</td>\n",
       "      <td>56.477885</td>\n",
       "      <td>5.007551</td>\n",
       "      <td>4.802509</td>\n",
       "      <td>1200.510169</td>\n",
       "      <td>-300.238284</td>\n",
       "      <td>...</td>\n",
       "      <td>1.435295</td>\n",
       "      <td>42.040614</td>\n",
       "      <td>9.043685</td>\n",
       "      <td>7.362974</td>\n",
       "      <td>9.185215</td>\n",
       "      <td>20.463275</td>\n",
       "      <td>0.642710</td>\n",
       "      <td>7.818218</td>\n",
       "      <td>0.987726</td>\n",
       "      <td>10.449996</td>\n",
       "    </tr>\n",
       "    <tr>\n",
       "      <th>2017-10-15 11:59:59</th>\n",
       "      <td>0.625968</td>\n",
       "      <td>6.245201</td>\n",
       "      <td>1.533528</td>\n",
       "      <td>38.735277</td>\n",
       "      <td>570.367796</td>\n",
       "      <td>56.479190</td>\n",
       "      <td>4.997247</td>\n",
       "      <td>4.797275</td>\n",
       "      <td>1200.282902</td>\n",
       "      <td>-299.968159</td>\n",
       "      <td>...</td>\n",
       "      <td>0.207111</td>\n",
       "      <td>50.782987</td>\n",
       "      <td>5.744461</td>\n",
       "      <td>5.963940</td>\n",
       "      <td>8.371210</td>\n",
       "      <td>19.043614</td>\n",
       "      <td>0.507954</td>\n",
       "      <td>7.943413</td>\n",
       "      <td>0.987726</td>\n",
       "      <td>10.325040</td>\n",
       "    </tr>\n",
       "    <tr>\n",
       "      <th>2017-10-15 12:59:59</th>\n",
       "      <td>1.009195</td>\n",
       "      <td>6.550959</td>\n",
       "      <td>1.533528</td>\n",
       "      <td>37.873943</td>\n",
       "      <td>570.564679</td>\n",
       "      <td>56.479516</td>\n",
       "      <td>5.004217</td>\n",
       "      <td>4.799253</td>\n",
       "      <td>1201.535305</td>\n",
       "      <td>-300.004633</td>\n",
       "      <td>...</td>\n",
       "      <td>0.951895</td>\n",
       "      <td>48.739132</td>\n",
       "      <td>6.395027</td>\n",
       "      <td>6.291038</td>\n",
       "      <td>8.422818</td>\n",
       "      <td>54.507538</td>\n",
       "      <td>0.464348</td>\n",
       "      <td>7.761918</td>\n",
       "      <td>0.987726</td>\n",
       "      <td>10.688040</td>\n",
       "    </tr>\n",
       "    <tr>\n",
       "      <th>2017-10-15 13:59:59</th>\n",
       "      <td>1.346732</td>\n",
       "      <td>6.959553</td>\n",
       "      <td>1.533528</td>\n",
       "      <td>38.651286</td>\n",
       "      <td>569.399284</td>\n",
       "      <td>56.479842</td>\n",
       "      <td>4.995212</td>\n",
       "      <td>4.794168</td>\n",
       "      <td>1203.074292</td>\n",
       "      <td>-300.178032</td>\n",
       "      <td>...</td>\n",
       "      <td>1.079404</td>\n",
       "      <td>44.836669</td>\n",
       "      <td>8.037752</td>\n",
       "      <td>6.945479</td>\n",
       "      <td>8.800560</td>\n",
       "      <td>53.815399</td>\n",
       "      <td>0.632202</td>\n",
       "      <td>8.278165</td>\n",
       "      <td>0.987726</td>\n",
       "      <td>10.327329</td>\n",
       "    </tr>\n",
       "    <tr>\n",
       "      <th>2017-10-15 14:59:59</th>\n",
       "      <td>1.282436</td>\n",
       "      <td>6.836801</td>\n",
       "      <td>1.533528</td>\n",
       "      <td>38.904236</td>\n",
       "      <td>569.865238</td>\n",
       "      <td>56.480237</td>\n",
       "      <td>5.006907</td>\n",
       "      <td>4.799384</td>\n",
       "      <td>1196.604117</td>\n",
       "      <td>-299.839863</td>\n",
       "      <td>...</td>\n",
       "      <td>1.416502</td>\n",
       "      <td>42.360070</td>\n",
       "      <td>9.128393</td>\n",
       "      <td>6.946766</td>\n",
       "      <td>9.352803</td>\n",
       "      <td>50.704544</td>\n",
       "      <td>0.642038</td>\n",
       "      <td>8.275564</td>\n",
       "      <td>0.987726</td>\n",
       "      <td>10.398681</td>\n",
       "    </tr>\n",
       "    <tr>\n",
       "      <th>2017-10-15 15:59:59</th>\n",
       "      <td>1.346023</td>\n",
       "      <td>6.451814</td>\n",
       "      <td>1.533528</td>\n",
       "      <td>38.046686</td>\n",
       "      <td>569.852654</td>\n",
       "      <td>56.481200</td>\n",
       "      <td>5.014609</td>\n",
       "      <td>4.805323</td>\n",
       "      <td>1203.962312</td>\n",
       "      <td>-299.835757</td>\n",
       "      <td>...</td>\n",
       "      <td>2.178320</td>\n",
       "      <td>45.396962</td>\n",
       "      <td>7.811325</td>\n",
       "      <td>6.708923</td>\n",
       "      <td>9.026779</td>\n",
       "      <td>61.744202</td>\n",
       "      <td>0.524534</td>\n",
       "      <td>8.093762</td>\n",
       "      <td>0.987726</td>\n",
       "      <td>11.069705</td>\n",
       "    </tr>\n",
       "    <tr>\n",
       "      <th>2017-10-15 16:59:59</th>\n",
       "      <td>1.273064</td>\n",
       "      <td>6.303886</td>\n",
       "      <td>1.533528</td>\n",
       "      <td>37.507215</td>\n",
       "      <td>569.943674</td>\n",
       "      <td>56.482292</td>\n",
       "      <td>4.994334</td>\n",
       "      <td>4.800639</td>\n",
       "      <td>1200.072170</td>\n",
       "      <td>-299.707898</td>\n",
       "      <td>...</td>\n",
       "      <td>1.682406</td>\n",
       "      <td>48.317604</td>\n",
       "      <td>6.333921</td>\n",
       "      <td>6.766861</td>\n",
       "      <td>8.528488</td>\n",
       "      <td>50.967513</td>\n",
       "      <td>0.632712</td>\n",
       "      <td>8.116107</td>\n",
       "      <td>0.987726</td>\n",
       "      <td>11.018712</td>\n",
       "    </tr>\n",
       "    <tr>\n",
       "      <th>2017-10-15 17:59:59</th>\n",
       "      <td>1.098781</td>\n",
       "      <td>6.278603</td>\n",
       "      <td>1.533528</td>\n",
       "      <td>37.602376</td>\n",
       "      <td>549.362559</td>\n",
       "      <td>56.483383</td>\n",
       "      <td>5.002251</td>\n",
       "      <td>4.798314</td>\n",
       "      <td>1197.967903</td>\n",
       "      <td>-299.995413</td>\n",
       "      <td>...</td>\n",
       "      <td>0.726765</td>\n",
       "      <td>47.622134</td>\n",
       "      <td>6.761821</td>\n",
       "      <td>6.757330</td>\n",
       "      <td>8.687354</td>\n",
       "      <td>34.672747</td>\n",
       "      <td>0.723592</td>\n",
       "      <td>8.127059</td>\n",
       "      <td>0.987726</td>\n",
       "      <td>10.495468</td>\n",
       "    </tr>\n",
       "    <tr>\n",
       "      <th>2017-10-15 18:59:59</th>\n",
       "      <td>1.026481</td>\n",
       "      <td>6.398192</td>\n",
       "      <td>1.533528</td>\n",
       "      <td>38.135109</td>\n",
       "      <td>570.619260</td>\n",
       "      <td>56.484475</td>\n",
       "      <td>4.995016</td>\n",
       "      <td>4.801058</td>\n",
       "      <td>1198.242398</td>\n",
       "      <td>-300.004824</td>\n",
       "      <td>...</td>\n",
       "      <td>0.458279</td>\n",
       "      <td>49.553446</td>\n",
       "      <td>5.964556</td>\n",
       "      <td>6.380821</td>\n",
       "      <td>8.495509</td>\n",
       "      <td>39.030750</td>\n",
       "      <td>0.630939</td>\n",
       "      <td>8.050590</td>\n",
       "      <td>0.987726</td>\n",
       "      <td>10.463800</td>\n",
       "    </tr>\n",
       "    <tr>\n",
       "      <th>2017-10-15 19:59:59</th>\n",
       "      <td>1.270686</td>\n",
       "      <td>6.655790</td>\n",
       "      <td>1.533528</td>\n",
       "      <td>38.554759</td>\n",
       "      <td>569.727393</td>\n",
       "      <td>56.485566</td>\n",
       "      <td>4.989635</td>\n",
       "      <td>4.805048</td>\n",
       "      <td>1202.325287</td>\n",
       "      <td>-300.062234</td>\n",
       "      <td>...</td>\n",
       "      <td>0.510706</td>\n",
       "      <td>51.090024</td>\n",
       "      <td>5.195237</td>\n",
       "      <td>6.359623</td>\n",
       "      <td>8.288420</td>\n",
       "      <td>52.110869</td>\n",
       "      <td>0.616511</td>\n",
       "      <td>8.185545</td>\n",
       "      <td>0.987726</td>\n",
       "      <td>10.414960</td>\n",
       "    </tr>\n",
       "    <tr>\n",
       "      <th>2017-10-15 20:59:59</th>\n",
       "      <td>1.410684</td>\n",
       "      <td>7.125191</td>\n",
       "      <td>1.533528</td>\n",
       "      <td>38.813638</td>\n",
       "      <td>561.414742</td>\n",
       "      <td>56.486658</td>\n",
       "      <td>5.017819</td>\n",
       "      <td>4.796846</td>\n",
       "      <td>1197.292859</td>\n",
       "      <td>-300.109495</td>\n",
       "      <td>...</td>\n",
       "      <td>1.270713</td>\n",
       "      <td>49.612065</td>\n",
       "      <td>5.641310</td>\n",
       "      <td>6.890410</td>\n",
       "      <td>8.356592</td>\n",
       "      <td>53.895320</td>\n",
       "      <td>0.660513</td>\n",
       "      <td>8.512625</td>\n",
       "      <td>0.987726</td>\n",
       "      <td>10.392027</td>\n",
       "    </tr>\n",
       "    <tr>\n",
       "      <th>2017-10-15 21:59:59</th>\n",
       "      <td>1.165253</td>\n",
       "      <td>7.017650</td>\n",
       "      <td>1.533528</td>\n",
       "      <td>39.100910</td>\n",
       "      <td>569.607160</td>\n",
       "      <td>56.487749</td>\n",
       "      <td>4.997346</td>\n",
       "      <td>4.804888</td>\n",
       "      <td>1199.146013</td>\n",
       "      <td>-299.883866</td>\n",
       "      <td>...</td>\n",
       "      <td>1.547558</td>\n",
       "      <td>48.037633</td>\n",
       "      <td>6.248852</td>\n",
       "      <td>7.101664</td>\n",
       "      <td>8.536576</td>\n",
       "      <td>45.922496</td>\n",
       "      <td>0.637238</td>\n",
       "      <td>8.496171</td>\n",
       "      <td>0.987726</td>\n",
       "      <td>10.663011</td>\n",
       "    </tr>\n",
       "    <tr>\n",
       "      <th>2017-10-15 22:59:59</th>\n",
       "      <td>1.052710</td>\n",
       "      <td>7.008399</td>\n",
       "      <td>1.533528</td>\n",
       "      <td>38.246504</td>\n",
       "      <td>565.921970</td>\n",
       "      <td>60.923540</td>\n",
       "      <td>5.000140</td>\n",
       "      <td>4.796442</td>\n",
       "      <td>1199.842051</td>\n",
       "      <td>-299.992846</td>\n",
       "      <td>...</td>\n",
       "      <td>1.736730</td>\n",
       "      <td>48.600206</td>\n",
       "      <td>6.100038</td>\n",
       "      <td>6.896075</td>\n",
       "      <td>8.425051</td>\n",
       "      <td>34.992885</td>\n",
       "      <td>0.689563</td>\n",
       "      <td>8.801241</td>\n",
       "      <td>0.987726</td>\n",
       "      <td>10.677922</td>\n",
       "    </tr>\n",
       "    <tr>\n",
       "      <th>2017-10-15 23:59:59</th>\n",
       "      <td>0.983689</td>\n",
       "      <td>7.067142</td>\n",
       "      <td>1.533528</td>\n",
       "      <td>38.450828</td>\n",
       "      <td>568.454226</td>\n",
       "      <td>76.191942</td>\n",
       "      <td>5.004341</td>\n",
       "      <td>4.797644</td>\n",
       "      <td>1200.087249</td>\n",
       "      <td>-300.153145</td>\n",
       "      <td>...</td>\n",
       "      <td>1.799360</td>\n",
       "      <td>48.738412</td>\n",
       "      <td>6.008527</td>\n",
       "      <td>6.689680</td>\n",
       "      <td>8.386018</td>\n",
       "      <td>36.563351</td>\n",
       "      <td>0.628658</td>\n",
       "      <td>8.673850</td>\n",
       "      <td>0.987726</td>\n",
       "      <td>10.853418</td>\n",
       "    </tr>\n",
       "    <tr>\n",
       "      <th>2017-10-16 00:59:59</th>\n",
       "      <td>0.588152</td>\n",
       "      <td>5.033413</td>\n",
       "      <td>1.533528</td>\n",
       "      <td>30.485788</td>\n",
       "      <td>570.017198</td>\n",
       "      <td>71.837962</td>\n",
       "      <td>4.995690</td>\n",
       "      <td>4.801282</td>\n",
       "      <td>1200.055786</td>\n",
       "      <td>-299.823773</td>\n",
       "      <td>...</td>\n",
       "      <td>1.865930</td>\n",
       "      <td>37.661198</td>\n",
       "      <td>4.249354</td>\n",
       "      <td>4.818045</td>\n",
       "      <td>6.261201</td>\n",
       "      <td>49.700340</td>\n",
       "      <td>0.298153</td>\n",
       "      <td>6.017004</td>\n",
       "      <td>0.987726</td>\n",
       "      <td>8.980613</td>\n",
       "    </tr>\n",
       "    <tr>\n",
       "      <th>2017-10-16 01:59:59</th>\n",
       "      <td>0.748198</td>\n",
       "      <td>6.346726</td>\n",
       "      <td>1.533528</td>\n",
       "      <td>38.855149</td>\n",
       "      <td>569.700263</td>\n",
       "      <td>70.994351</td>\n",
       "      <td>4.999914</td>\n",
       "      <td>4.799302</td>\n",
       "      <td>1204.051143</td>\n",
       "      <td>-300.252936</td>\n",
       "      <td>...</td>\n",
       "      <td>2.624193</td>\n",
       "      <td>49.262176</td>\n",
       "      <td>5.144048</td>\n",
       "      <td>6.040549</td>\n",
       "      <td>7.959123</td>\n",
       "      <td>64.256167</td>\n",
       "      <td>0.270070</td>\n",
       "      <td>7.335967</td>\n",
       "      <td>0.987726</td>\n",
       "      <td>12.209812</td>\n",
       "    </tr>\n",
       "    <tr>\n",
       "      <th>2017-10-16 02:59:59</th>\n",
       "      <td>0.864044</td>\n",
       "      <td>6.457922</td>\n",
       "      <td>1.533528</td>\n",
       "      <td>39.209439</td>\n",
       "      <td>557.895772</td>\n",
       "      <td>76.054773</td>\n",
       "      <td>4.997095</td>\n",
       "      <td>4.803104</td>\n",
       "      <td>1200.000390</td>\n",
       "      <td>-300.095828</td>\n",
       "      <td>...</td>\n",
       "      <td>1.952814</td>\n",
       "      <td>49.693917</td>\n",
       "      <td>5.262120</td>\n",
       "      <td>6.276003</td>\n",
       "      <td>8.100833</td>\n",
       "      <td>48.083497</td>\n",
       "      <td>0.452363</td>\n",
       "      <td>8.056439</td>\n",
       "      <td>0.987726</td>\n",
       "      <td>11.230646</td>\n",
       "    </tr>\n",
       "    <tr>\n",
       "      <th>2017-10-16 03:59:59</th>\n",
       "      <td>1.191160</td>\n",
       "      <td>6.848966</td>\n",
       "      <td>1.533528</td>\n",
       "      <td>39.004020</td>\n",
       "      <td>570.442527</td>\n",
       "      <td>76.607974</td>\n",
       "      <td>5.006776</td>\n",
       "      <td>4.796710</td>\n",
       "      <td>1196.882912</td>\n",
       "      <td>-300.035472</td>\n",
       "      <td>...</td>\n",
       "      <td>1.236439</td>\n",
       "      <td>50.903938</td>\n",
       "      <td>5.066737</td>\n",
       "      <td>6.391089</td>\n",
       "      <td>8.087806</td>\n",
       "      <td>56.470818</td>\n",
       "      <td>0.525445</td>\n",
       "      <td>8.262009</td>\n",
       "      <td>0.987726</td>\n",
       "      <td>10.972817</td>\n",
       "    </tr>\n",
       "    <tr>\n",
       "      <th>2017-10-16 04:59:59</th>\n",
       "      <td>1.304652</td>\n",
       "      <td>6.963178</td>\n",
       "      <td>1.533528</td>\n",
       "      <td>38.779004</td>\n",
       "      <td>568.048295</td>\n",
       "      <td>75.931777</td>\n",
       "      <td>5.000912</td>\n",
       "      <td>4.796658</td>\n",
       "      <td>1199.428619</td>\n",
       "      <td>-300.147095</td>\n",
       "      <td>...</td>\n",
       "      <td>1.558270</td>\n",
       "      <td>50.774433</td>\n",
       "      <td>4.965457</td>\n",
       "      <td>6.409620</td>\n",
       "      <td>8.083419</td>\n",
       "      <td>57.955671</td>\n",
       "      <td>0.556824</td>\n",
       "      <td>8.401101</td>\n",
       "      <td>0.987726</td>\n",
       "      <td>10.978623</td>\n",
       "    </tr>\n",
       "    <tr>\n",
       "      <th>2017-10-16 05:59:59</th>\n",
       "      <td>1.208219</td>\n",
       "      <td>6.895686</td>\n",
       "      <td>1.533528</td>\n",
       "      <td>38.948144</td>\n",
       "      <td>570.755970</td>\n",
       "      <td>75.697791</td>\n",
       "      <td>4.991161</td>\n",
       "      <td>4.797556</td>\n",
       "      <td>1199.683852</td>\n",
       "      <td>-300.195312</td>\n",
       "      <td>...</td>\n",
       "      <td>1.853631</td>\n",
       "      <td>50.260437</td>\n",
       "      <td>5.119908</td>\n",
       "      <td>6.598090</td>\n",
       "      <td>8.205742</td>\n",
       "      <td>52.197084</td>\n",
       "      <td>0.584903</td>\n",
       "      <td>8.593900</td>\n",
       "      <td>0.987726</td>\n",
       "      <td>10.815565</td>\n",
       "    </tr>\n",
       "    <tr>\n",
       "      <th>2017-10-16 06:59:59</th>\n",
       "      <td>1.082692</td>\n",
       "      <td>6.712135</td>\n",
       "      <td>1.533528</td>\n",
       "      <td>38.462870</td>\n",
       "      <td>569.808047</td>\n",
       "      <td>75.083097</td>\n",
       "      <td>4.996435</td>\n",
       "      <td>4.803483</td>\n",
       "      <td>1203.415858</td>\n",
       "      <td>-300.046675</td>\n",
       "      <td>...</td>\n",
       "      <td>1.906609</td>\n",
       "      <td>49.678402</td>\n",
       "      <td>5.271876</td>\n",
       "      <td>6.668677</td>\n",
       "      <td>8.177145</td>\n",
       "      <td>54.477300</td>\n",
       "      <td>0.498793</td>\n",
       "      <td>8.340438</td>\n",
       "      <td>0.987726</td>\n",
       "      <td>11.186117</td>\n",
       "    </tr>\n",
       "    <tr>\n",
       "      <th>2017-10-16 07:59:59</th>\n",
       "      <td>0.874188</td>\n",
       "      <td>6.547335</td>\n",
       "      <td>1.533528</td>\n",
       "      <td>38.212792</td>\n",
       "      <td>548.460720</td>\n",
       "      <td>73.503656</td>\n",
       "      <td>5.003545</td>\n",
       "      <td>4.801420</td>\n",
       "      <td>1200.777630</td>\n",
       "      <td>-300.070833</td>\n",
       "      <td>...</td>\n",
       "      <td>1.427457</td>\n",
       "      <td>50.354879</td>\n",
       "      <td>5.082084</td>\n",
       "      <td>6.649622</td>\n",
       "      <td>8.054853</td>\n",
       "      <td>34.424192</td>\n",
       "      <td>0.576702</td>\n",
       "      <td>8.515685</td>\n",
       "      <td>0.987726</td>\n",
       "      <td>10.726500</td>\n",
       "    </tr>\n",
       "    <tr>\n",
       "      <th>2017-10-16 08:59:59</th>\n",
       "      <td>0.714036</td>\n",
       "      <td>6.399846</td>\n",
       "      <td>1.533528</td>\n",
       "      <td>38.327615</td>\n",
       "      <td>563.721057</td>\n",
       "      <td>72.687936</td>\n",
       "      <td>5.004314</td>\n",
       "      <td>4.798006</td>\n",
       "      <td>1199.309740</td>\n",
       "      <td>-300.007347</td>\n",
       "      <td>...</td>\n",
       "      <td>1.427457</td>\n",
       "      <td>51.215084</td>\n",
       "      <td>4.711938</td>\n",
       "      <td>6.393967</td>\n",
       "      <td>7.938254</td>\n",
       "      <td>17.167641</td>\n",
       "      <td>0.592872</td>\n",
       "      <td>8.424786</td>\n",
       "      <td>0.987726</td>\n",
       "      <td>10.586112</td>\n",
       "    </tr>\n",
       "    <tr>\n",
       "      <th>2017-10-16 09:59:59</th>\n",
       "      <td>0.854959</td>\n",
       "      <td>6.406698</td>\n",
       "      <td>1.533528</td>\n",
       "      <td>37.386651</td>\n",
       "      <td>547.605365</td>\n",
       "      <td>71.724261</td>\n",
       "      <td>4.994794</td>\n",
       "      <td>4.801791</td>\n",
       "      <td>1201.955614</td>\n",
       "      <td>-304.756485</td>\n",
       "      <td>...</td>\n",
       "      <td>1.427457</td>\n",
       "      <td>52.756638</td>\n",
       "      <td>4.438514</td>\n",
       "      <td>6.109977</td>\n",
       "      <td>7.850961</td>\n",
       "      <td>17.124460</td>\n",
       "      <td>0.710524</td>\n",
       "      <td>8.366031</td>\n",
       "      <td>0.987726</td>\n",
       "      <td>10.314546</td>\n",
       "    </tr>\n",
       "    <tr>\n",
       "      <th>2017-10-16 10:59:59</th>\n",
       "      <td>3.563339</td>\n",
       "      <td>6.375240</td>\n",
       "      <td>1.533528</td>\n",
       "      <td>38.916507</td>\n",
       "      <td>561.928692</td>\n",
       "      <td>74.760282</td>\n",
       "      <td>5.586358</td>\n",
       "      <td>5.194897</td>\n",
       "      <td>1200.014228</td>\n",
       "      <td>-300.070946</td>\n",
       "      <td>...</td>\n",
       "      <td>1.427457</td>\n",
       "      <td>52.681725</td>\n",
       "      <td>4.249892</td>\n",
       "      <td>6.208622</td>\n",
       "      <td>7.956446</td>\n",
       "      <td>76.755153</td>\n",
       "      <td>0.873649</td>\n",
       "      <td>7.491785</td>\n",
       "      <td>0.987726</td>\n",
       "      <td>9.944777</td>\n",
       "    </tr>\n",
       "    <tr>\n",
       "      <th>2017-10-16 11:59:59</th>\n",
       "      <td>5.155553</td>\n",
       "      <td>6.687162</td>\n",
       "      <td>2.196915</td>\n",
       "      <td>39.807545</td>\n",
       "      <td>559.888820</td>\n",
       "      <td>75.229291</td>\n",
       "      <td>6.927869</td>\n",
       "      <td>6.178421</td>\n",
       "      <td>1200.959304</td>\n",
       "      <td>-299.805253</td>\n",
       "      <td>...</td>\n",
       "      <td>1.427457</td>\n",
       "      <td>40.380379</td>\n",
       "      <td>8.729442</td>\n",
       "      <td>8.798236</td>\n",
       "      <td>8.621391</td>\n",
       "      <td>70.829532</td>\n",
       "      <td>1.653420</td>\n",
       "      <td>7.447215</td>\n",
       "      <td>0.987726</td>\n",
       "      <td>9.662804</td>\n",
       "    </tr>\n",
       "    <tr>\n",
       "      <th>2017-10-16 12:59:59</th>\n",
       "      <td>5.032556</td>\n",
       "      <td>6.631572</td>\n",
       "      <td>2.050654</td>\n",
       "      <td>39.500557</td>\n",
       "      <td>559.809471</td>\n",
       "      <td>73.143099</td>\n",
       "      <td>6.504886</td>\n",
       "      <td>6.502484</td>\n",
       "      <td>1203.512176</td>\n",
       "      <td>-299.640277</td>\n",
       "      <td>...</td>\n",
       "      <td>1.875969</td>\n",
       "      <td>36.686200</td>\n",
       "      <td>10.579198</td>\n",
       "      <td>8.997558</td>\n",
       "      <td>10.848669</td>\n",
       "      <td>61.692963</td>\n",
       "      <td>2.106058</td>\n",
       "      <td>7.749711</td>\n",
       "      <td>0.862279</td>\n",
       "      <td>9.909618</td>\n",
       "    </tr>\n",
       "    <tr>\n",
       "      <th>2017-10-16 13:59:59</th>\n",
       "      <td>4.809103</td>\n",
       "      <td>6.475411</td>\n",
       "      <td>1.951551</td>\n",
       "      <td>40.994999</td>\n",
       "      <td>562.654456</td>\n",
       "      <td>74.427558</td>\n",
       "      <td>6.164528</td>\n",
       "      <td>6.500169</td>\n",
       "      <td>1202.497365</td>\n",
       "      <td>-299.987137</td>\n",
       "      <td>...</td>\n",
       "      <td>3.654221</td>\n",
       "      <td>44.966473</td>\n",
       "      <td>5.273076</td>\n",
       "      <td>9.935917</td>\n",
       "      <td>9.757085</td>\n",
       "      <td>74.506866</td>\n",
       "      <td>1.332142</td>\n",
       "      <td>8.288290</td>\n",
       "      <td>0.982348</td>\n",
       "      <td>10.871200</td>\n",
       "    </tr>\n",
       "    <tr>\n",
       "      <th>2017-10-16 14:59:59</th>\n",
       "      <td>4.682772</td>\n",
       "      <td>6.427836</td>\n",
       "      <td>1.874697</td>\n",
       "      <td>40.678677</td>\n",
       "      <td>566.458200</td>\n",
       "      <td>75.012950</td>\n",
       "      <td>6.080932</td>\n",
       "      <td>6.498269</td>\n",
       "      <td>1195.086704</td>\n",
       "      <td>-299.814542</td>\n",
       "      <td>...</td>\n",
       "      <td>3.654221</td>\n",
       "      <td>44.243572</td>\n",
       "      <td>5.716233</td>\n",
       "      <td>9.716385</td>\n",
       "      <td>7.299085</td>\n",
       "      <td>72.760126</td>\n",
       "      <td>1.382009</td>\n",
       "      <td>8.131153</td>\n",
       "      <td>1.129285</td>\n",
       "      <td>10.127950</td>\n",
       "    </tr>\n",
       "    <tr>\n",
       "      <th>2017-10-16 15:59:59</th>\n",
       "      <td>5.009923</td>\n",
       "      <td>6.532809</td>\n",
       "      <td>1.968182</td>\n",
       "      <td>40.846566</td>\n",
       "      <td>554.875801</td>\n",
       "      <td>73.215987</td>\n",
       "      <td>6.394167</td>\n",
       "      <td>6.497104</td>\n",
       "      <td>1200.414713</td>\n",
       "      <td>-299.911991</td>\n",
       "      <td>...</td>\n",
       "      <td>3.654221</td>\n",
       "      <td>47.756209</td>\n",
       "      <td>4.376497</td>\n",
       "      <td>9.533912</td>\n",
       "      <td>7.455218</td>\n",
       "      <td>75.434473</td>\n",
       "      <td>1.336477</td>\n",
       "      <td>8.260597</td>\n",
       "      <td>1.155605</td>\n",
       "      <td>10.014974</td>\n",
       "    </tr>\n",
       "    <tr>\n",
       "      <th>2017-11-11 06:59:59</th>\n",
       "      <td>4.060212</td>\n",
       "      <td>4.438150</td>\n",
       "      <td>2.041924</td>\n",
       "      <td>29.968379</td>\n",
       "      <td>593.485776</td>\n",
       "      <td>80.177372</td>\n",
       "      <td>9.384378</td>\n",
       "      <td>6.299952</td>\n",
       "      <td>999.348181</td>\n",
       "      <td>-299.879910</td>\n",
       "      <td>...</td>\n",
       "      <td>0.957925</td>\n",
       "      <td>37.012913</td>\n",
       "      <td>3.473964</td>\n",
       "      <td>7.495069</td>\n",
       "      <td>5.958727</td>\n",
       "      <td>63.902812</td>\n",
       "      <td>1.576107</td>\n",
       "      <td>5.677003</td>\n",
       "      <td>1.369332</td>\n",
       "      <td>7.617845</td>\n",
       "    </tr>\n",
       "    <tr>\n",
       "      <th>2017-11-11 08:59:59</th>\n",
       "      <td>5.597806</td>\n",
       "      <td>5.577477</td>\n",
       "      <td>2.691272</td>\n",
       "      <td>33.099705</td>\n",
       "      <td>601.359177</td>\n",
       "      <td>65.059678</td>\n",
       "      <td>11.156565</td>\n",
       "      <td>6.296555</td>\n",
       "      <td>997.801606</td>\n",
       "      <td>-299.965432</td>\n",
       "      <td>...</td>\n",
       "      <td>1.048871</td>\n",
       "      <td>27.221049</td>\n",
       "      <td>2.569034</td>\n",
       "      <td>6.653564</td>\n",
       "      <td>4.215778</td>\n",
       "      <td>85.518356</td>\n",
       "      <td>0.983639</td>\n",
       "      <td>3.822302</td>\n",
       "      <td>0.998788</td>\n",
       "      <td>4.810284</td>\n",
       "    </tr>\n",
       "    <tr>\n",
       "      <th>2017-11-11 19:59:59</th>\n",
       "      <td>9.248074</td>\n",
       "      <td>8.123216</td>\n",
       "      <td>2.460529</td>\n",
       "      <td>41.535282</td>\n",
       "      <td>548.710612</td>\n",
       "      <td>68.299399</td>\n",
       "      <td>12.652055</td>\n",
       "      <td>5.995511</td>\n",
       "      <td>999.144230</td>\n",
       "      <td>-300.132332</td>\n",
       "      <td>...</td>\n",
       "      <td>2.459821</td>\n",
       "      <td>46.214096</td>\n",
       "      <td>5.261045</td>\n",
       "      <td>8.381403</td>\n",
       "      <td>8.078991</td>\n",
       "      <td>79.471432</td>\n",
       "      <td>2.257517</td>\n",
       "      <td>10.061529</td>\n",
       "      <td>1.361155</td>\n",
       "      <td>8.890403</td>\n",
       "    </tr>\n",
       "    <tr>\n",
       "      <th>2017-11-11 21:59:59</th>\n",
       "      <td>9.337482</td>\n",
       "      <td>10.740038</td>\n",
       "      <td>2.351400</td>\n",
       "      <td>43.488762</td>\n",
       "      <td>599.783944</td>\n",
       "      <td>88.510875</td>\n",
       "      <td>14.970712</td>\n",
       "      <td>6.201872</td>\n",
       "      <td>996.532528</td>\n",
       "      <td>-300.189049</td>\n",
       "      <td>...</td>\n",
       "      <td>0.000000</td>\n",
       "      <td>46.279400</td>\n",
       "      <td>5.333682</td>\n",
       "      <td>8.312554</td>\n",
       "      <td>8.073811</td>\n",
       "      <td>84.336086</td>\n",
       "      <td>1.762525</td>\n",
       "      <td>7.773877</td>\n",
       "      <td>0.915097</td>\n",
       "      <td>4.689027</td>\n",
       "    </tr>\n",
       "    <tr>\n",
       "      <th>2017-11-11 22:59:59</th>\n",
       "      <td>10.119404</td>\n",
       "      <td>11.038593</td>\n",
       "      <td>2.696696</td>\n",
       "      <td>42.623767</td>\n",
       "      <td>600.965139</td>\n",
       "      <td>87.171851</td>\n",
       "      <td>15.547575</td>\n",
       "      <td>6.201701</td>\n",
       "      <td>1002.976895</td>\n",
       "      <td>-300.216355</td>\n",
       "      <td>...</td>\n",
       "      <td>0.000000</td>\n",
       "      <td>46.199077</td>\n",
       "      <td>5.632987</td>\n",
       "      <td>7.965908</td>\n",
       "      <td>8.542306</td>\n",
       "      <td>80.085289</td>\n",
       "      <td>2.443966</td>\n",
       "      <td>11.559986</td>\n",
       "      <td>1.129026</td>\n",
       "      <td>11.271858</td>\n",
       "    </tr>\n",
       "    <tr>\n",
       "      <th>2017-11-11 23:59:59</th>\n",
       "      <td>10.953552</td>\n",
       "      <td>11.765554</td>\n",
       "      <td>3.177351</td>\n",
       "      <td>43.003475</td>\n",
       "      <td>577.592087</td>\n",
       "      <td>91.873159</td>\n",
       "      <td>16.069821</td>\n",
       "      <td>6.202116</td>\n",
       "      <td>998.698989</td>\n",
       "      <td>-299.925998</td>\n",
       "      <td>...</td>\n",
       "      <td>0.000000</td>\n",
       "      <td>45.251023</td>\n",
       "      <td>6.104176</td>\n",
       "      <td>7.954975</td>\n",
       "      <td>9.220805</td>\n",
       "      <td>79.345615</td>\n",
       "      <td>2.800213</td>\n",
       "      <td>12.386314</td>\n",
       "      <td>1.444590</td>\n",
       "      <td>11.405695</td>\n",
       "    </tr>\n",
       "    <tr>\n",
       "      <th>2017-11-12 00:59:59</th>\n",
       "      <td>10.462741</td>\n",
       "      <td>10.564497</td>\n",
       "      <td>2.962876</td>\n",
       "      <td>43.541716</td>\n",
       "      <td>569.910652</td>\n",
       "      <td>89.775525</td>\n",
       "      <td>14.705703</td>\n",
       "      <td>6.198622</td>\n",
       "      <td>999.352414</td>\n",
       "      <td>-299.977268</td>\n",
       "      <td>...</td>\n",
       "      <td>0.000000</td>\n",
       "      <td>43.179006</td>\n",
       "      <td>7.253950</td>\n",
       "      <td>7.961148</td>\n",
       "      <td>9.896299</td>\n",
       "      <td>75.333394</td>\n",
       "      <td>3.157104</td>\n",
       "      <td>12.427950</td>\n",
       "      <td>1.688496</td>\n",
       "      <td>11.526467</td>\n",
       "    </tr>\n",
       "    <tr>\n",
       "      <th>2017-11-12 01:59:59</th>\n",
       "      <td>9.993101</td>\n",
       "      <td>9.822524</td>\n",
       "      <td>2.786133</td>\n",
       "      <td>43.055719</td>\n",
       "      <td>552.339746</td>\n",
       "      <td>84.017107</td>\n",
       "      <td>14.019688</td>\n",
       "      <td>6.196911</td>\n",
       "      <td>1003.332063</td>\n",
       "      <td>-300.243794</td>\n",
       "      <td>...</td>\n",
       "      <td>2.969109</td>\n",
       "      <td>43.110123</td>\n",
       "      <td>7.298515</td>\n",
       "      <td>7.873187</td>\n",
       "      <td>9.931053</td>\n",
       "      <td>77.622992</td>\n",
       "      <td>2.726799</td>\n",
       "      <td>11.232592</td>\n",
       "      <td>1.455385</td>\n",
       "      <td>11.831882</td>\n",
       "    </tr>\n",
       "    <tr>\n",
       "      <th>2017-11-12 02:59:59</th>\n",
       "      <td>9.658345</td>\n",
       "      <td>9.576121</td>\n",
       "      <td>2.733479</td>\n",
       "      <td>42.650123</td>\n",
       "      <td>594.939279</td>\n",
       "      <td>82.627149</td>\n",
       "      <td>14.227089</td>\n",
       "      <td>6.201252</td>\n",
       "      <td>997.278181</td>\n",
       "      <td>-299.975477</td>\n",
       "      <td>...</td>\n",
       "      <td>0.000000</td>\n",
       "      <td>44.489378</td>\n",
       "      <td>6.470349</td>\n",
       "      <td>8.020388</td>\n",
       "      <td>9.333907</td>\n",
       "      <td>80.155008</td>\n",
       "      <td>2.320489</td>\n",
       "      <td>10.449965</td>\n",
       "      <td>1.271692</td>\n",
       "      <td>11.700549</td>\n",
       "    </tr>\n",
       "    <tr>\n",
       "      <th>2017-11-12 03:59:59</th>\n",
       "      <td>9.426219</td>\n",
       "      <td>9.351885</td>\n",
       "      <td>2.556935</td>\n",
       "      <td>43.396814</td>\n",
       "      <td>599.180995</td>\n",
       "      <td>86.648801</td>\n",
       "      <td>15.466815</td>\n",
       "      <td>6.198526</td>\n",
       "      <td>995.721347</td>\n",
       "      <td>-300.038419</td>\n",
       "      <td>...</td>\n",
       "      <td>0.000000</td>\n",
       "      <td>45.825971</td>\n",
       "      <td>5.609294</td>\n",
       "      <td>8.032747</td>\n",
       "      <td>8.552278</td>\n",
       "      <td>80.047912</td>\n",
       "      <td>2.251439</td>\n",
       "      <td>10.300337</td>\n",
       "      <td>1.318013</td>\n",
       "      <td>11.139937</td>\n",
       "    </tr>\n",
       "    <tr>\n",
       "      <th>2017-11-12 15:59:59</th>\n",
       "      <td>7.369868</td>\n",
       "      <td>6.532411</td>\n",
       "      <td>3.889325</td>\n",
       "      <td>31.141329</td>\n",
       "      <td>599.377851</td>\n",
       "      <td>71.009989</td>\n",
       "      <td>15.707986</td>\n",
       "      <td>6.802205</td>\n",
       "      <td>1001.817045</td>\n",
       "      <td>-300.063428</td>\n",
       "      <td>...</td>\n",
       "      <td>0.175434</td>\n",
       "      <td>32.678161</td>\n",
       "      <td>3.611315</td>\n",
       "      <td>8.237225</td>\n",
       "      <td>5.169824</td>\n",
       "      <td>71.992582</td>\n",
       "      <td>2.464209</td>\n",
       "      <td>7.926580</td>\n",
       "      <td>2.508543</td>\n",
       "      <td>6.892029</td>\n",
       "    </tr>\n",
       "    <tr>\n",
       "      <th>2017-11-12 16:59:59</th>\n",
       "      <td>8.909174</td>\n",
       "      <td>7.935461</td>\n",
       "      <td>4.660661</td>\n",
       "      <td>38.010484</td>\n",
       "      <td>599.424216</td>\n",
       "      <td>76.426503</td>\n",
       "      <td>16.283798</td>\n",
       "      <td>6.796721</td>\n",
       "      <td>1000.492147</td>\n",
       "      <td>-300.078660</td>\n",
       "      <td>...</td>\n",
       "      <td>0.175434</td>\n",
       "      <td>46.991589</td>\n",
       "      <td>5.197359</td>\n",
       "      <td>11.972964</td>\n",
       "      <td>7.473816</td>\n",
       "      <td>68.894605</td>\n",
       "      <td>3.187590</td>\n",
       "      <td>10.520652</td>\n",
       "      <td>3.288344</td>\n",
       "      <td>8.498824</td>\n",
       "    </tr>\n",
       "    <tr>\n",
       "      <th>2017-11-12 17:59:59</th>\n",
       "      <td>3.133717</td>\n",
       "      <td>2.814341</td>\n",
       "      <td>1.648467</td>\n",
       "      <td>13.588819</td>\n",
       "      <td>600.085875</td>\n",
       "      <td>80.058526</td>\n",
       "      <td>15.515442</td>\n",
       "      <td>6.802888</td>\n",
       "      <td>996.832713</td>\n",
       "      <td>-300.051537</td>\n",
       "      <td>...</td>\n",
       "      <td>0.175434</td>\n",
       "      <td>7.093707</td>\n",
       "      <td>0.787382</td>\n",
       "      <td>1.804193</td>\n",
       "      <td>1.138262</td>\n",
       "      <td>72.779285</td>\n",
       "      <td>1.257233</td>\n",
       "      <td>4.192484</td>\n",
       "      <td>1.326340</td>\n",
       "      <td>3.358072</td>\n",
       "    </tr>\n",
       "    <tr>\n",
       "      <th>2017-11-17 21:59:59</th>\n",
       "      <td>5.267650</td>\n",
       "      <td>6.411500</td>\n",
       "      <td>4.260113</td>\n",
       "      <td>35.968880</td>\n",
       "      <td>545.517113</td>\n",
       "      <td>86.759892</td>\n",
       "      <td>8.272767</td>\n",
       "      <td>6.100372</td>\n",
       "      <td>1001.436599</td>\n",
       "      <td>-299.941247</td>\n",
       "      <td>...</td>\n",
       "      <td>0.326023</td>\n",
       "      <td>46.867247</td>\n",
       "      <td>3.657442</td>\n",
       "      <td>10.565658</td>\n",
       "      <td>6.806059</td>\n",
       "      <td>69.327416</td>\n",
       "      <td>1.752262</td>\n",
       "      <td>9.789208</td>\n",
       "      <td>3.244184</td>\n",
       "      <td>7.728991</td>\n",
       "    </tr>\n",
       "    <tr>\n",
       "      <th>2017-11-17 22:59:59</th>\n",
       "      <td>5.528176</td>\n",
       "      <td>6.639617</td>\n",
       "      <td>4.265180</td>\n",
       "      <td>36.700509</td>\n",
       "      <td>544.262957</td>\n",
       "      <td>76.460270</td>\n",
       "      <td>8.716840</td>\n",
       "      <td>6.096188</td>\n",
       "      <td>999.684172</td>\n",
       "      <td>-300.095153</td>\n",
       "      <td>...</td>\n",
       "      <td>0.326023</td>\n",
       "      <td>46.757714</td>\n",
       "      <td>3.660730</td>\n",
       "      <td>10.496740</td>\n",
       "      <td>6.782427</td>\n",
       "      <td>71.508253</td>\n",
       "      <td>1.720536</td>\n",
       "      <td>9.892528</td>\n",
       "      <td>3.218993</td>\n",
       "      <td>7.855516</td>\n",
       "    </tr>\n",
       "    <tr>\n",
       "      <th>2017-11-25 02:59:59</th>\n",
       "      <td>9.663538</td>\n",
       "      <td>10.138310</td>\n",
       "      <td>3.817133</td>\n",
       "      <td>38.539232</td>\n",
       "      <td>567.993030</td>\n",
       "      <td>46.692619</td>\n",
       "      <td>13.782924</td>\n",
       "      <td>6.205128</td>\n",
       "      <td>999.996916</td>\n",
       "      <td>-300.041434</td>\n",
       "      <td>...</td>\n",
       "      <td>3.738951</td>\n",
       "      <td>47.821468</td>\n",
       "      <td>3.400124</td>\n",
       "      <td>7.669659</td>\n",
       "      <td>9.237277</td>\n",
       "      <td>74.219075</td>\n",
       "      <td>2.930925</td>\n",
       "      <td>13.205200</td>\n",
       "      <td>2.722420</td>\n",
       "      <td>9.805133</td>\n",
       "    </tr>\n",
       "    <tr>\n",
       "      <th>2017-11-25 03:59:59</th>\n",
       "      <td>9.933880</td>\n",
       "      <td>10.038180</td>\n",
       "      <td>3.958324</td>\n",
       "      <td>37.266890</td>\n",
       "      <td>574.397840</td>\n",
       "      <td>46.694463</td>\n",
       "      <td>14.049556</td>\n",
       "      <td>6.499100</td>\n",
       "      <td>1000.432134</td>\n",
       "      <td>-300.076429</td>\n",
       "      <td>...</td>\n",
       "      <td>3.562084</td>\n",
       "      <td>48.049003</td>\n",
       "      <td>3.450411</td>\n",
       "      <td>7.645175</td>\n",
       "      <td>9.422343</td>\n",
       "      <td>76.364870</td>\n",
       "      <td>2.788066</td>\n",
       "      <td>13.077908</td>\n",
       "      <td>2.643116</td>\n",
       "      <td>9.638654</td>\n",
       "    </tr>\n",
       "    <tr>\n",
       "      <th>2017-11-30 01:59:59</th>\n",
       "      <td>3.752116</td>\n",
       "      <td>4.394126</td>\n",
       "      <td>2.182550</td>\n",
       "      <td>4.970329</td>\n",
       "      <td>275.491272</td>\n",
       "      <td>46.248737</td>\n",
       "      <td>3.492741</td>\n",
       "      <td>2.002562</td>\n",
       "      <td>1296.142070</td>\n",
       "      <td>-300.205799</td>\n",
       "      <td>...</td>\n",
       "      <td>0.821512</td>\n",
       "      <td>6.225457</td>\n",
       "      <td>0.765553</td>\n",
       "      <td>1.254934</td>\n",
       "      <td>1.379887</td>\n",
       "      <td>98.526022</td>\n",
       "      <td>0.136160</td>\n",
       "      <td>0.895750</td>\n",
       "      <td>0.212799</td>\n",
       "      <td>0.465595</td>\n",
       "    </tr>\n",
       "    <tr>\n",
       "      <th>2017-12-02 17:59:59</th>\n",
       "      <td>7.100592</td>\n",
       "      <td>8.108111</td>\n",
       "      <td>4.074451</td>\n",
       "      <td>36.293266</td>\n",
       "      <td>562.289468</td>\n",
       "      <td>63.987243</td>\n",
       "      <td>12.648813</td>\n",
       "      <td>6.897332</td>\n",
       "      <td>1298.365543</td>\n",
       "      <td>-300.036630</td>\n",
       "      <td>...</td>\n",
       "      <td>0.703673</td>\n",
       "      <td>45.707368</td>\n",
       "      <td>4.654995</td>\n",
       "      <td>9.780919</td>\n",
       "      <td>7.812474</td>\n",
       "      <td>77.775099</td>\n",
       "      <td>1.794973</td>\n",
       "      <td>11.534095</td>\n",
       "      <td>2.294242</td>\n",
       "      <td>9.887218</td>\n",
       "    </tr>\n",
       "    <tr>\n",
       "      <th>2017-12-02 18:59:59</th>\n",
       "      <td>7.560704</td>\n",
       "      <td>8.543549</td>\n",
       "      <td>4.369158</td>\n",
       "      <td>37.037313</td>\n",
       "      <td>596.073976</td>\n",
       "      <td>66.509706</td>\n",
       "      <td>13.544417</td>\n",
       "      <td>6.901825</td>\n",
       "      <td>1300.200628</td>\n",
       "      <td>-300.024178</td>\n",
       "      <td>...</td>\n",
       "      <td>0.703673</td>\n",
       "      <td>45.881426</td>\n",
       "      <td>4.501148</td>\n",
       "      <td>9.862139</td>\n",
       "      <td>7.576317</td>\n",
       "      <td>80.097197</td>\n",
       "      <td>1.733612</td>\n",
       "      <td>11.440437</td>\n",
       "      <td>2.493897</td>\n",
       "      <td>9.461891</td>\n",
       "    </tr>\n",
       "    <tr>\n",
       "      <th>2017-12-02 19:59:59</th>\n",
       "      <td>8.735055</td>\n",
       "      <td>9.735369</td>\n",
       "      <td>4.951496</td>\n",
       "      <td>35.906863</td>\n",
       "      <td>600.078867</td>\n",
       "      <td>66.436069</td>\n",
       "      <td>17.440695</td>\n",
       "      <td>6.901870</td>\n",
       "      <td>1300.673182</td>\n",
       "      <td>-300.014202</td>\n",
       "      <td>...</td>\n",
       "      <td>0.485815</td>\n",
       "      <td>45.751720</td>\n",
       "      <td>4.506869</td>\n",
       "      <td>10.187563</td>\n",
       "      <td>7.482237</td>\n",
       "      <td>81.451530</td>\n",
       "      <td>1.918576</td>\n",
       "      <td>11.741188</td>\n",
       "      <td>2.772679</td>\n",
       "      <td>9.704885</td>\n",
       "    </tr>\n",
       "    <tr>\n",
       "      <th>2017-12-02 20:59:59</th>\n",
       "      <td>9.159042</td>\n",
       "      <td>10.316282</td>\n",
       "      <td>5.021464</td>\n",
       "      <td>36.539491</td>\n",
       "      <td>585.213737</td>\n",
       "      <td>64.921663</td>\n",
       "      <td>18.935381</td>\n",
       "      <td>6.988634</td>\n",
       "      <td>1299.879764</td>\n",
       "      <td>-299.794107</td>\n",
       "      <td>...</td>\n",
       "      <td>2.714637</td>\n",
       "      <td>44.795073</td>\n",
       "      <td>4.757067</td>\n",
       "      <td>10.473940</td>\n",
       "      <td>7.755915</td>\n",
       "      <td>79.352484</td>\n",
       "      <td>2.257369</td>\n",
       "      <td>13.010105</td>\n",
       "      <td>3.172471</td>\n",
       "      <td>10.021914</td>\n",
       "    </tr>\n",
       "    <tr>\n",
       "      <th>2017-12-02 21:59:59</th>\n",
       "      <td>9.223017</td>\n",
       "      <td>10.776343</td>\n",
       "      <td>5.136326</td>\n",
       "      <td>36.991673</td>\n",
       "      <td>584.230975</td>\n",
       "      <td>62.783711</td>\n",
       "      <td>18.193559</td>\n",
       "      <td>7.095527</td>\n",
       "      <td>1300.352901</td>\n",
       "      <td>-299.646762</td>\n",
       "      <td>...</td>\n",
       "      <td>4.202663</td>\n",
       "      <td>44.641183</td>\n",
       "      <td>5.021368</td>\n",
       "      <td>10.144017</td>\n",
       "      <td>8.277796</td>\n",
       "      <td>77.389744</td>\n",
       "      <td>2.482231</td>\n",
       "      <td>13.716550</td>\n",
       "      <td>3.385130</td>\n",
       "      <td>9.940177</td>\n",
       "    </tr>\n",
       "    <tr>\n",
       "      <th>2017-12-02 22:59:59</th>\n",
       "      <td>9.132163</td>\n",
       "      <td>10.788208</td>\n",
       "      <td>5.173817</td>\n",
       "      <td>36.502105</td>\n",
       "      <td>572.070991</td>\n",
       "      <td>75.862680</td>\n",
       "      <td>17.342472</td>\n",
       "      <td>7.097605</td>\n",
       "      <td>1299.590573</td>\n",
       "      <td>-299.908789</td>\n",
       "      <td>...</td>\n",
       "      <td>4.952467</td>\n",
       "      <td>43.272251</td>\n",
       "      <td>5.645057</td>\n",
       "      <td>10.177284</td>\n",
       "      <td>8.595072</td>\n",
       "      <td>77.903870</td>\n",
       "      <td>2.414881</td>\n",
       "      <td>14.342075</td>\n",
       "      <td>3.382543</td>\n",
       "      <td>9.919894</td>\n",
       "    </tr>\n",
       "    <tr>\n",
       "      <th>2017-12-02 23:59:59</th>\n",
       "      <td>9.544155</td>\n",
       "      <td>11.175215</td>\n",
       "      <td>5.592203</td>\n",
       "      <td>37.139566</td>\n",
       "      <td>600.530830</td>\n",
       "      <td>76.203753</td>\n",
       "      <td>18.276346</td>\n",
       "      <td>7.099498</td>\n",
       "      <td>1301.894862</td>\n",
       "      <td>-300.005505</td>\n",
       "      <td>...</td>\n",
       "      <td>4.975402</td>\n",
       "      <td>43.282436</td>\n",
       "      <td>5.730943</td>\n",
       "      <td>10.066022</td>\n",
       "      <td>8.506993</td>\n",
       "      <td>78.568900</td>\n",
       "      <td>2.474050</td>\n",
       "      <td>14.863393</td>\n",
       "      <td>3.617242</td>\n",
       "      <td>9.789736</td>\n",
       "    </tr>\n",
       "    <tr>\n",
       "      <th>2017-12-03 00:59:59</th>\n",
       "      <td>9.351690</td>\n",
       "      <td>11.082020</td>\n",
       "      <td>5.719154</td>\n",
       "      <td>37.216116</td>\n",
       "      <td>604.822435</td>\n",
       "      <td>73.731721</td>\n",
       "      <td>18.122407</td>\n",
       "      <td>7.100135</td>\n",
       "      <td>1300.658855</td>\n",
       "      <td>-299.950232</td>\n",
       "      <td>...</td>\n",
       "      <td>5.440890</td>\n",
       "      <td>43.128555</td>\n",
       "      <td>5.655828</td>\n",
       "      <td>10.205007</td>\n",
       "      <td>8.493626</td>\n",
       "      <td>78.256299</td>\n",
       "      <td>2.448955</td>\n",
       "      <td>14.715154</td>\n",
       "      <td>3.685192</td>\n",
       "      <td>10.273959</td>\n",
       "    </tr>\n",
       "    <tr>\n",
       "      <th>2017-12-03 01:59:59</th>\n",
       "      <td>10.972259</td>\n",
       "      <td>12.724722</td>\n",
       "      <td>6.046661</td>\n",
       "      <td>36.908440</td>\n",
       "      <td>569.647284</td>\n",
       "      <td>76.506968</td>\n",
       "      <td>13.629360</td>\n",
       "      <td>7.103539</td>\n",
       "      <td>1304.308157</td>\n",
       "      <td>-299.713285</td>\n",
       "      <td>...</td>\n",
       "      <td>7.342377</td>\n",
       "      <td>43.394190</td>\n",
       "      <td>5.496299</td>\n",
       "      <td>9.973079</td>\n",
       "      <td>9.987867</td>\n",
       "      <td>75.029334</td>\n",
       "      <td>3.381325</td>\n",
       "      <td>16.907885</td>\n",
       "      <td>4.493805</td>\n",
       "      <td>10.357773</td>\n",
       "    </tr>\n",
       "    <tr>\n",
       "      <th>2017-12-03 02:59:59</th>\n",
       "      <td>11.447280</td>\n",
       "      <td>12.438144</td>\n",
       "      <td>6.126651</td>\n",
       "      <td>36.441239</td>\n",
       "      <td>539.469239</td>\n",
       "      <td>72.235606</td>\n",
       "      <td>13.222688</td>\n",
       "      <td>7.102268</td>\n",
       "      <td>1208.719461</td>\n",
       "      <td>-299.942120</td>\n",
       "      <td>...</td>\n",
       "      <td>6.969214</td>\n",
       "      <td>42.793081</td>\n",
       "      <td>5.876664</td>\n",
       "      <td>9.997839</td>\n",
       "      <td>9.541799</td>\n",
       "      <td>73.724635</td>\n",
       "      <td>3.746728</td>\n",
       "      <td>17.028371</td>\n",
       "      <td>4.723329</td>\n",
       "      <td>9.541316</td>\n",
       "    </tr>\n",
       "    <tr>\n",
       "      <th>2017-12-03 03:59:59</th>\n",
       "      <td>11.278844</td>\n",
       "      <td>12.667775</td>\n",
       "      <td>5.876464</td>\n",
       "      <td>35.815045</td>\n",
       "      <td>498.098025</td>\n",
       "      <td>71.413393</td>\n",
       "      <td>12.659598</td>\n",
       "      <td>7.104897</td>\n",
       "      <td>1201.916384</td>\n",
       "      <td>-300.286825</td>\n",
       "      <td>...</td>\n",
       "      <td>6.446710</td>\n",
       "      <td>43.770754</td>\n",
       "      <td>5.623986</td>\n",
       "      <td>9.531292</td>\n",
       "      <td>9.463961</td>\n",
       "      <td>70.505578</td>\n",
       "      <td>4.065188</td>\n",
       "      <td>16.418387</td>\n",
       "      <td>4.692588</td>\n",
       "      <td>9.381278</td>\n",
       "    </tr>\n",
       "    <tr>\n",
       "      <th>2017-12-03 04:59:59</th>\n",
       "      <td>11.299531</td>\n",
       "      <td>12.798554</td>\n",
       "      <td>6.030152</td>\n",
       "      <td>35.034528</td>\n",
       "      <td>532.019780</td>\n",
       "      <td>67.747447</td>\n",
       "      <td>12.640488</td>\n",
       "      <td>7.100995</td>\n",
       "      <td>1200.222560</td>\n",
       "      <td>-300.054934</td>\n",
       "      <td>...</td>\n",
       "      <td>6.940692</td>\n",
       "      <td>44.793049</td>\n",
       "      <td>5.286660</td>\n",
       "      <td>9.322368</td>\n",
       "      <td>9.281292</td>\n",
       "      <td>72.521909</td>\n",
       "      <td>3.800103</td>\n",
       "      <td>16.965774</td>\n",
       "      <td>4.525172</td>\n",
       "      <td>9.347449</td>\n",
       "    </tr>\n",
       "    <tr>\n",
       "      <th>2017-12-03 05:59:59</th>\n",
       "      <td>9.950698</td>\n",
       "      <td>11.100107</td>\n",
       "      <td>5.974925</td>\n",
       "      <td>37.180384</td>\n",
       "      <td>604.710184</td>\n",
       "      <td>81.403677</td>\n",
       "      <td>12.207633</td>\n",
       "      <td>7.100107</td>\n",
       "      <td>1195.805238</td>\n",
       "      <td>-300.178675</td>\n",
       "      <td>...</td>\n",
       "      <td>6.288529</td>\n",
       "      <td>43.844715</td>\n",
       "      <td>5.345749</td>\n",
       "      <td>9.853697</td>\n",
       "      <td>9.092166</td>\n",
       "      <td>77.943676</td>\n",
       "      <td>2.666440</td>\n",
       "      <td>15.559977</td>\n",
       "      <td>4.250552</td>\n",
       "      <td>9.488268</td>\n",
       "    </tr>\n",
       "    <tr>\n",
       "      <th>2017-12-03 06:59:59</th>\n",
       "      <td>9.160525</td>\n",
       "      <td>10.584465</td>\n",
       "      <td>5.175930</td>\n",
       "      <td>37.295935</td>\n",
       "      <td>605.558867</td>\n",
       "      <td>82.931005</td>\n",
       "      <td>11.772188</td>\n",
       "      <td>7.103982</td>\n",
       "      <td>1203.851600</td>\n",
       "      <td>-300.018854</td>\n",
       "      <td>...</td>\n",
       "      <td>6.464108</td>\n",
       "      <td>45.931448</td>\n",
       "      <td>4.628503</td>\n",
       "      <td>9.238761</td>\n",
       "      <td>8.893231</td>\n",
       "      <td>68.061521</td>\n",
       "      <td>3.385251</td>\n",
       "      <td>14.070528</td>\n",
       "      <td>3.994795</td>\n",
       "      <td>10.947764</td>\n",
       "    </tr>\n",
       "    <tr>\n",
       "      <th>2017-12-03 07:59:59</th>\n",
       "      <td>10.084996</td>\n",
       "      <td>11.731205</td>\n",
       "      <td>5.455192</td>\n",
       "      <td>37.459184</td>\n",
       "      <td>626.492352</td>\n",
       "      <td>81.944906</td>\n",
       "      <td>12.217902</td>\n",
       "      <td>7.096359</td>\n",
       "      <td>1194.824682</td>\n",
       "      <td>-300.236945</td>\n",
       "      <td>...</td>\n",
       "      <td>5.313124</td>\n",
       "      <td>46.359747</td>\n",
       "      <td>4.384328</td>\n",
       "      <td>9.187317</td>\n",
       "      <td>8.628462</td>\n",
       "      <td>71.879482</td>\n",
       "      <td>3.361588</td>\n",
       "      <td>14.363310</td>\n",
       "      <td>4.032709</td>\n",
       "      <td>10.325843</td>\n",
       "    </tr>\n",
       "    <tr>\n",
       "      <th>2017-12-03 08:59:59</th>\n",
       "      <td>10.611729</td>\n",
       "      <td>12.018571</td>\n",
       "      <td>5.802394</td>\n",
       "      <td>36.939986</td>\n",
       "      <td>583.730906</td>\n",
       "      <td>80.852496</td>\n",
       "      <td>13.080475</td>\n",
       "      <td>7.112292</td>\n",
       "      <td>1205.083488</td>\n",
       "      <td>-300.019951</td>\n",
       "      <td>...</td>\n",
       "      <td>5.842365</td>\n",
       "      <td>46.335757</td>\n",
       "      <td>4.442023</td>\n",
       "      <td>9.238301</td>\n",
       "      <td>8.544080</td>\n",
       "      <td>70.786883</td>\n",
       "      <td>3.699811</td>\n",
       "      <td>15.481737</td>\n",
       "      <td>4.182762</td>\n",
       "      <td>10.009065</td>\n",
       "    </tr>\n",
       "    <tr>\n",
       "      <th>2017-12-03 09:59:59</th>\n",
       "      <td>10.538937</td>\n",
       "      <td>11.879119</td>\n",
       "      <td>5.916240</td>\n",
       "      <td>36.748329</td>\n",
       "      <td>576.762661</td>\n",
       "      <td>79.317882</td>\n",
       "      <td>12.762951</td>\n",
       "      <td>7.304522</td>\n",
       "      <td>1201.347623</td>\n",
       "      <td>-299.943042</td>\n",
       "      <td>...</td>\n",
       "      <td>7.661821</td>\n",
       "      <td>44.961086</td>\n",
       "      <td>4.916341</td>\n",
       "      <td>9.644849</td>\n",
       "      <td>8.945859</td>\n",
       "      <td>67.943045</td>\n",
       "      <td>4.018436</td>\n",
       "      <td>16.154268</td>\n",
       "      <td>4.374716</td>\n",
       "      <td>10.503920</td>\n",
       "    </tr>\n",
       "    <tr>\n",
       "      <th>2017-12-03 10:59:59</th>\n",
       "      <td>10.379927</td>\n",
       "      <td>11.407120</td>\n",
       "      <td>6.154015</td>\n",
       "      <td>36.986787</td>\n",
       "      <td>582.295343</td>\n",
       "      <td>78.145974</td>\n",
       "      <td>12.346890</td>\n",
       "      <td>7.297878</td>\n",
       "      <td>1200.814380</td>\n",
       "      <td>-300.333921</td>\n",
       "      <td>...</td>\n",
       "      <td>7.057754</td>\n",
       "      <td>44.519141</td>\n",
       "      <td>5.134035</td>\n",
       "      <td>9.683889</td>\n",
       "      <td>9.203260</td>\n",
       "      <td>72.002510</td>\n",
       "      <td>3.492422</td>\n",
       "      <td>15.955848</td>\n",
       "      <td>4.365837</td>\n",
       "      <td>10.190798</td>\n",
       "    </tr>\n",
       "    <tr>\n",
       "      <th>2017-12-03 11:59:59</th>\n",
       "      <td>7.549261</td>\n",
       "      <td>8.270800</td>\n",
       "      <td>4.492912</td>\n",
       "      <td>25.538641</td>\n",
       "      <td>582.594289</td>\n",
       "      <td>78.345360</td>\n",
       "      <td>12.830254</td>\n",
       "      <td>7.298572</td>\n",
       "      <td>1199.907319</td>\n",
       "      <td>-300.116449</td>\n",
       "      <td>...</td>\n",
       "      <td>4.320132</td>\n",
       "      <td>35.313266</td>\n",
       "      <td>4.503756</td>\n",
       "      <td>8.387537</td>\n",
       "      <td>7.408152</td>\n",
       "      <td>81.349671</td>\n",
       "      <td>1.704367</td>\n",
       "      <td>9.262237</td>\n",
       "      <td>2.541834</td>\n",
       "      <td>5.580436</td>\n",
       "    </tr>\n",
       "    <tr>\n",
       "      <th>2017-12-03 12:59:59</th>\n",
       "      <td>10.955976</td>\n",
       "      <td>11.821139</td>\n",
       "      <td>6.380604</td>\n",
       "      <td>36.063279</td>\n",
       "      <td>345.412586</td>\n",
       "      <td>67.219121</td>\n",
       "      <td>10.358709</td>\n",
       "      <td>5.520733</td>\n",
       "      <td>1200.373770</td>\n",
       "      <td>-299.563152</td>\n",
       "      <td>...</td>\n",
       "      <td>7.143755</td>\n",
       "      <td>15.685009</td>\n",
       "      <td>3.334243</td>\n",
       "      <td>4.064308</td>\n",
       "      <td>4.256205</td>\n",
       "      <td>89.814441</td>\n",
       "      <td>2.994602</td>\n",
       "      <td>14.821953</td>\n",
       "      <td>4.318960</td>\n",
       "      <td>9.476084</td>\n",
       "    </tr>\n",
       "  </tbody>\n",
       "</table>\n",
       "<p>99 rows × 86 columns</p>\n",
       "</div>"
      ],
      "text/plain": [
       "                     rougher.input.feed_au  rougher.input.feed_ag  \\\n",
       "date                                                                \n",
       "2017-08-25 01:59:59               8.511010               9.794057   \n",
       "2017-08-25 02:59:59               7.929114               9.386383   \n",
       "2017-08-25 03:59:59               7.776068               9.319653   \n",
       "2017-08-28 10:59:59               5.367856               7.930709   \n",
       "2017-08-29 03:59:59               8.045621               8.759227   \n",
       "2017-08-29 18:59:59               6.579509               8.257593   \n",
       "2017-09-04 06:59:59               8.833919              10.266506   \n",
       "2017-09-08 04:59:59               8.447153              13.161507   \n",
       "2017-09-08 23:59:59               7.884139              11.212905   \n",
       "2017-09-09 00:59:59               9.161234              11.612099   \n",
       "2017-09-16 04:59:59              10.085683              10.759035   \n",
       "2017-10-14 03:59:59               7.093451               8.205597   \n",
       "2017-10-14 04:59:59               6.846402               8.080993   \n",
       "2017-10-14 11:59:59               6.777035               7.865554   \n",
       "2017-10-14 12:59:59               6.670748               7.653069   \n",
       "2017-10-14 13:59:59               6.515375               7.598806   \n",
       "2017-10-14 14:59:59               6.336843               7.381797   \n",
       "2017-10-14 15:59:59               6.063214               7.263733   \n",
       "2017-10-14 16:59:59               6.052977               7.192295   \n",
       "2017-10-14 17:59:59               6.736395               7.640958   \n",
       "2017-10-14 18:59:59               7.242145               8.215295   \n",
       "2017-10-14 19:59:59               7.121803               8.292443   \n",
       "2017-10-14 20:59:59               6.434599               7.920993   \n",
       "2017-10-15 02:59:59               4.436384               7.101248   \n",
       "2017-10-15 03:59:59               2.450551               6.648316   \n",
       "2017-10-15 04:59:59               0.889864               6.513687   \n",
       "2017-10-15 05:59:59               0.825207               6.341264   \n",
       "2017-10-15 06:59:59               0.761151               6.208773   \n",
       "2017-10-15 07:59:59               1.078093               6.440724   \n",
       "2017-10-15 08:59:59               1.672941               6.581641   \n",
       "2017-10-15 09:59:59               1.311574               6.626243   \n",
       "2017-10-15 10:59:59               0.804901               6.418922   \n",
       "2017-10-15 11:59:59               0.625968               6.245201   \n",
       "2017-10-15 12:59:59               1.009195               6.550959   \n",
       "2017-10-15 13:59:59               1.346732               6.959553   \n",
       "2017-10-15 14:59:59               1.282436               6.836801   \n",
       "2017-10-15 15:59:59               1.346023               6.451814   \n",
       "2017-10-15 16:59:59               1.273064               6.303886   \n",
       "2017-10-15 17:59:59               1.098781               6.278603   \n",
       "2017-10-15 18:59:59               1.026481               6.398192   \n",
       "2017-10-15 19:59:59               1.270686               6.655790   \n",
       "2017-10-15 20:59:59               1.410684               7.125191   \n",
       "2017-10-15 21:59:59               1.165253               7.017650   \n",
       "2017-10-15 22:59:59               1.052710               7.008399   \n",
       "2017-10-15 23:59:59               0.983689               7.067142   \n",
       "2017-10-16 00:59:59               0.588152               5.033413   \n",
       "2017-10-16 01:59:59               0.748198               6.346726   \n",
       "2017-10-16 02:59:59               0.864044               6.457922   \n",
       "2017-10-16 03:59:59               1.191160               6.848966   \n",
       "2017-10-16 04:59:59               1.304652               6.963178   \n",
       "2017-10-16 05:59:59               1.208219               6.895686   \n",
       "2017-10-16 06:59:59               1.082692               6.712135   \n",
       "2017-10-16 07:59:59               0.874188               6.547335   \n",
       "2017-10-16 08:59:59               0.714036               6.399846   \n",
       "2017-10-16 09:59:59               0.854959               6.406698   \n",
       "2017-10-16 10:59:59               3.563339               6.375240   \n",
       "2017-10-16 11:59:59               5.155553               6.687162   \n",
       "2017-10-16 12:59:59               5.032556               6.631572   \n",
       "2017-10-16 13:59:59               4.809103               6.475411   \n",
       "2017-10-16 14:59:59               4.682772               6.427836   \n",
       "2017-10-16 15:59:59               5.009923               6.532809   \n",
       "2017-11-11 06:59:59               4.060212               4.438150   \n",
       "2017-11-11 08:59:59               5.597806               5.577477   \n",
       "2017-11-11 19:59:59               9.248074               8.123216   \n",
       "2017-11-11 21:59:59               9.337482              10.740038   \n",
       "2017-11-11 22:59:59              10.119404              11.038593   \n",
       "2017-11-11 23:59:59              10.953552              11.765554   \n",
       "2017-11-12 00:59:59              10.462741              10.564497   \n",
       "2017-11-12 01:59:59               9.993101               9.822524   \n",
       "2017-11-12 02:59:59               9.658345               9.576121   \n",
       "2017-11-12 03:59:59               9.426219               9.351885   \n",
       "2017-11-12 15:59:59               7.369868               6.532411   \n",
       "2017-11-12 16:59:59               8.909174               7.935461   \n",
       "2017-11-12 17:59:59               3.133717               2.814341   \n",
       "2017-11-17 21:59:59               5.267650               6.411500   \n",
       "2017-11-17 22:59:59               5.528176               6.639617   \n",
       "2017-11-25 02:59:59               9.663538              10.138310   \n",
       "2017-11-25 03:59:59               9.933880              10.038180   \n",
       "2017-11-30 01:59:59               3.752116               4.394126   \n",
       "2017-12-02 17:59:59               7.100592               8.108111   \n",
       "2017-12-02 18:59:59               7.560704               8.543549   \n",
       "2017-12-02 19:59:59               8.735055               9.735369   \n",
       "2017-12-02 20:59:59               9.159042              10.316282   \n",
       "2017-12-02 21:59:59               9.223017              10.776343   \n",
       "2017-12-02 22:59:59               9.132163              10.788208   \n",
       "2017-12-02 23:59:59               9.544155              11.175215   \n",
       "2017-12-03 00:59:59               9.351690              11.082020   \n",
       "2017-12-03 01:59:59              10.972259              12.724722   \n",
       "2017-12-03 02:59:59              11.447280              12.438144   \n",
       "2017-12-03 03:59:59              11.278844              12.667775   \n",
       "2017-12-03 04:59:59              11.299531              12.798554   \n",
       "2017-12-03 05:59:59               9.950698              11.100107   \n",
       "2017-12-03 06:59:59               9.160525              10.584465   \n",
       "2017-12-03 07:59:59              10.084996              11.731205   \n",
       "2017-12-03 08:59:59              10.611729              12.018571   \n",
       "2017-12-03 09:59:59              10.538937              11.879119   \n",
       "2017-12-03 10:59:59              10.379927              11.407120   \n",
       "2017-12-03 11:59:59               7.549261               8.270800   \n",
       "2017-12-03 12:59:59              10.955976              11.821139   \n",
       "\n",
       "                     rougher.input.feed_pb  rougher.input.feed_sol  \\\n",
       "date                                                                 \n",
       "2017-08-25 01:59:59               3.083146               39.199021   \n",
       "2017-08-25 02:59:59               2.731967               39.901225   \n",
       "2017-08-25 03:59:59               2.690022               39.442244   \n",
       "2017-08-28 10:59:59               1.829621               35.559113   \n",
       "2017-08-29 03:59:59               3.859752               40.828380   \n",
       "2017-08-29 18:59:59               3.090519               40.754337   \n",
       "2017-09-04 06:59:59               3.993176               41.567898   \n",
       "2017-09-08 04:59:59               3.219471               42.974428   \n",
       "2017-09-08 23:59:59               3.278252               42.181420   \n",
       "2017-09-09 00:59:59               3.377968               43.831035   \n",
       "2017-09-16 04:59:59               3.895527               37.655175   \n",
       "2017-10-14 03:59:59               3.118238               39.145974   \n",
       "2017-10-14 04:59:59               2.937962               37.043624   \n",
       "2017-10-14 11:59:59               3.041000               36.331345   \n",
       "2017-10-14 12:59:59               3.055419               36.606267   \n",
       "2017-10-14 13:59:59               2.974508               36.388249   \n",
       "2017-10-14 14:59:59               2.872916               36.823038   \n",
       "2017-10-14 15:59:59               2.690252               37.899202   \n",
       "2017-10-14 16:59:59               2.707108               38.061088   \n",
       "2017-10-14 17:59:59               3.102239               39.581957   \n",
       "2017-10-14 18:59:59               3.397540               39.776459   \n",
       "2017-10-14 19:59:59               3.264683               40.555007   \n",
       "2017-10-14 20:59:59               2.827380               40.492128   \n",
       "2017-10-15 02:59:59               1.533528               41.581423   \n",
       "2017-10-15 03:59:59               1.533528               41.739046   \n",
       "2017-10-15 04:59:59               1.533528               36.353870   \n",
       "2017-10-15 05:59:59               1.533528               37.074476   \n",
       "2017-10-15 06:59:59               1.533528               35.578858   \n",
       "2017-10-15 07:59:59               1.533528               37.779850   \n",
       "2017-10-15 08:59:59               1.533528               36.416716   \n",
       "2017-10-15 09:59:59               1.533528               36.940068   \n",
       "2017-10-15 10:59:59               1.533528               37.420139   \n",
       "2017-10-15 11:59:59               1.533528               38.735277   \n",
       "2017-10-15 12:59:59               1.533528               37.873943   \n",
       "2017-10-15 13:59:59               1.533528               38.651286   \n",
       "2017-10-15 14:59:59               1.533528               38.904236   \n",
       "2017-10-15 15:59:59               1.533528               38.046686   \n",
       "2017-10-15 16:59:59               1.533528               37.507215   \n",
       "2017-10-15 17:59:59               1.533528               37.602376   \n",
       "2017-10-15 18:59:59               1.533528               38.135109   \n",
       "2017-10-15 19:59:59               1.533528               38.554759   \n",
       "2017-10-15 20:59:59               1.533528               38.813638   \n",
       "2017-10-15 21:59:59               1.533528               39.100910   \n",
       "2017-10-15 22:59:59               1.533528               38.246504   \n",
       "2017-10-15 23:59:59               1.533528               38.450828   \n",
       "2017-10-16 00:59:59               1.533528               30.485788   \n",
       "2017-10-16 01:59:59               1.533528               38.855149   \n",
       "2017-10-16 02:59:59               1.533528               39.209439   \n",
       "2017-10-16 03:59:59               1.533528               39.004020   \n",
       "2017-10-16 04:59:59               1.533528               38.779004   \n",
       "2017-10-16 05:59:59               1.533528               38.948144   \n",
       "2017-10-16 06:59:59               1.533528               38.462870   \n",
       "2017-10-16 07:59:59               1.533528               38.212792   \n",
       "2017-10-16 08:59:59               1.533528               38.327615   \n",
       "2017-10-16 09:59:59               1.533528               37.386651   \n",
       "2017-10-16 10:59:59               1.533528               38.916507   \n",
       "2017-10-16 11:59:59               2.196915               39.807545   \n",
       "2017-10-16 12:59:59               2.050654               39.500557   \n",
       "2017-10-16 13:59:59               1.951551               40.994999   \n",
       "2017-10-16 14:59:59               1.874697               40.678677   \n",
       "2017-10-16 15:59:59               1.968182               40.846566   \n",
       "2017-11-11 06:59:59               2.041924               29.968379   \n",
       "2017-11-11 08:59:59               2.691272               33.099705   \n",
       "2017-11-11 19:59:59               2.460529               41.535282   \n",
       "2017-11-11 21:59:59               2.351400               43.488762   \n",
       "2017-11-11 22:59:59               2.696696               42.623767   \n",
       "2017-11-11 23:59:59               3.177351               43.003475   \n",
       "2017-11-12 00:59:59               2.962876               43.541716   \n",
       "2017-11-12 01:59:59               2.786133               43.055719   \n",
       "2017-11-12 02:59:59               2.733479               42.650123   \n",
       "2017-11-12 03:59:59               2.556935               43.396814   \n",
       "2017-11-12 15:59:59               3.889325               31.141329   \n",
       "2017-11-12 16:59:59               4.660661               38.010484   \n",
       "2017-11-12 17:59:59               1.648467               13.588819   \n",
       "2017-11-17 21:59:59               4.260113               35.968880   \n",
       "2017-11-17 22:59:59               4.265180               36.700509   \n",
       "2017-11-25 02:59:59               3.817133               38.539232   \n",
       "2017-11-25 03:59:59               3.958324               37.266890   \n",
       "2017-11-30 01:59:59               2.182550                4.970329   \n",
       "2017-12-02 17:59:59               4.074451               36.293266   \n",
       "2017-12-02 18:59:59               4.369158               37.037313   \n",
       "2017-12-02 19:59:59               4.951496               35.906863   \n",
       "2017-12-02 20:59:59               5.021464               36.539491   \n",
       "2017-12-02 21:59:59               5.136326               36.991673   \n",
       "2017-12-02 22:59:59               5.173817               36.502105   \n",
       "2017-12-02 23:59:59               5.592203               37.139566   \n",
       "2017-12-03 00:59:59               5.719154               37.216116   \n",
       "2017-12-03 01:59:59               6.046661               36.908440   \n",
       "2017-12-03 02:59:59               6.126651               36.441239   \n",
       "2017-12-03 03:59:59               5.876464               35.815045   \n",
       "2017-12-03 04:59:59               6.030152               35.034528   \n",
       "2017-12-03 05:59:59               5.974925               37.180384   \n",
       "2017-12-03 06:59:59               5.175930               37.295935   \n",
       "2017-12-03 07:59:59               5.455192               37.459184   \n",
       "2017-12-03 08:59:59               5.802394               36.939986   \n",
       "2017-12-03 09:59:59               5.916240               36.748329   \n",
       "2017-12-03 10:59:59               6.154015               36.986787   \n",
       "2017-12-03 11:59:59               4.492912               25.538641   \n",
       "2017-12-03 12:59:59               6.380604               36.063279   \n",
       "\n",
       "                     rougher.input.feed_rate  rougher.input.feed_size  \\\n",
       "date                                                                    \n",
       "2017-08-25 01:59:59               624.839180                75.834018   \n",
       "2017-08-25 02:59:59               619.846411                86.210512   \n",
       "2017-08-25 03:59:59               649.300753                85.678354   \n",
       "2017-08-28 10:59:59               516.844060                58.347431   \n",
       "2017-08-29 03:59:59               557.734814                80.489388   \n",
       "2017-08-29 18:59:59               580.529297                77.209244   \n",
       "2017-09-04 06:59:59               566.305635                79.369725   \n",
       "2017-09-08 04:59:59               560.142431                74.058405   \n",
       "2017-09-08 23:59:59               599.944345                79.172588   \n",
       "2017-09-09 00:59:59               575.813511                91.208104   \n",
       "2017-09-16 04:59:59               573.733982                71.465892   \n",
       "2017-10-14 03:59:59               469.429626                67.478999   \n",
       "2017-10-14 04:59:59               449.931478                58.104492   \n",
       "2017-10-14 11:59:59               452.252766                56.235310   \n",
       "2017-10-14 12:59:59               499.010289                56.492193   \n",
       "2017-10-14 13:59:59               535.115022                56.492531   \n",
       "2017-10-14 14:59:59               580.087360                56.492869   \n",
       "2017-10-14 15:59:59               541.614886                56.493206   \n",
       "2017-10-14 16:59:59               570.405499                56.493544   \n",
       "2017-10-14 17:59:59               603.828767                56.493881   \n",
       "2017-10-14 18:59:59               621.508411                56.494219   \n",
       "2017-10-14 19:59:59               553.558484                56.494768   \n",
       "2017-10-14 20:59:59               585.471858                56.497088   \n",
       "2017-10-15 02:59:59               578.703315                56.499806   \n",
       "2017-10-15 03:59:59               574.378897                56.502525   \n",
       "2017-10-15 04:59:59               582.998177                56.507025   \n",
       "2017-10-15 05:59:59               590.158751                56.502182   \n",
       "2017-10-15 06:59:59               582.163034                56.497339   \n",
       "2017-10-15 07:59:59               531.087011                56.487652   \n",
       "2017-10-15 08:59:59               560.362328                56.482809   \n",
       "2017-10-15 09:59:59               561.801425                56.478425   \n",
       "2017-10-15 10:59:59               552.400782                56.477885   \n",
       "2017-10-15 11:59:59               570.367796                56.479190   \n",
       "2017-10-15 12:59:59               570.564679                56.479516   \n",
       "2017-10-15 13:59:59               569.399284                56.479842   \n",
       "2017-10-15 14:59:59               569.865238                56.480237   \n",
       "2017-10-15 15:59:59               569.852654                56.481200   \n",
       "2017-10-15 16:59:59               569.943674                56.482292   \n",
       "2017-10-15 17:59:59               549.362559                56.483383   \n",
       "2017-10-15 18:59:59               570.619260                56.484475   \n",
       "2017-10-15 19:59:59               569.727393                56.485566   \n",
       "2017-10-15 20:59:59               561.414742                56.486658   \n",
       "2017-10-15 21:59:59               569.607160                56.487749   \n",
       "2017-10-15 22:59:59               565.921970                60.923540   \n",
       "2017-10-15 23:59:59               568.454226                76.191942   \n",
       "2017-10-16 00:59:59               570.017198                71.837962   \n",
       "2017-10-16 01:59:59               569.700263                70.994351   \n",
       "2017-10-16 02:59:59               557.895772                76.054773   \n",
       "2017-10-16 03:59:59               570.442527                76.607974   \n",
       "2017-10-16 04:59:59               568.048295                75.931777   \n",
       "2017-10-16 05:59:59               570.755970                75.697791   \n",
       "2017-10-16 06:59:59               569.808047                75.083097   \n",
       "2017-10-16 07:59:59               548.460720                73.503656   \n",
       "2017-10-16 08:59:59               563.721057                72.687936   \n",
       "2017-10-16 09:59:59               547.605365                71.724261   \n",
       "2017-10-16 10:59:59               561.928692                74.760282   \n",
       "2017-10-16 11:59:59               559.888820                75.229291   \n",
       "2017-10-16 12:59:59               559.809471                73.143099   \n",
       "2017-10-16 13:59:59               562.654456                74.427558   \n",
       "2017-10-16 14:59:59               566.458200                75.012950   \n",
       "2017-10-16 15:59:59               554.875801                73.215987   \n",
       "2017-11-11 06:59:59               593.485776                80.177372   \n",
       "2017-11-11 08:59:59               601.359177                65.059678   \n",
       "2017-11-11 19:59:59               548.710612                68.299399   \n",
       "2017-11-11 21:59:59               599.783944                88.510875   \n",
       "2017-11-11 22:59:59               600.965139                87.171851   \n",
       "2017-11-11 23:59:59               577.592087                91.873159   \n",
       "2017-11-12 00:59:59               569.910652                89.775525   \n",
       "2017-11-12 01:59:59               552.339746                84.017107   \n",
       "2017-11-12 02:59:59               594.939279                82.627149   \n",
       "2017-11-12 03:59:59               599.180995                86.648801   \n",
       "2017-11-12 15:59:59               599.377851                71.009989   \n",
       "2017-11-12 16:59:59               599.424216                76.426503   \n",
       "2017-11-12 17:59:59               600.085875                80.058526   \n",
       "2017-11-17 21:59:59               545.517113                86.759892   \n",
       "2017-11-17 22:59:59               544.262957                76.460270   \n",
       "2017-11-25 02:59:59               567.993030                46.692619   \n",
       "2017-11-25 03:59:59               574.397840                46.694463   \n",
       "2017-11-30 01:59:59               275.491272                46.248737   \n",
       "2017-12-02 17:59:59               562.289468                63.987243   \n",
       "2017-12-02 18:59:59               596.073976                66.509706   \n",
       "2017-12-02 19:59:59               600.078867                66.436069   \n",
       "2017-12-02 20:59:59               585.213737                64.921663   \n",
       "2017-12-02 21:59:59               584.230975                62.783711   \n",
       "2017-12-02 22:59:59               572.070991                75.862680   \n",
       "2017-12-02 23:59:59               600.530830                76.203753   \n",
       "2017-12-03 00:59:59               604.822435                73.731721   \n",
       "2017-12-03 01:59:59               569.647284                76.506968   \n",
       "2017-12-03 02:59:59               539.469239                72.235606   \n",
       "2017-12-03 03:59:59               498.098025                71.413393   \n",
       "2017-12-03 04:59:59               532.019780                67.747447   \n",
       "2017-12-03 05:59:59               604.710184                81.403677   \n",
       "2017-12-03 06:59:59               605.558867                82.931005   \n",
       "2017-12-03 07:59:59               626.492352                81.944906   \n",
       "2017-12-03 08:59:59               583.730906                80.852496   \n",
       "2017-12-03 09:59:59               576.762661                79.317882   \n",
       "2017-12-03 10:59:59               582.295343                78.145974   \n",
       "2017-12-03 11:59:59               582.594289                78.345360   \n",
       "2017-12-03 12:59:59               345.412586                67.219121   \n",
       "\n",
       "                     rougher.input.floatbank10_sulfate  \\\n",
       "date                                                     \n",
       "2017-08-25 01:59:59                           9.879148   \n",
       "2017-08-25 02:59:59                           9.644634   \n",
       "2017-08-25 03:59:59                           9.476913   \n",
       "2017-08-28 10:59:59                           7.963172   \n",
       "2017-08-29 03:59:59                          11.685511   \n",
       "2017-08-29 18:59:59                           8.631435   \n",
       "2017-09-04 06:59:59                          11.040378   \n",
       "2017-09-08 04:59:59                           9.809074   \n",
       "2017-09-08 23:59:59                           9.345787   \n",
       "2017-09-09 00:59:59                          10.814759   \n",
       "2017-09-16 04:59:59                          13.375033   \n",
       "2017-10-14 03:59:59                           8.860904   \n",
       "2017-10-14 04:59:59                           7.333421   \n",
       "2017-10-14 11:59:59                           6.996346   \n",
       "2017-10-14 12:59:59                           7.197295   \n",
       "2017-10-14 13:59:59                           7.803673   \n",
       "2017-10-14 14:59:59                           8.259757   \n",
       "2017-10-14 15:59:59                           7.768199   \n",
       "2017-10-14 16:59:59                           7.600558   \n",
       "2017-10-14 17:59:59                           8.776707   \n",
       "2017-10-14 18:59:59                           9.868970   \n",
       "2017-10-14 19:59:59                           9.903913   \n",
       "2017-10-14 20:59:59                           9.461826   \n",
       "2017-10-15 02:59:59                           8.040675   \n",
       "2017-10-15 03:59:59                           5.053696   \n",
       "2017-10-15 04:59:59                           4.997086   \n",
       "2017-10-15 05:59:59                           4.981458   \n",
       "2017-10-15 06:59:59                           5.001577   \n",
       "2017-10-15 07:59:59                           4.999422   \n",
       "2017-10-15 08:59:59                           4.990482   \n",
       "2017-10-15 09:59:59                           5.000573   \n",
       "2017-10-15 10:59:59                           5.007551   \n",
       "2017-10-15 11:59:59                           4.997247   \n",
       "2017-10-15 12:59:59                           5.004217   \n",
       "2017-10-15 13:59:59                           4.995212   \n",
       "2017-10-15 14:59:59                           5.006907   \n",
       "2017-10-15 15:59:59                           5.014609   \n",
       "2017-10-15 16:59:59                           4.994334   \n",
       "2017-10-15 17:59:59                           5.002251   \n",
       "2017-10-15 18:59:59                           4.995016   \n",
       "2017-10-15 19:59:59                           4.989635   \n",
       "2017-10-15 20:59:59                           5.017819   \n",
       "2017-10-15 21:59:59                           4.997346   \n",
       "2017-10-15 22:59:59                           5.000140   \n",
       "2017-10-15 23:59:59                           5.004341   \n",
       "2017-10-16 00:59:59                           4.995690   \n",
       "2017-10-16 01:59:59                           4.999914   \n",
       "2017-10-16 02:59:59                           4.997095   \n",
       "2017-10-16 03:59:59                           5.006776   \n",
       "2017-10-16 04:59:59                           5.000912   \n",
       "2017-10-16 05:59:59                           4.991161   \n",
       "2017-10-16 06:59:59                           4.996435   \n",
       "2017-10-16 07:59:59                           5.003545   \n",
       "2017-10-16 08:59:59                           5.004314   \n",
       "2017-10-16 09:59:59                           4.994794   \n",
       "2017-10-16 10:59:59                           5.586358   \n",
       "2017-10-16 11:59:59                           6.927869   \n",
       "2017-10-16 12:59:59                           6.504886   \n",
       "2017-10-16 13:59:59                           6.164528   \n",
       "2017-10-16 14:59:59                           6.080932   \n",
       "2017-10-16 15:59:59                           6.394167   \n",
       "2017-11-11 06:59:59                           9.384378   \n",
       "2017-11-11 08:59:59                          11.156565   \n",
       "2017-11-11 19:59:59                          12.652055   \n",
       "2017-11-11 21:59:59                          14.970712   \n",
       "2017-11-11 22:59:59                          15.547575   \n",
       "2017-11-11 23:59:59                          16.069821   \n",
       "2017-11-12 00:59:59                          14.705703   \n",
       "2017-11-12 01:59:59                          14.019688   \n",
       "2017-11-12 02:59:59                          14.227089   \n",
       "2017-11-12 03:59:59                          15.466815   \n",
       "2017-11-12 15:59:59                          15.707986   \n",
       "2017-11-12 16:59:59                          16.283798   \n",
       "2017-11-12 17:59:59                          15.515442   \n",
       "2017-11-17 21:59:59                           8.272767   \n",
       "2017-11-17 22:59:59                           8.716840   \n",
       "2017-11-25 02:59:59                          13.782924   \n",
       "2017-11-25 03:59:59                          14.049556   \n",
       "2017-11-30 01:59:59                           3.492741   \n",
       "2017-12-02 17:59:59                          12.648813   \n",
       "2017-12-02 18:59:59                          13.544417   \n",
       "2017-12-02 19:59:59                          17.440695   \n",
       "2017-12-02 20:59:59                          18.935381   \n",
       "2017-12-02 21:59:59                          18.193559   \n",
       "2017-12-02 22:59:59                          17.342472   \n",
       "2017-12-02 23:59:59                          18.276346   \n",
       "2017-12-03 00:59:59                          18.122407   \n",
       "2017-12-03 01:59:59                          13.629360   \n",
       "2017-12-03 02:59:59                          13.222688   \n",
       "2017-12-03 03:59:59                          12.659598   \n",
       "2017-12-03 04:59:59                          12.640488   \n",
       "2017-12-03 05:59:59                          12.207633   \n",
       "2017-12-03 06:59:59                          11.772188   \n",
       "2017-12-03 07:59:59                          12.217902   \n",
       "2017-12-03 08:59:59                          13.080475   \n",
       "2017-12-03 09:59:59                          12.762951   \n",
       "2017-12-03 10:59:59                          12.346890   \n",
       "2017-12-03 11:59:59                          12.830254   \n",
       "2017-12-03 12:59:59                          10.358709   \n",
       "\n",
       "                     rougher.input.floatbank10_xanthate  \\\n",
       "date                                                      \n",
       "2017-08-25 01:59:59                            7.595310   \n",
       "2017-08-25 02:59:59                            7.599772   \n",
       "2017-08-25 03:59:59                            7.600887   \n",
       "2017-08-28 10:59:59                            6.996683   \n",
       "2017-08-29 03:59:59                            7.496390   \n",
       "2017-08-29 18:59:59                            7.003563   \n",
       "2017-09-04 06:59:59                            7.499491   \n",
       "2017-09-08 04:59:59                            7.496532   \n",
       "2017-09-08 23:59:59                            7.098478   \n",
       "2017-09-09 00:59:59                            7.100028   \n",
       "2017-09-16 04:59:59                            6.910115   \n",
       "2017-10-14 03:59:59                            5.994986   \n",
       "2017-10-14 04:59:59                            6.005524   \n",
       "2017-10-14 11:59:59                            5.999497   \n",
       "2017-10-14 12:59:59                            6.006284   \n",
       "2017-10-14 13:59:59                            6.000424   \n",
       "2017-10-14 14:59:59                            6.000975   \n",
       "2017-10-14 15:59:59                            5.998493   \n",
       "2017-10-14 16:59:59                            6.002209   \n",
       "2017-10-14 17:59:59                            6.003504   \n",
       "2017-10-14 18:59:59                            5.999318   \n",
       "2017-10-14 19:59:59                            6.592099   \n",
       "2017-10-14 20:59:59                            6.999711   \n",
       "2017-10-15 02:59:59                            5.988365   \n",
       "2017-10-15 03:59:59                            5.498925   \n",
       "2017-10-15 04:59:59                            4.799549   \n",
       "2017-10-15 05:59:59                            4.795947   \n",
       "2017-10-15 06:59:59                            4.798218   \n",
       "2017-10-15 07:59:59                            4.799903   \n",
       "2017-10-15 08:59:59                            4.799624   \n",
       "2017-10-15 09:59:59                            4.799043   \n",
       "2017-10-15 10:59:59                            4.802509   \n",
       "2017-10-15 11:59:59                            4.797275   \n",
       "2017-10-15 12:59:59                            4.799253   \n",
       "2017-10-15 13:59:59                            4.794168   \n",
       "2017-10-15 14:59:59                            4.799384   \n",
       "2017-10-15 15:59:59                            4.805323   \n",
       "2017-10-15 16:59:59                            4.800639   \n",
       "2017-10-15 17:59:59                            4.798314   \n",
       "2017-10-15 18:59:59                            4.801058   \n",
       "2017-10-15 19:59:59                            4.805048   \n",
       "2017-10-15 20:59:59                            4.796846   \n",
       "2017-10-15 21:59:59                            4.804888   \n",
       "2017-10-15 22:59:59                            4.796442   \n",
       "2017-10-15 23:59:59                            4.797644   \n",
       "2017-10-16 00:59:59                            4.801282   \n",
       "2017-10-16 01:59:59                            4.799302   \n",
       "2017-10-16 02:59:59                            4.803104   \n",
       "2017-10-16 03:59:59                            4.796710   \n",
       "2017-10-16 04:59:59                            4.796658   \n",
       "2017-10-16 05:59:59                            4.797556   \n",
       "2017-10-16 06:59:59                            4.803483   \n",
       "2017-10-16 07:59:59                            4.801420   \n",
       "2017-10-16 08:59:59                            4.798006   \n",
       "2017-10-16 09:59:59                            4.801791   \n",
       "2017-10-16 10:59:59                            5.194897   \n",
       "2017-10-16 11:59:59                            6.178421   \n",
       "2017-10-16 12:59:59                            6.502484   \n",
       "2017-10-16 13:59:59                            6.500169   \n",
       "2017-10-16 14:59:59                            6.498269   \n",
       "2017-10-16 15:59:59                            6.497104   \n",
       "2017-11-11 06:59:59                            6.299952   \n",
       "2017-11-11 08:59:59                            6.296555   \n",
       "2017-11-11 19:59:59                            5.995511   \n",
       "2017-11-11 21:59:59                            6.201872   \n",
       "2017-11-11 22:59:59                            6.201701   \n",
       "2017-11-11 23:59:59                            6.202116   \n",
       "2017-11-12 00:59:59                            6.198622   \n",
       "2017-11-12 01:59:59                            6.196911   \n",
       "2017-11-12 02:59:59                            6.201252   \n",
       "2017-11-12 03:59:59                            6.198526   \n",
       "2017-11-12 15:59:59                            6.802205   \n",
       "2017-11-12 16:59:59                            6.796721   \n",
       "2017-11-12 17:59:59                            6.802888   \n",
       "2017-11-17 21:59:59                            6.100372   \n",
       "2017-11-17 22:59:59                            6.096188   \n",
       "2017-11-25 02:59:59                            6.205128   \n",
       "2017-11-25 03:59:59                            6.499100   \n",
       "2017-11-30 01:59:59                            2.002562   \n",
       "2017-12-02 17:59:59                            6.897332   \n",
       "2017-12-02 18:59:59                            6.901825   \n",
       "2017-12-02 19:59:59                            6.901870   \n",
       "2017-12-02 20:59:59                            6.988634   \n",
       "2017-12-02 21:59:59                            7.095527   \n",
       "2017-12-02 22:59:59                            7.097605   \n",
       "2017-12-02 23:59:59                            7.099498   \n",
       "2017-12-03 00:59:59                            7.100135   \n",
       "2017-12-03 01:59:59                            7.103539   \n",
       "2017-12-03 02:59:59                            7.102268   \n",
       "2017-12-03 03:59:59                            7.104897   \n",
       "2017-12-03 04:59:59                            7.100995   \n",
       "2017-12-03 05:59:59                            7.100107   \n",
       "2017-12-03 06:59:59                            7.103982   \n",
       "2017-12-03 07:59:59                            7.096359   \n",
       "2017-12-03 08:59:59                            7.112292   \n",
       "2017-12-03 09:59:59                            7.304522   \n",
       "2017-12-03 10:59:59                            7.297878   \n",
       "2017-12-03 11:59:59                            7.298572   \n",
       "2017-12-03 12:59:59                            5.520733   \n",
       "\n",
       "                     rougher.state.floatbank10_a_air  \\\n",
       "date                                                   \n",
       "2017-08-25 01:59:59                      1396.056283   \n",
       "2017-08-25 02:59:59                      1398.910393   \n",
       "2017-08-25 03:59:59                      1400.673119   \n",
       "2017-08-28 10:59:59                      1399.233038   \n",
       "2017-08-29 03:59:59                      1401.371854   \n",
       "2017-08-29 18:59:59                      1399.615639   \n",
       "2017-09-04 06:59:59                      1407.161903   \n",
       "2017-09-08 04:59:59                      1398.024306   \n",
       "2017-09-08 23:59:59                      1401.346649   \n",
       "2017-09-09 00:59:59                      1404.259410   \n",
       "2017-09-16 04:59:59                      1398.449650   \n",
       "2017-10-14 03:59:59                      1200.766089   \n",
       "2017-10-14 04:59:59                      1199.691718   \n",
       "2017-10-14 11:59:59                      1199.691148   \n",
       "2017-10-14 12:59:59                      1197.976143   \n",
       "2017-10-14 13:59:59                      1196.865807   \n",
       "2017-10-14 14:59:59                      1200.137091   \n",
       "2017-10-14 15:59:59                      1206.143764   \n",
       "2017-10-14 16:59:59                      1198.283560   \n",
       "2017-10-14 17:59:59                      1196.861280   \n",
       "2017-10-14 18:59:59                      1201.330031   \n",
       "2017-10-14 19:59:59                      1201.169191   \n",
       "2017-10-14 20:59:59                      1199.513152   \n",
       "2017-10-15 02:59:59                      1198.982259   \n",
       "2017-10-15 03:59:59                      1201.251521   \n",
       "2017-10-15 04:59:59                      1205.104984   \n",
       "2017-10-15 05:59:59                      1200.270892   \n",
       "2017-10-15 06:59:59                      1199.947796   \n",
       "2017-10-15 07:59:59                      1201.166496   \n",
       "2017-10-15 08:59:59                      1198.967980   \n",
       "2017-10-15 09:59:59                      1195.149652   \n",
       "2017-10-15 10:59:59                      1200.510169   \n",
       "2017-10-15 11:59:59                      1200.282902   \n",
       "2017-10-15 12:59:59                      1201.535305   \n",
       "2017-10-15 13:59:59                      1203.074292   \n",
       "2017-10-15 14:59:59                      1196.604117   \n",
       "2017-10-15 15:59:59                      1203.962312   \n",
       "2017-10-15 16:59:59                      1200.072170   \n",
       "2017-10-15 17:59:59                      1197.967903   \n",
       "2017-10-15 18:59:59                      1198.242398   \n",
       "2017-10-15 19:59:59                      1202.325287   \n",
       "2017-10-15 20:59:59                      1197.292859   \n",
       "2017-10-15 21:59:59                      1199.146013   \n",
       "2017-10-15 22:59:59                      1199.842051   \n",
       "2017-10-15 23:59:59                      1200.087249   \n",
       "2017-10-16 00:59:59                      1200.055786   \n",
       "2017-10-16 01:59:59                      1204.051143   \n",
       "2017-10-16 02:59:59                      1200.000390   \n",
       "2017-10-16 03:59:59                      1196.882912   \n",
       "2017-10-16 04:59:59                      1199.428619   \n",
       "2017-10-16 05:59:59                      1199.683852   \n",
       "2017-10-16 06:59:59                      1203.415858   \n",
       "2017-10-16 07:59:59                      1200.777630   \n",
       "2017-10-16 08:59:59                      1199.309740   \n",
       "2017-10-16 09:59:59                      1201.955614   \n",
       "2017-10-16 10:59:59                      1200.014228   \n",
       "2017-10-16 11:59:59                      1200.959304   \n",
       "2017-10-16 12:59:59                      1203.512176   \n",
       "2017-10-16 13:59:59                      1202.497365   \n",
       "2017-10-16 14:59:59                      1195.086704   \n",
       "2017-10-16 15:59:59                      1200.414713   \n",
       "2017-11-11 06:59:59                       999.348181   \n",
       "2017-11-11 08:59:59                       997.801606   \n",
       "2017-11-11 19:59:59                       999.144230   \n",
       "2017-11-11 21:59:59                       996.532528   \n",
       "2017-11-11 22:59:59                      1002.976895   \n",
       "2017-11-11 23:59:59                       998.698989   \n",
       "2017-11-12 00:59:59                       999.352414   \n",
       "2017-11-12 01:59:59                      1003.332063   \n",
       "2017-11-12 02:59:59                       997.278181   \n",
       "2017-11-12 03:59:59                       995.721347   \n",
       "2017-11-12 15:59:59                      1001.817045   \n",
       "2017-11-12 16:59:59                      1000.492147   \n",
       "2017-11-12 17:59:59                       996.832713   \n",
       "2017-11-17 21:59:59                      1001.436599   \n",
       "2017-11-17 22:59:59                       999.684172   \n",
       "2017-11-25 02:59:59                       999.996916   \n",
       "2017-11-25 03:59:59                      1000.432134   \n",
       "2017-11-30 01:59:59                      1296.142070   \n",
       "2017-12-02 17:59:59                      1298.365543   \n",
       "2017-12-02 18:59:59                      1300.200628   \n",
       "2017-12-02 19:59:59                      1300.673182   \n",
       "2017-12-02 20:59:59                      1299.879764   \n",
       "2017-12-02 21:59:59                      1300.352901   \n",
       "2017-12-02 22:59:59                      1299.590573   \n",
       "2017-12-02 23:59:59                      1301.894862   \n",
       "2017-12-03 00:59:59                      1300.658855   \n",
       "2017-12-03 01:59:59                      1304.308157   \n",
       "2017-12-03 02:59:59                      1208.719461   \n",
       "2017-12-03 03:59:59                      1201.916384   \n",
       "2017-12-03 04:59:59                      1200.222560   \n",
       "2017-12-03 05:59:59                      1195.805238   \n",
       "2017-12-03 06:59:59                      1203.851600   \n",
       "2017-12-03 07:59:59                      1194.824682   \n",
       "2017-12-03 08:59:59                      1205.083488   \n",
       "2017-12-03 09:59:59                      1201.347623   \n",
       "2017-12-03 10:59:59                      1200.814380   \n",
       "2017-12-03 11:59:59                      1199.907319   \n",
       "2017-12-03 12:59:59                      1200.373770   \n",
       "\n",
       "                     rougher.state.floatbank10_a_level  ...  \\\n",
       "date                                                    ...   \n",
       "2017-08-25 01:59:59                        -299.972334  ...   \n",
       "2017-08-25 02:59:59                        -300.294509  ...   \n",
       "2017-08-25 03:59:59                        -299.843507  ...   \n",
       "2017-08-28 10:59:59                        -300.069984  ...   \n",
       "2017-08-29 03:59:59                        -300.227375  ...   \n",
       "2017-08-29 18:59:59                        -300.116955  ...   \n",
       "2017-09-04 06:59:59                        -299.833320  ...   \n",
       "2017-09-08 04:59:59                        -299.930487  ...   \n",
       "2017-09-08 23:59:59                        -300.065911  ...   \n",
       "2017-09-09 00:59:59                        -300.108959  ...   \n",
       "2017-09-16 04:59:59                        -299.901949  ...   \n",
       "2017-10-14 03:59:59                        -300.293541  ...   \n",
       "2017-10-14 04:59:59                        -300.190339  ...   \n",
       "2017-10-14 11:59:59                        -299.725592  ...   \n",
       "2017-10-14 12:59:59                        -299.793875  ...   \n",
       "2017-10-14 13:59:59                        -299.730056  ...   \n",
       "2017-10-14 14:59:59                        -300.055183  ...   \n",
       "2017-10-14 15:59:59                        -300.047579  ...   \n",
       "2017-10-14 16:59:59                        -300.202865  ...   \n",
       "2017-10-14 17:59:59                        -299.560782  ...   \n",
       "2017-10-14 18:59:59                        -299.908714  ...   \n",
       "2017-10-14 19:59:59                        -300.682197  ...   \n",
       "2017-10-14 20:59:59                        -299.709588  ...   \n",
       "2017-10-15 02:59:59                        -299.940074  ...   \n",
       "2017-10-15 03:59:59                        -300.018283  ...   \n",
       "2017-10-15 04:59:59                        -300.210732  ...   \n",
       "2017-10-15 05:59:59                        -299.881545  ...   \n",
       "2017-10-15 06:59:59                        -300.138610  ...   \n",
       "2017-10-15 07:59:59                        -299.523726  ...   \n",
       "2017-10-15 08:59:59                        -300.365650  ...   \n",
       "2017-10-15 09:59:59                        -300.074560  ...   \n",
       "2017-10-15 10:59:59                        -300.238284  ...   \n",
       "2017-10-15 11:59:59                        -299.968159  ...   \n",
       "2017-10-15 12:59:59                        -300.004633  ...   \n",
       "2017-10-15 13:59:59                        -300.178032  ...   \n",
       "2017-10-15 14:59:59                        -299.839863  ...   \n",
       "2017-10-15 15:59:59                        -299.835757  ...   \n",
       "2017-10-15 16:59:59                        -299.707898  ...   \n",
       "2017-10-15 17:59:59                        -299.995413  ...   \n",
       "2017-10-15 18:59:59                        -300.004824  ...   \n",
       "2017-10-15 19:59:59                        -300.062234  ...   \n",
       "2017-10-15 20:59:59                        -300.109495  ...   \n",
       "2017-10-15 21:59:59                        -299.883866  ...   \n",
       "2017-10-15 22:59:59                        -299.992846  ...   \n",
       "2017-10-15 23:59:59                        -300.153145  ...   \n",
       "2017-10-16 00:59:59                        -299.823773  ...   \n",
       "2017-10-16 01:59:59                        -300.252936  ...   \n",
       "2017-10-16 02:59:59                        -300.095828  ...   \n",
       "2017-10-16 03:59:59                        -300.035472  ...   \n",
       "2017-10-16 04:59:59                        -300.147095  ...   \n",
       "2017-10-16 05:59:59                        -300.195312  ...   \n",
       "2017-10-16 06:59:59                        -300.046675  ...   \n",
       "2017-10-16 07:59:59                        -300.070833  ...   \n",
       "2017-10-16 08:59:59                        -300.007347  ...   \n",
       "2017-10-16 09:59:59                        -304.756485  ...   \n",
       "2017-10-16 10:59:59                        -300.070946  ...   \n",
       "2017-10-16 11:59:59                        -299.805253  ...   \n",
       "2017-10-16 12:59:59                        -299.640277  ...   \n",
       "2017-10-16 13:59:59                        -299.987137  ...   \n",
       "2017-10-16 14:59:59                        -299.814542  ...   \n",
       "2017-10-16 15:59:59                        -299.911991  ...   \n",
       "2017-11-11 06:59:59                        -299.879910  ...   \n",
       "2017-11-11 08:59:59                        -299.965432  ...   \n",
       "2017-11-11 19:59:59                        -300.132332  ...   \n",
       "2017-11-11 21:59:59                        -300.189049  ...   \n",
       "2017-11-11 22:59:59                        -300.216355  ...   \n",
       "2017-11-11 23:59:59                        -299.925998  ...   \n",
       "2017-11-12 00:59:59                        -299.977268  ...   \n",
       "2017-11-12 01:59:59                        -300.243794  ...   \n",
       "2017-11-12 02:59:59                        -299.975477  ...   \n",
       "2017-11-12 03:59:59                        -300.038419  ...   \n",
       "2017-11-12 15:59:59                        -300.063428  ...   \n",
       "2017-11-12 16:59:59                        -300.078660  ...   \n",
       "2017-11-12 17:59:59                        -300.051537  ...   \n",
       "2017-11-17 21:59:59                        -299.941247  ...   \n",
       "2017-11-17 22:59:59                        -300.095153  ...   \n",
       "2017-11-25 02:59:59                        -300.041434  ...   \n",
       "2017-11-25 03:59:59                        -300.076429  ...   \n",
       "2017-11-30 01:59:59                        -300.205799  ...   \n",
       "2017-12-02 17:59:59                        -300.036630  ...   \n",
       "2017-12-02 18:59:59                        -300.024178  ...   \n",
       "2017-12-02 19:59:59                        -300.014202  ...   \n",
       "2017-12-02 20:59:59                        -299.794107  ...   \n",
       "2017-12-02 21:59:59                        -299.646762  ...   \n",
       "2017-12-02 22:59:59                        -299.908789  ...   \n",
       "2017-12-02 23:59:59                        -300.005505  ...   \n",
       "2017-12-03 00:59:59                        -299.950232  ...   \n",
       "2017-12-03 01:59:59                        -299.713285  ...   \n",
       "2017-12-03 02:59:59                        -299.942120  ...   \n",
       "2017-12-03 03:59:59                        -300.286825  ...   \n",
       "2017-12-03 04:59:59                        -300.054934  ...   \n",
       "2017-12-03 05:59:59                        -300.178675  ...   \n",
       "2017-12-03 06:59:59                        -300.018854  ...   \n",
       "2017-12-03 07:59:59                        -300.236945  ...   \n",
       "2017-12-03 08:59:59                        -300.019951  ...   \n",
       "2017-12-03 09:59:59                        -299.943042  ...   \n",
       "2017-12-03 10:59:59                        -300.333921  ...   \n",
       "2017-12-03 11:59:59                        -300.116449  ...   \n",
       "2017-12-03 12:59:59                        -299.563152  ...   \n",
       "\n",
       "                     secondary_cleaner.output.tail_sol  \\\n",
       "date                                                     \n",
       "2017-08-25 01:59:59                           4.404968   \n",
       "2017-08-25 02:59:59                           4.628381   \n",
       "2017-08-25 03:59:59                           4.170550   \n",
       "2017-08-28 10:59:59                           2.084210   \n",
       "2017-08-29 03:59:59                           2.547359   \n",
       "2017-08-29 18:59:59                           1.079847   \n",
       "2017-09-04 06:59:59                           4.728183   \n",
       "2017-09-08 04:59:59                           4.698726   \n",
       "2017-09-08 23:59:59                           2.888064   \n",
       "2017-09-09 00:59:59                           3.898328   \n",
       "2017-09-16 04:59:59                           1.368851   \n",
       "2017-10-14 03:59:59                           2.607754   \n",
       "2017-10-14 04:59:59                           2.607754   \n",
       "2017-10-14 11:59:59                           2.607754   \n",
       "2017-10-14 12:59:59                           2.607754   \n",
       "2017-10-14 13:59:59                           2.607754   \n",
       "2017-10-14 14:59:59                           2.607754   \n",
       "2017-10-14 15:59:59                           2.607754   \n",
       "2017-10-14 16:59:59                           2.607754   \n",
       "2017-10-14 17:59:59                           2.607754   \n",
       "2017-10-14 18:59:59                           2.607754   \n",
       "2017-10-14 19:59:59                           2.021586   \n",
       "2017-10-14 20:59:59                           1.996292   \n",
       "2017-10-15 02:59:59                           2.144401   \n",
       "2017-10-15 03:59:59                           2.144401   \n",
       "2017-10-15 04:59:59                           2.144401   \n",
       "2017-10-15 05:59:59                           2.144401   \n",
       "2017-10-15 06:59:59                           0.567186   \n",
       "2017-10-15 07:59:59                           0.193370   \n",
       "2017-10-15 08:59:59                           0.924876   \n",
       "2017-10-15 09:59:59                           1.105374   \n",
       "2017-10-15 10:59:59                           1.435295   \n",
       "2017-10-15 11:59:59                           0.207111   \n",
       "2017-10-15 12:59:59                           0.951895   \n",
       "2017-10-15 13:59:59                           1.079404   \n",
       "2017-10-15 14:59:59                           1.416502   \n",
       "2017-10-15 15:59:59                           2.178320   \n",
       "2017-10-15 16:59:59                           1.682406   \n",
       "2017-10-15 17:59:59                           0.726765   \n",
       "2017-10-15 18:59:59                           0.458279   \n",
       "2017-10-15 19:59:59                           0.510706   \n",
       "2017-10-15 20:59:59                           1.270713   \n",
       "2017-10-15 21:59:59                           1.547558   \n",
       "2017-10-15 22:59:59                           1.736730   \n",
       "2017-10-15 23:59:59                           1.799360   \n",
       "2017-10-16 00:59:59                           1.865930   \n",
       "2017-10-16 01:59:59                           2.624193   \n",
       "2017-10-16 02:59:59                           1.952814   \n",
       "2017-10-16 03:59:59                           1.236439   \n",
       "2017-10-16 04:59:59                           1.558270   \n",
       "2017-10-16 05:59:59                           1.853631   \n",
       "2017-10-16 06:59:59                           1.906609   \n",
       "2017-10-16 07:59:59                           1.427457   \n",
       "2017-10-16 08:59:59                           1.427457   \n",
       "2017-10-16 09:59:59                           1.427457   \n",
       "2017-10-16 10:59:59                           1.427457   \n",
       "2017-10-16 11:59:59                           1.427457   \n",
       "2017-10-16 12:59:59                           1.875969   \n",
       "2017-10-16 13:59:59                           3.654221   \n",
       "2017-10-16 14:59:59                           3.654221   \n",
       "2017-10-16 15:59:59                           3.654221   \n",
       "2017-11-11 06:59:59                           0.957925   \n",
       "2017-11-11 08:59:59                           1.048871   \n",
       "2017-11-11 19:59:59                           2.459821   \n",
       "2017-11-11 21:59:59                           0.000000   \n",
       "2017-11-11 22:59:59                           0.000000   \n",
       "2017-11-11 23:59:59                           0.000000   \n",
       "2017-11-12 00:59:59                           0.000000   \n",
       "2017-11-12 01:59:59                           2.969109   \n",
       "2017-11-12 02:59:59                           0.000000   \n",
       "2017-11-12 03:59:59                           0.000000   \n",
       "2017-11-12 15:59:59                           0.175434   \n",
       "2017-11-12 16:59:59                           0.175434   \n",
       "2017-11-12 17:59:59                           0.175434   \n",
       "2017-11-17 21:59:59                           0.326023   \n",
       "2017-11-17 22:59:59                           0.326023   \n",
       "2017-11-25 02:59:59                           3.738951   \n",
       "2017-11-25 03:59:59                           3.562084   \n",
       "2017-11-30 01:59:59                           0.821512   \n",
       "2017-12-02 17:59:59                           0.703673   \n",
       "2017-12-02 18:59:59                           0.703673   \n",
       "2017-12-02 19:59:59                           0.485815   \n",
       "2017-12-02 20:59:59                           2.714637   \n",
       "2017-12-02 21:59:59                           4.202663   \n",
       "2017-12-02 22:59:59                           4.952467   \n",
       "2017-12-02 23:59:59                           4.975402   \n",
       "2017-12-03 00:59:59                           5.440890   \n",
       "2017-12-03 01:59:59                           7.342377   \n",
       "2017-12-03 02:59:59                           6.969214   \n",
       "2017-12-03 03:59:59                           6.446710   \n",
       "2017-12-03 04:59:59                           6.940692   \n",
       "2017-12-03 05:59:59                           6.288529   \n",
       "2017-12-03 06:59:59                           6.464108   \n",
       "2017-12-03 07:59:59                           5.313124   \n",
       "2017-12-03 08:59:59                           5.842365   \n",
       "2017-12-03 09:59:59                           7.661821   \n",
       "2017-12-03 10:59:59                           7.057754   \n",
       "2017-12-03 11:59:59                           4.320132   \n",
       "2017-12-03 12:59:59                           7.143755   \n",
       "\n",
       "                     final.output.concentrate_au  final.output.concentrate_ag  \\\n",
       "date                                                                            \n",
       "2017-08-25 01:59:59                    43.539538                     6.726756   \n",
       "2017-08-25 02:59:59                    46.270458                     5.487604   \n",
       "2017-08-25 03:59:59                    46.542596                     5.416265   \n",
       "2017-08-28 10:59:59                     8.959882                     1.573483   \n",
       "2017-08-29 03:59:59                    44.325080                     5.705777   \n",
       "2017-08-29 18:59:59                    43.544959                     5.851222   \n",
       "2017-09-04 06:59:59                    44.357003                     6.065785   \n",
       "2017-09-08 04:59:59                    43.083309                     6.293435   \n",
       "2017-09-08 23:59:59                    45.875289                     5.831580   \n",
       "2017-09-09 00:59:59                    44.354984                     6.186060   \n",
       "2017-09-16 04:59:59                    45.371362                     5.232939   \n",
       "2017-10-14 03:59:59                    42.525172                     6.185016   \n",
       "2017-10-14 04:59:59                    43.277438                     5.895141   \n",
       "2017-10-14 11:59:59                    44.833258                     5.318046   \n",
       "2017-10-14 12:59:59                    43.825298                     5.596762   \n",
       "2017-10-14 13:59:59                    44.423066                     5.331514   \n",
       "2017-10-14 14:59:59                    45.127819                     5.097291   \n",
       "2017-10-14 15:59:59                    46.217237                     4.796146   \n",
       "2017-10-14 16:59:59                    47.017610                     4.579082   \n",
       "2017-10-14 17:59:59                    46.575828                     4.721623   \n",
       "2017-10-14 18:59:59                    46.901379                     4.642588   \n",
       "2017-10-14 19:59:59                    45.581985                     4.962091   \n",
       "2017-10-14 20:59:59                    44.545999                     5.510057   \n",
       "2017-10-15 02:59:59                    42.431382                     6.370225   \n",
       "2017-10-15 03:59:59                    43.799048                     5.936281   \n",
       "2017-10-15 04:59:59                    50.518813                     5.644008   \n",
       "2017-10-15 05:59:59                    48.817110                     6.213038   \n",
       "2017-10-15 06:59:59                    46.489701                     7.457426   \n",
       "2017-10-15 07:59:59                    48.325457                     6.637425   \n",
       "2017-10-15 08:59:59                    46.377506                     7.233254   \n",
       "2017-10-15 09:59:59                    42.965881                     8.688559   \n",
       "2017-10-15 10:59:59                    42.040614                     9.043685   \n",
       "2017-10-15 11:59:59                    50.782987                     5.744461   \n",
       "2017-10-15 12:59:59                    48.739132                     6.395027   \n",
       "2017-10-15 13:59:59                    44.836669                     8.037752   \n",
       "2017-10-15 14:59:59                    42.360070                     9.128393   \n",
       "2017-10-15 15:59:59                    45.396962                     7.811325   \n",
       "2017-10-15 16:59:59                    48.317604                     6.333921   \n",
       "2017-10-15 17:59:59                    47.622134                     6.761821   \n",
       "2017-10-15 18:59:59                    49.553446                     5.964556   \n",
       "2017-10-15 19:59:59                    51.090024                     5.195237   \n",
       "2017-10-15 20:59:59                    49.612065                     5.641310   \n",
       "2017-10-15 21:59:59                    48.037633                     6.248852   \n",
       "2017-10-15 22:59:59                    48.600206                     6.100038   \n",
       "2017-10-15 23:59:59                    48.738412                     6.008527   \n",
       "2017-10-16 00:59:59                    37.661198                     4.249354   \n",
       "2017-10-16 01:59:59                    49.262176                     5.144048   \n",
       "2017-10-16 02:59:59                    49.693917                     5.262120   \n",
       "2017-10-16 03:59:59                    50.903938                     5.066737   \n",
       "2017-10-16 04:59:59                    50.774433                     4.965457   \n",
       "2017-10-16 05:59:59                    50.260437                     5.119908   \n",
       "2017-10-16 06:59:59                    49.678402                     5.271876   \n",
       "2017-10-16 07:59:59                    50.354879                     5.082084   \n",
       "2017-10-16 08:59:59                    51.215084                     4.711938   \n",
       "2017-10-16 09:59:59                    52.756638                     4.438514   \n",
       "2017-10-16 10:59:59                    52.681725                     4.249892   \n",
       "2017-10-16 11:59:59                    40.380379                     8.729442   \n",
       "2017-10-16 12:59:59                    36.686200                    10.579198   \n",
       "2017-10-16 13:59:59                    44.966473                     5.273076   \n",
       "2017-10-16 14:59:59                    44.243572                     5.716233   \n",
       "2017-10-16 15:59:59                    47.756209                     4.376497   \n",
       "2017-11-11 06:59:59                    37.012913                     3.473964   \n",
       "2017-11-11 08:59:59                    27.221049                     2.569034   \n",
       "2017-11-11 19:59:59                    46.214096                     5.261045   \n",
       "2017-11-11 21:59:59                    46.279400                     5.333682   \n",
       "2017-11-11 22:59:59                    46.199077                     5.632987   \n",
       "2017-11-11 23:59:59                    45.251023                     6.104176   \n",
       "2017-11-12 00:59:59                    43.179006                     7.253950   \n",
       "2017-11-12 01:59:59                    43.110123                     7.298515   \n",
       "2017-11-12 02:59:59                    44.489378                     6.470349   \n",
       "2017-11-12 03:59:59                    45.825971                     5.609294   \n",
       "2017-11-12 15:59:59                    32.678161                     3.611315   \n",
       "2017-11-12 16:59:59                    46.991589                     5.197359   \n",
       "2017-11-12 17:59:59                     7.093707                     0.787382   \n",
       "2017-11-17 21:59:59                    46.867247                     3.657442   \n",
       "2017-11-17 22:59:59                    46.757714                     3.660730   \n",
       "2017-11-25 02:59:59                    47.821468                     3.400124   \n",
       "2017-11-25 03:59:59                    48.049003                     3.450411   \n",
       "2017-11-30 01:59:59                     6.225457                     0.765553   \n",
       "2017-12-02 17:59:59                    45.707368                     4.654995   \n",
       "2017-12-02 18:59:59                    45.881426                     4.501148   \n",
       "2017-12-02 19:59:59                    45.751720                     4.506869   \n",
       "2017-12-02 20:59:59                    44.795073                     4.757067   \n",
       "2017-12-02 21:59:59                    44.641183                     5.021368   \n",
       "2017-12-02 22:59:59                    43.272251                     5.645057   \n",
       "2017-12-02 23:59:59                    43.282436                     5.730943   \n",
       "2017-12-03 00:59:59                    43.128555                     5.655828   \n",
       "2017-12-03 01:59:59                    43.394190                     5.496299   \n",
       "2017-12-03 02:59:59                    42.793081                     5.876664   \n",
       "2017-12-03 03:59:59                    43.770754                     5.623986   \n",
       "2017-12-03 04:59:59                    44.793049                     5.286660   \n",
       "2017-12-03 05:59:59                    43.844715                     5.345749   \n",
       "2017-12-03 06:59:59                    45.931448                     4.628503   \n",
       "2017-12-03 07:59:59                    46.359747                     4.384328   \n",
       "2017-12-03 08:59:59                    46.335757                     4.442023   \n",
       "2017-12-03 09:59:59                    44.961086                     4.916341   \n",
       "2017-12-03 10:59:59                    44.519141                     5.134035   \n",
       "2017-12-03 11:59:59                    35.313266                     4.503756   \n",
       "2017-12-03 12:59:59                    15.685009                     3.334243   \n",
       "\n",
       "                     final.output.concentrate_pb  \\\n",
       "date                                               \n",
       "2017-08-25 01:59:59                     9.316409   \n",
       "2017-08-25 02:59:59                     8.993153   \n",
       "2017-08-25 03:59:59                     8.924470   \n",
       "2017-08-28 10:59:59                     2.003418   \n",
       "2017-08-29 03:59:59                    10.616839   \n",
       "2017-08-29 18:59:59                    11.174162   \n",
       "2017-09-04 06:59:59                     9.637687   \n",
       "2017-09-08 04:59:59                     9.937424   \n",
       "2017-09-08 23:59:59                     8.276129   \n",
       "2017-09-09 00:59:59                     8.840333   \n",
       "2017-09-16 04:59:59                     9.829124   \n",
       "2017-10-14 03:59:59                    10.983289   \n",
       "2017-10-14 04:59:59                    10.905893   \n",
       "2017-10-14 11:59:59                    10.363597   \n",
       "2017-10-14 12:59:59                    10.634315   \n",
       "2017-10-14 13:59:59                    11.085578   \n",
       "2017-10-14 14:59:59                    10.976357   \n",
       "2017-10-14 15:59:59                    10.666793   \n",
       "2017-10-14 16:59:59                    10.392268   \n",
       "2017-10-14 17:59:59                    10.458483   \n",
       "2017-10-14 18:59:59                    10.388878   \n",
       "2017-10-14 19:59:59                    10.710637   \n",
       "2017-10-14 20:59:59                    10.622372   \n",
       "2017-10-15 02:59:59                    11.200976   \n",
       "2017-10-15 03:59:59                    10.628963   \n",
       "2017-10-15 04:59:59                     6.994057   \n",
       "2017-10-15 05:59:59                     6.413989   \n",
       "2017-10-15 06:59:59                     6.742723   \n",
       "2017-10-15 07:59:59                     6.411211   \n",
       "2017-10-15 08:59:59                     6.697980   \n",
       "2017-10-15 09:59:59                     7.380623   \n",
       "2017-10-15 10:59:59                     7.362974   \n",
       "2017-10-15 11:59:59                     5.963940   \n",
       "2017-10-15 12:59:59                     6.291038   \n",
       "2017-10-15 13:59:59                     6.945479   \n",
       "2017-10-15 14:59:59                     6.946766   \n",
       "2017-10-15 15:59:59                     6.708923   \n",
       "2017-10-15 16:59:59                     6.766861   \n",
       "2017-10-15 17:59:59                     6.757330   \n",
       "2017-10-15 18:59:59                     6.380821   \n",
       "2017-10-15 19:59:59                     6.359623   \n",
       "2017-10-15 20:59:59                     6.890410   \n",
       "2017-10-15 21:59:59                     7.101664   \n",
       "2017-10-15 22:59:59                     6.896075   \n",
       "2017-10-15 23:59:59                     6.689680   \n",
       "2017-10-16 00:59:59                     4.818045   \n",
       "2017-10-16 01:59:59                     6.040549   \n",
       "2017-10-16 02:59:59                     6.276003   \n",
       "2017-10-16 03:59:59                     6.391089   \n",
       "2017-10-16 04:59:59                     6.409620   \n",
       "2017-10-16 05:59:59                     6.598090   \n",
       "2017-10-16 06:59:59                     6.668677   \n",
       "2017-10-16 07:59:59                     6.649622   \n",
       "2017-10-16 08:59:59                     6.393967   \n",
       "2017-10-16 09:59:59                     6.109977   \n",
       "2017-10-16 10:59:59                     6.208622   \n",
       "2017-10-16 11:59:59                     8.798236   \n",
       "2017-10-16 12:59:59                     8.997558   \n",
       "2017-10-16 13:59:59                     9.935917   \n",
       "2017-10-16 14:59:59                     9.716385   \n",
       "2017-10-16 15:59:59                     9.533912   \n",
       "2017-11-11 06:59:59                     7.495069   \n",
       "2017-11-11 08:59:59                     6.653564   \n",
       "2017-11-11 19:59:59                     8.381403   \n",
       "2017-11-11 21:59:59                     8.312554   \n",
       "2017-11-11 22:59:59                     7.965908   \n",
       "2017-11-11 23:59:59                     7.954975   \n",
       "2017-11-12 00:59:59                     7.961148   \n",
       "2017-11-12 01:59:59                     7.873187   \n",
       "2017-11-12 02:59:59                     8.020388   \n",
       "2017-11-12 03:59:59                     8.032747   \n",
       "2017-11-12 15:59:59                     8.237225   \n",
       "2017-11-12 16:59:59                    11.972964   \n",
       "2017-11-12 17:59:59                     1.804193   \n",
       "2017-11-17 21:59:59                    10.565658   \n",
       "2017-11-17 22:59:59                    10.496740   \n",
       "2017-11-25 02:59:59                     7.669659   \n",
       "2017-11-25 03:59:59                     7.645175   \n",
       "2017-11-30 01:59:59                     1.254934   \n",
       "2017-12-02 17:59:59                     9.780919   \n",
       "2017-12-02 18:59:59                     9.862139   \n",
       "2017-12-02 19:59:59                    10.187563   \n",
       "2017-12-02 20:59:59                    10.473940   \n",
       "2017-12-02 21:59:59                    10.144017   \n",
       "2017-12-02 22:59:59                    10.177284   \n",
       "2017-12-02 23:59:59                    10.066022   \n",
       "2017-12-03 00:59:59                    10.205007   \n",
       "2017-12-03 01:59:59                     9.973079   \n",
       "2017-12-03 02:59:59                     9.997839   \n",
       "2017-12-03 03:59:59                     9.531292   \n",
       "2017-12-03 04:59:59                     9.322368   \n",
       "2017-12-03 05:59:59                     9.853697   \n",
       "2017-12-03 06:59:59                     9.238761   \n",
       "2017-12-03 07:59:59                     9.187317   \n",
       "2017-12-03 08:59:59                     9.238301   \n",
       "2017-12-03 09:59:59                     9.644849   \n",
       "2017-12-03 10:59:59                     9.683889   \n",
       "2017-12-03 11:59:59                     8.387537   \n",
       "2017-12-03 12:59:59                     4.064308   \n",
       "\n",
       "                     final.output.concentrate_sol  final.output.recovery  \\\n",
       "date                                                                       \n",
       "2017-08-25 01:59:59                      9.656618              84.044557   \n",
       "2017-08-25 02:59:59                      8.867548              77.929146   \n",
       "2017-08-25 03:59:59                      9.075385              79.831148   \n",
       "2017-08-28 10:59:59                      1.595550              69.977701   \n",
       "2017-08-29 03:59:59                      8.426868              71.664024   \n",
       "2017-08-29 18:59:59                      7.747325              77.226550   \n",
       "2017-09-04 06:59:59                      9.554317              74.249155   \n",
       "2017-09-08 04:59:59                      9.158537              71.204603   \n",
       "2017-09-08 23:59:59                      8.865220              79.829272   \n",
       "2017-09-09 00:59:59                      9.862198              79.902854   \n",
       "2017-09-16 04:59:59                      9.363762              76.792065   \n",
       "2017-10-14 03:59:59                      8.938107              73.174197   \n",
       "2017-10-14 04:59:59                      8.076653              72.618404   \n",
       "2017-10-14 11:59:59                      7.823090              69.966319   \n",
       "2017-10-14 12:59:59                      7.833930              69.036244   \n",
       "2017-10-14 13:59:59                      7.612998              68.755934   \n",
       "2017-10-14 14:59:59                      7.425483              67.521460   \n",
       "2017-10-14 15:59:59                      7.449378              65.310326   \n",
       "2017-10-14 16:59:59                      7.949529              67.962788   \n",
       "2017-10-14 17:59:59                      7.879131              70.430947   \n",
       "2017-10-14 18:59:59                      7.976871              71.138378   \n",
       "2017-10-14 19:59:59                      8.672799              67.187304   \n",
       "2017-10-14 20:59:59                      8.949570              68.062130   \n",
       "2017-10-15 02:59:59                      8.808717              62.643957   \n",
       "2017-10-15 03:59:59                      8.094710              42.942625   \n",
       "2017-10-15 04:59:59                      7.987903               0.430264   \n",
       "2017-10-15 05:59:59                      8.579746              64.661004   \n",
       "2017-10-15 06:59:59                      8.613503              14.897570   \n",
       "2017-10-15 07:59:59                      8.447781              34.915523   \n",
       "2017-10-15 08:59:59                      8.527600              65.060229   \n",
       "2017-10-15 09:59:59                      9.018584              41.081508   \n",
       "2017-10-15 10:59:59                      9.185215              20.463275   \n",
       "2017-10-15 11:59:59                      8.371210              19.043614   \n",
       "2017-10-15 12:59:59                      8.422818              54.507538   \n",
       "2017-10-15 13:59:59                      8.800560              53.815399   \n",
       "2017-10-15 14:59:59                      9.352803              50.704544   \n",
       "2017-10-15 15:59:59                      9.026779              61.744202   \n",
       "2017-10-15 16:59:59                      8.528488              50.967513   \n",
       "2017-10-15 17:59:59                      8.687354              34.672747   \n",
       "2017-10-15 18:59:59                      8.495509              39.030750   \n",
       "2017-10-15 19:59:59                      8.288420              52.110869   \n",
       "2017-10-15 20:59:59                      8.356592              53.895320   \n",
       "2017-10-15 21:59:59                      8.536576              45.922496   \n",
       "2017-10-15 22:59:59                      8.425051              34.992885   \n",
       "2017-10-15 23:59:59                      8.386018              36.563351   \n",
       "2017-10-16 00:59:59                      6.261201              49.700340   \n",
       "2017-10-16 01:59:59                      7.959123              64.256167   \n",
       "2017-10-16 02:59:59                      8.100833              48.083497   \n",
       "2017-10-16 03:59:59                      8.087806              56.470818   \n",
       "2017-10-16 04:59:59                      8.083419              57.955671   \n",
       "2017-10-16 05:59:59                      8.205742              52.197084   \n",
       "2017-10-16 06:59:59                      8.177145              54.477300   \n",
       "2017-10-16 07:59:59                      8.054853              34.424192   \n",
       "2017-10-16 08:59:59                      7.938254              17.167641   \n",
       "2017-10-16 09:59:59                      7.850961              17.124460   \n",
       "2017-10-16 10:59:59                      7.956446              76.755153   \n",
       "2017-10-16 11:59:59                      8.621391              70.829532   \n",
       "2017-10-16 12:59:59                     10.848669              61.692963   \n",
       "2017-10-16 13:59:59                      9.757085              74.506866   \n",
       "2017-10-16 14:59:59                      7.299085              72.760126   \n",
       "2017-10-16 15:59:59                      7.455218              75.434473   \n",
       "2017-11-11 06:59:59                      5.958727              63.902812   \n",
       "2017-11-11 08:59:59                      4.215778              85.518356   \n",
       "2017-11-11 19:59:59                      8.078991              79.471432   \n",
       "2017-11-11 21:59:59                      8.073811              84.336086   \n",
       "2017-11-11 22:59:59                      8.542306              80.085289   \n",
       "2017-11-11 23:59:59                      9.220805              79.345615   \n",
       "2017-11-12 00:59:59                      9.896299              75.333394   \n",
       "2017-11-12 01:59:59                      9.931053              77.622992   \n",
       "2017-11-12 02:59:59                      9.333907              80.155008   \n",
       "2017-11-12 03:59:59                      8.552278              80.047912   \n",
       "2017-11-12 15:59:59                      5.169824              71.992582   \n",
       "2017-11-12 16:59:59                      7.473816              68.894605   \n",
       "2017-11-12 17:59:59                      1.138262              72.779285   \n",
       "2017-11-17 21:59:59                      6.806059              69.327416   \n",
       "2017-11-17 22:59:59                      6.782427              71.508253   \n",
       "2017-11-25 02:59:59                      9.237277              74.219075   \n",
       "2017-11-25 03:59:59                      9.422343              76.364870   \n",
       "2017-11-30 01:59:59                      1.379887              98.526022   \n",
       "2017-12-02 17:59:59                      7.812474              77.775099   \n",
       "2017-12-02 18:59:59                      7.576317              80.097197   \n",
       "2017-12-02 19:59:59                      7.482237              81.451530   \n",
       "2017-12-02 20:59:59                      7.755915              79.352484   \n",
       "2017-12-02 21:59:59                      8.277796              77.389744   \n",
       "2017-12-02 22:59:59                      8.595072              77.903870   \n",
       "2017-12-02 23:59:59                      8.506993              78.568900   \n",
       "2017-12-03 00:59:59                      8.493626              78.256299   \n",
       "2017-12-03 01:59:59                      9.987867              75.029334   \n",
       "2017-12-03 02:59:59                      9.541799              73.724635   \n",
       "2017-12-03 03:59:59                      9.463961              70.505578   \n",
       "2017-12-03 04:59:59                      9.281292              72.521909   \n",
       "2017-12-03 05:59:59                      9.092166              77.943676   \n",
       "2017-12-03 06:59:59                      8.893231              68.061521   \n",
       "2017-12-03 07:59:59                      8.628462              71.879482   \n",
       "2017-12-03 08:59:59                      8.544080              70.786883   \n",
       "2017-12-03 09:59:59                      8.945859              67.943045   \n",
       "2017-12-03 10:59:59                      9.203260              72.002510   \n",
       "2017-12-03 11:59:59                      7.408152              81.349671   \n",
       "2017-12-03 12:59:59                      4.256205              89.814441   \n",
       "\n",
       "                     final.output.tail_au  final.output.tail_ag  \\\n",
       "date                                                              \n",
       "2017-08-25 01:59:59              1.624926              9.494177   \n",
       "2017-08-25 02:59:59              2.019746              9.898577   \n",
       "2017-08-25 03:59:59              1.809719              9.613796   \n",
       "2017-08-28 10:59:59              2.774884             10.065562   \n",
       "2017-08-29 03:59:59              2.620707             10.146535   \n",
       "2017-08-29 18:59:59              1.696319              9.129739   \n",
       "2017-09-04 06:59:59              2.669559             12.695355   \n",
       "2017-09-08 04:59:59              2.827072             14.224046   \n",
       "2017-09-08 23:59:59              1.843160             12.305854   \n",
       "2017-09-09 00:59:59              2.205056             12.799574   \n",
       "2017-09-16 04:59:59              2.822484             12.320390   \n",
       "2017-10-14 03:59:59              2.167429             10.477601   \n",
       "2017-10-14 04:59:59              2.117968             10.431080   \n",
       "2017-10-14 11:59:59              2.276119             10.494856   \n",
       "2017-10-14 12:59:59              2.308047             10.305114   \n",
       "2017-10-14 13:59:59              2.263971             10.369490   \n",
       "2017-10-14 14:59:59              2.273691              9.947217   \n",
       "2017-10-14 15:59:59              2.300409              9.580758   \n",
       "2017-10-14 16:59:59              2.125143              9.156723   \n",
       "2017-10-14 17:59:59              2.217808              9.217838   \n",
       "2017-10-14 18:59:59              2.348134              9.443956   \n",
       "2017-10-14 19:59:59              2.610938             10.206823   \n",
       "2017-10-14 20:59:59              2.279148             10.219740   \n",
       "2017-10-15 02:59:59              1.773410              9.870631   \n",
       "2017-10-15 03:59:59              1.432641              9.324558   \n",
       "2017-10-15 04:59:59              0.886103              8.709877   \n",
       "2017-10-15 05:59:59              0.294842              3.700625   \n",
       "2017-10-15 06:59:59              0.649341              8.125589   \n",
       "2017-10-15 07:59:59              0.707180              8.353175   \n",
       "2017-10-15 08:59:59              0.598569              7.987048   \n",
       "2017-10-15 09:59:59              0.782573              8.308875   \n",
       "2017-10-15 10:59:59              0.642710              7.818218   \n",
       "2017-10-15 11:59:59              0.507954              7.943413   \n",
       "2017-10-15 12:59:59              0.464348              7.761918   \n",
       "2017-10-15 13:59:59              0.632202              8.278165   \n",
       "2017-10-15 14:59:59              0.642038              8.275564   \n",
       "2017-10-15 15:59:59              0.524534              8.093762   \n",
       "2017-10-15 16:59:59              0.632712              8.116107   \n",
       "2017-10-15 17:59:59              0.723592              8.127059   \n",
       "2017-10-15 18:59:59              0.630939              8.050590   \n",
       "2017-10-15 19:59:59              0.616511              8.185545   \n",
       "2017-10-15 20:59:59              0.660513              8.512625   \n",
       "2017-10-15 21:59:59              0.637238              8.496171   \n",
       "2017-10-15 22:59:59              0.689563              8.801241   \n",
       "2017-10-15 23:59:59              0.628658              8.673850   \n",
       "2017-10-16 00:59:59              0.298153              6.017004   \n",
       "2017-10-16 01:59:59              0.270070              7.335967   \n",
       "2017-10-16 02:59:59              0.452363              8.056439   \n",
       "2017-10-16 03:59:59              0.525445              8.262009   \n",
       "2017-10-16 04:59:59              0.556824              8.401101   \n",
       "2017-10-16 05:59:59              0.584903              8.593900   \n",
       "2017-10-16 06:59:59              0.498793              8.340438   \n",
       "2017-10-16 07:59:59              0.576702              8.515685   \n",
       "2017-10-16 08:59:59              0.592872              8.424786   \n",
       "2017-10-16 09:59:59              0.710524              8.366031   \n",
       "2017-10-16 10:59:59              0.873649              7.491785   \n",
       "2017-10-16 11:59:59              1.653420              7.447215   \n",
       "2017-10-16 12:59:59              2.106058              7.749711   \n",
       "2017-10-16 13:59:59              1.332142              8.288290   \n",
       "2017-10-16 14:59:59              1.382009              8.131153   \n",
       "2017-10-16 15:59:59              1.336477              8.260597   \n",
       "2017-11-11 06:59:59              1.576107              5.677003   \n",
       "2017-11-11 08:59:59              0.983639              3.822302   \n",
       "2017-11-11 19:59:59              2.257517             10.061529   \n",
       "2017-11-11 21:59:59              1.762525              7.773877   \n",
       "2017-11-11 22:59:59              2.443966             11.559986   \n",
       "2017-11-11 23:59:59              2.800213             12.386314   \n",
       "2017-11-12 00:59:59              3.157104             12.427950   \n",
       "2017-11-12 01:59:59              2.726799             11.232592   \n",
       "2017-11-12 02:59:59              2.320489             10.449965   \n",
       "2017-11-12 03:59:59              2.251439             10.300337   \n",
       "2017-11-12 15:59:59              2.464209              7.926580   \n",
       "2017-11-12 16:59:59              3.187590             10.520652   \n",
       "2017-11-12 17:59:59              1.257233              4.192484   \n",
       "2017-11-17 21:59:59              1.752262              9.789208   \n",
       "2017-11-17 22:59:59              1.720536              9.892528   \n",
       "2017-11-25 02:59:59              2.930925             13.205200   \n",
       "2017-11-25 03:59:59              2.788066             13.077908   \n",
       "2017-11-30 01:59:59              0.136160              0.895750   \n",
       "2017-12-02 17:59:59              1.794973             11.534095   \n",
       "2017-12-02 18:59:59              1.733612             11.440437   \n",
       "2017-12-02 19:59:59              1.918576             11.741188   \n",
       "2017-12-02 20:59:59              2.257369             13.010105   \n",
       "2017-12-02 21:59:59              2.482231             13.716550   \n",
       "2017-12-02 22:59:59              2.414881             14.342075   \n",
       "2017-12-02 23:59:59              2.474050             14.863393   \n",
       "2017-12-03 00:59:59              2.448955             14.715154   \n",
       "2017-12-03 01:59:59              3.381325             16.907885   \n",
       "2017-12-03 02:59:59              3.746728             17.028371   \n",
       "2017-12-03 03:59:59              4.065188             16.418387   \n",
       "2017-12-03 04:59:59              3.800103             16.965774   \n",
       "2017-12-03 05:59:59              2.666440             15.559977   \n",
       "2017-12-03 06:59:59              3.385251             14.070528   \n",
       "2017-12-03 07:59:59              3.361588             14.363310   \n",
       "2017-12-03 08:59:59              3.699811             15.481737   \n",
       "2017-12-03 09:59:59              4.018436             16.154268   \n",
       "2017-12-03 10:59:59              3.492422             15.955848   \n",
       "2017-12-03 11:59:59              1.704367              9.262237   \n",
       "2017-12-03 12:59:59              2.994602             14.821953   \n",
       "\n",
       "                     final.output.tail_pb  final.output.tail_sol  \n",
       "date                                                              \n",
       "2017-08-25 01:59:59              0.742386              14.232371  \n",
       "2017-08-25 02:59:59              1.070071              13.749108  \n",
       "2017-08-25 03:59:59              0.920154              13.759155  \n",
       "2017-08-28 10:59:59              1.158478               4.305685  \n",
       "2017-08-29 03:59:59              2.288348              10.710631  \n",
       "2017-08-29 18:59:59              1.394442              10.079147  \n",
       "2017-09-04 06:59:59              2.642092              10.898571  \n",
       "2017-09-08 04:59:59              2.804540              11.035412  \n",
       "2017-09-08 23:59:59              1.598950              11.646101  \n",
       "2017-09-09 00:59:59              2.058898              11.931232  \n",
       "2017-09-16 04:59:59              2.261123               8.721284  \n",
       "2017-10-14 03:59:59              1.716473               8.469551  \n",
       "2017-10-14 04:59:59              1.777704               7.308982  \n",
       "2017-10-14 11:59:59              1.902561               6.421239  \n",
       "2017-10-14 12:59:59              1.911516               6.048201  \n",
       "2017-10-14 13:59:59              1.904403               6.163386  \n",
       "2017-10-14 14:59:59              1.870494               6.905415  \n",
       "2017-10-14 15:59:59              1.859688               7.600167  \n",
       "2017-10-14 16:59:59              1.703207               8.506100  \n",
       "2017-10-14 17:59:59              1.811741               8.467872  \n",
       "2017-10-14 18:59:59              1.951900               8.966072  \n",
       "2017-10-14 19:59:59              2.224774               9.163976  \n",
       "2017-10-14 20:59:59              2.033676               8.907780  \n",
       "2017-10-15 02:59:59              1.463475               9.094301  \n",
       "2017-10-15 03:59:59              0.987726               9.450270  \n",
       "2017-10-15 04:59:59              0.987726               8.533550  \n",
       "2017-10-15 05:59:59              0.987726               4.558537  \n",
       "2017-10-15 06:59:59              0.987726               9.855286  \n",
       "2017-10-15 07:59:59              0.987726               9.306899  \n",
       "2017-10-15 08:59:59              0.987726              10.215579  \n",
       "2017-10-15 09:59:59              0.987726               9.790457  \n",
       "2017-10-15 10:59:59              0.987726              10.449996  \n",
       "2017-10-15 11:59:59              0.987726              10.325040  \n",
       "2017-10-15 12:59:59              0.987726              10.688040  \n",
       "2017-10-15 13:59:59              0.987726              10.327329  \n",
       "2017-10-15 14:59:59              0.987726              10.398681  \n",
       "2017-10-15 15:59:59              0.987726              11.069705  \n",
       "2017-10-15 16:59:59              0.987726              11.018712  \n",
       "2017-10-15 17:59:59              0.987726              10.495468  \n",
       "2017-10-15 18:59:59              0.987726              10.463800  \n",
       "2017-10-15 19:59:59              0.987726              10.414960  \n",
       "2017-10-15 20:59:59              0.987726              10.392027  \n",
       "2017-10-15 21:59:59              0.987726              10.663011  \n",
       "2017-10-15 22:59:59              0.987726              10.677922  \n",
       "2017-10-15 23:59:59              0.987726              10.853418  \n",
       "2017-10-16 00:59:59              0.987726               8.980613  \n",
       "2017-10-16 01:59:59              0.987726              12.209812  \n",
       "2017-10-16 02:59:59              0.987726              11.230646  \n",
       "2017-10-16 03:59:59              0.987726              10.972817  \n",
       "2017-10-16 04:59:59              0.987726              10.978623  \n",
       "2017-10-16 05:59:59              0.987726              10.815565  \n",
       "2017-10-16 06:59:59              0.987726              11.186117  \n",
       "2017-10-16 07:59:59              0.987726              10.726500  \n",
       "2017-10-16 08:59:59              0.987726              10.586112  \n",
       "2017-10-16 09:59:59              0.987726              10.314546  \n",
       "2017-10-16 10:59:59              0.987726               9.944777  \n",
       "2017-10-16 11:59:59              0.987726               9.662804  \n",
       "2017-10-16 12:59:59              0.862279               9.909618  \n",
       "2017-10-16 13:59:59              0.982348              10.871200  \n",
       "2017-10-16 14:59:59              1.129285              10.127950  \n",
       "2017-10-16 15:59:59              1.155605              10.014974  \n",
       "2017-11-11 06:59:59              1.369332               7.617845  \n",
       "2017-11-11 08:59:59              0.998788               4.810284  \n",
       "2017-11-11 19:59:59              1.361155               8.890403  \n",
       "2017-11-11 21:59:59              0.915097               4.689027  \n",
       "2017-11-11 22:59:59              1.129026              11.271858  \n",
       "2017-11-11 23:59:59              1.444590              11.405695  \n",
       "2017-11-12 00:59:59              1.688496              11.526467  \n",
       "2017-11-12 01:59:59              1.455385              11.831882  \n",
       "2017-11-12 02:59:59              1.271692              11.700549  \n",
       "2017-11-12 03:59:59              1.318013              11.139937  \n",
       "2017-11-12 15:59:59              2.508543               6.892029  \n",
       "2017-11-12 16:59:59              3.288344               8.498824  \n",
       "2017-11-12 17:59:59              1.326340               3.358072  \n",
       "2017-11-17 21:59:59              3.244184               7.728991  \n",
       "2017-11-17 22:59:59              3.218993               7.855516  \n",
       "2017-11-25 02:59:59              2.722420               9.805133  \n",
       "2017-11-25 03:59:59              2.643116               9.638654  \n",
       "2017-11-30 01:59:59              0.212799               0.465595  \n",
       "2017-12-02 17:59:59              2.294242               9.887218  \n",
       "2017-12-02 18:59:59              2.493897               9.461891  \n",
       "2017-12-02 19:59:59              2.772679               9.704885  \n",
       "2017-12-02 20:59:59              3.172471              10.021914  \n",
       "2017-12-02 21:59:59              3.385130               9.940177  \n",
       "2017-12-02 22:59:59              3.382543               9.919894  \n",
       "2017-12-02 23:59:59              3.617242               9.789736  \n",
       "2017-12-03 00:59:59              3.685192              10.273959  \n",
       "2017-12-03 01:59:59              4.493805              10.357773  \n",
       "2017-12-03 02:59:59              4.723329               9.541316  \n",
       "2017-12-03 03:59:59              4.692588               9.381278  \n",
       "2017-12-03 04:59:59              4.525172               9.347449  \n",
       "2017-12-03 05:59:59              4.250552               9.488268  \n",
       "2017-12-03 06:59:59              3.994795              10.947764  \n",
       "2017-12-03 07:59:59              4.032709              10.325843  \n",
       "2017-12-03 08:59:59              4.182762              10.009065  \n",
       "2017-12-03 09:59:59              4.374716              10.503920  \n",
       "2017-12-03 10:59:59              4.365837              10.190798  \n",
       "2017-12-03 11:59:59              2.541834               5.580436  \n",
       "2017-12-03 12:59:59              4.318960               9.476084  \n",
       "\n",
       "[99 rows x 86 columns]"
      ]
     },
     "execution_count": 23,
     "metadata": {},
     "output_type": "execute_result"
    }
   ],
   "source": [
    "df_train[(df_train['primary_cleaner.output.concentrate_au']<=0.01) | \n",
    "                   (df_train['primary_cleaner.output.concentrate_ag']<=0.01) | \n",
    "                   (df_train['primary_cleaner.output.concentrate_pb']<=0.01)]"
   ]
  },
  {
   "cell_type": "markdown",
   "metadata": {},
   "source": [
    "Да, одни и те же. Значит, и здесь была допущена ошибка при сборе информации. Эти данные будут бесполезны для модели, поэтому их тоже удалим."
   ]
  },
  {
   "cell_type": "code",
   "execution_count": 24,
   "metadata": {
    "scrolled": true
   },
   "outputs": [
    {
     "data": {
      "text/plain": [
       "13883"
      ]
     },
     "execution_count": 24,
     "metadata": {},
     "output_type": "execute_result"
    }
   ],
   "source": [
    "df_train = df_train[(df_train['primary_cleaner.output.concentrate_au']>0.01) & \n",
    "                   (df_train['primary_cleaner.output.concentrate_ag']>0.01) & \n",
    "                   (df_train['primary_cleaner.output.concentrate_pb']>=0.01)]\n",
    "df_train.shape[0]"
   ]
  },
  {
   "cell_type": "markdown",
   "metadata": {},
   "source": [
    "Строки с ошибочными нулевыми и околонулевыми концентрациями удалены. Всего удалено (14579-13883)/14579=4.8% данных."
   ]
  },
  {
   "cell_type": "markdown",
   "metadata": {},
   "source": [
    "### Сравнение распределения размеров гранул исходного сырья на обучающей и тестовой выборках. "
   ]
  },
  {
   "cell_type": "markdown",
   "metadata": {},
   "source": [
    "Возьмем столбцы, описывающие размеры гранул, и построим по ним графики распределений. Из тренировочной выборки возьмем кусок, совпадающий по размеру с тестовой, чтобы распределения не отличались по масштабу. "
   ]
  },
  {
   "cell_type": "code",
   "execution_count": 25,
   "metadata": {},
   "outputs": [
    {
     "data": {
      "text/plain": [
       "['rougher.input.feed_size', 'primary_cleaner.input.feed_size']"
      ]
     },
     "execution_count": 25,
     "metadata": {},
     "output_type": "execute_result"
    }
   ],
   "source": [
    "columns_feed_size = [x for x in df_train.columns if 'feed_size' in x]\n",
    "columns_feed_size"
   ]
  },
  {
   "cell_type": "code",
   "execution_count": 26,
   "metadata": {},
   "outputs": [
    {
     "data": {
      "image/png": "[encoded data removed]",
      "text/plain": [
       "<Figure size 1080x648 with 1 Axes>"
      ]
     },
     "metadata": {
      "needs_background": "light"
     },
     "output_type": "display_data"
    }
   ],
   "source": [
    "plt.figure(figsize=(15,9))\n",
    "plt.hist([df_train['rougher.input.feed_size'], \n",
    "          df_test['rougher.input.feed_size']], bins=150, density=True);\n",
    "plt.xlim(0, 150)\n",
    "plt.legend(['Начальный размер гранул в тренировочной', 'Начальный размер гранул в тестовой']);"
   ]
  },
  {
   "cell_type": "code",
   "execution_count": 27,
   "metadata": {},
   "outputs": [
    {
     "data": {
      "image/png": "[encoded data removed]",
      "text/plain": [
       "<Figure size 864x864 with 1 Axes>"
      ]
     },
     "metadata": {
      "needs_background": "light"
     },
     "output_type": "display_data"
    }
   ],
   "source": [
    "plt.figure(figsize=(12,12))\n",
    "plt.hist([df_train['primary_cleaner.input.feed_size'], \n",
    "          df_test['primary_cleaner.input.feed_size']], bins=150, density=True);\n",
    "plt.xlim(4, 10)\n",
    "\n",
    "plt.legend(['Размер гранул в тренировочной после первичной обработки',\n",
    "            'Размер гранул в тестовой после первичной обработки']);"
   ]
  },
  {
   "cell_type": "markdown",
   "metadata": {},
   "source": [
    "**Если распределения сильно отличаются друг от друга, оценка модели будет неправильной. По форме распределений столбцы очень близки.**"
   ]
  },
  {
   "cell_type": "markdown",
   "metadata": {},
   "source": [
    "### Исследование суммарной концентрации металлов на разных стадиях"
   ]
  },
  {
   "cell_type": "markdown",
   "metadata": {},
   "source": [
    "Сложим концентрации металлов (Au, Ag, Pb) на разных стадиях процесса и построим гистограммы по получившимся значениям."
   ]
  },
  {
   "cell_type": "code",
   "execution_count": 28,
   "metadata": {},
   "outputs": [],
   "source": [
    "rougher_input = (df_train['rougher.input.feed_au'] + df_train['rougher.input.feed_ag'] + \n",
    "                 df_train['rougher.input.feed_pb'])\n",
    "rougher_output = (df_train['rougher.output.concentrate_au'] + df_train['rougher.output.concentrate_ag'] + \n",
    "                 df_train['rougher.output.concentrate_pb'])\n",
    "primary_cleaner_output = (df_train['primary_cleaner.output.concentrate_au'] + \n",
    "                          df_train['primary_cleaner.output.concentrate_ag'] + \n",
    "                          df_train['primary_cleaner.output.concentrate_pb'])\n",
    "final_output = (df_train['final.output.concentrate_au'] + df_train['final.output.concentrate_ag'] + \n",
    "                 df_train['final.output.concentrate_pb'])"
   ]
  },
  {
   "cell_type": "code",
   "execution_count": 29,
   "metadata": {},
   "outputs": [
    {
     "data": {
      "image/png": "[encoded data removed]",
      "text/plain": [
       "<Figure size 1080x864 with 1 Axes>"
      ]
     },
     "metadata": {
      "needs_background": "light"
     },
     "output_type": "display_data"
    }
   ],
   "source": [
    "plt.figure(figsize=(15,12))\n",
    "plt.hist([rougher_input, rougher_output, primary_cleaner_output, final_output], bins=150);\n",
    "plt.legend(['в сырье', 'в черновом концентрате', 'в концентрате после первой очистки', 'в финальном концентрате']);"
   ]
  },
  {
   "cell_type": "markdown",
   "metadata": {},
   "source": [
    "**По ходу технологического процесса суммарная концентрация металлов постепенно возрастает, а ее распределение становится все более узким и более нормальным.**"
   ]
  },
  {
   "cell_type": "markdown",
   "metadata": {},
   "source": [
    "## Модель"
   ]
  },
  {
   "cell_type": "markdown",
   "metadata": {},
   "source": [
    "### Функция для вычисления итоговой sMAPE"
   ]
  },
  {
   "cell_type": "code",
   "execution_count": 30,
   "metadata": {},
   "outputs": [],
   "source": [
    "def smape(y, y_pred):\n",
    "    \n",
    "    return 1/len(y) * np.sum(np.abs(y - y_pred) / ((np.abs(y) + np.abs(y_pred))*0.5)*100)\n",
    "\n",
    "smape_score = make_scorer(smape, greater_is_better=False)\n",
    "\n",
    "def smape_total(smape_rougher, smape_final):\n",
    "    return 0.25*smape_rougher + 0.75*smape_final"
   ]
  },
  {
   "cell_type": "markdown",
   "metadata": {},
   "source": [
    "### Построение моделей и оценка качества"
   ]
  },
  {
   "cell_type": "markdown",
   "metadata": {},
   "source": [
    "#### Подготовка данных для моделей"
   ]
  },
  {
   "cell_type": "markdown",
   "metadata": {},
   "source": [
    "Столбцы, которых нет в тестовой выборке, никак не помогут делать на ней предсказания, поэтому оставим только общие. \n",
    "\n",
    "Нужно спрогнозировать сразу две величины:\n",
    "- эффективность обогащения чернового концентрата *rougher.output.recovery*;\n",
    "- эффективность обогащения финального концентрата *final.output.recovery.*\n",
    "\n",
    "То есть необходимо разделить признаки по стадиям."
   ]
  },
  {
   "cell_type": "code",
   "execution_count": 31,
   "metadata": {},
   "outputs": [],
   "source": [
    "columns_rougher = [x for x in df_test.columns if 'rougher' in x]\n",
    "columns_final = set(df_test.columns)-set(columns_rougher)"
   ]
  },
  {
   "cell_type": "code",
   "execution_count": 32,
   "metadata": {},
   "outputs": [],
   "source": [
    "x_train_rougher = df_train[columns_rougher]\n",
    "x_train_final  = df_train[columns_final]"
   ]
  },
  {
   "cell_type": "markdown",
   "metadata": {},
   "source": [
    "Целевые признаки по стадиям."
   ]
  },
  {
   "cell_type": "code",
   "execution_count": 33,
   "metadata": {},
   "outputs": [],
   "source": [
    "y_train_rougher = df_train['rougher.output.recovery']\n",
    "y_train_final = df_train['final.output.recovery']"
   ]
  },
  {
   "cell_type": "markdown",
   "metadata": {},
   "source": [
    "Теперь тестовая выборка."
   ]
  },
  {
   "cell_type": "code",
   "execution_count": 34,
   "metadata": {},
   "outputs": [],
   "source": [
    "x_test_rougher = df_test[columns_rougher]\n",
    "x_test_final  = df_test[columns_final]"
   ]
  },
  {
   "cell_type": "markdown",
   "metadata": {},
   "source": [
    "С тестовой выборкой есть проблема - там отсутствует целевой признак. Надо его где-то достать. Посмотрим, есть ли значения *output.recovery* для строк из тестовой выборки в полной."
   ]
  },
  {
   "cell_type": "code",
   "execution_count": 35,
   "metadata": {
    "collapsed": true
   },
   "outputs": [
    {
     "data": {
      "text/html": [
       "<div>\n",
       "<style scoped>\n",
       "    .dataframe tbody tr th:only-of-type {\n",
       "        vertical-align: middle;\n",
       "    }\n",
       "\n",
       "    .dataframe tbody tr th {\n",
       "        vertical-align: top;\n",
       "    }\n",
       "\n",
       "    .dataframe thead th {\n",
       "        text-align: right;\n",
       "    }\n",
       "</style>\n",
       "<table border=\"1\" class=\"dataframe\">\n",
       "  <thead>\n",
       "    <tr style=\"text-align: right;\">\n",
       "      <th></th>\n",
       "      <th>rougher.input.feed_au</th>\n",
       "      <th>rougher.input.feed_ag</th>\n",
       "      <th>rougher.input.feed_pb</th>\n",
       "      <th>rougher.input.feed_sol</th>\n",
       "      <th>rougher.input.feed_rate</th>\n",
       "      <th>rougher.input.feed_size</th>\n",
       "      <th>rougher.input.floatbank10_sulfate</th>\n",
       "      <th>rougher.input.floatbank10_xanthate</th>\n",
       "      <th>rougher.state.floatbank10_a_air</th>\n",
       "      <th>rougher.state.floatbank10_a_level</th>\n",
       "      <th>...</th>\n",
       "      <th>secondary_cleaner.output.tail_sol</th>\n",
       "      <th>final.output.concentrate_au</th>\n",
       "      <th>final.output.concentrate_ag</th>\n",
       "      <th>final.output.concentrate_pb</th>\n",
       "      <th>final.output.concentrate_sol</th>\n",
       "      <th>final.output.recovery</th>\n",
       "      <th>final.output.tail_au</th>\n",
       "      <th>final.output.tail_ag</th>\n",
       "      <th>final.output.tail_pb</th>\n",
       "      <th>final.output.tail_sol</th>\n",
       "    </tr>\n",
       "    <tr>\n",
       "      <th>date</th>\n",
       "      <th></th>\n",
       "      <th></th>\n",
       "      <th></th>\n",
       "      <th></th>\n",
       "      <th></th>\n",
       "      <th></th>\n",
       "      <th></th>\n",
       "      <th></th>\n",
       "      <th></th>\n",
       "      <th></th>\n",
       "      <th></th>\n",
       "      <th></th>\n",
       "      <th></th>\n",
       "      <th></th>\n",
       "      <th></th>\n",
       "      <th></th>\n",
       "      <th></th>\n",
       "      <th></th>\n",
       "      <th></th>\n",
       "      <th></th>\n",
       "      <th></th>\n",
       "    </tr>\n",
       "  </thead>\n",
       "  <tbody>\n",
       "    <tr>\n",
       "      <th>2017-12-09 14:59:59</th>\n",
       "      <td>4.365491</td>\n",
       "      <td>6.158718</td>\n",
       "      <td>3.875727</td>\n",
       "      <td>39.135119</td>\n",
       "      <td>555.820208</td>\n",
       "      <td>94.544358</td>\n",
       "      <td>6.146982</td>\n",
       "      <td>9.308612</td>\n",
       "      <td>1196.238112</td>\n",
       "      <td>-299.862743</td>\n",
       "      <td>...</td>\n",
       "      <td>0.000000</td>\n",
       "      <td>46.299438</td>\n",
       "      <td>3.598375</td>\n",
       "      <td>11.737832</td>\n",
       "      <td>6.717509</td>\n",
       "      <td>70.281454</td>\n",
       "      <td>1.389434</td>\n",
       "      <td>8.406690</td>\n",
       "      <td>2.517518</td>\n",
       "      <td>10.652193</td>\n",
       "    </tr>\n",
       "    <tr>\n",
       "      <th>2017-12-09 15:59:59</th>\n",
       "      <td>4.362781</td>\n",
       "      <td>6.048130</td>\n",
       "      <td>3.902537</td>\n",
       "      <td>39.713906</td>\n",
       "      <td>544.731687</td>\n",
       "      <td>123.742430</td>\n",
       "      <td>6.210119</td>\n",
       "      <td>9.297709</td>\n",
       "      <td>1201.904177</td>\n",
       "      <td>-299.907308</td>\n",
       "      <td>...</td>\n",
       "      <td>0.000000</td>\n",
       "      <td>46.408188</td>\n",
       "      <td>3.367241</td>\n",
       "      <td>11.625587</td>\n",
       "      <td>6.799433</td>\n",
       "      <td>65.523246</td>\n",
       "      <td>1.602879</td>\n",
       "      <td>8.777171</td>\n",
       "      <td>2.819214</td>\n",
       "      <td>10.463847</td>\n",
       "    </tr>\n",
       "    <tr>\n",
       "      <th>2017-12-09 16:59:59</th>\n",
       "      <td>5.081681</td>\n",
       "      <td>6.082745</td>\n",
       "      <td>4.564078</td>\n",
       "      <td>37.208683</td>\n",
       "      <td>558.155110</td>\n",
       "      <td>82.610855</td>\n",
       "      <td>7.363824</td>\n",
       "      <td>9.003562</td>\n",
       "      <td>1200.826926</td>\n",
       "      <td>-300.124116</td>\n",
       "      <td>...</td>\n",
       "      <td>0.000000</td>\n",
       "      <td>46.710119</td>\n",
       "      <td>3.192996</td>\n",
       "      <td>11.612338</td>\n",
       "      <td>6.824441</td>\n",
       "      <td>74.817644</td>\n",
       "      <td>1.393077</td>\n",
       "      <td>8.665858</td>\n",
       "      <td>2.938592</td>\n",
       "      <td>10.241498</td>\n",
       "    </tr>\n",
       "    <tr>\n",
       "      <th>2017-12-09 17:59:59</th>\n",
       "      <td>5.145949</td>\n",
       "      <td>6.084374</td>\n",
       "      <td>4.768124</td>\n",
       "      <td>36.808874</td>\n",
       "      <td>539.713765</td>\n",
       "      <td>77.984784</td>\n",
       "      <td>6.927072</td>\n",
       "      <td>8.955597</td>\n",
       "      <td>1199.292489</td>\n",
       "      <td>-299.778385</td>\n",
       "      <td>...</td>\n",
       "      <td>0.609960</td>\n",
       "      <td>45.068492</td>\n",
       "      <td>3.500876</td>\n",
       "      <td>12.522030</td>\n",
       "      <td>6.666484</td>\n",
       "      <td>63.082720</td>\n",
       "      <td>2.047201</td>\n",
       "      <td>9.012745</td>\n",
       "      <td>3.513789</td>\n",
       "      <td>10.392631</td>\n",
       "    </tr>\n",
       "    <tr>\n",
       "      <th>2017-12-09 18:59:59</th>\n",
       "      <td>5.735249</td>\n",
       "      <td>6.165220</td>\n",
       "      <td>4.512346</td>\n",
       "      <td>37.810642</td>\n",
       "      <td>558.713584</td>\n",
       "      <td>86.434874</td>\n",
       "      <td>7.823471</td>\n",
       "      <td>7.490356</td>\n",
       "      <td>1198.005449</td>\n",
       "      <td>-300.283401</td>\n",
       "      <td>...</td>\n",
       "      <td>0.851957</td>\n",
       "      <td>45.426882</td>\n",
       "      <td>3.438732</td>\n",
       "      <td>12.035050</td>\n",
       "      <td>7.033351</td>\n",
       "      <td>74.463380</td>\n",
       "      <td>1.616565</td>\n",
       "      <td>9.104377</td>\n",
       "      <td>2.839418</td>\n",
       "      <td>9.975397</td>\n",
       "    </tr>\n",
       "  </tbody>\n",
       "</table>\n",
       "<p>5 rows × 86 columns</p>\n",
       "</div>"
      ],
      "text/plain": [
       "                     rougher.input.feed_au  rougher.input.feed_ag  \\\n",
       "date                                                                \n",
       "2017-12-09 14:59:59               4.365491               6.158718   \n",
       "2017-12-09 15:59:59               4.362781               6.048130   \n",
       "2017-12-09 16:59:59               5.081681               6.082745   \n",
       "2017-12-09 17:59:59               5.145949               6.084374   \n",
       "2017-12-09 18:59:59               5.735249               6.165220   \n",
       "\n",
       "                     rougher.input.feed_pb  rougher.input.feed_sol  \\\n",
       "date                                                                 \n",
       "2017-12-09 14:59:59               3.875727               39.135119   \n",
       "2017-12-09 15:59:59               3.902537               39.713906   \n",
       "2017-12-09 16:59:59               4.564078               37.208683   \n",
       "2017-12-09 17:59:59               4.768124               36.808874   \n",
       "2017-12-09 18:59:59               4.512346               37.810642   \n",
       "\n",
       "                     rougher.input.feed_rate  rougher.input.feed_size  \\\n",
       "date                                                                    \n",
       "2017-12-09 14:59:59               555.820208                94.544358   \n",
       "2017-12-09 15:59:59               544.731687               123.742430   \n",
       "2017-12-09 16:59:59               558.155110                82.610855   \n",
       "2017-12-09 17:59:59               539.713765                77.984784   \n",
       "2017-12-09 18:59:59               558.713584                86.434874   \n",
       "\n",
       "                     rougher.input.floatbank10_sulfate  \\\n",
       "date                                                     \n",
       "2017-12-09 14:59:59                           6.146982   \n",
       "2017-12-09 15:59:59                           6.210119   \n",
       "2017-12-09 16:59:59                           7.363824   \n",
       "2017-12-09 17:59:59                           6.927072   \n",
       "2017-12-09 18:59:59                           7.823471   \n",
       "\n",
       "                     rougher.input.floatbank10_xanthate  \\\n",
       "date                                                      \n",
       "2017-12-09 14:59:59                            9.308612   \n",
       "2017-12-09 15:59:59                            9.297709   \n",
       "2017-12-09 16:59:59                            9.003562   \n",
       "2017-12-09 17:59:59                            8.955597   \n",
       "2017-12-09 18:59:59                            7.490356   \n",
       "\n",
       "                     rougher.state.floatbank10_a_air  \\\n",
       "date                                                   \n",
       "2017-12-09 14:59:59                      1196.238112   \n",
       "2017-12-09 15:59:59                      1201.904177   \n",
       "2017-12-09 16:59:59                      1200.826926   \n",
       "2017-12-09 17:59:59                      1199.292489   \n",
       "2017-12-09 18:59:59                      1198.005449   \n",
       "\n",
       "                     rougher.state.floatbank10_a_level  ...  \\\n",
       "date                                                    ...   \n",
       "2017-12-09 14:59:59                        -299.862743  ...   \n",
       "2017-12-09 15:59:59                        -299.907308  ...   \n",
       "2017-12-09 16:59:59                        -300.124116  ...   \n",
       "2017-12-09 17:59:59                        -299.778385  ...   \n",
       "2017-12-09 18:59:59                        -300.283401  ...   \n",
       "\n",
       "                     secondary_cleaner.output.tail_sol  \\\n",
       "date                                                     \n",
       "2017-12-09 14:59:59                           0.000000   \n",
       "2017-12-09 15:59:59                           0.000000   \n",
       "2017-12-09 16:59:59                           0.000000   \n",
       "2017-12-09 17:59:59                           0.609960   \n",
       "2017-12-09 18:59:59                           0.851957   \n",
       "\n",
       "                     final.output.concentrate_au  final.output.concentrate_ag  \\\n",
       "date                                                                            \n",
       "2017-12-09 14:59:59                    46.299438                     3.598375   \n",
       "2017-12-09 15:59:59                    46.408188                     3.367241   \n",
       "2017-12-09 16:59:59                    46.710119                     3.192996   \n",
       "2017-12-09 17:59:59                    45.068492                     3.500876   \n",
       "2017-12-09 18:59:59                    45.426882                     3.438732   \n",
       "\n",
       "                     final.output.concentrate_pb  \\\n",
       "date                                               \n",
       "2017-12-09 14:59:59                    11.737832   \n",
       "2017-12-09 15:59:59                    11.625587   \n",
       "2017-12-09 16:59:59                    11.612338   \n",
       "2017-12-09 17:59:59                    12.522030   \n",
       "2017-12-09 18:59:59                    12.035050   \n",
       "\n",
       "                     final.output.concentrate_sol  final.output.recovery  \\\n",
       "date                                                                       \n",
       "2017-12-09 14:59:59                      6.717509              70.281454   \n",
       "2017-12-09 15:59:59                      6.799433              65.523246   \n",
       "2017-12-09 16:59:59                      6.824441              74.817644   \n",
       "2017-12-09 17:59:59                      6.666484              63.082720   \n",
       "2017-12-09 18:59:59                      7.033351              74.463380   \n",
       "\n",
       "                     final.output.tail_au  final.output.tail_ag  \\\n",
       "date                                                              \n",
       "2017-12-09 14:59:59              1.389434              8.406690   \n",
       "2017-12-09 15:59:59              1.602879              8.777171   \n",
       "2017-12-09 16:59:59              1.393077              8.665858   \n",
       "2017-12-09 17:59:59              2.047201              9.012745   \n",
       "2017-12-09 18:59:59              1.616565              9.104377   \n",
       "\n",
       "                     final.output.tail_pb  final.output.tail_sol  \n",
       "date                                                              \n",
       "2017-12-09 14:59:59              2.517518              10.652193  \n",
       "2017-12-09 15:59:59              2.819214              10.463847  \n",
       "2017-12-09 16:59:59              2.938592              10.241498  \n",
       "2017-12-09 17:59:59              3.513789              10.392631  \n",
       "2017-12-09 18:59:59              2.839418               9.975397  \n",
       "\n",
       "[5 rows x 86 columns]"
      ]
     },
     "execution_count": 35,
     "metadata": {},
     "output_type": "execute_result"
    }
   ],
   "source": [
    "df_full.loc[df_test.index].head()"
   ]
  },
  {
   "cell_type": "markdown",
   "metadata": {},
   "source": [
    "Значения есть. Назначим их целевыми признаками для тестовой выборки."
   ]
  },
  {
   "cell_type": "code",
   "execution_count": 36,
   "metadata": {},
   "outputs": [],
   "source": [
    "y_test_rougher = df_full.loc[df_test.index]['rougher.output.recovery']\n",
    "y_test_final = df_full.loc[df_test.index]['final.output.recovery']"
   ]
  },
  {
   "cell_type": "markdown",
   "metadata": {},
   "source": [
    "Проведем масштабирование."
   ]
  },
  {
   "cell_type": "code",
   "execution_count": 37,
   "metadata": {},
   "outputs": [],
   "source": [
    "scaler = StandardScaler()\n",
    "\n",
    "scaler.fit(x_train_rougher)\n",
    "x_train_rougher = pd.DataFrame(scaler.transform(x_train_rougher), index=x_train_rougher.index, columns=columns_rougher)\n",
    "x_test_rougher = pd.DataFrame(scaler.transform(x_test_rougher), index=x_test_rougher.index, columns=columns_rougher)\n",
    "\n",
    "scaler.fit(x_train_final)\n",
    "x_train_final = pd.DataFrame(scaler.transform(x_train_final), index=x_train_final.index, columns=columns_final)\n",
    "x_test_final = pd.DataFrame(scaler.transform(x_test_final), index=x_test_final.index, columns=columns_final)"
   ]
  },
  {
   "cell_type": "markdown",
   "metadata": {},
   "source": [
    "Выборки готовы к обучению и тестированию."
   ]
  },
  {
   "cell_type": "markdown",
   "metadata": {},
   "source": [
    "#### Модели"
   ]
  },
  {
   "cell_type": "markdown",
   "metadata": {},
   "source": [
    "Рассмотрим 4 модели: 2 линейные - линейную регрессию и Лассо, и 2 нелинейные -  случайный лес и градиентный бустинг. Начнем с регрессии, ей не надо подбирать параметры."
   ]
  },
  {
   "cell_type": "code",
   "execution_count": 38,
   "metadata": {},
   "outputs": [],
   "source": [
    "models = ['LR', 'Lasso', 'RFR', 'GBR']\n",
    "result_rougher = []\n",
    "result_final = []"
   ]
  },
  {
   "cell_type": "code",
   "execution_count": 39,
   "metadata": {},
   "outputs": [
    {
     "name": "stdout",
     "output_type": "stream",
     "text": [
      "-6.592758054242234\n",
      "-9.328427297951905\n"
     ]
    }
   ],
   "source": [
    "model_LR = LinearRegression()\n",
    "\n",
    "result = cross_val_score(model_LR, x_train_rougher, y_train_rougher, cv=5, scoring=smape_score) \n",
    "result_rougher.append(result.mean())\n",
    "print(result.mean())\n",
    "\n",
    "result = cross_val_score(model_LR, x_train_final, y_train_final, cv=5, scoring=smape_score)\n",
    "result_final.append(result.mean())\n",
    "print(result.mean())"
   ]
  },
  {
   "cell_type": "markdown",
   "metadata": {},
   "source": [
    "Для остальных проведем подбор параметров."
   ]
  },
  {
   "cell_type": "code",
   "execution_count": 40,
   "metadata": {},
   "outputs": [],
   "source": [
    "#сырые модели\n",
    "model_Lasso = Lasso()\n",
    "model_RFR = RandomForestRegressor()\n",
    "model_GBR = GradientBoostingRegressor()"
   ]
  },
  {
   "cell_type": "code",
   "execution_count": 41,
   "metadata": {},
   "outputs": [],
   "source": [
    "#наборы параметров\n",
    "param_Lasso = {'alpha': [0.1, 0.2, 0.3, 0.4, 0.5, 0.6, 0.7], 'random_state': [12345]}\n",
    "param_RFR = {'n_estimators': np.arange(20,52,5), 'max_depth': [2, 3, 5], 'random_state': [12345]}\n",
    "param_GBR = {'n_estimators': [30,50,100], 'min_samples_leaf': [1,2], 'max_depth': [3, 4], 'random_state': [12345]}"
   ]
  },
  {
   "cell_type": "code",
   "execution_count": 42,
   "metadata": {},
   "outputs": [],
   "source": [
    "#функция для тренировки моделей\n",
    "def model_run (model, param, x, y):\n",
    "    grid = GridSearchCV(model, param_grid=param, scoring=smape_score, cv=5, n_jobs=-1)\n",
    "    grid.fit(x, y)\n",
    "    return grid.best_score_, grid.best_estimator_"
   ]
  },
  {
   "cell_type": "markdown",
   "metadata": {},
   "source": [
    "Стадия *rougher*."
   ]
  },
  {
   "cell_type": "code",
   "execution_count": 43,
   "metadata": {},
   "outputs": [
    {
     "name": "stdout",
     "output_type": "stream",
     "text": [
      "(-6.201635308231364, Lasso(alpha=0.5, random_state=12345))\n",
      "CPU times: user 4.93 s, sys: 14.8 s, total: 19.7 s\n",
      "Wall time: 19.7 s\n"
     ]
    }
   ],
   "source": [
    "%%time\n",
    "rougher_Lasso = model_run(model_Lasso, param_Lasso, x_train_rougher, y_train_rougher)\n",
    "result_rougher.append(rougher_Lasso[0])\n",
    "print(rougher_Lasso)"
   ]
  },
  {
   "cell_type": "code",
   "execution_count": 44,
   "metadata": {},
   "outputs": [
    {
     "name": "stdout",
     "output_type": "stream",
     "text": [
      "(-6.21188849589227, RandomForestRegressor(max_depth=5, n_estimators=20, random_state=12345))\n",
      "CPU times: user 3min 13s, sys: 533 ms, total: 3min 14s\n",
      "Wall time: 3min 15s\n"
     ]
    }
   ],
   "source": [
    "%%time\n",
    "rougher_RFR = model_run(model_RFR, param_RFR, x_train_rougher, y_train_rougher)\n",
    "result_rougher.append(rougher_RFR[0])\n",
    "print(rougher_RFR)"
   ]
  },
  {
   "cell_type": "code",
   "execution_count": 45,
   "metadata": {
    "scrolled": true
   },
   "outputs": [
    {
     "name": "stdout",
     "output_type": "stream",
     "text": [
      "(-6.12563758635691, GradientBoostingRegressor(max_depth=4, min_samples_leaf=2, n_estimators=30,\n",
      "                          random_state=12345))\n",
      "CPU times: user 5min 29s, sys: 288 ms, total: 5min 29s\n",
      "Wall time: 5min 31s\n"
     ]
    }
   ],
   "source": [
    "%%time\n",
    "rougher_GBR = model_run(model_GBR, param_GBR, x_train_rougher, y_train_rougher)\n",
    "result_rougher.append(rougher_GBR[0])\n",
    "print(rougher_GBR)"
   ]
  },
  {
   "cell_type": "markdown",
   "metadata": {},
   "source": [
    "Стадия *final*."
   ]
  },
  {
   "cell_type": "code",
   "execution_count": 46,
   "metadata": {},
   "outputs": [
    {
     "name": "stdout",
     "output_type": "stream",
     "text": [
      "(-9.007342889059462, Lasso(alpha=0.7, random_state=12345))\n",
      "CPU times: user 4.78 s, sys: 13.7 s, total: 18.5 s\n",
      "Wall time: 18.5 s\n"
     ]
    }
   ],
   "source": [
    "%%time\n",
    "final_Lasso = model_run(model_Lasso, param_Lasso, x_train_final, y_train_final)\n",
    "result_final.append(final_Lasso[0])\n",
    "print(final_Lasso)"
   ]
  },
  {
   "cell_type": "code",
   "execution_count": 47,
   "metadata": {},
   "outputs": [
    {
     "name": "stdout",
     "output_type": "stream",
     "text": [
      "(-8.91590876025747, RandomForestRegressor(max_depth=2, n_estimators=30, random_state=12345))\n",
      "CPU times: user 4min 13s, sys: 573 ms, total: 4min 14s\n",
      "Wall time: 4min 14s\n"
     ]
    }
   ],
   "source": [
    "%%time\n",
    "final_RFR = model_run(model_RFR, param_RFR, x_train_final, y_train_final)\n",
    "result_final.append(final_RFR[0])\n",
    "print(final_RFR)"
   ]
  },
  {
   "cell_type": "code",
   "execution_count": 48,
   "metadata": {},
   "outputs": [
    {
     "name": "stdout",
     "output_type": "stream",
     "text": [
      "(-8.941015402139053, GradientBoostingRegressor(min_samples_leaf=2, n_estimators=30,\n",
      "                          random_state=12345))\n",
      "CPU times: user 7min 22s, sys: 490 ms, total: 7min 22s\n",
      "Wall time: 7min 24s\n"
     ]
    }
   ],
   "source": [
    "%%time\n",
    "final_GBR = model_run(model_GBR, param_GBR, x_train_final, y_train_final)\n",
    "result_final.append(final_GBR[0])\n",
    "print(final_GBR)"
   ]
  },
  {
   "cell_type": "code",
   "execution_count": 49,
   "metadata": {},
   "outputs": [
    {
     "data": {
      "text/html": [
       "<div>\n",
       "<style scoped>\n",
       "    .dataframe tbody tr th:only-of-type {\n",
       "        vertical-align: middle;\n",
       "    }\n",
       "\n",
       "    .dataframe tbody tr th {\n",
       "        vertical-align: top;\n",
       "    }\n",
       "\n",
       "    .dataframe thead th {\n",
       "        text-align: right;\n",
       "    }\n",
       "</style>\n",
       "<table border=\"1\" class=\"dataframe\">\n",
       "  <thead>\n",
       "    <tr style=\"text-align: right;\">\n",
       "      <th></th>\n",
       "      <th>rougher</th>\n",
       "      <th>final</th>\n",
       "    </tr>\n",
       "  </thead>\n",
       "  <tbody>\n",
       "    <tr>\n",
       "      <th>LR</th>\n",
       "      <td>-6.592758</td>\n",
       "      <td>-9.328427</td>\n",
       "    </tr>\n",
       "    <tr>\n",
       "      <th>Lasso</th>\n",
       "      <td>-6.201635</td>\n",
       "      <td>-9.007343</td>\n",
       "    </tr>\n",
       "    <tr>\n",
       "      <th>RFR</th>\n",
       "      <td>-6.211888</td>\n",
       "      <td>-8.915909</td>\n",
       "    </tr>\n",
       "    <tr>\n",
       "      <th>GBR</th>\n",
       "      <td>-6.125638</td>\n",
       "      <td>-8.941015</td>\n",
       "    </tr>\n",
       "  </tbody>\n",
       "</table>\n",
       "</div>"
      ],
      "text/plain": [
       "        rougher     final\n",
       "LR    -6.592758 -9.328427\n",
       "Lasso -6.201635 -9.007343\n",
       "RFR   -6.211888 -8.915909\n",
       "GBR   -6.125638 -8.941015"
      ]
     },
     "execution_count": 49,
     "metadata": {},
     "output_type": "execute_result"
    }
   ],
   "source": [
    "result_tab = pd.DataFrame({'rougher': result_rougher,\n",
    "                           'final': result_final}, index=models)\n",
    "result_tab"
   ]
  },
  {
   "cell_type": "markdown",
   "metadata": {},
   "source": [
    "Лучший результат на стадиии rougher показывает градиентый бустинг, а на стадии final - случайный лес. Итоговое sMAPE такого расчета:"
   ]
  },
  {
   "cell_type": "code",
   "execution_count": 50,
   "metadata": {},
   "outputs": [
    {
     "data": {
      "text/plain": [
       "-8.21834096678233"
      ]
     },
     "execution_count": 50,
     "metadata": {},
     "output_type": "execute_result"
    }
   ],
   "source": [
    "smape_total(rougher_GBR[0], final_RFR[0])"
   ]
  },
  {
   "cell_type": "markdown",
   "metadata": {},
   "source": [
    "#### Проверка лучшей модели "
   ]
  },
  {
   "cell_type": "markdown",
   "metadata": {},
   "source": [
    "Проверим, как работает сочетание градиентного бустинга и случайного леса на тестовой выборке."
   ]
  },
  {
   "cell_type": "code",
   "execution_count": 51,
   "metadata": {},
   "outputs": [
    {
     "data": {
      "text/plain": [
       "3.905048293983034"
      ]
     },
     "execution_count": 51,
     "metadata": {},
     "output_type": "execute_result"
    }
   ],
   "source": [
    "pred_test_rougher = rougher_GBR[1].predict(x_test_rougher)\n",
    "smape_rougher = smape(pred_test_rougher, y_test_rougher)\n",
    "smape_rougher"
   ]
  },
  {
   "cell_type": "code",
   "execution_count": 52,
   "metadata": {},
   "outputs": [
    {
     "data": {
      "text/plain": [
       "8.437675638704947"
      ]
     },
     "execution_count": 52,
     "metadata": {},
     "output_type": "execute_result"
    }
   ],
   "source": [
    "pred_test_final = final_RFR[1].predict(x_test_final)\n",
    "smape_final = smape(pred_test_final, y_test_final)\n",
    "smape_final"
   ]
  },
  {
   "cell_type": "markdown",
   "metadata": {},
   "source": [
    "Итоговое sMAPE:"
   ]
  },
  {
   "cell_type": "code",
   "execution_count": 53,
   "metadata": {},
   "outputs": [
    {
     "name": "stdout",
     "output_type": "stream",
     "text": [
      "Итого sMAPE на тесте: 7.30451880252447\n"
     ]
    }
   ],
   "source": [
    "print('Итого sMAPE на тесте:', smape_total (smape_rougher, smape_final))"
   ]
  },
  {
   "cell_type": "markdown",
   "metadata": {},
   "source": [
    "Проверим адекватность с помощью DummyRegressor."
   ]
  },
  {
   "cell_type": "code",
   "execution_count": 54,
   "metadata": {
    "scrolled": true
   },
   "outputs": [
    {
     "name": "stdout",
     "output_type": "stream",
     "text": [
      "Итого sMAPE Dummy на тесте: 8.466826381911446\n"
     ]
    }
   ],
   "source": [
    "model_Dummy = DummyRegressor()\n",
    "\n",
    "#rougher\n",
    "model_Dummy.fit(x_train_rougher, y_train_rougher)\n",
    "pred_test_rougher_Dummy = model_Dummy.predict(x_test_rougher)\n",
    "smape_rougher_Dummy = smape(pred_test_rougher_Dummy, y_test_rougher)\n",
    "\n",
    "#final\n",
    "model_Dummy.fit(x_train_final, y_train_final)\n",
    "pred_test_final_Dummy = model_Dummy.predict(x_test_final)\n",
    "smape_final_Dummy = smape(pred_test_final_Dummy, y_test_final)\n",
    "\n",
    "print('Итого sMAPE Dummy на тесте:', smape_total (smape_rougher_Dummy, smape_final_Dummy))"
   ]
  },
  {
   "cell_type": "markdown",
   "metadata": {},
   "source": [
    "Расчет адекватен."
   ]
  },
  {
   "cell_type": "markdown",
   "metadata": {},
   "source": [
    "## Вывод"
   ]
  },
  {
   "cell_type": "markdown",
   "metadata": {},
   "source": [
    "**В проекте были рассмотрены данные с параметрами добычи и очистки руды. Задачей было построить модель, предсказывающую коэффициент восстановления золота из нее. Параметром оценки модели была данная в задании нестандартная метрика sMAPE.**\n",
    "\n",
    "**Для выполнения этой задачи данные сначала были подготовлены: проверено отсутствие дубликатов, обработаны пропуски, проверена верность расчетов в данных.** \n",
    "\n",
    "**Затем был проведен исследовательский анализ, в ходе которого отслеживалось изменение концентрации металлов (по отдельности, а затем суммарной) на разных стадиях процесса, сравнивались распределения размеров гранул сырья в обучающей и тестовой выборках. Наблюдения совпали с ожиданиями: концентрации металлов постепенно увеличивались (кроме серебра), распределения были схожими.**\n",
    "\n",
    "**Наконец было рассмотрено несколько моделей регрессии для предсказания коэффициента восстановления. Лучший результат показали градиентный бустинг и случайный лес. Расчет был проверен на адекатность с помощью простой модели. Итоговое значение sMAPE 7.30.**"
   ]
  },
  {
   "cell_type": "code",
   "execution_count": null,
   "metadata": {},
   "outputs": [],
   "source": []
  }
 ],
 "metadata": {
  "ExecuteTimeLog": [
   {
    "duration": 1297,
    "start_time": "2023-06-05T11:42:38.260Z"
   },
   {
    "duration": 3,
    "start_time": "2023-06-05T11:43:20.814Z"
   },
   {
    "duration": 1239,
    "start_time": "2023-06-05T11:44:27.998Z"
   },
   {
    "duration": 2307,
    "start_time": "2023-06-05T11:45:01.885Z"
   },
   {
    "duration": 708,
    "start_time": "2023-06-05T11:45:34.972Z"
   },
   {
    "duration": 726,
    "start_time": "2023-06-05T11:46:18.108Z"
   },
   {
    "duration": 675,
    "start_time": "2023-06-05T11:46:44.356Z"
   },
   {
    "duration": 739,
    "start_time": "2023-06-05T11:48:24.507Z"
   },
   {
    "duration": 679,
    "start_time": "2023-06-05T11:48:36.068Z"
   },
   {
    "duration": 3,
    "start_time": "2023-06-05T11:48:38.124Z"
   },
   {
    "duration": 700,
    "start_time": "2023-06-05T11:48:39.970Z"
   },
   {
    "duration": 19,
    "start_time": "2023-06-05T11:48:42.115Z"
   },
   {
    "duration": 244,
    "start_time": "2023-06-05T11:49:56.274Z"
   },
   {
    "duration": 364,
    "start_time": "2023-06-05T11:50:54.219Z"
   },
   {
    "duration": 106,
    "start_time": "2023-06-05T11:51:25.700Z"
   },
   {
    "duration": 399,
    "start_time": "2023-06-05T11:51:29.897Z"
   },
   {
    "duration": 398,
    "start_time": "2023-06-05T11:51:56.491Z"
   },
   {
    "duration": 10,
    "start_time": "2023-06-05T12:04:17.529Z"
   },
   {
    "duration": 121,
    "start_time": "2023-06-05T12:04:22.473Z"
   },
   {
    "duration": 148,
    "start_time": "2023-06-05T12:04:33.771Z"
   },
   {
    "duration": 11,
    "start_time": "2023-06-05T12:06:11.311Z"
   },
   {
    "duration": 5227,
    "start_time": "2023-06-05T12:07:03.088Z"
   },
   {
    "duration": 149,
    "start_time": "2023-06-05T12:07:23.401Z"
   },
   {
    "duration": 101,
    "start_time": "2023-06-05T12:07:25.896Z"
   },
   {
    "duration": 5339,
    "start_time": "2023-06-05T12:07:30.048Z"
   },
   {
    "duration": 20,
    "start_time": "2023-06-05T12:08:15.661Z"
   },
   {
    "duration": 11,
    "start_time": "2023-06-05T12:08:24.495Z"
   },
   {
    "duration": 12,
    "start_time": "2023-06-05T12:08:34.071Z"
   },
   {
    "duration": 146,
    "start_time": "2023-06-05T12:15:54.131Z"
   },
   {
    "duration": 14,
    "start_time": "2023-06-05T12:16:11.587Z"
   },
   {
    "duration": 2,
    "start_time": "2023-06-05T12:16:19.187Z"
   },
   {
    "duration": 805,
    "start_time": "2023-06-05T12:16:19.191Z"
   },
   {
    "duration": 457,
    "start_time": "2023-06-05T12:16:19.998Z"
   },
   {
    "duration": 130,
    "start_time": "2023-06-05T12:16:20.457Z"
   },
   {
    "duration": 11,
    "start_time": "2023-06-05T12:16:23.619Z"
   },
   {
    "duration": 16,
    "start_time": "2023-06-05T12:17:28.787Z"
   },
   {
    "duration": 13,
    "start_time": "2023-06-05T12:17:39.522Z"
   },
   {
    "duration": 11,
    "start_time": "2023-06-05T12:19:13.009Z"
   },
   {
    "duration": 3,
    "start_time": "2023-06-05T12:28:54.062Z"
   },
   {
    "duration": 776,
    "start_time": "2023-06-05T12:28:54.068Z"
   },
   {
    "duration": 430,
    "start_time": "2023-06-05T12:28:54.845Z"
   },
   {
    "duration": 143,
    "start_time": "2023-06-05T12:28:55.277Z"
   },
   {
    "duration": 13,
    "start_time": "2023-06-05T12:28:55.423Z"
   },
   {
    "duration": 14,
    "start_time": "2023-06-05T12:28:58.868Z"
   },
   {
    "duration": 437,
    "start_time": "2023-06-05T12:45:34.164Z"
   },
   {
    "duration": 410,
    "start_time": "2023-06-05T12:45:50.124Z"
   },
   {
    "duration": 110,
    "start_time": "2023-06-05T12:58:18.579Z"
   },
   {
    "duration": 5,
    "start_time": "2023-06-05T12:58:26.451Z"
   },
   {
    "duration": 6,
    "start_time": "2023-06-05T12:58:34.650Z"
   },
   {
    "duration": 3,
    "start_time": "2023-06-05T12:59:19.454Z"
   },
   {
    "duration": 808,
    "start_time": "2023-06-05T12:59:19.459Z"
   },
   {
    "duration": 430,
    "start_time": "2023-06-05T12:59:20.269Z"
   },
   {
    "duration": 139,
    "start_time": "2023-06-05T12:59:20.701Z"
   },
   {
    "duration": 5,
    "start_time": "2023-06-05T12:59:24.322Z"
   },
   {
    "duration": 139,
    "start_time": "2023-06-05T12:59:41.882Z"
   },
   {
    "duration": 314,
    "start_time": "2023-06-05T13:00:11.650Z"
   },
   {
    "duration": 129,
    "start_time": "2023-06-05T13:01:02.186Z"
   },
   {
    "duration": 9,
    "start_time": "2023-06-05T13:01:07.385Z"
   },
   {
    "duration": 3,
    "start_time": "2023-06-05T13:02:36.864Z"
   },
   {
    "duration": 678,
    "start_time": "2023-06-05T13:02:36.870Z"
   },
   {
    "duration": 425,
    "start_time": "2023-06-05T13:02:37.550Z"
   },
   {
    "duration": 135,
    "start_time": "2023-06-05T13:02:37.977Z"
   },
   {
    "duration": 7,
    "start_time": "2023-06-05T13:02:39.144Z"
   },
   {
    "duration": 7,
    "start_time": "2023-06-05T13:04:48.647Z"
   },
   {
    "duration": 3,
    "start_time": "2023-06-05T13:04:59.815Z"
   },
   {
    "duration": 710,
    "start_time": "2023-06-05T13:04:59.820Z"
   },
   {
    "duration": 426,
    "start_time": "2023-06-05T13:05:00.531Z"
   },
   {
    "duration": 141,
    "start_time": "2023-06-05T13:05:00.959Z"
   },
   {
    "duration": 7,
    "start_time": "2023-06-05T13:05:02.598Z"
   },
   {
    "duration": 7,
    "start_time": "2023-06-05T13:05:08.446Z"
   },
   {
    "duration": 7,
    "start_time": "2023-06-05T13:05:10.631Z"
   },
   {
    "duration": 1690,
    "start_time": "2023-06-05T13:05:56.943Z"
   },
   {
    "duration": 8,
    "start_time": "2023-06-05T13:06:11.670Z"
   },
   {
    "duration": 8,
    "start_time": "2023-06-05T13:06:20.526Z"
   },
   {
    "duration": 17,
    "start_time": "2023-06-05T13:14:31.894Z"
   },
   {
    "duration": 4,
    "start_time": "2023-06-05T13:14:45.210Z"
   },
   {
    "duration": 8,
    "start_time": "2023-06-05T13:16:10.258Z"
   },
   {
    "duration": 5601,
    "start_time": "2023-06-05T14:07:32.211Z"
   },
   {
    "duration": 10,
    "start_time": "2023-06-05T14:08:09.238Z"
   },
   {
    "duration": 9,
    "start_time": "2023-06-05T14:08:43.322Z"
   },
   {
    "duration": 15,
    "start_time": "2023-06-05T14:09:09.827Z"
   },
   {
    "duration": 10,
    "start_time": "2023-06-05T14:11:20.737Z"
   },
   {
    "duration": 4,
    "start_time": "2023-06-05T14:12:37.689Z"
   },
   {
    "duration": 25,
    "start_time": "2023-06-05T14:12:50.976Z"
   },
   {
    "duration": 17,
    "start_time": "2023-06-05T14:12:58.297Z"
   },
   {
    "duration": 11,
    "start_time": "2023-06-05T14:13:21.792Z"
   },
   {
    "duration": 18,
    "start_time": "2023-06-05T14:13:25.368Z"
   },
   {
    "duration": 9,
    "start_time": "2023-06-05T14:16:13.462Z"
   },
   {
    "duration": 102,
    "start_time": "2023-06-05T14:17:13.070Z"
   },
   {
    "duration": 105,
    "start_time": "2023-06-05T14:17:18.765Z"
   },
   {
    "duration": 114,
    "start_time": "2023-06-05T14:21:11.087Z"
   },
   {
    "duration": 121,
    "start_time": "2023-06-05T14:21:13.215Z"
   },
   {
    "duration": 4,
    "start_time": "2023-06-05T14:21:38.372Z"
   },
   {
    "duration": 4,
    "start_time": "2023-06-05T14:21:45.427Z"
   },
   {
    "duration": 4,
    "start_time": "2023-06-05T14:21:57.251Z"
   },
   {
    "duration": 5,
    "start_time": "2023-06-05T14:22:19.395Z"
   },
   {
    "duration": 5,
    "start_time": "2023-06-05T14:22:22.387Z"
   },
   {
    "duration": 4,
    "start_time": "2023-06-05T14:22:25.292Z"
   },
   {
    "duration": 4,
    "start_time": "2023-06-05T14:22:28.307Z"
   },
   {
    "duration": 4,
    "start_time": "2023-06-05T14:22:32.683Z"
   },
   {
    "duration": 119,
    "start_time": "2023-06-05T14:22:54.602Z"
   },
   {
    "duration": 129,
    "start_time": "2023-06-05T14:23:12.085Z"
   },
   {
    "duration": 121,
    "start_time": "2023-06-05T14:23:15.434Z"
   },
   {
    "duration": 5,
    "start_time": "2023-06-05T14:25:15.891Z"
   },
   {
    "duration": 5,
    "start_time": "2023-06-05T14:25:21.941Z"
   },
   {
    "duration": 3,
    "start_time": "2023-06-05T14:25:36.377Z"
   },
   {
    "duration": 3,
    "start_time": "2023-06-05T14:25:41.026Z"
   },
   {
    "duration": 3,
    "start_time": "2023-06-05T14:25:56.152Z"
   },
   {
    "duration": 2,
    "start_time": "2023-06-05T14:26:05.544Z"
   },
   {
    "duration": 4,
    "start_time": "2023-06-05T14:26:12.409Z"
   },
   {
    "duration": 6826,
    "start_time": "2023-06-05T14:26:48.057Z"
   },
   {
    "duration": 9,
    "start_time": "2023-06-05T14:27:27.206Z"
   },
   {
    "duration": 9,
    "start_time": "2023-06-05T14:27:47.704Z"
   },
   {
    "duration": 28,
    "start_time": "2023-06-05T14:28:37.943Z"
   },
   {
    "duration": 9,
    "start_time": "2023-06-05T14:32:03.432Z"
   },
   {
    "duration": 3,
    "start_time": "2023-06-05T15:11:53.461Z"
   },
   {
    "duration": 431,
    "start_time": "2023-06-05T15:12:12.476Z"
   },
   {
    "duration": 399,
    "start_time": "2023-06-05T15:12:40.724Z"
   },
   {
    "duration": 253,
    "start_time": "2023-06-05T15:15:34.947Z"
   },
   {
    "duration": 251,
    "start_time": "2023-06-05T15:15:39.986Z"
   },
   {
    "duration": 606,
    "start_time": "2023-06-05T15:15:55.689Z"
   },
   {
    "duration": 3,
    "start_time": "2023-06-05T15:16:14.098Z"
   },
   {
    "duration": 501,
    "start_time": "2023-06-05T15:16:15.794Z"
   },
   {
    "duration": 3,
    "start_time": "2023-06-05T15:17:38.864Z"
   },
   {
    "duration": 587,
    "start_time": "2023-06-05T15:17:40.656Z"
   },
   {
    "duration": 561,
    "start_time": "2023-06-05T15:17:57.944Z"
   },
   {
    "duration": 727,
    "start_time": "2023-06-05T15:18:03.208Z"
   },
   {
    "duration": 685,
    "start_time": "2023-06-05T15:18:08.712Z"
   },
   {
    "duration": 824,
    "start_time": "2023-06-05T15:18:33.729Z"
   },
   {
    "duration": 4,
    "start_time": "2023-06-05T15:19:30.015Z"
   },
   {
    "duration": 1658,
    "start_time": "2023-06-05T15:19:38.680Z"
   },
   {
    "duration": 1620,
    "start_time": "2023-06-05T15:20:04.959Z"
   },
   {
    "duration": 1598,
    "start_time": "2023-06-05T15:20:13.119Z"
   },
   {
    "duration": 3,
    "start_time": "2023-06-05T15:21:07.366Z"
   },
   {
    "duration": 2492,
    "start_time": "2023-06-05T15:21:16.807Z"
   },
   {
    "duration": 2389,
    "start_time": "2023-06-05T15:22:29.086Z"
   },
   {
    "duration": 2423,
    "start_time": "2023-06-05T15:22:38.797Z"
   },
   {
    "duration": 2402,
    "start_time": "2023-06-05T15:22:46.375Z"
   },
   {
    "duration": 2701,
    "start_time": "2023-06-05T15:23:15.741Z"
   },
   {
    "duration": 43867,
    "start_time": "2023-06-05T15:38:11.587Z"
   },
   {
    "duration": 3,
    "start_time": "2023-06-05T16:04:01.646Z"
   },
   {
    "duration": 4,
    "start_time": "2023-06-05T16:04:06.885Z"
   },
   {
    "duration": 3,
    "start_time": "2023-06-05T16:04:43.385Z"
   },
   {
    "duration": 3,
    "start_time": "2023-06-05T16:04:55.420Z"
   },
   {
    "duration": 4,
    "start_time": "2023-06-05T16:04:59.828Z"
   },
   {
    "duration": 3,
    "start_time": "2023-06-05T16:05:10.189Z"
   },
   {
    "duration": 209,
    "start_time": "2023-06-05T16:05:31.787Z"
   },
   {
    "duration": 381,
    "start_time": "2023-06-05T16:05:44.077Z"
   },
   {
    "duration": 741,
    "start_time": "2023-06-05T16:05:57.291Z"
   },
   {
    "duration": 386,
    "start_time": "2023-06-05T16:07:11.298Z"
   },
   {
    "duration": 652,
    "start_time": "2023-06-05T16:07:22.515Z"
   },
   {
    "duration": 683,
    "start_time": "2023-06-05T16:07:31.347Z"
   },
   {
    "duration": 665,
    "start_time": "2023-06-05T16:08:07.090Z"
   },
   {
    "duration": 118,
    "start_time": "2023-06-05T16:08:17.739Z"
   },
   {
    "duration": 532,
    "start_time": "2023-06-05T16:08:20.080Z"
   },
   {
    "duration": 699,
    "start_time": "2023-06-05T16:08:36.195Z"
   },
   {
    "duration": 1092,
    "start_time": "2023-06-05T16:08:43.227Z"
   },
   {
    "duration": 707,
    "start_time": "2023-06-05T16:08:57.850Z"
   },
   {
    "duration": 729,
    "start_time": "2023-06-05T16:10:22.506Z"
   },
   {
    "duration": 723,
    "start_time": "2023-06-05T16:10:30.514Z"
   },
   {
    "duration": 6,
    "start_time": "2023-06-05T16:11:01.705Z"
   },
   {
    "duration": 9,
    "start_time": "2023-06-05T16:11:42.616Z"
   },
   {
    "duration": 10,
    "start_time": "2023-06-05T16:11:53.487Z"
   },
   {
    "duration": 571,
    "start_time": "2023-06-05T16:13:05.943Z"
   },
   {
    "duration": 936,
    "start_time": "2023-06-05T16:13:13.136Z"
   },
   {
    "duration": 544,
    "start_time": "2023-06-05T16:13:30.166Z"
   },
   {
    "duration": 514,
    "start_time": "2023-06-05T16:14:05.184Z"
   },
   {
    "duration": 517,
    "start_time": "2023-06-05T16:14:43.687Z"
   },
   {
    "duration": 560,
    "start_time": "2023-06-05T16:14:53.854Z"
   },
   {
    "duration": 513,
    "start_time": "2023-06-05T16:15:36.415Z"
   },
   {
    "duration": 995,
    "start_time": "2023-06-05T16:16:28.694Z"
   },
   {
    "duration": 560,
    "start_time": "2023-06-05T16:16:36.884Z"
   },
   {
    "duration": 512,
    "start_time": "2023-06-05T16:17:32.741Z"
   },
   {
    "duration": 563,
    "start_time": "2023-06-05T16:18:18.885Z"
   },
   {
    "duration": 583,
    "start_time": "2023-06-05T16:19:47.899Z"
   },
   {
    "duration": 558,
    "start_time": "2023-06-05T16:21:21.051Z"
   },
   {
    "duration": 508,
    "start_time": "2023-06-05T16:21:34.826Z"
   },
   {
    "duration": 520,
    "start_time": "2023-06-05T16:21:45.490Z"
   },
   {
    "duration": 556,
    "start_time": "2023-06-05T16:22:03.786Z"
   },
   {
    "duration": 1046,
    "start_time": "2023-06-05T16:22:15.722Z"
   },
   {
    "duration": 489,
    "start_time": "2023-06-05T16:22:49.441Z"
   },
   {
    "duration": 517,
    "start_time": "2023-06-05T16:23:06.785Z"
   },
   {
    "duration": 515,
    "start_time": "2023-06-05T16:23:12.137Z"
   },
   {
    "duration": 512,
    "start_time": "2023-06-05T16:23:36.953Z"
   },
   {
    "duration": 521,
    "start_time": "2023-06-05T16:23:42.745Z"
   },
   {
    "duration": 513,
    "start_time": "2023-06-05T16:24:07.392Z"
   },
   {
    "duration": 1120,
    "start_time": "2023-06-05T16:24:12.088Z"
   },
   {
    "duration": 660,
    "start_time": "2023-06-05T16:24:51.720Z"
   },
   {
    "duration": 667,
    "start_time": "2023-06-05T16:25:07.883Z"
   },
   {
    "duration": 755,
    "start_time": "2023-06-05T16:25:13.574Z"
   },
   {
    "duration": 690,
    "start_time": "2023-06-05T16:25:29.492Z"
   },
   {
    "duration": 612,
    "start_time": "2023-06-05T16:25:42.295Z"
   },
   {
    "duration": 1164,
    "start_time": "2023-06-05T16:25:47.188Z"
   },
   {
    "duration": 654,
    "start_time": "2023-06-05T16:26:04.288Z"
   },
   {
    "duration": 744,
    "start_time": "2023-06-05T16:27:03.743Z"
   },
   {
    "duration": 691,
    "start_time": "2023-06-05T16:27:19.988Z"
   },
   {
    "duration": 707,
    "start_time": "2023-06-05T16:27:34.039Z"
   },
   {
    "duration": 701,
    "start_time": "2023-06-05T16:27:42.582Z"
   },
   {
    "duration": 1161,
    "start_time": "2023-06-05T16:27:50.984Z"
   },
   {
    "duration": 335,
    "start_time": "2023-06-05T16:28:04.687Z"
   },
   {
    "duration": 509,
    "start_time": "2023-06-05T16:28:08.485Z"
   },
   {
    "duration": 708,
    "start_time": "2023-06-05T16:28:12.806Z"
   },
   {
    "duration": 700,
    "start_time": "2023-06-05T16:28:40.446Z"
   },
   {
    "duration": 659,
    "start_time": "2023-06-05T16:28:48.726Z"
   },
   {
    "duration": 661,
    "start_time": "2023-06-05T16:29:06.884Z"
   },
   {
    "duration": 1162,
    "start_time": "2023-06-05T16:29:12.386Z"
   },
   {
    "duration": 746,
    "start_time": "2023-06-05T16:29:31.749Z"
   },
   {
    "duration": 678,
    "start_time": "2023-06-05T16:29:38.335Z"
   },
   {
    "duration": 744,
    "start_time": "2023-06-05T16:31:30.489Z"
   },
   {
    "duration": 694,
    "start_time": "2023-06-05T16:32:48.710Z"
   },
   {
    "duration": 749,
    "start_time": "2023-06-05T16:32:56.488Z"
   },
   {
    "duration": 651,
    "start_time": "2023-06-05T16:33:05.989Z"
   },
   {
    "duration": 9,
    "start_time": "2023-06-05T17:29:07.812Z"
   },
   {
    "duration": 11,
    "start_time": "2023-06-05T17:29:17.398Z"
   },
   {
    "duration": 14,
    "start_time": "2023-06-05T17:29:42.826Z"
   },
   {
    "duration": 9,
    "start_time": "2023-06-05T17:31:05.093Z"
   },
   {
    "duration": 10,
    "start_time": "2023-06-05T17:31:19.202Z"
   },
   {
    "duration": 135,
    "start_time": "2023-06-05T17:35:17.506Z"
   },
   {
    "duration": 120,
    "start_time": "2023-06-05T17:35:21.807Z"
   },
   {
    "duration": 5,
    "start_time": "2023-06-05T17:35:32.360Z"
   },
   {
    "duration": 7,
    "start_time": "2023-06-05T17:35:38.255Z"
   },
   {
    "duration": 3,
    "start_time": "2023-06-05T17:35:51.927Z"
   },
   {
    "duration": 151,
    "start_time": "2023-06-05T17:36:46.238Z"
   },
   {
    "duration": 10,
    "start_time": "2023-06-05T17:36:49.110Z"
   },
   {
    "duration": 4,
    "start_time": "2023-06-05T17:36:54.603Z"
   },
   {
    "duration": 139,
    "start_time": "2023-06-05T17:37:00.295Z"
   },
   {
    "duration": 5,
    "start_time": "2023-06-05T17:37:04.207Z"
   },
   {
    "duration": 5,
    "start_time": "2023-06-05T17:37:11.388Z"
   },
   {
    "duration": 9,
    "start_time": "2023-06-05T17:37:16.194Z"
   },
   {
    "duration": 4,
    "start_time": "2023-06-05T17:37:22.439Z"
   },
   {
    "duration": 5,
    "start_time": "2023-06-05T17:38:49.200Z"
   },
   {
    "duration": 12,
    "start_time": "2023-06-05T17:38:53.899Z"
   },
   {
    "duration": 9,
    "start_time": "2023-06-05T17:39:46.503Z"
   },
   {
    "duration": 25,
    "start_time": "2023-06-05T17:40:32.000Z"
   },
   {
    "duration": 5,
    "start_time": "2023-06-05T17:43:36.219Z"
   },
   {
    "duration": 10,
    "start_time": "2023-06-05T17:43:51.730Z"
   },
   {
    "duration": 6,
    "start_time": "2023-06-05T17:44:35.880Z"
   },
   {
    "duration": 12,
    "start_time": "2023-06-05T17:48:04.699Z"
   },
   {
    "duration": 7,
    "start_time": "2023-06-05T17:48:12.503Z"
   },
   {
    "duration": 5,
    "start_time": "2023-06-05T17:48:22.049Z"
   },
   {
    "duration": 6,
    "start_time": "2023-06-05T17:49:15.396Z"
   },
   {
    "duration": 6,
    "start_time": "2023-06-05T17:49:17.498Z"
   },
   {
    "duration": 176,
    "start_time": "2023-06-05T17:49:53.795Z"
   },
   {
    "duration": 1583,
    "start_time": "2023-06-05T17:51:17.207Z"
   },
   {
    "duration": 986,
    "start_time": "2023-06-05T17:51:52.255Z"
   },
   {
    "duration": 1205,
    "start_time": "2023-06-05T17:52:06.414Z"
   },
   {
    "duration": 1725,
    "start_time": "2023-06-05T17:52:20.450Z"
   },
   {
    "duration": 1291,
    "start_time": "2023-06-05T17:52:39.302Z"
   },
   {
    "duration": 1186,
    "start_time": "2023-06-05T18:01:46.359Z"
   },
   {
    "duration": 1389,
    "start_time": "2023-06-05T18:06:10.652Z"
   },
   {
    "duration": 783,
    "start_time": "2023-06-05T18:06:12.043Z"
   },
   {
    "duration": 463,
    "start_time": "2023-06-05T18:06:12.830Z"
   },
   {
    "duration": 8,
    "start_time": "2023-06-05T18:06:13.295Z"
   },
   {
    "duration": 6,
    "start_time": "2023-06-05T18:06:13.304Z"
   },
   {
    "duration": 159,
    "start_time": "2023-06-05T18:06:13.311Z"
   },
   {
    "duration": 22,
    "start_time": "2023-06-05T18:06:13.471Z"
   },
   {
    "duration": 11,
    "start_time": "2023-06-05T18:06:13.494Z"
   },
   {
    "duration": 11,
    "start_time": "2023-06-05T18:06:13.507Z"
   },
   {
    "duration": 48,
    "start_time": "2023-06-05T18:06:13.519Z"
   },
   {
    "duration": 3,
    "start_time": "2023-06-05T18:06:13.568Z"
   },
   {
    "duration": 15,
    "start_time": "2023-06-05T18:06:13.572Z"
   },
   {
    "duration": 3,
    "start_time": "2023-06-05T18:06:13.590Z"
   },
   {
    "duration": 2038,
    "start_time": "2023-06-05T18:06:13.595Z"
   },
   {
    "duration": 5,
    "start_time": "2023-06-05T18:06:15.644Z"
   },
   {
    "duration": 823,
    "start_time": "2023-06-05T18:06:15.651Z"
   },
   {
    "duration": 698,
    "start_time": "2023-06-05T18:06:16.475Z"
   },
   {
    "duration": 7,
    "start_time": "2023-06-05T18:06:17.175Z"
   },
   {
    "duration": 1361,
    "start_time": "2023-06-05T18:06:17.184Z"
   },
   {
    "duration": 737,
    "start_time": "2023-06-05T18:06:27.672Z"
   },
   {
    "duration": 834,
    "start_time": "2023-06-05T18:06:33.588Z"
   },
   {
    "duration": 140,
    "start_time": "2023-06-05T18:09:12.946Z"
   },
   {
    "duration": 418,
    "start_time": "2023-06-05T18:09:44.596Z"
   },
   {
    "duration": 3,
    "start_time": "2023-06-05T18:10:05.753Z"
   },
   {
    "duration": 787,
    "start_time": "2023-06-05T18:10:05.759Z"
   },
   {
    "duration": 436,
    "start_time": "2023-06-05T18:10:06.548Z"
   },
   {
    "duration": 9,
    "start_time": "2023-06-05T18:10:06.986Z"
   },
   {
    "duration": 12,
    "start_time": "2023-06-05T18:10:06.997Z"
   },
   {
    "duration": 159,
    "start_time": "2023-06-05T18:10:07.011Z"
   },
   {
    "duration": 24,
    "start_time": "2023-06-05T18:10:07.172Z"
   },
   {
    "duration": 388,
    "start_time": "2023-06-05T18:10:09.571Z"
   },
   {
    "duration": 14,
    "start_time": "2023-06-05T18:11:01.574Z"
   },
   {
    "duration": 402,
    "start_time": "2023-06-05T18:12:12.140Z"
   },
   {
    "duration": 419,
    "start_time": "2023-06-05T18:12:34.049Z"
   },
   {
    "duration": 405,
    "start_time": "2023-06-05T18:12:39.297Z"
   },
   {
    "duration": 4,
    "start_time": "2023-06-05T18:13:11.449Z"
   },
   {
    "duration": 70,
    "start_time": "2023-06-05T18:13:33.304Z"
   },
   {
    "duration": 92,
    "start_time": "2023-06-05T18:13:54.705Z"
   },
   {
    "duration": 65,
    "start_time": "2023-06-05T18:13:59.680Z"
   },
   {
    "duration": 114,
    "start_time": "2023-06-05T18:14:22.776Z"
   },
   {
    "duration": 80,
    "start_time": "2023-06-05T18:14:26.640Z"
   },
   {
    "duration": 84,
    "start_time": "2023-06-05T18:14:40.637Z"
   },
   {
    "duration": 4,
    "start_time": "2023-06-05T18:15:46.263Z"
   },
   {
    "duration": 107,
    "start_time": "2023-06-05T18:15:53.992Z"
   },
   {
    "duration": 97,
    "start_time": "2023-06-05T18:16:07.447Z"
   },
   {
    "duration": 149,
    "start_time": "2023-06-05T18:16:19.183Z"
   },
   {
    "duration": 110,
    "start_time": "2023-06-05T18:16:29.807Z"
   },
   {
    "duration": 109,
    "start_time": "2023-06-05T18:16:56.839Z"
   },
   {
    "duration": 157,
    "start_time": "2023-06-05T18:17:04.478Z"
   },
   {
    "duration": 66,
    "start_time": "2023-06-05T18:17:14.910Z"
   },
   {
    "duration": 49,
    "start_time": "2023-06-05T18:17:21.642Z"
   },
   {
    "duration": 50,
    "start_time": "2023-06-05T18:19:01.621Z"
   },
   {
    "duration": 50,
    "start_time": "2023-06-05T18:19:25.373Z"
   },
   {
    "duration": 47,
    "start_time": "2023-06-05T18:19:57.941Z"
   },
   {
    "duration": 12,
    "start_time": "2023-06-05T18:26:52.554Z"
   },
   {
    "duration": 10,
    "start_time": "2023-06-05T18:27:07.376Z"
   },
   {
    "duration": 106,
    "start_time": "2023-06-05T18:27:19.160Z"
   },
   {
    "duration": 125,
    "start_time": "2023-06-05T18:27:35.216Z"
   },
   {
    "duration": 8,
    "start_time": "2023-06-05T18:28:05.889Z"
   },
   {
    "duration": 14,
    "start_time": "2023-06-05T18:28:35.520Z"
   },
   {
    "duration": 115,
    "start_time": "2023-06-05T18:29:23.583Z"
   },
   {
    "duration": 61,
    "start_time": "2023-06-05T18:45:42.502Z"
   },
   {
    "duration": 44,
    "start_time": "2023-06-06T10:19:46.522Z"
   },
   {
    "duration": 1430,
    "start_time": "2023-06-06T10:19:50.334Z"
   },
   {
    "duration": 3895,
    "start_time": "2023-06-06T10:19:51.766Z"
   },
   {
    "duration": 381,
    "start_time": "2023-06-06T10:19:55.662Z"
   },
   {
    "duration": 8,
    "start_time": "2023-06-06T10:19:56.045Z"
   },
   {
    "duration": 12,
    "start_time": "2023-06-06T10:19:56.054Z"
   },
   {
    "duration": 153,
    "start_time": "2023-06-06T10:19:56.067Z"
   },
   {
    "duration": 21,
    "start_time": "2023-06-06T10:19:56.222Z"
   },
   {
    "duration": 12,
    "start_time": "2023-06-06T10:19:56.245Z"
   },
   {
    "duration": 9,
    "start_time": "2023-06-06T10:20:01.343Z"
   },
   {
    "duration": 4727,
    "start_time": "2023-06-06T10:20:37.750Z"
   },
   {
    "duration": 4995,
    "start_time": "2023-06-06T10:21:17.379Z"
   },
   {
    "duration": 9,
    "start_time": "2023-06-06T10:21:50.244Z"
   },
   {
    "duration": 74,
    "start_time": "2023-06-06T10:22:26.205Z"
   },
   {
    "duration": 17,
    "start_time": "2023-06-06T10:22:30.678Z"
   },
   {
    "duration": 10,
    "start_time": "2023-06-06T10:22:41.165Z"
   },
   {
    "duration": 8,
    "start_time": "2023-06-06T10:25:54.235Z"
   },
   {
    "duration": 7,
    "start_time": "2023-06-06T10:28:13.161Z"
   },
   {
    "duration": 9,
    "start_time": "2023-06-06T10:28:56.818Z"
   },
   {
    "duration": 6,
    "start_time": "2023-06-06T10:30:19.689Z"
   },
   {
    "duration": 1285,
    "start_time": "2023-06-06T11:05:24.349Z"
   },
   {
    "duration": 1256,
    "start_time": "2023-06-06T11:05:57.908Z"
   },
   {
    "duration": 1297,
    "start_time": "2023-06-06T11:06:05.060Z"
   },
   {
    "duration": 11,
    "start_time": "2023-06-06T11:09:41.443Z"
   },
   {
    "duration": 3,
    "start_time": "2023-06-06T11:10:01.409Z"
   },
   {
    "duration": 711,
    "start_time": "2023-06-06T11:10:01.413Z"
   },
   {
    "duration": 368,
    "start_time": "2023-06-06T11:10:02.126Z"
   },
   {
    "duration": 16,
    "start_time": "2023-06-06T11:10:02.496Z"
   },
   {
    "duration": 30,
    "start_time": "2023-06-06T11:10:02.515Z"
   },
   {
    "duration": 192,
    "start_time": "2023-06-06T11:10:02.547Z"
   },
   {
    "duration": 19,
    "start_time": "2023-06-06T11:10:02.741Z"
   },
   {
    "duration": 16,
    "start_time": "2023-06-06T11:10:02.761Z"
   },
   {
    "duration": 30,
    "start_time": "2023-06-06T11:10:02.779Z"
   },
   {
    "duration": 10,
    "start_time": "2023-06-06T11:10:05.978Z"
   },
   {
    "duration": 4,
    "start_time": "2023-06-06T11:10:36.929Z"
   },
   {
    "duration": 4,
    "start_time": "2023-06-06T11:10:44.353Z"
   },
   {
    "duration": 11,
    "start_time": "2023-06-06T11:10:46.146Z"
   },
   {
    "duration": 4,
    "start_time": "2023-06-06T11:10:54.088Z"
   },
   {
    "duration": 1312,
    "start_time": "2023-06-06T11:10:55.649Z"
   },
   {
    "duration": 1282,
    "start_time": "2023-06-06T11:11:08.138Z"
   },
   {
    "duration": 1582,
    "start_time": "2023-06-06T11:11:41.042Z"
   },
   {
    "duration": 1352,
    "start_time": "2023-06-06T11:11:54.433Z"
   },
   {
    "duration": 1330,
    "start_time": "2023-06-06T11:14:05.432Z"
   },
   {
    "duration": 1354,
    "start_time": "2023-06-06T11:14:22.439Z"
   },
   {
    "duration": 109,
    "start_time": "2023-06-06T11:14:59.241Z"
   },
   {
    "duration": 1320,
    "start_time": "2023-06-06T11:15:06.863Z"
   },
   {
    "duration": 1258,
    "start_time": "2023-06-06T11:15:28.720Z"
   },
   {
    "duration": 1395,
    "start_time": "2023-06-06T11:15:37.534Z"
   },
   {
    "duration": 1341,
    "start_time": "2023-06-06T11:15:48.694Z"
   },
   {
    "duration": 1269,
    "start_time": "2023-06-06T11:15:56.431Z"
   },
   {
    "duration": 1261,
    "start_time": "2023-06-06T11:16:07.830Z"
   },
   {
    "duration": 1260,
    "start_time": "2023-06-06T11:16:14.990Z"
   },
   {
    "duration": 1282,
    "start_time": "2023-06-06T11:16:24.678Z"
   },
   {
    "duration": 1321,
    "start_time": "2023-06-06T11:16:49.422Z"
   },
   {
    "duration": 1297,
    "start_time": "2023-06-06T11:16:55.639Z"
   },
   {
    "duration": 104,
    "start_time": "2023-06-06T11:17:32.006Z"
   },
   {
    "duration": 123,
    "start_time": "2023-06-06T11:17:41.382Z"
   },
   {
    "duration": 1384,
    "start_time": "2023-06-06T11:17:50.285Z"
   },
   {
    "duration": 1306,
    "start_time": "2023-06-06T11:18:57.853Z"
   },
   {
    "duration": 250,
    "start_time": "2023-06-06T11:20:02.405Z"
   },
   {
    "duration": 1293,
    "start_time": "2023-06-06T11:20:07.145Z"
   },
   {
    "duration": 1288,
    "start_time": "2023-06-06T11:20:17.876Z"
   },
   {
    "duration": 1424,
    "start_time": "2023-06-06T11:21:47.652Z"
   },
   {
    "duration": 1453,
    "start_time": "2023-06-06T11:24:42.090Z"
   },
   {
    "duration": 1286,
    "start_time": "2023-06-06T11:24:56.841Z"
   },
   {
    "duration": 1302,
    "start_time": "2023-06-06T11:25:17.633Z"
   },
   {
    "duration": 100,
    "start_time": "2023-06-06T11:26:52.728Z"
   },
   {
    "duration": 20,
    "start_time": "2023-06-06T11:27:09.217Z"
   },
   {
    "duration": 113,
    "start_time": "2023-06-06T11:28:14.295Z"
   },
   {
    "duration": 21,
    "start_time": "2023-06-06T11:28:27.085Z"
   },
   {
    "duration": 103,
    "start_time": "2023-06-06T11:28:47.392Z"
   },
   {
    "duration": 20,
    "start_time": "2023-06-06T11:28:54.874Z"
   },
   {
    "duration": 169,
    "start_time": "2023-06-06T11:29:37.704Z"
   },
   {
    "duration": 21,
    "start_time": "2023-06-06T11:29:40.891Z"
   },
   {
    "duration": 170,
    "start_time": "2023-06-06T11:30:00.696Z"
   },
   {
    "duration": 167,
    "start_time": "2023-06-06T11:30:34.589Z"
   },
   {
    "duration": 198,
    "start_time": "2023-06-06T11:30:42.916Z"
   },
   {
    "duration": 1350,
    "start_time": "2023-06-06T11:32:37.934Z"
   },
   {
    "duration": 1288,
    "start_time": "2023-06-06T11:33:16.942Z"
   },
   {
    "duration": 10,
    "start_time": "2023-06-06T11:34:32.643Z"
   },
   {
    "duration": 119,
    "start_time": "2023-06-06T11:34:40.796Z"
   },
   {
    "duration": 10,
    "start_time": "2023-06-06T11:35:08.941Z"
   },
   {
    "duration": 9,
    "start_time": "2023-06-06T11:35:18.677Z"
   },
   {
    "duration": 10,
    "start_time": "2023-06-06T11:35:32.852Z"
   },
   {
    "duration": 13,
    "start_time": "2023-06-06T11:35:47.764Z"
   },
   {
    "duration": 9,
    "start_time": "2023-06-06T11:35:54.923Z"
   },
   {
    "duration": 105,
    "start_time": "2023-06-06T11:36:00.900Z"
   },
   {
    "duration": 10,
    "start_time": "2023-06-06T11:36:04.067Z"
   },
   {
    "duration": 534,
    "start_time": "2023-06-06T11:38:48.837Z"
   },
   {
    "duration": 230,
    "start_time": "2023-06-06T11:38:58.451Z"
   },
   {
    "duration": 4,
    "start_time": "2023-06-06T12:03:09.373Z"
   },
   {
    "duration": 18,
    "start_time": "2023-06-06T12:05:59.714Z"
   },
   {
    "duration": 151,
    "start_time": "2023-06-06T12:06:45.176Z"
   },
   {
    "duration": 8,
    "start_time": "2023-06-06T12:08:49.504Z"
   },
   {
    "duration": 95,
    "start_time": "2023-06-06T12:08:55.960Z"
   },
   {
    "duration": 136894,
    "start_time": "2023-06-06T12:09:02.345Z"
   },
   {
    "duration": 55064,
    "start_time": "2023-06-06T12:12:50.800Z"
   },
   {
    "duration": 117,
    "start_time": "2023-06-06T12:14:05.871Z"
   },
   {
    "duration": 238,
    "start_time": "2023-06-06T12:15:48.052Z"
   },
   {
    "duration": 4,
    "start_time": "2023-06-06T12:15:58.050Z"
   },
   {
    "duration": 28,
    "start_time": "2023-06-06T12:16:41.487Z"
   },
   {
    "duration": 9,
    "start_time": "2023-06-06T12:17:01.678Z"
   },
   {
    "duration": 13,
    "start_time": "2023-06-06T12:17:27.203Z"
   },
   {
    "duration": 5,
    "start_time": "2023-06-06T12:17:58.718Z"
   },
   {
    "duration": 7,
    "start_time": "2023-06-06T12:18:39.954Z"
   },
   {
    "duration": 357,
    "start_time": "2023-06-06T12:19:41.552Z"
   },
   {
    "duration": 365,
    "start_time": "2023-06-06T12:20:01.258Z"
   },
   {
    "duration": 7,
    "start_time": "2023-06-06T12:20:10.978Z"
   },
   {
    "duration": 1078,
    "start_time": "2023-06-06T12:20:38.545Z"
   },
   {
    "duration": 12,
    "start_time": "2023-06-06T12:20:49.360Z"
   },
   {
    "duration": 152,
    "start_time": "2023-06-06T12:20:58.409Z"
   },
   {
    "duration": 157,
    "start_time": "2023-06-06T12:21:17.377Z"
   },
   {
    "duration": 227,
    "start_time": "2023-06-06T12:21:26.506Z"
   },
   {
    "duration": 12,
    "start_time": "2023-06-06T12:21:40.951Z"
   },
   {
    "duration": 7,
    "start_time": "2023-06-06T12:28:10.452Z"
   },
   {
    "duration": 9,
    "start_time": "2023-06-06T12:28:15.925Z"
   },
   {
    "duration": 138,
    "start_time": "2023-06-06T12:28:35.543Z"
   },
   {
    "duration": 161,
    "start_time": "2023-06-06T12:29:37.915Z"
   },
   {
    "duration": 222,
    "start_time": "2023-06-06T12:33:49.554Z"
   },
   {
    "duration": 202,
    "start_time": "2023-06-06T12:33:53.489Z"
   },
   {
    "duration": 6178,
    "start_time": "2023-06-06T12:34:59.321Z"
   },
   {
    "duration": 18,
    "start_time": "2023-06-06T12:36:27.538Z"
   },
   {
    "duration": 362,
    "start_time": "2023-06-06T12:36:55.745Z"
   },
   {
    "duration": 366,
    "start_time": "2023-06-06T12:37:12.970Z"
   },
   {
    "duration": 380,
    "start_time": "2023-06-06T12:37:34.859Z"
   },
   {
    "duration": 3,
    "start_time": "2023-06-06T12:37:50.544Z"
   },
   {
    "duration": 624,
    "start_time": "2023-06-06T12:37:50.549Z"
   },
   {
    "duration": 386,
    "start_time": "2023-06-06T12:37:51.175Z"
   },
   {
    "duration": 9,
    "start_time": "2023-06-06T12:37:51.564Z"
   },
   {
    "duration": 24,
    "start_time": "2023-06-06T12:37:51.575Z"
   },
   {
    "duration": 168,
    "start_time": "2023-06-06T12:37:51.601Z"
   },
   {
    "duration": 19,
    "start_time": "2023-06-06T12:37:51.771Z"
   },
   {
    "duration": 28,
    "start_time": "2023-06-06T12:37:51.792Z"
   },
   {
    "duration": 18,
    "start_time": "2023-06-06T12:37:51.822Z"
   },
   {
    "duration": 38,
    "start_time": "2023-06-06T12:38:17.214Z"
   },
   {
    "duration": 40,
    "start_time": "2023-06-06T12:38:55.551Z"
   },
   {
    "duration": 7,
    "start_time": "2023-06-06T12:43:40.846Z"
   },
   {
    "duration": 2389,
    "start_time": "2023-06-06T12:45:39.898Z"
   },
   {
    "duration": 11,
    "start_time": "2023-06-06T12:58:49.891Z"
   },
   {
    "duration": 190,
    "start_time": "2023-06-06T12:59:00.099Z"
   },
   {
    "duration": 128,
    "start_time": "2023-06-06T12:59:37.538Z"
   },
   {
    "duration": 20,
    "start_time": "2023-06-06T13:00:08.971Z"
   },
   {
    "duration": 222,
    "start_time": "2023-06-06T13:00:28.250Z"
   },
   {
    "duration": 65139,
    "start_time": "2023-06-06T13:00:54.786Z"
   },
   {
    "duration": 79516,
    "start_time": "2023-06-06T13:02:21.154Z"
   },
   {
    "duration": 35,
    "start_time": "2023-06-06T13:04:32.199Z"
   },
   {
    "duration": 206538,
    "start_time": "2023-06-06T13:12:46.620Z"
   },
   {
    "duration": 0,
    "start_time": "2023-06-06T13:16:13.161Z"
   },
   {
    "duration": 1732,
    "start_time": "2023-06-06T13:17:05.231Z"
   },
   {
    "duration": 972,
    "start_time": "2023-06-06T13:17:06.966Z"
   },
   {
    "duration": 522,
    "start_time": "2023-06-06T13:17:07.940Z"
   },
   {
    "duration": 10,
    "start_time": "2023-06-06T13:17:08.464Z"
   },
   {
    "duration": 28,
    "start_time": "2023-06-06T13:17:08.476Z"
   },
   {
    "duration": 215,
    "start_time": "2023-06-06T13:17:08.506Z"
   },
   {
    "duration": 36,
    "start_time": "2023-06-06T13:17:08.722Z"
   },
   {
    "duration": 16,
    "start_time": "2023-06-06T13:17:20.953Z"
   },
   {
    "duration": 9,
    "start_time": "2023-06-06T13:17:24.067Z"
   },
   {
    "duration": 109,
    "start_time": "2023-06-06T13:18:13.804Z"
   },
   {
    "duration": 14,
    "start_time": "2023-06-06T13:19:34.333Z"
   },
   {
    "duration": 120,
    "start_time": "2023-06-06T13:20:05.251Z"
   },
   {
    "duration": 65,
    "start_time": "2023-06-06T13:21:17.724Z"
   },
   {
    "duration": 4,
    "start_time": "2023-06-06T13:26:11.921Z"
   },
   {
    "duration": 745,
    "start_time": "2023-06-06T13:26:11.927Z"
   },
   {
    "duration": 401,
    "start_time": "2023-06-06T13:26:12.674Z"
   },
   {
    "duration": 7,
    "start_time": "2023-06-06T13:26:13.077Z"
   },
   {
    "duration": 22,
    "start_time": "2023-06-06T13:26:13.085Z"
   },
   {
    "duration": 137,
    "start_time": "2023-06-06T13:26:13.112Z"
   },
   {
    "duration": 21,
    "start_time": "2023-06-06T13:26:13.250Z"
   },
   {
    "duration": 10,
    "start_time": "2023-06-06T13:26:13.272Z"
   },
   {
    "duration": 47,
    "start_time": "2023-06-06T13:26:13.305Z"
   },
   {
    "duration": 6,
    "start_time": "2023-06-06T13:26:13.353Z"
   },
   {
    "duration": 20,
    "start_time": "2023-06-06T13:26:13.360Z"
   },
   {
    "duration": 60,
    "start_time": "2023-06-06T13:26:13.382Z"
   },
   {
    "duration": 4,
    "start_time": "2023-06-06T13:26:13.443Z"
   },
   {
    "duration": 5,
    "start_time": "2023-06-06T13:26:13.448Z"
   },
   {
    "duration": 1909,
    "start_time": "2023-06-06T13:26:13.454Z"
   },
   {
    "duration": 4,
    "start_time": "2023-06-06T13:26:15.365Z"
   },
   {
    "duration": 701,
    "start_time": "2023-06-06T13:26:15.371Z"
   },
   {
    "duration": 571,
    "start_time": "2023-06-06T13:26:16.074Z"
   },
   {
    "duration": 10,
    "start_time": "2023-06-06T13:26:16.647Z"
   },
   {
    "duration": 6,
    "start_time": "2023-06-06T13:26:16.659Z"
   },
   {
    "duration": 14,
    "start_time": "2023-06-06T13:26:16.666Z"
   },
   {
    "duration": 15,
    "start_time": "2023-06-06T13:26:16.681Z"
   },
   {
    "duration": 1092,
    "start_time": "2023-06-06T13:26:16.697Z"
   },
   {
    "duration": 20339,
    "start_time": "2023-06-06T13:27:34.543Z"
   },
   {
    "duration": 12,
    "start_time": "2023-06-06T13:28:01.655Z"
   },
   {
    "duration": 102,
    "start_time": "2023-06-06T13:30:17.833Z"
   },
   {
    "duration": 131,
    "start_time": "2023-06-06T13:38:18.943Z"
   },
   {
    "duration": 935,
    "start_time": "2023-06-06T13:39:50.289Z"
   },
   {
    "duration": 668,
    "start_time": "2023-06-06T13:40:10.261Z"
   },
   {
    "duration": 4,
    "start_time": "2023-06-06T13:42:16.283Z"
   },
   {
    "duration": 697,
    "start_time": "2023-06-06T13:42:16.289Z"
   },
   {
    "duration": 410,
    "start_time": "2023-06-06T13:42:16.988Z"
   },
   {
    "duration": 16,
    "start_time": "2023-06-06T13:42:17.399Z"
   },
   {
    "duration": 40,
    "start_time": "2023-06-06T13:42:17.420Z"
   },
   {
    "duration": 129,
    "start_time": "2023-06-06T13:42:17.463Z"
   },
   {
    "duration": 29,
    "start_time": "2023-06-06T13:42:17.594Z"
   },
   {
    "duration": 14,
    "start_time": "2023-06-06T13:42:17.625Z"
   },
   {
    "duration": 47,
    "start_time": "2023-06-06T13:42:17.641Z"
   },
   {
    "duration": 30,
    "start_time": "2023-06-06T13:42:17.689Z"
   },
   {
    "duration": 16,
    "start_time": "2023-06-06T13:42:17.726Z"
   },
   {
    "duration": 42,
    "start_time": "2023-06-06T13:42:17.744Z"
   },
   {
    "duration": 29,
    "start_time": "2023-06-06T13:42:17.788Z"
   },
   {
    "duration": 9,
    "start_time": "2023-06-06T13:42:17.822Z"
   },
   {
    "duration": 1999,
    "start_time": "2023-06-06T13:42:17.833Z"
   },
   {
    "duration": 5,
    "start_time": "2023-06-06T13:42:19.836Z"
   },
   {
    "duration": 19,
    "start_time": "2023-06-06T13:42:19.843Z"
   },
   {
    "duration": 0,
    "start_time": "2023-06-06T13:42:19.864Z"
   },
   {
    "duration": 0,
    "start_time": "2023-06-06T13:42:19.865Z"
   },
   {
    "duration": 0,
    "start_time": "2023-06-06T13:42:19.867Z"
   },
   {
    "duration": 0,
    "start_time": "2023-06-06T13:42:19.868Z"
   },
   {
    "duration": 0,
    "start_time": "2023-06-06T13:42:19.870Z"
   },
   {
    "duration": 5,
    "start_time": "2023-06-06T13:42:50.445Z"
   },
   {
    "duration": 702,
    "start_time": "2023-06-06T13:42:50.452Z"
   },
   {
    "duration": 421,
    "start_time": "2023-06-06T13:42:51.156Z"
   },
   {
    "duration": 7,
    "start_time": "2023-06-06T13:42:51.579Z"
   },
   {
    "duration": 26,
    "start_time": "2023-06-06T13:42:51.588Z"
   },
   {
    "duration": 154,
    "start_time": "2023-06-06T13:42:51.628Z"
   },
   {
    "duration": 33,
    "start_time": "2023-06-06T13:42:51.784Z"
   },
   {
    "duration": 23,
    "start_time": "2023-06-06T13:42:51.818Z"
   },
   {
    "duration": 44,
    "start_time": "2023-06-06T13:42:51.843Z"
   },
   {
    "duration": 22,
    "start_time": "2023-06-06T13:42:51.888Z"
   },
   {
    "duration": 20,
    "start_time": "2023-06-06T13:42:51.911Z"
   },
   {
    "duration": 45,
    "start_time": "2023-06-06T13:42:51.932Z"
   },
   {
    "duration": 4,
    "start_time": "2023-06-06T13:42:51.978Z"
   },
   {
    "duration": 9,
    "start_time": "2023-06-06T13:42:51.984Z"
   },
   {
    "duration": 2520,
    "start_time": "2023-06-06T13:42:52.012Z"
   },
   {
    "duration": 8,
    "start_time": "2023-06-06T13:42:54.535Z"
   },
   {
    "duration": 638,
    "start_time": "2023-06-06T13:42:54.549Z"
   },
   {
    "duration": 767,
    "start_time": "2023-06-06T13:42:55.190Z"
   },
   {
    "duration": 3,
    "start_time": "2023-06-06T13:42:55.959Z"
   },
   {
    "duration": 16,
    "start_time": "2023-06-06T13:42:55.963Z"
   },
   {
    "duration": 10,
    "start_time": "2023-06-06T13:42:55.981Z"
   },
   {
    "duration": 1176,
    "start_time": "2023-06-06T13:42:55.993Z"
   },
   {
    "duration": 3,
    "start_time": "2023-06-06T13:51:51.621Z"
   },
   {
    "duration": 3,
    "start_time": "2023-06-06T13:52:58.539Z"
   },
   {
    "duration": 24,
    "start_time": "2023-06-06T14:02:29.505Z"
   },
   {
    "duration": 12,
    "start_time": "2023-06-06T14:02:36.907Z"
   },
   {
    "duration": 713,
    "start_time": "2023-06-06T14:02:36.921Z"
   },
   {
    "duration": 461,
    "start_time": "2023-06-06T14:02:37.636Z"
   },
   {
    "duration": 16,
    "start_time": "2023-06-06T14:02:38.099Z"
   },
   {
    "duration": 14,
    "start_time": "2023-06-06T14:02:38.117Z"
   },
   {
    "duration": 138,
    "start_time": "2023-06-06T14:02:38.133Z"
   },
   {
    "duration": 20,
    "start_time": "2023-06-06T14:02:38.272Z"
   },
   {
    "duration": 31,
    "start_time": "2023-06-06T14:02:38.293Z"
   },
   {
    "duration": 17,
    "start_time": "2023-06-06T14:02:39.705Z"
   },
   {
    "duration": 10,
    "start_time": "2023-06-06T14:03:34.633Z"
   },
   {
    "duration": 14,
    "start_time": "2023-06-06T14:06:49.862Z"
   },
   {
    "duration": 33,
    "start_time": "2023-06-06T14:07:00.615Z"
   },
   {
    "duration": 21,
    "start_time": "2023-06-06T14:07:14.493Z"
   },
   {
    "duration": 17,
    "start_time": "2023-06-06T14:07:19.853Z"
   },
   {
    "duration": 16,
    "start_time": "2023-06-06T14:07:42.732Z"
   },
   {
    "duration": 51,
    "start_time": "2023-06-06T14:07:57.487Z"
   },
   {
    "duration": 3,
    "start_time": "2023-06-06T14:08:37.285Z"
   },
   {
    "duration": 757,
    "start_time": "2023-06-06T14:08:37.290Z"
   },
   {
    "duration": 561,
    "start_time": "2023-06-06T14:08:38.050Z"
   },
   {
    "duration": 20,
    "start_time": "2023-06-06T14:08:38.615Z"
   },
   {
    "duration": 16,
    "start_time": "2023-06-06T14:08:38.637Z"
   },
   {
    "duration": 193,
    "start_time": "2023-06-06T14:08:38.656Z"
   },
   {
    "duration": 22,
    "start_time": "2023-06-06T14:08:38.851Z"
   },
   {
    "duration": 11,
    "start_time": "2023-06-06T14:08:38.875Z"
   },
   {
    "duration": 14,
    "start_time": "2023-06-06T14:08:38.911Z"
   },
   {
    "duration": 15,
    "start_time": "2023-06-06T14:08:38.931Z"
   },
   {
    "duration": 38,
    "start_time": "2023-06-06T14:08:38.950Z"
   },
   {
    "duration": 10,
    "start_time": "2023-06-06T14:08:39.009Z"
   },
   {
    "duration": 15,
    "start_time": "2023-06-06T14:08:39.021Z"
   },
   {
    "duration": 47,
    "start_time": "2023-06-06T14:08:39.037Z"
   },
   {
    "duration": 29,
    "start_time": "2023-06-06T14:08:39.086Z"
   },
   {
    "duration": 5,
    "start_time": "2023-06-06T14:08:39.124Z"
   },
   {
    "duration": 2558,
    "start_time": "2023-06-06T14:08:39.130Z"
   },
   {
    "duration": 6,
    "start_time": "2023-06-06T14:08:41.690Z"
   },
   {
    "duration": 764,
    "start_time": "2023-06-06T14:08:41.697Z"
   },
   {
    "duration": 805,
    "start_time": "2023-06-06T14:08:42.462Z"
   },
   {
    "duration": 3,
    "start_time": "2023-06-06T14:08:43.268Z"
   },
   {
    "duration": 5,
    "start_time": "2023-06-06T14:08:43.272Z"
   },
   {
    "duration": 8,
    "start_time": "2023-06-06T14:08:43.279Z"
   },
   {
    "duration": 1124,
    "start_time": "2023-06-06T14:08:43.289Z"
   },
   {
    "duration": 3,
    "start_time": "2023-06-06T14:39:59.455Z"
   },
   {
    "duration": 5,
    "start_time": "2023-06-06T14:40:16.209Z"
   },
   {
    "duration": 3,
    "start_time": "2023-06-06T14:40:38.079Z"
   },
   {
    "duration": 4,
    "start_time": "2023-06-06T14:40:43.432Z"
   },
   {
    "duration": 6,
    "start_time": "2023-06-06T14:40:48.428Z"
   },
   {
    "duration": 6,
    "start_time": "2023-06-06T14:41:56.122Z"
   },
   {
    "duration": 4,
    "start_time": "2023-06-06T14:41:56.949Z"
   },
   {
    "duration": 4,
    "start_time": "2023-06-06T14:41:57.645Z"
   },
   {
    "duration": 4,
    "start_time": "2023-06-06T14:42:04.582Z"
   },
   {
    "duration": 6,
    "start_time": "2023-06-06T14:49:15.231Z"
   },
   {
    "duration": 5,
    "start_time": "2023-06-06T14:49:51.026Z"
   },
   {
    "duration": 7,
    "start_time": "2023-06-06T14:49:52.569Z"
   },
   {
    "duration": 4,
    "start_time": "2023-06-06T14:50:00.270Z"
   },
   {
    "duration": 3,
    "start_time": "2023-06-06T14:50:46.591Z"
   },
   {
    "duration": 6,
    "start_time": "2023-06-06T14:50:47.680Z"
   },
   {
    "duration": 4,
    "start_time": "2023-06-06T14:50:49.576Z"
   },
   {
    "duration": 9,
    "start_time": "2023-06-06T14:55:39.381Z"
   },
   {
    "duration": 24,
    "start_time": "2023-06-06T14:56:33.773Z"
   },
   {
    "duration": 2,
    "start_time": "2023-06-06T14:57:15.348Z"
   },
   {
    "duration": 31,
    "start_time": "2023-06-06T14:57:47.595Z"
   },
   {
    "duration": 18,
    "start_time": "2023-06-06T14:58:15.981Z"
   },
   {
    "duration": 5,
    "start_time": "2023-06-06T14:59:57.658Z"
   },
   {
    "duration": 3,
    "start_time": "2023-06-06T15:02:19.584Z"
   },
   {
    "duration": 8,
    "start_time": "2023-06-06T15:02:28.457Z"
   },
   {
    "duration": 7,
    "start_time": "2023-06-06T15:04:18.456Z"
   },
   {
    "duration": 3,
    "start_time": "2023-06-06T15:04:26.791Z"
   },
   {
    "duration": 6,
    "start_time": "2023-06-06T15:07:23.340Z"
   },
   {
    "duration": 12,
    "start_time": "2023-06-06T15:07:31.970Z"
   },
   {
    "duration": 13,
    "start_time": "2023-06-06T15:07:47.749Z"
   },
   {
    "duration": 30,
    "start_time": "2023-06-06T15:08:00.389Z"
   },
   {
    "duration": 11,
    "start_time": "2023-06-06T15:09:58.988Z"
   },
   {
    "duration": 16,
    "start_time": "2023-06-06T15:12:20.636Z"
   },
   {
    "duration": 12,
    "start_time": "2023-06-06T15:12:30.937Z"
   },
   {
    "duration": 30,
    "start_time": "2023-06-06T15:12:40.845Z"
   },
   {
    "duration": 799,
    "start_time": "2023-06-06T15:12:40.877Z"
   },
   {
    "duration": 415,
    "start_time": "2023-06-06T15:12:41.678Z"
   },
   {
    "duration": 12,
    "start_time": "2023-06-06T15:12:42.094Z"
   },
   {
    "duration": 16,
    "start_time": "2023-06-06T15:12:42.108Z"
   },
   {
    "duration": 15,
    "start_time": "2023-06-06T15:12:45.041Z"
   },
   {
    "duration": 110,
    "start_time": "2023-06-06T15:13:15.554Z"
   },
   {
    "duration": 113,
    "start_time": "2023-06-06T15:13:35.874Z"
   },
   {
    "duration": 22,
    "start_time": "2023-06-06T15:13:46.801Z"
   },
   {
    "duration": 21,
    "start_time": "2023-06-06T15:13:59.132Z"
   },
   {
    "duration": 10271,
    "start_time": "2023-06-06T15:15:36.888Z"
   },
   {
    "duration": 12,
    "start_time": "2023-06-06T15:18:07.346Z"
   },
   {
    "duration": 5,
    "start_time": "2023-06-06T15:18:41.350Z"
   },
   {
    "duration": 732,
    "start_time": "2023-06-06T15:18:41.356Z"
   },
   {
    "duration": 488,
    "start_time": "2023-06-06T15:18:42.090Z"
   },
   {
    "duration": 9,
    "start_time": "2023-06-06T15:18:42.580Z"
   },
   {
    "duration": 24,
    "start_time": "2023-06-06T15:18:42.591Z"
   },
   {
    "duration": 25,
    "start_time": "2023-06-06T15:18:42.619Z"
   },
   {
    "duration": 14,
    "start_time": "2023-06-06T15:18:42.648Z"
   },
   {
    "duration": 182,
    "start_time": "2023-06-06T15:18:42.664Z"
   },
   {
    "duration": 23,
    "start_time": "2023-06-06T15:18:42.849Z"
   },
   {
    "duration": 10,
    "start_time": "2023-06-06T15:18:42.874Z"
   },
   {
    "duration": 27,
    "start_time": "2023-06-06T15:18:42.885Z"
   },
   {
    "duration": 21,
    "start_time": "2023-06-06T15:18:42.913Z"
   },
   {
    "duration": 38,
    "start_time": "2023-06-06T15:18:42.935Z"
   },
   {
    "duration": 5,
    "start_time": "2023-06-06T15:18:42.974Z"
   },
   {
    "duration": 31,
    "start_time": "2023-06-06T15:18:42.981Z"
   },
   {
    "duration": 66,
    "start_time": "2023-06-06T15:18:43.014Z"
   },
   {
    "duration": 5,
    "start_time": "2023-06-06T15:18:43.082Z"
   },
   {
    "duration": 10,
    "start_time": "2023-06-06T15:18:43.089Z"
   },
   {
    "duration": 2487,
    "start_time": "2023-06-06T15:18:43.100Z"
   },
   {
    "duration": 4,
    "start_time": "2023-06-06T15:18:45.589Z"
   },
   {
    "duration": 730,
    "start_time": "2023-06-06T15:18:45.595Z"
   },
   {
    "duration": 737,
    "start_time": "2023-06-06T15:18:46.331Z"
   },
   {
    "duration": 3,
    "start_time": "2023-06-06T15:18:47.069Z"
   },
   {
    "duration": 11,
    "start_time": "2023-06-06T15:18:47.074Z"
   },
   {
    "duration": 24,
    "start_time": "2023-06-06T15:18:47.086Z"
   },
   {
    "duration": 1157,
    "start_time": "2023-06-06T15:18:47.120Z"
   },
   {
    "duration": 2,
    "start_time": "2023-06-06T15:18:48.279Z"
   },
   {
    "duration": 6,
    "start_time": "2023-06-06T15:18:48.283Z"
   },
   {
    "duration": 8,
    "start_time": "2023-06-06T15:18:48.290Z"
   },
   {
    "duration": 9,
    "start_time": "2023-06-06T15:18:48.306Z"
   },
   {
    "duration": 20,
    "start_time": "2023-06-06T15:19:14.949Z"
   },
   {
    "duration": 34,
    "start_time": "2023-06-06T15:19:58.581Z"
   },
   {
    "duration": 34,
    "start_time": "2023-06-06T15:20:24.134Z"
   },
   {
    "duration": 18,
    "start_time": "2023-06-06T15:20:34.220Z"
   },
   {
    "duration": 6,
    "start_time": "2023-06-06T15:20:49.636Z"
   },
   {
    "duration": 760,
    "start_time": "2023-06-06T15:20:49.645Z"
   },
   {
    "duration": 429,
    "start_time": "2023-06-06T15:20:50.416Z"
   },
   {
    "duration": 9,
    "start_time": "2023-06-06T15:20:50.850Z"
   },
   {
    "duration": 14,
    "start_time": "2023-06-06T15:20:50.860Z"
   },
   {
    "duration": 24,
    "start_time": "2023-06-06T15:20:50.875Z"
   },
   {
    "duration": 8,
    "start_time": "2023-06-06T15:20:52.881Z"
   },
   {
    "duration": 10,
    "start_time": "2023-06-06T15:21:00.833Z"
   },
   {
    "duration": 814,
    "start_time": "2023-06-06T15:21:00.849Z"
   },
   {
    "duration": 477,
    "start_time": "2023-06-06T15:21:01.664Z"
   },
   {
    "duration": 18,
    "start_time": "2023-06-06T15:21:02.148Z"
   },
   {
    "duration": 34,
    "start_time": "2023-06-06T15:21:02.169Z"
   },
   {
    "duration": 39,
    "start_time": "2023-06-06T15:21:02.205Z"
   },
   {
    "duration": 34,
    "start_time": "2023-06-06T15:21:02.246Z"
   },
   {
    "duration": 161,
    "start_time": "2023-06-06T15:21:02.281Z"
   },
   {
    "duration": 22,
    "start_time": "2023-06-06T15:21:02.447Z"
   },
   {
    "duration": 21,
    "start_time": "2023-06-06T15:21:02.471Z"
   },
   {
    "duration": 22,
    "start_time": "2023-06-06T15:21:02.495Z"
   },
   {
    "duration": 24,
    "start_time": "2023-06-06T15:21:02.518Z"
   },
   {
    "duration": 77,
    "start_time": "2023-06-06T15:21:02.545Z"
   },
   {
    "duration": 6,
    "start_time": "2023-06-06T15:21:02.624Z"
   },
   {
    "duration": 15,
    "start_time": "2023-06-06T15:21:02.632Z"
   },
   {
    "duration": 78,
    "start_time": "2023-06-06T15:21:02.649Z"
   },
   {
    "duration": 17,
    "start_time": "2023-06-06T15:21:02.729Z"
   },
   {
    "duration": 30,
    "start_time": "2023-06-06T15:21:02.750Z"
   },
   {
    "duration": 2542,
    "start_time": "2023-06-06T15:21:02.783Z"
   },
   {
    "duration": 9,
    "start_time": "2023-06-06T15:21:05.327Z"
   },
   {
    "duration": 617,
    "start_time": "2023-06-06T15:21:05.338Z"
   },
   {
    "duration": 686,
    "start_time": "2023-06-06T15:21:05.957Z"
   },
   {
    "duration": 7,
    "start_time": "2023-06-06T15:21:06.647Z"
   },
   {
    "duration": 7,
    "start_time": "2023-06-06T15:21:06.656Z"
   },
   {
    "duration": 8,
    "start_time": "2023-06-06T15:21:06.664Z"
   },
   {
    "duration": 1114,
    "start_time": "2023-06-06T15:21:06.673Z"
   },
   {
    "duration": 4,
    "start_time": "2023-06-06T15:21:07.788Z"
   },
   {
    "duration": 7,
    "start_time": "2023-06-06T15:21:07.793Z"
   },
   {
    "duration": 10,
    "start_time": "2023-06-06T15:21:07.811Z"
   },
   {
    "duration": 21,
    "start_time": "2023-06-06T15:21:07.822Z"
   },
   {
    "duration": 24,
    "start_time": "2023-06-06T15:21:10.047Z"
   },
   {
    "duration": 28,
    "start_time": "2023-06-06T15:21:51.279Z"
   },
   {
    "duration": 11,
    "start_time": "2023-06-06T15:24:28.910Z"
   },
   {
    "duration": 40,
    "start_time": "2023-06-06T15:25:59.985Z"
   },
   {
    "duration": 8,
    "start_time": "2023-06-06T15:26:55.367Z"
   },
   {
    "duration": 9,
    "start_time": "2023-06-06T15:27:04.427Z"
   },
   {
    "duration": 4,
    "start_time": "2023-06-06T15:28:24.392Z"
   },
   {
    "duration": 12,
    "start_time": "2023-06-06T15:38:30.586Z"
   },
   {
    "duration": 25,
    "start_time": "2023-06-06T15:39:21.769Z"
   },
   {
    "duration": 22,
    "start_time": "2023-06-06T15:39:33.761Z"
   },
   {
    "duration": 23,
    "start_time": "2023-06-06T15:39:46.752Z"
   },
   {
    "duration": 20,
    "start_time": "2023-06-06T15:40:01.644Z"
   },
   {
    "duration": 21,
    "start_time": "2023-06-06T15:40:12.849Z"
   },
   {
    "duration": 9,
    "start_time": "2023-06-06T16:22:29.188Z"
   },
   {
    "duration": 10,
    "start_time": "2023-06-06T16:22:33.904Z"
   },
   {
    "duration": 13,
    "start_time": "2023-06-06T16:22:48.079Z"
   },
   {
    "duration": 38,
    "start_time": "2023-06-06T16:23:09.076Z"
   },
   {
    "duration": 85,
    "start_time": "2023-06-06T16:23:14.828Z"
   },
   {
    "duration": 39,
    "start_time": "2023-06-06T16:23:50.876Z"
   },
   {
    "duration": 4,
    "start_time": "2023-06-06T16:24:17.180Z"
   },
   {
    "duration": 54,
    "start_time": "2023-06-06T16:24:23.787Z"
   },
   {
    "duration": 13,
    "start_time": "2023-06-06T16:25:56.060Z"
   },
   {
    "duration": 213,
    "start_time": "2023-06-06T16:25:59.498Z"
   },
   {
    "duration": 194,
    "start_time": "2023-06-06T16:26:46.954Z"
   },
   {
    "duration": 4,
    "start_time": "2023-06-06T16:27:50.474Z"
   },
   {
    "duration": 850,
    "start_time": "2023-06-06T16:31:54.969Z"
   },
   {
    "duration": 1326,
    "start_time": "2023-06-06T16:35:10.470Z"
   },
   {
    "duration": 780,
    "start_time": "2023-06-06T16:35:11.798Z"
   },
   {
    "duration": 446,
    "start_time": "2023-06-06T16:35:12.580Z"
   },
   {
    "duration": 9,
    "start_time": "2023-06-06T16:35:13.032Z"
   },
   {
    "duration": 23,
    "start_time": "2023-06-06T16:35:13.042Z"
   },
   {
    "duration": 38,
    "start_time": "2023-06-06T16:35:13.066Z"
   },
   {
    "duration": 27,
    "start_time": "2023-06-06T16:35:13.105Z"
   },
   {
    "duration": 143,
    "start_time": "2023-06-06T16:35:13.134Z"
   },
   {
    "duration": 28,
    "start_time": "2023-06-06T16:35:13.279Z"
   },
   {
    "duration": 18,
    "start_time": "2023-06-06T16:35:13.313Z"
   },
   {
    "duration": 9,
    "start_time": "2023-06-06T16:35:13.333Z"
   },
   {
    "duration": 10,
    "start_time": "2023-06-06T16:35:13.343Z"
   },
   {
    "duration": 32,
    "start_time": "2023-06-06T16:35:13.354Z"
   },
   {
    "duration": 19,
    "start_time": "2023-06-06T16:35:13.387Z"
   },
   {
    "duration": 28,
    "start_time": "2023-06-06T16:35:13.413Z"
   },
   {
    "duration": 50,
    "start_time": "2023-06-06T16:35:13.442Z"
   },
   {
    "duration": 3,
    "start_time": "2023-06-06T16:35:13.494Z"
   },
   {
    "duration": 41,
    "start_time": "2023-06-06T16:35:13.498Z"
   },
   {
    "duration": 1904,
    "start_time": "2023-06-06T16:35:13.541Z"
   },
   {
    "duration": 4,
    "start_time": "2023-06-06T16:35:15.446Z"
   },
   {
    "duration": 725,
    "start_time": "2023-06-06T16:35:15.451Z"
   },
   {
    "duration": 584,
    "start_time": "2023-06-06T16:35:16.178Z"
   },
   {
    "duration": 6,
    "start_time": "2023-06-06T16:35:16.763Z"
   },
   {
    "duration": 1165,
    "start_time": "2023-06-06T16:35:16.771Z"
   },
   {
    "duration": 3,
    "start_time": "2023-06-06T16:35:17.938Z"
   },
   {
    "duration": 6,
    "start_time": "2023-06-06T16:35:17.942Z"
   },
   {
    "duration": 8,
    "start_time": "2023-06-06T16:35:17.950Z"
   },
   {
    "duration": 6,
    "start_time": "2023-06-06T16:35:17.960Z"
   },
   {
    "duration": 5,
    "start_time": "2023-06-06T16:35:17.967Z"
   },
   {
    "duration": 36,
    "start_time": "2023-06-06T16:35:17.973Z"
   },
   {
    "duration": 19,
    "start_time": "2023-06-06T16:35:18.014Z"
   },
   {
    "duration": 28,
    "start_time": "2023-06-06T16:35:18.035Z"
   },
   {
    "duration": 754,
    "start_time": "2023-06-06T16:35:18.064Z"
   },
   {
    "duration": 111,
    "start_time": "2023-06-06T16:49:21.125Z"
   },
   {
    "duration": 12,
    "start_time": "2023-06-06T17:01:26.927Z"
   },
   {
    "duration": 10,
    "start_time": "2023-06-06T17:04:13.264Z"
   },
   {
    "duration": 13,
    "start_time": "2023-06-06T17:04:28.326Z"
   },
   {
    "duration": 11,
    "start_time": "2023-06-06T17:05:30.592Z"
   },
   {
    "duration": 4,
    "start_time": "2023-06-06T17:05:58.256Z"
   },
   {
    "duration": 947,
    "start_time": "2023-06-06T17:06:03.167Z"
   },
   {
    "duration": 1229,
    "start_time": "2023-06-06T17:06:28.495Z"
   },
   {
    "duration": 51,
    "start_time": "2023-06-07T09:45:57.148Z"
   },
   {
    "duration": 1685,
    "start_time": "2023-06-07T09:46:04.686Z"
   },
   {
    "duration": 4066,
    "start_time": "2023-06-07T09:46:06.373Z"
   },
   {
    "duration": 432,
    "start_time": "2023-06-07T09:46:10.440Z"
   },
   {
    "duration": 9,
    "start_time": "2023-06-07T09:46:10.877Z"
   },
   {
    "duration": 6,
    "start_time": "2023-06-07T09:46:10.887Z"
   },
   {
    "duration": 16,
    "start_time": "2023-06-07T09:46:10.894Z"
   },
   {
    "duration": 7,
    "start_time": "2023-06-07T09:46:10.911Z"
   },
   {
    "duration": 170,
    "start_time": "2023-06-07T09:46:10.920Z"
   },
   {
    "duration": 18,
    "start_time": "2023-06-07T09:46:11.093Z"
   },
   {
    "duration": 10,
    "start_time": "2023-06-07T09:46:11.114Z"
   },
   {
    "duration": 10,
    "start_time": "2023-06-07T09:46:11.125Z"
   },
   {
    "duration": 12,
    "start_time": "2023-06-07T09:46:11.136Z"
   },
   {
    "duration": 66,
    "start_time": "2023-06-07T09:46:11.150Z"
   },
   {
    "duration": 5,
    "start_time": "2023-06-07T09:46:11.217Z"
   },
   {
    "duration": 12,
    "start_time": "2023-06-07T09:46:11.224Z"
   },
   {
    "duration": 114,
    "start_time": "2023-06-07T09:46:11.237Z"
   },
   {
    "duration": 4,
    "start_time": "2023-06-07T09:46:11.352Z"
   },
   {
    "duration": 4,
    "start_time": "2023-06-07T09:46:11.358Z"
   },
   {
    "duration": 1886,
    "start_time": "2023-06-07T09:46:11.363Z"
   },
   {
    "duration": 3,
    "start_time": "2023-06-07T09:46:13.251Z"
   },
   {
    "duration": 676,
    "start_time": "2023-06-07T09:46:13.256Z"
   },
   {
    "duration": 569,
    "start_time": "2023-06-07T09:46:13.933Z"
   },
   {
    "duration": 6,
    "start_time": "2023-06-07T09:46:14.503Z"
   },
   {
    "duration": 1156,
    "start_time": "2023-06-07T09:46:14.511Z"
   },
   {
    "duration": 16,
    "start_time": "2023-06-07T09:46:15.669Z"
   },
   {
    "duration": 5,
    "start_time": "2023-06-07T09:46:15.691Z"
   },
   {
    "duration": 11,
    "start_time": "2023-06-07T09:46:15.697Z"
   },
   {
    "duration": 3,
    "start_time": "2023-06-07T09:46:15.710Z"
   },
   {
    "duration": 6,
    "start_time": "2023-06-07T09:46:15.715Z"
   },
   {
    "duration": 31,
    "start_time": "2023-06-07T09:46:15.722Z"
   },
   {
    "duration": 28,
    "start_time": "2023-06-07T09:46:15.755Z"
   },
   {
    "duration": 34,
    "start_time": "2023-06-07T09:46:15.789Z"
   },
   {
    "duration": 3,
    "start_time": "2023-06-07T09:53:47.387Z"
   },
   {
    "duration": 87,
    "start_time": "2023-06-07T09:59:00.000Z"
   },
   {
    "duration": 106,
    "start_time": "2023-06-07T09:59:01.591Z"
   },
   {
    "duration": 5,
    "start_time": "2023-06-07T09:59:07.314Z"
   },
   {
    "duration": 4,
    "start_time": "2023-06-07T09:59:08.407Z"
   },
   {
    "duration": 5,
    "start_time": "2023-06-07T09:59:13.392Z"
   },
   {
    "duration": 10,
    "start_time": "2023-06-07T09:59:52.936Z"
   },
   {
    "duration": 9,
    "start_time": "2023-06-07T09:59:57.849Z"
   },
   {
    "duration": 9,
    "start_time": "2023-06-07T10:01:24.495Z"
   },
   {
    "duration": 8,
    "start_time": "2023-06-07T10:01:32.127Z"
   },
   {
    "duration": 11,
    "start_time": "2023-06-07T10:01:51.758Z"
   },
   {
    "duration": 12,
    "start_time": "2023-06-07T10:03:25.797Z"
   },
   {
    "duration": 3,
    "start_time": "2023-06-07T10:03:30.885Z"
   },
   {
    "duration": 4,
    "start_time": "2023-06-07T10:03:36.062Z"
   },
   {
    "duration": 29,
    "start_time": "2023-06-07T10:04:17.621Z"
   },
   {
    "duration": 5,
    "start_time": "2023-06-07T10:06:56.803Z"
   },
   {
    "duration": 10,
    "start_time": "2023-06-07T10:07:44.900Z"
   },
   {
    "duration": 9,
    "start_time": "2023-06-07T10:08:56.243Z"
   },
   {
    "duration": 462,
    "start_time": "2023-06-07T10:09:03.523Z"
   },
   {
    "duration": 11,
    "start_time": "2023-06-07T10:14:57.239Z"
   },
   {
    "duration": 5,
    "start_time": "2023-06-07T10:15:22.528Z"
   },
   {
    "duration": 6,
    "start_time": "2023-06-07T10:15:29.559Z"
   },
   {
    "duration": 13,
    "start_time": "2023-06-07T10:16:05.063Z"
   },
   {
    "duration": 4,
    "start_time": "2023-06-07T10:18:28.990Z"
   },
   {
    "duration": 4,
    "start_time": "2023-06-07T10:18:34.692Z"
   },
   {
    "duration": 5,
    "start_time": "2023-06-07T10:18:42.276Z"
   },
   {
    "duration": 4,
    "start_time": "2023-06-07T10:19:19.756Z"
   },
   {
    "duration": 3,
    "start_time": "2023-06-07T10:19:32.093Z"
   },
   {
    "duration": 4,
    "start_time": "2023-06-07T10:19:53.517Z"
   },
   {
    "duration": 3,
    "start_time": "2023-06-07T10:20:19.145Z"
   },
   {
    "duration": 4,
    "start_time": "2023-06-07T10:20:25.949Z"
   },
   {
    "duration": 24440,
    "start_time": "2023-06-07T10:20:29.516Z"
   },
   {
    "duration": 0,
    "start_time": "2023-06-07T10:20:53.958Z"
   },
   {
    "duration": 4,
    "start_time": "2023-06-07T10:20:56.652Z"
   },
   {
    "duration": 175658,
    "start_time": "2023-06-07T10:21:24.188Z"
   },
   {
    "duration": 0,
    "start_time": "2023-06-07T10:24:19.848Z"
   },
   {
    "duration": 734,
    "start_time": "2023-06-07T10:24:51.954Z"
   },
   {
    "duration": 4,
    "start_time": "2023-06-07T10:24:54.777Z"
   },
   {
    "duration": 3,
    "start_time": "2023-06-07T10:24:56.849Z"
   },
   {
    "duration": 10960,
    "start_time": "2023-06-07T10:24:59.673Z"
   },
   {
    "duration": 3,
    "start_time": "2023-06-07T10:25:35.385Z"
   },
   {
    "duration": 14015,
    "start_time": "2023-06-07T10:25:38.514Z"
   },
   {
    "duration": 82794,
    "start_time": "2023-06-07T10:26:08.674Z"
   },
   {
    "duration": 3,
    "start_time": "2023-06-07T10:27:53.529Z"
   },
   {
    "duration": 37255,
    "start_time": "2023-06-07T10:27:54.424Z"
   },
   {
    "duration": 267867,
    "start_time": "2023-06-07T10:28:33.072Z"
   },
   {
    "duration": 2,
    "start_time": "2023-06-07T10:33:09.229Z"
   },
   {
    "duration": 5,
    "start_time": "2023-06-07T10:33:37.557Z"
   },
   {
    "duration": 2,
    "start_time": "2023-06-07T10:33:41.612Z"
   },
   {
    "duration": 48005,
    "start_time": "2023-06-07T10:33:46.956Z"
   },
   {
    "duration": 91433,
    "start_time": "2023-06-07T10:34:46.549Z"
   },
   {
    "duration": 4,
    "start_time": "2023-06-07T11:05:23.826Z"
   },
   {
    "duration": 719,
    "start_time": "2023-06-07T11:05:23.833Z"
   },
   {
    "duration": 433,
    "start_time": "2023-06-07T11:05:24.554Z"
   },
   {
    "duration": 8,
    "start_time": "2023-06-07T11:05:24.989Z"
   },
   {
    "duration": 5,
    "start_time": "2023-06-07T11:05:24.999Z"
   },
   {
    "duration": 27,
    "start_time": "2023-06-07T11:05:25.006Z"
   },
   {
    "duration": 6,
    "start_time": "2023-06-07T11:05:25.034Z"
   },
   {
    "duration": 157,
    "start_time": "2023-06-07T11:05:25.041Z"
   },
   {
    "duration": 19,
    "start_time": "2023-06-07T11:05:25.200Z"
   },
   {
    "duration": 10,
    "start_time": "2023-06-07T11:05:25.220Z"
   },
   {
    "duration": 11,
    "start_time": "2023-06-07T11:05:25.232Z"
   },
   {
    "duration": 42,
    "start_time": "2023-06-07T11:05:25.244Z"
   },
   {
    "duration": 37,
    "start_time": "2023-06-07T11:05:25.289Z"
   },
   {
    "duration": 5,
    "start_time": "2023-06-07T11:05:25.328Z"
   },
   {
    "duration": 19,
    "start_time": "2023-06-07T11:05:25.334Z"
   },
   {
    "duration": 73,
    "start_time": "2023-06-07T11:05:25.354Z"
   },
   {
    "duration": 3,
    "start_time": "2023-06-07T11:05:25.428Z"
   },
   {
    "duration": 15,
    "start_time": "2023-06-07T11:05:25.433Z"
   },
   {
    "duration": 2205,
    "start_time": "2023-06-07T11:05:25.450Z"
   },
   {
    "duration": 4,
    "start_time": "2023-06-07T11:05:27.656Z"
   },
   {
    "duration": 543,
    "start_time": "2023-06-07T11:05:27.661Z"
   },
   {
    "duration": 789,
    "start_time": "2023-06-07T11:05:28.206Z"
   },
   {
    "duration": 6,
    "start_time": "2023-06-07T11:05:28.997Z"
   },
   {
    "duration": 1204,
    "start_time": "2023-06-07T11:05:29.004Z"
   },
   {
    "duration": 3,
    "start_time": "2023-06-07T11:05:30.210Z"
   },
   {
    "duration": 39,
    "start_time": "2023-06-07T11:05:30.215Z"
   },
   {
    "duration": 36,
    "start_time": "2023-06-07T11:05:30.256Z"
   },
   {
    "duration": 25,
    "start_time": "2023-06-07T11:05:30.294Z"
   },
   {
    "duration": 23,
    "start_time": "2023-06-07T11:05:30.322Z"
   },
   {
    "duration": 41,
    "start_time": "2023-06-07T11:05:30.347Z"
   },
   {
    "duration": 52,
    "start_time": "2023-06-07T11:05:30.390Z"
   },
   {
    "duration": 71,
    "start_time": "2023-06-07T11:05:30.444Z"
   },
   {
    "duration": 865,
    "start_time": "2023-06-07T11:05:30.517Z"
   },
   {
    "duration": 2,
    "start_time": "2023-06-07T11:06:29.708Z"
   },
   {
    "duration": 3,
    "start_time": "2023-06-07T11:06:32.001Z"
   },
   {
    "duration": 424178,
    "start_time": "2023-06-07T11:08:01.530Z"
   },
   {
    "duration": 1401527,
    "start_time": "2023-06-07T11:19:09.098Z"
   },
   {
    "duration": 5,
    "start_time": "2023-06-07T11:42:57.621Z"
   },
   {
    "duration": 3,
    "start_time": "2023-06-07T11:45:07.203Z"
   },
   {
    "duration": 916595,
    "start_time": "2023-06-07T11:45:08.859Z"
   },
   {
    "duration": 8,
    "start_time": "2023-06-07T12:00:25.456Z"
   },
   {
    "duration": 5,
    "start_time": "2023-06-07T12:00:30.804Z"
   },
   {
    "duration": 701,
    "start_time": "2023-06-07T12:00:30.810Z"
   },
   {
    "duration": 472,
    "start_time": "2023-06-07T12:00:31.513Z"
   },
   {
    "duration": 8,
    "start_time": "2023-06-07T12:00:31.987Z"
   },
   {
    "duration": 27,
    "start_time": "2023-06-07T12:00:31.997Z"
   },
   {
    "duration": 33,
    "start_time": "2023-06-07T12:00:32.026Z"
   },
   {
    "duration": 21,
    "start_time": "2023-06-07T12:00:32.061Z"
   },
   {
    "duration": 152,
    "start_time": "2023-06-07T12:00:32.084Z"
   },
   {
    "duration": 18,
    "start_time": "2023-06-07T12:00:32.238Z"
   },
   {
    "duration": 37,
    "start_time": "2023-06-07T12:00:32.258Z"
   },
   {
    "duration": 18,
    "start_time": "2023-06-07T12:00:32.298Z"
   },
   {
    "duration": 22,
    "start_time": "2023-06-07T12:00:32.318Z"
   },
   {
    "duration": 48,
    "start_time": "2023-06-07T12:00:32.342Z"
   },
   {
    "duration": 5,
    "start_time": "2023-06-07T12:00:32.393Z"
   },
   {
    "duration": 15,
    "start_time": "2023-06-07T12:00:32.400Z"
   },
   {
    "duration": 63,
    "start_time": "2023-06-07T12:00:32.417Z"
   },
   {
    "duration": 4,
    "start_time": "2023-06-07T12:00:32.482Z"
   },
   {
    "duration": 33,
    "start_time": "2023-06-07T12:00:32.488Z"
   },
   {
    "duration": 1997,
    "start_time": "2023-06-07T12:00:32.524Z"
   },
   {
    "duration": 5,
    "start_time": "2023-06-07T12:00:34.523Z"
   },
   {
    "duration": 822,
    "start_time": "2023-06-07T12:00:34.531Z"
   },
   {
    "duration": 679,
    "start_time": "2023-06-07T12:00:35.354Z"
   },
   {
    "duration": 7,
    "start_time": "2023-06-07T12:00:36.035Z"
   },
   {
    "duration": 1258,
    "start_time": "2023-06-07T12:00:36.044Z"
   },
   {
    "duration": 3,
    "start_time": "2023-06-07T12:00:37.304Z"
   },
   {
    "duration": 324,
    "start_time": "2023-06-07T12:00:37.309Z"
   },
   {
    "duration": 7,
    "start_time": "2023-06-07T12:00:37.638Z"
   },
   {
    "duration": 4,
    "start_time": "2023-06-07T12:00:37.647Z"
   },
   {
    "duration": 7,
    "start_time": "2023-06-07T12:00:37.655Z"
   },
   {
    "duration": 35,
    "start_time": "2023-06-07T12:00:37.664Z"
   },
   {
    "duration": 14,
    "start_time": "2023-06-07T12:00:37.701Z"
   },
   {
    "duration": 48,
    "start_time": "2023-06-07T12:00:37.717Z"
   },
   {
    "duration": 812,
    "start_time": "2023-06-07T12:00:37.767Z"
   },
   {
    "duration": 9,
    "start_time": "2023-06-07T12:00:38.581Z"
   },
   {
    "duration": 86,
    "start_time": "2023-06-07T12:00:38.592Z"
   },
   {
    "duration": 4051,
    "start_time": "2023-06-07T12:01:25.620Z"
   },
   {
    "duration": 4,
    "start_time": "2023-06-07T12:01:32.796Z"
   },
   {
    "duration": 4,
    "start_time": "2023-06-07T12:01:38.065Z"
   },
   {
    "duration": 1709518,
    "start_time": "2023-06-07T12:01:41.130Z"
   },
   {
    "duration": 5,
    "start_time": "2023-06-07T12:31:35.377Z"
   },
   {
    "duration": 992,
    "start_time": "2023-06-07T12:31:47.397Z"
   },
   {
    "duration": 4,
    "start_time": "2023-06-07T12:34:17.742Z"
   },
   {
    "duration": 17,
    "start_time": "2023-06-07T12:38:34.695Z"
   },
   {
    "duration": 10,
    "start_time": "2023-06-07T12:38:52.348Z"
   },
   {
    "duration": 5,
    "start_time": "2023-06-07T12:39:27.907Z"
   },
   {
    "duration": 4,
    "start_time": "2023-06-07T12:40:57.242Z"
   },
   {
    "duration": 13,
    "start_time": "2023-06-07T12:40:58.810Z"
   },
   {
    "duration": 4,
    "start_time": "2023-06-07T12:41:12.755Z"
   },
   {
    "duration": 5,
    "start_time": "2023-06-07T12:41:13.930Z"
   },
   {
    "duration": 3,
    "start_time": "2023-06-07T12:43:22.449Z"
   },
   {
    "duration": 4,
    "start_time": "2023-06-07T12:43:23.321Z"
   },
   {
    "duration": 4,
    "start_time": "2023-06-07T12:43:59.968Z"
   },
   {
    "duration": 1146,
    "start_time": "2023-06-07T12:44:05.449Z"
   },
   {
    "duration": 827,
    "start_time": "2023-06-07T12:44:38.552Z"
   },
   {
    "duration": 11,
    "start_time": "2023-06-07T12:48:09.984Z"
   },
   {
    "duration": 463,
    "start_time": "2023-06-07T12:48:16.542Z"
   },
   {
    "duration": 1482,
    "start_time": "2023-06-07T12:53:31.110Z"
   },
   {
    "duration": 763,
    "start_time": "2023-06-07T12:53:32.594Z"
   },
   {
    "duration": 434,
    "start_time": "2023-06-07T12:53:33.363Z"
   },
   {
    "duration": 8,
    "start_time": "2023-06-07T12:53:33.799Z"
   },
   {
    "duration": 7,
    "start_time": "2023-06-07T12:53:33.808Z"
   },
   {
    "duration": 13,
    "start_time": "2023-06-07T12:53:33.816Z"
   },
   {
    "duration": 6,
    "start_time": "2023-06-07T12:53:33.830Z"
   },
   {
    "duration": 178,
    "start_time": "2023-06-07T12:53:33.838Z"
   },
   {
    "duration": 20,
    "start_time": "2023-06-07T12:53:34.020Z"
   },
   {
    "duration": 13,
    "start_time": "2023-06-07T12:53:34.042Z"
   },
   {
    "duration": 45,
    "start_time": "2023-06-07T12:53:34.056Z"
   },
   {
    "duration": 28,
    "start_time": "2023-06-07T12:53:34.103Z"
   },
   {
    "duration": 36,
    "start_time": "2023-06-07T12:53:34.134Z"
   },
   {
    "duration": 10,
    "start_time": "2023-06-07T12:53:34.173Z"
   },
   {
    "duration": 17,
    "start_time": "2023-06-07T12:53:34.187Z"
   },
   {
    "duration": 65,
    "start_time": "2023-06-07T12:53:34.206Z"
   },
   {
    "duration": 13,
    "start_time": "2023-06-07T12:53:34.273Z"
   },
   {
    "duration": 4,
    "start_time": "2023-06-07T12:53:34.293Z"
   },
   {
    "duration": 2157,
    "start_time": "2023-06-07T12:53:34.301Z"
   },
   {
    "duration": 4,
    "start_time": "2023-06-07T12:53:36.460Z"
   },
   {
    "duration": 777,
    "start_time": "2023-06-07T12:53:36.465Z"
   },
   {
    "duration": 731,
    "start_time": "2023-06-07T12:53:37.244Z"
   },
   {
    "duration": 20,
    "start_time": "2023-06-07T12:53:37.977Z"
   },
   {
    "duration": 1198,
    "start_time": "2023-06-07T12:53:38.003Z"
   },
   {
    "duration": 5,
    "start_time": "2023-06-07T12:53:39.203Z"
   },
   {
    "duration": 12,
    "start_time": "2023-06-07T12:53:39.210Z"
   },
   {
    "duration": 9,
    "start_time": "2023-06-07T12:53:39.225Z"
   },
   {
    "duration": 13,
    "start_time": "2023-06-07T12:53:39.236Z"
   },
   {
    "duration": 11,
    "start_time": "2023-06-07T12:53:39.251Z"
   },
   {
    "duration": 50,
    "start_time": "2023-06-07T12:53:39.263Z"
   },
   {
    "duration": 14,
    "start_time": "2023-06-07T12:53:39.314Z"
   },
   {
    "duration": 30,
    "start_time": "2023-06-07T12:53:39.329Z"
   },
   {
    "duration": 1224,
    "start_time": "2023-06-07T12:53:39.361Z"
   },
   {
    "duration": 3,
    "start_time": "2023-06-07T12:53:40.590Z"
   },
   {
    "duration": 88,
    "start_time": "2023-06-07T12:53:40.595Z"
   },
   {
    "duration": 21,
    "start_time": "2023-06-07T12:53:40.685Z"
   },
   {
    "duration": 11,
    "start_time": "2023-06-07T12:53:40.710Z"
   },
   {
    "duration": 8,
    "start_time": "2023-06-07T12:53:40.724Z"
   },
   {
    "duration": 4,
    "start_time": "2023-06-07T12:54:57.219Z"
   },
   {
    "duration": 590,
    "start_time": "2023-06-07T12:55:00.716Z"
   },
   {
    "duration": 3,
    "start_time": "2023-06-07T12:57:43.033Z"
   },
   {
    "duration": 910,
    "start_time": "2023-06-07T12:57:47.294Z"
   },
   {
    "duration": 4,
    "start_time": "2023-06-07T12:57:56.945Z"
   },
   {
    "duration": 1001,
    "start_time": "2023-06-07T12:58:01.312Z"
   },
   {
    "duration": 3,
    "start_time": "2023-06-07T13:01:32.503Z"
   },
   {
    "duration": 4,
    "start_time": "2023-06-07T13:01:33.343Z"
   },
   {
    "duration": 3,
    "start_time": "2023-06-07T13:01:34.407Z"
   },
   {
    "duration": 5,
    "start_time": "2023-06-07T13:01:37.719Z"
   },
   {
    "duration": 4,
    "start_time": "2023-06-07T13:02:02.351Z"
   },
   {
    "duration": 72273,
    "start_time": "2023-06-07T13:02:06.374Z"
   },
   {
    "duration": 4,
    "start_time": "2023-06-07T13:05:49.654Z"
   },
   {
    "duration": 33267,
    "start_time": "2023-06-07T13:05:51.188Z"
   },
   {
    "duration": 10,
    "start_time": "2023-06-07T13:06:27.678Z"
   },
   {
    "duration": 70155,
    "start_time": "2023-06-07T13:06:31.343Z"
   },
   {
    "duration": 7,
    "start_time": "2023-06-07T13:08:56.429Z"
   },
   {
    "duration": 6,
    "start_time": "2023-06-07T13:09:13.525Z"
   },
   {
    "duration": 3,
    "start_time": "2023-06-07T13:10:43.900Z"
   },
   {
    "duration": 5,
    "start_time": "2023-06-07T13:11:01.924Z"
   },
   {
    "duration": 855,
    "start_time": "2023-06-07T13:11:07.148Z"
   },
   {
    "duration": 4,
    "start_time": "2023-06-07T13:11:11.036Z"
   },
   {
    "duration": 70597,
    "start_time": "2023-06-07T13:11:13.500Z"
   },
   {
    "duration": 4,
    "start_time": "2023-06-07T13:14:05.467Z"
   },
   {
    "duration": 383,
    "start_time": "2023-06-07T13:14:08.523Z"
   },
   {
    "duration": 3,
    "start_time": "2023-06-07T13:15:04.046Z"
   },
   {
    "duration": 71679,
    "start_time": "2023-06-07T13:15:05.830Z"
   },
   {
    "duration": 4,
    "start_time": "2023-06-07T13:16:17.512Z"
   },
   {
    "duration": 882,
    "start_time": "2023-06-07T13:16:17.517Z"
   },
   {
    "duration": 547,
    "start_time": "2023-06-07T13:16:23.650Z"
   },
   {
    "duration": 62230,
    "start_time": "2023-06-07T13:16:35.523Z"
   },
   {
    "duration": 5,
    "start_time": "2023-06-07T13:17:37.756Z"
   },
   {
    "duration": 5,
    "start_time": "2023-06-07T13:17:40.410Z"
   },
   {
    "duration": 14,
    "start_time": "2023-06-07T13:17:49.929Z"
   },
   {
    "duration": 11,
    "start_time": "2023-06-07T13:17:55.388Z"
   },
   {
    "duration": 6,
    "start_time": "2023-06-07T13:18:01.721Z"
   },
   {
    "duration": 944,
    "start_time": "2023-06-07T13:18:49.344Z"
   },
   {
    "duration": 7104,
    "start_time": "2023-06-07T13:18:53.885Z"
   },
   {
    "duration": 4,
    "start_time": "2023-06-07T13:19:02.608Z"
   },
   {
    "duration": 70731,
    "start_time": "2023-06-07T13:19:03.778Z"
   },
   {
    "duration": 1506,
    "start_time": "2023-06-07T13:20:40.864Z"
   },
   {
    "duration": 776,
    "start_time": "2023-06-07T13:20:42.372Z"
   },
   {
    "duration": 454,
    "start_time": "2023-06-07T13:20:43.150Z"
   },
   {
    "duration": 9,
    "start_time": "2023-06-07T13:20:43.607Z"
   },
   {
    "duration": 15,
    "start_time": "2023-06-07T13:20:43.618Z"
   },
   {
    "duration": 56,
    "start_time": "2023-06-07T13:20:43.634Z"
   },
   {
    "duration": 18,
    "start_time": "2023-06-07T13:20:43.693Z"
   },
   {
    "duration": 162,
    "start_time": "2023-06-07T13:20:43.713Z"
   },
   {
    "duration": 30,
    "start_time": "2023-06-07T13:20:43.876Z"
   },
   {
    "duration": 32,
    "start_time": "2023-06-07T13:20:43.909Z"
   },
   {
    "duration": 12,
    "start_time": "2023-06-07T13:20:43.943Z"
   },
   {
    "duration": 27,
    "start_time": "2023-06-07T13:20:43.957Z"
   },
   {
    "duration": 58,
    "start_time": "2023-06-07T13:20:43.991Z"
   },
   {
    "duration": 7,
    "start_time": "2023-06-07T13:20:44.050Z"
   },
   {
    "duration": 45,
    "start_time": "2023-06-07T13:20:44.059Z"
   },
   {
    "duration": 60,
    "start_time": "2023-06-07T13:20:44.106Z"
   },
   {
    "duration": 4,
    "start_time": "2023-06-07T13:20:44.169Z"
   },
   {
    "duration": 24,
    "start_time": "2023-06-07T13:20:44.175Z"
   },
   {
    "duration": 2200,
    "start_time": "2023-06-07T13:20:44.200Z"
   },
   {
    "duration": 5,
    "start_time": "2023-06-07T13:20:46.402Z"
   },
   {
    "duration": 787,
    "start_time": "2023-06-07T13:20:46.410Z"
   },
   {
    "duration": 754,
    "start_time": "2023-06-07T13:20:47.199Z"
   },
   {
    "duration": 7,
    "start_time": "2023-06-07T13:20:47.956Z"
   },
   {
    "duration": 1237,
    "start_time": "2023-06-07T13:20:47.965Z"
   },
   {
    "duration": 4,
    "start_time": "2023-06-07T13:20:49.205Z"
   },
   {
    "duration": 8,
    "start_time": "2023-06-07T13:20:49.211Z"
   },
   {
    "duration": 9,
    "start_time": "2023-06-07T13:20:49.221Z"
   },
   {
    "duration": 3,
    "start_time": "2023-06-07T13:20:49.234Z"
   },
   {
    "duration": 6,
    "start_time": "2023-06-07T13:20:49.239Z"
   },
   {
    "duration": 53,
    "start_time": "2023-06-07T13:20:49.247Z"
   },
   {
    "duration": 13,
    "start_time": "2023-06-07T13:20:49.302Z"
   },
   {
    "duration": 29,
    "start_time": "2023-06-07T13:20:49.317Z"
   },
   {
    "duration": 931,
    "start_time": "2023-06-07T13:20:49.348Z"
   },
   {
    "duration": 4,
    "start_time": "2023-06-07T13:20:50.282Z"
   },
   {
    "duration": 10,
    "start_time": "2023-06-07T13:20:50.289Z"
   },
   {
    "duration": 80,
    "start_time": "2023-06-07T13:20:50.300Z"
   },
   {
    "duration": 8,
    "start_time": "2023-06-07T13:20:50.382Z"
   },
   {
    "duration": 72442,
    "start_time": "2023-06-07T13:20:50.394Z"
   },
   {
    "duration": 4,
    "start_time": "2023-06-07T13:22:05.510Z"
   },
   {
    "duration": 4,
    "start_time": "2023-06-07T13:22:43.854Z"
   },
   {
    "duration": 70617,
    "start_time": "2023-06-07T13:22:45.821Z"
   },
   {
    "duration": 5,
    "start_time": "2023-06-07T13:24:34.325Z"
   },
   {
    "duration": 70916,
    "start_time": "2023-06-07T13:24:35.669Z"
   },
   {
    "duration": 3,
    "start_time": "2023-06-07T13:25:46.589Z"
   },
   {
    "duration": 4,
    "start_time": "2023-06-07T13:25:50.204Z"
   },
   {
    "duration": 1050,
    "start_time": "2023-06-07T13:25:57.332Z"
   },
   {
    "duration": 4,
    "start_time": "2023-06-07T13:26:08.948Z"
   },
   {
    "duration": 68354,
    "start_time": "2023-06-07T13:26:11.861Z"
   },
   {
    "duration": 6,
    "start_time": "2023-06-07T13:27:50.564Z"
   },
   {
    "duration": 11,
    "start_time": "2023-06-07T13:27:52.582Z"
   },
   {
    "duration": 14843,
    "start_time": "2023-06-07T13:27:53.731Z"
   },
   {
    "duration": 6,
    "start_time": "2023-06-07T13:28:25.843Z"
   },
   {
    "duration": 12,
    "start_time": "2023-06-07T13:31:25.010Z"
   },
   {
    "duration": 24,
    "start_time": "2023-06-07T13:31:34.265Z"
   },
   {
    "duration": 7,
    "start_time": "2023-06-07T13:31:40.048Z"
   },
   {
    "duration": 7,
    "start_time": "2023-06-07T13:31:42.808Z"
   },
   {
    "duration": 5,
    "start_time": "2023-06-07T13:33:14.400Z"
   },
   {
    "duration": 4,
    "start_time": "2023-06-07T13:33:37.056Z"
   },
   {
    "duration": 58497,
    "start_time": "2023-06-07T13:33:46.639Z"
   },
   {
    "duration": 215,
    "start_time": "2023-06-07T13:35:40.107Z"
   },
   {
    "duration": 4,
    "start_time": "2023-06-07T13:35:49.536Z"
   },
   {
    "duration": 30982,
    "start_time": "2023-06-07T13:35:51.021Z"
   },
   {
    "duration": 5,
    "start_time": "2023-06-07T13:38:33.418Z"
   },
   {
    "duration": 1531,
    "start_time": "2023-06-07T13:39:11.735Z"
   },
   {
    "duration": 821,
    "start_time": "2023-06-07T13:39:13.268Z"
   },
   {
    "duration": 481,
    "start_time": "2023-06-07T13:39:14.090Z"
   },
   {
    "duration": 25,
    "start_time": "2023-06-07T13:39:14.574Z"
   },
   {
    "duration": 6,
    "start_time": "2023-06-07T13:39:14.605Z"
   },
   {
    "duration": 22,
    "start_time": "2023-06-07T13:39:14.612Z"
   },
   {
    "duration": 8,
    "start_time": "2023-06-07T13:39:14.636Z"
   },
   {
    "duration": 191,
    "start_time": "2023-06-07T13:39:14.646Z"
   },
   {
    "duration": 22,
    "start_time": "2023-06-07T13:39:14.839Z"
   },
   {
    "duration": 30,
    "start_time": "2023-06-07T13:39:14.883Z"
   },
   {
    "duration": 12,
    "start_time": "2023-06-07T13:39:14.922Z"
   },
   {
    "duration": 21,
    "start_time": "2023-06-07T13:39:14.936Z"
   },
   {
    "duration": 67,
    "start_time": "2023-06-07T13:39:14.958Z"
   },
   {
    "duration": 5,
    "start_time": "2023-06-07T13:39:15.027Z"
   },
   {
    "duration": 40,
    "start_time": "2023-06-07T13:39:15.033Z"
   },
   {
    "duration": 99,
    "start_time": "2023-06-07T13:39:15.075Z"
   },
   {
    "duration": 10,
    "start_time": "2023-06-07T13:39:15.176Z"
   },
   {
    "duration": 18,
    "start_time": "2023-06-07T13:39:15.189Z"
   },
   {
    "duration": 2310,
    "start_time": "2023-06-07T13:39:15.209Z"
   },
   {
    "duration": 20,
    "start_time": "2023-06-07T13:39:17.521Z"
   },
   {
    "duration": 919,
    "start_time": "2023-06-07T13:39:17.545Z"
   },
   {
    "duration": 779,
    "start_time": "2023-06-07T13:39:18.467Z"
   },
   {
    "duration": 6,
    "start_time": "2023-06-07T13:39:19.248Z"
   },
   {
    "duration": 1506,
    "start_time": "2023-06-07T13:39:19.256Z"
   },
   {
    "duration": 3,
    "start_time": "2023-06-07T13:39:20.763Z"
   },
   {
    "duration": 16,
    "start_time": "2023-06-07T13:39:20.768Z"
   },
   {
    "duration": 11,
    "start_time": "2023-06-07T13:39:20.785Z"
   },
   {
    "duration": 20,
    "start_time": "2023-06-07T13:39:20.802Z"
   },
   {
    "duration": 6,
    "start_time": "2023-06-07T13:39:20.825Z"
   },
   {
    "duration": 10,
    "start_time": "2023-06-07T13:39:20.832Z"
   },
   {
    "duration": 45,
    "start_time": "2023-06-07T13:39:20.843Z"
   },
   {
    "duration": 21,
    "start_time": "2023-06-07T13:39:20.892Z"
   },
   {
    "duration": 10,
    "start_time": "2023-06-07T13:39:20.914Z"
   },
   {
    "duration": 12,
    "start_time": "2023-06-07T13:39:20.927Z"
   },
   {
    "duration": 956,
    "start_time": "2023-06-07T13:39:20.941Z"
   },
   {
    "duration": 19,
    "start_time": "2023-06-07T13:39:21.899Z"
   },
   {
    "duration": 59,
    "start_time": "2023-06-07T13:39:21.920Z"
   },
   {
    "duration": 20,
    "start_time": "2023-06-07T13:39:21.987Z"
   },
   {
    "duration": 6,
    "start_time": "2023-06-07T13:39:22.009Z"
   },
   {
    "duration": 15997,
    "start_time": "2023-06-07T13:39:22.018Z"
   },
   {
    "duration": 5,
    "start_time": "2023-06-07T13:39:38.016Z"
   },
   {
    "duration": 22,
    "start_time": "2023-06-07T13:39:38.022Z"
   },
   {
    "duration": 22079,
    "start_time": "2023-06-07T13:39:38.046Z"
   },
   {
    "duration": 4,
    "start_time": "2023-06-07T13:40:00.127Z"
   },
   {
    "duration": 4,
    "start_time": "2023-06-07T13:43:01.363Z"
   },
   {
    "duration": 4,
    "start_time": "2023-06-07T13:43:02.668Z"
   },
   {
    "duration": 1099,
    "start_time": "2023-06-07T13:43:12.522Z"
   },
   {
    "duration": 5,
    "start_time": "2023-06-07T13:44:01.508Z"
   },
   {
    "duration": 5,
    "start_time": "2023-06-07T13:44:02.170Z"
   },
   {
    "duration": 882,
    "start_time": "2023-06-07T13:44:12.215Z"
   },
   {
    "duration": 4,
    "start_time": "2023-06-07T13:45:10.746Z"
   },
   {
    "duration": 5,
    "start_time": "2023-06-07T13:45:11.353Z"
   },
   {
    "duration": 20,
    "start_time": "2023-06-07T13:47:31.545Z"
   },
   {
    "duration": 7,
    "start_time": "2023-06-07T13:47:52.915Z"
   },
   {
    "duration": 16801,
    "start_time": "2023-06-07T13:49:16.692Z"
   },
   {
    "duration": 16009,
    "start_time": "2023-06-07T13:49:51.817Z"
   },
   {
    "duration": 16694,
    "start_time": "2023-06-07T13:50:22.313Z"
   },
   {
    "duration": 7,
    "start_time": "2023-06-07T13:51:12.608Z"
   },
   {
    "duration": 982,
    "start_time": "2023-06-07T13:51:12.617Z"
   },
   {
    "duration": 486,
    "start_time": "2023-06-07T13:51:13.602Z"
   },
   {
    "duration": 11,
    "start_time": "2023-06-07T13:51:14.090Z"
   },
   {
    "duration": 19,
    "start_time": "2023-06-07T13:51:14.103Z"
   },
   {
    "duration": 17,
    "start_time": "2023-06-07T13:51:14.129Z"
   },
   {
    "duration": 6,
    "start_time": "2023-06-07T13:51:14.148Z"
   },
   {
    "duration": 175,
    "start_time": "2023-06-07T13:51:14.155Z"
   },
   {
    "duration": 24,
    "start_time": "2023-06-07T13:51:14.332Z"
   },
   {
    "duration": 28,
    "start_time": "2023-06-07T13:51:14.357Z"
   },
   {
    "duration": 13,
    "start_time": "2023-06-07T13:51:14.390Z"
   },
   {
    "duration": 11,
    "start_time": "2023-06-07T13:51:14.404Z"
   },
   {
    "duration": 44,
    "start_time": "2023-06-07T13:51:14.417Z"
   },
   {
    "duration": 10,
    "start_time": "2023-06-07T13:51:14.479Z"
   },
   {
    "duration": 13,
    "start_time": "2023-06-07T13:51:14.491Z"
   },
   {
    "duration": 53,
    "start_time": "2023-06-07T13:51:14.506Z"
   },
   {
    "duration": 23,
    "start_time": "2023-06-07T13:51:14.561Z"
   },
   {
    "duration": 6,
    "start_time": "2023-06-07T13:51:14.593Z"
   },
   {
    "duration": 2535,
    "start_time": "2023-06-07T13:51:14.601Z"
   },
   {
    "duration": 4,
    "start_time": "2023-06-07T13:51:17.139Z"
   },
   {
    "duration": 903,
    "start_time": "2023-06-07T13:51:17.144Z"
   },
   {
    "duration": 778,
    "start_time": "2023-06-07T13:51:18.049Z"
   },
   {
    "duration": 8,
    "start_time": "2023-06-07T13:51:18.835Z"
   },
   {
    "duration": 1566,
    "start_time": "2023-06-07T13:51:18.844Z"
   },
   {
    "duration": 9,
    "start_time": "2023-06-07T13:51:20.418Z"
   },
   {
    "duration": 14,
    "start_time": "2023-06-07T13:51:20.432Z"
   },
   {
    "duration": 29,
    "start_time": "2023-06-07T13:51:20.448Z"
   },
   {
    "duration": 24,
    "start_time": "2023-06-07T13:51:20.483Z"
   },
   {
    "duration": 14,
    "start_time": "2023-06-07T13:51:20.511Z"
   },
   {
    "duration": 6,
    "start_time": "2023-06-07T13:51:20.533Z"
   },
   {
    "duration": 34,
    "start_time": "2023-06-07T13:51:20.540Z"
   },
   {
    "duration": 21,
    "start_time": "2023-06-07T13:51:20.575Z"
   },
   {
    "duration": 14,
    "start_time": "2023-06-07T13:51:20.598Z"
   },
   {
    "duration": 25,
    "start_time": "2023-06-07T13:51:20.614Z"
   },
   {
    "duration": 16,
    "start_time": "2023-06-07T13:51:20.640Z"
   },
   {
    "duration": 1022,
    "start_time": "2023-06-07T13:51:20.658Z"
   },
   {
    "duration": 7,
    "start_time": "2023-06-07T13:51:21.688Z"
   },
   {
    "duration": 10,
    "start_time": "2023-06-07T13:51:21.709Z"
   },
   {
    "duration": 60,
    "start_time": "2023-06-07T13:51:21.727Z"
   },
   {
    "duration": 7,
    "start_time": "2023-06-07T13:51:21.789Z"
   },
   {
    "duration": 16569,
    "start_time": "2023-06-07T13:51:21.801Z"
   },
   {
    "duration": 18,
    "start_time": "2023-06-07T13:51:38.371Z"
   },
   {
    "duration": 22221,
    "start_time": "2023-06-07T13:51:38.391Z"
   },
   {
    "duration": 181,
    "start_time": "2023-06-07T13:53:47.839Z"
   },
   {
    "duration": 912,
    "start_time": "2023-06-07T13:54:01.594Z"
   },
   {
    "duration": 1009,
    "start_time": "2023-06-07T13:54:43.711Z"
   },
   {
    "duration": 5,
    "start_time": "2023-06-07T13:59:37.425Z"
   },
   {
    "duration": 8,
    "start_time": "2023-06-07T13:59:38.215Z"
   },
   {
    "duration": 984,
    "start_time": "2023-06-07T13:59:43.947Z"
   },
   {
    "duration": 721,
    "start_time": "2023-06-07T14:00:09.697Z"
   },
   {
    "duration": 4,
    "start_time": "2023-06-07T14:00:21.998Z"
   },
   {
    "duration": 17179,
    "start_time": "2023-06-07T14:00:30.901Z"
   },
   {
    "duration": 3,
    "start_time": "2023-06-07T14:00:56.050Z"
   },
   {
    "duration": 22223,
    "start_time": "2023-06-07T14:01:00.517Z"
   },
   {
    "duration": 961,
    "start_time": "2023-06-07T14:03:43.632Z"
   },
   {
    "duration": 10,
    "start_time": "2023-06-07T14:04:08.507Z"
   },
   {
    "duration": 5,
    "start_time": "2023-06-07T14:04:11.102Z"
   },
   {
    "duration": 13,
    "start_time": "2023-06-07T14:04:16.716Z"
   },
   {
    "duration": 902,
    "start_time": "2023-06-07T14:04:16.732Z"
   },
   {
    "duration": 538,
    "start_time": "2023-06-07T14:04:17.636Z"
   },
   {
    "duration": 17,
    "start_time": "2023-06-07T14:04:18.176Z"
   },
   {
    "duration": 7,
    "start_time": "2023-06-07T14:04:18.194Z"
   },
   {
    "duration": 31,
    "start_time": "2023-06-07T14:04:18.202Z"
   },
   {
    "duration": 7,
    "start_time": "2023-06-07T14:04:18.236Z"
   },
   {
    "duration": 176,
    "start_time": "2023-06-07T14:04:18.244Z"
   },
   {
    "duration": 25,
    "start_time": "2023-06-07T14:04:18.422Z"
   },
   {
    "duration": 10,
    "start_time": "2023-06-07T14:04:18.449Z"
   },
   {
    "duration": 31,
    "start_time": "2023-06-07T14:04:18.460Z"
   },
   {
    "duration": 16,
    "start_time": "2023-06-07T14:04:18.492Z"
   },
   {
    "duration": 45,
    "start_time": "2023-06-07T14:04:18.511Z"
   },
   {
    "duration": 29,
    "start_time": "2023-06-07T14:04:18.557Z"
   },
   {
    "duration": 23,
    "start_time": "2023-06-07T14:04:18.594Z"
   },
   {
    "duration": 68,
    "start_time": "2023-06-07T14:04:18.619Z"
   },
   {
    "duration": 5,
    "start_time": "2023-06-07T14:04:18.694Z"
   },
   {
    "duration": 12,
    "start_time": "2023-06-07T14:04:18.702Z"
   },
   {
    "duration": 2426,
    "start_time": "2023-06-07T14:04:18.716Z"
   },
   {
    "duration": 5,
    "start_time": "2023-06-07T14:04:21.144Z"
   },
   {
    "duration": 989,
    "start_time": "2023-06-07T14:04:21.151Z"
   },
   {
    "duration": 819,
    "start_time": "2023-06-07T14:04:22.143Z"
   },
   {
    "duration": 25,
    "start_time": "2023-06-07T14:04:22.965Z"
   },
   {
    "duration": 1591,
    "start_time": "2023-06-07T14:04:23.000Z"
   },
   {
    "duration": 4,
    "start_time": "2023-06-07T14:04:24.593Z"
   },
   {
    "duration": 10,
    "start_time": "2023-06-07T14:04:24.600Z"
   },
   {
    "duration": 7,
    "start_time": "2023-06-07T14:04:24.611Z"
   },
   {
    "duration": 7,
    "start_time": "2023-06-07T14:04:24.623Z"
   },
   {
    "duration": 4,
    "start_time": "2023-06-07T14:04:24.632Z"
   },
   {
    "duration": 15,
    "start_time": "2023-06-07T14:04:24.638Z"
   },
   {
    "duration": 65,
    "start_time": "2023-06-07T14:04:24.655Z"
   },
   {
    "duration": 21,
    "start_time": "2023-06-07T14:04:24.722Z"
   },
   {
    "duration": 3,
    "start_time": "2023-06-07T14:04:24.745Z"
   },
   {
    "duration": 9,
    "start_time": "2023-06-07T14:04:24.749Z"
   },
   {
    "duration": 4,
    "start_time": "2023-06-07T14:04:24.760Z"
   },
   {
    "duration": 1147,
    "start_time": "2023-06-07T14:04:24.766Z"
   },
   {
    "duration": 2,
    "start_time": "2023-06-07T14:04:25.914Z"
   },
   {
    "duration": 14,
    "start_time": "2023-06-07T14:04:25.977Z"
   },
   {
    "duration": 12,
    "start_time": "2023-06-07T14:04:26.001Z"
   },
   {
    "duration": 17,
    "start_time": "2023-06-07T14:04:26.016Z"
   },
   {
    "duration": 870384,
    "start_time": "2023-06-07T14:04:26.035Z"
   },
   {
    "duration": 4,
    "start_time": "2023-06-07T14:18:56.420Z"
   },
   {
    "duration": 54558,
    "start_time": "2023-06-07T14:18:56.425Z"
   },
   {
    "duration": 7,
    "start_time": "2023-06-07T14:19:50.991Z"
   },
   {
    "duration": 35,
    "start_time": "2023-06-07T14:20:14.042Z"
   },
   {
    "duration": 3,
    "start_time": "2023-06-07T14:24:33.445Z"
   },
   {
    "duration": 6,
    "start_time": "2023-06-07T14:24:35.005Z"
   },
   {
    "duration": 998,
    "start_time": "2023-06-07T14:24:39.887Z"
   },
   {
    "duration": 3,
    "start_time": "2023-06-07T14:24:52.245Z"
   },
   {
    "duration": 5,
    "start_time": "2023-06-07T14:24:53.100Z"
   },
   {
    "duration": 616,
    "start_time": "2023-06-07T14:24:58.068Z"
   },
   {
    "duration": 2268,
    "start_time": "2023-06-07T14:35:59.718Z"
   },
   {
    "duration": 2397,
    "start_time": "2023-06-07T14:36:08.597Z"
   },
   {
    "duration": 3,
    "start_time": "2023-06-07T14:36:52.357Z"
   },
   {
    "duration": 2214,
    "start_time": "2023-06-07T14:36:53.278Z"
   },
   {
    "duration": 27,
    "start_time": "2023-06-07T14:37:05.295Z"
   },
   {
    "duration": 42899,
    "start_time": "2023-06-07T14:39:39.690Z"
   },
   {
    "duration": 2,
    "start_time": "2023-06-07T14:40:29.973Z"
   },
   {
    "duration": 11,
    "start_time": "2023-06-07T14:41:41.389Z"
   },
   {
    "duration": 2246,
    "start_time": "2023-06-07T14:42:34.339Z"
   },
   {
    "duration": 4,
    "start_time": "2023-06-07T14:42:38.218Z"
   },
   {
    "duration": 2519,
    "start_time": "2023-06-07T14:42:38.970Z"
   },
   {
    "duration": 26,
    "start_time": "2023-06-07T14:44:27.796Z"
   },
   {
    "duration": 1572,
    "start_time": "2023-06-07T14:48:26.341Z"
   },
   {
    "duration": 787,
    "start_time": "2023-06-07T14:48:27.916Z"
   },
   {
    "duration": 436,
    "start_time": "2023-06-07T14:48:28.705Z"
   },
   {
    "duration": 9,
    "start_time": "2023-06-07T14:48:29.144Z"
   },
   {
    "duration": 32,
    "start_time": "2023-06-07T14:48:29.154Z"
   },
   {
    "duration": 16,
    "start_time": "2023-06-07T14:48:29.188Z"
   },
   {
    "duration": 9,
    "start_time": "2023-06-07T14:48:29.206Z"
   },
   {
    "duration": 153,
    "start_time": "2023-06-07T14:48:29.217Z"
   },
   {
    "duration": 35,
    "start_time": "2023-06-07T14:48:29.372Z"
   },
   {
    "duration": 12,
    "start_time": "2023-06-07T14:48:29.410Z"
   },
   {
    "duration": 11,
    "start_time": "2023-06-07T14:48:29.423Z"
   },
   {
    "duration": 35,
    "start_time": "2023-06-07T14:48:29.436Z"
   },
   {
    "duration": 52,
    "start_time": "2023-06-07T14:48:29.473Z"
   },
   {
    "duration": 26,
    "start_time": "2023-06-07T14:48:29.527Z"
   },
   {
    "duration": 18,
    "start_time": "2023-06-07T14:48:29.555Z"
   },
   {
    "duration": 92,
    "start_time": "2023-06-07T14:48:29.575Z"
   },
   {
    "duration": 4,
    "start_time": "2023-06-07T14:48:29.668Z"
   },
   {
    "duration": 18,
    "start_time": "2023-06-07T14:48:29.674Z"
   },
   {
    "duration": 2063,
    "start_time": "2023-06-07T14:48:29.694Z"
   },
   {
    "duration": 6,
    "start_time": "2023-06-07T14:48:31.759Z"
   },
   {
    "duration": 790,
    "start_time": "2023-06-07T14:48:31.782Z"
   },
   {
    "duration": 617,
    "start_time": "2023-06-07T14:48:32.583Z"
   },
   {
    "duration": 8,
    "start_time": "2023-06-07T14:48:33.202Z"
   },
   {
    "duration": 1216,
    "start_time": "2023-06-07T14:48:33.212Z"
   },
   {
    "duration": 3,
    "start_time": "2023-06-07T14:48:34.430Z"
   },
   {
    "duration": 24,
    "start_time": "2023-06-07T14:48:34.434Z"
   },
   {
    "duration": 14,
    "start_time": "2023-06-07T14:48:34.460Z"
   },
   {
    "duration": 20,
    "start_time": "2023-06-07T14:48:34.478Z"
   },
   {
    "duration": 16,
    "start_time": "2023-06-07T14:48:34.500Z"
   },
   {
    "duration": 26,
    "start_time": "2023-06-07T14:48:34.518Z"
   },
   {
    "duration": 59,
    "start_time": "2023-06-07T14:48:34.546Z"
   },
   {
    "duration": 20,
    "start_time": "2023-06-07T14:48:34.607Z"
   },
   {
    "duration": 17,
    "start_time": "2023-06-07T14:48:34.629Z"
   },
   {
    "duration": 16,
    "start_time": "2023-06-07T14:48:34.648Z"
   },
   {
    "duration": 2239,
    "start_time": "2023-06-07T14:48:34.665Z"
   },
   {
    "duration": 78,
    "start_time": "2023-06-07T14:48:36.907Z"
   },
   {
    "duration": 8,
    "start_time": "2023-06-07T14:48:36.987Z"
   },
   {
    "duration": 7,
    "start_time": "2023-06-07T14:48:36.997Z"
   },
   {
    "duration": 791351,
    "start_time": "2023-06-07T14:48:37.006Z"
   },
   {
    "duration": 52404,
    "start_time": "2023-06-07T15:01:48.358Z"
   },
   {
    "duration": 35,
    "start_time": "2023-06-07T15:02:40.764Z"
   },
   {
    "duration": 1101368,
    "start_time": "2023-06-07T15:02:40.801Z"
   },
   {
    "duration": 179,
    "start_time": "2023-06-07T15:21:02.171Z"
   },
   {
    "duration": 0,
    "start_time": "2023-06-07T15:21:02.352Z"
   },
   {
    "duration": 0,
    "start_time": "2023-06-07T15:21:02.354Z"
   },
   {
    "duration": 74527,
    "start_time": "2023-06-07T15:21:28.390Z"
   },
   {
    "duration": 38,
    "start_time": "2023-06-07T15:22:49.941Z"
   },
   {
    "duration": 22,
    "start_time": "2023-06-07T15:22:51.845Z"
   },
   {
    "duration": 116,
    "start_time": "2023-06-07T15:23:13.790Z"
   },
   {
    "duration": 111,
    "start_time": "2023-06-07T15:24:42.588Z"
   },
   {
    "duration": 11,
    "start_time": "2023-06-07T15:24:52.945Z"
   },
   {
    "duration": 4292,
    "start_time": "2023-06-07T15:36:14.286Z"
   },
   {
    "duration": 14,
    "start_time": "2023-06-07T15:36:20.702Z"
   },
   {
    "duration": 12,
    "start_time": "2023-06-07T15:36:35.877Z"
   },
   {
    "duration": 12,
    "start_time": "2023-06-07T15:36:51.061Z"
   },
   {
    "duration": 16,
    "start_time": "2023-06-07T15:36:58.646Z"
   },
   {
    "duration": 15,
    "start_time": "2023-06-07T15:37:18.558Z"
   },
   {
    "duration": 4,
    "start_time": "2023-06-07T15:37:37.869Z"
   },
   {
    "duration": 4,
    "start_time": "2023-06-07T15:37:39.877Z"
   },
   {
    "duration": 514784,
    "start_time": "2023-06-07T15:37:41.126Z"
   },
   {
    "duration": 5,
    "start_time": "2023-06-07T15:55:06.049Z"
   },
   {
    "duration": 4,
    "start_time": "2023-06-07T15:55:18.394Z"
   },
   {
    "duration": 3,
    "start_time": "2023-06-07T15:58:31.029Z"
   },
   {
    "duration": 2217,
    "start_time": "2023-06-07T15:58:32.964Z"
   },
   {
    "duration": 2,
    "start_time": "2023-06-07T15:58:39.709Z"
   },
   {
    "duration": 4,
    "start_time": "2023-06-07T15:58:40.909Z"
   },
   {
    "duration": 5,
    "start_time": "2023-06-07T15:58:41.908Z"
   },
   {
    "duration": 126749,
    "start_time": "2023-06-07T15:58:46.124Z"
   },
   {
    "duration": 3,
    "start_time": "2023-06-07T16:02:55.420Z"
   },
   {
    "duration": 2273,
    "start_time": "2023-06-07T16:02:55.426Z"
   },
   {
    "duration": 76,
    "start_time": "2023-06-07T16:02:57.703Z"
   },
   {
    "duration": 4,
    "start_time": "2023-06-07T16:02:57.781Z"
   },
   {
    "duration": 4,
    "start_time": "2023-06-07T16:02:57.788Z"
   },
   {
    "duration": 259931,
    "start_time": "2023-06-07T16:02:57.794Z"
   },
   {
    "duration": 119941,
    "start_time": "2023-06-07T16:07:17.727Z"
   },
   {
    "duration": 366463,
    "start_time": "2023-06-07T16:09:17.670Z"
   },
   {
    "duration": 159288,
    "start_time": "2023-06-07T16:15:24.135Z"
   },
   {
    "duration": 42,
    "start_time": "2023-06-07T16:18:03.425Z"
   },
   {
    "duration": 19,
    "start_time": "2023-06-07T16:18:03.477Z"
   },
   {
    "duration": 3,
    "start_time": "2023-06-07T16:24:13.943Z"
   },
   {
    "duration": 1851,
    "start_time": "2023-06-07T16:24:13.948Z"
   },
   {
    "duration": 4,
    "start_time": "2023-06-07T16:24:15.879Z"
   },
   {
    "duration": 11,
    "start_time": "2023-06-07T16:24:15.888Z"
   },
   {
    "duration": 30,
    "start_time": "2023-06-07T16:24:15.900Z"
   },
   {
    "duration": 609198,
    "start_time": "2023-06-07T16:24:15.932Z"
   },
   {
    "duration": 162684,
    "start_time": "2023-06-07T16:34:25.132Z"
   },
   {
    "duration": 832719,
    "start_time": "2023-06-07T16:37:07.817Z"
   },
   {
    "duration": 171686,
    "start_time": "2023-06-07T16:51:00.538Z"
   },
   {
    "duration": 39,
    "start_time": "2023-06-07T16:53:52.226Z"
   },
   {
    "duration": 22,
    "start_time": "2023-06-07T16:53:52.267Z"
   },
   {
    "duration": 13,
    "start_time": "2023-06-07T16:57:02.847Z"
   },
   {
    "duration": 6,
    "start_time": "2023-06-07T16:57:27.800Z"
   },
   {
    "duration": 5,
    "start_time": "2023-06-07T17:01:05.375Z"
   },
   {
    "duration": 2,
    "start_time": "2023-06-07T17:01:09.645Z"
   },
   {
    "duration": 3,
    "start_time": "2023-06-07T17:01:10.798Z"
   },
   {
    "duration": 5,
    "start_time": "2023-06-07T17:01:11.853Z"
   },
   {
    "duration": 1073508,
    "start_time": "2023-06-07T17:01:16.222Z"
   },
   {
    "duration": 5,
    "start_time": "2023-06-07T17:19:51.923Z"
   },
   {
    "duration": 8084,
    "start_time": "2023-06-07T17:19:58.395Z"
   },
   {
    "duration": 8512,
    "start_time": "2023-06-07T17:20:21.282Z"
   },
   {
    "duration": 68457,
    "start_time": "2023-06-07T17:23:33.962Z"
   },
   {
    "duration": 55494,
    "start_time": "2023-06-07T17:24:44.722Z"
   },
   {
    "duration": 88900,
    "start_time": "2023-06-07T17:25:50.212Z"
   },
   {
    "duration": 8992,
    "start_time": "2023-06-07T17:27:40.607Z"
   },
   {
    "duration": 30575,
    "start_time": "2023-06-07T17:27:51.728Z"
   },
   {
    "duration": 61668,
    "start_time": "2023-06-07T17:28:32.039Z"
   },
   {
    "duration": 51153,
    "start_time": "2023-06-07T17:30:02.550Z"
   },
   {
    "duration": 3,
    "start_time": "2023-06-07T17:34:04.043Z"
   },
   {
    "duration": 4,
    "start_time": "2023-06-07T17:34:12.194Z"
   },
   {
    "duration": 5,
    "start_time": "2023-06-07T17:34:14.708Z"
   },
   {
    "duration": 4,
    "start_time": "2023-06-07T17:34:16.697Z"
   },
   {
    "duration": 130,
    "start_time": "2023-06-07T17:34:52.000Z"
   },
   {
    "duration": 127,
    "start_time": "2023-06-07T17:35:29.843Z"
   },
   {
    "duration": 4,
    "start_time": "2023-06-07T17:35:32.131Z"
   },
   {
    "duration": 7,
    "start_time": "2023-06-07T17:35:33.498Z"
   },
   {
    "duration": 4,
    "start_time": "2023-06-07T17:35:34.562Z"
   },
   {
    "duration": 378387,
    "start_time": "2023-06-07T17:35:35.218Z"
   },
   {
    "duration": 112806,
    "start_time": "2023-06-07T17:42:31.098Z"
   },
   {
    "duration": 154510,
    "start_time": "2023-06-07T17:45:04.183Z"
   },
   {
    "duration": 8,
    "start_time": "2023-06-07T17:47:38.698Z"
   },
   {
    "duration": 4,
    "start_time": "2023-06-07T17:51:24.408Z"
   },
   {
    "duration": 39,
    "start_time": "2023-06-07T17:55:28.675Z"
   },
   {
    "duration": 1567,
    "start_time": "2023-06-07T17:55:47.352Z"
   },
   {
    "duration": 822,
    "start_time": "2023-06-07T17:55:48.921Z"
   },
   {
    "duration": 452,
    "start_time": "2023-06-07T17:55:49.745Z"
   },
   {
    "duration": 11,
    "start_time": "2023-06-07T17:55:50.200Z"
   },
   {
    "duration": 7,
    "start_time": "2023-06-07T17:55:50.213Z"
   },
   {
    "duration": 22,
    "start_time": "2023-06-07T17:55:50.222Z"
   },
   {
    "duration": 18,
    "start_time": "2023-06-07T17:55:50.246Z"
   },
   {
    "duration": 145,
    "start_time": "2023-06-07T17:55:50.282Z"
   },
   {
    "duration": 21,
    "start_time": "2023-06-07T17:55:50.428Z"
   },
   {
    "duration": 39,
    "start_time": "2023-06-07T17:55:50.452Z"
   },
   {
    "duration": 12,
    "start_time": "2023-06-07T17:55:50.493Z"
   },
   {
    "duration": 24,
    "start_time": "2023-06-07T17:55:50.507Z"
   },
   {
    "duration": 45,
    "start_time": "2023-06-07T17:55:50.533Z"
   },
   {
    "duration": 14,
    "start_time": "2023-06-07T17:55:50.583Z"
   },
   {
    "duration": 10,
    "start_time": "2023-06-07T17:55:50.598Z"
   },
   {
    "duration": 82,
    "start_time": "2023-06-07T17:55:50.610Z"
   },
   {
    "duration": 4,
    "start_time": "2023-06-07T17:55:50.694Z"
   },
   {
    "duration": 6,
    "start_time": "2023-06-07T17:55:50.700Z"
   },
   {
    "duration": 2018,
    "start_time": "2023-06-07T17:55:50.708Z"
   },
   {
    "duration": 5,
    "start_time": "2023-06-07T17:55:52.727Z"
   },
   {
    "duration": 784,
    "start_time": "2023-06-07T17:55:52.734Z"
   },
   {
    "duration": 631,
    "start_time": "2023-06-07T17:55:53.520Z"
   },
   {
    "duration": 6,
    "start_time": "2023-06-07T17:55:54.153Z"
   },
   {
    "duration": 1200,
    "start_time": "2023-06-07T17:55:54.161Z"
   },
   {
    "duration": 4,
    "start_time": "2023-06-07T17:55:55.362Z"
   },
   {
    "duration": 16,
    "start_time": "2023-06-07T17:55:55.367Z"
   },
   {
    "duration": 5,
    "start_time": "2023-06-07T17:55:55.384Z"
   },
   {
    "duration": 8,
    "start_time": "2023-06-07T17:55:55.396Z"
   },
   {
    "duration": 4,
    "start_time": "2023-06-07T17:55:55.406Z"
   },
   {
    "duration": 6,
    "start_time": "2023-06-07T17:55:55.413Z"
   },
   {
    "duration": 28,
    "start_time": "2023-06-07T17:55:55.421Z"
   },
   {
    "duration": 46,
    "start_time": "2023-06-07T17:55:55.451Z"
   },
   {
    "duration": 3,
    "start_time": "2023-06-07T17:55:55.499Z"
   },
   {
    "duration": 6,
    "start_time": "2023-06-07T17:55:55.504Z"
   },
   {
    "duration": 2372,
    "start_time": "2023-06-07T17:55:55.512Z"
   },
   {
    "duration": 3,
    "start_time": "2023-06-07T17:55:57.887Z"
   },
   {
    "duration": 15,
    "start_time": "2023-06-07T17:55:57.892Z"
   },
   {
    "duration": 4,
    "start_time": "2023-06-07T17:55:57.914Z"
   },
   {
    "duration": 205712,
    "start_time": "2023-06-07T17:55:57.920Z"
   },
   {
    "duration": 59397,
    "start_time": "2023-06-07T17:59:23.634Z"
   },
   {
    "duration": 60668,
    "start_time": "2023-06-07T18:00:23.033Z"
   },
   {
    "duration": 12641,
    "start_time": "2023-06-07T18:01:23.703Z"
   },
   {
    "duration": 16407,
    "start_time": "2023-06-07T18:01:36.346Z"
   },
   {
    "duration": 1465,
    "start_time": "2023-06-07T18:02:09.502Z"
   },
   {
    "duration": 799,
    "start_time": "2023-06-07T18:02:10.969Z"
   },
   {
    "duration": 431,
    "start_time": "2023-06-07T18:02:11.770Z"
   },
   {
    "duration": 8,
    "start_time": "2023-06-07T18:02:12.203Z"
   },
   {
    "duration": 8,
    "start_time": "2023-06-07T18:02:12.213Z"
   },
   {
    "duration": 12,
    "start_time": "2023-06-07T18:02:12.223Z"
   },
   {
    "duration": 6,
    "start_time": "2023-06-07T18:02:12.236Z"
   },
   {
    "duration": 174,
    "start_time": "2023-06-07T18:02:12.244Z"
   },
   {
    "duration": 20,
    "start_time": "2023-06-07T18:02:12.420Z"
   },
   {
    "duration": 11,
    "start_time": "2023-06-07T18:02:12.443Z"
   },
   {
    "duration": 37,
    "start_time": "2023-06-07T18:02:12.455Z"
   },
   {
    "duration": 17,
    "start_time": "2023-06-07T18:02:12.495Z"
   },
   {
    "duration": 34,
    "start_time": "2023-06-07T18:02:12.515Z"
   },
   {
    "duration": 36,
    "start_time": "2023-06-07T18:02:12.551Z"
   },
   {
    "duration": 14,
    "start_time": "2023-06-07T18:02:12.589Z"
   },
   {
    "duration": 106,
    "start_time": "2023-06-07T18:02:12.605Z"
   },
   {
    "duration": 5,
    "start_time": "2023-06-07T18:02:12.713Z"
   },
   {
    "duration": 15,
    "start_time": "2023-06-07T18:02:12.720Z"
   },
   {
    "duration": 2061,
    "start_time": "2023-06-07T18:02:12.738Z"
   },
   {
    "duration": 4,
    "start_time": "2023-06-07T18:02:14.801Z"
   },
   {
    "duration": 775,
    "start_time": "2023-06-07T18:02:14.807Z"
   },
   {
    "duration": 698,
    "start_time": "2023-06-07T18:02:15.583Z"
   },
   {
    "duration": 7,
    "start_time": "2023-06-07T18:02:16.294Z"
   },
   {
    "duration": 1218,
    "start_time": "2023-06-07T18:02:16.303Z"
   },
   {
    "duration": 4,
    "start_time": "2023-06-07T18:02:17.523Z"
   },
   {
    "duration": 25,
    "start_time": "2023-06-07T18:02:17.529Z"
   },
   {
    "duration": 16,
    "start_time": "2023-06-07T18:02:17.556Z"
   },
   {
    "duration": 30,
    "start_time": "2023-06-07T18:02:17.576Z"
   },
   {
    "duration": 16,
    "start_time": "2023-06-07T18:02:17.608Z"
   },
   {
    "duration": 31,
    "start_time": "2023-06-07T18:02:17.626Z"
   },
   {
    "duration": 56,
    "start_time": "2023-06-07T18:02:17.659Z"
   },
   {
    "duration": 14,
    "start_time": "2023-06-07T18:02:17.718Z"
   },
   {
    "duration": 18,
    "start_time": "2023-06-07T18:02:17.734Z"
   },
   {
    "duration": 15,
    "start_time": "2023-06-07T18:02:17.753Z"
   },
   {
    "duration": 2213,
    "start_time": "2023-06-07T18:02:17.770Z"
   },
   {
    "duration": 5,
    "start_time": "2023-06-07T18:02:19.987Z"
   },
   {
    "duration": 10,
    "start_time": "2023-06-07T18:02:19.995Z"
   },
   {
    "duration": 16,
    "start_time": "2023-06-07T18:02:20.007Z"
   },
   {
    "duration": 207380,
    "start_time": "2023-06-07T18:02:20.026Z"
   },
   {
    "duration": 358678,
    "start_time": "2023-06-07T18:05:47.408Z"
   },
   {
    "duration": 60680,
    "start_time": "2023-06-07T18:11:46.087Z"
   },
   {
    "duration": 1088664,
    "start_time": "2023-06-07T18:12:46.768Z"
   },
   {
    "duration": 485020,
    "start_time": "2023-06-07T18:30:55.435Z"
   },
   {
    "duration": 144554,
    "start_time": "2023-06-07T18:39:00.456Z"
   },
   {
    "duration": 60580,
    "start_time": "2023-06-07T18:41:25.079Z"
   },
   {
    "duration": 1086854,
    "start_time": "2023-06-07T18:42:25.662Z"
   },
   {
    "duration": 39,
    "start_time": "2023-06-07T19:00:32.518Z"
   },
   {
    "duration": 136,
    "start_time": "2023-06-07T19:00:32.559Z"
   },
   {
    "duration": 11,
    "start_time": "2023-06-07T19:24:44.308Z"
   },
   {
    "duration": 5,
    "start_time": "2023-06-07T19:24:49.562Z"
   },
   {
    "duration": 16,
    "start_time": "2023-06-07T19:25:11.620Z"
   },
   {
    "duration": 5,
    "start_time": "2023-06-07T19:25:34.066Z"
   },
   {
    "duration": 5,
    "start_time": "2023-06-07T19:25:50.538Z"
   },
   {
    "duration": 45,
    "start_time": "2023-06-08T07:12:21.919Z"
   },
   {
    "duration": 1631,
    "start_time": "2023-06-08T07:12:43.482Z"
   },
   {
    "duration": 1994,
    "start_time": "2023-06-08T07:12:45.115Z"
   },
   {
    "duration": 336,
    "start_time": "2023-06-08T07:12:47.110Z"
   },
   {
    "duration": 6,
    "start_time": "2023-06-08T07:12:47.448Z"
   },
   {
    "duration": 12,
    "start_time": "2023-06-08T07:12:47.455Z"
   },
   {
    "duration": 22,
    "start_time": "2023-06-08T07:12:47.468Z"
   },
   {
    "duration": 4,
    "start_time": "2023-06-08T07:12:47.492Z"
   },
   {
    "duration": 151,
    "start_time": "2023-06-08T07:12:47.497Z"
   },
   {
    "duration": 17,
    "start_time": "2023-06-08T07:12:47.649Z"
   },
   {
    "duration": 21,
    "start_time": "2023-06-08T07:12:47.668Z"
   },
   {
    "duration": 8,
    "start_time": "2023-06-08T07:12:47.690Z"
   },
   {
    "duration": 26,
    "start_time": "2023-06-08T07:12:47.699Z"
   },
   {
    "duration": 38,
    "start_time": "2023-06-08T07:12:47.727Z"
   },
   {
    "duration": 5,
    "start_time": "2023-06-08T07:12:47.766Z"
   },
   {
    "duration": 20,
    "start_time": "2023-06-08T07:12:47.772Z"
   },
   {
    "duration": 70,
    "start_time": "2023-06-08T07:12:47.793Z"
   },
   {
    "duration": 4,
    "start_time": "2023-06-08T07:12:47.864Z"
   },
   {
    "duration": 13,
    "start_time": "2023-06-08T07:12:47.869Z"
   },
   {
    "duration": 1673,
    "start_time": "2023-06-08T07:12:47.883Z"
   },
   {
    "duration": 3,
    "start_time": "2023-06-08T07:12:49.558Z"
   },
   {
    "duration": 590,
    "start_time": "2023-06-08T07:12:49.563Z"
   },
   {
    "duration": 514,
    "start_time": "2023-06-08T07:12:50.155Z"
   },
   {
    "duration": 6,
    "start_time": "2023-06-08T07:12:50.671Z"
   },
   {
    "duration": 955,
    "start_time": "2023-06-08T07:12:50.684Z"
   },
   {
    "duration": 3,
    "start_time": "2023-06-08T07:12:51.641Z"
   },
   {
    "duration": 20,
    "start_time": "2023-06-08T07:12:51.645Z"
   },
   {
    "duration": 21,
    "start_time": "2023-06-08T07:12:51.666Z"
   },
   {
    "duration": 17,
    "start_time": "2023-06-08T07:12:51.691Z"
   },
   {
    "duration": 7,
    "start_time": "2023-06-08T07:12:51.710Z"
   },
   {
    "duration": 29,
    "start_time": "2023-06-08T07:12:51.719Z"
   },
   {
    "duration": 41,
    "start_time": "2023-06-08T07:12:51.749Z"
   },
   {
    "duration": 42,
    "start_time": "2023-06-08T07:12:51.792Z"
   },
   {
    "duration": 15,
    "start_time": "2023-06-08T07:12:51.836Z"
   },
   {
    "duration": 14,
    "start_time": "2023-06-08T07:12:51.853Z"
   },
   {
    "duration": 1719,
    "start_time": "2023-06-08T07:12:51.868Z"
   },
   {
    "duration": 4,
    "start_time": "2023-06-08T07:12:53.589Z"
   },
   {
    "duration": 91,
    "start_time": "2023-06-08T07:12:53.594Z"
   },
   {
    "duration": 20,
    "start_time": "2023-06-08T07:12:53.687Z"
   },
   {
    "duration": 36483,
    "start_time": "2023-06-08T07:12:53.708Z"
   },
   {
    "duration": 633159,
    "start_time": "2023-06-08T07:13:30.193Z"
   },
   {
    "duration": 54123,
    "start_time": "2023-06-08T07:24:03.354Z"
   },
   {
    "duration": 1219921,
    "start_time": "2023-06-08T07:24:57.479Z"
   },
   {
    "duration": 793375,
    "start_time": "2023-06-08T07:45:17.402Z"
   },
   {
    "duration": 111031,
    "start_time": "2023-06-08T07:58:30.779Z"
   },
   {
    "duration": 54117,
    "start_time": "2023-06-08T08:00:21.890Z"
   },
   {
    "duration": 1200653,
    "start_time": "2023-06-08T08:01:16.008Z"
   },
   {
    "duration": 46,
    "start_time": "2023-06-08T08:21:16.663Z"
   },
   {
    "duration": 91,
    "start_time": "2023-06-08T08:21:16.710Z"
   },
   {
    "duration": 0,
    "start_time": "2023-06-08T08:21:16.803Z"
   },
   {
    "duration": 0,
    "start_time": "2023-06-08T08:21:16.804Z"
   },
   {
    "duration": 3,
    "start_time": "2023-06-08T08:25:07.304Z"
   },
   {
    "duration": 15,
    "start_time": "2023-06-08T08:25:10.597Z"
   },
   {
    "duration": 3,
    "start_time": "2023-06-08T08:29:59.220Z"
   },
   {
    "duration": 6590,
    "start_time": "2023-06-08T08:37:24.081Z"
   },
   {
    "duration": 135,
    "start_time": "2023-06-08T08:38:41.705Z"
   },
   {
    "duration": 2350,
    "start_time": "2023-06-08T08:39:00.896Z"
   },
   {
    "duration": 9,
    "start_time": "2023-06-08T08:41:04.862Z"
   },
   {
    "duration": 5995,
    "start_time": "2023-06-08T08:41:07.510Z"
   },
   {
    "duration": 2359,
    "start_time": "2023-06-08T08:41:15.078Z"
   },
   {
    "duration": 4,
    "start_time": "2023-06-08T08:41:19.326Z"
   },
   {
    "duration": 4,
    "start_time": "2023-06-08T08:41:35.462Z"
   },
   {
    "duration": 3235,
    "start_time": "2023-06-08T08:41:58.607Z"
   },
   {
    "duration": 3,
    "start_time": "2023-06-08T08:42:04.974Z"
   },
   {
    "duration": 37,
    "start_time": "2023-06-08T08:42:44.558Z"
   },
   {
    "duration": 34,
    "start_time": "2023-06-08T08:45:09.957Z"
   },
   {
    "duration": 3,
    "start_time": "2023-06-08T08:45:51.564Z"
   },
   {
    "duration": 47,
    "start_time": "2023-06-08T08:46:29.980Z"
   },
   {
    "duration": 8230,
    "start_time": "2023-06-08T08:47:13.508Z"
   },
   {
    "duration": 3,
    "start_time": "2023-06-08T08:47:25.635Z"
   },
   {
    "duration": 2963,
    "start_time": "2023-06-08T08:47:31.819Z"
   },
   {
    "duration": 3,
    "start_time": "2023-06-08T08:47:38.604Z"
   },
   {
    "duration": 7,
    "start_time": "2023-06-08T08:52:14.002Z"
   },
   {
    "duration": 15,
    "start_time": "2023-06-08T08:52:20.961Z"
   },
   {
    "duration": 8,
    "start_time": "2023-06-08T08:52:54.569Z"
   },
   {
    "duration": 17,
    "start_time": "2023-06-08T08:53:10.368Z"
   },
   {
    "duration": 10,
    "start_time": "2023-06-08T08:53:20.311Z"
   },
   {
    "duration": 10,
    "start_time": "2023-06-08T08:53:29.577Z"
   },
   {
    "duration": 1350,
    "start_time": "2023-06-08T08:56:23.771Z"
   },
   {
    "duration": 719,
    "start_time": "2023-06-08T08:56:25.123Z"
   },
   {
    "duration": 437,
    "start_time": "2023-06-08T08:56:25.843Z"
   },
   {
    "duration": 8,
    "start_time": "2023-06-08T08:56:26.284Z"
   },
   {
    "duration": 10,
    "start_time": "2023-06-08T08:56:26.293Z"
   },
   {
    "duration": 14,
    "start_time": "2023-06-08T08:56:26.305Z"
   },
   {
    "duration": 16,
    "start_time": "2023-06-08T08:56:26.321Z"
   },
   {
    "duration": 159,
    "start_time": "2023-06-08T08:56:26.338Z"
   },
   {
    "duration": 18,
    "start_time": "2023-06-08T08:56:26.499Z"
   },
   {
    "duration": 18,
    "start_time": "2023-06-08T08:56:26.519Z"
   },
   {
    "duration": 31,
    "start_time": "2023-06-08T08:56:26.539Z"
   },
   {
    "duration": 20,
    "start_time": "2023-06-08T08:56:26.572Z"
   },
   {
    "duration": 36,
    "start_time": "2023-06-08T08:56:26.593Z"
   },
   {
    "duration": 4,
    "start_time": "2023-06-08T08:56:26.631Z"
   },
   {
    "duration": 34,
    "start_time": "2023-06-08T08:56:26.636Z"
   },
   {
    "duration": 72,
    "start_time": "2023-06-08T08:56:26.671Z"
   },
   {
    "duration": 4,
    "start_time": "2023-06-08T08:56:26.745Z"
   },
   {
    "duration": 7,
    "start_time": "2023-06-08T08:56:26.751Z"
   },
   {
    "duration": 1764,
    "start_time": "2023-06-08T08:56:26.759Z"
   },
   {
    "duration": 4,
    "start_time": "2023-06-08T08:56:28.525Z"
   },
   {
    "duration": 629,
    "start_time": "2023-06-08T08:56:28.531Z"
   },
   {
    "duration": 519,
    "start_time": "2023-06-08T08:56:29.162Z"
   },
   {
    "duration": 5,
    "start_time": "2023-06-08T08:56:29.684Z"
   },
   {
    "duration": 1101,
    "start_time": "2023-06-08T08:56:29.690Z"
   },
   {
    "duration": 3,
    "start_time": "2023-06-08T08:56:30.793Z"
   },
   {
    "duration": 86,
    "start_time": "2023-06-08T08:56:30.797Z"
   },
   {
    "duration": 52,
    "start_time": "2023-06-08T08:56:30.884Z"
   },
   {
    "duration": 44,
    "start_time": "2023-06-08T08:56:30.939Z"
   },
   {
    "duration": 29,
    "start_time": "2023-06-08T08:56:30.984Z"
   },
   {
    "duration": 40,
    "start_time": "2023-06-08T08:56:31.015Z"
   },
   {
    "duration": 88,
    "start_time": "2023-06-08T08:56:31.057Z"
   },
   {
    "duration": 45,
    "start_time": "2023-06-08T08:56:31.146Z"
   },
   {
    "duration": 71,
    "start_time": "2023-06-08T08:56:31.193Z"
   },
   {
    "duration": 76,
    "start_time": "2023-06-08T08:56:31.265Z"
   },
   {
    "duration": 51,
    "start_time": "2023-06-08T08:56:31.343Z"
   },
   {
    "duration": 1894,
    "start_time": "2023-06-08T08:56:31.395Z"
   },
   {
    "duration": 94,
    "start_time": "2023-06-08T08:56:33.291Z"
   },
   {
    "duration": 4,
    "start_time": "2023-06-08T08:56:33.386Z"
   },
   {
    "duration": 11,
    "start_time": "2023-06-08T08:56:33.391Z"
   },
   {
    "duration": 32184,
    "start_time": "2023-06-08T08:56:33.404Z"
   },
   {
    "duration": 604537,
    "start_time": "2023-06-08T08:57:05.593Z"
   },
   {
    "duration": 56032,
    "start_time": "2023-06-08T09:07:10.132Z"
   },
   {
    "duration": 939855,
    "start_time": "2023-06-08T09:08:06.165Z"
   },
   {
    "duration": 27676,
    "start_time": "2023-06-08T09:23:46.022Z"
   },
   {
    "duration": 824831,
    "start_time": "2023-06-08T09:24:13.786Z"
   },
   {
    "duration": 53629,
    "start_time": "2023-06-08T09:37:58.619Z"
   },
   {
    "duration": 1290008,
    "start_time": "2023-06-08T09:38:52.249Z"
   },
   {
    "duration": 62,
    "start_time": "2023-06-08T10:00:22.258Z"
   },
   {
    "duration": 11,
    "start_time": "2023-06-08T10:00:22.322Z"
   },
   {
    "duration": 6,
    "start_time": "2023-06-08T10:00:22.335Z"
   },
   {
    "duration": 20,
    "start_time": "2023-06-08T10:00:22.343Z"
   },
   {
    "duration": 2,
    "start_time": "2023-06-08T10:00:22.365Z"
   },
   {
    "duration": 62,
    "start_time": "2023-06-08T10:00:22.369Z"
   },
   {
    "duration": 15,
    "start_time": "2023-06-08T10:03:00.231Z"
   },
   {
    "duration": 108,
    "start_time": "2023-06-08T10:04:10.534Z"
   },
   {
    "duration": 12,
    "start_time": "2023-06-08T10:04:13.177Z"
   },
   {
    "duration": 140,
    "start_time": "2023-06-08T10:05:08.527Z"
   },
   {
    "duration": 12,
    "start_time": "2023-06-08T10:05:10.246Z"
   },
   {
    "duration": 125,
    "start_time": "2023-06-08T10:05:11.111Z"
   },
   {
    "duration": 10,
    "start_time": "2023-06-08T10:05:21.230Z"
   },
   {
    "duration": 3,
    "start_time": "2023-06-08T10:05:24.182Z"
   },
   {
    "duration": 23,
    "start_time": "2023-06-08T10:05:54.879Z"
   },
   {
    "duration": 86,
    "start_time": "2023-06-08T10:05:59.959Z"
   },
   {
    "duration": 30,
    "start_time": "2023-06-08T10:06:04.287Z"
   },
   {
    "duration": 4,
    "start_time": "2023-06-08T10:07:00.647Z"
   },
   {
    "duration": 14,
    "start_time": "2023-06-08T10:11:15.491Z"
   },
   {
    "duration": 28,
    "start_time": "2023-06-08T10:12:00.572Z"
   },
   {
    "duration": 17,
    "start_time": "2023-06-08T10:12:07.181Z"
   },
   {
    "duration": 8,
    "start_time": "2023-06-08T10:12:47.284Z"
   },
   {
    "duration": 3,
    "start_time": "2023-06-08T10:13:03.060Z"
   },
   {
    "duration": 8,
    "start_time": "2023-06-08T10:18:41.801Z"
   },
   {
    "duration": 8,
    "start_time": "2023-06-08T10:20:03.928Z"
   },
   {
    "duration": 11,
    "start_time": "2023-06-08T10:20:16.648Z"
   },
   {
    "duration": 3,
    "start_time": "2023-06-08T10:20:20.208Z"
   },
   {
    "duration": 18,
    "start_time": "2023-06-08T10:20:26.784Z"
   },
   {
    "duration": 10,
    "start_time": "2023-06-08T10:20:27.823Z"
   },
   {
    "duration": 3,
    "start_time": "2023-06-08T10:20:28.728Z"
   },
   {
    "duration": 8,
    "start_time": "2023-06-08T10:43:28.907Z"
   },
   {
    "duration": 9,
    "start_time": "2023-06-08T10:43:36.330Z"
   },
   {
    "duration": 15,
    "start_time": "2023-06-08T10:43:39.802Z"
   },
   {
    "duration": 28,
    "start_time": "2023-06-08T10:43:48.082Z"
   },
   {
    "duration": 10,
    "start_time": "2023-06-08T10:43:49.451Z"
   },
   {
    "duration": 10,
    "start_time": "2023-06-08T10:43:51.082Z"
   },
   {
    "duration": 4,
    "start_time": "2023-06-08T10:45:25.258Z"
   },
   {
    "duration": 1249,
    "start_time": "2023-06-08T10:51:17.914Z"
   },
   {
    "duration": 17,
    "start_time": "2023-06-08T10:51:29.702Z"
   },
   {
    "duration": 817,
    "start_time": "2023-06-08T10:51:29.721Z"
   },
   {
    "duration": 422,
    "start_time": "2023-06-08T10:51:30.540Z"
   },
   {
    "duration": 6,
    "start_time": "2023-06-08T10:51:30.964Z"
   },
   {
    "duration": 60,
    "start_time": "2023-06-08T10:51:30.972Z"
   },
   {
    "duration": 79,
    "start_time": "2023-06-08T10:51:31.033Z"
   },
   {
    "duration": 32,
    "start_time": "2023-06-08T10:51:31.113Z"
   },
   {
    "duration": 186,
    "start_time": "2023-06-08T10:51:31.147Z"
   },
   {
    "duration": 18,
    "start_time": "2023-06-08T10:51:31.335Z"
   },
   {
    "duration": 67,
    "start_time": "2023-06-08T10:51:31.354Z"
   },
   {
    "duration": 48,
    "start_time": "2023-06-08T10:51:31.422Z"
   },
   {
    "duration": 1188,
    "start_time": "2023-06-08T10:51:40.230Z"
   },
   {
    "duration": 137,
    "start_time": "2023-06-08T10:53:08.223Z"
   },
   {
    "duration": 30,
    "start_time": "2023-06-08T10:53:25.728Z"
   },
   {
    "duration": 3,
    "start_time": "2023-06-08T10:59:55.330Z"
   },
   {
    "duration": 1452,
    "start_time": "2023-06-08T11:02:50.359Z"
   },
   {
    "duration": 768,
    "start_time": "2023-06-08T11:02:51.813Z"
   },
   {
    "duration": 375,
    "start_time": "2023-06-08T11:02:52.583Z"
   },
   {
    "duration": 7,
    "start_time": "2023-06-08T11:02:52.961Z"
   },
   {
    "duration": 56,
    "start_time": "2023-06-08T11:02:52.969Z"
   },
   {
    "duration": 45,
    "start_time": "2023-06-08T11:02:53.027Z"
   },
   {
    "duration": 46,
    "start_time": "2023-06-08T11:02:53.073Z"
   },
   {
    "duration": 191,
    "start_time": "2023-06-08T11:02:53.120Z"
   },
   {
    "duration": 19,
    "start_time": "2023-06-08T11:02:53.313Z"
   },
   {
    "duration": 10,
    "start_time": "2023-06-08T11:02:53.334Z"
   },
   {
    "duration": 12,
    "start_time": "2023-06-08T11:02:53.346Z"
   },
   {
    "duration": 1271,
    "start_time": "2023-06-08T11:02:53.360Z"
   },
   {
    "duration": 11,
    "start_time": "2023-06-08T11:02:54.633Z"
   },
   {
    "duration": 183,
    "start_time": "2023-06-08T11:02:54.645Z"
   },
   {
    "duration": 32,
    "start_time": "2023-06-08T11:02:54.829Z"
   },
   {
    "duration": 102,
    "start_time": "2023-06-08T11:02:54.862Z"
   },
   {
    "duration": 101,
    "start_time": "2023-06-08T11:02:54.965Z"
   },
   {
    "duration": 56,
    "start_time": "2023-06-08T11:02:55.067Z"
   },
   {
    "duration": 37,
    "start_time": "2023-06-08T11:02:55.124Z"
   },
   {
    "duration": 1947,
    "start_time": "2023-06-08T11:02:55.163Z"
   },
   {
    "duration": 4,
    "start_time": "2023-06-08T11:02:57.111Z"
   },
   {
    "duration": 629,
    "start_time": "2023-06-08T11:02:57.117Z"
   },
   {
    "duration": 565,
    "start_time": "2023-06-08T11:02:57.748Z"
   },
   {
    "duration": 7,
    "start_time": "2023-06-08T11:02:58.315Z"
   },
   {
    "duration": 1100,
    "start_time": "2023-06-08T11:02:58.324Z"
   },
   {
    "duration": 4,
    "start_time": "2023-06-08T11:02:59.426Z"
   },
   {
    "duration": 13,
    "start_time": "2023-06-08T11:02:59.431Z"
   },
   {
    "duration": 5,
    "start_time": "2023-06-08T11:02:59.448Z"
   },
   {
    "duration": 12,
    "start_time": "2023-06-08T11:02:59.454Z"
   },
   {
    "duration": 5,
    "start_time": "2023-06-08T11:02:59.468Z"
   },
   {
    "duration": 38,
    "start_time": "2023-06-08T11:02:59.475Z"
   },
   {
    "duration": 20,
    "start_time": "2023-06-08T11:02:59.514Z"
   },
   {
    "duration": 71,
    "start_time": "2023-06-08T11:02:59.535Z"
   },
   {
    "duration": 4,
    "start_time": "2023-06-08T11:02:59.611Z"
   },
   {
    "duration": 141,
    "start_time": "2023-06-08T11:02:59.616Z"
   },
   {
    "duration": 0,
    "start_time": "2023-06-08T11:02:59.759Z"
   },
   {
    "duration": 0,
    "start_time": "2023-06-08T11:02:59.760Z"
   },
   {
    "duration": 0,
    "start_time": "2023-06-08T11:02:59.762Z"
   },
   {
    "duration": 0,
    "start_time": "2023-06-08T11:02:59.763Z"
   },
   {
    "duration": 0,
    "start_time": "2023-06-08T11:02:59.764Z"
   },
   {
    "duration": 0,
    "start_time": "2023-06-08T11:02:59.765Z"
   },
   {
    "duration": 0,
    "start_time": "2023-06-08T11:02:59.767Z"
   },
   {
    "duration": 0,
    "start_time": "2023-06-08T11:02:59.768Z"
   },
   {
    "duration": 0,
    "start_time": "2023-06-08T11:02:59.769Z"
   },
   {
    "duration": 0,
    "start_time": "2023-06-08T11:02:59.770Z"
   },
   {
    "duration": 0,
    "start_time": "2023-06-08T11:02:59.796Z"
   },
   {
    "duration": 0,
    "start_time": "2023-06-08T11:02:59.797Z"
   },
   {
    "duration": 0,
    "start_time": "2023-06-08T11:02:59.802Z"
   },
   {
    "duration": 0,
    "start_time": "2023-06-08T11:02:59.803Z"
   },
   {
    "duration": 0,
    "start_time": "2023-06-08T11:02:59.804Z"
   },
   {
    "duration": 0,
    "start_time": "2023-06-08T11:02:59.804Z"
   },
   {
    "duration": 0,
    "start_time": "2023-06-08T11:02:59.805Z"
   },
   {
    "duration": 2757,
    "start_time": "2023-06-08T11:04:19.271Z"
   },
   {
    "duration": 11,
    "start_time": "2023-06-08T11:04:31.135Z"
   },
   {
    "duration": 1208,
    "start_time": "2023-06-08T11:05:11.121Z"
   },
   {
    "duration": 154,
    "start_time": "2023-06-08T11:05:19.305Z"
   },
   {
    "duration": 144,
    "start_time": "2023-06-08T11:05:27.481Z"
   },
   {
    "duration": 6,
    "start_time": "2023-06-08T11:05:36.268Z"
   },
   {
    "duration": 859,
    "start_time": "2023-06-08T11:05:36.275Z"
   },
   {
    "duration": 379,
    "start_time": "2023-06-08T11:05:37.136Z"
   },
   {
    "duration": 8,
    "start_time": "2023-06-08T11:05:37.516Z"
   },
   {
    "duration": 6,
    "start_time": "2023-06-08T11:05:37.527Z"
   },
   {
    "duration": 22,
    "start_time": "2023-06-08T11:05:37.535Z"
   },
   {
    "duration": 11,
    "start_time": "2023-06-08T11:05:37.559Z"
   },
   {
    "duration": 275,
    "start_time": "2023-06-08T11:05:37.572Z"
   },
   {
    "duration": 18,
    "start_time": "2023-06-08T11:05:37.848Z"
   },
   {
    "duration": 7,
    "start_time": "2023-06-08T11:05:37.868Z"
   },
   {
    "duration": 25,
    "start_time": "2023-06-08T11:05:37.877Z"
   },
   {
    "duration": 1162,
    "start_time": "2023-06-08T11:05:40.775Z"
   },
   {
    "duration": 1244,
    "start_time": "2023-06-08T11:06:35.205Z"
   },
   {
    "duration": 1474,
    "start_time": "2023-06-08T11:07:20.581Z"
   },
   {
    "duration": 815,
    "start_time": "2023-06-08T11:07:22.057Z"
   },
   {
    "duration": 392,
    "start_time": "2023-06-08T11:07:22.873Z"
   },
   {
    "duration": 7,
    "start_time": "2023-06-08T11:07:23.266Z"
   },
   {
    "duration": 65,
    "start_time": "2023-06-08T11:07:23.274Z"
   },
   {
    "duration": 84,
    "start_time": "2023-06-08T11:07:23.341Z"
   },
   {
    "duration": 28,
    "start_time": "2023-06-08T11:07:23.427Z"
   },
   {
    "duration": 202,
    "start_time": "2023-06-08T11:07:23.457Z"
   },
   {
    "duration": 30,
    "start_time": "2023-06-08T11:07:23.661Z"
   },
   {
    "duration": 51,
    "start_time": "2023-06-08T11:07:23.693Z"
   },
   {
    "duration": 88,
    "start_time": "2023-06-08T11:07:23.745Z"
   },
   {
    "duration": 1214,
    "start_time": "2023-06-08T11:07:23.834Z"
   },
   {
    "duration": 10,
    "start_time": "2023-06-08T11:07:25.049Z"
   },
   {
    "duration": 171,
    "start_time": "2023-06-08T11:07:25.060Z"
   },
   {
    "duration": 4,
    "start_time": "2023-06-08T11:07:25.233Z"
   },
   {
    "duration": 104,
    "start_time": "2023-06-08T11:07:25.239Z"
   },
   {
    "duration": 81,
    "start_time": "2023-06-08T11:07:25.345Z"
   },
   {
    "duration": 83,
    "start_time": "2023-06-08T11:07:25.428Z"
   },
   {
    "duration": 41,
    "start_time": "2023-06-08T11:07:25.513Z"
   },
   {
    "duration": 1964,
    "start_time": "2023-06-08T11:07:25.555Z"
   },
   {
    "duration": 5,
    "start_time": "2023-06-08T11:07:27.520Z"
   },
   {
    "duration": 983,
    "start_time": "2023-06-08T11:07:27.527Z"
   },
   {
    "duration": 1375,
    "start_time": "2023-06-08T11:07:28.514Z"
   },
   {
    "duration": 15,
    "start_time": "2023-06-08T11:07:29.903Z"
   },
   {
    "duration": 1260,
    "start_time": "2023-06-08T11:07:29.920Z"
   },
   {
    "duration": 24,
    "start_time": "2023-06-08T11:07:31.182Z"
   },
   {
    "duration": 134,
    "start_time": "2023-06-08T11:07:31.211Z"
   },
   {
    "duration": 187,
    "start_time": "2023-06-08T11:07:31.348Z"
   },
   {
    "duration": 79,
    "start_time": "2023-06-08T11:07:31.536Z"
   },
   {
    "duration": 196,
    "start_time": "2023-06-08T11:07:31.617Z"
   },
   {
    "duration": 109,
    "start_time": "2023-06-08T11:07:31.815Z"
   },
   {
    "duration": 76,
    "start_time": "2023-06-08T11:07:31.926Z"
   },
   {
    "duration": 110,
    "start_time": "2023-06-08T11:07:32.004Z"
   },
   {
    "duration": 100,
    "start_time": "2023-06-08T11:07:32.115Z"
   },
   {
    "duration": 2211,
    "start_time": "2023-06-08T11:07:32.217Z"
   },
   {
    "duration": 18,
    "start_time": "2023-06-08T11:07:34.501Z"
   },
   {
    "duration": 110,
    "start_time": "2023-06-08T11:07:34.528Z"
   },
   {
    "duration": 82,
    "start_time": "2023-06-08T11:07:34.640Z"
   },
   {
    "duration": 119605,
    "start_time": "2023-06-08T11:07:34.723Z"
   },
   {
    "duration": 652407,
    "start_time": "2023-06-08T11:09:34.399Z"
   },
   {
    "duration": 52396,
    "start_time": "2023-06-08T11:20:26.807Z"
   },
   {
    "duration": 964315,
    "start_time": "2023-06-08T11:21:19.207Z"
   },
   {
    "duration": 849140,
    "start_time": "2023-06-08T11:38:46.731Z"
   },
   {
    "duration": 49392,
    "start_time": "2023-06-08T11:52:55.873Z"
   },
   {
    "duration": 0,
    "start_time": "2023-06-08T12:13:29.832Z"
   },
   {
    "duration": 0,
    "start_time": "2023-06-08T12:13:29.832Z"
   },
   {
    "duration": 0,
    "start_time": "2023-06-08T12:13:29.833Z"
   },
   {
    "duration": 0,
    "start_time": "2023-06-08T12:13:29.834Z"
   },
   {
    "duration": 0,
    "start_time": "2023-06-08T12:13:29.835Z"
   },
   {
    "duration": 0,
    "start_time": "2023-06-08T12:13:29.836Z"
   },
   {
    "duration": 0,
    "start_time": "2023-06-08T12:13:29.837Z"
   },
   {
    "duration": 0,
    "start_time": "2023-06-08T12:13:29.837Z"
   },
   {
    "duration": 0,
    "start_time": "2023-06-08T12:13:29.838Z"
   },
   {
    "duration": 0,
    "start_time": "2023-06-08T12:13:29.839Z"
   },
   {
    "duration": 16262,
    "start_time": "2023-06-08T12:13:31.828Z"
   },
   {
    "duration": 1280,
    "start_time": "2023-06-08T12:17:44.051Z"
   },
   {
    "duration": 726,
    "start_time": "2023-06-08T12:17:45.333Z"
   },
   {
    "duration": 400,
    "start_time": "2023-06-08T12:17:46.061Z"
   },
   {
    "duration": 7,
    "start_time": "2023-06-08T12:17:46.463Z"
   },
   {
    "duration": 28,
    "start_time": "2023-06-08T12:17:46.471Z"
   },
   {
    "duration": 16,
    "start_time": "2023-06-08T12:17:46.501Z"
   },
   {
    "duration": 34,
    "start_time": "2023-06-08T12:17:46.518Z"
   },
   {
    "duration": 151,
    "start_time": "2023-06-08T12:17:46.553Z"
   },
   {
    "duration": 23,
    "start_time": "2023-06-08T12:17:46.706Z"
   },
   {
    "duration": 14,
    "start_time": "2023-06-08T12:17:46.731Z"
   },
   {
    "duration": 10,
    "start_time": "2023-06-08T12:17:46.747Z"
   },
   {
    "duration": 1065,
    "start_time": "2023-06-08T12:17:46.758Z"
   },
   {
    "duration": 10,
    "start_time": "2023-06-08T12:17:47.825Z"
   },
   {
    "duration": 127,
    "start_time": "2023-06-08T12:17:47.838Z"
   },
   {
    "duration": 4,
    "start_time": "2023-06-08T12:17:47.966Z"
   },
   {
    "duration": 27,
    "start_time": "2023-06-08T12:17:47.971Z"
   },
   {
    "duration": 39,
    "start_time": "2023-06-08T12:17:47.999Z"
   },
   {
    "duration": 3,
    "start_time": "2023-06-08T12:17:48.040Z"
   },
   {
    "duration": 29,
    "start_time": "2023-06-08T12:17:48.044Z"
   },
   {
    "duration": 1725,
    "start_time": "2023-06-08T12:17:48.075Z"
   },
   {
    "duration": 5,
    "start_time": "2023-06-08T12:17:49.801Z"
   },
   {
    "duration": 647,
    "start_time": "2023-06-08T12:17:49.807Z"
   },
   {
    "duration": 533,
    "start_time": "2023-06-08T12:17:50.456Z"
   },
   {
    "duration": 7,
    "start_time": "2023-06-08T12:17:50.990Z"
   },
   {
    "duration": 1034,
    "start_time": "2023-06-08T12:17:50.999Z"
   },
   {
    "duration": 4,
    "start_time": "2023-06-08T12:17:52.034Z"
   },
   {
    "duration": 19,
    "start_time": "2023-06-08T12:17:52.039Z"
   },
   {
    "duration": 35,
    "start_time": "2023-06-08T12:17:52.060Z"
   },
   {
    "duration": 29,
    "start_time": "2023-06-08T12:17:52.096Z"
   },
   {
    "duration": 12,
    "start_time": "2023-06-08T12:17:52.126Z"
   },
   {
    "duration": 31,
    "start_time": "2023-06-08T12:17:52.139Z"
   },
   {
    "duration": 43,
    "start_time": "2023-06-08T12:17:52.172Z"
   },
   {
    "duration": 68,
    "start_time": "2023-06-08T12:17:52.216Z"
   },
   {
    "duration": 5,
    "start_time": "2023-06-08T12:17:52.295Z"
   },
   {
    "duration": 2308,
    "start_time": "2023-06-08T12:17:52.301Z"
   },
   {
    "duration": 83,
    "start_time": "2023-06-08T12:17:54.611Z"
   },
   {
    "duration": 29,
    "start_time": "2023-06-08T12:17:54.695Z"
   },
   {
    "duration": 30,
    "start_time": "2023-06-08T12:17:54.725Z"
   },
   {
    "duration": 48045,
    "start_time": "2023-06-08T12:17:54.757Z"
   },
   {
    "duration": 603822,
    "start_time": "2023-06-08T12:18:42.804Z"
   },
   {
    "duration": 53031,
    "start_time": "2023-06-08T12:28:46.631Z"
   },
   {
    "duration": 888088,
    "start_time": "2023-06-08T12:29:39.663Z"
   },
   {
    "duration": 16158,
    "start_time": "2023-06-08T12:44:27.752Z"
   },
   {
    "duration": 790307,
    "start_time": "2023-06-08T12:44:43.912Z"
   },
   {
    "duration": 52835,
    "start_time": "2023-06-08T12:57:54.221Z"
   },
   {
    "duration": 1231686,
    "start_time": "2023-06-08T12:58:47.058Z"
   },
   {
    "duration": 8,
    "start_time": "2023-06-08T13:19:18.745Z"
   },
   {
    "duration": 19,
    "start_time": "2023-06-08T13:19:18.755Z"
   },
   {
    "duration": 42,
    "start_time": "2023-06-08T13:19:18.776Z"
   },
   {
    "duration": 12,
    "start_time": "2023-06-08T13:19:18.823Z"
   },
   {
    "duration": 3,
    "start_time": "2023-06-08T13:19:18.836Z"
   },
   {
    "duration": 122,
    "start_time": "2023-06-08T13:19:18.840Z"
   },
   {
    "duration": 12,
    "start_time": "2023-06-08T15:40:59.119Z"
   },
   {
    "duration": 170,
    "start_time": "2023-06-08T15:41:00.561Z"
   },
   {
    "duration": 5,
    "start_time": "2023-06-08T15:41:18.744Z"
   },
   {
    "duration": 120283,
    "start_time": "2023-06-08T15:41:20.614Z"
   },
   {
    "duration": 9,
    "start_time": "2023-06-08T15:43:40.912Z"
   },
   {
    "duration": 97902,
    "start_time": "2023-06-08T15:43:42.824Z"
   },
   {
    "duration": 7,
    "start_time": "2023-06-08T15:45:44.881Z"
   },
   {
    "duration": 3,
    "start_time": "2023-06-08T15:45:45.901Z"
   },
   {
    "duration": 15,
    "start_time": "2023-06-08T15:46:07.113Z"
   },
   {
    "duration": 2868,
    "start_time": "2023-06-08T15:46:33.945Z"
   },
   {
    "duration": 3,
    "start_time": "2023-06-08T15:47:05.859Z"
   },
   {
    "duration": 64,
    "start_time": "2023-06-08T15:47:05.864Z"
   },
   {
    "duration": 20,
    "start_time": "2023-06-08T15:47:05.930Z"
   },
   {
    "duration": 130146,
    "start_time": "2023-06-08T15:47:05.952Z"
   },
   {
    "duration": 623141,
    "start_time": "2023-06-08T15:49:16.106Z"
   },
   {
    "duration": 154,
    "start_time": "2023-06-08T15:59:39.248Z"
   },
   {
    "duration": 54871,
    "start_time": "2023-06-08T16:06:02.559Z"
   },
   {
    "duration": 15703,
    "start_time": "2023-06-08T16:06:57.433Z"
   },
   {
    "duration": 131,
    "start_time": "2023-06-08T16:07:13.137Z"
   },
   {
    "duration": 33711,
    "start_time": "2023-06-08T16:07:13.271Z"
   },
   {
    "duration": 18,
    "start_time": "2023-06-08T16:07:46.984Z"
   },
   {
    "duration": 0,
    "start_time": "2023-06-08T16:07:47.004Z"
   },
   {
    "duration": 0,
    "start_time": "2023-06-08T16:07:47.005Z"
   },
   {
    "duration": 0,
    "start_time": "2023-06-08T16:07:47.006Z"
   },
   {
    "duration": 0,
    "start_time": "2023-06-08T16:07:47.007Z"
   },
   {
    "duration": 0,
    "start_time": "2023-06-08T16:07:47.008Z"
   },
   {
    "duration": 0,
    "start_time": "2023-06-08T16:07:47.031Z"
   },
   {
    "duration": 0,
    "start_time": "2023-06-08T16:07:47.036Z"
   },
   {
    "duration": 967934,
    "start_time": "2023-06-08T16:07:54.011Z"
   },
   {
    "duration": 3,
    "start_time": "2023-06-08T16:40:15.255Z"
   },
   {
    "duration": 7,
    "start_time": "2023-06-08T16:40:15.260Z"
   },
   {
    "duration": 6,
    "start_time": "2023-06-08T16:40:15.269Z"
   },
   {
    "duration": 33171,
    "start_time": "2023-06-08T16:40:15.276Z"
   },
   {
    "duration": 38562,
    "start_time": "2023-06-08T16:40:48.448Z"
   },
   {
    "duration": 4492,
    "start_time": "2023-06-08T16:41:27.011Z"
   },
   {
    "duration": 9561,
    "start_time": "2023-06-08T16:41:31.505Z"
   },
   {
    "duration": 2405,
    "start_time": "2023-06-08T16:41:41.067Z"
   },
   {
    "duration": 196,
    "start_time": "2023-06-08T16:41:43.473Z"
   },
   {
    "duration": 2791,
    "start_time": "2023-06-08T16:41:43.671Z"
   },
   {
    "duration": 15,
    "start_time": "2023-06-08T16:41:46.463Z"
   },
   {
    "duration": 0,
    "start_time": "2023-06-08T16:41:46.480Z"
   },
   {
    "duration": 0,
    "start_time": "2023-06-08T16:41:46.480Z"
   },
   {
    "duration": 0,
    "start_time": "2023-06-08T16:41:46.481Z"
   },
   {
    "duration": 0,
    "start_time": "2023-06-08T16:41:46.483Z"
   },
   {
    "duration": 0,
    "start_time": "2023-06-08T16:41:46.490Z"
   },
   {
    "duration": 8,
    "start_time": "2023-06-08T16:41:59.806Z"
   },
   {
    "duration": 2891,
    "start_time": "2023-06-08T16:41:59.816Z"
   },
   {
    "duration": 11,
    "start_time": "2023-06-08T16:42:02.724Z"
   },
   {
    "duration": 26,
    "start_time": "2023-06-08T16:42:02.737Z"
   },
   {
    "duration": 83,
    "start_time": "2023-06-08T16:42:02.765Z"
   },
   {
    "duration": 264934,
    "start_time": "2023-06-08T16:42:02.850Z"
   },
   {
    "duration": 672421,
    "start_time": "2023-06-08T16:46:27.801Z"
   },
   {
    "duration": 795435,
    "start_time": "2023-06-08T16:57:40.226Z"
   },
   {
    "duration": 12313,
    "start_time": "2023-06-08T17:10:55.663Z"
   },
   {
    "duration": 3261,
    "start_time": "2023-06-08T17:11:07.978Z"
   },
   {
    "duration": 2907,
    "start_time": "2023-06-08T17:11:11.241Z"
   },
   {
    "duration": 12,
    "start_time": "2023-06-08T17:11:14.149Z"
   },
   {
    "duration": 0,
    "start_time": "2023-06-08T17:11:14.163Z"
   },
   {
    "duration": 0,
    "start_time": "2023-06-08T17:11:14.164Z"
   },
   {
    "duration": 0,
    "start_time": "2023-06-08T17:11:14.164Z"
   },
   {
    "duration": 0,
    "start_time": "2023-06-08T17:11:14.165Z"
   },
   {
    "duration": 0,
    "start_time": "2023-06-08T17:11:14.166Z"
   },
   {
    "duration": 1734,
    "start_time": "2023-06-08T17:11:26.696Z"
   },
   {
    "duration": 815,
    "start_time": "2023-06-08T17:11:28.431Z"
   },
   {
    "duration": 393,
    "start_time": "2023-06-08T17:11:29.247Z"
   },
   {
    "duration": 6,
    "start_time": "2023-06-08T17:11:29.642Z"
   },
   {
    "duration": 13,
    "start_time": "2023-06-08T17:11:29.649Z"
   },
   {
    "duration": 13,
    "start_time": "2023-06-08T17:11:29.663Z"
   },
   {
    "duration": 69,
    "start_time": "2023-06-08T17:11:29.677Z"
   },
   {
    "duration": 193,
    "start_time": "2023-06-08T17:11:29.748Z"
   },
   {
    "duration": 18,
    "start_time": "2023-06-08T17:11:29.942Z"
   },
   {
    "duration": 8,
    "start_time": "2023-06-08T17:11:29.963Z"
   },
   {
    "duration": 33,
    "start_time": "2023-06-08T17:11:29.972Z"
   },
   {
    "duration": 1368,
    "start_time": "2023-06-08T17:11:30.015Z"
   },
   {
    "duration": 27,
    "start_time": "2023-06-08T17:11:31.410Z"
   },
   {
    "duration": 196,
    "start_time": "2023-06-08T17:11:31.438Z"
   },
   {
    "duration": 5,
    "start_time": "2023-06-08T17:11:31.639Z"
   },
   {
    "duration": 80,
    "start_time": "2023-06-08T17:11:31.646Z"
   },
   {
    "duration": 131,
    "start_time": "2023-06-08T17:11:31.727Z"
   },
   {
    "duration": 61,
    "start_time": "2023-06-08T17:11:31.860Z"
   },
   {
    "duration": 28,
    "start_time": "2023-06-08T17:11:31.923Z"
   },
   {
    "duration": 1965,
    "start_time": "2023-06-08T17:11:31.953Z"
   },
   {
    "duration": 9,
    "start_time": "2023-06-08T17:11:33.931Z"
   },
   {
    "duration": 727,
    "start_time": "2023-06-08T17:11:33.941Z"
   },
   {
    "duration": 615,
    "start_time": "2023-06-08T17:11:34.670Z"
   },
   {
    "duration": 26,
    "start_time": "2023-06-08T17:11:35.296Z"
   },
   {
    "duration": 1284,
    "start_time": "2023-06-08T17:11:35.334Z"
   },
   {
    "duration": 17,
    "start_time": "2023-06-08T17:11:36.631Z"
   },
   {
    "duration": 96,
    "start_time": "2023-06-08T17:11:36.653Z"
   },
   {
    "duration": 8,
    "start_time": "2023-06-08T17:11:36.752Z"
   },
   {
    "duration": 63,
    "start_time": "2023-06-08T17:11:36.763Z"
   },
   {
    "duration": 19,
    "start_time": "2023-06-08T17:11:36.827Z"
   },
   {
    "duration": 23,
    "start_time": "2023-06-08T17:11:36.848Z"
   },
   {
    "duration": 17,
    "start_time": "2023-06-08T17:11:36.873Z"
   },
   {
    "duration": 86,
    "start_time": "2023-06-08T17:11:36.891Z"
   },
   {
    "duration": 3,
    "start_time": "2023-06-08T17:11:36.979Z"
   },
   {
    "duration": 3311,
    "start_time": "2023-06-08T17:11:36.983Z"
   },
   {
    "duration": 17,
    "start_time": "2023-06-08T17:11:40.305Z"
   },
   {
    "duration": 8,
    "start_time": "2023-06-08T17:11:40.332Z"
   },
   {
    "duration": 12,
    "start_time": "2023-06-08T17:11:40.341Z"
   },
   {
    "duration": 263043,
    "start_time": "2023-06-08T17:11:40.355Z"
   },
   {
    "duration": 620605,
    "start_time": "2023-06-08T17:16:03.407Z"
   },
   {
    "duration": 921611,
    "start_time": "2023-06-08T17:26:24.019Z"
   },
   {
    "duration": 102878,
    "start_time": "2023-06-08T17:41:45.636Z"
   },
   {
    "duration": 802288,
    "start_time": "2023-06-08T17:43:28.526Z"
   },
   {
    "duration": 1266203,
    "start_time": "2023-06-08T17:56:50.819Z"
   },
   {
    "duration": 20,
    "start_time": "2023-06-08T18:17:57.024Z"
   },
   {
    "duration": 16,
    "start_time": "2023-06-08T18:17:57.046Z"
   },
   {
    "duration": 31,
    "start_time": "2023-06-08T18:17:57.065Z"
   },
   {
    "duration": 76,
    "start_time": "2023-06-08T18:17:57.107Z"
   },
   {
    "duration": 44,
    "start_time": "2023-06-08T18:17:57.189Z"
   },
   {
    "duration": 173,
    "start_time": "2023-06-08T18:17:57.237Z"
   },
   {
    "duration": 9,
    "start_time": "2023-06-08T18:30:37.249Z"
   },
   {
    "duration": 11,
    "start_time": "2023-06-08T18:30:44.655Z"
   },
   {
    "duration": 13,
    "start_time": "2023-06-08T18:30:46.367Z"
   },
   {
    "duration": 8,
    "start_time": "2023-06-08T18:30:51.410Z"
   },
   {
    "duration": 10,
    "start_time": "2023-06-08T18:30:53.415Z"
   },
   {
    "duration": 4,
    "start_time": "2023-06-08T18:31:20.728Z"
   },
   {
    "duration": 27,
    "start_time": "2023-06-08T18:31:24.783Z"
   },
   {
    "duration": 12,
    "start_time": "2023-06-08T18:31:25.928Z"
   },
   {
    "duration": 5,
    "start_time": "2023-06-08T18:31:28.124Z"
   },
   {
    "duration": 9,
    "start_time": "2023-06-08T18:31:33.566Z"
   },
   {
    "duration": 1648,
    "start_time": "2023-06-08T18:33:58.345Z"
   },
   {
    "duration": 838,
    "start_time": "2023-06-08T18:33:59.995Z"
   },
   {
    "duration": 384,
    "start_time": "2023-06-08T18:34:00.834Z"
   },
   {
    "duration": 16,
    "start_time": "2023-06-08T18:34:01.219Z"
   },
   {
    "duration": 44,
    "start_time": "2023-06-08T18:34:01.238Z"
   },
   {
    "duration": 79,
    "start_time": "2023-06-08T18:34:01.284Z"
   },
   {
    "duration": 57,
    "start_time": "2023-06-08T18:34:01.365Z"
   },
   {
    "duration": 238,
    "start_time": "2023-06-08T18:34:01.424Z"
   },
   {
    "duration": 44,
    "start_time": "2023-06-08T18:34:01.664Z"
   },
   {
    "duration": 88,
    "start_time": "2023-06-08T18:34:01.722Z"
   },
   {
    "duration": 75,
    "start_time": "2023-06-08T18:34:01.812Z"
   },
   {
    "duration": 1340,
    "start_time": "2023-06-08T18:34:01.889Z"
   },
   {
    "duration": 14,
    "start_time": "2023-06-08T18:34:03.231Z"
   },
   {
    "duration": 206,
    "start_time": "2023-06-08T18:34:03.249Z"
   },
   {
    "duration": 6,
    "start_time": "2023-06-08T18:34:03.457Z"
   },
   {
    "duration": 56,
    "start_time": "2023-06-08T18:34:03.465Z"
   },
   {
    "duration": 55,
    "start_time": "2023-06-08T18:34:03.523Z"
   },
   {
    "duration": 4,
    "start_time": "2023-06-08T18:34:03.580Z"
   },
   {
    "duration": 31,
    "start_time": "2023-06-08T18:34:03.599Z"
   },
   {
    "duration": 1912,
    "start_time": "2023-06-08T18:34:03.632Z"
   },
   {
    "duration": 5,
    "start_time": "2023-06-08T18:34:05.546Z"
   },
   {
    "duration": 806,
    "start_time": "2023-06-08T18:34:05.553Z"
   },
   {
    "duration": 719,
    "start_time": "2023-06-08T18:34:06.362Z"
   },
   {
    "duration": 26,
    "start_time": "2023-06-08T18:34:07.096Z"
   },
   {
    "duration": 1170,
    "start_time": "2023-06-08T18:34:07.132Z"
   },
   {
    "duration": 9,
    "start_time": "2023-06-08T18:34:08.303Z"
   },
   {
    "duration": 23,
    "start_time": "2023-06-08T18:34:08.313Z"
   },
   {
    "duration": 7,
    "start_time": "2023-06-08T18:34:08.338Z"
   },
   {
    "duration": 15,
    "start_time": "2023-06-08T18:34:08.347Z"
   },
   {
    "duration": 12,
    "start_time": "2023-06-08T18:34:08.363Z"
   },
   {
    "duration": 67,
    "start_time": "2023-06-08T18:34:08.376Z"
   },
   {
    "duration": 15,
    "start_time": "2023-06-08T18:34:08.445Z"
   },
   {
    "duration": 56,
    "start_time": "2023-06-08T18:34:08.462Z"
   },
   {
    "duration": 3,
    "start_time": "2023-06-08T18:34:08.528Z"
   },
   {
    "duration": 3209,
    "start_time": "2023-06-08T18:34:08.533Z"
   },
   {
    "duration": 53,
    "start_time": "2023-06-08T18:34:11.743Z"
   },
   {
    "duration": 97,
    "start_time": "2023-06-08T18:34:11.797Z"
   },
   {
    "duration": 38,
    "start_time": "2023-06-08T18:34:11.896Z"
   },
   {
    "duration": 118481,
    "start_time": "2023-06-08T18:34:11.937Z"
   },
   {
    "duration": 395738,
    "start_time": "2023-06-08T18:36:10.430Z"
   },
   {
    "duration": 1989211,
    "start_time": "2023-06-08T18:42:46.171Z"
   },
   {
    "duration": 67847,
    "start_time": "2023-06-08T19:15:55.384Z"
   },
   {
    "duration": 538823,
    "start_time": "2023-06-08T19:17:03.242Z"
   },
   {
    "duration": 2613364,
    "start_time": "2023-06-08T19:26:02.066Z"
   },
   {
    "duration": 9,
    "start_time": "2023-06-08T20:09:35.434Z"
   },
   {
    "duration": 76,
    "start_time": "2023-06-08T20:09:35.444Z"
   },
   {
    "duration": 22,
    "start_time": "2023-06-08T20:09:35.522Z"
   },
   {
    "duration": 19,
    "start_time": "2023-06-08T20:09:35.546Z"
   },
   {
    "duration": 14,
    "start_time": "2023-06-08T20:09:35.566Z"
   },
   {
    "duration": 51,
    "start_time": "2023-06-08T20:09:35.582Z"
   },
   {
    "duration": 7,
    "start_time": "2023-06-08T20:31:20.149Z"
   },
   {
    "duration": 1646,
    "start_time": "2023-06-09T09:27:56.168Z"
   },
   {
    "duration": 2147,
    "start_time": "2023-06-09T09:27:57.817Z"
   },
   {
    "duration": 486,
    "start_time": "2023-06-09T09:27:59.965Z"
   },
   {
    "duration": 9,
    "start_time": "2023-06-09T09:28:12.279Z"
   },
   {
    "duration": 165,
    "start_time": "2023-06-09T09:28:45.110Z"
   },
   {
    "duration": 5,
    "start_time": "2023-06-09T09:37:33.210Z"
   },
   {
    "duration": 854,
    "start_time": "2023-06-09T09:37:33.219Z"
   },
   {
    "duration": 473,
    "start_time": "2023-06-09T09:37:34.075Z"
   },
   {
    "duration": 9,
    "start_time": "2023-06-09T09:37:34.549Z"
   },
   {
    "duration": 5,
    "start_time": "2023-06-09T09:37:34.560Z"
   },
   {
    "duration": 14,
    "start_time": "2023-06-09T09:37:34.567Z"
   },
   {
    "duration": 5,
    "start_time": "2023-06-09T09:37:34.583Z"
   },
   {
    "duration": 178,
    "start_time": "2023-06-09T09:37:34.589Z"
   },
   {
    "duration": 22,
    "start_time": "2023-06-09T09:37:34.768Z"
   },
   {
    "duration": 13,
    "start_time": "2023-06-09T09:37:34.792Z"
   },
   {
    "duration": 45,
    "start_time": "2023-06-09T09:37:34.807Z"
   },
   {
    "duration": 1275,
    "start_time": "2023-06-09T09:37:34.854Z"
   },
   {
    "duration": 15,
    "start_time": "2023-06-09T09:37:36.131Z"
   },
   {
    "duration": 39,
    "start_time": "2023-06-09T09:37:36.149Z"
   },
   {
    "duration": 9,
    "start_time": "2023-06-09T09:37:36.191Z"
   },
   {
    "duration": 17,
    "start_time": "2023-06-09T09:37:36.202Z"
   },
   {
    "duration": 48,
    "start_time": "2023-06-09T09:37:36.221Z"
   },
   {
    "duration": 4,
    "start_time": "2023-06-09T09:37:36.270Z"
   },
   {
    "duration": 10,
    "start_time": "2023-06-09T09:37:36.275Z"
   },
   {
    "duration": 2336,
    "start_time": "2023-06-09T09:37:36.286Z"
   },
   {
    "duration": 4,
    "start_time": "2023-06-09T09:37:38.624Z"
   },
   {
    "duration": 619,
    "start_time": "2023-06-09T09:37:43.153Z"
   },
   {
    "duration": 617,
    "start_time": "2023-06-09T09:38:05.329Z"
   },
   {
    "duration": 906,
    "start_time": "2023-06-09T09:38:33.897Z"
   },
   {
    "duration": 630,
    "start_time": "2023-06-09T09:39:14.961Z"
   },
   {
    "duration": 113,
    "start_time": "2023-06-09T09:43:22.590Z"
   },
   {
    "duration": 110,
    "start_time": "2023-06-09T09:43:35.255Z"
   },
   {
    "duration": 116,
    "start_time": "2023-06-09T09:43:51.790Z"
   },
   {
    "duration": 125,
    "start_time": "2023-06-09T09:44:35.917Z"
   },
   {
    "duration": 16,
    "start_time": "2023-06-09T09:44:57.243Z"
   },
   {
    "duration": 21,
    "start_time": "2023-06-09T09:45:39.053Z"
   },
   {
    "duration": 5,
    "start_time": "2023-06-09T09:46:49.077Z"
   },
   {
    "duration": 4,
    "start_time": "2023-06-09T09:46:56.909Z"
   },
   {
    "duration": 105,
    "start_time": "2023-06-09T09:48:43.371Z"
   },
   {
    "duration": 1858,
    "start_time": "2023-06-09T09:48:48.250Z"
   },
   {
    "duration": 12,
    "start_time": "2023-06-09T09:48:59.250Z"
   },
   {
    "duration": 106,
    "start_time": "2023-06-09T09:49:14.227Z"
   },
   {
    "duration": 282,
    "start_time": "2023-06-09T09:49:39.394Z"
   },
   {
    "duration": 27,
    "start_time": "2023-06-09T09:49:52.613Z"
   },
   {
    "duration": 12,
    "start_time": "2023-06-09T09:50:05.670Z"
   },
   {
    "duration": 8,
    "start_time": "2023-06-09T09:50:18.315Z"
   },
   {
    "duration": 136,
    "start_time": "2023-06-09T09:51:02.225Z"
   },
   {
    "duration": 8,
    "start_time": "2023-06-09T09:51:17.928Z"
   },
   {
    "duration": 6,
    "start_time": "2023-06-09T09:51:22.601Z"
   },
   {
    "duration": 7,
    "start_time": "2023-06-09T09:53:23.993Z"
   },
   {
    "duration": 7,
    "start_time": "2023-06-09T09:53:30.815Z"
   },
   {
    "duration": 8,
    "start_time": "2023-06-09T09:53:39.831Z"
   },
   {
    "duration": 7,
    "start_time": "2023-06-09T09:53:45.608Z"
   },
   {
    "duration": 7,
    "start_time": "2023-06-09T09:54:01.393Z"
   },
   {
    "duration": 7,
    "start_time": "2023-06-09T09:54:11.777Z"
   },
   {
    "duration": 7,
    "start_time": "2023-06-09T09:54:17.431Z"
   },
   {
    "duration": 12,
    "start_time": "2023-06-09T09:55:18.304Z"
   },
   {
    "duration": 11,
    "start_time": "2023-06-09T09:55:27.422Z"
   },
   {
    "duration": 10,
    "start_time": "2023-06-09T09:55:45.976Z"
   },
   {
    "duration": 10,
    "start_time": "2023-06-09T09:55:50.361Z"
   },
   {
    "duration": 10,
    "start_time": "2023-06-09T09:55:58.679Z"
   },
   {
    "duration": 12,
    "start_time": "2023-06-09T09:56:49.398Z"
   },
   {
    "duration": 10,
    "start_time": "2023-06-09T09:56:58.133Z"
   },
   {
    "duration": 7,
    "start_time": "2023-06-09T09:58:06.093Z"
   },
   {
    "duration": 13,
    "start_time": "2023-06-09T09:58:52.445Z"
   },
   {
    "duration": 100,
    "start_time": "2023-06-09T09:59:08.068Z"
   },
   {
    "duration": 13,
    "start_time": "2023-06-09T09:59:11.300Z"
   },
   {
    "duration": 13,
    "start_time": "2023-06-09T09:59:21.452Z"
   },
   {
    "duration": 4162,
    "start_time": "2023-06-09T10:02:38.698Z"
   },
   {
    "duration": 31,
    "start_time": "2023-06-09T10:02:52.356Z"
   },
   {
    "duration": 22,
    "start_time": "2023-06-09T10:03:05.179Z"
   },
   {
    "duration": 16,
    "start_time": "2023-06-09T10:03:24.059Z"
   },
   {
    "duration": 16,
    "start_time": "2023-06-09T10:03:50.658Z"
   },
   {
    "duration": 120,
    "start_time": "2023-06-09T10:04:12.698Z"
   },
   {
    "duration": 155,
    "start_time": "2023-06-09T10:04:29.386Z"
   },
   {
    "duration": 101,
    "start_time": "2023-06-09T10:04:42.971Z"
   },
   {
    "duration": 101,
    "start_time": "2023-06-09T10:04:59.772Z"
   },
   {
    "duration": 128,
    "start_time": "2023-06-09T10:05:10.171Z"
   },
   {
    "duration": 12,
    "start_time": "2023-06-09T10:05:16.049Z"
   },
   {
    "duration": 10,
    "start_time": "2023-06-09T10:05:46.248Z"
   },
   {
    "duration": 6,
    "start_time": "2023-06-09T10:05:59.793Z"
   },
   {
    "duration": 18,
    "start_time": "2023-06-09T10:06:46.769Z"
   },
   {
    "duration": 137,
    "start_time": "2023-06-09T10:08:09.136Z"
   },
   {
    "duration": 13,
    "start_time": "2023-06-09T10:08:21.600Z"
   },
   {
    "duration": 18,
    "start_time": "2023-06-09T10:09:10.119Z"
   },
   {
    "duration": 10,
    "start_time": "2023-06-09T10:09:32.807Z"
   },
   {
    "duration": 25,
    "start_time": "2023-06-09T10:09:39.342Z"
   },
   {
    "duration": 23,
    "start_time": "2023-06-09T10:12:09.838Z"
   },
   {
    "duration": 246,
    "start_time": "2023-06-09T10:12:15.055Z"
   },
   {
    "duration": 11,
    "start_time": "2023-06-09T10:13:07.437Z"
   },
   {
    "duration": 23,
    "start_time": "2023-06-09T10:13:19.452Z"
   },
   {
    "duration": 6,
    "start_time": "2023-06-09T10:13:57.285Z"
   },
   {
    "duration": 747,
    "start_time": "2023-06-09T10:13:57.293Z"
   },
   {
    "duration": 671,
    "start_time": "2023-06-09T10:13:58.042Z"
   },
   {
    "duration": 9,
    "start_time": "2023-06-09T10:13:58.714Z"
   },
   {
    "duration": 22,
    "start_time": "2023-06-09T10:13:58.725Z"
   },
   {
    "duration": 24,
    "start_time": "2023-06-09T10:13:58.752Z"
   },
   {
    "duration": 7,
    "start_time": "2023-06-09T10:13:58.778Z"
   },
   {
    "duration": 169,
    "start_time": "2023-06-09T10:13:58.787Z"
   },
   {
    "duration": 21,
    "start_time": "2023-06-09T10:13:58.958Z"
   },
   {
    "duration": 11,
    "start_time": "2023-06-09T10:13:58.980Z"
   },
   {
    "duration": 10,
    "start_time": "2023-06-09T10:13:58.993Z"
   },
   {
    "duration": 1308,
    "start_time": "2023-06-09T10:13:59.004Z"
   },
   {
    "duration": 11,
    "start_time": "2023-06-09T10:14:00.314Z"
   },
   {
    "duration": 50,
    "start_time": "2023-06-09T10:14:00.326Z"
   },
   {
    "duration": 37,
    "start_time": "2023-06-09T10:14:00.378Z"
   },
   {
    "duration": 23,
    "start_time": "2023-06-09T10:14:00.416Z"
   },
   {
    "duration": 71,
    "start_time": "2023-06-09T10:14:00.440Z"
   },
   {
    "duration": 4,
    "start_time": "2023-06-09T10:14:00.513Z"
   },
   {
    "duration": 39,
    "start_time": "2023-06-09T10:14:00.518Z"
   },
   {
    "duration": 2276,
    "start_time": "2023-06-09T10:14:00.559Z"
   },
   {
    "duration": 23,
    "start_time": "2023-06-09T10:14:02.844Z"
   },
   {
    "duration": 9,
    "start_time": "2023-06-09T10:14:12.564Z"
   },
   {
    "duration": 15,
    "start_time": "2023-06-09T10:14:16.195Z"
   },
   {
    "duration": 5,
    "start_time": "2023-06-09T10:14:57.572Z"
   },
   {
    "duration": 5,
    "start_time": "2023-06-09T10:17:23.592Z"
   },
   {
    "duration": 772,
    "start_time": "2023-06-09T10:17:23.599Z"
   },
   {
    "duration": 429,
    "start_time": "2023-06-09T10:17:24.374Z"
   },
   {
    "duration": 7,
    "start_time": "2023-06-09T10:17:24.805Z"
   },
   {
    "duration": 15,
    "start_time": "2023-06-09T10:17:24.814Z"
   },
   {
    "duration": 27,
    "start_time": "2023-06-09T10:17:24.830Z"
   },
   {
    "duration": 9,
    "start_time": "2023-06-09T10:17:24.859Z"
   },
   {
    "duration": 161,
    "start_time": "2023-06-09T10:17:24.869Z"
   },
   {
    "duration": 34,
    "start_time": "2023-06-09T10:17:25.032Z"
   },
   {
    "duration": 10,
    "start_time": "2023-06-09T10:17:25.067Z"
   },
   {
    "duration": 9,
    "start_time": "2023-06-09T10:17:25.079Z"
   },
   {
    "duration": 1226,
    "start_time": "2023-06-09T10:17:25.090Z"
   },
   {
    "duration": 12,
    "start_time": "2023-06-09T10:17:26.318Z"
   },
   {
    "duration": 58,
    "start_time": "2023-06-09T10:17:26.331Z"
   },
   {
    "duration": 8,
    "start_time": "2023-06-09T10:17:26.390Z"
   },
   {
    "duration": 10,
    "start_time": "2023-06-09T10:17:26.400Z"
   },
   {
    "duration": 45,
    "start_time": "2023-06-09T10:17:26.411Z"
   },
   {
    "duration": 4,
    "start_time": "2023-06-09T10:17:26.458Z"
   },
   {
    "duration": 8,
    "start_time": "2023-06-09T10:17:26.463Z"
   },
   {
    "duration": 2295,
    "start_time": "2023-06-09T10:17:26.473Z"
   },
   {
    "duration": 17,
    "start_time": "2023-06-09T10:17:28.770Z"
   },
   {
    "duration": 10,
    "start_time": "2023-06-09T10:17:30.506Z"
   },
   {
    "duration": 6,
    "start_time": "2023-06-09T10:17:56.159Z"
   },
   {
    "duration": 654,
    "start_time": "2023-06-09T10:17:56.167Z"
   },
   {
    "duration": 434,
    "start_time": "2023-06-09T10:17:56.823Z"
   },
   {
    "duration": 7,
    "start_time": "2023-06-09T10:17:57.259Z"
   },
   {
    "duration": 21,
    "start_time": "2023-06-09T10:17:57.269Z"
   },
   {
    "duration": 24,
    "start_time": "2023-06-09T10:17:57.292Z"
   },
   {
    "duration": 12,
    "start_time": "2023-06-09T10:17:57.318Z"
   },
   {
    "duration": 153,
    "start_time": "2023-06-09T10:17:57.332Z"
   },
   {
    "duration": 26,
    "start_time": "2023-06-09T10:17:57.487Z"
   },
   {
    "duration": 33,
    "start_time": "2023-06-09T10:17:57.515Z"
   },
   {
    "duration": 9,
    "start_time": "2023-06-09T10:17:57.551Z"
   },
   {
    "duration": 1269,
    "start_time": "2023-06-09T10:17:57.562Z"
   },
   {
    "duration": 13,
    "start_time": "2023-06-09T10:17:58.833Z"
   },
   {
    "duration": 36,
    "start_time": "2023-06-09T10:17:58.847Z"
   },
   {
    "duration": 7,
    "start_time": "2023-06-09T10:17:58.885Z"
   },
   {
    "duration": 11,
    "start_time": "2023-06-09T10:17:58.894Z"
   },
   {
    "duration": 54,
    "start_time": "2023-06-09T10:17:58.907Z"
   },
   {
    "duration": 4,
    "start_time": "2023-06-09T10:17:58.964Z"
   },
   {
    "duration": 10,
    "start_time": "2023-06-09T10:17:58.970Z"
   },
   {
    "duration": 2210,
    "start_time": "2023-06-09T10:17:58.982Z"
   },
   {
    "duration": 15,
    "start_time": "2023-06-09T10:18:01.193Z"
   },
   {
    "duration": 24,
    "start_time": "2023-06-09T10:18:01.210Z"
   },
   {
    "duration": 7,
    "start_time": "2023-06-09T10:18:28.633Z"
   },
   {
    "duration": 805,
    "start_time": "2023-06-09T10:18:28.642Z"
   },
   {
    "duration": 457,
    "start_time": "2023-06-09T10:18:29.451Z"
   },
   {
    "duration": 13,
    "start_time": "2023-06-09T10:18:29.911Z"
   },
   {
    "duration": 26,
    "start_time": "2023-06-09T10:18:29.926Z"
   },
   {
    "duration": 15,
    "start_time": "2023-06-09T10:18:29.960Z"
   },
   {
    "duration": 15,
    "start_time": "2023-06-09T10:18:29.977Z"
   },
   {
    "duration": 167,
    "start_time": "2023-06-09T10:18:29.995Z"
   },
   {
    "duration": 27,
    "start_time": "2023-06-09T10:18:30.164Z"
   },
   {
    "duration": 17,
    "start_time": "2023-06-09T10:18:30.193Z"
   },
   {
    "duration": 40,
    "start_time": "2023-06-09T10:18:30.213Z"
   },
   {
    "duration": 1284,
    "start_time": "2023-06-09T10:18:30.255Z"
   },
   {
    "duration": 14,
    "start_time": "2023-06-09T10:18:31.541Z"
   },
   {
    "duration": 49,
    "start_time": "2023-06-09T10:18:31.557Z"
   },
   {
    "duration": 12,
    "start_time": "2023-06-09T10:18:31.608Z"
   },
   {
    "duration": 30,
    "start_time": "2023-06-09T10:18:31.622Z"
   },
   {
    "duration": 52,
    "start_time": "2023-06-09T10:18:31.657Z"
   },
   {
    "duration": 4,
    "start_time": "2023-06-09T10:18:31.712Z"
   },
   {
    "duration": 12,
    "start_time": "2023-06-09T10:18:31.718Z"
   },
   {
    "duration": 2336,
    "start_time": "2023-06-09T10:18:31.732Z"
   },
   {
    "duration": 18,
    "start_time": "2023-06-09T10:18:34.070Z"
   },
   {
    "duration": 5,
    "start_time": "2023-06-09T10:18:43.090Z"
   },
   {
    "duration": 28,
    "start_time": "2023-06-09T10:18:44.521Z"
   },
   {
    "duration": 10,
    "start_time": "2023-06-09T10:20:33.657Z"
   },
   {
    "duration": 1834,
    "start_time": "2023-06-09T10:22:07.968Z"
   },
   {
    "duration": 3745,
    "start_time": "2023-06-09T10:22:34.632Z"
   },
   {
    "duration": 5,
    "start_time": "2023-06-09T10:22:53.663Z"
   },
   {
    "duration": 797,
    "start_time": "2023-06-09T10:22:53.670Z"
   },
   {
    "duration": 429,
    "start_time": "2023-06-09T10:22:54.468Z"
   },
   {
    "duration": 8,
    "start_time": "2023-06-09T10:22:54.899Z"
   },
   {
    "duration": 12,
    "start_time": "2023-06-09T10:22:54.908Z"
   },
   {
    "duration": 38,
    "start_time": "2023-06-09T10:22:54.922Z"
   },
   {
    "duration": 11,
    "start_time": "2023-06-09T10:22:54.962Z"
   },
   {
    "duration": 176,
    "start_time": "2023-06-09T10:22:54.975Z"
   },
   {
    "duration": 22,
    "start_time": "2023-06-09T10:22:55.162Z"
   },
   {
    "duration": 12,
    "start_time": "2023-06-09T10:22:55.187Z"
   },
   {
    "duration": 12,
    "start_time": "2023-06-09T10:22:55.201Z"
   },
   {
    "duration": 1285,
    "start_time": "2023-06-09T10:22:55.215Z"
   },
   {
    "duration": 13,
    "start_time": "2023-06-09T10:22:56.502Z"
   },
   {
    "duration": 50,
    "start_time": "2023-06-09T10:22:56.517Z"
   },
   {
    "duration": 6,
    "start_time": "2023-06-09T10:22:56.569Z"
   },
   {
    "duration": 24,
    "start_time": "2023-06-09T10:22:56.577Z"
   },
   {
    "duration": 57,
    "start_time": "2023-06-09T10:22:56.603Z"
   },
   {
    "duration": 4,
    "start_time": "2023-06-09T10:22:56.662Z"
   },
   {
    "duration": 9,
    "start_time": "2023-06-09T10:22:56.668Z"
   },
   {
    "duration": 2346,
    "start_time": "2023-06-09T10:22:56.679Z"
   },
   {
    "duration": 23,
    "start_time": "2023-06-09T10:22:59.027Z"
   },
   {
    "duration": 8,
    "start_time": "2023-06-09T10:22:59.053Z"
   },
   {
    "duration": 3969,
    "start_time": "2023-06-09T10:22:59.063Z"
   },
   {
    "duration": 9683,
    "start_time": "2023-06-09T10:23:24.935Z"
   },
   {
    "duration": 9233,
    "start_time": "2023-06-09T10:24:37.907Z"
   },
   {
    "duration": 1287,
    "start_time": "2023-06-09T10:26:06.969Z"
   },
   {
    "duration": 230,
    "start_time": "2023-06-09T10:26:39.358Z"
   },
   {
    "duration": 6,
    "start_time": "2023-06-09T10:26:49.358Z"
   },
   {
    "duration": 12,
    "start_time": "2023-06-09T10:32:15.746Z"
   },
   {
    "duration": 11,
    "start_time": "2023-06-09T10:33:52.921Z"
   },
   {
    "duration": 11,
    "start_time": "2023-06-09T10:34:09.336Z"
   },
   {
    "duration": 9,
    "start_time": "2023-06-09T10:34:18.545Z"
   },
   {
    "duration": 10,
    "start_time": "2023-06-09T10:34:27.442Z"
   },
   {
    "duration": 733,
    "start_time": "2023-06-09T10:34:27.454Z"
   },
   {
    "duration": 638,
    "start_time": "2023-06-09T10:34:28.188Z"
   },
   {
    "duration": 15,
    "start_time": "2023-06-09T10:34:28.828Z"
   },
   {
    "duration": 6,
    "start_time": "2023-06-09T10:34:28.845Z"
   },
   {
    "duration": 23,
    "start_time": "2023-06-09T10:34:28.852Z"
   },
   {
    "duration": 7,
    "start_time": "2023-06-09T10:34:28.877Z"
   },
   {
    "duration": 174,
    "start_time": "2023-06-09T10:34:28.886Z"
   },
   {
    "duration": 22,
    "start_time": "2023-06-09T10:34:29.062Z"
   },
   {
    "duration": 11,
    "start_time": "2023-06-09T10:34:29.086Z"
   },
   {
    "duration": 18,
    "start_time": "2023-06-09T10:34:29.098Z"
   },
   {
    "duration": 1236,
    "start_time": "2023-06-09T10:34:29.117Z"
   },
   {
    "duration": 12,
    "start_time": "2023-06-09T10:34:30.354Z"
   },
   {
    "duration": 42,
    "start_time": "2023-06-09T10:34:30.367Z"
   },
   {
    "duration": 32,
    "start_time": "2023-06-09T10:34:30.411Z"
   },
   {
    "duration": 27,
    "start_time": "2023-06-09T10:34:30.444Z"
   },
   {
    "duration": 141,
    "start_time": "2023-06-09T10:34:30.473Z"
   },
   {
    "duration": 85,
    "start_time": "2023-06-09T10:34:30.616Z"
   },
   {
    "duration": 54,
    "start_time": "2023-06-09T10:34:30.703Z"
   },
   {
    "duration": 2067,
    "start_time": "2023-06-09T10:34:30.759Z"
   },
   {
    "duration": 24,
    "start_time": "2023-06-09T10:34:32.827Z"
   },
   {
    "duration": 16,
    "start_time": "2023-06-09T10:34:32.853Z"
   },
   {
    "duration": 18,
    "start_time": "2023-06-09T10:34:32.870Z"
   },
   {
    "duration": 4571,
    "start_time": "2023-06-09T10:34:37.453Z"
   },
   {
    "duration": 10,
    "start_time": "2023-06-09T10:35:04.923Z"
   },
   {
    "duration": 10,
    "start_time": "2023-06-09T10:36:12.280Z"
   },
   {
    "duration": 138,
    "start_time": "2023-06-09T10:36:27.544Z"
   },
   {
    "duration": 4,
    "start_time": "2023-06-09T10:36:48.992Z"
   },
   {
    "duration": 5,
    "start_time": "2023-06-09T10:38:03.958Z"
   },
   {
    "duration": 5,
    "start_time": "2023-06-09T10:38:28.671Z"
   },
   {
    "duration": 691,
    "start_time": "2023-06-09T10:38:28.678Z"
   },
   {
    "duration": 398,
    "start_time": "2023-06-09T10:38:29.371Z"
   },
   {
    "duration": 8,
    "start_time": "2023-06-09T10:38:29.770Z"
   },
   {
    "duration": 5,
    "start_time": "2023-06-09T10:38:29.781Z"
   },
   {
    "duration": 15,
    "start_time": "2023-06-09T10:38:29.787Z"
   },
   {
    "duration": 8,
    "start_time": "2023-06-09T10:38:29.803Z"
   },
   {
    "duration": 172,
    "start_time": "2023-06-09T10:38:29.812Z"
   },
   {
    "duration": 22,
    "start_time": "2023-06-09T10:38:29.986Z"
   },
   {
    "duration": 33,
    "start_time": "2023-06-09T10:38:30.010Z"
   },
   {
    "duration": 11,
    "start_time": "2023-06-09T10:38:30.045Z"
   },
   {
    "duration": 1172,
    "start_time": "2023-06-09T10:38:30.057Z"
   },
   {
    "duration": 17,
    "start_time": "2023-06-09T10:38:31.230Z"
   },
   {
    "duration": 48,
    "start_time": "2023-06-09T10:38:31.249Z"
   },
   {
    "duration": 33,
    "start_time": "2023-06-09T10:38:31.299Z"
   },
   {
    "duration": 24,
    "start_time": "2023-06-09T10:38:31.333Z"
   },
   {
    "duration": 32,
    "start_time": "2023-06-09T10:38:31.359Z"
   },
   {
    "duration": 13,
    "start_time": "2023-06-09T10:38:31.392Z"
   },
   {
    "duration": 27,
    "start_time": "2023-06-09T10:38:31.407Z"
   },
   {
    "duration": 2113,
    "start_time": "2023-06-09T10:38:31.436Z"
   },
   {
    "duration": 15,
    "start_time": "2023-06-09T10:38:33.551Z"
   },
   {
    "duration": 4,
    "start_time": "2023-06-09T10:38:33.567Z"
   },
   {
    "duration": 21,
    "start_time": "2023-06-09T10:38:33.572Z"
   },
   {
    "duration": 5,
    "start_time": "2023-06-09T10:38:42.655Z"
   },
   {
    "duration": 9,
    "start_time": "2023-06-09T10:38:45.807Z"
   },
   {
    "duration": 6,
    "start_time": "2023-06-09T10:39:20.606Z"
   },
   {
    "duration": 703,
    "start_time": "2023-06-09T10:39:20.613Z"
   },
   {
    "duration": 391,
    "start_time": "2023-06-09T10:39:21.318Z"
   },
   {
    "duration": 7,
    "start_time": "2023-06-09T10:39:21.711Z"
   },
   {
    "duration": 13,
    "start_time": "2023-06-09T10:39:21.719Z"
   },
   {
    "duration": 20,
    "start_time": "2023-06-09T10:39:21.733Z"
   },
   {
    "duration": 6,
    "start_time": "2023-06-09T10:39:21.755Z"
   },
   {
    "duration": 148,
    "start_time": "2023-06-09T10:39:21.762Z"
   },
   {
    "duration": 29,
    "start_time": "2023-06-09T10:39:21.913Z"
   },
   {
    "duration": 10,
    "start_time": "2023-06-09T10:39:21.944Z"
   },
   {
    "duration": 69,
    "start_time": "2023-06-09T10:39:21.956Z"
   },
   {
    "duration": 1209,
    "start_time": "2023-06-09T10:39:22.027Z"
   },
   {
    "duration": 14,
    "start_time": "2023-06-09T10:39:23.238Z"
   },
   {
    "duration": 34,
    "start_time": "2023-06-09T10:39:23.253Z"
   },
   {
    "duration": 14,
    "start_time": "2023-06-09T10:39:23.289Z"
   },
   {
    "duration": 13,
    "start_time": "2023-06-09T10:39:23.305Z"
   },
   {
    "duration": 49,
    "start_time": "2023-06-09T10:39:23.320Z"
   },
   {
    "duration": 5,
    "start_time": "2023-06-09T10:39:23.371Z"
   },
   {
    "duration": 13,
    "start_time": "2023-06-09T10:39:23.378Z"
   },
   {
    "duration": 2189,
    "start_time": "2023-06-09T10:39:23.393Z"
   },
   {
    "duration": 15,
    "start_time": "2023-06-09T10:39:25.583Z"
   },
   {
    "duration": 4,
    "start_time": "2023-06-09T10:39:25.600Z"
   },
   {
    "duration": 11,
    "start_time": "2023-06-09T10:39:25.605Z"
   },
   {
    "duration": 7,
    "start_time": "2023-06-09T10:39:30.462Z"
   },
   {
    "duration": 4475,
    "start_time": "2023-06-09T10:40:13.055Z"
   },
   {
    "duration": 13,
    "start_time": "2023-06-09T10:41:48.816Z"
   },
   {
    "duration": 6,
    "start_time": "2023-06-09T10:41:53.535Z"
   },
   {
    "duration": 698,
    "start_time": "2023-06-09T10:41:53.542Z"
   },
   {
    "duration": 423,
    "start_time": "2023-06-09T10:41:54.242Z"
   },
   {
    "duration": 8,
    "start_time": "2023-06-09T10:41:54.667Z"
   },
   {
    "duration": 8,
    "start_time": "2023-06-09T10:41:54.677Z"
   },
   {
    "duration": 16,
    "start_time": "2023-06-09T10:41:54.686Z"
   },
   {
    "duration": 10,
    "start_time": "2023-06-09T10:41:54.703Z"
   },
   {
    "duration": 179,
    "start_time": "2023-06-09T10:41:54.714Z"
   },
   {
    "duration": 21,
    "start_time": "2023-06-09T10:41:54.894Z"
   },
   {
    "duration": 25,
    "start_time": "2023-06-09T10:41:54.917Z"
   },
   {
    "duration": 10,
    "start_time": "2023-06-09T10:41:54.945Z"
   },
   {
    "duration": 1182,
    "start_time": "2023-06-09T10:41:54.957Z"
   },
   {
    "duration": 11,
    "start_time": "2023-06-09T10:41:56.141Z"
   },
   {
    "duration": 31,
    "start_time": "2023-06-09T10:41:56.153Z"
   },
   {
    "duration": 6,
    "start_time": "2023-06-09T10:41:56.185Z"
   },
   {
    "duration": 11,
    "start_time": "2023-06-09T10:41:56.192Z"
   },
   {
    "duration": 64,
    "start_time": "2023-06-09T10:41:56.205Z"
   },
   {
    "duration": 3,
    "start_time": "2023-06-09T10:41:56.271Z"
   },
   {
    "duration": 8,
    "start_time": "2023-06-09T10:41:56.276Z"
   },
   {
    "duration": 2237,
    "start_time": "2023-06-09T10:41:56.285Z"
   },
   {
    "duration": 23,
    "start_time": "2023-06-09T10:41:58.524Z"
   },
   {
    "duration": 22,
    "start_time": "2023-06-09T10:42:00.541Z"
   },
   {
    "duration": 149,
    "start_time": "2023-06-09T10:44:50.284Z"
   },
   {
    "duration": 14,
    "start_time": "2023-06-09T10:44:58.373Z"
   },
   {
    "duration": 5,
    "start_time": "2023-06-09T10:46:26.092Z"
   },
   {
    "duration": 714,
    "start_time": "2023-06-09T10:46:26.099Z"
   },
   {
    "duration": 429,
    "start_time": "2023-06-09T10:46:26.814Z"
   },
   {
    "duration": 8,
    "start_time": "2023-06-09T10:46:27.245Z"
   },
   {
    "duration": 6,
    "start_time": "2023-06-09T10:46:27.255Z"
   },
   {
    "duration": 15,
    "start_time": "2023-06-09T10:46:27.262Z"
   },
   {
    "duration": 6,
    "start_time": "2023-06-09T10:46:27.279Z"
   },
   {
    "duration": 181,
    "start_time": "2023-06-09T10:46:27.286Z"
   },
   {
    "duration": 24,
    "start_time": "2023-06-09T10:46:27.468Z"
   },
   {
    "duration": 10,
    "start_time": "2023-06-09T10:46:27.493Z"
   },
   {
    "duration": 43,
    "start_time": "2023-06-09T10:46:27.505Z"
   },
   {
    "duration": 1266,
    "start_time": "2023-06-09T10:46:27.550Z"
   },
   {
    "duration": 23,
    "start_time": "2023-06-09T10:46:28.819Z"
   },
   {
    "duration": 32,
    "start_time": "2023-06-09T10:46:28.845Z"
   },
   {
    "duration": 7,
    "start_time": "2023-06-09T10:46:28.878Z"
   },
   {
    "duration": 12,
    "start_time": "2023-06-09T10:46:28.887Z"
   },
   {
    "duration": 58,
    "start_time": "2023-06-09T10:46:28.900Z"
   },
   {
    "duration": 4,
    "start_time": "2023-06-09T10:46:28.960Z"
   },
   {
    "duration": 10,
    "start_time": "2023-06-09T10:46:28.965Z"
   },
   {
    "duration": 2174,
    "start_time": "2023-06-09T10:46:28.977Z"
   },
   {
    "duration": 19,
    "start_time": "2023-06-09T10:46:31.153Z"
   },
   {
    "duration": 73,
    "start_time": "2023-06-09T10:46:31.174Z"
   },
   {
    "duration": 15,
    "start_time": "2023-06-09T10:46:33.338Z"
   },
   {
    "duration": 6,
    "start_time": "2023-06-09T10:48:03.095Z"
   },
   {
    "duration": 699,
    "start_time": "2023-06-09T10:48:03.103Z"
   },
   {
    "duration": 422,
    "start_time": "2023-06-09T10:48:03.804Z"
   },
   {
    "duration": 15,
    "start_time": "2023-06-09T10:48:04.227Z"
   },
   {
    "duration": 15,
    "start_time": "2023-06-09T10:48:04.244Z"
   },
   {
    "duration": 28,
    "start_time": "2023-06-09T10:48:04.261Z"
   },
   {
    "duration": 21,
    "start_time": "2023-06-09T10:48:04.291Z"
   },
   {
    "duration": 292,
    "start_time": "2023-06-09T10:48:04.314Z"
   },
   {
    "duration": 34,
    "start_time": "2023-06-09T10:48:04.608Z"
   },
   {
    "duration": 11,
    "start_time": "2023-06-09T10:48:04.643Z"
   },
   {
    "duration": 10,
    "start_time": "2023-06-09T10:48:04.656Z"
   },
   {
    "duration": 1138,
    "start_time": "2023-06-09T10:48:04.668Z"
   },
   {
    "duration": 11,
    "start_time": "2023-06-09T10:48:05.808Z"
   },
   {
    "duration": 40,
    "start_time": "2023-06-09T10:48:05.820Z"
   },
   {
    "duration": 11,
    "start_time": "2023-06-09T10:48:05.862Z"
   },
   {
    "duration": 14,
    "start_time": "2023-06-09T10:48:05.875Z"
   },
   {
    "duration": 28,
    "start_time": "2023-06-09T10:48:05.891Z"
   },
   {
    "duration": 22,
    "start_time": "2023-06-09T10:48:05.921Z"
   },
   {
    "duration": 8,
    "start_time": "2023-06-09T10:48:05.945Z"
   },
   {
    "duration": 1992,
    "start_time": "2023-06-09T10:48:05.954Z"
   },
   {
    "duration": 17,
    "start_time": "2023-06-09T10:48:07.949Z"
   },
   {
    "duration": 25,
    "start_time": "2023-06-09T10:48:07.968Z"
   },
   {
    "duration": 16,
    "start_time": "2023-06-09T10:48:07.995Z"
   },
   {
    "duration": 6,
    "start_time": "2023-06-09T10:48:17.209Z"
   },
   {
    "duration": 8,
    "start_time": "2023-06-09T10:49:09.313Z"
   },
   {
    "duration": 5282,
    "start_time": "2023-06-09T10:50:05.856Z"
   },
   {
    "duration": 9,
    "start_time": "2023-06-09T10:50:37.185Z"
   },
   {
    "duration": 9,
    "start_time": "2023-06-09T10:52:58.913Z"
   },
   {
    "duration": 5,
    "start_time": "2023-06-09T10:53:12.598Z"
   },
   {
    "duration": 5,
    "start_time": "2023-06-09T10:53:23.719Z"
   },
   {
    "duration": 1692,
    "start_time": "2023-06-09T10:57:17.718Z"
   },
   {
    "duration": 736,
    "start_time": "2023-06-09T10:57:19.413Z"
   },
   {
    "duration": 420,
    "start_time": "2023-06-09T10:57:20.151Z"
   },
   {
    "duration": 9,
    "start_time": "2023-06-09T10:57:20.573Z"
   },
   {
    "duration": 7,
    "start_time": "2023-06-09T10:57:20.583Z"
   },
   {
    "duration": 15,
    "start_time": "2023-06-09T10:57:20.591Z"
   },
   {
    "duration": 33,
    "start_time": "2023-06-09T10:57:20.608Z"
   },
   {
    "duration": 145,
    "start_time": "2023-06-09T10:57:20.643Z"
   },
   {
    "duration": 20,
    "start_time": "2023-06-09T10:57:20.789Z"
   },
   {
    "duration": 32,
    "start_time": "2023-06-09T10:57:20.811Z"
   },
   {
    "duration": 11,
    "start_time": "2023-06-09T10:57:20.844Z"
   },
   {
    "duration": 1198,
    "start_time": "2023-06-09T10:57:20.856Z"
   },
   {
    "duration": 13,
    "start_time": "2023-06-09T10:57:22.056Z"
   },
   {
    "duration": 37,
    "start_time": "2023-06-09T10:57:22.071Z"
   },
   {
    "duration": 36,
    "start_time": "2023-06-09T10:57:22.110Z"
   },
   {
    "duration": 33,
    "start_time": "2023-06-09T10:57:22.149Z"
   },
   {
    "duration": 39,
    "start_time": "2023-06-09T10:57:22.183Z"
   },
   {
    "duration": 4,
    "start_time": "2023-06-09T10:57:22.224Z"
   },
   {
    "duration": 39,
    "start_time": "2023-06-09T10:57:22.229Z"
   },
   {
    "duration": 2115,
    "start_time": "2023-06-09T10:57:22.270Z"
   },
   {
    "duration": 18,
    "start_time": "2023-06-09T10:57:24.387Z"
   },
   {
    "duration": 62,
    "start_time": "2023-06-09T10:57:24.407Z"
   },
   {
    "duration": 22,
    "start_time": "2023-06-09T10:57:24.471Z"
   },
   {
    "duration": 8,
    "start_time": "2023-06-09T10:57:24.495Z"
   },
   {
    "duration": 799,
    "start_time": "2023-06-09T10:57:24.505Z"
   },
   {
    "duration": 617,
    "start_time": "2023-06-09T10:57:25.305Z"
   },
   {
    "duration": 7,
    "start_time": "2023-06-09T10:57:25.923Z"
   },
   {
    "duration": 1212,
    "start_time": "2023-06-09T10:57:25.941Z"
   },
   {
    "duration": 15,
    "start_time": "2023-06-09T10:58:32.421Z"
   },
   {
    "duration": 2075,
    "start_time": "2023-06-09T11:00:31.603Z"
   },
   {
    "duration": 13,
    "start_time": "2023-06-09T11:01:09.587Z"
   },
   {
    "duration": 164,
    "start_time": "2023-06-09T11:01:58.473Z"
   },
   {
    "duration": 15,
    "start_time": "2023-06-09T11:09:58.438Z"
   },
   {
    "duration": 6,
    "start_time": "2023-06-09T11:13:59.362Z"
   },
   {
    "duration": 759,
    "start_time": "2023-06-09T11:13:59.369Z"
   },
   {
    "duration": 429,
    "start_time": "2023-06-09T11:14:00.130Z"
   },
   {
    "duration": 7,
    "start_time": "2023-06-09T11:14:00.561Z"
   },
   {
    "duration": 18,
    "start_time": "2023-06-09T11:14:00.570Z"
   },
   {
    "duration": 33,
    "start_time": "2023-06-09T11:14:00.590Z"
   },
   {
    "duration": 29,
    "start_time": "2023-06-09T11:14:00.625Z"
   },
   {
    "duration": 301,
    "start_time": "2023-06-09T11:14:00.656Z"
   },
   {
    "duration": 20,
    "start_time": "2023-06-09T11:14:00.960Z"
   },
   {
    "duration": 16,
    "start_time": "2023-06-09T11:14:00.982Z"
   },
   {
    "duration": 29,
    "start_time": "2023-06-09T11:14:01.000Z"
   },
   {
    "duration": 1179,
    "start_time": "2023-06-09T11:14:01.031Z"
   },
   {
    "duration": 10,
    "start_time": "2023-06-09T11:14:02.212Z"
   },
   {
    "duration": 43,
    "start_time": "2023-06-09T11:14:02.224Z"
   },
   {
    "duration": 32,
    "start_time": "2023-06-09T11:14:02.269Z"
   },
   {
    "duration": 23,
    "start_time": "2023-06-09T11:14:02.302Z"
   },
   {
    "duration": 42,
    "start_time": "2023-06-09T11:14:02.326Z"
   },
   {
    "duration": 4,
    "start_time": "2023-06-09T11:14:02.369Z"
   },
   {
    "duration": 17,
    "start_time": "2023-06-09T11:14:02.375Z"
   },
   {
    "duration": 2026,
    "start_time": "2023-06-09T11:14:02.393Z"
   },
   {
    "duration": 21,
    "start_time": "2023-06-09T11:14:04.420Z"
   },
   {
    "duration": 10,
    "start_time": "2023-06-09T11:14:04.443Z"
   },
   {
    "duration": 42,
    "start_time": "2023-06-09T11:14:04.455Z"
   },
   {
    "duration": 15,
    "start_time": "2023-06-09T11:14:04.501Z"
   },
   {
    "duration": 600,
    "start_time": "2023-06-09T11:14:04.518Z"
   },
   {
    "duration": 824,
    "start_time": "2023-06-09T11:14:05.120Z"
   },
   {
    "duration": 7,
    "start_time": "2023-06-09T11:14:05.946Z"
   },
   {
    "duration": 1230,
    "start_time": "2023-06-09T11:14:05.954Z"
   },
   {
    "duration": 4,
    "start_time": "2023-06-09T11:14:07.186Z"
   },
   {
    "duration": 16,
    "start_time": "2023-06-09T11:14:07.191Z"
   },
   {
    "duration": 28,
    "start_time": "2023-06-09T11:14:07.209Z"
   },
   {
    "duration": 10,
    "start_time": "2023-06-09T11:14:07.239Z"
   },
   {
    "duration": 19,
    "start_time": "2023-06-09T11:14:07.251Z"
   },
   {
    "duration": 32,
    "start_time": "2023-06-09T11:14:07.272Z"
   },
   {
    "duration": 15,
    "start_time": "2023-06-09T11:14:07.306Z"
   },
   {
    "duration": 33,
    "start_time": "2023-06-09T11:14:07.322Z"
   },
   {
    "duration": 13,
    "start_time": "2023-06-09T11:14:55.907Z"
   },
   {
    "duration": 6,
    "start_time": "2023-06-09T11:15:49.321Z"
   },
   {
    "duration": 779,
    "start_time": "2023-06-09T11:15:49.328Z"
   },
   {
    "duration": 451,
    "start_time": "2023-06-09T11:15:50.110Z"
   },
   {
    "duration": 8,
    "start_time": "2023-06-09T11:15:50.563Z"
   },
   {
    "duration": 9,
    "start_time": "2023-06-09T11:15:50.573Z"
   },
   {
    "duration": 16,
    "start_time": "2023-06-09T11:15:50.584Z"
   },
   {
    "duration": 32,
    "start_time": "2023-06-09T11:15:50.601Z"
   },
   {
    "duration": 141,
    "start_time": "2023-06-09T11:15:50.635Z"
   },
   {
    "duration": 22,
    "start_time": "2023-06-09T11:15:50.778Z"
   },
   {
    "duration": 11,
    "start_time": "2023-06-09T11:15:50.802Z"
   },
   {
    "duration": 37,
    "start_time": "2023-06-09T11:15:50.815Z"
   },
   {
    "duration": 1139,
    "start_time": "2023-06-09T11:15:50.854Z"
   },
   {
    "duration": 12,
    "start_time": "2023-06-09T11:15:51.994Z"
   },
   {
    "duration": 40,
    "start_time": "2023-06-09T11:15:52.009Z"
   },
   {
    "duration": 20,
    "start_time": "2023-06-09T11:15:52.050Z"
   },
   {
    "duration": 12,
    "start_time": "2023-06-09T11:15:52.071Z"
   },
   {
    "duration": 32,
    "start_time": "2023-06-09T11:15:52.085Z"
   },
   {
    "duration": 25,
    "start_time": "2023-06-09T11:15:52.119Z"
   },
   {
    "duration": 15,
    "start_time": "2023-06-09T11:15:52.146Z"
   },
   {
    "duration": 2129,
    "start_time": "2023-06-09T11:15:52.162Z"
   },
   {
    "duration": 18,
    "start_time": "2023-06-09T11:15:54.292Z"
   },
   {
    "duration": 30,
    "start_time": "2023-06-09T11:15:54.312Z"
   },
   {
    "duration": 13,
    "start_time": "2023-06-09T11:15:54.343Z"
   },
   {
    "duration": 5,
    "start_time": "2023-06-09T11:15:54.357Z"
   },
   {
    "duration": 631,
    "start_time": "2023-06-09T11:15:54.363Z"
   },
   {
    "duration": 795,
    "start_time": "2023-06-09T11:15:54.996Z"
   },
   {
    "duration": 8,
    "start_time": "2023-06-09T11:15:55.793Z"
   },
   {
    "duration": 1236,
    "start_time": "2023-06-09T11:15:55.803Z"
   },
   {
    "duration": 4,
    "start_time": "2023-06-09T11:15:57.041Z"
   },
   {
    "duration": 9,
    "start_time": "2023-06-09T11:15:57.047Z"
   },
   {
    "duration": 17,
    "start_time": "2023-06-09T11:15:57.057Z"
   },
   {
    "duration": 15,
    "start_time": "2023-06-09T11:15:57.075Z"
   },
   {
    "duration": 9,
    "start_time": "2023-06-09T11:15:57.092Z"
   },
   {
    "duration": 34,
    "start_time": "2023-06-09T11:15:57.102Z"
   },
   {
    "duration": 16,
    "start_time": "2023-06-09T11:15:57.138Z"
   },
   {
    "duration": 46,
    "start_time": "2023-06-09T11:15:57.156Z"
   },
   {
    "duration": 1405,
    "start_time": "2023-06-09T11:21:24.495Z"
   },
   {
    "duration": 716,
    "start_time": "2023-06-09T11:21:25.903Z"
   },
   {
    "duration": 418,
    "start_time": "2023-06-09T11:21:26.620Z"
   },
   {
    "duration": 9,
    "start_time": "2023-06-09T11:21:27.042Z"
   },
   {
    "duration": 9,
    "start_time": "2023-06-09T11:21:27.052Z"
   },
   {
    "duration": 18,
    "start_time": "2023-06-09T11:21:27.063Z"
   },
   {
    "duration": 5,
    "start_time": "2023-06-09T11:21:27.083Z"
   },
   {
    "duration": 161,
    "start_time": "2023-06-09T11:21:27.090Z"
   },
   {
    "duration": 20,
    "start_time": "2023-06-09T11:21:27.253Z"
   },
   {
    "duration": 12,
    "start_time": "2023-06-09T11:21:27.275Z"
   },
   {
    "duration": 10,
    "start_time": "2023-06-09T11:21:27.288Z"
   },
   {
    "duration": 1315,
    "start_time": "2023-06-09T11:21:27.299Z"
   },
   {
    "duration": 11,
    "start_time": "2023-06-09T11:21:28.616Z"
   },
   {
    "duration": 43,
    "start_time": "2023-06-09T11:21:28.629Z"
   },
   {
    "duration": 35,
    "start_time": "2023-06-09T11:21:28.674Z"
   },
   {
    "duration": 11,
    "start_time": "2023-06-09T11:21:28.711Z"
   },
   {
    "duration": 32,
    "start_time": "2023-06-09T11:21:28.724Z"
   },
   {
    "duration": 4,
    "start_time": "2023-06-09T11:21:28.758Z"
   },
   {
    "duration": 11,
    "start_time": "2023-06-09T11:21:28.764Z"
   },
   {
    "duration": 2017,
    "start_time": "2023-06-09T11:21:28.777Z"
   },
   {
    "duration": 16,
    "start_time": "2023-06-09T11:21:30.796Z"
   },
   {
    "duration": 30,
    "start_time": "2023-06-09T11:21:30.813Z"
   },
   {
    "duration": 172,
    "start_time": "2023-06-09T11:21:30.845Z"
   },
   {
    "duration": 5,
    "start_time": "2023-06-09T11:21:31.019Z"
   },
   {
    "duration": 608,
    "start_time": "2023-06-09T11:21:31.025Z"
   },
   {
    "duration": 604,
    "start_time": "2023-06-09T11:21:31.635Z"
   },
   {
    "duration": 6,
    "start_time": "2023-06-09T11:21:32.241Z"
   },
   {
    "duration": 1214,
    "start_time": "2023-06-09T11:21:32.250Z"
   },
   {
    "duration": 4,
    "start_time": "2023-06-09T11:21:33.466Z"
   },
   {
    "duration": 16,
    "start_time": "2023-06-09T11:21:33.472Z"
   },
   {
    "duration": 30,
    "start_time": "2023-06-09T11:21:33.490Z"
   },
   {
    "duration": 22,
    "start_time": "2023-06-09T11:21:33.522Z"
   },
   {
    "duration": 28,
    "start_time": "2023-06-09T11:21:33.545Z"
   },
   {
    "duration": 36,
    "start_time": "2023-06-09T11:21:33.574Z"
   },
   {
    "duration": 20,
    "start_time": "2023-06-09T11:21:33.612Z"
   },
   {
    "duration": 42,
    "start_time": "2023-06-09T11:21:33.634Z"
   },
   {
    "duration": 8,
    "start_time": "2023-06-09T11:21:33.678Z"
   },
   {
    "duration": 1858,
    "start_time": "2023-06-09T11:21:33.688Z"
   },
   {
    "duration": 3,
    "start_time": "2023-06-09T11:21:35.548Z"
   },
   {
    "duration": 89,
    "start_time": "2023-06-09T11:21:35.553Z"
   },
   {
    "duration": 9,
    "start_time": "2023-06-09T11:21:35.645Z"
   },
   {
    "duration": 8800,
    "start_time": "2023-06-09T11:21:35.656Z"
   },
   {
    "duration": 303010,
    "start_time": "2023-06-09T11:21:44.457Z"
   },
   {
    "duration": 1477094,
    "start_time": "2023-06-09T11:26:47.470Z"
   },
   {
    "duration": 6475,
    "start_time": "2023-06-09T11:51:24.566Z"
   },
   {
    "duration": 402948,
    "start_time": "2023-06-09T11:51:31.045Z"
   },
   {
    "duration": 2043684,
    "start_time": "2023-06-09T11:58:13.995Z"
   },
   {
    "duration": 9,
    "start_time": "2023-06-09T12:32:17.680Z"
   },
   {
    "duration": 13,
    "start_time": "2023-06-09T12:32:17.691Z"
   },
   {
    "duration": 24,
    "start_time": "2023-06-09T12:32:17.705Z"
   },
   {
    "duration": 17,
    "start_time": "2023-06-09T12:32:17.731Z"
   },
   {
    "duration": 12,
    "start_time": "2023-06-09T12:32:17.750Z"
   },
   {
    "duration": 21,
    "start_time": "2023-06-09T12:32:17.765Z"
   },
   {
    "duration": 5,
    "start_time": "2023-06-09T12:33:36.630Z"
   },
   {
    "duration": 19,
    "start_time": "2023-06-09T12:33:46.135Z"
   },
   {
    "duration": 11,
    "start_time": "2023-06-09T12:33:48.110Z"
   },
   {
    "duration": 3,
    "start_time": "2023-06-09T12:33:49.885Z"
   },
   {
    "duration": 10,
    "start_time": "2023-06-09T12:33:57.422Z"
   },
   {
    "duration": 11,
    "start_time": "2023-06-09T12:36:52.685Z"
   },
   {
    "duration": 104,
    "start_time": "2023-06-09T12:36:57.717Z"
   },
   {
    "duration": 18,
    "start_time": "2023-06-09T12:37:04.293Z"
   },
   {
    "duration": 1545,
    "start_time": "2023-06-09T12:41:45.242Z"
   },
   {
    "duration": 708,
    "start_time": "2023-06-09T12:41:46.789Z"
   },
   {
    "duration": 435,
    "start_time": "2023-06-09T12:41:47.499Z"
   },
   {
    "duration": 8,
    "start_time": "2023-06-09T12:41:47.941Z"
   },
   {
    "duration": 16,
    "start_time": "2023-06-09T12:41:47.950Z"
   },
   {
    "duration": 19,
    "start_time": "2023-06-09T12:41:47.967Z"
   },
   {
    "duration": 12,
    "start_time": "2023-06-09T12:41:47.987Z"
   },
   {
    "duration": 177,
    "start_time": "2023-06-09T12:41:48.000Z"
   },
   {
    "duration": 22,
    "start_time": "2023-06-09T12:41:48.178Z"
   },
   {
    "duration": 12,
    "start_time": "2023-06-09T12:41:48.202Z"
   },
   {
    "duration": 14,
    "start_time": "2023-06-09T12:41:48.215Z"
   },
   {
    "duration": 1470,
    "start_time": "2023-06-09T12:41:48.231Z"
   },
   {
    "duration": 13,
    "start_time": "2023-06-09T12:41:49.703Z"
   },
   {
    "duration": 42,
    "start_time": "2023-06-09T12:41:49.718Z"
   },
   {
    "duration": 9,
    "start_time": "2023-06-09T12:41:49.762Z"
   },
   {
    "duration": 14,
    "start_time": "2023-06-09T12:41:49.772Z"
   },
   {
    "duration": 31,
    "start_time": "2023-06-09T12:41:49.788Z"
   },
   {
    "duration": 22,
    "start_time": "2023-06-09T12:41:49.821Z"
   },
   {
    "duration": 3,
    "start_time": "2023-06-09T12:41:49.845Z"
   },
   {
    "duration": 1966,
    "start_time": "2023-06-09T12:41:49.849Z"
   },
   {
    "duration": 24,
    "start_time": "2023-06-09T12:41:51.817Z"
   },
   {
    "duration": 12,
    "start_time": "2023-06-09T12:41:51.843Z"
   },
   {
    "duration": 150,
    "start_time": "2023-06-09T12:41:51.856Z"
   },
   {
    "duration": 4,
    "start_time": "2023-06-09T12:41:52.008Z"
   },
   {
    "duration": 628,
    "start_time": "2023-06-09T12:41:52.014Z"
   },
   {
    "duration": 600,
    "start_time": "2023-06-09T12:41:52.643Z"
   },
   {
    "duration": 7,
    "start_time": "2023-06-09T12:41:53.244Z"
   },
   {
    "duration": 1183,
    "start_time": "2023-06-09T12:41:53.254Z"
   },
   {
    "duration": 3,
    "start_time": "2023-06-09T12:41:54.441Z"
   },
   {
    "duration": 28,
    "start_time": "2023-06-09T12:41:54.446Z"
   },
   {
    "duration": 10,
    "start_time": "2023-06-09T12:41:54.476Z"
   },
   {
    "duration": 11,
    "start_time": "2023-06-09T12:41:54.488Z"
   },
   {
    "duration": 32,
    "start_time": "2023-06-09T12:41:54.501Z"
   },
   {
    "duration": 35,
    "start_time": "2023-06-09T12:41:54.534Z"
   },
   {
    "duration": 17,
    "start_time": "2023-06-09T12:41:54.571Z"
   },
   {
    "duration": 46,
    "start_time": "2023-06-09T12:41:54.590Z"
   },
   {
    "duration": 4,
    "start_time": "2023-06-09T12:41:54.638Z"
   },
   {
    "duration": 2012,
    "start_time": "2023-06-09T12:41:54.643Z"
   },
   {
    "duration": 3,
    "start_time": "2023-06-09T12:41:56.743Z"
   },
   {
    "duration": 10,
    "start_time": "2023-06-09T12:41:56.748Z"
   },
   {
    "duration": 10,
    "start_time": "2023-06-09T12:41:56.759Z"
   },
   {
    "duration": 9383,
    "start_time": "2023-06-09T12:41:56.771Z"
   },
   {
    "duration": 307522,
    "start_time": "2023-06-09T12:42:06.156Z"
   },
   {
    "duration": 1546322,
    "start_time": "2023-06-09T12:47:13.680Z"
   },
   {
    "duration": 13352,
    "start_time": "2023-06-09T13:13:00.003Z"
   },
   {
    "duration": 420904,
    "start_time": "2023-06-09T13:13:13.356Z"
   },
   {
    "duration": 2073290,
    "start_time": "2023-06-09T13:20:14.262Z"
   },
   {
    "duration": 8,
    "start_time": "2023-06-09T13:54:47.554Z"
   },
   {
    "duration": 14,
    "start_time": "2023-06-09T13:54:47.564Z"
   },
   {
    "duration": 20,
    "start_time": "2023-06-09T13:54:47.579Z"
   },
   {
    "duration": 10,
    "start_time": "2023-06-09T13:54:47.601Z"
   },
   {
    "duration": 4,
    "start_time": "2023-06-09T13:54:47.612Z"
   },
   {
    "duration": 26,
    "start_time": "2023-06-09T13:54:47.618Z"
   },
   {
    "duration": 1566,
    "start_time": "2023-06-09T14:12:12.931Z"
   },
   {
    "duration": 748,
    "start_time": "2023-06-09T14:12:14.499Z"
   },
   {
    "duration": 457,
    "start_time": "2023-06-09T14:12:15.249Z"
   },
   {
    "duration": 9,
    "start_time": "2023-06-09T14:12:15.708Z"
   },
   {
    "duration": 24,
    "start_time": "2023-06-09T14:12:15.718Z"
   },
   {
    "duration": 15,
    "start_time": "2023-06-09T14:12:15.744Z"
   },
   {
    "duration": 21,
    "start_time": "2023-06-09T14:12:15.761Z"
   },
   {
    "duration": 157,
    "start_time": "2023-06-09T14:12:15.783Z"
   },
   {
    "duration": 22,
    "start_time": "2023-06-09T14:12:15.942Z"
   },
   {
    "duration": 14,
    "start_time": "2023-06-09T14:12:15.966Z"
   },
   {
    "duration": 140,
    "start_time": "2023-06-09T14:12:15.981Z"
   },
   {
    "duration": 0,
    "start_time": "2023-06-09T14:12:16.125Z"
   },
   {
    "duration": 0,
    "start_time": "2023-06-09T14:12:16.127Z"
   },
   {
    "duration": 0,
    "start_time": "2023-06-09T14:12:16.128Z"
   },
   {
    "duration": 0,
    "start_time": "2023-06-09T14:12:16.130Z"
   },
   {
    "duration": 0,
    "start_time": "2023-06-09T14:12:16.141Z"
   },
   {
    "duration": 0,
    "start_time": "2023-06-09T14:12:16.143Z"
   },
   {
    "duration": 0,
    "start_time": "2023-06-09T14:12:16.144Z"
   },
   {
    "duration": 0,
    "start_time": "2023-06-09T14:12:16.146Z"
   },
   {
    "duration": 0,
    "start_time": "2023-06-09T14:12:16.147Z"
   },
   {
    "duration": 1,
    "start_time": "2023-06-09T14:12:16.147Z"
   },
   {
    "duration": 0,
    "start_time": "2023-06-09T14:12:16.149Z"
   },
   {
    "duration": 0,
    "start_time": "2023-06-09T14:12:16.150Z"
   },
   {
    "duration": 0,
    "start_time": "2023-06-09T14:12:16.151Z"
   },
   {
    "duration": 0,
    "start_time": "2023-06-09T14:12:16.152Z"
   },
   {
    "duration": 0,
    "start_time": "2023-06-09T14:12:16.153Z"
   },
   {
    "duration": 0,
    "start_time": "2023-06-09T14:12:16.154Z"
   },
   {
    "duration": 0,
    "start_time": "2023-06-09T14:12:16.155Z"
   },
   {
    "duration": 1,
    "start_time": "2023-06-09T14:12:16.156Z"
   },
   {
    "duration": 0,
    "start_time": "2023-06-09T14:12:16.158Z"
   },
   {
    "duration": 0,
    "start_time": "2023-06-09T14:12:16.159Z"
   },
   {
    "duration": 0,
    "start_time": "2023-06-09T14:12:16.160Z"
   },
   {
    "duration": 0,
    "start_time": "2023-06-09T14:12:16.161Z"
   },
   {
    "duration": 0,
    "start_time": "2023-06-09T14:12:16.162Z"
   },
   {
    "duration": 0,
    "start_time": "2023-06-09T14:12:16.164Z"
   },
   {
    "duration": 0,
    "start_time": "2023-06-09T14:12:16.165Z"
   },
   {
    "duration": 0,
    "start_time": "2023-06-09T14:12:16.166Z"
   },
   {
    "duration": 0,
    "start_time": "2023-06-09T14:12:16.168Z"
   },
   {
    "duration": 0,
    "start_time": "2023-06-09T14:12:16.170Z"
   },
   {
    "duration": 0,
    "start_time": "2023-06-09T14:12:16.171Z"
   },
   {
    "duration": 0,
    "start_time": "2023-06-09T14:12:16.173Z"
   },
   {
    "duration": 0,
    "start_time": "2023-06-09T14:12:16.174Z"
   },
   {
    "duration": 0,
    "start_time": "2023-06-09T14:12:16.176Z"
   },
   {
    "duration": 0,
    "start_time": "2023-06-09T14:12:16.177Z"
   },
   {
    "duration": 0,
    "start_time": "2023-06-09T14:12:16.179Z"
   },
   {
    "duration": 0,
    "start_time": "2023-06-09T14:12:16.242Z"
   },
   {
    "duration": 0,
    "start_time": "2023-06-09T14:12:16.244Z"
   },
   {
    "duration": 0,
    "start_time": "2023-06-09T14:12:16.245Z"
   },
   {
    "duration": 0,
    "start_time": "2023-06-09T14:12:16.247Z"
   },
   {
    "duration": 0,
    "start_time": "2023-06-09T14:12:16.248Z"
   },
   {
    "duration": 1455,
    "start_time": "2023-06-09T14:14:04.767Z"
   },
   {
    "duration": 726,
    "start_time": "2023-06-09T14:14:06.224Z"
   },
   {
    "duration": 415,
    "start_time": "2023-06-09T14:14:06.951Z"
   },
   {
    "duration": 8,
    "start_time": "2023-06-09T14:14:07.368Z"
   },
   {
    "duration": 5,
    "start_time": "2023-06-09T14:14:07.378Z"
   },
   {
    "duration": 15,
    "start_time": "2023-06-09T14:14:07.384Z"
   },
   {
    "duration": 7,
    "start_time": "2023-06-09T14:14:07.401Z"
   },
   {
    "duration": 168,
    "start_time": "2023-06-09T14:14:07.410Z"
   },
   {
    "duration": 19,
    "start_time": "2023-06-09T14:14:07.580Z"
   },
   {
    "duration": 12,
    "start_time": "2023-06-09T14:14:07.602Z"
   },
   {
    "duration": 52,
    "start_time": "2023-06-09T14:14:07.615Z"
   },
   {
    "duration": 6,
    "start_time": "2023-06-09T14:14:07.668Z"
   },
   {
    "duration": 11,
    "start_time": "2023-06-09T14:14:07.675Z"
   },
   {
    "duration": 54,
    "start_time": "2023-06-09T14:14:07.687Z"
   },
   {
    "duration": 4,
    "start_time": "2023-06-09T14:14:07.743Z"
   },
   {
    "duration": 7,
    "start_time": "2023-06-09T14:14:07.748Z"
   },
   {
    "duration": 2055,
    "start_time": "2023-06-09T14:14:07.756Z"
   },
   {
    "duration": 16,
    "start_time": "2023-06-09T14:14:09.812Z"
   },
   {
    "duration": 21,
    "start_time": "2023-06-09T14:14:09.829Z"
   },
   {
    "duration": 11,
    "start_time": "2023-06-09T14:14:09.852Z"
   },
   {
    "duration": 10,
    "start_time": "2023-06-09T14:14:09.865Z"
   },
   {
    "duration": 772,
    "start_time": "2023-06-09T14:14:09.877Z"
   },
   {
    "duration": 583,
    "start_time": "2023-06-09T14:14:10.651Z"
   },
   {
    "duration": 9,
    "start_time": "2023-06-09T14:14:11.236Z"
   },
   {
    "duration": 1219,
    "start_time": "2023-06-09T14:14:11.246Z"
   },
   {
    "duration": 4,
    "start_time": "2023-06-09T14:14:12.467Z"
   },
   {
    "duration": 7,
    "start_time": "2023-06-09T14:14:12.472Z"
   },
   {
    "duration": 10,
    "start_time": "2023-06-09T14:14:12.482Z"
   },
   {
    "duration": 8,
    "start_time": "2023-06-09T14:14:12.493Z"
   },
   {
    "duration": 12,
    "start_time": "2023-06-09T14:14:12.502Z"
   },
   {
    "duration": 33,
    "start_time": "2023-06-09T14:14:12.516Z"
   },
   {
    "duration": 17,
    "start_time": "2023-06-09T14:14:12.551Z"
   },
   {
    "duration": 35,
    "start_time": "2023-06-09T14:14:12.570Z"
   },
   {
    "duration": 3,
    "start_time": "2023-06-09T14:14:12.607Z"
   },
   {
    "duration": 2132,
    "start_time": "2023-06-09T14:14:12.611Z"
   },
   {
    "duration": 3,
    "start_time": "2023-06-09T14:14:14.745Z"
   },
   {
    "duration": 9,
    "start_time": "2023-06-09T14:14:14.750Z"
   },
   {
    "duration": 5,
    "start_time": "2023-06-09T14:14:14.761Z"
   },
   {
    "duration": 8284,
    "start_time": "2023-06-09T14:14:14.767Z"
   },
   {
    "duration": 327734,
    "start_time": "2023-06-09T14:14:23.053Z"
   },
   {
    "duration": 1668627,
    "start_time": "2023-06-09T14:19:50.788Z"
   },
   {
    "duration": 9150,
    "start_time": "2023-06-09T14:47:39.417Z"
   },
   {
    "duration": 466559,
    "start_time": "2023-06-09T14:47:48.643Z"
   },
   {
    "duration": 2387301,
    "start_time": "2023-06-09T14:55:35.204Z"
   },
   {
    "duration": 9,
    "start_time": "2023-06-09T15:35:22.506Z"
   },
   {
    "duration": 16,
    "start_time": "2023-06-09T15:35:22.516Z"
   },
   {
    "duration": 56,
    "start_time": "2023-06-09T15:35:22.547Z"
   },
   {
    "duration": 15,
    "start_time": "2023-06-09T15:35:22.605Z"
   },
   {
    "duration": 4,
    "start_time": "2023-06-09T15:35:22.621Z"
   },
   {
    "duration": 18,
    "start_time": "2023-06-09T15:35:22.627Z"
   },
   {
    "duration": 153,
    "start_time": "2023-06-09T15:46:25.974Z"
   },
   {
    "duration": 18,
    "start_time": "2023-06-09T15:46:34.531Z"
   },
   {
    "duration": 2019,
    "start_time": "2023-06-09T15:46:43.777Z"
   },
   {
    "duration": 41,
    "start_time": "2023-06-09T15:47:17.229Z"
   },
   {
    "duration": 36,
    "start_time": "2023-06-09T15:47:39.298Z"
   },
   {
    "duration": 8,
    "start_time": "2023-06-09T15:51:36.060Z"
   },
   {
    "duration": 3,
    "start_time": "2023-06-09T15:51:55.520Z"
   },
   {
    "duration": 19,
    "start_time": "2023-06-09T15:52:00.744Z"
   },
   {
    "duration": 22,
    "start_time": "2023-06-09T15:52:23.440Z"
   },
   {
    "duration": 181,
    "start_time": "2023-06-09T15:52:39.521Z"
   },
   {
    "duration": 9,
    "start_time": "2023-06-09T15:52:48.808Z"
   },
   {
    "duration": 12,
    "start_time": "2023-06-09T15:53:25.287Z"
   },
   {
    "duration": 13,
    "start_time": "2023-06-09T15:53:34.887Z"
   },
   {
    "duration": 8,
    "start_time": "2023-06-09T15:54:07.216Z"
   },
   {
    "duration": 10,
    "start_time": "2023-06-09T15:54:15.261Z"
   },
   {
    "duration": 193,
    "start_time": "2023-06-09T15:54:30.934Z"
   },
   {
    "duration": 7,
    "start_time": "2023-06-09T15:54:55.110Z"
   },
   {
    "duration": 87,
    "start_time": "2023-06-09T15:55:09.293Z"
   },
   {
    "duration": 12,
    "start_time": "2023-06-09T15:57:22.500Z"
   },
   {
    "duration": 1143,
    "start_time": "2023-06-09T15:57:32.269Z"
   },
   {
    "duration": 33,
    "start_time": "2023-06-09T15:58:21.996Z"
   },
   {
    "duration": 919,
    "start_time": "2023-06-09T15:58:26.995Z"
   },
   {
    "duration": 18,
    "start_time": "2023-06-09T15:59:07.369Z"
   },
   {
    "duration": 2284,
    "start_time": "2023-06-09T15:59:29.764Z"
   },
   {
    "duration": 1779,
    "start_time": "2023-06-09T15:59:42.339Z"
   },
   {
    "duration": 449,
    "start_time": "2023-06-09T15:59:56.380Z"
   },
   {
    "duration": 10,
    "start_time": "2023-06-09T16:04:13.121Z"
   },
   {
    "duration": 8,
    "start_time": "2023-06-09T16:04:32.169Z"
   },
   {
    "duration": 8,
    "start_time": "2023-06-09T16:04:38.032Z"
   },
   {
    "duration": 10,
    "start_time": "2023-06-09T16:04:42.761Z"
   },
   {
    "duration": 7,
    "start_time": "2023-06-09T16:05:13.089Z"
   },
   {
    "duration": 18,
    "start_time": "2023-06-09T16:05:35.672Z"
   },
   {
    "duration": 14,
    "start_time": "2023-06-09T16:08:32.439Z"
   },
   {
    "duration": 23,
    "start_time": "2023-06-09T16:08:47.103Z"
   },
   {
    "duration": 10,
    "start_time": "2023-06-09T16:09:11.206Z"
   },
   {
    "duration": 9,
    "start_time": "2023-06-09T16:11:52.635Z"
   },
   {
    "duration": 845,
    "start_time": "2023-06-09T16:11:52.646Z"
   },
   {
    "duration": 489,
    "start_time": "2023-06-09T16:11:53.493Z"
   },
   {
    "duration": 8,
    "start_time": "2023-06-09T16:11:53.984Z"
   },
   {
    "duration": 7,
    "start_time": "2023-06-09T16:11:53.994Z"
   },
   {
    "duration": 43,
    "start_time": "2023-06-09T16:11:54.002Z"
   },
   {
    "duration": 28,
    "start_time": "2023-06-09T16:11:54.047Z"
   },
   {
    "duration": 205,
    "start_time": "2023-06-09T16:11:54.076Z"
   },
   {
    "duration": 25,
    "start_time": "2023-06-09T16:11:54.283Z"
   },
   {
    "duration": 12,
    "start_time": "2023-06-09T16:11:54.310Z"
   },
   {
    "duration": 62,
    "start_time": "2023-06-09T16:11:54.325Z"
   },
   {
    "duration": 9,
    "start_time": "2023-06-09T16:11:54.389Z"
   },
   {
    "duration": 22,
    "start_time": "2023-06-09T16:11:54.400Z"
   },
   {
    "duration": 50,
    "start_time": "2023-06-09T16:11:54.442Z"
   },
   {
    "duration": 12,
    "start_time": "2023-06-09T16:11:54.494Z"
   },
   {
    "duration": 13,
    "start_time": "2023-06-09T16:11:54.508Z"
   },
   {
    "duration": 2490,
    "start_time": "2023-06-09T16:11:54.523Z"
   },
   {
    "duration": 32,
    "start_time": "2023-06-09T16:11:57.015Z"
   },
   {
    "duration": 15,
    "start_time": "2023-06-09T16:11:57.049Z"
   },
   {
    "duration": 21,
    "start_time": "2023-06-09T16:11:57.066Z"
   },
   {
    "duration": 58,
    "start_time": "2023-06-09T16:11:57.089Z"
   },
   {
    "duration": 18,
    "start_time": "2023-06-09T16:11:57.149Z"
   },
   {
    "duration": 101,
    "start_time": "2023-06-09T16:11:57.168Z"
   },
   {
    "duration": 11,
    "start_time": "2023-06-09T16:11:57.272Z"
   },
   {
    "duration": 6,
    "start_time": "2023-06-09T16:11:57.285Z"
   },
   {
    "duration": 907,
    "start_time": "2023-06-09T16:11:57.292Z"
   },
   {
    "duration": 815,
    "start_time": "2023-06-09T16:11:58.200Z"
   },
   {
    "duration": 8,
    "start_time": "2023-06-09T16:11:59.016Z"
   },
   {
    "duration": 1425,
    "start_time": "2023-06-09T16:11:59.026Z"
   },
   {
    "duration": 6,
    "start_time": "2023-06-09T16:17:25.401Z"
   },
   {
    "duration": 902,
    "start_time": "2023-06-09T16:17:25.409Z"
   },
   {
    "duration": 467,
    "start_time": "2023-06-09T16:17:26.313Z"
   },
   {
    "duration": 8,
    "start_time": "2023-06-09T16:17:26.782Z"
   },
   {
    "duration": 6,
    "start_time": "2023-06-09T16:17:26.792Z"
   },
   {
    "duration": 21,
    "start_time": "2023-06-09T16:17:26.800Z"
   },
   {
    "duration": 30,
    "start_time": "2023-06-09T16:17:26.822Z"
   },
   {
    "duration": 179,
    "start_time": "2023-06-09T16:17:26.853Z"
   },
   {
    "duration": 30,
    "start_time": "2023-06-09T16:17:27.033Z"
   },
   {
    "duration": 29,
    "start_time": "2023-06-09T16:17:27.064Z"
   },
   {
    "duration": 32,
    "start_time": "2023-06-09T16:17:27.096Z"
   },
   {
    "duration": 14,
    "start_time": "2023-06-09T16:17:27.129Z"
   },
   {
    "duration": 47,
    "start_time": "2023-06-09T16:17:27.145Z"
   },
   {
    "duration": 39,
    "start_time": "2023-06-09T16:17:27.194Z"
   },
   {
    "duration": 4,
    "start_time": "2023-06-09T16:17:27.234Z"
   },
   {
    "duration": 36,
    "start_time": "2023-06-09T16:17:27.240Z"
   },
   {
    "duration": 2528,
    "start_time": "2023-06-09T16:17:27.278Z"
   },
   {
    "duration": 18,
    "start_time": "2023-06-09T16:17:29.808Z"
   },
   {
    "duration": 20,
    "start_time": "2023-06-09T16:17:29.828Z"
   },
   {
    "duration": 30,
    "start_time": "2023-06-09T16:17:29.851Z"
   },
   {
    "duration": 49,
    "start_time": "2023-06-09T16:17:29.883Z"
   },
   {
    "duration": 22,
    "start_time": "2023-06-09T16:17:29.934Z"
   },
   {
    "duration": 101,
    "start_time": "2023-06-09T16:17:29.959Z"
   },
   {
    "duration": 41,
    "start_time": "2023-06-09T16:17:30.062Z"
   },
   {
    "duration": 10,
    "start_time": "2023-06-09T16:17:30.105Z"
   },
   {
    "duration": 1066,
    "start_time": "2023-06-09T16:17:30.117Z"
   },
   {
    "duration": 747,
    "start_time": "2023-06-09T16:17:31.185Z"
   },
   {
    "duration": 17,
    "start_time": "2023-06-09T16:17:31.934Z"
   },
   {
    "duration": 1514,
    "start_time": "2023-06-09T16:17:31.956Z"
   },
   {
    "duration": 4,
    "start_time": "2023-06-09T16:17:33.473Z"
   },
   {
    "duration": 13,
    "start_time": "2023-06-09T16:17:33.479Z"
   },
   {
    "duration": 10,
    "start_time": "2023-06-09T16:17:33.494Z"
   },
   {
    "duration": 11,
    "start_time": "2023-06-09T16:17:33.505Z"
   },
   {
    "duration": 7,
    "start_time": "2023-06-09T16:17:33.518Z"
   },
   {
    "duration": 54,
    "start_time": "2023-06-09T16:17:33.527Z"
   },
   {
    "duration": 21,
    "start_time": "2023-06-09T16:17:33.582Z"
   },
   {
    "duration": 29,
    "start_time": "2023-06-09T16:17:33.604Z"
   },
   {
    "duration": 1822,
    "start_time": "2023-06-09T16:18:03.237Z"
   },
   {
    "duration": 849,
    "start_time": "2023-06-09T16:18:05.061Z"
   },
   {
    "duration": 494,
    "start_time": "2023-06-09T16:18:05.912Z"
   },
   {
    "duration": 8,
    "start_time": "2023-06-09T16:18:06.409Z"
   },
   {
    "duration": 6,
    "start_time": "2023-06-09T16:18:06.418Z"
   },
   {
    "duration": 24,
    "start_time": "2023-06-09T16:18:06.451Z"
   },
   {
    "duration": 10,
    "start_time": "2023-06-09T16:18:06.476Z"
   },
   {
    "duration": 164,
    "start_time": "2023-06-09T16:18:06.488Z"
   },
   {
    "duration": 33,
    "start_time": "2023-06-09T16:18:06.654Z"
   },
   {
    "duration": 12,
    "start_time": "2023-06-09T16:18:06.690Z"
   },
   {
    "duration": 48,
    "start_time": "2023-06-09T16:18:06.704Z"
   },
   {
    "duration": 9,
    "start_time": "2023-06-09T16:18:06.757Z"
   },
   {
    "duration": 31,
    "start_time": "2023-06-09T16:18:06.769Z"
   },
   {
    "duration": 54,
    "start_time": "2023-06-09T16:18:06.803Z"
   },
   {
    "duration": 6,
    "start_time": "2023-06-09T16:18:06.859Z"
   },
   {
    "duration": 11,
    "start_time": "2023-06-09T16:18:06.870Z"
   },
   {
    "duration": 2385,
    "start_time": "2023-06-09T16:18:06.882Z"
   },
   {
    "duration": 19,
    "start_time": "2023-06-09T16:18:09.268Z"
   },
   {
    "duration": 23,
    "start_time": "2023-06-09T16:18:09.289Z"
   },
   {
    "duration": 12,
    "start_time": "2023-06-09T16:18:09.314Z"
   },
   {
    "duration": 52,
    "start_time": "2023-06-09T16:18:09.328Z"
   },
   {
    "duration": 16,
    "start_time": "2023-06-09T16:18:09.382Z"
   },
   {
    "duration": 138,
    "start_time": "2023-06-09T16:18:09.399Z"
   },
   {
    "duration": 19,
    "start_time": "2023-06-09T16:18:09.538Z"
   },
   {
    "duration": 23,
    "start_time": "2023-06-09T16:18:09.563Z"
   },
   {
    "duration": 893,
    "start_time": "2023-06-09T16:18:09.587Z"
   },
   {
    "duration": 640,
    "start_time": "2023-06-09T16:18:10.482Z"
   },
   {
    "duration": 17,
    "start_time": "2023-06-09T16:18:11.126Z"
   },
   {
    "duration": 1373,
    "start_time": "2023-06-09T16:18:11.145Z"
   },
   {
    "duration": 4,
    "start_time": "2023-06-09T16:18:12.520Z"
   },
   {
    "duration": 8,
    "start_time": "2023-06-09T16:18:12.525Z"
   },
   {
    "duration": 14,
    "start_time": "2023-06-09T16:18:12.534Z"
   },
   {
    "duration": 29,
    "start_time": "2023-06-09T16:18:12.549Z"
   },
   {
    "duration": 8,
    "start_time": "2023-06-09T16:18:12.579Z"
   },
   {
    "duration": 26,
    "start_time": "2023-06-09T16:18:12.589Z"
   },
   {
    "duration": 14,
    "start_time": "2023-06-09T16:18:12.616Z"
   },
   {
    "duration": 43,
    "start_time": "2023-06-09T16:18:12.632Z"
   },
   {
    "duration": 9,
    "start_time": "2023-06-09T16:18:12.677Z"
   },
   {
    "duration": 2482,
    "start_time": "2023-06-09T16:18:12.687Z"
   },
   {
    "duration": 13,
    "start_time": "2023-06-09T16:18:15.249Z"
   },
   {
    "duration": 26,
    "start_time": "2023-06-09T16:18:15.271Z"
   },
   {
    "duration": 20,
    "start_time": "2023-06-09T16:18:15.299Z"
   },
   {
    "duration": 42423,
    "start_time": "2023-06-09T16:18:15.321Z"
   },
   {
    "duration": 364421,
    "start_time": "2023-06-09T16:18:57.751Z"
   },
   {
    "duration": 1765036,
    "start_time": "2023-06-09T16:25:02.174Z"
   },
   {
    "duration": 11975,
    "start_time": "2023-06-09T16:54:27.213Z"
   },
   {
    "duration": 507120,
    "start_time": "2023-06-09T16:54:39.244Z"
   },
   {
    "duration": 2405936,
    "start_time": "2023-06-09T17:03:06.367Z"
   },
   {
    "duration": 9,
    "start_time": "2023-06-09T17:43:12.305Z"
   },
   {
    "duration": 13,
    "start_time": "2023-06-09T17:43:12.315Z"
   },
   {
    "duration": 55,
    "start_time": "2023-06-09T17:43:12.330Z"
   },
   {
    "duration": 13,
    "start_time": "2023-06-09T17:43:12.386Z"
   },
   {
    "duration": 3,
    "start_time": "2023-06-09T17:43:12.400Z"
   },
   {
    "duration": 13,
    "start_time": "2023-06-09T17:43:12.405Z"
   },
   {
    "duration": 1500,
    "start_time": "2023-06-09T17:45:43.197Z"
   },
   {
    "duration": 873,
    "start_time": "2023-06-09T17:45:44.699Z"
   },
   {
    "duration": 464,
    "start_time": "2023-06-09T17:45:45.574Z"
   },
   {
    "duration": 10,
    "start_time": "2023-06-09T17:45:46.040Z"
   },
   {
    "duration": 29,
    "start_time": "2023-06-09T17:45:46.052Z"
   },
   {
    "duration": 19,
    "start_time": "2023-06-09T17:45:46.082Z"
   },
   {
    "duration": 22,
    "start_time": "2023-06-09T17:45:46.103Z"
   },
   {
    "duration": 186,
    "start_time": "2023-06-09T17:45:46.127Z"
   },
   {
    "duration": 34,
    "start_time": "2023-06-09T17:45:46.314Z"
   },
   {
    "duration": 16,
    "start_time": "2023-06-09T17:45:46.351Z"
   },
   {
    "duration": 33,
    "start_time": "2023-06-09T17:45:46.371Z"
   },
   {
    "duration": 6,
    "start_time": "2023-06-09T17:45:46.406Z"
   },
   {
    "duration": 36,
    "start_time": "2023-06-09T17:45:46.413Z"
   },
   {
    "duration": 33,
    "start_time": "2023-06-09T17:45:46.451Z"
   },
   {
    "duration": 3,
    "start_time": "2023-06-09T17:45:46.486Z"
   },
   {
    "duration": 8,
    "start_time": "2023-06-09T17:45:46.490Z"
   },
   {
    "duration": 2492,
    "start_time": "2023-06-09T17:45:46.500Z"
   },
   {
    "duration": 15,
    "start_time": "2023-06-09T17:45:48.994Z"
   },
   {
    "duration": 9,
    "start_time": "2023-06-09T17:45:49.011Z"
   },
   {
    "duration": 34,
    "start_time": "2023-06-09T17:45:49.022Z"
   },
   {
    "duration": 51,
    "start_time": "2023-06-09T17:45:49.058Z"
   },
   {
    "duration": 16,
    "start_time": "2023-06-09T17:45:49.111Z"
   },
   {
    "duration": 109,
    "start_time": "2023-06-09T17:45:49.128Z"
   },
   {
    "duration": 17,
    "start_time": "2023-06-09T17:45:49.239Z"
   },
   {
    "duration": 30,
    "start_time": "2023-06-09T17:45:49.257Z"
   },
   {
    "duration": 862,
    "start_time": "2023-06-09T17:45:49.289Z"
   },
   {
    "duration": 639,
    "start_time": "2023-06-09T17:45:50.154Z"
   },
   {
    "duration": 7,
    "start_time": "2023-06-09T17:45:50.796Z"
   },
   {
    "duration": 1352,
    "start_time": "2023-06-09T17:45:50.804Z"
   },
   {
    "duration": 5,
    "start_time": "2023-06-09T17:45:52.157Z"
   },
   {
    "duration": 19,
    "start_time": "2023-06-09T17:45:52.164Z"
   },
   {
    "duration": 16,
    "start_time": "2023-06-09T17:45:52.184Z"
   },
   {
    "duration": 9,
    "start_time": "2023-06-09T17:45:52.202Z"
   },
   {
    "duration": 21,
    "start_time": "2023-06-09T17:45:52.212Z"
   },
   {
    "duration": 76,
    "start_time": "2023-06-09T17:45:52.235Z"
   },
   {
    "duration": 22,
    "start_time": "2023-06-09T17:45:52.312Z"
   },
   {
    "duration": 66,
    "start_time": "2023-06-09T17:45:52.335Z"
   },
   {
    "duration": 4,
    "start_time": "2023-06-09T17:47:08.458Z"
   },
   {
    "duration": 1403,
    "start_time": "2023-06-09T17:47:10.854Z"
   },
   {
    "duration": 3,
    "start_time": "2023-06-09T17:47:15.718Z"
   },
   {
    "duration": 4,
    "start_time": "2023-06-09T17:47:16.857Z"
   },
   {
    "duration": 4,
    "start_time": "2023-06-09T17:47:18.494Z"
   },
   {
    "duration": 14484,
    "start_time": "2023-06-09T17:47:21.759Z"
   },
   {
    "duration": 1698,
    "start_time": "2023-06-09T17:48:28.289Z"
   },
   {
    "duration": 827,
    "start_time": "2023-06-09T17:48:29.989Z"
   },
   {
    "duration": 451,
    "start_time": "2023-06-09T17:48:30.818Z"
   },
   {
    "duration": 8,
    "start_time": "2023-06-09T17:48:31.271Z"
   },
   {
    "duration": 20,
    "start_time": "2023-06-09T17:48:31.281Z"
   },
   {
    "duration": 62,
    "start_time": "2023-06-09T17:48:31.303Z"
   },
   {
    "duration": 41,
    "start_time": "2023-06-09T17:48:31.367Z"
   },
   {
    "duration": 208,
    "start_time": "2023-06-09T17:48:31.410Z"
   },
   {
    "duration": 37,
    "start_time": "2023-06-09T17:48:31.620Z"
   },
   {
    "duration": 17,
    "start_time": "2023-06-09T17:48:31.660Z"
   },
   {
    "duration": 50,
    "start_time": "2023-06-09T17:48:31.678Z"
   },
   {
    "duration": 18,
    "start_time": "2023-06-09T17:48:31.730Z"
   },
   {
    "duration": 43,
    "start_time": "2023-06-09T17:48:31.750Z"
   },
   {
    "duration": 68,
    "start_time": "2023-06-09T17:48:31.795Z"
   },
   {
    "duration": 28,
    "start_time": "2023-06-09T17:48:31.865Z"
   },
   {
    "duration": 10,
    "start_time": "2023-06-09T17:48:31.895Z"
   },
   {
    "duration": 2171,
    "start_time": "2023-06-09T17:48:31.907Z"
   },
   {
    "duration": 18,
    "start_time": "2023-06-09T17:48:34.080Z"
   },
   {
    "duration": 13,
    "start_time": "2023-06-09T17:48:34.100Z"
   },
   {
    "duration": 41,
    "start_time": "2023-06-09T17:48:34.115Z"
   },
   {
    "duration": 45,
    "start_time": "2023-06-09T17:48:34.158Z"
   },
   {
    "duration": 15,
    "start_time": "2023-06-09T17:48:34.205Z"
   },
   {
    "duration": 107,
    "start_time": "2023-06-09T17:48:34.222Z"
   },
   {
    "duration": 15,
    "start_time": "2023-06-09T17:48:34.331Z"
   },
   {
    "duration": 17,
    "start_time": "2023-06-09T17:48:34.348Z"
   },
   {
    "duration": 843,
    "start_time": "2023-06-09T17:48:34.367Z"
   },
   {
    "duration": 655,
    "start_time": "2023-06-09T17:48:35.212Z"
   },
   {
    "duration": 7,
    "start_time": "2023-06-09T17:48:35.870Z"
   },
   {
    "duration": 1330,
    "start_time": "2023-06-09T17:48:35.879Z"
   },
   {
    "duration": 4,
    "start_time": "2023-06-09T17:48:37.211Z"
   },
   {
    "duration": 42,
    "start_time": "2023-06-09T17:48:37.217Z"
   },
   {
    "duration": 18,
    "start_time": "2023-06-09T17:48:37.261Z"
   },
   {
    "duration": 11,
    "start_time": "2023-06-09T17:48:37.280Z"
   },
   {
    "duration": 8,
    "start_time": "2023-06-09T17:48:37.293Z"
   },
   {
    "duration": 33,
    "start_time": "2023-06-09T17:48:37.303Z"
   },
   {
    "duration": 27,
    "start_time": "2023-06-09T17:48:37.338Z"
   },
   {
    "duration": 45,
    "start_time": "2023-06-09T17:48:37.367Z"
   },
   {
    "duration": 3,
    "start_time": "2023-06-09T17:48:37.414Z"
   },
   {
    "duration": 1824,
    "start_time": "2023-06-09T17:48:37.419Z"
   },
   {
    "duration": 6,
    "start_time": "2023-06-09T17:48:39.245Z"
   },
   {
    "duration": 16,
    "start_time": "2023-06-09T17:48:39.254Z"
   },
   {
    "duration": 85,
    "start_time": "2023-06-09T17:48:39.272Z"
   },
   {
    "duration": 15098,
    "start_time": "2023-06-09T17:48:39.358Z"
   },
   {
    "duration": 196128,
    "start_time": "2023-06-09T17:48:54.459Z"
   },
   {
    "duration": 428493,
    "start_time": "2023-06-09T17:52:10.589Z"
   },
   {
    "duration": 14564,
    "start_time": "2023-06-09T17:59:19.084Z"
   },
   {
    "duration": 274309,
    "start_time": "2023-06-09T17:59:33.650Z"
   },
   {
    "duration": 600357,
    "start_time": "2023-06-09T18:04:07.961Z"
   },
   {
    "duration": 10,
    "start_time": "2023-06-09T18:14:08.320Z"
   },
   {
    "duration": 5,
    "start_time": "2023-06-09T18:15:47.217Z"
   },
   {
    "duration": 11,
    "start_time": "2023-06-09T18:15:55.431Z"
   },
   {
    "duration": 27,
    "start_time": "2023-06-09T18:15:59.240Z"
   },
   {
    "duration": 3,
    "start_time": "2023-06-09T18:16:00.401Z"
   },
   {
    "duration": 9,
    "start_time": "2023-06-09T18:17:19.408Z"
   },
   {
    "duration": 1721,
    "start_time": "2023-06-09T18:18:38.434Z"
   },
   {
    "duration": 845,
    "start_time": "2023-06-09T18:18:40.158Z"
   },
   {
    "duration": 467,
    "start_time": "2023-06-09T18:18:41.005Z"
   },
   {
    "duration": 9,
    "start_time": "2023-06-09T18:18:41.474Z"
   },
   {
    "duration": 12,
    "start_time": "2023-06-09T18:18:41.484Z"
   },
   {
    "duration": 15,
    "start_time": "2023-06-09T18:18:41.498Z"
   },
   {
    "duration": 7,
    "start_time": "2023-06-09T18:18:41.515Z"
   },
   {
    "duration": 194,
    "start_time": "2023-06-09T18:18:41.523Z"
   },
   {
    "duration": 36,
    "start_time": "2023-06-09T18:18:41.718Z"
   },
   {
    "duration": 14,
    "start_time": "2023-06-09T18:18:41.757Z"
   },
   {
    "duration": 32,
    "start_time": "2023-06-09T18:18:41.773Z"
   },
   {
    "duration": 6,
    "start_time": "2023-06-09T18:18:41.807Z"
   },
   {
    "duration": 15,
    "start_time": "2023-06-09T18:18:41.842Z"
   },
   {
    "duration": 53,
    "start_time": "2023-06-09T18:18:41.860Z"
   },
   {
    "duration": 4,
    "start_time": "2023-06-09T18:18:41.914Z"
   },
   {
    "duration": 6,
    "start_time": "2023-06-09T18:18:41.920Z"
   },
   {
    "duration": 2245,
    "start_time": "2023-06-09T18:18:41.942Z"
   },
   {
    "duration": 20,
    "start_time": "2023-06-09T18:18:44.189Z"
   },
   {
    "duration": 32,
    "start_time": "2023-06-09T18:18:44.211Z"
   },
   {
    "duration": 37,
    "start_time": "2023-06-09T18:18:44.245Z"
   },
   {
    "duration": 33,
    "start_time": "2023-06-09T18:18:44.284Z"
   },
   {
    "duration": 31,
    "start_time": "2023-06-09T18:18:44.319Z"
   },
   {
    "duration": 113,
    "start_time": "2023-06-09T18:18:44.352Z"
   },
   {
    "duration": 13,
    "start_time": "2023-06-09T18:18:44.468Z"
   },
   {
    "duration": 5,
    "start_time": "2023-06-09T18:18:44.482Z"
   },
   {
    "duration": 877,
    "start_time": "2023-06-09T18:18:44.489Z"
   },
   {
    "duration": 706,
    "start_time": "2023-06-09T18:18:45.368Z"
   },
   {
    "duration": 8,
    "start_time": "2023-06-09T18:18:46.079Z"
   },
   {
    "duration": 1418,
    "start_time": "2023-06-09T18:18:46.089Z"
   },
   {
    "duration": 4,
    "start_time": "2023-06-09T18:18:47.509Z"
   },
   {
    "duration": 8,
    "start_time": "2023-06-09T18:18:47.514Z"
   },
   {
    "duration": 12,
    "start_time": "2023-06-09T18:18:47.524Z"
   },
   {
    "duration": 24,
    "start_time": "2023-06-09T18:18:47.538Z"
   },
   {
    "duration": 16,
    "start_time": "2023-06-09T18:18:47.564Z"
   },
   {
    "duration": 28,
    "start_time": "2023-06-09T18:18:47.582Z"
   },
   {
    "duration": 17,
    "start_time": "2023-06-09T18:18:47.611Z"
   },
   {
    "duration": 46,
    "start_time": "2023-06-09T18:18:47.630Z"
   },
   {
    "duration": 3,
    "start_time": "2023-06-09T18:18:47.677Z"
   },
   {
    "duration": 1980,
    "start_time": "2023-06-09T18:18:47.682Z"
   },
   {
    "duration": 5,
    "start_time": "2023-06-09T18:18:49.745Z"
   },
   {
    "duration": 13,
    "start_time": "2023-06-09T18:18:49.756Z"
   },
   {
    "duration": 4,
    "start_time": "2023-06-09T18:18:49.775Z"
   },
   {
    "duration": 19762,
    "start_time": "2023-06-09T18:18:49.781Z"
   },
   {
    "duration": 195050,
    "start_time": "2023-06-09T18:19:09.547Z"
   },
   {
    "duration": 331523,
    "start_time": "2023-06-09T18:22:24.599Z"
   },
   {
    "duration": 18528,
    "start_time": "2023-06-09T18:27:56.124Z"
   },
   {
    "duration": 254652,
    "start_time": "2023-06-09T18:28:14.658Z"
   },
   {
    "duration": 444079,
    "start_time": "2023-06-09T18:32:29.312Z"
   },
   {
    "duration": 9,
    "start_time": "2023-06-09T18:39:53.393Z"
   },
   {
    "duration": 5,
    "start_time": "2023-06-09T18:40:20.708Z"
   },
   {
    "duration": 13,
    "start_time": "2023-06-09T18:40:23.332Z"
   },
   {
    "duration": 18,
    "start_time": "2023-06-09T18:40:25.652Z"
   },
   {
    "duration": 5,
    "start_time": "2023-06-09T18:40:27.571Z"
   },
   {
    "duration": 12,
    "start_time": "2023-06-09T18:40:31.011Z"
   }
  ],
  "kernelspec": {
   "display_name": "Python 3 (ipykernel)",
   "language": "python",
   "name": "python3"
  },
  "language_info": {
   "codemirror_mode": {
    "name": "ipython",
    "version": 3
   },
   "file_extension": ".py",
   "mimetype": "text/x-python",
   "name": "python",
   "nbconvert_exporter": "python",
   "pygments_lexer": "ipython3",
   "version": "3.9.13"
  },
  "toc": {
   "base_numbering": 1,
   "nav_menu": {},
   "number_sections": true,
   "sideBar": true,
   "skip_h1_title": true,
   "title_cell": "Содержание",
   "title_sidebar": "Contents",
   "toc_cell": true,
   "toc_position": {
    "height": "calc(100% - 180px)",
    "left": "10px",
    "top": "150px",
    "width": "250.641px"
   },
   "toc_section_display": true,
   "toc_window_display": true
  }
 },
 "nbformat": 4,
 "nbformat_minor": 2
}
