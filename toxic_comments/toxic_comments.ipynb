{
 "cells": [
  {
   "cell_type": "markdown",
   "metadata": {},
   "source": [
    "# Проект для магазина «Викишоп»"
   ]
  },
  {
   "cell_type": "markdown",
   "metadata": {},
   "source": [
    "Интернет-магазин «Викишоп» запускает новый сервис. Теперь пользователи могут редактировать и дополнять описания товаров, как в вики-сообществах. То есть клиенты предлагают свои правки и комментируют изменения других. Магазину нужен инструмент, который будет искать токсичные комментарии и отправлять их на модерацию. \n",
    "\n",
    "В нашем распоряжении набор данных с разметкой о токсичности правок. Задача - обучить модель классифицировать комментарии на позитивные и негативные.\n",
    "\n",
    "Требование: значение метрики качества *F1* должно быть не меньше 0.75. \n",
    "\n",
    "**Основные шаги**\n",
    "\n",
    "1. Загрузить и подготовить данные.\n",
    "2. Обучить разные модели. \n",
    "3. Сделать выводы.\n",
    "\n",
    "**Описание данных**\n",
    "\n",
    "Данные находятся в файле `toxic_comments.csv`. Столбец *text* в нём содержит текст комментария, а *toxic* — целевой признак."
   ]
  },
  {
   "cell_type": "markdown",
   "metadata": {},
   "source": [
    "## Подготовка"
   ]
  },
  {
   "cell_type": "code",
   "execution_count": 1,
   "metadata": {
    "collapsed": true
   },
   "outputs": [
    {
     "name": "stdout",
     "output_type": "stream",
     "text": [
      "Requirement already satisfied: scikit-learn==0.24.2 in /opt/conda/lib/python3.9/site-packages (0.24.2)\n",
      "Requirement already satisfied: joblib>=0.11 in /opt/conda/lib/python3.9/site-packages (from scikit-learn==0.24.2) (1.1.0)\n",
      "Requirement already satisfied: numpy>=1.13.3 in /opt/conda/lib/python3.9/site-packages (from scikit-learn==0.24.2) (1.21.1)\n",
      "Requirement already satisfied: scipy>=0.19.1 in /opt/conda/lib/python3.9/site-packages (from scikit-learn==0.24.2) (1.9.1)\n",
      "Requirement already satisfied: threadpoolctl>=2.0.0 in /opt/conda/lib/python3.9/site-packages (from scikit-learn==0.24.2) (3.1.0)\n",
      "Requirement already satisfied: wordcloud in /opt/conda/lib/python3.9/site-packages (1.9.2)\n",
      "Requirement already satisfied: numpy>=1.6.1 in /opt/conda/lib/python3.9/site-packages (from wordcloud) (1.21.1)\n",
      "Requirement already satisfied: matplotlib in /opt/conda/lib/python3.9/site-packages (from wordcloud) (3.3.4)\n",
      "Requirement already satisfied: pillow in /opt/conda/lib/python3.9/site-packages (from wordcloud) (10.0.0)\n",
      "Requirement already satisfied: cycler>=0.10 in /opt/conda/lib/python3.9/site-packages (from matplotlib->wordcloud) (0.11.0)\n",
      "Requirement already satisfied: pyparsing!=2.0.4,!=2.1.2,!=2.1.6,>=2.0.3 in /opt/conda/lib/python3.9/site-packages (from matplotlib->wordcloud) (2.4.7)\n",
      "Requirement already satisfied: kiwisolver>=1.0.1 in /opt/conda/lib/python3.9/site-packages (from matplotlib->wordcloud) (1.4.4)\n",
      "Requirement already satisfied: python-dateutil>=2.1 in /opt/conda/lib/python3.9/site-packages (from matplotlib->wordcloud) (2.8.1)\n",
      "Requirement already satisfied: six>=1.5 in /opt/conda/lib/python3.9/site-packages (from python-dateutil>=2.1->matplotlib->wordcloud) (1.16.0)\n",
      "Requirement already satisfied: Pillow in /opt/conda/lib/python3.9/site-packages (10.0.0)\n",
      "The scikit-learn version is 0.24.2.\n"
     ]
    }
   ],
   "source": [
    "#чтобы видеть результат на каждой итерации\n",
    "import sklearn\n",
    "!pip install scikit-learn==0.24.2\n",
    "#для облака слов\n",
    "!/opt/conda/bin/python -m pip install wordcloud \n",
    "!pip install --upgrade Pillow\n",
    "print('The scikit-learn version is {}.'.format(sklearn.__version__))"
   ]
  },
  {
   "cell_type": "code",
   "execution_count": 2,
   "metadata": {},
   "outputs": [],
   "source": [
    "import pandas as pd\n",
    "import numpy as np\n",
    "import re \n",
    "import os\n",
    "import pickle\n",
    "import nltk\n",
    "import spacy\n",
    "import matplotlib.pyplot as plt\n",
    "\n",
    "from nltk.corpus import stopwords \n",
    "from sklearn.feature_extraction.text import TfidfVectorizer \n",
    "from sklearn.model_selection import train_test_split, RandomizedSearchCV, GridSearchCV\n",
    "from sklearn.metrics import f1_score\n",
    "from sklearn.linear_model import LogisticRegression, SGDClassifier\n",
    "from sklearn.naive_bayes import ComplementNB\n",
    "from sklearn.pipeline import Pipeline\n",
    "from lightgbm import LGBMClassifier\n",
    "from wordcloud import WordCloud\n",
    "\n",
    "import warnings\n",
    "warnings.filterwarnings(\"ignore\")\n",
    "plt.rcParams[\"figure.figsize\"] = (12,9)\n",
    "RANDOM_STATE = 42"
   ]
  },
  {
   "cell_type": "code",
   "execution_count": 3,
   "metadata": {},
   "outputs": [],
   "source": [
    "pth1 = '/datasets/toxic_comments.csv'\n",
    "pth2 = 'toxic_comments.csv'\n",
    "\n",
    "if os.path.exists(pth1):\n",
    "    data = pd.read_csv(pth1, index_col=0)\n",
    "elif os.path.exists(pth2):\n",
    "    data = pd.read_csv(pth2, index_col=0)\n",
    "else:\n",
    "    print('smth went wrong')"
   ]
  },
  {
   "cell_type": "code",
   "execution_count": 4,
   "metadata": {},
   "outputs": [
    {
     "data": {
      "text/html": [
       "<div>\n",
       "<style scoped>\n",
       "    .dataframe tbody tr th:only-of-type {\n",
       "        vertical-align: middle;\n",
       "    }\n",
       "\n",
       "    .dataframe tbody tr th {\n",
       "        vertical-align: top;\n",
       "    }\n",
       "\n",
       "    .dataframe thead th {\n",
       "        text-align: right;\n",
       "    }\n",
       "</style>\n",
       "<table border=\"1\" class=\"dataframe\">\n",
       "  <thead>\n",
       "    <tr style=\"text-align: right;\">\n",
       "      <th></th>\n",
       "      <th>text</th>\n",
       "      <th>toxic</th>\n",
       "    </tr>\n",
       "  </thead>\n",
       "  <tbody>\n",
       "    <tr>\n",
       "      <th>34519</th>\n",
       "      <td>HJ, do you know approximately how many non-art...</td>\n",
       "      <td>0</td>\n",
       "    </tr>\n",
       "    <tr>\n",
       "      <th>72157</th>\n",
       "      <td>\"\\n\\n Teahouse talkback: you've got messages! \\n\"</td>\n",
       "      <td>0</td>\n",
       "    </tr>\n",
       "    <tr>\n",
       "      <th>111384</th>\n",
       "      <td>Hello, and welcome to Wikipedia! We welcome an...</td>\n",
       "      <td>0</td>\n",
       "    </tr>\n",
       "    <tr>\n",
       "      <th>98544</th>\n",
       "      <td>Actually, you are the cockroach that followed ...</td>\n",
       "      <td>1</td>\n",
       "    </tr>\n",
       "    <tr>\n",
       "      <th>35650</th>\n",
       "      <td>Final Notice to Osli73 \\n\\nYou can agree or di...</td>\n",
       "      <td>0</td>\n",
       "    </tr>\n",
       "  </tbody>\n",
       "</table>\n",
       "</div>"
      ],
      "text/plain": [
       "                                                     text  toxic\n",
       "34519   HJ, do you know approximately how many non-art...      0\n",
       "72157   \"\\n\\n Teahouse talkback: you've got messages! \\n\"      0\n",
       "111384  Hello, and welcome to Wikipedia! We welcome an...      0\n",
       "98544   Actually, you are the cockroach that followed ...      1\n",
       "35650   Final Notice to Osli73 \\n\\nYou can agree or di...      0"
      ]
     },
     "metadata": {},
     "output_type": "display_data"
    },
    {
     "name": "stdout",
     "output_type": "stream",
     "text": [
      "Относительная частота классов в целевом признаке:\n",
      "0    0.898388\n",
      "1    0.101612\n",
      "Name: toxic, dtype: float64\n"
     ]
    },
    {
     "data": {
      "image/png": "[encoded data removed]",
      "text/plain": [
       "<Figure size 864x648 with 1 Axes>"
      ]
     },
     "metadata": {
      "needs_background": "light"
     },
     "output_type": "display_data"
    }
   ],
   "source": [
    "display(data.sample(5))\n",
    "#display(data.info())\n",
    "\n",
    "print('Относительная частота классов в целевом признаке:')\n",
    "print(data['toxic'].value_counts(normalize=True))\n",
    "\n",
    "data['toxic'].value_counts().plot(kind=\"bar\", color='green');\n",
    "plt.title('Классы в целевом признаке')\n",
    "plt.ylabel('Количество')\n",
    "plt.xlabel('Метка')\n",
    "plt.show()"
   ]
  },
  {
   "cell_type": "markdown",
   "metadata": {},
   "source": [
    "Данные загружены: 159292 строки, 2 столбца (текст и метка), пропусков нет. Соотношение значений целевого признака 9:1."
   ]
  },
  {
   "cell_type": "markdown",
   "metadata": {},
   "source": [
    "## Обработка данных"
   ]
  },
  {
   "cell_type": "markdown",
   "metadata": {},
   "source": [
    "Создадим корпус постов. Преобразуем столбец *'text'* в список текстов, переведем в нижний регистр, лемматизируем и очистим от регулярных выражений."
   ]
  },
  {
   "cell_type": "code",
   "execution_count": 5,
   "metadata": {},
   "outputs": [],
   "source": [
    "corpus = data['text'].str.lower()"
   ]
  },
  {
   "cell_type": "code",
   "execution_count": 6,
   "metadata": {},
   "outputs": [
    {
     "name": "stdout",
     "output_type": "stream",
     "text": [
      "Очищенный текст:\n",
      " 0    explanation why the edits made under my userna...\n",
      "1    d aww he matches this background colour i m se...\n",
      "2    hey man i m really not trying to edit war it s...\n",
      "3    more i can t make any real suggestions on impr...\n",
      "4    you sir are my hero any chance you remember wh...\n",
      "Name: text, dtype: object\n",
      "CPU times: user 4.05 s, sys: 50.5 ms, total: 4.1 s\n",
      "Wall time: 4.11 s\n"
     ]
    }
   ],
   "source": [
    "%%time\n",
    "\n",
    "def clean (text):\n",
    "    \n",
    "    clean_text = re.sub(r'[^a-z]', ' ', text)\n",
    "    clean_text = clean_text.split()\n",
    "    clean_text = ' '.join(clean_text)\n",
    "    \n",
    "    return clean_text\n",
    "\n",
    "c_text = corpus.apply(clean)\n",
    "print(\"Очищенный текст:\\n\", c_text.head())"
   ]
  },
  {
   "cell_type": "code",
   "execution_count": 7,
   "metadata": {},
   "outputs": [
    {
     "name": "stdout",
     "output_type": "stream",
     "text": [
      "Лемматизированный текст: 0    explanation why the edit make under my usernam...\n",
      "1    d aww he match this background colour I m seem...\n",
      "2    hey man I m really not try to edit war it s ju...\n",
      "3    more I can t make any real suggestion on impro...\n",
      "4    you sir be my hero any chance you remember wha...\n",
      "Name: text, dtype: object\n",
      "CPU times: user 36min 4s, sys: 10.7 s, total: 36min 15s\n",
      "Wall time: 36min 16s\n"
     ]
    }
   ],
   "source": [
    "%%time\n",
    "\n",
    "def lemm (text):\n",
    "    \n",
    "    lemmed = nlp(text)   \n",
    "    prepaired = \" \".join([token.lemma_ for token in lemmed])\n",
    "       \n",
    "    return prepaired\n",
    "\n",
    "nlp = spacy.load('en_core_web_sm')\n",
    "\n",
    "l_text = c_text.apply(lemm)\n",
    "print(\"Лемматизированный текст:\", l_text.head())"
   ]
  },
  {
   "cell_type": "markdown",
   "metadata": {},
   "source": [
    "Сохраним получившийся текст в файл, чтобы не выполнять 30-минутные вычисления снова."
   ]
  },
  {
   "cell_type": "code",
   "execution_count": 8,
   "metadata": {},
   "outputs": [],
   "source": [
    "with open('comments', 'wb') as handle:\n",
    "    pickle.dump(l_text, handle)"
   ]
  },
  {
   "cell_type": "code",
   "execution_count": 9,
   "metadata": {},
   "outputs": [],
   "source": [
    "with open('comments', 'rb') as handle:\n",
    "    words = pickle.load(handle)"
   ]
  },
  {
   "cell_type": "markdown",
   "metadata": {},
   "source": [
    "Построим облако слов, чтобы получить представление об общей тематике текстов, токсичных и нетоксичных."
   ]
  },
  {
   "cell_type": "code",
   "execution_count": 10,
   "metadata": {},
   "outputs": [
    {
     "data": {
      "image/png": "[encoded data removed]",
      "text/plain": [
       "<Figure size 864x648 with 1 Axes>"
      ]
     },
     "metadata": {
      "needs_background": "light"
     },
     "output_type": "display_data"
    }
   ],
   "source": [
    "toxic_words = l_text[data['toxic']==1].apply(lambda x: x.split())\n",
    "toxic_words = [y for x in toxic_words for y in x]\n",
    "\n",
    "toxic_words = ' '.join(toxic_words)\n",
    "toxic_wordcloud = WordCloud(background_color=\"black\").generate(toxic_words)\n",
    "\n",
    "plt.imshow(toxic_wordcloud)\n",
    "plt.title('Облако слов в токсичных сообщениях')\n",
    "plt.show()"
   ]
  },
  {
   "cell_type": "markdown",
   "metadata": {},
   "source": [
    "Токсичненько."
   ]
  },
  {
   "cell_type": "code",
   "execution_count": 11,
   "metadata": {},
   "outputs": [
    {
     "data": {
      "image/png": "[encoded data removed]",
      "text/plain": [
       "<Figure size 864x648 with 1 Axes>"
      ]
     },
     "metadata": {
      "needs_background": "light"
     },
     "output_type": "display_data"
    }
   ],
   "source": [
    "non_toxic_words = l_text[data['toxic']==0].apply(lambda x: x.split())\n",
    "non_toxic_words = [y for x in non_toxic_words for y in x]\n",
    "\n",
    "non_toxic_words = ' '.join(non_toxic_words)\n",
    "non_toxic_wordcloud = WordCloud(background_color=\"white\").generate(non_toxic_words)\n",
    "\n",
    "plt.imshow(non_toxic_wordcloud)\n",
    "plt.title('Облако слов в нетоксичных сообщениях')\n",
    "plt.show()"
   ]
  },
  {
   "cell_type": "markdown",
   "metadata": {},
   "source": [
    "А тут безобидно."
   ]
  },
  {
   "cell_type": "markdown",
   "metadata": {},
   "source": [
    "Разделим тексты на выборки, чтобы при векторизации значения из тестовой не загрязнили тренировочную."
   ]
  },
  {
   "cell_type": "code",
   "execution_count": 12,
   "metadata": {},
   "outputs": [],
   "source": [
    "X_train, X_test, y_train, y_test = train_test_split(words, data['toxic'], test_size=0.2, \n",
    "                                                    random_state=RANDOM_STATE, stratify=data['toxic'])"
   ]
  },
  {
   "cell_type": "markdown",
   "metadata": {},
   "source": [
    "Убедимся, что баланс классов в тренировочной и тестовой одинаков."
   ]
  },
  {
   "cell_type": "code",
   "execution_count": 13,
   "metadata": {},
   "outputs": [
    {
     "name": "stdout",
     "output_type": "stream",
     "text": [
      "Относительная частота классов в целевом признаке:\n",
      "train:\n",
      " 0    0.898386\n",
      "1    0.101614\n",
      "Name: toxic, dtype: float64\n",
      "test:\n",
      " 0    0.898396\n",
      "1    0.101604\n",
      "Name: toxic, dtype: float64\n"
     ]
    }
   ],
   "source": [
    "print('Относительная частота классов в целевом признаке:')\n",
    "print('train:\\n', y_train.value_counts(normalize=True))\n",
    "print('test:\\n', y_test.value_counts(normalize=True))"
   ]
  },
  {
   "cell_type": "code",
   "execution_count": 14,
   "metadata": {},
   "outputs": [
    {
     "name": "stdout",
     "output_type": "stream",
     "text": [
      "(127433,)\n",
      "(31859,)\n",
      "(127433,)\n",
      "(31859,)\n"
     ]
    }
   ],
   "source": [
    "for chunk in [X_train, X_test, y_train, y_test]:\n",
    "    print(chunk.shape)"
   ]
  },
  {
   "cell_type": "code",
   "execution_count": 15,
   "metadata": {},
   "outputs": [
    {
     "name": "stderr",
     "output_type": "stream",
     "text": [
      "[nltk_data] Downloading package stopwords to /home/jovyan/nltk_data...\n",
      "[nltk_data]   Package stopwords is already up-to-date!\n"
     ]
    }
   ],
   "source": [
    "nltk.download('stopwords') \n",
    "stopwords = set(stopwords.words('english')) "
   ]
  },
  {
   "cell_type": "markdown",
   "metadata": {},
   "source": [
    "Векторизируем."
   ]
  },
  {
   "cell_type": "code",
   "execution_count": 16,
   "metadata": {},
   "outputs": [],
   "source": [
    "count_tf_idf = TfidfVectorizer(stop_words=stopwords)"
   ]
  },
  {
   "cell_type": "code",
   "execution_count": 17,
   "metadata": {},
   "outputs": [
    {
     "name": "stdout",
     "output_type": "stream",
     "text": [
      "CPU times: user 6.07 s, sys: 48 ms, total: 6.12 s\n",
      "Wall time: 6.13 s\n"
     ]
    }
   ],
   "source": [
    "%%time\n",
    "X_train_tf_idf = count_tf_idf.fit_transform(X_train)\n",
    "X_test_tf_idf = count_tf_idf.transform(X_test)"
   ]
  },
  {
   "cell_type": "markdown",
   "metadata": {},
   "source": [
    "Данные готовы к обучению моделей."
   ]
  },
  {
   "cell_type": "markdown",
   "metadata": {},
   "source": [
    "## Обучение"
   ]
  },
  {
   "cell_type": "markdown",
   "metadata": {},
   "source": [
    "Попробуем разные модели - наивный байесовский классификатор, логистическую регрессию, стохастический градиентный спуск и LGBM с подбором гиперпараметров. Для последнего будем использовать RandomizedSearchCV из-за большого времени расчета."
   ]
  },
  {
   "cell_type": "code",
   "execution_count": 18,
   "metadata": {},
   "outputs": [],
   "source": [
    "model_list = ['NBC', 'LR', 'SGD', 'LGB']\n",
    "result_train_list = []"
   ]
  },
  {
   "cell_type": "code",
   "execution_count": 19,
   "metadata": {},
   "outputs": [],
   "source": [
    "#модели\n",
    "model_NBC = Pipeline([('tfidf', count_tf_idf), ('clf', ComplementNB())])\n",
    "model_LR = Pipeline([('tfidf', count_tf_idf), ('clf', LogisticRegression(random_state=RANDOM_STATE))])\n",
    "model_SGD = Pipeline([('tfidf', count_tf_idf), ('clf', SGDClassifier(random_state=RANDOM_STATE))])\n",
    "model_LGB = Pipeline([('tfidf', count_tf_idf), ('clf', LGBMClassifier(random_state=RANDOM_STATE))])"
   ]
  },
  {
   "cell_type": "code",
   "execution_count": 20,
   "metadata": {},
   "outputs": [],
   "source": [
    "#функция для работы модели с подбором параметров\n",
    "def model_run(model, params, x_train, y_train):\n",
    "    if type(model[1]) == LGBMClassifier:\n",
    "        model_opt = RandomizedSearchCV(model, params, random_state=RANDOM_STATE, cv=3, n_jobs=-1, scoring='f1', verbose=10)\n",
    "    else:\n",
    "        model_opt = GridSearchCV(model, params, cv=3, n_jobs=-1, scoring='f1', verbose=10)\n",
    "    model_opt.fit(x_train, y_train)\n",
    "    return model_opt.best_score_, model_opt.best_estimator_  "
   ]
  },
  {
   "cell_type": "code",
   "execution_count": 21,
   "metadata": {},
   "outputs": [],
   "source": [
    "#наборы параметров\n",
    "param_NBC = {'clf__alpha': [0.2, 0.25, 0.3, 0.35, 0.4, 1]}\n",
    "param_LR = {'clf__C': [0.1, 1, 5, 10, 15, 30, 100]}\n",
    "param_SGD = {'clf__max_iter': [15, 20, 30, 500], 'clf__alpha': [ 0.000001, 0.000005, 0.00001],\n",
    "             'clf__n_iter_no_change': [9, 11, 13], 'clf__penalty': ['l2', 'l1']}\n",
    "param_LGB = {'clf__n_estimators': [500, 2000, 5000, 6000], 'clf__max_depth': [2, 3, 5, 7], 'clf__num_leaves': [31, 41, 51]}"
   ]
  },
  {
   "cell_type": "code",
   "execution_count": 22,
   "metadata": {
    "collapsed": true
   },
   "outputs": [
    {
     "name": "stdout",
     "output_type": "stream",
     "text": [
      "Fitting 3 folds for each of 6 candidates, totalling 18 fits\n",
      "[CV 1/3; 1/6] START clf__alpha=0.2..............................................\n",
      "[CV 1/3; 1/6] END ...............clf__alpha=0.2;, score=0.675 total time=   5.0s\n",
      "[CV 2/3; 1/6] START clf__alpha=0.2..............................................\n",
      "[CV 2/3; 1/6] END ...............clf__alpha=0.2;, score=0.676 total time=   5.0s\n",
      "[CV 3/3; 1/6] START clf__alpha=0.2..............................................\n",
      "[CV 3/3; 1/6] END ...............clf__alpha=0.2;, score=0.675 total time=   5.2s\n",
      "[CV 1/3; 2/6] START clf__alpha=0.25.............................................\n",
      "[CV 1/3; 2/6] END ..............clf__alpha=0.25;, score=0.676 total time=   5.1s\n",
      "[CV 2/3; 2/6] START clf__alpha=0.25.............................................\n",
      "[CV 2/3; 2/6] END ..............clf__alpha=0.25;, score=0.678 total time=   5.1s\n",
      "[CV 3/3; 2/6] START clf__alpha=0.25.............................................\n",
      "[CV 3/3; 2/6] END ..............clf__alpha=0.25;, score=0.680 total time=   5.1s\n",
      "[CV 1/3; 3/6] START clf__alpha=0.3..............................................\n",
      "[CV 1/3; 3/6] END ...............clf__alpha=0.3;, score=0.673 total time=   5.1s\n",
      "[CV 2/3; 3/6] START clf__alpha=0.3..............................................\n",
      "[CV 2/3; 3/6] END ...............clf__alpha=0.3;, score=0.678 total time=   5.1s\n",
      "[CV 3/3; 3/6] START clf__alpha=0.3..............................................\n",
      "[CV 3/3; 3/6] END ...............clf__alpha=0.3;, score=0.678 total time=   5.1s\n",
      "[CV 1/3; 4/6] START clf__alpha=0.35.............................................\n",
      "[CV 1/3; 4/6] END ..............clf__alpha=0.35;, score=0.670 total time=   5.2s\n",
      "[CV 2/3; 4/6] START clf__alpha=0.35.............................................\n",
      "[CV 2/3; 4/6] END ..............clf__alpha=0.35;, score=0.677 total time=   5.0s\n",
      "[CV 3/3; 4/6] START clf__alpha=0.35.............................................\n",
      "[CV 3/3; 4/6] END ..............clf__alpha=0.35;, score=0.675 total time=   5.1s\n",
      "[CV 1/3; 5/6] START clf__alpha=0.4..............................................\n",
      "[CV 1/3; 5/6] END ...............clf__alpha=0.4;, score=0.667 total time=   5.1s\n",
      "[CV 2/3; 5/6] START clf__alpha=0.4..............................................\n",
      "[CV 2/3; 5/6] END ...............clf__alpha=0.4;, score=0.671 total time=   5.1s\n",
      "[CV 3/3; 5/6] START clf__alpha=0.4..............................................\n",
      "[CV 3/3; 5/6] END ...............clf__alpha=0.4;, score=0.672 total time=   5.1s\n",
      "[CV 1/3; 6/6] START clf__alpha=1................................................\n",
      "[CV 1/3; 6/6] END .................clf__alpha=1;, score=0.603 total time=   5.1s\n",
      "[CV 2/3; 6/6] START clf__alpha=1................................................\n",
      "[CV 2/3; 6/6] END .................clf__alpha=1;, score=0.597 total time=   5.0s\n",
      "[CV 3/3; 6/6] START clf__alpha=1................................................\n",
      "[CV 3/3; 6/6] END .................clf__alpha=1;, score=0.605 total time=   5.1s\n",
      "(0.6779968229213497, Pipeline(steps=[('tfidf',\n",
      "                 TfidfVectorizer(stop_words={'a', 'about', 'above', 'after',\n",
      "                                             'again', 'against', 'ain', 'all',\n",
      "                                             'am', 'an', 'and', 'any', 'are',\n",
      "                                             'aren', \"aren't\", 'as', 'at', 'be',\n",
      "                                             'because', 'been', 'before',\n",
      "                                             'being', 'below', 'between',\n",
      "                                             'both', 'but', 'by', 'can',\n",
      "                                             'couldn', \"couldn't\", ...})),\n",
      "                ('clf', ComplementNB(alpha=0.25))]))\n",
      "CPU times: user 1min 36s, sys: 508 ms, total: 1min 36s\n",
      "Wall time: 1min 37s\n"
     ]
    }
   ],
   "source": [
    "%%time\n",
    "result_NBC = model_run(model_NBC, param_NBC, X_train, y_train)\n",
    "result_train_list.append(result_NBC[0])\n",
    "print(result_NBC)"
   ]
  },
  {
   "cell_type": "code",
   "execution_count": 23,
   "metadata": {
    "collapsed": true
   },
   "outputs": [
    {
     "name": "stdout",
     "output_type": "stream",
     "text": [
      "Fitting 3 folds for each of 7 candidates, totalling 21 fits\n",
      "[CV 1/3; 1/7] START clf__C=0.1..................................................\n",
      "[CV 1/3; 1/7] END ...................clf__C=0.1;, score=0.478 total time=  15.8s\n",
      "[CV 2/3; 1/7] START clf__C=0.1..................................................\n",
      "[CV 2/3; 1/7] END ...................clf__C=0.1;, score=0.472 total time=  19.6s\n",
      "[CV 3/3; 1/7] START clf__C=0.1..................................................\n",
      "[CV 3/3; 1/7] END ...................clf__C=0.1;, score=0.481 total time=  17.7s\n",
      "[CV 1/3; 2/7] START clf__C=1....................................................\n",
      "[CV 1/3; 2/7] END .....................clf__C=1;, score=0.720 total time=  37.5s\n",
      "[CV 2/3; 2/7] START clf__C=1....................................................\n",
      "[CV 2/3; 2/7] END .....................clf__C=1;, score=0.726 total time=  41.1s\n",
      "[CV 3/3; 2/7] START clf__C=1....................................................\n",
      "[CV 3/3; 2/7] END .....................clf__C=1;, score=0.723 total time=  32.6s\n",
      "[CV 1/3; 3/7] START clf__C=5....................................................\n",
      "[CV 1/3; 3/7] END .....................clf__C=5;, score=0.769 total time=  42.7s\n",
      "[CV 2/3; 3/7] START clf__C=5....................................................\n",
      "[CV 2/3; 3/7] END .....................clf__C=5;, score=0.774 total time=  42.1s\n",
      "[CV 3/3; 3/7] START clf__C=5....................................................\n",
      "[CV 3/3; 3/7] END .....................clf__C=5;, score=0.767 total time=  41.5s\n",
      "[CV 1/3; 4/7] START clf__C=10...................................................\n",
      "[CV 1/3; 4/7] END ....................clf__C=10;, score=0.773 total time=  42.7s\n",
      "[CV 2/3; 4/7] START clf__C=10...................................................\n",
      "[CV 2/3; 4/7] END ....................clf__C=10;, score=0.777 total time=  40.8s\n",
      "[CV 3/3; 4/7] START clf__C=10...................................................\n",
      "[CV 3/3; 4/7] END ....................clf__C=10;, score=0.773 total time=  42.0s\n",
      "[CV 1/3; 5/7] START clf__C=15...................................................\n",
      "[CV 1/3; 5/7] END ....................clf__C=15;, score=0.773 total time=  40.9s\n",
      "[CV 2/3; 5/7] START clf__C=15...................................................\n",
      "[CV 2/3; 5/7] END ....................clf__C=15;, score=0.777 total time=  42.1s\n",
      "[CV 3/3; 5/7] START clf__C=15...................................................\n",
      "[CV 3/3; 5/7] END ....................clf__C=15;, score=0.774 total time=  39.1s\n",
      "[CV 1/3; 6/7] START clf__C=30...................................................\n",
      "[CV 1/3; 6/7] END ....................clf__C=30;, score=0.771 total time=  42.0s\n",
      "[CV 2/3; 6/7] START clf__C=30...................................................\n",
      "[CV 2/3; 6/7] END ....................clf__C=30;, score=0.775 total time=  40.0s\n",
      "[CV 3/3; 6/7] START clf__C=30...................................................\n",
      "[CV 3/3; 6/7] END ....................clf__C=30;, score=0.772 total time=  42.6s\n",
      "[CV 1/3; 7/7] START clf__C=100..................................................\n",
      "[CV 1/3; 7/7] END ...................clf__C=100;, score=0.768 total time=  41.8s\n",
      "[CV 2/3; 7/7] START clf__C=100..................................................\n",
      "[CV 2/3; 7/7] END ...................clf__C=100;, score=0.769 total time=  41.7s\n",
      "[CV 3/3; 7/7] START clf__C=100..................................................\n",
      "[CV 3/3; 7/7] END ...................clf__C=100;, score=0.759 total time=  41.2s\n",
      "(0.7748110732224034, Pipeline(steps=[('tfidf',\n",
      "                 TfidfVectorizer(stop_words={'a', 'about', 'above', 'after',\n",
      "                                             'again', 'against', 'ain', 'all',\n",
      "                                             'am', 'an', 'and', 'any', 'are',\n",
      "                                             'aren', \"aren't\", 'as', 'at', 'be',\n",
      "                                             'because', 'been', 'before',\n",
      "                                             'being', 'below', 'between',\n",
      "                                             'both', 'but', 'by', 'can',\n",
      "                                             'couldn', \"couldn't\", ...})),\n",
      "                ('clf', LogisticRegression(C=15, random_state=42))]))\n",
      "CPU times: user 6min 30s, sys: 7min 27s, total: 13min 58s\n",
      "Wall time: 13min 59s\n"
     ]
    }
   ],
   "source": [
    "%%time\n",
    "result_LR = model_run(model_LR, param_LR, X_train, y_train)\n",
    "result_train_list.append(result_LR[0])\n",
    "print(result_LR)"
   ]
  },
  {
   "cell_type": "code",
   "execution_count": 24,
   "metadata": {
    "collapsed": true
   },
   "outputs": [
    {
     "name": "stdout",
     "output_type": "stream",
     "text": [
      "Fitting 3 folds for each of 72 candidates, totalling 216 fits\n",
      "[CV 1/3; 1/72] START clf__alpha=1e-06, clf__max_iter=15, clf__n_iter_no_change=9, clf__penalty=l2\n",
      "[CV 1/3; 1/72] END clf__alpha=1e-06, clf__max_iter=15, clf__n_iter_no_change=9, clf__penalty=l2;, score=0.759 total time=   5.5s\n",
      "[CV 2/3; 1/72] START clf__alpha=1e-06, clf__max_iter=15, clf__n_iter_no_change=9, clf__penalty=l2\n",
      "[CV 2/3; 1/72] END clf__alpha=1e-06, clf__max_iter=15, clf__n_iter_no_change=9, clf__penalty=l2;, score=0.768 total time=   5.5s\n",
      "[CV 3/3; 1/72] START clf__alpha=1e-06, clf__max_iter=15, clf__n_iter_no_change=9, clf__penalty=l2\n",
      "[CV 3/3; 1/72] END clf__alpha=1e-06, clf__max_iter=15, clf__n_iter_no_change=9, clf__penalty=l2;, score=0.760 total time=   5.5s\n",
      "[CV 1/3; 2/72] START clf__alpha=1e-06, clf__max_iter=15, clf__n_iter_no_change=9, clf__penalty=l1\n",
      "[CV 1/3; 2/72] END clf__alpha=1e-06, clf__max_iter=15, clf__n_iter_no_change=9, clf__penalty=l1;, score=0.753 total time=   5.7s\n",
      "[CV 2/3; 2/72] START clf__alpha=1e-06, clf__max_iter=15, clf__n_iter_no_change=9, clf__penalty=l1\n",
      "[CV 2/3; 2/72] END clf__alpha=1e-06, clf__max_iter=15, clf__n_iter_no_change=9, clf__penalty=l1;, score=0.759 total time=   5.7s\n",
      "[CV 3/3; 2/72] START clf__alpha=1e-06, clf__max_iter=15, clf__n_iter_no_change=9, clf__penalty=l1\n",
      "[CV 3/3; 2/72] END clf__alpha=1e-06, clf__max_iter=15, clf__n_iter_no_change=9, clf__penalty=l1;, score=0.754 total time=   5.7s\n",
      "[CV 1/3; 3/72] START clf__alpha=1e-06, clf__max_iter=15, clf__n_iter_no_change=11, clf__penalty=l2\n",
      "[CV 1/3; 3/72] END clf__alpha=1e-06, clf__max_iter=15, clf__n_iter_no_change=11, clf__penalty=l2;, score=0.759 total time=   5.6s\n",
      "[CV 2/3; 3/72] START clf__alpha=1e-06, clf__max_iter=15, clf__n_iter_no_change=11, clf__penalty=l2\n",
      "[CV 2/3; 3/72] END clf__alpha=1e-06, clf__max_iter=15, clf__n_iter_no_change=11, clf__penalty=l2;, score=0.768 total time=   5.4s\n",
      "[CV 3/3; 3/72] START clf__alpha=1e-06, clf__max_iter=15, clf__n_iter_no_change=11, clf__penalty=l2\n",
      "[CV 3/3; 3/72] END clf__alpha=1e-06, clf__max_iter=15, clf__n_iter_no_change=11, clf__penalty=l2;, score=0.760 total time=   5.4s\n",
      "[CV 1/3; 4/72] START clf__alpha=1e-06, clf__max_iter=15, clf__n_iter_no_change=11, clf__penalty=l1\n",
      "[CV 1/3; 4/72] END clf__alpha=1e-06, clf__max_iter=15, clf__n_iter_no_change=11, clf__penalty=l1;, score=0.753 total time=   5.7s\n",
      "[CV 2/3; 4/72] START clf__alpha=1e-06, clf__max_iter=15, clf__n_iter_no_change=11, clf__penalty=l1\n",
      "[CV 2/3; 4/72] END clf__alpha=1e-06, clf__max_iter=15, clf__n_iter_no_change=11, clf__penalty=l1;, score=0.759 total time=   5.8s\n",
      "[CV 3/3; 4/72] START clf__alpha=1e-06, clf__max_iter=15, clf__n_iter_no_change=11, clf__penalty=l1\n",
      "[CV 3/3; 4/72] END clf__alpha=1e-06, clf__max_iter=15, clf__n_iter_no_change=11, clf__penalty=l1;, score=0.754 total time=   5.9s\n",
      "[CV 1/3; 5/72] START clf__alpha=1e-06, clf__max_iter=15, clf__n_iter_no_change=13, clf__penalty=l2\n",
      "[CV 1/3; 5/72] END clf__alpha=1e-06, clf__max_iter=15, clf__n_iter_no_change=13, clf__penalty=l2;, score=0.759 total time=   5.6s\n",
      "[CV 2/3; 5/72] START clf__alpha=1e-06, clf__max_iter=15, clf__n_iter_no_change=13, clf__penalty=l2\n",
      "[CV 2/3; 5/72] END clf__alpha=1e-06, clf__max_iter=15, clf__n_iter_no_change=13, clf__penalty=l2;, score=0.768 total time=   5.6s\n",
      "[CV 3/3; 5/72] START clf__alpha=1e-06, clf__max_iter=15, clf__n_iter_no_change=13, clf__penalty=l2\n",
      "[CV 3/3; 5/72] END clf__alpha=1e-06, clf__max_iter=15, clf__n_iter_no_change=13, clf__penalty=l2;, score=0.760 total time=   5.4s\n",
      "[CV 1/3; 6/72] START clf__alpha=1e-06, clf__max_iter=15, clf__n_iter_no_change=13, clf__penalty=l1\n",
      "[CV 1/3; 6/72] END clf__alpha=1e-06, clf__max_iter=15, clf__n_iter_no_change=13, clf__penalty=l1;, score=0.753 total time=   5.8s\n",
      "[CV 2/3; 6/72] START clf__alpha=1e-06, clf__max_iter=15, clf__n_iter_no_change=13, clf__penalty=l1\n",
      "[CV 2/3; 6/72] END clf__alpha=1e-06, clf__max_iter=15, clf__n_iter_no_change=13, clf__penalty=l1;, score=0.759 total time=   5.7s\n",
      "[CV 3/3; 6/72] START clf__alpha=1e-06, clf__max_iter=15, clf__n_iter_no_change=13, clf__penalty=l1\n",
      "[CV 3/3; 6/72] END clf__alpha=1e-06, clf__max_iter=15, clf__n_iter_no_change=13, clf__penalty=l1;, score=0.754 total time=   5.8s\n",
      "[CV 1/3; 7/72] START clf__alpha=1e-06, clf__max_iter=20, clf__n_iter_no_change=9, clf__penalty=l2\n",
      "[CV 1/3; 7/72] END clf__alpha=1e-06, clf__max_iter=20, clf__n_iter_no_change=9, clf__penalty=l2;, score=0.758 total time=   5.5s\n",
      "[CV 2/3; 7/72] START clf__alpha=1e-06, clf__max_iter=20, clf__n_iter_no_change=9, clf__penalty=l2\n",
      "[CV 2/3; 7/72] END clf__alpha=1e-06, clf__max_iter=20, clf__n_iter_no_change=9, clf__penalty=l2;, score=0.763 total time=   5.4s\n",
      "[CV 3/3; 7/72] START clf__alpha=1e-06, clf__max_iter=20, clf__n_iter_no_change=9, clf__penalty=l2\n",
      "[CV 3/3; 7/72] END clf__alpha=1e-06, clf__max_iter=20, clf__n_iter_no_change=9, clf__penalty=l2;, score=0.757 total time=   5.6s\n",
      "[CV 1/3; 8/72] START clf__alpha=1e-06, clf__max_iter=20, clf__n_iter_no_change=9, clf__penalty=l1\n",
      "[CV 1/3; 8/72] END clf__alpha=1e-06, clf__max_iter=20, clf__n_iter_no_change=9, clf__penalty=l1;, score=0.752 total time=   5.9s\n",
      "[CV 2/3; 8/72] START clf__alpha=1e-06, clf__max_iter=20, clf__n_iter_no_change=9, clf__penalty=l1\n",
      "[CV 2/3; 8/72] END clf__alpha=1e-06, clf__max_iter=20, clf__n_iter_no_change=9, clf__penalty=l1;, score=0.757 total time=   6.1s\n",
      "[CV 3/3; 8/72] START clf__alpha=1e-06, clf__max_iter=20, clf__n_iter_no_change=9, clf__penalty=l1\n",
      "[CV 3/3; 8/72] END clf__alpha=1e-06, clf__max_iter=20, clf__n_iter_no_change=9, clf__penalty=l1;, score=0.749 total time=   6.1s\n",
      "[CV 1/3; 9/72] START clf__alpha=1e-06, clf__max_iter=20, clf__n_iter_no_change=11, clf__penalty=l2\n",
      "[CV 1/3; 9/72] END clf__alpha=1e-06, clf__max_iter=20, clf__n_iter_no_change=11, clf__penalty=l2;, score=0.758 total time=   5.4s\n",
      "[CV 2/3; 9/72] START clf__alpha=1e-06, clf__max_iter=20, clf__n_iter_no_change=11, clf__penalty=l2\n",
      "[CV 2/3; 9/72] END clf__alpha=1e-06, clf__max_iter=20, clf__n_iter_no_change=11, clf__penalty=l2;, score=0.763 total time=   5.4s\n",
      "[CV 3/3; 9/72] START clf__alpha=1e-06, clf__max_iter=20, clf__n_iter_no_change=11, clf__penalty=l2\n",
      "[CV 3/3; 9/72] END clf__alpha=1e-06, clf__max_iter=20, clf__n_iter_no_change=11, clf__penalty=l2;, score=0.757 total time=   5.4s\n",
      "[CV 1/3; 10/72] START clf__alpha=1e-06, clf__max_iter=20, clf__n_iter_no_change=11, clf__penalty=l1\n",
      "[CV 1/3; 10/72] END clf__alpha=1e-06, clf__max_iter=20, clf__n_iter_no_change=11, clf__penalty=l1;, score=0.752 total time=   6.0s\n",
      "[CV 2/3; 10/72] START clf__alpha=1e-06, clf__max_iter=20, clf__n_iter_no_change=11, clf__penalty=l1\n",
      "[CV 2/3; 10/72] END clf__alpha=1e-06, clf__max_iter=20, clf__n_iter_no_change=11, clf__penalty=l1;, score=0.757 total time=   5.9s\n",
      "[CV 3/3; 10/72] START clf__alpha=1e-06, clf__max_iter=20, clf__n_iter_no_change=11, clf__penalty=l1\n",
      "[CV 3/3; 10/72] END clf__alpha=1e-06, clf__max_iter=20, clf__n_iter_no_change=11, clf__penalty=l1;, score=0.749 total time=   5.9s\n",
      "[CV 1/3; 11/72] START clf__alpha=1e-06, clf__max_iter=20, clf__n_iter_no_change=13, clf__penalty=l2\n",
      "[CV 1/3; 11/72] END clf__alpha=1e-06, clf__max_iter=20, clf__n_iter_no_change=13, clf__penalty=l2;, score=0.758 total time=   5.5s\n",
      "[CV 2/3; 11/72] START clf__alpha=1e-06, clf__max_iter=20, clf__n_iter_no_change=13, clf__penalty=l2\n",
      "[CV 2/3; 11/72] END clf__alpha=1e-06, clf__max_iter=20, clf__n_iter_no_change=13, clf__penalty=l2;, score=0.763 total time=   5.4s\n",
      "[CV 3/3; 11/72] START clf__alpha=1e-06, clf__max_iter=20, clf__n_iter_no_change=13, clf__penalty=l2\n",
      "[CV 3/3; 11/72] END clf__alpha=1e-06, clf__max_iter=20, clf__n_iter_no_change=13, clf__penalty=l2;, score=0.757 total time=   5.5s\n",
      "[CV 1/3; 12/72] START clf__alpha=1e-06, clf__max_iter=20, clf__n_iter_no_change=13, clf__penalty=l1\n",
      "[CV 1/3; 12/72] END clf__alpha=1e-06, clf__max_iter=20, clf__n_iter_no_change=13, clf__penalty=l1;, score=0.752 total time=   5.9s\n",
      "[CV 2/3; 12/72] START clf__alpha=1e-06, clf__max_iter=20, clf__n_iter_no_change=13, clf__penalty=l1\n",
      "[CV 2/3; 12/72] END clf__alpha=1e-06, clf__max_iter=20, clf__n_iter_no_change=13, clf__penalty=l1;, score=0.757 total time=   5.9s\n",
      "[CV 3/3; 12/72] START clf__alpha=1e-06, clf__max_iter=20, clf__n_iter_no_change=13, clf__penalty=l1\n",
      "[CV 3/3; 12/72] END clf__alpha=1e-06, clf__max_iter=20, clf__n_iter_no_change=13, clf__penalty=l1;, score=0.749 total time=   5.9s\n",
      "[CV 1/3; 13/72] START clf__alpha=1e-06, clf__max_iter=30, clf__n_iter_no_change=9, clf__penalty=l2\n",
      "[CV 1/3; 13/72] END clf__alpha=1e-06, clf__max_iter=30, clf__n_iter_no_change=9, clf__penalty=l2;, score=0.759 total time=   5.8s\n",
      "[CV 2/3; 13/72] START clf__alpha=1e-06, clf__max_iter=30, clf__n_iter_no_change=9, clf__penalty=l2\n",
      "[CV 2/3; 13/72] END clf__alpha=1e-06, clf__max_iter=30, clf__n_iter_no_change=9, clf__penalty=l2;, score=0.764 total time=   5.7s\n",
      "[CV 3/3; 13/72] START clf__alpha=1e-06, clf__max_iter=30, clf__n_iter_no_change=9, clf__penalty=l2\n",
      "[CV 3/3; 13/72] END clf__alpha=1e-06, clf__max_iter=30, clf__n_iter_no_change=9, clf__penalty=l2;, score=0.757 total time=   5.5s\n",
      "[CV 1/3; 14/72] START clf__alpha=1e-06, clf__max_iter=30, clf__n_iter_no_change=9, clf__penalty=l1\n",
      "[CV 1/3; 14/72] END clf__alpha=1e-06, clf__max_iter=30, clf__n_iter_no_change=9, clf__penalty=l1;, score=0.752 total time=   5.9s\n",
      "[CV 2/3; 14/72] START clf__alpha=1e-06, clf__max_iter=30, clf__n_iter_no_change=9, clf__penalty=l1\n",
      "[CV 2/3; 14/72] END clf__alpha=1e-06, clf__max_iter=30, clf__n_iter_no_change=9, clf__penalty=l1;, score=0.758 total time=   5.9s\n",
      "[CV 3/3; 14/72] START clf__alpha=1e-06, clf__max_iter=30, clf__n_iter_no_change=9, clf__penalty=l1\n",
      "[CV 3/3; 14/72] END clf__alpha=1e-06, clf__max_iter=30, clf__n_iter_no_change=9, clf__penalty=l1;, score=0.751 total time=   6.0s\n",
      "[CV 1/3; 15/72] START clf__alpha=1e-06, clf__max_iter=30, clf__n_iter_no_change=11, clf__penalty=l2\n",
      "[CV 1/3; 15/72] END clf__alpha=1e-06, clf__max_iter=30, clf__n_iter_no_change=11, clf__penalty=l2;, score=0.759 total time=   5.6s\n",
      "[CV 2/3; 15/72] START clf__alpha=1e-06, clf__max_iter=30, clf__n_iter_no_change=11, clf__penalty=l2\n",
      "[CV 2/3; 15/72] END clf__alpha=1e-06, clf__max_iter=30, clf__n_iter_no_change=11, clf__penalty=l2;, score=0.765 total time=   5.6s\n",
      "[CV 3/3; 15/72] START clf__alpha=1e-06, clf__max_iter=30, clf__n_iter_no_change=11, clf__penalty=l2\n",
      "[CV 3/3; 15/72] END clf__alpha=1e-06, clf__max_iter=30, clf__n_iter_no_change=11, clf__penalty=l2;, score=0.759 total time=   5.7s\n",
      "[CV 1/3; 16/72] START clf__alpha=1e-06, clf__max_iter=30, clf__n_iter_no_change=11, clf__penalty=l1\n",
      "[CV 1/3; 16/72] END clf__alpha=1e-06, clf__max_iter=30, clf__n_iter_no_change=11, clf__penalty=l1;, score=0.750 total time=   5.9s\n",
      "[CV 2/3; 16/72] START clf__alpha=1e-06, clf__max_iter=30, clf__n_iter_no_change=11, clf__penalty=l1\n",
      "[CV 2/3; 16/72] END clf__alpha=1e-06, clf__max_iter=30, clf__n_iter_no_change=11, clf__penalty=l1;, score=0.757 total time=   6.0s\n",
      "[CV 3/3; 16/72] START clf__alpha=1e-06, clf__max_iter=30, clf__n_iter_no_change=11, clf__penalty=l1\n",
      "[CV 3/3; 16/72] END clf__alpha=1e-06, clf__max_iter=30, clf__n_iter_no_change=11, clf__penalty=l1;, score=0.750 total time=   6.1s\n",
      "[CV 1/3; 17/72] START clf__alpha=1e-06, clf__max_iter=30, clf__n_iter_no_change=13, clf__penalty=l2\n",
      "[CV 1/3; 17/72] END clf__alpha=1e-06, clf__max_iter=30, clf__n_iter_no_change=13, clf__penalty=l2;, score=0.759 total time=   5.6s\n",
      "[CV 2/3; 17/72] START clf__alpha=1e-06, clf__max_iter=30, clf__n_iter_no_change=13, clf__penalty=l2\n",
      "[CV 2/3; 17/72] END clf__alpha=1e-06, clf__max_iter=30, clf__n_iter_no_change=13, clf__penalty=l2;, score=0.766 total time=   5.7s\n",
      "[CV 3/3; 17/72] START clf__alpha=1e-06, clf__max_iter=30, clf__n_iter_no_change=13, clf__penalty=l2\n",
      "[CV 3/3; 17/72] END clf__alpha=1e-06, clf__max_iter=30, clf__n_iter_no_change=13, clf__penalty=l2;, score=0.756 total time=   5.6s\n",
      "[CV 1/3; 18/72] START clf__alpha=1e-06, clf__max_iter=30, clf__n_iter_no_change=13, clf__penalty=l1\n",
      "[CV 1/3; 18/72] END clf__alpha=1e-06, clf__max_iter=30, clf__n_iter_no_change=13, clf__penalty=l1;, score=0.751 total time=   6.2s\n",
      "[CV 2/3; 18/72] START clf__alpha=1e-06, clf__max_iter=30, clf__n_iter_no_change=13, clf__penalty=l1\n",
      "[CV 2/3; 18/72] END clf__alpha=1e-06, clf__max_iter=30, clf__n_iter_no_change=13, clf__penalty=l1;, score=0.754 total time=   6.2s\n",
      "[CV 3/3; 18/72] START clf__alpha=1e-06, clf__max_iter=30, clf__n_iter_no_change=13, clf__penalty=l1\n",
      "[CV 3/3; 18/72] END clf__alpha=1e-06, clf__max_iter=30, clf__n_iter_no_change=13, clf__penalty=l1;, score=0.751 total time=   6.4s\n",
      "[CV 1/3; 19/72] START clf__alpha=1e-06, clf__max_iter=500, clf__n_iter_no_change=9, clf__penalty=l2\n",
      "[CV 1/3; 19/72] END clf__alpha=1e-06, clf__max_iter=500, clf__n_iter_no_change=9, clf__penalty=l2;, score=0.759 total time=   5.7s\n",
      "[CV 2/3; 19/72] START clf__alpha=1e-06, clf__max_iter=500, clf__n_iter_no_change=9, clf__penalty=l2\n",
      "[CV 2/3; 19/72] END clf__alpha=1e-06, clf__max_iter=500, clf__n_iter_no_change=9, clf__penalty=l2;, score=0.764 total time=   5.5s\n",
      "[CV 3/3; 19/72] START clf__alpha=1e-06, clf__max_iter=500, clf__n_iter_no_change=9, clf__penalty=l2\n",
      "[CV 3/3; 19/72] END clf__alpha=1e-06, clf__max_iter=500, clf__n_iter_no_change=9, clf__penalty=l2;, score=0.757 total time=   5.6s\n",
      "[CV 1/3; 20/72] START clf__alpha=1e-06, clf__max_iter=500, clf__n_iter_no_change=9, clf__penalty=l1\n",
      "[CV 1/3; 20/72] END clf__alpha=1e-06, clf__max_iter=500, clf__n_iter_no_change=9, clf__penalty=l1;, score=0.752 total time=   6.0s\n",
      "[CV 2/3; 20/72] START clf__alpha=1e-06, clf__max_iter=500, clf__n_iter_no_change=9, clf__penalty=l1\n",
      "[CV 2/3; 20/72] END clf__alpha=1e-06, clf__max_iter=500, clf__n_iter_no_change=9, clf__penalty=l1;, score=0.758 total time=   6.3s\n",
      "[CV 3/3; 20/72] START clf__alpha=1e-06, clf__max_iter=500, clf__n_iter_no_change=9, clf__penalty=l1\n",
      "[CV 3/3; 20/72] END clf__alpha=1e-06, clf__max_iter=500, clf__n_iter_no_change=9, clf__penalty=l1;, score=0.751 total time=   6.0s\n",
      "[CV 1/3; 21/72] START clf__alpha=1e-06, clf__max_iter=500, clf__n_iter_no_change=11, clf__penalty=l2\n",
      "[CV 1/3; 21/72] END clf__alpha=1e-06, clf__max_iter=500, clf__n_iter_no_change=11, clf__penalty=l2;, score=0.759 total time=   5.6s\n",
      "[CV 2/3; 21/72] START clf__alpha=1e-06, clf__max_iter=500, clf__n_iter_no_change=11, clf__penalty=l2\n",
      "[CV 2/3; 21/72] END clf__alpha=1e-06, clf__max_iter=500, clf__n_iter_no_change=11, clf__penalty=l2;, score=0.765 total time=   5.6s\n",
      "[CV 3/3; 21/72] START clf__alpha=1e-06, clf__max_iter=500, clf__n_iter_no_change=11, clf__penalty=l2\n",
      "[CV 3/3; 21/72] END clf__alpha=1e-06, clf__max_iter=500, clf__n_iter_no_change=11, clf__penalty=l2;, score=0.759 total time=   5.6s\n",
      "[CV 1/3; 22/72] START clf__alpha=1e-06, clf__max_iter=500, clf__n_iter_no_change=11, clf__penalty=l1\n",
      "[CV 1/3; 22/72] END clf__alpha=1e-06, clf__max_iter=500, clf__n_iter_no_change=11, clf__penalty=l1;, score=0.750 total time=   6.1s\n",
      "[CV 2/3; 22/72] START clf__alpha=1e-06, clf__max_iter=500, clf__n_iter_no_change=11, clf__penalty=l1\n",
      "[CV 2/3; 22/72] END clf__alpha=1e-06, clf__max_iter=500, clf__n_iter_no_change=11, clf__penalty=l1;, score=0.757 total time=   6.3s\n",
      "[CV 3/3; 22/72] START clf__alpha=1e-06, clf__max_iter=500, clf__n_iter_no_change=11, clf__penalty=l1\n",
      "[CV 3/3; 22/72] END clf__alpha=1e-06, clf__max_iter=500, clf__n_iter_no_change=11, clf__penalty=l1;, score=0.750 total time=   6.0s\n",
      "[CV 1/3; 23/72] START clf__alpha=1e-06, clf__max_iter=500, clf__n_iter_no_change=13, clf__penalty=l2\n",
      "[CV 1/3; 23/72] END clf__alpha=1e-06, clf__max_iter=500, clf__n_iter_no_change=13, clf__penalty=l2;, score=0.759 total time=   5.5s\n",
      "[CV 2/3; 23/72] START clf__alpha=1e-06, clf__max_iter=500, clf__n_iter_no_change=13, clf__penalty=l2\n",
      "[CV 2/3; 23/72] END clf__alpha=1e-06, clf__max_iter=500, clf__n_iter_no_change=13, clf__penalty=l2;, score=0.766 total time=   5.6s\n",
      "[CV 3/3; 23/72] START clf__alpha=1e-06, clf__max_iter=500, clf__n_iter_no_change=13, clf__penalty=l2\n",
      "[CV 3/3; 23/72] END clf__alpha=1e-06, clf__max_iter=500, clf__n_iter_no_change=13, clf__penalty=l2;, score=0.756 total time=   5.6s\n",
      "[CV 1/3; 24/72] START clf__alpha=1e-06, clf__max_iter=500, clf__n_iter_no_change=13, clf__penalty=l1\n",
      "[CV 1/3; 24/72] END clf__alpha=1e-06, clf__max_iter=500, clf__n_iter_no_change=13, clf__penalty=l1;, score=0.751 total time=   6.0s\n",
      "[CV 2/3; 24/72] START clf__alpha=1e-06, clf__max_iter=500, clf__n_iter_no_change=13, clf__penalty=l1\n",
      "[CV 2/3; 24/72] END clf__alpha=1e-06, clf__max_iter=500, clf__n_iter_no_change=13, clf__penalty=l1;, score=0.754 total time=   6.2s\n",
      "[CV 3/3; 24/72] START clf__alpha=1e-06, clf__max_iter=500, clf__n_iter_no_change=13, clf__penalty=l1\n",
      "[CV 3/3; 24/72] END clf__alpha=1e-06, clf__max_iter=500, clf__n_iter_no_change=13, clf__penalty=l1;, score=0.751 total time=   6.2s\n",
      "[CV 1/3; 25/72] START clf__alpha=5e-06, clf__max_iter=15, clf__n_iter_no_change=9, clf__penalty=l2\n",
      "[CV 1/3; 25/72] END clf__alpha=5e-06, clf__max_iter=15, clf__n_iter_no_change=9, clf__penalty=l2;, score=0.781 total time=   5.3s\n",
      "[CV 2/3; 25/72] START clf__alpha=5e-06, clf__max_iter=15, clf__n_iter_no_change=9, clf__penalty=l2\n",
      "[CV 2/3; 25/72] END clf__alpha=5e-06, clf__max_iter=15, clf__n_iter_no_change=9, clf__penalty=l2;, score=0.782 total time=   5.4s\n",
      "[CV 3/3; 25/72] START clf__alpha=5e-06, clf__max_iter=15, clf__n_iter_no_change=9, clf__penalty=l2\n",
      "[CV 3/3; 25/72] END clf__alpha=5e-06, clf__max_iter=15, clf__n_iter_no_change=9, clf__penalty=l2;, score=0.776 total time=   5.4s\n",
      "[CV 1/3; 26/72] START clf__alpha=5e-06, clf__max_iter=15, clf__n_iter_no_change=9, clf__penalty=l1\n",
      "[CV 1/3; 26/72] END clf__alpha=5e-06, clf__max_iter=15, clf__n_iter_no_change=9, clf__penalty=l1;, score=0.783 total time=   5.8s\n",
      "[CV 2/3; 26/72] START clf__alpha=5e-06, clf__max_iter=15, clf__n_iter_no_change=9, clf__penalty=l1\n",
      "[CV 2/3; 26/72] END clf__alpha=5e-06, clf__max_iter=15, clf__n_iter_no_change=9, clf__penalty=l1;, score=0.793 total time=   5.7s\n",
      "[CV 3/3; 26/72] START clf__alpha=5e-06, clf__max_iter=15, clf__n_iter_no_change=9, clf__penalty=l1\n",
      "[CV 3/3; 26/72] END clf__alpha=5e-06, clf__max_iter=15, clf__n_iter_no_change=9, clf__penalty=l1;, score=0.787 total time=   5.7s\n",
      "[CV 1/3; 27/72] START clf__alpha=5e-06, clf__max_iter=15, clf__n_iter_no_change=11, clf__penalty=l2\n",
      "[CV 1/3; 27/72] END clf__alpha=5e-06, clf__max_iter=15, clf__n_iter_no_change=11, clf__penalty=l2;, score=0.781 total time=   5.4s\n",
      "[CV 2/3; 27/72] START clf__alpha=5e-06, clf__max_iter=15, clf__n_iter_no_change=11, clf__penalty=l2\n",
      "[CV 2/3; 27/72] END clf__alpha=5e-06, clf__max_iter=15, clf__n_iter_no_change=11, clf__penalty=l2;, score=0.782 total time=   5.4s\n",
      "[CV 3/3; 27/72] START clf__alpha=5e-06, clf__max_iter=15, clf__n_iter_no_change=11, clf__penalty=l2\n",
      "[CV 3/3; 27/72] END clf__alpha=5e-06, clf__max_iter=15, clf__n_iter_no_change=11, clf__penalty=l2;, score=0.776 total time=   5.4s\n",
      "[CV 1/3; 28/72] START clf__alpha=5e-06, clf__max_iter=15, clf__n_iter_no_change=11, clf__penalty=l1\n",
      "[CV 1/3; 28/72] END clf__alpha=5e-06, clf__max_iter=15, clf__n_iter_no_change=11, clf__penalty=l1;, score=0.783 total time=   5.6s\n",
      "[CV 2/3; 28/72] START clf__alpha=5e-06, clf__max_iter=15, clf__n_iter_no_change=11, clf__penalty=l1\n",
      "[CV 2/3; 28/72] END clf__alpha=5e-06, clf__max_iter=15, clf__n_iter_no_change=11, clf__penalty=l1;, score=0.793 total time=   5.7s\n",
      "[CV 3/3; 28/72] START clf__alpha=5e-06, clf__max_iter=15, clf__n_iter_no_change=11, clf__penalty=l1\n",
      "[CV 3/3; 28/72] END clf__alpha=5e-06, clf__max_iter=15, clf__n_iter_no_change=11, clf__penalty=l1;, score=0.787 total time=   5.6s\n",
      "[CV 1/3; 29/72] START clf__alpha=5e-06, clf__max_iter=15, clf__n_iter_no_change=13, clf__penalty=l2\n",
      "[CV 1/3; 29/72] END clf__alpha=5e-06, clf__max_iter=15, clf__n_iter_no_change=13, clf__penalty=l2;, score=0.781 total time=   5.6s\n",
      "[CV 2/3; 29/72] START clf__alpha=5e-06, clf__max_iter=15, clf__n_iter_no_change=13, clf__penalty=l2\n",
      "[CV 2/3; 29/72] END clf__alpha=5e-06, clf__max_iter=15, clf__n_iter_no_change=13, clf__penalty=l2;, score=0.782 total time=   5.6s\n",
      "[CV 3/3; 29/72] START clf__alpha=5e-06, clf__max_iter=15, clf__n_iter_no_change=13, clf__penalty=l2\n",
      "[CV 3/3; 29/72] END clf__alpha=5e-06, clf__max_iter=15, clf__n_iter_no_change=13, clf__penalty=l2;, score=0.776 total time=   5.5s\n",
      "[CV 1/3; 30/72] START clf__alpha=5e-06, clf__max_iter=15, clf__n_iter_no_change=13, clf__penalty=l1\n",
      "[CV 1/3; 30/72] END clf__alpha=5e-06, clf__max_iter=15, clf__n_iter_no_change=13, clf__penalty=l1;, score=0.783 total time=   5.8s\n",
      "[CV 2/3; 30/72] START clf__alpha=5e-06, clf__max_iter=15, clf__n_iter_no_change=13, clf__penalty=l1\n",
      "[CV 2/3; 30/72] END clf__alpha=5e-06, clf__max_iter=15, clf__n_iter_no_change=13, clf__penalty=l1;, score=0.793 total time=   5.8s\n",
      "[CV 3/3; 30/72] START clf__alpha=5e-06, clf__max_iter=15, clf__n_iter_no_change=13, clf__penalty=l1\n",
      "[CV 3/3; 30/72] END clf__alpha=5e-06, clf__max_iter=15, clf__n_iter_no_change=13, clf__penalty=l1;, score=0.787 total time=   5.8s\n",
      "[CV 1/3; 31/72] START clf__alpha=5e-06, clf__max_iter=20, clf__n_iter_no_change=9, clf__penalty=l2\n",
      "[CV 1/3; 31/72] END clf__alpha=5e-06, clf__max_iter=20, clf__n_iter_no_change=9, clf__penalty=l2;, score=0.775 total time=   5.6s\n",
      "[CV 2/3; 31/72] START clf__alpha=5e-06, clf__max_iter=20, clf__n_iter_no_change=9, clf__penalty=l2\n",
      "[CV 2/3; 31/72] END clf__alpha=5e-06, clf__max_iter=20, clf__n_iter_no_change=9, clf__penalty=l2;, score=0.784 total time=   5.7s\n",
      "[CV 3/3; 31/72] START clf__alpha=5e-06, clf__max_iter=20, clf__n_iter_no_change=9, clf__penalty=l2\n",
      "[CV 3/3; 31/72] END clf__alpha=5e-06, clf__max_iter=20, clf__n_iter_no_change=9, clf__penalty=l2;, score=0.777 total time=   5.6s\n",
      "[CV 1/3; 32/72] START clf__alpha=5e-06, clf__max_iter=20, clf__n_iter_no_change=9, clf__penalty=l1\n",
      "[CV 1/3; 32/72] END clf__alpha=5e-06, clf__max_iter=20, clf__n_iter_no_change=9, clf__penalty=l1;, score=0.783 total time=   5.8s\n",
      "[CV 2/3; 32/72] START clf__alpha=5e-06, clf__max_iter=20, clf__n_iter_no_change=9, clf__penalty=l1\n",
      "[CV 2/3; 32/72] END clf__alpha=5e-06, clf__max_iter=20, clf__n_iter_no_change=9, clf__penalty=l1;, score=0.790 total time=   5.8s\n",
      "[CV 3/3; 32/72] START clf__alpha=5e-06, clf__max_iter=20, clf__n_iter_no_change=9, clf__penalty=l1\n",
      "[CV 3/3; 32/72] END clf__alpha=5e-06, clf__max_iter=20, clf__n_iter_no_change=9, clf__penalty=l1;, score=0.788 total time=   5.9s\n",
      "[CV 1/3; 33/72] START clf__alpha=5e-06, clf__max_iter=20, clf__n_iter_no_change=11, clf__penalty=l2\n",
      "[CV 1/3; 33/72] END clf__alpha=5e-06, clf__max_iter=20, clf__n_iter_no_change=11, clf__penalty=l2;, score=0.779 total time=   5.7s\n",
      "[CV 2/3; 33/72] START clf__alpha=5e-06, clf__max_iter=20, clf__n_iter_no_change=11, clf__penalty=l2\n",
      "[CV 2/3; 33/72] END clf__alpha=5e-06, clf__max_iter=20, clf__n_iter_no_change=11, clf__penalty=l2;, score=0.782 total time=   5.5s\n",
      "[CV 3/3; 33/72] START clf__alpha=5e-06, clf__max_iter=20, clf__n_iter_no_change=11, clf__penalty=l2\n",
      "[CV 3/3; 33/72] END clf__alpha=5e-06, clf__max_iter=20, clf__n_iter_no_change=11, clf__penalty=l2;, score=0.778 total time=   5.6s\n",
      "[CV 1/3; 34/72] START clf__alpha=5e-06, clf__max_iter=20, clf__n_iter_no_change=11, clf__penalty=l1\n",
      "[CV 1/3; 34/72] END clf__alpha=5e-06, clf__max_iter=20, clf__n_iter_no_change=11, clf__penalty=l1;, score=0.783 total time=   5.9s\n",
      "[CV 2/3; 34/72] START clf__alpha=5e-06, clf__max_iter=20, clf__n_iter_no_change=11, clf__penalty=l1\n",
      "[CV 2/3; 34/72] END clf__alpha=5e-06, clf__max_iter=20, clf__n_iter_no_change=11, clf__penalty=l1;, score=0.792 total time=   6.0s\n",
      "[CV 3/3; 34/72] START clf__alpha=5e-06, clf__max_iter=20, clf__n_iter_no_change=11, clf__penalty=l1\n",
      "[CV 3/3; 34/72] END clf__alpha=5e-06, clf__max_iter=20, clf__n_iter_no_change=11, clf__penalty=l1;, score=0.789 total time=   5.9s\n",
      "[CV 1/3; 35/72] START clf__alpha=5e-06, clf__max_iter=20, clf__n_iter_no_change=13, clf__penalty=l2\n",
      "[CV 1/3; 35/72] END clf__alpha=5e-06, clf__max_iter=20, clf__n_iter_no_change=13, clf__penalty=l2;, score=0.779 total time=   5.5s\n",
      "[CV 2/3; 35/72] START clf__alpha=5e-06, clf__max_iter=20, clf__n_iter_no_change=13, clf__penalty=l2\n",
      "[CV 2/3; 35/72] END clf__alpha=5e-06, clf__max_iter=20, clf__n_iter_no_change=13, clf__penalty=l2;, score=0.782 total time=   5.4s\n",
      "[CV 3/3; 35/72] START clf__alpha=5e-06, clf__max_iter=20, clf__n_iter_no_change=13, clf__penalty=l2\n",
      "[CV 3/3; 35/72] END clf__alpha=5e-06, clf__max_iter=20, clf__n_iter_no_change=13, clf__penalty=l2;, score=0.778 total time=   5.4s\n",
      "[CV 1/3; 36/72] START clf__alpha=5e-06, clf__max_iter=20, clf__n_iter_no_change=13, clf__penalty=l1\n",
      "[CV 1/3; 36/72] END clf__alpha=5e-06, clf__max_iter=20, clf__n_iter_no_change=13, clf__penalty=l1;, score=0.783 total time=   6.0s\n",
      "[CV 2/3; 36/72] START clf__alpha=5e-06, clf__max_iter=20, clf__n_iter_no_change=13, clf__penalty=l1\n",
      "[CV 2/3; 36/72] END clf__alpha=5e-06, clf__max_iter=20, clf__n_iter_no_change=13, clf__penalty=l1;, score=0.791 total time=   6.1s\n",
      "[CV 3/3; 36/72] START clf__alpha=5e-06, clf__max_iter=20, clf__n_iter_no_change=13, clf__penalty=l1\n",
      "[CV 3/3; 36/72] END clf__alpha=5e-06, clf__max_iter=20, clf__n_iter_no_change=13, clf__penalty=l1;, score=0.789 total time=   6.0s\n",
      "[CV 1/3; 37/72] START clf__alpha=5e-06, clf__max_iter=30, clf__n_iter_no_change=9, clf__penalty=l2\n",
      "[CV 1/3; 37/72] END clf__alpha=5e-06, clf__max_iter=30, clf__n_iter_no_change=9, clf__penalty=l2;, score=0.775 total time=   5.5s\n",
      "[CV 2/3; 37/72] START clf__alpha=5e-06, clf__max_iter=30, clf__n_iter_no_change=9, clf__penalty=l2\n",
      "[CV 2/3; 37/72] END clf__alpha=5e-06, clf__max_iter=30, clf__n_iter_no_change=9, clf__penalty=l2;, score=0.784 total time=   5.6s\n",
      "[CV 3/3; 37/72] START clf__alpha=5e-06, clf__max_iter=30, clf__n_iter_no_change=9, clf__penalty=l2\n",
      "[CV 3/3; 37/72] END clf__alpha=5e-06, clf__max_iter=30, clf__n_iter_no_change=9, clf__penalty=l2;, score=0.777 total time=   5.6s\n",
      "[CV 1/3; 38/72] START clf__alpha=5e-06, clf__max_iter=30, clf__n_iter_no_change=9, clf__penalty=l1\n",
      "[CV 1/3; 38/72] END clf__alpha=5e-06, clf__max_iter=30, clf__n_iter_no_change=9, clf__penalty=l1;, score=0.783 total time=   5.8s\n",
      "[CV 2/3; 38/72] START clf__alpha=5e-06, clf__max_iter=30, clf__n_iter_no_change=9, clf__penalty=l1\n",
      "[CV 2/3; 38/72] END clf__alpha=5e-06, clf__max_iter=30, clf__n_iter_no_change=9, clf__penalty=l1;, score=0.790 total time=   5.7s\n",
      "[CV 3/3; 38/72] START clf__alpha=5e-06, clf__max_iter=30, clf__n_iter_no_change=9, clf__penalty=l1\n",
      "[CV 3/3; 38/72] END clf__alpha=5e-06, clf__max_iter=30, clf__n_iter_no_change=9, clf__penalty=l1;, score=0.788 total time=   5.8s\n",
      "[CV 1/3; 39/72] START clf__alpha=5e-06, clf__max_iter=30, clf__n_iter_no_change=11, clf__penalty=l2\n",
      "[CV 1/3; 39/72] END clf__alpha=5e-06, clf__max_iter=30, clf__n_iter_no_change=11, clf__penalty=l2;, score=0.779 total time=   5.5s\n",
      "[CV 2/3; 39/72] START clf__alpha=5e-06, clf__max_iter=30, clf__n_iter_no_change=11, clf__penalty=l2\n",
      "[CV 2/3; 39/72] END clf__alpha=5e-06, clf__max_iter=30, clf__n_iter_no_change=11, clf__penalty=l2;, score=0.783 total time=   5.5s\n",
      "[CV 3/3; 39/72] START clf__alpha=5e-06, clf__max_iter=30, clf__n_iter_no_change=11, clf__penalty=l2\n",
      "[CV 3/3; 39/72] END clf__alpha=5e-06, clf__max_iter=30, clf__n_iter_no_change=11, clf__penalty=l2;, score=0.778 total time=   5.5s\n",
      "[CV 1/3; 40/72] START clf__alpha=5e-06, clf__max_iter=30, clf__n_iter_no_change=11, clf__penalty=l1\n",
      "[CV 1/3; 40/72] END clf__alpha=5e-06, clf__max_iter=30, clf__n_iter_no_change=11, clf__penalty=l1;, score=0.783 total time=   5.8s\n",
      "[CV 2/3; 40/72] START clf__alpha=5e-06, clf__max_iter=30, clf__n_iter_no_change=11, clf__penalty=l1\n",
      "[CV 2/3; 40/72] END clf__alpha=5e-06, clf__max_iter=30, clf__n_iter_no_change=11, clf__penalty=l1;, score=0.792 total time=   5.8s\n",
      "[CV 3/3; 40/72] START clf__alpha=5e-06, clf__max_iter=30, clf__n_iter_no_change=11, clf__penalty=l1\n",
      "[CV 3/3; 40/72] END clf__alpha=5e-06, clf__max_iter=30, clf__n_iter_no_change=11, clf__penalty=l1;, score=0.789 total time=   5.8s\n",
      "[CV 1/3; 41/72] START clf__alpha=5e-06, clf__max_iter=30, clf__n_iter_no_change=13, clf__penalty=l2\n",
      "[CV 1/3; 41/72] END clf__alpha=5e-06, clf__max_iter=30, clf__n_iter_no_change=13, clf__penalty=l2;, score=0.781 total time=   5.5s\n",
      "[CV 2/3; 41/72] START clf__alpha=5e-06, clf__max_iter=30, clf__n_iter_no_change=13, clf__penalty=l2\n",
      "[CV 2/3; 41/72] END clf__alpha=5e-06, clf__max_iter=30, clf__n_iter_no_change=13, clf__penalty=l2;, score=0.780 total time=   5.8s\n",
      "[CV 3/3; 41/72] START clf__alpha=5e-06, clf__max_iter=30, clf__n_iter_no_change=13, clf__penalty=l2\n",
      "[CV 3/3; 41/72] END clf__alpha=5e-06, clf__max_iter=30, clf__n_iter_no_change=13, clf__penalty=l2;, score=0.777 total time=   5.6s\n",
      "[CV 1/3; 42/72] START clf__alpha=5e-06, clf__max_iter=30, clf__n_iter_no_change=13, clf__penalty=l1\n",
      "[CV 1/3; 42/72] END clf__alpha=5e-06, clf__max_iter=30, clf__n_iter_no_change=13, clf__penalty=l1;, score=0.782 total time=   6.0s\n",
      "[CV 2/3; 42/72] START clf__alpha=5e-06, clf__max_iter=30, clf__n_iter_no_change=13, clf__penalty=l1\n",
      "[CV 2/3; 42/72] END clf__alpha=5e-06, clf__max_iter=30, clf__n_iter_no_change=13, clf__penalty=l1;, score=0.791 total time=   6.0s\n",
      "[CV 3/3; 42/72] START clf__alpha=5e-06, clf__max_iter=30, clf__n_iter_no_change=13, clf__penalty=l1\n",
      "[CV 3/3; 42/72] END clf__alpha=5e-06, clf__max_iter=30, clf__n_iter_no_change=13, clf__penalty=l1;, score=0.789 total time=   6.0s\n",
      "[CV 1/3; 43/72] START clf__alpha=5e-06, clf__max_iter=500, clf__n_iter_no_change=9, clf__penalty=l2\n",
      "[CV 1/3; 43/72] END clf__alpha=5e-06, clf__max_iter=500, clf__n_iter_no_change=9, clf__penalty=l2;, score=0.775 total time=   5.6s\n",
      "[CV 2/3; 43/72] START clf__alpha=5e-06, clf__max_iter=500, clf__n_iter_no_change=9, clf__penalty=l2\n",
      "[CV 2/3; 43/72] END clf__alpha=5e-06, clf__max_iter=500, clf__n_iter_no_change=9, clf__penalty=l2;, score=0.784 total time=   5.8s\n",
      "[CV 3/3; 43/72] START clf__alpha=5e-06, clf__max_iter=500, clf__n_iter_no_change=9, clf__penalty=l2\n",
      "[CV 3/3; 43/72] END clf__alpha=5e-06, clf__max_iter=500, clf__n_iter_no_change=9, clf__penalty=l2;, score=0.777 total time=   5.5s\n",
      "[CV 1/3; 44/72] START clf__alpha=5e-06, clf__max_iter=500, clf__n_iter_no_change=9, clf__penalty=l1\n",
      "[CV 1/3; 44/72] END clf__alpha=5e-06, clf__max_iter=500, clf__n_iter_no_change=9, clf__penalty=l1;, score=0.783 total time=   5.7s\n",
      "[CV 2/3; 44/72] START clf__alpha=5e-06, clf__max_iter=500, clf__n_iter_no_change=9, clf__penalty=l1\n",
      "[CV 2/3; 44/72] END clf__alpha=5e-06, clf__max_iter=500, clf__n_iter_no_change=9, clf__penalty=l1;, score=0.790 total time=   5.8s\n",
      "[CV 3/3; 44/72] START clf__alpha=5e-06, clf__max_iter=500, clf__n_iter_no_change=9, clf__penalty=l1\n",
      "[CV 3/3; 44/72] END clf__alpha=5e-06, clf__max_iter=500, clf__n_iter_no_change=9, clf__penalty=l1;, score=0.788 total time=   5.9s\n",
      "[CV 1/3; 45/72] START clf__alpha=5e-06, clf__max_iter=500, clf__n_iter_no_change=11, clf__penalty=l2\n",
      "[CV 1/3; 45/72] END clf__alpha=5e-06, clf__max_iter=500, clf__n_iter_no_change=11, clf__penalty=l2;, score=0.779 total time=   5.5s\n",
      "[CV 2/3; 45/72] START clf__alpha=5e-06, clf__max_iter=500, clf__n_iter_no_change=11, clf__penalty=l2\n",
      "[CV 2/3; 45/72] END clf__alpha=5e-06, clf__max_iter=500, clf__n_iter_no_change=11, clf__penalty=l2;, score=0.783 total time=   5.5s\n",
      "[CV 3/3; 45/72] START clf__alpha=5e-06, clf__max_iter=500, clf__n_iter_no_change=11, clf__penalty=l2\n",
      "[CV 3/3; 45/72] END clf__alpha=5e-06, clf__max_iter=500, clf__n_iter_no_change=11, clf__penalty=l2;, score=0.778 total time=   5.5s\n",
      "[CV 1/3; 46/72] START clf__alpha=5e-06, clf__max_iter=500, clf__n_iter_no_change=11, clf__penalty=l1\n",
      "[CV 1/3; 46/72] END clf__alpha=5e-06, clf__max_iter=500, clf__n_iter_no_change=11, clf__penalty=l1;, score=0.783 total time=   5.9s\n",
      "[CV 2/3; 46/72] START clf__alpha=5e-06, clf__max_iter=500, clf__n_iter_no_change=11, clf__penalty=l1\n",
      "[CV 2/3; 46/72] END clf__alpha=5e-06, clf__max_iter=500, clf__n_iter_no_change=11, clf__penalty=l1;, score=0.792 total time=   5.8s\n",
      "[CV 3/3; 46/72] START clf__alpha=5e-06, clf__max_iter=500, clf__n_iter_no_change=11, clf__penalty=l1\n",
      "[CV 3/3; 46/72] END clf__alpha=5e-06, clf__max_iter=500, clf__n_iter_no_change=11, clf__penalty=l1;, score=0.789 total time=   5.9s\n",
      "[CV 1/3; 47/72] START clf__alpha=5e-06, clf__max_iter=500, clf__n_iter_no_change=13, clf__penalty=l2\n",
      "[CV 1/3; 47/72] END clf__alpha=5e-06, clf__max_iter=500, clf__n_iter_no_change=13, clf__penalty=l2;, score=0.781 total time=   5.6s\n",
      "[CV 2/3; 47/72] START clf__alpha=5e-06, clf__max_iter=500, clf__n_iter_no_change=13, clf__penalty=l2\n",
      "[CV 2/3; 47/72] END clf__alpha=5e-06, clf__max_iter=500, clf__n_iter_no_change=13, clf__penalty=l2;, score=0.780 total time=   5.6s\n",
      "[CV 3/3; 47/72] START clf__alpha=5e-06, clf__max_iter=500, clf__n_iter_no_change=13, clf__penalty=l2\n",
      "[CV 3/3; 47/72] END clf__alpha=5e-06, clf__max_iter=500, clf__n_iter_no_change=13, clf__penalty=l2;, score=0.777 total time=   5.5s\n",
      "[CV 1/3; 48/72] START clf__alpha=5e-06, clf__max_iter=500, clf__n_iter_no_change=13, clf__penalty=l1\n",
      "[CV 1/3; 48/72] END clf__alpha=5e-06, clf__max_iter=500, clf__n_iter_no_change=13, clf__penalty=l1;, score=0.782 total time=   6.0s\n",
      "[CV 2/3; 48/72] START clf__alpha=5e-06, clf__max_iter=500, clf__n_iter_no_change=13, clf__penalty=l1\n",
      "[CV 2/3; 48/72] END clf__alpha=5e-06, clf__max_iter=500, clf__n_iter_no_change=13, clf__penalty=l1;, score=0.791 total time=   6.0s\n",
      "[CV 3/3; 48/72] START clf__alpha=5e-06, clf__max_iter=500, clf__n_iter_no_change=13, clf__penalty=l1\n",
      "[CV 3/3; 48/72] END clf__alpha=5e-06, clf__max_iter=500, clf__n_iter_no_change=13, clf__penalty=l1;, score=0.789 total time=   6.0s\n",
      "[CV 1/3; 49/72] START clf__alpha=1e-05, clf__max_iter=15, clf__n_iter_no_change=9, clf__penalty=l2\n",
      "[CV 1/3; 49/72] END clf__alpha=1e-05, clf__max_iter=15, clf__n_iter_no_change=9, clf__penalty=l2;, score=0.775 total time=   5.3s\n",
      "[CV 2/3; 49/72] START clf__alpha=1e-05, clf__max_iter=15, clf__n_iter_no_change=9, clf__penalty=l2\n",
      "[CV 2/3; 49/72] END clf__alpha=1e-05, clf__max_iter=15, clf__n_iter_no_change=9, clf__penalty=l2;, score=0.777 total time=   5.4s\n",
      "[CV 3/3; 49/72] START clf__alpha=1e-05, clf__max_iter=15, clf__n_iter_no_change=9, clf__penalty=l2\n",
      "[CV 3/3; 49/72] END clf__alpha=1e-05, clf__max_iter=15, clf__n_iter_no_change=9, clf__penalty=l2;, score=0.770 total time=   5.2s\n",
      "[CV 1/3; 50/72] START clf__alpha=1e-05, clf__max_iter=15, clf__n_iter_no_change=9, clf__penalty=l1\n",
      "[CV 1/3; 50/72] END clf__alpha=1e-05, clf__max_iter=15, clf__n_iter_no_change=9, clf__penalty=l1;, score=0.778 total time=   5.7s\n",
      "[CV 2/3; 50/72] START clf__alpha=1e-05, clf__max_iter=15, clf__n_iter_no_change=9, clf__penalty=l1\n",
      "[CV 2/3; 50/72] END clf__alpha=1e-05, clf__max_iter=15, clf__n_iter_no_change=9, clf__penalty=l1;, score=0.780 total time=   5.7s\n",
      "[CV 3/3; 50/72] START clf__alpha=1e-05, clf__max_iter=15, clf__n_iter_no_change=9, clf__penalty=l1\n",
      "[CV 3/3; 50/72] END clf__alpha=1e-05, clf__max_iter=15, clf__n_iter_no_change=9, clf__penalty=l1;, score=0.782 total time=   5.6s\n",
      "[CV 1/3; 51/72] START clf__alpha=1e-05, clf__max_iter=15, clf__n_iter_no_change=11, clf__penalty=l2\n",
      "[CV 1/3; 51/72] END clf__alpha=1e-05, clf__max_iter=15, clf__n_iter_no_change=11, clf__penalty=l2;, score=0.775 total time=   5.4s\n",
      "[CV 2/3; 51/72] START clf__alpha=1e-05, clf__max_iter=15, clf__n_iter_no_change=11, clf__penalty=l2\n",
      "[CV 2/3; 51/72] END clf__alpha=1e-05, clf__max_iter=15, clf__n_iter_no_change=11, clf__penalty=l2;, score=0.777 total time=   5.3s\n",
      "[CV 3/3; 51/72] START clf__alpha=1e-05, clf__max_iter=15, clf__n_iter_no_change=11, clf__penalty=l2\n",
      "[CV 3/3; 51/72] END clf__alpha=1e-05, clf__max_iter=15, clf__n_iter_no_change=11, clf__penalty=l2;, score=0.770 total time=   5.4s\n",
      "[CV 1/3; 52/72] START clf__alpha=1e-05, clf__max_iter=15, clf__n_iter_no_change=11, clf__penalty=l1\n",
      "[CV 1/3; 52/72] END clf__alpha=1e-05, clf__max_iter=15, clf__n_iter_no_change=11, clf__penalty=l1;, score=0.779 total time=   5.7s\n",
      "[CV 2/3; 52/72] START clf__alpha=1e-05, clf__max_iter=15, clf__n_iter_no_change=11, clf__penalty=l1\n",
      "[CV 2/3; 52/72] END clf__alpha=1e-05, clf__max_iter=15, clf__n_iter_no_change=11, clf__penalty=l1;, score=0.782 total time=   5.6s\n",
      "[CV 3/3; 52/72] START clf__alpha=1e-05, clf__max_iter=15, clf__n_iter_no_change=11, clf__penalty=l1\n",
      "[CV 3/3; 52/72] END clf__alpha=1e-05, clf__max_iter=15, clf__n_iter_no_change=11, clf__penalty=l1;, score=0.783 total time=   5.6s\n",
      "[CV 1/3; 53/72] START clf__alpha=1e-05, clf__max_iter=15, clf__n_iter_no_change=13, clf__penalty=l2\n",
      "[CV 1/3; 53/72] END clf__alpha=1e-05, clf__max_iter=15, clf__n_iter_no_change=13, clf__penalty=l2;, score=0.775 total time=   5.3s\n",
      "[CV 2/3; 53/72] START clf__alpha=1e-05, clf__max_iter=15, clf__n_iter_no_change=13, clf__penalty=l2\n",
      "[CV 2/3; 53/72] END clf__alpha=1e-05, clf__max_iter=15, clf__n_iter_no_change=13, clf__penalty=l2;, score=0.777 total time=   5.3s\n",
      "[CV 3/3; 53/72] START clf__alpha=1e-05, clf__max_iter=15, clf__n_iter_no_change=13, clf__penalty=l2\n",
      "[CV 3/3; 53/72] END clf__alpha=1e-05, clf__max_iter=15, clf__n_iter_no_change=13, clf__penalty=l2;, score=0.770 total time=   5.5s\n",
      "[CV 1/3; 54/72] START clf__alpha=1e-05, clf__max_iter=15, clf__n_iter_no_change=13, clf__penalty=l1\n",
      "[CV 1/3; 54/72] END clf__alpha=1e-05, clf__max_iter=15, clf__n_iter_no_change=13, clf__penalty=l1;, score=0.779 total time=   5.7s\n",
      "[CV 2/3; 54/72] START clf__alpha=1e-05, clf__max_iter=15, clf__n_iter_no_change=13, clf__penalty=l1\n",
      "[CV 2/3; 54/72] END clf__alpha=1e-05, clf__max_iter=15, clf__n_iter_no_change=13, clf__penalty=l1;, score=0.782 total time=   5.6s\n",
      "[CV 3/3; 54/72] START clf__alpha=1e-05, clf__max_iter=15, clf__n_iter_no_change=13, clf__penalty=l1\n",
      "[CV 3/3; 54/72] END clf__alpha=1e-05, clf__max_iter=15, clf__n_iter_no_change=13, clf__penalty=l1;, score=0.783 total time=   5.6s\n",
      "[CV 1/3; 55/72] START clf__alpha=1e-05, clf__max_iter=20, clf__n_iter_no_change=9, clf__penalty=l2\n",
      "[CV 1/3; 55/72] END clf__alpha=1e-05, clf__max_iter=20, clf__n_iter_no_change=9, clf__penalty=l2;, score=0.775 total time=   5.3s\n",
      "[CV 2/3; 55/72] START clf__alpha=1e-05, clf__max_iter=20, clf__n_iter_no_change=9, clf__penalty=l2\n",
      "[CV 2/3; 55/72] END clf__alpha=1e-05, clf__max_iter=20, clf__n_iter_no_change=9, clf__penalty=l2;, score=0.780 total time=   5.4s\n",
      "[CV 3/3; 55/72] START clf__alpha=1e-05, clf__max_iter=20, clf__n_iter_no_change=9, clf__penalty=l2\n",
      "[CV 3/3; 55/72] END clf__alpha=1e-05, clf__max_iter=20, clf__n_iter_no_change=9, clf__penalty=l2;, score=0.773 total time=   5.4s\n",
      "[CV 1/3; 56/72] START clf__alpha=1e-05, clf__max_iter=20, clf__n_iter_no_change=9, clf__penalty=l1\n",
      "[CV 1/3; 56/72] END clf__alpha=1e-05, clf__max_iter=20, clf__n_iter_no_change=9, clf__penalty=l1;, score=0.778 total time=   5.6s\n",
      "[CV 2/3; 56/72] START clf__alpha=1e-05, clf__max_iter=20, clf__n_iter_no_change=9, clf__penalty=l1\n",
      "[CV 2/3; 56/72] END clf__alpha=1e-05, clf__max_iter=20, clf__n_iter_no_change=9, clf__penalty=l1;, score=0.780 total time=   5.6s\n",
      "[CV 3/3; 56/72] START clf__alpha=1e-05, clf__max_iter=20, clf__n_iter_no_change=9, clf__penalty=l1\n",
      "[CV 3/3; 56/72] END clf__alpha=1e-05, clf__max_iter=20, clf__n_iter_no_change=9, clf__penalty=l1;, score=0.782 total time=   5.6s\n",
      "[CV 1/3; 57/72] START clf__alpha=1e-05, clf__max_iter=20, clf__n_iter_no_change=11, clf__penalty=l2\n",
      "[CV 1/3; 57/72] END clf__alpha=1e-05, clf__max_iter=20, clf__n_iter_no_change=11, clf__penalty=l2;, score=0.774 total time=   5.5s\n",
      "[CV 2/3; 57/72] START clf__alpha=1e-05, clf__max_iter=20, clf__n_iter_no_change=11, clf__penalty=l2\n",
      "[CV 2/3; 57/72] END clf__alpha=1e-05, clf__max_iter=20, clf__n_iter_no_change=11, clf__penalty=l2;, score=0.780 total time=   5.5s\n",
      "[CV 3/3; 57/72] START clf__alpha=1e-05, clf__max_iter=20, clf__n_iter_no_change=11, clf__penalty=l2\n",
      "[CV 3/3; 57/72] END clf__alpha=1e-05, clf__max_iter=20, clf__n_iter_no_change=11, clf__penalty=l2;, score=0.770 total time=   5.5s\n",
      "[CV 1/3; 58/72] START clf__alpha=1e-05, clf__max_iter=20, clf__n_iter_no_change=11, clf__penalty=l1\n",
      "[CV 1/3; 58/72] END clf__alpha=1e-05, clf__max_iter=20, clf__n_iter_no_change=11, clf__penalty=l1;, score=0.777 total time=   5.6s\n",
      "[CV 2/3; 58/72] START clf__alpha=1e-05, clf__max_iter=20, clf__n_iter_no_change=11, clf__penalty=l1\n",
      "[CV 2/3; 58/72] END clf__alpha=1e-05, clf__max_iter=20, clf__n_iter_no_change=11, clf__penalty=l1;, score=0.783 total time=   5.6s\n",
      "[CV 3/3; 58/72] START clf__alpha=1e-05, clf__max_iter=20, clf__n_iter_no_change=11, clf__penalty=l1\n",
      "[CV 3/3; 58/72] END clf__alpha=1e-05, clf__max_iter=20, clf__n_iter_no_change=11, clf__penalty=l1;, score=0.783 total time=   5.7s\n",
      "[CV 1/3; 59/72] START clf__alpha=1e-05, clf__max_iter=20, clf__n_iter_no_change=13, clf__penalty=l2\n",
      "[CV 1/3; 59/72] END clf__alpha=1e-05, clf__max_iter=20, clf__n_iter_no_change=13, clf__penalty=l2;, score=0.774 total time=   5.7s\n",
      "[CV 2/3; 59/72] START clf__alpha=1e-05, clf__max_iter=20, clf__n_iter_no_change=13, clf__penalty=l2\n",
      "[CV 2/3; 59/72] END clf__alpha=1e-05, clf__max_iter=20, clf__n_iter_no_change=13, clf__penalty=l2;, score=0.779 total time=   5.5s\n",
      "[CV 3/3; 59/72] START clf__alpha=1e-05, clf__max_iter=20, clf__n_iter_no_change=13, clf__penalty=l2\n",
      "[CV 3/3; 59/72] END clf__alpha=1e-05, clf__max_iter=20, clf__n_iter_no_change=13, clf__penalty=l2;, score=0.771 total time=   5.5s\n",
      "[CV 1/3; 60/72] START clf__alpha=1e-05, clf__max_iter=20, clf__n_iter_no_change=13, clf__penalty=l1\n",
      "[CV 1/3; 60/72] END clf__alpha=1e-05, clf__max_iter=20, clf__n_iter_no_change=13, clf__penalty=l1;, score=0.776 total time=   5.8s\n",
      "[CV 2/3; 60/72] START clf__alpha=1e-05, clf__max_iter=20, clf__n_iter_no_change=13, clf__penalty=l1\n",
      "[CV 2/3; 60/72] END clf__alpha=1e-05, clf__max_iter=20, clf__n_iter_no_change=13, clf__penalty=l1;, score=0.779 total time=   5.7s\n",
      "[CV 3/3; 60/72] START clf__alpha=1e-05, clf__max_iter=20, clf__n_iter_no_change=13, clf__penalty=l1\n",
      "[CV 3/3; 60/72] END clf__alpha=1e-05, clf__max_iter=20, clf__n_iter_no_change=13, clf__penalty=l1;, score=0.782 total time=   5.8s\n",
      "[CV 1/3; 61/72] START clf__alpha=1e-05, clf__max_iter=30, clf__n_iter_no_change=9, clf__penalty=l2\n",
      "[CV 1/3; 61/72] END clf__alpha=1e-05, clf__max_iter=30, clf__n_iter_no_change=9, clf__penalty=l2;, score=0.775 total time=   5.4s\n",
      "[CV 2/3; 61/72] START clf__alpha=1e-05, clf__max_iter=30, clf__n_iter_no_change=9, clf__penalty=l2\n",
      "[CV 2/3; 61/72] END clf__alpha=1e-05, clf__max_iter=30, clf__n_iter_no_change=9, clf__penalty=l2;, score=0.780 total time=   5.5s\n",
      "[CV 3/3; 61/72] START clf__alpha=1e-05, clf__max_iter=30, clf__n_iter_no_change=9, clf__penalty=l2\n",
      "[CV 3/3; 61/72] END clf__alpha=1e-05, clf__max_iter=30, clf__n_iter_no_change=9, clf__penalty=l2;, score=0.773 total time=   5.5s\n",
      "[CV 1/3; 62/72] START clf__alpha=1e-05, clf__max_iter=30, clf__n_iter_no_change=9, clf__penalty=l1\n",
      "[CV 1/3; 62/72] END clf__alpha=1e-05, clf__max_iter=30, clf__n_iter_no_change=9, clf__penalty=l1;, score=0.778 total time=   5.6s\n",
      "[CV 2/3; 62/72] START clf__alpha=1e-05, clf__max_iter=30, clf__n_iter_no_change=9, clf__penalty=l1\n",
      "[CV 2/3; 62/72] END clf__alpha=1e-05, clf__max_iter=30, clf__n_iter_no_change=9, clf__penalty=l1;, score=0.780 total time=   5.6s\n",
      "[CV 3/3; 62/72] START clf__alpha=1e-05, clf__max_iter=30, clf__n_iter_no_change=9, clf__penalty=l1\n",
      "[CV 3/3; 62/72] END clf__alpha=1e-05, clf__max_iter=30, clf__n_iter_no_change=9, clf__penalty=l1;, score=0.782 total time=   5.7s\n",
      "[CV 1/3; 63/72] START clf__alpha=1e-05, clf__max_iter=30, clf__n_iter_no_change=11, clf__penalty=l2\n",
      "[CV 1/3; 63/72] END clf__alpha=1e-05, clf__max_iter=30, clf__n_iter_no_change=11, clf__penalty=l2;, score=0.774 total time=   5.5s\n",
      "[CV 2/3; 63/72] START clf__alpha=1e-05, clf__max_iter=30, clf__n_iter_no_change=11, clf__penalty=l2\n",
      "[CV 2/3; 63/72] END clf__alpha=1e-05, clf__max_iter=30, clf__n_iter_no_change=11, clf__penalty=l2;, score=0.780 total time=   5.5s\n",
      "[CV 3/3; 63/72] START clf__alpha=1e-05, clf__max_iter=30, clf__n_iter_no_change=11, clf__penalty=l2\n",
      "[CV 3/3; 63/72] END clf__alpha=1e-05, clf__max_iter=30, clf__n_iter_no_change=11, clf__penalty=l2;, score=0.770 total time=   5.6s\n",
      "[CV 1/3; 64/72] START clf__alpha=1e-05, clf__max_iter=30, clf__n_iter_no_change=11, clf__penalty=l1\n",
      "[CV 1/3; 64/72] END clf__alpha=1e-05, clf__max_iter=30, clf__n_iter_no_change=11, clf__penalty=l1;, score=0.777 total time=   5.7s\n",
      "[CV 2/3; 64/72] START clf__alpha=1e-05, clf__max_iter=30, clf__n_iter_no_change=11, clf__penalty=l1\n",
      "[CV 2/3; 64/72] END clf__alpha=1e-05, clf__max_iter=30, clf__n_iter_no_change=11, clf__penalty=l1;, score=0.783 total time=   5.8s\n",
      "[CV 3/3; 64/72] START clf__alpha=1e-05, clf__max_iter=30, clf__n_iter_no_change=11, clf__penalty=l1\n",
      "[CV 3/3; 64/72] END clf__alpha=1e-05, clf__max_iter=30, clf__n_iter_no_change=11, clf__penalty=l1;, score=0.783 total time=   6.0s\n",
      "[CV 1/3; 65/72] START clf__alpha=1e-05, clf__max_iter=30, clf__n_iter_no_change=13, clf__penalty=l2\n",
      "[CV 1/3; 65/72] END clf__alpha=1e-05, clf__max_iter=30, clf__n_iter_no_change=13, clf__penalty=l2;, score=0.774 total time=   5.5s\n",
      "[CV 2/3; 65/72] START clf__alpha=1e-05, clf__max_iter=30, clf__n_iter_no_change=13, clf__penalty=l2\n",
      "[CV 2/3; 65/72] END clf__alpha=1e-05, clf__max_iter=30, clf__n_iter_no_change=13, clf__penalty=l2;, score=0.779 total time=   5.4s\n",
      "[CV 3/3; 65/72] START clf__alpha=1e-05, clf__max_iter=30, clf__n_iter_no_change=13, clf__penalty=l2\n",
      "[CV 3/3; 65/72] END clf__alpha=1e-05, clf__max_iter=30, clf__n_iter_no_change=13, clf__penalty=l2;, score=0.771 total time=   5.7s\n",
      "[CV 1/3; 66/72] START clf__alpha=1e-05, clf__max_iter=30, clf__n_iter_no_change=13, clf__penalty=l1\n",
      "[CV 1/3; 66/72] END clf__alpha=1e-05, clf__max_iter=30, clf__n_iter_no_change=13, clf__penalty=l1;, score=0.776 total time=   5.8s\n",
      "[CV 2/3; 66/72] START clf__alpha=1e-05, clf__max_iter=30, clf__n_iter_no_change=13, clf__penalty=l1\n",
      "[CV 2/3; 66/72] END clf__alpha=1e-05, clf__max_iter=30, clf__n_iter_no_change=13, clf__penalty=l1;, score=0.779 total time=   5.8s\n",
      "[CV 3/3; 66/72] START clf__alpha=1e-05, clf__max_iter=30, clf__n_iter_no_change=13, clf__penalty=l1\n",
      "[CV 3/3; 66/72] END clf__alpha=1e-05, clf__max_iter=30, clf__n_iter_no_change=13, clf__penalty=l1;, score=0.782 total time=   5.8s\n",
      "[CV 1/3; 67/72] START clf__alpha=1e-05, clf__max_iter=500, clf__n_iter_no_change=9, clf__penalty=l2\n",
      "[CV 1/3; 67/72] END clf__alpha=1e-05, clf__max_iter=500, clf__n_iter_no_change=9, clf__penalty=l2;, score=0.775 total time=   5.3s\n",
      "[CV 2/3; 67/72] START clf__alpha=1e-05, clf__max_iter=500, clf__n_iter_no_change=9, clf__penalty=l2\n",
      "[CV 2/3; 67/72] END clf__alpha=1e-05, clf__max_iter=500, clf__n_iter_no_change=9, clf__penalty=l2;, score=0.780 total time=   5.5s\n",
      "[CV 3/3; 67/72] START clf__alpha=1e-05, clf__max_iter=500, clf__n_iter_no_change=9, clf__penalty=l2\n",
      "[CV 3/3; 67/72] END clf__alpha=1e-05, clf__max_iter=500, clf__n_iter_no_change=9, clf__penalty=l2;, score=0.773 total time=   5.4s\n",
      "[CV 1/3; 68/72] START clf__alpha=1e-05, clf__max_iter=500, clf__n_iter_no_change=9, clf__penalty=l1\n",
      "[CV 1/3; 68/72] END clf__alpha=1e-05, clf__max_iter=500, clf__n_iter_no_change=9, clf__penalty=l1;, score=0.778 total time=   5.7s\n",
      "[CV 2/3; 68/72] START clf__alpha=1e-05, clf__max_iter=500, clf__n_iter_no_change=9, clf__penalty=l1\n",
      "[CV 2/3; 68/72] END clf__alpha=1e-05, clf__max_iter=500, clf__n_iter_no_change=9, clf__penalty=l1;, score=0.780 total time=   5.7s\n",
      "[CV 3/3; 68/72] START clf__alpha=1e-05, clf__max_iter=500, clf__n_iter_no_change=9, clf__penalty=l1\n",
      "[CV 3/3; 68/72] END clf__alpha=1e-05, clf__max_iter=500, clf__n_iter_no_change=9, clf__penalty=l1;, score=0.782 total time=   5.6s\n",
      "[CV 1/3; 69/72] START clf__alpha=1e-05, clf__max_iter=500, clf__n_iter_no_change=11, clf__penalty=l2\n",
      "[CV 1/3; 69/72] END clf__alpha=1e-05, clf__max_iter=500, clf__n_iter_no_change=11, clf__penalty=l2;, score=0.774 total time=   5.4s\n",
      "[CV 2/3; 69/72] START clf__alpha=1e-05, clf__max_iter=500, clf__n_iter_no_change=11, clf__penalty=l2\n",
      "[CV 2/3; 69/72] END clf__alpha=1e-05, clf__max_iter=500, clf__n_iter_no_change=11, clf__penalty=l2;, score=0.780 total time=   5.4s\n",
      "[CV 3/3; 69/72] START clf__alpha=1e-05, clf__max_iter=500, clf__n_iter_no_change=11, clf__penalty=l2\n",
      "[CV 3/3; 69/72] END clf__alpha=1e-05, clf__max_iter=500, clf__n_iter_no_change=11, clf__penalty=l2;, score=0.770 total time=   5.5s\n",
      "[CV 1/3; 70/72] START clf__alpha=1e-05, clf__max_iter=500, clf__n_iter_no_change=11, clf__penalty=l1\n",
      "[CV 1/3; 70/72] END clf__alpha=1e-05, clf__max_iter=500, clf__n_iter_no_change=11, clf__penalty=l1;, score=0.777 total time=   5.6s\n",
      "[CV 2/3; 70/72] START clf__alpha=1e-05, clf__max_iter=500, clf__n_iter_no_change=11, clf__penalty=l1\n",
      "[CV 2/3; 70/72] END clf__alpha=1e-05, clf__max_iter=500, clf__n_iter_no_change=11, clf__penalty=l1;, score=0.783 total time=   5.6s\n",
      "[CV 3/3; 70/72] START clf__alpha=1e-05, clf__max_iter=500, clf__n_iter_no_change=11, clf__penalty=l1\n",
      "[CV 3/3; 70/72] END clf__alpha=1e-05, clf__max_iter=500, clf__n_iter_no_change=11, clf__penalty=l1;, score=0.783 total time=   5.7s\n",
      "[CV 1/3; 71/72] START clf__alpha=1e-05, clf__max_iter=500, clf__n_iter_no_change=13, clf__penalty=l2\n",
      "[CV 1/3; 71/72] END clf__alpha=1e-05, clf__max_iter=500, clf__n_iter_no_change=13, clf__penalty=l2;, score=0.774 total time=   5.4s\n",
      "[CV 2/3; 71/72] START clf__alpha=1e-05, clf__max_iter=500, clf__n_iter_no_change=13, clf__penalty=l2\n",
      "[CV 2/3; 71/72] END clf__alpha=1e-05, clf__max_iter=500, clf__n_iter_no_change=13, clf__penalty=l2;, score=0.779 total time=   5.5s\n",
      "[CV 3/3; 71/72] START clf__alpha=1e-05, clf__max_iter=500, clf__n_iter_no_change=13, clf__penalty=l2\n",
      "[CV 3/3; 71/72] END clf__alpha=1e-05, clf__max_iter=500, clf__n_iter_no_change=13, clf__penalty=l2;, score=0.771 total time=   5.7s\n",
      "[CV 1/3; 72/72] START clf__alpha=1e-05, clf__max_iter=500, clf__n_iter_no_change=13, clf__penalty=l1\n",
      "[CV 1/3; 72/72] END clf__alpha=1e-05, clf__max_iter=500, clf__n_iter_no_change=13, clf__penalty=l1;, score=0.776 total time=   6.1s\n",
      "[CV 2/3; 72/72] START clf__alpha=1e-05, clf__max_iter=500, clf__n_iter_no_change=13, clf__penalty=l1\n",
      "[CV 2/3; 72/72] END clf__alpha=1e-05, clf__max_iter=500, clf__n_iter_no_change=13, clf__penalty=l1;, score=0.779 total time=   5.7s\n",
      "[CV 3/3; 72/72] START clf__alpha=1e-05, clf__max_iter=500, clf__n_iter_no_change=13, clf__penalty=l1\n",
      "[CV 3/3; 72/72] END clf__alpha=1e-05, clf__max_iter=500, clf__n_iter_no_change=13, clf__penalty=l1;, score=0.782 total time=   5.7s\n",
      "(0.7878835237724985, Pipeline(steps=[('tfidf',\n",
      "                 TfidfVectorizer(stop_words={'a', 'about', 'above', 'after',\n",
      "                                             'again', 'against', 'ain', 'all',\n",
      "                                             'am', 'an', 'and', 'any', 'are',\n",
      "                                             'aren', \"aren't\", 'as', 'at', 'be',\n",
      "                                             'because', 'been', 'before',\n",
      "                                             'being', 'below', 'between',\n",
      "                                             'both', 'but', 'by', 'can',\n",
      "                                             'couldn', \"couldn't\", ...})),\n",
      "                ('clf',\n",
      "                 SGDClassifier(alpha=5e-06, max_iter=20, n_iter_no_change=11,\n",
      "                               penalty='l1', random_state=42))]))\n",
      "CPU times: user 20min 10s, sys: 23 s, total: 20min 33s\n",
      "Wall time: 20min 35s\n"
     ]
    }
   ],
   "source": [
    "%%time\n",
    "result_SGD = model_run(model_SGD, param_SGD, X_train, y_train)\n",
    "result_train_list.append(result_SGD[0])\n",
    "print(result_SGD)"
   ]
  },
  {
   "cell_type": "code",
   "execution_count": 25,
   "metadata": {
    "collapsed": true
   },
   "outputs": [
    {
     "name": "stdout",
     "output_type": "stream",
     "text": [
      "Fitting 3 folds for each of 10 candidates, totalling 30 fits\n",
      "[CV 1/3; 1/10] START clf__max_depth=5, clf__n_estimators=2000, clf__num_leaves=31\n",
      "[CV 1/3; 1/10] END clf__max_depth=5, clf__n_estimators=2000, clf__num_leaves=31;, score=0.778 total time= 5.1min\n",
      "[CV 2/3; 1/10] START clf__max_depth=5, clf__n_estimators=2000, clf__num_leaves=31\n",
      "[CV 2/3; 1/10] END clf__max_depth=5, clf__n_estimators=2000, clf__num_leaves=31;, score=0.775 total time= 5.3min\n",
      "[CV 3/3; 1/10] START clf__max_depth=5, clf__n_estimators=2000, clf__num_leaves=31\n",
      "[CV 3/3; 1/10] END clf__max_depth=5, clf__n_estimators=2000, clf__num_leaves=31;, score=0.776 total time= 5.2min\n",
      "[CV 1/3; 2/10] START clf__max_depth=7, clf__n_estimators=2000, clf__num_leaves=41\n",
      "[CV 1/3; 2/10] END clf__max_depth=7, clf__n_estimators=2000, clf__num_leaves=41;, score=0.776 total time= 7.2min\n",
      "[CV 2/3; 2/10] START clf__max_depth=7, clf__n_estimators=2000, clf__num_leaves=41\n",
      "[CV 2/3; 2/10] END clf__max_depth=7, clf__n_estimators=2000, clf__num_leaves=41;, score=0.773 total time= 7.1min\n",
      "[CV 3/3; 2/10] START clf__max_depth=7, clf__n_estimators=2000, clf__num_leaves=41\n",
      "[CV 3/3; 2/10] END clf__max_depth=7, clf__n_estimators=2000, clf__num_leaves=41;, score=0.779 total time= 7.1min\n",
      "[CV 1/3; 3/10] START clf__max_depth=5, clf__n_estimators=500, clf__num_leaves=51\n",
      "[CV 1/3; 3/10] END clf__max_depth=5, clf__n_estimators=500, clf__num_leaves=51;, score=0.744 total time= 1.7min\n",
      "[CV 2/3; 3/10] START clf__max_depth=5, clf__n_estimators=500, clf__num_leaves=51\n",
      "[CV 2/3; 3/10] END clf__max_depth=5, clf__n_estimators=500, clf__num_leaves=51;, score=0.749 total time= 1.7min\n",
      "[CV 3/3; 3/10] START clf__max_depth=5, clf__n_estimators=500, clf__num_leaves=51\n",
      "[CV 3/3; 3/10] END clf__max_depth=5, clf__n_estimators=500, clf__num_leaves=51;, score=0.745 total time= 1.7min\n",
      "[CV 1/3; 4/10] START clf__max_depth=7, clf__n_estimators=5000, clf__num_leaves=41\n",
      "[CV 1/3; 4/10] END clf__max_depth=7, clf__n_estimators=5000, clf__num_leaves=41;, score=0.775 total time=15.9min\n",
      "[CV 2/3; 4/10] START clf__max_depth=7, clf__n_estimators=5000, clf__num_leaves=41\n",
      "[CV 2/3; 4/10] END clf__max_depth=7, clf__n_estimators=5000, clf__num_leaves=41;, score=0.772 total time=15.8min\n",
      "[CV 3/3; 4/10] START clf__max_depth=7, clf__n_estimators=5000, clf__num_leaves=41\n",
      "[CV 3/3; 4/10] END clf__max_depth=7, clf__n_estimators=5000, clf__num_leaves=41;, score=0.773 total time=15.9min\n",
      "[CV 1/3; 5/10] START clf__max_depth=5, clf__n_estimators=500, clf__num_leaves=31\n",
      "[CV 1/3; 5/10] END clf__max_depth=5, clf__n_estimators=500, clf__num_leaves=31;, score=0.744 total time= 1.6min\n",
      "[CV 2/3; 5/10] START clf__max_depth=5, clf__n_estimators=500, clf__num_leaves=31\n",
      "[CV 2/3; 5/10] END clf__max_depth=5, clf__n_estimators=500, clf__num_leaves=31;, score=0.749 total time= 1.7min\n",
      "[CV 3/3; 5/10] START clf__max_depth=5, clf__n_estimators=500, clf__num_leaves=31\n",
      "[CV 3/3; 5/10] END clf__max_depth=5, clf__n_estimators=500, clf__num_leaves=31;, score=0.745 total time= 1.7min\n",
      "[CV 1/3; 6/10] START clf__max_depth=7, clf__n_estimators=500, clf__num_leaves=41\n",
      "[CV 1/3; 6/10] END clf__max_depth=7, clf__n_estimators=500, clf__num_leaves=41;, score=0.755 total time= 2.2min\n",
      "[CV 2/3; 6/10] START clf__max_depth=7, clf__n_estimators=500, clf__num_leaves=41\n",
      "[CV 2/3; 6/10] END clf__max_depth=7, clf__n_estimators=500, clf__num_leaves=41;, score=0.757 total time= 2.3min\n",
      "[CV 3/3; 6/10] START clf__max_depth=7, clf__n_estimators=500, clf__num_leaves=41\n",
      "[CV 3/3; 6/10] END clf__max_depth=7, clf__n_estimators=500, clf__num_leaves=41;, score=0.755 total time= 2.3min\n",
      "[CV 1/3; 7/10] START clf__max_depth=3, clf__n_estimators=500, clf__num_leaves=31\n",
      "[CV 1/3; 7/10] END clf__max_depth=3, clf__n_estimators=500, clf__num_leaves=31;, score=0.719 total time= 1.2min\n",
      "[CV 2/3; 7/10] START clf__max_depth=3, clf__n_estimators=500, clf__num_leaves=31\n",
      "[CV 2/3; 7/10] END clf__max_depth=3, clf__n_estimators=500, clf__num_leaves=31;, score=0.722 total time= 1.2min\n",
      "[CV 3/3; 7/10] START clf__max_depth=3, clf__n_estimators=500, clf__num_leaves=31\n",
      "[CV 3/3; 7/10] END clf__max_depth=3, clf__n_estimators=500, clf__num_leaves=31;, score=0.722 total time= 1.2min\n",
      "[CV 1/3; 8/10] START clf__max_depth=3, clf__n_estimators=5000, clf__num_leaves=41\n",
      "[CV 1/3; 8/10] END clf__max_depth=3, clf__n_estimators=5000, clf__num_leaves=41;, score=0.778 total time= 7.5min\n",
      "[CV 2/3; 8/10] START clf__max_depth=3, clf__n_estimators=5000, clf__num_leaves=41\n",
      "[CV 2/3; 8/10] END clf__max_depth=3, clf__n_estimators=5000, clf__num_leaves=41;, score=0.778 total time= 7.5min\n",
      "[CV 3/3; 8/10] START clf__max_depth=3, clf__n_estimators=5000, clf__num_leaves=41\n",
      "[CV 3/3; 8/10] END clf__max_depth=3, clf__n_estimators=5000, clf__num_leaves=41;, score=0.777 total time= 7.4min\n",
      "[CV 1/3; 9/10] START clf__max_depth=2, clf__n_estimators=2000, clf__num_leaves=41\n",
      "[CV 1/3; 9/10] END clf__max_depth=2, clf__n_estimators=2000, clf__num_leaves=41;, score=0.758 total time= 2.6min\n",
      "[CV 2/3; 9/10] START clf__max_depth=2, clf__n_estimators=2000, clf__num_leaves=41\n",
      "[CV 2/3; 9/10] END clf__max_depth=2, clf__n_estimators=2000, clf__num_leaves=41;, score=0.764 total time= 2.6min\n",
      "[CV 3/3; 9/10] START clf__max_depth=2, clf__n_estimators=2000, clf__num_leaves=41\n",
      "[CV 3/3; 9/10] END clf__max_depth=2, clf__n_estimators=2000, clf__num_leaves=41;, score=0.758 total time= 2.6min\n",
      "[CV 1/3; 10/10] START clf__max_depth=5, clf__n_estimators=500, clf__num_leaves=41\n",
      "[CV 1/3; 10/10] END clf__max_depth=5, clf__n_estimators=500, clf__num_leaves=41;, score=0.744 total time= 1.7min\n",
      "[CV 2/3; 10/10] START clf__max_depth=5, clf__n_estimators=500, clf__num_leaves=41\n",
      "[CV 2/3; 10/10] END clf__max_depth=5, clf__n_estimators=500, clf__num_leaves=41;, score=0.749 total time= 1.6min\n",
      "[CV 3/3; 10/10] START clf__max_depth=5, clf__n_estimators=500, clf__num_leaves=41\n",
      "[CV 3/3; 10/10] END clf__max_depth=5, clf__n_estimators=500, clf__num_leaves=41;, score=0.745 total time= 1.7min\n",
      "(0.7776130824791586, Pipeline(steps=[('tfidf',\n",
      "                 TfidfVectorizer(stop_words={'a', 'about', 'above', 'after',\n",
      "                                             'again', 'against', 'ain', 'all',\n",
      "                                             'am', 'an', 'and', 'any', 'are',\n",
      "                                             'aren', \"aren't\", 'as', 'at', 'be',\n",
      "                                             'because', 'been', 'before',\n",
      "                                             'being', 'below', 'between',\n",
      "                                             'both', 'but', 'by', 'can',\n",
      "                                             'couldn', \"couldn't\", ...})),\n",
      "                ('clf',\n",
      "                 LGBMClassifier(max_depth=3, n_estimators=5000, num_leaves=41,\n",
      "                                random_state=42))]))\n",
      "CPU times: user 2h 29min 34s, sys: 35.1 s, total: 2h 30min 9s\n",
      "Wall time: 2h 30min 59s\n"
     ]
    }
   ],
   "source": [
    "%%time\n",
    "result_LGB = model_run(model_LGB, param_LGB, X_train, y_train)\n",
    "result_train_list.append(result_LGB[0])\n",
    "print(result_LGB)"
   ]
  },
  {
   "cell_type": "code",
   "execution_count": 26,
   "metadata": {},
   "outputs": [
    {
     "data": {
      "text/html": [
       "<div>\n",
       "<style scoped>\n",
       "    .dataframe tbody tr th:only-of-type {\n",
       "        vertical-align: middle;\n",
       "    }\n",
       "\n",
       "    .dataframe tbody tr th {\n",
       "        vertical-align: top;\n",
       "    }\n",
       "\n",
       "    .dataframe thead th {\n",
       "        text-align: right;\n",
       "    }\n",
       "</style>\n",
       "<table border=\"1\" class=\"dataframe\">\n",
       "  <thead>\n",
       "    <tr style=\"text-align: right;\">\n",
       "      <th></th>\n",
       "      <th>F1_score train</th>\n",
       "    </tr>\n",
       "  </thead>\n",
       "  <tbody>\n",
       "    <tr>\n",
       "      <th>NBC</th>\n",
       "      <td>0.677997</td>\n",
       "    </tr>\n",
       "    <tr>\n",
       "      <th>LR</th>\n",
       "      <td>0.774811</td>\n",
       "    </tr>\n",
       "    <tr>\n",
       "      <th>SGD</th>\n",
       "      <td>0.787884</td>\n",
       "    </tr>\n",
       "    <tr>\n",
       "      <th>LGB</th>\n",
       "      <td>0.777613</td>\n",
       "    </tr>\n",
       "  </tbody>\n",
       "</table>\n",
       "</div>"
      ],
      "text/plain": [
       "     F1_score train\n",
       "NBC        0.677997\n",
       "LR         0.774811\n",
       "SGD        0.787884\n",
       "LGB        0.777613"
      ]
     },
     "execution_count": 26,
     "metadata": {},
     "output_type": "execute_result"
    }
   ],
   "source": [
    "result_tab_train = pd.DataFrame({'F1_score train': result_train_list}, index=model_list)\n",
    "result_tab_train"
   ]
  },
  {
   "cell_type": "markdown",
   "metadata": {},
   "source": [
    "Худший результат у наивного байесовского классификатора, остальные модели преодолели порог в 0.75, лучший показатель - у стохастического градиентного спуска. "
   ]
  },
  {
   "cell_type": "markdown",
   "metadata": {},
   "source": [
    "## Тестирование"
   ]
  },
  {
   "cell_type": "markdown",
   "metadata": {},
   "source": [
    "Проверим лучшую модель на тестовой выборке."
   ]
  },
  {
   "cell_type": "code",
   "execution_count": 28,
   "metadata": {},
   "outputs": [
    {
     "name": "stdout",
     "output_type": "stream",
     "text": [
      "F1 на тестовой выборке: 0.7918007792647807\n"
     ]
    }
   ],
   "source": [
    "pred_SGD = result_SGD[1].predict(X_test)\n",
    "f1_SGD = f1_score(pred_SGD, y_test)\n",
    "print('F1 на тестовой выборке:', f1_SGD)"
   ]
  },
  {
   "cell_type": "markdown",
   "metadata": {},
   "source": [
    "Результат удовлетворяет условию."
   ]
  },
  {
   "cell_type": "markdown",
   "metadata": {},
   "source": [
    "## Выводы"
   ]
  },
  {
   "cell_type": "markdown",
   "metadata": {},
   "source": [
    "**В проекте были рассмотрены тексты описаний товаров и комментариев пользователей в интернет-магазине \"Викишоп\". Задачей было построить модель, определяющую тональность текста - позитивную или негативную. Критерием оценки была метрика F1.**\n",
    "\n",
    "**Для выполнения этой задачи тексты были очищены от регулярных выражений, лемматизированы и векторизированы.**\n",
    "\n",
    "**Далее было рассмотрено несколько моделей классификации для предсказания тональности: наивный байесовский классификатор, логистическая регрессия, стохастический градиентный спуск и LGBMClassifier. Лучший результат показал стохастический градиентный спуск: на тестовой выборке F1 составила 0.79.**"
   ]
  },
  {
   "cell_type": "code",
   "execution_count": null,
   "metadata": {},
   "outputs": [],
   "source": []
  }
 ],
 "metadata": {
  "ExecuteTimeLog": [
   {
    "duration": 2377,
    "start_time": "2023-07-26T11:29:07.811Z"
   },
   {
    "duration": 3417,
    "start_time": "2023-07-26T11:30:42.246Z"
   },
   {
    "duration": 47,
    "start_time": "2023-07-26T11:30:46.686Z"
   },
   {
    "duration": 2640,
    "start_time": "2023-07-26T11:30:49.344Z"
   },
   {
    "duration": 4,
    "start_time": "2023-07-26T11:30:53.168Z"
   },
   {
    "duration": 1079,
    "start_time": "2023-07-26T11:30:54.599Z"
   },
   {
    "duration": 1185,
    "start_time": "2023-07-26T11:30:59.890Z"
   },
   {
    "duration": 5,
    "start_time": "2023-07-26T11:31:08.915Z"
   },
   {
    "duration": 6,
    "start_time": "2023-07-26T11:31:51.752Z"
   },
   {
    "duration": 4,
    "start_time": "2023-07-26T11:31:52.604Z"
   },
   {
    "duration": 792,
    "start_time": "2023-07-26T11:31:59.904Z"
   },
   {
    "duration": 8,
    "start_time": "2023-07-26T11:32:10.711Z"
   },
   {
    "duration": 6,
    "start_time": "2023-07-26T11:34:48.318Z"
   },
   {
    "duration": 4,
    "start_time": "2023-07-26T11:34:51.238Z"
   },
   {
    "duration": 5,
    "start_time": "2023-07-26T11:35:16.671Z"
   },
   {
    "duration": 4,
    "start_time": "2023-07-26T11:35:21.141Z"
   },
   {
    "duration": 4,
    "start_time": "2023-07-26T11:36:52.213Z"
   },
   {
    "duration": 4,
    "start_time": "2023-07-26T11:36:55.813Z"
   },
   {
    "duration": 4,
    "start_time": "2023-07-26T11:44:23.025Z"
   },
   {
    "duration": 3,
    "start_time": "2023-07-26T11:44:38.041Z"
   },
   {
    "duration": 3,
    "start_time": "2023-07-26T11:44:45.816Z"
   },
   {
    "duration": 4,
    "start_time": "2023-07-26T11:45:17.073Z"
   },
   {
    "duration": 5,
    "start_time": "2023-07-26T11:45:18.568Z"
   },
   {
    "duration": 5,
    "start_time": "2023-07-26T11:45:26.403Z"
   },
   {
    "duration": 4,
    "start_time": "2023-07-26T11:45:29.312Z"
   },
   {
    "duration": 4,
    "start_time": "2023-07-26T11:45:51.160Z"
   },
   {
    "duration": 505,
    "start_time": "2023-07-26T11:46:38.096Z"
   },
   {
    "duration": 4,
    "start_time": "2023-07-26T11:48:21.701Z"
   },
   {
    "duration": 135,
    "start_time": "2023-07-26T11:49:25.310Z"
   },
   {
    "duration": 11,
    "start_time": "2023-07-26T11:49:40.207Z"
   },
   {
    "duration": 3,
    "start_time": "2023-07-26T11:50:01.775Z"
   },
   {
    "duration": 4,
    "start_time": "2023-07-26T11:50:08.416Z"
   },
   {
    "duration": 1109,
    "start_time": "2023-07-26T11:51:32.334Z"
   },
   {
    "duration": 1683,
    "start_time": "2023-07-26T11:52:22.880Z"
   },
   {
    "duration": 1796,
    "start_time": "2023-07-26T11:52:30.195Z"
   },
   {
    "duration": 4,
    "start_time": "2023-07-26T11:53:21.522Z"
   },
   {
    "duration": 762,
    "start_time": "2023-07-26T11:53:21.528Z"
   },
   {
    "duration": 39,
    "start_time": "2023-07-26T11:53:22.293Z"
   },
   {
    "duration": 2755,
    "start_time": "2023-07-26T11:53:22.334Z"
   },
   {
    "duration": 4,
    "start_time": "2023-07-26T11:53:25.090Z"
   },
   {
    "duration": 392,
    "start_time": "2023-07-26T11:53:25.096Z"
   },
   {
    "duration": 5,
    "start_time": "2023-07-26T11:54:32.994Z"
   },
   {
    "duration": 3,
    "start_time": "2023-07-26T11:54:33.958Z"
   },
   {
    "duration": 4,
    "start_time": "2023-07-26T11:55:11.822Z"
   },
   {
    "duration": 4,
    "start_time": "2023-07-26T11:55:12.846Z"
   },
   {
    "duration": 4,
    "start_time": "2023-07-26T11:56:07.861Z"
   },
   {
    "duration": 5,
    "start_time": "2023-07-26T11:56:09.995Z"
   },
   {
    "duration": 4,
    "start_time": "2023-07-26T11:57:57.045Z"
   },
   {
    "duration": 4,
    "start_time": "2023-07-26T11:58:00.676Z"
   },
   {
    "duration": 3,
    "start_time": "2023-07-26T11:58:04.965Z"
   },
   {
    "duration": 4,
    "start_time": "2023-07-26T11:58:10.021Z"
   },
   {
    "duration": 2,
    "start_time": "2023-07-26T11:58:58.541Z"
   },
   {
    "duration": 640,
    "start_time": "2023-07-26T11:59:12.068Z"
   },
   {
    "duration": 6004,
    "start_time": "2023-07-26T12:00:57.956Z"
   },
   {
    "duration": 856,
    "start_time": "2023-07-26T12:01:15.140Z"
   },
   {
    "duration": 588,
    "start_time": "2023-07-26T12:01:27.104Z"
   },
   {
    "duration": 7,
    "start_time": "2023-07-26T12:01:37.331Z"
   },
   {
    "duration": 670,
    "start_time": "2023-07-26T12:03:10.799Z"
   },
   {
    "duration": 687,
    "start_time": "2023-07-26T12:03:23.020Z"
   },
   {
    "duration": 727,
    "start_time": "2023-07-26T12:03:29.208Z"
   },
   {
    "duration": 1151,
    "start_time": "2023-07-26T12:03:35.939Z"
   },
   {
    "duration": 6447,
    "start_time": "2023-07-26T12:03:43.434Z"
   },
   {
    "duration": 6307,
    "start_time": "2023-07-26T12:04:02.822Z"
   },
   {
    "duration": 28054,
    "start_time": "2023-07-26T12:04:17.420Z"
   },
   {
    "duration": 86179,
    "start_time": "2023-07-26T12:04:53.259Z"
   },
   {
    "duration": 5239,
    "start_time": "2023-07-26T12:09:50.129Z"
   },
   {
    "duration": 4182,
    "start_time": "2023-07-26T12:10:15.705Z"
   },
   {
    "duration": 261,
    "start_time": "2023-07-26T12:10:45.376Z"
   },
   {
    "duration": 1980,
    "start_time": "2023-07-26T12:10:51.613Z"
   },
   {
    "duration": 3298,
    "start_time": "2023-07-26T12:10:53.595Z"
   },
   {
    "duration": 50,
    "start_time": "2023-07-26T12:10:56.895Z"
   },
   {
    "duration": 2665,
    "start_time": "2023-07-26T12:10:56.947Z"
   },
   {
    "duration": 2610,
    "start_time": "2023-07-26T12:11:04.088Z"
   },
   {
    "duration": 2645,
    "start_time": "2023-07-26T12:11:20.767Z"
   },
   {
    "duration": 20,
    "start_time": "2023-07-26T12:12:33.113Z"
   },
   {
    "duration": 246,
    "start_time": "2023-07-26T12:12:45.726Z"
   },
   {
    "duration": 306,
    "start_time": "2023-07-26T12:13:06.447Z"
   },
   {
    "duration": 201,
    "start_time": "2023-07-26T12:13:53.735Z"
   },
   {
    "duration": 267,
    "start_time": "2023-07-26T12:14:13.972Z"
   },
   {
    "duration": 25,
    "start_time": "2023-07-26T12:15:19.011Z"
   },
   {
    "duration": 193,
    "start_time": "2023-07-26T12:15:20.718Z"
   },
   {
    "duration": 3017,
    "start_time": "2023-07-26T12:15:34.858Z"
   },
   {
    "duration": 3364,
    "start_time": "2023-07-26T12:15:37.877Z"
   },
   {
    "duration": 56,
    "start_time": "2023-07-26T12:15:41.243Z"
   },
   {
    "duration": 281,
    "start_time": "2023-07-26T12:15:41.300Z"
   },
   {
    "duration": 2646,
    "start_time": "2023-07-26T12:15:41.584Z"
   },
   {
    "duration": 12004,
    "start_time": "2023-07-26T12:15:44.231Z"
   },
   {
    "duration": 79,
    "start_time": "2023-07-26T12:16:00.753Z"
   },
   {
    "duration": 3,
    "start_time": "2023-07-26T12:16:00.834Z"
   },
   {
    "duration": 485,
    "start_time": "2023-07-26T12:16:00.842Z"
   },
   {
    "duration": 21,
    "start_time": "2023-07-26T12:16:05.128Z"
   },
   {
    "duration": 699,
    "start_time": "2023-07-26T12:16:28.652Z"
   },
   {
    "duration": 14071,
    "start_time": "2023-07-26T12:16:54.768Z"
   },
   {
    "duration": 2273,
    "start_time": "2023-07-26T12:17:21.566Z"
   },
   {
    "duration": 161331,
    "start_time": "2023-07-26T12:17:28.460Z"
   },
   {
    "duration": 3704,
    "start_time": "2023-07-26T12:22:40.098Z"
   },
   {
    "duration": 752,
    "start_time": "2023-07-26T12:22:43.805Z"
   },
   {
    "duration": 53,
    "start_time": "2023-07-26T12:22:44.559Z"
   },
   {
    "duration": 569,
    "start_time": "2023-07-26T12:22:44.614Z"
   },
   {
    "duration": 1,
    "start_time": "2023-07-26T12:22:45.184Z"
   },
   {
    "duration": 0,
    "start_time": "2023-07-26T12:22:45.186Z"
   },
   {
    "duration": 3938,
    "start_time": "2023-07-26T12:23:10.552Z"
   },
   {
    "duration": 753,
    "start_time": "2023-07-26T12:23:14.492Z"
   },
   {
    "duration": 50,
    "start_time": "2023-07-26T12:23:15.257Z"
   },
   {
    "duration": 2880,
    "start_time": "2023-07-26T12:23:15.308Z"
   },
   {
    "duration": 49233,
    "start_time": "2023-07-26T12:23:18.190Z"
   },
   {
    "duration": 3,
    "start_time": "2023-07-26T12:24:07.425Z"
   },
   {
    "duration": 271,
    "start_time": "2023-07-26T12:26:35.105Z"
   },
   {
    "duration": 1449,
    "start_time": "2023-07-26T12:27:59.248Z"
   },
   {
    "duration": 4028,
    "start_time": "2023-07-26T12:28:21.359Z"
   },
   {
    "duration": 272,
    "start_time": "2023-07-26T12:28:27.189Z"
   },
   {
    "duration": 343,
    "start_time": "2023-07-26T12:28:45.601Z"
   },
   {
    "duration": 2781,
    "start_time": "2023-07-26T12:28:59.159Z"
   },
   {
    "duration": 292,
    "start_time": "2023-07-26T12:29:12.313Z"
   },
   {
    "duration": 3,
    "start_time": "2023-07-26T12:30:09.870Z"
   },
   {
    "duration": 709,
    "start_time": "2023-07-26T12:30:23.558Z"
   },
   {
    "duration": 377998,
    "start_time": "2023-07-26T12:31:40.301Z"
   },
   {
    "duration": 3491,
    "start_time": "2023-07-26T12:38:05.402Z"
   },
   {
    "duration": 2833,
    "start_time": "2023-07-26T12:38:26.610Z"
   },
   {
    "duration": 2316,
    "start_time": "2023-07-26T12:38:36.842Z"
   },
   {
    "duration": 2244,
    "start_time": "2023-07-26T12:38:44.058Z"
   },
   {
    "duration": 3124,
    "start_time": "2023-07-26T12:39:15.897Z"
   },
   {
    "duration": 3201,
    "start_time": "2023-07-26T12:39:47.391Z"
   },
   {
    "duration": 881,
    "start_time": "2023-07-26T12:40:32.689Z"
   },
   {
    "duration": 147,
    "start_time": "2023-07-26T12:41:13.928Z"
   },
   {
    "duration": 602,
    "start_time": "2023-07-26T12:41:44.786Z"
   },
   {
    "duration": 914,
    "start_time": "2023-07-26T12:41:52.001Z"
   },
   {
    "duration": 6444,
    "start_time": "2023-07-26T12:43:08.599Z"
   },
   {
    "duration": 3319,
    "start_time": "2023-07-26T12:43:15.045Z"
   },
   {
    "duration": 58,
    "start_time": "2023-07-26T12:43:18.366Z"
   },
   {
    "duration": 2953,
    "start_time": "2023-07-26T12:43:22.807Z"
   },
   {
    "duration": 1828,
    "start_time": "2023-07-26T12:43:28.031Z"
   },
   {
    "duration": 1079,
    "start_time": "2023-07-26T12:43:53.686Z"
   },
   {
    "duration": 584,
    "start_time": "2023-07-26T12:44:05.197Z"
   },
   {
    "duration": 589,
    "start_time": "2023-07-26T12:44:13.144Z"
   },
   {
    "duration": 592,
    "start_time": "2023-07-26T12:44:32.199Z"
   },
   {
    "duration": 1107,
    "start_time": "2023-07-26T12:44:39.920Z"
   },
   {
    "duration": 574,
    "start_time": "2023-07-26T12:45:41.094Z"
   },
   {
    "duration": 1380,
    "start_time": "2023-07-26T12:45:44.903Z"
   },
   {
    "duration": 1044,
    "start_time": "2023-07-26T12:46:26.145Z"
   },
   {
    "duration": 593,
    "start_time": "2023-07-26T12:46:31.302Z"
   },
   {
    "duration": 1312,
    "start_time": "2023-07-26T12:46:42.486Z"
   },
   {
    "duration": 1190,
    "start_time": "2023-07-26T12:47:01.247Z"
   },
   {
    "duration": 1046,
    "start_time": "2023-07-26T12:48:26.229Z"
   },
   {
    "duration": 1090,
    "start_time": "2023-07-26T12:48:40.692Z"
   },
   {
    "duration": 19,
    "start_time": "2023-07-26T12:49:07.793Z"
   },
   {
    "duration": 17,
    "start_time": "2023-07-26T12:49:16.493Z"
   },
   {
    "duration": 17,
    "start_time": "2023-07-26T12:50:13.524Z"
   },
   {
    "duration": 22,
    "start_time": "2023-07-26T12:50:25.540Z"
   },
   {
    "duration": 33,
    "start_time": "2023-07-26T12:50:58.124Z"
   },
   {
    "duration": 19,
    "start_time": "2023-07-26T12:51:24.788Z"
   },
   {
    "duration": 18,
    "start_time": "2023-07-26T12:51:37.459Z"
   },
   {
    "duration": 26,
    "start_time": "2023-07-26T12:51:53.635Z"
   },
   {
    "duration": 158,
    "start_time": "2023-07-26T12:52:24.531Z"
   },
   {
    "duration": 18,
    "start_time": "2023-07-26T12:52:29.971Z"
   },
   {
    "duration": 3293,
    "start_time": "2023-07-26T12:52:45.970Z"
   },
   {
    "duration": 22,
    "start_time": "2023-07-26T12:52:50.154Z"
   },
   {
    "duration": 327,
    "start_time": "2023-07-26T12:53:03.530Z"
   },
   {
    "duration": 123,
    "start_time": "2023-07-26T12:53:27.687Z"
   },
   {
    "duration": 188,
    "start_time": "2023-07-26T12:53:30.746Z"
   },
   {
    "duration": 129,
    "start_time": "2023-07-26T12:53:33.274Z"
   },
   {
    "duration": 4,
    "start_time": "2023-07-26T12:53:46.858Z"
   },
   {
    "duration": 118,
    "start_time": "2023-07-26T12:53:50.042Z"
   },
   {
    "duration": 426,
    "start_time": "2023-07-26T12:54:05.898Z"
   },
   {
    "duration": 129,
    "start_time": "2023-07-26T12:58:10.889Z"
   },
   {
    "duration": 633,
    "start_time": "2023-07-26T12:58:45.071Z"
   },
   {
    "duration": 112,
    "start_time": "2023-07-26T12:59:13.423Z"
   },
   {
    "duration": 123,
    "start_time": "2023-07-26T12:59:26.152Z"
   },
   {
    "duration": 124,
    "start_time": "2023-07-26T12:59:30.333Z"
   },
   {
    "duration": 123,
    "start_time": "2023-07-26T13:00:16.718Z"
   },
   {
    "duration": 132,
    "start_time": "2023-07-26T13:00:26.358Z"
   },
   {
    "duration": 124,
    "start_time": "2023-07-26T13:00:36.386Z"
   },
   {
    "duration": 126,
    "start_time": "2023-07-26T13:01:02.797Z"
   },
   {
    "duration": 137,
    "start_time": "2023-07-26T13:01:12.508Z"
   },
   {
    "duration": 138,
    "start_time": "2023-07-26T13:01:59.836Z"
   },
   {
    "duration": 137,
    "start_time": "2023-07-26T13:02:27.733Z"
   },
   {
    "duration": 140,
    "start_time": "2023-07-26T13:02:50.547Z"
   },
   {
    "duration": 118,
    "start_time": "2023-07-26T13:03:31.907Z"
   },
   {
    "duration": 137,
    "start_time": "2023-07-26T13:03:34.874Z"
   },
   {
    "duration": 131,
    "start_time": "2023-07-26T13:03:49.278Z"
   },
   {
    "duration": 166,
    "start_time": "2023-07-26T13:03:56.027Z"
   },
   {
    "duration": 120,
    "start_time": "2023-07-26T13:04:49.347Z"
   },
   {
    "duration": 121,
    "start_time": "2023-07-26T13:04:54.409Z"
   },
   {
    "duration": 140,
    "start_time": "2023-07-26T13:06:08.356Z"
   },
   {
    "duration": 144,
    "start_time": "2023-07-26T13:06:52.277Z"
   },
   {
    "duration": 156,
    "start_time": "2023-07-26T13:06:55.816Z"
   },
   {
    "duration": 122,
    "start_time": "2023-07-26T13:07:05.772Z"
   },
   {
    "duration": 118,
    "start_time": "2023-07-26T13:07:15.400Z"
   },
   {
    "duration": 118,
    "start_time": "2023-07-26T13:10:16.430Z"
   },
   {
    "duration": 130,
    "start_time": "2023-07-26T13:10:32.371Z"
   },
   {
    "duration": 123,
    "start_time": "2023-07-26T13:10:43.593Z"
   },
   {
    "duration": 6296,
    "start_time": "2023-07-26T13:16:27.340Z"
   },
   {
    "duration": 965929,
    "start_time": "2023-07-26T13:16:45.228Z"
   },
   {
    "duration": 136,
    "start_time": "2023-07-26T13:32:57.687Z"
   },
   {
    "duration": 162093,
    "start_time": "2023-07-26T13:33:06.991Z"
   },
   {
    "duration": 142,
    "start_time": "2023-07-26T13:58:28.297Z"
   },
   {
    "duration": 16547,
    "start_time": "2023-07-26T13:58:32.230Z"
   },
   {
    "duration": 5253,
    "start_time": "2023-07-26T14:14:46.199Z"
   },
   {
    "duration": 3338,
    "start_time": "2023-07-26T14:14:51.456Z"
   },
   {
    "duration": 51,
    "start_time": "2023-07-26T14:14:54.796Z"
   },
   {
    "duration": 2911,
    "start_time": "2023-07-26T14:14:54.849Z"
   },
   {
    "duration": 4,
    "start_time": "2023-07-26T14:14:57.762Z"
   },
   {
    "duration": 801,
    "start_time": "2023-07-26T14:14:57.768Z"
   },
   {
    "duration": 0,
    "start_time": "2023-07-26T14:14:58.571Z"
   },
   {
    "duration": 0,
    "start_time": "2023-07-26T14:14:58.572Z"
   },
   {
    "duration": 0,
    "start_time": "2023-07-26T14:14:58.573Z"
   },
   {
    "duration": 0,
    "start_time": "2023-07-26T14:14:58.574Z"
   },
   {
    "duration": 0,
    "start_time": "2023-07-26T14:14:58.575Z"
   },
   {
    "duration": 1053,
    "start_time": "2023-07-26T14:15:20.358Z"
   },
   {
    "duration": 582,
    "start_time": "2023-07-26T14:19:48.076Z"
   },
   {
    "duration": 599170,
    "start_time": "2023-07-26T14:20:04.316Z"
   },
   {
    "duration": 278,
    "start_time": "2023-07-26T14:30:18.014Z"
   },
   {
    "duration": 2665950,
    "start_time": "2023-07-26T14:30:20.434Z"
   },
   {
    "duration": 769,
    "start_time": "2023-07-26T15:24:12.010Z"
   },
   {
    "duration": 12123,
    "start_time": "2023-07-26T15:27:03.463Z"
   },
   {
    "duration": 3318,
    "start_time": "2023-07-26T15:27:15.588Z"
   },
   {
    "duration": 55,
    "start_time": "2023-07-26T15:27:18.908Z"
   },
   {
    "duration": 299,
    "start_time": "2023-07-26T15:27:18.965Z"
   },
   {
    "duration": 2620254,
    "start_time": "2023-07-26T15:27:19.265Z"
   },
   {
    "duration": 3,
    "start_time": "2023-07-26T16:41:29.742Z"
   },
   {
    "duration": 647,
    "start_time": "2023-07-26T16:44:27.805Z"
   },
   {
    "duration": 18,
    "start_time": "2023-07-26T16:50:44.577Z"
   },
   {
    "duration": 406,
    "start_time": "2023-07-26T16:50:55.953Z"
   },
   {
    "duration": 604,
    "start_time": "2023-07-26T16:52:05.399Z"
   },
   {
    "duration": 591,
    "start_time": "2023-07-26T16:54:05.071Z"
   },
   {
    "duration": 588,
    "start_time": "2023-07-26T16:55:16.423Z"
   },
   {
    "duration": 7,
    "start_time": "2023-07-26T17:02:06.573Z"
   },
   {
    "duration": 7,
    "start_time": "2023-07-26T17:02:19.597Z"
   },
   {
    "duration": 6,
    "start_time": "2023-07-26T17:06:06.685Z"
   },
   {
    "duration": 7,
    "start_time": "2023-07-26T17:06:18.470Z"
   },
   {
    "duration": 6,
    "start_time": "2023-07-26T17:06:50.565Z"
   },
   {
    "duration": 8,
    "start_time": "2023-07-26T17:10:08.738Z"
   },
   {
    "duration": 1075,
    "start_time": "2023-07-26T17:10:44.458Z"
   },
   {
    "duration": 59,
    "start_time": "2023-07-26T17:12:56.889Z"
   },
   {
    "duration": 486,
    "start_time": "2023-07-26T17:13:12.992Z"
   },
   {
    "duration": 556,
    "start_time": "2023-07-26T17:13:27.760Z"
   },
   {
    "duration": 947,
    "start_time": "2023-07-26T17:20:20.758Z"
   },
   {
    "duration": 985,
    "start_time": "2023-07-26T17:20:40.942Z"
   },
   {
    "duration": 1254,
    "start_time": "2023-07-26T17:22:45.453Z"
   },
   {
    "duration": 10,
    "start_time": "2023-07-26T17:24:00.965Z"
   },
   {
    "duration": 10,
    "start_time": "2023-07-26T17:24:53.502Z"
   },
   {
    "duration": 1545,
    "start_time": "2023-07-26T17:25:24.716Z"
   },
   {
    "duration": 9,
    "start_time": "2023-07-26T17:25:33.299Z"
   },
   {
    "duration": 9,
    "start_time": "2023-07-26T17:26:32.388Z"
   },
   {
    "duration": 8,
    "start_time": "2023-07-26T17:27:02.338Z"
   },
   {
    "duration": 6,
    "start_time": "2023-07-26T17:27:35.042Z"
   },
   {
    "duration": 690,
    "start_time": "2023-07-26T17:28:58.818Z"
   },
   {
    "duration": 622,
    "start_time": "2023-07-26T17:29:29.129Z"
   },
   {
    "duration": 589,
    "start_time": "2023-07-26T17:29:38.609Z"
   },
   {
    "duration": 1014,
    "start_time": "2023-07-26T17:30:11.802Z"
   },
   {
    "duration": 160,
    "start_time": "2023-07-26T17:30:21.808Z"
   },
   {
    "duration": 935,
    "start_time": "2023-07-26T17:30:31.408Z"
   },
   {
    "duration": 896,
    "start_time": "2023-07-26T17:30:41.848Z"
   },
   {
    "duration": 565,
    "start_time": "2023-07-26T17:31:19.623Z"
   },
   {
    "duration": 1937,
    "start_time": "2023-07-26T17:34:08.509Z"
   },
   {
    "duration": 1907,
    "start_time": "2023-07-26T17:34:21.800Z"
   },
   {
    "duration": 2503140,
    "start_time": "2023-07-26T17:35:30.939Z"
   },
   {
    "duration": 6,
    "start_time": "2023-07-26T18:24:25.148Z"
   },
   {
    "duration": 6,
    "start_time": "2023-07-26T18:24:29.058Z"
   },
   {
    "duration": 22,
    "start_time": "2023-07-26T18:27:01.074Z"
   },
   {
    "duration": 4,
    "start_time": "2023-07-26T18:27:05.307Z"
   },
   {
    "duration": 4303,
    "start_time": "2023-07-27T07:30:09.810Z"
   },
   {
    "duration": 3200,
    "start_time": "2023-07-27T07:30:14.115Z"
   },
   {
    "duration": 49,
    "start_time": "2023-07-27T07:30:17.317Z"
   },
   {
    "duration": 260,
    "start_time": "2023-07-27T07:30:17.368Z"
   },
   {
    "duration": 3519,
    "start_time": "2023-07-27T07:30:17.630Z"
   },
   {
    "duration": 8,
    "start_time": "2023-07-27T07:30:21.150Z"
   },
   {
    "duration": 2263240,
    "start_time": "2023-07-27T07:30:21.160Z"
   },
   {
    "duration": 4,
    "start_time": "2023-07-27T08:08:04.402Z"
   },
   {
    "duration": 5,
    "start_time": "2023-07-27T08:09:11.189Z"
   },
   {
    "duration": 4,
    "start_time": "2023-07-27T08:11:33.948Z"
   },
   {
    "duration": 4,
    "start_time": "2023-07-27T08:11:41.190Z"
   },
   {
    "duration": 5,
    "start_time": "2023-07-27T08:12:21.052Z"
   },
   {
    "duration": 4,
    "start_time": "2023-07-27T08:12:46.426Z"
   },
   {
    "duration": 8,
    "start_time": "2023-07-27T08:14:52.475Z"
   },
   {
    "duration": 4255,
    "start_time": "2023-07-27T08:46:07.052Z"
   },
   {
    "duration": 776,
    "start_time": "2023-07-27T08:46:11.309Z"
   },
   {
    "duration": 47,
    "start_time": "2023-07-27T08:46:12.087Z"
   },
   {
    "duration": 277,
    "start_time": "2023-07-27T08:46:12.136Z"
   },
   {
    "duration": 3841,
    "start_time": "2023-07-27T08:46:12.416Z"
   },
   {
    "duration": 362206,
    "start_time": "2023-07-27T08:46:16.259Z"
   },
   {
    "duration": 23,
    "start_time": "2023-07-27T08:52:18.475Z"
   },
   {
    "duration": 4389,
    "start_time": "2023-07-27T08:53:37.781Z"
   },
   {
    "duration": 789,
    "start_time": "2023-07-27T08:53:42.172Z"
   },
   {
    "duration": 52,
    "start_time": "2023-07-27T08:53:42.963Z"
   },
   {
    "duration": 387,
    "start_time": "2023-07-27T08:53:43.017Z"
   },
   {
    "duration": 3823,
    "start_time": "2023-07-27T08:53:43.406Z"
   },
   {
    "duration": 518691,
    "start_time": "2023-07-27T08:53:47.231Z"
   },
   {
    "duration": 4022,
    "start_time": "2023-07-27T09:02:38.709Z"
   },
   {
    "duration": 777,
    "start_time": "2023-07-27T09:02:42.733Z"
   },
   {
    "duration": 62,
    "start_time": "2023-07-27T09:02:43.512Z"
   },
   {
    "duration": 283,
    "start_time": "2023-07-27T09:02:43.576Z"
   },
   {
    "duration": 4000,
    "start_time": "2023-07-27T09:02:43.862Z"
   },
   {
    "duration": 2398606,
    "start_time": "2023-07-27T09:02:47.869Z"
   },
   {
    "duration": 4,
    "start_time": "2023-07-27T10:16:11.371Z"
   },
   {
    "duration": 357,
    "start_time": "2023-07-27T10:19:28.114Z"
   },
   {
    "duration": 202,
    "start_time": "2023-07-27T10:23:00.183Z"
   },
   {
    "duration": 1274,
    "start_time": "2023-07-27T10:23:05.816Z"
   },
   {
    "duration": 3,
    "start_time": "2023-07-27T10:23:23.207Z"
   },
   {
    "duration": 3,
    "start_time": "2023-07-27T10:23:29.644Z"
   },
   {
    "duration": 1502,
    "start_time": "2023-07-27T10:25:29.159Z"
   },
   {
    "duration": 3,
    "start_time": "2023-07-27T10:25:36.207Z"
   },
   {
    "duration": 1380,
    "start_time": "2023-07-27T10:25:39.710Z"
   },
   {
    "duration": 21,
    "start_time": "2023-07-27T10:25:51.198Z"
   },
   {
    "duration": 17,
    "start_time": "2023-07-27T10:26:26.665Z"
   },
   {
    "duration": 20,
    "start_time": "2023-07-27T10:26:39.337Z"
   },
   {
    "duration": 21,
    "start_time": "2023-07-27T10:26:43.566Z"
   },
   {
    "duration": 81,
    "start_time": "2023-07-27T10:27:44.406Z"
   },
   {
    "duration": 34,
    "start_time": "2023-07-27T10:28:44.062Z"
   },
   {
    "duration": 23,
    "start_time": "2023-07-27T10:29:13.204Z"
   },
   {
    "duration": 48,
    "start_time": "2023-07-27T10:29:19.868Z"
   },
   {
    "duration": 3420,
    "start_time": "2023-07-27T10:31:35.137Z"
   },
   {
    "duration": 1541,
    "start_time": "2023-07-27T10:31:45.298Z"
   },
   {
    "duration": 1630,
    "start_time": "2023-07-27T10:31:55.936Z"
   },
   {
    "duration": 34,
    "start_time": "2023-07-27T10:36:53.118Z"
   },
   {
    "duration": 21,
    "start_time": "2023-07-27T10:37:19.142Z"
   },
   {
    "duration": 4,
    "start_time": "2023-07-27T10:40:29.849Z"
   },
   {
    "duration": 20,
    "start_time": "2023-07-27T10:48:51.509Z"
   },
   {
    "duration": 4,
    "start_time": "2023-07-27T10:49:10.397Z"
   },
   {
    "duration": 246,
    "start_time": "2023-07-27T10:49:19.402Z"
   },
   {
    "duration": 22,
    "start_time": "2023-07-27T10:49:31.421Z"
   },
   {
    "duration": 19,
    "start_time": "2023-07-27T10:49:54.795Z"
   },
   {
    "duration": 21,
    "start_time": "2023-07-27T10:49:59.549Z"
   },
   {
    "duration": 5,
    "start_time": "2023-07-27T10:50:19.460Z"
   },
   {
    "duration": 21,
    "start_time": "2023-07-27T10:50:26.344Z"
   },
   {
    "duration": 14,
    "start_time": "2023-07-27T10:50:34.248Z"
   },
   {
    "duration": 19,
    "start_time": "2023-07-27T10:50:50.094Z"
   },
   {
    "duration": 109,
    "start_time": "2023-07-27T10:51:29.998Z"
   },
   {
    "duration": 3863,
    "start_time": "2023-07-27T10:51:34.319Z"
   },
   {
    "duration": 712,
    "start_time": "2023-07-27T10:51:40.188Z"
   },
   {
    "duration": 281,
    "start_time": "2023-07-27T10:51:42.745Z"
   },
   {
    "duration": 927,
    "start_time": "2023-07-27T10:51:47.392Z"
   },
   {
    "duration": 38,
    "start_time": "2023-07-27T10:51:53.308Z"
   },
   {
    "duration": 223,
    "start_time": "2023-07-27T10:51:55.949Z"
   },
   {
    "duration": 2,
    "start_time": "2023-07-27T10:52:24.803Z"
   },
   {
    "duration": 477,
    "start_time": "2023-07-27T10:53:15.114Z"
   },
   {
    "duration": 5611,
    "start_time": "2023-07-27T10:53:25.506Z"
   },
   {
    "duration": 4,
    "start_time": "2023-07-27T10:53:55.243Z"
   },
   {
    "duration": 6797,
    "start_time": "2023-07-27T10:54:25.817Z"
   },
   {
    "duration": 23,
    "start_time": "2023-07-27T10:54:44.440Z"
   },
   {
    "duration": 21,
    "start_time": "2023-07-27T10:55:14.713Z"
   },
   {
    "duration": 6,
    "start_time": "2023-07-27T10:55:21.113Z"
   },
   {
    "duration": 4,
    "start_time": "2023-07-27T10:55:26.049Z"
   },
   {
    "duration": 22,
    "start_time": "2023-07-27T10:56:01.077Z"
   },
   {
    "duration": 4489,
    "start_time": "2023-07-27T10:56:30.493Z"
   },
   {
    "duration": 4054,
    "start_time": "2023-07-27T10:56:46.260Z"
   },
   {
    "duration": 3663,
    "start_time": "2023-07-27T10:56:51.969Z"
   },
   {
    "duration": 384,
    "start_time": "2023-07-27T10:57:02.947Z"
   },
   {
    "duration": 51,
    "start_time": "2023-07-27T10:57:05.243Z"
   },
   {
    "duration": 3,
    "start_time": "2023-07-27T10:57:08.092Z"
   },
   {
    "duration": 138,
    "start_time": "2023-07-27T10:57:10.017Z"
   },
   {
    "duration": 5,
    "start_time": "2023-07-27T10:57:14.661Z"
   },
   {
    "duration": 6969,
    "start_time": "2023-07-27T10:57:15.859Z"
   },
   {
    "duration": 2,
    "start_time": "2023-07-27T10:57:25.548Z"
   },
   {
    "duration": 46,
    "start_time": "2023-07-27T11:01:35.918Z"
   },
   {
    "duration": 4549,
    "start_time": "2023-07-27T11:01:41.643Z"
   },
   {
    "duration": 3546,
    "start_time": "2023-07-27T11:01:47.469Z"
   },
   {
    "duration": 287,
    "start_time": "2023-07-27T11:01:54.483Z"
   },
   {
    "duration": 662,
    "start_time": "2023-07-27T11:01:56.993Z"
   },
   {
    "duration": 36,
    "start_time": "2023-07-27T11:01:58.749Z"
   },
   {
    "duration": 180,
    "start_time": "2023-07-27T11:02:00.851Z"
   },
   {
    "duration": 3,
    "start_time": "2023-07-27T11:02:02.413Z"
   },
   {
    "duration": 6408,
    "start_time": "2023-07-27T11:02:04.117Z"
   },
   {
    "duration": 3,
    "start_time": "2023-07-27T11:02:11.748Z"
   },
   {
    "duration": 48,
    "start_time": "2023-07-27T11:02:50.851Z"
   },
   {
    "duration": 10380,
    "start_time": "2023-07-27T11:02:55.178Z"
   },
   {
    "duration": 3457,
    "start_time": "2023-07-27T11:03:11.564Z"
   },
   {
    "duration": 460,
    "start_time": "2023-07-27T11:03:19.367Z"
   },
   {
    "duration": 33,
    "start_time": "2023-07-27T11:03:21.459Z"
   },
   {
    "duration": 4,
    "start_time": "2023-07-27T11:03:23.412Z"
   },
   {
    "duration": 150,
    "start_time": "2023-07-27T11:03:25.711Z"
   },
   {
    "duration": 3,
    "start_time": "2023-07-27T11:03:27.456Z"
   },
   {
    "duration": 6460,
    "start_time": "2023-07-27T11:03:28.473Z"
   },
   {
    "duration": 7,
    "start_time": "2023-07-27T11:03:41.420Z"
   },
   {
    "duration": 3,
    "start_time": "2023-07-27T11:03:43.099Z"
   },
   {
    "duration": 287,
    "start_time": "2023-07-27T11:06:30.255Z"
   },
   {
    "duration": 4,
    "start_time": "2023-07-27T11:07:44.811Z"
   },
   {
    "duration": 21,
    "start_time": "2023-07-27T11:07:52.217Z"
   },
   {
    "duration": 28,
    "start_time": "2023-07-27T11:08:19.155Z"
   },
   {
    "duration": 22,
    "start_time": "2023-07-27T11:10:09.169Z"
   },
   {
    "duration": 50137,
    "start_time": "2023-07-27T11:10:29.321Z"
   },
   {
    "duration": 9,
    "start_time": "2023-07-27T11:42:10.050Z"
   },
   {
    "duration": 4,
    "start_time": "2023-07-27T11:42:15.518Z"
   },
   {
    "duration": 17,
    "start_time": "2023-07-27T11:43:02.202Z"
   },
   {
    "duration": 19,
    "start_time": "2023-07-27T12:31:23.714Z"
   },
   {
    "duration": 4,
    "start_time": "2023-07-27T12:31:30.945Z"
   },
   {
    "duration": 3,
    "start_time": "2023-07-27T12:31:39.788Z"
   },
   {
    "duration": 26,
    "start_time": "2023-07-27T12:31:51.722Z"
   },
   {
    "duration": 2,
    "start_time": "2023-07-27T12:32:03.402Z"
   },
   {
    "duration": 23,
    "start_time": "2023-07-27T12:32:04.193Z"
   },
   {
    "duration": 20,
    "start_time": "2023-07-27T12:32:21.802Z"
   },
   {
    "duration": 5,
    "start_time": "2023-07-27T12:32:23.153Z"
   },
   {
    "duration": 4,
    "start_time": "2023-07-27T12:32:23.786Z"
   },
   {
    "duration": 3,
    "start_time": "2023-07-27T12:32:24.349Z"
   },
   {
    "duration": 23,
    "start_time": "2023-07-27T12:32:25.002Z"
   },
   {
    "duration": 30590,
    "start_time": "2023-07-27T12:33:45.478Z"
   },
   {
    "duration": 7,
    "start_time": "2023-07-27T12:34:46.888Z"
   },
   {
    "duration": 12,
    "start_time": "2023-07-27T12:34:47.573Z"
   },
   {
    "duration": 2,
    "start_time": "2023-07-27T12:34:57.392Z"
   },
   {
    "duration": 45248,
    "start_time": "2023-07-27T12:35:02.009Z"
   },
   {
    "duration": 7,
    "start_time": "2023-07-27T12:36:05.608Z"
   },
   {
    "duration": 13,
    "start_time": "2023-07-27T12:36:06.549Z"
   },
   {
    "duration": 22,
    "start_time": "2023-07-27T12:39:55.570Z"
   },
   {
    "duration": 160,
    "start_time": "2023-07-27T12:44:19.606Z"
   },
   {
    "duration": 3,
    "start_time": "2023-07-27T12:45:21.770Z"
   },
   {
    "duration": 39373,
    "start_time": "2023-07-27T12:45:35.862Z"
   },
   {
    "duration": 5138,
    "start_time": "2023-07-27T12:46:33.224Z"
   },
   {
    "duration": 3,
    "start_time": "2023-07-27T12:46:40.299Z"
   },
   {
    "duration": 9508,
    "start_time": "2023-07-27T12:46:42.857Z"
   },
   {
    "duration": 124111,
    "start_time": "2023-07-27T12:47:10.602Z"
   },
   {
    "duration": 2396,
    "start_time": "2023-07-27T12:49:54.262Z"
   },
   {
    "duration": 17,
    "start_time": "2023-07-27T12:49:57.801Z"
   },
   {
    "duration": 56,
    "start_time": "2023-07-27T12:50:40.401Z"
   },
   {
    "duration": 3,
    "start_time": "2023-07-27T12:51:14.401Z"
   },
   {
    "duration": 588309,
    "start_time": "2023-07-27T12:51:15.225Z"
   },
   {
    "duration": 39,
    "start_time": "2023-07-27T13:01:03.536Z"
   },
   {
    "duration": 3,
    "start_time": "2023-07-27T13:01:23.378Z"
   },
   {
    "duration": 119692,
    "start_time": "2023-07-27T13:01:37.468Z"
   },
   {
    "duration": 5,
    "start_time": "2023-07-27T13:03:48.514Z"
   },
   {
    "duration": 3,
    "start_time": "2023-07-27T13:04:43.970Z"
   },
   {
    "duration": 20,
    "start_time": "2023-07-27T13:10:34.865Z"
   },
   {
    "duration": 19,
    "start_time": "2023-07-27T13:11:20.281Z"
   },
   {
    "duration": 4,
    "start_time": "2023-07-27T13:11:55.032Z"
   },
   {
    "duration": 8971,
    "start_time": "2023-07-27T13:12:30.632Z"
   },
   {
    "duration": 4,
    "start_time": "2023-07-27T13:13:03.238Z"
   },
   {
    "duration": 4,
    "start_time": "2023-07-27T13:14:01.582Z"
   },
   {
    "duration": 4,
    "start_time": "2023-07-27T13:14:03.534Z"
   },
   {
    "duration": 42,
    "start_time": "2023-07-27T13:14:09.905Z"
   },
   {
    "duration": 4,
    "start_time": "2023-07-27T13:14:14.823Z"
   },
   {
    "duration": 63137,
    "start_time": "2023-07-27T13:14:19.874Z"
   },
   {
    "duration": 2030,
    "start_time": "2023-07-27T13:15:36.170Z"
   },
   {
    "duration": 2099,
    "start_time": "2023-07-27T13:15:49.073Z"
   },
   {
    "duration": 547211,
    "start_time": "2023-07-27T13:18:54.871Z"
   },
   {
    "duration": 2292,
    "start_time": "2023-07-27T13:28:36.268Z"
   },
   {
    "duration": 3544,
    "start_time": "2023-07-27T13:28:56.676Z"
   },
   {
    "duration": 3398,
    "start_time": "2023-07-27T13:29:18.873Z"
   },
   {
    "duration": 7637,
    "start_time": "2023-07-27T13:29:22.274Z"
   },
   {
    "duration": 3365,
    "start_time": "2023-07-27T13:29:29.913Z"
   },
   {
    "duration": 50,
    "start_time": "2023-07-27T13:29:33.279Z"
   },
   {
    "duration": 268,
    "start_time": "2023-07-27T13:29:33.332Z"
   },
   {
    "duration": 3781,
    "start_time": "2023-07-27T13:29:33.602Z"
   },
   {
    "duration": 1168,
    "start_time": "2023-07-27T13:29:37.386Z"
   },
   {
    "duration": 80,
    "start_time": "2023-07-27T13:29:38.557Z"
   },
   {
    "duration": 0,
    "start_time": "2023-07-27T13:29:38.639Z"
   },
   {
    "duration": 0,
    "start_time": "2023-07-27T13:29:38.641Z"
   },
   {
    "duration": 0,
    "start_time": "2023-07-27T13:29:38.642Z"
   },
   {
    "duration": 0,
    "start_time": "2023-07-27T13:29:38.644Z"
   },
   {
    "duration": 0,
    "start_time": "2023-07-27T13:29:38.645Z"
   },
   {
    "duration": 0,
    "start_time": "2023-07-27T13:29:38.647Z"
   },
   {
    "duration": 0,
    "start_time": "2023-07-27T13:29:38.649Z"
   },
   {
    "duration": 0,
    "start_time": "2023-07-27T13:29:38.650Z"
   },
   {
    "duration": 0,
    "start_time": "2023-07-27T13:29:38.651Z"
   },
   {
    "duration": 0,
    "start_time": "2023-07-27T13:29:38.652Z"
   },
   {
    "duration": 0,
    "start_time": "2023-07-27T13:29:38.654Z"
   },
   {
    "duration": 0,
    "start_time": "2023-07-27T13:29:38.655Z"
   },
   {
    "duration": 0,
    "start_time": "2023-07-27T13:29:38.656Z"
   },
   {
    "duration": 0,
    "start_time": "2023-07-27T13:29:38.657Z"
   },
   {
    "duration": 0,
    "start_time": "2023-07-27T13:29:38.658Z"
   },
   {
    "duration": 0,
    "start_time": "2023-07-27T13:29:38.660Z"
   },
   {
    "duration": 0,
    "start_time": "2023-07-27T13:29:38.662Z"
   },
   {
    "duration": 0,
    "start_time": "2023-07-27T13:29:38.663Z"
   },
   {
    "duration": 0,
    "start_time": "2023-07-27T13:29:38.664Z"
   },
   {
    "duration": 58,
    "start_time": "2023-07-27T13:29:49.009Z"
   },
   {
    "duration": 62,
    "start_time": "2023-07-27T13:30:00.440Z"
   },
   {
    "duration": 3332,
    "start_time": "2023-07-27T13:30:54.180Z"
   },
   {
    "duration": 3611,
    "start_time": "2023-07-27T13:30:57.515Z"
   },
   {
    "duration": 802,
    "start_time": "2023-07-27T13:31:01.128Z"
   },
   {
    "duration": 60,
    "start_time": "2023-07-27T13:31:01.932Z"
   },
   {
    "duration": 311,
    "start_time": "2023-07-27T13:31:01.995Z"
   },
   {
    "duration": 3662,
    "start_time": "2023-07-27T13:31:02.309Z"
   },
   {
    "duration": 485,
    "start_time": "2023-07-27T13:31:05.973Z"
   },
   {
    "duration": 3,
    "start_time": "2023-07-27T13:31:06.460Z"
   },
   {
    "duration": 376,
    "start_time": "2023-07-27T13:31:06.465Z"
   },
   {
    "duration": 0,
    "start_time": "2023-07-27T13:31:06.844Z"
   },
   {
    "duration": 0,
    "start_time": "2023-07-27T13:31:06.846Z"
   },
   {
    "duration": 0,
    "start_time": "2023-07-27T13:31:06.857Z"
   },
   {
    "duration": 0,
    "start_time": "2023-07-27T13:31:06.860Z"
   },
   {
    "duration": 0,
    "start_time": "2023-07-27T13:31:06.861Z"
   },
   {
    "duration": 0,
    "start_time": "2023-07-27T13:31:06.863Z"
   },
   {
    "duration": 0,
    "start_time": "2023-07-27T13:31:06.865Z"
   },
   {
    "duration": 0,
    "start_time": "2023-07-27T13:31:06.866Z"
   },
   {
    "duration": 0,
    "start_time": "2023-07-27T13:31:06.868Z"
   },
   {
    "duration": 0,
    "start_time": "2023-07-27T13:31:06.869Z"
   },
   {
    "duration": 0,
    "start_time": "2023-07-27T13:31:06.870Z"
   },
   {
    "duration": 0,
    "start_time": "2023-07-27T13:31:06.871Z"
   },
   {
    "duration": 0,
    "start_time": "2023-07-27T13:31:06.872Z"
   },
   {
    "duration": 0,
    "start_time": "2023-07-27T13:31:06.873Z"
   },
   {
    "duration": 0,
    "start_time": "2023-07-27T13:31:06.874Z"
   },
   {
    "duration": 0,
    "start_time": "2023-07-27T13:31:06.875Z"
   },
   {
    "duration": 0,
    "start_time": "2023-07-27T13:31:06.876Z"
   },
   {
    "duration": 0,
    "start_time": "2023-07-27T13:31:06.878Z"
   },
   {
    "duration": 26,
    "start_time": "2023-07-27T13:31:36.610Z"
   },
   {
    "duration": 2994,
    "start_time": "2023-07-27T13:32:05.820Z"
   },
   {
    "duration": 3873,
    "start_time": "2023-07-27T13:32:08.816Z"
   },
   {
    "duration": 803,
    "start_time": "2023-07-27T13:32:12.690Z"
   },
   {
    "duration": 61,
    "start_time": "2023-07-27T13:32:13.496Z"
   },
   {
    "duration": 297,
    "start_time": "2023-07-27T13:32:13.559Z"
   },
   {
    "duration": 3686,
    "start_time": "2023-07-27T13:32:13.858Z"
   },
   {
    "duration": 2355396,
    "start_time": "2023-07-27T13:32:17.545Z"
   },
   {
    "duration": 1479,
    "start_time": "2023-07-27T14:11:32.943Z"
   },
   {
    "duration": 1379,
    "start_time": "2023-07-27T14:11:34.424Z"
   },
   {
    "duration": 34,
    "start_time": "2023-07-27T14:11:35.805Z"
   },
   {
    "duration": 4,
    "start_time": "2023-07-27T14:11:35.840Z"
   },
   {
    "duration": 189,
    "start_time": "2023-07-27T14:11:35.846Z"
   },
   {
    "duration": 2,
    "start_time": "2023-07-27T14:11:36.037Z"
   },
   {
    "duration": 6950,
    "start_time": "2023-07-27T14:11:36.041Z"
   },
   {
    "duration": 3,
    "start_time": "2023-07-27T14:11:42.993Z"
   },
   {
    "duration": 6,
    "start_time": "2023-07-27T14:11:42.998Z"
   },
   {
    "duration": 117071,
    "start_time": "2023-07-27T14:11:43.006Z"
   },
   {
    "duration": 13,
    "start_time": "2023-07-27T14:13:40.156Z"
   },
   {
    "duration": 4,
    "start_time": "2023-07-27T14:13:40.172Z"
   },
   {
    "duration": 5775190,
    "start_time": "2023-07-27T14:13:40.177Z"
   },
   {
    "duration": 4,
    "start_time": "2023-07-27T15:49:55.370Z"
   },
   {
    "duration": 91086,
    "start_time": "2023-07-27T15:49:55.376Z"
   },
   {
    "duration": 99,
    "start_time": "2023-07-27T15:51:26.465Z"
   },
   {
    "duration": 0,
    "start_time": "2023-07-27T15:51:26.568Z"
   },
   {
    "duration": 0,
    "start_time": "2023-07-27T15:51:26.571Z"
   },
   {
    "duration": 0,
    "start_time": "2023-07-27T15:51:26.572Z"
   },
   {
    "duration": 0,
    "start_time": "2023-07-27T15:51:26.575Z"
   },
   {
    "duration": 0,
    "start_time": "2023-07-27T15:51:26.576Z"
   },
   {
    "duration": 6,
    "start_time": "2023-07-27T15:51:30.691Z"
   },
   {
    "duration": 4,
    "start_time": "2023-07-27T15:53:19.675Z"
   },
   {
    "duration": 3,
    "start_time": "2023-07-27T15:54:52.906Z"
   },
   {
    "duration": 4,
    "start_time": "2023-07-27T15:54:53.828Z"
   },
   {
    "duration": 21775634,
    "start_time": "2023-07-27T15:55:09.382Z"
   },
   {
    "duration": 5,
    "start_time": "2023-07-27T22:16:32.094Z"
   },
   {
    "duration": 5,
    "start_time": "2023-07-27T22:27:15.522Z"
   },
   {
    "duration": 48,
    "start_time": "2023-07-28T10:06:22.123Z"
   },
   {
    "duration": 50,
    "start_time": "2023-07-28T10:06:39.392Z"
   },
   {
    "duration": 4807,
    "start_time": "2023-07-28T10:06:43.863Z"
   },
   {
    "duration": 1429,
    "start_time": "2023-07-28T10:06:48.895Z"
   },
   {
    "duration": 291,
    "start_time": "2023-07-28T10:06:52.119Z"
   },
   {
    "duration": 2294,
    "start_time": "2023-07-28T10:07:00.928Z"
   },
   {
    "duration": 21,
    "start_time": "2023-07-28T10:07:12.567Z"
   },
   {
    "duration": 3,
    "start_time": "2023-07-28T10:07:14.479Z"
   },
   {
    "duration": 145,
    "start_time": "2023-07-28T10:07:25.183Z"
   },
   {
    "duration": 3,
    "start_time": "2023-07-28T10:07:26.911Z"
   },
   {
    "duration": 6029,
    "start_time": "2023-07-28T10:07:27.894Z"
   },
   {
    "duration": 3,
    "start_time": "2023-07-28T10:07:35.271Z"
   },
   {
    "duration": 3,
    "start_time": "2023-07-28T10:07:36.495Z"
   },
   {
    "duration": 4,
    "start_time": "2023-07-28T10:08:00.087Z"
   },
   {
    "duration": 3,
    "start_time": "2023-07-28T10:08:01.615Z"
   },
   {
    "duration": 3,
    "start_time": "2023-07-28T10:10:23.526Z"
   },
   {
    "duration": 17,
    "start_time": "2023-07-28T10:10:28.221Z"
   },
   {
    "duration": 15,
    "start_time": "2023-07-28T10:10:33.197Z"
   },
   {
    "duration": 3,
    "start_time": "2023-07-28T10:10:37.413Z"
   },
   {
    "duration": 47500,
    "start_time": "2023-07-28T10:10:41.749Z"
   },
   {
    "duration": 0,
    "start_time": "2023-07-28T10:11:29.251Z"
   },
   {
    "duration": 6878,
    "start_time": "2023-07-28T10:11:36.060Z"
   },
   {
    "duration": 3802,
    "start_time": "2023-07-28T10:11:57.620Z"
   },
   {
    "duration": 3314,
    "start_time": "2023-07-28T10:12:03.140Z"
   },
   {
    "duration": 830,
    "start_time": "2023-07-28T10:12:07.886Z"
   },
   {
    "duration": 518,
    "start_time": "2023-07-28T10:12:19.332Z"
   },
   {
    "duration": 25,
    "start_time": "2023-07-28T10:12:21.786Z"
   },
   {
    "duration": 3,
    "start_time": "2023-07-28T10:12:22.397Z"
   },
   {
    "duration": 195,
    "start_time": "2023-07-28T10:12:24.756Z"
   },
   {
    "duration": 2,
    "start_time": "2023-07-28T10:12:25.916Z"
   },
   {
    "duration": 5951,
    "start_time": "2023-07-28T10:12:26.708Z"
   },
   {
    "duration": 3,
    "start_time": "2023-07-28T10:12:36.581Z"
   },
   {
    "duration": 3,
    "start_time": "2023-07-28T10:12:38.948Z"
   },
   {
    "duration": 4,
    "start_time": "2023-07-28T10:13:07.976Z"
   },
   {
    "duration": 345,
    "start_time": "2023-07-28T10:13:16.917Z"
   },
   {
    "duration": 4,
    "start_time": "2023-07-28T10:13:23.803Z"
   },
   {
    "duration": 126571,
    "start_time": "2023-07-28T10:13:25.680Z"
   },
   {
    "duration": 4,
    "start_time": "2023-07-28T10:15:51.339Z"
   },
   {
    "duration": 327571,
    "start_time": "2023-07-28T10:15:52.947Z"
   },
   {
    "duration": 4,
    "start_time": "2023-07-28T10:21:38.931Z"
   },
   {
    "duration": 396851,
    "start_time": "2023-07-28T10:21:42.070Z"
   },
   {
    "duration": 8,
    "start_time": "2023-07-28T10:31:37.869Z"
   },
   {
    "duration": 14729,
    "start_time": "2023-07-28T10:33:29.869Z"
   },
   {
    "duration": 148781,
    "start_time": "2023-07-28T10:34:17.982Z"
   },
   {
    "duration": 18,
    "start_time": "2023-07-28T10:36:52.004Z"
   },
   {
    "duration": 25,
    "start_time": "2023-07-28T10:36:57.417Z"
   },
   {
    "duration": 16,
    "start_time": "2023-07-28T10:37:04.299Z"
   },
   {
    "duration": 3,
    "start_time": "2023-07-28T10:37:23.433Z"
   },
   {
    "duration": 4,
    "start_time": "2023-07-28T10:37:24.985Z"
   },
   {
    "duration": 4,
    "start_time": "2023-07-28T10:37:48.342Z"
   },
   {
    "duration": 36665,
    "start_time": "2023-07-28T10:37:52.385Z"
   },
   {
    "duration": 427350,
    "start_time": "2023-07-28T10:39:56.561Z"
   },
   {
    "duration": 5,
    "start_time": "2023-07-28T10:47:24.280Z"
   },
   {
    "duration": 6696570,
    "start_time": "2023-07-28T10:47:27.165Z"
   },
   {
    "duration": 32,
    "start_time": "2023-07-28T12:39:03.737Z"
   },
   {
    "duration": 4,
    "start_time": "2023-07-28T12:39:37.550Z"
   },
   {
    "duration": 4,
    "start_time": "2023-07-28T12:39:51.135Z"
   },
   {
    "duration": 4,
    "start_time": "2023-07-28T12:39:53.401Z"
   },
   {
    "duration": 488755,
    "start_time": "2023-07-28T12:39:56.606Z"
   },
   {
    "duration": 3,
    "start_time": "2023-07-28T12:48:05.366Z"
   },
   {
    "duration": 4,
    "start_time": "2023-07-28T12:48:13.208Z"
   },
   {
    "duration": 7,
    "start_time": "2023-07-28T12:48:16.848Z"
   },
   {
    "duration": 475876,
    "start_time": "2023-07-28T12:48:21.258Z"
   },
   {
    "duration": 3,
    "start_time": "2023-07-28T12:58:31.970Z"
   },
   {
    "duration": 3,
    "start_time": "2023-07-28T13:00:01.105Z"
   },
   {
    "duration": 3,
    "start_time": "2023-07-28T13:00:04.039Z"
   },
   {
    "duration": 7,
    "start_time": "2023-07-28T13:00:04.831Z"
   },
   {
    "duration": 3,
    "start_time": "2023-07-28T13:00:19.138Z"
   },
   {
    "duration": 568933,
    "start_time": "2023-07-28T13:00:20.840Z"
   },
   {
    "duration": 5,
    "start_time": "2023-07-28T13:09:58.389Z"
   },
   {
    "duration": 33,
    "start_time": "2023-07-28T13:10:27.435Z"
   },
   {
    "duration": 3,
    "start_time": "2023-07-28T13:10:42.743Z"
   },
   {
    "duration": 268,
    "start_time": "2023-07-28T13:11:15.841Z"
   },
   {
    "duration": 3,
    "start_time": "2023-07-28T13:11:56.141Z"
   },
   {
    "duration": 547,
    "start_time": "2023-07-28T13:11:58.113Z"
   },
   {
    "duration": 3,
    "start_time": "2023-07-28T13:12:17.343Z"
   },
   {
    "duration": 595,
    "start_time": "2023-07-28T13:12:19.109Z"
   },
   {
    "duration": 4,
    "start_time": "2023-07-28T13:12:37.709Z"
   },
   {
    "duration": 903,
    "start_time": "2023-07-28T13:12:39.601Z"
   },
   {
    "duration": 4,
    "start_time": "2023-07-28T13:13:12.881Z"
   },
   {
    "duration": 703,
    "start_time": "2023-07-28T13:13:14.355Z"
   },
   {
    "duration": 5,
    "start_time": "2023-07-28T13:13:35.338Z"
   },
   {
    "duration": 588,
    "start_time": "2023-07-28T13:13:36.809Z"
   },
   {
    "duration": 5,
    "start_time": "2023-07-28T13:14:20.905Z"
   },
   {
    "duration": 701,
    "start_time": "2023-07-28T13:14:22.142Z"
   },
   {
    "duration": 4,
    "start_time": "2023-07-28T13:14:27.844Z"
   },
   {
    "duration": 542,
    "start_time": "2023-07-28T13:14:29.449Z"
   },
   {
    "duration": 3,
    "start_time": "2023-07-28T13:14:41.593Z"
   },
   {
    "duration": 841,
    "start_time": "2023-07-28T13:14:43.593Z"
   },
   {
    "duration": 9,
    "start_time": "2023-07-28T13:14:52.020Z"
   },
   {
    "duration": 4,
    "start_time": "2023-07-28T13:14:55.689Z"
   },
   {
    "duration": 709,
    "start_time": "2023-07-28T13:14:57.935Z"
   },
   {
    "duration": 4,
    "start_time": "2023-07-28T13:15:12.141Z"
   },
   {
    "duration": 756,
    "start_time": "2023-07-28T13:15:13.077Z"
   },
   {
    "duration": 3,
    "start_time": "2023-07-28T13:15:19.259Z"
   },
   {
    "duration": 728,
    "start_time": "2023-07-28T13:15:22.106Z"
   },
   {
    "duration": 160,
    "start_time": "2023-07-28T13:17:29.012Z"
   },
   {
    "duration": 3,
    "start_time": "2023-07-28T13:17:33.677Z"
   },
   {
    "duration": 1379,
    "start_time": "2023-07-28T13:17:36.835Z"
   },
   {
    "duration": 4,
    "start_time": "2023-07-28T13:19:06.893Z"
   },
   {
    "duration": 4,
    "start_time": "2023-07-28T13:19:40.656Z"
   },
   {
    "duration": 4,
    "start_time": "2023-07-28T13:19:48.750Z"
   },
   {
    "duration": 4,
    "start_time": "2023-07-28T13:22:35.559Z"
   },
   {
    "duration": 6,
    "start_time": "2023-07-28T13:22:37.401Z"
   },
   {
    "duration": 12164,
    "start_time": "2023-07-28T13:22:49.243Z"
   },
   {
    "duration": 4,
    "start_time": "2023-07-28T13:23:39.289Z"
   },
   {
    "duration": 6376,
    "start_time": "2023-07-28T13:23:42.490Z"
   },
   {
    "duration": 5,
    "start_time": "2023-07-28T13:24:06.644Z"
   },
   {
    "duration": 3,
    "start_time": "2023-07-28T13:24:18.561Z"
   },
   {
    "duration": 4,
    "start_time": "2023-07-28T13:24:36.760Z"
   },
   {
    "duration": 3,
    "start_time": "2023-07-28T13:24:40.342Z"
   },
   {
    "duration": 11226,
    "start_time": "2023-07-28T13:24:42.235Z"
   },
   {
    "duration": 4,
    "start_time": "2023-07-28T13:24:58.713Z"
   },
   {
    "duration": 4,
    "start_time": "2023-07-28T13:25:18.505Z"
   },
   {
    "duration": 12907,
    "start_time": "2023-07-28T13:25:19.893Z"
   },
   {
    "duration": 5,
    "start_time": "2023-07-28T13:25:34.601Z"
   },
   {
    "duration": 6,
    "start_time": "2023-07-28T13:27:06.144Z"
   },
   {
    "duration": 14097,
    "start_time": "2023-07-28T13:27:08.316Z"
   },
   {
    "duration": 5,
    "start_time": "2023-07-28T13:27:25.313Z"
   },
   {
    "duration": 4,
    "start_time": "2023-07-28T13:27:40.637Z"
   },
   {
    "duration": 10222,
    "start_time": "2023-07-28T13:27:49.237Z"
   },
   {
    "duration": 4,
    "start_time": "2023-07-28T13:28:01.749Z"
   },
   {
    "duration": 5,
    "start_time": "2023-07-28T13:28:16.505Z"
   },
   {
    "duration": 13700,
    "start_time": "2023-07-28T13:28:18.434Z"
   },
   {
    "duration": 8,
    "start_time": "2023-07-28T13:28:34.220Z"
   },
   {
    "duration": 4,
    "start_time": "2023-07-28T13:30:11.385Z"
   },
   {
    "duration": 18390,
    "start_time": "2023-07-28T13:30:14.853Z"
   },
   {
    "duration": 3,
    "start_time": "2023-07-28T13:30:37.297Z"
   },
   {
    "duration": 4,
    "start_time": "2023-07-28T13:31:29.287Z"
   },
   {
    "duration": 6,
    "start_time": "2023-07-28T13:32:09.219Z"
   },
   {
    "duration": 11,
    "start_time": "2023-07-28T13:32:29.353Z"
   },
   {
    "duration": 4,
    "start_time": "2023-07-28T13:32:33.049Z"
   },
   {
    "duration": 4,
    "start_time": "2023-07-28T13:34:44.257Z"
   },
   {
    "duration": 3,
    "start_time": "2023-07-28T13:34:47.709Z"
   },
   {
    "duration": 25145,
    "start_time": "2023-07-28T13:34:50.513Z"
   },
   {
    "duration": 5,
    "start_time": "2023-07-28T13:35:27.313Z"
   },
   {
    "duration": 6,
    "start_time": "2023-07-28T13:36:10.605Z"
   },
   {
    "duration": 23358,
    "start_time": "2023-07-28T13:36:12.353Z"
   },
   {
    "duration": 3,
    "start_time": "2023-07-28T13:36:42.594Z"
   },
   {
    "duration": 5,
    "start_time": "2023-07-28T13:37:08.060Z"
   },
   {
    "duration": 17773,
    "start_time": "2023-07-28T13:37:10.541Z"
   },
   {
    "duration": 4,
    "start_time": "2023-07-28T13:37:43.232Z"
   },
   {
    "duration": 21547,
    "start_time": "2023-07-28T13:37:45.797Z"
   },
   {
    "duration": 4,
    "start_time": "2023-07-28T13:38:10.780Z"
   },
   {
    "duration": 5,
    "start_time": "2023-07-28T13:39:09.846Z"
   },
   {
    "duration": 24311,
    "start_time": "2023-07-28T13:39:12.417Z"
   },
   {
    "duration": 6,
    "start_time": "2023-07-28T15:07:37.497Z"
   },
   {
    "duration": 11,
    "start_time": "2023-07-28T15:07:38.196Z"
   },
   {
    "duration": 4,
    "start_time": "2023-07-28T15:07:38.826Z"
   },
   {
    "duration": 5,
    "start_time": "2023-07-28T15:07:48.507Z"
   },
   {
    "duration": 4,
    "start_time": "2023-07-28T15:08:11.595Z"
   },
   {
    "duration": 5,
    "start_time": "2023-07-28T15:08:13.411Z"
   },
   {
    "duration": 173,
    "start_time": "2023-07-28T15:08:16.564Z"
   },
   {
    "duration": 4,
    "start_time": "2023-07-28T15:08:33.004Z"
   },
   {
    "duration": 4,
    "start_time": "2023-07-28T15:08:38.131Z"
   },
   {
    "duration": 6,
    "start_time": "2023-07-28T15:08:39.303Z"
   },
   {
    "duration": 184,
    "start_time": "2023-07-28T15:08:43.333Z"
   },
   {
    "duration": 5,
    "start_time": "2023-07-28T15:09:15.333Z"
   },
   {
    "duration": 3,
    "start_time": "2023-07-28T15:09:17.703Z"
   },
   {
    "duration": 3,
    "start_time": "2023-07-28T15:09:21.597Z"
   },
   {
    "duration": 132,
    "start_time": "2023-07-28T15:09:23.571Z"
   },
   {
    "duration": 4,
    "start_time": "2023-07-28T15:09:33.398Z"
   },
   {
    "duration": 168,
    "start_time": "2023-07-28T15:09:35.732Z"
   },
   {
    "duration": 6,
    "start_time": "2023-07-28T15:09:50.507Z"
   },
   {
    "duration": 382232,
    "start_time": "2023-07-28T15:09:52.451Z"
   },
   {
    "duration": 4,
    "start_time": "2023-07-28T15:21:06.883Z"
   },
   {
    "duration": 10,
    "start_time": "2023-07-28T15:21:39.726Z"
   },
   {
    "duration": 10,
    "start_time": "2023-07-28T15:21:40.392Z"
   },
   {
    "duration": 3,
    "start_time": "2023-07-28T15:21:40.834Z"
   },
   {
    "duration": 4,
    "start_time": "2023-07-28T15:23:41.797Z"
   },
   {
    "duration": 4,
    "start_time": "2023-07-28T15:23:45.650Z"
   },
   {
    "duration": 1465,
    "start_time": "2023-07-28T15:23:49.902Z"
   },
   {
    "duration": 4,
    "start_time": "2023-07-28T15:24:09.508Z"
   },
   {
    "duration": 22944,
    "start_time": "2023-07-28T15:24:12.565Z"
   },
   {
    "duration": 4,
    "start_time": "2023-07-28T15:24:57.656Z"
   },
   {
    "duration": 4,
    "start_time": "2023-07-28T15:25:06.792Z"
   },
   {
    "duration": 4,
    "start_time": "2023-07-28T15:25:19.711Z"
   },
   {
    "duration": 4,
    "start_time": "2023-07-28T15:25:21.948Z"
   },
   {
    "duration": 9,
    "start_time": "2023-07-28T15:25:23.826Z"
   },
   {
    "duration": 4,
    "start_time": "2023-07-28T15:26:59.499Z"
   },
   {
    "duration": 56,
    "start_time": "2023-07-28T15:27:07.605Z"
   },
   {
    "duration": 27,
    "start_time": "2023-07-28T15:27:16.019Z"
   },
   {
    "duration": 5,
    "start_time": "2023-07-28T15:27:20.949Z"
   },
   {
    "duration": 5,
    "start_time": "2023-07-28T15:27:33.158Z"
   },
   {
    "duration": 4,
    "start_time": "2023-07-28T15:27:43.521Z"
   },
   {
    "duration": 106963,
    "start_time": "2023-07-28T15:27:45.553Z"
   },
   {
    "duration": 2,
    "start_time": "2023-07-28T15:29:32.518Z"
   },
   {
    "duration": 3,
    "start_time": "2023-07-28T15:30:03.807Z"
   },
   {
    "duration": 15097,
    "start_time": "2023-07-28T15:30:07.993Z"
   },
   {
    "duration": 4,
    "start_time": "2023-07-28T15:30:28.583Z"
   },
   {
    "duration": 17912,
    "start_time": "2023-07-28T15:30:30.315Z"
   },
   {
    "duration": 3,
    "start_time": "2023-07-28T15:31:23.559Z"
   },
   {
    "duration": 3,
    "start_time": "2023-07-28T15:31:59.016Z"
   },
   {
    "duration": 68,
    "start_time": "2023-07-28T15:40:12.195Z"
   },
   {
    "duration": 3169,
    "start_time": "2023-07-28T15:42:39.616Z"
   },
   {
    "duration": 3190,
    "start_time": "2023-07-28T15:42:42.787Z"
   },
   {
    "duration": 854,
    "start_time": "2023-07-28T15:42:45.979Z"
   },
   {
    "duration": 40,
    "start_time": "2023-07-28T15:42:46.836Z"
   },
   {
    "duration": 245,
    "start_time": "2023-07-28T15:42:46.878Z"
   },
   {
    "duration": 3816,
    "start_time": "2023-07-28T15:42:47.125Z"
   },
   {
    "duration": 1335,
    "start_time": "2023-07-28T15:42:50.943Z"
   },
   {
    "duration": 109,
    "start_time": "2023-07-28T15:42:52.279Z"
   },
   {
    "duration": 0,
    "start_time": "2023-07-28T15:42:52.390Z"
   },
   {
    "duration": 0,
    "start_time": "2023-07-28T15:42:52.391Z"
   },
   {
    "duration": 0,
    "start_time": "2023-07-28T15:42:52.392Z"
   },
   {
    "duration": 0,
    "start_time": "2023-07-28T15:42:52.393Z"
   },
   {
    "duration": 0,
    "start_time": "2023-07-28T15:42:52.394Z"
   },
   {
    "duration": 0,
    "start_time": "2023-07-28T15:42:52.394Z"
   },
   {
    "duration": 0,
    "start_time": "2023-07-28T15:42:52.396Z"
   },
   {
    "duration": 0,
    "start_time": "2023-07-28T15:42:52.397Z"
   },
   {
    "duration": 0,
    "start_time": "2023-07-28T15:42:52.398Z"
   },
   {
    "duration": 0,
    "start_time": "2023-07-28T15:42:52.399Z"
   },
   {
    "duration": 0,
    "start_time": "2023-07-28T15:42:52.400Z"
   },
   {
    "duration": 0,
    "start_time": "2023-07-28T15:42:52.404Z"
   },
   {
    "duration": 0,
    "start_time": "2023-07-28T15:42:52.405Z"
   },
   {
    "duration": 0,
    "start_time": "2023-07-28T15:42:52.406Z"
   },
   {
    "duration": 0,
    "start_time": "2023-07-28T15:42:52.408Z"
   },
   {
    "duration": 0,
    "start_time": "2023-07-28T15:42:52.409Z"
   },
   {
    "duration": 0,
    "start_time": "2023-07-28T15:42:52.410Z"
   },
   {
    "duration": 0,
    "start_time": "2023-07-28T15:42:52.411Z"
   },
   {
    "duration": 0,
    "start_time": "2023-07-28T15:42:52.412Z"
   },
   {
    "duration": 0,
    "start_time": "2023-07-28T15:42:52.414Z"
   },
   {
    "duration": 0,
    "start_time": "2023-07-28T15:42:52.415Z"
   },
   {
    "duration": 0,
    "start_time": "2023-07-28T15:42:52.416Z"
   },
   {
    "duration": 77,
    "start_time": "2023-07-28T15:43:04.095Z"
   },
   {
    "duration": 3498,
    "start_time": "2023-07-28T15:44:56.482Z"
   },
   {
    "duration": 3514,
    "start_time": "2023-07-28T15:44:59.983Z"
   },
   {
    "duration": 831,
    "start_time": "2023-07-28T15:45:03.499Z"
   },
   {
    "duration": 50,
    "start_time": "2023-07-28T15:45:04.333Z"
   },
   {
    "duration": 233,
    "start_time": "2023-07-28T15:45:04.384Z"
   },
   {
    "duration": 4084,
    "start_time": "2023-07-28T15:45:04.622Z"
   },
   {
    "duration": 2035525,
    "start_time": "2023-07-28T15:45:08.708Z"
   },
   {
    "duration": 1646,
    "start_time": "2023-07-28T16:19:04.236Z"
   },
   {
    "duration": 1299,
    "start_time": "2023-07-28T16:19:05.884Z"
   },
   {
    "duration": 21,
    "start_time": "2023-07-28T16:19:07.185Z"
   },
   {
    "duration": 2,
    "start_time": "2023-07-28T16:19:07.208Z"
   },
   {
    "duration": 248,
    "start_time": "2023-07-28T16:19:07.211Z"
   },
   {
    "duration": 2,
    "start_time": "2023-07-28T16:19:07.460Z"
   },
   {
    "duration": 5979,
    "start_time": "2023-07-28T16:19:07.463Z"
   },
   {
    "duration": 2,
    "start_time": "2023-07-28T16:19:13.444Z"
   },
   {
    "duration": 9,
    "start_time": "2023-07-28T16:19:13.447Z"
   },
   {
    "duration": 4,
    "start_time": "2023-07-28T16:19:13.458Z"
   },
   {
    "duration": 12,
    "start_time": "2023-07-28T16:19:13.463Z"
   },
   {
    "duration": 908,
    "start_time": "2023-07-28T16:19:13.476Z"
   },
   {
    "duration": 75114,
    "start_time": "2023-07-28T16:19:14.385Z"
   },
   {
    "duration": 63374,
    "start_time": "2023-07-28T16:20:29.500Z"
   },
   {
    "duration": 27590,
    "start_time": "2023-07-28T16:21:32.875Z"
   },
   {
    "duration": 7,
    "start_time": "2023-07-28T16:22:00.467Z"
   },
   {
    "duration": 81,
    "start_time": "2023-07-28T16:22:00.475Z"
   },
   {
    "duration": 0,
    "start_time": "2023-07-28T16:22:00.557Z"
   },
   {
    "duration": 0,
    "start_time": "2023-07-28T16:22:00.558Z"
   },
   {
    "duration": 0,
    "start_time": "2023-07-28T16:22:00.559Z"
   },
   {
    "duration": 0,
    "start_time": "2023-07-28T16:22:00.560Z"
   },
   {
    "duration": 0,
    "start_time": "2023-07-28T16:22:00.561Z"
   },
   {
    "duration": 0,
    "start_time": "2023-07-28T16:22:00.562Z"
   },
   {
    "duration": 0,
    "start_time": "2023-07-28T16:22:00.565Z"
   },
   {
    "duration": 3,
    "start_time": "2023-07-28T17:12:51.238Z"
   },
   {
    "duration": 2,
    "start_time": "2023-07-28T17:12:54.772Z"
   },
   {
    "duration": 5,
    "start_time": "2023-07-28T17:12:56.231Z"
   },
   {
    "duration": 5,
    "start_time": "2023-07-28T17:13:00.918Z"
   },
   {
    "duration": 3,
    "start_time": "2023-07-28T17:25:25.493Z"
   },
   {
    "duration": 3,
    "start_time": "2023-07-28T17:45:44.978Z"
   },
   {
    "duration": 4,
    "start_time": "2023-07-28T17:45:55.915Z"
   },
   {
    "duration": 916,
    "start_time": "2023-07-28T17:45:55.922Z"
   },
   {
    "duration": 42272,
    "start_time": "2023-07-28T17:45:56.840Z"
   },
   {
    "duration": 7069,
    "start_time": "2023-07-28T17:46:39.113Z"
   },
   {
    "duration": 18495,
    "start_time": "2023-07-28T17:46:46.184Z"
   },
   {
    "duration": 7,
    "start_time": "2023-07-28T17:47:04.681Z"
   },
   {
    "duration": 63,
    "start_time": "2023-07-28T17:47:04.689Z"
   },
   {
    "duration": 0,
    "start_time": "2023-07-28T17:47:04.754Z"
   },
   {
    "duration": 0,
    "start_time": "2023-07-28T17:47:04.755Z"
   },
   {
    "duration": 0,
    "start_time": "2023-07-28T17:47:04.756Z"
   },
   {
    "duration": 0,
    "start_time": "2023-07-28T17:47:04.757Z"
   },
   {
    "duration": 0,
    "start_time": "2023-07-28T17:47:04.758Z"
   },
   {
    "duration": 0,
    "start_time": "2023-07-28T17:47:04.759Z"
   },
   {
    "duration": 3,
    "start_time": "2023-07-28T17:47:23.025Z"
   },
   {
    "duration": 2,
    "start_time": "2023-07-28T17:47:23.993Z"
   },
   {
    "duration": 3,
    "start_time": "2023-07-28T17:47:24.962Z"
   },
   {
    "duration": 4,
    "start_time": "2023-07-28T17:47:25.753Z"
   },
   {
    "duration": 827,
    "start_time": "2023-07-28T17:47:30.283Z"
   },
   {
    "duration": 5224,
    "start_time": "2023-07-28T17:47:31.112Z"
   },
   {
    "duration": 4444,
    "start_time": "2023-07-28T17:47:36.337Z"
   },
   {
    "duration": 17005,
    "start_time": "2023-07-28T17:47:40.783Z"
   },
   {
    "duration": 7,
    "start_time": "2023-07-28T17:47:57.790Z"
   },
   {
    "duration": 56,
    "start_time": "2023-07-28T17:47:57.798Z"
   },
   {
    "duration": 0,
    "start_time": "2023-07-28T17:47:57.855Z"
   },
   {
    "duration": 0,
    "start_time": "2023-07-28T17:47:57.856Z"
   },
   {
    "duration": 0,
    "start_time": "2023-07-28T17:47:57.857Z"
   },
   {
    "duration": 0,
    "start_time": "2023-07-28T17:47:57.858Z"
   },
   {
    "duration": 0,
    "start_time": "2023-07-28T17:47:57.859Z"
   },
   {
    "duration": 0,
    "start_time": "2023-07-28T17:47:57.860Z"
   },
   {
    "duration": 2,
    "start_time": "2023-07-28T17:48:06.562Z"
   },
   {
    "duration": 31,
    "start_time": "2023-07-28T17:48:06.566Z"
   },
   {
    "duration": 10,
    "start_time": "2023-07-28T17:48:06.598Z"
   },
   {
    "duration": 4,
    "start_time": "2023-07-28T17:48:06.610Z"
   },
   {
    "duration": 846,
    "start_time": "2023-07-28T17:48:06.616Z"
   },
   {
    "duration": 609561,
    "start_time": "2023-07-28T17:48:07.463Z"
   },
   {
    "duration": 246161,
    "start_time": "2023-07-28T17:58:17.026Z"
   },
   {
    "duration": 22663,
    "start_time": "2023-07-28T18:02:23.190Z"
   },
   {
    "duration": 63,
    "start_time": "2023-07-28T18:02:45.856Z"
   },
   {
    "duration": 0,
    "start_time": "2023-07-28T18:02:45.921Z"
   },
   {
    "duration": 0,
    "start_time": "2023-07-28T18:02:45.922Z"
   },
   {
    "duration": 0,
    "start_time": "2023-07-28T18:02:45.923Z"
   },
   {
    "duration": 0,
    "start_time": "2023-07-28T18:02:45.925Z"
   },
   {
    "duration": 0,
    "start_time": "2023-07-28T18:02:45.926Z"
   },
   {
    "duration": 0,
    "start_time": "2023-07-28T18:02:45.927Z"
   },
   {
    "duration": 0,
    "start_time": "2023-07-28T18:02:45.929Z"
   },
   {
    "duration": 6,
    "start_time": "2023-07-28T18:02:53.851Z"
   },
   {
    "duration": 16,
    "start_time": "2023-07-28T18:03:02.658Z"
   },
   {
    "duration": 6,
    "start_time": "2023-07-28T18:03:09.018Z"
   },
   {
    "duration": 10,
    "start_time": "2023-07-28T18:03:13.106Z"
   },
   {
    "duration": 4,
    "start_time": "2023-07-28T18:03:15.041Z"
   },
   {
    "duration": 4,
    "start_time": "2023-07-28T18:03:56.705Z"
   },
   {
    "duration": 167642,
    "start_time": "2023-07-28T18:04:29.858Z"
   },
   {
    "duration": 5,
    "start_time": "2023-07-28T18:07:36.520Z"
   },
   {
    "duration": 190904,
    "start_time": "2023-07-28T18:07:43.833Z"
   },
   {
    "duration": 4,
    "start_time": "2023-07-28T18:11:17.790Z"
   },
   {
    "duration": 3,
    "start_time": "2023-07-28T18:12:12.062Z"
   },
   {
    "duration": 135687,
    "start_time": "2023-07-28T18:12:13.933Z"
   },
   {
    "duration": 4,
    "start_time": "2023-07-28T18:14:51.815Z"
   },
   {
    "duration": 5,
    "start_time": "2023-07-28T18:14:58.319Z"
   },
   {
    "duration": 15,
    "start_time": "2023-07-28T18:14:59.381Z"
   },
   {
    "duration": 3,
    "start_time": "2023-07-28T18:14:59.814Z"
   },
   {
    "duration": 4,
    "start_time": "2023-07-28T18:15:13.318Z"
   },
   {
    "duration": 141374,
    "start_time": "2023-07-28T18:15:17.789Z"
   },
   {
    "duration": 4,
    "start_time": "2023-07-28T18:17:48.025Z"
   },
   {
    "duration": 5,
    "start_time": "2023-07-28T18:17:54.577Z"
   },
   {
    "duration": 13,
    "start_time": "2023-07-28T18:17:55.712Z"
   },
   {
    "duration": 3,
    "start_time": "2023-07-28T18:17:56.511Z"
   },
   {
    "duration": 3,
    "start_time": "2023-07-28T18:18:04.746Z"
   },
   {
    "duration": 140948,
    "start_time": "2023-07-28T18:18:07.011Z"
   },
   {
    "duration": 4,
    "start_time": "2023-07-28T18:21:02.289Z"
   },
   {
    "duration": 5,
    "start_time": "2023-07-28T18:21:08.013Z"
   },
   {
    "duration": 13,
    "start_time": "2023-07-28T18:21:08.630Z"
   },
   {
    "duration": 3,
    "start_time": "2023-07-28T18:21:09.318Z"
   },
   {
    "duration": 5,
    "start_time": "2023-07-28T18:21:21.608Z"
   },
   {
    "duration": 125652,
    "start_time": "2023-07-28T18:21:23.910Z"
   },
   {
    "duration": 4,
    "start_time": "2023-07-28T18:23:36.165Z"
   },
   {
    "duration": 5,
    "start_time": "2023-07-28T18:23:39.012Z"
   },
   {
    "duration": 10,
    "start_time": "2023-07-28T18:23:40.076Z"
   },
   {
    "duration": 4,
    "start_time": "2023-07-28T18:23:40.610Z"
   },
   {
    "duration": 2,
    "start_time": "2023-07-28T18:23:59.239Z"
   },
   {
    "duration": 5,
    "start_time": "2023-07-28T18:23:59.243Z"
   },
   {
    "duration": 22,
    "start_time": "2023-07-28T18:23:59.250Z"
   },
   {
    "duration": 11,
    "start_time": "2023-07-28T18:23:59.275Z"
   },
   {
    "duration": 883,
    "start_time": "2023-07-28T18:23:59.288Z"
   },
   {
    "duration": 203377,
    "start_time": "2023-07-28T18:24:00.173Z"
   },
   {
    "duration": 34911,
    "start_time": "2023-07-28T18:27:23.551Z"
   },
   {
    "duration": 150797,
    "start_time": "2023-07-28T18:27:58.463Z"
   },
   {
    "duration": 7,
    "start_time": "2023-07-28T18:30:29.262Z"
   },
   {
    "duration": 9,
    "start_time": "2023-07-28T18:30:29.271Z"
   },
   {
    "duration": 7,
    "start_time": "2023-07-28T18:30:29.281Z"
   },
   {
    "duration": 6,
    "start_time": "2023-07-28T18:30:29.289Z"
   },
   {
    "duration": 58,
    "start_time": "2023-07-28T18:30:29.297Z"
   },
   {
    "duration": 0,
    "start_time": "2023-07-28T18:30:29.356Z"
   },
   {
    "duration": 0,
    "start_time": "2023-07-28T18:30:29.357Z"
   },
   {
    "duration": 0,
    "start_time": "2023-07-28T18:30:29.359Z"
   },
   {
    "duration": 0,
    "start_time": "2023-07-28T18:30:29.360Z"
   },
   {
    "duration": 3,
    "start_time": "2023-07-28T18:30:34.571Z"
   },
   {
    "duration": 4,
    "start_time": "2023-07-28T18:34:31.926Z"
   },
   {
    "duration": 2,
    "start_time": "2023-07-28T18:35:09.186Z"
   },
   {
    "duration": 25,
    "start_time": "2023-07-28T18:35:09.192Z"
   },
   {
    "duration": 54,
    "start_time": "2023-07-28T18:35:09.219Z"
   },
   {
    "duration": 62,
    "start_time": "2023-07-28T18:35:09.275Z"
   },
   {
    "duration": 917,
    "start_time": "2023-07-28T18:35:09.339Z"
   },
   {
    "duration": 641862,
    "start_time": "2023-07-28T18:35:10.259Z"
   },
   {
    "duration": 120255,
    "start_time": "2023-07-28T18:45:52.123Z"
   },
   {
    "duration": 660146,
    "start_time": "2023-07-28T18:47:52.379Z"
   },
   {
    "duration": 60,
    "start_time": "2023-07-28T18:58:52.526Z"
   },
   {
    "duration": 0,
    "start_time": "2023-07-28T18:58:52.587Z"
   },
   {
    "duration": 0,
    "start_time": "2023-07-28T18:58:52.588Z"
   },
   {
    "duration": 0,
    "start_time": "2023-07-28T18:58:52.589Z"
   },
   {
    "duration": 0,
    "start_time": "2023-07-28T18:58:52.590Z"
   },
   {
    "duration": 0,
    "start_time": "2023-07-28T18:58:52.591Z"
   },
   {
    "duration": 0,
    "start_time": "2023-07-28T18:58:52.592Z"
   },
   {
    "duration": 0,
    "start_time": "2023-07-28T18:58:52.593Z"
   },
   {
    "duration": 2792,
    "start_time": "2023-07-28T19:03:25.112Z"
   },
   {
    "duration": 2912,
    "start_time": "2023-07-28T19:03:27.906Z"
   },
   {
    "duration": 799,
    "start_time": "2023-07-28T19:03:30.820Z"
   },
   {
    "duration": 42,
    "start_time": "2023-07-28T19:03:31.622Z"
   },
   {
    "duration": 209,
    "start_time": "2023-07-28T19:03:31.666Z"
   },
   {
    "duration": 3591,
    "start_time": "2023-07-28T19:03:31.876Z"
   },
   {
    "duration": 1826705,
    "start_time": "2023-07-28T19:03:35.468Z"
   },
   {
    "duration": 1461,
    "start_time": "2023-07-28T19:34:02.175Z"
   },
   {
    "duration": 1241,
    "start_time": "2023-07-28T19:34:03.637Z"
   },
   {
    "duration": 19,
    "start_time": "2023-07-28T19:34:04.880Z"
   },
   {
    "duration": 18,
    "start_time": "2023-07-28T19:34:04.900Z"
   },
   {
    "duration": 263,
    "start_time": "2023-07-28T19:34:04.925Z"
   },
   {
    "duration": 3,
    "start_time": "2023-07-28T19:34:05.190Z"
   },
   {
    "duration": 6241,
    "start_time": "2023-07-28T19:34:05.195Z"
   },
   {
    "duration": 3,
    "start_time": "2023-07-28T19:34:11.437Z"
   },
   {
    "duration": 9,
    "start_time": "2023-07-28T19:34:11.441Z"
   },
   {
    "duration": 6,
    "start_time": "2023-07-28T19:34:11.451Z"
   },
   {
    "duration": 4,
    "start_time": "2023-07-28T19:34:11.458Z"
   },
   {
    "duration": 911,
    "start_time": "2023-07-28T19:34:11.463Z"
   },
   {
    "duration": 604448,
    "start_time": "2023-07-28T19:34:12.375Z"
   },
   {
    "duration": 120918,
    "start_time": "2023-07-28T19:44:16.825Z"
   },
   {
    "duration": 10576817,
    "start_time": "2023-07-28T19:46:17.744Z"
   },
   {
    "duration": 6,
    "start_time": "2023-07-28T22:42:34.563Z"
   },
   {
    "duration": 54,
    "start_time": "2023-07-28T22:42:34.571Z"
   },
   {
    "duration": 13959,
    "start_time": "2023-07-31T13:54:26.162Z"
   },
   {
    "duration": 3585,
    "start_time": "2023-07-31T13:54:51.862Z"
   },
   {
    "duration": 23746,
    "start_time": "2023-07-31T13:54:58.552Z"
   },
   {
    "duration": 4,
    "start_time": "2023-07-31T13:55:23.190Z"
   },
   {
    "duration": 3116,
    "start_time": "2023-07-31T13:55:30.614Z"
   },
   {
    "duration": 48,
    "start_time": "2023-07-31T13:55:35.982Z"
   },
   {
    "duration": 50,
    "start_time": "2023-07-31T13:59:37.653Z"
   },
   {
    "duration": 45,
    "start_time": "2023-07-31T13:59:42.245Z"
   },
   {
    "duration": 400,
    "start_time": "2023-07-31T14:04:44.647Z"
   },
   {
    "duration": 514,
    "start_time": "2023-07-31T14:04:50.962Z"
   },
   {
    "duration": 222,
    "start_time": "2023-07-31T14:05:02.672Z"
   },
   {
    "duration": 179,
    "start_time": "2023-07-31T14:05:24.785Z"
   },
   {
    "duration": 173,
    "start_time": "2023-07-31T14:05:49.576Z"
   },
   {
    "duration": 168,
    "start_time": "2023-07-31T14:06:25.161Z"
   },
   {
    "duration": 6,
    "start_time": "2023-07-31T14:07:34.991Z"
   },
   {
    "duration": 759,
    "start_time": "2023-07-31T14:08:52.852Z"
   },
   {
    "duration": 246,
    "start_time": "2023-07-31T14:08:57.977Z"
   },
   {
    "duration": 232,
    "start_time": "2023-07-31T14:09:05.044Z"
   },
   {
    "duration": 249,
    "start_time": "2023-07-31T14:09:07.967Z"
   },
   {
    "duration": 240,
    "start_time": "2023-07-31T14:09:13.879Z"
   },
   {
    "duration": 242,
    "start_time": "2023-07-31T14:09:18.248Z"
   },
   {
    "duration": 251,
    "start_time": "2023-07-31T14:09:22.949Z"
   },
   {
    "duration": 186,
    "start_time": "2023-07-31T14:09:34.088Z"
   },
   {
    "duration": 185,
    "start_time": "2023-07-31T14:09:50.460Z"
   },
   {
    "duration": 182,
    "start_time": "2023-07-31T14:09:55.444Z"
   },
   {
    "duration": 176,
    "start_time": "2023-07-31T14:10:04.952Z"
   },
   {
    "duration": 176,
    "start_time": "2023-07-31T14:10:09.976Z"
   },
   {
    "duration": 252,
    "start_time": "2023-07-31T14:10:23.852Z"
   },
   {
    "duration": 173,
    "start_time": "2023-07-31T14:10:27.548Z"
   },
   {
    "duration": 173,
    "start_time": "2023-07-31T14:10:55.087Z"
   },
   {
    "duration": 497,
    "start_time": "2023-07-31T14:11:49.518Z"
   },
   {
    "duration": 250,
    "start_time": "2023-07-31T14:12:21.791Z"
   },
   {
    "duration": 8261,
    "start_time": "2023-07-31T14:16:17.595Z"
   },
   {
    "duration": 6417,
    "start_time": "2023-07-31T14:16:36.955Z"
   },
   {
    "duration": 213,
    "start_time": "2023-07-31T14:16:53.020Z"
   },
   {
    "duration": 7119,
    "start_time": "2023-07-31T14:18:31.754Z"
   },
   {
    "duration": 5664,
    "start_time": "2023-07-31T14:22:12.111Z"
   },
   {
    "duration": 1082,
    "start_time": "2023-07-31T14:22:20.278Z"
   },
   {
    "duration": 330,
    "start_time": "2023-07-31T14:22:49.063Z"
   },
   {
    "duration": 460,
    "start_time": "2023-07-31T14:23:32.748Z"
   },
   {
    "duration": 5596,
    "start_time": "2023-07-31T14:23:33.354Z"
   },
   {
    "duration": 2557852,
    "start_time": "2023-07-31T14:23:42.702Z"
   },
   {
    "duration": 1983,
    "start_time": "2023-07-31T17:07:52.544Z"
   },
   {
    "duration": 398,
    "start_time": "2023-07-31T17:08:56.419Z"
   },
   {
    "duration": 1684,
    "start_time": "2023-07-31T17:09:17.988Z"
   },
   {
    "duration": 715,
    "start_time": "2023-07-31T17:09:24.012Z"
   },
   {
    "duration": 1600,
    "start_time": "2023-07-31T17:09:32.560Z"
   },
   {
    "duration": 2244,
    "start_time": "2023-07-31T17:09:37.420Z"
   },
   {
    "duration": 2197,
    "start_time": "2023-07-31T17:09:55.299Z"
   },
   {
    "duration": 2630,
    "start_time": "2023-07-31T17:10:18.168Z"
   },
   {
    "duration": 3047,
    "start_time": "2023-07-31T17:10:40.813Z"
   },
   {
    "duration": 50,
    "start_time": "2023-07-31T17:11:08.410Z"
   },
   {
    "duration": 5721,
    "start_time": "2023-07-31T17:11:21.448Z"
   },
   {
    "duration": 15530,
    "start_time": "2023-07-31T17:11:29.289Z"
   },
   {
    "duration": 2490,
    "start_time": "2023-07-31T17:11:45.846Z"
   },
   {
    "duration": 452,
    "start_time": "2023-07-31T17:12:00.378Z"
   },
   {
    "duration": 49,
    "start_time": "2023-07-31T17:12:04.099Z"
   },
   {
    "duration": 32,
    "start_time": "2023-07-31T17:12:06.097Z"
   },
   {
    "duration": 271,
    "start_time": "2023-07-31T17:12:20.809Z"
   },
   {
    "duration": 4317,
    "start_time": "2023-07-31T17:12:21.812Z"
   },
   {
    "duration": 1558,
    "start_time": "2023-07-31T17:12:33.794Z"
   },
   {
    "duration": 1613,
    "start_time": "2023-07-31T17:12:48.377Z"
   },
   {
    "duration": 2957,
    "start_time": "2023-07-31T17:13:13.378Z"
   },
   {
    "duration": 4361,
    "start_time": "2023-07-31T17:13:40.321Z"
   },
   {
    "duration": 4308,
    "start_time": "2023-07-31T17:13:49.903Z"
   },
   {
    "duration": 6288,
    "start_time": "2023-07-31T17:16:01.414Z"
   },
   {
    "duration": 13496,
    "start_time": "2023-07-31T17:16:10.547Z"
   },
   {
    "duration": 2390,
    "start_time": "2023-07-31T17:16:25.182Z"
   },
   {
    "duration": 161,
    "start_time": "2023-07-31T17:16:32.606Z"
   },
   {
    "duration": 284,
    "start_time": "2023-07-31T17:16:35.862Z"
   },
   {
    "duration": 4113,
    "start_time": "2023-07-31T17:16:36.847Z"
   },
   {
    "duration": 29830,
    "start_time": "2023-07-31T17:16:43.655Z"
   },
   {
    "duration": 5443,
    "start_time": "2023-07-31T17:17:27.318Z"
   },
   {
    "duration": 30095,
    "start_time": "2023-07-31T17:17:34.067Z"
   },
   {
    "duration": 6178,
    "start_time": "2023-07-31T17:18:56.173Z"
   },
   {
    "duration": 7606,
    "start_time": "2023-07-31T17:19:03.820Z"
   },
   {
    "duration": 923,
    "start_time": "2023-07-31T17:19:12.556Z"
   },
   {
    "duration": 202,
    "start_time": "2023-07-31T17:19:15.188Z"
   },
   {
    "duration": 434,
    "start_time": "2023-07-31T17:19:18.958Z"
   },
   {
    "duration": 5618,
    "start_time": "2023-07-31T17:19:19.840Z"
   },
   {
    "duration": 3950,
    "start_time": "2023-07-31T17:19:28.467Z"
   },
   {
    "duration": 33764,
    "start_time": "2023-07-31T17:19:34.292Z"
   },
   {
    "duration": 1070,
    "start_time": "2023-07-31T17:21:15.345Z"
   },
   {
    "duration": 33333,
    "start_time": "2023-07-31T17:21:49.596Z"
   },
   {
    "duration": 504,
    "start_time": "2023-07-31T17:22:39.482Z"
   },
   {
    "duration": 3,
    "start_time": "2023-07-31T17:23:02.860Z"
   },
   {
    "duration": 555,
    "start_time": "2023-07-31T17:23:04.018Z"
   },
   {
    "duration": 151,
    "start_time": "2023-07-31T17:23:22.901Z"
   },
   {
    "duration": 163,
    "start_time": "2023-07-31T17:23:38.314Z"
   },
   {
    "duration": 432,
    "start_time": "2023-07-31T17:28:48.870Z"
   },
   {
    "duration": 53,
    "start_time": "2023-07-31T17:28:50.663Z"
   },
   {
    "duration": 111,
    "start_time": "2023-07-31T17:29:06.648Z"
   },
   {
    "duration": 231,
    "start_time": "2023-07-31T17:29:38.781Z"
   },
   {
    "duration": 10320,
    "start_time": "2023-07-31T17:43:56.894Z"
   },
   {
    "duration": 10173,
    "start_time": "2023-07-31T17:44:07.217Z"
   },
   {
    "duration": 956,
    "start_time": "2023-07-31T17:44:17.392Z"
   },
   {
    "duration": 188,
    "start_time": "2023-07-31T17:44:18.350Z"
   },
   {
    "duration": 372,
    "start_time": "2023-07-31T17:44:18.540Z"
   },
   {
    "duration": 4598,
    "start_time": "2023-07-31T17:44:18.915Z"
   },
   {
    "duration": 2457925,
    "start_time": "2023-07-31T17:44:23.514Z"
   },
   {
    "duration": 2005,
    "start_time": "2023-07-31T18:25:21.441Z"
   },
   {
    "duration": 1448,
    "start_time": "2023-07-31T18:25:23.448Z"
   },
   {
    "duration": 4271,
    "start_time": "2023-07-31T18:25:24.898Z"
   },
   {
    "duration": 96,
    "start_time": "2023-07-31T18:25:29.171Z"
   },
   {
    "duration": 11,
    "start_time": "2023-07-31T18:25:29.274Z"
   },
   {
    "duration": 264,
    "start_time": "2023-07-31T18:25:29.291Z"
   },
   {
    "duration": 2,
    "start_time": "2023-07-31T18:25:29.558Z"
   },
   {
    "duration": 217,
    "start_time": "2023-08-01T08:15:55.124Z"
   },
   {
    "duration": 46,
    "start_time": "2023-08-01T08:16:06.934Z"
   },
   {
    "duration": 14694,
    "start_time": "2023-08-01T08:16:11.822Z"
   },
   {
    "duration": 6690,
    "start_time": "2023-08-01T08:16:29.687Z"
   },
   {
    "duration": 3272,
    "start_time": "2023-08-01T08:16:40.062Z"
   },
   {
    "duration": 264,
    "start_time": "2023-08-01T08:25:15.699Z"
   },
   {
    "duration": 3697,
    "start_time": "2023-08-01T08:25:17.170Z"
   },
   {
    "duration": 2427788,
    "start_time": "2023-08-01T08:25:23.706Z"
   },
   {
    "duration": 1744,
    "start_time": "2023-08-01T09:06:27.553Z"
   },
   {
    "duration": 675,
    "start_time": "2023-08-01T09:06:30.633Z"
   },
   {
    "duration": 672,
    "start_time": "2023-08-01T09:06:32.909Z"
   },
   {
    "duration": 10,
    "start_time": "2023-08-01T09:06:58.865Z"
   },
   {
    "duration": 9,
    "start_time": "2023-08-01T09:07:06.386Z"
   },
   {
    "duration": 104,
    "start_time": "2023-08-01T09:07:48.473Z"
   },
   {
    "duration": 153,
    "start_time": "2023-08-01T09:08:58.529Z"
   },
   {
    "duration": 311,
    "start_time": "2023-08-01T09:09:24.882Z"
   },
   {
    "duration": 202,
    "start_time": "2023-08-01T09:15:00.013Z"
   },
   {
    "duration": 3767,
    "start_time": "2023-08-01T09:15:11.596Z"
   },
   {
    "duration": 28348,
    "start_time": "2023-08-01T09:16:00.853Z"
   },
   {
    "duration": 3251,
    "start_time": "2023-08-01T09:16:33.307Z"
   },
   {
    "duration": 61,
    "start_time": "2023-08-01T09:28:32.650Z"
   },
   {
    "duration": 4,
    "start_time": "2023-08-01T09:28:40.450Z"
   },
   {
    "duration": 156,
    "start_time": "2023-08-01T09:28:53.323Z"
   },
   {
    "duration": 3,
    "start_time": "2023-08-01T09:28:56.204Z"
   },
   {
    "duration": 7057,
    "start_time": "2023-08-01T09:29:18.563Z"
   },
   {
    "duration": 3,
    "start_time": "2023-08-01T09:30:44.538Z"
   },
   {
    "duration": 4,
    "start_time": "2023-08-01T09:30:45.786Z"
   },
   {
    "duration": 3,
    "start_time": "2023-08-01T09:31:35.658Z"
   },
   {
    "duration": 4,
    "start_time": "2023-08-01T09:31:43.290Z"
   },
   {
    "duration": 5,
    "start_time": "2023-08-01T09:31:47.305Z"
   },
   {
    "duration": 1129,
    "start_time": "2023-08-01T09:31:50.587Z"
   },
   {
    "duration": 534,
    "start_time": "2023-08-01T09:31:55.715Z"
   },
   {
    "duration": 3,
    "start_time": "2023-08-01T09:32:57.163Z"
   },
   {
    "duration": 3,
    "start_time": "2023-08-01T09:32:57.680Z"
   },
   {
    "duration": 6,
    "start_time": "2023-08-01T09:33:18.177Z"
   },
   {
    "duration": 4,
    "start_time": "2023-08-01T09:33:24.225Z"
   },
   {
    "duration": 22,
    "start_time": "2023-08-01T09:33:26.097Z"
   },
   {
    "duration": 15,
    "start_time": "2023-08-01T09:33:31.689Z"
   },
   {
    "duration": 6891,
    "start_time": "2023-08-01T09:33:34.792Z"
   },
   {
    "duration": 3,
    "start_time": "2023-08-01T09:33:43.916Z"
   },
   {
    "duration": 4,
    "start_time": "2023-08-01T09:33:44.529Z"
   },
   {
    "duration": 5,
    "start_time": "2023-08-01T09:33:46.216Z"
   },
   {
    "duration": 4,
    "start_time": "2023-08-01T09:34:54.113Z"
   },
   {
    "duration": 5,
    "start_time": "2023-08-01T09:34:58.985Z"
   },
   {
    "duration": 1021,
    "start_time": "2023-08-01T09:35:00.824Z"
   },
   {
    "duration": 549,
    "start_time": "2023-08-01T09:35:04.881Z"
   },
   {
    "duration": 3,
    "start_time": "2023-08-01T09:35:12.801Z"
   },
   {
    "duration": 561,
    "start_time": "2023-08-01T09:35:22.592Z"
   },
   {
    "duration": 3,
    "start_time": "2023-08-01T09:35:46.443Z"
   },
   {
    "duration": 4,
    "start_time": "2023-08-01T09:35:52.351Z"
   },
   {
    "duration": 4,
    "start_time": "2023-08-01T09:36:21.279Z"
   },
   {
    "duration": 23954,
    "start_time": "2023-08-01T09:36:24.749Z"
   },
   {
    "duration": 5,
    "start_time": "2023-08-01T09:37:01.449Z"
   },
   {
    "duration": 518,
    "start_time": "2023-08-01T09:37:02.983Z"
   },
   {
    "duration": 161125,
    "start_time": "2023-08-01T09:37:13.705Z"
   },
   {
    "duration": 4,
    "start_time": "2023-08-01T09:43:09.628Z"
   },
   {
    "duration": 47,
    "start_time": "2023-08-01T09:43:44.236Z"
   },
   {
    "duration": 2709,
    "start_time": "2023-08-01T09:47:54.866Z"
   },
   {
    "duration": 27478,
    "start_time": "2023-08-01T09:48:07.297Z"
   },
   {
    "duration": 91,
    "start_time": "2023-08-01T09:48:58.272Z"
   },
   {
    "duration": 6,
    "start_time": "2023-08-01T09:49:55.873Z"
   },
   {
    "duration": 8,
    "start_time": "2023-08-01T09:50:30.744Z"
   },
   {
    "duration": 10,
    "start_time": "2023-08-01T09:50:38.856Z"
   },
   {
    "duration": 7,
    "start_time": "2023-08-01T09:50:45.262Z"
   },
   {
    "duration": 5,
    "start_time": "2023-08-01T09:51:39.510Z"
   },
   {
    "duration": 23,
    "start_time": "2023-08-01T09:51:48.518Z"
   },
   {
    "duration": 16,
    "start_time": "2023-08-01T09:51:53.168Z"
   },
   {
    "duration": 190,
    "start_time": "2023-08-01T09:56:47.100Z"
   },
   {
    "duration": 103,
    "start_time": "2023-08-01T09:56:56.419Z"
   },
   {
    "duration": 107,
    "start_time": "2023-08-01T09:57:18.332Z"
   },
   {
    "duration": 132,
    "start_time": "2023-08-01T09:57:56.883Z"
   },
   {
    "duration": 8174,
    "start_time": "2023-08-01T10:06:27.093Z"
   },
   {
    "duration": 6411,
    "start_time": "2023-08-01T10:06:35.270Z"
   },
   {
    "duration": 785,
    "start_time": "2023-08-01T10:06:41.683Z"
   },
   {
    "duration": 168,
    "start_time": "2023-08-01T10:06:42.470Z"
   },
   {
    "duration": 276,
    "start_time": "2023-08-01T10:06:42.641Z"
   },
   {
    "duration": 3723,
    "start_time": "2023-08-01T10:06:42.919Z"
   },
   {
    "duration": 2317770,
    "start_time": "2023-08-01T10:06:46.644Z"
   },
   {
    "duration": 1770,
    "start_time": "2023-08-01T10:45:24.416Z"
   },
   {
    "duration": 1662,
    "start_time": "2023-08-01T10:45:26.188Z"
   },
   {
    "duration": 2921,
    "start_time": "2023-08-01T10:45:27.852Z"
   },
   {
    "duration": 27337,
    "start_time": "2023-08-01T10:45:30.775Z"
   },
   {
    "duration": 74,
    "start_time": "2023-08-01T10:45:58.114Z"
   },
   {
    "duration": 8,
    "start_time": "2023-08-01T10:45:58.190Z"
   },
   {
    "duration": 4,
    "start_time": "2023-08-01T10:45:58.202Z"
   },
   {
    "duration": 221,
    "start_time": "2023-08-01T10:45:58.207Z"
   },
   {
    "duration": 3,
    "start_time": "2023-08-01T10:45:58.431Z"
   },
   {
    "duration": 6584,
    "start_time": "2023-08-01T10:45:58.436Z"
   },
   {
    "duration": 3,
    "start_time": "2023-08-01T10:46:05.022Z"
   },
   {
    "duration": 12,
    "start_time": "2023-08-01T10:46:05.026Z"
   },
   {
    "duration": 47528,
    "start_time": "2023-08-01T10:46:05.040Z"
   },
   {
    "duration": 8,
    "start_time": "2023-08-01T10:46:52.570Z"
   },
   {
    "duration": 84,
    "start_time": "2023-08-01T10:46:52.580Z"
   },
   {
    "duration": 1022,
    "start_time": "2023-08-01T10:46:52.666Z"
   },
   {
    "duration": 777197,
    "start_time": "2023-08-01T10:46:53.690Z"
   },
   {
    "duration": 179041,
    "start_time": "2023-08-01T11:01:25.120Z"
   },
   {
    "duration": 29223,
    "start_time": "2023-08-01T11:18:07.458Z"
   },
   {
    "duration": 104,
    "start_time": "2023-08-01T11:18:36.683Z"
   },
   {
    "duration": 5,
    "start_time": "2023-08-01T11:29:20.433Z"
   },
   {
    "duration": 5,
    "start_time": "2023-08-01T11:29:22.810Z"
   },
   {
    "duration": 6,
    "start_time": "2023-08-01T11:29:25.107Z"
   },
   {
    "duration": 804541,
    "start_time": "2023-08-01T11:29:30.016Z"
   },
   {
    "duration": 6,
    "start_time": "2023-08-01T11:57:59.849Z"
   },
   {
    "duration": 4,
    "start_time": "2023-08-01T11:59:06.488Z"
   },
   {
    "duration": 135,
    "start_time": "2023-08-01T12:03:21.837Z"
   },
   {
    "duration": 24,
    "start_time": "2023-08-01T12:03:26.261Z"
   },
   {
    "duration": 25,
    "start_time": "2023-08-01T12:03:56.229Z"
   },
   {
    "duration": 3,
    "start_time": "2023-08-01T12:05:38.310Z"
   },
   {
    "duration": 4,
    "start_time": "2023-08-01T12:05:48.772Z"
   },
   {
    "duration": 164,
    "start_time": "2023-08-01T12:05:54.435Z"
   },
   {
    "duration": 25,
    "start_time": "2023-08-01T12:06:26.513Z"
   },
   {
    "duration": 5,
    "start_time": "2023-08-01T12:06:31.771Z"
   },
   {
    "duration": 5,
    "start_time": "2023-08-01T12:07:09.370Z"
   },
   {
    "duration": 172,
    "start_time": "2023-08-01T12:07:10.747Z"
   },
   {
    "duration": 5,
    "start_time": "2023-08-01T12:07:37.482Z"
   },
   {
    "duration": 7,
    "start_time": "2023-08-01T12:07:41.116Z"
   },
   {
    "duration": 4,
    "start_time": "2023-08-01T12:07:43.434Z"
   },
   {
    "duration": 3,
    "start_time": "2023-08-01T12:07:44.730Z"
   },
   {
    "duration": 389,
    "start_time": "2023-08-01T12:07:47.259Z"
   },
   {
    "duration": 4,
    "start_time": "2023-08-01T12:08:16.146Z"
   },
   {
    "duration": 453,
    "start_time": "2023-08-01T12:08:17.234Z"
   },
   {
    "duration": 8214,
    "start_time": "2023-08-01T12:10:33.449Z"
   },
   {
    "duration": 6502,
    "start_time": "2023-08-01T12:10:43.095Z"
   },
   {
    "duration": 832,
    "start_time": "2023-08-01T12:10:51.353Z"
   },
   {
    "duration": 285,
    "start_time": "2023-08-01T12:10:59.593Z"
   },
   {
    "duration": 633,
    "start_time": "2023-08-01T12:11:04.382Z"
   },
   {
    "duration": 77,
    "start_time": "2023-08-01T12:11:16.968Z"
   },
   {
    "duration": 11,
    "start_time": "2023-08-01T12:11:18.673Z"
   },
   {
    "duration": 4,
    "start_time": "2023-08-01T12:11:21.928Z"
   },
   {
    "duration": 250,
    "start_time": "2023-08-01T12:11:29.017Z"
   },
   {
    "duration": 3,
    "start_time": "2023-08-01T12:11:35.823Z"
   },
   {
    "duration": 3,
    "start_time": "2023-08-01T12:12:06.240Z"
   },
   {
    "duration": 6,
    "start_time": "2023-08-01T12:12:08.552Z"
   },
   {
    "duration": 6,
    "start_time": "2023-08-01T12:12:14.760Z"
   },
   {
    "duration": 3,
    "start_time": "2023-08-01T12:12:18.793Z"
   },
   {
    "duration": 5,
    "start_time": "2023-08-01T12:12:22.663Z"
   },
   {
    "duration": 62126,
    "start_time": "2023-08-01T12:12:33.000Z"
   },
   {
    "duration": 5,
    "start_time": "2023-08-01T12:13:38.863Z"
   },
   {
    "duration": 87593,
    "start_time": "2023-08-01T12:13:39.816Z"
   },
   {
    "duration": 5,
    "start_time": "2023-08-01T12:15:58.270Z"
   },
   {
    "duration": 5,
    "start_time": "2023-08-01T12:16:05.918Z"
   },
   {
    "duration": 4,
    "start_time": "2023-08-01T12:16:24.750Z"
   },
   {
    "duration": 4,
    "start_time": "2023-08-01T12:17:37.493Z"
   },
   {
    "duration": 5,
    "start_time": "2023-08-01T12:18:09.086Z"
   },
   {
    "duration": 88525,
    "start_time": "2023-08-01T12:18:11.063Z"
   },
   {
    "duration": 781037,
    "start_time": "2023-08-01T12:19:44.523Z"
   },
   {
    "duration": 663222,
    "start_time": "2023-08-01T12:34:32.212Z"
   },
   {
    "duration": 6,
    "start_time": "2023-08-01T12:45:44.011Z"
   },
   {
    "duration": 4,
    "start_time": "2023-08-01T12:45:50.401Z"
   },
   {
    "duration": 5,
    "start_time": "2023-08-01T12:45:52.753Z"
   },
   {
    "duration": 4,
    "start_time": "2023-08-01T12:46:00.834Z"
   },
   {
    "duration": 4,
    "start_time": "2023-08-01T12:46:26.785Z"
   },
   {
    "duration": 4,
    "start_time": "2023-08-01T12:46:31.506Z"
   },
   {
    "duration": 8083,
    "start_time": "2023-08-01T12:47:55.552Z"
   },
   {
    "duration": 6154,
    "start_time": "2023-08-01T12:48:05.553Z"
   },
   {
    "duration": 833,
    "start_time": "2023-08-01T12:48:13.224Z"
   },
   {
    "duration": 732,
    "start_time": "2023-08-01T12:48:22.481Z"
   },
   {
    "duration": 71,
    "start_time": "2023-08-01T12:48:29.039Z"
   },
   {
    "duration": 11,
    "start_time": "2023-08-01T12:48:34.312Z"
   },
   {
    "duration": 226,
    "start_time": "2023-08-01T12:48:56.711Z"
   },
   {
    "duration": 3,
    "start_time": "2023-08-01T12:49:00.720Z"
   },
   {
    "duration": 3,
    "start_time": "2023-08-01T12:49:07.488Z"
   },
   {
    "duration": 5,
    "start_time": "2023-08-01T12:49:13.575Z"
   },
   {
    "duration": 4,
    "start_time": "2023-08-01T12:49:55.176Z"
   },
   {
    "duration": 3,
    "start_time": "2023-08-01T12:50:04.799Z"
   },
   {
    "duration": 3,
    "start_time": "2023-08-01T12:50:06.799Z"
   },
   {
    "duration": 4,
    "start_time": "2023-08-01T12:50:07.535Z"
   },
   {
    "duration": 4,
    "start_time": "2023-08-01T12:50:09.887Z"
   },
   {
    "duration": 4,
    "start_time": "2023-08-01T12:50:14.022Z"
   },
   {
    "duration": 4,
    "start_time": "2023-08-01T12:50:20.501Z"
   },
   {
    "duration": 86498,
    "start_time": "2023-08-01T12:50:20.507Z"
   },
   {
    "duration": 116218,
    "start_time": "2023-08-01T12:51:47.007Z"
   },
   {
    "duration": 0,
    "start_time": "2023-08-01T12:54:43.658Z"
   },
   {
    "duration": 0,
    "start_time": "2023-08-01T12:54:43.659Z"
   },
   {
    "duration": 0,
    "start_time": "2023-08-01T12:54:43.660Z"
   },
   {
    "duration": 0,
    "start_time": "2023-08-01T12:54:43.661Z"
   },
   {
    "duration": 0,
    "start_time": "2023-08-01T12:54:43.662Z"
   },
   {
    "duration": 80651,
    "start_time": "2023-08-01T12:54:52.051Z"
   },
   {
    "duration": 7430,
    "start_time": "2023-08-01T12:56:12.704Z"
   },
   {
    "duration": 2301,
    "start_time": "2023-08-01T12:56:20.136Z"
   },
   {
    "duration": 8,
    "start_time": "2023-08-01T12:56:22.439Z"
   },
   {
    "duration": 37,
    "start_time": "2023-08-01T12:56:22.449Z"
   },
   {
    "duration": 3,
    "start_time": "2023-08-01T12:56:36.581Z"
   },
   {
    "duration": 9,
    "start_time": "2023-08-01T12:56:36.587Z"
   },
   {
    "duration": 10,
    "start_time": "2023-08-01T12:56:36.598Z"
   },
   {
    "duration": 9,
    "start_time": "2023-08-01T12:56:36.611Z"
   },
   {
    "duration": 87700,
    "start_time": "2023-08-01T12:56:36.622Z"
   },
   {
    "duration": 739633,
    "start_time": "2023-08-01T12:58:04.324Z"
   },
   {
    "duration": 1364318,
    "start_time": "2023-08-01T13:10:23.959Z"
   },
   {
    "duration": 367053,
    "start_time": "2023-08-01T13:33:08.278Z"
   },
   {
    "duration": 78,
    "start_time": "2023-08-01T13:39:15.333Z"
   },
   {
    "duration": 0,
    "start_time": "2023-08-01T13:39:15.414Z"
   },
   {
    "duration": 6,
    "start_time": "2023-08-01T13:39:51.287Z"
   },
   {
    "duration": 5,
    "start_time": "2023-08-01T13:40:20.111Z"
   },
   {
    "duration": 4,
    "start_time": "2023-08-01T13:40:55.518Z"
   },
   {
    "duration": 12858,
    "start_time": "2023-08-01T13:41:02.487Z"
   },
   {
    "duration": 2,
    "start_time": "2023-08-01T13:41:43.774Z"
   },
   {
    "duration": 4,
    "start_time": "2023-08-01T13:41:44.390Z"
   },
   {
    "duration": 4,
    "start_time": "2023-08-01T13:41:45.555Z"
   },
   {
    "duration": 4,
    "start_time": "2023-08-01T13:41:47.486Z"
   },
   {
    "duration": 5543,
    "start_time": "2023-08-01T13:41:52.198Z"
   },
   {
    "duration": 4,
    "start_time": "2023-08-01T13:42:11.379Z"
   },
   {
    "duration": 7257,
    "start_time": "2023-08-01T13:42:15.070Z"
   },
   {
    "duration": 4662,
    "start_time": "2023-08-01T13:42:25.511Z"
   },
   {
    "duration": 4,
    "start_time": "2023-08-01T13:42:48.022Z"
   },
   {
    "duration": 34804,
    "start_time": "2023-08-01T13:42:55.050Z"
   },
   {
    "duration": 5,
    "start_time": "2023-08-01T13:43:35.413Z"
   },
   {
    "duration": 4,
    "start_time": "2023-08-01T13:44:07.052Z"
   },
   {
    "duration": 102563,
    "start_time": "2023-08-01T13:45:22.547Z"
   },
   {
    "duration": 32089,
    "start_time": "2023-08-01T13:50:12.577Z"
   },
   {
    "duration": 3,
    "start_time": "2023-08-01T13:51:06.310Z"
   },
   {
    "duration": 10,
    "start_time": "2023-08-01T13:51:06.315Z"
   },
   {
    "duration": 16,
    "start_time": "2023-08-01T13:51:06.327Z"
   },
   {
    "duration": 31,
    "start_time": "2023-08-01T13:51:06.345Z"
   },
   {
    "duration": 102255,
    "start_time": "2023-08-01T13:51:06.379Z"
   },
   {
    "duration": 872924,
    "start_time": "2023-08-01T13:52:48.636Z"
   },
   {
    "duration": 1336264,
    "start_time": "2023-08-01T14:07:21.561Z"
   },
   {
    "duration": 10006976,
    "start_time": "2023-08-01T14:29:37.827Z"
   },
   {
    "duration": 8,
    "start_time": "2023-08-01T17:16:24.805Z"
   },
   {
    "duration": 1438,
    "start_time": "2023-08-01T17:16:24.815Z"
   },
   {
    "duration": 2565,
    "start_time": "2023-08-01T18:29:26.602Z"
   },
   {
    "duration": 62,
    "start_time": "2023-08-01T18:31:03.840Z"
   },
   {
    "duration": 31,
    "start_time": "2023-08-01T18:31:15.040Z"
   },
   {
    "duration": 16,
    "start_time": "2023-08-01T18:31:25.275Z"
   },
   {
    "duration": 26,
    "start_time": "2023-08-01T18:31:53.718Z"
   },
   {
    "duration": 32,
    "start_time": "2023-08-01T18:31:59.255Z"
   },
   {
    "duration": 26,
    "start_time": "2023-08-01T18:32:15.935Z"
   },
   {
    "duration": 8909,
    "start_time": "2023-08-01T18:46:16.770Z"
   },
   {
    "duration": 13329,
    "start_time": "2023-08-01T18:46:25.682Z"
   },
   {
    "duration": 843,
    "start_time": "2023-08-01T18:46:39.014Z"
   },
   {
    "duration": 159,
    "start_time": "2023-08-01T18:46:39.859Z"
   },
   {
    "duration": 289,
    "start_time": "2023-08-01T18:46:40.020Z"
   },
   {
    "duration": 3674,
    "start_time": "2023-08-01T18:46:40.311Z"
   },
   {
    "duration": 2610062,
    "start_time": "2023-08-01T18:46:43.987Z"
   },
   {
    "duration": 1833,
    "start_time": "2023-08-01T19:30:14.051Z"
   },
   {
    "duration": 1708,
    "start_time": "2023-08-01T19:30:15.892Z"
   },
   {
    "duration": 3388,
    "start_time": "2023-08-01T19:30:17.602Z"
   },
   {
    "duration": 32139,
    "start_time": "2023-08-01T19:30:20.992Z"
   },
   {
    "duration": 98,
    "start_time": "2023-08-01T19:30:53.133Z"
   },
   {
    "duration": 26,
    "start_time": "2023-08-01T19:30:53.234Z"
   },
   {
    "duration": 12,
    "start_time": "2023-08-01T19:30:53.263Z"
   },
   {
    "duration": 331,
    "start_time": "2023-08-01T19:30:53.277Z"
   },
   {
    "duration": 4,
    "start_time": "2023-08-01T19:30:53.610Z"
   },
   {
    "duration": 8605,
    "start_time": "2023-08-01T19:30:53.615Z"
   },
   {
    "duration": 3,
    "start_time": "2023-08-01T19:31:02.223Z"
   },
   {
    "duration": 28,
    "start_time": "2023-08-01T19:31:02.228Z"
   },
   {
    "duration": 38,
    "start_time": "2023-08-01T19:31:02.258Z"
   },
   {
    "duration": 23,
    "start_time": "2023-08-01T19:31:02.306Z"
   },
   {
    "duration": 128190,
    "start_time": "2023-08-01T19:31:02.333Z"
   },
   {
    "duration": 1026540,
    "start_time": "2023-08-01T19:33:10.526Z"
   },
   {
    "duration": 490348,
    "start_time": "2023-08-01T19:50:17.071Z"
   },
   {
    "duration": 8388,
    "start_time": "2023-08-01T21:28:23.708Z"
   },
   {
    "duration": 11875,
    "start_time": "2023-08-01T21:28:32.099Z"
   },
   {
    "duration": 3759,
    "start_time": "2023-08-01T21:28:43.977Z"
   },
   {
    "duration": 168,
    "start_time": "2023-08-01T21:28:47.738Z"
   },
   {
    "duration": 320,
    "start_time": "2023-08-01T21:28:47.909Z"
   },
   {
    "duration": 4119,
    "start_time": "2023-08-01T21:28:48.231Z"
   },
   {
    "duration": 2176736,
    "start_time": "2023-08-01T21:28:52.360Z"
   },
   {
    "duration": 1426,
    "start_time": "2023-08-01T22:05:09.098Z"
   },
   {
    "duration": 1367,
    "start_time": "2023-08-01T22:05:10.526Z"
   },
   {
    "duration": 2594,
    "start_time": "2023-08-01T22:05:11.895Z"
   },
   {
    "duration": 26822,
    "start_time": "2023-08-01T22:05:14.491Z"
   },
   {
    "duration": 70,
    "start_time": "2023-08-01T22:05:41.314Z"
   },
   {
    "duration": 6,
    "start_time": "2023-08-01T22:05:41.386Z"
   },
   {
    "duration": 3,
    "start_time": "2023-08-01T22:05:41.395Z"
   },
   {
    "duration": 153,
    "start_time": "2023-08-01T22:05:41.399Z"
   },
   {
    "duration": 3,
    "start_time": "2023-08-01T22:05:41.554Z"
   },
   {
    "duration": 6134,
    "start_time": "2023-08-01T22:05:41.558Z"
   },
   {
    "duration": 3,
    "start_time": "2023-08-01T22:05:47.694Z"
   },
   {
    "duration": 6,
    "start_time": "2023-08-01T22:05:47.699Z"
   },
   {
    "duration": 5,
    "start_time": "2023-08-01T22:05:47.707Z"
   },
   {
    "duration": 7,
    "start_time": "2023-08-01T22:05:47.713Z"
   },
   {
    "duration": 97024,
    "start_time": "2023-08-01T22:05:47.722Z"
   },
   {
    "duration": 839610,
    "start_time": "2023-08-01T22:07:24.748Z"
   },
   {
    "duration": 1235717,
    "start_time": "2023-08-01T22:21:24.360Z"
   },
   {
    "duration": 9059007,
    "start_time": "2023-08-01T22:42:00.080Z"
   },
   {
    "duration": 8,
    "start_time": "2023-08-02T01:12:59.089Z"
   },
   {
    "duration": 325,
    "start_time": "2023-08-02T07:53:51.014Z"
   },
   {
    "duration": 1359,
    "start_time": "2023-08-02T08:10:33.290Z"
   },
   {
    "duration": 27,
    "start_time": "2023-08-02T08:24:36.050Z"
   }
  ],
  "kernelspec": {
   "display_name": "Python 3 (ipykernel)",
   "language": "python",
   "name": "python3"
  },
  "language_info": {
   "codemirror_mode": {
    "name": "ipython",
    "version": 3
   },
   "file_extension": ".py",
   "mimetype": "text/x-python",
   "name": "python",
   "nbconvert_exporter": "python",
   "pygments_lexer": "ipython3",
   "version": "3.9.13"
  },
  "toc": {
   "base_numbering": 1,
   "nav_menu": {
    "height": "134px",
    "width": "188px"
   },
   "number_sections": true,
   "sideBar": true,
   "skip_h1_title": true,
   "title_cell": "Содержание",
   "title_sidebar": "Contents",
   "toc_cell": true,
   "toc_position": {
    "height": "calc(100% - 180px)",
    "left": "10px",
    "top": "150px",
    "width": "302.391px"
   },
   "toc_section_display": true,
   "toc_window_display": false
  }
 },
 "nbformat": 4,
 "nbformat_minor": 2
}
