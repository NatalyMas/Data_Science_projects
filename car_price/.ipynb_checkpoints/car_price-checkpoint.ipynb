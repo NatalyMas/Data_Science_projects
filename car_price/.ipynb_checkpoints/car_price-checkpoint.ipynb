{
 "cells": [
  {
   "cell_type": "markdown",
   "id": "55b6d346",
   "metadata": {},
   "source": [
    "# Определение стоимости автомобилей"
   ]
  },
  {
   "cell_type": "markdown",
   "id": "be622c7f",
   "metadata": {},
   "source": [
    "Сервис по продаже автомобилей с пробегом «Не бит, не крашен» разрабатывает приложение для привлечения новых клиентов. В нём можно быстро узнать рыночную стоимость своего автомобиля. В нашем распоряжении исторические данные: технические характеристики, комплектации и цены автомобилей. Нам нужно построить модель для определения стоимости. \n",
    "\n",
    "Заказчику важны:\n",
    "\n",
    "- качество предсказания;\n",
    "- скорость предсказания;\n",
    "- время обучения.\n",
    "\n",
    "Основные шаги:\n",
    "\n",
    "- Загрузить данные.\n",
    "- Изучить данные, провести предобработку.\n",
    "- Подготовить выборки для обучения моделей.\n",
    "- Обучить разные модели. Для каждой модели попробовать разные гиперпараметры.\n",
    "- Проанализовать время обучения, время предсказания и качество моделей.\n",
    "- Опираясь на критерии заказчика, выбрать лучшую модель, проверить её качество на тестовой выборке."
   ]
  },
  {
   "cell_type": "markdown",
   "id": "ecf43d1d",
   "metadata": {},
   "source": [
    "## Подготовка данных"
   ]
  },
  {
   "cell_type": "markdown",
   "id": "554f2643",
   "metadata": {},
   "source": [
    "### Загрузка данных"
   ]
  },
  {
   "cell_type": "code",
   "execution_count": 1,
   "id": "ffd9bd85",
   "metadata": {},
   "outputs": [
    {
     "name": "stdout",
     "output_type": "stream",
     "text": [
      "Requirement already satisfied: scikit-learn==1.1.3 in c:\\users\\ament\\anaconda3\\lib\\site-packages (1.1.3)\n",
      "Requirement already satisfied: scipy>=1.3.2 in c:\\users\\ament\\anaconda3\\lib\\site-packages (from scikit-learn==1.1.3) (1.9.1)\n",
      "Requirement already satisfied: joblib>=1.0.0 in c:\\users\\ament\\anaconda3\\lib\\site-packages (from scikit-learn==1.1.3) (1.3.1)\n",
      "Requirement already satisfied: numpy>=1.17.3 in c:\\users\\ament\\anaconda3\\lib\\site-packages (from scikit-learn==1.1.3) (1.21.5)\n",
      "Requirement already satisfied: threadpoolctl>=2.0.0 in c:\\users\\ament\\anaconda3\\lib\\site-packages (from scikit-learn==1.1.3) (2.2.0)\n"
     ]
    }
   ],
   "source": [
    "!pip install scikit-learn==1.1.3"
   ]
  },
  {
   "cell_type": "code",
   "execution_count": 2,
   "id": "a0e79857",
   "metadata": {},
   "outputs": [
    {
     "name": "stdout",
     "output_type": "stream",
     "text": [
      "Версия LightGBM      :  3.3.5\n"
     ]
    }
   ],
   "source": [
    "import warnings\n",
    "\n",
    "import pandas as pd\n",
    "import numpy as np\n",
    "import seaborn as sns\n",
    "import matplotlib.pyplot as plt\n",
    "import lightgbm as lgb\n",
    "import re\n",
    "import time\n",
    "\n",
    "from sklearn.compose import make_column_transformer\n",
    "from lightgbm import LGBMRegressor\n",
    "from sklearn.ensemble import RandomForestRegressor\n",
    "from sklearn.model_selection import cross_val_score\n",
    "from sklearn.linear_model import LinearRegression, Ridge, Lasso\n",
    "from sklearn.metrics import mean_squared_error\n",
    "from sklearn.metrics import make_scorer\n",
    "from sklearn.model_selection import GridSearchCV, train_test_split\n",
    "from sklearn.preprocessing import OneHotEncoder, OrdinalEncoder, StandardScaler\n",
    "\n",
    "RANDOM_STATE = 1234\n",
    "\n",
    "#!pip install --user scikit-learn==1.3.0\n",
    "\n",
    "warnings.filterwarnings(\"ignore\")\n",
    "\n",
    "print(\"Версия LightGBM      : \", lgb.__version__)"
   ]
  },
  {
   "cell_type": "code",
   "execution_count": 3,
   "id": "a0541e91",
   "metadata": {},
   "outputs": [],
   "source": [
    "#data = pd.read_csv('autos.csv')\n",
    "data = pd.read_csv('/datasets/autos.csv')"
   ]
  },
  {
   "cell_type": "code",
   "execution_count": 4,
   "id": "87d97ac9",
   "metadata": {},
   "outputs": [
    {
     "data": {
      "text/html": [
       "<div>\n",
       "<style scoped>\n",
       "    .dataframe tbody tr th:only-of-type {\n",
       "        vertical-align: middle;\n",
       "    }\n",
       "\n",
       "    .dataframe tbody tr th {\n",
       "        vertical-align: top;\n",
       "    }\n",
       "\n",
       "    .dataframe thead th {\n",
       "        text-align: right;\n",
       "    }\n",
       "</style>\n",
       "<table border=\"1\" class=\"dataframe\">\n",
       "  <thead>\n",
       "    <tr style=\"text-align: right;\">\n",
       "      <th></th>\n",
       "      <th>DateCrawled</th>\n",
       "      <th>Price</th>\n",
       "      <th>VehicleType</th>\n",
       "      <th>RegistrationYear</th>\n",
       "      <th>Gearbox</th>\n",
       "      <th>Power</th>\n",
       "      <th>Model</th>\n",
       "      <th>Kilometer</th>\n",
       "      <th>RegistrationMonth</th>\n",
       "      <th>FuelType</th>\n",
       "      <th>Brand</th>\n",
       "      <th>Repaired</th>\n",
       "      <th>DateCreated</th>\n",
       "      <th>NumberOfPictures</th>\n",
       "      <th>PostalCode</th>\n",
       "      <th>LastSeen</th>\n",
       "    </tr>\n",
       "  </thead>\n",
       "  <tbody>\n",
       "    <tr>\n",
       "      <th>0</th>\n",
       "      <td>2016-03-24 11:52:17</td>\n",
       "      <td>480</td>\n",
       "      <td>NaN</td>\n",
       "      <td>1993</td>\n",
       "      <td>manual</td>\n",
       "      <td>0</td>\n",
       "      <td>golf</td>\n",
       "      <td>150000</td>\n",
       "      <td>0</td>\n",
       "      <td>petrol</td>\n",
       "      <td>volkswagen</td>\n",
       "      <td>NaN</td>\n",
       "      <td>2016-03-24 00:00:00</td>\n",
       "      <td>0</td>\n",
       "      <td>70435</td>\n",
       "      <td>2016-04-07 03:16:57</td>\n",
       "    </tr>\n",
       "    <tr>\n",
       "      <th>1</th>\n",
       "      <td>2016-03-24 10:58:45</td>\n",
       "      <td>18300</td>\n",
       "      <td>coupe</td>\n",
       "      <td>2011</td>\n",
       "      <td>manual</td>\n",
       "      <td>190</td>\n",
       "      <td>NaN</td>\n",
       "      <td>125000</td>\n",
       "      <td>5</td>\n",
       "      <td>gasoline</td>\n",
       "      <td>audi</td>\n",
       "      <td>yes</td>\n",
       "      <td>2016-03-24 00:00:00</td>\n",
       "      <td>0</td>\n",
       "      <td>66954</td>\n",
       "      <td>2016-04-07 01:46:50</td>\n",
       "    </tr>\n",
       "    <tr>\n",
       "      <th>2</th>\n",
       "      <td>2016-03-14 12:52:21</td>\n",
       "      <td>9800</td>\n",
       "      <td>suv</td>\n",
       "      <td>2004</td>\n",
       "      <td>auto</td>\n",
       "      <td>163</td>\n",
       "      <td>grand</td>\n",
       "      <td>125000</td>\n",
       "      <td>8</td>\n",
       "      <td>gasoline</td>\n",
       "      <td>jeep</td>\n",
       "      <td>NaN</td>\n",
       "      <td>2016-03-14 00:00:00</td>\n",
       "      <td>0</td>\n",
       "      <td>90480</td>\n",
       "      <td>2016-04-05 12:47:46</td>\n",
       "    </tr>\n",
       "    <tr>\n",
       "      <th>3</th>\n",
       "      <td>2016-03-17 16:54:04</td>\n",
       "      <td>1500</td>\n",
       "      <td>small</td>\n",
       "      <td>2001</td>\n",
       "      <td>manual</td>\n",
       "      <td>75</td>\n",
       "      <td>golf</td>\n",
       "      <td>150000</td>\n",
       "      <td>6</td>\n",
       "      <td>petrol</td>\n",
       "      <td>volkswagen</td>\n",
       "      <td>no</td>\n",
       "      <td>2016-03-17 00:00:00</td>\n",
       "      <td>0</td>\n",
       "      <td>91074</td>\n",
       "      <td>2016-03-17 17:40:17</td>\n",
       "    </tr>\n",
       "    <tr>\n",
       "      <th>4</th>\n",
       "      <td>2016-03-31 17:25:20</td>\n",
       "      <td>3600</td>\n",
       "      <td>small</td>\n",
       "      <td>2008</td>\n",
       "      <td>manual</td>\n",
       "      <td>69</td>\n",
       "      <td>fabia</td>\n",
       "      <td>90000</td>\n",
       "      <td>7</td>\n",
       "      <td>gasoline</td>\n",
       "      <td>skoda</td>\n",
       "      <td>no</td>\n",
       "      <td>2016-03-31 00:00:00</td>\n",
       "      <td>0</td>\n",
       "      <td>60437</td>\n",
       "      <td>2016-04-06 10:17:21</td>\n",
       "    </tr>\n",
       "  </tbody>\n",
       "</table>\n",
       "</div>"
      ],
      "text/plain": [
       "           DateCrawled  Price VehicleType  RegistrationYear Gearbox  Power  \\\n",
       "0  2016-03-24 11:52:17    480         NaN              1993  manual      0   \n",
       "1  2016-03-24 10:58:45  18300       coupe              2011  manual    190   \n",
       "2  2016-03-14 12:52:21   9800         suv              2004    auto    163   \n",
       "3  2016-03-17 16:54:04   1500       small              2001  manual     75   \n",
       "4  2016-03-31 17:25:20   3600       small              2008  manual     69   \n",
       "\n",
       "   Model  Kilometer  RegistrationMonth  FuelType       Brand Repaired  \\\n",
       "0   golf     150000                  0    petrol  volkswagen      NaN   \n",
       "1    NaN     125000                  5  gasoline        audi      yes   \n",
       "2  grand     125000                  8  gasoline        jeep      NaN   \n",
       "3   golf     150000                  6    petrol  volkswagen       no   \n",
       "4  fabia      90000                  7  gasoline       skoda       no   \n",
       "\n",
       "           DateCreated  NumberOfPictures  PostalCode             LastSeen  \n",
       "0  2016-03-24 00:00:00                 0       70435  2016-04-07 03:16:57  \n",
       "1  2016-03-24 00:00:00                 0       66954  2016-04-07 01:46:50  \n",
       "2  2016-03-14 00:00:00                 0       90480  2016-04-05 12:47:46  \n",
       "3  2016-03-17 00:00:00                 0       91074  2016-03-17 17:40:17  \n",
       "4  2016-03-31 00:00:00                 0       60437  2016-04-06 10:17:21  "
      ]
     },
     "metadata": {},
     "output_type": "display_data"
    },
    {
     "name": "stdout",
     "output_type": "stream",
     "text": [
      "<class 'pandas.core.frame.DataFrame'>\n",
      "RangeIndex: 354369 entries, 0 to 354368\n",
      "Data columns (total 16 columns):\n",
      " #   Column             Non-Null Count   Dtype \n",
      "---  ------             --------------   ----- \n",
      " 0   DateCrawled        354369 non-null  object\n",
      " 1   Price              354369 non-null  int64 \n",
      " 2   VehicleType        316879 non-null  object\n",
      " 3   RegistrationYear   354369 non-null  int64 \n",
      " 4   Gearbox            334536 non-null  object\n",
      " 5   Power              354369 non-null  int64 \n",
      " 6   Model              334664 non-null  object\n",
      " 7   Kilometer          354369 non-null  int64 \n",
      " 8   RegistrationMonth  354369 non-null  int64 \n",
      " 9   FuelType           321474 non-null  object\n",
      " 10  Brand              354369 non-null  object\n",
      " 11  Repaired           283215 non-null  object\n",
      " 12  DateCreated        354369 non-null  object\n",
      " 13  NumberOfPictures   354369 non-null  int64 \n",
      " 14  PostalCode         354369 non-null  int64 \n",
      " 15  LastSeen           354369 non-null  object\n",
      "dtypes: int64(7), object(9)\n",
      "memory usage: 43.3+ MB\n"
     ]
    },
    {
     "data": {
      "text/plain": [
       "None"
      ]
     },
     "metadata": {},
     "output_type": "display_data"
    },
    {
     "data": {
      "text/html": [
       "<div>\n",
       "<style scoped>\n",
       "    .dataframe tbody tr th:only-of-type {\n",
       "        vertical-align: middle;\n",
       "    }\n",
       "\n",
       "    .dataframe tbody tr th {\n",
       "        vertical-align: top;\n",
       "    }\n",
       "\n",
       "    .dataframe thead th {\n",
       "        text-align: right;\n",
       "    }\n",
       "</style>\n",
       "<table border=\"1\" class=\"dataframe\">\n",
       "  <thead>\n",
       "    <tr style=\"text-align: right;\">\n",
       "      <th></th>\n",
       "      <th>DateCrawled</th>\n",
       "      <th>Price</th>\n",
       "      <th>VehicleType</th>\n",
       "      <th>RegistrationYear</th>\n",
       "      <th>Gearbox</th>\n",
       "      <th>Power</th>\n",
       "      <th>Model</th>\n",
       "      <th>Kilometer</th>\n",
       "      <th>RegistrationMonth</th>\n",
       "      <th>FuelType</th>\n",
       "      <th>Brand</th>\n",
       "      <th>Repaired</th>\n",
       "      <th>DateCreated</th>\n",
       "      <th>NumberOfPictures</th>\n",
       "      <th>PostalCode</th>\n",
       "      <th>LastSeen</th>\n",
       "    </tr>\n",
       "  </thead>\n",
       "  <tbody>\n",
       "    <tr>\n",
       "      <th>count</th>\n",
       "      <td>354369</td>\n",
       "      <td>354369.000000</td>\n",
       "      <td>316879</td>\n",
       "      <td>354369.000000</td>\n",
       "      <td>334536</td>\n",
       "      <td>354369.000000</td>\n",
       "      <td>334664</td>\n",
       "      <td>354369.000000</td>\n",
       "      <td>354369.000000</td>\n",
       "      <td>321474</td>\n",
       "      <td>354369</td>\n",
       "      <td>283215</td>\n",
       "      <td>354369</td>\n",
       "      <td>354369.0</td>\n",
       "      <td>354369.000000</td>\n",
       "      <td>354369</td>\n",
       "    </tr>\n",
       "    <tr>\n",
       "      <th>unique</th>\n",
       "      <td>271174</td>\n",
       "      <td>NaN</td>\n",
       "      <td>8</td>\n",
       "      <td>NaN</td>\n",
       "      <td>2</td>\n",
       "      <td>NaN</td>\n",
       "      <td>250</td>\n",
       "      <td>NaN</td>\n",
       "      <td>NaN</td>\n",
       "      <td>7</td>\n",
       "      <td>40</td>\n",
       "      <td>2</td>\n",
       "      <td>109</td>\n",
       "      <td>NaN</td>\n",
       "      <td>NaN</td>\n",
       "      <td>179150</td>\n",
       "    </tr>\n",
       "    <tr>\n",
       "      <th>top</th>\n",
       "      <td>2016-03-24 14:49:47</td>\n",
       "      <td>NaN</td>\n",
       "      <td>sedan</td>\n",
       "      <td>NaN</td>\n",
       "      <td>manual</td>\n",
       "      <td>NaN</td>\n",
       "      <td>golf</td>\n",
       "      <td>NaN</td>\n",
       "      <td>NaN</td>\n",
       "      <td>petrol</td>\n",
       "      <td>volkswagen</td>\n",
       "      <td>no</td>\n",
       "      <td>2016-04-03 00:00:00</td>\n",
       "      <td>NaN</td>\n",
       "      <td>NaN</td>\n",
       "      <td>2016-04-06 13:45:54</td>\n",
       "    </tr>\n",
       "    <tr>\n",
       "      <th>freq</th>\n",
       "      <td>7</td>\n",
       "      <td>NaN</td>\n",
       "      <td>91457</td>\n",
       "      <td>NaN</td>\n",
       "      <td>268251</td>\n",
       "      <td>NaN</td>\n",
       "      <td>29232</td>\n",
       "      <td>NaN</td>\n",
       "      <td>NaN</td>\n",
       "      <td>216352</td>\n",
       "      <td>77013</td>\n",
       "      <td>247161</td>\n",
       "      <td>13719</td>\n",
       "      <td>NaN</td>\n",
       "      <td>NaN</td>\n",
       "      <td>17</td>\n",
       "    </tr>\n",
       "    <tr>\n",
       "      <th>mean</th>\n",
       "      <td>NaN</td>\n",
       "      <td>4416.656776</td>\n",
       "      <td>NaN</td>\n",
       "      <td>2004.234448</td>\n",
       "      <td>NaN</td>\n",
       "      <td>110.094337</td>\n",
       "      <td>NaN</td>\n",
       "      <td>128211.172535</td>\n",
       "      <td>5.714645</td>\n",
       "      <td>NaN</td>\n",
       "      <td>NaN</td>\n",
       "      <td>NaN</td>\n",
       "      <td>NaN</td>\n",
       "      <td>0.0</td>\n",
       "      <td>50508.689087</td>\n",
       "      <td>NaN</td>\n",
       "    </tr>\n",
       "    <tr>\n",
       "      <th>std</th>\n",
       "      <td>NaN</td>\n",
       "      <td>4514.158514</td>\n",
       "      <td>NaN</td>\n",
       "      <td>90.227958</td>\n",
       "      <td>NaN</td>\n",
       "      <td>189.850405</td>\n",
       "      <td>NaN</td>\n",
       "      <td>37905.341530</td>\n",
       "      <td>3.726421</td>\n",
       "      <td>NaN</td>\n",
       "      <td>NaN</td>\n",
       "      <td>NaN</td>\n",
       "      <td>NaN</td>\n",
       "      <td>0.0</td>\n",
       "      <td>25783.096248</td>\n",
       "      <td>NaN</td>\n",
       "    </tr>\n",
       "    <tr>\n",
       "      <th>min</th>\n",
       "      <td>NaN</td>\n",
       "      <td>0.000000</td>\n",
       "      <td>NaN</td>\n",
       "      <td>1000.000000</td>\n",
       "      <td>NaN</td>\n",
       "      <td>0.000000</td>\n",
       "      <td>NaN</td>\n",
       "      <td>5000.000000</td>\n",
       "      <td>0.000000</td>\n",
       "      <td>NaN</td>\n",
       "      <td>NaN</td>\n",
       "      <td>NaN</td>\n",
       "      <td>NaN</td>\n",
       "      <td>0.0</td>\n",
       "      <td>1067.000000</td>\n",
       "      <td>NaN</td>\n",
       "    </tr>\n",
       "    <tr>\n",
       "      <th>25%</th>\n",
       "      <td>NaN</td>\n",
       "      <td>1050.000000</td>\n",
       "      <td>NaN</td>\n",
       "      <td>1999.000000</td>\n",
       "      <td>NaN</td>\n",
       "      <td>69.000000</td>\n",
       "      <td>NaN</td>\n",
       "      <td>125000.000000</td>\n",
       "      <td>3.000000</td>\n",
       "      <td>NaN</td>\n",
       "      <td>NaN</td>\n",
       "      <td>NaN</td>\n",
       "      <td>NaN</td>\n",
       "      <td>0.0</td>\n",
       "      <td>30165.000000</td>\n",
       "      <td>NaN</td>\n",
       "    </tr>\n",
       "    <tr>\n",
       "      <th>50%</th>\n",
       "      <td>NaN</td>\n",
       "      <td>2700.000000</td>\n",
       "      <td>NaN</td>\n",
       "      <td>2003.000000</td>\n",
       "      <td>NaN</td>\n",
       "      <td>105.000000</td>\n",
       "      <td>NaN</td>\n",
       "      <td>150000.000000</td>\n",
       "      <td>6.000000</td>\n",
       "      <td>NaN</td>\n",
       "      <td>NaN</td>\n",
       "      <td>NaN</td>\n",
       "      <td>NaN</td>\n",
       "      <td>0.0</td>\n",
       "      <td>49413.000000</td>\n",
       "      <td>NaN</td>\n",
       "    </tr>\n",
       "    <tr>\n",
       "      <th>75%</th>\n",
       "      <td>NaN</td>\n",
       "      <td>6400.000000</td>\n",
       "      <td>NaN</td>\n",
       "      <td>2008.000000</td>\n",
       "      <td>NaN</td>\n",
       "      <td>143.000000</td>\n",
       "      <td>NaN</td>\n",
       "      <td>150000.000000</td>\n",
       "      <td>9.000000</td>\n",
       "      <td>NaN</td>\n",
       "      <td>NaN</td>\n",
       "      <td>NaN</td>\n",
       "      <td>NaN</td>\n",
       "      <td>0.0</td>\n",
       "      <td>71083.000000</td>\n",
       "      <td>NaN</td>\n",
       "    </tr>\n",
       "    <tr>\n",
       "      <th>max</th>\n",
       "      <td>NaN</td>\n",
       "      <td>20000.000000</td>\n",
       "      <td>NaN</td>\n",
       "      <td>9999.000000</td>\n",
       "      <td>NaN</td>\n",
       "      <td>20000.000000</td>\n",
       "      <td>NaN</td>\n",
       "      <td>150000.000000</td>\n",
       "      <td>12.000000</td>\n",
       "      <td>NaN</td>\n",
       "      <td>NaN</td>\n",
       "      <td>NaN</td>\n",
       "      <td>NaN</td>\n",
       "      <td>0.0</td>\n",
       "      <td>99998.000000</td>\n",
       "      <td>NaN</td>\n",
       "    </tr>\n",
       "  </tbody>\n",
       "</table>\n",
       "</div>"
      ],
      "text/plain": [
       "                DateCrawled          Price VehicleType  RegistrationYear  \\\n",
       "count                354369  354369.000000      316879     354369.000000   \n",
       "unique               271174            NaN           8               NaN   \n",
       "top     2016-03-24 14:49:47            NaN       sedan               NaN   \n",
       "freq                      7            NaN       91457               NaN   \n",
       "mean                    NaN    4416.656776         NaN       2004.234448   \n",
       "std                     NaN    4514.158514         NaN         90.227958   \n",
       "min                     NaN       0.000000         NaN       1000.000000   \n",
       "25%                     NaN    1050.000000         NaN       1999.000000   \n",
       "50%                     NaN    2700.000000         NaN       2003.000000   \n",
       "75%                     NaN    6400.000000         NaN       2008.000000   \n",
       "max                     NaN   20000.000000         NaN       9999.000000   \n",
       "\n",
       "       Gearbox          Power   Model      Kilometer  RegistrationMonth  \\\n",
       "count   334536  354369.000000  334664  354369.000000      354369.000000   \n",
       "unique       2            NaN     250            NaN                NaN   \n",
       "top     manual            NaN    golf            NaN                NaN   \n",
       "freq    268251            NaN   29232            NaN                NaN   \n",
       "mean       NaN     110.094337     NaN  128211.172535           5.714645   \n",
       "std        NaN     189.850405     NaN   37905.341530           3.726421   \n",
       "min        NaN       0.000000     NaN    5000.000000           0.000000   \n",
       "25%        NaN      69.000000     NaN  125000.000000           3.000000   \n",
       "50%        NaN     105.000000     NaN  150000.000000           6.000000   \n",
       "75%        NaN     143.000000     NaN  150000.000000           9.000000   \n",
       "max        NaN   20000.000000     NaN  150000.000000          12.000000   \n",
       "\n",
       "       FuelType       Brand Repaired          DateCreated  NumberOfPictures  \\\n",
       "count    321474      354369   283215               354369          354369.0   \n",
       "unique        7          40        2                  109               NaN   \n",
       "top      petrol  volkswagen       no  2016-04-03 00:00:00               NaN   \n",
       "freq     216352       77013   247161                13719               NaN   \n",
       "mean        NaN         NaN      NaN                  NaN               0.0   \n",
       "std         NaN         NaN      NaN                  NaN               0.0   \n",
       "min         NaN         NaN      NaN                  NaN               0.0   \n",
       "25%         NaN         NaN      NaN                  NaN               0.0   \n",
       "50%         NaN         NaN      NaN                  NaN               0.0   \n",
       "75%         NaN         NaN      NaN                  NaN               0.0   \n",
       "max         NaN         NaN      NaN                  NaN               0.0   \n",
       "\n",
       "           PostalCode             LastSeen  \n",
       "count   354369.000000               354369  \n",
       "unique            NaN               179150  \n",
       "top               NaN  2016-04-06 13:45:54  \n",
       "freq              NaN                   17  \n",
       "mean     50508.689087                  NaN  \n",
       "std      25783.096248                  NaN  \n",
       "min       1067.000000                  NaN  \n",
       "25%      30165.000000                  NaN  \n",
       "50%      49413.000000                  NaN  \n",
       "75%      71083.000000                  NaN  \n",
       "max      99998.000000                  NaN  "
      ]
     },
     "metadata": {},
     "output_type": "display_data"
    }
   ],
   "source": [
    "display(data.head())\n",
    "display(data.info())\n",
    "display(data.describe(include='all'))"
   ]
  },
  {
   "cell_type": "markdown",
   "id": "4551bfa5",
   "metadata": {},
   "source": [
    "Датасет содержит 354369 строк, названия столбцов в CamelCase, есть пропуски. В двух численных столбцах (Price, Power) минимальное значение 0, что подозрительно. Столбец NumberOfPictures полностью состоит из 0, что больше похоже на техническую ошибку: не может же у всех не быть фотографий. "
   ]
  },
  {
   "cell_type": "markdown",
   "id": "3443f20a",
   "metadata": {},
   "source": [
    "### Предобработка данных"
   ]
  },
  {
   "cell_type": "markdown",
   "id": "ebaa0d44",
   "metadata": {},
   "source": [
    "#### Названия столбцов"
   ]
  },
  {
   "cell_type": "markdown",
   "id": "67fadc19",
   "metadata": {},
   "source": [
    "Преобразуем названия столбцов в snake_case в соответствии с PEP 8."
   ]
  },
  {
   "cell_type": "code",
   "execution_count": 5,
   "id": "35c54121",
   "metadata": {},
   "outputs": [],
   "source": [
    "data.columns = [re.sub(r'(?<!^)(?=[A-Z])', '_', i).lower() for i in data.columns]"
   ]
  },
  {
   "cell_type": "markdown",
   "id": "6dd95c8a",
   "metadata": {},
   "source": [
    "#### Удаление неинформативных столбцов"
   ]
  },
  {
   "cell_type": "markdown",
   "id": "a137fdef",
   "metadata": {},
   "source": [
    "Построим таблицу корреляций."
   ]
  },
  {
   "cell_type": "code",
   "execution_count": 6,
   "id": "565c4b59",
   "metadata": {},
   "outputs": [
    {
     "data": {
      "image/png": "[encoded data removed]",
      "text/plain": [
       "<Figure size 640x480 with 2 Axes>"
      ]
     },
     "metadata": {},
     "output_type": "display_data"
    }
   ],
   "source": [
    "sns.heatmap(data.corr(), annot=True);            "
   ]
  },
  {
   "cell_type": "markdown",
   "id": "ba4b5a77",
   "metadata": {},
   "source": [
    "Перед тем, как удалять даты, посмотрим самые поздние, чтобы понять, о каком времени вообще идет речь. Для этого сначала переведем дату в нужный формат."
   ]
  },
  {
   "cell_type": "code",
   "execution_count": 7,
   "id": "414ca0cd",
   "metadata": {},
   "outputs": [
    {
     "data": {
      "text/plain": [
       "Timestamp('2016-04-07 14:36:58')"
      ]
     },
     "execution_count": 7,
     "metadata": {},
     "output_type": "execute_result"
    }
   ],
   "source": [
    "data['date_crawled'] = pd.to_datetime(data['date_crawled'], format='%Y-%m-%d %H:%M:%S')\n",
    "data['date_crawled'].max()"
   ]
  },
  {
   "cell_type": "markdown",
   "id": "a83099d8",
   "metadata": {},
   "source": [
    "Последний год из указанных в датах скачивания антекты - 2016. Значит, все года регистрации после 2016 - ошибки."
   ]
  },
  {
   "cell_type": "markdown",
   "id": "64d83761",
   "metadata": {},
   "source": [
    "Столбец number_of_pictures удалим, потому что он пуст и потому бесполезен. postal_code имеет крайне низкие корреляции со всеми остальными, к тому же непонятно, как место проживания владельца может быть связано с машиной и ее стоимостью, что кстати можно сказать и про last_seen, registration_month и две другие даты. Их тоже удалим."
   ]
  },
  {
   "cell_type": "code",
   "execution_count": 8,
   "id": "6011bf9e",
   "metadata": {},
   "outputs": [],
   "source": [
    "data.drop(['number_of_pictures', 'last_seen',\n",
    "           'registration_month', 'date_crawled', 'date_created'], axis=1, inplace=True);"
   ]
  },
  {
   "cell_type": "markdown",
   "id": "ae96d701",
   "metadata": {},
   "source": [
    "#### Обработка пропусков"
   ]
  },
  {
   "cell_type": "markdown",
   "id": "1c6c3848",
   "metadata": {},
   "source": [
    "Посмотрим, в каких столбцах сколько пропусков."
   ]
  },
  {
   "cell_type": "code",
   "execution_count": 9,
   "id": "a4034f4c",
   "metadata": {},
   "outputs": [
    {
     "data": {
      "text/plain": [
       "price                    0\n",
       "vehicle_type         37490\n",
       "registration_year        0\n",
       "gearbox              19833\n",
       "power                    0\n",
       "model                19705\n",
       "kilometer                0\n",
       "fuel_type            32895\n",
       "brand                    0\n",
       "repaired             71154\n",
       "postal_code              0\n",
       "dtype: int64"
      ]
     },
     "execution_count": 9,
     "metadata": {},
     "output_type": "execute_result"
    }
   ],
   "source": [
    "data.isna().sum()"
   ]
  },
  {
   "cell_type": "code",
   "execution_count": 10,
   "id": "892eae25",
   "metadata": {},
   "outputs": [
    {
     "name": "stdout",
     "output_type": "stream",
     "text": [
      "В столбце vehicle_type 0.106 пропусков\n",
      "В столбце gearbox 0.056 пропусков\n",
      "В столбце model 0.056 пропусков\n",
      "В столбце fuel_type 0.093 пропусков\n",
      "В столбце repaired 0.201 пропусков\n"
     ]
    }
   ],
   "source": [
    "for column in data.loc[:, data.isnull().any()].columns:\n",
    "    print(f'В столбце {column} {round(data[column].isna().sum()/len(data), 3)} пропусков')"
   ]
  },
  {
   "cell_type": "markdown",
   "id": "b329707d",
   "metadata": {},
   "source": [
    "Модель - важный признак, пропуски не восстановить, таких данных 5,6%. Удалим их. А в оставшихся восстановим по модели vehicle_type, fuel_type и gearbox."
   ]
  },
  {
   "cell_type": "code",
   "execution_count": 11,
   "id": "7acd7bb6",
   "metadata": {},
   "outputs": [
    {
     "data": {
      "text/html": [
       "<div>\n",
       "<style scoped>\n",
       "    .dataframe tbody tr th:only-of-type {\n",
       "        vertical-align: middle;\n",
       "    }\n",
       "\n",
       "    .dataframe tbody tr th {\n",
       "        vertical-align: top;\n",
       "    }\n",
       "\n",
       "    .dataframe thead th {\n",
       "        text-align: right;\n",
       "    }\n",
       "</style>\n",
       "<table border=\"1\" class=\"dataframe\">\n",
       "  <thead>\n",
       "    <tr style=\"text-align: right;\">\n",
       "      <th></th>\n",
       "      <th>vehicle_type</th>\n",
       "      <th>fuel_type</th>\n",
       "      <th>gearbox</th>\n",
       "    </tr>\n",
       "    <tr>\n",
       "      <th>model</th>\n",
       "      <th></th>\n",
       "      <th></th>\n",
       "      <th></th>\n",
       "    </tr>\n",
       "  </thead>\n",
       "  <tbody>\n",
       "    <tr>\n",
       "      <th>100</th>\n",
       "      <td>sedan</td>\n",
       "      <td>petrol</td>\n",
       "      <td>manual</td>\n",
       "    </tr>\n",
       "    <tr>\n",
       "      <th>145</th>\n",
       "      <td>small</td>\n",
       "      <td>petrol</td>\n",
       "      <td>manual</td>\n",
       "    </tr>\n",
       "    <tr>\n",
       "      <th>147</th>\n",
       "      <td>sedan</td>\n",
       "      <td>petrol</td>\n",
       "      <td>manual</td>\n",
       "    </tr>\n",
       "    <tr>\n",
       "      <th>156</th>\n",
       "      <td>wagon</td>\n",
       "      <td>petrol</td>\n",
       "      <td>manual</td>\n",
       "    </tr>\n",
       "    <tr>\n",
       "      <th>159</th>\n",
       "      <td>wagon</td>\n",
       "      <td>gasoline</td>\n",
       "      <td>manual</td>\n",
       "    </tr>\n",
       "  </tbody>\n",
       "</table>\n",
       "</div>"
      ],
      "text/plain": [
       "      vehicle_type fuel_type gearbox\n",
       "model                               \n",
       "100          sedan    petrol  manual\n",
       "145          small    petrol  manual\n",
       "147          sedan    petrol  manual\n",
       "156          wagon    petrol  manual\n",
       "159          wagon  gasoline  manual"
      ]
     },
     "execution_count": 11,
     "metadata": {},
     "output_type": "execute_result"
    }
   ],
   "source": [
    "data = data[~(data['model'].isna())]\n",
    "model_type = data.groupby('model')[['vehicle_type', 'fuel_type', 'gearbox']].agg(pd.Series.mode)\n",
    "model_type.head()"
   ]
  },
  {
   "cell_type": "code",
   "execution_count": 12,
   "id": "7a8d79a1",
   "metadata": {},
   "outputs": [
    {
     "name": "stdout",
     "output_type": "stream",
     "text": [
      "Wall time: 1min 27s\n"
     ]
    }
   ],
   "source": [
    "%%time\n",
    "\n",
    "for i, column in enumerate(['vehicle_type', 'fuel_type', 'gearbox']):\n",
    "    data[column] = data[column].fillna(data['model'].apply(\n",
    "    lambda x: model_type.loc[x][i] if x in model_type.index  else np.nan)).astype('str')"
   ]
  },
  {
   "cell_type": "code",
   "execution_count": 13,
   "id": "959662a4",
   "metadata": {},
   "outputs": [],
   "source": [
    "#табличка больше не нужна\n",
    "del model_type"
   ]
  },
  {
   "cell_type": "markdown",
   "id": "0c640c64",
   "metadata": {},
   "source": [
    "Посмотрим, сколько теперь осталось пропусков."
   ]
  },
  {
   "cell_type": "code",
   "execution_count": 14,
   "id": "210bfe08",
   "metadata": {},
   "outputs": [
    {
     "data": {
      "text/plain": [
       "price                    0\n",
       "vehicle_type             0\n",
       "registration_year        0\n",
       "gearbox                  0\n",
       "power                    0\n",
       "model                    0\n",
       "kilometer                0\n",
       "fuel_type                0\n",
       "brand                    0\n",
       "repaired             62100\n",
       "postal_code              0\n",
       "dtype: int64"
      ]
     },
     "execution_count": 14,
     "metadata": {},
     "output_type": "execute_result"
    }
   ],
   "source": [
    "data.isna().sum()"
   ]
  },
  {
   "cell_type": "markdown",
   "id": "42628a23",
   "metadata": {},
   "source": [
    "Пропусков в Repaired слишком много, чтобы удалить, а восстановить невозможно, поставим на них заглушку \"unknown\"."
   ]
  },
  {
   "cell_type": "code",
   "execution_count": 15,
   "id": "81b62209",
   "metadata": {},
   "outputs": [
    {
     "data": {
      "text/plain": [
       "price                0\n",
       "vehicle_type         0\n",
       "registration_year    0\n",
       "gearbox              0\n",
       "power                0\n",
       "model                0\n",
       "kilometer            0\n",
       "fuel_type            0\n",
       "brand                0\n",
       "repaired             0\n",
       "postal_code          0\n",
       "dtype: int64"
      ]
     },
     "execution_count": 15,
     "metadata": {},
     "output_type": "execute_result"
    }
   ],
   "source": [
    "data[ 'repaired'] = data['repaired'].fillna('unknown')\n",
    "data.isna().sum()"
   ]
  },
  {
   "cell_type": "markdown",
   "id": "a776423e",
   "metadata": {},
   "source": [
    "Пропусков больше нет."
   ]
  },
  {
   "cell_type": "code",
   "execution_count": 16,
   "id": "aea2a9ac",
   "metadata": {},
   "outputs": [
    {
     "name": "stdout",
     "output_type": "stream",
     "text": [
      "<class 'pandas.core.frame.DataFrame'>\n",
      "Int64Index: 334664 entries, 0 to 354368\n",
      "Data columns (total 11 columns):\n",
      " #   Column             Non-Null Count   Dtype \n",
      "---  ------             --------------   ----- \n",
      " 0   price              334664 non-null  int64 \n",
      " 1   vehicle_type       334664 non-null  object\n",
      " 2   registration_year  334664 non-null  int64 \n",
      " 3   gearbox            334664 non-null  object\n",
      " 4   power              334664 non-null  int64 \n",
      " 5   model              334664 non-null  object\n",
      " 6   kilometer          334664 non-null  int64 \n",
      " 7   fuel_type          334664 non-null  object\n",
      " 8   brand              334664 non-null  object\n",
      " 9   repaired           334664 non-null  object\n",
      " 10  postal_code        334664 non-null  int64 \n",
      "dtypes: int64(5), object(6)\n",
      "memory usage: 30.6+ MB\n"
     ]
    }
   ],
   "source": [
    "data.info()"
   ]
  },
  {
   "cell_type": "markdown",
   "id": "227c39bc",
   "metadata": {},
   "source": [
    "#### Обработка аномалий"
   ]
  },
  {
   "cell_type": "markdown",
   "id": "61e2d325",
   "metadata": {},
   "source": [
    "Посмотрим на значения численных признаков: цены, мощности и пробега, а также год и месяц регистрации."
   ]
  },
  {
   "cell_type": "code",
   "execution_count": 17,
   "id": "dfcd9aef",
   "metadata": {
    "scrolled": false
   },
   "outputs": [
    {
     "data": {
      "image/png": "[encoded data removed]",
      "text/plain": [
       "<Figure size 1200x900 with 1 Axes>"
      ]
     },
     "metadata": {},
     "output_type": "display_data"
    },
    {
     "data": {
      "image/png": "[encoded data removed]",
      "text/plain": [
       "<Figure size 1200x900 with 1 Axes>"
      ]
     },
     "metadata": {},
     "output_type": "display_data"
    },
    {
     "data": {
      "image/png": "[encoded data removed]",
      "text/plain": [
       "<Figure size 1200x900 with 1 Axes>"
      ]
     },
     "metadata": {},
     "output_type": "display_data"
    },
    {
     "data": {
      "image/png": "[encoded data removed]",
      "text/plain": [
       "<Figure size 1200x900 with 1 Axes>"
      ]
     },
     "metadata": {},
     "output_type": "display_data"
    }
   ],
   "source": [
    "for column in ['price', 'power', 'kilometer', 'registration_year']:\n",
    "    data[column].plot.hist(bins=30, figsize=(12,9));\n",
    "    plt.title(f'Распределение признака {column}')\n",
    "    plt.ylabel('Частота появления')\n",
    "    plt.xlabel('Значение')\n",
    "    plt.show()"
   ]
  },
  {
   "cell_type": "markdown",
   "id": "59500164",
   "metadata": {},
   "source": [
    "Пробег в порядке, а с другими есть проблемы: у цены есть много нулевых и околонулевых значений, у мощности есть нереалистично большие значения, года есть и слишком давние и, судя по всему, еще не наступившие. Цена это целевой признак, аномалии в нем приведут к неправильному обучению модели, удалим все, что меньше 4 квантиля. *(взяла 4, потому что первые 2 нули, третий - 20, а вот 4 - 150. За 15к рублей, что сейчас и есть 150 евро, можно на авито купить раздолбаный москвич, который условно на ходу, а признака \"не на ходу\" в датасете нет.)*"
   ]
  },
  {
   "cell_type": "code",
   "execution_count": 18,
   "id": "6b099084",
   "metadata": {},
   "outputs": [],
   "source": [
    "data = data[data['price'] > data['price'].quantile(0.04)]"
   ]
  },
  {
   "cell_type": "markdown",
   "id": "825aeef5",
   "metadata": {},
   "source": [
    "Мощность уже не целевой признак, поэтому здесь можно заменить значения аномалий. Например, заполнить средним знаечнием по модели, как и пропуски по типам. Фильтры по мощности на том же авито заканчиваются на 500л.с.: есть 510, 521, 555. Возьмем верхнюю границу в 600л.с. Нижнюю на 20 (есть ОКА, у которой 29л.с.)"
   ]
  },
  {
   "cell_type": "code",
   "execution_count": 19,
   "id": "7dbbade0",
   "metadata": {},
   "outputs": [],
   "source": [
    "data.loc[(data['power'] > 600) | (data['power'] < 20),'power'] = np.nan\n",
    "data['power'] = data['power'].fillna(data.groupby('model')['power'].transform('median'))\n",
    "data = data.dropna()"
   ]
  },
  {
   "cell_type": "markdown",
   "id": "d67fedb9",
   "metadata": {},
   "source": [
    "Посмотрим на автомобили с очень старой регистрацией. Можно сразу удалить те, у которых год регистрации меньше 1936 - это год основания ГАИ. Нет ГАИ - нет регистрации. "
   ]
  },
  {
   "cell_type": "code",
   "execution_count": 20,
   "id": "d95431ec",
   "metadata": {
    "scrolled": false
   },
   "outputs": [
    {
     "data": {
      "text/html": [
       "<div>\n",
       "<style scoped>\n",
       "    .dataframe tbody tr th:only-of-type {\n",
       "        vertical-align: middle;\n",
       "    }\n",
       "\n",
       "    .dataframe tbody tr th {\n",
       "        vertical-align: top;\n",
       "    }\n",
       "\n",
       "    .dataframe thead th {\n",
       "        text-align: right;\n",
       "    }\n",
       "</style>\n",
       "<table border=\"1\" class=\"dataframe\">\n",
       "  <thead>\n",
       "    <tr style=\"text-align: right;\">\n",
       "      <th></th>\n",
       "      <th>price</th>\n",
       "      <th>vehicle_type</th>\n",
       "      <th>registration_year</th>\n",
       "      <th>gearbox</th>\n",
       "      <th>power</th>\n",
       "      <th>model</th>\n",
       "      <th>kilometer</th>\n",
       "      <th>fuel_type</th>\n",
       "      <th>brand</th>\n",
       "      <th>repaired</th>\n",
       "      <th>postal_code</th>\n",
       "    </tr>\n",
       "  </thead>\n",
       "  <tbody>\n",
       "    <tr>\n",
       "      <th>1928</th>\n",
       "      <td>7000</td>\n",
       "      <td>suv</td>\n",
       "      <td>1945</td>\n",
       "      <td>manual</td>\n",
       "      <td>48.0</td>\n",
       "      <td>other</td>\n",
       "      <td>150000</td>\n",
       "      <td>petrol</td>\n",
       "      <td>volkswagen</td>\n",
       "      <td>no</td>\n",
       "      <td>58135</td>\n",
       "    </tr>\n",
       "    <tr>\n",
       "      <th>27525</th>\n",
       "      <td>13300</td>\n",
       "      <td>sedan</td>\n",
       "      <td>1949</td>\n",
       "      <td>manual</td>\n",
       "      <td>99.0</td>\n",
       "      <td>other</td>\n",
       "      <td>60000</td>\n",
       "      <td>petrol</td>\n",
       "      <td>chrysler</td>\n",
       "      <td>unknown</td>\n",
       "      <td>28279</td>\n",
       "    </tr>\n",
       "    <tr>\n",
       "      <th>33638</th>\n",
       "      <td>5400</td>\n",
       "      <td>small</td>\n",
       "      <td>1937</td>\n",
       "      <td>manual</td>\n",
       "      <td>116.0</td>\n",
       "      <td>other</td>\n",
       "      <td>20000</td>\n",
       "      <td>petrol</td>\n",
       "      <td>opel</td>\n",
       "      <td>no</td>\n",
       "      <td>7907</td>\n",
       "    </tr>\n",
       "    <tr>\n",
       "      <th>34055</th>\n",
       "      <td>2900</td>\n",
       "      <td>small</td>\n",
       "      <td>1937</td>\n",
       "      <td>manual</td>\n",
       "      <td>34.0</td>\n",
       "      <td>other</td>\n",
       "      <td>40000</td>\n",
       "      <td>petrol</td>\n",
       "      <td>ford</td>\n",
       "      <td>yes</td>\n",
       "      <td>33378</td>\n",
       "    </tr>\n",
       "    <tr>\n",
       "      <th>37953</th>\n",
       "      <td>9500</td>\n",
       "      <td>other</td>\n",
       "      <td>1937</td>\n",
       "      <td>manual</td>\n",
       "      <td>116.0</td>\n",
       "      <td>other</td>\n",
       "      <td>20000</td>\n",
       "      <td>petrol</td>\n",
       "      <td>ford</td>\n",
       "      <td>unknown</td>\n",
       "      <td>48599</td>\n",
       "    </tr>\n",
       "    <tr>\n",
       "      <th>52323</th>\n",
       "      <td>500</td>\n",
       "      <td>small</td>\n",
       "      <td>1945</td>\n",
       "      <td>manual</td>\n",
       "      <td>101.0</td>\n",
       "      <td>astra</td>\n",
       "      <td>100000</td>\n",
       "      <td>petrol</td>\n",
       "      <td>opel</td>\n",
       "      <td>yes</td>\n",
       "      <td>1723</td>\n",
       "    </tr>\n",
       "    <tr>\n",
       "      <th>74942</th>\n",
       "      <td>12000</td>\n",
       "      <td>suv</td>\n",
       "      <td>1945</td>\n",
       "      <td>manual</td>\n",
       "      <td>45.0</td>\n",
       "      <td>other</td>\n",
       "      <td>50000</td>\n",
       "      <td>petrol</td>\n",
       "      <td>volkswagen</td>\n",
       "      <td>no</td>\n",
       "      <td>51065</td>\n",
       "    </tr>\n",
       "    <tr>\n",
       "      <th>76529</th>\n",
       "      <td>4800</td>\n",
       "      <td>sedan</td>\n",
       "      <td>1937</td>\n",
       "      <td>manual</td>\n",
       "      <td>38.0</td>\n",
       "      <td>other</td>\n",
       "      <td>5000</td>\n",
       "      <td>petrol</td>\n",
       "      <td>mercedes_benz</td>\n",
       "      <td>unknown</td>\n",
       "      <td>23936</td>\n",
       "    </tr>\n",
       "    <tr>\n",
       "      <th>88033</th>\n",
       "      <td>6999</td>\n",
       "      <td>suv</td>\n",
       "      <td>1942</td>\n",
       "      <td>manual</td>\n",
       "      <td>72.0</td>\n",
       "      <td>other</td>\n",
       "      <td>150000</td>\n",
       "      <td>gasoline</td>\n",
       "      <td>jeep</td>\n",
       "      <td>no</td>\n",
       "      <td>63925</td>\n",
       "    </tr>\n",
       "    <tr>\n",
       "      <th>108326</th>\n",
       "      <td>14000</td>\n",
       "      <td>sedan</td>\n",
       "      <td>1936</td>\n",
       "      <td>manual</td>\n",
       "      <td>69.0</td>\n",
       "      <td>500</td>\n",
       "      <td>5000</td>\n",
       "      <td>petrol</td>\n",
       "      <td>fiat</td>\n",
       "      <td>no</td>\n",
       "      <td>90518</td>\n",
       "    </tr>\n",
       "    <tr>\n",
       "      <th>144046</th>\n",
       "      <td>15999</td>\n",
       "      <td>suv</td>\n",
       "      <td>1943</td>\n",
       "      <td>manual</td>\n",
       "      <td>54.0</td>\n",
       "      <td>other</td>\n",
       "      <td>50000</td>\n",
       "      <td>gasoline</td>\n",
       "      <td>jeep</td>\n",
       "      <td>no</td>\n",
       "      <td>14532</td>\n",
       "    </tr>\n",
       "    <tr>\n",
       "      <th>146207</th>\n",
       "      <td>12999</td>\n",
       "      <td>small</td>\n",
       "      <td>1938</td>\n",
       "      <td>manual</td>\n",
       "      <td>40.0</td>\n",
       "      <td>2_reihe</td>\n",
       "      <td>70000</td>\n",
       "      <td>petrol</td>\n",
       "      <td>peugeot</td>\n",
       "      <td>no</td>\n",
       "      <td>54673</td>\n",
       "    </tr>\n",
       "    <tr>\n",
       "      <th>167262</th>\n",
       "      <td>6500</td>\n",
       "      <td>suv</td>\n",
       "      <td>1943</td>\n",
       "      <td>manual</td>\n",
       "      <td>116.0</td>\n",
       "      <td>other</td>\n",
       "      <td>5000</td>\n",
       "      <td>petrol</td>\n",
       "      <td>volkswagen</td>\n",
       "      <td>no</td>\n",
       "      <td>88131</td>\n",
       "    </tr>\n",
       "    <tr>\n",
       "      <th>174278</th>\n",
       "      <td>20000</td>\n",
       "      <td>sedan</td>\n",
       "      <td>1936</td>\n",
       "      <td>manual</td>\n",
       "      <td>23.0</td>\n",
       "      <td>other</td>\n",
       "      <td>30000</td>\n",
       "      <td>petrol</td>\n",
       "      <td>opel</td>\n",
       "      <td>unknown</td>\n",
       "      <td>66879</td>\n",
       "    </tr>\n",
       "    <tr>\n",
       "      <th>188344</th>\n",
       "      <td>10700</td>\n",
       "      <td>suv</td>\n",
       "      <td>1941</td>\n",
       "      <td>manual</td>\n",
       "      <td>116.0</td>\n",
       "      <td>other</td>\n",
       "      <td>150000</td>\n",
       "      <td>petrol</td>\n",
       "      <td>jeep</td>\n",
       "      <td>unknown</td>\n",
       "      <td>70806</td>\n",
       "    </tr>\n",
       "    <tr>\n",
       "      <th>230679</th>\n",
       "      <td>7500</td>\n",
       "      <td>suv</td>\n",
       "      <td>1942</td>\n",
       "      <td>manual</td>\n",
       "      <td>72.0</td>\n",
       "      <td>other</td>\n",
       "      <td>100000</td>\n",
       "      <td>gasoline</td>\n",
       "      <td>jeep</td>\n",
       "      <td>no</td>\n",
       "      <td>63925</td>\n",
       "    </tr>\n",
       "    <tr>\n",
       "      <th>247198</th>\n",
       "      <td>5500</td>\n",
       "      <td>sedan</td>\n",
       "      <td>1937</td>\n",
       "      <td>manual</td>\n",
       "      <td>116.0</td>\n",
       "      <td>other</td>\n",
       "      <td>30000</td>\n",
       "      <td>petrol</td>\n",
       "      <td>opel</td>\n",
       "      <td>no</td>\n",
       "      <td>7907</td>\n",
       "    </tr>\n",
       "    <tr>\n",
       "      <th>271260</th>\n",
       "      <td>5000</td>\n",
       "      <td>sedan</td>\n",
       "      <td>1938</td>\n",
       "      <td>manual</td>\n",
       "      <td>75.0</td>\n",
       "      <td>kadett</td>\n",
       "      <td>5000</td>\n",
       "      <td>petrol</td>\n",
       "      <td>opel</td>\n",
       "      <td>unknown</td>\n",
       "      <td>36369</td>\n",
       "    </tr>\n",
       "    <tr>\n",
       "      <th>298981</th>\n",
       "      <td>17800</td>\n",
       "      <td>coupe</td>\n",
       "      <td>1947</td>\n",
       "      <td>manual</td>\n",
       "      <td>116.0</td>\n",
       "      <td>other</td>\n",
       "      <td>150000</td>\n",
       "      <td>petrol</td>\n",
       "      <td>ford</td>\n",
       "      <td>unknown</td>\n",
       "      <td>64823</td>\n",
       "    </tr>\n",
       "    <tr>\n",
       "      <th>303458</th>\n",
       "      <td>1000</td>\n",
       "      <td>small</td>\n",
       "      <td>1936</td>\n",
       "      <td>manual</td>\n",
       "      <td>116.0</td>\n",
       "      <td>other</td>\n",
       "      <td>90000</td>\n",
       "      <td>petrol</td>\n",
       "      <td>citroen</td>\n",
       "      <td>unknown</td>\n",
       "      <td>49393</td>\n",
       "    </tr>\n",
       "    <tr>\n",
       "      <th>326241</th>\n",
       "      <td>18250</td>\n",
       "      <td>sedan</td>\n",
       "      <td>1947</td>\n",
       "      <td>auto</td>\n",
       "      <td>130.0</td>\n",
       "      <td>other</td>\n",
       "      <td>90000</td>\n",
       "      <td>petrol</td>\n",
       "      <td>chrysler</td>\n",
       "      <td>no</td>\n",
       "      <td>65582</td>\n",
       "    </tr>\n",
       "    <tr>\n",
       "      <th>335547</th>\n",
       "      <td>9000</td>\n",
       "      <td>sedan</td>\n",
       "      <td>1938</td>\n",
       "      <td>manual</td>\n",
       "      <td>75.0</td>\n",
       "      <td>kadett</td>\n",
       "      <td>5000</td>\n",
       "      <td>petrol</td>\n",
       "      <td>opel</td>\n",
       "      <td>unknown</td>\n",
       "      <td>93437</td>\n",
       "    </tr>\n",
       "    <tr>\n",
       "      <th>338109</th>\n",
       "      <td>7000</td>\n",
       "      <td>coupe</td>\n",
       "      <td>1937</td>\n",
       "      <td>manual</td>\n",
       "      <td>85.0</td>\n",
       "      <td>other</td>\n",
       "      <td>5000</td>\n",
       "      <td>petrol</td>\n",
       "      <td>ford</td>\n",
       "      <td>yes</td>\n",
       "      <td>8359</td>\n",
       "    </tr>\n",
       "    <tr>\n",
       "      <th>346046</th>\n",
       "      <td>18900</td>\n",
       "      <td>suv</td>\n",
       "      <td>1943</td>\n",
       "      <td>manual</td>\n",
       "      <td>60.0</td>\n",
       "      <td>other</td>\n",
       "      <td>150000</td>\n",
       "      <td>petrol</td>\n",
       "      <td>volkswagen</td>\n",
       "      <td>no</td>\n",
       "      <td>51065</td>\n",
       "    </tr>\n",
       "    <tr>\n",
       "      <th>353531</th>\n",
       "      <td>6000</td>\n",
       "      <td>sedan</td>\n",
       "      <td>1937</td>\n",
       "      <td>manual</td>\n",
       "      <td>38.0</td>\n",
       "      <td>other</td>\n",
       "      <td>5000</td>\n",
       "      <td>petrol</td>\n",
       "      <td>mercedes_benz</td>\n",
       "      <td>unknown</td>\n",
       "      <td>23936</td>\n",
       "    </tr>\n",
       "  </tbody>\n",
       "</table>\n",
       "</div>"
      ],
      "text/plain": [
       "        price vehicle_type  registration_year gearbox  power    model  \\\n",
       "1928     7000          suv               1945  manual   48.0    other   \n",
       "27525   13300        sedan               1949  manual   99.0    other   \n",
       "33638    5400        small               1937  manual  116.0    other   \n",
       "34055    2900        small               1937  manual   34.0    other   \n",
       "37953    9500        other               1937  manual  116.0    other   \n",
       "52323     500        small               1945  manual  101.0    astra   \n",
       "74942   12000          suv               1945  manual   45.0    other   \n",
       "76529    4800        sedan               1937  manual   38.0    other   \n",
       "88033    6999          suv               1942  manual   72.0    other   \n",
       "108326  14000        sedan               1936  manual   69.0      500   \n",
       "144046  15999          suv               1943  manual   54.0    other   \n",
       "146207  12999        small               1938  manual   40.0  2_reihe   \n",
       "167262   6500          suv               1943  manual  116.0    other   \n",
       "174278  20000        sedan               1936  manual   23.0    other   \n",
       "188344  10700          suv               1941  manual  116.0    other   \n",
       "230679   7500          suv               1942  manual   72.0    other   \n",
       "247198   5500        sedan               1937  manual  116.0    other   \n",
       "271260   5000        sedan               1938  manual   75.0   kadett   \n",
       "298981  17800        coupe               1947  manual  116.0    other   \n",
       "303458   1000        small               1936  manual  116.0    other   \n",
       "326241  18250        sedan               1947    auto  130.0    other   \n",
       "335547   9000        sedan               1938  manual   75.0   kadett   \n",
       "338109   7000        coupe               1937  manual   85.0    other   \n",
       "346046  18900          suv               1943  manual   60.0    other   \n",
       "353531   6000        sedan               1937  manual   38.0    other   \n",
       "\n",
       "        kilometer fuel_type          brand repaired  postal_code  \n",
       "1928       150000    petrol     volkswagen       no        58135  \n",
       "27525       60000    petrol       chrysler  unknown        28279  \n",
       "33638       20000    petrol           opel       no         7907  \n",
       "34055       40000    petrol           ford      yes        33378  \n",
       "37953       20000    petrol           ford  unknown        48599  \n",
       "52323      100000    petrol           opel      yes         1723  \n",
       "74942       50000    petrol     volkswagen       no        51065  \n",
       "76529        5000    petrol  mercedes_benz  unknown        23936  \n",
       "88033      150000  gasoline           jeep       no        63925  \n",
       "108326       5000    petrol           fiat       no        90518  \n",
       "144046      50000  gasoline           jeep       no        14532  \n",
       "146207      70000    petrol        peugeot       no        54673  \n",
       "167262       5000    petrol     volkswagen       no        88131  \n",
       "174278      30000    petrol           opel  unknown        66879  \n",
       "188344     150000    petrol           jeep  unknown        70806  \n",
       "230679     100000  gasoline           jeep       no        63925  \n",
       "247198      30000    petrol           opel       no         7907  \n",
       "271260       5000    petrol           opel  unknown        36369  \n",
       "298981     150000    petrol           ford  unknown        64823  \n",
       "303458      90000    petrol        citroen  unknown        49393  \n",
       "326241      90000    petrol       chrysler       no        65582  \n",
       "335547       5000    petrol           opel  unknown        93437  \n",
       "338109       5000    petrol           ford      yes         8359  \n",
       "346046     150000    petrol     volkswagen       no        51065  \n",
       "353531       5000    petrol  mercedes_benz  unknown        23936  "
      ]
     },
     "metadata": {},
     "output_type": "display_data"
    }
   ],
   "source": [
    "pd.options.display.max_rows = 100\n",
    "data = data[data['registration_year'] >= 1936]\n",
    "display(data[data['registration_year'] < 1950])"
   ]
  },
  {
   "cell_type": "markdown",
   "id": "58fe2719",
   "metadata": {},
   "source": [
    "Интернет говорит, что компании-производители автомобилей, оказывается, существуют очень давно. Так что вполне реальна ситуация, где человек купил, зарегистрировал, поставил в гараж, чтобы НКВД не задало вопросов, а теперь продает. Мало ли. Есть очевидные ошибки: fiat 500 - это модель из 2007, а opel astra начали производить только в 1991. А chrysler начал делать автоматические коробки передач только в 1953г. Удалим их, остальные оставим.\n",
    "\n",
    "*Я за экологию, чистый воздух и все такое, в машинах совсем не шарю. Вроде как надо было в 1993 году все перерегистрировать, чтобы номера были уже российские, а не советские, даже статья есть про несоответствие номеров ГОСТу есть. Но получается, по закону ездить на такой машине нельзя, а в гараже хранить и продавать можно, новый владелец должен как-то сам заново регистрироваться. Машин с годом регистрации до 93 - 10 тыс. штук, не критично много, можно их конечно удалить, но тогда модель не научится оценивать такие ситуации. Например, opel kadett 1938г довольно реален.*"
   ]
  },
  {
   "cell_type": "code",
   "execution_count": 21,
   "id": "a38b3df2",
   "metadata": {},
   "outputs": [],
   "source": [
    "data = data.drop (index=[52323, 108326, 326241])"
   ]
  },
  {
   "cell_type": "markdown",
   "id": "7c5f7951",
   "metadata": {},
   "source": [
    "Проверим, нет ли машин с регистрацией из будущего - то есть после 2016 года."
   ]
  },
  {
   "cell_type": "code",
   "execution_count": 22,
   "id": "7ce95c41",
   "metadata": {},
   "outputs": [
    {
     "data": {
      "text/html": [
       "<div>\n",
       "<style scoped>\n",
       "    .dataframe tbody tr th:only-of-type {\n",
       "        vertical-align: middle;\n",
       "    }\n",
       "\n",
       "    .dataframe tbody tr th {\n",
       "        vertical-align: top;\n",
       "    }\n",
       "\n",
       "    .dataframe thead th {\n",
       "        text-align: right;\n",
       "    }\n",
       "</style>\n",
       "<table border=\"1\" class=\"dataframe\">\n",
       "  <thead>\n",
       "    <tr style=\"text-align: right;\">\n",
       "      <th></th>\n",
       "      <th>price</th>\n",
       "      <th>vehicle_type</th>\n",
       "      <th>registration_year</th>\n",
       "      <th>gearbox</th>\n",
       "      <th>power</th>\n",
       "      <th>model</th>\n",
       "      <th>kilometer</th>\n",
       "      <th>fuel_type</th>\n",
       "      <th>brand</th>\n",
       "      <th>repaired</th>\n",
       "      <th>postal_code</th>\n",
       "    </tr>\n",
       "  </thead>\n",
       "  <tbody>\n",
       "    <tr>\n",
       "      <th>22</th>\n",
       "      <td>2900</td>\n",
       "      <td>bus</td>\n",
       "      <td>2018</td>\n",
       "      <td>manual</td>\n",
       "      <td>90.0</td>\n",
       "      <td>meriva</td>\n",
       "      <td>150000</td>\n",
       "      <td>petrol</td>\n",
       "      <td>opel</td>\n",
       "      <td>no</td>\n",
       "      <td>49716</td>\n",
       "    </tr>\n",
       "    <tr>\n",
       "      <th>26</th>\n",
       "      <td>5555</td>\n",
       "      <td>sedan</td>\n",
       "      <td>2017</td>\n",
       "      <td>manual</td>\n",
       "      <td>125.0</td>\n",
       "      <td>c4</td>\n",
       "      <td>125000</td>\n",
       "      <td>gasoline</td>\n",
       "      <td>citroen</td>\n",
       "      <td>no</td>\n",
       "      <td>31139</td>\n",
       "    </tr>\n",
       "    <tr>\n",
       "      <th>48</th>\n",
       "      <td>7750</td>\n",
       "      <td>sedan</td>\n",
       "      <td>2017</td>\n",
       "      <td>manual</td>\n",
       "      <td>80.0</td>\n",
       "      <td>golf</td>\n",
       "      <td>100000</td>\n",
       "      <td>petrol</td>\n",
       "      <td>volkswagen</td>\n",
       "      <td>unknown</td>\n",
       "      <td>48499</td>\n",
       "    </tr>\n",
       "    <tr>\n",
       "      <th>51</th>\n",
       "      <td>2000</td>\n",
       "      <td>small</td>\n",
       "      <td>2017</td>\n",
       "      <td>manual</td>\n",
       "      <td>90.0</td>\n",
       "      <td>punto</td>\n",
       "      <td>150000</td>\n",
       "      <td>gasoline</td>\n",
       "      <td>fiat</td>\n",
       "      <td>yes</td>\n",
       "      <td>66115</td>\n",
       "    </tr>\n",
       "    <tr>\n",
       "      <th>57</th>\n",
       "      <td>2399</td>\n",
       "      <td>sedan</td>\n",
       "      <td>2018</td>\n",
       "      <td>manual</td>\n",
       "      <td>64.0</td>\n",
       "      <td>other</td>\n",
       "      <td>125000</td>\n",
       "      <td>petrol</td>\n",
       "      <td>seat</td>\n",
       "      <td>no</td>\n",
       "      <td>33397</td>\n",
       "    </tr>\n",
       "    <tr>\n",
       "      <th>...</th>\n",
       "      <td>...</td>\n",
       "      <td>...</td>\n",
       "      <td>...</td>\n",
       "      <td>...</td>\n",
       "      <td>...</td>\n",
       "      <td>...</td>\n",
       "      <td>...</td>\n",
       "      <td>...</td>\n",
       "      <td>...</td>\n",
       "      <td>...</td>\n",
       "      <td>...</td>\n",
       "    </tr>\n",
       "    <tr>\n",
       "      <th>354112</th>\n",
       "      <td>3600</td>\n",
       "      <td>bus</td>\n",
       "      <td>2017</td>\n",
       "      <td>manual</td>\n",
       "      <td>86.0</td>\n",
       "      <td>transit</td>\n",
       "      <td>150000</td>\n",
       "      <td>gasoline</td>\n",
       "      <td>ford</td>\n",
       "      <td>unknown</td>\n",
       "      <td>32339</td>\n",
       "    </tr>\n",
       "    <tr>\n",
       "      <th>354140</th>\n",
       "      <td>1000</td>\n",
       "      <td>wagon</td>\n",
       "      <td>2017</td>\n",
       "      <td>manual</td>\n",
       "      <td>101.0</td>\n",
       "      <td>a4</td>\n",
       "      <td>150000</td>\n",
       "      <td>gasoline</td>\n",
       "      <td>audi</td>\n",
       "      <td>unknown</td>\n",
       "      <td>38315</td>\n",
       "    </tr>\n",
       "    <tr>\n",
       "      <th>354203</th>\n",
       "      <td>2140</td>\n",
       "      <td>small</td>\n",
       "      <td>2018</td>\n",
       "      <td>manual</td>\n",
       "      <td>80.0</td>\n",
       "      <td>fiesta</td>\n",
       "      <td>150000</td>\n",
       "      <td>petrol</td>\n",
       "      <td>ford</td>\n",
       "      <td>no</td>\n",
       "      <td>44866</td>\n",
       "    </tr>\n",
       "    <tr>\n",
       "      <th>354253</th>\n",
       "      <td>1250</td>\n",
       "      <td>small</td>\n",
       "      <td>2018</td>\n",
       "      <td>manual</td>\n",
       "      <td>60.0</td>\n",
       "      <td>corsa</td>\n",
       "      <td>150000</td>\n",
       "      <td>petrol</td>\n",
       "      <td>opel</td>\n",
       "      <td>unknown</td>\n",
       "      <td>45527</td>\n",
       "    </tr>\n",
       "    <tr>\n",
       "      <th>354289</th>\n",
       "      <td>5000</td>\n",
       "      <td>sedan</td>\n",
       "      <td>2017</td>\n",
       "      <td>manual</td>\n",
       "      <td>120.0</td>\n",
       "      <td>other</td>\n",
       "      <td>150000</td>\n",
       "      <td>petrol</td>\n",
       "      <td>citroen</td>\n",
       "      <td>yes</td>\n",
       "      <td>15518</td>\n",
       "    </tr>\n",
       "  </tbody>\n",
       "</table>\n",
       "<p>11804 rows × 11 columns</p>\n",
       "</div>"
      ],
      "text/plain": [
       "        price vehicle_type  registration_year gearbox  power    model  \\\n",
       "22       2900          bus               2018  manual   90.0   meriva   \n",
       "26       5555        sedan               2017  manual  125.0       c4   \n",
       "48       7750        sedan               2017  manual   80.0     golf   \n",
       "51       2000        small               2017  manual   90.0    punto   \n",
       "57       2399        sedan               2018  manual   64.0    other   \n",
       "...       ...          ...                ...     ...    ...      ...   \n",
       "354112   3600          bus               2017  manual   86.0  transit   \n",
       "354140   1000        wagon               2017  manual  101.0       a4   \n",
       "354203   2140        small               2018  manual   80.0   fiesta   \n",
       "354253   1250        small               2018  manual   60.0    corsa   \n",
       "354289   5000        sedan               2017  manual  120.0    other   \n",
       "\n",
       "        kilometer fuel_type       brand repaired  postal_code  \n",
       "22         150000    petrol        opel       no        49716  \n",
       "26         125000  gasoline     citroen       no        31139  \n",
       "48         100000    petrol  volkswagen  unknown        48499  \n",
       "51         150000  gasoline        fiat      yes        66115  \n",
       "57         125000    petrol        seat       no        33397  \n",
       "...           ...       ...         ...      ...          ...  \n",
       "354112     150000  gasoline        ford  unknown        32339  \n",
       "354140     150000  gasoline        audi  unknown        38315  \n",
       "354203     150000    petrol        ford       no        44866  \n",
       "354253     150000    petrol        opel  unknown        45527  \n",
       "354289     150000    petrol     citroen      yes        15518  \n",
       "\n",
       "[11804 rows x 11 columns]"
      ]
     },
     "metadata": {},
     "output_type": "display_data"
    },
    {
     "data": {
      "text/plain": [
       "11804"
      ]
     },
     "execution_count": 22,
     "metadata": {},
     "output_type": "execute_result"
    }
   ],
   "source": [
    "display(data[data['registration_year'] > 2016])\n",
    "len(data[data['registration_year'] > 2016])"
   ]
  },
  {
   "cell_type": "markdown",
   "id": "cfcbbf87",
   "metadata": {},
   "source": [
    "Много, но что поделать, они явно ошибочные. Удалим их."
   ]
  },
  {
   "cell_type": "code",
   "execution_count": 23,
   "id": "80c5ebcf",
   "metadata": {},
   "outputs": [],
   "source": [
    "data = data[data['registration_year'] <= 2016]"
   ]
  },
  {
   "cell_type": "code",
   "execution_count": 24,
   "id": "e227d534",
   "metadata": {},
   "outputs": [
    {
     "name": "stdout",
     "output_type": "stream",
     "text": [
      "<class 'pandas.core.frame.DataFrame'>\n",
      "Int64Index: 309309 entries, 0 to 354368\n",
      "Data columns (total 11 columns):\n",
      " #   Column             Non-Null Count   Dtype  \n",
      "---  ------             --------------   -----  \n",
      " 0   price              309309 non-null  int64  \n",
      " 1   vehicle_type       309309 non-null  object \n",
      " 2   registration_year  309309 non-null  int64  \n",
      " 3   gearbox            309309 non-null  object \n",
      " 4   power              309309 non-null  float64\n",
      " 5   model              309309 non-null  object \n",
      " 6   kilometer          309309 non-null  int64  \n",
      " 7   fuel_type          309309 non-null  object \n",
      " 8   brand              309309 non-null  object \n",
      " 9   repaired           309309 non-null  object \n",
      " 10  postal_code        309309 non-null  int64  \n",
      "dtypes: float64(1), int64(4), object(6)\n",
      "memory usage: 28.3+ MB\n"
     ]
    }
   ],
   "source": [
    "data.info()"
   ]
  },
  {
   "cell_type": "markdown",
   "id": "ff46aa2a",
   "metadata": {},
   "source": [
    "#### Проверка наличия дубликатов"
   ]
  },
  {
   "cell_type": "markdown",
   "id": "b2a8efe9",
   "metadata": {},
   "source": [
    "Проверим, есть ли явные дубликаты."
   ]
  },
  {
   "cell_type": "code",
   "execution_count": 25,
   "id": "2a7861de",
   "metadata": {},
   "outputs": [
    {
     "data": {
      "text/plain": [
       "22464"
      ]
     },
     "execution_count": 25,
     "metadata": {},
     "output_type": "execute_result"
    }
   ],
   "source": [
    "data.duplicated().sum()"
   ]
  },
  {
   "cell_type": "markdown",
   "id": "e211b6ec",
   "metadata": {},
   "source": [
    "Есть явные дубликаты, удалим их."
   ]
  },
  {
   "cell_type": "code",
   "execution_count": 26,
   "id": "e0b9307f",
   "metadata": {},
   "outputs": [
    {
     "data": {
      "text/plain": [
       "(286845, 11)"
      ]
     },
     "execution_count": 26,
     "metadata": {},
     "output_type": "execute_result"
    }
   ],
   "source": [
    "data.drop_duplicates(inplace=True, ignore_index=True)\n",
    "data.shape"
   ]
  },
  {
   "cell_type": "markdown",
   "id": "0d909f6e",
   "metadata": {},
   "source": [
    "Искать неявные дубликаты проблематично - одну и ту же модель, даже одну и ту же машину могут продавать по нескольку раз. "
   ]
  },
  {
   "cell_type": "markdown",
   "id": "ca32f1fb",
   "metadata": {},
   "source": [
    "#### Деление на выборки"
   ]
  },
  {
   "cell_type": "markdown",
   "id": "bcd89c64",
   "metadata": {},
   "source": [
    "Разделим данные на признаки и таргет, создадим списки с названиями столбцов категориальных и численных признаков, а также преобразуем категориальные данные в строки на случай, если какие-то категории заданы числами. Исходный датасет больше не нужен, удалим его."
   ]
  },
  {
   "cell_type": "code",
   "execution_count": 27,
   "id": "70486c99",
   "metadata": {},
   "outputs": [],
   "source": [
    "features = data.drop(['price'], axis=1)\n",
    "target = data['price']\n",
    "\n",
    "cat_features_names = features.select_dtypes(include='object').columns.to_list()\n",
    "num_features_names = features.select_dtypes(exclude='object').columns.to_list()\n",
    "\n",
    "features[cat_features_names] = features[cat_features_names].astype('str')\n",
    "\n",
    "X_train_raw, X_test_raw, y_train, y_test = train_test_split(\n",
    "    features, target, test_size=0.25, random_state=RANDOM_STATE)"
   ]
  },
  {
   "cell_type": "code",
   "execution_count": 28,
   "id": "206ee684",
   "metadata": {},
   "outputs": [],
   "source": [
    "del data, features, target"
   ]
  },
  {
   "cell_type": "markdown",
   "id": "8177cde0",
   "metadata": {},
   "source": [
    "#### Вывод по предобработке."
   ]
  },
  {
   "cell_type": "markdown",
   "id": "cf961553",
   "metadata": {},
   "source": [
    "Датасет подготовлен к работе: удалены неинформативные столбцы, дубликаты, обработаны пропуски и аномалии, данные разделены на выборки. Удалено 20% данных."
   ]
  },
  {
   "cell_type": "markdown",
   "id": "597033e9",
   "metadata": {},
   "source": [
    "## Обучение моделей"
   ]
  },
  {
   "cell_type": "markdown",
   "id": "55cb33fe",
   "metadata": {},
   "source": [
    "### Подготовка признаков"
   ]
  },
  {
   "cell_type": "markdown",
   "id": "603ec9b6",
   "metadata": {},
   "source": [
    "Категориальные признаки закодируем с помощью OneHotEncoder, а численные отмасштабируем StandartScaler-ом."
   ]
  },
  {
   "cell_type": "code",
   "execution_count": 29,
   "id": "38531733",
   "metadata": {},
   "outputs": [],
   "source": [
    "transformer = make_column_transformer((OneHotEncoder(drop='first', handle_unknown='ignore'), cat_features_names), \n",
    "                                      (StandardScaler(), num_features_names),\n",
    "                                       remainder='passthrough')"
   ]
  },
  {
   "cell_type": "code",
   "execution_count": 30,
   "id": "684cc9ff",
   "metadata": {},
   "outputs": [],
   "source": [
    "#на тренировочной выборке fit_transform\n",
    "X_train = pd.DataFrame.sparse.from_spmatrix(transformer.fit_transform(X_train_raw), \n",
    "                                                columns=transformer.get_feature_names_out())\n",
    "#на тестовой только transform\n",
    "X_test = pd.DataFrame.sparse.from_spmatrix(transformer.transform(X_test_raw), \n",
    "                                                columns=transformer.get_feature_names_out())"
   ]
  },
  {
   "cell_type": "markdown",
   "id": "22f1c438",
   "metadata": {},
   "source": [
    "Выборки готовы."
   ]
  },
  {
   "cell_type": "markdown",
   "id": "3bed674e",
   "metadata": {},
   "source": [
    "### Обучение моделей"
   ]
  },
  {
   "cell_type": "markdown",
   "id": "eebfdc93",
   "metadata": {},
   "source": [
    "Рассмотрим LightGBM, RandomForestRegressor и линейную регрессию - обычную, Lasso и Ridge."
   ]
  },
  {
   "cell_type": "code",
   "execution_count": 31,
   "id": "b180108b",
   "metadata": {},
   "outputs": [],
   "source": [
    "models = ['Linear', 'Lasso', 'Ridge', 'RFR', 'LGB']\n",
    "result_list = []\n",
    "fit_time_list = []\n",
    "pred_time_list = []\n",
    "score = make_scorer(mean_squared_error, squared=False, greater_is_better = False)"
   ]
  },
  {
   "cell_type": "markdown",
   "id": "60132713",
   "metadata": {},
   "source": [
    "Функция для тренировки моделей"
   ]
  },
  {
   "cell_type": "code",
   "execution_count": 32,
   "id": "2d0941b2",
   "metadata": {},
   "outputs": [],
   "source": [
    "def model_run (model, X_train, y_train):\n",
    "    \n",
    "    rmse = cross_val_score(model, X_train, y_train, cv=3, scoring=score, n_jobs=-1)\n",
    "    \n",
    "    start_time = time.time()\n",
    "    model.fit(X_train, y_train)\n",
    "    end_time = time.time()\n",
    "    fit_time = end_time - start_time\n",
    "\n",
    "    start_time = time.time()\n",
    "    model.predict(X_train)\n",
    "    end_time = time.time()\n",
    "    pred_time = end_time - start_time\n",
    "  \n",
    "    return rmse, fit_time, pred_time, model"
   ]
  },
  {
   "cell_type": "markdown",
   "id": "63571781",
   "metadata": {},
   "source": [
    "#### Линейная регрессия"
   ]
  },
  {
   "cell_type": "code",
   "execution_count": 33,
   "id": "5866e296",
   "metadata": {},
   "outputs": [
    {
     "name": "stdout",
     "output_type": "stream",
     "text": [
      "-2624.808156745459\n",
      "Wall time: 22.2 s\n"
     ]
    }
   ],
   "source": [
    "%%time\n",
    "\n",
    "model_LR = LinearRegression()\n",
    "\n",
    "result_LR = model_run(model_LR, X_train, y_train)\n",
    "\n",
    "result_list.append(result_LR[0].mean())\n",
    "fit_time_list.append(result_LR[1])\n",
    "pred_time_list.append(result_LR[2])\n",
    "\n",
    "print(result_LR[0].mean())"
   ]
  },
  {
   "cell_type": "markdown",
   "id": "bf77ed2a",
   "metadata": {},
   "source": [
    "#### Lasso и Ridge"
   ]
  },
  {
   "cell_type": "code",
   "execution_count": 34,
   "id": "908c0185",
   "metadata": {},
   "outputs": [
    {
     "name": "stdout",
     "output_type": "stream",
     "text": [
      "(array([-2672.99489029, -2656.17400402, -2639.76533232]), 32.070876598358154, 0.05794024467468262, Lasso(alpha=1, random_state=1234))\n",
      "(array([-2761.13605221, -2736.75462121, -2726.24602282]), 3.22866153717041, 0.05694127082824707, Lasso(alpha=5, random_state=1234))\n",
      "(array([-2845.62634019, -2818.36244795, -2807.46987819]), 2.733173370361328, 0.057939767837524414, Lasso(alpha=20, random_state=1234))\n",
      "-2656.3114088777056 Lasso(alpha=1, random_state=1234)\n",
      "Wall time: 1min 38s\n"
     ]
    }
   ],
   "source": [
    "%%time\n",
    "\n",
    "rmse=-10000\n",
    "\n",
    "for alpha in [1, 5, 20]:\n",
    "    \n",
    "    model_Lasso = Lasso(alpha=alpha, random_state=RANDOM_STATE)\n",
    "    result = model_run(model_Lasso, X_train, y_train)\n",
    "    print(result)\n",
    "    if result[0].mean() > rmse:\n",
    "        rmse = result[0].mean()\n",
    "        result_Lasso = result\n",
    "\n",
    "result_list.append(result_Lasso[0].mean())\n",
    "fit_time_list.append(result_Lasso[1])\n",
    "pred_time_list.append(result_Lasso[2])\n",
    "    \n",
    "    \n",
    "print(result_Lasso[0].mean(), result_Lasso[3])"
   ]
  },
  {
   "cell_type": "code",
   "execution_count": 35,
   "id": "3aefebac",
   "metadata": {},
   "outputs": [
    {
     "name": "stdout",
     "output_type": "stream",
     "text": [
      "(array([-2643.66536468, -2623.39772   , -2611.77092706]), 0.7212553024291992, 0.05794024467468262, Ridge(alpha=1, random_state=1234))\n",
      "(array([-2643.89282328, -2624.48116636, -2611.59711047]), 0.6793506145477295, 0.058882951736450195, Ridge(alpha=5, random_state=1234))\n",
      "(array([-2647.30638288, -2628.80270419, -2614.58728321]), 0.6683089733123779, 0.06093621253967285, Ridge(alpha=20, random_state=1234))\n",
      "-2626.2780039111262 Ridge(alpha=1, random_state=1234)\n",
      "Wall time: 26.1 s\n"
     ]
    }
   ],
   "source": [
    "%%time\n",
    "\n",
    "rmse=-10000\n",
    "\n",
    "for alpha in [1, 5, 20]:\n",
    "    \n",
    "    model_Ridge = Ridge(alpha=alpha, random_state=RANDOM_STATE)\n",
    "    result = model_run(model_Ridge, X_train, y_train)\n",
    "    print(result)\n",
    "    if result[0].mean() > rmse:\n",
    "        rmse = result[0].mean()\n",
    "        result_Ridge = result\n",
    "        \n",
    "result_list.append(result_Ridge[0].mean())\n",
    "fit_time_list.append(result_Ridge[1])\n",
    "pred_time_list.append(result_Ridge[2])\n",
    "    \n",
    "    \n",
    "print(result_Ridge[0].mean(), result_Ridge[3])"
   ]
  },
  {
   "cell_type": "markdown",
   "id": "efd1fa7b",
   "metadata": {},
   "source": [
    "#### Случайный лес"
   ]
  },
  {
   "cell_type": "markdown",
   "id": "5186b0a1",
   "metadata": {},
   "source": [
    "Get_dummies и OHE не желательны для моделей на основе дерева. Они сильно замедляют работу данных моделей. Поэтому для леса закодируем категориальные признаки с большим количеством значений (vehicle_type, model, brand) с помощью OrdinalEncoder()."
   ]
  },
  {
   "cell_type": "code",
   "execution_count": 36,
   "id": "9976cc5a",
   "metadata": {},
   "outputs": [],
   "source": [
    "cat_features_names_ord = ['vehicle_type', 'model', 'brand']\n",
    "cat_features_names_ohe = set(cat_features_names) - set(cat_features_names_ord)\n",
    "\n",
    "\n",
    "transformer_RFR = make_column_transformer((OneHotEncoder(drop='first', handle_unknown='ignore'), cat_features_names_ohe), \n",
    "                                          (OrdinalEncoder(handle_unknown='use_encoded_value', unknown_value=-1), \n",
    "                                           cat_features_names_ord),\n",
    "                                          (StandardScaler(), num_features_names), remainder='passthrough')\n",
    "#на тренировочной выборке fit_transform\n",
    "X_train_RFR = pd.DataFrame.sparse.from_spmatrix(transformer.fit_transform(X_train_raw), \n",
    "                                                columns=transformer.get_feature_names_out())\n",
    "#на тестовой только transform\n",
    "X_test_RFR = pd.DataFrame.sparse.from_spmatrix(transformer.transform(X_test_raw), \n",
    "                                                columns=transformer.get_feature_names_out())"
   ]
  },
  {
   "cell_type": "code",
   "execution_count": 37,
   "id": "c5300e3c",
   "metadata": {},
   "outputs": [
    {
     "name": "stdout",
     "output_type": "stream",
     "text": [
      "(array([-2114.05336577, -2104.31396607, -2105.56364821]), 30.02199649810791, 0.458524227142334, RandomForestRegressor(max_depth=7, n_estimators=20, random_state=1234))\n",
      "(array([-1846.08066291, -1836.84959673, -1836.2991682 ]), 105.88763427734375, 1.0920283794403076, RandomForestRegressor(max_depth=11, n_estimators=20, random_state=1234))\n",
      "(array([-1768.05888694, -1764.52782901, -1756.83027687]), 193.06963396072388, 0.7327501773834229, RandomForestRegressor(max_depth=13, n_estimators=20, random_state=1234))\n",
      "(array([-2109.7461252 , -2105.94660086, -2108.24312629]), 91.94673895835876, 0.9909791946411133, RandomForestRegressor(max_depth=7, n_estimators=50, random_state=1234))\n",
      "(array([-1838.73729369, -1835.58274922, -1831.82853286]), 314.09595251083374, 1.4080758094787598, RandomForestRegressor(max_depth=11, n_estimators=50, random_state=1234))\n",
      "(array([-1759.93034373, -1761.39242906, -1749.48153015]), 476.25502586364746, 2.0504186153411865, RandomForestRegressor(max_depth=13, n_estimators=50, random_state=1234))\n",
      "-1756.9347676473374 RandomForestRegressor(max_depth=13, n_estimators=50, random_state=1234)\n",
      "Wall time: 37min 48s\n"
     ]
    }
   ],
   "source": [
    "%%time\n",
    "\n",
    "rmse=-10000\n",
    "\n",
    "for n_est in [20, 50]:\n",
    "    for max_depth in [7, 11, 13]:\n",
    "        model_RFR = RandomForestRegressor(n_estimators=n_est, max_depth=max_depth, random_state=RANDOM_STATE)\n",
    "        result = model_run(model_RFR, X_train_RFR, y_train)\n",
    "        print(result)\n",
    "        if result[0].mean() > rmse:\n",
    "            rmse = result[0].mean()\n",
    "            result_RFR = result\n",
    "            \n",
    "result_list.append(result_RFR[0].mean())\n",
    "fit_time_list.append(result_RFR[1])\n",
    "pred_time_list.append(result_RFR[2])\n",
    "    \n",
    "    \n",
    "print(result_RFR[0].mean(), result_RFR[3])"
   ]
  },
  {
   "cell_type": "markdown",
   "id": "42897eb8",
   "metadata": {},
   "source": [
    "#### LGBM"
   ]
  },
  {
   "cell_type": "code",
   "execution_count": 38,
   "id": "7898544e",
   "metadata": {},
   "outputs": [],
   "source": [
    "import re\n",
    "X_train = X_train.rename(columns = lambda x:re.sub('[^A-Za-z0-9_]+', '', x))\n",
    "X_test = X_test.rename(columns = lambda x:re.sub('[^A-Za-z0-9_]+', '', x))"
   ]
  },
  {
   "cell_type": "markdown",
   "id": "deef9be4",
   "metadata": {},
   "source": [
    "*'kilometer'* это по сути категориальный признак, поэтому добавим его в список категориальных и переведем их все в нужный для LGBM тип. "
   ]
  },
  {
   "cell_type": "code",
   "execution_count": 39,
   "id": "1178c49a",
   "metadata": {},
   "outputs": [],
   "source": [
    "cat_features_names.append('kilometer')\n",
    "for feature_name in cat_features_names:\n",
    "    X_train_raw[feature_name] = X_train_raw[feature_name].astype('category')\n",
    "    X_test_raw[feature_name] = X_test_raw[feature_name].astype('category')"
   ]
  },
  {
   "cell_type": "code",
   "execution_count": 40,
   "id": "c0189d71",
   "metadata": {},
   "outputs": [
    {
     "name": "stdout",
     "output_type": "stream",
     "text": [
      "(array([-1635.45907402, -1619.8113664 , -1619.3313635 ]), 0.974226713180542, 0.5300006866455078, LGBMRegressor(max_depth=10, random_state=1234))\n",
      "(array([-1634.69194016, -1618.69254348, -1620.01863983]), 1.051912546157837, 0.6033766269683838, LGBMRegressor(max_depth=50, random_state=1234))\n",
      "(array([-1634.69194016, -1618.69254348, -1620.01863983]), 0.9869801998138428, 0.53244948387146, LGBMRegressor(max_depth=100, random_state=1234))\n",
      "(array([-1575.20874613, -1555.69457273, -1554.44847253]), 10.764240503311157, 7.845897674560547, LGBMRegressor(max_depth=10, n_estimators=2000, random_state=1234))\n",
      "(array([-1576.48758804, -1557.24152073, -1552.20118564]), 10.448208570480347, 7.768977403640747, LGBMRegressor(max_depth=50, n_estimators=2000, random_state=1234))\n",
      "(array([-1576.48758804, -1557.24152073, -1552.20118564]), 9.488768339157104, 7.923192262649536, LGBMRegressor(max_depth=100, n_estimators=2000, random_state=1234))\n",
      "(array([-1576.69507384, -1559.73693045, -1555.52629144]), 19.212048053741455, 29.66754961013794, LGBMRegressor(max_depth=10, n_estimators=3000, random_state=1234))\n",
      "(array([-1577.33077495, -1559.72006022, -1553.17132059]), 21.111081838607788, 32.00783967971802, LGBMRegressor(max_depth=50, n_estimators=3000, random_state=1234))\n",
      "(array([-1577.33077495, -1559.72006022, -1553.17132059]), 23.5456120967865, 29.85685110092163, LGBMRegressor(max_depth=100, n_estimators=3000, random_state=1234))\n",
      "-1561.7839304655492 LGBMRegressor(max_depth=10, n_estimators=2000, random_state=1234)\n",
      "Wall time: 13min 43s\n"
     ]
    }
   ],
   "source": [
    "%%time\n",
    "\n",
    "rmse=-10000\n",
    "\n",
    "for n_est in [100, 2000, 3000]:\n",
    "    for max_depth in [10, 50, 100]:\n",
    "            model_LGB = LGBMRegressor(n_estimators=n_est, max_depth=max_depth, random_state=RANDOM_STATE)\n",
    "            result = model_run(model_LGB, X_train_raw, y_train)\n",
    "            print(result)\n",
    "            if result[0].mean() > rmse:\n",
    "                rmse = result[0].mean()\n",
    "                result_LGB = result\n",
    "            \n",
    "result_list.append(result_LGB[0].mean())\n",
    "fit_time_list.append(result_LGB[1])\n",
    "pred_time_list.append(result_LGB[2])\n",
    "    \n",
    "print(result_LGB[0].mean(), result_LGB[3])"
   ]
  },
  {
   "cell_type": "code",
   "execution_count": 41,
   "id": "2a688ed8",
   "metadata": {},
   "outputs": [
    {
     "data": {
      "text/html": [
       "<div>\n",
       "<style scoped>\n",
       "    .dataframe tbody tr th:only-of-type {\n",
       "        vertical-align: middle;\n",
       "    }\n",
       "\n",
       "    .dataframe tbody tr th {\n",
       "        vertical-align: top;\n",
       "    }\n",
       "\n",
       "    .dataframe thead th {\n",
       "        text-align: right;\n",
       "    }\n",
       "</style>\n",
       "<table border=\"1\" class=\"dataframe\">\n",
       "  <thead>\n",
       "    <tr style=\"text-align: right;\">\n",
       "      <th></th>\n",
       "      <th>RMSE</th>\n",
       "      <th>fit_time</th>\n",
       "      <th>pred_time</th>\n",
       "    </tr>\n",
       "  </thead>\n",
       "  <tbody>\n",
       "    <tr>\n",
       "      <th>Linear</th>\n",
       "      <td>-2624.808157</td>\n",
       "      <td>5.655159</td>\n",
       "      <td>0.058939</td>\n",
       "    </tr>\n",
       "    <tr>\n",
       "      <th>Lasso</th>\n",
       "      <td>-2656.311409</td>\n",
       "      <td>32.070877</td>\n",
       "      <td>0.057940</td>\n",
       "    </tr>\n",
       "    <tr>\n",
       "      <th>Ridge</th>\n",
       "      <td>-2626.278004</td>\n",
       "      <td>0.721255</td>\n",
       "      <td>0.057940</td>\n",
       "    </tr>\n",
       "    <tr>\n",
       "      <th>RFR</th>\n",
       "      <td>-1756.934768</td>\n",
       "      <td>476.255026</td>\n",
       "      <td>2.050419</td>\n",
       "    </tr>\n",
       "    <tr>\n",
       "      <th>LGB</th>\n",
       "      <td>-1561.783930</td>\n",
       "      <td>10.764241</td>\n",
       "      <td>7.845898</td>\n",
       "    </tr>\n",
       "  </tbody>\n",
       "</table>\n",
       "</div>"
      ],
      "text/plain": [
       "               RMSE    fit_time  pred_time\n",
       "Linear -2624.808157    5.655159   0.058939\n",
       "Lasso  -2656.311409   32.070877   0.057940\n",
       "Ridge  -2626.278004    0.721255   0.057940\n",
       "RFR    -1756.934768  476.255026   2.050419\n",
       "LGB    -1561.783930   10.764241   7.845898"
      ]
     },
     "execution_count": 41,
     "metadata": {},
     "output_type": "execute_result"
    }
   ],
   "source": [
    "result_tab = pd.DataFrame({'RMSE': result_list, 'fit_time': fit_time_list, 'pred_time': pred_time_list}, index=models)\n",
    "result_tab"
   ]
  },
  {
   "cell_type": "markdown",
   "id": "17a0642d",
   "metadata": {},
   "source": [
    "Обычная регрессия быстро обучается, но результат неудовлетворителен. Регуляризация не помогает, скорее наоборот. Случайный лес удовлетворяет условию по метрике, но обучается долго. Возможно, дальнейшее увеличение гиперпараметров и поможет еще улучшить RMSE, но \"расширение\" и \"углубление\" кратно увеличивают время обучения. LGB - явный победитель, он показывает более высокий результат по метрике при значительно меньших затратах времени."
   ]
  },
  {
   "cell_type": "code",
   "execution_count": 43,
   "id": "c044ec5c",
   "metadata": {},
   "outputs": [
    {
     "name": "stdout",
     "output_type": "stream",
     "text": [
      "Wall time: 3.77 s\n"
     ]
    }
   ],
   "source": [
    "%%time\n",
    "pred = result_LGB[3].predict(X_test_raw)"
   ]
  },
  {
   "cell_type": "code",
   "execution_count": 44,
   "id": "a7c2ea07",
   "metadata": {},
   "outputs": [
    {
     "data": {
      "text/plain": [
       "1544.6178419000764"
      ]
     },
     "execution_count": 44,
     "metadata": {},
     "output_type": "execute_result"
    }
   ],
   "source": [
    "result_best = (mean_squared_error(pred, y_test))**0.5\n",
    "result_best"
   ]
  },
  {
   "cell_type": "markdown",
   "id": "5f9ade0a",
   "metadata": {},
   "source": [
    "Результат удовлетворителен. Построим таблицу важности признаков выбранной модели."
   ]
  },
  {
   "cell_type": "code",
   "execution_count": 45,
   "id": "ce8f9a80",
   "metadata": {},
   "outputs": [
    {
     "data": {
      "image/png": "[encoded data removed]",
      "text/plain": [
       "<Figure size 1600x1400 with 1 Axes>"
      ]
     },
     "metadata": {},
     "output_type": "display_data"
    }
   ],
   "source": [
    "feature_imp = pd.Series(result_LGB[3].feature_importances_,\n",
    "                         X_train_raw.columns)\n",
    "fig, ax = plt.subplots(figsize=(16,14))\n",
    "feature_imp.plot.bar(ax=ax)\n",
    "ax.set_title(\"Важность признаков\")\n",
    "ax.set_ylabel('Важность')\n",
    "fig.tight_layout()"
   ]
  },
  {
   "cell_type": "markdown",
   "id": "43d0c35e",
   "metadata": {},
   "source": [
    "## Вывод"
   ]
  },
  {
   "cell_type": "markdown",
   "id": "ed623b2d",
   "metadata": {},
   "source": [
    "**В проекте были рассмотрены данные из объявлений о продаже автомобилей. Задачей было построить модель, предсказывающую рыночную стоимость. Параметром оценки качества предсказаний была RMSE - по условию она должна была быть не более 2500.**\n",
    "\n",
    "**Для выполнения этой задачи данные сначала были подготовлены: проверено отсутствие дубликатов, удалены неиформативные столбцы, обработаны пропуски и аномалии. Категориальные данные были закодированы, численные отмастшабированы.**\n",
    "\n",
    "**Далее было рассмотрено несколько моделей регрессии для предсказания строимости автомобилей - линейные регрессии, RandomForestRegressor и LGBMRegressor. Лучший результат показал LGBMRegressor: время обучения - 11 секунд, время предсказания - 8 секунды, на тестовой выборке RMSE составила 1545.**\n"
   ]
  },
  {
   "cell_type": "code",
   "execution_count": null,
   "id": "a92ff0e4",
   "metadata": {},
   "outputs": [],
   "source": []
  }
 ],
 "metadata": {
  "ExecuteTimeLog": [
   {
    "duration": 398,
    "start_time": "2023-07-06T11:29:19.216Z"
   },
   {
    "duration": 3091,
    "start_time": "2023-07-06T11:29:54.908Z"
   },
   {
    "duration": 19,
    "start_time": "2023-07-06T11:30:07.041Z"
   },
   {
    "duration": 138,
    "start_time": "2023-07-06T11:30:14.595Z"
   },
   {
    "duration": 208,
    "start_time": "2023-07-06T11:31:04.306Z"
   },
   {
    "duration": 20,
    "start_time": "2023-07-06T11:33:54.090Z"
   },
   {
    "duration": 148,
    "start_time": "2023-07-06T11:36:01.167Z"
   },
   {
    "duration": 313,
    "start_time": "2023-07-06T11:36:21.291Z"
   },
   {
    "duration": 131,
    "start_time": "2023-07-06T11:36:32.897Z"
   },
   {
    "duration": 226,
    "start_time": "2023-07-06T11:36:51.790Z"
   },
   {
    "duration": 285,
    "start_time": "2023-07-06T11:36:58.493Z"
   },
   {
    "duration": 11,
    "start_time": "2023-07-06T11:46:04.019Z"
   },
   {
    "duration": 9,
    "start_time": "2023-07-06T11:46:07.368Z"
   },
   {
    "duration": 8,
    "start_time": "2023-07-06T11:46:21.528Z"
   },
   {
    "duration": 30,
    "start_time": "2023-07-06T11:46:43.338Z"
   },
   {
    "duration": 12,
    "start_time": "2023-07-06T11:47:12.403Z"
   },
   {
    "duration": 10,
    "start_time": "2023-07-06T11:47:17.409Z"
   },
   {
    "duration": 32,
    "start_time": "2023-07-06T11:47:24.656Z"
   },
   {
    "duration": 959,
    "start_time": "2023-07-06T11:49:21.590Z"
   },
   {
    "duration": 52,
    "start_time": "2023-07-06T11:49:49.190Z"
   },
   {
    "duration": 602,
    "start_time": "2023-07-06T11:49:53.599Z"
   },
   {
    "duration": 587,
    "start_time": "2023-07-06T11:50:16.166Z"
   },
   {
    "duration": 591,
    "start_time": "2023-07-06T11:50:35.766Z"
   },
   {
    "duration": 45,
    "start_time": "2023-07-06T11:55:42.665Z"
   },
   {
    "duration": 76,
    "start_time": "2023-07-06T11:55:48.462Z"
   },
   {
    "duration": 55,
    "start_time": "2023-07-06T11:56:18.262Z"
   },
   {
    "duration": 52,
    "start_time": "2023-07-06T11:57:10.940Z"
   },
   {
    "duration": 169,
    "start_time": "2023-07-06T11:57:19.590Z"
   },
   {
    "duration": 8,
    "start_time": "2023-07-06T11:59:17.410Z"
   },
   {
    "duration": 156,
    "start_time": "2023-07-06T11:59:21.506Z"
   },
   {
    "duration": 13,
    "start_time": "2023-07-06T12:01:00.696Z"
   },
   {
    "duration": 3,
    "start_time": "2023-07-06T12:01:11.507Z"
   },
   {
    "duration": 803,
    "start_time": "2023-07-06T12:01:11.512Z"
   },
   {
    "duration": 225,
    "start_time": "2023-07-06T12:01:12.317Z"
   },
   {
    "duration": 567,
    "start_time": "2023-07-06T12:01:12.544Z"
   },
   {
    "duration": 39,
    "start_time": "2023-07-06T12:01:14.528Z"
   },
   {
    "duration": 12,
    "start_time": "2023-07-06T12:02:58.432Z"
   },
   {
    "duration": 425,
    "start_time": "2023-07-06T12:03:04.695Z"
   },
   {
    "duration": 446,
    "start_time": "2023-07-06T12:03:22.786Z"
   },
   {
    "duration": 414,
    "start_time": "2023-07-06T12:03:32.486Z"
   },
   {
    "duration": 10,
    "start_time": "2023-07-06T12:05:23.566Z"
   },
   {
    "duration": 9,
    "start_time": "2023-07-06T12:05:26.615Z"
   },
   {
    "duration": 503,
    "start_time": "2023-07-06T12:05:31.395Z"
   },
   {
    "duration": 475,
    "start_time": "2023-07-06T12:06:04.810Z"
   },
   {
    "duration": 387,
    "start_time": "2023-07-06T12:06:58.749Z"
   },
   {
    "duration": 395,
    "start_time": "2023-07-06T12:07:05.998Z"
   },
   {
    "duration": 420,
    "start_time": "2023-07-06T12:07:36.887Z"
   },
   {
    "duration": 13,
    "start_time": "2023-07-06T12:08:00.765Z"
   },
   {
    "duration": 3,
    "start_time": "2023-07-06T12:08:04.841Z"
   },
   {
    "duration": 795,
    "start_time": "2023-07-06T12:08:04.846Z"
   },
   {
    "duration": 343,
    "start_time": "2023-07-06T12:08:05.643Z"
   },
   {
    "duration": 549,
    "start_time": "2023-07-06T12:08:05.988Z"
   },
   {
    "duration": 47,
    "start_time": "2023-07-06T12:08:06.539Z"
   },
   {
    "duration": 379,
    "start_time": "2023-07-06T12:08:06.588Z"
   },
   {
    "duration": 12,
    "start_time": "2023-07-06T12:08:06.969Z"
   },
   {
    "duration": 428,
    "start_time": "2023-07-06T12:08:06.982Z"
   },
   {
    "duration": 16,
    "start_time": "2023-07-06T12:08:07.412Z"
   },
   {
    "duration": 127,
    "start_time": "2023-07-06T12:09:51.733Z"
   },
   {
    "duration": 125,
    "start_time": "2023-07-06T12:10:16.173Z"
   },
   {
    "duration": 101,
    "start_time": "2023-07-06T12:10:21.698Z"
   },
   {
    "duration": 107,
    "start_time": "2023-07-06T12:10:41.913Z"
   },
   {
    "duration": 189,
    "start_time": "2023-07-06T12:10:56.337Z"
   },
   {
    "duration": 31,
    "start_time": "2023-07-06T12:11:42.771Z"
   },
   {
    "duration": 253,
    "start_time": "2023-07-06T12:13:01.261Z"
   },
   {
    "duration": 219,
    "start_time": "2023-07-06T12:27:13.069Z"
   },
   {
    "duration": 218,
    "start_time": "2023-07-06T12:27:47.595Z"
   },
   {
    "duration": 130,
    "start_time": "2023-07-06T12:29:33.306Z"
   },
   {
    "duration": 76,
    "start_time": "2023-07-06T12:32:53.512Z"
   },
   {
    "duration": 67,
    "start_time": "2023-07-06T12:33:03.946Z"
   },
   {
    "duration": 52,
    "start_time": "2023-07-06T12:33:23.600Z"
   },
   {
    "duration": 74,
    "start_time": "2023-07-06T12:33:44.344Z"
   },
   {
    "duration": 200,
    "start_time": "2023-07-06T12:33:55.723Z"
   },
   {
    "duration": 173,
    "start_time": "2023-07-06T12:34:10.720Z"
   },
   {
    "duration": 205,
    "start_time": "2023-07-06T12:34:49.395Z"
   },
   {
    "duration": 204,
    "start_time": "2023-07-06T12:35:06.512Z"
   },
   {
    "duration": 233,
    "start_time": "2023-07-06T12:35:16.828Z"
   },
   {
    "duration": 280,
    "start_time": "2023-07-06T12:36:28.340Z"
   },
   {
    "duration": 247,
    "start_time": "2023-07-06T12:39:02.426Z"
   },
   {
    "duration": 296,
    "start_time": "2023-07-06T12:40:16.558Z"
   },
   {
    "duration": 135,
    "start_time": "2023-07-06T12:41:13.611Z"
   },
   {
    "duration": 256,
    "start_time": "2023-07-06T12:41:22.596Z"
   },
   {
    "duration": 239,
    "start_time": "2023-07-06T12:41:27.202Z"
   },
   {
    "duration": 284,
    "start_time": "2023-07-06T12:41:42.722Z"
   },
   {
    "duration": 274,
    "start_time": "2023-07-06T12:42:07.837Z"
   },
   {
    "duration": 287,
    "start_time": "2023-07-06T12:42:17.799Z"
   },
   {
    "duration": 363,
    "start_time": "2023-07-06T12:43:17.948Z"
   },
   {
    "duration": 316,
    "start_time": "2023-07-06T12:44:05.987Z"
   },
   {
    "duration": 286,
    "start_time": "2023-07-06T12:44:30.108Z"
   },
   {
    "duration": 321,
    "start_time": "2023-07-06T12:44:38.410Z"
   },
   {
    "duration": 389,
    "start_time": "2023-07-06T12:45:55.035Z"
   },
   {
    "duration": 2,
    "start_time": "2023-07-06T12:46:05.122Z"
   },
   {
    "duration": 866,
    "start_time": "2023-07-06T12:46:05.127Z"
   },
   {
    "duration": 255,
    "start_time": "2023-07-06T12:46:05.995Z"
   },
   {
    "duration": 602,
    "start_time": "2023-07-06T12:46:06.251Z"
   },
   {
    "duration": 43,
    "start_time": "2023-07-06T12:46:06.856Z"
   },
   {
    "duration": 434,
    "start_time": "2023-07-06T12:46:06.901Z"
   },
   {
    "duration": 440,
    "start_time": "2023-07-06T12:46:07.337Z"
   },
   {
    "duration": 237,
    "start_time": "2023-07-06T12:46:07.780Z"
   },
   {
    "duration": 310,
    "start_time": "2023-07-06T12:46:08.019Z"
   },
   {
    "duration": 125,
    "start_time": "2023-07-06T12:46:08.331Z"
   },
   {
    "duration": 6,
    "start_time": "2023-07-06T12:59:27.699Z"
   },
   {
    "duration": 100,
    "start_time": "2023-07-06T12:59:36.146Z"
   },
   {
    "duration": 217,
    "start_time": "2023-07-06T13:02:34.099Z"
   },
   {
    "duration": 37,
    "start_time": "2023-07-06T13:02:52.826Z"
   },
   {
    "duration": 4,
    "start_time": "2023-07-06T13:04:58.248Z"
   },
   {
    "duration": 141,
    "start_time": "2023-07-06T13:05:02.991Z"
   },
   {
    "duration": 19,
    "start_time": "2023-07-06T13:05:45.033Z"
   },
   {
    "duration": 16,
    "start_time": "2023-07-06T13:06:04.552Z"
   },
   {
    "duration": 46,
    "start_time": "2023-07-07T16:34:21.466Z"
   },
   {
    "duration": 4,
    "start_time": "2023-07-07T16:35:46.214Z"
   },
   {
    "duration": 1446,
    "start_time": "2023-07-07T16:36:01.709Z"
   },
   {
    "duration": 2910,
    "start_time": "2023-07-07T16:36:03.158Z"
   },
   {
    "duration": 245,
    "start_time": "2023-07-07T16:36:06.069Z"
   },
   {
    "duration": 732,
    "start_time": "2023-07-07T16:36:06.316Z"
   },
   {
    "duration": 65,
    "start_time": "2023-07-07T16:36:07.050Z"
   },
   {
    "duration": 479,
    "start_time": "2023-07-07T16:36:07.117Z"
   },
   {
    "duration": 522,
    "start_time": "2023-07-07T16:36:07.598Z"
   },
   {
    "duration": 263,
    "start_time": "2023-07-07T16:36:08.122Z"
   },
   {
    "duration": 332,
    "start_time": "2023-07-07T16:36:08.387Z"
   },
   {
    "duration": 112,
    "start_time": "2023-07-07T16:36:08.722Z"
   },
   {
    "duration": 100,
    "start_time": "2023-07-07T16:36:08.836Z"
   },
   {
    "duration": 924,
    "start_time": "2023-07-07T16:36:14.834Z"
   },
   {
    "duration": 15,
    "start_time": "2023-07-07T16:37:58.353Z"
   },
   {
    "duration": 23,
    "start_time": "2023-07-07T16:39:37.761Z"
   },
   {
    "duration": 9,
    "start_time": "2023-07-07T16:39:53.481Z"
   },
   {
    "duration": 307,
    "start_time": "2023-07-07T16:40:27.866Z"
   },
   {
    "duration": 48,
    "start_time": "2023-07-07T16:40:38.266Z"
   },
   {
    "duration": 55,
    "start_time": "2023-07-07T16:40:51.416Z"
   },
   {
    "duration": 5,
    "start_time": "2023-07-07T16:41:01.265Z"
   },
   {
    "duration": 52,
    "start_time": "2023-07-07T16:41:05.768Z"
   },
   {
    "duration": 184,
    "start_time": "2023-07-07T16:41:17.240Z"
   },
   {
    "duration": 41,
    "start_time": "2023-07-07T16:41:36.768Z"
   },
   {
    "duration": 11,
    "start_time": "2023-07-07T16:41:52.431Z"
   },
   {
    "duration": 11,
    "start_time": "2023-07-07T16:41:58.176Z"
   },
   {
    "duration": 59,
    "start_time": "2023-07-07T16:42:03.887Z"
   },
   {
    "duration": 11,
    "start_time": "2023-07-07T16:42:33.376Z"
   },
   {
    "duration": 5,
    "start_time": "2023-07-07T16:42:41.806Z"
   },
   {
    "duration": 728,
    "start_time": "2023-07-07T16:44:10.214Z"
   },
   {
    "duration": 944,
    "start_time": "2023-07-07T16:44:24.927Z"
   },
   {
    "duration": 3,
    "start_time": "2023-07-07T16:44:39.623Z"
   },
   {
    "duration": 788,
    "start_time": "2023-07-07T16:44:39.628Z"
   },
   {
    "duration": 220,
    "start_time": "2023-07-07T16:44:40.418Z"
   },
   {
    "duration": 584,
    "start_time": "2023-07-07T16:44:40.640Z"
   },
   {
    "duration": 58,
    "start_time": "2023-07-07T16:44:41.228Z"
   },
   {
    "duration": 455,
    "start_time": "2023-07-07T16:44:41.288Z"
   },
   {
    "duration": 514,
    "start_time": "2023-07-07T16:44:41.745Z"
   },
   {
    "duration": 248,
    "start_time": "2023-07-07T16:44:42.261Z"
   },
   {
    "duration": 326,
    "start_time": "2023-07-07T16:44:42.511Z"
   },
   {
    "duration": 117,
    "start_time": "2023-07-07T16:44:42.839Z"
   },
   {
    "duration": 732,
    "start_time": "2023-07-07T16:44:45.711Z"
   },
   {
    "duration": 3,
    "start_time": "2023-07-07T16:45:18.414Z"
   },
   {
    "duration": 814,
    "start_time": "2023-07-07T16:45:18.419Z"
   },
   {
    "duration": 233,
    "start_time": "2023-07-07T16:45:19.235Z"
   },
   {
    "duration": 677,
    "start_time": "2023-07-07T16:45:28.286Z"
   },
   {
    "duration": 844,
    "start_time": "2023-07-07T16:46:13.357Z"
   },
   {
    "duration": 762,
    "start_time": "2023-07-07T16:46:55.933Z"
   },
   {
    "duration": 54,
    "start_time": "2023-07-07T16:47:04.062Z"
   },
   {
    "duration": 810,
    "start_time": "2023-07-07T16:47:19.820Z"
   },
   {
    "duration": 11,
    "start_time": "2023-07-07T16:47:55.836Z"
   },
   {
    "duration": 20,
    "start_time": "2023-07-07T16:48:17.580Z"
   },
   {
    "duration": 21,
    "start_time": "2023-07-07T16:48:24.090Z"
   },
   {
    "duration": 109,
    "start_time": "2023-07-07T16:49:00.524Z"
   },
   {
    "duration": 1236,
    "start_time": "2023-07-07T16:49:12.946Z"
   },
   {
    "duration": 822,
    "start_time": "2023-07-07T16:49:14.184Z"
   },
   {
    "duration": 246,
    "start_time": "2023-07-07T16:49:15.008Z"
   },
   {
    "duration": 631,
    "start_time": "2023-07-07T16:49:15.255Z"
   },
   {
    "duration": 59,
    "start_time": "2023-07-07T16:49:15.888Z"
   },
   {
    "duration": 498,
    "start_time": "2023-07-07T16:49:15.949Z"
   },
   {
    "duration": 538,
    "start_time": "2023-07-07T16:49:16.450Z"
   },
   {
    "duration": 262,
    "start_time": "2023-07-07T16:49:16.990Z"
   },
   {
    "duration": 324,
    "start_time": "2023-07-07T16:49:17.254Z"
   },
   {
    "duration": 107,
    "start_time": "2023-07-07T16:49:17.580Z"
   },
   {
    "duration": 127,
    "start_time": "2023-07-07T16:49:17.689Z"
   },
   {
    "duration": 856,
    "start_time": "2023-07-07T16:49:17.817Z"
   },
   {
    "duration": 0,
    "start_time": "2023-07-07T16:49:18.675Z"
   },
   {
    "duration": 0,
    "start_time": "2023-07-07T16:49:18.676Z"
   },
   {
    "duration": 16,
    "start_time": "2023-07-07T16:49:50.707Z"
   },
   {
    "duration": 5,
    "start_time": "2023-07-07T16:49:54.450Z"
   },
   {
    "duration": 90,
    "start_time": "2023-07-07T16:50:04.266Z"
   },
   {
    "duration": 45,
    "start_time": "2023-07-07T16:52:15.897Z"
   },
   {
    "duration": 70,
    "start_time": "2023-07-07T16:52:17.938Z"
   },
   {
    "duration": 10,
    "start_time": "2023-07-07T16:52:26.239Z"
   },
   {
    "duration": 77,
    "start_time": "2023-07-07T16:52:29.905Z"
   },
   {
    "duration": 14,
    "start_time": "2023-07-07T16:52:44.073Z"
   },
   {
    "duration": 4,
    "start_time": "2023-07-07T16:52:53.424Z"
   },
   {
    "duration": 677,
    "start_time": "2023-07-07T16:53:04.580Z"
   },
   {
    "duration": 10,
    "start_time": "2023-07-07T16:53:24.753Z"
   },
   {
    "duration": 11,
    "start_time": "2023-07-07T16:53:28.792Z"
   },
   {
    "duration": 13,
    "start_time": "2023-07-07T16:53:33.950Z"
   },
   {
    "duration": 35,
    "start_time": "2023-07-07T16:54:48.176Z"
   },
   {
    "duration": 125,
    "start_time": "2023-07-07T16:55:05.808Z"
   },
   {
    "duration": 630,
    "start_time": "2023-07-07T16:55:13.452Z"
   },
   {
    "duration": 724,
    "start_time": "2023-07-07T16:55:18.646Z"
   },
   {
    "duration": 4,
    "start_time": "2023-07-07T16:55:52.392Z"
   },
   {
    "duration": 19,
    "start_time": "2023-07-07T16:56:03.687Z"
   },
   {
    "duration": 11,
    "start_time": "2023-07-07T16:56:46.740Z"
   },
   {
    "duration": 5,
    "start_time": "2023-07-07T16:56:56.241Z"
   },
   {
    "duration": 19,
    "start_time": "2023-07-07T16:57:05.009Z"
   },
   {
    "duration": 83,
    "start_time": "2023-07-07T16:58:57.262Z"
   },
   {
    "duration": 70,
    "start_time": "2023-07-07T16:59:25.110Z"
   },
   {
    "duration": 143,
    "start_time": "2023-07-07T17:07:39.745Z"
   },
   {
    "duration": 129,
    "start_time": "2023-07-07T17:07:50.301Z"
   },
   {
    "duration": 189,
    "start_time": "2023-07-07T17:07:56.085Z"
   },
   {
    "duration": 3657,
    "start_time": "2023-07-07T17:08:47.349Z"
   },
   {
    "duration": 920,
    "start_time": "2023-07-07T17:10:35.812Z"
   },
   {
    "duration": 735,
    "start_time": "2023-07-07T17:10:56.776Z"
   },
   {
    "duration": 2081,
    "start_time": "2023-07-07T17:11:46.288Z"
   },
   {
    "duration": 2968,
    "start_time": "2023-07-07T17:13:53.374Z"
   },
   {
    "duration": 5,
    "start_time": "2023-07-07T17:14:04.941Z"
   },
   {
    "duration": 6,
    "start_time": "2023-07-07T17:14:24.575Z"
   },
   {
    "duration": 4,
    "start_time": "2023-07-07T17:15:06.342Z"
   },
   {
    "duration": 6,
    "start_time": "2023-07-07T17:15:09.677Z"
   },
   {
    "duration": 42,
    "start_time": "2023-07-07T17:15:17.543Z"
   },
   {
    "duration": 5261,
    "start_time": "2023-07-07T17:16:08.269Z"
   },
   {
    "duration": 2143,
    "start_time": "2023-07-07T17:16:27.966Z"
   },
   {
    "duration": 1678,
    "start_time": "2023-07-07T17:16:51.828Z"
   },
   {
    "duration": 969,
    "start_time": "2023-07-07T17:17:32.476Z"
   },
   {
    "duration": 1119,
    "start_time": "2023-07-07T17:18:13.492Z"
   },
   {
    "duration": 17,
    "start_time": "2023-07-07T17:18:32.355Z"
   },
   {
    "duration": 119,
    "start_time": "2023-07-07T17:19:07.423Z"
   },
   {
    "duration": 1600,
    "start_time": "2023-07-07T17:19:28.533Z"
   },
   {
    "duration": 3377,
    "start_time": "2023-07-07T17:19:46.857Z"
   },
   {
    "duration": 3,
    "start_time": "2023-07-07T17:20:13.494Z"
   },
   {
    "duration": 882,
    "start_time": "2023-07-07T17:20:13.499Z"
   },
   {
    "duration": 232,
    "start_time": "2023-07-07T17:20:14.384Z"
   },
   {
    "duration": 624,
    "start_time": "2023-07-07T17:20:14.619Z"
   },
   {
    "duration": 52,
    "start_time": "2023-07-07T17:20:15.244Z"
   },
   {
    "duration": 466,
    "start_time": "2023-07-07T17:20:15.299Z"
   },
   {
    "duration": 454,
    "start_time": "2023-07-07T17:20:15.767Z"
   },
   {
    "duration": 264,
    "start_time": "2023-07-07T17:20:16.223Z"
   },
   {
    "duration": 331,
    "start_time": "2023-07-07T17:20:16.489Z"
   },
   {
    "duration": 115,
    "start_time": "2023-07-07T17:20:16.823Z"
   },
   {
    "duration": 135,
    "start_time": "2023-07-07T17:20:16.940Z"
   },
   {
    "duration": 197,
    "start_time": "2023-07-07T17:20:25.563Z"
   },
   {
    "duration": 22005,
    "start_time": "2023-07-07T17:20:42.867Z"
   },
   {
    "duration": 5,
    "start_time": "2023-07-07T17:21:35.011Z"
   },
   {
    "duration": 21823,
    "start_time": "2023-07-07T17:22:08.731Z"
   },
   {
    "duration": 22,
    "start_time": "2023-07-07T17:22:33.970Z"
   },
   {
    "duration": 15,
    "start_time": "2023-07-07T17:22:38.231Z"
   },
   {
    "duration": 16,
    "start_time": "2023-07-07T17:22:46.628Z"
   },
   {
    "duration": 122,
    "start_time": "2023-07-07T17:23:28.881Z"
   },
   {
    "duration": 2372,
    "start_time": "2023-07-07T17:24:28.080Z"
   },
   {
    "duration": 1287,
    "start_time": "2023-07-07T17:24:43.136Z"
   },
   {
    "duration": 917,
    "start_time": "2023-07-07T17:24:44.425Z"
   },
   {
    "duration": 260,
    "start_time": "2023-07-07T17:24:45.344Z"
   },
   {
    "duration": 618,
    "start_time": "2023-07-07T17:24:45.607Z"
   },
   {
    "duration": 61,
    "start_time": "2023-07-07T17:24:46.228Z"
   },
   {
    "duration": 526,
    "start_time": "2023-07-07T17:24:46.291Z"
   },
   {
    "duration": 572,
    "start_time": "2023-07-07T17:24:46.818Z"
   },
   {
    "duration": 287,
    "start_time": "2023-07-07T17:24:47.392Z"
   },
   {
    "duration": 356,
    "start_time": "2023-07-07T17:24:47.681Z"
   },
   {
    "duration": 106,
    "start_time": "2023-07-07T17:24:48.039Z"
   },
   {
    "duration": 192,
    "start_time": "2023-07-07T17:24:48.148Z"
   },
   {
    "duration": 21782,
    "start_time": "2023-07-07T17:24:48.342Z"
   },
   {
    "duration": 21554,
    "start_time": "2023-07-07T17:25:10.126Z"
   },
   {
    "duration": 31,
    "start_time": "2023-07-07T17:25:31.682Z"
   },
   {
    "duration": 101,
    "start_time": "2023-07-07T17:25:46.184Z"
   },
   {
    "duration": 1427,
    "start_time": "2023-07-07T17:26:57.544Z"
   },
   {
    "duration": 0,
    "start_time": "2023-07-07T17:26:58.974Z"
   },
   {
    "duration": 0,
    "start_time": "2023-07-07T17:26:58.975Z"
   },
   {
    "duration": 0,
    "start_time": "2023-07-07T17:26:58.976Z"
   },
   {
    "duration": 0,
    "start_time": "2023-07-07T17:26:58.978Z"
   },
   {
    "duration": 0,
    "start_time": "2023-07-07T17:26:58.979Z"
   },
   {
    "duration": 3,
    "start_time": "2023-07-07T17:27:21.536Z"
   },
   {
    "duration": 903,
    "start_time": "2023-07-07T17:27:21.541Z"
   },
   {
    "duration": 236,
    "start_time": "2023-07-07T17:27:22.447Z"
   },
   {
    "duration": 654,
    "start_time": "2023-07-07T17:27:22.685Z"
   },
   {
    "duration": 57,
    "start_time": "2023-07-07T17:27:23.341Z"
   },
   {
    "duration": 570,
    "start_time": "2023-07-07T17:27:23.400Z"
   },
   {
    "duration": 517,
    "start_time": "2023-07-07T17:27:23.972Z"
   },
   {
    "duration": 290,
    "start_time": "2023-07-07T17:27:24.491Z"
   },
   {
    "duration": 376,
    "start_time": "2023-07-07T17:27:24.784Z"
   },
   {
    "duration": 114,
    "start_time": "2023-07-07T17:27:25.162Z"
   },
   {
    "duration": 256,
    "start_time": "2023-07-07T17:27:25.278Z"
   },
   {
    "duration": 22148,
    "start_time": "2023-07-07T17:27:25.536Z"
   },
   {
    "duration": 22995,
    "start_time": "2023-07-07T17:27:47.686Z"
   },
   {
    "duration": 22694,
    "start_time": "2023-07-07T17:28:10.683Z"
   },
   {
    "duration": 46,
    "start_time": "2023-07-07T17:28:33.379Z"
   },
   {
    "duration": 117,
    "start_time": "2023-07-07T17:28:33.428Z"
   },
   {
    "duration": 600,
    "start_time": "2023-07-07T17:29:57.270Z"
   },
   {
    "duration": 1109,
    "start_time": "2023-07-07T17:30:03.213Z"
   },
   {
    "duration": 22500,
    "start_time": "2023-07-07T17:30:38.981Z"
   },
   {
    "duration": 1703,
    "start_time": "2023-07-07T17:33:01.332Z"
   },
   {
    "duration": 1360,
    "start_time": "2023-07-07T17:33:14.781Z"
   },
   {
    "duration": 904,
    "start_time": "2023-07-07T17:33:16.143Z"
   },
   {
    "duration": 245,
    "start_time": "2023-07-07T17:33:17.048Z"
   },
   {
    "duration": 601,
    "start_time": "2023-07-07T17:33:17.295Z"
   },
   {
    "duration": 61,
    "start_time": "2023-07-07T17:33:17.898Z"
   },
   {
    "duration": 501,
    "start_time": "2023-07-07T17:33:17.968Z"
   },
   {
    "duration": 562,
    "start_time": "2023-07-07T17:33:18.470Z"
   },
   {
    "duration": 284,
    "start_time": "2023-07-07T17:33:19.034Z"
   },
   {
    "duration": 347,
    "start_time": "2023-07-07T17:33:19.320Z"
   },
   {
    "duration": 111,
    "start_time": "2023-07-07T17:33:19.682Z"
   },
   {
    "duration": 263,
    "start_time": "2023-07-07T17:33:19.795Z"
   },
   {
    "duration": 22715,
    "start_time": "2023-07-07T17:33:20.060Z"
   },
   {
    "duration": 23214,
    "start_time": "2023-07-07T17:33:42.777Z"
   },
   {
    "duration": 22732,
    "start_time": "2023-07-07T17:34:05.993Z"
   },
   {
    "duration": 59,
    "start_time": "2023-07-07T17:34:28.727Z"
   },
   {
    "duration": 148,
    "start_time": "2023-07-07T17:34:28.788Z"
   },
   {
    "duration": 18,
    "start_time": "2023-07-07T17:34:36.522Z"
   },
   {
    "duration": 4,
    "start_time": "2023-07-07T17:35:18.000Z"
   },
   {
    "duration": 895,
    "start_time": "2023-07-07T17:35:18.006Z"
   },
   {
    "duration": 244,
    "start_time": "2023-07-07T17:35:18.903Z"
   },
   {
    "duration": 598,
    "start_time": "2023-07-07T17:35:19.149Z"
   },
   {
    "duration": 56,
    "start_time": "2023-07-07T17:35:19.749Z"
   },
   {
    "duration": 504,
    "start_time": "2023-07-07T17:35:19.807Z"
   },
   {
    "duration": 524,
    "start_time": "2023-07-07T17:35:20.313Z"
   },
   {
    "duration": 262,
    "start_time": "2023-07-07T17:35:20.839Z"
   },
   {
    "duration": 343,
    "start_time": "2023-07-07T17:35:21.104Z"
   },
   {
    "duration": 108,
    "start_time": "2023-07-07T17:35:21.449Z"
   },
   {
    "duration": 279,
    "start_time": "2023-07-07T17:35:21.558Z"
   },
   {
    "duration": 22906,
    "start_time": "2023-07-07T17:35:21.839Z"
   },
   {
    "duration": 22697,
    "start_time": "2023-07-07T17:35:44.747Z"
   },
   {
    "duration": 22358,
    "start_time": "2023-07-07T17:36:07.446Z"
   },
   {
    "duration": 120,
    "start_time": "2023-07-07T17:36:29.805Z"
   },
   {
    "duration": 18,
    "start_time": "2023-07-07T17:36:29.927Z"
   },
   {
    "duration": 2435,
    "start_time": "2023-07-07T17:37:20.281Z"
   },
   {
    "duration": 6,
    "start_time": "2023-07-07T17:38:19.409Z"
   },
   {
    "duration": 1528,
    "start_time": "2023-07-07T17:38:46.489Z"
   },
   {
    "duration": 3,
    "start_time": "2023-07-07T17:38:53.310Z"
   },
   {
    "duration": 924,
    "start_time": "2023-07-07T17:38:53.315Z"
   },
   {
    "duration": 236,
    "start_time": "2023-07-07T17:38:54.241Z"
   },
   {
    "duration": 609,
    "start_time": "2023-07-07T17:38:54.479Z"
   },
   {
    "duration": 48,
    "start_time": "2023-07-07T17:38:55.090Z"
   },
   {
    "duration": 494,
    "start_time": "2023-07-07T17:38:55.140Z"
   },
   {
    "duration": 544,
    "start_time": "2023-07-07T17:38:55.636Z"
   },
   {
    "duration": 261,
    "start_time": "2023-07-07T17:38:56.182Z"
   },
   {
    "duration": 341,
    "start_time": "2023-07-07T17:38:56.445Z"
   },
   {
    "duration": 117,
    "start_time": "2023-07-07T17:38:56.788Z"
   },
   {
    "duration": 248,
    "start_time": "2023-07-07T17:38:56.907Z"
   },
   {
    "duration": 22137,
    "start_time": "2023-07-07T17:38:57.157Z"
   },
   {
    "duration": 21939,
    "start_time": "2023-07-07T17:39:19.296Z"
   },
   {
    "duration": 22315,
    "start_time": "2023-07-07T17:39:41.238Z"
   },
   {
    "duration": 115,
    "start_time": "2023-07-07T17:40:03.555Z"
   },
   {
    "duration": 141,
    "start_time": "2023-07-07T17:45:39.814Z"
   },
   {
    "duration": 15,
    "start_time": "2023-07-07T17:51:08.035Z"
   },
   {
    "duration": 181,
    "start_time": "2023-07-07T17:55:06.386Z"
   },
   {
    "duration": 20,
    "start_time": "2023-07-07T18:06:59.186Z"
   },
   {
    "duration": 34,
    "start_time": "2023-07-07T18:07:11.418Z"
   },
   {
    "duration": 29,
    "start_time": "2023-07-07T18:07:41.674Z"
   },
   {
    "duration": 19,
    "start_time": "2023-07-07T18:08:47.626Z"
   },
   {
    "duration": 1860,
    "start_time": "2023-07-07T18:08:53.617Z"
   },
   {
    "duration": 25,
    "start_time": "2023-07-07T18:09:04.050Z"
   },
   {
    "duration": 74,
    "start_time": "2023-07-07T18:10:02.681Z"
   },
   {
    "duration": 40,
    "start_time": "2023-07-07T18:10:36.360Z"
   },
   {
    "duration": 1809,
    "start_time": "2023-07-07T18:10:49.648Z"
   },
   {
    "duration": 21,
    "start_time": "2023-07-07T18:10:56.464Z"
   },
   {
    "duration": 55,
    "start_time": "2023-07-07T18:11:09.439Z"
   },
   {
    "duration": 49,
    "start_time": "2023-07-07T18:11:46.119Z"
   },
   {
    "duration": 50,
    "start_time": "2023-07-07T18:11:51.607Z"
   },
   {
    "duration": 54,
    "start_time": "2023-07-07T18:11:59.207Z"
   },
   {
    "duration": 56,
    "start_time": "2023-07-07T18:12:05.462Z"
   },
   {
    "duration": 1801,
    "start_time": "2023-07-07T18:12:18.943Z"
   },
   {
    "duration": 19,
    "start_time": "2023-07-07T18:12:28.334Z"
   },
   {
    "duration": 131,
    "start_time": "2023-07-07T18:13:32.200Z"
   },
   {
    "duration": 95,
    "start_time": "2023-07-07T18:13:36.462Z"
   },
   {
    "duration": 120,
    "start_time": "2023-07-07T18:13:43.294Z"
   },
   {
    "duration": 166,
    "start_time": "2023-07-07T18:14:01.430Z"
   },
   {
    "duration": 94,
    "start_time": "2023-07-07T18:14:03.517Z"
   },
   {
    "duration": 139,
    "start_time": "2023-07-07T18:17:12.596Z"
   },
   {
    "duration": 108,
    "start_time": "2023-07-07T18:17:14.795Z"
   },
   {
    "duration": 100,
    "start_time": "2023-07-07T18:17:30.116Z"
   },
   {
    "duration": 58,
    "start_time": "2023-07-07T18:17:32.259Z"
   },
   {
    "duration": 89,
    "start_time": "2023-07-07T18:17:32.972Z"
   },
   {
    "duration": 1058,
    "start_time": "2023-07-07T18:18:58.401Z"
   },
   {
    "duration": 1202,
    "start_time": "2023-07-07T18:19:21.555Z"
   },
   {
    "duration": 1599,
    "start_time": "2023-07-07T18:20:05.547Z"
   },
   {
    "duration": 1577,
    "start_time": "2023-07-07T18:20:13.699Z"
   },
   {
    "duration": 742,
    "start_time": "2023-07-07T18:21:34.938Z"
   },
   {
    "duration": 9,
    "start_time": "2023-07-07T18:22:12.417Z"
   },
   {
    "duration": 44,
    "start_time": "2023-07-07T18:24:02.641Z"
   },
   {
    "duration": 36,
    "start_time": "2023-07-07T18:24:18.681Z"
   },
   {
    "duration": 33,
    "start_time": "2023-07-07T18:24:24.321Z"
   },
   {
    "duration": 33,
    "start_time": "2023-07-07T18:24:36.776Z"
   },
   {
    "duration": 34,
    "start_time": "2023-07-07T18:25:18.751Z"
   },
   {
    "duration": 34,
    "start_time": "2023-07-07T18:26:21.247Z"
   },
   {
    "duration": 31,
    "start_time": "2023-07-07T18:26:24.366Z"
   },
   {
    "duration": 26,
    "start_time": "2023-07-07T18:27:53.510Z"
   },
   {
    "duration": 23,
    "start_time": "2023-07-07T18:31:10.910Z"
   },
   {
    "duration": 24,
    "start_time": "2023-07-07T18:31:16.725Z"
   },
   {
    "duration": 11,
    "start_time": "2023-07-07T18:33:37.899Z"
   },
   {
    "duration": 14,
    "start_time": "2023-07-07T18:34:11.012Z"
   },
   {
    "duration": 14,
    "start_time": "2023-07-07T18:34:26.107Z"
   },
   {
    "duration": 55,
    "start_time": "2023-07-07T18:35:10.891Z"
   },
   {
    "duration": 76,
    "start_time": "2023-07-07T18:36:30.220Z"
   },
   {
    "duration": 8,
    "start_time": "2023-07-07T18:38:01.153Z"
   },
   {
    "duration": 212,
    "start_time": "2023-07-07T18:38:28.001Z"
   },
   {
    "duration": 701,
    "start_time": "2023-07-07T18:44:21.534Z"
   },
   {
    "duration": 42,
    "start_time": "2023-07-07T18:44:38.205Z"
   },
   {
    "duration": 701,
    "start_time": "2023-07-07T18:44:52.749Z"
   },
   {
    "duration": 3,
    "start_time": "2023-07-07T18:44:56.259Z"
   },
   {
    "duration": 889,
    "start_time": "2023-07-07T18:44:56.264Z"
   },
   {
    "duration": 275,
    "start_time": "2023-07-07T18:44:57.156Z"
   },
   {
    "duration": 669,
    "start_time": "2023-07-07T18:44:57.434Z"
   },
   {
    "duration": 45,
    "start_time": "2023-07-07T18:44:58.106Z"
   },
   {
    "duration": 400,
    "start_time": "2023-07-07T18:44:58.153Z"
   },
   {
    "duration": 427,
    "start_time": "2023-07-07T18:44:58.555Z"
   },
   {
    "duration": 276,
    "start_time": "2023-07-07T18:44:58.984Z"
   },
   {
    "duration": 326,
    "start_time": "2023-07-07T18:44:59.266Z"
   },
   {
    "duration": 99,
    "start_time": "2023-07-07T18:44:59.594Z"
   },
   {
    "duration": 274,
    "start_time": "2023-07-07T18:44:59.695Z"
   },
   {
    "duration": 23414,
    "start_time": "2023-07-07T18:44:59.971Z"
   },
   {
    "duration": 22912,
    "start_time": "2023-07-07T18:45:23.388Z"
   },
   {
    "duration": 23696,
    "start_time": "2023-07-07T18:45:46.302Z"
   },
   {
    "duration": 127,
    "start_time": "2023-07-07T18:46:10.000Z"
   },
   {
    "duration": 142,
    "start_time": "2023-07-07T18:46:10.129Z"
   },
   {
    "duration": 83,
    "start_time": "2023-07-07T18:46:10.274Z"
   },
   {
    "duration": 859,
    "start_time": "2023-07-07T18:46:10.367Z"
   },
   {
    "duration": 1048,
    "start_time": "2023-07-07T18:59:44.510Z"
   },
   {
    "duration": 1129,
    "start_time": "2023-07-07T18:59:56.646Z"
   },
   {
    "duration": 1250,
    "start_time": "2023-07-07T19:00:42.543Z"
   },
   {
    "duration": 878,
    "start_time": "2023-07-07T19:00:43.795Z"
   },
   {
    "duration": 254,
    "start_time": "2023-07-07T19:00:44.675Z"
   },
   {
    "duration": 623,
    "start_time": "2023-07-07T19:00:44.931Z"
   },
   {
    "duration": 66,
    "start_time": "2023-07-07T19:00:45.556Z"
   },
   {
    "duration": 396,
    "start_time": "2023-07-07T19:00:45.624Z"
   },
   {
    "duration": 443,
    "start_time": "2023-07-07T19:00:46.022Z"
   },
   {
    "duration": 281,
    "start_time": "2023-07-07T19:00:46.467Z"
   },
   {
    "duration": 318,
    "start_time": "2023-07-07T19:00:46.750Z"
   },
   {
    "duration": 106,
    "start_time": "2023-07-07T19:00:47.071Z"
   },
   {
    "duration": 266,
    "start_time": "2023-07-07T19:00:47.178Z"
   },
   {
    "duration": 5,
    "start_time": "2023-07-07T19:00:47.446Z"
   },
   {
    "duration": 15,
    "start_time": "2023-07-07T19:00:47.452Z"
   },
   {
    "duration": 10,
    "start_time": "2023-07-07T19:00:47.469Z"
   },
   {
    "duration": 151,
    "start_time": "2023-07-07T19:00:47.481Z"
   },
   {
    "duration": 119,
    "start_time": "2023-07-07T19:00:47.634Z"
   },
   {
    "duration": 90,
    "start_time": "2023-07-07T19:00:47.755Z"
   },
   {
    "duration": 660,
    "start_time": "2023-07-07T19:00:47.847Z"
   },
   {
    "duration": 678,
    "start_time": "2023-07-07T19:00:48.510Z"
   },
   {
    "duration": 11,
    "start_time": "2023-07-07T19:00:49.190Z"
   },
   {
    "duration": 85,
    "start_time": "2023-07-07T19:00:49.203Z"
   },
   {
    "duration": 4,
    "start_time": "2023-07-07T19:02:32.765Z"
   },
   {
    "duration": 751,
    "start_time": "2023-07-07T19:02:40.685Z"
   },
   {
    "duration": 707,
    "start_time": "2023-07-07T19:02:56.973Z"
   },
   {
    "duration": 5,
    "start_time": "2023-07-07T19:03:00.772Z"
   },
   {
    "duration": 71,
    "start_time": "2023-07-07T19:03:13.212Z"
   },
   {
    "duration": 3,
    "start_time": "2023-07-07T19:03:24.675Z"
   },
   {
    "duration": 787,
    "start_time": "2023-07-07T19:03:24.680Z"
   },
   {
    "duration": 217,
    "start_time": "2023-07-07T19:03:25.468Z"
   },
   {
    "duration": 589,
    "start_time": "2023-07-07T19:03:25.687Z"
   },
   {
    "duration": 44,
    "start_time": "2023-07-07T19:03:26.278Z"
   },
   {
    "duration": 346,
    "start_time": "2023-07-07T19:03:26.323Z"
   },
   {
    "duration": 362,
    "start_time": "2023-07-07T19:03:26.670Z"
   },
   {
    "duration": 234,
    "start_time": "2023-07-07T19:03:27.033Z"
   },
   {
    "duration": 298,
    "start_time": "2023-07-07T19:03:27.269Z"
   },
   {
    "duration": 105,
    "start_time": "2023-07-07T19:03:27.568Z"
   },
   {
    "duration": 252,
    "start_time": "2023-07-07T19:03:27.675Z"
   },
   {
    "duration": 3,
    "start_time": "2023-07-07T19:03:27.929Z"
   },
   {
    "duration": 5,
    "start_time": "2023-07-07T19:03:27.935Z"
   },
   {
    "duration": 8,
    "start_time": "2023-07-07T19:03:27.942Z"
   },
   {
    "duration": 120,
    "start_time": "2023-07-07T19:03:27.967Z"
   },
   {
    "duration": 109,
    "start_time": "2023-07-07T19:03:28.089Z"
   },
   {
    "duration": 82,
    "start_time": "2023-07-07T19:03:28.199Z"
   },
   {
    "duration": 707,
    "start_time": "2023-07-07T19:03:28.283Z"
   },
   {
    "duration": 682,
    "start_time": "2023-07-07T19:03:28.992Z"
   },
   {
    "duration": 5,
    "start_time": "2023-07-07T19:03:29.676Z"
   },
   {
    "duration": 67,
    "start_time": "2023-07-07T19:03:29.682Z"
   },
   {
    "duration": 5,
    "start_time": "2023-07-07T19:03:39.149Z"
   },
   {
    "duration": 65,
    "start_time": "2023-07-07T19:03:49.948Z"
   },
   {
    "duration": 1894,
    "start_time": "2023-07-10T13:22:43.111Z"
   },
   {
    "duration": 4,
    "start_time": "2023-07-10T13:25:34.864Z"
   },
   {
    "duration": 1306,
    "start_time": "2023-07-10T13:25:34.870Z"
   },
   {
    "duration": 262,
    "start_time": "2023-07-10T13:25:36.179Z"
   },
   {
    "duration": 668,
    "start_time": "2023-07-10T13:25:43.933Z"
   },
   {
    "duration": 5,
    "start_time": "2023-07-10T13:29:42.452Z"
   },
   {
    "duration": 970,
    "start_time": "2023-07-10T13:29:42.460Z"
   },
   {
    "duration": 260,
    "start_time": "2023-07-10T13:29:43.432Z"
   },
   {
    "duration": 665,
    "start_time": "2023-07-10T13:29:43.695Z"
   },
   {
    "duration": 49,
    "start_time": "2023-07-10T13:29:44.362Z"
   },
   {
    "duration": 358,
    "start_time": "2023-07-10T13:29:44.413Z"
   },
   {
    "duration": 381,
    "start_time": "2023-07-10T13:29:44.773Z"
   },
   {
    "duration": 277,
    "start_time": "2023-07-10T13:29:45.156Z"
   },
   {
    "duration": 352,
    "start_time": "2023-07-10T13:29:45.434Z"
   },
   {
    "duration": 101,
    "start_time": "2023-07-10T13:29:45.789Z"
   },
   {
    "duration": 435,
    "start_time": "2023-07-10T13:29:45.892Z"
   },
   {
    "duration": 23376,
    "start_time": "2023-07-10T13:29:46.329Z"
   },
   {
    "duration": 23458,
    "start_time": "2023-07-10T13:30:09.709Z"
   },
   {
    "duration": 23016,
    "start_time": "2023-07-10T13:30:33.170Z"
   },
   {
    "duration": 95,
    "start_time": "2023-07-10T13:31:48.693Z"
   },
   {
    "duration": 17,
    "start_time": "2023-07-10T13:54:23.896Z"
   },
   {
    "duration": 18,
    "start_time": "2023-07-10T13:54:49.107Z"
   },
   {
    "duration": 30,
    "start_time": "2023-07-10T13:55:49.730Z"
   },
   {
    "duration": 108,
    "start_time": "2023-07-10T13:57:09.753Z"
   },
   {
    "duration": 124,
    "start_time": "2023-07-10T13:58:12.016Z"
   },
   {
    "duration": 13,
    "start_time": "2023-07-10T13:58:20.304Z"
   },
   {
    "duration": 137,
    "start_time": "2023-07-10T13:58:24.872Z"
   },
   {
    "duration": 112,
    "start_time": "2023-07-10T13:58:38.902Z"
   },
   {
    "duration": 209,
    "start_time": "2023-07-10T14:00:44.808Z"
   },
   {
    "duration": 230,
    "start_time": "2023-07-10T14:00:49.943Z"
   },
   {
    "duration": 205,
    "start_time": "2023-07-10T14:01:28.051Z"
   },
   {
    "duration": 249,
    "start_time": "2023-07-10T14:01:45.654Z"
   },
   {
    "duration": 296,
    "start_time": "2023-07-10T14:02:29.160Z"
   },
   {
    "duration": 274,
    "start_time": "2023-07-10T14:02:36.924Z"
   },
   {
    "duration": 44,
    "start_time": "2023-07-10T14:06:14.348Z"
   },
   {
    "duration": 133,
    "start_time": "2023-07-10T14:06:25.332Z"
   },
   {
    "duration": 4,
    "start_time": "2023-07-10T14:06:45.347Z"
   },
   {
    "duration": 1064,
    "start_time": "2023-07-10T14:06:45.353Z"
   },
   {
    "duration": 257,
    "start_time": "2023-07-10T14:06:46.420Z"
   },
   {
    "duration": 756,
    "start_time": "2023-07-10T14:06:46.680Z"
   },
   {
    "duration": 55,
    "start_time": "2023-07-10T14:06:47.437Z"
   },
   {
    "duration": 458,
    "start_time": "2023-07-10T14:06:47.494Z"
   },
   {
    "duration": 454,
    "start_time": "2023-07-10T14:06:47.954Z"
   },
   {
    "duration": 281,
    "start_time": "2023-07-10T14:06:48.410Z"
   },
   {
    "duration": 364,
    "start_time": "2023-07-10T14:06:48.692Z"
   },
   {
    "duration": 100,
    "start_time": "2023-07-10T14:06:49.059Z"
   },
   {
    "duration": 324,
    "start_time": "2023-07-10T14:06:49.162Z"
   },
   {
    "duration": 23264,
    "start_time": "2023-07-10T14:06:49.488Z"
   },
   {
    "duration": 24815,
    "start_time": "2023-07-10T14:07:12.754Z"
   },
   {
    "duration": 25367,
    "start_time": "2023-07-10T14:07:37.572Z"
   },
   {
    "duration": 183,
    "start_time": "2023-07-10T14:08:02.942Z"
   },
   {
    "duration": 197,
    "start_time": "2023-07-10T14:08:03.127Z"
   },
   {
    "duration": 273,
    "start_time": "2023-07-10T14:08:44.434Z"
   },
   {
    "duration": 701,
    "start_time": "2023-07-10T14:15:47.797Z"
   },
   {
    "duration": 34,
    "start_time": "2023-07-10T14:17:30.060Z"
   },
   {
    "duration": 44,
    "start_time": "2023-07-10T14:17:36.876Z"
   },
   {
    "duration": 25,
    "start_time": "2023-07-10T14:18:05.988Z"
   },
   {
    "duration": 21,
    "start_time": "2023-07-10T14:18:12.619Z"
   },
   {
    "duration": 568,
    "start_time": "2023-07-10T14:18:46.003Z"
   },
   {
    "duration": 26,
    "start_time": "2023-07-10T14:18:54.060Z"
   },
   {
    "duration": 24,
    "start_time": "2023-07-10T14:19:56.811Z"
   },
   {
    "duration": 35,
    "start_time": "2023-07-10T15:00:24.275Z"
   },
   {
    "duration": 33,
    "start_time": "2023-07-10T15:00:46.490Z"
   },
   {
    "duration": 28,
    "start_time": "2023-07-10T15:00:51.058Z"
   },
   {
    "duration": 31,
    "start_time": "2023-07-10T15:01:19.050Z"
   },
   {
    "duration": 30,
    "start_time": "2023-07-10T15:01:23.657Z"
   },
   {
    "duration": 29,
    "start_time": "2023-07-10T15:02:03.929Z"
   },
   {
    "duration": 25,
    "start_time": "2023-07-10T15:02:12.481Z"
   },
   {
    "duration": 26,
    "start_time": "2023-07-10T15:02:17.873Z"
   },
   {
    "duration": 29,
    "start_time": "2023-07-10T15:02:24.057Z"
   },
   {
    "duration": 28,
    "start_time": "2023-07-10T15:03:00.762Z"
   },
   {
    "duration": 26,
    "start_time": "2023-07-10T15:03:33.864Z"
   },
   {
    "duration": 28,
    "start_time": "2023-07-10T15:10:25.372Z"
   },
   {
    "duration": 5,
    "start_time": "2023-07-10T15:12:25.726Z"
   },
   {
    "duration": 993,
    "start_time": "2023-07-10T15:12:25.733Z"
   },
   {
    "duration": 269,
    "start_time": "2023-07-10T15:12:26.728Z"
   },
   {
    "duration": 670,
    "start_time": "2023-07-10T15:12:26.998Z"
   },
   {
    "duration": 60,
    "start_time": "2023-07-10T15:12:27.670Z"
   },
   {
    "duration": 413,
    "start_time": "2023-07-10T15:12:27.732Z"
   },
   {
    "duration": 423,
    "start_time": "2023-07-10T15:12:28.147Z"
   },
   {
    "duration": 307,
    "start_time": "2023-07-10T15:12:28.572Z"
   },
   {
    "duration": 393,
    "start_time": "2023-07-10T15:12:28.881Z"
   },
   {
    "duration": 134,
    "start_time": "2023-07-10T15:12:29.276Z"
   },
   {
    "duration": 312,
    "start_time": "2023-07-10T15:12:29.413Z"
   },
   {
    "duration": 25243,
    "start_time": "2023-07-10T15:12:29.728Z"
   },
   {
    "duration": 25621,
    "start_time": "2023-07-10T15:12:54.973Z"
   },
   {
    "duration": 25747,
    "start_time": "2023-07-10T15:13:20.597Z"
   },
   {
    "duration": 212,
    "start_time": "2023-07-10T15:13:46.347Z"
   },
   {
    "duration": 359,
    "start_time": "2023-07-10T15:13:46.561Z"
   },
   {
    "duration": 261,
    "start_time": "2023-07-10T15:13:46.923Z"
   },
   {
    "duration": 692,
    "start_time": "2023-07-10T15:13:47.187Z"
   },
   {
    "duration": 609,
    "start_time": "2023-07-10T16:35:49.859Z"
   },
   {
    "duration": 725,
    "start_time": "2023-07-10T16:36:10.131Z"
   },
   {
    "duration": 10,
    "start_time": "2023-07-10T16:37:57.689Z"
   },
   {
    "duration": 9,
    "start_time": "2023-07-10T16:38:05.466Z"
   },
   {
    "duration": 9,
    "start_time": "2023-07-10T16:38:12.377Z"
   },
   {
    "duration": 33,
    "start_time": "2023-07-10T16:39:18.529Z"
   },
   {
    "duration": 76,
    "start_time": "2023-07-10T16:39:23.360Z"
   },
   {
    "duration": 5,
    "start_time": "2023-07-10T16:39:49.023Z"
   },
   {
    "duration": 918,
    "start_time": "2023-07-10T16:39:49.031Z"
   },
   {
    "duration": 276,
    "start_time": "2023-07-10T16:39:49.951Z"
   },
   {
    "duration": 627,
    "start_time": "2023-07-10T16:39:50.228Z"
   },
   {
    "duration": 61,
    "start_time": "2023-07-10T16:39:50.858Z"
   },
   {
    "duration": 407,
    "start_time": "2023-07-10T16:39:50.921Z"
   },
   {
    "duration": 399,
    "start_time": "2023-07-10T16:39:51.330Z"
   },
   {
    "duration": 287,
    "start_time": "2023-07-10T16:39:51.731Z"
   },
   {
    "duration": 361,
    "start_time": "2023-07-10T16:39:52.020Z"
   },
   {
    "duration": 103,
    "start_time": "2023-07-10T16:39:52.384Z"
   },
   {
    "duration": 367,
    "start_time": "2023-07-10T16:39:52.489Z"
   },
   {
    "duration": 24048,
    "start_time": "2023-07-10T16:39:52.857Z"
   },
   {
    "duration": 24420,
    "start_time": "2023-07-10T16:40:16.909Z"
   },
   {
    "duration": 25176,
    "start_time": "2023-07-10T16:40:41.333Z"
   },
   {
    "duration": 198,
    "start_time": "2023-07-10T16:41:06.511Z"
   },
   {
    "duration": 305,
    "start_time": "2023-07-10T16:41:06.711Z"
   },
   {
    "duration": 165,
    "start_time": "2023-07-10T16:41:07.018Z"
   },
   {
    "duration": 659,
    "start_time": "2023-07-10T16:41:07.185Z"
   },
   {
    "duration": 36,
    "start_time": "2023-07-10T16:41:07.846Z"
   },
   {
    "duration": 5,
    "start_time": "2023-07-10T16:41:32.880Z"
   },
   {
    "duration": 37,
    "start_time": "2023-07-10T16:41:37.086Z"
   },
   {
    "duration": 80,
    "start_time": "2023-07-10T16:41:38.222Z"
   },
   {
    "duration": 5,
    "start_time": "2023-07-10T16:47:47.796Z"
   },
   {
    "duration": 917,
    "start_time": "2023-07-10T16:47:47.804Z"
   },
   {
    "duration": 331,
    "start_time": "2023-07-10T16:47:48.723Z"
   },
   {
    "duration": 636,
    "start_time": "2023-07-10T16:47:49.056Z"
   },
   {
    "duration": 921,
    "start_time": "2023-07-10T16:47:49.695Z"
   },
   {
    "duration": 541,
    "start_time": "2023-07-10T16:47:50.619Z"
   },
   {
    "duration": 463,
    "start_time": "2023-07-10T16:47:51.162Z"
   },
   {
    "duration": 313,
    "start_time": "2023-07-10T16:47:51.627Z"
   },
   {
    "duration": 392,
    "start_time": "2023-07-10T16:47:51.941Z"
   },
   {
    "duration": 113,
    "start_time": "2023-07-10T16:47:52.335Z"
   },
   {
    "duration": 208,
    "start_time": "2023-07-10T16:49:18.546Z"
   },
   {
    "duration": 248,
    "start_time": "2023-07-10T16:49:39.018Z"
   },
   {
    "duration": 22959,
    "start_time": "2023-07-10T16:49:42.418Z"
   },
   {
    "duration": 1706,
    "start_time": "2023-07-10T16:50:19.898Z"
   },
   {
    "duration": 1306,
    "start_time": "2023-07-10T16:50:34.538Z"
   },
   {
    "duration": 1193,
    "start_time": "2023-07-10T16:51:01.354Z"
   },
   {
    "duration": 1246,
    "start_time": "2023-07-10T16:51:08.362Z"
   },
   {
    "duration": 1126,
    "start_time": "2023-07-10T16:51:36.049Z"
   },
   {
    "duration": 1100,
    "start_time": "2023-07-10T16:51:48.922Z"
   },
   {
    "duration": 72,
    "start_time": "2023-07-10T16:52:02.056Z"
   },
   {
    "duration": 4,
    "start_time": "2023-07-10T16:53:18.467Z"
   },
   {
    "duration": 908,
    "start_time": "2023-07-10T16:53:18.473Z"
   },
   {
    "duration": 287,
    "start_time": "2023-07-10T16:53:19.384Z"
   },
   {
    "duration": 665,
    "start_time": "2023-07-10T16:53:19.673Z"
   },
   {
    "duration": 46,
    "start_time": "2023-07-10T16:53:20.341Z"
   },
   {
    "duration": 367,
    "start_time": "2023-07-10T16:53:20.389Z"
   },
   {
    "duration": 376,
    "start_time": "2023-07-10T16:53:20.758Z"
   },
   {
    "duration": 281,
    "start_time": "2023-07-10T16:53:21.137Z"
   },
   {
    "duration": 347,
    "start_time": "2023-07-10T16:53:21.420Z"
   },
   {
    "duration": 103,
    "start_time": "2023-07-10T16:53:21.770Z"
   },
   {
    "duration": 182,
    "start_time": "2023-07-10T16:53:21.875Z"
   },
   {
    "duration": 313,
    "start_time": "2023-07-10T16:53:23.785Z"
   },
   {
    "duration": 5,
    "start_time": "2023-07-10T16:54:00.595Z"
   },
   {
    "duration": 1246,
    "start_time": "2023-07-10T16:54:00.602Z"
   },
   {
    "duration": 407,
    "start_time": "2023-07-10T16:54:01.850Z"
   },
   {
    "duration": 613,
    "start_time": "2023-07-10T16:54:02.258Z"
   },
   {
    "duration": 57,
    "start_time": "2023-07-10T16:54:02.874Z"
   },
   {
    "duration": 413,
    "start_time": "2023-07-10T16:54:02.934Z"
   },
   {
    "duration": 418,
    "start_time": "2023-07-10T16:54:03.349Z"
   },
   {
    "duration": 349,
    "start_time": "2023-07-10T16:54:03.769Z"
   },
   {
    "duration": 375,
    "start_time": "2023-07-10T16:54:04.120Z"
   },
   {
    "duration": 112,
    "start_time": "2023-07-10T16:54:04.497Z"
   },
   {
    "duration": 344,
    "start_time": "2023-07-10T16:54:04.611Z"
   },
   {
    "duration": 351,
    "start_time": "2023-07-10T16:54:04.957Z"
   },
   {
    "duration": 22757,
    "start_time": "2023-07-10T16:54:05.311Z"
   },
   {
    "duration": 23032,
    "start_time": "2023-07-10T16:54:28.071Z"
   },
   {
    "duration": 23059,
    "start_time": "2023-07-10T16:54:51.107Z"
   },
   {
    "duration": 96,
    "start_time": "2023-07-10T16:55:14.168Z"
   },
   {
    "duration": 135,
    "start_time": "2023-07-10T16:55:38.062Z"
   },
   {
    "duration": 52,
    "start_time": "2023-07-10T16:57:15.790Z"
   },
   {
    "duration": 102,
    "start_time": "2023-07-10T16:57:29.477Z"
   },
   {
    "duration": 10,
    "start_time": "2023-07-10T17:07:36.879Z"
   },
   {
    "duration": 10,
    "start_time": "2023-07-10T17:07:42.311Z"
   },
   {
    "duration": 9,
    "start_time": "2023-07-10T17:07:46.351Z"
   },
   {
    "duration": 32,
    "start_time": "2023-07-10T17:07:59.311Z"
   },
   {
    "duration": 40,
    "start_time": "2023-07-10T17:13:00.108Z"
   },
   {
    "duration": 33,
    "start_time": "2023-07-10T17:13:08.082Z"
   },
   {
    "duration": 32,
    "start_time": "2023-07-10T17:13:13.956Z"
   },
   {
    "duration": 25,
    "start_time": "2023-07-10T17:13:38.403Z"
   },
   {
    "duration": 63,
    "start_time": "2023-07-10T17:14:08.884Z"
   },
   {
    "duration": 79,
    "start_time": "2023-07-10T17:16:20.707Z"
   },
   {
    "duration": 73,
    "start_time": "2023-07-10T17:16:29.818Z"
   },
   {
    "duration": 25,
    "start_time": "2023-07-10T17:16:51.146Z"
   },
   {
    "duration": 32,
    "start_time": "2023-07-10T17:17:18.817Z"
   },
   {
    "duration": 4,
    "start_time": "2023-07-10T17:18:08.385Z"
   },
   {
    "duration": 8,
    "start_time": "2023-07-10T17:18:53.889Z"
   },
   {
    "duration": 20,
    "start_time": "2023-07-10T17:19:10.689Z"
   },
   {
    "duration": 66,
    "start_time": "2023-07-10T17:19:14.904Z"
   },
   {
    "duration": 40,
    "start_time": "2023-07-10T17:19:43.568Z"
   },
   {
    "duration": 12,
    "start_time": "2023-07-10T17:19:57.336Z"
   },
   {
    "duration": 211,
    "start_time": "2023-07-10T17:20:04.089Z"
   },
   {
    "duration": 56,
    "start_time": "2023-07-10T17:20:10.655Z"
   },
   {
    "duration": 41,
    "start_time": "2023-07-10T17:21:31.009Z"
   },
   {
    "duration": 19,
    "start_time": "2023-07-10T17:24:29.822Z"
   },
   {
    "duration": 22,
    "start_time": "2023-07-10T17:24:38.149Z"
   },
   {
    "duration": 21,
    "start_time": "2023-07-10T17:24:49.589Z"
   },
   {
    "duration": 9,
    "start_time": "2023-07-10T17:25:18.501Z"
   },
   {
    "duration": 73,
    "start_time": "2023-07-10T17:25:35.188Z"
   },
   {
    "duration": 22,
    "start_time": "2023-07-10T17:26:10.860Z"
   },
   {
    "duration": 8,
    "start_time": "2023-07-10T17:26:18.104Z"
   },
   {
    "duration": 902,
    "start_time": "2023-07-10T17:26:18.115Z"
   },
   {
    "duration": 293,
    "start_time": "2023-07-10T17:26:19.019Z"
   },
   {
    "duration": 775,
    "start_time": "2023-07-10T17:26:19.314Z"
   },
   {
    "duration": 50,
    "start_time": "2023-07-10T17:26:20.092Z"
   },
   {
    "duration": 408,
    "start_time": "2023-07-10T17:26:20.144Z"
   },
   {
    "duration": 445,
    "start_time": "2023-07-10T17:26:20.554Z"
   },
   {
    "duration": 309,
    "start_time": "2023-07-10T17:26:21.001Z"
   },
   {
    "duration": 391,
    "start_time": "2023-07-10T17:26:21.312Z"
   },
   {
    "duration": 114,
    "start_time": "2023-07-10T17:26:21.706Z"
   },
   {
    "duration": 212,
    "start_time": "2023-07-10T17:26:21.822Z"
   },
   {
    "duration": 336,
    "start_time": "2023-07-10T17:26:22.036Z"
   },
   {
    "duration": 26592,
    "start_time": "2023-07-10T17:26:22.374Z"
   },
   {
    "duration": 26460,
    "start_time": "2023-07-10T17:26:48.971Z"
   },
   {
    "duration": 26454,
    "start_time": "2023-07-10T17:27:15.433Z"
   },
   {
    "duration": 139,
    "start_time": "2023-07-10T17:27:41.889Z"
   },
   {
    "duration": 138,
    "start_time": "2023-07-10T17:27:42.031Z"
   },
   {
    "duration": 183,
    "start_time": "2023-07-10T17:27:42.171Z"
   },
   {
    "duration": 661,
    "start_time": "2023-07-10T17:27:42.356Z"
   },
   {
    "duration": 36,
    "start_time": "2023-07-10T17:27:43.019Z"
   },
   {
    "duration": 23,
    "start_time": "2023-07-10T17:27:43.057Z"
   },
   {
    "duration": 33,
    "start_time": "2023-07-10T17:27:43.083Z"
   },
   {
    "duration": 31,
    "start_time": "2023-07-10T17:27:49.644Z"
   },
   {
    "duration": 32,
    "start_time": "2023-07-10T17:28:01.772Z"
   },
   {
    "duration": 16,
    "start_time": "2023-07-10T17:28:14.988Z"
   },
   {
    "duration": 12,
    "start_time": "2023-07-10T17:28:31.723Z"
   },
   {
    "duration": 51,
    "start_time": "2023-07-10T17:29:50.122Z"
   },
   {
    "duration": 21,
    "start_time": "2023-07-10T17:30:12.385Z"
   },
   {
    "duration": 77,
    "start_time": "2023-07-10T17:30:50.818Z"
   },
   {
    "duration": 5,
    "start_time": "2023-07-10T17:33:35.727Z"
   },
   {
    "duration": 16,
    "start_time": "2023-07-10T17:33:40.403Z"
   },
   {
    "duration": 20,
    "start_time": "2023-07-10T17:33:49.437Z"
   },
   {
    "duration": 14,
    "start_time": "2023-07-10T17:33:55.391Z"
   },
   {
    "duration": 118,
    "start_time": "2023-07-10T17:34:42.090Z"
   },
   {
    "duration": 4734,
    "start_time": "2023-07-10T17:34:59.823Z"
   },
   {
    "duration": 45,
    "start_time": "2023-07-10T17:35:21.292Z"
   },
   {
    "duration": 4898,
    "start_time": "2023-07-10T17:36:18.822Z"
   },
   {
    "duration": 21,
    "start_time": "2023-07-10T17:36:51.838Z"
   },
   {
    "duration": 15,
    "start_time": "2023-07-10T17:36:55.126Z"
   },
   {
    "duration": 36,
    "start_time": "2023-07-10T17:39:00.845Z"
   },
   {
    "duration": 83,
    "start_time": "2023-07-10T17:40:13.555Z"
   },
   {
    "duration": 3061,
    "start_time": "2023-07-10T17:40:22.332Z"
   },
   {
    "duration": 1863,
    "start_time": "2023-07-10T17:40:25.396Z"
   },
   {
    "duration": 363,
    "start_time": "2023-07-10T17:40:27.262Z"
   },
   {
    "duration": 735,
    "start_time": "2023-07-10T17:40:27.627Z"
   },
   {
    "duration": 83,
    "start_time": "2023-07-10T17:40:28.365Z"
   },
   {
    "duration": 461,
    "start_time": "2023-07-10T17:40:28.450Z"
   },
   {
    "duration": 569,
    "start_time": "2023-07-10T17:40:28.913Z"
   },
   {
    "duration": 336,
    "start_time": "2023-07-10T17:40:29.485Z"
   },
   {
    "duration": 378,
    "start_time": "2023-07-10T17:40:29.823Z"
   },
   {
    "duration": 185,
    "start_time": "2023-07-10T17:40:30.203Z"
   },
   {
    "duration": 406,
    "start_time": "2023-07-10T17:40:30.390Z"
   },
   {
    "duration": 364,
    "start_time": "2023-07-10T17:40:30.798Z"
   },
   {
    "duration": 26172,
    "start_time": "2023-07-10T17:40:31.164Z"
   },
   {
    "duration": 28461,
    "start_time": "2023-07-10T17:40:57.340Z"
   },
   {
    "duration": 27579,
    "start_time": "2023-07-10T17:41:25.809Z"
   },
   {
    "duration": 185,
    "start_time": "2023-07-10T17:41:53.391Z"
   },
   {
    "duration": 223,
    "start_time": "2023-07-10T17:41:53.578Z"
   },
   {
    "duration": 188,
    "start_time": "2023-07-10T17:41:53.803Z"
   },
   {
    "duration": 710,
    "start_time": "2023-07-10T17:41:53.993Z"
   },
   {
    "duration": 48,
    "start_time": "2023-07-10T17:41:54.705Z"
   },
   {
    "duration": 54,
    "start_time": "2023-07-10T17:41:54.755Z"
   },
   {
    "duration": 58,
    "start_time": "2023-07-10T17:41:54.811Z"
   },
   {
    "duration": 45,
    "start_time": "2023-07-10T17:41:54.872Z"
   },
   {
    "duration": 371,
    "start_time": "2023-07-10T17:41:54.920Z"
   },
   {
    "duration": 46,
    "start_time": "2023-07-10T17:41:55.294Z"
   },
   {
    "duration": 167,
    "start_time": "2023-07-10T17:41:55.344Z"
   },
   {
    "duration": 761,
    "start_time": "2023-07-10T17:41:55.514Z"
   },
   {
    "duration": 7,
    "start_time": "2023-07-10T17:41:56.278Z"
   },
   {
    "duration": 154,
    "start_time": "2023-07-10T17:41:56.287Z"
   },
   {
    "duration": 158,
    "start_time": "2023-07-10T17:42:57.460Z"
   },
   {
    "duration": 37,
    "start_time": "2023-07-10T17:43:04.460Z"
   },
   {
    "duration": 808,
    "start_time": "2023-07-10T17:43:07.804Z"
   },
   {
    "duration": 47,
    "start_time": "2023-07-10T17:43:12.508Z"
   },
   {
    "duration": 51,
    "start_time": "2023-07-10T17:44:33.835Z"
   },
   {
    "duration": 11,
    "start_time": "2023-07-10T17:44:42.467Z"
   },
   {
    "duration": 24,
    "start_time": "2023-07-10T17:45:11.898Z"
   },
   {
    "duration": 11,
    "start_time": "2023-07-10T17:56:59.237Z"
   },
   {
    "duration": 44,
    "start_time": "2023-07-10T17:57:28.653Z"
   },
   {
    "duration": 5,
    "start_time": "2023-07-10T17:57:55.154Z"
   },
   {
    "duration": 1144,
    "start_time": "2023-07-10T17:57:55.161Z"
   },
   {
    "duration": 383,
    "start_time": "2023-07-10T17:57:56.309Z"
   },
   {
    "duration": 676,
    "start_time": "2023-07-10T17:57:56.695Z"
   },
   {
    "duration": 63,
    "start_time": "2023-07-10T17:57:57.376Z"
   },
   {
    "duration": 387,
    "start_time": "2023-07-10T17:57:57.441Z"
   },
   {
    "duration": 480,
    "start_time": "2023-07-10T17:57:57.830Z"
   },
   {
    "duration": 292,
    "start_time": "2023-07-10T17:57:58.312Z"
   },
   {
    "duration": 383,
    "start_time": "2023-07-10T17:57:58.608Z"
   },
   {
    "duration": 168,
    "start_time": "2023-07-10T17:57:58.993Z"
   },
   {
    "duration": 320,
    "start_time": "2023-07-10T17:57:59.163Z"
   },
   {
    "duration": 490,
    "start_time": "2023-07-10T17:57:59.486Z"
   },
   {
    "duration": 24865,
    "start_time": "2023-07-10T17:57:59.979Z"
   },
   {
    "duration": 24628,
    "start_time": "2023-07-10T17:58:24.848Z"
   },
   {
    "duration": 23807,
    "start_time": "2023-07-10T17:58:49.478Z"
   },
   {
    "duration": 173,
    "start_time": "2023-07-10T17:59:13.288Z"
   },
   {
    "duration": 198,
    "start_time": "2023-07-10T17:59:13.463Z"
   },
   {
    "duration": 152,
    "start_time": "2023-07-10T17:59:13.663Z"
   },
   {
    "duration": 764,
    "start_time": "2023-07-10T17:59:13.817Z"
   },
   {
    "duration": 54,
    "start_time": "2023-07-10T17:59:14.583Z"
   },
   {
    "duration": 19,
    "start_time": "2023-07-10T17:59:26.715Z"
   },
   {
    "duration": 51,
    "start_time": "2023-07-10T17:59:57.914Z"
   },
   {
    "duration": 228,
    "start_time": "2023-07-10T18:00:08.235Z"
   },
   {
    "duration": 67,
    "start_time": "2023-07-10T18:01:00.003Z"
   },
   {
    "duration": 74,
    "start_time": "2023-07-10T18:01:16.211Z"
   },
   {
    "duration": 58,
    "start_time": "2023-07-10T18:01:28.460Z"
   },
   {
    "duration": 1727,
    "start_time": "2023-07-10T18:02:28.805Z"
   },
   {
    "duration": 1050,
    "start_time": "2023-07-10T18:02:30.535Z"
   },
   {
    "duration": 268,
    "start_time": "2023-07-10T18:02:31.587Z"
   },
   {
    "duration": 684,
    "start_time": "2023-07-10T18:02:31.858Z"
   },
   {
    "duration": 80,
    "start_time": "2023-07-10T18:02:32.544Z"
   },
   {
    "duration": 454,
    "start_time": "2023-07-10T18:02:32.626Z"
   },
   {
    "duration": 483,
    "start_time": "2023-07-10T18:02:33.082Z"
   },
   {
    "duration": 312,
    "start_time": "2023-07-10T18:02:33.567Z"
   },
   {
    "duration": 398,
    "start_time": "2023-07-10T18:02:33.882Z"
   },
   {
    "duration": 146,
    "start_time": "2023-07-10T18:02:34.283Z"
   },
   {
    "duration": 203,
    "start_time": "2023-07-10T18:02:34.431Z"
   },
   {
    "duration": 344,
    "start_time": "2023-07-10T18:02:34.637Z"
   },
   {
    "duration": 23883,
    "start_time": "2023-07-10T18:02:34.983Z"
   },
   {
    "duration": 24903,
    "start_time": "2023-07-10T18:02:58.871Z"
   },
   {
    "duration": 24845,
    "start_time": "2023-07-10T18:03:23.776Z"
   },
   {
    "duration": 137,
    "start_time": "2023-07-10T18:03:48.626Z"
   },
   {
    "duration": 139,
    "start_time": "2023-07-10T18:03:48.765Z"
   },
   {
    "duration": 152,
    "start_time": "2023-07-10T18:03:48.909Z"
   },
   {
    "duration": 662,
    "start_time": "2023-07-10T18:03:49.064Z"
   },
   {
    "duration": 43,
    "start_time": "2023-07-10T18:03:49.729Z"
   },
   {
    "duration": 96,
    "start_time": "2023-07-10T18:03:49.775Z"
   },
   {
    "duration": 104,
    "start_time": "2023-07-10T18:03:49.873Z"
   },
   {
    "duration": 693,
    "start_time": "2023-07-10T18:03:49.979Z"
   },
   {
    "duration": 9,
    "start_time": "2023-07-10T18:03:50.674Z"
   },
   {
    "duration": 150,
    "start_time": "2023-07-10T18:03:50.686Z"
   },
   {
    "duration": 49,
    "start_time": "2023-07-10T18:05:41.865Z"
   },
   {
    "duration": 80,
    "start_time": "2023-07-10T18:05:47.199Z"
   },
   {
    "duration": 179,
    "start_time": "2023-07-10T18:06:25.055Z"
   },
   {
    "duration": 40,
    "start_time": "2023-07-10T18:06:39.743Z"
   },
   {
    "duration": 95,
    "start_time": "2023-07-10T18:06:43.798Z"
   },
   {
    "duration": 6,
    "start_time": "2023-07-10T18:07:10.981Z"
   },
   {
    "duration": 1075,
    "start_time": "2023-07-10T18:07:10.989Z"
   },
   {
    "duration": 282,
    "start_time": "2023-07-10T18:07:12.066Z"
   },
   {
    "duration": 649,
    "start_time": "2023-07-10T18:07:12.350Z"
   },
   {
    "duration": 64,
    "start_time": "2023-07-10T18:07:13.002Z"
   },
   {
    "duration": 458,
    "start_time": "2023-07-10T18:07:13.069Z"
   },
   {
    "duration": 445,
    "start_time": "2023-07-10T18:07:13.529Z"
   },
   {
    "duration": 308,
    "start_time": "2023-07-10T18:07:13.976Z"
   },
   {
    "duration": 386,
    "start_time": "2023-07-10T18:07:14.286Z"
   },
   {
    "duration": 119,
    "start_time": "2023-07-10T18:07:14.676Z"
   },
   {
    "duration": 212,
    "start_time": "2023-07-10T18:07:14.809Z"
   },
   {
    "duration": 381,
    "start_time": "2023-07-10T18:07:15.023Z"
   },
   {
    "duration": 26038,
    "start_time": "2023-07-10T18:07:15.408Z"
   },
   {
    "duration": 23927,
    "start_time": "2023-07-10T18:07:41.448Z"
   },
   {
    "duration": 24299,
    "start_time": "2023-07-10T18:08:05.377Z"
   },
   {
    "duration": 110,
    "start_time": "2023-07-10T18:08:29.678Z"
   },
   {
    "duration": 150,
    "start_time": "2023-07-10T18:08:29.790Z"
   },
   {
    "duration": 168,
    "start_time": "2023-07-10T18:08:29.942Z"
   },
   {
    "duration": 627,
    "start_time": "2023-07-10T18:08:30.112Z"
   },
   {
    "duration": 122,
    "start_time": "2023-07-10T18:08:30.741Z"
   },
   {
    "duration": 67,
    "start_time": "2023-07-10T18:08:30.865Z"
   },
   {
    "duration": 81,
    "start_time": "2023-07-10T18:08:30.934Z"
   },
   {
    "duration": 595,
    "start_time": "2023-07-10T18:08:31.017Z"
   },
   {
    "duration": 5,
    "start_time": "2023-07-10T18:08:31.614Z"
   },
   {
    "duration": 90,
    "start_time": "2023-07-10T18:08:31.621Z"
   },
   {
    "duration": 14,
    "start_time": "2023-07-10T18:10:13.879Z"
   },
   {
    "duration": 1947,
    "start_time": "2023-07-10T18:10:31.829Z"
   },
   {
    "duration": 1019,
    "start_time": "2023-07-10T18:10:33.779Z"
   },
   {
    "duration": 278,
    "start_time": "2023-07-10T18:10:34.799Z"
   },
   {
    "duration": 655,
    "start_time": "2023-07-10T18:10:35.079Z"
   },
   {
    "duration": 86,
    "start_time": "2023-07-10T18:10:35.736Z"
   },
   {
    "duration": 503,
    "start_time": "2023-07-10T18:10:35.825Z"
   },
   {
    "duration": 464,
    "start_time": "2023-07-10T18:10:36.330Z"
   },
   {
    "duration": 334,
    "start_time": "2023-07-10T18:10:36.797Z"
   },
   {
    "duration": 356,
    "start_time": "2023-07-10T18:10:37.133Z"
   },
   {
    "duration": 107,
    "start_time": "2023-07-10T18:10:37.492Z"
   },
   {
    "duration": 173,
    "start_time": "2023-07-10T18:10:37.610Z"
   },
   {
    "duration": 371,
    "start_time": "2023-07-10T18:10:37.785Z"
   },
   {
    "duration": 24800,
    "start_time": "2023-07-10T18:10:38.158Z"
   },
   {
    "duration": 25375,
    "start_time": "2023-07-10T18:11:02.960Z"
   },
   {
    "duration": 25723,
    "start_time": "2023-07-10T18:11:28.338Z"
   },
   {
    "duration": 95,
    "start_time": "2023-07-10T18:11:54.064Z"
   },
   {
    "duration": 147,
    "start_time": "2023-07-10T18:11:54.162Z"
   },
   {
    "duration": 158,
    "start_time": "2023-07-10T18:11:54.311Z"
   },
   {
    "duration": 686,
    "start_time": "2023-07-10T18:11:54.471Z"
   },
   {
    "duration": 181,
    "start_time": "2023-07-10T18:11:55.160Z"
   },
   {
    "duration": 66,
    "start_time": "2023-07-10T18:11:55.343Z"
   },
   {
    "duration": 133,
    "start_time": "2023-07-10T18:11:55.412Z"
   },
   {
    "duration": 20,
    "start_time": "2023-07-10T18:11:55.548Z"
   },
   {
    "duration": 94,
    "start_time": "2023-07-10T18:17:31.625Z"
   },
   {
    "duration": 96,
    "start_time": "2023-07-10T18:17:42.078Z"
   },
   {
    "duration": 109,
    "start_time": "2023-07-10T18:18:26.790Z"
   },
   {
    "duration": 48,
    "start_time": "2023-07-10T18:19:26.245Z"
   },
   {
    "duration": 91,
    "start_time": "2023-07-10T18:19:36.557Z"
   },
   {
    "duration": 16,
    "start_time": "2023-07-10T18:20:03.040Z"
   },
   {
    "duration": 75,
    "start_time": "2023-07-10T18:21:06.824Z"
   },
   {
    "duration": 82,
    "start_time": "2023-07-10T18:21:08.436Z"
   },
   {
    "duration": 192,
    "start_time": "2023-07-10T18:21:35.845Z"
   },
   {
    "duration": 76,
    "start_time": "2023-07-10T18:21:37.147Z"
   },
   {
    "duration": 19,
    "start_time": "2023-07-10T18:21:41.995Z"
   },
   {
    "duration": 75,
    "start_time": "2023-07-10T18:21:58.941Z"
   },
   {
    "duration": 50,
    "start_time": "2023-07-11T11:20:39.111Z"
   },
   {
    "duration": 4,
    "start_time": "2023-07-11T11:20:39.238Z"
   },
   {
    "duration": 1557,
    "start_time": "2023-07-11T11:20:42.317Z"
   },
   {
    "duration": 1142,
    "start_time": "2023-07-11T11:20:45.654Z"
   },
   {
    "duration": 1054,
    "start_time": "2023-07-11T11:20:53.711Z"
   },
   {
    "duration": 75,
    "start_time": "2023-07-11T11:22:37.157Z"
   },
   {
    "duration": 18,
    "start_time": "2023-07-11T11:22:51.336Z"
   },
   {
    "duration": 44,
    "start_time": "2023-07-11T11:23:03.631Z"
   },
   {
    "duration": 4,
    "start_time": "2023-07-11T11:23:33.922Z"
   },
   {
    "duration": 216,
    "start_time": "2023-07-11T11:23:41.755Z"
   },
   {
    "duration": 48,
    "start_time": "2023-07-11T11:50:39.997Z"
   },
   {
    "duration": 43,
    "start_time": "2023-07-11T11:50:46.793Z"
   },
   {
    "duration": 44,
    "start_time": "2023-07-11T11:51:13.068Z"
   },
   {
    "duration": 4,
    "start_time": "2023-07-11T11:51:23.526Z"
   },
   {
    "duration": 806,
    "start_time": "2023-07-11T11:51:23.532Z"
   },
   {
    "duration": 1039,
    "start_time": "2023-07-11T11:51:24.339Z"
   },
   {
    "duration": 661,
    "start_time": "2023-07-11T11:51:25.380Z"
   },
   {
    "duration": 47,
    "start_time": "2023-07-11T11:51:26.043Z"
   },
   {
    "duration": 388,
    "start_time": "2023-07-11T11:51:26.091Z"
   },
   {
    "duration": 438,
    "start_time": "2023-07-11T11:51:26.482Z"
   },
   {
    "duration": 251,
    "start_time": "2023-07-11T11:51:26.921Z"
   },
   {
    "duration": 277,
    "start_time": "2023-07-11T11:51:27.174Z"
   },
   {
    "duration": 118,
    "start_time": "2023-07-11T11:51:27.454Z"
   },
   {
    "duration": 208,
    "start_time": "2023-07-11T11:51:27.574Z"
   },
   {
    "duration": 279,
    "start_time": "2023-07-11T11:51:27.784Z"
   },
   {
    "duration": 22537,
    "start_time": "2023-07-11T11:51:28.065Z"
   },
   {
    "duration": 25015,
    "start_time": "2023-07-11T11:51:50.605Z"
   },
   {
    "duration": 28300,
    "start_time": "2023-07-11T11:52:15.622Z"
   },
   {
    "duration": 117,
    "start_time": "2023-07-11T11:52:43.924Z"
   },
   {
    "duration": 137,
    "start_time": "2023-07-11T11:52:44.043Z"
   },
   {
    "duration": 145,
    "start_time": "2023-07-11T11:52:44.182Z"
   },
   {
    "duration": 572,
    "start_time": "2023-07-11T11:52:44.329Z"
   },
   {
    "duration": 118,
    "start_time": "2023-07-11T11:52:44.903Z"
   },
   {
    "duration": 149,
    "start_time": "2023-07-11T11:52:45.023Z"
   },
   {
    "duration": 97,
    "start_time": "2023-07-11T11:52:45.174Z"
   },
   {
    "duration": 124,
    "start_time": "2023-07-11T11:52:45.273Z"
   },
   {
    "duration": 14,
    "start_time": "2023-07-11T11:52:45.399Z"
   },
   {
    "duration": 16,
    "start_time": "2023-07-11T11:52:52.539Z"
   },
   {
    "duration": 21,
    "start_time": "2023-07-11T11:55:44.834Z"
   },
   {
    "duration": 29,
    "start_time": "2023-07-11T11:56:17.034Z"
   },
   {
    "duration": 3,
    "start_time": "2023-07-11T11:58:11.599Z"
   },
   {
    "duration": 19,
    "start_time": "2023-07-11T11:58:52.727Z"
   },
   {
    "duration": 3,
    "start_time": "2023-07-11T12:00:27.646Z"
   },
   {
    "duration": 29,
    "start_time": "2023-07-11T12:00:28.719Z"
   },
   {
    "duration": 4,
    "start_time": "2023-07-11T12:01:00.688Z"
   },
   {
    "duration": 77,
    "start_time": "2023-07-11T12:01:01.638Z"
   },
   {
    "duration": 24,
    "start_time": "2023-07-11T12:01:23.445Z"
   },
   {
    "duration": 22,
    "start_time": "2023-07-11T12:01:39.430Z"
   },
   {
    "duration": 31,
    "start_time": "2023-07-11T12:01:41.888Z"
   },
   {
    "duration": 37,
    "start_time": "2023-07-11T12:01:44.554Z"
   },
   {
    "duration": 33,
    "start_time": "2023-07-11T12:01:48.334Z"
   },
   {
    "duration": 81,
    "start_time": "2023-07-11T12:01:52.813Z"
   },
   {
    "duration": 4,
    "start_time": "2023-07-11T12:06:39.002Z"
   },
   {
    "duration": 121,
    "start_time": "2023-07-11T12:07:50.658Z"
   },
   {
    "duration": 33,
    "start_time": "2023-07-11T12:13:28.216Z"
   },
   {
    "duration": 3,
    "start_time": "2023-07-11T12:13:44.676Z"
   },
   {
    "duration": 57,
    "start_time": "2023-07-11T12:13:46.983Z"
   },
   {
    "duration": 4,
    "start_time": "2023-07-11T12:14:23.585Z"
   },
   {
    "duration": 47,
    "start_time": "2023-07-11T12:14:27.283Z"
   },
   {
    "duration": 7003,
    "start_time": "2023-07-11T12:15:12.726Z"
   },
   {
    "duration": 4,
    "start_time": "2023-07-11T12:15:26.694Z"
   },
   {
    "duration": 50,
    "start_time": "2023-07-11T12:15:28.462Z"
   },
   {
    "duration": 3,
    "start_time": "2023-07-11T12:16:21.890Z"
   },
   {
    "duration": 43,
    "start_time": "2023-07-11T12:16:23.735Z"
   },
   {
    "duration": 108,
    "start_time": "2023-07-11T12:18:02.662Z"
   },
   {
    "duration": 6680,
    "start_time": "2023-07-11T12:18:07.340Z"
   },
   {
    "duration": 3,
    "start_time": "2023-07-11T12:18:16.588Z"
   },
   {
    "duration": 52,
    "start_time": "2023-07-11T12:18:18.164Z"
   },
   {
    "duration": 3758,
    "start_time": "2023-07-11T12:19:12.840Z"
   },
   {
    "duration": 0,
    "start_time": "2023-07-11T12:19:16.601Z"
   },
   {
    "duration": 0,
    "start_time": "2023-07-11T12:19:16.603Z"
   },
   {
    "duration": 0,
    "start_time": "2023-07-11T12:19:16.604Z"
   },
   {
    "duration": 0,
    "start_time": "2023-07-11T12:19:16.605Z"
   },
   {
    "duration": 0,
    "start_time": "2023-07-11T12:19:16.606Z"
   },
   {
    "duration": 0,
    "start_time": "2023-07-11T12:19:16.607Z"
   },
   {
    "duration": 0,
    "start_time": "2023-07-11T12:19:16.608Z"
   },
   {
    "duration": 0,
    "start_time": "2023-07-11T12:19:16.609Z"
   },
   {
    "duration": 0,
    "start_time": "2023-07-11T12:19:16.610Z"
   },
   {
    "duration": 0,
    "start_time": "2023-07-11T12:19:16.611Z"
   },
   {
    "duration": 0,
    "start_time": "2023-07-11T12:19:16.612Z"
   },
   {
    "duration": 0,
    "start_time": "2023-07-11T12:19:16.614Z"
   },
   {
    "duration": 0,
    "start_time": "2023-07-11T12:19:16.615Z"
   },
   {
    "duration": 0,
    "start_time": "2023-07-11T12:19:16.615Z"
   },
   {
    "duration": 0,
    "start_time": "2023-07-11T12:19:16.617Z"
   },
   {
    "duration": 0,
    "start_time": "2023-07-11T12:19:16.618Z"
   },
   {
    "duration": 0,
    "start_time": "2023-07-11T12:19:16.619Z"
   },
   {
    "duration": 0,
    "start_time": "2023-07-11T12:19:16.619Z"
   },
   {
    "duration": 0,
    "start_time": "2023-07-11T12:19:16.620Z"
   },
   {
    "duration": 0,
    "start_time": "2023-07-11T12:19:16.621Z"
   },
   {
    "duration": 0,
    "start_time": "2023-07-11T12:19:16.623Z"
   },
   {
    "duration": 0,
    "start_time": "2023-07-11T12:19:16.624Z"
   },
   {
    "duration": 0,
    "start_time": "2023-07-11T12:19:16.625Z"
   },
   {
    "duration": 0,
    "start_time": "2023-07-11T12:19:16.626Z"
   },
   {
    "duration": 0,
    "start_time": "2023-07-11T12:19:16.627Z"
   },
   {
    "duration": 2248,
    "start_time": "2023-07-11T12:19:36.190Z"
   },
   {
    "duration": 3753,
    "start_time": "2023-07-11T12:19:44.329Z"
   },
   {
    "duration": 803,
    "start_time": "2023-07-11T12:19:48.085Z"
   },
   {
    "duration": 1088,
    "start_time": "2023-07-11T12:19:48.890Z"
   },
   {
    "duration": 645,
    "start_time": "2023-07-11T12:19:49.981Z"
   },
   {
    "duration": 47,
    "start_time": "2023-07-11T12:19:50.628Z"
   },
   {
    "duration": 395,
    "start_time": "2023-07-11T12:19:50.677Z"
   },
   {
    "duration": 382,
    "start_time": "2023-07-11T12:19:51.074Z"
   },
   {
    "duration": 249,
    "start_time": "2023-07-11T12:19:51.458Z"
   },
   {
    "duration": 301,
    "start_time": "2023-07-11T12:19:51.709Z"
   },
   {
    "duration": 116,
    "start_time": "2023-07-11T12:19:52.014Z"
   },
   {
    "duration": 204,
    "start_time": "2023-07-11T12:19:52.132Z"
   },
   {
    "duration": 297,
    "start_time": "2023-07-11T12:19:52.338Z"
   },
   {
    "duration": 23054,
    "start_time": "2023-07-11T12:19:52.637Z"
   },
   {
    "duration": 22688,
    "start_time": "2023-07-11T12:20:15.693Z"
   },
   {
    "duration": 22360,
    "start_time": "2023-07-11T12:20:38.383Z"
   },
   {
    "duration": 116,
    "start_time": "2023-07-11T12:21:00.745Z"
   },
   {
    "duration": 159,
    "start_time": "2023-07-11T12:21:00.871Z"
   },
   {
    "duration": 115,
    "start_time": "2023-07-11T12:21:01.032Z"
   },
   {
    "duration": 581,
    "start_time": "2023-07-11T12:21:01.149Z"
   },
   {
    "duration": 131,
    "start_time": "2023-07-11T12:21:01.732Z"
   },
   {
    "duration": 151,
    "start_time": "2023-07-11T12:21:01.871Z"
   },
   {
    "duration": 91,
    "start_time": "2023-07-11T12:21:02.023Z"
   },
   {
    "duration": 272,
    "start_time": "2023-07-11T12:21:02.115Z"
   },
   {
    "duration": 21,
    "start_time": "2023-07-11T12:21:02.388Z"
   },
   {
    "duration": 34,
    "start_time": "2023-07-11T12:21:02.411Z"
   },
   {
    "duration": 213,
    "start_time": "2023-07-11T12:21:02.447Z"
   },
   {
    "duration": 24,
    "start_time": "2023-07-11T12:22:39.825Z"
   },
   {
    "duration": 4,
    "start_time": "2023-07-11T12:22:58.084Z"
   },
   {
    "duration": 55,
    "start_time": "2023-07-11T12:23:07.083Z"
   },
   {
    "duration": 3,
    "start_time": "2023-07-11T12:23:13.163Z"
   },
   {
    "duration": 56,
    "start_time": "2023-07-11T12:23:14.230Z"
   },
   {
    "duration": 181,
    "start_time": "2023-07-11T12:25:00.737Z"
   },
   {
    "duration": 4,
    "start_time": "2023-07-11T12:25:07.840Z"
   },
   {
    "duration": 63,
    "start_time": "2023-07-11T12:25:08.809Z"
   },
   {
    "duration": 14,
    "start_time": "2023-07-11T12:25:35.449Z"
   },
   {
    "duration": 158,
    "start_time": "2023-07-11T12:26:20.088Z"
   },
   {
    "duration": 18,
    "start_time": "2023-07-11T12:26:22.544Z"
   },
   {
    "duration": 3,
    "start_time": "2023-07-11T12:26:24.415Z"
   },
   {
    "duration": 13,
    "start_time": "2023-07-11T12:26:25.551Z"
   },
   {
    "duration": 205,
    "start_time": "2023-07-11T12:26:35.847Z"
   },
   {
    "duration": 225,
    "start_time": "2023-07-11T12:28:03.190Z"
   },
   {
    "duration": 477,
    "start_time": "2023-07-11T12:28:54.865Z"
   },
   {
    "duration": 496,
    "start_time": "2023-07-11T12:29:02.494Z"
   },
   {
    "duration": 476,
    "start_time": "2023-07-11T12:30:49.262Z"
   },
   {
    "duration": 3,
    "start_time": "2023-07-11T12:41:41.847Z"
   },
   {
    "duration": 9008,
    "start_time": "2023-07-11T12:41:43.223Z"
   },
   {
    "duration": 9069,
    "start_time": "2023-07-11T12:42:03.485Z"
   },
   {
    "duration": 563,
    "start_time": "2023-07-11T12:44:22.733Z"
   },
   {
    "duration": 3533,
    "start_time": "2023-07-11T12:46:36.123Z"
   },
   {
    "duration": 786,
    "start_time": "2023-07-11T12:46:39.659Z"
   },
   {
    "duration": 1054,
    "start_time": "2023-07-11T12:46:40.447Z"
   },
   {
    "duration": 666,
    "start_time": "2023-07-11T12:46:41.503Z"
   },
   {
    "duration": 49,
    "start_time": "2023-07-11T12:46:42.171Z"
   },
   {
    "duration": 377,
    "start_time": "2023-07-11T12:46:42.222Z"
   },
   {
    "duration": 400,
    "start_time": "2023-07-11T12:46:42.601Z"
   },
   {
    "duration": 262,
    "start_time": "2023-07-11T12:46:43.003Z"
   },
   {
    "duration": 282,
    "start_time": "2023-07-11T12:46:43.267Z"
   },
   {
    "duration": 110,
    "start_time": "2023-07-11T12:46:43.551Z"
   },
   {
    "duration": 188,
    "start_time": "2023-07-11T12:46:43.670Z"
   },
   {
    "duration": 289,
    "start_time": "2023-07-11T12:46:43.859Z"
   },
   {
    "duration": 21517,
    "start_time": "2023-07-11T12:46:44.151Z"
   },
   {
    "duration": 21484,
    "start_time": "2023-07-11T12:47:05.670Z"
   },
   {
    "duration": 21652,
    "start_time": "2023-07-11T12:47:27.156Z"
   },
   {
    "duration": 118,
    "start_time": "2023-07-11T12:47:48.811Z"
   },
   {
    "duration": 128,
    "start_time": "2023-07-11T12:47:48.931Z"
   },
   {
    "duration": 118,
    "start_time": "2023-07-11T12:47:49.060Z"
   },
   {
    "duration": 545,
    "start_time": "2023-07-11T12:47:49.180Z"
   },
   {
    "duration": 28,
    "start_time": "2023-07-11T12:47:49.727Z"
   },
   {
    "duration": 147,
    "start_time": "2023-07-11T12:47:49.757Z"
   },
   {
    "duration": 91,
    "start_time": "2023-07-11T12:47:49.905Z"
   },
   {
    "duration": 223,
    "start_time": "2023-07-11T12:47:49.998Z"
   },
   {
    "duration": 0,
    "start_time": "2023-07-11T12:47:50.223Z"
   },
   {
    "duration": 0,
    "start_time": "2023-07-11T12:47:50.224Z"
   },
   {
    "duration": 92,
    "start_time": "2023-07-11T12:50:05.497Z"
   },
   {
    "duration": 859,
    "start_time": "2023-07-11T12:58:43.717Z"
   },
   {
    "duration": 31,
    "start_time": "2023-07-11T12:59:58.452Z"
   },
   {
    "duration": 192,
    "start_time": "2023-07-11T13:00:17.139Z"
   },
   {
    "duration": 4004,
    "start_time": "2023-07-11T13:00:28.768Z"
   },
   {
    "duration": 887,
    "start_time": "2023-07-11T13:00:32.775Z"
   },
   {
    "duration": 1128,
    "start_time": "2023-07-11T13:00:33.664Z"
   },
   {
    "duration": 658,
    "start_time": "2023-07-11T13:00:34.795Z"
   },
   {
    "duration": 53,
    "start_time": "2023-07-11T13:00:35.456Z"
   },
   {
    "duration": 349,
    "start_time": "2023-07-11T13:00:35.511Z"
   },
   {
    "duration": 239,
    "start_time": "2023-07-11T13:00:35.862Z"
   },
   {
    "duration": 124,
    "start_time": "2023-07-11T13:00:36.103Z"
   },
   {
    "duration": 0,
    "start_time": "2023-07-11T13:00:36.229Z"
   },
   {
    "duration": 0,
    "start_time": "2023-07-11T13:00:36.231Z"
   },
   {
    "duration": 0,
    "start_time": "2023-07-11T13:00:36.232Z"
   },
   {
    "duration": 0,
    "start_time": "2023-07-11T13:00:36.233Z"
   },
   {
    "duration": 0,
    "start_time": "2023-07-11T13:00:36.234Z"
   },
   {
    "duration": 0,
    "start_time": "2023-07-11T13:00:36.235Z"
   },
   {
    "duration": 0,
    "start_time": "2023-07-11T13:00:36.236Z"
   },
   {
    "duration": 0,
    "start_time": "2023-07-11T13:00:36.237Z"
   },
   {
    "duration": 0,
    "start_time": "2023-07-11T13:00:36.238Z"
   },
   {
    "duration": 0,
    "start_time": "2023-07-11T13:00:36.240Z"
   },
   {
    "duration": 0,
    "start_time": "2023-07-11T13:00:36.242Z"
   },
   {
    "duration": 0,
    "start_time": "2023-07-11T13:00:36.271Z"
   },
   {
    "duration": 0,
    "start_time": "2023-07-11T13:00:36.273Z"
   },
   {
    "duration": 0,
    "start_time": "2023-07-11T13:00:36.274Z"
   },
   {
    "duration": 0,
    "start_time": "2023-07-11T13:00:36.276Z"
   },
   {
    "duration": 0,
    "start_time": "2023-07-11T13:00:36.277Z"
   },
   {
    "duration": 99,
    "start_time": "2023-07-11T13:02:47.520Z"
   },
   {
    "duration": 184,
    "start_time": "2023-07-11T13:03:03.756Z"
   },
   {
    "duration": 12,
    "start_time": "2023-07-11T13:03:03.942Z"
   },
   {
    "duration": 0,
    "start_time": "2023-07-11T13:03:03.956Z"
   },
   {
    "duration": 0,
    "start_time": "2023-07-11T13:03:03.957Z"
   },
   {
    "duration": 0,
    "start_time": "2023-07-11T13:03:03.959Z"
   },
   {
    "duration": 0,
    "start_time": "2023-07-11T13:03:03.970Z"
   },
   {
    "duration": 0,
    "start_time": "2023-07-11T13:03:03.971Z"
   },
   {
    "duration": 0,
    "start_time": "2023-07-11T13:03:03.973Z"
   },
   {
    "duration": 0,
    "start_time": "2023-07-11T13:03:03.974Z"
   },
   {
    "duration": 0,
    "start_time": "2023-07-11T13:03:03.975Z"
   },
   {
    "duration": 0,
    "start_time": "2023-07-11T13:03:03.976Z"
   },
   {
    "duration": 0,
    "start_time": "2023-07-11T13:03:03.977Z"
   },
   {
    "duration": 0,
    "start_time": "2023-07-11T13:03:03.978Z"
   },
   {
    "duration": 0,
    "start_time": "2023-07-11T13:03:03.979Z"
   },
   {
    "duration": 0,
    "start_time": "2023-07-11T13:03:03.980Z"
   },
   {
    "duration": 0,
    "start_time": "2023-07-11T13:03:03.981Z"
   },
   {
    "duration": 0,
    "start_time": "2023-07-11T13:03:03.982Z"
   },
   {
    "duration": 3819,
    "start_time": "2023-07-11T13:03:32.754Z"
   },
   {
    "duration": 856,
    "start_time": "2023-07-11T13:03:36.576Z"
   },
   {
    "duration": 1185,
    "start_time": "2023-07-11T13:03:37.435Z"
   },
   {
    "duration": 683,
    "start_time": "2023-07-11T13:03:38.622Z"
   },
   {
    "duration": 49,
    "start_time": "2023-07-11T13:03:39.308Z"
   },
   {
    "duration": 343,
    "start_time": "2023-07-11T13:03:39.359Z"
   },
   {
    "duration": 244,
    "start_time": "2023-07-11T13:03:39.704Z"
   },
   {
    "duration": 83,
    "start_time": "2023-07-11T13:03:39.950Z"
   },
   {
    "duration": 162,
    "start_time": "2023-07-11T13:03:40.035Z"
   },
   {
    "duration": 257,
    "start_time": "2023-07-11T13:03:40.200Z"
   },
   {
    "duration": 20278,
    "start_time": "2023-07-11T13:03:40.458Z"
   },
   {
    "duration": 19837,
    "start_time": "2023-07-11T13:04:00.737Z"
   },
   {
    "duration": 19513,
    "start_time": "2023-07-11T13:04:20.576Z"
   },
   {
    "duration": 79,
    "start_time": "2023-07-11T13:04:40.092Z"
   },
   {
    "duration": 111,
    "start_time": "2023-07-11T13:04:40.173Z"
   },
   {
    "duration": 569,
    "start_time": "2023-07-11T13:04:40.286Z"
   },
   {
    "duration": 33,
    "start_time": "2023-07-11T13:04:40.857Z"
   },
   {
    "duration": 137,
    "start_time": "2023-07-11T13:04:40.892Z"
   },
   {
    "duration": 89,
    "start_time": "2023-07-11T13:04:41.031Z"
   },
   {
    "duration": 253,
    "start_time": "2023-07-11T13:04:41.122Z"
   },
   {
    "duration": 4,
    "start_time": "2023-07-11T13:04:41.376Z"
   },
   {
    "duration": 8799,
    "start_time": "2023-07-11T13:04:41.381Z"
   },
   {
    "duration": 857,
    "start_time": "2023-07-11T13:05:53.001Z"
   },
   {
    "duration": 3496,
    "start_time": "2023-07-11T13:06:55.556Z"
   },
   {
    "duration": 852,
    "start_time": "2023-07-11T13:06:59.054Z"
   },
   {
    "duration": 1082,
    "start_time": "2023-07-11T13:06:59.908Z"
   },
   {
    "duration": 653,
    "start_time": "2023-07-11T13:07:00.992Z"
   },
   {
    "duration": 47,
    "start_time": "2023-07-11T13:07:01.647Z"
   },
   {
    "duration": 328,
    "start_time": "2023-07-11T13:07:01.696Z"
   },
   {
    "duration": 224,
    "start_time": "2023-07-11T13:07:02.025Z"
   },
   {
    "duration": 83,
    "start_time": "2023-07-11T13:07:02.252Z"
   },
   {
    "duration": 209,
    "start_time": "2023-07-11T13:07:02.337Z"
   },
   {
    "duration": 286,
    "start_time": "2023-07-11T13:07:02.548Z"
   },
   {
    "duration": 19605,
    "start_time": "2023-07-11T13:07:02.836Z"
   },
   {
    "duration": 8266,
    "start_time": "2023-07-11T13:07:22.443Z"
   },
   {
    "duration": 19676,
    "start_time": "2023-07-11T13:07:30.710Z"
   },
   {
    "duration": 71,
    "start_time": "2023-07-11T13:07:50.388Z"
   },
   {
    "duration": 102,
    "start_time": "2023-07-11T13:07:50.470Z"
   },
   {
    "duration": 572,
    "start_time": "2023-07-11T13:07:50.574Z"
   },
   {
    "duration": 27,
    "start_time": "2023-07-11T13:07:51.147Z"
   },
   {
    "duration": 137,
    "start_time": "2023-07-11T13:07:51.176Z"
   },
   {
    "duration": 80,
    "start_time": "2023-07-11T13:07:51.314Z"
   },
   {
    "duration": 254,
    "start_time": "2023-07-11T13:07:51.396Z"
   },
   {
    "duration": 3,
    "start_time": "2023-07-11T13:07:51.652Z"
   },
   {
    "duration": 7973,
    "start_time": "2023-07-11T13:07:51.656Z"
   },
   {
    "duration": 0,
    "start_time": "2023-07-11T13:07:59.633Z"
   },
   {
    "duration": 0,
    "start_time": "2023-07-11T13:07:59.634Z"
   },
   {
    "duration": 0,
    "start_time": "2023-07-11T13:07:59.635Z"
   },
   {
    "duration": 0,
    "start_time": "2023-07-11T13:07:59.636Z"
   },
   {
    "duration": 0,
    "start_time": "2023-07-11T13:07:59.637Z"
   },
   {
    "duration": 2243,
    "start_time": "2023-07-11T13:08:05.773Z"
   },
   {
    "duration": 2279,
    "start_time": "2023-07-11T13:08:15.693Z"
   },
   {
    "duration": 789,
    "start_time": "2023-07-11T13:08:17.975Z"
   },
   {
    "duration": 1054,
    "start_time": "2023-07-11T13:08:18.766Z"
   },
   {
    "duration": 611,
    "start_time": "2023-07-11T13:08:19.822Z"
   },
   {
    "duration": 40,
    "start_time": "2023-07-11T13:08:20.435Z"
   },
   {
    "duration": 199,
    "start_time": "2023-07-11T13:08:27.254Z"
   },
   {
    "duration": 3994,
    "start_time": "2023-07-11T13:10:25.839Z"
   },
   {
    "duration": 932,
    "start_time": "2023-07-11T13:10:29.835Z"
   },
   {
    "duration": 1153,
    "start_time": "2023-07-11T13:10:30.769Z"
   },
   {
    "duration": 524,
    "start_time": "2023-07-11T13:10:31.925Z"
   },
   {
    "duration": 558,
    "start_time": "2023-07-11T13:10:32.451Z"
   },
   {
    "duration": 613,
    "start_time": "2023-07-11T13:10:33.010Z"
   },
   {
    "duration": 46,
    "start_time": "2023-07-11T13:10:33.625Z"
   },
   {
    "duration": 109,
    "start_time": "2023-07-11T13:10:33.674Z"
   },
   {
    "duration": 213,
    "start_time": "2023-07-11T13:10:33.785Z"
   },
   {
    "duration": 327,
    "start_time": "2023-07-11T13:10:34.002Z"
   },
   {
    "duration": 24922,
    "start_time": "2023-07-11T13:10:34.331Z"
   },
   {
    "duration": 24549,
    "start_time": "2023-07-11T13:10:59.255Z"
   },
   {
    "duration": 25425,
    "start_time": "2023-07-11T13:11:23.807Z"
   },
   {
    "duration": 120,
    "start_time": "2023-07-11T13:11:49.234Z"
   },
   {
    "duration": 137,
    "start_time": "2023-07-11T13:11:49.356Z"
   },
   {
    "duration": 775,
    "start_time": "2023-07-11T13:11:49.495Z"
   },
   {
    "duration": 42,
    "start_time": "2023-07-11T13:11:50.272Z"
   },
   {
    "duration": 179,
    "start_time": "2023-07-11T13:11:50.317Z"
   },
   {
    "duration": 119,
    "start_time": "2023-07-11T13:11:50.500Z"
   },
   {
    "duration": 317,
    "start_time": "2023-07-11T13:11:50.622Z"
   },
   {
    "duration": 4,
    "start_time": "2023-07-11T13:11:50.940Z"
   },
   {
    "duration": 11283,
    "start_time": "2023-07-11T13:11:50.946Z"
   },
   {
    "duration": 628,
    "start_time": "2023-07-11T13:44:08.714Z"
   },
   {
    "duration": 578,
    "start_time": "2023-07-11T13:44:29.833Z"
   },
   {
    "duration": 603,
    "start_time": "2023-07-11T13:44:54.804Z"
   },
   {
    "duration": 600,
    "start_time": "2023-07-11T13:45:46.537Z"
   },
   {
    "duration": 11,
    "start_time": "2023-07-11T13:46:45.369Z"
   },
   {
    "duration": 158,
    "start_time": "2023-07-11T13:46:48.935Z"
   },
   {
    "duration": 3,
    "start_time": "2023-07-11T13:46:51.584Z"
   },
   {
    "duration": 1052,
    "start_time": "2023-07-11T13:46:51.975Z"
   },
   {
    "duration": 2427,
    "start_time": "2023-07-11T14:39:54.235Z"
   },
   {
    "duration": 785,
    "start_time": "2023-07-11T14:39:58.184Z"
   },
   {
    "duration": 21,
    "start_time": "2023-07-11T14:46:29.520Z"
   },
   {
    "duration": 11,
    "start_time": "2023-07-11T14:46:43.109Z"
   },
   {
    "duration": 3,
    "start_time": "2023-07-11T14:46:58.759Z"
   },
   {
    "duration": 10,
    "start_time": "2023-07-11T14:51:35.428Z"
   },
   {
    "duration": 2156,
    "start_time": "2023-07-11T14:51:38.997Z"
   },
   {
    "duration": 3,
    "start_time": "2023-07-11T14:51:47.997Z"
   },
   {
    "duration": 16,
    "start_time": "2023-07-11T14:58:03.345Z"
   },
   {
    "duration": 4,
    "start_time": "2023-07-11T14:58:59.582Z"
   },
   {
    "duration": 2,
    "start_time": "2023-07-11T15:04:14.605Z"
   },
   {
    "duration": 4,
    "start_time": "2023-07-11T15:04:31.420Z"
   },
   {
    "duration": 4,
    "start_time": "2023-07-11T15:07:06.079Z"
   },
   {
    "duration": 139,
    "start_time": "2023-07-11T15:07:08.427Z"
   },
   {
    "duration": 110,
    "start_time": "2023-07-11T15:07:40.782Z"
   },
   {
    "duration": 81,
    "start_time": "2023-07-11T15:07:44.131Z"
   },
   {
    "duration": 3,
    "start_time": "2023-07-11T15:08:01.899Z"
   },
   {
    "duration": 4,
    "start_time": "2023-07-11T15:08:02.680Z"
   },
   {
    "duration": 3,
    "start_time": "2023-07-11T15:08:11.819Z"
   },
   {
    "duration": 3,
    "start_time": "2023-07-11T15:08:12.827Z"
   },
   {
    "duration": 86,
    "start_time": "2023-07-11T15:08:13.942Z"
   },
   {
    "duration": 4,
    "start_time": "2023-07-11T15:08:26.499Z"
   },
   {
    "duration": 4,
    "start_time": "2023-07-11T15:08:27.314Z"
   },
   {
    "duration": 4,
    "start_time": "2023-07-11T15:08:28.026Z"
   },
   {
    "duration": 97,
    "start_time": "2023-07-11T15:08:28.678Z"
   },
   {
    "duration": 104,
    "start_time": "2023-07-11T15:08:56.691Z"
   },
   {
    "duration": 10,
    "start_time": "2023-07-11T15:09:45.314Z"
   },
   {
    "duration": 2156,
    "start_time": "2023-07-11T15:10:05.522Z"
   },
   {
    "duration": 91,
    "start_time": "2023-07-11T15:10:11.426Z"
   },
   {
    "duration": 13,
    "start_time": "2023-07-11T15:10:21.581Z"
   },
   {
    "duration": 3,
    "start_time": "2023-07-11T15:10:29.286Z"
   },
   {
    "duration": 3,
    "start_time": "2023-07-11T15:10:39.291Z"
   },
   {
    "duration": 4,
    "start_time": "2023-07-11T15:10:39.993Z"
   },
   {
    "duration": 3,
    "start_time": "2023-07-11T15:10:40.545Z"
   },
   {
    "duration": 440878,
    "start_time": "2023-07-11T15:10:41.938Z"
   },
   {
    "duration": 4,
    "start_time": "2023-07-11T15:18:24.101Z"
   },
   {
    "duration": 4,
    "start_time": "2023-07-11T15:18:27.584Z"
   },
   {
    "duration": 233474,
    "start_time": "2023-07-11T15:18:28.917Z"
   },
   {
    "duration": 11,
    "start_time": "2023-07-11T15:23:50.589Z"
   },
   {
    "duration": 2203,
    "start_time": "2023-07-11T15:24:08.922Z"
   },
   {
    "duration": 16,
    "start_time": "2023-07-11T15:24:15.501Z"
   },
   {
    "duration": 2337,
    "start_time": "2023-07-11T15:24:42.589Z"
   },
   {
    "duration": 3608,
    "start_time": "2023-07-11T15:26:24.700Z"
   },
   {
    "duration": 798,
    "start_time": "2023-07-11T15:26:28.311Z"
   },
   {
    "duration": 1035,
    "start_time": "2023-07-11T15:26:29.110Z"
   },
   {
    "duration": 462,
    "start_time": "2023-07-11T15:26:30.146Z"
   },
   {
    "duration": 506,
    "start_time": "2023-07-11T15:26:30.611Z"
   },
   {
    "duration": 626,
    "start_time": "2023-07-11T15:26:31.120Z"
   },
   {
    "duration": 39,
    "start_time": "2023-07-11T15:26:31.748Z"
   },
   {
    "duration": 147,
    "start_time": "2023-07-11T15:26:31.789Z"
   },
   {
    "duration": 173,
    "start_time": "2023-07-11T15:26:31.937Z"
   },
   {
    "duration": 328,
    "start_time": "2023-07-11T15:26:32.112Z"
   },
   {
    "duration": 21276,
    "start_time": "2023-07-11T15:26:32.442Z"
   },
   {
    "duration": 21536,
    "start_time": "2023-07-11T15:26:53.720Z"
   },
   {
    "duration": 20925,
    "start_time": "2023-07-11T15:27:15.258Z"
   },
   {
    "duration": 93,
    "start_time": "2023-07-11T15:27:36.185Z"
   },
   {
    "duration": 139,
    "start_time": "2023-07-11T15:27:36.280Z"
   },
   {
    "duration": 556,
    "start_time": "2023-07-11T15:27:36.420Z"
   },
   {
    "duration": 33,
    "start_time": "2023-07-11T15:27:36.978Z"
   },
   {
    "duration": 168,
    "start_time": "2023-07-11T15:27:37.013Z"
   },
   {
    "duration": 97,
    "start_time": "2023-07-11T15:27:37.183Z"
   },
   {
    "duration": 254,
    "start_time": "2023-07-11T15:27:37.282Z"
   },
   {
    "duration": 4,
    "start_time": "2023-07-11T15:27:37.539Z"
   },
   {
    "duration": 993,
    "start_time": "2023-07-11T15:27:37.545Z"
   },
   {
    "duration": 3,
    "start_time": "2023-07-11T15:27:38.540Z"
   },
   {
    "duration": 10,
    "start_time": "2023-07-11T15:27:38.545Z"
   },
   {
    "duration": 7,
    "start_time": "2023-07-11T15:27:38.557Z"
   },
   {
    "duration": 14,
    "start_time": "2023-07-11T15:27:38.571Z"
   },
   {
    "duration": 7982,
    "start_time": "2023-07-12T21:22:09.129Z"
   },
   {
    "duration": 922,
    "start_time": "2023-07-12T21:22:17.113Z"
   },
   {
    "duration": 1190,
    "start_time": "2023-07-12T21:22:18.037Z"
   },
   {
    "duration": 573,
    "start_time": "2023-07-12T21:22:19.229Z"
   },
   {
    "duration": 624,
    "start_time": "2023-07-12T21:22:19.803Z"
   },
   {
    "duration": 677,
    "start_time": "2023-07-12T21:22:20.429Z"
   },
   {
    "duration": 41,
    "start_time": "2023-07-12T21:22:21.109Z"
   },
   {
    "duration": 84,
    "start_time": "2023-07-12T21:22:21.152Z"
   },
   {
    "duration": 171,
    "start_time": "2023-07-12T21:22:21.238Z"
   },
   {
    "duration": 310,
    "start_time": "2023-07-12T21:22:21.412Z"
   },
   {
    "duration": 66963,
    "start_time": "2023-07-12T21:22:21.724Z"
   },
   {
    "duration": 3,
    "start_time": "2023-07-12T21:23:28.689Z"
   },
   {
    "duration": 81,
    "start_time": "2023-07-12T21:23:28.693Z"
   },
   {
    "duration": 88,
    "start_time": "2023-07-12T21:23:28.776Z"
   },
   {
    "duration": 609,
    "start_time": "2023-07-12T21:23:28.865Z"
   },
   {
    "duration": 49,
    "start_time": "2023-07-12T21:23:29.475Z"
   },
   {
    "duration": 199,
    "start_time": "2023-07-12T21:23:29.526Z"
   },
   {
    "duration": 314,
    "start_time": "2023-07-12T21:23:29.727Z"
   },
   {
    "duration": 9,
    "start_time": "2023-07-12T21:23:30.043Z"
   },
   {
    "duration": 141,
    "start_time": "2023-07-12T21:23:30.054Z"
   },
   {
    "duration": 0,
    "start_time": "2023-07-12T21:23:30.197Z"
   },
   {
    "duration": 0,
    "start_time": "2023-07-12T21:23:30.198Z"
   },
   {
    "duration": 0,
    "start_time": "2023-07-12T21:23:30.200Z"
   },
   {
    "duration": 0,
    "start_time": "2023-07-12T21:23:30.201Z"
   },
   {
    "duration": 0,
    "start_time": "2023-07-12T21:23:30.208Z"
   },
   {
    "duration": 0,
    "start_time": "2023-07-12T21:23:30.209Z"
   },
   {
    "duration": 0,
    "start_time": "2023-07-12T21:23:30.211Z"
   },
   {
    "duration": 0,
    "start_time": "2023-07-12T21:23:30.212Z"
   },
   {
    "duration": 0,
    "start_time": "2023-07-12T21:23:30.213Z"
   },
   {
    "duration": 0,
    "start_time": "2023-07-12T21:23:30.214Z"
   },
   {
    "duration": 0,
    "start_time": "2023-07-12T21:23:30.215Z"
   },
   {
    "duration": 0,
    "start_time": "2023-07-12T21:23:30.216Z"
   },
   {
    "duration": 0,
    "start_time": "2023-07-12T21:23:30.217Z"
   },
   {
    "duration": 1,
    "start_time": "2023-07-12T21:23:30.218Z"
   },
   {
    "duration": 0,
    "start_time": "2023-07-12T21:23:30.220Z"
   },
   {
    "duration": 3,
    "start_time": "2023-07-12T21:32:06.506Z"
   },
   {
    "duration": 3600,
    "start_time": "2023-07-12T21:32:21.410Z"
   },
   {
    "duration": 987,
    "start_time": "2023-07-12T21:32:25.013Z"
   },
   {
    "duration": 1167,
    "start_time": "2023-07-12T21:32:26.003Z"
   },
   {
    "duration": 535,
    "start_time": "2023-07-12T21:32:27.171Z"
   },
   {
    "duration": 589,
    "start_time": "2023-07-12T21:32:27.709Z"
   },
   {
    "duration": 690,
    "start_time": "2023-07-12T21:32:28.300Z"
   },
   {
    "duration": 52,
    "start_time": "2023-07-12T21:32:28.992Z"
   },
   {
    "duration": 82,
    "start_time": "2023-07-12T21:32:29.047Z"
   },
   {
    "duration": 154,
    "start_time": "2023-07-12T21:32:29.131Z"
   },
   {
    "duration": 335,
    "start_time": "2023-07-12T21:32:29.287Z"
   },
   {
    "duration": 65556,
    "start_time": "2023-07-12T21:32:29.624Z"
   },
   {
    "duration": 3,
    "start_time": "2023-07-12T21:33:35.183Z"
   },
   {
    "duration": 86,
    "start_time": "2023-07-12T21:33:35.188Z"
   },
   {
    "duration": 110,
    "start_time": "2023-07-12T21:33:35.277Z"
   },
   {
    "duration": 657,
    "start_time": "2023-07-12T21:33:35.389Z"
   },
   {
    "duration": 35,
    "start_time": "2023-07-12T21:33:36.048Z"
   },
   {
    "duration": 215,
    "start_time": "2023-07-12T21:33:36.085Z"
   },
   {
    "duration": 330,
    "start_time": "2023-07-12T21:33:36.302Z"
   },
   {
    "duration": 9,
    "start_time": "2023-07-12T21:33:36.634Z"
   },
   {
    "duration": 23,
    "start_time": "2023-07-12T21:33:36.645Z"
   },
   {
    "duration": 769,
    "start_time": "2023-07-12T21:33:36.670Z"
   },
   {
    "duration": 3,
    "start_time": "2023-07-12T21:33:37.441Z"
   },
   {
    "duration": 62,
    "start_time": "2023-07-12T21:33:37.447Z"
   },
   {
    "duration": 47,
    "start_time": "2023-07-12T21:33:37.511Z"
   },
   {
    "duration": 76,
    "start_time": "2023-07-12T21:33:37.560Z"
   },
   {
    "duration": 230993,
    "start_time": "2023-07-12T21:33:37.638Z"
   },
   {
    "duration": 1340415,
    "start_time": "2023-07-12T21:37:28.633Z"
   },
   {
    "duration": 242277,
    "start_time": "2023-07-12T21:59:49.050Z"
   },
   {
    "duration": 331320,
    "start_time": "2023-07-12T22:03:51.416Z"
   },
   {
    "duration": 17,
    "start_time": "2023-07-12T22:09:22.738Z"
   },
   {
    "duration": 8434,
    "start_time": "2023-07-13T07:41:12.956Z"
   },
   {
    "duration": 3318,
    "start_time": "2023-07-13T07:41:21.393Z"
   },
   {
    "duration": 1217,
    "start_time": "2023-07-13T07:41:24.713Z"
   },
   {
    "duration": 580,
    "start_time": "2023-07-13T07:41:25.932Z"
   },
   {
    "duration": 645,
    "start_time": "2023-07-13T07:41:26.513Z"
   },
   {
    "duration": 740,
    "start_time": "2023-07-13T07:41:27.160Z"
   },
   {
    "duration": 45,
    "start_time": "2023-07-13T07:41:27.902Z"
   },
   {
    "duration": 91,
    "start_time": "2023-07-13T07:41:27.949Z"
   },
   {
    "duration": 186,
    "start_time": "2023-07-13T07:41:28.042Z"
   },
   {
    "duration": 345,
    "start_time": "2023-07-13T07:41:28.231Z"
   },
   {
    "duration": 72374,
    "start_time": "2023-07-13T07:41:28.578Z"
   },
   {
    "duration": 3,
    "start_time": "2023-07-13T07:42:40.954Z"
   },
   {
    "duration": 86,
    "start_time": "2023-07-13T07:42:40.959Z"
   },
   {
    "duration": 92,
    "start_time": "2023-07-13T07:42:41.047Z"
   },
   {
    "duration": 661,
    "start_time": "2023-07-13T07:42:41.141Z"
   },
   {
    "duration": 37,
    "start_time": "2023-07-13T07:42:41.804Z"
   },
   {
    "duration": 250,
    "start_time": "2023-07-13T07:42:41.843Z"
   },
   {
    "duration": 327,
    "start_time": "2023-07-13T07:42:42.095Z"
   },
   {
    "duration": 9,
    "start_time": "2023-07-13T07:42:42.424Z"
   },
   {
    "duration": 9,
    "start_time": "2023-07-13T07:42:42.435Z"
   },
   {
    "duration": 161,
    "start_time": "2023-07-13T07:42:42.446Z"
   },
   {
    "duration": 0,
    "start_time": "2023-07-13T07:42:42.609Z"
   },
   {
    "duration": 0,
    "start_time": "2023-07-13T07:42:42.610Z"
   },
   {
    "duration": 0,
    "start_time": "2023-07-13T07:42:42.611Z"
   },
   {
    "duration": 0,
    "start_time": "2023-07-13T07:42:42.613Z"
   },
   {
    "duration": 0,
    "start_time": "2023-07-13T07:42:42.614Z"
   },
   {
    "duration": 0,
    "start_time": "2023-07-13T07:42:42.615Z"
   },
   {
    "duration": 0,
    "start_time": "2023-07-13T07:42:42.616Z"
   },
   {
    "duration": 0,
    "start_time": "2023-07-13T07:42:42.617Z"
   },
   {
    "duration": 0,
    "start_time": "2023-07-13T07:42:42.618Z"
   },
   {
    "duration": 0,
    "start_time": "2023-07-13T07:42:42.619Z"
   },
   {
    "duration": 0,
    "start_time": "2023-07-13T07:42:42.620Z"
   },
   {
    "duration": 0,
    "start_time": "2023-07-13T07:42:42.622Z"
   },
   {
    "duration": 0,
    "start_time": "2023-07-13T07:42:42.623Z"
   },
   {
    "duration": 0,
    "start_time": "2023-07-13T07:42:42.624Z"
   },
   {
    "duration": 7343,
    "start_time": "2023-07-13T08:23:12.007Z"
   },
   {
    "duration": 4027,
    "start_time": "2023-07-13T08:23:41.523Z"
   },
   {
    "duration": 1035,
    "start_time": "2023-07-13T08:23:45.553Z"
   },
   {
    "duration": 1247,
    "start_time": "2023-07-13T08:23:46.590Z"
   },
   {
    "duration": 597,
    "start_time": "2023-07-13T08:23:47.839Z"
   },
   {
    "duration": 689,
    "start_time": "2023-07-13T08:23:48.438Z"
   },
   {
    "duration": 712,
    "start_time": "2023-07-13T08:23:49.129Z"
   },
   {
    "duration": 56,
    "start_time": "2023-07-13T08:23:49.843Z"
   },
   {
    "duration": 89,
    "start_time": "2023-07-13T08:23:49.901Z"
   },
   {
    "duration": 169,
    "start_time": "2023-07-13T08:23:49.992Z"
   },
   {
    "duration": 366,
    "start_time": "2023-07-13T08:23:50.168Z"
   },
   {
    "duration": 81253,
    "start_time": "2023-07-13T08:23:50.536Z"
   },
   {
    "duration": 3,
    "start_time": "2023-07-13T08:25:11.791Z"
   },
   {
    "duration": 93,
    "start_time": "2023-07-13T08:25:11.796Z"
   },
   {
    "duration": 95,
    "start_time": "2023-07-13T08:25:11.892Z"
   },
   {
    "duration": 710,
    "start_time": "2023-07-13T08:25:11.990Z"
   },
   {
    "duration": 40,
    "start_time": "2023-07-13T08:25:12.702Z"
   },
   {
    "duration": 268,
    "start_time": "2023-07-13T08:25:12.744Z"
   },
   {
    "duration": 238,
    "start_time": "2023-07-13T08:25:13.014Z"
   },
   {
    "duration": 18,
    "start_time": "2023-07-13T08:25:13.255Z"
   },
   {
    "duration": 7,
    "start_time": "2023-07-13T08:25:13.276Z"
   },
   {
    "duration": 912,
    "start_time": "2023-07-13T08:25:13.286Z"
   },
   {
    "duration": 5,
    "start_time": "2023-07-13T08:25:14.200Z"
   },
   {
    "duration": 20,
    "start_time": "2023-07-13T08:25:14.208Z"
   },
   {
    "duration": 42,
    "start_time": "2023-07-13T08:25:14.231Z"
   },
   {
    "duration": 27,
    "start_time": "2023-07-13T08:25:14.283Z"
   },
   {
    "duration": 276577,
    "start_time": "2023-07-13T08:25:14.313Z"
   },
   {
    "duration": 1205321,
    "start_time": "2023-07-13T08:29:50.892Z"
   },
   {
    "duration": 105206,
    "start_time": "2023-07-13T08:49:56.268Z"
   },
   {
    "duration": 329967,
    "start_time": "2023-07-13T08:51:41.475Z"
   },
   {
    "duration": 28,
    "start_time": "2023-07-13T08:57:11.444Z"
   },
   {
    "duration": 3843,
    "start_time": "2023-07-13T10:35:36.813Z"
   },
   {
    "duration": 990,
    "start_time": "2023-07-13T10:35:40.659Z"
   },
   {
    "duration": 1370,
    "start_time": "2023-07-13T10:35:41.651Z"
   },
   {
    "duration": 608,
    "start_time": "2023-07-13T10:35:43.022Z"
   },
   {
    "duration": 704,
    "start_time": "2023-07-13T10:35:43.633Z"
   },
   {
    "duration": 784,
    "start_time": "2023-07-13T10:35:44.339Z"
   },
   {
    "duration": 62,
    "start_time": "2023-07-13T10:35:45.124Z"
   },
   {
    "duration": 87,
    "start_time": "2023-07-13T10:35:45.189Z"
   },
   {
    "duration": 159,
    "start_time": "2023-07-13T10:35:45.278Z"
   },
   {
    "duration": 341,
    "start_time": "2023-07-13T10:35:45.438Z"
   },
   {
    "duration": 73328,
    "start_time": "2023-07-13T10:35:45.781Z"
   },
   {
    "duration": 5,
    "start_time": "2023-07-13T10:36:59.112Z"
   },
   {
    "duration": 98,
    "start_time": "2023-07-13T10:36:59.119Z"
   },
   {
    "duration": 108,
    "start_time": "2023-07-13T10:36:59.221Z"
   },
   {
    "duration": 771,
    "start_time": "2023-07-13T10:36:59.330Z"
   },
   {
    "duration": 48,
    "start_time": "2023-07-13T10:37:00.103Z"
   },
   {
    "duration": 393,
    "start_time": "2023-07-13T10:37:00.154Z"
   },
   {
    "duration": 256,
    "start_time": "2023-07-13T10:37:00.549Z"
   },
   {
    "duration": 11,
    "start_time": "2023-07-13T10:37:00.807Z"
   },
   {
    "duration": 69,
    "start_time": "2023-07-13T10:37:00.821Z"
   },
   {
    "duration": 1005,
    "start_time": "2023-07-13T10:37:00.898Z"
   },
   {
    "duration": 4,
    "start_time": "2023-07-13T10:37:01.905Z"
   },
   {
    "duration": 103,
    "start_time": "2023-07-13T10:37:01.912Z"
   },
   {
    "duration": 95,
    "start_time": "2023-07-13T10:37:02.018Z"
   },
   {
    "duration": 175,
    "start_time": "2023-07-13T10:37:02.116Z"
   },
   {
    "duration": 239177,
    "start_time": "2023-07-13T10:37:02.296Z"
   },
   {
    "duration": 1231925,
    "start_time": "2023-07-13T10:41:01.477Z"
   },
   {
    "duration": 103972,
    "start_time": "2023-07-13T11:01:33.404Z"
   },
   {
    "duration": 350398,
    "start_time": "2023-07-13T11:03:17.378Z"
   },
   {
    "duration": 20,
    "start_time": "2023-07-13T11:09:07.788Z"
   },
   {
    "duration": 9616748,
    "start_time": "2023-07-13T11:09:07.809Z"
   },
   {
    "duration": 22,
    "start_time": "2023-07-13T13:49:24.559Z"
   },
   {
    "duration": 0,
    "start_time": "2023-07-13T13:49:24.583Z"
   },
   {
    "duration": 0,
    "start_time": "2023-07-13T13:49:24.584Z"
   },
   {
    "duration": 0,
    "start_time": "2023-07-13T13:49:24.586Z"
   },
   {
    "duration": 3836,
    "start_time": "2023-07-13T14:24:45.060Z"
   },
   {
    "duration": 939,
    "start_time": "2023-07-13T14:24:48.898Z"
   },
   {
    "duration": 1218,
    "start_time": "2023-07-13T14:24:49.840Z"
   },
   {
    "duration": 620,
    "start_time": "2023-07-13T14:24:51.072Z"
   },
   {
    "duration": 663,
    "start_time": "2023-07-13T14:24:51.693Z"
   },
   {
    "duration": 737,
    "start_time": "2023-07-13T14:24:52.357Z"
   },
   {
    "duration": 46,
    "start_time": "2023-07-13T14:24:53.097Z"
   },
   {
    "duration": 103,
    "start_time": "2023-07-13T14:24:53.145Z"
   },
   {
    "duration": 169,
    "start_time": "2023-07-13T14:24:53.250Z"
   },
   {
    "duration": 336,
    "start_time": "2023-07-13T14:24:53.422Z"
   },
   {
    "duration": 72913,
    "start_time": "2023-07-13T14:24:53.760Z"
   },
   {
    "duration": 7,
    "start_time": "2023-07-13T14:26:06.676Z"
   },
   {
    "duration": 73,
    "start_time": "2023-07-13T14:26:06.686Z"
   },
   {
    "duration": 100,
    "start_time": "2023-07-13T14:26:06.761Z"
   },
   {
    "duration": 625,
    "start_time": "2023-07-13T14:26:06.863Z"
   },
   {
    "duration": 35,
    "start_time": "2023-07-13T14:26:07.490Z"
   },
   {
    "duration": 224,
    "start_time": "2023-07-13T14:26:07.527Z"
   },
   {
    "duration": 215,
    "start_time": "2023-07-13T14:26:07.753Z"
   },
   {
    "duration": 10,
    "start_time": "2023-07-13T14:26:07.973Z"
   },
   {
    "duration": 25,
    "start_time": "2023-07-13T14:26:07.985Z"
   },
   {
    "duration": 784,
    "start_time": "2023-07-13T14:26:08.012Z"
   },
   {
    "duration": 4,
    "start_time": "2023-07-13T14:26:08.798Z"
   },
   {
    "duration": 19,
    "start_time": "2023-07-13T14:26:08.804Z"
   },
   {
    "duration": 24,
    "start_time": "2023-07-13T14:26:08.825Z"
   },
   {
    "duration": 21,
    "start_time": "2023-07-13T14:26:08.850Z"
   },
   {
    "duration": 249523,
    "start_time": "2023-07-13T14:26:08.873Z"
   },
   {
    "duration": 1201900,
    "start_time": "2023-07-13T14:30:18.399Z"
   },
   {
    "duration": 103896,
    "start_time": "2023-07-13T14:50:20.374Z"
   },
   {
    "duration": 347599,
    "start_time": "2023-07-13T14:52:04.272Z"
   },
   {
    "duration": 20,
    "start_time": "2023-07-13T14:57:51.874Z"
   },
   {
    "duration": 3836628,
    "start_time": "2023-07-13T14:57:51.896Z"
   },
   {
    "duration": 23,
    "start_time": "2023-07-13T16:01:48.526Z"
   },
   {
    "duration": 0,
    "start_time": "2023-07-13T16:01:48.551Z"
   },
   {
    "duration": 0,
    "start_time": "2023-07-13T16:01:48.552Z"
   },
   {
    "duration": 0,
    "start_time": "2023-07-13T16:01:48.553Z"
   },
   {
    "duration": 3564,
    "start_time": "2023-07-13T16:05:17.953Z"
   },
   {
    "duration": 912,
    "start_time": "2023-07-13T16:05:21.520Z"
   },
   {
    "duration": 1228,
    "start_time": "2023-07-13T16:05:22.434Z"
   },
   {
    "duration": 614,
    "start_time": "2023-07-13T16:05:23.667Z"
   },
   {
    "duration": 597,
    "start_time": "2023-07-13T16:05:24.283Z"
   },
   {
    "duration": 649,
    "start_time": "2023-07-13T16:05:24.883Z"
   },
   {
    "duration": 52,
    "start_time": "2023-07-13T16:05:25.534Z"
   },
   {
    "duration": 68,
    "start_time": "2023-07-13T16:05:25.588Z"
   },
   {
    "duration": 158,
    "start_time": "2023-07-13T16:05:25.658Z"
   },
   {
    "duration": 304,
    "start_time": "2023-07-13T16:05:25.819Z"
   },
   {
    "duration": 68402,
    "start_time": "2023-07-13T16:05:26.125Z"
   },
   {
    "duration": 2,
    "start_time": "2023-07-13T16:06:34.529Z"
   },
   {
    "duration": 79,
    "start_time": "2023-07-13T16:06:34.533Z"
   },
   {
    "duration": 90,
    "start_time": "2023-07-13T16:06:34.614Z"
   },
   {
    "duration": 585,
    "start_time": "2023-07-13T16:06:34.705Z"
   },
   {
    "duration": 37,
    "start_time": "2023-07-13T16:06:35.292Z"
   },
   {
    "duration": 213,
    "start_time": "2023-07-13T16:06:35.331Z"
   },
   {
    "duration": 205,
    "start_time": "2023-07-13T16:06:35.546Z"
   },
   {
    "duration": 9,
    "start_time": "2023-07-13T16:06:35.753Z"
   },
   {
    "duration": 13,
    "start_time": "2023-07-13T16:06:35.768Z"
   },
   {
    "duration": 812,
    "start_time": "2023-07-13T16:06:35.784Z"
   },
   {
    "duration": 3,
    "start_time": "2023-07-13T16:06:36.602Z"
   },
   {
    "duration": 24,
    "start_time": "2023-07-13T16:06:36.607Z"
   },
   {
    "duration": 9,
    "start_time": "2023-07-13T16:06:36.633Z"
   },
   {
    "duration": 20,
    "start_time": "2023-07-13T16:06:36.644Z"
   },
   {
    "duration": 283610,
    "start_time": "2023-07-13T16:06:36.666Z"
   },
   {
    "duration": 1187311,
    "start_time": "2023-07-13T16:11:20.278Z"
   },
   {
    "duration": 106077,
    "start_time": "2023-07-13T16:31:07.593Z"
   },
   {
    "duration": 316863,
    "start_time": "2023-07-13T16:32:53.673Z"
   },
   {
    "duration": 17,
    "start_time": "2023-07-13T16:38:10.538Z"
   },
   {
    "duration": 959620,
    "start_time": "2023-07-13T16:38:10.557Z"
   },
   {
    "duration": 8,
    "start_time": "2023-07-13T16:54:10.180Z"
   },
   {
    "duration": 41698,
    "start_time": "2023-07-13T16:54:10.190Z"
   },
   {
    "duration": 12321,
    "start_time": "2023-07-13T16:54:51.890Z"
   },
   {
    "duration": 58,
    "start_time": "2023-07-13T16:55:04.212Z"
   },
   {
    "duration": 55794,
    "start_time": "2023-07-13T17:00:40.772Z"
   },
   {
    "duration": 12278,
    "start_time": "2023-07-13T17:02:17.305Z"
   },
   {
    "duration": 6,
    "start_time": "2023-07-13T17:02:32.447Z"
   },
   {
    "duration": 1485,
    "start_time": "2023-07-14T05:36:27.271Z"
   },
   {
    "duration": 9355,
    "start_time": "2023-07-14T09:37:41.414Z"
   },
   {
    "duration": 2875,
    "start_time": "2023-07-14T09:37:50.772Z"
   },
   {
    "duration": 1149,
    "start_time": "2023-07-14T09:37:53.649Z"
   },
   {
    "duration": 697,
    "start_time": "2023-07-14T09:37:54.801Z"
   },
   {
    "duration": 48,
    "start_time": "2023-07-14T09:37:55.500Z"
   },
   {
    "duration": 93,
    "start_time": "2023-07-14T09:37:55.550Z"
   },
   {
    "duration": 245,
    "start_time": "2023-07-14T09:37:55.646Z"
   },
   {
    "duration": 298,
    "start_time": "2023-07-14T09:37:55.894Z"
   },
   {
    "duration": 5,
    "start_time": "2023-07-14T09:37:56.195Z"
   },
   {
    "duration": 16,
    "start_time": "2023-07-14T09:37:56.215Z"
   },
   {
    "duration": 101,
    "start_time": "2023-07-14T09:37:56.233Z"
   },
   {
    "duration": 92,
    "start_time": "2023-07-14T09:37:56.335Z"
   },
   {
    "duration": 2284,
    "start_time": "2023-07-14T09:48:41.745Z"
   },
   {
    "duration": 882,
    "start_time": "2023-07-14T09:48:44.031Z"
   },
   {
    "duration": 1134,
    "start_time": "2023-07-14T09:48:44.915Z"
   },
   {
    "duration": 654,
    "start_time": "2023-07-14T09:48:46.052Z"
   },
   {
    "duration": 50,
    "start_time": "2023-07-14T09:48:46.708Z"
   },
   {
    "duration": 94,
    "start_time": "2023-07-14T09:48:46.759Z"
   },
   {
    "duration": 164,
    "start_time": "2023-07-14T09:48:46.855Z"
   },
   {
    "duration": 299,
    "start_time": "2023-07-14T09:48:47.021Z"
   },
   {
    "duration": 9,
    "start_time": "2023-07-14T09:48:47.321Z"
   },
   {
    "duration": 25,
    "start_time": "2023-07-14T09:48:47.333Z"
   },
   {
    "duration": 113,
    "start_time": "2023-07-14T09:48:47.361Z"
   },
   {
    "duration": 148,
    "start_time": "2023-07-14T09:48:47.476Z"
   },
   {
    "duration": 2777,
    "start_time": "2023-07-14T14:36:16.355Z"
   },
   {
    "duration": 15,
    "start_time": "2023-07-14T14:36:19.134Z"
   },
   {
    "duration": 1046,
    "start_time": "2023-07-14T14:36:19.153Z"
   },
   {
    "duration": 1435,
    "start_time": "2023-07-14T14:36:20.201Z"
   },
   {
    "duration": 809,
    "start_time": "2023-07-14T14:36:21.647Z"
   },
   {
    "duration": 9,
    "start_time": "2023-07-14T14:37:24.586Z"
   },
   {
    "duration": 172,
    "start_time": "2023-07-14T14:37:30.978Z"
   },
   {
    "duration": 201,
    "start_time": "2023-07-14T14:37:39.278Z"
   },
   {
    "duration": 22,
    "start_time": "2023-07-14T14:37:42.354Z"
   },
   {
    "duration": 18,
    "start_time": "2023-07-14T14:37:55.810Z"
   },
   {
    "duration": 6,
    "start_time": "2023-07-14T14:41:17.808Z"
   },
   {
    "duration": 134,
    "start_time": "2023-07-14T14:43:21.877Z"
   },
   {
    "duration": 16,
    "start_time": "2023-07-14T14:43:32.175Z"
   },
   {
    "duration": 39,
    "start_time": "2023-07-14T14:44:52.940Z"
   },
   {
    "duration": 2374,
    "start_time": "2023-07-14T14:44:59.369Z"
   },
   {
    "duration": 6,
    "start_time": "2023-07-14T14:45:01.745Z"
   },
   {
    "duration": 964,
    "start_time": "2023-07-14T14:45:01.752Z"
   },
   {
    "duration": 1108,
    "start_time": "2023-07-14T14:45:02.722Z"
   },
   {
    "duration": 33,
    "start_time": "2023-07-14T14:45:07.556Z"
   },
   {
    "duration": 675,
    "start_time": "2023-07-14T14:45:09.845Z"
   },
   {
    "duration": 4,
    "start_time": "2023-07-14T14:46:07.553Z"
   },
   {
    "duration": 62,
    "start_time": "2023-07-14T14:46:10.270Z"
   },
   {
    "duration": 4,
    "start_time": "2023-07-14T14:46:39.978Z"
   },
   {
    "duration": 13,
    "start_time": "2023-07-14T14:46:50.584Z"
   },
   {
    "duration": 4,
    "start_time": "2023-07-14T14:47:02.199Z"
   },
   {
    "duration": 12,
    "start_time": "2023-07-14T14:50:52.750Z"
   },
   {
    "duration": 4,
    "start_time": "2023-07-14T14:51:37.645Z"
   },
   {
    "duration": 2581,
    "start_time": "2023-07-14T14:51:48.732Z"
   },
   {
    "duration": 13,
    "start_time": "2023-07-14T14:51:51.324Z"
   },
   {
    "duration": 926,
    "start_time": "2023-07-14T14:51:51.340Z"
   },
   {
    "duration": 1233,
    "start_time": "2023-07-14T14:51:52.268Z"
   },
   {
    "duration": 4,
    "start_time": "2023-07-14T14:51:53.503Z"
   },
   {
    "duration": 768,
    "start_time": "2023-07-14T14:51:53.514Z"
   },
   {
    "duration": 5,
    "start_time": "2023-07-14T14:51:57.467Z"
   },
   {
    "duration": 57,
    "start_time": "2023-07-14T14:52:36.572Z"
   },
   {
    "duration": 4,
    "start_time": "2023-07-14T14:52:51.269Z"
   },
   {
    "duration": 646,
    "start_time": "2023-07-14T14:53:36.426Z"
   },
   {
    "duration": 153,
    "start_time": "2023-07-14T14:53:55.180Z"
   },
   {
    "duration": 709,
    "start_time": "2023-07-14T14:59:32.366Z"
   },
   {
    "duration": 854,
    "start_time": "2023-07-14T14:59:54.702Z"
   },
   {
    "duration": 656,
    "start_time": "2023-07-14T15:00:56.661Z"
   },
   {
    "duration": 727,
    "start_time": "2023-07-14T15:01:18.053Z"
   },
   {
    "duration": 350,
    "start_time": "2023-07-14T15:02:49.439Z"
   },
   {
    "duration": 446,
    "start_time": "2023-07-14T15:02:54.684Z"
   },
   {
    "duration": 296,
    "start_time": "2023-07-14T15:09:14.872Z"
   },
   {
    "duration": 657,
    "start_time": "2023-07-14T15:09:22.991Z"
   },
   {
    "duration": 770,
    "start_time": "2023-07-14T15:09:45.133Z"
   },
   {
    "duration": 680,
    "start_time": "2023-07-14T15:09:54.642Z"
   },
   {
    "duration": 566,
    "start_time": "2023-07-14T15:10:11.487Z"
   },
   {
    "duration": 635,
    "start_time": "2023-07-14T15:10:59.957Z"
   },
   {
    "duration": 723,
    "start_time": "2023-07-14T15:11:06.495Z"
   },
   {
    "duration": 565,
    "start_time": "2023-07-14T15:12:24.138Z"
   },
   {
    "duration": 795,
    "start_time": "2023-07-14T15:13:45.248Z"
   },
   {
    "duration": 934,
    "start_time": "2023-07-14T15:13:53.649Z"
   },
   {
    "duration": 628,
    "start_time": "2023-07-14T15:14:03.128Z"
   },
   {
    "duration": 633,
    "start_time": "2023-07-14T15:16:18.522Z"
   },
   {
    "duration": 216,
    "start_time": "2023-07-14T15:16:34.088Z"
   },
   {
    "duration": 672,
    "start_time": "2023-07-14T15:16:44.872Z"
   },
   {
    "duration": 813,
    "start_time": "2023-07-14T15:16:55.888Z"
   },
   {
    "duration": 664,
    "start_time": "2023-07-14T15:17:26.967Z"
   },
   {
    "duration": 699,
    "start_time": "2023-07-14T15:17:47.800Z"
   },
   {
    "duration": 8,
    "start_time": "2023-07-14T15:19:07.831Z"
   },
   {
    "duration": 5,
    "start_time": "2023-07-14T15:20:33.469Z"
   },
   {
    "duration": 1203,
    "start_time": "2023-07-14T15:20:54.485Z"
   },
   {
    "duration": 31,
    "start_time": "2023-07-14T15:26:43.978Z"
   },
   {
    "duration": 14,
    "start_time": "2023-07-14T15:33:02.781Z"
   },
   {
    "duration": 23,
    "start_time": "2023-07-14T15:33:24.285Z"
   },
   {
    "duration": 30,
    "start_time": "2023-07-14T15:33:29.311Z"
   },
   {
    "duration": 28,
    "start_time": "2023-07-14T15:33:49.903Z"
   },
   {
    "duration": 22,
    "start_time": "2023-07-14T15:36:35.612Z"
   },
   {
    "duration": 17,
    "start_time": "2023-07-14T15:36:58.438Z"
   },
   {
    "duration": 29,
    "start_time": "2023-07-14T15:43:21.913Z"
   },
   {
    "duration": 36,
    "start_time": "2023-07-14T15:52:06.496Z"
   },
   {
    "duration": 20,
    "start_time": "2023-07-14T15:56:41.590Z"
   },
   {
    "duration": 26,
    "start_time": "2023-07-14T15:58:31.841Z"
   },
   {
    "duration": 36,
    "start_time": "2023-07-14T15:59:52.148Z"
   },
   {
    "duration": 40,
    "start_time": "2023-07-14T16:00:24.440Z"
   },
   {
    "duration": 17,
    "start_time": "2023-07-14T16:08:52.882Z"
   },
   {
    "duration": 2394,
    "start_time": "2023-07-14T16:09:47.847Z"
   },
   {
    "duration": 10,
    "start_time": "2023-07-14T16:09:50.249Z"
   },
   {
    "duration": 905,
    "start_time": "2023-07-14T16:09:50.261Z"
   },
   {
    "duration": 1124,
    "start_time": "2023-07-14T16:09:51.169Z"
   },
   {
    "duration": 3,
    "start_time": "2023-07-14T16:09:52.295Z"
   },
   {
    "duration": 686,
    "start_time": "2023-07-14T16:09:52.300Z"
   },
   {
    "duration": 46,
    "start_time": "2023-07-14T16:09:52.987Z"
   },
   {
    "duration": 85,
    "start_time": "2023-07-14T16:09:53.039Z"
   },
   {
    "duration": 168,
    "start_time": "2023-07-14T16:09:53.129Z"
   },
   {
    "duration": 354,
    "start_time": "2023-07-14T16:09:53.299Z"
   },
   {
    "duration": 4,
    "start_time": "2023-07-14T16:09:53.655Z"
   },
   {
    "duration": 11,
    "start_time": "2023-07-14T16:09:53.663Z"
   },
   {
    "duration": 98,
    "start_time": "2023-07-14T16:09:53.676Z"
   },
   {
    "duration": 118,
    "start_time": "2023-07-14T16:09:53.778Z"
   },
   {
    "duration": 1138,
    "start_time": "2023-07-14T16:09:53.898Z"
   },
   {
    "duration": 42,
    "start_time": "2023-07-14T16:09:55.038Z"
   },
   {
    "duration": 160,
    "start_time": "2023-07-14T16:09:55.082Z"
   },
   {
    "duration": 19,
    "start_time": "2023-07-14T16:09:57.288Z"
   },
   {
    "duration": 10,
    "start_time": "2023-07-14T16:16:08.655Z"
   },
   {
    "duration": 34,
    "start_time": "2023-07-14T16:16:19.970Z"
   },
   {
    "duration": 32,
    "start_time": "2023-07-14T16:16:31.602Z"
   },
   {
    "duration": 27,
    "start_time": "2023-07-14T16:16:36.465Z"
   },
   {
    "duration": 169,
    "start_time": "2023-07-14T16:16:46.306Z"
   },
   {
    "duration": 27,
    "start_time": "2023-07-14T16:16:50.690Z"
   },
   {
    "duration": 14,
    "start_time": "2023-07-14T16:17:09.386Z"
   },
   {
    "duration": 45,
    "start_time": "2023-07-14T16:17:13.960Z"
   },
   {
    "duration": 25,
    "start_time": "2023-07-14T16:17:35.770Z"
   },
   {
    "duration": 170,
    "start_time": "2023-07-14T16:18:12.609Z"
   },
   {
    "duration": 155,
    "start_time": "2023-07-14T16:18:18.647Z"
   },
   {
    "duration": 193,
    "start_time": "2023-07-14T16:18:21.488Z"
   },
   {
    "duration": 10,
    "start_time": "2023-07-14T16:18:27.896Z"
   },
   {
    "duration": 26,
    "start_time": "2023-07-14T16:18:49.103Z"
   },
   {
    "duration": 44,
    "start_time": "2023-07-14T16:20:48.583Z"
   },
   {
    "duration": 19,
    "start_time": "2023-07-14T16:20:56.974Z"
   },
   {
    "duration": 99,
    "start_time": "2023-07-14T16:21:09.296Z"
   },
   {
    "duration": 2641,
    "start_time": "2023-07-14T16:21:44.191Z"
   },
   {
    "duration": 1459,
    "start_time": "2023-07-14T16:21:46.834Z"
   },
   {
    "duration": 1002,
    "start_time": "2023-07-14T16:21:48.295Z"
   },
   {
    "duration": 1405,
    "start_time": "2023-07-14T16:21:49.299Z"
   },
   {
    "duration": 11,
    "start_time": "2023-07-14T16:21:50.706Z"
   },
   {
    "duration": 687,
    "start_time": "2023-07-14T16:21:50.721Z"
   },
   {
    "duration": 77,
    "start_time": "2023-07-14T16:21:51.409Z"
   },
   {
    "duration": 99,
    "start_time": "2023-07-14T16:21:51.488Z"
   },
   {
    "duration": 226,
    "start_time": "2023-07-14T16:21:51.590Z"
   },
   {
    "duration": 378,
    "start_time": "2023-07-14T16:21:51.822Z"
   },
   {
    "duration": 4,
    "start_time": "2023-07-14T16:21:52.202Z"
   },
   {
    "duration": 34,
    "start_time": "2023-07-14T16:21:52.213Z"
   },
   {
    "duration": 121,
    "start_time": "2023-07-14T16:21:52.251Z"
   },
   {
    "duration": 148,
    "start_time": "2023-07-14T16:21:52.376Z"
   },
   {
    "duration": 1302,
    "start_time": "2023-07-14T16:21:52.526Z"
   },
   {
    "duration": 63,
    "start_time": "2023-07-14T16:21:53.830Z"
   },
   {
    "duration": 218,
    "start_time": "2023-07-14T16:21:53.896Z"
   },
   {
    "duration": 33,
    "start_time": "2023-07-14T16:21:54.127Z"
   },
   {
    "duration": 43,
    "start_time": "2023-07-14T16:21:54.163Z"
   },
   {
    "duration": 75,
    "start_time": "2023-07-14T16:22:57.158Z"
   },
   {
    "duration": 2553,
    "start_time": "2023-07-14T16:23:55.854Z"
   },
   {
    "duration": 27,
    "start_time": "2023-07-14T16:23:58.410Z"
   },
   {
    "duration": 1005,
    "start_time": "2023-07-14T16:23:58.440Z"
   },
   {
    "duration": 1392,
    "start_time": "2023-07-14T16:23:59.447Z"
   },
   {
    "duration": 10,
    "start_time": "2023-07-14T16:24:00.841Z"
   },
   {
    "duration": 890,
    "start_time": "2023-07-14T16:24:00.854Z"
   },
   {
    "duration": 56,
    "start_time": "2023-07-14T16:24:01.746Z"
   },
   {
    "duration": 116,
    "start_time": "2023-07-14T16:24:01.804Z"
   },
   {
    "duration": 248,
    "start_time": "2023-07-14T16:24:01.921Z"
   },
   {
    "duration": 400,
    "start_time": "2023-07-14T16:24:02.172Z"
   },
   {
    "duration": 9,
    "start_time": "2023-07-14T16:24:02.577Z"
   },
   {
    "duration": 58,
    "start_time": "2023-07-14T16:24:02.595Z"
   },
   {
    "duration": 136,
    "start_time": "2023-07-14T16:24:02.659Z"
   },
   {
    "duration": 166,
    "start_time": "2023-07-14T16:24:02.797Z"
   },
   {
    "duration": 140,
    "start_time": "2023-07-14T16:24:02.965Z"
   },
   {
    "duration": 1321,
    "start_time": "2023-07-14T16:24:03.107Z"
   },
   {
    "duration": 46,
    "start_time": "2023-07-14T16:24:04.431Z"
   },
   {
    "duration": 186,
    "start_time": "2023-07-14T16:24:04.481Z"
   },
   {
    "duration": 26,
    "start_time": "2023-07-14T16:24:04.670Z"
   },
   {
    "duration": 57,
    "start_time": "2023-07-14T16:24:04.699Z"
   },
   {
    "duration": 95,
    "start_time": "2023-07-14T16:24:04.758Z"
   },
   {
    "duration": 236,
    "start_time": "2023-07-14T16:24:04.855Z"
   },
   {
    "duration": 184,
    "start_time": "2023-07-14T16:24:05.093Z"
   },
   {
    "duration": 88,
    "start_time": "2023-07-14T16:24:05.281Z"
   },
   {
    "duration": 18,
    "start_time": "2023-07-14T16:25:23.387Z"
   },
   {
    "duration": 9,
    "start_time": "2023-07-14T16:26:52.785Z"
   },
   {
    "duration": 10,
    "start_time": "2023-07-14T16:28:41.711Z"
   },
   {
    "duration": 5,
    "start_time": "2023-07-14T16:28:45.079Z"
   },
   {
    "duration": 40,
    "start_time": "2023-07-14T16:29:21.038Z"
   },
   {
    "duration": 22,
    "start_time": "2023-07-14T16:30:01.976Z"
   },
   {
    "duration": 23,
    "start_time": "2023-07-14T16:30:05.469Z"
   },
   {
    "duration": 67,
    "start_time": "2023-07-14T16:30:25.095Z"
   },
   {
    "duration": 3015,
    "start_time": "2023-07-14T16:31:34.086Z"
   },
   {
    "duration": 7,
    "start_time": "2023-07-14T16:31:37.104Z"
   },
   {
    "duration": 1148,
    "start_time": "2023-07-14T16:31:37.113Z"
   },
   {
    "duration": 1432,
    "start_time": "2023-07-14T16:31:38.265Z"
   },
   {
    "duration": 6,
    "start_time": "2023-07-14T16:31:39.701Z"
   },
   {
    "duration": 1256,
    "start_time": "2023-07-14T16:31:39.709Z"
   },
   {
    "duration": 66,
    "start_time": "2023-07-14T16:31:40.967Z"
   },
   {
    "duration": 141,
    "start_time": "2023-07-14T16:31:41.038Z"
   },
   {
    "duration": 250,
    "start_time": "2023-07-14T16:31:41.189Z"
   },
   {
    "duration": 386,
    "start_time": "2023-07-14T16:31:41.446Z"
   },
   {
    "duration": 3153,
    "start_time": "2023-07-14T16:31:41.833Z"
   },
   {
    "duration": 2,
    "start_time": "2023-07-14T16:31:44.988Z"
   },
   {
    "duration": 147,
    "start_time": "2023-07-14T16:31:44.992Z"
   },
   {
    "duration": 143,
    "start_time": "2023-07-14T16:31:45.142Z"
   },
   {
    "duration": 313,
    "start_time": "2023-07-14T16:31:45.289Z"
   },
   {
    "duration": 1425,
    "start_time": "2023-07-14T16:31:45.607Z"
   },
   {
    "duration": 54,
    "start_time": "2023-07-14T16:31:47.038Z"
   },
   {
    "duration": 207,
    "start_time": "2023-07-14T16:31:47.096Z"
   },
   {
    "duration": 34,
    "start_time": "2023-07-14T16:31:47.305Z"
   },
   {
    "duration": 75,
    "start_time": "2023-07-14T16:31:47.345Z"
   },
   {
    "duration": 15,
    "start_time": "2023-07-14T16:31:47.422Z"
   },
   {
    "duration": 22,
    "start_time": "2023-07-14T16:31:47.439Z"
   },
   {
    "duration": 76,
    "start_time": "2023-07-14T16:31:47.463Z"
   },
   {
    "duration": 2535,
    "start_time": "2023-07-14T16:33:23.240Z"
   },
   {
    "duration": 7,
    "start_time": "2023-07-14T16:33:25.778Z"
   },
   {
    "duration": 951,
    "start_time": "2023-07-14T16:33:25.787Z"
   },
   {
    "duration": 1259,
    "start_time": "2023-07-14T16:33:26.752Z"
   },
   {
    "duration": 16,
    "start_time": "2023-07-14T16:33:28.013Z"
   },
   {
    "duration": 728,
    "start_time": "2023-07-14T16:33:28.038Z"
   },
   {
    "duration": 42,
    "start_time": "2023-07-14T16:33:28.770Z"
   },
   {
    "duration": 114,
    "start_time": "2023-07-14T16:33:28.815Z"
   },
   {
    "duration": 190,
    "start_time": "2023-07-14T16:33:28.935Z"
   },
   {
    "duration": 343,
    "start_time": "2023-07-14T16:33:29.146Z"
   },
   {
    "duration": 2719,
    "start_time": "2023-07-14T16:33:29.491Z"
   },
   {
    "duration": 3,
    "start_time": "2023-07-14T16:33:32.218Z"
   },
   {
    "duration": 106,
    "start_time": "2023-07-14T16:33:32.223Z"
   },
   {
    "duration": 154,
    "start_time": "2023-07-14T16:33:32.333Z"
   },
   {
    "duration": 100,
    "start_time": "2023-07-14T16:33:32.489Z"
   },
   {
    "duration": 1360,
    "start_time": "2023-07-14T16:33:32.591Z"
   },
   {
    "duration": 33,
    "start_time": "2023-07-14T16:33:33.961Z"
   },
   {
    "duration": 172,
    "start_time": "2023-07-14T16:33:33.996Z"
   },
   {
    "duration": 26,
    "start_time": "2023-07-14T16:33:34.170Z"
   },
   {
    "duration": 69,
    "start_time": "2023-07-14T16:33:34.198Z"
   },
   {
    "duration": 13,
    "start_time": "2023-07-14T16:33:34.270Z"
   },
   {
    "duration": 7,
    "start_time": "2023-07-14T16:33:34.285Z"
   },
   {
    "duration": 80,
    "start_time": "2023-07-14T16:33:34.293Z"
   },
   {
    "duration": 164,
    "start_time": "2023-07-14T16:33:34.375Z"
   },
   {
    "duration": 168,
    "start_time": "2023-07-14T16:33:34.540Z"
   },
   {
    "duration": 32,
    "start_time": "2023-07-14T16:34:57.854Z"
   },
   {
    "duration": 8,
    "start_time": "2023-07-14T16:40:42.000Z"
   },
   {
    "duration": 182,
    "start_time": "2023-07-14T16:40:56.479Z"
   },
   {
    "duration": 236,
    "start_time": "2023-07-14T16:41:20.026Z"
   },
   {
    "duration": 8,
    "start_time": "2023-07-14T16:41:49.250Z"
   },
   {
    "duration": 6,
    "start_time": "2023-07-14T16:42:01.255Z"
   },
   {
    "duration": 8,
    "start_time": "2023-07-14T16:42:02.654Z"
   },
   {
    "duration": 2738,
    "start_time": "2023-07-14T16:42:18.557Z"
   },
   {
    "duration": 8,
    "start_time": "2023-07-14T16:42:21.298Z"
   },
   {
    "duration": 1044,
    "start_time": "2023-07-14T16:42:21.308Z"
   },
   {
    "duration": 1347,
    "start_time": "2023-07-14T16:42:22.354Z"
   },
   {
    "duration": 13,
    "start_time": "2023-07-14T16:42:23.703Z"
   },
   {
    "duration": 761,
    "start_time": "2023-07-14T16:42:23.718Z"
   },
   {
    "duration": 52,
    "start_time": "2023-07-14T16:42:24.480Z"
   },
   {
    "duration": 102,
    "start_time": "2023-07-14T16:42:24.539Z"
   },
   {
    "duration": 179,
    "start_time": "2023-07-14T16:42:24.653Z"
   },
   {
    "duration": 358,
    "start_time": "2023-07-14T16:42:24.837Z"
   },
   {
    "duration": 2307,
    "start_time": "2023-07-14T16:42:25.197Z"
   },
   {
    "duration": 7,
    "start_time": "2023-07-14T16:42:27.507Z"
   },
   {
    "duration": 92,
    "start_time": "2023-07-14T16:42:27.521Z"
   },
   {
    "duration": 131,
    "start_time": "2023-07-14T16:42:27.622Z"
   },
   {
    "duration": 113,
    "start_time": "2023-07-14T16:42:27.755Z"
   },
   {
    "duration": 1370,
    "start_time": "2023-07-14T16:42:27.870Z"
   },
   {
    "duration": 35,
    "start_time": "2023-07-14T16:42:29.242Z"
   },
   {
    "duration": 175,
    "start_time": "2023-07-14T16:42:29.281Z"
   },
   {
    "duration": 30,
    "start_time": "2023-07-14T16:42:29.458Z"
   },
   {
    "duration": 54,
    "start_time": "2023-07-14T16:42:29.490Z"
   },
   {
    "duration": 12,
    "start_time": "2023-07-14T16:42:29.546Z"
   },
   {
    "duration": 10,
    "start_time": "2023-07-14T16:42:29.561Z"
   },
   {
    "duration": 67,
    "start_time": "2023-07-14T16:42:29.573Z"
   },
   {
    "duration": 13,
    "start_time": "2023-07-14T16:42:29.644Z"
   },
   {
    "duration": 7,
    "start_time": "2023-07-14T16:42:29.659Z"
   },
   {
    "duration": 27,
    "start_time": "2023-07-14T16:42:29.667Z"
   },
   {
    "duration": 2608,
    "start_time": "2023-07-14T16:43:05.349Z"
   },
   {
    "duration": 8,
    "start_time": "2023-07-14T16:43:07.961Z"
   },
   {
    "duration": 920,
    "start_time": "2023-07-14T16:43:07.971Z"
   },
   {
    "duration": 1512,
    "start_time": "2023-07-14T16:43:08.895Z"
   },
   {
    "duration": 3,
    "start_time": "2023-07-14T16:43:10.413Z"
   },
   {
    "duration": 750,
    "start_time": "2023-07-14T16:43:10.420Z"
   },
   {
    "duration": 61,
    "start_time": "2023-07-14T16:43:11.172Z"
   },
   {
    "duration": 98,
    "start_time": "2023-07-14T16:43:11.235Z"
   },
   {
    "duration": 174,
    "start_time": "2023-07-14T16:43:11.335Z"
   },
   {
    "duration": 368,
    "start_time": "2023-07-14T16:43:11.512Z"
   },
   {
    "duration": 87864,
    "start_time": "2023-07-14T16:43:11.881Z"
   },
   {
    "duration": 5,
    "start_time": "2023-07-14T16:44:39.747Z"
   },
   {
    "duration": 126,
    "start_time": "2023-07-14T16:44:39.753Z"
   },
   {
    "duration": 199,
    "start_time": "2023-07-14T16:44:39.882Z"
   },
   {
    "duration": 274,
    "start_time": "2023-07-14T16:44:40.083Z"
   },
   {
    "duration": 1399,
    "start_time": "2023-07-14T16:44:40.366Z"
   },
   {
    "duration": 50,
    "start_time": "2023-07-14T16:44:41.767Z"
   },
   {
    "duration": 154,
    "start_time": "2023-07-14T16:44:41.824Z"
   },
   {
    "duration": 22,
    "start_time": "2023-07-14T16:44:41.980Z"
   },
   {
    "duration": 52,
    "start_time": "2023-07-14T16:44:42.013Z"
   },
   {
    "duration": 25,
    "start_time": "2023-07-14T16:44:42.068Z"
   },
   {
    "duration": 26,
    "start_time": "2023-07-14T16:44:42.095Z"
   },
   {
    "duration": 46,
    "start_time": "2023-07-14T16:44:42.130Z"
   },
   {
    "duration": 8,
    "start_time": "2023-07-14T16:44:42.177Z"
   },
   {
    "duration": 6,
    "start_time": "2023-07-14T16:44:42.187Z"
   },
   {
    "duration": 20,
    "start_time": "2023-07-14T16:44:42.195Z"
   },
   {
    "duration": 2491,
    "start_time": "2023-07-14T16:51:03.502Z"
   },
   {
    "duration": 7,
    "start_time": "2023-07-14T16:51:05.995Z"
   },
   {
    "duration": 1481,
    "start_time": "2023-07-14T16:51:06.004Z"
   },
   {
    "duration": 1227,
    "start_time": "2023-07-14T16:51:07.488Z"
   },
   {
    "duration": 11,
    "start_time": "2023-07-14T16:51:08.717Z"
   },
   {
    "duration": 765,
    "start_time": "2023-07-14T16:51:08.730Z"
   },
   {
    "duration": 49,
    "start_time": "2023-07-14T16:51:09.497Z"
   },
   {
    "duration": 154,
    "start_time": "2023-07-14T16:51:09.548Z"
   },
   {
    "duration": 214,
    "start_time": "2023-07-14T16:51:09.704Z"
   },
   {
    "duration": 370,
    "start_time": "2023-07-14T16:51:09.922Z"
   },
   {
    "duration": 82138,
    "start_time": "2023-07-14T16:51:10.294Z"
   },
   {
    "duration": 8,
    "start_time": "2023-07-14T16:52:32.435Z"
   },
   {
    "duration": 97,
    "start_time": "2023-07-14T16:52:32.451Z"
   },
   {
    "duration": 110,
    "start_time": "2023-07-14T16:52:32.550Z"
   },
   {
    "duration": 94,
    "start_time": "2023-07-14T16:52:32.662Z"
   },
   {
    "duration": 1335,
    "start_time": "2023-07-14T16:52:32.758Z"
   },
   {
    "duration": 44,
    "start_time": "2023-07-14T16:52:34.095Z"
   },
   {
    "duration": 152,
    "start_time": "2023-07-14T16:52:34.141Z"
   },
   {
    "duration": 1297,
    "start_time": "2023-07-14T16:53:16.970Z"
   },
   {
    "duration": 7,
    "start_time": "2023-07-14T16:54:13.959Z"
   },
   {
    "duration": 43,
    "start_time": "2023-07-14T16:54:44.035Z"
   },
   {
    "duration": 30,
    "start_time": "2023-07-14T17:02:00.954Z"
   },
   {
    "duration": 14,
    "start_time": "2023-07-14T17:02:03.538Z"
   },
   {
    "duration": 53,
    "start_time": "2023-07-14T17:02:08.399Z"
   },
   {
    "duration": 16,
    "start_time": "2023-07-14T17:02:24.542Z"
   },
   {
    "duration": 7,
    "start_time": "2023-07-14T17:02:35.955Z"
   },
   {
    "duration": 9,
    "start_time": "2023-07-14T17:02:37.167Z"
   },
   {
    "duration": 12,
    "start_time": "2023-07-14T17:36:23.791Z"
   },
   {
    "duration": 2371,
    "start_time": "2023-07-14T17:37:51.738Z"
   },
   {
    "duration": 1389,
    "start_time": "2023-07-14T17:37:54.111Z"
   },
   {
    "duration": 956,
    "start_time": "2023-07-14T17:37:55.502Z"
   },
   {
    "duration": 1189,
    "start_time": "2023-07-14T17:37:56.460Z"
   },
   {
    "duration": 6,
    "start_time": "2023-07-14T17:37:57.653Z"
   },
   {
    "duration": 668,
    "start_time": "2023-07-14T17:37:57.662Z"
   },
   {
    "duration": 51,
    "start_time": "2023-07-14T17:37:58.334Z"
   },
   {
    "duration": 95,
    "start_time": "2023-07-14T17:37:58.387Z"
   },
   {
    "duration": 174,
    "start_time": "2023-07-14T17:37:58.484Z"
   },
   {
    "duration": 320,
    "start_time": "2023-07-14T17:37:58.662Z"
   },
   {
    "duration": 76487,
    "start_time": "2023-07-14T17:37:58.984Z"
   },
   {
    "duration": 2,
    "start_time": "2023-07-14T17:39:15.473Z"
   },
   {
    "duration": 102,
    "start_time": "2023-07-14T17:39:15.477Z"
   },
   {
    "duration": 105,
    "start_time": "2023-07-14T17:39:15.580Z"
   },
   {
    "duration": 92,
    "start_time": "2023-07-14T17:39:15.686Z"
   },
   {
    "duration": 1245,
    "start_time": "2023-07-14T17:39:15.780Z"
   },
   {
    "duration": 40,
    "start_time": "2023-07-14T17:39:17.027Z"
   },
   {
    "duration": 171,
    "start_time": "2023-07-14T17:39:17.069Z"
   },
   {
    "duration": 33,
    "start_time": "2023-07-14T17:39:17.244Z"
   },
   {
    "duration": 58,
    "start_time": "2023-07-14T17:39:17.279Z"
   },
   {
    "duration": 26,
    "start_time": "2023-07-14T17:39:17.339Z"
   },
   {
    "duration": 28,
    "start_time": "2023-07-14T17:39:17.367Z"
   },
   {
    "duration": 6,
    "start_time": "2023-07-14T17:39:17.396Z"
   },
   {
    "duration": 39,
    "start_time": "2023-07-14T17:39:17.416Z"
   },
   {
    "duration": 8,
    "start_time": "2023-07-14T17:39:17.457Z"
   },
   {
    "duration": 20,
    "start_time": "2023-07-14T17:39:17.467Z"
   },
   {
    "duration": 33,
    "start_time": "2023-07-14T17:39:17.488Z"
   },
   {
    "duration": 1335,
    "start_time": "2023-07-14T17:39:17.524Z"
   },
   {
    "duration": 0,
    "start_time": "2023-07-14T17:39:18.860Z"
   },
   {
    "duration": 89,
    "start_time": "2023-07-14T17:56:25.590Z"
   },
   {
    "duration": 1128,
    "start_time": "2023-07-14T17:58:54.045Z"
   },
   {
    "duration": 1174,
    "start_time": "2023-07-14T17:59:13.457Z"
   },
   {
    "duration": 2462,
    "start_time": "2023-07-14T17:59:21.048Z"
   },
   {
    "duration": 17,
    "start_time": "2023-07-14T17:59:23.513Z"
   },
   {
    "duration": 985,
    "start_time": "2023-07-14T17:59:23.532Z"
   },
   {
    "duration": 1311,
    "start_time": "2023-07-14T17:59:24.522Z"
   },
   {
    "duration": 5,
    "start_time": "2023-07-14T17:59:25.836Z"
   },
   {
    "duration": 695,
    "start_time": "2023-07-14T17:59:25.842Z"
   },
   {
    "duration": 51,
    "start_time": "2023-07-14T17:59:26.539Z"
   },
   {
    "duration": 97,
    "start_time": "2023-07-14T17:59:26.592Z"
   },
   {
    "duration": 208,
    "start_time": "2023-07-14T17:59:26.691Z"
   },
   {
    "duration": 324,
    "start_time": "2023-07-14T17:59:26.901Z"
   },
   {
    "duration": 81855,
    "start_time": "2023-07-14T17:59:27.228Z"
   },
   {
    "duration": 3,
    "start_time": "2023-07-14T18:00:49.084Z"
   },
   {
    "duration": 112,
    "start_time": "2023-07-14T18:00:49.089Z"
   },
   {
    "duration": 104,
    "start_time": "2023-07-14T18:00:49.204Z"
   },
   {
    "duration": 95,
    "start_time": "2023-07-14T18:00:49.310Z"
   },
   {
    "duration": 1289,
    "start_time": "2023-07-14T18:00:49.407Z"
   },
   {
    "duration": 45,
    "start_time": "2023-07-14T18:00:50.698Z"
   },
   {
    "duration": 162,
    "start_time": "2023-07-14T18:00:50.745Z"
   },
   {
    "duration": 45,
    "start_time": "2023-07-14T18:00:50.909Z"
   },
   {
    "duration": 73,
    "start_time": "2023-07-14T18:00:50.956Z"
   },
   {
    "duration": 33,
    "start_time": "2023-07-14T18:00:51.031Z"
   },
   {
    "duration": 24,
    "start_time": "2023-07-14T18:00:51.065Z"
   },
   {
    "duration": 6,
    "start_time": "2023-07-14T18:00:51.090Z"
   },
   {
    "duration": 33,
    "start_time": "2023-07-14T18:00:51.113Z"
   },
   {
    "duration": 19,
    "start_time": "2023-07-14T18:05:54.974Z"
   },
   {
    "duration": 20,
    "start_time": "2023-07-14T18:06:10.963Z"
   },
   {
    "duration": 32,
    "start_time": "2023-07-14T18:06:57.139Z"
   },
   {
    "duration": 6835,
    "start_time": "2023-07-14T18:50:45.958Z"
   },
   {
    "duration": 2125,
    "start_time": "2023-07-14T18:51:04.747Z"
   },
   {
    "duration": 1389,
    "start_time": "2023-07-14T18:51:06.874Z"
   },
   {
    "duration": 1022,
    "start_time": "2023-07-14T18:51:08.265Z"
   },
   {
    "duration": 975,
    "start_time": "2023-07-14T18:51:09.288Z"
   },
   {
    "duration": 11,
    "start_time": "2023-07-14T18:51:10.265Z"
   },
   {
    "duration": 641,
    "start_time": "2023-07-14T18:51:10.278Z"
   },
   {
    "duration": 43,
    "start_time": "2023-07-14T18:51:10.920Z"
   },
   {
    "duration": 88,
    "start_time": "2023-07-14T18:51:10.965Z"
   },
   {
    "duration": 169,
    "start_time": "2023-07-14T18:51:11.055Z"
   },
   {
    "duration": 266,
    "start_time": "2023-07-14T18:51:11.225Z"
   },
   {
    "duration": 63199,
    "start_time": "2023-07-14T18:51:11.494Z"
   },
   {
    "duration": 3,
    "start_time": "2023-07-14T18:52:14.694Z"
   },
   {
    "duration": 84,
    "start_time": "2023-07-14T18:52:14.699Z"
   },
   {
    "duration": 110,
    "start_time": "2023-07-14T18:52:14.786Z"
   },
   {
    "duration": 96,
    "start_time": "2023-07-14T18:52:14.898Z"
   },
   {
    "duration": 2283,
    "start_time": "2023-07-14T18:52:14.995Z"
   },
   {
    "duration": 0,
    "start_time": "2023-07-14T18:52:17.280Z"
   },
   {
    "duration": 0,
    "start_time": "2023-07-14T18:52:17.282Z"
   },
   {
    "duration": 0,
    "start_time": "2023-07-14T18:52:17.283Z"
   },
   {
    "duration": 0,
    "start_time": "2023-07-14T18:52:17.284Z"
   },
   {
    "duration": 0,
    "start_time": "2023-07-14T18:52:17.286Z"
   },
   {
    "duration": 0,
    "start_time": "2023-07-14T18:52:17.287Z"
   },
   {
    "duration": 0,
    "start_time": "2023-07-14T18:52:17.288Z"
   },
   {
    "duration": 0,
    "start_time": "2023-07-14T18:52:17.289Z"
   },
   {
    "duration": 0,
    "start_time": "2023-07-14T18:52:17.290Z"
   },
   {
    "duration": 0,
    "start_time": "2023-07-14T18:52:17.291Z"
   },
   {
    "duration": 0,
    "start_time": "2023-07-14T18:52:17.292Z"
   },
   {
    "duration": 31,
    "start_time": "2023-07-14T18:54:20.681Z"
   },
   {
    "duration": 131,
    "start_time": "2023-07-14T18:54:22.353Z"
   },
   {
    "duration": 37,
    "start_time": "2023-07-14T18:54:24.193Z"
   },
   {
    "duration": 38,
    "start_time": "2023-07-14T19:00:42.310Z"
   },
   {
    "duration": 24,
    "start_time": "2023-07-14T19:00:44.070Z"
   },
   {
    "duration": 26,
    "start_time": "2023-07-14T19:00:51.189Z"
   },
   {
    "duration": 83,
    "start_time": "2023-07-14T19:00:51.797Z"
   },
   {
    "duration": 1070,
    "start_time": "2023-07-14T19:01:06.693Z"
   },
   {
    "duration": 867,
    "start_time": "2023-07-14T19:01:20.285Z"
   },
   {
    "duration": 109,
    "start_time": "2023-07-14T19:02:48.357Z"
   },
   {
    "duration": 703,
    "start_time": "2023-07-14T19:02:51.916Z"
   },
   {
    "duration": 835,
    "start_time": "2023-07-14T19:04:12.948Z"
   },
   {
    "duration": 1052,
    "start_time": "2023-07-14T19:04:15.124Z"
   },
   {
    "duration": 400,
    "start_time": "2023-07-14T19:04:19.596Z"
   },
   {
    "duration": 412,
    "start_time": "2023-07-14T19:04:32.372Z"
   },
   {
    "duration": 380,
    "start_time": "2023-07-14T19:04:50.403Z"
   },
   {
    "duration": 2256,
    "start_time": "2023-07-14T19:04:54.530Z"
   },
   {
    "duration": 9,
    "start_time": "2023-07-14T19:04:56.789Z"
   },
   {
    "duration": 896,
    "start_time": "2023-07-14T19:04:56.800Z"
   },
   {
    "duration": 1055,
    "start_time": "2023-07-14T19:04:57.700Z"
   },
   {
    "duration": 4,
    "start_time": "2023-07-14T19:04:58.756Z"
   },
   {
    "duration": 694,
    "start_time": "2023-07-14T19:04:58.761Z"
   },
   {
    "duration": 48,
    "start_time": "2023-07-14T19:04:59.457Z"
   },
   {
    "duration": 89,
    "start_time": "2023-07-14T19:04:59.507Z"
   },
   {
    "duration": 169,
    "start_time": "2023-07-14T19:04:59.598Z"
   },
   {
    "duration": 287,
    "start_time": "2023-07-14T19:04:59.770Z"
   },
   {
    "duration": 67326,
    "start_time": "2023-07-14T19:05:00.059Z"
   },
   {
    "duration": 3,
    "start_time": "2023-07-14T19:06:07.388Z"
   },
   {
    "duration": 111,
    "start_time": "2023-07-14T19:06:07.393Z"
   },
   {
    "duration": 119,
    "start_time": "2023-07-14T19:06:07.507Z"
   },
   {
    "duration": 85,
    "start_time": "2023-07-14T19:06:07.628Z"
   },
   {
    "duration": 829,
    "start_time": "2023-07-14T19:06:16.607Z"
   },
   {
    "duration": 2247,
    "start_time": "2023-07-14T19:07:00.660Z"
   },
   {
    "duration": 7,
    "start_time": "2023-07-14T19:07:02.910Z"
   },
   {
    "duration": 820,
    "start_time": "2023-07-14T19:07:02.918Z"
   },
   {
    "duration": 1066,
    "start_time": "2023-07-14T19:07:03.741Z"
   },
   {
    "duration": 3,
    "start_time": "2023-07-14T19:07:04.809Z"
   },
   {
    "duration": 646,
    "start_time": "2023-07-14T19:07:04.814Z"
   },
   {
    "duration": 39,
    "start_time": "2023-07-14T19:07:05.461Z"
   },
   {
    "duration": 87,
    "start_time": "2023-07-14T19:07:05.502Z"
   },
   {
    "duration": 167,
    "start_time": "2023-07-14T19:07:05.591Z"
   },
   {
    "duration": 282,
    "start_time": "2023-07-14T19:07:05.760Z"
   },
   {
    "duration": 66128,
    "start_time": "2023-07-14T19:07:06.044Z"
   },
   {
    "duration": 712,
    "start_time": "2023-07-14T19:08:52.313Z"
   },
   {
    "duration": 760,
    "start_time": "2023-07-14T19:10:53.176Z"
   },
   {
    "duration": 2282,
    "start_time": "2023-07-14T19:12:45.820Z"
   },
   {
    "duration": 1229,
    "start_time": "2023-07-14T19:12:48.105Z"
   },
   {
    "duration": 807,
    "start_time": "2023-07-14T19:12:49.336Z"
   },
   {
    "duration": 1109,
    "start_time": "2023-07-14T19:12:50.145Z"
   },
   {
    "duration": 4,
    "start_time": "2023-07-14T19:12:51.255Z"
   },
   {
    "duration": 666,
    "start_time": "2023-07-14T19:12:51.261Z"
   },
   {
    "duration": 52,
    "start_time": "2023-07-14T19:12:51.929Z"
   },
   {
    "duration": 95,
    "start_time": "2023-07-14T19:12:51.984Z"
   },
   {
    "duration": 171,
    "start_time": "2023-07-14T19:12:52.081Z"
   },
   {
    "duration": 297,
    "start_time": "2023-07-14T19:12:52.255Z"
   },
   {
    "duration": 59710,
    "start_time": "2023-07-14T19:12:52.554Z"
   },
   {
    "duration": 3,
    "start_time": "2023-07-14T19:13:52.266Z"
   },
   {
    "duration": 90,
    "start_time": "2023-07-14T19:13:52.270Z"
   },
   {
    "duration": 93,
    "start_time": "2023-07-14T19:13:52.362Z"
   },
   {
    "duration": 97,
    "start_time": "2023-07-14T19:13:52.457Z"
   },
   {
    "duration": 867,
    "start_time": "2023-07-14T19:13:52.555Z"
   },
   {
    "duration": 29,
    "start_time": "2023-07-14T19:13:53.424Z"
   },
   {
    "duration": 149,
    "start_time": "2023-07-14T19:13:53.455Z"
   },
   {
    "duration": 34,
    "start_time": "2023-07-14T19:13:53.606Z"
   },
   {
    "duration": 43,
    "start_time": "2023-07-14T19:13:53.642Z"
   },
   {
    "duration": 0,
    "start_time": "2023-07-14T19:13:53.687Z"
   },
   {
    "duration": 0,
    "start_time": "2023-07-14T19:13:53.689Z"
   },
   {
    "duration": 0,
    "start_time": "2023-07-14T19:13:53.690Z"
   },
   {
    "duration": 2233,
    "start_time": "2023-07-14T19:13:58.435Z"
   },
   {
    "duration": 6,
    "start_time": "2023-07-14T19:14:00.672Z"
   },
   {
    "duration": 854,
    "start_time": "2023-07-14T19:14:00.680Z"
   },
   {
    "duration": 1090,
    "start_time": "2023-07-14T19:14:01.537Z"
   },
   {
    "duration": 4,
    "start_time": "2023-07-14T19:14:02.628Z"
   },
   {
    "duration": 693,
    "start_time": "2023-07-14T19:14:02.634Z"
   },
   {
    "duration": 36,
    "start_time": "2023-07-14T19:14:03.329Z"
   },
   {
    "duration": 79,
    "start_time": "2023-07-14T19:14:03.375Z"
   },
   {
    "duration": 173,
    "start_time": "2023-07-14T19:14:03.456Z"
   },
   {
    "duration": 195,
    "start_time": "2023-07-14T19:14:10.942Z"
   },
   {
    "duration": 257,
    "start_time": "2023-07-14T19:14:24.366Z"
   },
   {
    "duration": 67018,
    "start_time": "2023-07-14T19:14:28.849Z"
   },
   {
    "duration": 1170,
    "start_time": "2023-07-14T19:15:59.717Z"
   },
   {
    "duration": 5,
    "start_time": "2023-07-14T19:16:58.121Z"
   },
   {
    "duration": 1341,
    "start_time": "2023-07-14T19:17:07.221Z"
   },
   {
    "duration": 9,
    "start_time": "2023-07-14T19:17:15.533Z"
   },
   {
    "duration": 95,
    "start_time": "2023-07-14T19:17:39.165Z"
   },
   {
    "duration": 2486,
    "start_time": "2023-07-14T19:18:04.679Z"
   },
   {
    "duration": 7,
    "start_time": "2023-07-14T19:18:07.168Z"
   },
   {
    "duration": 977,
    "start_time": "2023-07-14T19:18:07.177Z"
   },
   {
    "duration": 1251,
    "start_time": "2023-07-14T19:18:08.157Z"
   },
   {
    "duration": 3,
    "start_time": "2023-07-14T19:18:09.410Z"
   },
   {
    "duration": 711,
    "start_time": "2023-07-14T19:18:09.415Z"
   },
   {
    "duration": 48,
    "start_time": "2023-07-14T19:18:10.128Z"
   },
   {
    "duration": 88,
    "start_time": "2023-07-14T19:18:10.178Z"
   },
   {
    "duration": 185,
    "start_time": "2023-07-14T19:18:10.275Z"
   },
   {
    "duration": 313,
    "start_time": "2023-07-14T19:18:10.463Z"
   },
   {
    "duration": 68533,
    "start_time": "2023-07-14T19:18:10.779Z"
   },
   {
    "duration": 162,
    "start_time": "2023-07-14T19:19:19.314Z"
   },
   {
    "duration": 2236,
    "start_time": "2023-07-14T19:20:38.833Z"
   },
   {
    "duration": 7,
    "start_time": "2023-07-14T19:20:41.073Z"
   },
   {
    "duration": 817,
    "start_time": "2023-07-14T19:20:41.082Z"
   },
   {
    "duration": 1025,
    "start_time": "2023-07-14T19:20:41.901Z"
   },
   {
    "duration": 5,
    "start_time": "2023-07-14T19:20:42.928Z"
   },
   {
    "duration": 657,
    "start_time": "2023-07-14T19:20:42.935Z"
   },
   {
    "duration": 37,
    "start_time": "2023-07-14T19:20:43.594Z"
   },
   {
    "duration": 96,
    "start_time": "2023-07-14T19:20:43.632Z"
   },
   {
    "duration": 279,
    "start_time": "2023-07-14T19:20:43.730Z"
   },
   {
    "duration": 304,
    "start_time": "2023-07-14T19:20:44.012Z"
   },
   {
    "duration": 66586,
    "start_time": "2023-07-14T19:20:44.318Z"
   },
   {
    "duration": 3,
    "start_time": "2023-07-14T19:21:50.905Z"
   },
   {
    "duration": 97,
    "start_time": "2023-07-14T19:21:50.909Z"
   },
   {
    "duration": 108,
    "start_time": "2023-07-14T19:21:51.007Z"
   },
   {
    "duration": 141,
    "start_time": "2023-07-14T19:21:51.117Z"
   },
   {
    "duration": 798,
    "start_time": "2023-07-14T19:21:51.260Z"
   },
   {
    "duration": 42,
    "start_time": "2023-07-14T19:21:52.060Z"
   },
   {
    "duration": 145,
    "start_time": "2023-07-14T19:21:52.104Z"
   },
   {
    "duration": 45,
    "start_time": "2023-07-14T19:21:52.251Z"
   },
   {
    "duration": 36,
    "start_time": "2023-07-14T19:22:00.898Z"
   },
   {
    "duration": 22,
    "start_time": "2023-07-14T19:22:03.513Z"
   },
   {
    "duration": 31,
    "start_time": "2023-07-14T19:22:08.722Z"
   },
   {
    "duration": 79,
    "start_time": "2023-07-14T19:22:10.066Z"
   },
   {
    "duration": 139,
    "start_time": "2023-07-14T19:22:15.074Z"
   },
   {
    "duration": 131,
    "start_time": "2023-07-14T19:22:19.618Z"
   },
   {
    "duration": 152,
    "start_time": "2023-07-14T19:22:34.601Z"
   },
   {
    "duration": 94,
    "start_time": "2023-07-14T19:25:42.622Z"
   },
   {
    "duration": 992,
    "start_time": "2023-07-14T19:25:51.272Z"
   },
   {
    "duration": 2266,
    "start_time": "2023-07-14T19:27:51.446Z"
   },
   {
    "duration": 9,
    "start_time": "2023-07-14T19:27:53.715Z"
   },
   {
    "duration": 830,
    "start_time": "2023-07-14T19:27:53.726Z"
   },
   {
    "duration": 1073,
    "start_time": "2023-07-14T19:27:54.559Z"
   },
   {
    "duration": 3,
    "start_time": "2023-07-14T19:27:55.634Z"
   },
   {
    "duration": 699,
    "start_time": "2023-07-14T19:27:55.639Z"
   },
   {
    "duration": 49,
    "start_time": "2023-07-14T19:27:56.340Z"
   },
   {
    "duration": 94,
    "start_time": "2023-07-14T19:27:56.391Z"
   },
   {
    "duration": 223,
    "start_time": "2023-07-14T19:27:56.486Z"
   },
   {
    "duration": 352,
    "start_time": "2023-07-14T19:27:56.713Z"
   },
   {
    "duration": 67736,
    "start_time": "2023-07-14T19:27:57.067Z"
   },
   {
    "duration": 3,
    "start_time": "2023-07-14T19:29:04.805Z"
   },
   {
    "duration": 121,
    "start_time": "2023-07-14T19:29:04.810Z"
   },
   {
    "duration": 106,
    "start_time": "2023-07-14T19:29:04.933Z"
   },
   {
    "duration": 91,
    "start_time": "2023-07-14T19:29:05.041Z"
   },
   {
    "duration": 909,
    "start_time": "2023-07-14T19:29:05.134Z"
   },
   {
    "duration": 37,
    "start_time": "2023-07-14T19:29:06.045Z"
   },
   {
    "duration": 148,
    "start_time": "2023-07-14T19:29:06.084Z"
   },
   {
    "duration": 46,
    "start_time": "2023-07-14T19:29:06.234Z"
   },
   {
    "duration": 33,
    "start_time": "2023-07-14T19:29:06.282Z"
   },
   {
    "duration": 24,
    "start_time": "2023-07-14T19:29:06.317Z"
   },
   {
    "duration": 55,
    "start_time": "2023-07-14T19:29:06.343Z"
   },
   {
    "duration": 106,
    "start_time": "2023-07-14T19:29:06.401Z"
   },
   {
    "duration": 231,
    "start_time": "2023-07-14T19:30:01.829Z"
   },
   {
    "duration": 200,
    "start_time": "2023-07-14T19:30:10.749Z"
   },
   {
    "duration": 174,
    "start_time": "2023-07-14T19:32:28.733Z"
   },
   {
    "duration": 7,
    "start_time": "2023-07-14T19:32:30.357Z"
   },
   {
    "duration": 138,
    "start_time": "2023-07-14T19:33:31.022Z"
   },
   {
    "duration": 19,
    "start_time": "2023-07-14T19:33:44.173Z"
   },
   {
    "duration": 13,
    "start_time": "2023-07-14T19:33:52.020Z"
   },
   {
    "duration": 10,
    "start_time": "2023-07-14T19:33:58.059Z"
   },
   {
    "duration": 10,
    "start_time": "2023-07-14T19:34:04.715Z"
   },
   {
    "duration": 16,
    "start_time": "2023-07-14T19:34:19.877Z"
   },
   {
    "duration": 12,
    "start_time": "2023-07-14T19:34:36.532Z"
   },
   {
    "duration": 3,
    "start_time": "2023-07-14T19:35:39.707Z"
   },
   {
    "duration": 15,
    "start_time": "2023-07-14T19:35:50.011Z"
   },
   {
    "duration": 4,
    "start_time": "2023-07-14T19:37:24.035Z"
   },
   {
    "duration": 11,
    "start_time": "2023-07-14T19:38:55.161Z"
   },
   {
    "duration": 2415,
    "start_time": "2023-07-14T19:41:19.712Z"
   },
   {
    "duration": 1307,
    "start_time": "2023-07-14T19:41:22.129Z"
   },
   {
    "duration": 923,
    "start_time": "2023-07-14T19:41:23.438Z"
   },
   {
    "duration": 1188,
    "start_time": "2023-07-14T19:41:24.363Z"
   },
   {
    "duration": 3,
    "start_time": "2023-07-14T19:41:25.552Z"
   },
   {
    "duration": 699,
    "start_time": "2023-07-14T19:41:25.557Z"
   },
   {
    "duration": 64,
    "start_time": "2023-07-14T19:41:26.258Z"
   },
   {
    "duration": 125,
    "start_time": "2023-07-14T19:41:26.324Z"
   },
   {
    "duration": 280,
    "start_time": "2023-07-14T19:41:26.451Z"
   },
   {
    "duration": 369,
    "start_time": "2023-07-14T19:41:26.734Z"
   },
   {
    "duration": 69773,
    "start_time": "2023-07-14T19:41:27.105Z"
   },
   {
    "duration": 4,
    "start_time": "2023-07-14T19:42:36.880Z"
   },
   {
    "duration": 93,
    "start_time": "2023-07-14T19:42:36.887Z"
   },
   {
    "duration": 112,
    "start_time": "2023-07-14T19:42:36.982Z"
   },
   {
    "duration": 90,
    "start_time": "2023-07-14T19:42:37.096Z"
   },
   {
    "duration": 1039,
    "start_time": "2023-07-14T19:42:37.189Z"
   },
   {
    "duration": 45,
    "start_time": "2023-07-14T19:42:38.230Z"
   },
   {
    "duration": 162,
    "start_time": "2023-07-14T19:42:38.277Z"
   },
   {
    "duration": 51,
    "start_time": "2023-07-14T19:42:38.441Z"
   },
   {
    "duration": 38,
    "start_time": "2023-07-14T19:42:38.494Z"
   },
   {
    "duration": 42,
    "start_time": "2023-07-14T19:42:38.534Z"
   },
   {
    "duration": 27,
    "start_time": "2023-07-14T19:42:38.578Z"
   },
   {
    "duration": 110,
    "start_time": "2023-07-14T19:42:38.607Z"
   },
   {
    "duration": 201,
    "start_time": "2023-07-14T19:42:38.718Z"
   },
   {
    "duration": 202,
    "start_time": "2023-07-14T19:42:38.921Z"
   },
   {
    "duration": 175,
    "start_time": "2023-07-14T19:42:39.125Z"
   },
   {
    "duration": 8,
    "start_time": "2023-07-14T19:42:39.302Z"
   },
   {
    "duration": 35,
    "start_time": "2023-07-14T19:42:39.313Z"
   },
   {
    "duration": 148,
    "start_time": "2023-07-14T19:42:39.350Z"
   },
   {
    "duration": 702,
    "start_time": "2023-07-14T19:44:06.848Z"
   },
   {
    "duration": 5,
    "start_time": "2023-07-14T19:44:10.741Z"
   },
   {
    "duration": 4,
    "start_time": "2023-07-14T19:44:12.565Z"
   },
   {
    "duration": 4,
    "start_time": "2023-07-14T19:44:13.773Z"
   },
   {
    "duration": 4,
    "start_time": "2023-07-14T19:44:15.029Z"
   },
   {
    "duration": 214097,
    "start_time": "2023-07-14T19:44:20.397Z"
   },
   {
    "duration": 4,
    "start_time": "2023-07-14T19:48:44.228Z"
   },
   {
    "duration": 115,
    "start_time": "2023-07-14T19:51:57.284Z"
   },
   {
    "duration": 6,
    "start_time": "2023-07-14T19:52:36.209Z"
   },
   {
    "duration": 233197,
    "start_time": "2023-07-14T19:52:47.600Z"
   },
   {
    "duration": 2184,
    "start_time": "2023-07-14T19:59:43.261Z"
   },
   {
    "duration": 1342,
    "start_time": "2023-07-14T19:59:45.448Z"
   },
   {
    "duration": 835,
    "start_time": "2023-07-14T19:59:46.792Z"
   },
   {
    "duration": 1065,
    "start_time": "2023-07-14T19:59:47.629Z"
   },
   {
    "duration": 5,
    "start_time": "2023-07-14T19:59:48.696Z"
   },
   {
    "duration": 610,
    "start_time": "2023-07-14T19:59:48.702Z"
   },
   {
    "duration": 47,
    "start_time": "2023-07-14T19:59:49.314Z"
   },
   {
    "duration": 163,
    "start_time": "2023-07-14T19:59:49.374Z"
   },
   {
    "duration": 167,
    "start_time": "2023-07-14T19:59:49.539Z"
   },
   {
    "duration": 278,
    "start_time": "2023-07-14T19:59:49.708Z"
   },
   {
    "duration": 64969,
    "start_time": "2023-07-14T19:59:49.988Z"
   },
   {
    "duration": 3,
    "start_time": "2023-07-14T20:00:54.959Z"
   },
   {
    "duration": 104,
    "start_time": "2023-07-14T20:00:54.964Z"
   },
   {
    "duration": 109,
    "start_time": "2023-07-14T20:00:55.070Z"
   },
   {
    "duration": 107,
    "start_time": "2023-07-14T20:00:55.181Z"
   },
   {
    "duration": 1024,
    "start_time": "2023-07-14T20:00:55.291Z"
   },
   {
    "duration": 42,
    "start_time": "2023-07-14T20:00:56.317Z"
   },
   {
    "duration": 179,
    "start_time": "2023-07-14T20:00:56.374Z"
   },
   {
    "duration": 49,
    "start_time": "2023-07-14T20:00:56.556Z"
   },
   {
    "duration": 76,
    "start_time": "2023-07-14T20:00:56.607Z"
   },
   {
    "duration": 37,
    "start_time": "2023-07-14T20:00:56.687Z"
   },
   {
    "duration": 48,
    "start_time": "2023-07-14T20:00:56.727Z"
   },
   {
    "duration": 82,
    "start_time": "2023-07-14T20:00:56.777Z"
   },
   {
    "duration": 186,
    "start_time": "2023-07-14T20:00:56.861Z"
   },
   {
    "duration": 190,
    "start_time": "2023-07-14T20:00:57.049Z"
   },
   {
    "duration": 158,
    "start_time": "2023-07-14T20:00:57.241Z"
   },
   {
    "duration": 8,
    "start_time": "2023-07-14T20:00:57.400Z"
   },
   {
    "duration": 6,
    "start_time": "2023-07-14T20:00:57.413Z"
   },
   {
    "duration": 677,
    "start_time": "2023-07-14T20:00:57.421Z"
   },
   {
    "duration": 3,
    "start_time": "2023-07-14T20:00:58.100Z"
   },
   {
    "duration": 6,
    "start_time": "2023-07-14T20:00:58.105Z"
   },
   {
    "duration": 8,
    "start_time": "2023-07-14T20:00:58.113Z"
   },
   {
    "duration": 11,
    "start_time": "2023-07-14T20:00:58.122Z"
   },
   {
    "duration": 220956,
    "start_time": "2023-07-14T20:00:58.135Z"
   },
   {
    "duration": 489002,
    "start_time": "2023-07-14T20:04:39.093Z"
   },
   {
    "duration": 69239,
    "start_time": "2023-07-14T20:12:48.097Z"
   },
   {
    "duration": 2452,
    "start_time": "2023-07-14T20:13:57.338Z"
   },
   {
    "duration": 18,
    "start_time": "2023-07-14T20:13:59.792Z"
   },
   {
    "duration": 14631,
    "start_time": "2023-07-14T20:13:59.812Z"
   },
   {
    "duration": 26,
    "start_time": "2023-07-14T20:14:14.446Z"
   },
   {
    "duration": 0,
    "start_time": "2023-07-14T20:14:14.475Z"
   },
   {
    "duration": 0,
    "start_time": "2023-07-14T20:14:14.476Z"
   },
   {
    "duration": 0,
    "start_time": "2023-07-14T20:14:14.478Z"
   },
   {
    "duration": 0,
    "start_time": "2023-07-14T20:14:14.483Z"
   },
   {
    "duration": 0,
    "start_time": "2023-07-14T20:14:14.486Z"
   },
   {
    "duration": 0,
    "start_time": "2023-07-14T20:14:14.488Z"
   },
   {
    "duration": 0,
    "start_time": "2023-07-14T20:14:14.489Z"
   },
   {
    "duration": 0,
    "start_time": "2023-07-14T20:14:14.491Z"
   },
   {
    "duration": 0,
    "start_time": "2023-07-14T20:14:14.494Z"
   },
   {
    "duration": 0,
    "start_time": "2023-07-14T20:14:14.496Z"
   },
   {
    "duration": 0,
    "start_time": "2023-07-14T20:14:14.498Z"
   },
   {
    "duration": 0,
    "start_time": "2023-07-14T20:14:14.499Z"
   },
   {
    "duration": 0,
    "start_time": "2023-07-14T20:14:14.501Z"
   },
   {
    "duration": 0,
    "start_time": "2023-07-14T20:14:14.502Z"
   },
   {
    "duration": 0,
    "start_time": "2023-07-14T20:14:14.503Z"
   },
   {
    "duration": 0,
    "start_time": "2023-07-14T20:14:14.504Z"
   },
   {
    "duration": 0,
    "start_time": "2023-07-14T20:14:14.506Z"
   },
   {
    "duration": 0,
    "start_time": "2023-07-14T20:14:14.509Z"
   },
   {
    "duration": 0,
    "start_time": "2023-07-14T20:14:14.511Z"
   },
   {
    "duration": 0,
    "start_time": "2023-07-14T20:14:14.512Z"
   },
   {
    "duration": 0,
    "start_time": "2023-07-14T20:14:14.515Z"
   },
   {
    "duration": 0,
    "start_time": "2023-07-14T20:14:14.517Z"
   },
   {
    "duration": 0,
    "start_time": "2023-07-14T20:14:14.518Z"
   },
   {
    "duration": 0,
    "start_time": "2023-07-14T20:14:14.520Z"
   },
   {
    "duration": 0,
    "start_time": "2023-07-14T20:14:14.522Z"
   },
   {
    "duration": 0,
    "start_time": "2023-07-14T20:14:14.575Z"
   },
   {
    "duration": 0,
    "start_time": "2023-07-14T20:14:14.577Z"
   },
   {
    "duration": 0,
    "start_time": "2023-07-14T20:14:14.579Z"
   },
   {
    "duration": 0,
    "start_time": "2023-07-14T20:14:14.581Z"
   },
   {
    "duration": 0,
    "start_time": "2023-07-14T20:14:14.583Z"
   },
   {
    "duration": 0,
    "start_time": "2023-07-14T20:14:14.585Z"
   },
   {
    "duration": 0,
    "start_time": "2023-07-14T20:14:14.586Z"
   },
   {
    "duration": 0,
    "start_time": "2023-07-14T20:14:14.588Z"
   },
   {
    "duration": 0,
    "start_time": "2023-07-14T20:14:14.590Z"
   },
   {
    "duration": 0,
    "start_time": "2023-07-14T20:14:14.591Z"
   },
   {
    "duration": 0,
    "start_time": "2023-07-14T20:14:14.593Z"
   },
   {
    "duration": 0,
    "start_time": "2023-07-14T20:14:14.594Z"
   },
   {
    "duration": 0,
    "start_time": "2023-07-14T20:14:14.596Z"
   },
   {
    "duration": 2321,
    "start_time": "2023-07-14T20:14:18.737Z"
   },
   {
    "duration": 1393,
    "start_time": "2023-07-14T20:14:21.061Z"
   },
   {
    "duration": 873,
    "start_time": "2023-07-14T20:14:22.456Z"
   },
   {
    "duration": 1097,
    "start_time": "2023-07-14T20:14:23.331Z"
   },
   {
    "duration": 4,
    "start_time": "2023-07-14T20:14:24.430Z"
   },
   {
    "duration": 610,
    "start_time": "2023-07-14T20:14:24.436Z"
   },
   {
    "duration": 59,
    "start_time": "2023-07-14T20:14:25.048Z"
   },
   {
    "duration": 88,
    "start_time": "2023-07-14T20:14:25.108Z"
   },
   {
    "duration": 217,
    "start_time": "2023-07-14T20:14:25.198Z"
   },
   {
    "duration": 292,
    "start_time": "2023-07-14T20:14:25.418Z"
   },
   {
    "duration": 64202,
    "start_time": "2023-07-14T20:14:25.713Z"
   },
   {
    "duration": 3,
    "start_time": "2023-07-14T20:15:29.917Z"
   },
   {
    "duration": 93,
    "start_time": "2023-07-14T20:15:29.921Z"
   },
   {
    "duration": 140,
    "start_time": "2023-07-14T20:15:30.016Z"
   },
   {
    "duration": 124,
    "start_time": "2023-07-14T20:15:30.158Z"
   },
   {
    "duration": 1050,
    "start_time": "2023-07-14T20:15:30.284Z"
   },
   {
    "duration": 47,
    "start_time": "2023-07-14T20:15:31.336Z"
   },
   {
    "duration": 141,
    "start_time": "2023-07-14T20:15:31.385Z"
   },
   {
    "duration": 47,
    "start_time": "2023-07-14T20:15:31.528Z"
   },
   {
    "duration": 36,
    "start_time": "2023-07-14T20:15:31.577Z"
   },
   {
    "duration": 26,
    "start_time": "2023-07-14T20:15:31.615Z"
   },
   {
    "duration": 42,
    "start_time": "2023-07-14T20:15:31.643Z"
   },
   {
    "duration": 116,
    "start_time": "2023-07-14T20:15:31.687Z"
   },
   {
    "duration": 177,
    "start_time": "2023-07-14T20:15:31.805Z"
   },
   {
    "duration": 185,
    "start_time": "2023-07-14T20:15:31.984Z"
   },
   {
    "duration": 179,
    "start_time": "2023-07-14T20:15:32.174Z"
   },
   {
    "duration": 8,
    "start_time": "2023-07-14T20:15:32.355Z"
   },
   {
    "duration": 6,
    "start_time": "2023-07-14T20:15:32.375Z"
   },
   {
    "duration": 647,
    "start_time": "2023-07-14T20:15:32.383Z"
   },
   {
    "duration": 4,
    "start_time": "2023-07-14T20:15:33.032Z"
   },
   {
    "duration": 7,
    "start_time": "2023-07-14T20:15:33.038Z"
   },
   {
    "duration": 9,
    "start_time": "2023-07-14T20:15:33.047Z"
   },
   {
    "duration": 21,
    "start_time": "2023-07-14T20:15:33.057Z"
   },
   {
    "duration": 196705,
    "start_time": "2023-07-14T20:15:33.080Z"
   },
   {
    "duration": 485408,
    "start_time": "2023-07-14T20:18:49.788Z"
   },
   {
    "duration": 87598,
    "start_time": "2023-07-14T20:26:55.200Z"
   },
   {
    "duration": 862705,
    "start_time": "2023-07-14T20:28:22.801Z"
   },
   {
    "duration": 14,
    "start_time": "2023-07-14T20:42:45.508Z"
   },
   {
    "duration": 67,
    "start_time": "2023-07-15T15:15:09.955Z"
   },
   {
    "duration": 11340,
    "start_time": "2023-07-15T15:15:14.000Z"
   },
   {
    "duration": 1762,
    "start_time": "2023-07-15T15:15:25.343Z"
   },
   {
    "duration": 2945,
    "start_time": "2023-07-15T15:15:27.107Z"
   },
   {
    "duration": 1224,
    "start_time": "2023-07-15T15:15:30.055Z"
   },
   {
    "duration": 4,
    "start_time": "2023-07-15T15:15:31.282Z"
   },
   {
    "duration": 766,
    "start_time": "2023-07-15T15:15:31.288Z"
   },
   {
    "duration": 53,
    "start_time": "2023-07-15T15:15:32.057Z"
   },
   {
    "duration": 150,
    "start_time": "2023-07-15T15:15:32.112Z"
   },
   {
    "duration": 287,
    "start_time": "2023-07-15T15:15:32.264Z"
   },
   {
    "duration": 361,
    "start_time": "2023-07-15T15:15:32.553Z"
   },
   {
    "duration": 69473,
    "start_time": "2023-07-15T15:15:32.916Z"
   },
   {
    "duration": 2,
    "start_time": "2023-07-15T15:16:42.391Z"
   },
   {
    "duration": 80,
    "start_time": "2023-07-15T15:16:42.395Z"
   },
   {
    "duration": 91,
    "start_time": "2023-07-15T15:16:42.478Z"
   },
   {
    "duration": 72,
    "start_time": "2023-07-15T15:16:42.571Z"
   },
   {
    "duration": 1074,
    "start_time": "2023-07-15T15:16:42.645Z"
   },
   {
    "duration": 49,
    "start_time": "2023-07-15T15:16:43.721Z"
   },
   {
    "duration": 158,
    "start_time": "2023-07-15T15:16:43.772Z"
   },
   {
    "duration": 57,
    "start_time": "2023-07-15T15:16:43.932Z"
   },
   {
    "duration": 47,
    "start_time": "2023-07-15T15:16:43.991Z"
   },
   {
    "duration": 49,
    "start_time": "2023-07-15T15:16:44.041Z"
   },
   {
    "duration": 27,
    "start_time": "2023-07-15T15:16:44.092Z"
   },
   {
    "duration": 98,
    "start_time": "2023-07-15T15:16:44.122Z"
   },
   {
    "duration": 176,
    "start_time": "2023-07-15T15:16:44.222Z"
   },
   {
    "duration": 198,
    "start_time": "2023-07-15T15:16:44.400Z"
   },
   {
    "duration": 177,
    "start_time": "2023-07-15T15:16:44.600Z"
   },
   {
    "duration": 9,
    "start_time": "2023-07-15T15:16:44.778Z"
   },
   {
    "duration": 12,
    "start_time": "2023-07-15T15:16:44.789Z"
   },
   {
    "duration": 709,
    "start_time": "2023-07-15T15:16:44.803Z"
   },
   {
    "duration": 3,
    "start_time": "2023-07-15T15:16:45.514Z"
   },
   {
    "duration": 35,
    "start_time": "2023-07-15T15:16:45.519Z"
   },
   {
    "duration": 47,
    "start_time": "2023-07-15T15:16:45.556Z"
   },
   {
    "duration": 48,
    "start_time": "2023-07-15T15:16:45.605Z"
   },
   {
    "duration": 8113,
    "start_time": "2023-07-16T09:06:37.729Z"
   },
   {
    "duration": 1687,
    "start_time": "2023-07-16T09:06:45.845Z"
   },
   {
    "duration": 2979,
    "start_time": "2023-07-16T09:06:47.534Z"
   },
   {
    "duration": 1180,
    "start_time": "2023-07-16T09:06:50.516Z"
   },
   {
    "duration": 3,
    "start_time": "2023-07-16T09:06:51.698Z"
   },
   {
    "duration": 801,
    "start_time": "2023-07-16T09:06:51.703Z"
   },
   {
    "duration": 46,
    "start_time": "2023-07-16T09:06:52.505Z"
   },
   {
    "duration": 99,
    "start_time": "2023-07-16T09:06:52.552Z"
   },
   {
    "duration": 160,
    "start_time": "2023-07-16T09:06:52.653Z"
   },
   {
    "duration": 348,
    "start_time": "2023-07-16T09:06:52.816Z"
   },
   {
    "duration": 73949,
    "start_time": "2023-07-16T09:06:53.166Z"
   },
   {
    "duration": 3,
    "start_time": "2023-07-16T09:08:07.117Z"
   },
   {
    "duration": 85,
    "start_time": "2023-07-16T09:08:07.121Z"
   },
   {
    "duration": 88,
    "start_time": "2023-07-16T09:08:07.208Z"
   },
   {
    "duration": 81,
    "start_time": "2023-07-16T09:08:07.297Z"
   },
   {
    "duration": 1015,
    "start_time": "2023-07-16T09:08:07.379Z"
   },
   {
    "duration": 37,
    "start_time": "2023-07-16T09:08:08.396Z"
   },
   {
    "duration": 153,
    "start_time": "2023-07-16T09:08:08.435Z"
   },
   {
    "duration": 41,
    "start_time": "2023-07-16T09:08:08.589Z"
   },
   {
    "duration": 57,
    "start_time": "2023-07-16T09:08:08.632Z"
   },
   {
    "duration": 24,
    "start_time": "2023-07-16T09:08:08.691Z"
   },
   {
    "duration": 24,
    "start_time": "2023-07-16T09:08:08.717Z"
   },
   {
    "duration": 86,
    "start_time": "2023-07-16T09:08:08.743Z"
   },
   {
    "duration": 185,
    "start_time": "2023-07-16T09:08:08.831Z"
   },
   {
    "duration": 196,
    "start_time": "2023-07-16T09:08:09.019Z"
   },
   {
    "duration": 169,
    "start_time": "2023-07-16T09:08:09.217Z"
   },
   {
    "duration": 8,
    "start_time": "2023-07-16T09:08:09.388Z"
   },
   {
    "duration": 20,
    "start_time": "2023-07-16T09:08:09.399Z"
   },
   {
    "duration": 651,
    "start_time": "2023-07-16T09:08:09.421Z"
   },
   {
    "duration": 3,
    "start_time": "2023-07-16T09:08:10.074Z"
   },
   {
    "duration": 23,
    "start_time": "2023-07-16T09:08:10.079Z"
   },
   {
    "duration": 21,
    "start_time": "2023-07-16T09:08:10.104Z"
   },
   {
    "duration": 4,
    "start_time": "2023-07-16T09:09:27.203Z"
   },
   {
    "duration": 123,
    "start_time": "2023-07-16T09:10:49.515Z"
   },
   {
    "duration": 4,
    "start_time": "2023-07-16T09:10:57.183Z"
   },
   {
    "duration": 5,
    "start_time": "2023-07-16T09:12:30.329Z"
   },
   {
    "duration": 5,
    "start_time": "2023-07-16T09:12:46.017Z"
   },
   {
    "duration": 109,
    "start_time": "2023-07-16T09:15:49.384Z"
   },
   {
    "duration": 4,
    "start_time": "2023-07-16T09:27:56.088Z"
   },
   {
    "duration": 12,
    "start_time": "2023-07-16T09:28:42.856Z"
   },
   {
    "duration": 4,
    "start_time": "2023-07-16T09:28:47.068Z"
   },
   {
    "duration": 15,
    "start_time": "2023-07-16T09:28:48.800Z"
   },
   {
    "duration": 4,
    "start_time": "2023-07-16T09:38:06.935Z"
   },
   {
    "duration": 205016,
    "start_time": "2023-07-16T09:38:11.691Z"
   },
   {
    "duration": 316865,
    "start_time": "2023-07-16T09:44:30.306Z"
   },
   {
    "duration": 5,
    "start_time": "2023-07-16T09:53:07.370Z"
   },
   {
    "duration": 4,
    "start_time": "2023-07-16T09:53:08.953Z"
   },
   {
    "duration": 117,
    "start_time": "2023-07-16T09:53:22.193Z"
   },
   {
    "duration": 112,
    "start_time": "2023-07-16T09:53:29.209Z"
   },
   {
    "duration": 181760,
    "start_time": "2023-07-16T09:53:36.417Z"
   },
   {
    "duration": 118,
    "start_time": "2023-07-16T10:00:59.789Z"
   },
   {
    "duration": 12,
    "start_time": "2023-07-16T10:01:04.318Z"
   },
   {
    "duration": 13,
    "start_time": "2023-07-16T10:01:14.687Z"
   },
   {
    "duration": 342803,
    "start_time": "2023-07-16T10:01:26.965Z"
   },
   {
    "duration": 114,
    "start_time": "2023-07-16T10:11:58.469Z"
   },
   {
    "duration": 114,
    "start_time": "2023-07-16T10:12:39.476Z"
   },
   {
    "duration": 4,
    "start_time": "2023-07-16T10:12:50.414Z"
   },
   {
    "duration": 7,
    "start_time": "2023-07-16T10:12:52.789Z"
   },
   {
    "duration": 4,
    "start_time": "2023-07-16T10:14:10.149Z"
   },
   {
    "duration": 5,
    "start_time": "2023-07-16T10:14:10.852Z"
   },
   {
    "duration": 337990,
    "start_time": "2023-07-16T10:22:47.978Z"
   },
   {
    "duration": 60680,
    "start_time": "2023-07-16T10:30:32.392Z"
   },
   {
    "duration": 6979,
    "start_time": "2023-07-16T10:32:52.212Z"
   },
   {
    "duration": 2523,
    "start_time": "2023-07-16T10:33:14.261Z"
   },
   {
    "duration": 1449,
    "start_time": "2023-07-16T10:33:16.789Z"
   },
   {
    "duration": 1007,
    "start_time": "2023-07-16T10:33:18.241Z"
   },
   {
    "duration": 1231,
    "start_time": "2023-07-16T10:33:19.250Z"
   },
   {
    "duration": 6,
    "start_time": "2023-07-16T10:33:20.485Z"
   },
   {
    "duration": 765,
    "start_time": "2023-07-16T10:33:20.493Z"
   },
   {
    "duration": 55,
    "start_time": "2023-07-16T10:33:21.260Z"
   },
   {
    "duration": 105,
    "start_time": "2023-07-16T10:33:21.318Z"
   },
   {
    "duration": 192,
    "start_time": "2023-07-16T10:33:21.425Z"
   },
   {
    "duration": 366,
    "start_time": "2023-07-16T10:33:21.622Z"
   },
   {
    "duration": 75549,
    "start_time": "2023-07-16T10:33:21.990Z"
   },
   {
    "duration": 4,
    "start_time": "2023-07-16T10:34:37.541Z"
   },
   {
    "duration": 95,
    "start_time": "2023-07-16T10:34:37.547Z"
   },
   {
    "duration": 107,
    "start_time": "2023-07-16T10:34:37.644Z"
   },
   {
    "duration": 123,
    "start_time": "2023-07-16T10:34:37.753Z"
   },
   {
    "duration": 1206,
    "start_time": "2023-07-16T10:34:37.878Z"
   },
   {
    "duration": 53,
    "start_time": "2023-07-16T10:34:39.087Z"
   },
   {
    "duration": 155,
    "start_time": "2023-07-16T10:34:39.142Z"
   },
   {
    "duration": 55,
    "start_time": "2023-07-16T10:34:39.299Z"
   },
   {
    "duration": 54,
    "start_time": "2023-07-16T10:34:39.367Z"
   },
   {
    "duration": 54,
    "start_time": "2023-07-16T10:34:39.423Z"
   },
   {
    "duration": 30,
    "start_time": "2023-07-16T10:34:39.479Z"
   },
   {
    "duration": 88,
    "start_time": "2023-07-16T10:34:39.511Z"
   },
   {
    "duration": 201,
    "start_time": "2023-07-16T10:34:39.602Z"
   },
   {
    "duration": 239,
    "start_time": "2023-07-16T10:34:39.805Z"
   },
   {
    "duration": 217,
    "start_time": "2023-07-16T10:34:40.046Z"
   },
   {
    "duration": 14,
    "start_time": "2023-07-16T10:34:40.267Z"
   },
   {
    "duration": 4,
    "start_time": "2023-07-16T10:34:40.293Z"
   },
   {
    "duration": 833,
    "start_time": "2023-07-16T10:34:40.299Z"
   },
   {
    "duration": 4,
    "start_time": "2023-07-16T10:34:41.135Z"
   },
   {
    "duration": 15,
    "start_time": "2023-07-16T10:34:41.141Z"
   },
   {
    "duration": 159844,
    "start_time": "2023-07-16T10:34:41.158Z"
   },
   {
    "duration": 341071,
    "start_time": "2023-07-16T10:37:21.004Z"
   },
   {
    "duration": 62600,
    "start_time": "2023-07-16T10:43:02.082Z"
   },
   {
    "duration": 687397,
    "start_time": "2023-07-16T10:44:04.689Z"
   },
   {
    "duration": 25,
    "start_time": "2023-07-16T10:56:09.849Z"
   },
   {
    "duration": 2504,
    "start_time": "2023-07-16T10:56:11.607Z"
   },
   {
    "duration": 2229,
    "start_time": "2023-07-16T10:56:21.513Z"
   },
   {
    "duration": 2832,
    "start_time": "2023-07-16T10:58:45.215Z"
   },
   {
    "duration": 6,
    "start_time": "2023-07-16T10:58:48.050Z"
   },
   {
    "duration": 996,
    "start_time": "2023-07-16T10:58:48.058Z"
   },
   {
    "duration": 1552,
    "start_time": "2023-07-16T10:58:49.057Z"
   },
   {
    "duration": 6,
    "start_time": "2023-07-16T10:58:50.612Z"
   },
   {
    "duration": 844,
    "start_time": "2023-07-16T10:58:50.620Z"
   },
   {
    "duration": 56,
    "start_time": "2023-07-16T10:58:51.469Z"
   },
   {
    "duration": 199,
    "start_time": "2023-07-16T10:58:51.528Z"
   },
   {
    "duration": 294,
    "start_time": "2023-07-16T10:58:51.729Z"
   },
   {
    "duration": 390,
    "start_time": "2023-07-16T10:58:52.027Z"
   },
   {
    "duration": 90733,
    "start_time": "2023-07-16T10:58:52.420Z"
   },
   {
    "duration": 11,
    "start_time": "2023-07-16T11:00:23.156Z"
   },
   {
    "duration": 109,
    "start_time": "2023-07-16T11:00:23.170Z"
   },
   {
    "duration": 134,
    "start_time": "2023-07-16T11:00:23.282Z"
   },
   {
    "duration": 143,
    "start_time": "2023-07-16T11:00:23.419Z"
   },
   {
    "duration": 1523,
    "start_time": "2023-07-16T11:00:23.567Z"
   },
   {
    "duration": 33,
    "start_time": "2023-07-16T11:00:25.096Z"
   },
   {
    "duration": 160,
    "start_time": "2023-07-16T11:00:25.131Z"
   },
   {
    "duration": 47,
    "start_time": "2023-07-16T11:00:25.293Z"
   },
   {
    "duration": 58,
    "start_time": "2023-07-16T11:00:25.342Z"
   },
   {
    "duration": 29,
    "start_time": "2023-07-16T11:00:25.406Z"
   },
   {
    "duration": 90,
    "start_time": "2023-07-16T11:00:25.437Z"
   },
   {
    "duration": 143,
    "start_time": "2023-07-16T11:00:25.529Z"
   },
   {
    "duration": 234,
    "start_time": "2023-07-16T11:00:25.674Z"
   },
   {
    "duration": 236,
    "start_time": "2023-07-16T11:00:25.910Z"
   },
   {
    "duration": 226,
    "start_time": "2023-07-16T11:00:26.148Z"
   },
   {
    "duration": 14,
    "start_time": "2023-07-16T11:00:26.376Z"
   },
   {
    "duration": 15,
    "start_time": "2023-07-16T11:00:26.395Z"
   },
   {
    "duration": 1037,
    "start_time": "2023-07-16T11:00:38.308Z"
   },
   {
    "duration": 4,
    "start_time": "2023-07-16T11:00:51.821Z"
   },
   {
    "duration": 2274,
    "start_time": "2023-07-16T11:00:57.752Z"
   },
   {
    "duration": 18,
    "start_time": "2023-07-16T11:02:56.945Z"
   },
   {
    "duration": 4,
    "start_time": "2023-07-16T11:03:53.916Z"
   },
   {
    "duration": 28,
    "start_time": "2023-07-16T11:04:01.357Z"
   },
   {
    "duration": 124,
    "start_time": "2023-07-16T11:04:06.553Z"
   },
   {
    "duration": 14,
    "start_time": "2023-07-16T11:04:33.348Z"
   },
   {
    "duration": 25,
    "start_time": "2023-07-16T11:04:47.220Z"
   },
   {
    "duration": 16,
    "start_time": "2023-07-16T11:04:58.816Z"
   },
   {
    "duration": 2734,
    "start_time": "2023-07-16T11:05:44.946Z"
   },
   {
    "duration": 15,
    "start_time": "2023-07-16T11:05:47.688Z"
   },
   {
    "duration": 1003,
    "start_time": "2023-07-16T11:05:47.705Z"
   },
   {
    "duration": 1421,
    "start_time": "2023-07-16T11:05:48.710Z"
   },
   {
    "duration": 6,
    "start_time": "2023-07-16T11:05:50.134Z"
   },
   {
    "duration": 794,
    "start_time": "2023-07-16T11:05:50.142Z"
   },
   {
    "duration": 76,
    "start_time": "2023-07-16T11:05:50.941Z"
   },
   {
    "duration": 121,
    "start_time": "2023-07-16T11:05:51.021Z"
   },
   {
    "duration": 200,
    "start_time": "2023-07-16T11:05:51.144Z"
   },
   {
    "duration": 342,
    "start_time": "2023-07-16T11:05:51.346Z"
   },
   {
    "duration": 88522,
    "start_time": "2023-07-16T11:05:51.697Z"
   },
   {
    "duration": 2,
    "start_time": "2023-07-16T11:07:20.221Z"
   },
   {
    "duration": 124,
    "start_time": "2023-07-16T11:07:20.225Z"
   },
   {
    "duration": 138,
    "start_time": "2023-07-16T11:07:20.354Z"
   },
   {
    "duration": 106,
    "start_time": "2023-07-16T11:07:20.494Z"
   },
   {
    "duration": 1228,
    "start_time": "2023-07-16T11:07:20.606Z"
   },
   {
    "duration": 65,
    "start_time": "2023-07-16T11:07:21.837Z"
   },
   {
    "duration": 187,
    "start_time": "2023-07-16T11:07:21.909Z"
   },
   {
    "duration": 48,
    "start_time": "2023-07-16T11:07:22.103Z"
   },
   {
    "duration": 79,
    "start_time": "2023-07-16T11:07:22.154Z"
   },
   {
    "duration": 29,
    "start_time": "2023-07-16T11:07:22.235Z"
   },
   {
    "duration": 62,
    "start_time": "2023-07-16T11:07:22.266Z"
   },
   {
    "duration": 120,
    "start_time": "2023-07-16T11:07:22.330Z"
   },
   {
    "duration": 247,
    "start_time": "2023-07-16T11:07:22.452Z"
   },
   {
    "duration": 316,
    "start_time": "2023-07-16T11:07:22.701Z"
   },
   {
    "duration": 253,
    "start_time": "2023-07-16T11:07:23.024Z"
   },
   {
    "duration": 13,
    "start_time": "2023-07-16T11:07:23.279Z"
   },
   {
    "duration": 82,
    "start_time": "2023-07-16T11:07:23.294Z"
   },
   {
    "duration": 1063,
    "start_time": "2023-07-16T11:07:23.378Z"
   },
   {
    "duration": 60,
    "start_time": "2023-07-16T11:07:33.745Z"
   },
   {
    "duration": 179,
    "start_time": "2023-07-16T11:07:44.357Z"
   },
   {
    "duration": 86,
    "start_time": "2023-07-16T11:07:59.054Z"
   },
   {
    "duration": 29339,
    "start_time": "2023-07-16T11:08:19.615Z"
   },
   {
    "duration": 89,
    "start_time": "2023-07-16T11:09:12.352Z"
   },
   {
    "duration": 2468075,
    "start_time": "2023-07-16T11:09:14.445Z"
   },
   {
    "duration": 18,
    "start_time": "2023-07-16T11:50:22.522Z"
   },
   {
    "duration": 14,
    "start_time": "2023-07-16T11:51:14.404Z"
   },
   {
    "duration": 12,
    "start_time": "2023-07-16T11:51:40.253Z"
   },
   {
    "duration": 14,
    "start_time": "2023-07-16T11:51:54.386Z"
   },
   {
    "duration": 9,
    "start_time": "2023-07-16T11:52:08.317Z"
   },
   {
    "duration": 772,
    "start_time": "2023-07-16T11:52:15.140Z"
   },
   {
    "duration": 2471,
    "start_time": "2023-07-16T11:52:41.520Z"
   },
   {
    "duration": 1483,
    "start_time": "2023-07-16T11:52:43.995Z"
   },
   {
    "duration": 979,
    "start_time": "2023-07-16T11:52:45.482Z"
   },
   {
    "duration": 1421,
    "start_time": "2023-07-16T11:52:46.464Z"
   },
   {
    "duration": 7,
    "start_time": "2023-07-16T11:52:47.890Z"
   },
   {
    "duration": 728,
    "start_time": "2023-07-16T11:52:47.900Z"
   },
   {
    "duration": 62,
    "start_time": "2023-07-16T11:52:48.631Z"
   },
   {
    "duration": 101,
    "start_time": "2023-07-16T11:52:48.695Z"
   },
   {
    "duration": 234,
    "start_time": "2023-07-16T11:52:48.798Z"
   },
   {
    "duration": 354,
    "start_time": "2023-07-16T11:52:49.035Z"
   },
   {
    "duration": 77442,
    "start_time": "2023-07-16T11:52:49.392Z"
   },
   {
    "duration": 4,
    "start_time": "2023-07-16T11:54:06.838Z"
   },
   {
    "duration": 139,
    "start_time": "2023-07-16T11:54:06.844Z"
   },
   {
    "duration": 117,
    "start_time": "2023-07-16T11:54:06.991Z"
   },
   {
    "duration": 82,
    "start_time": "2023-07-16T11:54:07.110Z"
   },
   {
    "duration": 1213,
    "start_time": "2023-07-16T11:54:07.194Z"
   },
   {
    "duration": 61,
    "start_time": "2023-07-16T11:54:08.410Z"
   },
   {
    "duration": 168,
    "start_time": "2023-07-16T11:54:08.475Z"
   },
   {
    "duration": 61,
    "start_time": "2023-07-16T11:54:08.646Z"
   },
   {
    "duration": 74,
    "start_time": "2023-07-16T11:54:08.710Z"
   },
   {
    "duration": 30,
    "start_time": "2023-07-16T11:54:08.791Z"
   },
   {
    "duration": 32,
    "start_time": "2023-07-16T11:54:08.823Z"
   },
   {
    "duration": 140,
    "start_time": "2023-07-16T11:54:08.869Z"
   },
   {
    "duration": 228,
    "start_time": "2023-07-16T11:54:09.011Z"
   },
   {
    "duration": 350,
    "start_time": "2023-07-16T11:54:09.241Z"
   },
   {
    "duration": 214,
    "start_time": "2023-07-16T11:54:09.594Z"
   },
   {
    "duration": 11,
    "start_time": "2023-07-16T11:54:09.810Z"
   },
   {
    "duration": 22,
    "start_time": "2023-07-16T11:54:09.826Z"
   },
   {
    "duration": 864,
    "start_time": "2023-07-16T11:54:09.850Z"
   },
   {
    "duration": 3,
    "start_time": "2023-07-16T11:54:10.717Z"
   },
   {
    "duration": 10,
    "start_time": "2023-07-16T11:54:10.722Z"
   },
   {
    "duration": 164577,
    "start_time": "2023-07-16T11:54:10.734Z"
   },
   {
    "duration": 358897,
    "start_time": "2023-07-16T11:56:55.313Z"
   },
   {
    "duration": 59124,
    "start_time": "2023-07-16T12:02:54.266Z"
   },
   {
    "duration": 920,
    "start_time": "2023-07-16T12:03:53.398Z"
   },
   {
    "duration": 194542,
    "start_time": "2023-07-16T12:03:54.321Z"
   },
   {
    "duration": 42,
    "start_time": "2023-07-16T12:07:08.866Z"
   },
   {
    "duration": 186,
    "start_time": "2023-07-16T12:07:08.926Z"
   },
   {
    "duration": 0,
    "start_time": "2023-07-16T12:34:58.006Z"
   },
   {
    "duration": 0,
    "start_time": "2023-07-16T12:34:58.007Z"
   },
   {
    "duration": 0,
    "start_time": "2023-07-16T12:34:58.009Z"
   },
   {
    "duration": 0,
    "start_time": "2023-07-16T12:34:58.010Z"
   },
   {
    "duration": 0,
    "start_time": "2023-07-16T12:34:58.011Z"
   },
   {
    "duration": 0,
    "start_time": "2023-07-16T12:34:58.012Z"
   },
   {
    "duration": 0,
    "start_time": "2023-07-16T12:34:58.013Z"
   },
   {
    "duration": 0,
    "start_time": "2023-07-16T12:34:58.014Z"
   },
   {
    "duration": 363392,
    "start_time": "2023-07-16T13:05:30.799Z"
   },
   {
    "duration": 81799,
    "start_time": "2023-07-16T13:11:34.269Z"
   },
   {
    "duration": 743,
    "start_time": "2023-07-16T13:12:56.070Z"
   },
   {
    "duration": 1123530,
    "start_time": "2023-07-16T13:12:56.815Z"
   },
   {
    "duration": 16,
    "start_time": "2023-07-16T13:31:40.346Z"
   },
   {
    "duration": 17,
    "start_time": "2023-07-16T13:31:40.364Z"
   },
   {
    "duration": 2252,
    "start_time": "2023-07-16T13:32:27.388Z"
   },
   {
    "duration": 1431,
    "start_time": "2023-07-16T13:32:29.643Z"
   },
   {
    "duration": 994,
    "start_time": "2023-07-16T13:32:31.077Z"
   },
   {
    "duration": 1314,
    "start_time": "2023-07-16T13:32:32.073Z"
   },
   {
    "duration": 3,
    "start_time": "2023-07-16T13:32:33.389Z"
   },
   {
    "duration": 681,
    "start_time": "2023-07-16T13:32:33.394Z"
   },
   {
    "duration": 67,
    "start_time": "2023-07-16T13:32:34.080Z"
   },
   {
    "duration": 101,
    "start_time": "2023-07-16T13:32:34.149Z"
   },
   {
    "duration": 175,
    "start_time": "2023-07-16T13:32:34.253Z"
   },
   {
    "duration": 328,
    "start_time": "2023-07-16T13:32:34.431Z"
   },
   {
    "duration": 70959,
    "start_time": "2023-07-16T13:32:34.761Z"
   },
   {
    "duration": 3,
    "start_time": "2023-07-16T13:33:45.722Z"
   },
   {
    "duration": 87,
    "start_time": "2023-07-16T13:33:45.726Z"
   },
   {
    "duration": 97,
    "start_time": "2023-07-16T13:33:45.815Z"
   },
   {
    "duration": 83,
    "start_time": "2023-07-16T13:33:45.914Z"
   },
   {
    "duration": 1094,
    "start_time": "2023-07-16T13:33:45.999Z"
   },
   {
    "duration": 40,
    "start_time": "2023-07-16T13:33:47.095Z"
   },
   {
    "duration": 158,
    "start_time": "2023-07-16T13:33:47.137Z"
   },
   {
    "duration": 42,
    "start_time": "2023-07-16T13:33:47.298Z"
   },
   {
    "duration": 64,
    "start_time": "2023-07-16T13:33:47.341Z"
   },
   {
    "duration": 26,
    "start_time": "2023-07-16T13:33:47.406Z"
   },
   {
    "duration": 47,
    "start_time": "2023-07-16T13:33:47.433Z"
   },
   {
    "duration": 74,
    "start_time": "2023-07-16T13:33:47.482Z"
   },
   {
    "duration": 205,
    "start_time": "2023-07-16T13:33:47.557Z"
   },
   {
    "duration": 216,
    "start_time": "2023-07-16T13:33:47.766Z"
   },
   {
    "duration": 192,
    "start_time": "2023-07-16T13:33:47.984Z"
   },
   {
    "duration": 11,
    "start_time": "2023-07-16T13:33:48.179Z"
   },
   {
    "duration": 22,
    "start_time": "2023-07-16T13:33:48.195Z"
   },
   {
    "duration": 763,
    "start_time": "2023-07-16T13:33:48.219Z"
   },
   {
    "duration": 4,
    "start_time": "2023-07-16T13:33:48.984Z"
   },
   {
    "duration": 23,
    "start_time": "2023-07-16T13:33:48.990Z"
   },
   {
    "duration": 166183,
    "start_time": "2023-07-16T13:33:49.015Z"
   },
   {
    "duration": 345368,
    "start_time": "2023-07-16T13:36:35.201Z"
   },
   {
    "duration": 85612,
    "start_time": "2023-07-16T13:42:20.571Z"
   },
   {
    "duration": 780,
    "start_time": "2023-07-16T13:43:46.185Z"
   },
   {
    "duration": 4188925,
    "start_time": "2023-07-16T13:43:46.966Z"
   },
   {
    "duration": 26,
    "start_time": "2023-07-16T14:53:35.895Z"
   },
   {
    "duration": 216,
    "start_time": "2023-07-16T14:53:35.923Z"
   },
   {
    "duration": 0,
    "start_time": "2023-07-16T15:01:03.405Z"
   },
   {
    "duration": 0,
    "start_time": "2023-07-16T15:01:03.406Z"
   },
   {
    "duration": 0,
    "start_time": "2023-07-16T15:01:03.408Z"
   },
   {
    "duration": 0,
    "start_time": "2023-07-16T15:01:03.409Z"
   },
   {
    "duration": 0,
    "start_time": "2023-07-16T15:01:03.410Z"
   },
   {
    "duration": 0,
    "start_time": "2023-07-16T15:01:03.411Z"
   },
   {
    "duration": 0,
    "start_time": "2023-07-16T15:01:03.413Z"
   },
   {
    "duration": 0,
    "start_time": "2023-07-16T15:01:03.413Z"
   },
   {
    "duration": 0,
    "start_time": "2023-07-16T15:01:03.414Z"
   },
   {
    "duration": 0,
    "start_time": "2023-07-16T15:01:03.416Z"
   },
   {
    "duration": 0,
    "start_time": "2023-07-16T15:01:03.417Z"
   },
   {
    "duration": 0,
    "start_time": "2023-07-16T15:01:03.418Z"
   },
   {
    "duration": 164678,
    "start_time": "2023-07-16T15:01:10.003Z"
   },
   {
    "duration": 47739,
    "start_time": "2023-07-16T15:05:54.039Z"
   },
   {
    "duration": 61166,
    "start_time": "2023-07-16T15:08:44.807Z"
   },
   {
    "duration": 54083,
    "start_time": "2023-07-16T15:09:58.900Z"
   },
   {
    "duration": 52936,
    "start_time": "2023-07-16T15:13:35.257Z"
   },
   {
    "duration": 32449,
    "start_time": "2023-07-16T15:15:34.939Z"
   },
   {
    "duration": 43937,
    "start_time": "2023-07-16T15:16:40.839Z"
   },
   {
    "duration": 46149,
    "start_time": "2023-07-16T15:18:04.753Z"
   },
   {
    "duration": 42170,
    "start_time": "2023-07-16T15:20:17.628Z"
   },
   {
    "duration": 515808,
    "start_time": "2023-07-16T15:21:29.689Z"
   },
   {
    "duration": 6,
    "start_time": "2023-07-16T15:30:05.507Z"
   },
   {
    "duration": 198664,
    "start_time": "2023-07-16T15:30:57.398Z"
   },
   {
    "duration": 176324,
    "start_time": "2023-07-16T15:35:43.555Z"
   },
   {
    "duration": 85307,
    "start_time": "2023-07-16T15:41:30.109Z"
   },
   {
    "duration": 87062,
    "start_time": "2023-07-16T15:43:44.545Z"
   },
   {
    "duration": 82204,
    "start_time": "2023-07-16T15:46:38.634Z"
   },
   {
    "duration": 60642,
    "start_time": "2023-07-16T15:48:40.837Z"
   },
   {
    "duration": 849,
    "start_time": "2023-07-16T15:50:55.055Z"
   },
   {
    "duration": 2405,
    "start_time": "2023-07-16T15:51:34.001Z"
   },
   {
    "duration": 1434,
    "start_time": "2023-07-16T15:51:36.408Z"
   },
   {
    "duration": 1005,
    "start_time": "2023-07-16T15:51:37.843Z"
   },
   {
    "duration": 1341,
    "start_time": "2023-07-16T15:51:38.849Z"
   },
   {
    "duration": 5,
    "start_time": "2023-07-16T15:51:40.200Z"
   },
   {
    "duration": 708,
    "start_time": "2023-07-16T15:51:40.206Z"
   },
   {
    "duration": 70,
    "start_time": "2023-07-16T15:51:40.916Z"
   },
   {
    "duration": 95,
    "start_time": "2023-07-16T15:51:40.992Z"
   },
   {
    "duration": 160,
    "start_time": "2023-07-16T15:51:41.089Z"
   },
   {
    "duration": 348,
    "start_time": "2023-07-16T15:51:41.251Z"
   },
   {
    "duration": 76834,
    "start_time": "2023-07-16T15:51:41.601Z"
   },
   {
    "duration": 3,
    "start_time": "2023-07-16T15:52:58.438Z"
   },
   {
    "duration": 110,
    "start_time": "2023-07-16T15:52:58.443Z"
   },
   {
    "duration": 102,
    "start_time": "2023-07-16T15:52:58.557Z"
   },
   {
    "duration": 87,
    "start_time": "2023-07-16T15:52:58.672Z"
   },
   {
    "duration": 1239,
    "start_time": "2023-07-16T15:52:58.777Z"
   },
   {
    "duration": 62,
    "start_time": "2023-07-16T15:53:00.018Z"
   },
   {
    "duration": 189,
    "start_time": "2023-07-16T15:53:00.086Z"
   },
   {
    "duration": 49,
    "start_time": "2023-07-16T15:53:00.280Z"
   },
   {
    "duration": 74,
    "start_time": "2023-07-16T15:53:00.331Z"
   },
   {
    "duration": 28,
    "start_time": "2023-07-16T15:53:00.407Z"
   },
   {
    "duration": 57,
    "start_time": "2023-07-16T15:53:00.437Z"
   },
   {
    "duration": 106,
    "start_time": "2023-07-16T15:53:00.502Z"
   },
   {
    "duration": 220,
    "start_time": "2023-07-16T15:53:00.610Z"
   },
   {
    "duration": 260,
    "start_time": "2023-07-16T15:53:00.832Z"
   },
   {
    "duration": 212,
    "start_time": "2023-07-16T15:53:01.099Z"
   },
   {
    "duration": 9,
    "start_time": "2023-07-16T15:53:01.314Z"
   },
   {
    "duration": 54,
    "start_time": "2023-07-16T15:53:01.326Z"
   },
   {
    "duration": 873,
    "start_time": "2023-07-16T15:53:01.386Z"
   },
   {
    "duration": 22,
    "start_time": "2023-07-16T15:53:02.261Z"
   },
   {
    "duration": 34,
    "start_time": "2023-07-16T15:53:02.301Z"
   },
   {
    "duration": 168584,
    "start_time": "2023-07-16T15:53:02.337Z"
   },
   {
    "duration": 205029,
    "start_time": "2023-07-16T15:55:50.923Z"
   },
   {
    "duration": 64979,
    "start_time": "2023-07-16T15:59:15.956Z"
   },
   {
    "duration": 1070,
    "start_time": "2023-07-16T16:01:33.429Z"
   },
   {
    "duration": 1116505,
    "start_time": "2023-07-16T16:26:49.798Z"
   },
   {
    "duration": 18,
    "start_time": "2023-07-16T16:47:11.726Z"
   },
   {
    "duration": 201,
    "start_time": "2023-07-16T16:47:14.034Z"
   },
   {
    "duration": 9593698,
    "start_time": "2023-07-16T16:47:18.558Z"
   },
   {
    "duration": 199,
    "start_time": "2023-07-16T19:27:12.258Z"
   },
   {
    "duration": 2515,
    "start_time": "2023-07-16T19:30:20.479Z"
   },
   {
    "duration": 1651,
    "start_time": "2023-07-16T19:30:22.999Z"
   },
   {
    "duration": 1133,
    "start_time": "2023-07-16T19:30:24.652Z"
   },
   {
    "duration": 1340,
    "start_time": "2023-07-16T19:30:25.789Z"
   },
   {
    "duration": 5,
    "start_time": "2023-07-16T19:30:27.131Z"
   },
   {
    "duration": 713,
    "start_time": "2023-07-16T19:30:27.138Z"
   },
   {
    "duration": 81,
    "start_time": "2023-07-16T19:30:27.854Z"
   },
   {
    "duration": 114,
    "start_time": "2023-07-16T19:30:27.937Z"
   },
   {
    "duration": 176,
    "start_time": "2023-07-16T19:30:28.053Z"
   },
   {
    "duration": 354,
    "start_time": "2023-07-16T19:30:28.232Z"
   },
   {
    "duration": 70458,
    "start_time": "2023-07-16T19:30:28.589Z"
   },
   {
    "duration": 3,
    "start_time": "2023-07-16T19:31:39.050Z"
   },
   {
    "duration": 75,
    "start_time": "2023-07-16T19:31:39.066Z"
   },
   {
    "duration": 102,
    "start_time": "2023-07-16T19:31:39.144Z"
   },
   {
    "duration": 86,
    "start_time": "2023-07-16T19:31:39.247Z"
   },
   {
    "duration": 1154,
    "start_time": "2023-07-16T19:31:39.335Z"
   },
   {
    "duration": 41,
    "start_time": "2023-07-16T19:31:40.491Z"
   },
   {
    "duration": 156,
    "start_time": "2023-07-16T19:31:40.534Z"
   },
   {
    "duration": 45,
    "start_time": "2023-07-16T19:31:40.692Z"
   },
   {
    "duration": 66,
    "start_time": "2023-07-16T19:31:40.739Z"
   },
   {
    "duration": 27,
    "start_time": "2023-07-16T19:31:40.807Z"
   },
   {
    "duration": 53,
    "start_time": "2023-07-16T19:31:40.836Z"
   },
   {
    "duration": 78,
    "start_time": "2023-07-16T19:31:40.892Z"
   },
   {
    "duration": 198,
    "start_time": "2023-07-16T19:31:40.972Z"
   },
   {
    "duration": 208,
    "start_time": "2023-07-16T19:31:41.172Z"
   },
   {
    "duration": 200,
    "start_time": "2023-07-16T19:31:41.382Z"
   },
   {
    "duration": 11,
    "start_time": "2023-07-16T19:31:41.584Z"
   },
   {
    "duration": 5,
    "start_time": "2023-07-16T19:31:41.599Z"
   },
   {
    "duration": 792,
    "start_time": "2023-07-16T19:31:41.607Z"
   },
   {
    "duration": 4,
    "start_time": "2023-07-16T19:31:42.401Z"
   },
   {
    "duration": 8,
    "start_time": "2023-07-16T19:31:42.406Z"
   },
   {
    "duration": 146287,
    "start_time": "2023-07-16T19:31:42.416Z"
   },
   {
    "duration": 172675,
    "start_time": "2023-07-16T19:34:08.706Z"
   },
   {
    "duration": 64209,
    "start_time": "2023-07-16T19:37:01.384Z"
   },
   {
    "duration": 762,
    "start_time": "2023-07-16T19:38:05.596Z"
   },
   {
    "duration": 1095448,
    "start_time": "2023-07-16T19:38:06.360Z"
   },
   {
    "duration": 23,
    "start_time": "2023-07-16T19:56:21.811Z"
   },
   {
    "duration": 202,
    "start_time": "2023-07-16T19:56:21.837Z"
   },
   {
    "duration": 452148,
    "start_time": "2023-07-16T19:56:22.042Z"
   },
   {
    "duration": 28,
    "start_time": "2023-07-16T20:03:54.193Z"
   },
   {
    "duration": 0,
    "start_time": "2023-07-16T20:03:54.224Z"
   },
   {
    "duration": 0,
    "start_time": "2023-07-16T20:03:54.225Z"
   },
   {
    "duration": 0,
    "start_time": "2023-07-16T20:03:54.226Z"
   },
   {
    "duration": 0,
    "start_time": "2023-07-16T20:03:54.228Z"
   },
   {
    "duration": 2539,
    "start_time": "2023-07-16T20:04:07.635Z"
   },
   {
    "duration": 1568,
    "start_time": "2023-07-16T20:04:10.177Z"
   },
   {
    "duration": 1091,
    "start_time": "2023-07-16T20:04:11.747Z"
   },
   {
    "duration": 1398,
    "start_time": "2023-07-16T20:04:12.842Z"
   },
   {
    "duration": 5,
    "start_time": "2023-07-16T20:04:14.243Z"
   },
   {
    "duration": 764,
    "start_time": "2023-07-16T20:04:14.250Z"
   },
   {
    "duration": 72,
    "start_time": "2023-07-16T20:04:15.015Z"
   },
   {
    "duration": 101,
    "start_time": "2023-07-16T20:04:15.089Z"
   },
   {
    "duration": 160,
    "start_time": "2023-07-16T20:04:15.194Z"
   },
   {
    "duration": 351,
    "start_time": "2023-07-16T20:04:15.357Z"
   },
   {
    "duration": 73649,
    "start_time": "2023-07-16T20:04:15.711Z"
   },
   {
    "duration": 3,
    "start_time": "2023-07-16T20:05:29.370Z"
   },
   {
    "duration": 89,
    "start_time": "2023-07-16T20:05:29.375Z"
   },
   {
    "duration": 88,
    "start_time": "2023-07-16T20:05:29.467Z"
   },
   {
    "duration": 78,
    "start_time": "2023-07-16T20:05:29.567Z"
   },
   {
    "duration": 1136,
    "start_time": "2023-07-16T20:05:29.647Z"
   },
   {
    "duration": 42,
    "start_time": "2023-07-16T20:05:30.786Z"
   },
   {
    "duration": 173,
    "start_time": "2023-07-16T20:05:30.831Z"
   },
   {
    "duration": 44,
    "start_time": "2023-07-16T20:05:31.006Z"
   },
   {
    "duration": 61,
    "start_time": "2023-07-16T20:05:31.052Z"
   },
   {
    "duration": 25,
    "start_time": "2023-07-16T20:05:31.115Z"
   },
   {
    "duration": 60,
    "start_time": "2023-07-16T20:05:31.142Z"
   },
   {
    "duration": 94,
    "start_time": "2023-07-16T20:05:31.204Z"
   },
   {
    "duration": 215,
    "start_time": "2023-07-16T20:05:31.300Z"
   },
   {
    "duration": 226,
    "start_time": "2023-07-16T20:05:31.518Z"
   },
   {
    "duration": 208,
    "start_time": "2023-07-16T20:05:31.746Z"
   },
   {
    "duration": 24,
    "start_time": "2023-07-16T20:05:31.957Z"
   },
   {
    "duration": 32,
    "start_time": "2023-07-16T20:05:31.989Z"
   },
   {
    "duration": 817,
    "start_time": "2023-07-16T20:05:32.024Z"
   },
   {
    "duration": 4,
    "start_time": "2023-07-16T20:05:32.844Z"
   },
   {
    "duration": 21,
    "start_time": "2023-07-16T20:05:32.850Z"
   },
   {
    "duration": 161137,
    "start_time": "2023-07-16T20:05:32.873Z"
   },
   {
    "duration": 174474,
    "start_time": "2023-07-16T20:08:14.013Z"
   },
   {
    "duration": 61290,
    "start_time": "2023-07-16T20:11:08.489Z"
   },
   {
    "duration": 754,
    "start_time": "2023-07-16T20:12:09.781Z"
   },
   {
    "duration": 2332166,
    "start_time": "2023-07-16T20:12:10.537Z"
   },
   {
    "duration": 25,
    "start_time": "2023-07-16T20:51:02.705Z"
   },
   {
    "duration": 230,
    "start_time": "2023-07-16T20:51:02.733Z"
   },
   {
    "duration": 15208806,
    "start_time": "2023-07-16T20:51:02.967Z"
   },
   {
    "duration": 9,
    "start_time": "2023-07-17T01:04:31.776Z"
   },
   {
    "duration": 139,
    "start_time": "2023-07-17T01:04:31.787Z"
   },
   {
    "duration": 303,
    "start_time": "2023-07-17T01:04:31.928Z"
   },
   {
    "duration": 23,
    "start_time": "2023-07-17T01:04:32.233Z"
   },
   {
    "duration": 0,
    "start_time": "2023-07-17T01:04:32.258Z"
   },
   {
    "duration": 19670,
    "start_time": "2023-07-17T01:32:15.017Z"
   },
   {
    "duration": 6,
    "start_time": "2023-07-17T01:32:42.160Z"
   },
   {
    "duration": 390,
    "start_time": "2023-07-17T01:32:45.313Z"
   },
   {
    "duration": 9981,
    "start_time": "2023-07-17T15:15:24.156Z"
   },
   {
    "duration": 1493,
    "start_time": "2023-07-17T15:15:34.140Z"
   },
   {
    "duration": 1083,
    "start_time": "2023-07-17T15:15:35.634Z"
   },
   {
    "duration": 1063,
    "start_time": "2023-07-17T15:15:36.719Z"
   },
   {
    "duration": 3,
    "start_time": "2023-07-17T15:15:37.784Z"
   },
   {
    "duration": 698,
    "start_time": "2023-07-17T15:15:37.790Z"
   },
   {
    "duration": 134,
    "start_time": "2023-07-17T15:16:04.511Z"
   },
   {
    "duration": 36,
    "start_time": "2023-07-17T15:16:14.088Z"
   },
   {
    "duration": 0,
    "start_time": "2023-07-17T15:17:43.573Z"
   },
   {
    "duration": 12,
    "start_time": "2023-07-17T15:19:22.478Z"
   },
   {
    "duration": 100,
    "start_time": "2023-07-17T15:19:34.678Z"
   },
   {
    "duration": 634,
    "start_time": "2023-07-17T15:19:48.669Z"
   },
   {
    "duration": 4,
    "start_time": "2023-07-17T15:19:55.693Z"
   },
   {
    "duration": 283,
    "start_time": "2023-07-17T15:19:58.501Z"
   },
   {
    "duration": 16,
    "start_time": "2023-07-17T15:20:03.781Z"
   },
   {
    "duration": 38,
    "start_time": "2023-07-17T15:23:46.563Z"
   },
   {
    "duration": 54,
    "start_time": "2023-07-17T15:24:57.618Z"
   },
   {
    "duration": 2140,
    "start_time": "2023-07-17T15:27:17.716Z"
   },
   {
    "duration": 7,
    "start_time": "2023-07-17T15:27:19.858Z"
   },
   {
    "duration": 832,
    "start_time": "2023-07-17T15:27:19.866Z"
   },
   {
    "duration": 946,
    "start_time": "2023-07-17T15:27:20.701Z"
   },
   {
    "duration": 4,
    "start_time": "2023-07-17T15:27:21.649Z"
   },
   {
    "duration": 613,
    "start_time": "2023-07-17T15:27:21.655Z"
   },
   {
    "duration": 82,
    "start_time": "2023-07-17T15:27:22.270Z"
   },
   {
    "duration": 27,
    "start_time": "2023-07-17T15:27:22.354Z"
   },
   {
    "duration": 93,
    "start_time": "2023-07-17T15:27:22.383Z"
   },
   {
    "duration": 154,
    "start_time": "2023-07-17T15:27:22.480Z"
   },
   {
    "duration": 258,
    "start_time": "2023-07-17T15:27:22.636Z"
   },
   {
    "duration": 59965,
    "start_time": "2023-07-17T15:27:22.896Z"
   },
   {
    "duration": 2,
    "start_time": "2023-07-17T15:28:22.863Z"
   },
   {
    "duration": 83,
    "start_time": "2023-07-17T15:28:22.866Z"
   },
   {
    "duration": 106,
    "start_time": "2023-07-17T15:28:22.951Z"
   },
   {
    "duration": 81,
    "start_time": "2023-07-17T15:28:23.058Z"
   },
   {
    "duration": 857,
    "start_time": "2023-07-17T15:28:23.141Z"
   },
   {
    "duration": 42,
    "start_time": "2023-07-17T15:28:23.999Z"
   },
   {
    "duration": 131,
    "start_time": "2023-07-17T15:28:24.043Z"
   },
   {
    "duration": 34,
    "start_time": "2023-07-17T15:28:24.175Z"
   },
   {
    "duration": 52,
    "start_time": "2023-07-17T15:28:24.211Z"
   },
   {
    "duration": 26,
    "start_time": "2023-07-17T15:28:24.265Z"
   },
   {
    "duration": 20,
    "start_time": "2023-07-17T15:28:24.292Z"
   },
   {
    "duration": 88,
    "start_time": "2023-07-17T15:28:24.314Z"
   },
   {
    "duration": 152,
    "start_time": "2023-07-17T15:29:16.310Z"
   },
   {
    "duration": 175,
    "start_time": "2023-07-17T15:29:21.106Z"
   },
   {
    "duration": 2192,
    "start_time": "2023-07-17T15:34:16.847Z"
   },
   {
    "duration": 1211,
    "start_time": "2023-07-17T15:34:19.041Z"
   },
   {
    "duration": 743,
    "start_time": "2023-07-17T15:34:20.253Z"
   },
   {
    "duration": 984,
    "start_time": "2023-07-17T15:34:20.998Z"
   },
   {
    "duration": 3,
    "start_time": "2023-07-17T15:34:21.984Z"
   },
   {
    "duration": 531,
    "start_time": "2023-07-17T15:34:21.988Z"
   },
   {
    "duration": 102,
    "start_time": "2023-07-17T15:34:22.520Z"
   },
   {
    "duration": 36,
    "start_time": "2023-07-17T15:34:22.632Z"
   },
   {
    "duration": 92,
    "start_time": "2023-07-17T15:34:22.669Z"
   },
   {
    "duration": 162,
    "start_time": "2023-07-17T15:34:22.762Z"
   },
   {
    "duration": 256,
    "start_time": "2023-07-17T15:34:22.931Z"
   },
   {
    "duration": 59328,
    "start_time": "2023-07-17T15:34:23.189Z"
   },
   {
    "duration": 2,
    "start_time": "2023-07-17T15:35:22.519Z"
   },
   {
    "duration": 81,
    "start_time": "2023-07-17T15:35:22.531Z"
   },
   {
    "duration": 101,
    "start_time": "2023-07-17T15:35:22.613Z"
   },
   {
    "duration": 77,
    "start_time": "2023-07-17T15:35:22.715Z"
   },
   {
    "duration": 917,
    "start_time": "2023-07-17T15:35:22.794Z"
   },
   {
    "duration": 41,
    "start_time": "2023-07-17T15:35:23.713Z"
   },
   {
    "duration": 140,
    "start_time": "2023-07-17T15:35:23.756Z"
   },
   {
    "duration": 43,
    "start_time": "2023-07-17T15:35:23.898Z"
   },
   {
    "duration": 37,
    "start_time": "2023-07-17T15:35:23.942Z"
   },
   {
    "duration": 27,
    "start_time": "2023-07-17T15:35:23.980Z"
   },
   {
    "duration": 41,
    "start_time": "2023-07-17T15:35:24.009Z"
   },
   {
    "duration": 80,
    "start_time": "2023-07-17T15:35:24.052Z"
   },
   {
    "duration": 148,
    "start_time": "2023-07-17T15:35:24.134Z"
   },
   {
    "duration": 161,
    "start_time": "2023-07-17T15:35:24.283Z"
   },
   {
    "duration": 140,
    "start_time": "2023-07-17T15:35:24.446Z"
   },
   {
    "duration": 7,
    "start_time": "2023-07-17T15:35:24.588Z"
   },
   {
    "duration": 22,
    "start_time": "2023-07-17T15:35:24.596Z"
   },
   {
    "duration": 670,
    "start_time": "2023-07-17T15:35:24.619Z"
   },
   {
    "duration": 3,
    "start_time": "2023-07-17T15:35:25.290Z"
   },
   {
    "duration": 34,
    "start_time": "2023-07-17T15:35:25.295Z"
   },
   {
    "duration": 144404,
    "start_time": "2023-07-17T15:35:25.330Z"
   },
   {
    "duration": 190408,
    "start_time": "2023-07-17T15:37:49.736Z"
   },
   {
    "duration": 53009,
    "start_time": "2023-07-17T15:41:00.147Z"
   },
   {
    "duration": 698,
    "start_time": "2023-07-17T15:41:53.158Z"
   },
   {
    "duration": 1813892,
    "start_time": "2023-07-17T15:41:53.857Z"
   },
   {
    "duration": 15,
    "start_time": "2023-07-17T16:12:07.751Z"
   },
   {
    "duration": 172,
    "start_time": "2023-07-17T16:12:07.767Z"
   },
   {
    "duration": 0,
    "start_time": "2023-07-17T20:47:28.983Z"
   },
   {
    "duration": 0,
    "start_time": "2023-07-17T20:47:28.988Z"
   },
   {
    "duration": 0,
    "start_time": "2023-07-17T20:47:28.990Z"
   },
   {
    "duration": 0,
    "start_time": "2023-07-17T20:47:28.999Z"
   },
   {
    "duration": 0,
    "start_time": "2023-07-17T20:47:29.004Z"
   },
   {
    "duration": 0,
    "start_time": "2023-07-17T20:47:29.008Z"
   }
  ],
  "kernelspec": {
   "display_name": "Python 3 (ipykernel)",
   "language": "python",
   "name": "python3"
  },
  "language_info": {
   "codemirror_mode": {
    "name": "ipython",
    "version": 3
   },
   "file_extension": ".py",
   "mimetype": "text/x-python",
   "name": "python",
   "nbconvert_exporter": "python",
   "pygments_lexer": "ipython3",
   "version": "3.9.13"
  },
  "toc": {
   "base_numbering": 1,
   "nav_menu": {
    "height": "286.997px",
    "width": "265.99px"
   },
   "number_sections": true,
   "sideBar": true,
   "skip_h1_title": true,
   "title_cell": "Table of Contents",
   "title_sidebar": "Contents",
   "toc_cell": false,
   "toc_position": {},
   "toc_section_display": true,
   "toc_window_display": false
  }
 },
 "nbformat": 4,
 "nbformat_minor": 5
}
