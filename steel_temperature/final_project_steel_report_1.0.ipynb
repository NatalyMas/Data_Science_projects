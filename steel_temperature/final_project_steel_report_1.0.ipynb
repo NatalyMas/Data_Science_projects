{
 "cells": [
  {
   "cell_type": "markdown",
   "id": "d441b2c9",
   "metadata": {},
   "source": [
    "# Температура стали"
   ]
  },
  {
   "cell_type": "markdown",
   "id": "419ce80f",
   "metadata": {},
   "source": [
    "Чтобы оптимизировать производственные расходы, металлургический комбинат ООО «Так закаляем сталь» решил уменьшить потребление электроэнергии на этапе обработки стали. Нам предстоит построить модель, которая предскажет температуру стали."
   ]
  },
  {
   "cell_type": "markdown",
   "id": "3e5259f0",
   "metadata": {},
   "source": [
    "#### Описание этапа обработки\n",
    "Сталь обрабатывают в металлическом ковше вместимостью около 100 тонн. Чтобы ковш выдерживал высокие температуры, изнутри его облицовывают огнеупорным кирпичом. Расплавленную сталь заливают в ковш и подогревают до нужной температуры графитовыми электродами. Они установлены в крышке ковша. \n",
    "Из сплава выводится сера (десульфурация), добавлением примесей корректируется химический состав и отбираются пробы. Сталь легируют — изменяют её состав — подавая куски сплава из бункера для сыпучих материалов или проволоку через специальный трайб-аппарат (англ. tribe, «масса»).\n",
    "Перед тем как первый раз ввести легирующие добавки, измеряют температуру стали и производят её химический анализ. Потом температуру на несколько минут повышают, добавляют легирующие материалы и продувают сплав инертным газом. Затем его перемешивают и снова проводят измерения. Такой цикл повторяется до достижения целевого химического состава и оптимальной температуры плавки.\n",
    "Тогда расплавленная сталь отправляется на доводку металла или поступает в машину непрерывной разливки. Оттуда готовый продукт выходит в виде заготовок-слябов (англ. slab, «плита»)."
   ]
  },
  {
   "cell_type": "markdown",
   "id": "10f810a8",
   "metadata": {},
   "source": [
    "#### Описание данных\n",
    "\n",
    "Данные состоят из файлов, полученных из разных источников:\n",
    "- data_arc_new.csv — данные об электродах;\n",
    "- data_bulk_new.csv — данные о подаче сыпучих материалов (объём);\n",
    "- data_bulk_time_new.csv — данные о подаче сыпучих материалов (время);\n",
    "- data_gas_new.csv — данные о продувке сплава газом;\n",
    "- data_temp_new.csv — результаты измерения температуры;\n",
    "- data_wire_new.csv — данные о проволочных материалах (объём);\n",
    "- data_wire_time_new.csv — данные о проволочных материалах (время).\n",
    "\n",
    "Во всех файлах столбец key содержит номер партии. В файлах может быть несколько строк с одинаковым значением key: они соответствуют разным итерациям обработки."
   ]
  },
  {
   "cell_type": "markdown",
   "id": "fa72c97f",
   "metadata": {},
   "source": [
    "#### План работы\n",
    "- Исследовательский анализ данных:\n",
    "  * загрузить данные;\n",
    "  * осмотреть данные: первые несколько строк, общую информацию, статистику;\n",
    "  * сделать выводы по каждому датафрейму.\n",
    "- Предобработка данных:\n",
    "  * привести данные к нужным типам;\n",
    "  * удалить или исправить аномалии (например, восстановить отрицательную Q по коэффициенту мощности);\n",
    "  * удалить или заполнить пропуски, при необходимости удаления удалять всю партию целиком, а не только запись с пропуском;\n",
    "  * добавить признаки (например, время начала и конца обработки партии, полную мощность S);\n",
    "  * убрать из рассмотрения потенциально неиформативные признаки (например, время добавок);\n",
    "  * сгруппировать данные по номеру партии, причем оставить только те партии, которые входят во все датафреймы;\n",
    "  * объединить сгруппированные датафреймы в один;\n",
    "  * \"отшлифовать\" этот итоговый датафрейм: создать новые потенциально полезные признаки, удалить коррелирующие;\n",
    "  * разделить датафрейм на выборки 3:1; \n",
    "  * сделать вывод по предобработке.\n",
    "- Построение и подбор моделей:\n",
    "  * построить pipeline (масштабирование, кросс-валидация);\n",
    "  * подобрать оптимальные гиперпараметры по крайней мере двух моделей;\n",
    "  * получить метрики;\n",
    "  * выбрать модель с лучшим значением метрики;\n",
    "  * сделать вывод по моделям.\n",
    "- Тестирование выбранной модели:\n",
    "  * протестировать модель на отложенной выборке;\n",
    "  * сравнить с константной моделью;\n",
    "  * исследовать важность признаков;\n",
    "  * сделать вывод.\n",
    "- Написать отчет."
   ]
  },
  {
   "cell_type": "markdown",
   "id": "2217310b",
   "metadata": {},
   "source": [
    "Целевой признак - последняя измеренная температура в партии. Критерий успеха: значение метрики **MAE** на тестовой выборке должно быть не больше **6.8**."
   ]
  },
  {
   "cell_type": "markdown",
   "id": "ecce58bb",
   "metadata": {},
   "source": [
    "### Исследовательский анализ данных"
   ]
  },
  {
   "cell_type": "code",
   "execution_count": 1,
   "id": "39eeede3",
   "metadata": {},
   "outputs": [
    {
     "name": "stdout",
     "output_type": "stream",
     "text": [
      "Requirement already satisfied: xgboost in /opt/conda/lib/python3.9/site-packages (1.5.1)\r\n",
      "Requirement already satisfied: scipy in /opt/conda/lib/python3.9/site-packages (from xgboost) (1.9.1)\r\n",
      "Requirement already satisfied: numpy in /opt/conda/lib/python3.9/site-packages (from xgboost) (1.21.1)\r\n"
     ]
    }
   ],
   "source": [
    "!pip install xgboost"
   ]
  },
  {
   "cell_type": "code",
   "execution_count": 2,
   "id": "0c19e67c",
   "metadata": {},
   "outputs": [],
   "source": [
    "import pandas as pd\n",
    "import os\n",
    "import matplotlib.pyplot as plt\n",
    "import seaborn as sns\n",
    "import numpy as np\n",
    "\n",
    "from sklearn.model_selection import train_test_split, cross_val_score, RandomizedSearchCV, GridSearchCV\n",
    "from sklearn.preprocessing import StandardScaler \n",
    "from sklearn.pipeline import Pipeline\n",
    "from sklearn.metrics import mean_absolute_error, make_scorer, r2_score\n",
    "\n",
    "from sklearn.linear_model import LinearRegression, Ridge, Lasso\n",
    "from sklearn.ensemble import RandomForestRegressor\n",
    "from lightgbm import LGBMRegressor\n",
    "import xgboost as xgb\n",
    "from sklearn.dummy import DummyRegressor\n",
    "\n",
    "import warnings\n",
    "warnings.filterwarnings(\"ignore\")\n",
    "pd.set_option('display.max_columns', 50)"
   ]
  },
  {
   "cell_type": "code",
   "execution_count": 3,
   "id": "39f73c9d",
   "metadata": {},
   "outputs": [],
   "source": [
    "RANDOM_STATE = 250923"
   ]
  },
  {
   "cell_type": "code",
   "execution_count": 4,
   "id": "d021882c",
   "metadata": {},
   "outputs": [
    {
     "name": "stdout",
     "output_type": "stream",
     "text": [
      "Server\n"
     ]
    }
   ],
   "source": [
    "arc_pth_loc = 'data_arc_new.csv'\n",
    "bulk_pth_loc = 'data_bulk_new.csv'\n",
    "bulk_time_pth_loc = 'data_bulk_time_new.csv'\n",
    "gas_pth_loc = 'data_gas_new.csv'\n",
    "temp_pth_loc = 'data_temp_new.csv'\n",
    "wire_pth_loc = 'data_wire_new.csv'\n",
    "wire_time_pth_loc = 'data_wire_time_new.csv'\n",
    "\n",
    "pth = '/datasets/'\n",
    "\n",
    "if os.path.exists(arc_pth_loc):\n",
    "    arc = pd.read_csv(arc_pth_loc)\n",
    "    bulk = pd.read_csv(bulk_pth_loc)\n",
    "    bulk_time = pd.read_csv(bulk_time_pth_loc)\n",
    "    gas = pd.read_csv(gas_pth_loc)\n",
    "    temp = pd.read_csv(temp_pth_loc)\n",
    "    wire = pd.read_csv(wire_pth_loc)\n",
    "    wire_time = pd.read_csv(wire_time_pth_loc)\n",
    "    print('Local')\n",
    "    \n",
    "elif os.path.exists(pth+arc_pth_loc):\n",
    "    arc = pd.read_csv(pth+arc_pth_loc)\n",
    "    bulk = pd.read_csv(pth+bulk_pth_loc)\n",
    "    bulk_time = pd.read_csv(pth+bulk_time_pth_loc)\n",
    "    gas = pd.read_csv(pth+gas_pth_loc)\n",
    "    temp = pd.read_csv(pth+temp_pth_loc)\n",
    "    wire = pd.read_csv(pth+wire_pth_loc)\n",
    "    wire_time = pd.read_csv(pth+wire_time_pth_loc)\n",
    "    print('Server')\n",
    "else:\n",
    "    print('smth went wrong')"
   ]
  },
  {
   "cell_type": "code",
   "execution_count": 5,
   "id": "ac86ed51",
   "metadata": {},
   "outputs": [],
   "source": [
    "#функция для первичного обзора датафрейма\n",
    "def first_look (df):\n",
    "    display(df.head(3))\n",
    "    df.info()\n",
    "    display(df.describe(include='all'))\n",
    "    print('Уникальных номеров партии:', len(df['key'].unique()))"
   ]
  },
  {
   "cell_type": "markdown",
   "id": "3ff66e8e",
   "metadata": {},
   "source": [
    "##### Электроды"
   ]
  },
  {
   "cell_type": "code",
   "execution_count": 6,
   "id": "3e9bc969",
   "metadata": {},
   "outputs": [
    {
     "data": {
      "text/html": [
       "<div>\n",
       "<style scoped>\n",
       "    .dataframe tbody tr th:only-of-type {\n",
       "        vertical-align: middle;\n",
       "    }\n",
       "\n",
       "    .dataframe tbody tr th {\n",
       "        vertical-align: top;\n",
       "    }\n",
       "\n",
       "    .dataframe thead th {\n",
       "        text-align: right;\n",
       "    }\n",
       "</style>\n",
       "<table border=\"1\" class=\"dataframe\">\n",
       "  <thead>\n",
       "    <tr style=\"text-align: right;\">\n",
       "      <th></th>\n",
       "      <th>key</th>\n",
       "      <th>Начало нагрева дугой</th>\n",
       "      <th>Конец нагрева дугой</th>\n",
       "      <th>Активная мощность</th>\n",
       "      <th>Реактивная мощность</th>\n",
       "    </tr>\n",
       "  </thead>\n",
       "  <tbody>\n",
       "    <tr>\n",
       "      <th>0</th>\n",
       "      <td>1</td>\n",
       "      <td>2019-05-03 11:02:14</td>\n",
       "      <td>2019-05-03 11:06:02</td>\n",
       "      <td>0.305130</td>\n",
       "      <td>0.211253</td>\n",
       "    </tr>\n",
       "    <tr>\n",
       "      <th>1</th>\n",
       "      <td>1</td>\n",
       "      <td>2019-05-03 11:07:28</td>\n",
       "      <td>2019-05-03 11:10:33</td>\n",
       "      <td>0.765658</td>\n",
       "      <td>0.477438</td>\n",
       "    </tr>\n",
       "    <tr>\n",
       "      <th>2</th>\n",
       "      <td>1</td>\n",
       "      <td>2019-05-03 11:11:44</td>\n",
       "      <td>2019-05-03 11:14:36</td>\n",
       "      <td>0.580313</td>\n",
       "      <td>0.430460</td>\n",
       "    </tr>\n",
       "  </tbody>\n",
       "</table>\n",
       "</div>"
      ],
      "text/plain": [
       "   key Начало нагрева дугой  Конец нагрева дугой  Активная мощность  \\\n",
       "0    1  2019-05-03 11:02:14  2019-05-03 11:06:02           0.305130   \n",
       "1    1  2019-05-03 11:07:28  2019-05-03 11:10:33           0.765658   \n",
       "2    1  2019-05-03 11:11:44  2019-05-03 11:14:36           0.580313   \n",
       "\n",
       "   Реактивная мощность  \n",
       "0             0.211253  \n",
       "1             0.477438  \n",
       "2             0.430460  "
      ]
     },
     "metadata": {},
     "output_type": "display_data"
    },
    {
     "name": "stdout",
     "output_type": "stream",
     "text": [
      "<class 'pandas.core.frame.DataFrame'>\n",
      "RangeIndex: 14876 entries, 0 to 14875\n",
      "Data columns (total 5 columns):\n",
      " #   Column                Non-Null Count  Dtype  \n",
      "---  ------                --------------  -----  \n",
      " 0   key                   14876 non-null  int64  \n",
      " 1   Начало нагрева дугой  14876 non-null  object \n",
      " 2   Конец нагрева дугой   14876 non-null  object \n",
      " 3   Активная мощность     14876 non-null  float64\n",
      " 4   Реактивная мощность   14876 non-null  float64\n",
      "dtypes: float64(2), int64(1), object(2)\n",
      "memory usage: 581.2+ KB\n"
     ]
    },
    {
     "data": {
      "text/html": [
       "<div>\n",
       "<style scoped>\n",
       "    .dataframe tbody tr th:only-of-type {\n",
       "        vertical-align: middle;\n",
       "    }\n",
       "\n",
       "    .dataframe tbody tr th {\n",
       "        vertical-align: top;\n",
       "    }\n",
       "\n",
       "    .dataframe thead th {\n",
       "        text-align: right;\n",
       "    }\n",
       "</style>\n",
       "<table border=\"1\" class=\"dataframe\">\n",
       "  <thead>\n",
       "    <tr style=\"text-align: right;\">\n",
       "      <th></th>\n",
       "      <th>key</th>\n",
       "      <th>Начало нагрева дугой</th>\n",
       "      <th>Конец нагрева дугой</th>\n",
       "      <th>Активная мощность</th>\n",
       "      <th>Реактивная мощность</th>\n",
       "    </tr>\n",
       "  </thead>\n",
       "  <tbody>\n",
       "    <tr>\n",
       "      <th>count</th>\n",
       "      <td>14876.000000</td>\n",
       "      <td>14876</td>\n",
       "      <td>14876</td>\n",
       "      <td>14876.000000</td>\n",
       "      <td>14876.000000</td>\n",
       "    </tr>\n",
       "    <tr>\n",
       "      <th>unique</th>\n",
       "      <td>NaN</td>\n",
       "      <td>14876</td>\n",
       "      <td>14876</td>\n",
       "      <td>NaN</td>\n",
       "      <td>NaN</td>\n",
       "    </tr>\n",
       "    <tr>\n",
       "      <th>top</th>\n",
       "      <td>NaN</td>\n",
       "      <td>2019-09-03 08:59:17</td>\n",
       "      <td>2019-05-14 12:52:17</td>\n",
       "      <td>NaN</td>\n",
       "      <td>NaN</td>\n",
       "    </tr>\n",
       "    <tr>\n",
       "      <th>freq</th>\n",
       "      <td>NaN</td>\n",
       "      <td>1</td>\n",
       "      <td>1</td>\n",
       "      <td>NaN</td>\n",
       "      <td>NaN</td>\n",
       "    </tr>\n",
       "    <tr>\n",
       "      <th>mean</th>\n",
       "      <td>1615.220422</td>\n",
       "      <td>NaN</td>\n",
       "      <td>NaN</td>\n",
       "      <td>0.662752</td>\n",
       "      <td>0.438986</td>\n",
       "    </tr>\n",
       "    <tr>\n",
       "      <th>std</th>\n",
       "      <td>934.571502</td>\n",
       "      <td>NaN</td>\n",
       "      <td>NaN</td>\n",
       "      <td>0.258885</td>\n",
       "      <td>5.873485</td>\n",
       "    </tr>\n",
       "    <tr>\n",
       "      <th>min</th>\n",
       "      <td>1.000000</td>\n",
       "      <td>NaN</td>\n",
       "      <td>NaN</td>\n",
       "      <td>0.223120</td>\n",
       "      <td>-715.479924</td>\n",
       "    </tr>\n",
       "    <tr>\n",
       "      <th>25%</th>\n",
       "      <td>806.000000</td>\n",
       "      <td>NaN</td>\n",
       "      <td>NaN</td>\n",
       "      <td>0.467115</td>\n",
       "      <td>0.337175</td>\n",
       "    </tr>\n",
       "    <tr>\n",
       "      <th>50%</th>\n",
       "      <td>1617.000000</td>\n",
       "      <td>NaN</td>\n",
       "      <td>NaN</td>\n",
       "      <td>0.599587</td>\n",
       "      <td>0.441639</td>\n",
       "    </tr>\n",
       "    <tr>\n",
       "      <th>75%</th>\n",
       "      <td>2429.000000</td>\n",
       "      <td>NaN</td>\n",
       "      <td>NaN</td>\n",
       "      <td>0.830070</td>\n",
       "      <td>0.608201</td>\n",
       "    </tr>\n",
       "    <tr>\n",
       "      <th>max</th>\n",
       "      <td>3241.000000</td>\n",
       "      <td>NaN</td>\n",
       "      <td>NaN</td>\n",
       "      <td>1.463773</td>\n",
       "      <td>1.270284</td>\n",
       "    </tr>\n",
       "  </tbody>\n",
       "</table>\n",
       "</div>"
      ],
      "text/plain": [
       "                 key Начало нагрева дугой  Конец нагрева дугой  \\\n",
       "count   14876.000000                14876                14876   \n",
       "unique           NaN                14876                14876   \n",
       "top              NaN  2019-09-03 08:59:17  2019-05-14 12:52:17   \n",
       "freq             NaN                    1                    1   \n",
       "mean     1615.220422                  NaN                  NaN   \n",
       "std       934.571502                  NaN                  NaN   \n",
       "min         1.000000                  NaN                  NaN   \n",
       "25%       806.000000                  NaN                  NaN   \n",
       "50%      1617.000000                  NaN                  NaN   \n",
       "75%      2429.000000                  NaN                  NaN   \n",
       "max      3241.000000                  NaN                  NaN   \n",
       "\n",
       "        Активная мощность  Реактивная мощность  \n",
       "count        14876.000000         14876.000000  \n",
       "unique                NaN                  NaN  \n",
       "top                   NaN                  NaN  \n",
       "freq                  NaN                  NaN  \n",
       "mean             0.662752             0.438986  \n",
       "std              0.258885             5.873485  \n",
       "min              0.223120          -715.479924  \n",
       "25%              0.467115             0.337175  \n",
       "50%              0.599587             0.441639  \n",
       "75%              0.830070             0.608201  \n",
       "max              1.463773             1.270284  "
      ]
     },
     "metadata": {},
     "output_type": "display_data"
    },
    {
     "name": "stdout",
     "output_type": "stream",
     "text": [
      "Уникальных номеров партии: 3214\n"
     ]
    }
   ],
   "source": [
    "first_look(arc)"
   ]
  },
  {
   "cell_type": "code",
   "execution_count": 7,
   "id": "ca84ee3c",
   "metadata": {},
   "outputs": [
    {
     "data": {
      "image/png": "[encoded data removed]",
      "text/plain": [
       "<Figure size 432x288 with 1 Axes>"
      ]
     },
     "metadata": {
      "needs_background": "light"
     },
     "output_type": "display_data"
    }
   ],
   "source": [
    "plt.hist(arc['Активная мощность'], bins = 50, alpha = 0.8);\n",
    "plt.hist(arc[arc['Реактивная мощность']>-2]['Реактивная мощность'], bins = 50, alpha = 0.5);\n",
    "plt.legend(['Активная', 'Реактивная'], loc='upper right')\n",
    "plt.title('Мощности');\n",
    "plt.xlabel('Значения');\n",
    "plt.ylabel('Частота появления');\n",
    "plt.show()"
   ]
  },
  {
   "cell_type": "code",
   "execution_count": 8,
   "id": "37d4edf9",
   "metadata": {},
   "outputs": [
    {
     "name": "stdout",
     "output_type": "stream",
     "text": [
      "Самые ранние даты: \n",
      " 2019-05-03 11:02:14 \n",
      " 2019-05-03 11:06:02\n",
      "Самые поздние даты: \n",
      " 2019-09-06 17:24:54 \n",
      " 2019-09-06 17:26:15\n"
     ]
    }
   ],
   "source": [
    "print('Самые ранние даты:', '\\n', arc['Начало нагрева дугой'].min(), '\\n', arc['Конец нагрева дугой'].min())\n",
    "print('Самые поздние даты:', '\\n', arc['Начало нагрева дугой'].max(), '\\n', arc['Конец нагрева дугой'].max())"
   ]
  },
  {
   "cell_type": "markdown",
   "id": "4df36585",
   "metadata": {},
   "source": [
    "14876 объектов, пропусков нет, у дат нужно поменять тип данных, минимальное значение столбца \"Реактивная мощность\" явно ошибочно (поэтому график построен без него). Реактивная, в среднем, меньше активной, так и должно быть. Временные рамки - с мая по сентябрь 2019г."
   ]
  },
  {
   "cell_type": "code",
   "execution_count": 9,
   "id": "e639a941",
   "metadata": {},
   "outputs": [],
   "source": [
    "arc_eda = {'длина': len(arc), 'пропуски': 'нет', 'тип данных': 'есть', 'аномалии': 'есть', \n",
    "           'партий': len(arc['key'].unique())}"
   ]
  },
  {
   "cell_type": "markdown",
   "id": "61e3a366",
   "metadata": {},
   "source": [
    "<img src=\"https://emojigraph.org/media/apple/check-mark-button_2705.png\" align=left width=33, heigth=33>\n",
    "<div class=\"alert alert-success\"><b> комментарий тимлида - план v1 </b>  \n",
    "👍 </div>"
   ]
  },
  {
   "cell_type": "markdown",
   "id": "a0c5c2d5",
   "metadata": {},
   "source": [
    "##### Сыпучие материалы"
   ]
  },
  {
   "cell_type": "code",
   "execution_count": 10,
   "id": "08100e13",
   "metadata": {},
   "outputs": [
    {
     "data": {
      "text/html": [
       "<div>\n",
       "<style scoped>\n",
       "    .dataframe tbody tr th:only-of-type {\n",
       "        vertical-align: middle;\n",
       "    }\n",
       "\n",
       "    .dataframe tbody tr th {\n",
       "        vertical-align: top;\n",
       "    }\n",
       "\n",
       "    .dataframe thead th {\n",
       "        text-align: right;\n",
       "    }\n",
       "</style>\n",
       "<table border=\"1\" class=\"dataframe\">\n",
       "  <thead>\n",
       "    <tr style=\"text-align: right;\">\n",
       "      <th></th>\n",
       "      <th>key</th>\n",
       "      <th>Bulk 1</th>\n",
       "      <th>Bulk 2</th>\n",
       "      <th>Bulk 3</th>\n",
       "      <th>Bulk 4</th>\n",
       "      <th>Bulk 5</th>\n",
       "      <th>Bulk 6</th>\n",
       "      <th>Bulk 7</th>\n",
       "      <th>Bulk 8</th>\n",
       "      <th>Bulk 9</th>\n",
       "      <th>Bulk 10</th>\n",
       "      <th>Bulk 11</th>\n",
       "      <th>Bulk 12</th>\n",
       "      <th>Bulk 13</th>\n",
       "      <th>Bulk 14</th>\n",
       "      <th>Bulk 15</th>\n",
       "    </tr>\n",
       "  </thead>\n",
       "  <tbody>\n",
       "    <tr>\n",
       "      <th>0</th>\n",
       "      <td>1</td>\n",
       "      <td>NaN</td>\n",
       "      <td>NaN</td>\n",
       "      <td>NaN</td>\n",
       "      <td>43.0</td>\n",
       "      <td>NaN</td>\n",
       "      <td>NaN</td>\n",
       "      <td>NaN</td>\n",
       "      <td>NaN</td>\n",
       "      <td>NaN</td>\n",
       "      <td>NaN</td>\n",
       "      <td>NaN</td>\n",
       "      <td>206.0</td>\n",
       "      <td>NaN</td>\n",
       "      <td>150.0</td>\n",
       "      <td>154.0</td>\n",
       "    </tr>\n",
       "    <tr>\n",
       "      <th>1</th>\n",
       "      <td>2</td>\n",
       "      <td>NaN</td>\n",
       "      <td>NaN</td>\n",
       "      <td>NaN</td>\n",
       "      <td>73.0</td>\n",
       "      <td>NaN</td>\n",
       "      <td>NaN</td>\n",
       "      <td>NaN</td>\n",
       "      <td>NaN</td>\n",
       "      <td>NaN</td>\n",
       "      <td>NaN</td>\n",
       "      <td>NaN</td>\n",
       "      <td>206.0</td>\n",
       "      <td>NaN</td>\n",
       "      <td>149.0</td>\n",
       "      <td>154.0</td>\n",
       "    </tr>\n",
       "    <tr>\n",
       "      <th>2</th>\n",
       "      <td>3</td>\n",
       "      <td>NaN</td>\n",
       "      <td>NaN</td>\n",
       "      <td>NaN</td>\n",
       "      <td>34.0</td>\n",
       "      <td>NaN</td>\n",
       "      <td>NaN</td>\n",
       "      <td>NaN</td>\n",
       "      <td>NaN</td>\n",
       "      <td>NaN</td>\n",
       "      <td>NaN</td>\n",
       "      <td>NaN</td>\n",
       "      <td>205.0</td>\n",
       "      <td>NaN</td>\n",
       "      <td>152.0</td>\n",
       "      <td>153.0</td>\n",
       "    </tr>\n",
       "  </tbody>\n",
       "</table>\n",
       "</div>"
      ],
      "text/plain": [
       "   key  Bulk 1  Bulk 2  Bulk 3  Bulk 4  Bulk 5  Bulk 6  Bulk 7  Bulk 8  \\\n",
       "0    1     NaN     NaN     NaN    43.0     NaN     NaN     NaN     NaN   \n",
       "1    2     NaN     NaN     NaN    73.0     NaN     NaN     NaN     NaN   \n",
       "2    3     NaN     NaN     NaN    34.0     NaN     NaN     NaN     NaN   \n",
       "\n",
       "   Bulk 9  Bulk 10  Bulk 11  Bulk 12  Bulk 13  Bulk 14  Bulk 15  \n",
       "0     NaN      NaN      NaN    206.0      NaN    150.0    154.0  \n",
       "1     NaN      NaN      NaN    206.0      NaN    149.0    154.0  \n",
       "2     NaN      NaN      NaN    205.0      NaN    152.0    153.0  "
      ]
     },
     "metadata": {},
     "output_type": "display_data"
    },
    {
     "name": "stdout",
     "output_type": "stream",
     "text": [
      "<class 'pandas.core.frame.DataFrame'>\n",
      "RangeIndex: 3129 entries, 0 to 3128\n",
      "Data columns (total 16 columns):\n",
      " #   Column   Non-Null Count  Dtype  \n",
      "---  ------   --------------  -----  \n",
      " 0   key      3129 non-null   int64  \n",
      " 1   Bulk 1   252 non-null    float64\n",
      " 2   Bulk 2   22 non-null     float64\n",
      " 3   Bulk 3   1298 non-null   float64\n",
      " 4   Bulk 4   1014 non-null   float64\n",
      " 5   Bulk 5   77 non-null     float64\n",
      " 6   Bulk 6   576 non-null    float64\n",
      " 7   Bulk 7   25 non-null     float64\n",
      " 8   Bulk 8   1 non-null      float64\n",
      " 9   Bulk 9   19 non-null     float64\n",
      " 10  Bulk 10  176 non-null    float64\n",
      " 11  Bulk 11  177 non-null    float64\n",
      " 12  Bulk 12  2450 non-null   float64\n",
      " 13  Bulk 13  18 non-null     float64\n",
      " 14  Bulk 14  2806 non-null   float64\n",
      " 15  Bulk 15  2248 non-null   float64\n",
      "dtypes: float64(15), int64(1)\n",
      "memory usage: 391.2 KB\n"
     ]
    },
    {
     "data": {
      "text/html": [
       "<div>\n",
       "<style scoped>\n",
       "    .dataframe tbody tr th:only-of-type {\n",
       "        vertical-align: middle;\n",
       "    }\n",
       "\n",
       "    .dataframe tbody tr th {\n",
       "        vertical-align: top;\n",
       "    }\n",
       "\n",
       "    .dataframe thead th {\n",
       "        text-align: right;\n",
       "    }\n",
       "</style>\n",
       "<table border=\"1\" class=\"dataframe\">\n",
       "  <thead>\n",
       "    <tr style=\"text-align: right;\">\n",
       "      <th></th>\n",
       "      <th>key</th>\n",
       "      <th>Bulk 1</th>\n",
       "      <th>Bulk 2</th>\n",
       "      <th>Bulk 3</th>\n",
       "      <th>Bulk 4</th>\n",
       "      <th>Bulk 5</th>\n",
       "      <th>Bulk 6</th>\n",
       "      <th>Bulk 7</th>\n",
       "      <th>Bulk 8</th>\n",
       "      <th>Bulk 9</th>\n",
       "      <th>Bulk 10</th>\n",
       "      <th>Bulk 11</th>\n",
       "      <th>Bulk 12</th>\n",
       "      <th>Bulk 13</th>\n",
       "      <th>Bulk 14</th>\n",
       "      <th>Bulk 15</th>\n",
       "    </tr>\n",
       "  </thead>\n",
       "  <tbody>\n",
       "    <tr>\n",
       "      <th>count</th>\n",
       "      <td>3129.000000</td>\n",
       "      <td>252.000000</td>\n",
       "      <td>22.000000</td>\n",
       "      <td>1298.000000</td>\n",
       "      <td>1014.000000</td>\n",
       "      <td>77.000000</td>\n",
       "      <td>576.000000</td>\n",
       "      <td>25.000000</td>\n",
       "      <td>1.0</td>\n",
       "      <td>19.000000</td>\n",
       "      <td>176.000000</td>\n",
       "      <td>177.000000</td>\n",
       "      <td>2450.000000</td>\n",
       "      <td>18.000000</td>\n",
       "      <td>2806.000000</td>\n",
       "      <td>2248.000000</td>\n",
       "    </tr>\n",
       "    <tr>\n",
       "      <th>mean</th>\n",
       "      <td>1624.383509</td>\n",
       "      <td>39.242063</td>\n",
       "      <td>253.045455</td>\n",
       "      <td>113.879045</td>\n",
       "      <td>104.394477</td>\n",
       "      <td>107.025974</td>\n",
       "      <td>118.925347</td>\n",
       "      <td>305.600000</td>\n",
       "      <td>49.0</td>\n",
       "      <td>76.315789</td>\n",
       "      <td>83.284091</td>\n",
       "      <td>76.819209</td>\n",
       "      <td>260.471020</td>\n",
       "      <td>181.111111</td>\n",
       "      <td>170.284747</td>\n",
       "      <td>160.513345</td>\n",
       "    </tr>\n",
       "    <tr>\n",
       "      <th>std</th>\n",
       "      <td>933.337642</td>\n",
       "      <td>18.277654</td>\n",
       "      <td>21.180578</td>\n",
       "      <td>75.483494</td>\n",
       "      <td>48.184126</td>\n",
       "      <td>81.790646</td>\n",
       "      <td>72.057776</td>\n",
       "      <td>191.022904</td>\n",
       "      <td>NaN</td>\n",
       "      <td>21.720581</td>\n",
       "      <td>26.060347</td>\n",
       "      <td>59.655365</td>\n",
       "      <td>120.649269</td>\n",
       "      <td>46.088009</td>\n",
       "      <td>65.868652</td>\n",
       "      <td>51.765319</td>\n",
       "    </tr>\n",
       "    <tr>\n",
       "      <th>min</th>\n",
       "      <td>1.000000</td>\n",
       "      <td>10.000000</td>\n",
       "      <td>228.000000</td>\n",
       "      <td>6.000000</td>\n",
       "      <td>12.000000</td>\n",
       "      <td>11.000000</td>\n",
       "      <td>17.000000</td>\n",
       "      <td>47.000000</td>\n",
       "      <td>49.0</td>\n",
       "      <td>63.000000</td>\n",
       "      <td>24.000000</td>\n",
       "      <td>8.000000</td>\n",
       "      <td>53.000000</td>\n",
       "      <td>151.000000</td>\n",
       "      <td>16.000000</td>\n",
       "      <td>1.000000</td>\n",
       "    </tr>\n",
       "    <tr>\n",
       "      <th>25%</th>\n",
       "      <td>816.000000</td>\n",
       "      <td>27.000000</td>\n",
       "      <td>242.000000</td>\n",
       "      <td>58.000000</td>\n",
       "      <td>72.000000</td>\n",
       "      <td>70.000000</td>\n",
       "      <td>69.750000</td>\n",
       "      <td>155.000000</td>\n",
       "      <td>49.0</td>\n",
       "      <td>66.000000</td>\n",
       "      <td>64.000000</td>\n",
       "      <td>25.000000</td>\n",
       "      <td>204.000000</td>\n",
       "      <td>153.250000</td>\n",
       "      <td>119.000000</td>\n",
       "      <td>105.000000</td>\n",
       "    </tr>\n",
       "    <tr>\n",
       "      <th>50%</th>\n",
       "      <td>1622.000000</td>\n",
       "      <td>31.000000</td>\n",
       "      <td>251.500000</td>\n",
       "      <td>97.500000</td>\n",
       "      <td>102.000000</td>\n",
       "      <td>86.000000</td>\n",
       "      <td>100.000000</td>\n",
       "      <td>298.000000</td>\n",
       "      <td>49.0</td>\n",
       "      <td>68.000000</td>\n",
       "      <td>86.500000</td>\n",
       "      <td>64.000000</td>\n",
       "      <td>208.000000</td>\n",
       "      <td>155.500000</td>\n",
       "      <td>151.000000</td>\n",
       "      <td>160.000000</td>\n",
       "    </tr>\n",
       "    <tr>\n",
       "      <th>75%</th>\n",
       "      <td>2431.000000</td>\n",
       "      <td>46.000000</td>\n",
       "      <td>257.750000</td>\n",
       "      <td>152.000000</td>\n",
       "      <td>133.000000</td>\n",
       "      <td>132.000000</td>\n",
       "      <td>157.000000</td>\n",
       "      <td>406.000000</td>\n",
       "      <td>49.0</td>\n",
       "      <td>70.500000</td>\n",
       "      <td>102.000000</td>\n",
       "      <td>106.000000</td>\n",
       "      <td>316.000000</td>\n",
       "      <td>203.500000</td>\n",
       "      <td>205.750000</td>\n",
       "      <td>205.000000</td>\n",
       "    </tr>\n",
       "    <tr>\n",
       "      <th>max</th>\n",
       "      <td>3241.000000</td>\n",
       "      <td>185.000000</td>\n",
       "      <td>325.000000</td>\n",
       "      <td>454.000000</td>\n",
       "      <td>281.000000</td>\n",
       "      <td>603.000000</td>\n",
       "      <td>503.000000</td>\n",
       "      <td>772.000000</td>\n",
       "      <td>49.0</td>\n",
       "      <td>147.000000</td>\n",
       "      <td>159.000000</td>\n",
       "      <td>313.000000</td>\n",
       "      <td>1849.000000</td>\n",
       "      <td>305.000000</td>\n",
       "      <td>636.000000</td>\n",
       "      <td>405.000000</td>\n",
       "    </tr>\n",
       "  </tbody>\n",
       "</table>\n",
       "</div>"
      ],
      "text/plain": [
       "               key      Bulk 1      Bulk 2       Bulk 3       Bulk 4  \\\n",
       "count  3129.000000  252.000000   22.000000  1298.000000  1014.000000   \n",
       "mean   1624.383509   39.242063  253.045455   113.879045   104.394477   \n",
       "std     933.337642   18.277654   21.180578    75.483494    48.184126   \n",
       "min       1.000000   10.000000  228.000000     6.000000    12.000000   \n",
       "25%     816.000000   27.000000  242.000000    58.000000    72.000000   \n",
       "50%    1622.000000   31.000000  251.500000    97.500000   102.000000   \n",
       "75%    2431.000000   46.000000  257.750000   152.000000   133.000000   \n",
       "max    3241.000000  185.000000  325.000000   454.000000   281.000000   \n",
       "\n",
       "           Bulk 5      Bulk 6      Bulk 7  Bulk 8      Bulk 9     Bulk 10  \\\n",
       "count   77.000000  576.000000   25.000000     1.0   19.000000  176.000000   \n",
       "mean   107.025974  118.925347  305.600000    49.0   76.315789   83.284091   \n",
       "std     81.790646   72.057776  191.022904     NaN   21.720581   26.060347   \n",
       "min     11.000000   17.000000   47.000000    49.0   63.000000   24.000000   \n",
       "25%     70.000000   69.750000  155.000000    49.0   66.000000   64.000000   \n",
       "50%     86.000000  100.000000  298.000000    49.0   68.000000   86.500000   \n",
       "75%    132.000000  157.000000  406.000000    49.0   70.500000  102.000000   \n",
       "max    603.000000  503.000000  772.000000    49.0  147.000000  159.000000   \n",
       "\n",
       "          Bulk 11      Bulk 12     Bulk 13      Bulk 14      Bulk 15  \n",
       "count  177.000000  2450.000000   18.000000  2806.000000  2248.000000  \n",
       "mean    76.819209   260.471020  181.111111   170.284747   160.513345  \n",
       "std     59.655365   120.649269   46.088009    65.868652    51.765319  \n",
       "min      8.000000    53.000000  151.000000    16.000000     1.000000  \n",
       "25%     25.000000   204.000000  153.250000   119.000000   105.000000  \n",
       "50%     64.000000   208.000000  155.500000   151.000000   160.000000  \n",
       "75%    106.000000   316.000000  203.500000   205.750000   205.000000  \n",
       "max    313.000000  1849.000000  305.000000   636.000000   405.000000  "
      ]
     },
     "metadata": {},
     "output_type": "display_data"
    },
    {
     "name": "stdout",
     "output_type": "stream",
     "text": [
      "Уникальных номеров партии: 3129\n"
     ]
    }
   ],
   "source": [
    "first_look(bulk)"
   ]
  },
  {
   "cell_type": "code",
   "execution_count": 11,
   "id": "52e5788a",
   "metadata": {},
   "outputs": [
    {
     "data": {
      "image/png": "[encoded data removed]",
      "text/plain": [
       "<Figure size 1296x864 with 1 Axes>"
      ]
     },
     "metadata": {
      "needs_background": "light"
     },
     "output_type": "display_data"
    }
   ],
   "source": [
    "plot = bulk.loc[:, bulk.columns !='key'].boxplot(figsize = (18,12));\n",
    "plt.title('Сыпучие материалы');\n",
    "plt.ylabel('Масса, кг')\n",
    "plt.show()"
   ]
  },
  {
   "cell_type": "markdown",
   "id": "492a5d2b",
   "metadata": {},
   "source": [
    "В столбцах массы добавленных примесей. Много пропусков, их заменим на 0 (если нет данных, значит, не добавляли), типы данных в порядке, номеров партии меньше, чем в *'arc'*. Аномалии в глаза не бросаются - значения положительны и не превышают 2000.\n",
    "\n",
    "Если мощности выражены в МВА, то порядок объема печи - десятки тонн. Обычная углеродистая сталь содержит до 2% углерода, то есть, например: 80т стали, 2% это 80х0,02=1.6т=1600кг углерода. Значит, предполжительно, добавки даны в килограммах.\n",
    "\n",
    "Есть добавки со значительным количеством выбросов, есть одно подозрительно большое значение у добавки № 12. Посмотрим на эту партию."
   ]
  },
  {
   "cell_type": "code",
   "execution_count": 12,
   "id": "1adea189",
   "metadata": {},
   "outputs": [
    {
     "data": {
      "text/html": [
       "<div>\n",
       "<style scoped>\n",
       "    .dataframe tbody tr th:only-of-type {\n",
       "        vertical-align: middle;\n",
       "    }\n",
       "\n",
       "    .dataframe tbody tr th {\n",
       "        vertical-align: top;\n",
       "    }\n",
       "\n",
       "    .dataframe thead th {\n",
       "        text-align: right;\n",
       "    }\n",
       "</style>\n",
       "<table border=\"1\" class=\"dataframe\">\n",
       "  <thead>\n",
       "    <tr style=\"text-align: right;\">\n",
       "      <th></th>\n",
       "      <th>key</th>\n",
       "      <th>Bulk 1</th>\n",
       "      <th>Bulk 2</th>\n",
       "      <th>Bulk 3</th>\n",
       "      <th>Bulk 4</th>\n",
       "      <th>Bulk 5</th>\n",
       "      <th>Bulk 6</th>\n",
       "      <th>Bulk 7</th>\n",
       "      <th>Bulk 8</th>\n",
       "      <th>Bulk 9</th>\n",
       "      <th>Bulk 10</th>\n",
       "      <th>Bulk 11</th>\n",
       "      <th>Bulk 12</th>\n",
       "      <th>Bulk 13</th>\n",
       "      <th>Bulk 14</th>\n",
       "      <th>Bulk 15</th>\n",
       "    </tr>\n",
       "  </thead>\n",
       "  <tbody>\n",
       "    <tr>\n",
       "      <th>303</th>\n",
       "      <td>322</td>\n",
       "      <td>185.0</td>\n",
       "      <td>NaN</td>\n",
       "      <td>101.0</td>\n",
       "      <td>58.0</td>\n",
       "      <td>NaN</td>\n",
       "      <td>NaN</td>\n",
       "      <td>406.0</td>\n",
       "      <td>NaN</td>\n",
       "      <td>NaN</td>\n",
       "      <td>NaN</td>\n",
       "      <td>NaN</td>\n",
       "      <td>1849.0</td>\n",
       "      <td>NaN</td>\n",
       "      <td>636.0</td>\n",
       "      <td>NaN</td>\n",
       "    </tr>\n",
       "  </tbody>\n",
       "</table>\n",
       "</div>"
      ],
      "text/plain": [
       "     key  Bulk 1  Bulk 2  Bulk 3  Bulk 4  Bulk 5  Bulk 6  Bulk 7  Bulk 8  \\\n",
       "303  322   185.0     NaN   101.0    58.0     NaN     NaN   406.0     NaN   \n",
       "\n",
       "     Bulk 9  Bulk 10  Bulk 11  Bulk 12  Bulk 13  Bulk 14  Bulk 15  \n",
       "303     NaN      NaN      NaN   1849.0      NaN    636.0      NaN  "
      ]
     },
     "metadata": {},
     "output_type": "display_data"
    },
    {
     "data": {
      "text/html": [
       "<div>\n",
       "<style scoped>\n",
       "    .dataframe tbody tr th:only-of-type {\n",
       "        vertical-align: middle;\n",
       "    }\n",
       "\n",
       "    .dataframe tbody tr th {\n",
       "        vertical-align: top;\n",
       "    }\n",
       "\n",
       "    .dataframe thead th {\n",
       "        text-align: right;\n",
       "    }\n",
       "</style>\n",
       "<table border=\"1\" class=\"dataframe\">\n",
       "  <thead>\n",
       "    <tr style=\"text-align: right;\">\n",
       "      <th></th>\n",
       "      <th>key</th>\n",
       "      <th>Начало нагрева дугой</th>\n",
       "      <th>Конец нагрева дугой</th>\n",
       "      <th>Активная мощность</th>\n",
       "      <th>Реактивная мощность</th>\n",
       "    </tr>\n",
       "  </thead>\n",
       "  <tbody>\n",
       "    <tr>\n",
       "      <th>1487</th>\n",
       "      <td>322</td>\n",
       "      <td>2019-05-15 21:12:28</td>\n",
       "      <td>2019-05-15 21:14:57</td>\n",
       "      <td>0.248241</td>\n",
       "      <td>0.187737</td>\n",
       "    </tr>\n",
       "    <tr>\n",
       "      <th>1488</th>\n",
       "      <td>322</td>\n",
       "      <td>2019-05-15 21:17:00</td>\n",
       "      <td>2019-05-15 21:21:04</td>\n",
       "      <td>0.464677</td>\n",
       "      <td>0.346769</td>\n",
       "    </tr>\n",
       "    <tr>\n",
       "      <th>1489</th>\n",
       "      <td>322</td>\n",
       "      <td>2019-05-15 21:26:09</td>\n",
       "      <td>2019-05-15 21:31:26</td>\n",
       "      <td>0.328053</td>\n",
       "      <td>0.279597</td>\n",
       "    </tr>\n",
       "    <tr>\n",
       "      <th>1490</th>\n",
       "      <td>322</td>\n",
       "      <td>2019-05-15 21:40:12</td>\n",
       "      <td>2019-05-15 21:41:43</td>\n",
       "      <td>1.054529</td>\n",
       "      <td>0.814842</td>\n",
       "    </tr>\n",
       "    <tr>\n",
       "      <th>1491</th>\n",
       "      <td>322</td>\n",
       "      <td>2019-05-15 21:46:57</td>\n",
       "      <td>2019-05-15 21:49:02</td>\n",
       "      <td>0.746207</td>\n",
       "      <td>0.556786</td>\n",
       "    </tr>\n",
       "    <tr>\n",
       "      <th>1492</th>\n",
       "      <td>322</td>\n",
       "      <td>2019-05-15 21:51:58</td>\n",
       "      <td>2019-05-15 21:57:28</td>\n",
       "      <td>0.623596</td>\n",
       "      <td>0.461261</td>\n",
       "    </tr>\n",
       "    <tr>\n",
       "      <th>1493</th>\n",
       "      <td>322</td>\n",
       "      <td>2019-05-15 22:02:54</td>\n",
       "      <td>2019-05-15 22:04:42</td>\n",
       "      <td>0.893317</td>\n",
       "      <td>0.619611</td>\n",
       "    </tr>\n",
       "    <tr>\n",
       "      <th>1494</th>\n",
       "      <td>322</td>\n",
       "      <td>2019-05-15 22:08:33</td>\n",
       "      <td>2019-05-15 22:11:40</td>\n",
       "      <td>1.107495</td>\n",
       "      <td>0.823706</td>\n",
       "    </tr>\n",
       "    <tr>\n",
       "      <th>1495</th>\n",
       "      <td>322</td>\n",
       "      <td>2019-05-15 22:14:27</td>\n",
       "      <td>2019-05-15 22:16:19</td>\n",
       "      <td>0.870899</td>\n",
       "      <td>0.685100</td>\n",
       "    </tr>\n",
       "    <tr>\n",
       "      <th>1496</th>\n",
       "      <td>322</td>\n",
       "      <td>2019-05-15 22:40:56</td>\n",
       "      <td>2019-05-15 22:42:40</td>\n",
       "      <td>0.612125</td>\n",
       "      <td>0.441813</td>\n",
       "    </tr>\n",
       "    <tr>\n",
       "      <th>1497</th>\n",
       "      <td>322</td>\n",
       "      <td>2019-05-15 22:43:45</td>\n",
       "      <td>2019-05-15 22:51:03</td>\n",
       "      <td>0.424804</td>\n",
       "      <td>0.266533</td>\n",
       "    </tr>\n",
       "    <tr>\n",
       "      <th>1498</th>\n",
       "      <td>322</td>\n",
       "      <td>2019-05-15 22:54:23</td>\n",
       "      <td>2019-05-15 22:58:45</td>\n",
       "      <td>0.573353</td>\n",
       "      <td>0.423511</td>\n",
       "    </tr>\n",
       "    <tr>\n",
       "      <th>1499</th>\n",
       "      <td>322</td>\n",
       "      <td>2019-05-15 23:00:24</td>\n",
       "      <td>2019-05-15 23:03:35</td>\n",
       "      <td>0.967510</td>\n",
       "      <td>0.656877</td>\n",
       "    </tr>\n",
       "  </tbody>\n",
       "</table>\n",
       "</div>"
      ],
      "text/plain": [
       "      key Начало нагрева дугой  Конец нагрева дугой  Активная мощность  \\\n",
       "1487  322  2019-05-15 21:12:28  2019-05-15 21:14:57           0.248241   \n",
       "1488  322  2019-05-15 21:17:00  2019-05-15 21:21:04           0.464677   \n",
       "1489  322  2019-05-15 21:26:09  2019-05-15 21:31:26           0.328053   \n",
       "1490  322  2019-05-15 21:40:12  2019-05-15 21:41:43           1.054529   \n",
       "1491  322  2019-05-15 21:46:57  2019-05-15 21:49:02           0.746207   \n",
       "1492  322  2019-05-15 21:51:58  2019-05-15 21:57:28           0.623596   \n",
       "1493  322  2019-05-15 22:02:54  2019-05-15 22:04:42           0.893317   \n",
       "1494  322  2019-05-15 22:08:33  2019-05-15 22:11:40           1.107495   \n",
       "1495  322  2019-05-15 22:14:27  2019-05-15 22:16:19           0.870899   \n",
       "1496  322  2019-05-15 22:40:56  2019-05-15 22:42:40           0.612125   \n",
       "1497  322  2019-05-15 22:43:45  2019-05-15 22:51:03           0.424804   \n",
       "1498  322  2019-05-15 22:54:23  2019-05-15 22:58:45           0.573353   \n",
       "1499  322  2019-05-15 23:00:24  2019-05-15 23:03:35           0.967510   \n",
       "\n",
       "      Реактивная мощность  \n",
       "1487             0.187737  \n",
       "1488             0.346769  \n",
       "1489             0.279597  \n",
       "1490             0.814842  \n",
       "1491             0.556786  \n",
       "1492             0.461261  \n",
       "1493             0.619611  \n",
       "1494             0.823706  \n",
       "1495             0.685100  \n",
       "1496             0.441813  \n",
       "1497             0.266533  \n",
       "1498             0.423511  \n",
       "1499             0.656877  "
      ]
     },
     "execution_count": 12,
     "metadata": {},
     "output_type": "execute_result"
    }
   ],
   "source": [
    "display(bulk[bulk['Bulk 12']>1000])\n",
    "arc[arc['key']==322]"
   ]
  },
  {
   "cell_type": "markdown",
   "id": "a28c145b",
   "metadata": {},
   "source": [
    "Много итераций, возможно, в эту партию действительно добавили много примесей: насыпали-нагрели-размешали-повторили. Оставим пока ее. Возможно, удалим, когда будем улучшать метрику."
   ]
  },
  {
   "cell_type": "code",
   "execution_count": 13,
   "id": "982d82fd",
   "metadata": {},
   "outputs": [],
   "source": [
    "bulk_eda = {'длина': len(bulk), 'пропуски': 'есть', 'тип данных': 'нет', 'аномалии': 'нет', 'партий': len(bulk['key'].unique())}"
   ]
  },
  {
   "cell_type": "code",
   "execution_count": 14,
   "id": "8a08092b",
   "metadata": {
    "scrolled": false
   },
   "outputs": [
    {
     "data": {
      "text/html": [
       "<div>\n",
       "<style scoped>\n",
       "    .dataframe tbody tr th:only-of-type {\n",
       "        vertical-align: middle;\n",
       "    }\n",
       "\n",
       "    .dataframe tbody tr th {\n",
       "        vertical-align: top;\n",
       "    }\n",
       "\n",
       "    .dataframe thead th {\n",
       "        text-align: right;\n",
       "    }\n",
       "</style>\n",
       "<table border=\"1\" class=\"dataframe\">\n",
       "  <thead>\n",
       "    <tr style=\"text-align: right;\">\n",
       "      <th></th>\n",
       "      <th>key</th>\n",
       "      <th>Bulk 1</th>\n",
       "      <th>Bulk 2</th>\n",
       "      <th>Bulk 3</th>\n",
       "      <th>Bulk 4</th>\n",
       "      <th>Bulk 5</th>\n",
       "      <th>Bulk 6</th>\n",
       "      <th>Bulk 7</th>\n",
       "      <th>Bulk 8</th>\n",
       "      <th>Bulk 9</th>\n",
       "      <th>Bulk 10</th>\n",
       "      <th>Bulk 11</th>\n",
       "      <th>Bulk 12</th>\n",
       "      <th>Bulk 13</th>\n",
       "      <th>Bulk 14</th>\n",
       "      <th>Bulk 15</th>\n",
       "    </tr>\n",
       "  </thead>\n",
       "  <tbody>\n",
       "    <tr>\n",
       "      <th>0</th>\n",
       "      <td>1</td>\n",
       "      <td>NaN</td>\n",
       "      <td>NaN</td>\n",
       "      <td>NaN</td>\n",
       "      <td>2019-05-03 11:28:48</td>\n",
       "      <td>NaN</td>\n",
       "      <td>NaN</td>\n",
       "      <td>NaN</td>\n",
       "      <td>NaN</td>\n",
       "      <td>NaN</td>\n",
       "      <td>NaN</td>\n",
       "      <td>NaN</td>\n",
       "      <td>2019-05-03 11:24:31</td>\n",
       "      <td>NaN</td>\n",
       "      <td>2019-05-03 11:14:50</td>\n",
       "      <td>2019-05-03 11:10:43</td>\n",
       "    </tr>\n",
       "    <tr>\n",
       "      <th>1</th>\n",
       "      <td>2</td>\n",
       "      <td>NaN</td>\n",
       "      <td>NaN</td>\n",
       "      <td>NaN</td>\n",
       "      <td>2019-05-03 11:36:50</td>\n",
       "      <td>NaN</td>\n",
       "      <td>NaN</td>\n",
       "      <td>NaN</td>\n",
       "      <td>NaN</td>\n",
       "      <td>NaN</td>\n",
       "      <td>NaN</td>\n",
       "      <td>NaN</td>\n",
       "      <td>2019-05-03 11:53:30</td>\n",
       "      <td>NaN</td>\n",
       "      <td>2019-05-03 11:48:37</td>\n",
       "      <td>2019-05-03 11:44:39</td>\n",
       "    </tr>\n",
       "    <tr>\n",
       "      <th>2</th>\n",
       "      <td>3</td>\n",
       "      <td>NaN</td>\n",
       "      <td>NaN</td>\n",
       "      <td>NaN</td>\n",
       "      <td>2019-05-03 12:32:39</td>\n",
       "      <td>NaN</td>\n",
       "      <td>NaN</td>\n",
       "      <td>NaN</td>\n",
       "      <td>NaN</td>\n",
       "      <td>NaN</td>\n",
       "      <td>NaN</td>\n",
       "      <td>NaN</td>\n",
       "      <td>2019-05-03 12:27:13</td>\n",
       "      <td>NaN</td>\n",
       "      <td>2019-05-03 12:21:01</td>\n",
       "      <td>2019-05-03 12:16:16</td>\n",
       "    </tr>\n",
       "  </tbody>\n",
       "</table>\n",
       "</div>"
      ],
      "text/plain": [
       "   key Bulk 1 Bulk 2 Bulk 3               Bulk 4 Bulk 5 Bulk 6 Bulk 7 Bulk 8  \\\n",
       "0    1    NaN    NaN    NaN  2019-05-03 11:28:48    NaN    NaN    NaN    NaN   \n",
       "1    2    NaN    NaN    NaN  2019-05-03 11:36:50    NaN    NaN    NaN    NaN   \n",
       "2    3    NaN    NaN    NaN  2019-05-03 12:32:39    NaN    NaN    NaN    NaN   \n",
       "\n",
       "  Bulk 9 Bulk 10 Bulk 11              Bulk 12 Bulk 13              Bulk 14  \\\n",
       "0    NaN     NaN     NaN  2019-05-03 11:24:31     NaN  2019-05-03 11:14:50   \n",
       "1    NaN     NaN     NaN  2019-05-03 11:53:30     NaN  2019-05-03 11:48:37   \n",
       "2    NaN     NaN     NaN  2019-05-03 12:27:13     NaN  2019-05-03 12:21:01   \n",
       "\n",
       "               Bulk 15  \n",
       "0  2019-05-03 11:10:43  \n",
       "1  2019-05-03 11:44:39  \n",
       "2  2019-05-03 12:16:16  "
      ]
     },
     "metadata": {},
     "output_type": "display_data"
    },
    {
     "name": "stdout",
     "output_type": "stream",
     "text": [
      "<class 'pandas.core.frame.DataFrame'>\n",
      "RangeIndex: 3129 entries, 0 to 3128\n",
      "Data columns (total 16 columns):\n",
      " #   Column   Non-Null Count  Dtype \n",
      "---  ------   --------------  ----- \n",
      " 0   key      3129 non-null   int64 \n",
      " 1   Bulk 1   252 non-null    object\n",
      " 2   Bulk 2   22 non-null     object\n",
      " 3   Bulk 3   1298 non-null   object\n",
      " 4   Bulk 4   1014 non-null   object\n",
      " 5   Bulk 5   77 non-null     object\n",
      " 6   Bulk 6   576 non-null    object\n",
      " 7   Bulk 7   25 non-null     object\n",
      " 8   Bulk 8   1 non-null      object\n",
      " 9   Bulk 9   19 non-null     object\n",
      " 10  Bulk 10  176 non-null    object\n",
      " 11  Bulk 11  177 non-null    object\n",
      " 12  Bulk 12  2450 non-null   object\n",
      " 13  Bulk 13  18 non-null     object\n",
      " 14  Bulk 14  2806 non-null   object\n",
      " 15  Bulk 15  2248 non-null   object\n",
      "dtypes: int64(1), object(15)\n",
      "memory usage: 391.2+ KB\n"
     ]
    },
    {
     "data": {
      "text/html": [
       "<div>\n",
       "<style scoped>\n",
       "    .dataframe tbody tr th:only-of-type {\n",
       "        vertical-align: middle;\n",
       "    }\n",
       "\n",
       "    .dataframe tbody tr th {\n",
       "        vertical-align: top;\n",
       "    }\n",
       "\n",
       "    .dataframe thead th {\n",
       "        text-align: right;\n",
       "    }\n",
       "</style>\n",
       "<table border=\"1\" class=\"dataframe\">\n",
       "  <thead>\n",
       "    <tr style=\"text-align: right;\">\n",
       "      <th></th>\n",
       "      <th>key</th>\n",
       "      <th>Bulk 1</th>\n",
       "      <th>Bulk 2</th>\n",
       "      <th>Bulk 3</th>\n",
       "      <th>Bulk 4</th>\n",
       "      <th>Bulk 5</th>\n",
       "      <th>Bulk 6</th>\n",
       "      <th>Bulk 7</th>\n",
       "      <th>Bulk 8</th>\n",
       "      <th>Bulk 9</th>\n",
       "      <th>Bulk 10</th>\n",
       "      <th>Bulk 11</th>\n",
       "      <th>Bulk 12</th>\n",
       "      <th>Bulk 13</th>\n",
       "      <th>Bulk 14</th>\n",
       "      <th>Bulk 15</th>\n",
       "    </tr>\n",
       "  </thead>\n",
       "  <tbody>\n",
       "    <tr>\n",
       "      <th>count</th>\n",
       "      <td>3129.000000</td>\n",
       "      <td>252</td>\n",
       "      <td>22</td>\n",
       "      <td>1298</td>\n",
       "      <td>1014</td>\n",
       "      <td>77</td>\n",
       "      <td>576</td>\n",
       "      <td>25</td>\n",
       "      <td>1</td>\n",
       "      <td>19</td>\n",
       "      <td>176</td>\n",
       "      <td>177</td>\n",
       "      <td>2450</td>\n",
       "      <td>18</td>\n",
       "      <td>2806</td>\n",
       "      <td>2248</td>\n",
       "    </tr>\n",
       "    <tr>\n",
       "      <th>unique</th>\n",
       "      <td>NaN</td>\n",
       "      <td>252</td>\n",
       "      <td>22</td>\n",
       "      <td>1298</td>\n",
       "      <td>1014</td>\n",
       "      <td>77</td>\n",
       "      <td>576</td>\n",
       "      <td>25</td>\n",
       "      <td>1</td>\n",
       "      <td>19</td>\n",
       "      <td>176</td>\n",
       "      <td>177</td>\n",
       "      <td>2450</td>\n",
       "      <td>18</td>\n",
       "      <td>2806</td>\n",
       "      <td>2248</td>\n",
       "    </tr>\n",
       "    <tr>\n",
       "      <th>top</th>\n",
       "      <td>NaN</td>\n",
       "      <td>2019-08-28 09:34:30</td>\n",
       "      <td>2019-05-07 22:50:29</td>\n",
       "      <td>2019-05-06 13:38:13</td>\n",
       "      <td>2019-05-07 22:38:43</td>\n",
       "      <td>2019-08-13 11:04:10</td>\n",
       "      <td>2019-05-24 03:42:25</td>\n",
       "      <td>2019-07-20 19:54:13</td>\n",
       "      <td>2019-07-08 17:14:53</td>\n",
       "      <td>2019-07-08 17:23:24</td>\n",
       "      <td>2019-05-24 19:38:09</td>\n",
       "      <td>2019-07-26 00:20:40</td>\n",
       "      <td>2019-06-15 06:18:29</td>\n",
       "      <td>2019-06-30 14:38:12</td>\n",
       "      <td>2019-08-08 13:22:04</td>\n",
       "      <td>2019-08-24 21:23:08</td>\n",
       "    </tr>\n",
       "    <tr>\n",
       "      <th>freq</th>\n",
       "      <td>NaN</td>\n",
       "      <td>1</td>\n",
       "      <td>1</td>\n",
       "      <td>1</td>\n",
       "      <td>1</td>\n",
       "      <td>1</td>\n",
       "      <td>1</td>\n",
       "      <td>1</td>\n",
       "      <td>1</td>\n",
       "      <td>1</td>\n",
       "      <td>1</td>\n",
       "      <td>1</td>\n",
       "      <td>1</td>\n",
       "      <td>1</td>\n",
       "      <td>1</td>\n",
       "      <td>1</td>\n",
       "    </tr>\n",
       "    <tr>\n",
       "      <th>mean</th>\n",
       "      <td>1624.383509</td>\n",
       "      <td>NaN</td>\n",
       "      <td>NaN</td>\n",
       "      <td>NaN</td>\n",
       "      <td>NaN</td>\n",
       "      <td>NaN</td>\n",
       "      <td>NaN</td>\n",
       "      <td>NaN</td>\n",
       "      <td>NaN</td>\n",
       "      <td>NaN</td>\n",
       "      <td>NaN</td>\n",
       "      <td>NaN</td>\n",
       "      <td>NaN</td>\n",
       "      <td>NaN</td>\n",
       "      <td>NaN</td>\n",
       "      <td>NaN</td>\n",
       "    </tr>\n",
       "    <tr>\n",
       "      <th>std</th>\n",
       "      <td>933.337642</td>\n",
       "      <td>NaN</td>\n",
       "      <td>NaN</td>\n",
       "      <td>NaN</td>\n",
       "      <td>NaN</td>\n",
       "      <td>NaN</td>\n",
       "      <td>NaN</td>\n",
       "      <td>NaN</td>\n",
       "      <td>NaN</td>\n",
       "      <td>NaN</td>\n",
       "      <td>NaN</td>\n",
       "      <td>NaN</td>\n",
       "      <td>NaN</td>\n",
       "      <td>NaN</td>\n",
       "      <td>NaN</td>\n",
       "      <td>NaN</td>\n",
       "    </tr>\n",
       "    <tr>\n",
       "      <th>min</th>\n",
       "      <td>1.000000</td>\n",
       "      <td>NaN</td>\n",
       "      <td>NaN</td>\n",
       "      <td>NaN</td>\n",
       "      <td>NaN</td>\n",
       "      <td>NaN</td>\n",
       "      <td>NaN</td>\n",
       "      <td>NaN</td>\n",
       "      <td>NaN</td>\n",
       "      <td>NaN</td>\n",
       "      <td>NaN</td>\n",
       "      <td>NaN</td>\n",
       "      <td>NaN</td>\n",
       "      <td>NaN</td>\n",
       "      <td>NaN</td>\n",
       "      <td>NaN</td>\n",
       "    </tr>\n",
       "    <tr>\n",
       "      <th>25%</th>\n",
       "      <td>816.000000</td>\n",
       "      <td>NaN</td>\n",
       "      <td>NaN</td>\n",
       "      <td>NaN</td>\n",
       "      <td>NaN</td>\n",
       "      <td>NaN</td>\n",
       "      <td>NaN</td>\n",
       "      <td>NaN</td>\n",
       "      <td>NaN</td>\n",
       "      <td>NaN</td>\n",
       "      <td>NaN</td>\n",
       "      <td>NaN</td>\n",
       "      <td>NaN</td>\n",
       "      <td>NaN</td>\n",
       "      <td>NaN</td>\n",
       "      <td>NaN</td>\n",
       "    </tr>\n",
       "    <tr>\n",
       "      <th>50%</th>\n",
       "      <td>1622.000000</td>\n",
       "      <td>NaN</td>\n",
       "      <td>NaN</td>\n",
       "      <td>NaN</td>\n",
       "      <td>NaN</td>\n",
       "      <td>NaN</td>\n",
       "      <td>NaN</td>\n",
       "      <td>NaN</td>\n",
       "      <td>NaN</td>\n",
       "      <td>NaN</td>\n",
       "      <td>NaN</td>\n",
       "      <td>NaN</td>\n",
       "      <td>NaN</td>\n",
       "      <td>NaN</td>\n",
       "      <td>NaN</td>\n",
       "      <td>NaN</td>\n",
       "    </tr>\n",
       "    <tr>\n",
       "      <th>75%</th>\n",
       "      <td>2431.000000</td>\n",
       "      <td>NaN</td>\n",
       "      <td>NaN</td>\n",
       "      <td>NaN</td>\n",
       "      <td>NaN</td>\n",
       "      <td>NaN</td>\n",
       "      <td>NaN</td>\n",
       "      <td>NaN</td>\n",
       "      <td>NaN</td>\n",
       "      <td>NaN</td>\n",
       "      <td>NaN</td>\n",
       "      <td>NaN</td>\n",
       "      <td>NaN</td>\n",
       "      <td>NaN</td>\n",
       "      <td>NaN</td>\n",
       "      <td>NaN</td>\n",
       "    </tr>\n",
       "    <tr>\n",
       "      <th>max</th>\n",
       "      <td>3241.000000</td>\n",
       "      <td>NaN</td>\n",
       "      <td>NaN</td>\n",
       "      <td>NaN</td>\n",
       "      <td>NaN</td>\n",
       "      <td>NaN</td>\n",
       "      <td>NaN</td>\n",
       "      <td>NaN</td>\n",
       "      <td>NaN</td>\n",
       "      <td>NaN</td>\n",
       "      <td>NaN</td>\n",
       "      <td>NaN</td>\n",
       "      <td>NaN</td>\n",
       "      <td>NaN</td>\n",
       "      <td>NaN</td>\n",
       "      <td>NaN</td>\n",
       "    </tr>\n",
       "  </tbody>\n",
       "</table>\n",
       "</div>"
      ],
      "text/plain": [
       "                key               Bulk 1               Bulk 2  \\\n",
       "count   3129.000000                  252                   22   \n",
       "unique          NaN                  252                   22   \n",
       "top             NaN  2019-08-28 09:34:30  2019-05-07 22:50:29   \n",
       "freq            NaN                    1                    1   \n",
       "mean    1624.383509                  NaN                  NaN   \n",
       "std      933.337642                  NaN                  NaN   \n",
       "min        1.000000                  NaN                  NaN   \n",
       "25%      816.000000                  NaN                  NaN   \n",
       "50%     1622.000000                  NaN                  NaN   \n",
       "75%     2431.000000                  NaN                  NaN   \n",
       "max     3241.000000                  NaN                  NaN   \n",
       "\n",
       "                     Bulk 3               Bulk 4               Bulk 5  \\\n",
       "count                  1298                 1014                   77   \n",
       "unique                 1298                 1014                   77   \n",
       "top     2019-05-06 13:38:13  2019-05-07 22:38:43  2019-08-13 11:04:10   \n",
       "freq                      1                    1                    1   \n",
       "mean                    NaN                  NaN                  NaN   \n",
       "std                     NaN                  NaN                  NaN   \n",
       "min                     NaN                  NaN                  NaN   \n",
       "25%                     NaN                  NaN                  NaN   \n",
       "50%                     NaN                  NaN                  NaN   \n",
       "75%                     NaN                  NaN                  NaN   \n",
       "max                     NaN                  NaN                  NaN   \n",
       "\n",
       "                     Bulk 6               Bulk 7               Bulk 8  \\\n",
       "count                   576                   25                    1   \n",
       "unique                  576                   25                    1   \n",
       "top     2019-05-24 03:42:25  2019-07-20 19:54:13  2019-07-08 17:14:53   \n",
       "freq                      1                    1                    1   \n",
       "mean                    NaN                  NaN                  NaN   \n",
       "std                     NaN                  NaN                  NaN   \n",
       "min                     NaN                  NaN                  NaN   \n",
       "25%                     NaN                  NaN                  NaN   \n",
       "50%                     NaN                  NaN                  NaN   \n",
       "75%                     NaN                  NaN                  NaN   \n",
       "max                     NaN                  NaN                  NaN   \n",
       "\n",
       "                     Bulk 9              Bulk 10              Bulk 11  \\\n",
       "count                    19                  176                  177   \n",
       "unique                   19                  176                  177   \n",
       "top     2019-07-08 17:23:24  2019-05-24 19:38:09  2019-07-26 00:20:40   \n",
       "freq                      1                    1                    1   \n",
       "mean                    NaN                  NaN                  NaN   \n",
       "std                     NaN                  NaN                  NaN   \n",
       "min                     NaN                  NaN                  NaN   \n",
       "25%                     NaN                  NaN                  NaN   \n",
       "50%                     NaN                  NaN                  NaN   \n",
       "75%                     NaN                  NaN                  NaN   \n",
       "max                     NaN                  NaN                  NaN   \n",
       "\n",
       "                    Bulk 12              Bulk 13              Bulk 14  \\\n",
       "count                  2450                   18                 2806   \n",
       "unique                 2450                   18                 2806   \n",
       "top     2019-06-15 06:18:29  2019-06-30 14:38:12  2019-08-08 13:22:04   \n",
       "freq                      1                    1                    1   \n",
       "mean                    NaN                  NaN                  NaN   \n",
       "std                     NaN                  NaN                  NaN   \n",
       "min                     NaN                  NaN                  NaN   \n",
       "25%                     NaN                  NaN                  NaN   \n",
       "50%                     NaN                  NaN                  NaN   \n",
       "75%                     NaN                  NaN                  NaN   \n",
       "max                     NaN                  NaN                  NaN   \n",
       "\n",
       "                    Bulk 15  \n",
       "count                  2248  \n",
       "unique                 2248  \n",
       "top     2019-08-24 21:23:08  \n",
       "freq                      1  \n",
       "mean                    NaN  \n",
       "std                     NaN  \n",
       "min                     NaN  \n",
       "25%                     NaN  \n",
       "50%                     NaN  \n",
       "75%                     NaN  \n",
       "max                     NaN  "
      ]
     },
     "metadata": {},
     "output_type": "display_data"
    },
    {
     "name": "stdout",
     "output_type": "stream",
     "text": [
      "Уникальных номеров партии: 3129\n"
     ]
    }
   ],
   "source": [
    "first_look(bulk_time)"
   ]
  },
  {
   "cell_type": "code",
   "execution_count": 15,
   "id": "1e3cf55a",
   "metadata": {
    "scrolled": true
   },
   "outputs": [
    {
     "data": {
      "text/plain": [
       "key        3129\n",
       "Bulk 1     3129\n",
       "Bulk 2     3129\n",
       "Bulk 3     3129\n",
       "Bulk 4     3129\n",
       "Bulk 5     3129\n",
       "Bulk 6     3129\n",
       "Bulk 7     3129\n",
       "Bulk 8     3129\n",
       "Bulk 9     3129\n",
       "Bulk 10    3129\n",
       "Bulk 11    3129\n",
       "Bulk 12    3129\n",
       "Bulk 13    3129\n",
       "Bulk 14    3129\n",
       "Bulk 15    3129\n",
       "dtype: int64"
      ]
     },
     "execution_count": 15,
     "metadata": {},
     "output_type": "execute_result"
    }
   ],
   "source": [
    "(bulk.isna()==bulk_time.isna()).sum()"
   ]
  },
  {
   "cell_type": "markdown",
   "id": "1ca0de08",
   "metadata": {},
   "source": [
    "Количество партий совпадает с *bulk*, это хорошо, ведь речь идет про один и тот же процесс. Много пропусков,они полностью совпадают с *bulk*. Данные нужно привести к типу *datetime*."
   ]
  },
  {
   "cell_type": "code",
   "execution_count": 16,
   "id": "3716675b",
   "metadata": {},
   "outputs": [],
   "source": [
    "bulk_time_eda = {'длина': len(bulk_time), 'пропуски': 'есть', 'тип данных': 'есть', 'аномалии': 'нет', \n",
    "                 'партий': len(bulk_time['key'].unique())}"
   ]
  },
  {
   "cell_type": "markdown",
   "id": "4d38314a",
   "metadata": {},
   "source": [
    "##### Газ"
   ]
  },
  {
   "cell_type": "code",
   "execution_count": 17,
   "id": "94dedcbc",
   "metadata": {},
   "outputs": [
    {
     "data": {
      "text/html": [
       "<div>\n",
       "<style scoped>\n",
       "    .dataframe tbody tr th:only-of-type {\n",
       "        vertical-align: middle;\n",
       "    }\n",
       "\n",
       "    .dataframe tbody tr th {\n",
       "        vertical-align: top;\n",
       "    }\n",
       "\n",
       "    .dataframe thead th {\n",
       "        text-align: right;\n",
       "    }\n",
       "</style>\n",
       "<table border=\"1\" class=\"dataframe\">\n",
       "  <thead>\n",
       "    <tr style=\"text-align: right;\">\n",
       "      <th></th>\n",
       "      <th>key</th>\n",
       "      <th>Газ 1</th>\n",
       "    </tr>\n",
       "  </thead>\n",
       "  <tbody>\n",
       "    <tr>\n",
       "      <th>0</th>\n",
       "      <td>1</td>\n",
       "      <td>29.749986</td>\n",
       "    </tr>\n",
       "    <tr>\n",
       "      <th>1</th>\n",
       "      <td>2</td>\n",
       "      <td>12.555561</td>\n",
       "    </tr>\n",
       "    <tr>\n",
       "      <th>2</th>\n",
       "      <td>3</td>\n",
       "      <td>28.554793</td>\n",
       "    </tr>\n",
       "  </tbody>\n",
       "</table>\n",
       "</div>"
      ],
      "text/plain": [
       "   key      Газ 1\n",
       "0    1  29.749986\n",
       "1    2  12.555561\n",
       "2    3  28.554793"
      ]
     },
     "metadata": {},
     "output_type": "display_data"
    },
    {
     "name": "stdout",
     "output_type": "stream",
     "text": [
      "<class 'pandas.core.frame.DataFrame'>\n",
      "RangeIndex: 3239 entries, 0 to 3238\n",
      "Data columns (total 2 columns):\n",
      " #   Column  Non-Null Count  Dtype  \n",
      "---  ------  --------------  -----  \n",
      " 0   key     3239 non-null   int64  \n",
      " 1   Газ 1   3239 non-null   float64\n",
      "dtypes: float64(1), int64(1)\n",
      "memory usage: 50.7 KB\n"
     ]
    },
    {
     "data": {
      "text/html": [
       "<div>\n",
       "<style scoped>\n",
       "    .dataframe tbody tr th:only-of-type {\n",
       "        vertical-align: middle;\n",
       "    }\n",
       "\n",
       "    .dataframe tbody tr th {\n",
       "        vertical-align: top;\n",
       "    }\n",
       "\n",
       "    .dataframe thead th {\n",
       "        text-align: right;\n",
       "    }\n",
       "</style>\n",
       "<table border=\"1\" class=\"dataframe\">\n",
       "  <thead>\n",
       "    <tr style=\"text-align: right;\">\n",
       "      <th></th>\n",
       "      <th>key</th>\n",
       "      <th>Газ 1</th>\n",
       "    </tr>\n",
       "  </thead>\n",
       "  <tbody>\n",
       "    <tr>\n",
       "      <th>count</th>\n",
       "      <td>3239.000000</td>\n",
       "      <td>3239.000000</td>\n",
       "    </tr>\n",
       "    <tr>\n",
       "      <th>mean</th>\n",
       "      <td>1621.861377</td>\n",
       "      <td>11.002062</td>\n",
       "    </tr>\n",
       "    <tr>\n",
       "      <th>std</th>\n",
       "      <td>935.386334</td>\n",
       "      <td>6.220327</td>\n",
       "    </tr>\n",
       "    <tr>\n",
       "      <th>min</th>\n",
       "      <td>1.000000</td>\n",
       "      <td>0.008399</td>\n",
       "    </tr>\n",
       "    <tr>\n",
       "      <th>25%</th>\n",
       "      <td>812.500000</td>\n",
       "      <td>7.043089</td>\n",
       "    </tr>\n",
       "    <tr>\n",
       "      <th>50%</th>\n",
       "      <td>1622.000000</td>\n",
       "      <td>9.836267</td>\n",
       "    </tr>\n",
       "    <tr>\n",
       "      <th>75%</th>\n",
       "      <td>2431.500000</td>\n",
       "      <td>13.769915</td>\n",
       "    </tr>\n",
       "    <tr>\n",
       "      <th>max</th>\n",
       "      <td>3241.000000</td>\n",
       "      <td>77.995040</td>\n",
       "    </tr>\n",
       "  </tbody>\n",
       "</table>\n",
       "</div>"
      ],
      "text/plain": [
       "               key        Газ 1\n",
       "count  3239.000000  3239.000000\n",
       "mean   1621.861377    11.002062\n",
       "std     935.386334     6.220327\n",
       "min       1.000000     0.008399\n",
       "25%     812.500000     7.043089\n",
       "50%    1622.000000     9.836267\n",
       "75%    2431.500000    13.769915\n",
       "max    3241.000000    77.995040"
      ]
     },
     "metadata": {},
     "output_type": "display_data"
    },
    {
     "name": "stdout",
     "output_type": "stream",
     "text": [
      "Уникальных номеров партии: 3239\n"
     ]
    }
   ],
   "source": [
    "first_look(gas)"
   ]
  },
  {
   "cell_type": "code",
   "execution_count": 18,
   "id": "b9fffad0",
   "metadata": {},
   "outputs": [
    {
     "name": "stdout",
     "output_type": "stream",
     "text": [
      "Количество записей о партиях, отсутствующих в arc: 27\n"
     ]
    }
   ],
   "source": [
    "susp_keys_gas = set(gas['key'].unique()) - set(arc['key'].unique())\n",
    "print('Количество записей о партиях, отсутствующих в arc:', len(gas[gas['key'].isin(susp_keys_gas)]))"
   ]
  },
  {
   "cell_type": "code",
   "execution_count": 19,
   "id": "ef709561",
   "metadata": {},
   "outputs": [
    {
     "data": {
      "image/png": "[encoded data removed]",
      "text/plain": [
       "<Figure size 432x288 with 1 Axes>"
      ]
     },
     "metadata": {
      "needs_background": "light"
     },
     "output_type": "display_data"
    }
   ],
   "source": [
    "plt.boxplot(gas['Газ 1']);\n",
    "plt.title('Газ');\n",
    "plt.ylabel('Объем газа');\n",
    "plt.show()"
   ]
  },
  {
   "cell_type": "markdown",
   "id": "57637247",
   "metadata": {},
   "source": [
    "Всего один столбец помимо номера партии, пропусков нет, значения положительны, распределение нормальное. Непонятно только, почему \"Газ 1\", есть еще какой-то газ?\n",
    "\n",
    "Поиск в интернете дает: \"расход инертного газа ... составляет не более 3 кубических метров на одну тонну стали\". Значит, предположительно газ указан в кубических метрах.\n",
    "\n",
    "Есть выбросы сверху. Хотя вполне возможно, что это просто большие партии, стоит проверить.\n",
    "\n",
    "Уникальных номеров партии здесь больше, чем в *arc*."
   ]
  },
  {
   "cell_type": "code",
   "execution_count": 20,
   "id": "a34f2d70",
   "metadata": {},
   "outputs": [],
   "source": [
    "gas_eda = {'длина': len(gas), 'пропуски': 'нет', 'тип данных': 'нет', 'аномалии': 'нет', 'партий': len(gas['key'].unique())}"
   ]
  },
  {
   "cell_type": "markdown",
   "id": "8fe58232",
   "metadata": {},
   "source": [
    "##### Температура"
   ]
  },
  {
   "cell_type": "code",
   "execution_count": 21,
   "id": "f9c77ab1",
   "metadata": {},
   "outputs": [
    {
     "data": {
      "text/html": [
       "<div>\n",
       "<style scoped>\n",
       "    .dataframe tbody tr th:only-of-type {\n",
       "        vertical-align: middle;\n",
       "    }\n",
       "\n",
       "    .dataframe tbody tr th {\n",
       "        vertical-align: top;\n",
       "    }\n",
       "\n",
       "    .dataframe thead th {\n",
       "        text-align: right;\n",
       "    }\n",
       "</style>\n",
       "<table border=\"1\" class=\"dataframe\">\n",
       "  <thead>\n",
       "    <tr style=\"text-align: right;\">\n",
       "      <th></th>\n",
       "      <th>key</th>\n",
       "      <th>Время замера</th>\n",
       "      <th>Температура</th>\n",
       "    </tr>\n",
       "  </thead>\n",
       "  <tbody>\n",
       "    <tr>\n",
       "      <th>0</th>\n",
       "      <td>1</td>\n",
       "      <td>2019-05-03 11:02:04</td>\n",
       "      <td>1571.0</td>\n",
       "    </tr>\n",
       "    <tr>\n",
       "      <th>1</th>\n",
       "      <td>1</td>\n",
       "      <td>2019-05-03 11:07:18</td>\n",
       "      <td>1604.0</td>\n",
       "    </tr>\n",
       "    <tr>\n",
       "      <th>2</th>\n",
       "      <td>1</td>\n",
       "      <td>2019-05-03 11:11:34</td>\n",
       "      <td>1618.0</td>\n",
       "    </tr>\n",
       "  </tbody>\n",
       "</table>\n",
       "</div>"
      ],
      "text/plain": [
       "   key         Время замера  Температура\n",
       "0    1  2019-05-03 11:02:04       1571.0\n",
       "1    1  2019-05-03 11:07:18       1604.0\n",
       "2    1  2019-05-03 11:11:34       1618.0"
      ]
     },
     "metadata": {},
     "output_type": "display_data"
    },
    {
     "name": "stdout",
     "output_type": "stream",
     "text": [
      "<class 'pandas.core.frame.DataFrame'>\n",
      "RangeIndex: 18092 entries, 0 to 18091\n",
      "Data columns (total 3 columns):\n",
      " #   Column        Non-Null Count  Dtype  \n",
      "---  ------        --------------  -----  \n",
      " 0   key           18092 non-null  int64  \n",
      " 1   Время замера  18092 non-null  object \n",
      " 2   Температура   14665 non-null  float64\n",
      "dtypes: float64(1), int64(1), object(1)\n",
      "memory usage: 424.2+ KB\n"
     ]
    },
    {
     "data": {
      "text/html": [
       "<div>\n",
       "<style scoped>\n",
       "    .dataframe tbody tr th:only-of-type {\n",
       "        vertical-align: middle;\n",
       "    }\n",
       "\n",
       "    .dataframe tbody tr th {\n",
       "        vertical-align: top;\n",
       "    }\n",
       "\n",
       "    .dataframe thead th {\n",
       "        text-align: right;\n",
       "    }\n",
       "</style>\n",
       "<table border=\"1\" class=\"dataframe\">\n",
       "  <thead>\n",
       "    <tr style=\"text-align: right;\">\n",
       "      <th></th>\n",
       "      <th>key</th>\n",
       "      <th>Время замера</th>\n",
       "      <th>Температура</th>\n",
       "    </tr>\n",
       "  </thead>\n",
       "  <tbody>\n",
       "    <tr>\n",
       "      <th>count</th>\n",
       "      <td>18092.000000</td>\n",
       "      <td>18092</td>\n",
       "      <td>14665.000000</td>\n",
       "    </tr>\n",
       "    <tr>\n",
       "      <th>unique</th>\n",
       "      <td>NaN</td>\n",
       "      <td>18092</td>\n",
       "      <td>NaN</td>\n",
       "    </tr>\n",
       "    <tr>\n",
       "      <th>top</th>\n",
       "      <td>NaN</td>\n",
       "      <td>2019-09-05 20:12:55</td>\n",
       "      <td>NaN</td>\n",
       "    </tr>\n",
       "    <tr>\n",
       "      <th>freq</th>\n",
       "      <td>NaN</td>\n",
       "      <td>1</td>\n",
       "      <td>NaN</td>\n",
       "    </tr>\n",
       "    <tr>\n",
       "      <th>mean</th>\n",
       "      <td>1616.460977</td>\n",
       "      <td>NaN</td>\n",
       "      <td>1590.722741</td>\n",
       "    </tr>\n",
       "    <tr>\n",
       "      <th>std</th>\n",
       "      <td>934.641385</td>\n",
       "      <td>NaN</td>\n",
       "      <td>20.394381</td>\n",
       "    </tr>\n",
       "    <tr>\n",
       "      <th>min</th>\n",
       "      <td>1.000000</td>\n",
       "      <td>NaN</td>\n",
       "      <td>1191.000000</td>\n",
       "    </tr>\n",
       "    <tr>\n",
       "      <th>25%</th>\n",
       "      <td>807.750000</td>\n",
       "      <td>NaN</td>\n",
       "      <td>1580.000000</td>\n",
       "    </tr>\n",
       "    <tr>\n",
       "      <th>50%</th>\n",
       "      <td>1618.000000</td>\n",
       "      <td>NaN</td>\n",
       "      <td>1590.000000</td>\n",
       "    </tr>\n",
       "    <tr>\n",
       "      <th>75%</th>\n",
       "      <td>2429.000000</td>\n",
       "      <td>NaN</td>\n",
       "      <td>1599.000000</td>\n",
       "    </tr>\n",
       "    <tr>\n",
       "      <th>max</th>\n",
       "      <td>3241.000000</td>\n",
       "      <td>NaN</td>\n",
       "      <td>1705.000000</td>\n",
       "    </tr>\n",
       "  </tbody>\n",
       "</table>\n",
       "</div>"
      ],
      "text/plain": [
       "                 key         Время замера   Температура\n",
       "count   18092.000000                18092  14665.000000\n",
       "unique           NaN                18092           NaN\n",
       "top              NaN  2019-09-05 20:12:55           NaN\n",
       "freq             NaN                    1           NaN\n",
       "mean     1616.460977                  NaN   1590.722741\n",
       "std       934.641385                  NaN     20.394381\n",
       "min         1.000000                  NaN   1191.000000\n",
       "25%       807.750000                  NaN   1580.000000\n",
       "50%      1618.000000                  NaN   1590.000000\n",
       "75%      2429.000000                  NaN   1599.000000\n",
       "max      3241.000000                  NaN   1705.000000"
      ]
     },
     "metadata": {},
     "output_type": "display_data"
    },
    {
     "name": "stdout",
     "output_type": "stream",
     "text": [
      "Уникальных номеров партии: 3216\n"
     ]
    }
   ],
   "source": [
    "first_look(temp)"
   ]
  },
  {
   "cell_type": "code",
   "execution_count": 22,
   "id": "cfb15303",
   "metadata": {},
   "outputs": [
    {
     "name": "stdout",
     "output_type": "stream",
     "text": [
      "Количество записей о партиях, отсутствующих в arc: 2\n"
     ]
    }
   ],
   "source": [
    "susp_keys_temp = set(temp['key'].unique()) - set(arc['key'].unique())\n",
    "print('Количество записей о партиях, отсутствующих в arc:', len(temp[temp['key'].isin(susp_keys_temp)]))"
   ]
  },
  {
   "cell_type": "code",
   "execution_count": 23,
   "id": "0ad2aa9d",
   "metadata": {},
   "outputs": [
    {
     "data": {
      "image/png": "[encoded data removed]",
      "text/plain": [
       "<Figure size 432x288 with 1 Axes>"
      ]
     },
     "metadata": {
      "needs_background": "light"
     },
     "output_type": "display_data"
    }
   ],
   "source": [
    "plt.boxplot(temp['Температура'].dropna());\n",
    "plt.title('Температура');\n",
    "plt.ylabel('Температура, C');\n",
    "plt.show()"
   ]
  },
  {
   "cell_type": "markdown",
   "id": "f7c76649",
   "metadata": {},
   "source": [
    "Два столбца, есть пропуски по температуре. Возможно, эти данные придется удалить, т.к. температура - будущий целевой признак. Время нужно будет перевести в соответствующий тип. Есть две записи о партиях, не указанных в *arc*.\n",
    "\n",
    "Википедия говорит, что температура плавления стали варьируется от 1450 до 1520. Если сталь застывает в ковше, то ковшу конец. Значит, выбросы у значения 1200 - аномалии."
   ]
  },
  {
   "cell_type": "code",
   "execution_count": 24,
   "id": "ea0cc1e9",
   "metadata": {},
   "outputs": [
    {
     "data": {
      "text/html": [
       "<div>\n",
       "<style scoped>\n",
       "    .dataframe tbody tr th:only-of-type {\n",
       "        vertical-align: middle;\n",
       "    }\n",
       "\n",
       "    .dataframe tbody tr th {\n",
       "        vertical-align: top;\n",
       "    }\n",
       "\n",
       "    .dataframe thead th {\n",
       "        text-align: right;\n",
       "    }\n",
       "</style>\n",
       "<table border=\"1\" class=\"dataframe\">\n",
       "  <thead>\n",
       "    <tr style=\"text-align: right;\">\n",
       "      <th></th>\n",
       "      <th>key</th>\n",
       "      <th>Время замера</th>\n",
       "      <th>Температура</th>\n",
       "    </tr>\n",
       "  </thead>\n",
       "  <tbody>\n",
       "    <tr>\n",
       "      <th>4883</th>\n",
       "      <td>867</td>\n",
       "      <td>2019-06-06 08:03:39</td>\n",
       "      <td>1191.0</td>\n",
       "    </tr>\n",
       "    <tr>\n",
       "      <th>6784</th>\n",
       "      <td>1214</td>\n",
       "      <td>2019-06-18 08:01:03</td>\n",
       "      <td>1208.0</td>\n",
       "    </tr>\n",
       "    <tr>\n",
       "      <th>9050</th>\n",
       "      <td>1619</td>\n",
       "      <td>2019-07-03 02:34:41</td>\n",
       "      <td>1218.0</td>\n",
       "    </tr>\n",
       "    <tr>\n",
       "      <th>11495</th>\n",
       "      <td>2052</td>\n",
       "      <td>2019-07-25 08:49:15</td>\n",
       "      <td>1227.0</td>\n",
       "    </tr>\n",
       "    <tr>\n",
       "      <th>14283</th>\n",
       "      <td>2561</td>\n",
       "      <td>2019-08-12 18:49:29</td>\n",
       "      <td>1204.0</td>\n",
       "    </tr>\n",
       "  </tbody>\n",
       "</table>\n",
       "</div>"
      ],
      "text/plain": [
       "        key         Время замера  Температура\n",
       "4883    867  2019-06-06 08:03:39       1191.0\n",
       "6784   1214  2019-06-18 08:01:03       1208.0\n",
       "9050   1619  2019-07-03 02:34:41       1218.0\n",
       "11495  2052  2019-07-25 08:49:15       1227.0\n",
       "14283  2561  2019-08-12 18:49:29       1204.0"
      ]
     },
     "execution_count": 24,
     "metadata": {},
     "output_type": "execute_result"
    }
   ],
   "source": [
    "temp[temp['Температура']< 1500]"
   ]
  },
  {
   "cell_type": "markdown",
   "id": "c585075b",
   "metadata": {},
   "source": [
    "Таких значений всего 5 штук. Можно будет удалить данные по этим партиям. С пропусками дело хуже."
   ]
  },
  {
   "cell_type": "code",
   "execution_count": 25,
   "id": "d5b3969b",
   "metadata": {},
   "outputs": [
    {
     "name": "stdout",
     "output_type": "stream",
     "text": [
      "Количество пропусков по температуре: 3427\n",
      "Процент данных с пропуском по температуре: 18.9\n"
     ]
    }
   ],
   "source": [
    "print('Количество пропусков по температуре:', len(temp['Температура']) - len(temp['Температура'].dropna()))\n",
    "print('Процент данных с пропуском по температуре:', \n",
    "      round(100*(len(temp['Температура']) - len(temp['Температура'].dropna()))/len(temp['Температура']), 1))"
   ]
  },
  {
   "cell_type": "markdown",
   "id": "54ae9c5c",
   "metadata": {},
   "source": [
    "Почти 19 процентов данных - это очень много для удаления. Рассмотрим их внимательнее."
   ]
  },
  {
   "cell_type": "code",
   "execution_count": 26,
   "id": "e8c47f69",
   "metadata": {
    "scrolled": false
   },
   "outputs": [
    {
     "data": {
      "image/png": "[encoded data removed]",
      "text/plain": [
       "<Figure size 432x288 with 1 Axes>"
      ]
     },
     "metadata": {
      "needs_background": "light"
     },
     "output_type": "display_data"
    }
   ],
   "source": [
    "plt.plot(temp['key'], temp['Температура'].isna().astype('int'));"
   ]
  },
  {
   "cell_type": "markdown",
   "id": "3f8144aa",
   "metadata": {},
   "source": [
    "Пропуски появляются после 2500 партии."
   ]
  },
  {
   "cell_type": "code",
   "execution_count": 27,
   "id": "6fd13203",
   "metadata": {},
   "outputs": [
    {
     "data": {
      "text/html": [
       "<div>\n",
       "<style scoped>\n",
       "    .dataframe tbody tr th:only-of-type {\n",
       "        vertical-align: middle;\n",
       "    }\n",
       "\n",
       "    .dataframe tbody tr th {\n",
       "        vertical-align: top;\n",
       "    }\n",
       "\n",
       "    .dataframe thead th {\n",
       "        text-align: right;\n",
       "    }\n",
       "</style>\n",
       "<table border=\"1\" class=\"dataframe\">\n",
       "  <thead>\n",
       "    <tr style=\"text-align: right;\">\n",
       "      <th></th>\n",
       "      <th>key</th>\n",
       "      <th>Время замера</th>\n",
       "      <th>Температура</th>\n",
       "    </tr>\n",
       "  </thead>\n",
       "  <tbody>\n",
       "    <tr>\n",
       "      <th>13921</th>\n",
       "      <td>2499</td>\n",
       "      <td>2019-08-10 13:33:21</td>\n",
       "      <td>1569.0</td>\n",
       "    </tr>\n",
       "    <tr>\n",
       "      <th>13922</th>\n",
       "      <td>2499</td>\n",
       "      <td>2019-08-10 13:41:34</td>\n",
       "      <td>1604.0</td>\n",
       "    </tr>\n",
       "    <tr>\n",
       "      <th>13923</th>\n",
       "      <td>2499</td>\n",
       "      <td>2019-08-10 13:46:28</td>\n",
       "      <td>1593.0</td>\n",
       "    </tr>\n",
       "    <tr>\n",
       "      <th>13924</th>\n",
       "      <td>2499</td>\n",
       "      <td>2019-08-10 13:54:56</td>\n",
       "      <td>1588.0</td>\n",
       "    </tr>\n",
       "    <tr>\n",
       "      <th>13925</th>\n",
       "      <td>2499</td>\n",
       "      <td>2019-08-10 13:58:58</td>\n",
       "      <td>1603.0</td>\n",
       "    </tr>\n",
       "    <tr>\n",
       "      <th>13926</th>\n",
       "      <td>2500</td>\n",
       "      <td>2019-08-10 14:04:39</td>\n",
       "      <td>1539.0</td>\n",
       "    </tr>\n",
       "    <tr>\n",
       "      <th>13927</th>\n",
       "      <td>2500</td>\n",
       "      <td>2019-08-10 14:13:11</td>\n",
       "      <td>NaN</td>\n",
       "    </tr>\n",
       "    <tr>\n",
       "      <th>13928</th>\n",
       "      <td>2500</td>\n",
       "      <td>2019-08-10 14:18:12</td>\n",
       "      <td>NaN</td>\n",
       "    </tr>\n",
       "    <tr>\n",
       "      <th>13929</th>\n",
       "      <td>2500</td>\n",
       "      <td>2019-08-10 14:25:53</td>\n",
       "      <td>NaN</td>\n",
       "    </tr>\n",
       "    <tr>\n",
       "      <th>13930</th>\n",
       "      <td>2500</td>\n",
       "      <td>2019-08-10 14:29:39</td>\n",
       "      <td>NaN</td>\n",
       "    </tr>\n",
       "    <tr>\n",
       "      <th>13931</th>\n",
       "      <td>2501</td>\n",
       "      <td>2019-08-10 14:41:14</td>\n",
       "      <td>1587.0</td>\n",
       "    </tr>\n",
       "    <tr>\n",
       "      <th>13932</th>\n",
       "      <td>2501</td>\n",
       "      <td>2019-08-10 14:49:15</td>\n",
       "      <td>NaN</td>\n",
       "    </tr>\n",
       "    <tr>\n",
       "      <th>13933</th>\n",
       "      <td>2501</td>\n",
       "      <td>2019-08-10 15:02:56</td>\n",
       "      <td>NaN</td>\n",
       "    </tr>\n",
       "    <tr>\n",
       "      <th>13934</th>\n",
       "      <td>2501</td>\n",
       "      <td>2019-08-10 15:07:47</td>\n",
       "      <td>NaN</td>\n",
       "    </tr>\n",
       "    <tr>\n",
       "      <th>13935</th>\n",
       "      <td>2501</td>\n",
       "      <td>2019-08-10 15:16:53</td>\n",
       "      <td>NaN</td>\n",
       "    </tr>\n",
       "    <tr>\n",
       "      <th>13936</th>\n",
       "      <td>2501</td>\n",
       "      <td>2019-08-10 15:22:50</td>\n",
       "      <td>NaN</td>\n",
       "    </tr>\n",
       "    <tr>\n",
       "      <th>13937</th>\n",
       "      <td>2501</td>\n",
       "      <td>2019-08-10 15:29:00</td>\n",
       "      <td>NaN</td>\n",
       "    </tr>\n",
       "    <tr>\n",
       "      <th>13938</th>\n",
       "      <td>2502</td>\n",
       "      <td>2019-08-10 15:39:39</td>\n",
       "      <td>1583.0</td>\n",
       "    </tr>\n",
       "    <tr>\n",
       "      <th>13939</th>\n",
       "      <td>2502</td>\n",
       "      <td>2019-08-10 15:47:31</td>\n",
       "      <td>NaN</td>\n",
       "    </tr>\n",
       "    <tr>\n",
       "      <th>13940</th>\n",
       "      <td>2502</td>\n",
       "      <td>2019-08-10 15:53:16</td>\n",
       "      <td>NaN</td>\n",
       "    </tr>\n",
       "    <tr>\n",
       "      <th>13941</th>\n",
       "      <td>2502</td>\n",
       "      <td>2019-08-10 15:59:29</td>\n",
       "      <td>NaN</td>\n",
       "    </tr>\n",
       "    <tr>\n",
       "      <th>13942</th>\n",
       "      <td>2502</td>\n",
       "      <td>2019-08-10 16:04:55</td>\n",
       "      <td>NaN</td>\n",
       "    </tr>\n",
       "    <tr>\n",
       "      <th>13943</th>\n",
       "      <td>2503</td>\n",
       "      <td>2019-08-10 16:27:44</td>\n",
       "      <td>1603.0</td>\n",
       "    </tr>\n",
       "    <tr>\n",
       "      <th>13944</th>\n",
       "      <td>2503</td>\n",
       "      <td>2019-08-10 16:38:49</td>\n",
       "      <td>NaN</td>\n",
       "    </tr>\n",
       "    <tr>\n",
       "      <th>13945</th>\n",
       "      <td>2503</td>\n",
       "      <td>2019-08-10 16:51:14</td>\n",
       "      <td>NaN</td>\n",
       "    </tr>\n",
       "    <tr>\n",
       "      <th>13946</th>\n",
       "      <td>2503</td>\n",
       "      <td>2019-08-10 17:03:21</td>\n",
       "      <td>NaN</td>\n",
       "    </tr>\n",
       "    <tr>\n",
       "      <th>13947</th>\n",
       "      <td>2503</td>\n",
       "      <td>2019-08-10 17:14:24</td>\n",
       "      <td>NaN</td>\n",
       "    </tr>\n",
       "    <tr>\n",
       "      <th>13948</th>\n",
       "      <td>2504</td>\n",
       "      <td>2019-08-10 17:31:43</td>\n",
       "      <td>1583.0</td>\n",
       "    </tr>\n",
       "    <tr>\n",
       "      <th>13949</th>\n",
       "      <td>2504</td>\n",
       "      <td>2019-08-10 17:38:38</td>\n",
       "      <td>NaN</td>\n",
       "    </tr>\n",
       "    <tr>\n",
       "      <th>13950</th>\n",
       "      <td>2504</td>\n",
       "      <td>2019-08-10 17:44:38</td>\n",
       "      <td>NaN</td>\n",
       "    </tr>\n",
       "  </tbody>\n",
       "</table>\n",
       "</div>"
      ],
      "text/plain": [
       "        key         Время замера  Температура\n",
       "13921  2499  2019-08-10 13:33:21       1569.0\n",
       "13922  2499  2019-08-10 13:41:34       1604.0\n",
       "13923  2499  2019-08-10 13:46:28       1593.0\n",
       "13924  2499  2019-08-10 13:54:56       1588.0\n",
       "13925  2499  2019-08-10 13:58:58       1603.0\n",
       "13926  2500  2019-08-10 14:04:39       1539.0\n",
       "13927  2500  2019-08-10 14:13:11          NaN\n",
       "13928  2500  2019-08-10 14:18:12          NaN\n",
       "13929  2500  2019-08-10 14:25:53          NaN\n",
       "13930  2500  2019-08-10 14:29:39          NaN\n",
       "13931  2501  2019-08-10 14:41:14       1587.0\n",
       "13932  2501  2019-08-10 14:49:15          NaN\n",
       "13933  2501  2019-08-10 15:02:56          NaN\n",
       "13934  2501  2019-08-10 15:07:47          NaN\n",
       "13935  2501  2019-08-10 15:16:53          NaN\n",
       "13936  2501  2019-08-10 15:22:50          NaN\n",
       "13937  2501  2019-08-10 15:29:00          NaN\n",
       "13938  2502  2019-08-10 15:39:39       1583.0\n",
       "13939  2502  2019-08-10 15:47:31          NaN\n",
       "13940  2502  2019-08-10 15:53:16          NaN\n",
       "13941  2502  2019-08-10 15:59:29          NaN\n",
       "13942  2502  2019-08-10 16:04:55          NaN\n",
       "13943  2503  2019-08-10 16:27:44       1603.0\n",
       "13944  2503  2019-08-10 16:38:49          NaN\n",
       "13945  2503  2019-08-10 16:51:14          NaN\n",
       "13946  2503  2019-08-10 17:03:21          NaN\n",
       "13947  2503  2019-08-10 17:14:24          NaN\n",
       "13948  2504  2019-08-10 17:31:43       1583.0\n",
       "13949  2504  2019-08-10 17:38:38          NaN\n",
       "13950  2504  2019-08-10 17:44:38          NaN"
      ]
     },
     "execution_count": 27,
     "metadata": {},
     "output_type": "execute_result"
    }
   ],
   "source": [
    "temp[temp['key']> 2498].head(30)"
   ]
  },
  {
   "cell_type": "markdown",
   "id": "62292ecb",
   "metadata": {},
   "source": [
    "Судя по всему, после 2500 партии температура снималась только при первом прогоне партии. Проверим это предположение."
   ]
  },
  {
   "cell_type": "code",
   "execution_count": 28,
   "id": "12a07346",
   "metadata": {},
   "outputs": [
    {
     "name": "stdout",
     "output_type": "stream",
     "text": [
      "Количество партий после 2500-й: 739\n",
      "Количество измерений температуры после 2500-й партии: 739\n"
     ]
    }
   ],
   "source": [
    "print('Количество партий после 2500-й:', len(temp[temp['key']>=2500]['key'].unique()))\n",
    "print('Количество измерений температуры после 2500-й партии:', temp[temp['key']>=2500]['Температура'].count())"
   ]
  },
  {
   "cell_type": "markdown",
   "id": "c916c435",
   "metadata": {},
   "source": [
    "Предположение верно. Придется удалить информацию по этим партиям."
   ]
  },
  {
   "cell_type": "code",
   "execution_count": 29,
   "id": "2f97d865",
   "metadata": {},
   "outputs": [],
   "source": [
    "temp_eda = {'длина': len(temp), 'пропуски': 'есть', 'тип данных': 'есть', 'аномалии': 'есть',\n",
    "            'партий': len(temp['key'].unique())}"
   ]
  },
  {
   "cell_type": "markdown",
   "id": "c89e0ded",
   "metadata": {},
   "source": [
    "##### Проволочные материалы"
   ]
  },
  {
   "cell_type": "code",
   "execution_count": 30,
   "id": "9bc9dcbe",
   "metadata": {},
   "outputs": [
    {
     "data": {
      "text/html": [
       "<div>\n",
       "<style scoped>\n",
       "    .dataframe tbody tr th:only-of-type {\n",
       "        vertical-align: middle;\n",
       "    }\n",
       "\n",
       "    .dataframe tbody tr th {\n",
       "        vertical-align: top;\n",
       "    }\n",
       "\n",
       "    .dataframe thead th {\n",
       "        text-align: right;\n",
       "    }\n",
       "</style>\n",
       "<table border=\"1\" class=\"dataframe\">\n",
       "  <thead>\n",
       "    <tr style=\"text-align: right;\">\n",
       "      <th></th>\n",
       "      <th>key</th>\n",
       "      <th>Wire 1</th>\n",
       "      <th>Wire 2</th>\n",
       "      <th>Wire 3</th>\n",
       "      <th>Wire 4</th>\n",
       "      <th>Wire 5</th>\n",
       "      <th>Wire 6</th>\n",
       "      <th>Wire 7</th>\n",
       "      <th>Wire 8</th>\n",
       "      <th>Wire 9</th>\n",
       "    </tr>\n",
       "  </thead>\n",
       "  <tbody>\n",
       "    <tr>\n",
       "      <th>0</th>\n",
       "      <td>1</td>\n",
       "      <td>60.059998</td>\n",
       "      <td>NaN</td>\n",
       "      <td>NaN</td>\n",
       "      <td>NaN</td>\n",
       "      <td>NaN</td>\n",
       "      <td>NaN</td>\n",
       "      <td>NaN</td>\n",
       "      <td>NaN</td>\n",
       "      <td>NaN</td>\n",
       "    </tr>\n",
       "    <tr>\n",
       "      <th>1</th>\n",
       "      <td>2</td>\n",
       "      <td>96.052315</td>\n",
       "      <td>NaN</td>\n",
       "      <td>NaN</td>\n",
       "      <td>NaN</td>\n",
       "      <td>NaN</td>\n",
       "      <td>NaN</td>\n",
       "      <td>NaN</td>\n",
       "      <td>NaN</td>\n",
       "      <td>NaN</td>\n",
       "    </tr>\n",
       "    <tr>\n",
       "      <th>2</th>\n",
       "      <td>3</td>\n",
       "      <td>91.160157</td>\n",
       "      <td>NaN</td>\n",
       "      <td>NaN</td>\n",
       "      <td>NaN</td>\n",
       "      <td>NaN</td>\n",
       "      <td>NaN</td>\n",
       "      <td>NaN</td>\n",
       "      <td>NaN</td>\n",
       "      <td>NaN</td>\n",
       "    </tr>\n",
       "  </tbody>\n",
       "</table>\n",
       "</div>"
      ],
      "text/plain": [
       "   key     Wire 1  Wire 2  Wire 3  Wire 4  Wire 5  Wire 6  Wire 7  Wire 8  \\\n",
       "0    1  60.059998     NaN     NaN     NaN     NaN     NaN     NaN     NaN   \n",
       "1    2  96.052315     NaN     NaN     NaN     NaN     NaN     NaN     NaN   \n",
       "2    3  91.160157     NaN     NaN     NaN     NaN     NaN     NaN     NaN   \n",
       "\n",
       "   Wire 9  \n",
       "0     NaN  \n",
       "1     NaN  \n",
       "2     NaN  "
      ]
     },
     "metadata": {},
     "output_type": "display_data"
    },
    {
     "name": "stdout",
     "output_type": "stream",
     "text": [
      "<class 'pandas.core.frame.DataFrame'>\n",
      "RangeIndex: 3081 entries, 0 to 3080\n",
      "Data columns (total 10 columns):\n",
      " #   Column  Non-Null Count  Dtype  \n",
      "---  ------  --------------  -----  \n",
      " 0   key     3081 non-null   int64  \n",
      " 1   Wire 1  3055 non-null   float64\n",
      " 2   Wire 2  1079 non-null   float64\n",
      " 3   Wire 3  63 non-null     float64\n",
      " 4   Wire 4  14 non-null     float64\n",
      " 5   Wire 5  1 non-null      float64\n",
      " 6   Wire 6  73 non-null     float64\n",
      " 7   Wire 7  11 non-null     float64\n",
      " 8   Wire 8  19 non-null     float64\n",
      " 9   Wire 9  29 non-null     float64\n",
      "dtypes: float64(9), int64(1)\n",
      "memory usage: 240.8 KB\n"
     ]
    },
    {
     "data": {
      "text/html": [
       "<div>\n",
       "<style scoped>\n",
       "    .dataframe tbody tr th:only-of-type {\n",
       "        vertical-align: middle;\n",
       "    }\n",
       "\n",
       "    .dataframe tbody tr th {\n",
       "        vertical-align: top;\n",
       "    }\n",
       "\n",
       "    .dataframe thead th {\n",
       "        text-align: right;\n",
       "    }\n",
       "</style>\n",
       "<table border=\"1\" class=\"dataframe\">\n",
       "  <thead>\n",
       "    <tr style=\"text-align: right;\">\n",
       "      <th></th>\n",
       "      <th>key</th>\n",
       "      <th>Wire 1</th>\n",
       "      <th>Wire 2</th>\n",
       "      <th>Wire 3</th>\n",
       "      <th>Wire 4</th>\n",
       "      <th>Wire 5</th>\n",
       "      <th>Wire 6</th>\n",
       "      <th>Wire 7</th>\n",
       "      <th>Wire 8</th>\n",
       "      <th>Wire 9</th>\n",
       "    </tr>\n",
       "  </thead>\n",
       "  <tbody>\n",
       "    <tr>\n",
       "      <th>count</th>\n",
       "      <td>3081.000000</td>\n",
       "      <td>3055.000000</td>\n",
       "      <td>1079.000000</td>\n",
       "      <td>63.000000</td>\n",
       "      <td>14.000000</td>\n",
       "      <td>1.000</td>\n",
       "      <td>73.000000</td>\n",
       "      <td>11.000000</td>\n",
       "      <td>19.000000</td>\n",
       "      <td>29.000000</td>\n",
       "    </tr>\n",
       "    <tr>\n",
       "      <th>mean</th>\n",
       "      <td>1623.426485</td>\n",
       "      <td>100.895853</td>\n",
       "      <td>50.577323</td>\n",
       "      <td>189.482681</td>\n",
       "      <td>57.442841</td>\n",
       "      <td>15.132</td>\n",
       "      <td>48.016974</td>\n",
       "      <td>10.039007</td>\n",
       "      <td>53.625193</td>\n",
       "      <td>34.155752</td>\n",
       "    </tr>\n",
       "    <tr>\n",
       "      <th>std</th>\n",
       "      <td>932.996726</td>\n",
       "      <td>42.012518</td>\n",
       "      <td>39.320216</td>\n",
       "      <td>99.513444</td>\n",
       "      <td>28.824667</td>\n",
       "      <td>NaN</td>\n",
       "      <td>33.919845</td>\n",
       "      <td>8.610584</td>\n",
       "      <td>16.881728</td>\n",
       "      <td>19.931616</td>\n",
       "    </tr>\n",
       "    <tr>\n",
       "      <th>min</th>\n",
       "      <td>1.000000</td>\n",
       "      <td>1.918800</td>\n",
       "      <td>0.030160</td>\n",
       "      <td>0.144144</td>\n",
       "      <td>24.148801</td>\n",
       "      <td>15.132</td>\n",
       "      <td>0.034320</td>\n",
       "      <td>0.234208</td>\n",
       "      <td>45.076721</td>\n",
       "      <td>4.622800</td>\n",
       "    </tr>\n",
       "    <tr>\n",
       "      <th>25%</th>\n",
       "      <td>823.000000</td>\n",
       "      <td>72.115684</td>\n",
       "      <td>20.193680</td>\n",
       "      <td>95.135044</td>\n",
       "      <td>40.807002</td>\n",
       "      <td>15.132</td>\n",
       "      <td>25.053600</td>\n",
       "      <td>6.762756</td>\n",
       "      <td>46.094879</td>\n",
       "      <td>22.058401</td>\n",
       "    </tr>\n",
       "    <tr>\n",
       "      <th>50%</th>\n",
       "      <td>1619.000000</td>\n",
       "      <td>100.158234</td>\n",
       "      <td>40.142956</td>\n",
       "      <td>235.194977</td>\n",
       "      <td>45.234282</td>\n",
       "      <td>15.132</td>\n",
       "      <td>42.076324</td>\n",
       "      <td>9.017009</td>\n",
       "      <td>46.279999</td>\n",
       "      <td>30.066399</td>\n",
       "    </tr>\n",
       "    <tr>\n",
       "      <th>75%</th>\n",
       "      <td>2434.000000</td>\n",
       "      <td>126.060483</td>\n",
       "      <td>70.227558</td>\n",
       "      <td>276.252014</td>\n",
       "      <td>76.124619</td>\n",
       "      <td>15.132</td>\n",
       "      <td>64.212723</td>\n",
       "      <td>11.886057</td>\n",
       "      <td>48.089603</td>\n",
       "      <td>43.862003</td>\n",
       "    </tr>\n",
       "    <tr>\n",
       "      <th>max</th>\n",
       "      <td>3241.000000</td>\n",
       "      <td>330.314424</td>\n",
       "      <td>282.780152</td>\n",
       "      <td>385.008668</td>\n",
       "      <td>113.231044</td>\n",
       "      <td>15.132</td>\n",
       "      <td>180.454575</td>\n",
       "      <td>32.847674</td>\n",
       "      <td>102.762401</td>\n",
       "      <td>90.053604</td>\n",
       "    </tr>\n",
       "  </tbody>\n",
       "</table>\n",
       "</div>"
      ],
      "text/plain": [
       "               key       Wire 1       Wire 2      Wire 3      Wire 4  Wire 5  \\\n",
       "count  3081.000000  3055.000000  1079.000000   63.000000   14.000000   1.000   \n",
       "mean   1623.426485   100.895853    50.577323  189.482681   57.442841  15.132   \n",
       "std     932.996726    42.012518    39.320216   99.513444   28.824667     NaN   \n",
       "min       1.000000     1.918800     0.030160    0.144144   24.148801  15.132   \n",
       "25%     823.000000    72.115684    20.193680   95.135044   40.807002  15.132   \n",
       "50%    1619.000000   100.158234    40.142956  235.194977   45.234282  15.132   \n",
       "75%    2434.000000   126.060483    70.227558  276.252014   76.124619  15.132   \n",
       "max    3241.000000   330.314424   282.780152  385.008668  113.231044  15.132   \n",
       "\n",
       "           Wire 6     Wire 7      Wire 8     Wire 9  \n",
       "count   73.000000  11.000000   19.000000  29.000000  \n",
       "mean    48.016974  10.039007   53.625193  34.155752  \n",
       "std     33.919845   8.610584   16.881728  19.931616  \n",
       "min      0.034320   0.234208   45.076721   4.622800  \n",
       "25%     25.053600   6.762756   46.094879  22.058401  \n",
       "50%     42.076324   9.017009   46.279999  30.066399  \n",
       "75%     64.212723  11.886057   48.089603  43.862003  \n",
       "max    180.454575  32.847674  102.762401  90.053604  "
      ]
     },
     "metadata": {},
     "output_type": "display_data"
    },
    {
     "name": "stdout",
     "output_type": "stream",
     "text": [
      "Уникальных номеров партии: 3081\n"
     ]
    }
   ],
   "source": [
    "first_look(wire)"
   ]
  },
  {
   "cell_type": "code",
   "execution_count": 31,
   "id": "840b2831",
   "metadata": {},
   "outputs": [
    {
     "data": {
      "image/png": "[encoded data removed]",
      "text/plain": [
       "<Figure size 1296x864 with 1 Axes>"
      ]
     },
     "metadata": {
      "needs_background": "light"
     },
     "output_type": "display_data"
    }
   ],
   "source": [
    "plot = wire.loc[:, wire.columns !='key'].boxplot(figsize = (18,12));\n",
    "plt.title('Проволочные материалы');\n",
    "plt.ylabel('Масса, кг')\n",
    "plt.show()"
   ]
  },
  {
   "cell_type": "markdown",
   "id": "539ac827",
   "metadata": {},
   "source": [
    "Проволочные добавки, видимо, тоже в килограммах. Есть пропуски, заменим их на 0 на этапе предобработки, значения положительны и не превышают 400.\n",
    "\n",
    "Есть выбросы, но ничего криминального. Единичные выбросы у добавок 6-9 можно объяснить небольшим количеством данных вообще (меньше 100 объектов)."
   ]
  },
  {
   "cell_type": "code",
   "execution_count": 32,
   "id": "00149c5d",
   "metadata": {},
   "outputs": [],
   "source": [
    "wire_eda = {'длина': len(wire), 'пропуски': 'есть', 'тип данных': 'нет', 'аномалии': 'нет', 'партий': len(wire['key'].unique())}"
   ]
  },
  {
   "cell_type": "code",
   "execution_count": 33,
   "id": "d56f0f29",
   "metadata": {},
   "outputs": [
    {
     "data": {
      "text/html": [
       "<div>\n",
       "<style scoped>\n",
       "    .dataframe tbody tr th:only-of-type {\n",
       "        vertical-align: middle;\n",
       "    }\n",
       "\n",
       "    .dataframe tbody tr th {\n",
       "        vertical-align: top;\n",
       "    }\n",
       "\n",
       "    .dataframe thead th {\n",
       "        text-align: right;\n",
       "    }\n",
       "</style>\n",
       "<table border=\"1\" class=\"dataframe\">\n",
       "  <thead>\n",
       "    <tr style=\"text-align: right;\">\n",
       "      <th></th>\n",
       "      <th>key</th>\n",
       "      <th>Wire 1</th>\n",
       "      <th>Wire 2</th>\n",
       "      <th>Wire 3</th>\n",
       "      <th>Wire 4</th>\n",
       "      <th>Wire 5</th>\n",
       "      <th>Wire 6</th>\n",
       "      <th>Wire 7</th>\n",
       "      <th>Wire 8</th>\n",
       "      <th>Wire 9</th>\n",
       "    </tr>\n",
       "  </thead>\n",
       "  <tbody>\n",
       "    <tr>\n",
       "      <th>0</th>\n",
       "      <td>1</td>\n",
       "      <td>2019-05-03 11:06:19</td>\n",
       "      <td>NaN</td>\n",
       "      <td>NaN</td>\n",
       "      <td>NaN</td>\n",
       "      <td>NaN</td>\n",
       "      <td>NaN</td>\n",
       "      <td>NaN</td>\n",
       "      <td>NaN</td>\n",
       "      <td>NaN</td>\n",
       "    </tr>\n",
       "    <tr>\n",
       "      <th>1</th>\n",
       "      <td>2</td>\n",
       "      <td>2019-05-03 11:36:50</td>\n",
       "      <td>NaN</td>\n",
       "      <td>NaN</td>\n",
       "      <td>NaN</td>\n",
       "      <td>NaN</td>\n",
       "      <td>NaN</td>\n",
       "      <td>NaN</td>\n",
       "      <td>NaN</td>\n",
       "      <td>NaN</td>\n",
       "    </tr>\n",
       "    <tr>\n",
       "      <th>2</th>\n",
       "      <td>3</td>\n",
       "      <td>2019-05-03 12:11:46</td>\n",
       "      <td>NaN</td>\n",
       "      <td>NaN</td>\n",
       "      <td>NaN</td>\n",
       "      <td>NaN</td>\n",
       "      <td>NaN</td>\n",
       "      <td>NaN</td>\n",
       "      <td>NaN</td>\n",
       "      <td>NaN</td>\n",
       "    </tr>\n",
       "  </tbody>\n",
       "</table>\n",
       "</div>"
      ],
      "text/plain": [
       "   key               Wire 1 Wire 2 Wire 3 Wire 4 Wire 5 Wire 6 Wire 7 Wire 8  \\\n",
       "0    1  2019-05-03 11:06:19    NaN    NaN    NaN    NaN    NaN    NaN    NaN   \n",
       "1    2  2019-05-03 11:36:50    NaN    NaN    NaN    NaN    NaN    NaN    NaN   \n",
       "2    3  2019-05-03 12:11:46    NaN    NaN    NaN    NaN    NaN    NaN    NaN   \n",
       "\n",
       "  Wire 9  \n",
       "0    NaN  \n",
       "1    NaN  \n",
       "2    NaN  "
      ]
     },
     "metadata": {},
     "output_type": "display_data"
    },
    {
     "name": "stdout",
     "output_type": "stream",
     "text": [
      "<class 'pandas.core.frame.DataFrame'>\n",
      "RangeIndex: 3081 entries, 0 to 3080\n",
      "Data columns (total 10 columns):\n",
      " #   Column  Non-Null Count  Dtype \n",
      "---  ------  --------------  ----- \n",
      " 0   key     3081 non-null   int64 \n",
      " 1   Wire 1  3055 non-null   object\n",
      " 2   Wire 2  1079 non-null   object\n",
      " 3   Wire 3  63 non-null     object\n",
      " 4   Wire 4  14 non-null     object\n",
      " 5   Wire 5  1 non-null      object\n",
      " 6   Wire 6  73 non-null     object\n",
      " 7   Wire 7  11 non-null     object\n",
      " 8   Wire 8  19 non-null     object\n",
      " 9   Wire 9  29 non-null     object\n",
      "dtypes: int64(1), object(9)\n",
      "memory usage: 240.8+ KB\n"
     ]
    },
    {
     "data": {
      "text/html": [
       "<div>\n",
       "<style scoped>\n",
       "    .dataframe tbody tr th:only-of-type {\n",
       "        vertical-align: middle;\n",
       "    }\n",
       "\n",
       "    .dataframe tbody tr th {\n",
       "        vertical-align: top;\n",
       "    }\n",
       "\n",
       "    .dataframe thead th {\n",
       "        text-align: right;\n",
       "    }\n",
       "</style>\n",
       "<table border=\"1\" class=\"dataframe\">\n",
       "  <thead>\n",
       "    <tr style=\"text-align: right;\">\n",
       "      <th></th>\n",
       "      <th>key</th>\n",
       "      <th>Wire 1</th>\n",
       "      <th>Wire 2</th>\n",
       "      <th>Wire 3</th>\n",
       "      <th>Wire 4</th>\n",
       "      <th>Wire 5</th>\n",
       "      <th>Wire 6</th>\n",
       "      <th>Wire 7</th>\n",
       "      <th>Wire 8</th>\n",
       "      <th>Wire 9</th>\n",
       "    </tr>\n",
       "  </thead>\n",
       "  <tbody>\n",
       "    <tr>\n",
       "      <th>count</th>\n",
       "      <td>3081.000000</td>\n",
       "      <td>3055</td>\n",
       "      <td>1079</td>\n",
       "      <td>63</td>\n",
       "      <td>14</td>\n",
       "      <td>1</td>\n",
       "      <td>73</td>\n",
       "      <td>11</td>\n",
       "      <td>19</td>\n",
       "      <td>29</td>\n",
       "    </tr>\n",
       "    <tr>\n",
       "      <th>unique</th>\n",
       "      <td>NaN</td>\n",
       "      <td>3055</td>\n",
       "      <td>1079</td>\n",
       "      <td>63</td>\n",
       "      <td>14</td>\n",
       "      <td>1</td>\n",
       "      <td>73</td>\n",
       "      <td>11</td>\n",
       "      <td>19</td>\n",
       "      <td>29</td>\n",
       "    </tr>\n",
       "    <tr>\n",
       "      <th>top</th>\n",
       "      <td>NaN</td>\n",
       "      <td>2019-06-21 18:05:08</td>\n",
       "      <td>2019-08-07 19:28:01</td>\n",
       "      <td>2019-08-13 07:52:42</td>\n",
       "      <td>2019-05-07 23:21:42</td>\n",
       "      <td>2019-08-13 06:14:30</td>\n",
       "      <td>2019-07-28 15:57:59</td>\n",
       "      <td>2019-08-13 01:13:45</td>\n",
       "      <td>2019-08-16 08:14:32</td>\n",
       "      <td>2019-07-05 00:44:55</td>\n",
       "    </tr>\n",
       "    <tr>\n",
       "      <th>freq</th>\n",
       "      <td>NaN</td>\n",
       "      <td>1</td>\n",
       "      <td>1</td>\n",
       "      <td>1</td>\n",
       "      <td>1</td>\n",
       "      <td>1</td>\n",
       "      <td>1</td>\n",
       "      <td>1</td>\n",
       "      <td>1</td>\n",
       "      <td>1</td>\n",
       "    </tr>\n",
       "    <tr>\n",
       "      <th>mean</th>\n",
       "      <td>1623.426485</td>\n",
       "      <td>NaN</td>\n",
       "      <td>NaN</td>\n",
       "      <td>NaN</td>\n",
       "      <td>NaN</td>\n",
       "      <td>NaN</td>\n",
       "      <td>NaN</td>\n",
       "      <td>NaN</td>\n",
       "      <td>NaN</td>\n",
       "      <td>NaN</td>\n",
       "    </tr>\n",
       "    <tr>\n",
       "      <th>std</th>\n",
       "      <td>932.996726</td>\n",
       "      <td>NaN</td>\n",
       "      <td>NaN</td>\n",
       "      <td>NaN</td>\n",
       "      <td>NaN</td>\n",
       "      <td>NaN</td>\n",
       "      <td>NaN</td>\n",
       "      <td>NaN</td>\n",
       "      <td>NaN</td>\n",
       "      <td>NaN</td>\n",
       "    </tr>\n",
       "    <tr>\n",
       "      <th>min</th>\n",
       "      <td>1.000000</td>\n",
       "      <td>NaN</td>\n",
       "      <td>NaN</td>\n",
       "      <td>NaN</td>\n",
       "      <td>NaN</td>\n",
       "      <td>NaN</td>\n",
       "      <td>NaN</td>\n",
       "      <td>NaN</td>\n",
       "      <td>NaN</td>\n",
       "      <td>NaN</td>\n",
       "    </tr>\n",
       "    <tr>\n",
       "      <th>25%</th>\n",
       "      <td>823.000000</td>\n",
       "      <td>NaN</td>\n",
       "      <td>NaN</td>\n",
       "      <td>NaN</td>\n",
       "      <td>NaN</td>\n",
       "      <td>NaN</td>\n",
       "      <td>NaN</td>\n",
       "      <td>NaN</td>\n",
       "      <td>NaN</td>\n",
       "      <td>NaN</td>\n",
       "    </tr>\n",
       "    <tr>\n",
       "      <th>50%</th>\n",
       "      <td>1619.000000</td>\n",
       "      <td>NaN</td>\n",
       "      <td>NaN</td>\n",
       "      <td>NaN</td>\n",
       "      <td>NaN</td>\n",
       "      <td>NaN</td>\n",
       "      <td>NaN</td>\n",
       "      <td>NaN</td>\n",
       "      <td>NaN</td>\n",
       "      <td>NaN</td>\n",
       "    </tr>\n",
       "    <tr>\n",
       "      <th>75%</th>\n",
       "      <td>2434.000000</td>\n",
       "      <td>NaN</td>\n",
       "      <td>NaN</td>\n",
       "      <td>NaN</td>\n",
       "      <td>NaN</td>\n",
       "      <td>NaN</td>\n",
       "      <td>NaN</td>\n",
       "      <td>NaN</td>\n",
       "      <td>NaN</td>\n",
       "      <td>NaN</td>\n",
       "    </tr>\n",
       "    <tr>\n",
       "      <th>max</th>\n",
       "      <td>3241.000000</td>\n",
       "      <td>NaN</td>\n",
       "      <td>NaN</td>\n",
       "      <td>NaN</td>\n",
       "      <td>NaN</td>\n",
       "      <td>NaN</td>\n",
       "      <td>NaN</td>\n",
       "      <td>NaN</td>\n",
       "      <td>NaN</td>\n",
       "      <td>NaN</td>\n",
       "    </tr>\n",
       "  </tbody>\n",
       "</table>\n",
       "</div>"
      ],
      "text/plain": [
       "                key               Wire 1               Wire 2  \\\n",
       "count   3081.000000                 3055                 1079   \n",
       "unique          NaN                 3055                 1079   \n",
       "top             NaN  2019-06-21 18:05:08  2019-08-07 19:28:01   \n",
       "freq            NaN                    1                    1   \n",
       "mean    1623.426485                  NaN                  NaN   \n",
       "std      932.996726                  NaN                  NaN   \n",
       "min        1.000000                  NaN                  NaN   \n",
       "25%      823.000000                  NaN                  NaN   \n",
       "50%     1619.000000                  NaN                  NaN   \n",
       "75%     2434.000000                  NaN                  NaN   \n",
       "max     3241.000000                  NaN                  NaN   \n",
       "\n",
       "                     Wire 3               Wire 4               Wire 5  \\\n",
       "count                    63                   14                    1   \n",
       "unique                   63                   14                    1   \n",
       "top     2019-08-13 07:52:42  2019-05-07 23:21:42  2019-08-13 06:14:30   \n",
       "freq                      1                    1                    1   \n",
       "mean                    NaN                  NaN                  NaN   \n",
       "std                     NaN                  NaN                  NaN   \n",
       "min                     NaN                  NaN                  NaN   \n",
       "25%                     NaN                  NaN                  NaN   \n",
       "50%                     NaN                  NaN                  NaN   \n",
       "75%                     NaN                  NaN                  NaN   \n",
       "max                     NaN                  NaN                  NaN   \n",
       "\n",
       "                     Wire 6               Wire 7               Wire 8  \\\n",
       "count                    73                   11                   19   \n",
       "unique                   73                   11                   19   \n",
       "top     2019-07-28 15:57:59  2019-08-13 01:13:45  2019-08-16 08:14:32   \n",
       "freq                      1                    1                    1   \n",
       "mean                    NaN                  NaN                  NaN   \n",
       "std                     NaN                  NaN                  NaN   \n",
       "min                     NaN                  NaN                  NaN   \n",
       "25%                     NaN                  NaN                  NaN   \n",
       "50%                     NaN                  NaN                  NaN   \n",
       "75%                     NaN                  NaN                  NaN   \n",
       "max                     NaN                  NaN                  NaN   \n",
       "\n",
       "                     Wire 9  \n",
       "count                    29  \n",
       "unique                   29  \n",
       "top     2019-07-05 00:44:55  \n",
       "freq                      1  \n",
       "mean                    NaN  \n",
       "std                     NaN  \n",
       "min                     NaN  \n",
       "25%                     NaN  \n",
       "50%                     NaN  \n",
       "75%                     NaN  \n",
       "max                     NaN  "
      ]
     },
     "metadata": {},
     "output_type": "display_data"
    },
    {
     "name": "stdout",
     "output_type": "stream",
     "text": [
      "Уникальных номеров партии: 3081\n"
     ]
    }
   ],
   "source": [
    "first_look(wire_time)"
   ]
  },
  {
   "cell_type": "code",
   "execution_count": 34,
   "id": "0c1507f1",
   "metadata": {},
   "outputs": [
    {
     "data": {
      "text/plain": [
       "key       3081\n",
       "Wire 1    3081\n",
       "Wire 2    3081\n",
       "Wire 3    3081\n",
       "Wire 4    3081\n",
       "Wire 5    3081\n",
       "Wire 6    3081\n",
       "Wire 7    3081\n",
       "Wire 8    3081\n",
       "Wire 9    3081\n",
       "dtype: int64"
      ]
     },
     "execution_count": 34,
     "metadata": {},
     "output_type": "execute_result"
    }
   ],
   "source": [
    "(wire.isna()==wire_time.isna()).sum()"
   ]
  },
  {
   "cell_type": "markdown",
   "id": "7addb2a9",
   "metadata": {},
   "source": [
    "Времена для проволочных добавок. Пропуски полностью совпадают с *wire*, типы нужно перевести в *datetime*, аномалий не видно."
   ]
  },
  {
   "cell_type": "code",
   "execution_count": 35,
   "id": "94a23152",
   "metadata": {},
   "outputs": [],
   "source": [
    "wire_time_eda = {'длина': len(wire_time), 'пропуски': 'есть', 'тип данных': 'есть', 'аномалии': 'нет', \n",
    "                 'партий': len(wire_time['key'].unique())}"
   ]
  },
  {
   "cell_type": "markdown",
   "id": "1aae564a",
   "metadata": {},
   "source": [
    "_______"
   ]
  },
  {
   "cell_type": "code",
   "execution_count": 36,
   "id": "ab3806b5",
   "metadata": {},
   "outputs": [],
   "source": [
    "eda_review = pd.DataFrame([arc_eda, bulk_eda, bulk_time_eda, gas_eda, temp_eda, wire_eda, wire_time_eda],\n",
    "                          index = ['arc', 'bulk', 'bulk_time', 'gas', 'temp', 'wire', 'wire_time'])"
   ]
  },
  {
   "cell_type": "code",
   "execution_count": 37,
   "id": "18b1d6c7",
   "metadata": {},
   "outputs": [
    {
     "data": {
      "text/html": [
       "<div>\n",
       "<style scoped>\n",
       "    .dataframe tbody tr th:only-of-type {\n",
       "        vertical-align: middle;\n",
       "    }\n",
       "\n",
       "    .dataframe tbody tr th {\n",
       "        vertical-align: top;\n",
       "    }\n",
       "\n",
       "    .dataframe thead th {\n",
       "        text-align: right;\n",
       "    }\n",
       "</style>\n",
       "<table border=\"1\" class=\"dataframe\">\n",
       "  <thead>\n",
       "    <tr style=\"text-align: right;\">\n",
       "      <th></th>\n",
       "      <th>длина</th>\n",
       "      <th>пропуски</th>\n",
       "      <th>тип данных</th>\n",
       "      <th>аномалии</th>\n",
       "      <th>партий</th>\n",
       "    </tr>\n",
       "  </thead>\n",
       "  <tbody>\n",
       "    <tr>\n",
       "      <th>arc</th>\n",
       "      <td>14876</td>\n",
       "      <td>нет</td>\n",
       "      <td>есть</td>\n",
       "      <td>есть</td>\n",
       "      <td>3214</td>\n",
       "    </tr>\n",
       "    <tr>\n",
       "      <th>bulk</th>\n",
       "      <td>3129</td>\n",
       "      <td>есть</td>\n",
       "      <td>нет</td>\n",
       "      <td>нет</td>\n",
       "      <td>3129</td>\n",
       "    </tr>\n",
       "    <tr>\n",
       "      <th>bulk_time</th>\n",
       "      <td>3129</td>\n",
       "      <td>есть</td>\n",
       "      <td>есть</td>\n",
       "      <td>нет</td>\n",
       "      <td>3129</td>\n",
       "    </tr>\n",
       "    <tr>\n",
       "      <th>gas</th>\n",
       "      <td>3239</td>\n",
       "      <td>нет</td>\n",
       "      <td>нет</td>\n",
       "      <td>нет</td>\n",
       "      <td>3239</td>\n",
       "    </tr>\n",
       "    <tr>\n",
       "      <th>temp</th>\n",
       "      <td>18092</td>\n",
       "      <td>есть</td>\n",
       "      <td>есть</td>\n",
       "      <td>есть</td>\n",
       "      <td>3216</td>\n",
       "    </tr>\n",
       "    <tr>\n",
       "      <th>wire</th>\n",
       "      <td>3081</td>\n",
       "      <td>есть</td>\n",
       "      <td>нет</td>\n",
       "      <td>нет</td>\n",
       "      <td>3081</td>\n",
       "    </tr>\n",
       "    <tr>\n",
       "      <th>wire_time</th>\n",
       "      <td>3081</td>\n",
       "      <td>есть</td>\n",
       "      <td>есть</td>\n",
       "      <td>нет</td>\n",
       "      <td>3081</td>\n",
       "    </tr>\n",
       "  </tbody>\n",
       "</table>\n",
       "</div>"
      ],
      "text/plain": [
       "           длина пропуски тип данных аномалии  партий\n",
       "arc        14876      нет       есть     есть    3214\n",
       "bulk        3129     есть        нет      нет    3129\n",
       "bulk_time   3129     есть       есть      нет    3129\n",
       "gas         3239      нет        нет      нет    3239\n",
       "temp       18092     есть       есть     есть    3216\n",
       "wire        3081     есть        нет      нет    3081\n",
       "wire_time   3081     есть       есть      нет    3081"
      ]
     },
     "execution_count": 37,
     "metadata": {},
     "output_type": "execute_result"
    }
   ],
   "source": [
    "eda_review"
   ]
  },
  {
   "cell_type": "markdown",
   "id": "b4e781bf",
   "metadata": {},
   "source": [
    "Было бы неплохо сгруппировать данные по партиям и объединить. Найдем номера партий, входящие во все датасеты."
   ]
  },
  {
   "cell_type": "code",
   "execution_count": 38,
   "id": "41b0247f",
   "metadata": {},
   "outputs": [
    {
     "data": {
      "text/plain": [
       "3022"
      ]
     },
     "execution_count": 38,
     "metadata": {},
     "output_type": "execute_result"
    }
   ],
   "source": [
    "common_keys = set(arc['key']) & set(bulk['key']) & set(gas['key']) & set(temp['key']) & set(wire['key'])\n",
    "len(common_keys)"
   ]
  },
  {
   "cell_type": "markdown",
   "id": "a9192193",
   "metadata": {},
   "source": [
    "Посмотрим, сколько данных придется удалить, если оставить только общие партии."
   ]
  },
  {
   "cell_type": "code",
   "execution_count": 39,
   "id": "b5985fc9",
   "metadata": {},
   "outputs": [],
   "source": [
    "new_lengths = []\n",
    "for df in [arc, bulk, bulk_time, gas, temp, wire, wire_time]:\n",
    "    new_length = len(df[df['key'].isin(common_keys)])\n",
    "    new_lengths.append(new_length)\n",
    "eda_review['новая длина'] = new_lengths\n",
    "eda_review['процент'] = round(100*(eda_review['длина'] - eda_review['новая длина'])/eda_review['длина'], 2)"
   ]
  },
  {
   "cell_type": "code",
   "execution_count": 40,
   "id": "bb3f5c80",
   "metadata": {},
   "outputs": [
    {
     "data": {
      "text/html": [
       "<div>\n",
       "<style scoped>\n",
       "    .dataframe tbody tr th:only-of-type {\n",
       "        vertical-align: middle;\n",
       "    }\n",
       "\n",
       "    .dataframe tbody tr th {\n",
       "        vertical-align: top;\n",
       "    }\n",
       "\n",
       "    .dataframe thead th {\n",
       "        text-align: right;\n",
       "    }\n",
       "</style>\n",
       "<table border=\"1\" class=\"dataframe\">\n",
       "  <thead>\n",
       "    <tr style=\"text-align: right;\">\n",
       "      <th></th>\n",
       "      <th>длина</th>\n",
       "      <th>пропуски</th>\n",
       "      <th>тип данных</th>\n",
       "      <th>аномалии</th>\n",
       "      <th>партий</th>\n",
       "      <th>новая длина</th>\n",
       "      <th>процент</th>\n",
       "    </tr>\n",
       "  </thead>\n",
       "  <tbody>\n",
       "    <tr>\n",
       "      <th>arc</th>\n",
       "      <td>14876</td>\n",
       "      <td>нет</td>\n",
       "      <td>есть</td>\n",
       "      <td>есть</td>\n",
       "      <td>3214</td>\n",
       "      <td>14200</td>\n",
       "      <td>4.54</td>\n",
       "    </tr>\n",
       "    <tr>\n",
       "      <th>bulk</th>\n",
       "      <td>3129</td>\n",
       "      <td>есть</td>\n",
       "      <td>нет</td>\n",
       "      <td>нет</td>\n",
       "      <td>3129</td>\n",
       "      <td>3022</td>\n",
       "      <td>3.42</td>\n",
       "    </tr>\n",
       "    <tr>\n",
       "      <th>bulk_time</th>\n",
       "      <td>3129</td>\n",
       "      <td>есть</td>\n",
       "      <td>есть</td>\n",
       "      <td>нет</td>\n",
       "      <td>3129</td>\n",
       "      <td>3022</td>\n",
       "      <td>3.42</td>\n",
       "    </tr>\n",
       "    <tr>\n",
       "      <th>gas</th>\n",
       "      <td>3239</td>\n",
       "      <td>нет</td>\n",
       "      <td>нет</td>\n",
       "      <td>нет</td>\n",
       "      <td>3239</td>\n",
       "      <td>3022</td>\n",
       "      <td>6.70</td>\n",
       "    </tr>\n",
       "    <tr>\n",
       "      <th>temp</th>\n",
       "      <td>18092</td>\n",
       "      <td>есть</td>\n",
       "      <td>есть</td>\n",
       "      <td>есть</td>\n",
       "      <td>3216</td>\n",
       "      <td>17222</td>\n",
       "      <td>4.81</td>\n",
       "    </tr>\n",
       "    <tr>\n",
       "      <th>wire</th>\n",
       "      <td>3081</td>\n",
       "      <td>есть</td>\n",
       "      <td>нет</td>\n",
       "      <td>нет</td>\n",
       "      <td>3081</td>\n",
       "      <td>3022</td>\n",
       "      <td>1.91</td>\n",
       "    </tr>\n",
       "    <tr>\n",
       "      <th>wire_time</th>\n",
       "      <td>3081</td>\n",
       "      <td>есть</td>\n",
       "      <td>есть</td>\n",
       "      <td>нет</td>\n",
       "      <td>3081</td>\n",
       "      <td>3022</td>\n",
       "      <td>1.91</td>\n",
       "    </tr>\n",
       "  </tbody>\n",
       "</table>\n",
       "</div>"
      ],
      "text/plain": [
       "           длина пропуски тип данных аномалии  партий  новая длина  процент\n",
       "arc        14876      нет       есть     есть    3214        14200     4.54\n",
       "bulk        3129     есть        нет      нет    3129         3022     3.42\n",
       "bulk_time   3129     есть       есть      нет    3129         3022     3.42\n",
       "gas         3239      нет        нет      нет    3239         3022     6.70\n",
       "temp       18092     есть       есть     есть    3216        17222     4.81\n",
       "wire        3081     есть        нет      нет    3081         3022     1.91\n",
       "wire_time   3081     есть       есть      нет    3081         3022     1.91"
      ]
     },
     "execution_count": 40,
     "metadata": {},
     "output_type": "execute_result"
    }
   ],
   "source": [
    "eda_review"
   ]
  },
  {
   "cell_type": "markdown",
   "id": "d39fc197",
   "metadata": {},
   "source": [
    "Если оставить только общие партии, удалено будет не более 7% данных."
   ]
  },
  {
   "cell_type": "markdown",
   "id": "ae208755",
   "metadata": {},
   "source": [
    "### Предобработка"
   ]
  },
  {
   "cell_type": "markdown",
   "id": "92e4bdea",
   "metadata": {},
   "source": [
    "Таблицы с временами подачи добавок использовать не будем. (т.к. описание проекта говоит, что \"Исходное условие задачи заведомо неполное и содержит лишнюю информацию.\", а эти времена - первые кандидаты на выброс.)\n"
   ]
  },
  {
   "cell_type": "markdown",
   "id": "c79c9381",
   "metadata": {},
   "source": [
    "##### Электроды"
   ]
  },
  {
   "cell_type": "markdown",
   "id": "a38b5107",
   "metadata": {},
   "source": [
    "В таблице *arc* есть две проблемы: тип данных у времени и аномалии в реактивной мощности. Разберемся с ними по очереди."
   ]
  },
  {
   "cell_type": "code",
   "execution_count": 41,
   "id": "2c2b9977",
   "metadata": {},
   "outputs": [
    {
     "data": {
      "text/html": [
       "<div>\n",
       "<style scoped>\n",
       "    .dataframe tbody tr th:only-of-type {\n",
       "        vertical-align: middle;\n",
       "    }\n",
       "\n",
       "    .dataframe tbody tr th {\n",
       "        vertical-align: top;\n",
       "    }\n",
       "\n",
       "    .dataframe thead th {\n",
       "        text-align: right;\n",
       "    }\n",
       "</style>\n",
       "<table border=\"1\" class=\"dataframe\">\n",
       "  <thead>\n",
       "    <tr style=\"text-align: right;\">\n",
       "      <th></th>\n",
       "      <th>key</th>\n",
       "      <th>Начало нагрева дугой</th>\n",
       "      <th>Конец нагрева дугой</th>\n",
       "      <th>Активная мощность</th>\n",
       "      <th>Реактивная мощность</th>\n",
       "    </tr>\n",
       "  </thead>\n",
       "  <tbody>\n",
       "    <tr>\n",
       "      <th>0</th>\n",
       "      <td>1</td>\n",
       "      <td>2019-05-03 11:02:14</td>\n",
       "      <td>2019-05-03 11:06:02</td>\n",
       "      <td>0.305130</td>\n",
       "      <td>0.211253</td>\n",
       "    </tr>\n",
       "    <tr>\n",
       "      <th>1</th>\n",
       "      <td>1</td>\n",
       "      <td>2019-05-03 11:07:28</td>\n",
       "      <td>2019-05-03 11:10:33</td>\n",
       "      <td>0.765658</td>\n",
       "      <td>0.477438</td>\n",
       "    </tr>\n",
       "    <tr>\n",
       "      <th>2</th>\n",
       "      <td>1</td>\n",
       "      <td>2019-05-03 11:11:44</td>\n",
       "      <td>2019-05-03 11:14:36</td>\n",
       "      <td>0.580313</td>\n",
       "      <td>0.430460</td>\n",
       "    </tr>\n",
       "    <tr>\n",
       "      <th>3</th>\n",
       "      <td>1</td>\n",
       "      <td>2019-05-03 11:18:14</td>\n",
       "      <td>2019-05-03 11:24:19</td>\n",
       "      <td>0.518496</td>\n",
       "      <td>0.379979</td>\n",
       "    </tr>\n",
       "    <tr>\n",
       "      <th>4</th>\n",
       "      <td>1</td>\n",
       "      <td>2019-05-03 11:26:09</td>\n",
       "      <td>2019-05-03 11:28:37</td>\n",
       "      <td>0.867133</td>\n",
       "      <td>0.643691</td>\n",
       "    </tr>\n",
       "  </tbody>\n",
       "</table>\n",
       "</div>"
      ],
      "text/plain": [
       "   key Начало нагрева дугой  Конец нагрева дугой  Активная мощность  \\\n",
       "0    1  2019-05-03 11:02:14  2019-05-03 11:06:02           0.305130   \n",
       "1    1  2019-05-03 11:07:28  2019-05-03 11:10:33           0.765658   \n",
       "2    1  2019-05-03 11:11:44  2019-05-03 11:14:36           0.580313   \n",
       "3    1  2019-05-03 11:18:14  2019-05-03 11:24:19           0.518496   \n",
       "4    1  2019-05-03 11:26:09  2019-05-03 11:28:37           0.867133   \n",
       "\n",
       "   Реактивная мощность  \n",
       "0             0.211253  \n",
       "1             0.477438  \n",
       "2             0.430460  \n",
       "3             0.379979  \n",
       "4             0.643691  "
      ]
     },
     "execution_count": 41,
     "metadata": {},
     "output_type": "execute_result"
    }
   ],
   "source": [
    "arc.head()"
   ]
  },
  {
   "cell_type": "code",
   "execution_count": 42,
   "id": "fbccb51e",
   "metadata": {},
   "outputs": [],
   "source": [
    "arc['Начало нагрева дугой'] = pd.to_datetime(arc['Начало нагрева дугой'], format='%Y-%m-%d %H:%M:%S')\n",
    "arc['Конец нагрева дугой'] = pd.to_datetime(arc['Конец нагрева дугой'], format='%Y-%m-%d %H:%M:%S')"
   ]
  },
  {
   "cell_type": "markdown",
   "id": "dd885157",
   "metadata": {},
   "source": [
    "Найдем средний коэффициент мощности."
   ]
  },
  {
   "cell_type": "code",
   "execution_count": 43,
   "id": "9590a02f",
   "metadata": {},
   "outputs": [
    {
     "data": {
      "text/plain": [
       "0.6666857956474631"
      ]
     },
     "execution_count": 43,
     "metadata": {},
     "output_type": "execute_result"
    }
   ],
   "source": [
    "tan_fi = (arc['Реактивная мощность']/arc['Активная мощность']).mean()\n",
    "tan_fi "
   ]
  },
  {
   "cell_type": "markdown",
   "id": "2e7a5255",
   "metadata": {},
   "source": [
    "Найдем проблемную запись и заменим ошибочное значение реактивной мозности на рассчитанное по активной и коэффициенту."
   ]
  },
  {
   "cell_type": "code",
   "execution_count": 44,
   "id": "2f5548ca",
   "metadata": {},
   "outputs": [
    {
     "data": {
      "text/html": [
       "<div>\n",
       "<style scoped>\n",
       "    .dataframe tbody tr th:only-of-type {\n",
       "        vertical-align: middle;\n",
       "    }\n",
       "\n",
       "    .dataframe tbody tr th {\n",
       "        vertical-align: top;\n",
       "    }\n",
       "\n",
       "    .dataframe thead th {\n",
       "        text-align: right;\n",
       "    }\n",
       "</style>\n",
       "<table border=\"1\" class=\"dataframe\">\n",
       "  <thead>\n",
       "    <tr style=\"text-align: right;\">\n",
       "      <th></th>\n",
       "      <th>key</th>\n",
       "      <th>Начало нагрева дугой</th>\n",
       "      <th>Конец нагрева дугой</th>\n",
       "      <th>Активная мощность</th>\n",
       "      <th>Реактивная мощность</th>\n",
       "    </tr>\n",
       "  </thead>\n",
       "  <tbody>\n",
       "    <tr>\n",
       "      <th>9780</th>\n",
       "      <td>2116</td>\n",
       "      <td>2019-07-28 02:22:08</td>\n",
       "      <td>2019-07-28 02:23:57</td>\n",
       "      <td>0.705344</td>\n",
       "      <td>-715.479924</td>\n",
       "    </tr>\n",
       "  </tbody>\n",
       "</table>\n",
       "</div>"
      ],
      "text/plain": [
       "       key Начало нагрева дугой Конец нагрева дугой  Активная мощность  \\\n",
       "9780  2116  2019-07-28 02:22:08 2019-07-28 02:23:57           0.705344   \n",
       "\n",
       "      Реактивная мощность  \n",
       "9780          -715.479924  "
      ]
     },
     "execution_count": 44,
     "metadata": {},
     "output_type": "execute_result"
    }
   ],
   "source": [
    "arc[arc['Реактивная мощность']<0]"
   ]
  },
  {
   "cell_type": "code",
   "execution_count": 45,
   "id": "45ff16ef",
   "metadata": {},
   "outputs": [],
   "source": [
    "arc.loc[9780, 'Реактивная мощность'] = arc.loc[9780]['Активная мощность']*tan_fi "
   ]
  },
  {
   "cell_type": "markdown",
   "id": "81ed03f9",
   "metadata": {},
   "source": [
    "Убедимся, что значение реактивной мощности и тип времен изменились."
   ]
  },
  {
   "cell_type": "code",
   "execution_count": 46,
   "id": "5587b535",
   "metadata": {},
   "outputs": [
    {
     "data": {
      "text/plain": [
       "key                                    2116\n",
       "Начало нагрева дугой    2019-07-28 02:22:08\n",
       "Конец нагрева дугой     2019-07-28 02:23:57\n",
       "Активная мощность                  0.705344\n",
       "Реактивная мощность                0.470243\n",
       "Name: 9780, dtype: object"
      ]
     },
     "execution_count": 46,
     "metadata": {},
     "output_type": "execute_result"
    }
   ],
   "source": [
    "arc.loc[9780]"
   ]
  },
  {
   "cell_type": "markdown",
   "id": "477e80cb",
   "metadata": {},
   "source": [
    "Добавим столбец с полной мощностью и оставим только ее, т.к. один этот признак несет в себе всю информацию об энергозатратах."
   ]
  },
  {
   "cell_type": "code",
   "execution_count": 47,
   "id": "6fc178cd",
   "metadata": {},
   "outputs": [],
   "source": [
    "arc['Полная мощность'] = ((arc['Активная мощность'])**2+(arc['Реактивная мощность'])**2)**0.5\n",
    "arc = arc.drop(['Активная мощность', 'Реактивная мощность'], axis=1)"
   ]
  },
  {
   "cell_type": "markdown",
   "id": "63d735dd",
   "metadata": {},
   "source": [
    "Добавим столбец с длительностью нагрева в секундах, а данные о времени начала и конца удалим."
   ]
  },
  {
   "cell_type": "code",
   "execution_count": 48,
   "id": "25926cb1",
   "metadata": {},
   "outputs": [],
   "source": [
    "arc['Время нагрева'] = (arc['Конец нагрева дугой'] - arc['Начало нагрева дугой']).astype('timedelta64[s]')\n",
    "arc = arc.drop(['Конец нагрева дугой', 'Начало нагрева дугой'], axis=1)"
   ]
  },
  {
   "cell_type": "markdown",
   "id": "9d73bc3f",
   "metadata": {},
   "source": [
    "Сгруппируем данные по партиям."
   ]
  },
  {
   "cell_type": "code",
   "execution_count": 49,
   "id": "ee7cabe4",
   "metadata": {},
   "outputs": [],
   "source": [
    "arc = arc.groupby('key').agg('sum')"
   ]
  },
  {
   "cell_type": "code",
   "execution_count": 50,
   "id": "0d144fde",
   "metadata": {},
   "outputs": [
    {
     "name": "stdout",
     "output_type": "stream",
     "text": [
      "<class 'pandas.core.frame.DataFrame'>\n",
      "Int64Index: 3214 entries, 1 to 3241\n",
      "Data columns (total 2 columns):\n",
      " #   Column           Non-Null Count  Dtype  \n",
      "---  ------           --------------  -----  \n",
      " 0   Полная мощность  3214 non-null   float64\n",
      " 1   Время нагрева    3214 non-null   float64\n",
      "dtypes: float64(2)\n",
      "memory usage: 75.3 KB\n"
     ]
    },
    {
     "data": {
      "text/html": [
       "<div>\n",
       "<style scoped>\n",
       "    .dataframe tbody tr th:only-of-type {\n",
       "        vertical-align: middle;\n",
       "    }\n",
       "\n",
       "    .dataframe tbody tr th {\n",
       "        vertical-align: top;\n",
       "    }\n",
       "\n",
       "    .dataframe thead th {\n",
       "        text-align: right;\n",
       "    }\n",
       "</style>\n",
       "<table border=\"1\" class=\"dataframe\">\n",
       "  <thead>\n",
       "    <tr style=\"text-align: right;\">\n",
       "      <th></th>\n",
       "      <th>Полная мощность</th>\n",
       "      <th>Время нагрева</th>\n",
       "    </tr>\n",
       "    <tr>\n",
       "      <th>key</th>\n",
       "      <th></th>\n",
       "      <th></th>\n",
       "    </tr>\n",
       "  </thead>\n",
       "  <tbody>\n",
       "    <tr>\n",
       "      <th>597</th>\n",
       "      <td>4.215048</td>\n",
       "      <td>358.0</td>\n",
       "    </tr>\n",
       "    <tr>\n",
       "      <th>2916</th>\n",
       "      <td>8.922705</td>\n",
       "      <td>1302.0</td>\n",
       "    </tr>\n",
       "  </tbody>\n",
       "</table>\n",
       "</div>"
      ],
      "text/plain": [
       "      Полная мощность  Время нагрева\n",
       "key                                 \n",
       "597          4.215048          358.0\n",
       "2916         8.922705         1302.0"
      ]
     },
     "execution_count": 50,
     "metadata": {},
     "output_type": "execute_result"
    }
   ],
   "source": [
    "arc.info()\n",
    "arc.sample(2, random_state= RANDOM_STATE)"
   ]
  },
  {
   "cell_type": "markdown",
   "id": "a2d59089",
   "metadata": {},
   "source": [
    "##### Добавки"
   ]
  },
  {
   "cell_type": "markdown",
   "id": "b2585d7a",
   "metadata": {},
   "source": [
    "Единственная проблема с этими таблицами - пропуски. Заменим их на 0, следуя логике \"нет информации, значит, не добавляли\"."
   ]
  },
  {
   "cell_type": "code",
   "execution_count": 51,
   "id": "649cd77f",
   "metadata": {},
   "outputs": [],
   "source": [
    "bulk = bulk.fillna(0)\n",
    "wire = wire.fillna(0)"
   ]
  },
  {
   "cell_type": "code",
   "execution_count": 52,
   "id": "e598bcd4",
   "metadata": {},
   "outputs": [
    {
     "name": "stdout",
     "output_type": "stream",
     "text": [
      "<class 'pandas.core.frame.DataFrame'>\n",
      "RangeIndex: 3129 entries, 0 to 3128\n",
      "Data columns (total 16 columns):\n",
      " #   Column   Non-Null Count  Dtype  \n",
      "---  ------   --------------  -----  \n",
      " 0   key      3129 non-null   int64  \n",
      " 1   Bulk 1   3129 non-null   float64\n",
      " 2   Bulk 2   3129 non-null   float64\n",
      " 3   Bulk 3   3129 non-null   float64\n",
      " 4   Bulk 4   3129 non-null   float64\n",
      " 5   Bulk 5   3129 non-null   float64\n",
      " 6   Bulk 6   3129 non-null   float64\n",
      " 7   Bulk 7   3129 non-null   float64\n",
      " 8   Bulk 8   3129 non-null   float64\n",
      " 9   Bulk 9   3129 non-null   float64\n",
      " 10  Bulk 10  3129 non-null   float64\n",
      " 11  Bulk 11  3129 non-null   float64\n",
      " 12  Bulk 12  3129 non-null   float64\n",
      " 13  Bulk 13  3129 non-null   float64\n",
      " 14  Bulk 14  3129 non-null   float64\n",
      " 15  Bulk 15  3129 non-null   float64\n",
      "dtypes: float64(15), int64(1)\n",
      "memory usage: 391.2 KB\n"
     ]
    },
    {
     "data": {
      "text/html": [
       "<div>\n",
       "<style scoped>\n",
       "    .dataframe tbody tr th:only-of-type {\n",
       "        vertical-align: middle;\n",
       "    }\n",
       "\n",
       "    .dataframe tbody tr th {\n",
       "        vertical-align: top;\n",
       "    }\n",
       "\n",
       "    .dataframe thead th {\n",
       "        text-align: right;\n",
       "    }\n",
       "</style>\n",
       "<table border=\"1\" class=\"dataframe\">\n",
       "  <thead>\n",
       "    <tr style=\"text-align: right;\">\n",
       "      <th></th>\n",
       "      <th>key</th>\n",
       "      <th>Bulk 1</th>\n",
       "      <th>Bulk 2</th>\n",
       "      <th>Bulk 3</th>\n",
       "      <th>Bulk 4</th>\n",
       "      <th>Bulk 5</th>\n",
       "      <th>Bulk 6</th>\n",
       "      <th>Bulk 7</th>\n",
       "      <th>Bulk 8</th>\n",
       "      <th>Bulk 9</th>\n",
       "      <th>Bulk 10</th>\n",
       "      <th>Bulk 11</th>\n",
       "      <th>Bulk 12</th>\n",
       "      <th>Bulk 13</th>\n",
       "      <th>Bulk 14</th>\n",
       "      <th>Bulk 15</th>\n",
       "    </tr>\n",
       "  </thead>\n",
       "  <tbody>\n",
       "    <tr>\n",
       "      <th>926</th>\n",
       "      <td>969</td>\n",
       "      <td>0.0</td>\n",
       "      <td>0.0</td>\n",
       "      <td>92.0</td>\n",
       "      <td>0.0</td>\n",
       "      <td>0.0</td>\n",
       "      <td>0.0</td>\n",
       "      <td>0.0</td>\n",
       "      <td>0.0</td>\n",
       "      <td>0.0</td>\n",
       "      <td>0.0</td>\n",
       "      <td>0.0</td>\n",
       "      <td>0.0</td>\n",
       "      <td>0.0</td>\n",
       "      <td>135.0</td>\n",
       "      <td>0.0</td>\n",
       "    </tr>\n",
       "    <tr>\n",
       "      <th>2293</th>\n",
       "      <td>2376</td>\n",
       "      <td>0.0</td>\n",
       "      <td>0.0</td>\n",
       "      <td>184.0</td>\n",
       "      <td>0.0</td>\n",
       "      <td>0.0</td>\n",
       "      <td>266.0</td>\n",
       "      <td>0.0</td>\n",
       "      <td>0.0</td>\n",
       "      <td>0.0</td>\n",
       "      <td>0.0</td>\n",
       "      <td>0.0</td>\n",
       "      <td>439.0</td>\n",
       "      <td>0.0</td>\n",
       "      <td>118.0</td>\n",
       "      <td>230.0</td>\n",
       "    </tr>\n",
       "  </tbody>\n",
       "</table>\n",
       "</div>"
      ],
      "text/plain": [
       "       key  Bulk 1  Bulk 2  Bulk 3  Bulk 4  Bulk 5  Bulk 6  Bulk 7  Bulk 8  \\\n",
       "926    969     0.0     0.0    92.0     0.0     0.0     0.0     0.0     0.0   \n",
       "2293  2376     0.0     0.0   184.0     0.0     0.0   266.0     0.0     0.0   \n",
       "\n",
       "      Bulk 9  Bulk 10  Bulk 11  Bulk 12  Bulk 13  Bulk 14  Bulk 15  \n",
       "926      0.0      0.0      0.0      0.0      0.0    135.0      0.0  \n",
       "2293     0.0      0.0      0.0    439.0      0.0    118.0    230.0  "
      ]
     },
     "execution_count": 52,
     "metadata": {},
     "output_type": "execute_result"
    }
   ],
   "source": [
    "bulk.info()\n",
    "bulk.sample(2, random_state= RANDOM_STATE)"
   ]
  },
  {
   "cell_type": "code",
   "execution_count": 53,
   "id": "e9cbd822",
   "metadata": {},
   "outputs": [
    {
     "name": "stdout",
     "output_type": "stream",
     "text": [
      "<class 'pandas.core.frame.DataFrame'>\n",
      "RangeIndex: 3081 entries, 0 to 3080\n",
      "Data columns (total 10 columns):\n",
      " #   Column  Non-Null Count  Dtype  \n",
      "---  ------  --------------  -----  \n",
      " 0   key     3081 non-null   int64  \n",
      " 1   Wire 1  3081 non-null   float64\n",
      " 2   Wire 2  3081 non-null   float64\n",
      " 3   Wire 3  3081 non-null   float64\n",
      " 4   Wire 4  3081 non-null   float64\n",
      " 5   Wire 5  3081 non-null   float64\n",
      " 6   Wire 6  3081 non-null   float64\n",
      " 7   Wire 7  3081 non-null   float64\n",
      " 8   Wire 8  3081 non-null   float64\n",
      " 9   Wire 9  3081 non-null   float64\n",
      "dtypes: float64(9), int64(1)\n",
      "memory usage: 240.8 KB\n"
     ]
    },
    {
     "data": {
      "text/html": [
       "<div>\n",
       "<style scoped>\n",
       "    .dataframe tbody tr th:only-of-type {\n",
       "        vertical-align: middle;\n",
       "    }\n",
       "\n",
       "    .dataframe tbody tr th {\n",
       "        vertical-align: top;\n",
       "    }\n",
       "\n",
       "    .dataframe thead th {\n",
       "        text-align: right;\n",
       "    }\n",
       "</style>\n",
       "<table border=\"1\" class=\"dataframe\">\n",
       "  <thead>\n",
       "    <tr style=\"text-align: right;\">\n",
       "      <th></th>\n",
       "      <th>key</th>\n",
       "      <th>Wire 1</th>\n",
       "      <th>Wire 2</th>\n",
       "      <th>Wire 3</th>\n",
       "      <th>Wire 4</th>\n",
       "      <th>Wire 5</th>\n",
       "      <th>Wire 6</th>\n",
       "      <th>Wire 7</th>\n",
       "      <th>Wire 8</th>\n",
       "      <th>Wire 9</th>\n",
       "    </tr>\n",
       "  </thead>\n",
       "  <tbody>\n",
       "    <tr>\n",
       "      <th>1919</th>\n",
       "      <td>2014</td>\n",
       "      <td>124.182236</td>\n",
       "      <td>15.17048</td>\n",
       "      <td>0.0</td>\n",
       "      <td>0.0</td>\n",
       "      <td>0.0</td>\n",
       "      <td>0.0</td>\n",
       "      <td>0.0</td>\n",
       "      <td>0.0</td>\n",
       "      <td>0.0</td>\n",
       "    </tr>\n",
       "    <tr>\n",
       "      <th>845</th>\n",
       "      <td>899</td>\n",
       "      <td>105.112801</td>\n",
       "      <td>13.17992</td>\n",
       "      <td>0.0</td>\n",
       "      <td>0.0</td>\n",
       "      <td>0.0</td>\n",
       "      <td>0.0</td>\n",
       "      <td>0.0</td>\n",
       "      <td>0.0</td>\n",
       "      <td>0.0</td>\n",
       "    </tr>\n",
       "  </tbody>\n",
       "</table>\n",
       "</div>"
      ],
      "text/plain": [
       "       key      Wire 1    Wire 2  Wire 3  Wire 4  Wire 5  Wire 6  Wire 7  \\\n",
       "1919  2014  124.182236  15.17048     0.0     0.0     0.0     0.0     0.0   \n",
       "845    899  105.112801  13.17992     0.0     0.0     0.0     0.0     0.0   \n",
       "\n",
       "      Wire 8  Wire 9  \n",
       "1919     0.0     0.0  \n",
       "845      0.0     0.0  "
      ]
     },
     "execution_count": 53,
     "metadata": {},
     "output_type": "execute_result"
    }
   ],
   "source": [
    "wire.info()\n",
    "wire.sample(2, random_state= RANDOM_STATE)"
   ]
  },
  {
   "cell_type": "markdown",
   "id": "cba9554e",
   "metadata": {},
   "source": [
    "##### Газ"
   ]
  },
  {
   "cell_type": "markdown",
   "id": "9e28d100",
   "metadata": {},
   "source": [
    "В таблице с газом все хорошо."
   ]
  },
  {
   "cell_type": "markdown",
   "id": "7d420482",
   "metadata": {},
   "source": [
    "##### Температура"
   ]
  },
  {
   "cell_type": "markdown",
   "id": "1f1226f1",
   "metadata": {},
   "source": [
    "Есть неподходящий тип данных, пропуски и аномалии. Начнем с типа данных у времени замера."
   ]
  },
  {
   "cell_type": "code",
   "execution_count": 54,
   "id": "b2b2c984",
   "metadata": {},
   "outputs": [],
   "source": [
    "temp['Время замера'] = pd.to_datetime(temp['Время замера'], format='%Y-%m-%d %H:%M:%S')"
   ]
  },
  {
   "cell_type": "markdown",
   "id": "28ca844f",
   "metadata": {},
   "source": [
    "Пропуски начинаются с 2500-й партии. Все партии с пропусками придется исключить из рассмотрения."
   ]
  },
  {
   "cell_type": "code",
   "execution_count": 55,
   "id": "15086fd3",
   "metadata": {},
   "outputs": [],
   "source": [
    "keys_to_drop=set()\n",
    "for elem in common_keys:\n",
    "    if elem >= 2500:\n",
    "        keys_to_drop.add(elem)"
   ]
  },
  {
   "cell_type": "markdown",
   "id": "b5c6f2cb",
   "metadata": {},
   "source": [
    "Неприятно, конечно, но делать нечего - у этих партий нет целевого признака, в построении модели они бесполезны.\n",
    "\n",
    "Аномалии - это температуры ниже температуры плавления стали, их считаем результатом неисправности датчиков и, соответственно, не рассматриваем партии, содержащие такие значения.\n",
    "\n",
    "В итоговой таблице нужно будет добавить столбцы с первым и последним замерами температур. Проверим, нет ли таких партий, в которых замер был всего один, их тоже рассматривать нельзя, т.к. у них признак = таргету."
   ]
  },
  {
   "cell_type": "code",
   "execution_count": 56,
   "id": "91696bbf",
   "metadata": {},
   "outputs": [
    {
     "data": {
      "text/plain": [
       "2108    17\n",
       "1513    16\n",
       "1689    16\n",
       "2567    15\n",
       "322     14\n",
       "        ..\n",
       "556      2\n",
       "1169     2\n",
       "732      2\n",
       "195      1\n",
       "279      1\n",
       "Name: key, Length: 3216, dtype: int64"
      ]
     },
     "execution_count": 56,
     "metadata": {},
     "output_type": "execute_result"
    }
   ],
   "source": [
    "temp['key'].value_counts()"
   ]
  },
  {
   "cell_type": "code",
   "execution_count": 57,
   "id": "4bb7b259",
   "metadata": {},
   "outputs": [],
   "source": [
    "keys_to_drop = keys_to_drop | set(temp[temp['Температура'] < 1300]['key'].unique()) | set([195, 279])"
   ]
  },
  {
   "cell_type": "code",
   "execution_count": 58,
   "id": "7f938380",
   "metadata": {},
   "outputs": [],
   "source": [
    "common_keys = common_keys - keys_to_drop"
   ]
  },
  {
   "cell_type": "code",
   "execution_count": 59,
   "id": "63378517",
   "metadata": {},
   "outputs": [],
   "source": [
    "temp = temp[temp['key'].isin(common_keys)]"
   ]
  },
  {
   "cell_type": "markdown",
   "id": "cf60b776",
   "metadata": {},
   "source": [
    "Сгруппируем данные по партиям."
   ]
  },
  {
   "cell_type": "code",
   "execution_count": 60,
   "id": "4b8ebd4a",
   "metadata": {},
   "outputs": [],
   "source": [
    "temp_feature = temp[['key','Температура']].groupby('key').agg('first').rename(columns= {'Температура':'Начальная темп.'})"
   ]
  },
  {
   "cell_type": "code",
   "execution_count": 61,
   "id": "18fc7625",
   "metadata": {
    "scrolled": true
   },
   "outputs": [
    {
     "name": "stdout",
     "output_type": "stream",
     "text": [
      "<class 'pandas.core.frame.DataFrame'>\n",
      "Int64Index: 2325 entries, 1 to 2499\n",
      "Data columns (total 1 columns):\n",
      " #   Column           Non-Null Count  Dtype  \n",
      "---  ------           --------------  -----  \n",
      " 0   Начальная темп.  2325 non-null   float64\n",
      "dtypes: float64(1)\n",
      "memory usage: 36.3 KB\n"
     ]
    },
    {
     "data": {
      "text/html": [
       "<div>\n",
       "<style scoped>\n",
       "    .dataframe tbody tr th:only-of-type {\n",
       "        vertical-align: middle;\n",
       "    }\n",
       "\n",
       "    .dataframe tbody tr th {\n",
       "        vertical-align: top;\n",
       "    }\n",
       "\n",
       "    .dataframe thead th {\n",
       "        text-align: right;\n",
       "    }\n",
       "</style>\n",
       "<table border=\"1\" class=\"dataframe\">\n",
       "  <thead>\n",
       "    <tr style=\"text-align: right;\">\n",
       "      <th></th>\n",
       "      <th>Начальная темп.</th>\n",
       "    </tr>\n",
       "    <tr>\n",
       "      <th>key</th>\n",
       "      <th></th>\n",
       "    </tr>\n",
       "  </thead>\n",
       "  <tbody>\n",
       "    <tr>\n",
       "      <th>1788</th>\n",
       "      <td>1591.0</td>\n",
       "    </tr>\n",
       "    <tr>\n",
       "      <th>2226</th>\n",
       "      <td>1571.0</td>\n",
       "    </tr>\n",
       "  </tbody>\n",
       "</table>\n",
       "</div>"
      ],
      "text/plain": [
       "      Начальная темп.\n",
       "key                  \n",
       "1788           1591.0\n",
       "2226           1571.0"
      ]
     },
     "execution_count": 61,
     "metadata": {},
     "output_type": "execute_result"
    }
   ],
   "source": [
    "temp_feature.info()\n",
    "temp_feature.sample(2, random_state= RANDOM_STATE)"
   ]
  },
  {
   "cell_type": "markdown",
   "id": "9f0ee4b2",
   "metadata": {},
   "source": [
    "##### Конструирование итоговой таблицы"
   ]
  },
  {
   "cell_type": "markdown",
   "id": "475ac6c1",
   "metadata": {},
   "source": [
    "Соберем итоговый датафрейм. Оставим только общие ключи с помощью *inner_join*."
   ]
  },
  {
   "cell_type": "code",
   "execution_count": 63,
   "id": "6c3a2aff",
   "metadata": {},
   "outputs": [
    {
     "data": {
      "text/html": [
       "<div>\n",
       "<style scoped>\n",
       "    .dataframe tbody tr th:only-of-type {\n",
       "        vertical-align: middle;\n",
       "    }\n",
       "\n",
       "    .dataframe tbody tr th {\n",
       "        vertical-align: top;\n",
       "    }\n",
       "\n",
       "    .dataframe thead th {\n",
       "        text-align: right;\n",
       "    }\n",
       "</style>\n",
       "<table border=\"1\" class=\"dataframe\">\n",
       "  <thead>\n",
       "    <tr style=\"text-align: right;\">\n",
       "      <th></th>\n",
       "      <th>key</th>\n",
       "      <th>Полная мощность</th>\n",
       "      <th>Время нагрева</th>\n",
       "      <th>Bulk 1</th>\n",
       "      <th>Bulk 2</th>\n",
       "      <th>Bulk 3</th>\n",
       "      <th>Bulk 4</th>\n",
       "      <th>Bulk 5</th>\n",
       "      <th>Bulk 6</th>\n",
       "      <th>Bulk 7</th>\n",
       "      <th>Bulk 8</th>\n",
       "      <th>Bulk 9</th>\n",
       "      <th>Bulk 10</th>\n",
       "      <th>Bulk 11</th>\n",
       "      <th>Bulk 12</th>\n",
       "      <th>Bulk 13</th>\n",
       "      <th>Bulk 14</th>\n",
       "      <th>Bulk 15</th>\n",
       "      <th>Wire 1</th>\n",
       "      <th>Wire 2</th>\n",
       "      <th>Wire 3</th>\n",
       "      <th>Wire 4</th>\n",
       "      <th>Wire 5</th>\n",
       "      <th>Wire 6</th>\n",
       "      <th>Wire 7</th>\n",
       "      <th>Wire 8</th>\n",
       "      <th>Wire 9</th>\n",
       "      <th>Газ 1</th>\n",
       "      <th>Начальная темп.</th>\n",
       "    </tr>\n",
       "  </thead>\n",
       "  <tbody>\n",
       "    <tr>\n",
       "      <th>0</th>\n",
       "      <td>1</td>\n",
       "      <td>3.718736</td>\n",
       "      <td>1098.0</td>\n",
       "      <td>0.0</td>\n",
       "      <td>0.0</td>\n",
       "      <td>0.0</td>\n",
       "      <td>43.0</td>\n",
       "      <td>0.0</td>\n",
       "      <td>0.0</td>\n",
       "      <td>0.0</td>\n",
       "      <td>0.0</td>\n",
       "      <td>0.0</td>\n",
       "      <td>0.0</td>\n",
       "      <td>0.0</td>\n",
       "      <td>206.0</td>\n",
       "      <td>0.0</td>\n",
       "      <td>150.0</td>\n",
       "      <td>154.0</td>\n",
       "      <td>60.059998</td>\n",
       "      <td>0.00000</td>\n",
       "      <td>0.0</td>\n",
       "      <td>0.0</td>\n",
       "      <td>0.0</td>\n",
       "      <td>0.0</td>\n",
       "      <td>0.0</td>\n",
       "      <td>0.0</td>\n",
       "      <td>0.0</td>\n",
       "      <td>29.749986</td>\n",
       "      <td>1571.0</td>\n",
       "    </tr>\n",
       "    <tr>\n",
       "      <th>1</th>\n",
       "      <td>2</td>\n",
       "      <td>2.588349</td>\n",
       "      <td>811.0</td>\n",
       "      <td>0.0</td>\n",
       "      <td>0.0</td>\n",
       "      <td>0.0</td>\n",
       "      <td>73.0</td>\n",
       "      <td>0.0</td>\n",
       "      <td>0.0</td>\n",
       "      <td>0.0</td>\n",
       "      <td>0.0</td>\n",
       "      <td>0.0</td>\n",
       "      <td>0.0</td>\n",
       "      <td>0.0</td>\n",
       "      <td>206.0</td>\n",
       "      <td>0.0</td>\n",
       "      <td>149.0</td>\n",
       "      <td>154.0</td>\n",
       "      <td>96.052315</td>\n",
       "      <td>0.00000</td>\n",
       "      <td>0.0</td>\n",
       "      <td>0.0</td>\n",
       "      <td>0.0</td>\n",
       "      <td>0.0</td>\n",
       "      <td>0.0</td>\n",
       "      <td>0.0</td>\n",
       "      <td>0.0</td>\n",
       "      <td>12.555561</td>\n",
       "      <td>1581.0</td>\n",
       "    </tr>\n",
       "    <tr>\n",
       "      <th>2</th>\n",
       "      <td>3</td>\n",
       "      <td>5.019223</td>\n",
       "      <td>655.0</td>\n",
       "      <td>0.0</td>\n",
       "      <td>0.0</td>\n",
       "      <td>0.0</td>\n",
       "      <td>34.0</td>\n",
       "      <td>0.0</td>\n",
       "      <td>0.0</td>\n",
       "      <td>0.0</td>\n",
       "      <td>0.0</td>\n",
       "      <td>0.0</td>\n",
       "      <td>0.0</td>\n",
       "      <td>0.0</td>\n",
       "      <td>205.0</td>\n",
       "      <td>0.0</td>\n",
       "      <td>152.0</td>\n",
       "      <td>153.0</td>\n",
       "      <td>91.160157</td>\n",
       "      <td>0.00000</td>\n",
       "      <td>0.0</td>\n",
       "      <td>0.0</td>\n",
       "      <td>0.0</td>\n",
       "      <td>0.0</td>\n",
       "      <td>0.0</td>\n",
       "      <td>0.0</td>\n",
       "      <td>0.0</td>\n",
       "      <td>28.554793</td>\n",
       "      <td>1596.0</td>\n",
       "    </tr>\n",
       "    <tr>\n",
       "      <th>3</th>\n",
       "      <td>4</td>\n",
       "      <td>3.400038</td>\n",
       "      <td>741.0</td>\n",
       "      <td>0.0</td>\n",
       "      <td>0.0</td>\n",
       "      <td>0.0</td>\n",
       "      <td>81.0</td>\n",
       "      <td>0.0</td>\n",
       "      <td>0.0</td>\n",
       "      <td>0.0</td>\n",
       "      <td>0.0</td>\n",
       "      <td>0.0</td>\n",
       "      <td>0.0</td>\n",
       "      <td>0.0</td>\n",
       "      <td>207.0</td>\n",
       "      <td>0.0</td>\n",
       "      <td>153.0</td>\n",
       "      <td>154.0</td>\n",
       "      <td>89.063515</td>\n",
       "      <td>0.00000</td>\n",
       "      <td>0.0</td>\n",
       "      <td>0.0</td>\n",
       "      <td>0.0</td>\n",
       "      <td>0.0</td>\n",
       "      <td>0.0</td>\n",
       "      <td>0.0</td>\n",
       "      <td>0.0</td>\n",
       "      <td>18.841219</td>\n",
       "      <td>1601.0</td>\n",
       "    </tr>\n",
       "    <tr>\n",
       "      <th>4</th>\n",
       "      <td>5</td>\n",
       "      <td>2.816980</td>\n",
       "      <td>869.0</td>\n",
       "      <td>0.0</td>\n",
       "      <td>0.0</td>\n",
       "      <td>0.0</td>\n",
       "      <td>78.0</td>\n",
       "      <td>0.0</td>\n",
       "      <td>0.0</td>\n",
       "      <td>0.0</td>\n",
       "      <td>0.0</td>\n",
       "      <td>0.0</td>\n",
       "      <td>0.0</td>\n",
       "      <td>0.0</td>\n",
       "      <td>203.0</td>\n",
       "      <td>0.0</td>\n",
       "      <td>151.0</td>\n",
       "      <td>152.0</td>\n",
       "      <td>89.238236</td>\n",
       "      <td>9.11456</td>\n",
       "      <td>0.0</td>\n",
       "      <td>0.0</td>\n",
       "      <td>0.0</td>\n",
       "      <td>0.0</td>\n",
       "      <td>0.0</td>\n",
       "      <td>0.0</td>\n",
       "      <td>0.0</td>\n",
       "      <td>5.413692</td>\n",
       "      <td>1576.0</td>\n",
       "    </tr>\n",
       "  </tbody>\n",
       "</table>\n",
       "</div>"
      ],
      "text/plain": [
       "   key  Полная мощность  Время нагрева  Bulk 1  Bulk 2  Bulk 3  Bulk 4  \\\n",
       "0    1         3.718736         1098.0     0.0     0.0     0.0    43.0   \n",
       "1    2         2.588349          811.0     0.0     0.0     0.0    73.0   \n",
       "2    3         5.019223          655.0     0.0     0.0     0.0    34.0   \n",
       "3    4         3.400038          741.0     0.0     0.0     0.0    81.0   \n",
       "4    5         2.816980          869.0     0.0     0.0     0.0    78.0   \n",
       "\n",
       "   Bulk 5  Bulk 6  Bulk 7  Bulk 8  Bulk 9  Bulk 10  Bulk 11  Bulk 12  Bulk 13  \\\n",
       "0     0.0     0.0     0.0     0.0     0.0      0.0      0.0    206.0      0.0   \n",
       "1     0.0     0.0     0.0     0.0     0.0      0.0      0.0    206.0      0.0   \n",
       "2     0.0     0.0     0.0     0.0     0.0      0.0      0.0    205.0      0.0   \n",
       "3     0.0     0.0     0.0     0.0     0.0      0.0      0.0    207.0      0.0   \n",
       "4     0.0     0.0     0.0     0.0     0.0      0.0      0.0    203.0      0.0   \n",
       "\n",
       "   Bulk 14  Bulk 15     Wire 1   Wire 2  Wire 3  Wire 4  Wire 5  Wire 6  \\\n",
       "0    150.0    154.0  60.059998  0.00000     0.0     0.0     0.0     0.0   \n",
       "1    149.0    154.0  96.052315  0.00000     0.0     0.0     0.0     0.0   \n",
       "2    152.0    153.0  91.160157  0.00000     0.0     0.0     0.0     0.0   \n",
       "3    153.0    154.0  89.063515  0.00000     0.0     0.0     0.0     0.0   \n",
       "4    151.0    152.0  89.238236  9.11456     0.0     0.0     0.0     0.0   \n",
       "\n",
       "   Wire 7  Wire 8  Wire 9      Газ 1  Начальная темп.  \n",
       "0     0.0     0.0     0.0  29.749986           1571.0  \n",
       "1     0.0     0.0     0.0  12.555561           1581.0  \n",
       "2     0.0     0.0     0.0  28.554793           1596.0  \n",
       "3     0.0     0.0     0.0  18.841219           1601.0  \n",
       "4     0.0     0.0     0.0   5.413692           1576.0  "
      ]
     },
     "metadata": {},
     "output_type": "display_data"
    },
    {
     "name": "stdout",
     "output_type": "stream",
     "text": [
      "<class 'pandas.core.frame.DataFrame'>\n",
      "Int64Index: 2325 entries, 0 to 2324\n",
      "Data columns (total 29 columns):\n",
      " #   Column           Non-Null Count  Dtype  \n",
      "---  ------           --------------  -----  \n",
      " 0   key              2325 non-null   int64  \n",
      " 1   Полная мощность  2325 non-null   float64\n",
      " 2   Время нагрева    2325 non-null   float64\n",
      " 3   Bulk 1           2325 non-null   float64\n",
      " 4   Bulk 2           2325 non-null   float64\n",
      " 5   Bulk 3           2325 non-null   float64\n",
      " 6   Bulk 4           2325 non-null   float64\n",
      " 7   Bulk 5           2325 non-null   float64\n",
      " 8   Bulk 6           2325 non-null   float64\n",
      " 9   Bulk 7           2325 non-null   float64\n",
      " 10  Bulk 8           2325 non-null   float64\n",
      " 11  Bulk 9           2325 non-null   float64\n",
      " 12  Bulk 10          2325 non-null   float64\n",
      " 13  Bulk 11          2325 non-null   float64\n",
      " 14  Bulk 12          2325 non-null   float64\n",
      " 15  Bulk 13          2325 non-null   float64\n",
      " 16  Bulk 14          2325 non-null   float64\n",
      " 17  Bulk 15          2325 non-null   float64\n",
      " 18  Wire 1           2325 non-null   float64\n",
      " 19  Wire 2           2325 non-null   float64\n",
      " 20  Wire 3           2325 non-null   float64\n",
      " 21  Wire 4           2325 non-null   float64\n",
      " 22  Wire 5           2325 non-null   float64\n",
      " 23  Wire 6           2325 non-null   float64\n",
      " 24  Wire 7           2325 non-null   float64\n",
      " 25  Wire 8           2325 non-null   float64\n",
      " 26  Wire 9           2325 non-null   float64\n",
      " 27  Газ 1            2325 non-null   float64\n",
      " 28  Начальная темп.  2325 non-null   float64\n",
      "dtypes: float64(28), int64(1)\n",
      "memory usage: 544.9 KB\n"
     ]
    },
    {
     "data": {
      "text/html": [
       "<div>\n",
       "<style scoped>\n",
       "    .dataframe tbody tr th:only-of-type {\n",
       "        vertical-align: middle;\n",
       "    }\n",
       "\n",
       "    .dataframe tbody tr th {\n",
       "        vertical-align: top;\n",
       "    }\n",
       "\n",
       "    .dataframe thead th {\n",
       "        text-align: right;\n",
       "    }\n",
       "</style>\n",
       "<table border=\"1\" class=\"dataframe\">\n",
       "  <thead>\n",
       "    <tr style=\"text-align: right;\">\n",
       "      <th></th>\n",
       "      <th>key</th>\n",
       "      <th>Полная мощность</th>\n",
       "      <th>Время нагрева</th>\n",
       "      <th>Bulk 1</th>\n",
       "      <th>Bulk 2</th>\n",
       "      <th>Bulk 3</th>\n",
       "      <th>Bulk 4</th>\n",
       "      <th>Bulk 5</th>\n",
       "      <th>Bulk 6</th>\n",
       "      <th>Bulk 7</th>\n",
       "      <th>Bulk 8</th>\n",
       "      <th>Bulk 9</th>\n",
       "      <th>Bulk 10</th>\n",
       "      <th>Bulk 11</th>\n",
       "      <th>Bulk 12</th>\n",
       "      <th>Bulk 13</th>\n",
       "      <th>Bulk 14</th>\n",
       "      <th>Bulk 15</th>\n",
       "      <th>Wire 1</th>\n",
       "      <th>Wire 2</th>\n",
       "      <th>Wire 3</th>\n",
       "      <th>Wire 4</th>\n",
       "      <th>Wire 5</th>\n",
       "      <th>Wire 6</th>\n",
       "      <th>Wire 7</th>\n",
       "      <th>Wire 8</th>\n",
       "      <th>Wire 9</th>\n",
       "      <th>Газ 1</th>\n",
       "      <th>Начальная темп.</th>\n",
       "    </tr>\n",
       "  </thead>\n",
       "  <tbody>\n",
       "    <tr>\n",
       "      <th>count</th>\n",
       "      <td>2325.000000</td>\n",
       "      <td>2325.000000</td>\n",
       "      <td>2325.000000</td>\n",
       "      <td>2325.000000</td>\n",
       "      <td>2325.000000</td>\n",
       "      <td>2325.000000</td>\n",
       "      <td>2325.000000</td>\n",
       "      <td>2325.000000</td>\n",
       "      <td>2325.000000</td>\n",
       "      <td>2325.000000</td>\n",
       "      <td>2325.000000</td>\n",
       "      <td>2325.000000</td>\n",
       "      <td>2325.000000</td>\n",
       "      <td>2325.000000</td>\n",
       "      <td>2325.000000</td>\n",
       "      <td>2325.000000</td>\n",
       "      <td>2325.000000</td>\n",
       "      <td>2325.000000</td>\n",
       "      <td>2325.000000</td>\n",
       "      <td>2325.000000</td>\n",
       "      <td>2325.000000</td>\n",
       "      <td>2325.000000</td>\n",
       "      <td>2325.0</td>\n",
       "      <td>2325.000000</td>\n",
       "      <td>2325.000000</td>\n",
       "      <td>2325.000000</td>\n",
       "      <td>2325.000000</td>\n",
       "      <td>2325.000000</td>\n",
       "      <td>2325.000000</td>\n",
       "    </tr>\n",
       "    <tr>\n",
       "      <th>mean</th>\n",
       "      <td>1251.512258</td>\n",
       "      <td>3.885893</td>\n",
       "      <td>808.035269</td>\n",
       "      <td>3.433548</td>\n",
       "      <td>1.424946</td>\n",
       "      <td>47.296774</td>\n",
       "      <td>37.331613</td>\n",
       "      <td>2.644731</td>\n",
       "      <td>22.468817</td>\n",
       "      <td>2.008172</td>\n",
       "      <td>0.021075</td>\n",
       "      <td>0.445591</td>\n",
       "      <td>5.061505</td>\n",
       "      <td>4.252473</td>\n",
       "      <td>208.507957</td>\n",
       "      <td>1.069247</td>\n",
       "      <td>153.971613</td>\n",
       "      <td>120.026667</td>\n",
       "      <td>102.412198</td>\n",
       "      <td>17.605637</td>\n",
       "      <td>3.240481</td>\n",
       "      <td>0.307077</td>\n",
       "      <td>0.0</td>\n",
       "      <td>0.980504</td>\n",
       "      <td>0.006371</td>\n",
       "      <td>0.311847</td>\n",
       "      <td>0.317658</td>\n",
       "      <td>11.378942</td>\n",
       "      <td>1587.365161</td>\n",
       "    </tr>\n",
       "    <tr>\n",
       "      <th>std</th>\n",
       "      <td>715.099053</td>\n",
       "      <td>1.517305</td>\n",
       "      <td>340.829330</td>\n",
       "      <td>12.421994</td>\n",
       "      <td>19.098442</td>\n",
       "      <td>75.228262</td>\n",
       "      <td>58.670377</td>\n",
       "      <td>22.421296</td>\n",
       "      <td>55.831097</td>\n",
       "      <td>30.702509</td>\n",
       "      <td>1.016213</td>\n",
       "      <td>6.225965</td>\n",
       "      <td>20.934742</td>\n",
       "      <td>22.534166</td>\n",
       "      <td>157.137873</td>\n",
       "      <td>14.247231</td>\n",
       "      <td>81.398153</td>\n",
       "      <td>84.674380</td>\n",
       "      <td>43.535263</td>\n",
       "      <td>33.642919</td>\n",
       "      <td>27.966585</td>\n",
       "      <td>4.761821</td>\n",
       "      <td>0.0</td>\n",
       "      <td>8.700682</td>\n",
       "      <td>0.205882</td>\n",
       "      <td>4.406475</td>\n",
       "      <td>3.459510</td>\n",
       "      <td>6.395632</td>\n",
       "      <td>23.623144</td>\n",
       "    </tr>\n",
       "    <tr>\n",
       "      <th>min</th>\n",
       "      <td>1.000000</td>\n",
       "      <td>0.331897</td>\n",
       "      <td>57.000000</td>\n",
       "      <td>0.000000</td>\n",
       "      <td>0.000000</td>\n",
       "      <td>0.000000</td>\n",
       "      <td>0.000000</td>\n",
       "      <td>0.000000</td>\n",
       "      <td>0.000000</td>\n",
       "      <td>0.000000</td>\n",
       "      <td>0.000000</td>\n",
       "      <td>0.000000</td>\n",
       "      <td>0.000000</td>\n",
       "      <td>0.000000</td>\n",
       "      <td>0.000000</td>\n",
       "      <td>0.000000</td>\n",
       "      <td>0.000000</td>\n",
       "      <td>0.000000</td>\n",
       "      <td>0.000000</td>\n",
       "      <td>0.000000</td>\n",
       "      <td>0.000000</td>\n",
       "      <td>0.000000</td>\n",
       "      <td>0.0</td>\n",
       "      <td>0.000000</td>\n",
       "      <td>0.000000</td>\n",
       "      <td>0.000000</td>\n",
       "      <td>0.000000</td>\n",
       "      <td>0.008399</td>\n",
       "      <td>1519.000000</td>\n",
       "    </tr>\n",
       "    <tr>\n",
       "      <th>25%</th>\n",
       "      <td>629.000000</td>\n",
       "      <td>2.847792</td>\n",
       "      <td>581.000000</td>\n",
       "      <td>0.000000</td>\n",
       "      <td>0.000000</td>\n",
       "      <td>0.000000</td>\n",
       "      <td>0.000000</td>\n",
       "      <td>0.000000</td>\n",
       "      <td>0.000000</td>\n",
       "      <td>0.000000</td>\n",
       "      <td>0.000000</td>\n",
       "      <td>0.000000</td>\n",
       "      <td>0.000000</td>\n",
       "      <td>0.000000</td>\n",
       "      <td>105.000000</td>\n",
       "      <td>0.000000</td>\n",
       "      <td>105.000000</td>\n",
       "      <td>0.000000</td>\n",
       "      <td>73.207679</td>\n",
       "      <td>0.000000</td>\n",
       "      <td>0.000000</td>\n",
       "      <td>0.000000</td>\n",
       "      <td>0.0</td>\n",
       "      <td>0.000000</td>\n",
       "      <td>0.000000</td>\n",
       "      <td>0.000000</td>\n",
       "      <td>0.000000</td>\n",
       "      <td>7.282948</td>\n",
       "      <td>1571.000000</td>\n",
       "    </tr>\n",
       "    <tr>\n",
       "      <th>50%</th>\n",
       "      <td>1255.000000</td>\n",
       "      <td>3.769823</td>\n",
       "      <td>778.000000</td>\n",
       "      <td>0.000000</td>\n",
       "      <td>0.000000</td>\n",
       "      <td>0.000000</td>\n",
       "      <td>0.000000</td>\n",
       "      <td>0.000000</td>\n",
       "      <td>0.000000</td>\n",
       "      <td>0.000000</td>\n",
       "      <td>0.000000</td>\n",
       "      <td>0.000000</td>\n",
       "      <td>0.000000</td>\n",
       "      <td>0.000000</td>\n",
       "      <td>206.000000</td>\n",
       "      <td>0.000000</td>\n",
       "      <td>149.000000</td>\n",
       "      <td>107.000000</td>\n",
       "      <td>101.087998</td>\n",
       "      <td>0.000000</td>\n",
       "      <td>0.000000</td>\n",
       "      <td>0.000000</td>\n",
       "      <td>0.0</td>\n",
       "      <td>0.000000</td>\n",
       "      <td>0.000000</td>\n",
       "      <td>0.000000</td>\n",
       "      <td>0.000000</td>\n",
       "      <td>10.100950</td>\n",
       "      <td>1587.000000</td>\n",
       "    </tr>\n",
       "    <tr>\n",
       "      <th>75%</th>\n",
       "      <td>1868.000000</td>\n",
       "      <td>4.769421</td>\n",
       "      <td>993.000000</td>\n",
       "      <td>0.000000</td>\n",
       "      <td>0.000000</td>\n",
       "      <td>80.000000</td>\n",
       "      <td>77.000000</td>\n",
       "      <td>0.000000</td>\n",
       "      <td>0.000000</td>\n",
       "      <td>0.000000</td>\n",
       "      <td>0.000000</td>\n",
       "      <td>0.000000</td>\n",
       "      <td>0.000000</td>\n",
       "      <td>0.000000</td>\n",
       "      <td>283.000000</td>\n",
       "      <td>0.000000</td>\n",
       "      <td>204.000000</td>\n",
       "      <td>204.000000</td>\n",
       "      <td>128.069763</td>\n",
       "      <td>23.102560</td>\n",
       "      <td>0.000000</td>\n",
       "      <td>0.000000</td>\n",
       "      <td>0.0</td>\n",
       "      <td>0.000000</td>\n",
       "      <td>0.000000</td>\n",
       "      <td>0.000000</td>\n",
       "      <td>0.000000</td>\n",
       "      <td>14.217691</td>\n",
       "      <td>1603.000000</td>\n",
       "    </tr>\n",
       "    <tr>\n",
       "      <th>max</th>\n",
       "      <td>2499.000000</td>\n",
       "      <td>15.288271</td>\n",
       "      <td>4189.000000</td>\n",
       "      <td>185.000000</td>\n",
       "      <td>325.000000</td>\n",
       "      <td>454.000000</td>\n",
       "      <td>281.000000</td>\n",
       "      <td>603.000000</td>\n",
       "      <td>503.000000</td>\n",
       "      <td>772.000000</td>\n",
       "      <td>49.000000</td>\n",
       "      <td>147.000000</td>\n",
       "      <td>159.000000</td>\n",
       "      <td>313.000000</td>\n",
       "      <td>1849.000000</td>\n",
       "      <td>305.000000</td>\n",
       "      <td>636.000000</td>\n",
       "      <td>405.000000</td>\n",
       "      <td>330.314424</td>\n",
       "      <td>282.780152</td>\n",
       "      <td>385.008668</td>\n",
       "      <td>113.231044</td>\n",
       "      <td>0.0</td>\n",
       "      <td>180.454575</td>\n",
       "      <td>8.490040</td>\n",
       "      <td>102.762401</td>\n",
       "      <td>62.025600</td>\n",
       "      <td>77.995040</td>\n",
       "      <td>1660.000000</td>\n",
       "    </tr>\n",
       "  </tbody>\n",
       "</table>\n",
       "</div>"
      ],
      "text/plain": [
       "               key  Полная мощность  Время нагрева       Bulk 1       Bulk 2  \\\n",
       "count  2325.000000      2325.000000    2325.000000  2325.000000  2325.000000   \n",
       "mean   1251.512258         3.885893     808.035269     3.433548     1.424946   \n",
       "std     715.099053         1.517305     340.829330    12.421994    19.098442   \n",
       "min       1.000000         0.331897      57.000000     0.000000     0.000000   \n",
       "25%     629.000000         2.847792     581.000000     0.000000     0.000000   \n",
       "50%    1255.000000         3.769823     778.000000     0.000000     0.000000   \n",
       "75%    1868.000000         4.769421     993.000000     0.000000     0.000000   \n",
       "max    2499.000000        15.288271    4189.000000   185.000000   325.000000   \n",
       "\n",
       "            Bulk 3       Bulk 4       Bulk 5       Bulk 6       Bulk 7  \\\n",
       "count  2325.000000  2325.000000  2325.000000  2325.000000  2325.000000   \n",
       "mean     47.296774    37.331613     2.644731    22.468817     2.008172   \n",
       "std      75.228262    58.670377    22.421296    55.831097    30.702509   \n",
       "min       0.000000     0.000000     0.000000     0.000000     0.000000   \n",
       "25%       0.000000     0.000000     0.000000     0.000000     0.000000   \n",
       "50%       0.000000     0.000000     0.000000     0.000000     0.000000   \n",
       "75%      80.000000    77.000000     0.000000     0.000000     0.000000   \n",
       "max     454.000000   281.000000   603.000000   503.000000   772.000000   \n",
       "\n",
       "            Bulk 8       Bulk 9      Bulk 10      Bulk 11      Bulk 12  \\\n",
       "count  2325.000000  2325.000000  2325.000000  2325.000000  2325.000000   \n",
       "mean      0.021075     0.445591     5.061505     4.252473   208.507957   \n",
       "std       1.016213     6.225965    20.934742    22.534166   157.137873   \n",
       "min       0.000000     0.000000     0.000000     0.000000     0.000000   \n",
       "25%       0.000000     0.000000     0.000000     0.000000   105.000000   \n",
       "50%       0.000000     0.000000     0.000000     0.000000   206.000000   \n",
       "75%       0.000000     0.000000     0.000000     0.000000   283.000000   \n",
       "max      49.000000   147.000000   159.000000   313.000000  1849.000000   \n",
       "\n",
       "           Bulk 13      Bulk 14      Bulk 15       Wire 1       Wire 2  \\\n",
       "count  2325.000000  2325.000000  2325.000000  2325.000000  2325.000000   \n",
       "mean      1.069247   153.971613   120.026667   102.412198    17.605637   \n",
       "std      14.247231    81.398153    84.674380    43.535263    33.642919   \n",
       "min       0.000000     0.000000     0.000000     0.000000     0.000000   \n",
       "25%       0.000000   105.000000     0.000000    73.207679     0.000000   \n",
       "50%       0.000000   149.000000   107.000000   101.087998     0.000000   \n",
       "75%       0.000000   204.000000   204.000000   128.069763    23.102560   \n",
       "max     305.000000   636.000000   405.000000   330.314424   282.780152   \n",
       "\n",
       "            Wire 3       Wire 4  Wire 5       Wire 6       Wire 7  \\\n",
       "count  2325.000000  2325.000000  2325.0  2325.000000  2325.000000   \n",
       "mean      3.240481     0.307077     0.0     0.980504     0.006371   \n",
       "std      27.966585     4.761821     0.0     8.700682     0.205882   \n",
       "min       0.000000     0.000000     0.0     0.000000     0.000000   \n",
       "25%       0.000000     0.000000     0.0     0.000000     0.000000   \n",
       "50%       0.000000     0.000000     0.0     0.000000     0.000000   \n",
       "75%       0.000000     0.000000     0.0     0.000000     0.000000   \n",
       "max     385.008668   113.231044     0.0   180.454575     8.490040   \n",
       "\n",
       "            Wire 8       Wire 9        Газ 1  Начальная темп.  \n",
       "count  2325.000000  2325.000000  2325.000000      2325.000000  \n",
       "mean      0.311847     0.317658    11.378942      1587.365161  \n",
       "std       4.406475     3.459510     6.395632        23.623144  \n",
       "min       0.000000     0.000000     0.008399      1519.000000  \n",
       "25%       0.000000     0.000000     7.282948      1571.000000  \n",
       "50%       0.000000     0.000000    10.100950      1587.000000  \n",
       "75%       0.000000     0.000000    14.217691      1603.000000  \n",
       "max     102.762401    62.025600    77.995040      1660.000000  "
      ]
     },
     "execution_count": 63,
     "metadata": {},
     "output_type": "execute_result"
    }
   ],
   "source": [
    "features = arc.merge(bulk, how='inner', on='key').merge(\n",
    "    wire, how='inner', on='key').merge(\n",
    "    gas, how='inner', on='key').merge(\n",
    "    temp_feature, how='inner', on='key')\n",
    "display(features.head())\n",
    "features.info()\n",
    "features.describe()"
   ]
  },
  {
   "cell_type": "markdown",
   "id": "9018b77e",
   "metadata": {},
   "source": [
    "В столбце Wire 5 нет ненулевых значений, удалим его."
   ]
  },
  {
   "cell_type": "code",
   "execution_count": 64,
   "id": "52662adb",
   "metadata": {},
   "outputs": [],
   "source": [
    "features.drop('Wire 5', axis=1, inplace=True)"
   ]
  },
  {
   "cell_type": "markdown",
   "id": "c5717a19",
   "metadata": {},
   "source": [
    "Целевой признак - последний замер температуры."
   ]
  },
  {
   "cell_type": "code",
   "execution_count": 65,
   "id": "a0cbc5f8",
   "metadata": {
    "scrolled": true
   },
   "outputs": [
    {
     "data": {
      "text/html": [
       "<div>\n",
       "<style scoped>\n",
       "    .dataframe tbody tr th:only-of-type {\n",
       "        vertical-align: middle;\n",
       "    }\n",
       "\n",
       "    .dataframe tbody tr th {\n",
       "        vertical-align: top;\n",
       "    }\n",
       "\n",
       "    .dataframe thead th {\n",
       "        text-align: right;\n",
       "    }\n",
       "</style>\n",
       "<table border=\"1\" class=\"dataframe\">\n",
       "  <thead>\n",
       "    <tr style=\"text-align: right;\">\n",
       "      <th></th>\n",
       "      <th>Конечная темп.</th>\n",
       "    </tr>\n",
       "    <tr>\n",
       "      <th>key</th>\n",
       "      <th></th>\n",
       "    </tr>\n",
       "  </thead>\n",
       "  <tbody>\n",
       "    <tr>\n",
       "      <th>1</th>\n",
       "      <td>1613.0</td>\n",
       "    </tr>\n",
       "    <tr>\n",
       "      <th>2</th>\n",
       "      <td>1602.0</td>\n",
       "    </tr>\n",
       "    <tr>\n",
       "      <th>3</th>\n",
       "      <td>1599.0</td>\n",
       "    </tr>\n",
       "    <tr>\n",
       "      <th>4</th>\n",
       "      <td>1625.0</td>\n",
       "    </tr>\n",
       "    <tr>\n",
       "      <th>5</th>\n",
       "      <td>1602.0</td>\n",
       "    </tr>\n",
       "  </tbody>\n",
       "</table>\n",
       "</div>"
      ],
      "text/plain": [
       "     Конечная темп.\n",
       "key                \n",
       "1            1613.0\n",
       "2            1602.0\n",
       "3            1599.0\n",
       "4            1625.0\n",
       "5            1602.0"
      ]
     },
     "metadata": {},
     "output_type": "display_data"
    },
    {
     "name": "stdout",
     "output_type": "stream",
     "text": [
      "<class 'pandas.core.frame.DataFrame'>\n",
      "Int64Index: 2325 entries, 1 to 2499\n",
      "Data columns (total 1 columns):\n",
      " #   Column          Non-Null Count  Dtype  \n",
      "---  ------          --------------  -----  \n",
      " 0   Конечная темп.  2325 non-null   float64\n",
      "dtypes: float64(1)\n",
      "memory usage: 36.3 KB\n"
     ]
    }
   ],
   "source": [
    "target = temp[['key','Температура']].groupby('key').agg('last').rename(columns= {'Температура':'Конечная темп.'})\n",
    "display(target.head())\n",
    "target.info()"
   ]
  },
  {
   "cell_type": "markdown",
   "id": "f9754fe4",
   "metadata": {},
   "source": [
    "##### Исследование итоговой таблицы"
   ]
  },
  {
   "cell_type": "markdown",
   "id": "51ae2649",
   "metadata": {},
   "source": [
    "Построим матрицу корреляций признаков."
   ]
  },
  {
   "cell_type": "code",
   "execution_count": 66,
   "id": "fc8c88c7",
   "metadata": {
    "scrolled": false
   },
   "outputs": [
    {
     "data": {
      "image/png": "[encoded data removed]",
      "text/plain": [
       "<Figure size 1296x720 with 2 Axes>"
      ]
     },
     "metadata": {
      "needs_background": "light"
     },
     "output_type": "display_data"
    }
   ],
   "source": [
    "annot_labels = abs(features.corr())\n",
    "fig, ax = plt.subplots(figsize=(18,10))\n",
    "dataplot = sns.heatmap(features.corr(), cmap=\"YlGnBu\", annot=annot_labels, annot_kws={\"size\": 10}, fmt='.2f')\n",
    "plt.title('Матрица корреляций признаков')\n",
    "plt.ylabel('Признаки')\n",
    "plt.xlabel('Признаки')\n",
    "plt.show()"
   ]
  },
  {
   "cell_type": "markdown",
   "id": "99279aef",
   "metadata": {},
   "source": [
    "*Wire 8* и *Bulk 9* коррелируют с показателем 0.97. Удалим один из признаков - *Bulk 9*."
   ]
  },
  {
   "cell_type": "code",
   "execution_count": 68,
   "id": "a886ff0f",
   "metadata": {
    "scrolled": true
   },
   "outputs": [
    {
     "data": {
      "text/html": [
       "<div>\n",
       "<style scoped>\n",
       "    .dataframe tbody tr th:only-of-type {\n",
       "        vertical-align: middle;\n",
       "    }\n",
       "\n",
       "    .dataframe tbody tr th {\n",
       "        vertical-align: top;\n",
       "    }\n",
       "\n",
       "    .dataframe thead th {\n",
       "        text-align: right;\n",
       "    }\n",
       "</style>\n",
       "<table border=\"1\" class=\"dataframe\">\n",
       "  <thead>\n",
       "    <tr style=\"text-align: right;\">\n",
       "      <th></th>\n",
       "      <th>key</th>\n",
       "      <th>Полная мощность</th>\n",
       "      <th>Время нагрева</th>\n",
       "      <th>Bulk 1</th>\n",
       "      <th>Bulk 2</th>\n",
       "      <th>Bulk 3</th>\n",
       "      <th>Bulk 4</th>\n",
       "      <th>Bulk 5</th>\n",
       "      <th>Bulk 6</th>\n",
       "      <th>Bulk 7</th>\n",
       "      <th>Bulk 8</th>\n",
       "      <th>Bulk 10</th>\n",
       "      <th>Bulk 11</th>\n",
       "      <th>Bulk 12</th>\n",
       "      <th>Bulk 13</th>\n",
       "      <th>Bulk 14</th>\n",
       "      <th>Bulk 15</th>\n",
       "      <th>Wire 1</th>\n",
       "      <th>Wire 2</th>\n",
       "      <th>Wire 3</th>\n",
       "      <th>Wire 4</th>\n",
       "      <th>Wire 6</th>\n",
       "      <th>Wire 7</th>\n",
       "      <th>Wire 8</th>\n",
       "      <th>Wire 9</th>\n",
       "      <th>Газ 1</th>\n",
       "      <th>Начальная темп.</th>\n",
       "    </tr>\n",
       "  </thead>\n",
       "  <tbody>\n",
       "    <tr>\n",
       "      <th>0</th>\n",
       "      <td>1</td>\n",
       "      <td>3.718736</td>\n",
       "      <td>1098.0</td>\n",
       "      <td>0.0</td>\n",
       "      <td>0.0</td>\n",
       "      <td>0.0</td>\n",
       "      <td>43.0</td>\n",
       "      <td>0.0</td>\n",
       "      <td>0.0</td>\n",
       "      <td>0.0</td>\n",
       "      <td>0.0</td>\n",
       "      <td>0.0</td>\n",
       "      <td>0.0</td>\n",
       "      <td>206.0</td>\n",
       "      <td>0.0</td>\n",
       "      <td>150.0</td>\n",
       "      <td>154.0</td>\n",
       "      <td>60.059998</td>\n",
       "      <td>0.0</td>\n",
       "      <td>0.0</td>\n",
       "      <td>0.0</td>\n",
       "      <td>0.0</td>\n",
       "      <td>0.0</td>\n",
       "      <td>0.0</td>\n",
       "      <td>0.0</td>\n",
       "      <td>29.749986</td>\n",
       "      <td>1571.0</td>\n",
       "    </tr>\n",
       "    <tr>\n",
       "      <th>1</th>\n",
       "      <td>2</td>\n",
       "      <td>2.588349</td>\n",
       "      <td>811.0</td>\n",
       "      <td>0.0</td>\n",
       "      <td>0.0</td>\n",
       "      <td>0.0</td>\n",
       "      <td>73.0</td>\n",
       "      <td>0.0</td>\n",
       "      <td>0.0</td>\n",
       "      <td>0.0</td>\n",
       "      <td>0.0</td>\n",
       "      <td>0.0</td>\n",
       "      <td>0.0</td>\n",
       "      <td>206.0</td>\n",
       "      <td>0.0</td>\n",
       "      <td>149.0</td>\n",
       "      <td>154.0</td>\n",
       "      <td>96.052315</td>\n",
       "      <td>0.0</td>\n",
       "      <td>0.0</td>\n",
       "      <td>0.0</td>\n",
       "      <td>0.0</td>\n",
       "      <td>0.0</td>\n",
       "      <td>0.0</td>\n",
       "      <td>0.0</td>\n",
       "      <td>12.555561</td>\n",
       "      <td>1581.0</td>\n",
       "    </tr>\n",
       "  </tbody>\n",
       "</table>\n",
       "</div>"
      ],
      "text/plain": [
       "   key  Полная мощность  Время нагрева  Bulk 1  Bulk 2  Bulk 3  Bulk 4  \\\n",
       "0    1         3.718736         1098.0     0.0     0.0     0.0    43.0   \n",
       "1    2         2.588349          811.0     0.0     0.0     0.0    73.0   \n",
       "\n",
       "   Bulk 5  Bulk 6  Bulk 7  Bulk 8  Bulk 10  Bulk 11  Bulk 12  Bulk 13  \\\n",
       "0     0.0     0.0     0.0     0.0      0.0      0.0    206.0      0.0   \n",
       "1     0.0     0.0     0.0     0.0      0.0      0.0    206.0      0.0   \n",
       "\n",
       "   Bulk 14  Bulk 15     Wire 1  Wire 2  Wire 3  Wire 4  Wire 6  Wire 7  \\\n",
       "0    150.0    154.0  60.059998     0.0     0.0     0.0     0.0     0.0   \n",
       "1    149.0    154.0  96.052315     0.0     0.0     0.0     0.0     0.0   \n",
       "\n",
       "   Wire 8  Wire 9      Газ 1  Начальная темп.  \n",
       "0     0.0     0.0  29.749986           1571.0  \n",
       "1     0.0     0.0  12.555561           1581.0  "
      ]
     },
     "execution_count": 68,
     "metadata": {},
     "output_type": "execute_result"
    }
   ],
   "source": [
    "features.drop('Bulk 9', axis=1, inplace=True)\n",
    "features.head(2)"
   ]
  },
  {
   "cell_type": "markdown",
   "id": "fce97092",
   "metadata": {},
   "source": [
    "Посмотрим, как распределены признаки. Сначала целевой."
   ]
  },
  {
   "cell_type": "code",
   "execution_count": 69,
   "id": "cb7bf271",
   "metadata": {},
   "outputs": [
    {
     "data": {
      "image/png": "[encoded data removed]",
      "text/plain": [
       "<Figure size 432x288 with 1 Axes>"
      ]
     },
     "metadata": {
      "needs_background": "light"
     },
     "output_type": "display_data"
    }
   ],
   "source": [
    "plt.hist(target, bins=100, color='purple');\n",
    "plt.title('Конечная температура');\n",
    "plt.xlabel('Значения');\n",
    "plt.ylabel('Частота появления');\n",
    "plt.show()"
   ]
  },
  {
   "cell_type": "markdown",
   "id": "1452a876",
   "metadata": {},
   "source": [
    "Нормальное распределение с пиками. Возможно, есть несколько значений температур, характерных для разных типов продукта."
   ]
  },
  {
   "cell_type": "markdown",
   "id": "6b9755a3",
   "metadata": {},
   "source": [
    "Посмотрим на исходные признаки."
   ]
  },
  {
   "cell_type": "code",
   "execution_count": 70,
   "id": "e303ff69",
   "metadata": {
    "scrolled": false
   },
   "outputs": [
    {
     "data": {
      "image/png": "[encoded data removed]",
      "text/plain": [
       "<Figure size 864x648 with 4 Axes>"
      ]
     },
     "metadata": {
      "needs_background": "light"
     },
     "output_type": "display_data"
    }
   ],
   "source": [
    "features[['Полная мощность', 'Время нагрева', 'Газ 1', 'Начальная темп.']].hist(\n",
    "    figsize=(12,9), bins=50, color='green');"
   ]
  },
  {
   "cell_type": "markdown",
   "id": "3b365b81",
   "metadata": {},
   "source": [
    "Тоже нормальные распределения. У всех, кроме температуры, хвосты из выбросов. \n",
    "\n",
    "Наконец, добавки."
   ]
  },
  {
   "cell_type": "code",
   "execution_count": 71,
   "id": "b678535f",
   "metadata": {},
   "outputs": [
    {
     "data": {
      "image/png": "[encoded data removed]",
      "text/plain": [
       "<Figure size 1296x864 with 1 Axes>"
      ]
     },
     "metadata": {
      "needs_background": "light"
     },
     "output_type": "display_data"
    }
   ],
   "source": [
    "bulk_columns = [x for x in features.columns if 'Bulk' in x]\n",
    "plot = features.loc[:, bulk_columns].boxplot(figsize = (18,12));\n",
    "plt.title('Сыпучие материалы');\n",
    "plt.ylabel('Масса, кг')\n",
    "plt.show()"
   ]
  },
  {
   "cell_type": "code",
   "execution_count": 72,
   "id": "8690864e",
   "metadata": {},
   "outputs": [
    {
     "data": {
      "image/png": "[encoded data removed]",
      "text/plain": [
       "<Figure size 1296x864 with 1 Axes>"
      ]
     },
     "metadata": {
      "needs_background": "light"
     },
     "output_type": "display_data"
    }
   ],
   "source": [
    "wire_columns = [x for x in features.columns if 'Wire' in x]\n",
    "plot = features.loc[:, wire_columns].boxplot(figsize = (18,12));\n",
    "plt.title('Проволочные материалы');\n",
    "plt.ylabel('Масса, кг')\n",
    "plt.show()"
   ]
  },
  {
   "cell_type": "markdown",
   "id": "27dfa6b9",
   "metadata": {},
   "source": [
    "Суммирование по партиям сделало распределения у'же, но, в целом, ничего особо не изменилось."
   ]
  },
  {
   "cell_type": "markdown",
   "id": "e0dc0933",
   "metadata": {},
   "source": [
    "Разделим признаки и таргет на обучающую и тестовую выборки."
   ]
  },
  {
   "cell_type": "code",
   "execution_count": 73,
   "id": "98b50a40",
   "metadata": {},
   "outputs": [],
   "source": [
    "X_train, X_test, y_train, y_test = train_test_split(features, target, test_size=0.25, random_state=RANDOM_STATE, shuffle=True)"
   ]
  },
  {
   "cell_type": "code",
   "execution_count": 74,
   "id": "1a830b31",
   "metadata": {},
   "outputs": [
    {
     "name": "stdout",
     "output_type": "stream",
     "text": [
      "(1743, 27)\n",
      "(1743, 1)\n",
      "(582, 27)\n",
      "(582, 1)\n"
     ]
    }
   ],
   "source": [
    "for df in [X_train, y_train, X_test, y_test]:\n",
    "    print(df.shape)"
   ]
  },
  {
   "cell_type": "markdown",
   "id": "b5a63405",
   "metadata": {},
   "source": [
    "##### Вывод по предобработке"
   ]
  },
  {
   "cell_type": "markdown",
   "id": "bfbeb3c0",
   "metadata": {},
   "source": [
    "В этом разделе были обработаны типы, пропуски, аномалии в данных. Исключены из рассмотрения потенциально бесполезные признаки (времена добавок) и проблемные партии. Все таблицы сгруппированы по номеру партии и объединены в один датасет. Из этого датасета удален пустой признак - *Wire 5*, а также признак, имевший сильную корреляцию с другим - *Bulk 9*. Всего удалены данные по 3239-2325=914 партиям."
   ]
  },
  {
   "cell_type": "markdown",
   "id": "41f55200",
   "metadata": {},
   "source": [
    "### Обучение моделей"
   ]
  },
  {
   "cell_type": "markdown",
   "id": "0cf051c9",
   "metadata": {},
   "source": [
    "Подготовим инструменты."
   ]
  },
  {
   "cell_type": "code",
   "execution_count": 75,
   "id": "d63c8ce7",
   "metadata": {},
   "outputs": [],
   "source": [
    "models = ['Linear', 'RFR', 'LGBM', 'XGB']\n",
    "result_list = []"
   ]
  },
  {
   "cell_type": "code",
   "execution_count": 76,
   "id": "089d1ec7",
   "metadata": {},
   "outputs": [],
   "source": [
    "scaler = StandardScaler()\n",
    "score = make_scorer(mean_absolute_error, greater_is_better = False)"
   ]
  },
  {
   "cell_type": "code",
   "execution_count": 77,
   "id": "fb3280c5",
   "metadata": {},
   "outputs": [],
   "source": [
    "#модели\n",
    "model_LR = Pipeline([('Sclr', scaler), ('rgsr', LinearRegression())])\n",
    "model_RFR = RandomForestRegressor(random_state=RANDOM_STATE)\n",
    "model_LGBM = LGBMRegressor(random_state=RANDOM_STATE)\n",
    "model_XGB = xgb.XGBRegressor(random_state=RANDOM_STATE)"
   ]
  },
  {
   "cell_type": "code",
   "execution_count": 78,
   "id": "01184559",
   "metadata": {},
   "outputs": [],
   "source": [
    "#функция для работы модели с подбором параметров\n",
    "def model_run(model, params, x_train, y_train):\n",
    "    model_opt = GridSearchCV(model, params, cv=5, n_jobs=-1, scoring=score, verbose=10)\n",
    "    model_opt.fit(x_train, y_train)\n",
    "    return model_opt.best_score_, model_opt.best_estimator_  "
   ]
  },
  {
   "cell_type": "markdown",
   "id": "99d02415",
   "metadata": {},
   "source": [
    "Сначала обучим линейную регрессию, чтобы провести baseline."
   ]
  },
  {
   "cell_type": "code",
   "execution_count": 79,
   "id": "81c78954",
   "metadata": {},
   "outputs": [
    {
     "name": "stdout",
     "output_type": "stream",
     "text": [
      "6.57\n"
     ]
    }
   ],
   "source": [
    "mae_lr = cross_val_score(model_LR, X_train, y_train, cv=5, scoring=score, n_jobs=-1)\n",
    "result_list.append(round(mae_lr.mean()*-1, 2))\n",
    "print(round(mae_lr.mean()*-1, 2))"
   ]
  },
  {
   "cell_type": "markdown",
   "id": "8f972cd8",
   "metadata": {},
   "source": [
    "Уже неплохо, но, возможно, можно лучше.\n",
    "\n",
    "Остальные модели требуют подбора параметров."
   ]
  },
  {
   "cell_type": "code",
   "execution_count": 80,
   "id": "c5c4775a",
   "metadata": {},
   "outputs": [],
   "source": [
    "#параметры\n",
    "param_RFR = {'n_estimators': [700, 800, 900], 'max_depth': [11, 12, 13, 14], \n",
    "             'random_state': [RANDOM_STATE], 'min_samples_split': [7, 8, 9, 10]}\n",
    "param_LGBM = {'n_estimators': [20, 45, 50, 55, 70], 'max_depth': [7, 8, 9, 10, 13], \n",
    "             'random_state': [RANDOM_STATE]}\n",
    "param_XGB = {'learning_rate': [0.07, 0.1, 0.12, 0.2], 'max_depth': [1, 3, 4, 5], \n",
    "             'lambda': [0.00001, 0.0001, 0.0005, 0.001, 0.1], 'random_state': [RANDOM_STATE]}"
   ]
  },
  {
   "cell_type": "code",
   "execution_count": 81,
   "id": "d94d9e71",
   "metadata": {
    "collapsed": true
   },
   "outputs": [
    {
     "name": "stdout",
     "output_type": "stream",
     "text": [
      "Fitting 5 folds for each of 48 candidates, totalling 240 fits\n",
      "[CV 1/5; 1/48] START rgsr__max_depth=11, rgsr__min_samples_split=7, rgsr__n_estimators=700, rgsr__random_state=250923\n",
      "[CV 1/5; 1/48] END rgsr__max_depth=11, rgsr__min_samples_split=7, rgsr__n_estimators=700, rgsr__random_state=250923; total time=   5.4s\n",
      "[CV 2/5; 1/48] START rgsr__max_depth=11, rgsr__min_samples_split=7, rgsr__n_estimators=700, rgsr__random_state=250923\n",
      "[CV 2/5; 1/48] END rgsr__max_depth=11, rgsr__min_samples_split=7, rgsr__n_estimators=700, rgsr__random_state=250923; total time=   5.4s\n",
      "[CV 3/5; 1/48] START rgsr__max_depth=11, rgsr__min_samples_split=7, rgsr__n_estimators=700, rgsr__random_state=250923\n",
      "[CV 3/5; 1/48] END rgsr__max_depth=11, rgsr__min_samples_split=7, rgsr__n_estimators=700, rgsr__random_state=250923; total time=   5.4s\n",
      "[CV 4/5; 1/48] START rgsr__max_depth=11, rgsr__min_samples_split=7, rgsr__n_estimators=700, rgsr__random_state=250923\n",
      "[CV 4/5; 1/48] END rgsr__max_depth=11, rgsr__min_samples_split=7, rgsr__n_estimators=700, rgsr__random_state=250923; total time=   5.4s\n",
      "[CV 5/5; 1/48] START rgsr__max_depth=11, rgsr__min_samples_split=7, rgsr__n_estimators=700, rgsr__random_state=250923\n",
      "[CV 5/5; 1/48] END rgsr__max_depth=11, rgsr__min_samples_split=7, rgsr__n_estimators=700, rgsr__random_state=250923; total time=   5.3s\n",
      "[CV 1/5; 2/48] START rgsr__max_depth=11, rgsr__min_samples_split=7, rgsr__n_estimators=800, rgsr__random_state=250923\n",
      "[CV 1/5; 2/48] END rgsr__max_depth=11, rgsr__min_samples_split=7, rgsr__n_estimators=800, rgsr__random_state=250923; total time=   6.2s\n",
      "[CV 2/5; 2/48] START rgsr__max_depth=11, rgsr__min_samples_split=7, rgsr__n_estimators=800, rgsr__random_state=250923\n",
      "[CV 2/5; 2/48] END rgsr__max_depth=11, rgsr__min_samples_split=7, rgsr__n_estimators=800, rgsr__random_state=250923; total time=   6.2s\n",
      "[CV 3/5; 2/48] START rgsr__max_depth=11, rgsr__min_samples_split=7, rgsr__n_estimators=800, rgsr__random_state=250923\n",
      "[CV 3/5; 2/48] END rgsr__max_depth=11, rgsr__min_samples_split=7, rgsr__n_estimators=800, rgsr__random_state=250923; total time=   6.2s\n",
      "[CV 4/5; 2/48] START rgsr__max_depth=11, rgsr__min_samples_split=7, rgsr__n_estimators=800, rgsr__random_state=250923\n",
      "[CV 4/5; 2/48] END rgsr__max_depth=11, rgsr__min_samples_split=7, rgsr__n_estimators=800, rgsr__random_state=250923; total time=   6.2s\n",
      "[CV 5/5; 2/48] START rgsr__max_depth=11, rgsr__min_samples_split=7, rgsr__n_estimators=800, rgsr__random_state=250923\n",
      "[CV 5/5; 2/48] END rgsr__max_depth=11, rgsr__min_samples_split=7, rgsr__n_estimators=800, rgsr__random_state=250923; total time=   6.1s\n",
      "[CV 1/5; 3/48] START rgsr__max_depth=11, rgsr__min_samples_split=7, rgsr__n_estimators=900, rgsr__random_state=250923\n",
      "[CV 1/5; 3/48] END rgsr__max_depth=11, rgsr__min_samples_split=7, rgsr__n_estimators=900, rgsr__random_state=250923; total time=   6.9s\n",
      "[CV 2/5; 3/48] START rgsr__max_depth=11, rgsr__min_samples_split=7, rgsr__n_estimators=900, rgsr__random_state=250923\n",
      "[CV 2/5; 3/48] END rgsr__max_depth=11, rgsr__min_samples_split=7, rgsr__n_estimators=900, rgsr__random_state=250923; total time=   6.9s\n",
      "[CV 3/5; 3/48] START rgsr__max_depth=11, rgsr__min_samples_split=7, rgsr__n_estimators=900, rgsr__random_state=250923\n",
      "[CV 3/5; 3/48] END rgsr__max_depth=11, rgsr__min_samples_split=7, rgsr__n_estimators=900, rgsr__random_state=250923; total time=   7.0s\n",
      "[CV 4/5; 3/48] START rgsr__max_depth=11, rgsr__min_samples_split=7, rgsr__n_estimators=900, rgsr__random_state=250923\n",
      "[CV 4/5; 3/48] END rgsr__max_depth=11, rgsr__min_samples_split=7, rgsr__n_estimators=900, rgsr__random_state=250923; total time=   6.9s\n",
      "[CV 5/5; 3/48] START rgsr__max_depth=11, rgsr__min_samples_split=7, rgsr__n_estimators=900, rgsr__random_state=250923\n",
      "[CV 5/5; 3/48] END rgsr__max_depth=11, rgsr__min_samples_split=7, rgsr__n_estimators=900, rgsr__random_state=250923; total time=   6.8s\n",
      "[CV 1/5; 4/48] START rgsr__max_depth=11, rgsr__min_samples_split=8, rgsr__n_estimators=700, rgsr__random_state=250923\n",
      "[CV 1/5; 4/48] END rgsr__max_depth=11, rgsr__min_samples_split=8, rgsr__n_estimators=700, rgsr__random_state=250923; total time=   5.3s\n",
      "[CV 2/5; 4/48] START rgsr__max_depth=11, rgsr__min_samples_split=8, rgsr__n_estimators=700, rgsr__random_state=250923\n",
      "[CV 2/5; 4/48] END rgsr__max_depth=11, rgsr__min_samples_split=8, rgsr__n_estimators=700, rgsr__random_state=250923; total time=   5.4s\n",
      "[CV 3/5; 4/48] START rgsr__max_depth=11, rgsr__min_samples_split=8, rgsr__n_estimators=700, rgsr__random_state=250923\n",
      "[CV 3/5; 4/48] END rgsr__max_depth=11, rgsr__min_samples_split=8, rgsr__n_estimators=700, rgsr__random_state=250923; total time=   5.4s\n",
      "[CV 4/5; 4/48] START rgsr__max_depth=11, rgsr__min_samples_split=8, rgsr__n_estimators=700, rgsr__random_state=250923\n",
      "[CV 4/5; 4/48] END rgsr__max_depth=11, rgsr__min_samples_split=8, rgsr__n_estimators=700, rgsr__random_state=250923; total time=   5.4s\n",
      "[CV 5/5; 4/48] START rgsr__max_depth=11, rgsr__min_samples_split=8, rgsr__n_estimators=700, rgsr__random_state=250923\n",
      "[CV 5/5; 4/48] END rgsr__max_depth=11, rgsr__min_samples_split=8, rgsr__n_estimators=700, rgsr__random_state=250923; total time=   5.4s\n",
      "[CV 1/5; 5/48] START rgsr__max_depth=11, rgsr__min_samples_split=8, rgsr__n_estimators=800, rgsr__random_state=250923\n",
      "[CV 1/5; 5/48] END rgsr__max_depth=11, rgsr__min_samples_split=8, rgsr__n_estimators=800, rgsr__random_state=250923; total time=   6.3s\n",
      "[CV 2/5; 5/48] START rgsr__max_depth=11, rgsr__min_samples_split=8, rgsr__n_estimators=800, rgsr__random_state=250923\n",
      "[CV 2/5; 5/48] END rgsr__max_depth=11, rgsr__min_samples_split=8, rgsr__n_estimators=800, rgsr__random_state=250923; total time=   6.2s\n",
      "[CV 3/5; 5/48] START rgsr__max_depth=11, rgsr__min_samples_split=8, rgsr__n_estimators=800, rgsr__random_state=250923\n",
      "[CV 3/5; 5/48] END rgsr__max_depth=11, rgsr__min_samples_split=8, rgsr__n_estimators=800, rgsr__random_state=250923; total time=   6.2s\n",
      "[CV 4/5; 5/48] START rgsr__max_depth=11, rgsr__min_samples_split=8, rgsr__n_estimators=800, rgsr__random_state=250923\n",
      "[CV 4/5; 5/48] END rgsr__max_depth=11, rgsr__min_samples_split=8, rgsr__n_estimators=800, rgsr__random_state=250923; total time=   6.3s\n",
      "[CV 5/5; 5/48] START rgsr__max_depth=11, rgsr__min_samples_split=8, rgsr__n_estimators=800, rgsr__random_state=250923\n",
      "[CV 5/5; 5/48] END rgsr__max_depth=11, rgsr__min_samples_split=8, rgsr__n_estimators=800, rgsr__random_state=250923; total time=   6.0s\n",
      "[CV 1/5; 6/48] START rgsr__max_depth=11, rgsr__min_samples_split=8, rgsr__n_estimators=900, rgsr__random_state=250923\n",
      "[CV 1/5; 6/48] END rgsr__max_depth=11, rgsr__min_samples_split=8, rgsr__n_estimators=900, rgsr__random_state=250923; total time=   6.8s\n",
      "[CV 2/5; 6/48] START rgsr__max_depth=11, rgsr__min_samples_split=8, rgsr__n_estimators=900, rgsr__random_state=250923\n",
      "[CV 2/5; 6/48] END rgsr__max_depth=11, rgsr__min_samples_split=8, rgsr__n_estimators=900, rgsr__random_state=250923; total time=   6.9s\n",
      "[CV 3/5; 6/48] START rgsr__max_depth=11, rgsr__min_samples_split=8, rgsr__n_estimators=900, rgsr__random_state=250923\n",
      "[CV 3/5; 6/48] END rgsr__max_depth=11, rgsr__min_samples_split=8, rgsr__n_estimators=900, rgsr__random_state=250923; total time=   6.9s\n",
      "[CV 4/5; 6/48] START rgsr__max_depth=11, rgsr__min_samples_split=8, rgsr__n_estimators=900, rgsr__random_state=250923\n",
      "[CV 4/5; 6/48] END rgsr__max_depth=11, rgsr__min_samples_split=8, rgsr__n_estimators=900, rgsr__random_state=250923; total time=   6.9s\n",
      "[CV 5/5; 6/48] START rgsr__max_depth=11, rgsr__min_samples_split=8, rgsr__n_estimators=900, rgsr__random_state=250923\n",
      "[CV 5/5; 6/48] END rgsr__max_depth=11, rgsr__min_samples_split=8, rgsr__n_estimators=900, rgsr__random_state=250923; total time=   6.9s\n",
      "[CV 1/5; 7/48] START rgsr__max_depth=11, rgsr__min_samples_split=9, rgsr__n_estimators=700, rgsr__random_state=250923\n",
      "[CV 1/5; 7/48] END rgsr__max_depth=11, rgsr__min_samples_split=9, rgsr__n_estimators=700, rgsr__random_state=250923; total time=   5.3s\n",
      "[CV 2/5; 7/48] START rgsr__max_depth=11, rgsr__min_samples_split=9, rgsr__n_estimators=700, rgsr__random_state=250923\n",
      "[CV 2/5; 7/48] END rgsr__max_depth=11, rgsr__min_samples_split=9, rgsr__n_estimators=700, rgsr__random_state=250923; total time=   5.3s\n",
      "[CV 3/5; 7/48] START rgsr__max_depth=11, rgsr__min_samples_split=9, rgsr__n_estimators=700, rgsr__random_state=250923\n",
      "[CV 3/5; 7/48] END rgsr__max_depth=11, rgsr__min_samples_split=9, rgsr__n_estimators=700, rgsr__random_state=250923; total time=   5.3s\n",
      "[CV 4/5; 7/48] START rgsr__max_depth=11, rgsr__min_samples_split=9, rgsr__n_estimators=700, rgsr__random_state=250923\n",
      "[CV 4/5; 7/48] END rgsr__max_depth=11, rgsr__min_samples_split=9, rgsr__n_estimators=700, rgsr__random_state=250923; total time=   5.4s\n",
      "[CV 5/5; 7/48] START rgsr__max_depth=11, rgsr__min_samples_split=9, rgsr__n_estimators=700, rgsr__random_state=250923\n",
      "[CV 5/5; 7/48] END rgsr__max_depth=11, rgsr__min_samples_split=9, rgsr__n_estimators=700, rgsr__random_state=250923; total time=   5.3s\n",
      "[CV 1/5; 8/48] START rgsr__max_depth=11, rgsr__min_samples_split=9, rgsr__n_estimators=800, rgsr__random_state=250923\n",
      "[CV 1/5; 8/48] END rgsr__max_depth=11, rgsr__min_samples_split=9, rgsr__n_estimators=800, rgsr__random_state=250923; total time=   6.1s\n",
      "[CV 2/5; 8/48] START rgsr__max_depth=11, rgsr__min_samples_split=9, rgsr__n_estimators=800, rgsr__random_state=250923\n",
      "[CV 2/5; 8/48] END rgsr__max_depth=11, rgsr__min_samples_split=9, rgsr__n_estimators=800, rgsr__random_state=250923; total time=   6.1s\n",
      "[CV 3/5; 8/48] START rgsr__max_depth=11, rgsr__min_samples_split=9, rgsr__n_estimators=800, rgsr__random_state=250923\n",
      "[CV 3/5; 8/48] END rgsr__max_depth=11, rgsr__min_samples_split=9, rgsr__n_estimators=800, rgsr__random_state=250923; total time=   6.1s\n",
      "[CV 4/5; 8/48] START rgsr__max_depth=11, rgsr__min_samples_split=9, rgsr__n_estimators=800, rgsr__random_state=250923\n",
      "[CV 4/5; 8/48] END rgsr__max_depth=11, rgsr__min_samples_split=9, rgsr__n_estimators=800, rgsr__random_state=250923; total time=   6.1s\n",
      "[CV 5/5; 8/48] START rgsr__max_depth=11, rgsr__min_samples_split=9, rgsr__n_estimators=800, rgsr__random_state=250923\n",
      "[CV 5/5; 8/48] END rgsr__max_depth=11, rgsr__min_samples_split=9, rgsr__n_estimators=800, rgsr__random_state=250923; total time=   6.3s\n",
      "[CV 1/5; 9/48] START rgsr__max_depth=11, rgsr__min_samples_split=9, rgsr__n_estimators=900, rgsr__random_state=250923\n",
      "[CV 1/5; 9/48] END rgsr__max_depth=11, rgsr__min_samples_split=9, rgsr__n_estimators=900, rgsr__random_state=250923; total time=   6.9s\n",
      "[CV 2/5; 9/48] START rgsr__max_depth=11, rgsr__min_samples_split=9, rgsr__n_estimators=900, rgsr__random_state=250923\n",
      "[CV 2/5; 9/48] END rgsr__max_depth=11, rgsr__min_samples_split=9, rgsr__n_estimators=900, rgsr__random_state=250923; total time=   6.9s\n",
      "[CV 3/5; 9/48] START rgsr__max_depth=11, rgsr__min_samples_split=9, rgsr__n_estimators=900, rgsr__random_state=250923\n",
      "[CV 3/5; 9/48] END rgsr__max_depth=11, rgsr__min_samples_split=9, rgsr__n_estimators=900, rgsr__random_state=250923; total time=   6.8s\n",
      "[CV 4/5; 9/48] START rgsr__max_depth=11, rgsr__min_samples_split=9, rgsr__n_estimators=900, rgsr__random_state=250923\n",
      "[CV 4/5; 9/48] END rgsr__max_depth=11, rgsr__min_samples_split=9, rgsr__n_estimators=900, rgsr__random_state=250923; total time=   6.8s\n",
      "[CV 5/5; 9/48] START rgsr__max_depth=11, rgsr__min_samples_split=9, rgsr__n_estimators=900, rgsr__random_state=250923\n",
      "[CV 5/5; 9/48] END rgsr__max_depth=11, rgsr__min_samples_split=9, rgsr__n_estimators=900, rgsr__random_state=250923; total time=   6.6s\n",
      "[CV 1/5; 10/48] START rgsr__max_depth=11, rgsr__min_samples_split=10, rgsr__n_estimators=700, rgsr__random_state=250923\n",
      "[CV 1/5; 10/48] END rgsr__max_depth=11, rgsr__min_samples_split=10, rgsr__n_estimators=700, rgsr__random_state=250923; total time=   5.3s\n",
      "[CV 2/5; 10/48] START rgsr__max_depth=11, rgsr__min_samples_split=10, rgsr__n_estimators=700, rgsr__random_state=250923\n",
      "[CV 2/5; 10/48] END rgsr__max_depth=11, rgsr__min_samples_split=10, rgsr__n_estimators=700, rgsr__random_state=250923; total time=   5.3s\n",
      "[CV 3/5; 10/48] START rgsr__max_depth=11, rgsr__min_samples_split=10, rgsr__n_estimators=700, rgsr__random_state=250923\n",
      "[CV 3/5; 10/48] END rgsr__max_depth=11, rgsr__min_samples_split=10, rgsr__n_estimators=700, rgsr__random_state=250923; total time=   5.3s\n",
      "[CV 4/5; 10/48] START rgsr__max_depth=11, rgsr__min_samples_split=10, rgsr__n_estimators=700, rgsr__random_state=250923\n",
      "[CV 4/5; 10/48] END rgsr__max_depth=11, rgsr__min_samples_split=10, rgsr__n_estimators=700, rgsr__random_state=250923; total time=   5.3s\n",
      "[CV 5/5; 10/48] START rgsr__max_depth=11, rgsr__min_samples_split=10, rgsr__n_estimators=700, rgsr__random_state=250923\n",
      "[CV 5/5; 10/48] END rgsr__max_depth=11, rgsr__min_samples_split=10, rgsr__n_estimators=700, rgsr__random_state=250923; total time=   5.3s\n",
      "[CV 1/5; 11/48] START rgsr__max_depth=11, rgsr__min_samples_split=10, rgsr__n_estimators=800, rgsr__random_state=250923\n",
      "[CV 1/5; 11/48] END rgsr__max_depth=11, rgsr__min_samples_split=10, rgsr__n_estimators=800, rgsr__random_state=250923; total time=   6.1s\n",
      "[CV 2/5; 11/48] START rgsr__max_depth=11, rgsr__min_samples_split=10, rgsr__n_estimators=800, rgsr__random_state=250923\n",
      "[CV 2/5; 11/48] END rgsr__max_depth=11, rgsr__min_samples_split=10, rgsr__n_estimators=800, rgsr__random_state=250923; total time=   6.2s\n",
      "[CV 3/5; 11/48] START rgsr__max_depth=11, rgsr__min_samples_split=10, rgsr__n_estimators=800, rgsr__random_state=250923\n",
      "[CV 3/5; 11/48] END rgsr__max_depth=11, rgsr__min_samples_split=10, rgsr__n_estimators=800, rgsr__random_state=250923; total time=   6.3s\n",
      "[CV 4/5; 11/48] START rgsr__max_depth=11, rgsr__min_samples_split=10, rgsr__n_estimators=800, rgsr__random_state=250923\n",
      "[CV 4/5; 11/48] END rgsr__max_depth=11, rgsr__min_samples_split=10, rgsr__n_estimators=800, rgsr__random_state=250923; total time=   6.3s\n",
      "[CV 5/5; 11/48] START rgsr__max_depth=11, rgsr__min_samples_split=10, rgsr__n_estimators=800, rgsr__random_state=250923\n",
      "[CV 5/5; 11/48] END rgsr__max_depth=11, rgsr__min_samples_split=10, rgsr__n_estimators=800, rgsr__random_state=250923; total time=   6.1s\n",
      "[CV 1/5; 12/48] START rgsr__max_depth=11, rgsr__min_samples_split=10, rgsr__n_estimators=900, rgsr__random_state=250923\n",
      "[CV 1/5; 12/48] END rgsr__max_depth=11, rgsr__min_samples_split=10, rgsr__n_estimators=900, rgsr__random_state=250923; total time=   6.8s\n",
      "[CV 2/5; 12/48] START rgsr__max_depth=11, rgsr__min_samples_split=10, rgsr__n_estimators=900, rgsr__random_state=250923\n",
      "[CV 2/5; 12/48] END rgsr__max_depth=11, rgsr__min_samples_split=10, rgsr__n_estimators=900, rgsr__random_state=250923; total time=   6.9s\n",
      "[CV 3/5; 12/48] START rgsr__max_depth=11, rgsr__min_samples_split=10, rgsr__n_estimators=900, rgsr__random_state=250923\n",
      "[CV 3/5; 12/48] END rgsr__max_depth=11, rgsr__min_samples_split=10, rgsr__n_estimators=900, rgsr__random_state=250923; total time=   7.0s\n",
      "[CV 4/5; 12/48] START rgsr__max_depth=11, rgsr__min_samples_split=10, rgsr__n_estimators=900, rgsr__random_state=250923\n",
      "[CV 4/5; 12/48] END rgsr__max_depth=11, rgsr__min_samples_split=10, rgsr__n_estimators=900, rgsr__random_state=250923; total time=   7.1s\n",
      "[CV 5/5; 12/48] START rgsr__max_depth=11, rgsr__min_samples_split=10, rgsr__n_estimators=900, rgsr__random_state=250923\n",
      "[CV 5/5; 12/48] END rgsr__max_depth=11, rgsr__min_samples_split=10, rgsr__n_estimators=900, rgsr__random_state=250923; total time=   6.8s\n",
      "[CV 1/5; 13/48] START rgsr__max_depth=12, rgsr__min_samples_split=7, rgsr__n_estimators=700, rgsr__random_state=250923\n",
      "[CV 1/5; 13/48] END rgsr__max_depth=12, rgsr__min_samples_split=7, rgsr__n_estimators=700, rgsr__random_state=250923; total time=   6.0s\n",
      "[CV 2/5; 13/48] START rgsr__max_depth=12, rgsr__min_samples_split=7, rgsr__n_estimators=700, rgsr__random_state=250923\n",
      "[CV 2/5; 13/48] END rgsr__max_depth=12, rgsr__min_samples_split=7, rgsr__n_estimators=700, rgsr__random_state=250923; total time=   5.9s\n",
      "[CV 3/5; 13/48] START rgsr__max_depth=12, rgsr__min_samples_split=7, rgsr__n_estimators=700, rgsr__random_state=250923\n",
      "[CV 3/5; 13/48] END rgsr__max_depth=12, rgsr__min_samples_split=7, rgsr__n_estimators=700, rgsr__random_state=250923; total time=   5.8s\n",
      "[CV 4/5; 13/48] START rgsr__max_depth=12, rgsr__min_samples_split=7, rgsr__n_estimators=700, rgsr__random_state=250923\n",
      "[CV 4/5; 13/48] END rgsr__max_depth=12, rgsr__min_samples_split=7, rgsr__n_estimators=700, rgsr__random_state=250923; total time=   5.8s\n",
      "[CV 5/5; 13/48] START rgsr__max_depth=12, rgsr__min_samples_split=7, rgsr__n_estimators=700, rgsr__random_state=250923\n",
      "[CV 5/5; 13/48] END rgsr__max_depth=12, rgsr__min_samples_split=7, rgsr__n_estimators=700, rgsr__random_state=250923; total time=   5.6s\n",
      "[CV 1/5; 14/48] START rgsr__max_depth=12, rgsr__min_samples_split=7, rgsr__n_estimators=800, rgsr__random_state=250923\n",
      "[CV 1/5; 14/48] END rgsr__max_depth=12, rgsr__min_samples_split=7, rgsr__n_estimators=800, rgsr__random_state=250923; total time=   6.6s\n",
      "[CV 2/5; 14/48] START rgsr__max_depth=12, rgsr__min_samples_split=7, rgsr__n_estimators=800, rgsr__random_state=250923\n",
      "[CV 2/5; 14/48] END rgsr__max_depth=12, rgsr__min_samples_split=7, rgsr__n_estimators=800, rgsr__random_state=250923; total time=   6.7s\n",
      "[CV 3/5; 14/48] START rgsr__max_depth=12, rgsr__min_samples_split=7, rgsr__n_estimators=800, rgsr__random_state=250923\n",
      "[CV 3/5; 14/48] END rgsr__max_depth=12, rgsr__min_samples_split=7, rgsr__n_estimators=800, rgsr__random_state=250923; total time=   6.5s\n",
      "[CV 4/5; 14/48] START rgsr__max_depth=12, rgsr__min_samples_split=7, rgsr__n_estimators=800, rgsr__random_state=250923\n",
      "[CV 4/5; 14/48] END rgsr__max_depth=12, rgsr__min_samples_split=7, rgsr__n_estimators=800, rgsr__random_state=250923; total time=   6.6s\n",
      "[CV 5/5; 14/48] START rgsr__max_depth=12, rgsr__min_samples_split=7, rgsr__n_estimators=800, rgsr__random_state=250923\n",
      "[CV 5/5; 14/48] END rgsr__max_depth=12, rgsr__min_samples_split=7, rgsr__n_estimators=800, rgsr__random_state=250923; total time=   6.4s\n",
      "[CV 1/5; 15/48] START rgsr__max_depth=12, rgsr__min_samples_split=7, rgsr__n_estimators=900, rgsr__random_state=250923\n",
      "[CV 1/5; 15/48] END rgsr__max_depth=12, rgsr__min_samples_split=7, rgsr__n_estimators=900, rgsr__random_state=250923; total time=   7.3s\n",
      "[CV 2/5; 15/48] START rgsr__max_depth=12, rgsr__min_samples_split=7, rgsr__n_estimators=900, rgsr__random_state=250923\n",
      "[CV 2/5; 15/48] END rgsr__max_depth=12, rgsr__min_samples_split=7, rgsr__n_estimators=900, rgsr__random_state=250923; total time=   7.4s\n",
      "[CV 3/5; 15/48] START rgsr__max_depth=12, rgsr__min_samples_split=7, rgsr__n_estimators=900, rgsr__random_state=250923\n",
      "[CV 3/5; 15/48] END rgsr__max_depth=12, rgsr__min_samples_split=7, rgsr__n_estimators=900, rgsr__random_state=250923; total time=   7.3s\n",
      "[CV 4/5; 15/48] START rgsr__max_depth=12, rgsr__min_samples_split=7, rgsr__n_estimators=900, rgsr__random_state=250923\n",
      "[CV 4/5; 15/48] END rgsr__max_depth=12, rgsr__min_samples_split=7, rgsr__n_estimators=900, rgsr__random_state=250923; total time=   7.3s\n",
      "[CV 5/5; 15/48] START rgsr__max_depth=12, rgsr__min_samples_split=7, rgsr__n_estimators=900, rgsr__random_state=250923\n",
      "[CV 5/5; 15/48] END rgsr__max_depth=12, rgsr__min_samples_split=7, rgsr__n_estimators=900, rgsr__random_state=250923; total time=   7.2s\n",
      "[CV 1/5; 16/48] START rgsr__max_depth=12, rgsr__min_samples_split=8, rgsr__n_estimators=700, rgsr__random_state=250923\n",
      "[CV 1/5; 16/48] END rgsr__max_depth=12, rgsr__min_samples_split=8, rgsr__n_estimators=700, rgsr__random_state=250923; total time=   5.7s\n",
      "[CV 2/5; 16/48] START rgsr__max_depth=12, rgsr__min_samples_split=8, rgsr__n_estimators=700, rgsr__random_state=250923\n",
      "[CV 2/5; 16/48] END rgsr__max_depth=12, rgsr__min_samples_split=8, rgsr__n_estimators=700, rgsr__random_state=250923; total time=   6.0s\n",
      "[CV 3/5; 16/48] START rgsr__max_depth=12, rgsr__min_samples_split=8, rgsr__n_estimators=700, rgsr__random_state=250923\n",
      "[CV 3/5; 16/48] END rgsr__max_depth=12, rgsr__min_samples_split=8, rgsr__n_estimators=700, rgsr__random_state=250923; total time=   5.8s\n",
      "[CV 4/5; 16/48] START rgsr__max_depth=12, rgsr__min_samples_split=8, rgsr__n_estimators=700, rgsr__random_state=250923\n",
      "[CV 4/5; 16/48] END rgsr__max_depth=12, rgsr__min_samples_split=8, rgsr__n_estimators=700, rgsr__random_state=250923; total time=   5.9s\n",
      "[CV 5/5; 16/48] START rgsr__max_depth=12, rgsr__min_samples_split=8, rgsr__n_estimators=700, rgsr__random_state=250923\n",
      "[CV 5/5; 16/48] END rgsr__max_depth=12, rgsr__min_samples_split=8, rgsr__n_estimators=700, rgsr__random_state=250923; total time=   5.6s\n",
      "[CV 1/5; 17/48] START rgsr__max_depth=12, rgsr__min_samples_split=8, rgsr__n_estimators=800, rgsr__random_state=250923\n",
      "[CV 1/5; 17/48] END rgsr__max_depth=12, rgsr__min_samples_split=8, rgsr__n_estimators=800, rgsr__random_state=250923; total time=   6.5s\n",
      "[CV 2/5; 17/48] START rgsr__max_depth=12, rgsr__min_samples_split=8, rgsr__n_estimators=800, rgsr__random_state=250923\n",
      "[CV 2/5; 17/48] END rgsr__max_depth=12, rgsr__min_samples_split=8, rgsr__n_estimators=800, rgsr__random_state=250923; total time=   6.5s\n",
      "[CV 3/5; 17/48] START rgsr__max_depth=12, rgsr__min_samples_split=8, rgsr__n_estimators=800, rgsr__random_state=250923\n",
      "[CV 3/5; 17/48] END rgsr__max_depth=12, rgsr__min_samples_split=8, rgsr__n_estimators=800, rgsr__random_state=250923; total time=   6.3s\n",
      "[CV 4/5; 17/48] START rgsr__max_depth=12, rgsr__min_samples_split=8, rgsr__n_estimators=800, rgsr__random_state=250923\n",
      "[CV 4/5; 17/48] END rgsr__max_depth=12, rgsr__min_samples_split=8, rgsr__n_estimators=800, rgsr__random_state=250923; total time=   6.4s\n",
      "[CV 5/5; 17/48] START rgsr__max_depth=12, rgsr__min_samples_split=8, rgsr__n_estimators=800, rgsr__random_state=250923\n",
      "[CV 5/5; 17/48] END rgsr__max_depth=12, rgsr__min_samples_split=8, rgsr__n_estimators=800, rgsr__random_state=250923; total time=   6.3s\n",
      "[CV 1/5; 18/48] START rgsr__max_depth=12, rgsr__min_samples_split=8, rgsr__n_estimators=900, rgsr__random_state=250923\n",
      "[CV 1/5; 18/48] END rgsr__max_depth=12, rgsr__min_samples_split=8, rgsr__n_estimators=900, rgsr__random_state=250923; total time=   7.2s\n",
      "[CV 2/5; 18/48] START rgsr__max_depth=12, rgsr__min_samples_split=8, rgsr__n_estimators=900, rgsr__random_state=250923\n",
      "[CV 2/5; 18/48] END rgsr__max_depth=12, rgsr__min_samples_split=8, rgsr__n_estimators=900, rgsr__random_state=250923; total time=   7.4s\n",
      "[CV 3/5; 18/48] START rgsr__max_depth=12, rgsr__min_samples_split=8, rgsr__n_estimators=900, rgsr__random_state=250923\n",
      "[CV 3/5; 18/48] END rgsr__max_depth=12, rgsr__min_samples_split=8, rgsr__n_estimators=900, rgsr__random_state=250923; total time=   7.3s\n",
      "[CV 4/5; 18/48] START rgsr__max_depth=12, rgsr__min_samples_split=8, rgsr__n_estimators=900, rgsr__random_state=250923\n",
      "[CV 4/5; 18/48] END rgsr__max_depth=12, rgsr__min_samples_split=8, rgsr__n_estimators=900, rgsr__random_state=250923; total time=   7.3s\n",
      "[CV 5/5; 18/48] START rgsr__max_depth=12, rgsr__min_samples_split=8, rgsr__n_estimators=900, rgsr__random_state=250923\n",
      "[CV 5/5; 18/48] END rgsr__max_depth=12, rgsr__min_samples_split=8, rgsr__n_estimators=900, rgsr__random_state=250923; total time=   7.2s\n",
      "[CV 1/5; 19/48] START rgsr__max_depth=12, rgsr__min_samples_split=9, rgsr__n_estimators=700, rgsr__random_state=250923\n",
      "[CV 1/5; 19/48] END rgsr__max_depth=12, rgsr__min_samples_split=9, rgsr__n_estimators=700, rgsr__random_state=250923; total time=   5.6s\n",
      "[CV 2/5; 19/48] START rgsr__max_depth=12, rgsr__min_samples_split=9, rgsr__n_estimators=700, rgsr__random_state=250923\n",
      "[CV 2/5; 19/48] END rgsr__max_depth=12, rgsr__min_samples_split=9, rgsr__n_estimators=700, rgsr__random_state=250923; total time=   5.7s\n",
      "[CV 3/5; 19/48] START rgsr__max_depth=12, rgsr__min_samples_split=9, rgsr__n_estimators=700, rgsr__random_state=250923\n",
      "[CV 3/5; 19/48] END rgsr__max_depth=12, rgsr__min_samples_split=9, rgsr__n_estimators=700, rgsr__random_state=250923; total time=   5.6s\n",
      "[CV 4/5; 19/48] START rgsr__max_depth=12, rgsr__min_samples_split=9, rgsr__n_estimators=700, rgsr__random_state=250923\n",
      "[CV 4/5; 19/48] END rgsr__max_depth=12, rgsr__min_samples_split=9, rgsr__n_estimators=700, rgsr__random_state=250923; total time=   5.6s\n",
      "[CV 5/5; 19/48] START rgsr__max_depth=12, rgsr__min_samples_split=9, rgsr__n_estimators=700, rgsr__random_state=250923\n",
      "[CV 5/5; 19/48] END rgsr__max_depth=12, rgsr__min_samples_split=9, rgsr__n_estimators=700, rgsr__random_state=250923; total time=   5.6s\n",
      "[CV 1/5; 20/48] START rgsr__max_depth=12, rgsr__min_samples_split=9, rgsr__n_estimators=800, rgsr__random_state=250923\n",
      "[CV 1/5; 20/48] END rgsr__max_depth=12, rgsr__min_samples_split=9, rgsr__n_estimators=800, rgsr__random_state=250923; total time=   6.4s\n",
      "[CV 2/5; 20/48] START rgsr__max_depth=12, rgsr__min_samples_split=9, rgsr__n_estimators=800, rgsr__random_state=250923\n",
      "[CV 2/5; 20/48] END rgsr__max_depth=12, rgsr__min_samples_split=9, rgsr__n_estimators=800, rgsr__random_state=250923; total time=   6.7s\n",
      "[CV 3/5; 20/48] START rgsr__max_depth=12, rgsr__min_samples_split=9, rgsr__n_estimators=800, rgsr__random_state=250923\n",
      "[CV 3/5; 20/48] END rgsr__max_depth=12, rgsr__min_samples_split=9, rgsr__n_estimators=800, rgsr__random_state=250923; total time=   6.5s\n",
      "[CV 4/5; 20/48] START rgsr__max_depth=12, rgsr__min_samples_split=9, rgsr__n_estimators=800, rgsr__random_state=250923\n",
      "[CV 4/5; 20/48] END rgsr__max_depth=12, rgsr__min_samples_split=9, rgsr__n_estimators=800, rgsr__random_state=250923; total time=   6.4s\n",
      "[CV 5/5; 20/48] START rgsr__max_depth=12, rgsr__min_samples_split=9, rgsr__n_estimators=800, rgsr__random_state=250923\n",
      "[CV 5/5; 20/48] END rgsr__max_depth=12, rgsr__min_samples_split=9, rgsr__n_estimators=800, rgsr__random_state=250923; total time=   6.4s\n",
      "[CV 1/5; 21/48] START rgsr__max_depth=12, rgsr__min_samples_split=9, rgsr__n_estimators=900, rgsr__random_state=250923\n",
      "[CV 1/5; 21/48] END rgsr__max_depth=12, rgsr__min_samples_split=9, rgsr__n_estimators=900, rgsr__random_state=250923; total time=   7.3s\n",
      "[CV 2/5; 21/48] START rgsr__max_depth=12, rgsr__min_samples_split=9, rgsr__n_estimators=900, rgsr__random_state=250923\n",
      "[CV 2/5; 21/48] END rgsr__max_depth=12, rgsr__min_samples_split=9, rgsr__n_estimators=900, rgsr__random_state=250923; total time=   7.4s\n",
      "[CV 3/5; 21/48] START rgsr__max_depth=12, rgsr__min_samples_split=9, rgsr__n_estimators=900, rgsr__random_state=250923\n",
      "[CV 3/5; 21/48] END rgsr__max_depth=12, rgsr__min_samples_split=9, rgsr__n_estimators=900, rgsr__random_state=250923; total time=   7.3s\n",
      "[CV 4/5; 21/48] START rgsr__max_depth=12, rgsr__min_samples_split=9, rgsr__n_estimators=900, rgsr__random_state=250923\n",
      "[CV 4/5; 21/48] END rgsr__max_depth=12, rgsr__min_samples_split=9, rgsr__n_estimators=900, rgsr__random_state=250923; total time=   7.3s\n",
      "[CV 5/5; 21/48] START rgsr__max_depth=12, rgsr__min_samples_split=9, rgsr__n_estimators=900, rgsr__random_state=250923\n",
      "[CV 5/5; 21/48] END rgsr__max_depth=12, rgsr__min_samples_split=9, rgsr__n_estimators=900, rgsr__random_state=250923; total time=   7.2s\n",
      "[CV 1/5; 22/48] START rgsr__max_depth=12, rgsr__min_samples_split=10, rgsr__n_estimators=700, rgsr__random_state=250923\n",
      "[CV 1/5; 22/48] END rgsr__max_depth=12, rgsr__min_samples_split=10, rgsr__n_estimators=700, rgsr__random_state=250923; total time=   5.6s\n",
      "[CV 2/5; 22/48] START rgsr__max_depth=12, rgsr__min_samples_split=10, rgsr__n_estimators=700, rgsr__random_state=250923\n",
      "[CV 2/5; 22/48] END rgsr__max_depth=12, rgsr__min_samples_split=10, rgsr__n_estimators=700, rgsr__random_state=250923; total time=   5.7s\n",
      "[CV 3/5; 22/48] START rgsr__max_depth=12, rgsr__min_samples_split=10, rgsr__n_estimators=700, rgsr__random_state=250923\n",
      "[CV 3/5; 22/48] END rgsr__max_depth=12, rgsr__min_samples_split=10, rgsr__n_estimators=700, rgsr__random_state=250923; total time=   5.6s\n",
      "[CV 4/5; 22/48] START rgsr__max_depth=12, rgsr__min_samples_split=10, rgsr__n_estimators=700, rgsr__random_state=250923\n",
      "[CV 4/5; 22/48] END rgsr__max_depth=12, rgsr__min_samples_split=10, rgsr__n_estimators=700, rgsr__random_state=250923; total time=   5.8s\n",
      "[CV 5/5; 22/48] START rgsr__max_depth=12, rgsr__min_samples_split=10, rgsr__n_estimators=700, rgsr__random_state=250923\n",
      "[CV 5/5; 22/48] END rgsr__max_depth=12, rgsr__min_samples_split=10, rgsr__n_estimators=700, rgsr__random_state=250923; total time=   5.6s\n",
      "[CV 1/5; 23/48] START rgsr__max_depth=12, rgsr__min_samples_split=10, rgsr__n_estimators=800, rgsr__random_state=250923\n",
      "[CV 1/5; 23/48] END rgsr__max_depth=12, rgsr__min_samples_split=10, rgsr__n_estimators=800, rgsr__random_state=250923; total time=   6.3s\n",
      "[CV 2/5; 23/48] START rgsr__max_depth=12, rgsr__min_samples_split=10, rgsr__n_estimators=800, rgsr__random_state=250923\n",
      "[CV 2/5; 23/48] END rgsr__max_depth=12, rgsr__min_samples_split=10, rgsr__n_estimators=800, rgsr__random_state=250923; total time=   6.4s\n",
      "[CV 3/5; 23/48] START rgsr__max_depth=12, rgsr__min_samples_split=10, rgsr__n_estimators=800, rgsr__random_state=250923\n",
      "[CV 3/5; 23/48] END rgsr__max_depth=12, rgsr__min_samples_split=10, rgsr__n_estimators=800, rgsr__random_state=250923; total time=   6.3s\n",
      "[CV 4/5; 23/48] START rgsr__max_depth=12, rgsr__min_samples_split=10, rgsr__n_estimators=800, rgsr__random_state=250923\n",
      "[CV 4/5; 23/48] END rgsr__max_depth=12, rgsr__min_samples_split=10, rgsr__n_estimators=800, rgsr__random_state=250923; total time=   6.3s\n",
      "[CV 5/5; 23/48] START rgsr__max_depth=12, rgsr__min_samples_split=10, rgsr__n_estimators=800, rgsr__random_state=250923\n",
      "[CV 5/5; 23/48] END rgsr__max_depth=12, rgsr__min_samples_split=10, rgsr__n_estimators=800, rgsr__random_state=250923; total time=   6.5s\n",
      "[CV 1/5; 24/48] START rgsr__max_depth=12, rgsr__min_samples_split=10, rgsr__n_estimators=900, rgsr__random_state=250923\n",
      "[CV 1/5; 24/48] END rgsr__max_depth=12, rgsr__min_samples_split=10, rgsr__n_estimators=900, rgsr__random_state=250923; total time=   7.2s\n",
      "[CV 2/5; 24/48] START rgsr__max_depth=12, rgsr__min_samples_split=10, rgsr__n_estimators=900, rgsr__random_state=250923\n",
      "[CV 2/5; 24/48] END rgsr__max_depth=12, rgsr__min_samples_split=10, rgsr__n_estimators=900, rgsr__random_state=250923; total time=   7.2s\n",
      "[CV 3/5; 24/48] START rgsr__max_depth=12, rgsr__min_samples_split=10, rgsr__n_estimators=900, rgsr__random_state=250923\n",
      "[CV 3/5; 24/48] END rgsr__max_depth=12, rgsr__min_samples_split=10, rgsr__n_estimators=900, rgsr__random_state=250923; total time=   7.3s\n",
      "[CV 4/5; 24/48] START rgsr__max_depth=12, rgsr__min_samples_split=10, rgsr__n_estimators=900, rgsr__random_state=250923\n",
      "[CV 4/5; 24/48] END rgsr__max_depth=12, rgsr__min_samples_split=10, rgsr__n_estimators=900, rgsr__random_state=250923; total time=   7.4s\n",
      "[CV 5/5; 24/48] START rgsr__max_depth=12, rgsr__min_samples_split=10, rgsr__n_estimators=900, rgsr__random_state=250923\n",
      "[CV 5/5; 24/48] END rgsr__max_depth=12, rgsr__min_samples_split=10, rgsr__n_estimators=900, rgsr__random_state=250923; total time=   7.1s\n",
      "[CV 1/5; 25/48] START rgsr__max_depth=13, rgsr__min_samples_split=7, rgsr__n_estimators=700, rgsr__random_state=250923\n",
      "[CV 1/5; 25/48] END rgsr__max_depth=13, rgsr__min_samples_split=7, rgsr__n_estimators=700, rgsr__random_state=250923; total time=   6.0s\n",
      "[CV 2/5; 25/48] START rgsr__max_depth=13, rgsr__min_samples_split=7, rgsr__n_estimators=700, rgsr__random_state=250923\n",
      "[CV 2/5; 25/48] END rgsr__max_depth=13, rgsr__min_samples_split=7, rgsr__n_estimators=700, rgsr__random_state=250923; total time=   6.0s\n",
      "[CV 3/5; 25/48] START rgsr__max_depth=13, rgsr__min_samples_split=7, rgsr__n_estimators=700, rgsr__random_state=250923\n",
      "[CV 3/5; 25/48] END rgsr__max_depth=13, rgsr__min_samples_split=7, rgsr__n_estimators=700, rgsr__random_state=250923; total time=   6.0s\n",
      "[CV 4/5; 25/48] START rgsr__max_depth=13, rgsr__min_samples_split=7, rgsr__n_estimators=700, rgsr__random_state=250923\n",
      "[CV 4/5; 25/48] END rgsr__max_depth=13, rgsr__min_samples_split=7, rgsr__n_estimators=700, rgsr__random_state=250923; total time=   6.0s\n",
      "[CV 5/5; 25/48] START rgsr__max_depth=13, rgsr__min_samples_split=7, rgsr__n_estimators=700, rgsr__random_state=250923\n",
      "[CV 5/5; 25/48] END rgsr__max_depth=13, rgsr__min_samples_split=7, rgsr__n_estimators=700, rgsr__random_state=250923; total time=   5.9s\n",
      "[CV 1/5; 26/48] START rgsr__max_depth=13, rgsr__min_samples_split=7, rgsr__n_estimators=800, rgsr__random_state=250923\n",
      "[CV 1/5; 26/48] END rgsr__max_depth=13, rgsr__min_samples_split=7, rgsr__n_estimators=800, rgsr__random_state=250923; total time=   6.7s\n",
      "[CV 2/5; 26/48] START rgsr__max_depth=13, rgsr__min_samples_split=7, rgsr__n_estimators=800, rgsr__random_state=250923\n",
      "[CV 2/5; 26/48] END rgsr__max_depth=13, rgsr__min_samples_split=7, rgsr__n_estimators=800, rgsr__random_state=250923; total time=   7.0s\n",
      "[CV 3/5; 26/48] START rgsr__max_depth=13, rgsr__min_samples_split=7, rgsr__n_estimators=800, rgsr__random_state=250923\n",
      "[CV 3/5; 26/48] END rgsr__max_depth=13, rgsr__min_samples_split=7, rgsr__n_estimators=800, rgsr__random_state=250923; total time=   6.8s\n",
      "[CV 4/5; 26/48] START rgsr__max_depth=13, rgsr__min_samples_split=7, rgsr__n_estimators=800, rgsr__random_state=250923\n",
      "[CV 4/5; 26/48] END rgsr__max_depth=13, rgsr__min_samples_split=7, rgsr__n_estimators=800, rgsr__random_state=250923; total time=   6.9s\n",
      "[CV 5/5; 26/48] START rgsr__max_depth=13, rgsr__min_samples_split=7, rgsr__n_estimators=800, rgsr__random_state=250923\n",
      "[CV 5/5; 26/48] END rgsr__max_depth=13, rgsr__min_samples_split=7, rgsr__n_estimators=800, rgsr__random_state=250923; total time=   6.7s\n",
      "[CV 1/5; 27/48] START rgsr__max_depth=13, rgsr__min_samples_split=7, rgsr__n_estimators=900, rgsr__random_state=250923\n",
      "[CV 1/5; 27/48] END rgsr__max_depth=13, rgsr__min_samples_split=7, rgsr__n_estimators=900, rgsr__random_state=250923; total time=   7.7s\n",
      "[CV 2/5; 27/48] START rgsr__max_depth=13, rgsr__min_samples_split=7, rgsr__n_estimators=900, rgsr__random_state=250923\n",
      "[CV 2/5; 27/48] END rgsr__max_depth=13, rgsr__min_samples_split=7, rgsr__n_estimators=900, rgsr__random_state=250923; total time=   7.7s\n",
      "[CV 3/5; 27/48] START rgsr__max_depth=13, rgsr__min_samples_split=7, rgsr__n_estimators=900, rgsr__random_state=250923\n",
      "[CV 3/5; 27/48] END rgsr__max_depth=13, rgsr__min_samples_split=7, rgsr__n_estimators=900, rgsr__random_state=250923; total time=   7.8s\n",
      "[CV 4/5; 27/48] START rgsr__max_depth=13, rgsr__min_samples_split=7, rgsr__n_estimators=900, rgsr__random_state=250923\n",
      "[CV 4/5; 27/48] END rgsr__max_depth=13, rgsr__min_samples_split=7, rgsr__n_estimators=900, rgsr__random_state=250923; total time=   7.6s\n",
      "[CV 5/5; 27/48] START rgsr__max_depth=13, rgsr__min_samples_split=7, rgsr__n_estimators=900, rgsr__random_state=250923\n",
      "[CV 5/5; 27/48] END rgsr__max_depth=13, rgsr__min_samples_split=7, rgsr__n_estimators=900, rgsr__random_state=250923; total time=   7.5s\n",
      "[CV 1/5; 28/48] START rgsr__max_depth=13, rgsr__min_samples_split=8, rgsr__n_estimators=700, rgsr__random_state=250923\n",
      "[CV 1/5; 28/48] END rgsr__max_depth=13, rgsr__min_samples_split=8, rgsr__n_estimators=700, rgsr__random_state=250923; total time=   5.9s\n",
      "[CV 2/5; 28/48] START rgsr__max_depth=13, rgsr__min_samples_split=8, rgsr__n_estimators=700, rgsr__random_state=250923\n",
      "[CV 2/5; 28/48] END rgsr__max_depth=13, rgsr__min_samples_split=8, rgsr__n_estimators=700, rgsr__random_state=250923; total time=   6.0s\n",
      "[CV 3/5; 28/48] START rgsr__max_depth=13, rgsr__min_samples_split=8, rgsr__n_estimators=700, rgsr__random_state=250923\n",
      "[CV 3/5; 28/48] END rgsr__max_depth=13, rgsr__min_samples_split=8, rgsr__n_estimators=700, rgsr__random_state=250923; total time=   5.7s\n",
      "[CV 4/5; 28/48] START rgsr__max_depth=13, rgsr__min_samples_split=8, rgsr__n_estimators=700, rgsr__random_state=250923\n",
      "[CV 4/5; 28/48] END rgsr__max_depth=13, rgsr__min_samples_split=8, rgsr__n_estimators=700, rgsr__random_state=250923; total time=   5.9s\n",
      "[CV 5/5; 28/48] START rgsr__max_depth=13, rgsr__min_samples_split=8, rgsr__n_estimators=700, rgsr__random_state=250923\n",
      "[CV 5/5; 28/48] END rgsr__max_depth=13, rgsr__min_samples_split=8, rgsr__n_estimators=700, rgsr__random_state=250923; total time=   5.8s\n",
      "[CV 1/5; 29/48] START rgsr__max_depth=13, rgsr__min_samples_split=8, rgsr__n_estimators=800, rgsr__random_state=250923\n",
      "[CV 1/5; 29/48] END rgsr__max_depth=13, rgsr__min_samples_split=8, rgsr__n_estimators=800, rgsr__random_state=250923; total time=   6.6s\n",
      "[CV 2/5; 29/48] START rgsr__max_depth=13, rgsr__min_samples_split=8, rgsr__n_estimators=800, rgsr__random_state=250923\n",
      "[CV 2/5; 29/48] END rgsr__max_depth=13, rgsr__min_samples_split=8, rgsr__n_estimators=800, rgsr__random_state=250923; total time=   6.7s\n",
      "[CV 3/5; 29/48] START rgsr__max_depth=13, rgsr__min_samples_split=8, rgsr__n_estimators=800, rgsr__random_state=250923\n",
      "[CV 3/5; 29/48] END rgsr__max_depth=13, rgsr__min_samples_split=8, rgsr__n_estimators=800, rgsr__random_state=250923; total time=   6.6s\n",
      "[CV 4/5; 29/48] START rgsr__max_depth=13, rgsr__min_samples_split=8, rgsr__n_estimators=800, rgsr__random_state=250923\n",
      "[CV 4/5; 29/48] END rgsr__max_depth=13, rgsr__min_samples_split=8, rgsr__n_estimators=800, rgsr__random_state=250923; total time=   6.7s\n",
      "[CV 5/5; 29/48] START rgsr__max_depth=13, rgsr__min_samples_split=8, rgsr__n_estimators=800, rgsr__random_state=250923\n",
      "[CV 5/5; 29/48] END rgsr__max_depth=13, rgsr__min_samples_split=8, rgsr__n_estimators=800, rgsr__random_state=250923; total time=   6.6s\n",
      "[CV 1/5; 30/48] START rgsr__max_depth=13, rgsr__min_samples_split=8, rgsr__n_estimators=900, rgsr__random_state=250923\n",
      "[CV 1/5; 30/48] END rgsr__max_depth=13, rgsr__min_samples_split=8, rgsr__n_estimators=900, rgsr__random_state=250923; total time=   7.5s\n",
      "[CV 2/5; 30/48] START rgsr__max_depth=13, rgsr__min_samples_split=8, rgsr__n_estimators=900, rgsr__random_state=250923\n",
      "[CV 2/5; 30/48] END rgsr__max_depth=13, rgsr__min_samples_split=8, rgsr__n_estimators=900, rgsr__random_state=250923; total time=   7.6s\n",
      "[CV 3/5; 30/48] START rgsr__max_depth=13, rgsr__min_samples_split=8, rgsr__n_estimators=900, rgsr__random_state=250923\n",
      "[CV 3/5; 30/48] END rgsr__max_depth=13, rgsr__min_samples_split=8, rgsr__n_estimators=900, rgsr__random_state=250923; total time=   7.5s\n",
      "[CV 4/5; 30/48] START rgsr__max_depth=13, rgsr__min_samples_split=8, rgsr__n_estimators=900, rgsr__random_state=250923\n",
      "[CV 4/5; 30/48] END rgsr__max_depth=13, rgsr__min_samples_split=8, rgsr__n_estimators=900, rgsr__random_state=250923; total time=   7.5s\n",
      "[CV 5/5; 30/48] START rgsr__max_depth=13, rgsr__min_samples_split=8, rgsr__n_estimators=900, rgsr__random_state=250923\n",
      "[CV 5/5; 30/48] END rgsr__max_depth=13, rgsr__min_samples_split=8, rgsr__n_estimators=900, rgsr__random_state=250923; total time=   7.4s\n",
      "[CV 1/5; 31/48] START rgsr__max_depth=13, rgsr__min_samples_split=9, rgsr__n_estimators=700, rgsr__random_state=250923\n",
      "[CV 1/5; 31/48] END rgsr__max_depth=13, rgsr__min_samples_split=9, rgsr__n_estimators=700, rgsr__random_state=250923; total time=   5.9s\n",
      "[CV 2/5; 31/48] START rgsr__max_depth=13, rgsr__min_samples_split=9, rgsr__n_estimators=700, rgsr__random_state=250923\n",
      "[CV 2/5; 31/48] END rgsr__max_depth=13, rgsr__min_samples_split=9, rgsr__n_estimators=700, rgsr__random_state=250923; total time=   6.2s\n",
      "[CV 3/5; 31/48] START rgsr__max_depth=13, rgsr__min_samples_split=9, rgsr__n_estimators=700, rgsr__random_state=250923\n",
      "[CV 3/5; 31/48] END rgsr__max_depth=13, rgsr__min_samples_split=9, rgsr__n_estimators=700, rgsr__random_state=250923; total time=   5.7s\n",
      "[CV 4/5; 31/48] START rgsr__max_depth=13, rgsr__min_samples_split=9, rgsr__n_estimators=700, rgsr__random_state=250923\n",
      "[CV 4/5; 31/48] END rgsr__max_depth=13, rgsr__min_samples_split=9, rgsr__n_estimators=700, rgsr__random_state=250923; total time=   5.8s\n",
      "[CV 5/5; 31/48] START rgsr__max_depth=13, rgsr__min_samples_split=9, rgsr__n_estimators=700, rgsr__random_state=250923\n",
      "[CV 5/5; 31/48] END rgsr__max_depth=13, rgsr__min_samples_split=9, rgsr__n_estimators=700, rgsr__random_state=250923; total time=   5.7s\n",
      "[CV 1/5; 32/48] START rgsr__max_depth=13, rgsr__min_samples_split=9, rgsr__n_estimators=800, rgsr__random_state=250923\n",
      "[CV 1/5; 32/48] END rgsr__max_depth=13, rgsr__min_samples_split=9, rgsr__n_estimators=800, rgsr__random_state=250923; total time=   6.6s\n",
      "[CV 2/5; 32/48] START rgsr__max_depth=13, rgsr__min_samples_split=9, rgsr__n_estimators=800, rgsr__random_state=250923\n",
      "[CV 2/5; 32/48] END rgsr__max_depth=13, rgsr__min_samples_split=9, rgsr__n_estimators=800, rgsr__random_state=250923; total time=   6.6s\n",
      "[CV 3/5; 32/48] START rgsr__max_depth=13, rgsr__min_samples_split=9, rgsr__n_estimators=800, rgsr__random_state=250923\n",
      "[CV 3/5; 32/48] END rgsr__max_depth=13, rgsr__min_samples_split=9, rgsr__n_estimators=800, rgsr__random_state=250923; total time=   6.5s\n",
      "[CV 4/5; 32/48] START rgsr__max_depth=13, rgsr__min_samples_split=9, rgsr__n_estimators=800, rgsr__random_state=250923\n",
      "[CV 4/5; 32/48] END rgsr__max_depth=13, rgsr__min_samples_split=9, rgsr__n_estimators=800, rgsr__random_state=250923; total time=   6.5s\n",
      "[CV 5/5; 32/48] START rgsr__max_depth=13, rgsr__min_samples_split=9, rgsr__n_estimators=800, rgsr__random_state=250923\n",
      "[CV 5/5; 32/48] END rgsr__max_depth=13, rgsr__min_samples_split=9, rgsr__n_estimators=800, rgsr__random_state=250923; total time=   6.4s\n",
      "[CV 1/5; 33/48] START rgsr__max_depth=13, rgsr__min_samples_split=9, rgsr__n_estimators=900, rgsr__random_state=250923\n",
      "[CV 1/5; 33/48] END rgsr__max_depth=13, rgsr__min_samples_split=9, rgsr__n_estimators=900, rgsr__random_state=250923; total time=   7.4s\n",
      "[CV 2/5; 33/48] START rgsr__max_depth=13, rgsr__min_samples_split=9, rgsr__n_estimators=900, rgsr__random_state=250923\n",
      "[CV 2/5; 33/48] END rgsr__max_depth=13, rgsr__min_samples_split=9, rgsr__n_estimators=900, rgsr__random_state=250923; total time=   7.3s\n",
      "[CV 3/5; 33/48] START rgsr__max_depth=13, rgsr__min_samples_split=9, rgsr__n_estimators=900, rgsr__random_state=250923\n",
      "[CV 3/5; 33/48] END rgsr__max_depth=13, rgsr__min_samples_split=9, rgsr__n_estimators=900, rgsr__random_state=250923; total time=   7.3s\n",
      "[CV 4/5; 33/48] START rgsr__max_depth=13, rgsr__min_samples_split=9, rgsr__n_estimators=900, rgsr__random_state=250923\n",
      "[CV 4/5; 33/48] END rgsr__max_depth=13, rgsr__min_samples_split=9, rgsr__n_estimators=900, rgsr__random_state=250923; total time=   7.2s\n",
      "[CV 5/5; 33/48] START rgsr__max_depth=13, rgsr__min_samples_split=9, rgsr__n_estimators=900, rgsr__random_state=250923\n",
      "[CV 5/5; 33/48] END rgsr__max_depth=13, rgsr__min_samples_split=9, rgsr__n_estimators=900, rgsr__random_state=250923; total time=   7.2s\n",
      "[CV 1/5; 34/48] START rgsr__max_depth=13, rgsr__min_samples_split=10, rgsr__n_estimators=700, rgsr__random_state=250923\n",
      "[CV 1/5; 34/48] END rgsr__max_depth=13, rgsr__min_samples_split=10, rgsr__n_estimators=700, rgsr__random_state=250923; total time=   5.6s\n",
      "[CV 2/5; 34/48] START rgsr__max_depth=13, rgsr__min_samples_split=10, rgsr__n_estimators=700, rgsr__random_state=250923\n",
      "[CV 2/5; 34/48] END rgsr__max_depth=13, rgsr__min_samples_split=10, rgsr__n_estimators=700, rgsr__random_state=250923; total time=   5.7s\n",
      "[CV 3/5; 34/48] START rgsr__max_depth=13, rgsr__min_samples_split=10, rgsr__n_estimators=700, rgsr__random_state=250923\n",
      "[CV 3/5; 34/48] END rgsr__max_depth=13, rgsr__min_samples_split=10, rgsr__n_estimators=700, rgsr__random_state=250923; total time=   5.6s\n",
      "[CV 4/5; 34/48] START rgsr__max_depth=13, rgsr__min_samples_split=10, rgsr__n_estimators=700, rgsr__random_state=250923\n",
      "[CV 4/5; 34/48] END rgsr__max_depth=13, rgsr__min_samples_split=10, rgsr__n_estimators=700, rgsr__random_state=250923; total time=   5.7s\n",
      "[CV 5/5; 34/48] START rgsr__max_depth=13, rgsr__min_samples_split=10, rgsr__n_estimators=700, rgsr__random_state=250923\n",
      "[CV 5/5; 34/48] END rgsr__max_depth=13, rgsr__min_samples_split=10, rgsr__n_estimators=700, rgsr__random_state=250923; total time=   5.9s\n",
      "[CV 1/5; 35/48] START rgsr__max_depth=13, rgsr__min_samples_split=10, rgsr__n_estimators=800, rgsr__random_state=250923\n",
      "[CV 1/5; 35/48] END rgsr__max_depth=13, rgsr__min_samples_split=10, rgsr__n_estimators=800, rgsr__random_state=250923; total time=   6.4s\n",
      "[CV 2/5; 35/48] START rgsr__max_depth=13, rgsr__min_samples_split=10, rgsr__n_estimators=800, rgsr__random_state=250923\n",
      "[CV 2/5; 35/48] END rgsr__max_depth=13, rgsr__min_samples_split=10, rgsr__n_estimators=800, rgsr__random_state=250923; total time=   6.5s\n",
      "[CV 3/5; 35/48] START rgsr__max_depth=13, rgsr__min_samples_split=10, rgsr__n_estimators=800, rgsr__random_state=250923\n",
      "[CV 3/5; 35/48] END rgsr__max_depth=13, rgsr__min_samples_split=10, rgsr__n_estimators=800, rgsr__random_state=250923; total time=   6.4s\n",
      "[CV 4/5; 35/48] START rgsr__max_depth=13, rgsr__min_samples_split=10, rgsr__n_estimators=800, rgsr__random_state=250923\n",
      "[CV 4/5; 35/48] END rgsr__max_depth=13, rgsr__min_samples_split=10, rgsr__n_estimators=800, rgsr__random_state=250923; total time=   6.5s\n",
      "[CV 5/5; 35/48] START rgsr__max_depth=13, rgsr__min_samples_split=10, rgsr__n_estimators=800, rgsr__random_state=250923\n",
      "[CV 5/5; 35/48] END rgsr__max_depth=13, rgsr__min_samples_split=10, rgsr__n_estimators=800, rgsr__random_state=250923; total time=   6.3s\n",
      "[CV 1/5; 36/48] START rgsr__max_depth=13, rgsr__min_samples_split=10, rgsr__n_estimators=900, rgsr__random_state=250923\n",
      "[CV 1/5; 36/48] END rgsr__max_depth=13, rgsr__min_samples_split=10, rgsr__n_estimators=900, rgsr__random_state=250923; total time=   7.3s\n",
      "[CV 2/5; 36/48] START rgsr__max_depth=13, rgsr__min_samples_split=10, rgsr__n_estimators=900, rgsr__random_state=250923\n",
      "[CV 2/5; 36/48] END rgsr__max_depth=13, rgsr__min_samples_split=10, rgsr__n_estimators=900, rgsr__random_state=250923; total time=   7.3s\n",
      "[CV 3/5; 36/48] START rgsr__max_depth=13, rgsr__min_samples_split=10, rgsr__n_estimators=900, rgsr__random_state=250923\n",
      "[CV 3/5; 36/48] END rgsr__max_depth=13, rgsr__min_samples_split=10, rgsr__n_estimators=900, rgsr__random_state=250923; total time=   7.3s\n",
      "[CV 4/5; 36/48] START rgsr__max_depth=13, rgsr__min_samples_split=10, rgsr__n_estimators=900, rgsr__random_state=250923\n",
      "[CV 4/5; 36/48] END rgsr__max_depth=13, rgsr__min_samples_split=10, rgsr__n_estimators=900, rgsr__random_state=250923; total time=   7.4s\n",
      "[CV 5/5; 36/48] START rgsr__max_depth=13, rgsr__min_samples_split=10, rgsr__n_estimators=900, rgsr__random_state=250923\n",
      "[CV 5/5; 36/48] END rgsr__max_depth=13, rgsr__min_samples_split=10, rgsr__n_estimators=900, rgsr__random_state=250923; total time=   7.1s\n",
      "[CV 1/5; 37/48] START rgsr__max_depth=14, rgsr__min_samples_split=7, rgsr__n_estimators=700, rgsr__random_state=250923\n",
      "[CV 1/5; 37/48] END rgsr__max_depth=14, rgsr__min_samples_split=7, rgsr__n_estimators=700, rgsr__random_state=250923; total time=   6.0s\n",
      "[CV 2/5; 37/48] START rgsr__max_depth=14, rgsr__min_samples_split=7, rgsr__n_estimators=700, rgsr__random_state=250923\n",
      "[CV 2/5; 37/48] END rgsr__max_depth=14, rgsr__min_samples_split=7, rgsr__n_estimators=700, rgsr__random_state=250923; total time=   6.0s\n",
      "[CV 3/5; 37/48] START rgsr__max_depth=14, rgsr__min_samples_split=7, rgsr__n_estimators=700, rgsr__random_state=250923\n",
      "[CV 3/5; 37/48] END rgsr__max_depth=14, rgsr__min_samples_split=7, rgsr__n_estimators=700, rgsr__random_state=250923; total time=   6.0s\n",
      "[CV 4/5; 37/48] START rgsr__max_depth=14, rgsr__min_samples_split=7, rgsr__n_estimators=700, rgsr__random_state=250923\n",
      "[CV 4/5; 37/48] END rgsr__max_depth=14, rgsr__min_samples_split=7, rgsr__n_estimators=700, rgsr__random_state=250923; total time=   5.9s\n",
      "[CV 5/5; 37/48] START rgsr__max_depth=14, rgsr__min_samples_split=7, rgsr__n_estimators=700, rgsr__random_state=250923\n",
      "[CV 5/5; 37/48] END rgsr__max_depth=14, rgsr__min_samples_split=7, rgsr__n_estimators=700, rgsr__random_state=250923; total time=   5.9s\n",
      "[CV 1/5; 38/48] START rgsr__max_depth=14, rgsr__min_samples_split=7, rgsr__n_estimators=800, rgsr__random_state=250923\n",
      "[CV 1/5; 38/48] END rgsr__max_depth=14, rgsr__min_samples_split=7, rgsr__n_estimators=800, rgsr__random_state=250923; total time=   6.9s\n",
      "[CV 2/5; 38/48] START rgsr__max_depth=14, rgsr__min_samples_split=7, rgsr__n_estimators=800, rgsr__random_state=250923\n",
      "[CV 2/5; 38/48] END rgsr__max_depth=14, rgsr__min_samples_split=7, rgsr__n_estimators=800, rgsr__random_state=250923; total time=   7.2s\n",
      "[CV 3/5; 38/48] START rgsr__max_depth=14, rgsr__min_samples_split=7, rgsr__n_estimators=800, rgsr__random_state=250923\n",
      "[CV 3/5; 38/48] END rgsr__max_depth=14, rgsr__min_samples_split=7, rgsr__n_estimators=800, rgsr__random_state=250923; total time=   6.8s\n",
      "[CV 4/5; 38/48] START rgsr__max_depth=14, rgsr__min_samples_split=7, rgsr__n_estimators=800, rgsr__random_state=250923\n",
      "[CV 4/5; 38/48] END rgsr__max_depth=14, rgsr__min_samples_split=7, rgsr__n_estimators=800, rgsr__random_state=250923; total time=   6.9s\n",
      "[CV 5/5; 38/48] START rgsr__max_depth=14, rgsr__min_samples_split=7, rgsr__n_estimators=800, rgsr__random_state=250923\n",
      "[CV 5/5; 38/48] END rgsr__max_depth=14, rgsr__min_samples_split=7, rgsr__n_estimators=800, rgsr__random_state=250923; total time=   6.9s\n",
      "[CV 1/5; 39/48] START rgsr__max_depth=14, rgsr__min_samples_split=7, rgsr__n_estimators=900, rgsr__random_state=250923\n",
      "[CV 1/5; 39/48] END rgsr__max_depth=14, rgsr__min_samples_split=7, rgsr__n_estimators=900, rgsr__random_state=250923; total time=   7.6s\n",
      "[CV 2/5; 39/48] START rgsr__max_depth=14, rgsr__min_samples_split=7, rgsr__n_estimators=900, rgsr__random_state=250923\n",
      "[CV 2/5; 39/48] END rgsr__max_depth=14, rgsr__min_samples_split=7, rgsr__n_estimators=900, rgsr__random_state=250923; total time=   7.8s\n",
      "[CV 3/5; 39/48] START rgsr__max_depth=14, rgsr__min_samples_split=7, rgsr__n_estimators=900, rgsr__random_state=250923\n",
      "[CV 3/5; 39/48] END rgsr__max_depth=14, rgsr__min_samples_split=7, rgsr__n_estimators=900, rgsr__random_state=250923; total time=   7.7s\n",
      "[CV 4/5; 39/48] START rgsr__max_depth=14, rgsr__min_samples_split=7, rgsr__n_estimators=900, rgsr__random_state=250923\n",
      "[CV 4/5; 39/48] END rgsr__max_depth=14, rgsr__min_samples_split=7, rgsr__n_estimators=900, rgsr__random_state=250923; total time=   7.6s\n",
      "[CV 5/5; 39/48] START rgsr__max_depth=14, rgsr__min_samples_split=7, rgsr__n_estimators=900, rgsr__random_state=250923\n",
      "[CV 5/5; 39/48] END rgsr__max_depth=14, rgsr__min_samples_split=7, rgsr__n_estimators=900, rgsr__random_state=250923; total time=   7.6s\n",
      "[CV 1/5; 40/48] START rgsr__max_depth=14, rgsr__min_samples_split=8, rgsr__n_estimators=700, rgsr__random_state=250923\n",
      "[CV 1/5; 40/48] END rgsr__max_depth=14, rgsr__min_samples_split=8, rgsr__n_estimators=700, rgsr__random_state=250923; total time=   6.1s\n",
      "[CV 2/5; 40/48] START rgsr__max_depth=14, rgsr__min_samples_split=8, rgsr__n_estimators=700, rgsr__random_state=250923\n",
      "[CV 2/5; 40/48] END rgsr__max_depth=14, rgsr__min_samples_split=8, rgsr__n_estimators=700, rgsr__random_state=250923; total time=   6.3s\n",
      "[CV 3/5; 40/48] START rgsr__max_depth=14, rgsr__min_samples_split=8, rgsr__n_estimators=700, rgsr__random_state=250923\n",
      "[CV 3/5; 40/48] END rgsr__max_depth=14, rgsr__min_samples_split=8, rgsr__n_estimators=700, rgsr__random_state=250923; total time=   5.9s\n",
      "[CV 4/5; 40/48] START rgsr__max_depth=14, rgsr__min_samples_split=8, rgsr__n_estimators=700, rgsr__random_state=250923\n",
      "[CV 4/5; 40/48] END rgsr__max_depth=14, rgsr__min_samples_split=8, rgsr__n_estimators=700, rgsr__random_state=250923; total time=   5.9s\n",
      "[CV 5/5; 40/48] START rgsr__max_depth=14, rgsr__min_samples_split=8, rgsr__n_estimators=700, rgsr__random_state=250923\n",
      "[CV 5/5; 40/48] END rgsr__max_depth=14, rgsr__min_samples_split=8, rgsr__n_estimators=700, rgsr__random_state=250923; total time=   5.9s\n",
      "[CV 1/5; 41/48] START rgsr__max_depth=14, rgsr__min_samples_split=8, rgsr__n_estimators=800, rgsr__random_state=250923\n",
      "[CV 1/5; 41/48] END rgsr__max_depth=14, rgsr__min_samples_split=8, rgsr__n_estimators=800, rgsr__random_state=250923; total time=   6.8s\n",
      "[CV 2/5; 41/48] START rgsr__max_depth=14, rgsr__min_samples_split=8, rgsr__n_estimators=800, rgsr__random_state=250923\n",
      "[CV 2/5; 41/48] END rgsr__max_depth=14, rgsr__min_samples_split=8, rgsr__n_estimators=800, rgsr__random_state=250923; total time=   6.7s\n",
      "[CV 3/5; 41/48] START rgsr__max_depth=14, rgsr__min_samples_split=8, rgsr__n_estimators=800, rgsr__random_state=250923\n",
      "[CV 3/5; 41/48] END rgsr__max_depth=14, rgsr__min_samples_split=8, rgsr__n_estimators=800, rgsr__random_state=250923; total time=   6.7s\n",
      "[CV 4/5; 41/48] START rgsr__max_depth=14, rgsr__min_samples_split=8, rgsr__n_estimators=800, rgsr__random_state=250923\n",
      "[CV 4/5; 41/48] END rgsr__max_depth=14, rgsr__min_samples_split=8, rgsr__n_estimators=800, rgsr__random_state=250923; total time=   6.7s\n",
      "[CV 5/5; 41/48] START rgsr__max_depth=14, rgsr__min_samples_split=8, rgsr__n_estimators=800, rgsr__random_state=250923\n",
      "[CV 5/5; 41/48] END rgsr__max_depth=14, rgsr__min_samples_split=8, rgsr__n_estimators=800, rgsr__random_state=250923; total time=   6.6s\n",
      "[CV 1/5; 42/48] START rgsr__max_depth=14, rgsr__min_samples_split=8, rgsr__n_estimators=900, rgsr__random_state=250923\n",
      "[CV 1/5; 42/48] END rgsr__max_depth=14, rgsr__min_samples_split=8, rgsr__n_estimators=900, rgsr__random_state=250923; total time=   7.8s\n",
      "[CV 2/5; 42/48] START rgsr__max_depth=14, rgsr__min_samples_split=8, rgsr__n_estimators=900, rgsr__random_state=250923\n",
      "[CV 2/5; 42/48] END rgsr__max_depth=14, rgsr__min_samples_split=8, rgsr__n_estimators=900, rgsr__random_state=250923; total time=   7.6s\n",
      "[CV 3/5; 42/48] START rgsr__max_depth=14, rgsr__min_samples_split=8, rgsr__n_estimators=900, rgsr__random_state=250923\n",
      "[CV 3/5; 42/48] END rgsr__max_depth=14, rgsr__min_samples_split=8, rgsr__n_estimators=900, rgsr__random_state=250923; total time=   7.5s\n",
      "[CV 4/5; 42/48] START rgsr__max_depth=14, rgsr__min_samples_split=8, rgsr__n_estimators=900, rgsr__random_state=250923\n",
      "[CV 4/5; 42/48] END rgsr__max_depth=14, rgsr__min_samples_split=8, rgsr__n_estimators=900, rgsr__random_state=250923; total time=   7.5s\n",
      "[CV 5/5; 42/48] START rgsr__max_depth=14, rgsr__min_samples_split=8, rgsr__n_estimators=900, rgsr__random_state=250923\n",
      "[CV 5/5; 42/48] END rgsr__max_depth=14, rgsr__min_samples_split=8, rgsr__n_estimators=900, rgsr__random_state=250923; total time=   7.5s\n",
      "[CV 1/5; 43/48] START rgsr__max_depth=14, rgsr__min_samples_split=9, rgsr__n_estimators=700, rgsr__random_state=250923\n",
      "[CV 1/5; 43/48] END rgsr__max_depth=14, rgsr__min_samples_split=9, rgsr__n_estimators=700, rgsr__random_state=250923; total time=   5.9s\n",
      "[CV 2/5; 43/48] START rgsr__max_depth=14, rgsr__min_samples_split=9, rgsr__n_estimators=700, rgsr__random_state=250923\n",
      "[CV 2/5; 43/48] END rgsr__max_depth=14, rgsr__min_samples_split=9, rgsr__n_estimators=700, rgsr__random_state=250923; total time=   5.9s\n",
      "[CV 3/5; 43/48] START rgsr__max_depth=14, rgsr__min_samples_split=9, rgsr__n_estimators=700, rgsr__random_state=250923\n",
      "[CV 3/5; 43/48] END rgsr__max_depth=14, rgsr__min_samples_split=9, rgsr__n_estimators=700, rgsr__random_state=250923; total time=   5.8s\n",
      "[CV 4/5; 43/48] START rgsr__max_depth=14, rgsr__min_samples_split=9, rgsr__n_estimators=700, rgsr__random_state=250923\n",
      "[CV 4/5; 43/48] END rgsr__max_depth=14, rgsr__min_samples_split=9, rgsr__n_estimators=700, rgsr__random_state=250923; total time=   5.9s\n",
      "[CV 5/5; 43/48] START rgsr__max_depth=14, rgsr__min_samples_split=9, rgsr__n_estimators=700, rgsr__random_state=250923\n",
      "[CV 5/5; 43/48] END rgsr__max_depth=14, rgsr__min_samples_split=9, rgsr__n_estimators=700, rgsr__random_state=250923; total time=   5.8s\n",
      "[CV 1/5; 44/48] START rgsr__max_depth=14, rgsr__min_samples_split=9, rgsr__n_estimators=800, rgsr__random_state=250923\n",
      "[CV 1/5; 44/48] END rgsr__max_depth=14, rgsr__min_samples_split=9, rgsr__n_estimators=800, rgsr__random_state=250923; total time=   6.8s\n",
      "[CV 2/5; 44/48] START rgsr__max_depth=14, rgsr__min_samples_split=9, rgsr__n_estimators=800, rgsr__random_state=250923\n",
      "[CV 2/5; 44/48] END rgsr__max_depth=14, rgsr__min_samples_split=9, rgsr__n_estimators=800, rgsr__random_state=250923; total time=   6.8s\n",
      "[CV 3/5; 44/48] START rgsr__max_depth=14, rgsr__min_samples_split=9, rgsr__n_estimators=800, rgsr__random_state=250923\n",
      "[CV 3/5; 44/48] END rgsr__max_depth=14, rgsr__min_samples_split=9, rgsr__n_estimators=800, rgsr__random_state=250923; total time=   6.6s\n",
      "[CV 4/5; 44/48] START rgsr__max_depth=14, rgsr__min_samples_split=9, rgsr__n_estimators=800, rgsr__random_state=250923\n",
      "[CV 4/5; 44/48] END rgsr__max_depth=14, rgsr__min_samples_split=9, rgsr__n_estimators=800, rgsr__random_state=250923; total time=   6.7s\n",
      "[CV 5/5; 44/48] START rgsr__max_depth=14, rgsr__min_samples_split=9, rgsr__n_estimators=800, rgsr__random_state=250923\n",
      "[CV 5/5; 44/48] END rgsr__max_depth=14, rgsr__min_samples_split=9, rgsr__n_estimators=800, rgsr__random_state=250923; total time=   6.6s\n",
      "[CV 1/5; 45/48] START rgsr__max_depth=14, rgsr__min_samples_split=9, rgsr__n_estimators=900, rgsr__random_state=250923\n",
      "[CV 1/5; 45/48] END rgsr__max_depth=14, rgsr__min_samples_split=9, rgsr__n_estimators=900, rgsr__random_state=250923; total time=   7.5s\n",
      "[CV 2/5; 45/48] START rgsr__max_depth=14, rgsr__min_samples_split=9, rgsr__n_estimators=900, rgsr__random_state=250923\n",
      "[CV 2/5; 45/48] END rgsr__max_depth=14, rgsr__min_samples_split=9, rgsr__n_estimators=900, rgsr__random_state=250923; total time=   7.7s\n",
      "[CV 3/5; 45/48] START rgsr__max_depth=14, rgsr__min_samples_split=9, rgsr__n_estimators=900, rgsr__random_state=250923\n",
      "[CV 3/5; 45/48] END rgsr__max_depth=14, rgsr__min_samples_split=9, rgsr__n_estimators=900, rgsr__random_state=250923; total time=   7.6s\n",
      "[CV 4/5; 45/48] START rgsr__max_depth=14, rgsr__min_samples_split=9, rgsr__n_estimators=900, rgsr__random_state=250923\n",
      "[CV 4/5; 45/48] END rgsr__max_depth=14, rgsr__min_samples_split=9, rgsr__n_estimators=900, rgsr__random_state=250923; total time=   7.5s\n",
      "[CV 5/5; 45/48] START rgsr__max_depth=14, rgsr__min_samples_split=9, rgsr__n_estimators=900, rgsr__random_state=250923\n",
      "[CV 5/5; 45/48] END rgsr__max_depth=14, rgsr__min_samples_split=9, rgsr__n_estimators=900, rgsr__random_state=250923; total time=   7.5s\n",
      "[CV 1/5; 46/48] START rgsr__max_depth=14, rgsr__min_samples_split=10, rgsr__n_estimators=700, rgsr__random_state=250923\n",
      "[CV 1/5; 46/48] END rgsr__max_depth=14, rgsr__min_samples_split=10, rgsr__n_estimators=700, rgsr__random_state=250923; total time=   5.9s\n",
      "[CV 2/5; 46/48] START rgsr__max_depth=14, rgsr__min_samples_split=10, rgsr__n_estimators=700, rgsr__random_state=250923\n",
      "[CV 2/5; 46/48] END rgsr__max_depth=14, rgsr__min_samples_split=10, rgsr__n_estimators=700, rgsr__random_state=250923; total time=   6.1s\n",
      "[CV 3/5; 46/48] START rgsr__max_depth=14, rgsr__min_samples_split=10, rgsr__n_estimators=700, rgsr__random_state=250923\n",
      "[CV 3/5; 46/48] END rgsr__max_depth=14, rgsr__min_samples_split=10, rgsr__n_estimators=700, rgsr__random_state=250923; total time=   5.8s\n",
      "[CV 4/5; 46/48] START rgsr__max_depth=14, rgsr__min_samples_split=10, rgsr__n_estimators=700, rgsr__random_state=250923\n",
      "[CV 4/5; 46/48] END rgsr__max_depth=14, rgsr__min_samples_split=10, rgsr__n_estimators=700, rgsr__random_state=250923; total time=   5.8s\n",
      "[CV 5/5; 46/48] START rgsr__max_depth=14, rgsr__min_samples_split=10, rgsr__n_estimators=700, rgsr__random_state=250923\n",
      "[CV 5/5; 46/48] END rgsr__max_depth=14, rgsr__min_samples_split=10, rgsr__n_estimators=700, rgsr__random_state=250923; total time=   5.8s\n",
      "[CV 1/5; 47/48] START rgsr__max_depth=14, rgsr__min_samples_split=10, rgsr__n_estimators=800, rgsr__random_state=250923\n",
      "[CV 1/5; 47/48] END rgsr__max_depth=14, rgsr__min_samples_split=10, rgsr__n_estimators=800, rgsr__random_state=250923; total time=   6.8s\n",
      "[CV 2/5; 47/48] START rgsr__max_depth=14, rgsr__min_samples_split=10, rgsr__n_estimators=800, rgsr__random_state=250923\n",
      "[CV 2/5; 47/48] END rgsr__max_depth=14, rgsr__min_samples_split=10, rgsr__n_estimators=800, rgsr__random_state=250923; total time=   7.0s\n",
      "[CV 3/5; 47/48] START rgsr__max_depth=14, rgsr__min_samples_split=10, rgsr__n_estimators=800, rgsr__random_state=250923\n",
      "[CV 3/5; 47/48] END rgsr__max_depth=14, rgsr__min_samples_split=10, rgsr__n_estimators=800, rgsr__random_state=250923; total time=   6.6s\n",
      "[CV 4/5; 47/48] START rgsr__max_depth=14, rgsr__min_samples_split=10, rgsr__n_estimators=800, rgsr__random_state=250923\n",
      "[CV 4/5; 47/48] END rgsr__max_depth=14, rgsr__min_samples_split=10, rgsr__n_estimators=800, rgsr__random_state=250923; total time=   6.7s\n",
      "[CV 5/5; 47/48] START rgsr__max_depth=14, rgsr__min_samples_split=10, rgsr__n_estimators=800, rgsr__random_state=250923\n",
      "[CV 5/5; 47/48] END rgsr__max_depth=14, rgsr__min_samples_split=10, rgsr__n_estimators=800, rgsr__random_state=250923; total time=   6.5s\n",
      "[CV 1/5; 48/48] START rgsr__max_depth=14, rgsr__min_samples_split=10, rgsr__n_estimators=900, rgsr__random_state=250923\n",
      "[CV 1/5; 48/48] END rgsr__max_depth=14, rgsr__min_samples_split=10, rgsr__n_estimators=900, rgsr__random_state=250923; total time=   7.5s\n",
      "[CV 2/5; 48/48] START rgsr__max_depth=14, rgsr__min_samples_split=10, rgsr__n_estimators=900, rgsr__random_state=250923\n",
      "[CV 2/5; 48/48] END rgsr__max_depth=14, rgsr__min_samples_split=10, rgsr__n_estimators=900, rgsr__random_state=250923; total time=   7.5s\n",
      "[CV 3/5; 48/48] START rgsr__max_depth=14, rgsr__min_samples_split=10, rgsr__n_estimators=900, rgsr__random_state=250923\n",
      "[CV 3/5; 48/48] END rgsr__max_depth=14, rgsr__min_samples_split=10, rgsr__n_estimators=900, rgsr__random_state=250923; total time=   7.5s\n",
      "[CV 4/5; 48/48] START rgsr__max_depth=14, rgsr__min_samples_split=10, rgsr__n_estimators=900, rgsr__random_state=250923\n",
      "[CV 4/5; 48/48] END rgsr__max_depth=14, rgsr__min_samples_split=10, rgsr__n_estimators=900, rgsr__random_state=250923; total time=   7.5s\n",
      "[CV 5/5; 48/48] START rgsr__max_depth=14, rgsr__min_samples_split=10, rgsr__n_estimators=900, rgsr__random_state=250923\n",
      "[CV 5/5; 48/48] END rgsr__max_depth=14, rgsr__min_samples_split=10, rgsr__n_estimators=900, rgsr__random_state=250923; total time=   7.3s\n",
      "(-6.396767452388482, Pipeline(steps=[('Sclr', StandardScaler()),\n",
      "                ('rgsr',\n",
      "                 RandomForestRegressor(max_depth=13, min_samples_split=9,\n",
      "                                       n_estimators=800,\n",
      "                                       random_state=250923))]))\n",
      "CPU times: user 25min 58s, sys: 6.48 s, total: 26min 5s\n",
      "Wall time: 26min 9s\n"
     ]
    }
   ],
   "source": [
    "%%time\n",
    "result_RFR = model_run(model_RFR, param_RFR, X_train, y_train)\n",
    "result_list.append(round(result_RFR[0]*-1, 2))\n",
    "print(result_RFR)"
   ]
  },
  {
   "cell_type": "code",
   "execution_count": 82,
   "id": "2d4809cf",
   "metadata": {
    "collapsed": true
   },
   "outputs": [
    {
     "name": "stdout",
     "output_type": "stream",
     "text": [
      "Fitting 5 folds for each of 25 candidates, totalling 125 fits\n",
      "[CV 1/5; 1/25] START rgsr__max_depth=7, rgsr__n_estimators=20, rgsr__random_state=250923\n",
      "[CV 1/5; 1/25] END rgsr__max_depth=7, rgsr__n_estimators=20, rgsr__random_state=250923; total time=   0.2s\n",
      "[CV 2/5; 1/25] START rgsr__max_depth=7, rgsr__n_estimators=20, rgsr__random_state=250923\n",
      "[CV 2/5; 1/25] END rgsr__max_depth=7, rgsr__n_estimators=20, rgsr__random_state=250923; total time=   0.3s\n",
      "[CV 3/5; 1/25] START rgsr__max_depth=7, rgsr__n_estimators=20, rgsr__random_state=250923\n",
      "[CV 3/5; 1/25] END rgsr__max_depth=7, rgsr__n_estimators=20, rgsr__random_state=250923; total time=   0.4s\n",
      "[CV 4/5; 1/25] START rgsr__max_depth=7, rgsr__n_estimators=20, rgsr__random_state=250923\n",
      "[CV 4/5; 1/25] END rgsr__max_depth=7, rgsr__n_estimators=20, rgsr__random_state=250923; total time=   0.2s\n",
      "[CV 5/5; 1/25] START rgsr__max_depth=7, rgsr__n_estimators=20, rgsr__random_state=250923\n",
      "[CV 5/5; 1/25] END rgsr__max_depth=7, rgsr__n_estimators=20, rgsr__random_state=250923; total time=   0.3s\n",
      "[CV 1/5; 2/25] START rgsr__max_depth=7, rgsr__n_estimators=45, rgsr__random_state=250923\n",
      "[CV 1/5; 2/25] END rgsr__max_depth=7, rgsr__n_estimators=45, rgsr__random_state=250923; total time=   0.4s\n",
      "[CV 2/5; 2/25] START rgsr__max_depth=7, rgsr__n_estimators=45, rgsr__random_state=250923\n",
      "[CV 2/5; 2/25] END rgsr__max_depth=7, rgsr__n_estimators=45, rgsr__random_state=250923; total time=   0.6s\n",
      "[CV 3/5; 2/25] START rgsr__max_depth=7, rgsr__n_estimators=45, rgsr__random_state=250923\n",
      "[CV 3/5; 2/25] END rgsr__max_depth=7, rgsr__n_estimators=45, rgsr__random_state=250923; total time=   0.4s\n",
      "[CV 4/5; 2/25] START rgsr__max_depth=7, rgsr__n_estimators=45, rgsr__random_state=250923\n",
      "[CV 4/5; 2/25] END rgsr__max_depth=7, rgsr__n_estimators=45, rgsr__random_state=250923; total time=   0.4s\n",
      "[CV 5/5; 2/25] START rgsr__max_depth=7, rgsr__n_estimators=45, rgsr__random_state=250923\n",
      "[CV 5/5; 2/25] END rgsr__max_depth=7, rgsr__n_estimators=45, rgsr__random_state=250923; total time=   0.5s\n",
      "[CV 1/5; 3/25] START rgsr__max_depth=7, rgsr__n_estimators=50, rgsr__random_state=250923\n",
      "[CV 1/5; 3/25] END rgsr__max_depth=7, rgsr__n_estimators=50, rgsr__random_state=250923; total time=   0.5s\n",
      "[CV 2/5; 3/25] START rgsr__max_depth=7, rgsr__n_estimators=50, rgsr__random_state=250923\n",
      "[CV 2/5; 3/25] END rgsr__max_depth=7, rgsr__n_estimators=50, rgsr__random_state=250923; total time=   0.5s\n",
      "[CV 3/5; 3/25] START rgsr__max_depth=7, rgsr__n_estimators=50, rgsr__random_state=250923\n",
      "[CV 3/5; 3/25] END rgsr__max_depth=7, rgsr__n_estimators=50, rgsr__random_state=250923; total time=   0.5s\n",
      "[CV 4/5; 3/25] START rgsr__max_depth=7, rgsr__n_estimators=50, rgsr__random_state=250923\n",
      "[CV 4/5; 3/25] END rgsr__max_depth=7, rgsr__n_estimators=50, rgsr__random_state=250923; total time=   0.6s\n",
      "[CV 5/5; 3/25] START rgsr__max_depth=7, rgsr__n_estimators=50, rgsr__random_state=250923\n",
      "[CV 5/5; 3/25] END rgsr__max_depth=7, rgsr__n_estimators=50, rgsr__random_state=250923; total time=   0.5s\n",
      "[CV 1/5; 4/25] START rgsr__max_depth=7, rgsr__n_estimators=55, rgsr__random_state=250923\n",
      "[CV 1/5; 4/25] END rgsr__max_depth=7, rgsr__n_estimators=55, rgsr__random_state=250923; total time=   0.5s\n",
      "[CV 2/5; 4/25] START rgsr__max_depth=7, rgsr__n_estimators=55, rgsr__random_state=250923\n",
      "[CV 2/5; 4/25] END rgsr__max_depth=7, rgsr__n_estimators=55, rgsr__random_state=250923; total time=   0.5s\n",
      "[CV 3/5; 4/25] START rgsr__max_depth=7, rgsr__n_estimators=55, rgsr__random_state=250923\n",
      "[CV 3/5; 4/25] END rgsr__max_depth=7, rgsr__n_estimators=55, rgsr__random_state=250923; total time=   0.6s\n",
      "[CV 4/5; 4/25] START rgsr__max_depth=7, rgsr__n_estimators=55, rgsr__random_state=250923\n",
      "[CV 4/5; 4/25] END rgsr__max_depth=7, rgsr__n_estimators=55, rgsr__random_state=250923; total time=   0.4s\n",
      "[CV 5/5; 4/25] START rgsr__max_depth=7, rgsr__n_estimators=55, rgsr__random_state=250923\n",
      "[CV 5/5; 4/25] END rgsr__max_depth=7, rgsr__n_estimators=55, rgsr__random_state=250923; total time=   0.8s\n",
      "[CV 1/5; 5/25] START rgsr__max_depth=7, rgsr__n_estimators=70, rgsr__random_state=250923\n",
      "[CV 1/5; 5/25] END rgsr__max_depth=7, rgsr__n_estimators=70, rgsr__random_state=250923; total time=   0.7s\n",
      "[CV 2/5; 5/25] START rgsr__max_depth=7, rgsr__n_estimators=70, rgsr__random_state=250923\n",
      "[CV 2/5; 5/25] END rgsr__max_depth=7, rgsr__n_estimators=70, rgsr__random_state=250923; total time=   0.6s\n",
      "[CV 3/5; 5/25] START rgsr__max_depth=7, rgsr__n_estimators=70, rgsr__random_state=250923\n",
      "[CV 3/5; 5/25] END rgsr__max_depth=7, rgsr__n_estimators=70, rgsr__random_state=250923; total time=   0.6s\n",
      "[CV 4/5; 5/25] START rgsr__max_depth=7, rgsr__n_estimators=70, rgsr__random_state=250923\n",
      "[CV 4/5; 5/25] END rgsr__max_depth=7, rgsr__n_estimators=70, rgsr__random_state=250923; total time=   0.5s\n",
      "[CV 5/5; 5/25] START rgsr__max_depth=7, rgsr__n_estimators=70, rgsr__random_state=250923\n",
      "[CV 5/5; 5/25] END rgsr__max_depth=7, rgsr__n_estimators=70, rgsr__random_state=250923; total time=   0.7s\n",
      "[CV 1/5; 6/25] START rgsr__max_depth=8, rgsr__n_estimators=20, rgsr__random_state=250923\n",
      "[CV 1/5; 6/25] END rgsr__max_depth=8, rgsr__n_estimators=20, rgsr__random_state=250923; total time=   0.3s\n",
      "[CV 2/5; 6/25] START rgsr__max_depth=8, rgsr__n_estimators=20, rgsr__random_state=250923\n",
      "[CV 2/5; 6/25] END rgsr__max_depth=8, rgsr__n_estimators=20, rgsr__random_state=250923; total time=   0.3s\n",
      "[CV 3/5; 6/25] START rgsr__max_depth=8, rgsr__n_estimators=20, rgsr__random_state=250923\n",
      "[CV 3/5; 6/25] END rgsr__max_depth=8, rgsr__n_estimators=20, rgsr__random_state=250923; total time=   0.4s\n",
      "[CV 4/5; 6/25] START rgsr__max_depth=8, rgsr__n_estimators=20, rgsr__random_state=250923\n",
      "[CV 4/5; 6/25] END rgsr__max_depth=8, rgsr__n_estimators=20, rgsr__random_state=250923; total time=   0.2s\n",
      "[CV 5/5; 6/25] START rgsr__max_depth=8, rgsr__n_estimators=20, rgsr__random_state=250923\n",
      "[CV 5/5; 6/25] END rgsr__max_depth=8, rgsr__n_estimators=20, rgsr__random_state=250923; total time=   1.3s\n",
      "[CV 1/5; 7/25] START rgsr__max_depth=8, rgsr__n_estimators=45, rgsr__random_state=250923\n",
      "[CV 1/5; 7/25] END rgsr__max_depth=8, rgsr__n_estimators=45, rgsr__random_state=250923; total time=   0.5s\n",
      "[CV 2/5; 7/25] START rgsr__max_depth=8, rgsr__n_estimators=45, rgsr__random_state=250923\n",
      "[CV 2/5; 7/25] END rgsr__max_depth=8, rgsr__n_estimators=45, rgsr__random_state=250923; total time=   0.8s\n",
      "[CV 3/5; 7/25] START rgsr__max_depth=8, rgsr__n_estimators=45, rgsr__random_state=250923\n",
      "[CV 3/5; 7/25] END rgsr__max_depth=8, rgsr__n_estimators=45, rgsr__random_state=250923; total time=   0.5s\n",
      "[CV 4/5; 7/25] START rgsr__max_depth=8, rgsr__n_estimators=45, rgsr__random_state=250923\n",
      "[CV 4/5; 7/25] END rgsr__max_depth=8, rgsr__n_estimators=45, rgsr__random_state=250923; total time=   0.5s\n",
      "[CV 5/5; 7/25] START rgsr__max_depth=8, rgsr__n_estimators=45, rgsr__random_state=250923\n",
      "[CV 5/5; 7/25] END rgsr__max_depth=8, rgsr__n_estimators=45, rgsr__random_state=250923; total time=   0.4s\n",
      "[CV 1/5; 8/25] START rgsr__max_depth=8, rgsr__n_estimators=50, rgsr__random_state=250923\n",
      "[CV 1/5; 8/25] END rgsr__max_depth=8, rgsr__n_estimators=50, rgsr__random_state=250923; total time=   1.5s\n",
      "[CV 2/5; 8/25] START rgsr__max_depth=8, rgsr__n_estimators=50, rgsr__random_state=250923\n",
      "[CV 2/5; 8/25] END rgsr__max_depth=8, rgsr__n_estimators=50, rgsr__random_state=250923; total time=   0.6s\n",
      "[CV 3/5; 8/25] START rgsr__max_depth=8, rgsr__n_estimators=50, rgsr__random_state=250923\n",
      "[CV 3/5; 8/25] END rgsr__max_depth=8, rgsr__n_estimators=50, rgsr__random_state=250923; total time=   0.6s\n",
      "[CV 4/5; 8/25] START rgsr__max_depth=8, rgsr__n_estimators=50, rgsr__random_state=250923\n",
      "[CV 4/5; 8/25] END rgsr__max_depth=8, rgsr__n_estimators=50, rgsr__random_state=250923; total time=   0.8s\n",
      "[CV 5/5; 8/25] START rgsr__max_depth=8, rgsr__n_estimators=50, rgsr__random_state=250923\n",
      "[CV 5/5; 8/25] END rgsr__max_depth=8, rgsr__n_estimators=50, rgsr__random_state=250923; total time=   0.6s\n",
      "[CV 1/5; 9/25] START rgsr__max_depth=8, rgsr__n_estimators=55, rgsr__random_state=250923\n",
      "[CV 1/5; 9/25] END rgsr__max_depth=8, rgsr__n_estimators=55, rgsr__random_state=250923; total time=   0.5s\n",
      "[CV 2/5; 9/25] START rgsr__max_depth=8, rgsr__n_estimators=55, rgsr__random_state=250923\n",
      "[CV 2/5; 9/25] END rgsr__max_depth=8, rgsr__n_estimators=55, rgsr__random_state=250923; total time=   2.8s\n",
      "[CV 3/5; 9/25] START rgsr__max_depth=8, rgsr__n_estimators=55, rgsr__random_state=250923\n",
      "[CV 3/5; 9/25] END rgsr__max_depth=8, rgsr__n_estimators=55, rgsr__random_state=250923; total time=   0.6s\n",
      "[CV 4/5; 9/25] START rgsr__max_depth=8, rgsr__n_estimators=55, rgsr__random_state=250923\n",
      "[CV 4/5; 9/25] END rgsr__max_depth=8, rgsr__n_estimators=55, rgsr__random_state=250923; total time=   0.5s\n",
      "[CV 5/5; 9/25] START rgsr__max_depth=8, rgsr__n_estimators=55, rgsr__random_state=250923\n",
      "[CV 5/5; 9/25] END rgsr__max_depth=8, rgsr__n_estimators=55, rgsr__random_state=250923; total time=   0.5s\n",
      "[CV 1/5; 10/25] START rgsr__max_depth=8, rgsr__n_estimators=70, rgsr__random_state=250923\n",
      "[CV 1/5; 10/25] END rgsr__max_depth=8, rgsr__n_estimators=70, rgsr__random_state=250923; total time=   0.8s\n",
      "[CV 2/5; 10/25] START rgsr__max_depth=8, rgsr__n_estimators=70, rgsr__random_state=250923\n",
      "[CV 2/5; 10/25] END rgsr__max_depth=8, rgsr__n_estimators=70, rgsr__random_state=250923; total time=   0.8s\n",
      "[CV 3/5; 10/25] START rgsr__max_depth=8, rgsr__n_estimators=70, rgsr__random_state=250923\n",
      "[CV 3/5; 10/25] END rgsr__max_depth=8, rgsr__n_estimators=70, rgsr__random_state=250923; total time=   1.9s\n",
      "[CV 4/5; 10/25] START rgsr__max_depth=8, rgsr__n_estimators=70, rgsr__random_state=250923\n",
      "[CV 4/5; 10/25] END rgsr__max_depth=8, rgsr__n_estimators=70, rgsr__random_state=250923; total time=   0.7s\n",
      "[CV 5/5; 10/25] START rgsr__max_depth=8, rgsr__n_estimators=70, rgsr__random_state=250923\n",
      "[CV 5/5; 10/25] END rgsr__max_depth=8, rgsr__n_estimators=70, rgsr__random_state=250923; total time=   0.8s\n",
      "[CV 1/5; 11/25] START rgsr__max_depth=9, rgsr__n_estimators=20, rgsr__random_state=250923\n",
      "[CV 1/5; 11/25] END rgsr__max_depth=9, rgsr__n_estimators=20, rgsr__random_state=250923; total time=   0.3s\n",
      "[CV 2/5; 11/25] START rgsr__max_depth=9, rgsr__n_estimators=20, rgsr__random_state=250923\n",
      "[CV 2/5; 11/25] END rgsr__max_depth=9, rgsr__n_estimators=20, rgsr__random_state=250923; total time=   0.3s\n",
      "[CV 3/5; 11/25] START rgsr__max_depth=9, rgsr__n_estimators=20, rgsr__random_state=250923\n",
      "[CV 3/5; 11/25] END rgsr__max_depth=9, rgsr__n_estimators=20, rgsr__random_state=250923; total time=   0.4s\n",
      "[CV 4/5; 11/25] START rgsr__max_depth=9, rgsr__n_estimators=20, rgsr__random_state=250923\n",
      "[CV 4/5; 11/25] END rgsr__max_depth=9, rgsr__n_estimators=20, rgsr__random_state=250923; total time=   0.4s\n",
      "[CV 5/5; 11/25] START rgsr__max_depth=9, rgsr__n_estimators=20, rgsr__random_state=250923\n",
      "[CV 5/5; 11/25] END rgsr__max_depth=9, rgsr__n_estimators=20, rgsr__random_state=250923; total time=   0.2s\n",
      "[CV 1/5; 12/25] START rgsr__max_depth=9, rgsr__n_estimators=45, rgsr__random_state=250923\n",
      "[CV 1/5; 12/25] END rgsr__max_depth=9, rgsr__n_estimators=45, rgsr__random_state=250923; total time=   0.4s\n",
      "[CV 2/5; 12/25] START rgsr__max_depth=9, rgsr__n_estimators=45, rgsr__random_state=250923\n",
      "[CV 2/5; 12/25] END rgsr__max_depth=9, rgsr__n_estimators=45, rgsr__random_state=250923; total time=   1.1s\n",
      "[CV 3/5; 12/25] START rgsr__max_depth=9, rgsr__n_estimators=45, rgsr__random_state=250923\n",
      "[CV 3/5; 12/25] END rgsr__max_depth=9, rgsr__n_estimators=45, rgsr__random_state=250923; total time=   0.5s\n",
      "[CV 4/5; 12/25] START rgsr__max_depth=9, rgsr__n_estimators=45, rgsr__random_state=250923\n",
      "[CV 4/5; 12/25] END rgsr__max_depth=9, rgsr__n_estimators=45, rgsr__random_state=250923; total time=   0.6s\n",
      "[CV 5/5; 12/25] START rgsr__max_depth=9, rgsr__n_estimators=45, rgsr__random_state=250923\n",
      "[CV 5/5; 12/25] END rgsr__max_depth=9, rgsr__n_estimators=45, rgsr__random_state=250923; total time=   0.5s\n",
      "[CV 1/5; 13/25] START rgsr__max_depth=9, rgsr__n_estimators=50, rgsr__random_state=250923\n",
      "[CV 1/5; 13/25] END rgsr__max_depth=9, rgsr__n_estimators=50, rgsr__random_state=250923; total time=   0.6s\n",
      "[CV 2/5; 13/25] START rgsr__max_depth=9, rgsr__n_estimators=50, rgsr__random_state=250923\n",
      "[CV 2/5; 13/25] END rgsr__max_depth=9, rgsr__n_estimators=50, rgsr__random_state=250923; total time=   1.7s\n",
      "[CV 3/5; 13/25] START rgsr__max_depth=9, rgsr__n_estimators=50, rgsr__random_state=250923\n",
      "[CV 3/5; 13/25] END rgsr__max_depth=9, rgsr__n_estimators=50, rgsr__random_state=250923; total time=   0.5s\n",
      "[CV 4/5; 13/25] START rgsr__max_depth=9, rgsr__n_estimators=50, rgsr__random_state=250923\n",
      "[CV 4/5; 13/25] END rgsr__max_depth=9, rgsr__n_estimators=50, rgsr__random_state=250923; total time=   0.5s\n",
      "[CV 5/5; 13/25] START rgsr__max_depth=9, rgsr__n_estimators=50, rgsr__random_state=250923\n",
      "[CV 5/5; 13/25] END rgsr__max_depth=9, rgsr__n_estimators=50, rgsr__random_state=250923; total time=   0.5s\n",
      "[CV 1/5; 14/25] START rgsr__max_depth=9, rgsr__n_estimators=55, rgsr__random_state=250923\n",
      "[CV 1/5; 14/25] END rgsr__max_depth=9, rgsr__n_estimators=55, rgsr__random_state=250923; total time=   0.6s\n",
      "[CV 2/5; 14/25] START rgsr__max_depth=9, rgsr__n_estimators=55, rgsr__random_state=250923\n",
      "[CV 2/5; 14/25] END rgsr__max_depth=9, rgsr__n_estimators=55, rgsr__random_state=250923; total time=   0.6s\n",
      "[CV 3/5; 14/25] START rgsr__max_depth=9, rgsr__n_estimators=55, rgsr__random_state=250923\n",
      "[CV 3/5; 14/25] END rgsr__max_depth=9, rgsr__n_estimators=55, rgsr__random_state=250923; total time=   0.8s\n",
      "[CV 4/5; 14/25] START rgsr__max_depth=9, rgsr__n_estimators=55, rgsr__random_state=250923\n",
      "[CV 4/5; 14/25] END rgsr__max_depth=9, rgsr__n_estimators=55, rgsr__random_state=250923; total time=   0.5s\n",
      "[CV 5/5; 14/25] START rgsr__max_depth=9, rgsr__n_estimators=55, rgsr__random_state=250923\n",
      "[CV 5/5; 14/25] END rgsr__max_depth=9, rgsr__n_estimators=55, rgsr__random_state=250923; total time=   0.7s\n",
      "[CV 1/5; 15/25] START rgsr__max_depth=9, rgsr__n_estimators=70, rgsr__random_state=250923\n",
      "[CV 1/5; 15/25] END rgsr__max_depth=9, rgsr__n_estimators=70, rgsr__random_state=250923; total time=   0.8s\n",
      "[CV 2/5; 15/25] START rgsr__max_depth=9, rgsr__n_estimators=70, rgsr__random_state=250923\n",
      "[CV 2/5; 15/25] END rgsr__max_depth=9, rgsr__n_estimators=70, rgsr__random_state=250923; total time=   0.7s\n",
      "[CV 3/5; 15/25] START rgsr__max_depth=9, rgsr__n_estimators=70, rgsr__random_state=250923\n",
      "[CV 3/5; 15/25] END rgsr__max_depth=9, rgsr__n_estimators=70, rgsr__random_state=250923; total time=   0.7s\n",
      "[CV 4/5; 15/25] START rgsr__max_depth=9, rgsr__n_estimators=70, rgsr__random_state=250923\n",
      "[CV 4/5; 15/25] END rgsr__max_depth=9, rgsr__n_estimators=70, rgsr__random_state=250923; total time=   0.9s\n",
      "[CV 5/5; 15/25] START rgsr__max_depth=9, rgsr__n_estimators=70, rgsr__random_state=250923\n",
      "[CV 5/5; 15/25] END rgsr__max_depth=9, rgsr__n_estimators=70, rgsr__random_state=250923; total time=   0.8s\n",
      "[CV 1/5; 16/25] START rgsr__max_depth=10, rgsr__n_estimators=20, rgsr__random_state=250923\n",
      "[CV 1/5; 16/25] END rgsr__max_depth=10, rgsr__n_estimators=20, rgsr__random_state=250923; total time=   0.4s\n",
      "[CV 2/5; 16/25] START rgsr__max_depth=10, rgsr__n_estimators=20, rgsr__random_state=250923\n",
      "[CV 2/5; 16/25] END rgsr__max_depth=10, rgsr__n_estimators=20, rgsr__random_state=250923; total time=   0.3s\n",
      "[CV 3/5; 16/25] START rgsr__max_depth=10, rgsr__n_estimators=20, rgsr__random_state=250923\n",
      "[CV 3/5; 16/25] END rgsr__max_depth=10, rgsr__n_estimators=20, rgsr__random_state=250923; total time=   0.3s\n",
      "[CV 4/5; 16/25] START rgsr__max_depth=10, rgsr__n_estimators=20, rgsr__random_state=250923\n",
      "[CV 4/5; 16/25] END rgsr__max_depth=10, rgsr__n_estimators=20, rgsr__random_state=250923; total time=   0.6s\n",
      "[CV 5/5; 16/25] START rgsr__max_depth=10, rgsr__n_estimators=20, rgsr__random_state=250923\n",
      "[CV 5/5; 16/25] END rgsr__max_depth=10, rgsr__n_estimators=20, rgsr__random_state=250923; total time=   0.3s\n",
      "[CV 1/5; 17/25] START rgsr__max_depth=10, rgsr__n_estimators=45, rgsr__random_state=250923\n",
      "[CV 1/5; 17/25] END rgsr__max_depth=10, rgsr__n_estimators=45, rgsr__random_state=250923; total time=   0.6s\n",
      "[CV 2/5; 17/25] START rgsr__max_depth=10, rgsr__n_estimators=45, rgsr__random_state=250923\n",
      "[CV 2/5; 17/25] END rgsr__max_depth=10, rgsr__n_estimators=45, rgsr__random_state=250923; total time=   0.6s\n",
      "[CV 3/5; 17/25] START rgsr__max_depth=10, rgsr__n_estimators=45, rgsr__random_state=250923\n",
      "[CV 3/5; 17/25] END rgsr__max_depth=10, rgsr__n_estimators=45, rgsr__random_state=250923; total time=   0.6s\n",
      "[CV 4/5; 17/25] START rgsr__max_depth=10, rgsr__n_estimators=45, rgsr__random_state=250923\n",
      "[CV 4/5; 17/25] END rgsr__max_depth=10, rgsr__n_estimators=45, rgsr__random_state=250923; total time=   0.5s\n",
      "[CV 5/5; 17/25] START rgsr__max_depth=10, rgsr__n_estimators=45, rgsr__random_state=250923\n",
      "[CV 5/5; 17/25] END rgsr__max_depth=10, rgsr__n_estimators=45, rgsr__random_state=250923; total time=   2.4s\n",
      "[CV 1/5; 18/25] START rgsr__max_depth=10, rgsr__n_estimators=50, rgsr__random_state=250923\n",
      "[CV 1/5; 18/25] END rgsr__max_depth=10, rgsr__n_estimators=50, rgsr__random_state=250923; total time=   0.7s\n",
      "[CV 2/5; 18/25] START rgsr__max_depth=10, rgsr__n_estimators=50, rgsr__random_state=250923\n",
      "[CV 2/5; 18/25] END rgsr__max_depth=10, rgsr__n_estimators=50, rgsr__random_state=250923; total time=   0.6s\n",
      "[CV 3/5; 18/25] START rgsr__max_depth=10, rgsr__n_estimators=50, rgsr__random_state=250923\n",
      "[CV 3/5; 18/25] END rgsr__max_depth=10, rgsr__n_estimators=50, rgsr__random_state=250923; total time=   0.6s\n",
      "[CV 4/5; 18/25] START rgsr__max_depth=10, rgsr__n_estimators=50, rgsr__random_state=250923\n",
      "[CV 4/5; 18/25] END rgsr__max_depth=10, rgsr__n_estimators=50, rgsr__random_state=250923; total time=   0.5s\n",
      "[CV 5/5; 18/25] START rgsr__max_depth=10, rgsr__n_estimators=50, rgsr__random_state=250923\n",
      "[CV 5/5; 18/25] END rgsr__max_depth=10, rgsr__n_estimators=50, rgsr__random_state=250923; total time=   0.6s\n",
      "[CV 1/5; 19/25] START rgsr__max_depth=10, rgsr__n_estimators=55, rgsr__random_state=250923\n",
      "[CV 1/5; 19/25] END rgsr__max_depth=10, rgsr__n_estimators=55, rgsr__random_state=250923; total time=   0.7s\n",
      "[CV 2/5; 19/25] START rgsr__max_depth=10, rgsr__n_estimators=55, rgsr__random_state=250923\n",
      "[CV 2/5; 19/25] END rgsr__max_depth=10, rgsr__n_estimators=55, rgsr__random_state=250923; total time=   0.7s\n",
      "[CV 3/5; 19/25] START rgsr__max_depth=10, rgsr__n_estimators=55, rgsr__random_state=250923\n",
      "[CV 3/5; 19/25] END rgsr__max_depth=10, rgsr__n_estimators=55, rgsr__random_state=250923; total time=   1.0s\n",
      "[CV 4/5; 19/25] START rgsr__max_depth=10, rgsr__n_estimators=55, rgsr__random_state=250923\n",
      "[CV 4/5; 19/25] END rgsr__max_depth=10, rgsr__n_estimators=55, rgsr__random_state=250923; total time= 1.1min\n",
      "[CV 5/5; 19/25] START rgsr__max_depth=10, rgsr__n_estimators=55, rgsr__random_state=250923\n",
      "[CV 5/5; 19/25] END rgsr__max_depth=10, rgsr__n_estimators=55, rgsr__random_state=250923; total time=   0.7s\n",
      "[CV 1/5; 20/25] START rgsr__max_depth=10, rgsr__n_estimators=70, rgsr__random_state=250923\n",
      "[CV 1/5; 20/25] END rgsr__max_depth=10, rgsr__n_estimators=70, rgsr__random_state=250923; total time=   0.8s\n",
      "[CV 2/5; 20/25] START rgsr__max_depth=10, rgsr__n_estimators=70, rgsr__random_state=250923\n",
      "[CV 2/5; 20/25] END rgsr__max_depth=10, rgsr__n_estimators=70, rgsr__random_state=250923; total time=   1.0s\n",
      "[CV 3/5; 20/25] START rgsr__max_depth=10, rgsr__n_estimators=70, rgsr__random_state=250923\n",
      "[CV 3/5; 20/25] END rgsr__max_depth=10, rgsr__n_estimators=70, rgsr__random_state=250923; total time=   0.9s\n",
      "[CV 4/5; 20/25] START rgsr__max_depth=10, rgsr__n_estimators=70, rgsr__random_state=250923\n",
      "[CV 4/5; 20/25] END rgsr__max_depth=10, rgsr__n_estimators=70, rgsr__random_state=250923; total time=   0.7s\n",
      "[CV 5/5; 20/25] START rgsr__max_depth=10, rgsr__n_estimators=70, rgsr__random_state=250923\n",
      "[CV 5/5; 20/25] END rgsr__max_depth=10, rgsr__n_estimators=70, rgsr__random_state=250923; total time=   0.7s\n",
      "[CV 1/5; 21/25] START rgsr__max_depth=13, rgsr__n_estimators=20, rgsr__random_state=250923\n",
      "[CV 1/5; 21/25] END rgsr__max_depth=13, rgsr__n_estimators=20, rgsr__random_state=250923; total time=   0.6s\n",
      "[CV 2/5; 21/25] START rgsr__max_depth=13, rgsr__n_estimators=20, rgsr__random_state=250923\n",
      "[CV 2/5; 21/25] END rgsr__max_depth=13, rgsr__n_estimators=20, rgsr__random_state=250923; total time=   2.1s\n",
      "[CV 3/5; 21/25] START rgsr__max_depth=13, rgsr__n_estimators=20, rgsr__random_state=250923\n",
      "[CV 3/5; 21/25] END rgsr__max_depth=13, rgsr__n_estimators=20, rgsr__random_state=250923; total time=   0.3s\n",
      "[CV 4/5; 21/25] START rgsr__max_depth=13, rgsr__n_estimators=20, rgsr__random_state=250923\n",
      "[CV 4/5; 21/25] END rgsr__max_depth=13, rgsr__n_estimators=20, rgsr__random_state=250923; total time=   0.2s\n",
      "[CV 5/5; 21/25] START rgsr__max_depth=13, rgsr__n_estimators=20, rgsr__random_state=250923\n",
      "[CV 5/5; 21/25] END rgsr__max_depth=13, rgsr__n_estimators=20, rgsr__random_state=250923; total time=   0.4s\n",
      "[CV 1/5; 22/25] START rgsr__max_depth=13, rgsr__n_estimators=45, rgsr__random_state=250923\n",
      "[CV 1/5; 22/25] END rgsr__max_depth=13, rgsr__n_estimators=45, rgsr__random_state=250923; total time=   0.8s\n",
      "[CV 2/5; 22/25] START rgsr__max_depth=13, rgsr__n_estimators=45, rgsr__random_state=250923\n",
      "[CV 2/5; 22/25] END rgsr__max_depth=13, rgsr__n_estimators=45, rgsr__random_state=250923; total time=   0.6s\n",
      "[CV 3/5; 22/25] START rgsr__max_depth=13, rgsr__n_estimators=45, rgsr__random_state=250923\n",
      "[CV 3/5; 22/25] END rgsr__max_depth=13, rgsr__n_estimators=45, rgsr__random_state=250923; total time=   0.6s\n",
      "[CV 4/5; 22/25] START rgsr__max_depth=13, rgsr__n_estimators=45, rgsr__random_state=250923\n",
      "[CV 4/5; 22/25] END rgsr__max_depth=13, rgsr__n_estimators=45, rgsr__random_state=250923; total time=   0.6s\n",
      "[CV 5/5; 22/25] START rgsr__max_depth=13, rgsr__n_estimators=45, rgsr__random_state=250923\n",
      "[CV 5/5; 22/25] END rgsr__max_depth=13, rgsr__n_estimators=45, rgsr__random_state=250923; total time=   0.6s\n",
      "[CV 1/5; 23/25] START rgsr__max_depth=13, rgsr__n_estimators=50, rgsr__random_state=250923\n",
      "[CV 1/5; 23/25] END rgsr__max_depth=13, rgsr__n_estimators=50, rgsr__random_state=250923; total time=   0.8s\n",
      "[CV 2/5; 23/25] START rgsr__max_depth=13, rgsr__n_estimators=50, rgsr__random_state=250923\n",
      "[CV 2/5; 23/25] END rgsr__max_depth=13, rgsr__n_estimators=50, rgsr__random_state=250923; total time=   0.7s\n",
      "[CV 3/5; 23/25] START rgsr__max_depth=13, rgsr__n_estimators=50, rgsr__random_state=250923\n",
      "[CV 3/5; 23/25] END rgsr__max_depth=13, rgsr__n_estimators=50, rgsr__random_state=250923; total time=   0.7s\n",
      "[CV 4/5; 23/25] START rgsr__max_depth=13, rgsr__n_estimators=50, rgsr__random_state=250923\n",
      "[CV 4/5; 23/25] END rgsr__max_depth=13, rgsr__n_estimators=50, rgsr__random_state=250923; total time=   0.5s\n",
      "[CV 5/5; 23/25] START rgsr__max_depth=13, rgsr__n_estimators=50, rgsr__random_state=250923\n",
      "[CV 5/5; 23/25] END rgsr__max_depth=13, rgsr__n_estimators=50, rgsr__random_state=250923; total time=   0.9s\n",
      "[CV 1/5; 24/25] START rgsr__max_depth=13, rgsr__n_estimators=55, rgsr__random_state=250923\n",
      "[CV 1/5; 24/25] END rgsr__max_depth=13, rgsr__n_estimators=55, rgsr__random_state=250923; total time=   0.7s\n",
      "[CV 2/5; 24/25] START rgsr__max_depth=13, rgsr__n_estimators=55, rgsr__random_state=250923\n",
      "[CV 2/5; 24/25] END rgsr__max_depth=13, rgsr__n_estimators=55, rgsr__random_state=250923; total time=   0.7s\n",
      "[CV 3/5; 24/25] START rgsr__max_depth=13, rgsr__n_estimators=55, rgsr__random_state=250923\n",
      "[CV 3/5; 24/25] END rgsr__max_depth=13, rgsr__n_estimators=55, rgsr__random_state=250923; total time=   0.8s\n",
      "[CV 4/5; 24/25] START rgsr__max_depth=13, rgsr__n_estimators=55, rgsr__random_state=250923\n",
      "[CV 4/5; 24/25] END rgsr__max_depth=13, rgsr__n_estimators=55, rgsr__random_state=250923; total time=   0.6s\n",
      "[CV 5/5; 24/25] START rgsr__max_depth=13, rgsr__n_estimators=55, rgsr__random_state=250923\n",
      "[CV 5/5; 24/25] END rgsr__max_depth=13, rgsr__n_estimators=55, rgsr__random_state=250923; total time=   0.6s\n",
      "[CV 1/5; 25/25] START rgsr__max_depth=13, rgsr__n_estimators=70, rgsr__random_state=250923\n",
      "[CV 1/5; 25/25] END rgsr__max_depth=13, rgsr__n_estimators=70, rgsr__random_state=250923; total time=   0.9s\n",
      "[CV 2/5; 25/25] START rgsr__max_depth=13, rgsr__n_estimators=70, rgsr__random_state=250923\n",
      "[CV 2/5; 25/25] END rgsr__max_depth=13, rgsr__n_estimators=70, rgsr__random_state=250923; total time=   0.9s\n",
      "[CV 3/5; 25/25] START rgsr__max_depth=13, rgsr__n_estimators=70, rgsr__random_state=250923\n",
      "[CV 3/5; 25/25] END rgsr__max_depth=13, rgsr__n_estimators=70, rgsr__random_state=250923; total time=   2.8s\n",
      "[CV 4/5; 25/25] START rgsr__max_depth=13, rgsr__n_estimators=70, rgsr__random_state=250923\n",
      "[CV 4/5; 25/25] END rgsr__max_depth=13, rgsr__n_estimators=70, rgsr__random_state=250923; total time=   0.9s\n",
      "[CV 5/5; 25/25] START rgsr__max_depth=13, rgsr__n_estimators=70, rgsr__random_state=250923\n",
      "[CV 5/5; 25/25] END rgsr__max_depth=13, rgsr__n_estimators=70, rgsr__random_state=250923; total time=   1.0s\n",
      "(-6.326186110477847, Pipeline(steps=[('Sclr', StandardScaler()),\n",
      "                ('rgsr',\n",
      "                 LGBMRegressor(max_depth=9, n_estimators=55,\n",
      "                               random_state=250923))]))\n",
      "CPU times: user 2min 26s, sys: 1.06 s, total: 2min 28s\n",
      "Wall time: 2min 29s\n"
     ]
    }
   ],
   "source": [
    "%%time\n",
    "result_LGBM = model_run(model_LGBM, param_LGBM, X_train, y_train)\n",
    "result_list.append(round(result_LGBM[0]*-1, 2))\n",
    "print(result_LGBM)"
   ]
  },
  {
   "cell_type": "code",
   "execution_count": 83,
   "id": "37db5e0c",
   "metadata": {
    "collapsed": true
   },
   "outputs": [
    {
     "name": "stdout",
     "output_type": "stream",
     "text": [
      "Fitting 5 folds for each of 80 candidates, totalling 400 fits\n",
      "[CV 1/5; 1/80] START rgsr__lambda=1e-05, rgsr__learning_rate=0.07, rgsr__max_depth=1, rgsr__random_state=250923\n",
      "[CV 1/5; 1/80] END rgsr__lambda=1e-05, rgsr__learning_rate=0.07, rgsr__max_depth=1, rgsr__random_state=250923; total time=   9.1s\n",
      "[CV 2/5; 1/80] START rgsr__lambda=1e-05, rgsr__learning_rate=0.07, rgsr__max_depth=1, rgsr__random_state=250923\n",
      "[CV 2/5; 1/80] END rgsr__lambda=1e-05, rgsr__learning_rate=0.07, rgsr__max_depth=1, rgsr__random_state=250923; total time=  11.9s\n",
      "[CV 3/5; 1/80] START rgsr__lambda=1e-05, rgsr__learning_rate=0.07, rgsr__max_depth=1, rgsr__random_state=250923\n",
      "[CV 3/5; 1/80] END rgsr__lambda=1e-05, rgsr__learning_rate=0.07, rgsr__max_depth=1, rgsr__random_state=250923; total time=   5.7s\n",
      "[CV 4/5; 1/80] START rgsr__lambda=1e-05, rgsr__learning_rate=0.07, rgsr__max_depth=1, rgsr__random_state=250923\n",
      "[CV 4/5; 1/80] END rgsr__lambda=1e-05, rgsr__learning_rate=0.07, rgsr__max_depth=1, rgsr__random_state=250923; total time=   3.5s\n",
      "[CV 5/5; 1/80] START rgsr__lambda=1e-05, rgsr__learning_rate=0.07, rgsr__max_depth=1, rgsr__random_state=250923\n",
      "[CV 5/5; 1/80] END rgsr__lambda=1e-05, rgsr__learning_rate=0.07, rgsr__max_depth=1, rgsr__random_state=250923; total time=   2.5s\n",
      "[CV 1/5; 2/80] START rgsr__lambda=1e-05, rgsr__learning_rate=0.07, rgsr__max_depth=3, rgsr__random_state=250923\n",
      "[CV 1/5; 2/80] END rgsr__lambda=1e-05, rgsr__learning_rate=0.07, rgsr__max_depth=3, rgsr__random_state=250923; total time=   2.9s\n",
      "[CV 2/5; 2/80] START rgsr__lambda=1e-05, rgsr__learning_rate=0.07, rgsr__max_depth=3, rgsr__random_state=250923\n",
      "[CV 2/5; 2/80] END rgsr__lambda=1e-05, rgsr__learning_rate=0.07, rgsr__max_depth=3, rgsr__random_state=250923; total time=  23.4s\n",
      "[CV 3/5; 2/80] START rgsr__lambda=1e-05, rgsr__learning_rate=0.07, rgsr__max_depth=3, rgsr__random_state=250923\n",
      "[CV 3/5; 2/80] END rgsr__lambda=1e-05, rgsr__learning_rate=0.07, rgsr__max_depth=3, rgsr__random_state=250923; total time=  44.4s\n",
      "[CV 4/5; 2/80] START rgsr__lambda=1e-05, rgsr__learning_rate=0.07, rgsr__max_depth=3, rgsr__random_state=250923\n",
      "[CV 4/5; 2/80] END rgsr__lambda=1e-05, rgsr__learning_rate=0.07, rgsr__max_depth=3, rgsr__random_state=250923; total time=  45.9s\n",
      "[CV 5/5; 2/80] START rgsr__lambda=1e-05, rgsr__learning_rate=0.07, rgsr__max_depth=3, rgsr__random_state=250923\n",
      "[CV 5/5; 2/80] END rgsr__lambda=1e-05, rgsr__learning_rate=0.07, rgsr__max_depth=3, rgsr__random_state=250923; total time=  44.3s\n",
      "[CV 1/5; 3/80] START rgsr__lambda=1e-05, rgsr__learning_rate=0.07, rgsr__max_depth=4, rgsr__random_state=250923\n",
      "[CV 1/5; 3/80] END rgsr__lambda=1e-05, rgsr__learning_rate=0.07, rgsr__max_depth=4, rgsr__random_state=250923; total time= 1.0min\n",
      "[CV 2/5; 3/80] START rgsr__lambda=1e-05, rgsr__learning_rate=0.07, rgsr__max_depth=4, rgsr__random_state=250923\n",
      "[CV 2/5; 3/80] END rgsr__lambda=1e-05, rgsr__learning_rate=0.07, rgsr__max_depth=4, rgsr__random_state=250923; total time= 1.0min\n",
      "[CV 3/5; 3/80] START rgsr__lambda=1e-05, rgsr__learning_rate=0.07, rgsr__max_depth=4, rgsr__random_state=250923\n",
      "[CV 3/5; 3/80] END rgsr__lambda=1e-05, rgsr__learning_rate=0.07, rgsr__max_depth=4, rgsr__random_state=250923; total time=  59.5s\n",
      "[CV 4/5; 3/80] START rgsr__lambda=1e-05, rgsr__learning_rate=0.07, rgsr__max_depth=4, rgsr__random_state=250923\n",
      "[CV 4/5; 3/80] END rgsr__lambda=1e-05, rgsr__learning_rate=0.07, rgsr__max_depth=4, rgsr__random_state=250923; total time= 1.0min\n",
      "[CV 5/5; 3/80] START rgsr__lambda=1e-05, rgsr__learning_rate=0.07, rgsr__max_depth=4, rgsr__random_state=250923\n",
      "[CV 5/5; 3/80] END rgsr__lambda=1e-05, rgsr__learning_rate=0.07, rgsr__max_depth=4, rgsr__random_state=250923; total time= 1.0min\n",
      "[CV 1/5; 4/80] START rgsr__lambda=1e-05, rgsr__learning_rate=0.07, rgsr__max_depth=5, rgsr__random_state=250923\n",
      "[CV 1/5; 4/80] END rgsr__lambda=1e-05, rgsr__learning_rate=0.07, rgsr__max_depth=5, rgsr__random_state=250923; total time= 1.4min\n",
      "[CV 2/5; 4/80] START rgsr__lambda=1e-05, rgsr__learning_rate=0.07, rgsr__max_depth=5, rgsr__random_state=250923\n",
      "[CV 2/5; 4/80] END rgsr__lambda=1e-05, rgsr__learning_rate=0.07, rgsr__max_depth=5, rgsr__random_state=250923; total time= 1.4min\n",
      "[CV 3/5; 4/80] START rgsr__lambda=1e-05, rgsr__learning_rate=0.07, rgsr__max_depth=5, rgsr__random_state=250923\n",
      "[CV 3/5; 4/80] END rgsr__lambda=1e-05, rgsr__learning_rate=0.07, rgsr__max_depth=5, rgsr__random_state=250923; total time= 1.4min\n",
      "[CV 4/5; 4/80] START rgsr__lambda=1e-05, rgsr__learning_rate=0.07, rgsr__max_depth=5, rgsr__random_state=250923\n",
      "[CV 4/5; 4/80] END rgsr__lambda=1e-05, rgsr__learning_rate=0.07, rgsr__max_depth=5, rgsr__random_state=250923; total time= 1.5min\n",
      "[CV 5/5; 4/80] START rgsr__lambda=1e-05, rgsr__learning_rate=0.07, rgsr__max_depth=5, rgsr__random_state=250923\n",
      "[CV 5/5; 4/80] END rgsr__lambda=1e-05, rgsr__learning_rate=0.07, rgsr__max_depth=5, rgsr__random_state=250923; total time= 1.4min\n",
      "[CV 1/5; 5/80] START rgsr__lambda=1e-05, rgsr__learning_rate=0.1, rgsr__max_depth=1, rgsr__random_state=250923\n",
      "[CV 1/5; 5/80] END rgsr__lambda=1e-05, rgsr__learning_rate=0.1, rgsr__max_depth=1, rgsr__random_state=250923; total time=  18.8s\n",
      "[CV 2/5; 5/80] START rgsr__lambda=1e-05, rgsr__learning_rate=0.1, rgsr__max_depth=1, rgsr__random_state=250923\n",
      "[CV 2/5; 5/80] END rgsr__lambda=1e-05, rgsr__learning_rate=0.1, rgsr__max_depth=1, rgsr__random_state=250923; total time=  18.4s\n",
      "[CV 3/5; 5/80] START rgsr__lambda=1e-05, rgsr__learning_rate=0.1, rgsr__max_depth=1, rgsr__random_state=250923\n",
      "[CV 3/5; 5/80] END rgsr__lambda=1e-05, rgsr__learning_rate=0.1, rgsr__max_depth=1, rgsr__random_state=250923; total time=  17.8s\n",
      "[CV 4/5; 5/80] START rgsr__lambda=1e-05, rgsr__learning_rate=0.1, rgsr__max_depth=1, rgsr__random_state=250923\n",
      "[CV 4/5; 5/80] END rgsr__lambda=1e-05, rgsr__learning_rate=0.1, rgsr__max_depth=1, rgsr__random_state=250923; total time=  18.5s\n",
      "[CV 5/5; 5/80] START rgsr__lambda=1e-05, rgsr__learning_rate=0.1, rgsr__max_depth=1, rgsr__random_state=250923\n",
      "[CV 5/5; 5/80] END rgsr__lambda=1e-05, rgsr__learning_rate=0.1, rgsr__max_depth=1, rgsr__random_state=250923; total time=  18.3s\n",
      "[CV 1/5; 6/80] START rgsr__lambda=1e-05, rgsr__learning_rate=0.1, rgsr__max_depth=3, rgsr__random_state=250923\n",
      "[CV 1/5; 6/80] END rgsr__lambda=1e-05, rgsr__learning_rate=0.1, rgsr__max_depth=3, rgsr__random_state=250923; total time=  43.7s\n",
      "[CV 2/5; 6/80] START rgsr__lambda=1e-05, rgsr__learning_rate=0.1, rgsr__max_depth=3, rgsr__random_state=250923\n",
      "[CV 2/5; 6/80] END rgsr__lambda=1e-05, rgsr__learning_rate=0.1, rgsr__max_depth=3, rgsr__random_state=250923; total time=  16.9s\n",
      "[CV 3/5; 6/80] START rgsr__lambda=1e-05, rgsr__learning_rate=0.1, rgsr__max_depth=3, rgsr__random_state=250923\n",
      "[CV 3/5; 6/80] END rgsr__lambda=1e-05, rgsr__learning_rate=0.1, rgsr__max_depth=3, rgsr__random_state=250923; total time=   2.8s\n",
      "[CV 4/5; 6/80] START rgsr__lambda=1e-05, rgsr__learning_rate=0.1, rgsr__max_depth=3, rgsr__random_state=250923\n",
      "[CV 4/5; 6/80] END rgsr__lambda=1e-05, rgsr__learning_rate=0.1, rgsr__max_depth=3, rgsr__random_state=250923; total time=   2.9s\n",
      "[CV 5/5; 6/80] START rgsr__lambda=1e-05, rgsr__learning_rate=0.1, rgsr__max_depth=3, rgsr__random_state=250923\n",
      "[CV 5/5; 6/80] END rgsr__lambda=1e-05, rgsr__learning_rate=0.1, rgsr__max_depth=3, rgsr__random_state=250923; total time=   3.1s\n",
      "[CV 1/5; 7/80] START rgsr__lambda=1e-05, rgsr__learning_rate=0.1, rgsr__max_depth=4, rgsr__random_state=250923\n",
      "[CV 1/5; 7/80] END rgsr__lambda=1e-05, rgsr__learning_rate=0.1, rgsr__max_depth=4, rgsr__random_state=250923; total time=   3.2s\n",
      "[CV 2/5; 7/80] START rgsr__lambda=1e-05, rgsr__learning_rate=0.1, rgsr__max_depth=4, rgsr__random_state=250923\n",
      "[CV 2/5; 7/80] END rgsr__lambda=1e-05, rgsr__learning_rate=0.1, rgsr__max_depth=4, rgsr__random_state=250923; total time=   3.3s\n",
      "[CV 3/5; 7/80] START rgsr__lambda=1e-05, rgsr__learning_rate=0.1, rgsr__max_depth=4, rgsr__random_state=250923\n",
      "[CV 3/5; 7/80] END rgsr__lambda=1e-05, rgsr__learning_rate=0.1, rgsr__max_depth=4, rgsr__random_state=250923; total time=   3.4s\n",
      "[CV 4/5; 7/80] START rgsr__lambda=1e-05, rgsr__learning_rate=0.1, rgsr__max_depth=4, rgsr__random_state=250923\n",
      "[CV 4/5; 7/80] END rgsr__lambda=1e-05, rgsr__learning_rate=0.1, rgsr__max_depth=4, rgsr__random_state=250923; total time=   3.4s\n",
      "[CV 5/5; 7/80] START rgsr__lambda=1e-05, rgsr__learning_rate=0.1, rgsr__max_depth=4, rgsr__random_state=250923\n",
      "[CV 5/5; 7/80] END rgsr__lambda=1e-05, rgsr__learning_rate=0.1, rgsr__max_depth=4, rgsr__random_state=250923; total time=   3.1s\n",
      "[CV 1/5; 8/80] START rgsr__lambda=1e-05, rgsr__learning_rate=0.1, rgsr__max_depth=5, rgsr__random_state=250923\n",
      "[CV 1/5; 8/80] END rgsr__lambda=1e-05, rgsr__learning_rate=0.1, rgsr__max_depth=5, rgsr__random_state=250923; total time=   3.9s\n",
      "[CV 2/5; 8/80] START rgsr__lambda=1e-05, rgsr__learning_rate=0.1, rgsr__max_depth=5, rgsr__random_state=250923\n",
      "[CV 2/5; 8/80] END rgsr__lambda=1e-05, rgsr__learning_rate=0.1, rgsr__max_depth=5, rgsr__random_state=250923; total time=   3.2s\n",
      "[CV 3/5; 8/80] START rgsr__lambda=1e-05, rgsr__learning_rate=0.1, rgsr__max_depth=5, rgsr__random_state=250923\n",
      "[CV 3/5; 8/80] END rgsr__lambda=1e-05, rgsr__learning_rate=0.1, rgsr__max_depth=5, rgsr__random_state=250923; total time=   3.5s\n",
      "[CV 4/5; 8/80] START rgsr__lambda=1e-05, rgsr__learning_rate=0.1, rgsr__max_depth=5, rgsr__random_state=250923\n",
      "[CV 4/5; 8/80] END rgsr__lambda=1e-05, rgsr__learning_rate=0.1, rgsr__max_depth=5, rgsr__random_state=250923; total time=   4.7s\n",
      "[CV 5/5; 8/80] START rgsr__lambda=1e-05, rgsr__learning_rate=0.1, rgsr__max_depth=5, rgsr__random_state=250923\n",
      "[CV 5/5; 8/80] END rgsr__lambda=1e-05, rgsr__learning_rate=0.1, rgsr__max_depth=5, rgsr__random_state=250923; total time=  12.3s\n",
      "[CV 1/5; 9/80] START rgsr__lambda=1e-05, rgsr__learning_rate=0.12, rgsr__max_depth=1, rgsr__random_state=250923\n",
      "[CV 1/5; 9/80] END rgsr__lambda=1e-05, rgsr__learning_rate=0.12, rgsr__max_depth=1, rgsr__random_state=250923; total time=   2.5s\n",
      "[CV 2/5; 9/80] START rgsr__lambda=1e-05, rgsr__learning_rate=0.12, rgsr__max_depth=1, rgsr__random_state=250923\n",
      "[CV 2/5; 9/80] END rgsr__lambda=1e-05, rgsr__learning_rate=0.12, rgsr__max_depth=1, rgsr__random_state=250923; total time=   2.7s\n",
      "[CV 3/5; 9/80] START rgsr__lambda=1e-05, rgsr__learning_rate=0.12, rgsr__max_depth=1, rgsr__random_state=250923\n",
      "[CV 3/5; 9/80] END rgsr__lambda=1e-05, rgsr__learning_rate=0.12, rgsr__max_depth=1, rgsr__random_state=250923; total time=   2.8s\n",
      "[CV 4/5; 9/80] START rgsr__lambda=1e-05, rgsr__learning_rate=0.12, rgsr__max_depth=1, rgsr__random_state=250923\n",
      "[CV 4/5; 9/80] END rgsr__lambda=1e-05, rgsr__learning_rate=0.12, rgsr__max_depth=1, rgsr__random_state=250923; total time=   2.5s\n",
      "[CV 5/5; 9/80] START rgsr__lambda=1e-05, rgsr__learning_rate=0.12, rgsr__max_depth=1, rgsr__random_state=250923\n",
      "[CV 5/5; 9/80] END rgsr__lambda=1e-05, rgsr__learning_rate=0.12, rgsr__max_depth=1, rgsr__random_state=250923; total time=   2.5s\n",
      "[CV 1/5; 10/80] START rgsr__lambda=1e-05, rgsr__learning_rate=0.12, rgsr__max_depth=3, rgsr__random_state=250923\n",
      "[CV 1/5; 10/80] END rgsr__lambda=1e-05, rgsr__learning_rate=0.12, rgsr__max_depth=3, rgsr__random_state=250923; total time=   2.9s\n",
      "[CV 2/5; 10/80] START rgsr__lambda=1e-05, rgsr__learning_rate=0.12, rgsr__max_depth=3, rgsr__random_state=250923\n",
      "[CV 2/5; 10/80] END rgsr__lambda=1e-05, rgsr__learning_rate=0.12, rgsr__max_depth=3, rgsr__random_state=250923; total time=   3.2s\n",
      "[CV 3/5; 10/80] START rgsr__lambda=1e-05, rgsr__learning_rate=0.12, rgsr__max_depth=3, rgsr__random_state=250923\n",
      "[CV 3/5; 10/80] END rgsr__lambda=1e-05, rgsr__learning_rate=0.12, rgsr__max_depth=3, rgsr__random_state=250923; total time=   3.3s\n",
      "[CV 4/5; 10/80] START rgsr__lambda=1e-05, rgsr__learning_rate=0.12, rgsr__max_depth=3, rgsr__random_state=250923\n",
      "[CV 4/5; 10/80] END rgsr__lambda=1e-05, rgsr__learning_rate=0.12, rgsr__max_depth=3, rgsr__random_state=250923; total time=   5.8s\n",
      "[CV 5/5; 10/80] START rgsr__lambda=1e-05, rgsr__learning_rate=0.12, rgsr__max_depth=3, rgsr__random_state=250923\n",
      "[CV 5/5; 10/80] END rgsr__lambda=1e-05, rgsr__learning_rate=0.12, rgsr__max_depth=3, rgsr__random_state=250923; total time=  46.4s\n",
      "[CV 1/5; 11/80] START rgsr__lambda=1e-05, rgsr__learning_rate=0.12, rgsr__max_depth=4, rgsr__random_state=250923\n",
      "[CV 1/5; 11/80] END rgsr__lambda=1e-05, rgsr__learning_rate=0.12, rgsr__max_depth=4, rgsr__random_state=250923; total time=  15.7s\n",
      "[CV 2/5; 11/80] START rgsr__lambda=1e-05, rgsr__learning_rate=0.12, rgsr__max_depth=4, rgsr__random_state=250923\n",
      "[CV 2/5; 11/80] END rgsr__lambda=1e-05, rgsr__learning_rate=0.12, rgsr__max_depth=4, rgsr__random_state=250923; total time=   3.3s\n",
      "[CV 3/5; 11/80] START rgsr__lambda=1e-05, rgsr__learning_rate=0.12, rgsr__max_depth=4, rgsr__random_state=250923\n",
      "[CV 3/5; 11/80] END rgsr__lambda=1e-05, rgsr__learning_rate=0.12, rgsr__max_depth=4, rgsr__random_state=250923; total time=   4.9s\n",
      "[CV 4/5; 11/80] START rgsr__lambda=1e-05, rgsr__learning_rate=0.12, rgsr__max_depth=4, rgsr__random_state=250923\n",
      "[CV 4/5; 11/80] END rgsr__lambda=1e-05, rgsr__learning_rate=0.12, rgsr__max_depth=4, rgsr__random_state=250923; total time=   3.6s\n",
      "[CV 5/5; 11/80] START rgsr__lambda=1e-05, rgsr__learning_rate=0.12, rgsr__max_depth=4, rgsr__random_state=250923\n",
      "[CV 5/5; 11/80] END rgsr__lambda=1e-05, rgsr__learning_rate=0.12, rgsr__max_depth=4, rgsr__random_state=250923; total time=   3.2s\n",
      "[CV 1/5; 12/80] START rgsr__lambda=1e-05, rgsr__learning_rate=0.12, rgsr__max_depth=5, rgsr__random_state=250923\n",
      "[CV 1/5; 12/80] END rgsr__lambda=1e-05, rgsr__learning_rate=0.12, rgsr__max_depth=5, rgsr__random_state=250923; total time=   6.3s\n",
      "[CV 2/5; 12/80] START rgsr__lambda=1e-05, rgsr__learning_rate=0.12, rgsr__max_depth=5, rgsr__random_state=250923\n",
      "[CV 2/5; 12/80] END rgsr__lambda=1e-05, rgsr__learning_rate=0.12, rgsr__max_depth=5, rgsr__random_state=250923; total time=   3.5s\n",
      "[CV 3/5; 12/80] START rgsr__lambda=1e-05, rgsr__learning_rate=0.12, rgsr__max_depth=5, rgsr__random_state=250923\n",
      "[CV 3/5; 12/80] END rgsr__lambda=1e-05, rgsr__learning_rate=0.12, rgsr__max_depth=5, rgsr__random_state=250923; total time=   3.6s\n",
      "[CV 4/5; 12/80] START rgsr__lambda=1e-05, rgsr__learning_rate=0.12, rgsr__max_depth=5, rgsr__random_state=250923\n",
      "[CV 4/5; 12/80] END rgsr__lambda=1e-05, rgsr__learning_rate=0.12, rgsr__max_depth=5, rgsr__random_state=250923; total time=   4.6s\n",
      "[CV 5/5; 12/80] START rgsr__lambda=1e-05, rgsr__learning_rate=0.12, rgsr__max_depth=5, rgsr__random_state=250923\n",
      "[CV 5/5; 12/80] END rgsr__lambda=1e-05, rgsr__learning_rate=0.12, rgsr__max_depth=5, rgsr__random_state=250923; total time=   5.8s\n",
      "[CV 1/5; 13/80] START rgsr__lambda=1e-05, rgsr__learning_rate=0.2, rgsr__max_depth=1, rgsr__random_state=250923\n",
      "[CV 1/5; 13/80] END rgsr__lambda=1e-05, rgsr__learning_rate=0.2, rgsr__max_depth=1, rgsr__random_state=250923; total time=   2.8s\n",
      "[CV 2/5; 13/80] START rgsr__lambda=1e-05, rgsr__learning_rate=0.2, rgsr__max_depth=1, rgsr__random_state=250923\n",
      "[CV 2/5; 13/80] END rgsr__lambda=1e-05, rgsr__learning_rate=0.2, rgsr__max_depth=1, rgsr__random_state=250923; total time=   2.5s\n",
      "[CV 3/5; 13/80] START rgsr__lambda=1e-05, rgsr__learning_rate=0.2, rgsr__max_depth=1, rgsr__random_state=250923\n",
      "[CV 3/5; 13/80] END rgsr__lambda=1e-05, rgsr__learning_rate=0.2, rgsr__max_depth=1, rgsr__random_state=250923; total time=   3.0s\n",
      "[CV 4/5; 13/80] START rgsr__lambda=1e-05, rgsr__learning_rate=0.2, rgsr__max_depth=1, rgsr__random_state=250923\n",
      "[CV 4/5; 13/80] END rgsr__lambda=1e-05, rgsr__learning_rate=0.2, rgsr__max_depth=1, rgsr__random_state=250923; total time=   2.9s\n",
      "[CV 5/5; 13/80] START rgsr__lambda=1e-05, rgsr__learning_rate=0.2, rgsr__max_depth=1, rgsr__random_state=250923\n",
      "[CV 5/5; 13/80] END rgsr__lambda=1e-05, rgsr__learning_rate=0.2, rgsr__max_depth=1, rgsr__random_state=250923; total time=   7.6s\n",
      "[CV 1/5; 14/80] START rgsr__lambda=1e-05, rgsr__learning_rate=0.2, rgsr__max_depth=3, rgsr__random_state=250923\n",
      "[CV 1/5; 14/80] END rgsr__lambda=1e-05, rgsr__learning_rate=0.2, rgsr__max_depth=3, rgsr__random_state=250923; total time=  17.0s\n",
      "[CV 2/5; 14/80] START rgsr__lambda=1e-05, rgsr__learning_rate=0.2, rgsr__max_depth=3, rgsr__random_state=250923\n",
      "[CV 2/5; 14/80] END rgsr__lambda=1e-05, rgsr__learning_rate=0.2, rgsr__max_depth=3, rgsr__random_state=250923; total time=   9.1s\n",
      "[CV 3/5; 14/80] START rgsr__lambda=1e-05, rgsr__learning_rate=0.2, rgsr__max_depth=3, rgsr__random_state=250923\n",
      "[CV 3/5; 14/80] END rgsr__lambda=1e-05, rgsr__learning_rate=0.2, rgsr__max_depth=3, rgsr__random_state=250923; total time=   3.1s\n",
      "[CV 4/5; 14/80] START rgsr__lambda=1e-05, rgsr__learning_rate=0.2, rgsr__max_depth=3, rgsr__random_state=250923\n",
      "[CV 4/5; 14/80] END rgsr__lambda=1e-05, rgsr__learning_rate=0.2, rgsr__max_depth=3, rgsr__random_state=250923; total time=   6.8s\n",
      "[CV 5/5; 14/80] START rgsr__lambda=1e-05, rgsr__learning_rate=0.2, rgsr__max_depth=3, rgsr__random_state=250923\n",
      "[CV 5/5; 14/80] END rgsr__lambda=1e-05, rgsr__learning_rate=0.2, rgsr__max_depth=3, rgsr__random_state=250923; total time=  20.9s\n",
      "[CV 1/5; 15/80] START rgsr__lambda=1e-05, rgsr__learning_rate=0.2, rgsr__max_depth=4, rgsr__random_state=250923\n",
      "[CV 1/5; 15/80] END rgsr__lambda=1e-05, rgsr__learning_rate=0.2, rgsr__max_depth=4, rgsr__random_state=250923; total time=   3.3s\n",
      "[CV 2/5; 15/80] START rgsr__lambda=1e-05, rgsr__learning_rate=0.2, rgsr__max_depth=4, rgsr__random_state=250923\n",
      "[CV 2/5; 15/80] END rgsr__lambda=1e-05, rgsr__learning_rate=0.2, rgsr__max_depth=4, rgsr__random_state=250923; total time=   3.1s\n",
      "[CV 3/5; 15/80] START rgsr__lambda=1e-05, rgsr__learning_rate=0.2, rgsr__max_depth=4, rgsr__random_state=250923\n",
      "[CV 3/5; 15/80] END rgsr__lambda=1e-05, rgsr__learning_rate=0.2, rgsr__max_depth=4, rgsr__random_state=250923; total time=   3.4s\n",
      "[CV 4/5; 15/80] START rgsr__lambda=1e-05, rgsr__learning_rate=0.2, rgsr__max_depth=4, rgsr__random_state=250923\n",
      "[CV 4/5; 15/80] END rgsr__lambda=1e-05, rgsr__learning_rate=0.2, rgsr__max_depth=4, rgsr__random_state=250923; total time=   3.3s\n",
      "[CV 5/5; 15/80] START rgsr__lambda=1e-05, rgsr__learning_rate=0.2, rgsr__max_depth=4, rgsr__random_state=250923\n",
      "[CV 5/5; 15/80] END rgsr__lambda=1e-05, rgsr__learning_rate=0.2, rgsr__max_depth=4, rgsr__random_state=250923; total time=   3.7s\n",
      "[CV 1/5; 16/80] START rgsr__lambda=1e-05, rgsr__learning_rate=0.2, rgsr__max_depth=5, rgsr__random_state=250923\n",
      "[CV 1/5; 16/80] END rgsr__lambda=1e-05, rgsr__learning_rate=0.2, rgsr__max_depth=5, rgsr__random_state=250923; total time=   4.3s\n",
      "[CV 2/5; 16/80] START rgsr__lambda=1e-05, rgsr__learning_rate=0.2, rgsr__max_depth=5, rgsr__random_state=250923\n",
      "[CV 2/5; 16/80] END rgsr__lambda=1e-05, rgsr__learning_rate=0.2, rgsr__max_depth=5, rgsr__random_state=250923; total time=   3.4s\n",
      "[CV 3/5; 16/80] START rgsr__lambda=1e-05, rgsr__learning_rate=0.2, rgsr__max_depth=5, rgsr__random_state=250923\n",
      "[CV 3/5; 16/80] END rgsr__lambda=1e-05, rgsr__learning_rate=0.2, rgsr__max_depth=5, rgsr__random_state=250923; total time=   3.6s\n",
      "[CV 4/5; 16/80] START rgsr__lambda=1e-05, rgsr__learning_rate=0.2, rgsr__max_depth=5, rgsr__random_state=250923\n",
      "[CV 4/5; 16/80] END rgsr__lambda=1e-05, rgsr__learning_rate=0.2, rgsr__max_depth=5, rgsr__random_state=250923; total time=   3.7s\n",
      "[CV 5/5; 16/80] START rgsr__lambda=1e-05, rgsr__learning_rate=0.2, rgsr__max_depth=5, rgsr__random_state=250923\n",
      "[CV 5/5; 16/80] END rgsr__lambda=1e-05, rgsr__learning_rate=0.2, rgsr__max_depth=5, rgsr__random_state=250923; total time=   3.6s\n",
      "[CV 1/5; 17/80] START rgsr__lambda=0.0001, rgsr__learning_rate=0.07, rgsr__max_depth=1, rgsr__random_state=250923\n",
      "[CV 1/5; 17/80] END rgsr__lambda=0.0001, rgsr__learning_rate=0.07, rgsr__max_depth=1, rgsr__random_state=250923; total time=   3.7s\n",
      "[CV 2/5; 17/80] START rgsr__lambda=0.0001, rgsr__learning_rate=0.07, rgsr__max_depth=1, rgsr__random_state=250923\n",
      "[CV 2/5; 17/80] END rgsr__lambda=0.0001, rgsr__learning_rate=0.07, rgsr__max_depth=1, rgsr__random_state=250923; total time=   2.7s\n",
      "[CV 3/5; 17/80] START rgsr__lambda=0.0001, rgsr__learning_rate=0.07, rgsr__max_depth=1, rgsr__random_state=250923\n",
      "[CV 3/5; 17/80] END rgsr__lambda=0.0001, rgsr__learning_rate=0.07, rgsr__max_depth=1, rgsr__random_state=250923; total time=   2.8s\n",
      "[CV 4/5; 17/80] START rgsr__lambda=0.0001, rgsr__learning_rate=0.07, rgsr__max_depth=1, rgsr__random_state=250923\n",
      "[CV 4/5; 17/80] END rgsr__lambda=0.0001, rgsr__learning_rate=0.07, rgsr__max_depth=1, rgsr__random_state=250923; total time=   2.4s\n",
      "[CV 5/5; 17/80] START rgsr__lambda=0.0001, rgsr__learning_rate=0.07, rgsr__max_depth=1, rgsr__random_state=250923\n",
      "[CV 5/5; 17/80] END rgsr__lambda=0.0001, rgsr__learning_rate=0.07, rgsr__max_depth=1, rgsr__random_state=250923; total time=   2.8s\n",
      "[CV 1/5; 18/80] START rgsr__lambda=0.0001, rgsr__learning_rate=0.07, rgsr__max_depth=3, rgsr__random_state=250923\n",
      "[CV 1/5; 18/80] END rgsr__lambda=0.0001, rgsr__learning_rate=0.07, rgsr__max_depth=3, rgsr__random_state=250923; total time=   3.2s\n",
      "[CV 2/5; 18/80] START rgsr__lambda=0.0001, rgsr__learning_rate=0.07, rgsr__max_depth=3, rgsr__random_state=250923\n",
      "[CV 2/5; 18/80] END rgsr__lambda=0.0001, rgsr__learning_rate=0.07, rgsr__max_depth=3, rgsr__random_state=250923; total time=   3.3s\n",
      "[CV 3/5; 18/80] START rgsr__lambda=0.0001, rgsr__learning_rate=0.07, rgsr__max_depth=3, rgsr__random_state=250923\n",
      "[CV 3/5; 18/80] END rgsr__lambda=0.0001, rgsr__learning_rate=0.07, rgsr__max_depth=3, rgsr__random_state=250923; total time=   4.7s\n",
      "[CV 4/5; 18/80] START rgsr__lambda=0.0001, rgsr__learning_rate=0.07, rgsr__max_depth=3, rgsr__random_state=250923\n",
      "[CV 4/5; 18/80] END rgsr__lambda=0.0001, rgsr__learning_rate=0.07, rgsr__max_depth=3, rgsr__random_state=250923; total time=   3.1s\n",
      "[CV 5/5; 18/80] START rgsr__lambda=0.0001, rgsr__learning_rate=0.07, rgsr__max_depth=3, rgsr__random_state=250923\n",
      "[CV 5/5; 18/80] END rgsr__lambda=0.0001, rgsr__learning_rate=0.07, rgsr__max_depth=3, rgsr__random_state=250923; total time=   3.9s\n",
      "[CV 1/5; 19/80] START rgsr__lambda=0.0001, rgsr__learning_rate=0.07, rgsr__max_depth=4, rgsr__random_state=250923\n",
      "[CV 1/5; 19/80] END rgsr__lambda=0.0001, rgsr__learning_rate=0.07, rgsr__max_depth=4, rgsr__random_state=250923; total time=   3.4s\n",
      "[CV 2/5; 19/80] START rgsr__lambda=0.0001, rgsr__learning_rate=0.07, rgsr__max_depth=4, rgsr__random_state=250923\n",
      "[CV 2/5; 19/80] END rgsr__lambda=0.0001, rgsr__learning_rate=0.07, rgsr__max_depth=4, rgsr__random_state=250923; total time=   3.3s\n",
      "[CV 3/5; 19/80] START rgsr__lambda=0.0001, rgsr__learning_rate=0.07, rgsr__max_depth=4, rgsr__random_state=250923\n",
      "[CV 3/5; 19/80] END rgsr__lambda=0.0001, rgsr__learning_rate=0.07, rgsr__max_depth=4, rgsr__random_state=250923; total time=   3.7s\n",
      "[CV 4/5; 19/80] START rgsr__lambda=0.0001, rgsr__learning_rate=0.07, rgsr__max_depth=4, rgsr__random_state=250923\n",
      "[CV 4/5; 19/80] END rgsr__lambda=0.0001, rgsr__learning_rate=0.07, rgsr__max_depth=4, rgsr__random_state=250923; total time=   3.1s\n",
      "[CV 5/5; 19/80] START rgsr__lambda=0.0001, rgsr__learning_rate=0.07, rgsr__max_depth=4, rgsr__random_state=250923\n",
      "[CV 5/5; 19/80] END rgsr__lambda=0.0001, rgsr__learning_rate=0.07, rgsr__max_depth=4, rgsr__random_state=250923; total time=   3.1s\n",
      "[CV 1/5; 20/80] START rgsr__lambda=0.0001, rgsr__learning_rate=0.07, rgsr__max_depth=5, rgsr__random_state=250923\n",
      "[CV 1/5; 20/80] END rgsr__lambda=0.0001, rgsr__learning_rate=0.07, rgsr__max_depth=5, rgsr__random_state=250923; total time=   5.0s\n",
      "[CV 2/5; 20/80] START rgsr__lambda=0.0001, rgsr__learning_rate=0.07, rgsr__max_depth=5, rgsr__random_state=250923\n",
      "[CV 2/5; 20/80] END rgsr__lambda=0.0001, rgsr__learning_rate=0.07, rgsr__max_depth=5, rgsr__random_state=250923; total time=   6.1s\n",
      "[CV 3/5; 20/80] START rgsr__lambda=0.0001, rgsr__learning_rate=0.07, rgsr__max_depth=5, rgsr__random_state=250923\n",
      "[CV 3/5; 20/80] END rgsr__lambda=0.0001, rgsr__learning_rate=0.07, rgsr__max_depth=5, rgsr__random_state=250923; total time=   5.6s\n",
      "[CV 4/5; 20/80] START rgsr__lambda=0.0001, rgsr__learning_rate=0.07, rgsr__max_depth=5, rgsr__random_state=250923\n",
      "[CV 4/5; 20/80] END rgsr__lambda=0.0001, rgsr__learning_rate=0.07, rgsr__max_depth=5, rgsr__random_state=250923; total time=   4.4s\n",
      "[CV 5/5; 20/80] START rgsr__lambda=0.0001, rgsr__learning_rate=0.07, rgsr__max_depth=5, rgsr__random_state=250923\n",
      "[CV 5/5; 20/80] END rgsr__lambda=0.0001, rgsr__learning_rate=0.07, rgsr__max_depth=5, rgsr__random_state=250923; total time=   3.8s\n",
      "[CV 1/5; 21/80] START rgsr__lambda=0.0001, rgsr__learning_rate=0.1, rgsr__max_depth=1, rgsr__random_state=250923\n",
      "[CV 1/5; 21/80] END rgsr__lambda=0.0001, rgsr__learning_rate=0.1, rgsr__max_depth=1, rgsr__random_state=250923; total time=   3.8s\n",
      "[CV 2/5; 21/80] START rgsr__lambda=0.0001, rgsr__learning_rate=0.1, rgsr__max_depth=1, rgsr__random_state=250923\n",
      "[CV 2/5; 21/80] END rgsr__lambda=0.0001, rgsr__learning_rate=0.1, rgsr__max_depth=1, rgsr__random_state=250923; total time=   2.4s\n",
      "[CV 3/5; 21/80] START rgsr__lambda=0.0001, rgsr__learning_rate=0.1, rgsr__max_depth=1, rgsr__random_state=250923\n",
      "[CV 3/5; 21/80] END rgsr__lambda=0.0001, rgsr__learning_rate=0.1, rgsr__max_depth=1, rgsr__random_state=250923; total time=   3.0s\n",
      "[CV 4/5; 21/80] START rgsr__lambda=0.0001, rgsr__learning_rate=0.1, rgsr__max_depth=1, rgsr__random_state=250923\n",
      "[CV 4/5; 21/80] END rgsr__lambda=0.0001, rgsr__learning_rate=0.1, rgsr__max_depth=1, rgsr__random_state=250923; total time=   2.9s\n",
      "[CV 5/5; 21/80] START rgsr__lambda=0.0001, rgsr__learning_rate=0.1, rgsr__max_depth=1, rgsr__random_state=250923\n",
      "[CV 5/5; 21/80] END rgsr__lambda=0.0001, rgsr__learning_rate=0.1, rgsr__max_depth=1, rgsr__random_state=250923; total time=   2.7s\n",
      "[CV 1/5; 22/80] START rgsr__lambda=0.0001, rgsr__learning_rate=0.1, rgsr__max_depth=3, rgsr__random_state=250923\n",
      "[CV 1/5; 22/80] END rgsr__lambda=0.0001, rgsr__learning_rate=0.1, rgsr__max_depth=3, rgsr__random_state=250923; total time=   3.0s\n",
      "[CV 2/5; 22/80] START rgsr__lambda=0.0001, rgsr__learning_rate=0.1, rgsr__max_depth=3, rgsr__random_state=250923\n",
      "[CV 2/5; 22/80] END rgsr__lambda=0.0001, rgsr__learning_rate=0.1, rgsr__max_depth=3, rgsr__random_state=250923; total time=   3.4s\n",
      "[CV 3/5; 22/80] START rgsr__lambda=0.0001, rgsr__learning_rate=0.1, rgsr__max_depth=3, rgsr__random_state=250923\n",
      "[CV 3/5; 22/80] END rgsr__lambda=0.0001, rgsr__learning_rate=0.1, rgsr__max_depth=3, rgsr__random_state=250923; total time=   5.3s\n",
      "[CV 4/5; 22/80] START rgsr__lambda=0.0001, rgsr__learning_rate=0.1, rgsr__max_depth=3, rgsr__random_state=250923\n",
      "[CV 4/5; 22/80] END rgsr__lambda=0.0001, rgsr__learning_rate=0.1, rgsr__max_depth=3, rgsr__random_state=250923; total time=   3.2s\n",
      "[CV 5/5; 22/80] START rgsr__lambda=0.0001, rgsr__learning_rate=0.1, rgsr__max_depth=3, rgsr__random_state=250923\n",
      "[CV 5/5; 22/80] END rgsr__lambda=0.0001, rgsr__learning_rate=0.1, rgsr__max_depth=3, rgsr__random_state=250923; total time=   3.0s\n",
      "[CV 1/5; 23/80] START rgsr__lambda=0.0001, rgsr__learning_rate=0.1, rgsr__max_depth=4, rgsr__random_state=250923\n",
      "[CV 1/5; 23/80] END rgsr__lambda=0.0001, rgsr__learning_rate=0.1, rgsr__max_depth=4, rgsr__random_state=250923; total time=   3.2s\n",
      "[CV 2/5; 23/80] START rgsr__lambda=0.0001, rgsr__learning_rate=0.1, rgsr__max_depth=4, rgsr__random_state=250923\n",
      "[CV 2/5; 23/80] END rgsr__lambda=0.0001, rgsr__learning_rate=0.1, rgsr__max_depth=4, rgsr__random_state=250923; total time=   4.0s\n",
      "[CV 3/5; 23/80] START rgsr__lambda=0.0001, rgsr__learning_rate=0.1, rgsr__max_depth=4, rgsr__random_state=250923\n",
      "[CV 3/5; 23/80] END rgsr__lambda=0.0001, rgsr__learning_rate=0.1, rgsr__max_depth=4, rgsr__random_state=250923; total time=   4.3s\n",
      "[CV 4/5; 23/80] START rgsr__lambda=0.0001, rgsr__learning_rate=0.1, rgsr__max_depth=4, rgsr__random_state=250923\n",
      "[CV 4/5; 23/80] END rgsr__lambda=0.0001, rgsr__learning_rate=0.1, rgsr__max_depth=4, rgsr__random_state=250923; total time=   3.2s\n",
      "[CV 5/5; 23/80] START rgsr__lambda=0.0001, rgsr__learning_rate=0.1, rgsr__max_depth=4, rgsr__random_state=250923\n",
      "[CV 5/5; 23/80] END rgsr__lambda=0.0001, rgsr__learning_rate=0.1, rgsr__max_depth=4, rgsr__random_state=250923; total time=   3.2s\n",
      "[CV 1/5; 24/80] START rgsr__lambda=0.0001, rgsr__learning_rate=0.1, rgsr__max_depth=5, rgsr__random_state=250923\n",
      "[CV 1/5; 24/80] END rgsr__lambda=0.0001, rgsr__learning_rate=0.1, rgsr__max_depth=5, rgsr__random_state=250923; total time=   3.7s\n",
      "[CV 2/5; 24/80] START rgsr__lambda=0.0001, rgsr__learning_rate=0.1, rgsr__max_depth=5, rgsr__random_state=250923\n",
      "[CV 2/5; 24/80] END rgsr__lambda=0.0001, rgsr__learning_rate=0.1, rgsr__max_depth=5, rgsr__random_state=250923; total time=   4.4s\n",
      "[CV 3/5; 24/80] START rgsr__lambda=0.0001, rgsr__learning_rate=0.1, rgsr__max_depth=5, rgsr__random_state=250923\n",
      "[CV 3/5; 24/80] END rgsr__lambda=0.0001, rgsr__learning_rate=0.1, rgsr__max_depth=5, rgsr__random_state=250923; total time=   3.6s\n",
      "[CV 4/5; 24/80] START rgsr__lambda=0.0001, rgsr__learning_rate=0.1, rgsr__max_depth=5, rgsr__random_state=250923\n",
      "[CV 4/5; 24/80] END rgsr__lambda=0.0001, rgsr__learning_rate=0.1, rgsr__max_depth=5, rgsr__random_state=250923; total time=   4.0s\n",
      "[CV 5/5; 24/80] START rgsr__lambda=0.0001, rgsr__learning_rate=0.1, rgsr__max_depth=5, rgsr__random_state=250923\n",
      "[CV 5/5; 24/80] END rgsr__lambda=0.0001, rgsr__learning_rate=0.1, rgsr__max_depth=5, rgsr__random_state=250923; total time=   5.5s\n",
      "[CV 1/5; 25/80] START rgsr__lambda=0.0001, rgsr__learning_rate=0.12, rgsr__max_depth=1, rgsr__random_state=250923\n",
      "[CV 1/5; 25/80] END rgsr__lambda=0.0001, rgsr__learning_rate=0.12, rgsr__max_depth=1, rgsr__random_state=250923; total time=  10.8s\n",
      "[CV 2/5; 25/80] START rgsr__lambda=0.0001, rgsr__learning_rate=0.12, rgsr__max_depth=1, rgsr__random_state=250923\n",
      "[CV 2/5; 25/80] END rgsr__lambda=0.0001, rgsr__learning_rate=0.12, rgsr__max_depth=1, rgsr__random_state=250923; total time=  18.9s\n",
      "[CV 3/5; 25/80] START rgsr__lambda=0.0001, rgsr__learning_rate=0.12, rgsr__max_depth=1, rgsr__random_state=250923\n",
      "[CV 3/5; 25/80] END rgsr__lambda=0.0001, rgsr__learning_rate=0.12, rgsr__max_depth=1, rgsr__random_state=250923; total time=  17.0s\n",
      "[CV 4/5; 25/80] START rgsr__lambda=0.0001, rgsr__learning_rate=0.12, rgsr__max_depth=1, rgsr__random_state=250923\n",
      "[CV 4/5; 25/80] END rgsr__lambda=0.0001, rgsr__learning_rate=0.12, rgsr__max_depth=1, rgsr__random_state=250923; total time=   6.7s\n",
      "[CV 5/5; 25/80] START rgsr__lambda=0.0001, rgsr__learning_rate=0.12, rgsr__max_depth=1, rgsr__random_state=250923\n",
      "[CV 5/5; 25/80] END rgsr__lambda=0.0001, rgsr__learning_rate=0.12, rgsr__max_depth=1, rgsr__random_state=250923; total time=   3.8s\n",
      "[CV 1/5; 26/80] START rgsr__lambda=0.0001, rgsr__learning_rate=0.12, rgsr__max_depth=3, rgsr__random_state=250923\n",
      "[CV 1/5; 26/80] END rgsr__lambda=0.0001, rgsr__learning_rate=0.12, rgsr__max_depth=3, rgsr__random_state=250923; total time=   5.0s\n",
      "[CV 2/5; 26/80] START rgsr__lambda=0.0001, rgsr__learning_rate=0.12, rgsr__max_depth=3, rgsr__random_state=250923\n",
      "[CV 2/5; 26/80] END rgsr__lambda=0.0001, rgsr__learning_rate=0.12, rgsr__max_depth=3, rgsr__random_state=250923; total time=  20.0s\n",
      "[CV 3/5; 26/80] START rgsr__lambda=0.0001, rgsr__learning_rate=0.12, rgsr__max_depth=3, rgsr__random_state=250923\n",
      "[CV 3/5; 26/80] END rgsr__lambda=0.0001, rgsr__learning_rate=0.12, rgsr__max_depth=3, rgsr__random_state=250923; total time=  43.2s\n",
      "[CV 4/5; 26/80] START rgsr__lambda=0.0001, rgsr__learning_rate=0.12, rgsr__max_depth=3, rgsr__random_state=250923\n",
      "[CV 4/5; 26/80] END rgsr__lambda=0.0001, rgsr__learning_rate=0.12, rgsr__max_depth=3, rgsr__random_state=250923; total time=   3.2s\n",
      "[CV 5/5; 26/80] START rgsr__lambda=0.0001, rgsr__learning_rate=0.12, rgsr__max_depth=3, rgsr__random_state=250923\n",
      "[CV 5/5; 26/80] END rgsr__lambda=0.0001, rgsr__learning_rate=0.12, rgsr__max_depth=3, rgsr__random_state=250923; total time=   3.3s\n",
      "[CV 1/5; 27/80] START rgsr__lambda=0.0001, rgsr__learning_rate=0.12, rgsr__max_depth=4, rgsr__random_state=250923\n",
      "[CV 1/5; 27/80] END rgsr__lambda=0.0001, rgsr__learning_rate=0.12, rgsr__max_depth=4, rgsr__random_state=250923; total time=   3.3s\n",
      "[CV 2/5; 27/80] START rgsr__lambda=0.0001, rgsr__learning_rate=0.12, rgsr__max_depth=4, rgsr__random_state=250923\n",
      "[CV 2/5; 27/80] END rgsr__lambda=0.0001, rgsr__learning_rate=0.12, rgsr__max_depth=4, rgsr__random_state=250923; total time=   3.4s\n",
      "[CV 3/5; 27/80] START rgsr__lambda=0.0001, rgsr__learning_rate=0.12, rgsr__max_depth=4, rgsr__random_state=250923\n",
      "[CV 3/5; 27/80] END rgsr__lambda=0.0001, rgsr__learning_rate=0.12, rgsr__max_depth=4, rgsr__random_state=250923; total time=   3.5s\n",
      "[CV 4/5; 27/80] START rgsr__lambda=0.0001, rgsr__learning_rate=0.12, rgsr__max_depth=4, rgsr__random_state=250923\n",
      "[CV 4/5; 27/80] END rgsr__lambda=0.0001, rgsr__learning_rate=0.12, rgsr__max_depth=4, rgsr__random_state=250923; total time=   3.3s\n",
      "[CV 5/5; 27/80] START rgsr__lambda=0.0001, rgsr__learning_rate=0.12, rgsr__max_depth=4, rgsr__random_state=250923\n",
      "[CV 5/5; 27/80] END rgsr__lambda=0.0001, rgsr__learning_rate=0.12, rgsr__max_depth=4, rgsr__random_state=250923; total time=   3.0s\n",
      "[CV 1/5; 28/80] START rgsr__lambda=0.0001, rgsr__learning_rate=0.12, rgsr__max_depth=5, rgsr__random_state=250923\n",
      "[CV 1/5; 28/80] END rgsr__lambda=0.0001, rgsr__learning_rate=0.12, rgsr__max_depth=5, rgsr__random_state=250923; total time=   4.1s\n",
      "[CV 2/5; 28/80] START rgsr__lambda=0.0001, rgsr__learning_rate=0.12, rgsr__max_depth=5, rgsr__random_state=250923\n",
      "[CV 2/5; 28/80] END rgsr__lambda=0.0001, rgsr__learning_rate=0.12, rgsr__max_depth=5, rgsr__random_state=250923; total time=   4.6s\n",
      "[CV 3/5; 28/80] START rgsr__lambda=0.0001, rgsr__learning_rate=0.12, rgsr__max_depth=5, rgsr__random_state=250923\n",
      "[CV 3/5; 28/80] END rgsr__lambda=0.0001, rgsr__learning_rate=0.12, rgsr__max_depth=5, rgsr__random_state=250923; total time=   3.8s\n",
      "[CV 4/5; 28/80] START rgsr__lambda=0.0001, rgsr__learning_rate=0.12, rgsr__max_depth=5, rgsr__random_state=250923\n",
      "[CV 4/5; 28/80] END rgsr__lambda=0.0001, rgsr__learning_rate=0.12, rgsr__max_depth=5, rgsr__random_state=250923; total time=   3.4s\n",
      "[CV 5/5; 28/80] START rgsr__lambda=0.0001, rgsr__learning_rate=0.12, rgsr__max_depth=5, rgsr__random_state=250923\n",
      "[CV 5/5; 28/80] END rgsr__lambda=0.0001, rgsr__learning_rate=0.12, rgsr__max_depth=5, rgsr__random_state=250923; total time=   3.6s\n",
      "[CV 1/5; 29/80] START rgsr__lambda=0.0001, rgsr__learning_rate=0.2, rgsr__max_depth=1, rgsr__random_state=250923\n",
      "[CV 1/5; 29/80] END rgsr__lambda=0.0001, rgsr__learning_rate=0.2, rgsr__max_depth=1, rgsr__random_state=250923; total time=   3.0s\n",
      "[CV 2/5; 29/80] START rgsr__lambda=0.0001, rgsr__learning_rate=0.2, rgsr__max_depth=1, rgsr__random_state=250923\n",
      "[CV 2/5; 29/80] END rgsr__lambda=0.0001, rgsr__learning_rate=0.2, rgsr__max_depth=1, rgsr__random_state=250923; total time=   2.7s\n",
      "[CV 3/5; 29/80] START rgsr__lambda=0.0001, rgsr__learning_rate=0.2, rgsr__max_depth=1, rgsr__random_state=250923\n",
      "[CV 3/5; 29/80] END rgsr__lambda=0.0001, rgsr__learning_rate=0.2, rgsr__max_depth=1, rgsr__random_state=250923; total time=   2.4s\n",
      "[CV 4/5; 29/80] START rgsr__lambda=0.0001, rgsr__learning_rate=0.2, rgsr__max_depth=1, rgsr__random_state=250923\n",
      "[CV 4/5; 29/80] END rgsr__lambda=0.0001, rgsr__learning_rate=0.2, rgsr__max_depth=1, rgsr__random_state=250923; total time=   2.4s\n",
      "[CV 5/5; 29/80] START rgsr__lambda=0.0001, rgsr__learning_rate=0.2, rgsr__max_depth=1, rgsr__random_state=250923\n",
      "[CV 5/5; 29/80] END rgsr__lambda=0.0001, rgsr__learning_rate=0.2, rgsr__max_depth=1, rgsr__random_state=250923; total time=   2.9s\n",
      "[CV 1/5; 30/80] START rgsr__lambda=0.0001, rgsr__learning_rate=0.2, rgsr__max_depth=3, rgsr__random_state=250923\n",
      "[CV 1/5; 30/80] END rgsr__lambda=0.0001, rgsr__learning_rate=0.2, rgsr__max_depth=3, rgsr__random_state=250923; total time=   3.0s\n",
      "[CV 2/5; 30/80] START rgsr__lambda=0.0001, rgsr__learning_rate=0.2, rgsr__max_depth=3, rgsr__random_state=250923\n",
      "[CV 2/5; 30/80] END rgsr__lambda=0.0001, rgsr__learning_rate=0.2, rgsr__max_depth=3, rgsr__random_state=250923; total time=   3.0s\n",
      "[CV 3/5; 30/80] START rgsr__lambda=0.0001, rgsr__learning_rate=0.2, rgsr__max_depth=3, rgsr__random_state=250923\n",
      "[CV 3/5; 30/80] END rgsr__lambda=0.0001, rgsr__learning_rate=0.2, rgsr__max_depth=3, rgsr__random_state=250923; total time=   3.3s\n",
      "[CV 4/5; 30/80] START rgsr__lambda=0.0001, rgsr__learning_rate=0.2, rgsr__max_depth=3, rgsr__random_state=250923\n",
      "[CV 4/5; 30/80] END rgsr__lambda=0.0001, rgsr__learning_rate=0.2, rgsr__max_depth=3, rgsr__random_state=250923; total time=   2.7s\n",
      "[CV 5/5; 30/80] START rgsr__lambda=0.0001, rgsr__learning_rate=0.2, rgsr__max_depth=3, rgsr__random_state=250923\n",
      "[CV 5/5; 30/80] END rgsr__lambda=0.0001, rgsr__learning_rate=0.2, rgsr__max_depth=3, rgsr__random_state=250923; total time=   3.1s\n",
      "[CV 1/5; 31/80] START rgsr__lambda=0.0001, rgsr__learning_rate=0.2, rgsr__max_depth=4, rgsr__random_state=250923\n",
      "[CV 1/5; 31/80] END rgsr__lambda=0.0001, rgsr__learning_rate=0.2, rgsr__max_depth=4, rgsr__random_state=250923; total time=   3.2s\n",
      "[CV 2/5; 31/80] START rgsr__lambda=0.0001, rgsr__learning_rate=0.2, rgsr__max_depth=4, rgsr__random_state=250923\n",
      "[CV 2/5; 31/80] END rgsr__lambda=0.0001, rgsr__learning_rate=0.2, rgsr__max_depth=4, rgsr__random_state=250923; total time=   3.1s\n",
      "[CV 3/5; 31/80] START rgsr__lambda=0.0001, rgsr__learning_rate=0.2, rgsr__max_depth=4, rgsr__random_state=250923\n",
      "[CV 3/5; 31/80] END rgsr__lambda=0.0001, rgsr__learning_rate=0.2, rgsr__max_depth=4, rgsr__random_state=250923; total time=   3.1s\n",
      "[CV 4/5; 31/80] START rgsr__lambda=0.0001, rgsr__learning_rate=0.2, rgsr__max_depth=4, rgsr__random_state=250923\n",
      "[CV 4/5; 31/80] END rgsr__lambda=0.0001, rgsr__learning_rate=0.2, rgsr__max_depth=4, rgsr__random_state=250923; total time=   2.9s\n",
      "[CV 5/5; 31/80] START rgsr__lambda=0.0001, rgsr__learning_rate=0.2, rgsr__max_depth=4, rgsr__random_state=250923\n",
      "[CV 5/5; 31/80] END rgsr__lambda=0.0001, rgsr__learning_rate=0.2, rgsr__max_depth=4, rgsr__random_state=250923; total time=   3.2s\n",
      "[CV 1/5; 32/80] START rgsr__lambda=0.0001, rgsr__learning_rate=0.2, rgsr__max_depth=5, rgsr__random_state=250923\n",
      "[CV 1/5; 32/80] END rgsr__lambda=0.0001, rgsr__learning_rate=0.2, rgsr__max_depth=5, rgsr__random_state=250923; total time=   3.4s\n",
      "[CV 2/5; 32/80] START rgsr__lambda=0.0001, rgsr__learning_rate=0.2, rgsr__max_depth=5, rgsr__random_state=250923\n",
      "[CV 2/5; 32/80] END rgsr__lambda=0.0001, rgsr__learning_rate=0.2, rgsr__max_depth=5, rgsr__random_state=250923; total time=   5.1s\n",
      "[CV 3/5; 32/80] START rgsr__lambda=0.0001, rgsr__learning_rate=0.2, rgsr__max_depth=5, rgsr__random_state=250923\n",
      "[CV 3/5; 32/80] END rgsr__lambda=0.0001, rgsr__learning_rate=0.2, rgsr__max_depth=5, rgsr__random_state=250923; total time=   5.3s\n",
      "[CV 4/5; 32/80] START rgsr__lambda=0.0001, rgsr__learning_rate=0.2, rgsr__max_depth=5, rgsr__random_state=250923\n",
      "[CV 4/5; 32/80] END rgsr__lambda=0.0001, rgsr__learning_rate=0.2, rgsr__max_depth=5, rgsr__random_state=250923; total time=   3.6s\n",
      "[CV 5/5; 32/80] START rgsr__lambda=0.0001, rgsr__learning_rate=0.2, rgsr__max_depth=5, rgsr__random_state=250923\n",
      "[CV 5/5; 32/80] END rgsr__lambda=0.0001, rgsr__learning_rate=0.2, rgsr__max_depth=5, rgsr__random_state=250923; total time=   8.2s\n",
      "[CV 1/5; 33/80] START rgsr__lambda=0.0005, rgsr__learning_rate=0.07, rgsr__max_depth=1, rgsr__random_state=250923\n",
      "[CV 1/5; 33/80] END rgsr__lambda=0.0005, rgsr__learning_rate=0.07, rgsr__max_depth=1, rgsr__random_state=250923; total time=   2.8s\n",
      "[CV 2/5; 33/80] START rgsr__lambda=0.0005, rgsr__learning_rate=0.07, rgsr__max_depth=1, rgsr__random_state=250923\n",
      "[CV 2/5; 33/80] END rgsr__lambda=0.0005, rgsr__learning_rate=0.07, rgsr__max_depth=1, rgsr__random_state=250923; total time=   2.8s\n",
      "[CV 3/5; 33/80] START rgsr__lambda=0.0005, rgsr__learning_rate=0.07, rgsr__max_depth=1, rgsr__random_state=250923\n",
      "[CV 3/5; 33/80] END rgsr__lambda=0.0005, rgsr__learning_rate=0.07, rgsr__max_depth=1, rgsr__random_state=250923; total time=   2.5s\n",
      "[CV 4/5; 33/80] START rgsr__lambda=0.0005, rgsr__learning_rate=0.07, rgsr__max_depth=1, rgsr__random_state=250923\n",
      "[CV 4/5; 33/80] END rgsr__lambda=0.0005, rgsr__learning_rate=0.07, rgsr__max_depth=1, rgsr__random_state=250923; total time=   2.4s\n",
      "[CV 5/5; 33/80] START rgsr__lambda=0.0005, rgsr__learning_rate=0.07, rgsr__max_depth=1, rgsr__random_state=250923\n",
      "[CV 5/5; 33/80] END rgsr__lambda=0.0005, rgsr__learning_rate=0.07, rgsr__max_depth=1, rgsr__random_state=250923; total time=   2.7s\n",
      "[CV 1/5; 34/80] START rgsr__lambda=0.0005, rgsr__learning_rate=0.07, rgsr__max_depth=3, rgsr__random_state=250923\n",
      "[CV 1/5; 34/80] END rgsr__lambda=0.0005, rgsr__learning_rate=0.07, rgsr__max_depth=3, rgsr__random_state=250923; total time=   3.0s\n",
      "[CV 2/5; 34/80] START rgsr__lambda=0.0005, rgsr__learning_rate=0.07, rgsr__max_depth=3, rgsr__random_state=250923\n",
      "[CV 2/5; 34/80] END rgsr__lambda=0.0005, rgsr__learning_rate=0.07, rgsr__max_depth=3, rgsr__random_state=250923; total time=   3.0s\n",
      "[CV 3/5; 34/80] START rgsr__lambda=0.0005, rgsr__learning_rate=0.07, rgsr__max_depth=3, rgsr__random_state=250923\n",
      "[CV 3/5; 34/80] END rgsr__lambda=0.0005, rgsr__learning_rate=0.07, rgsr__max_depth=3, rgsr__random_state=250923; total time=   3.1s\n",
      "[CV 4/5; 34/80] START rgsr__lambda=0.0005, rgsr__learning_rate=0.07, rgsr__max_depth=3, rgsr__random_state=250923\n",
      "[CV 4/5; 34/80] END rgsr__lambda=0.0005, rgsr__learning_rate=0.07, rgsr__max_depth=3, rgsr__random_state=250923; total time=   3.5s\n",
      "[CV 5/5; 34/80] START rgsr__lambda=0.0005, rgsr__learning_rate=0.07, rgsr__max_depth=3, rgsr__random_state=250923\n",
      "[CV 5/5; 34/80] END rgsr__lambda=0.0005, rgsr__learning_rate=0.07, rgsr__max_depth=3, rgsr__random_state=250923; total time=   3.2s\n",
      "[CV 1/5; 35/80] START rgsr__lambda=0.0005, rgsr__learning_rate=0.07, rgsr__max_depth=4, rgsr__random_state=250923\n",
      "[CV 1/5; 35/80] END rgsr__lambda=0.0005, rgsr__learning_rate=0.07, rgsr__max_depth=4, rgsr__random_state=250923; total time=   3.3s\n",
      "[CV 2/5; 35/80] START rgsr__lambda=0.0005, rgsr__learning_rate=0.07, rgsr__max_depth=4, rgsr__random_state=250923\n",
      "[CV 2/5; 35/80] END rgsr__lambda=0.0005, rgsr__learning_rate=0.07, rgsr__max_depth=4, rgsr__random_state=250923; total time=   6.1s\n",
      "[CV 3/5; 35/80] START rgsr__lambda=0.0005, rgsr__learning_rate=0.07, rgsr__max_depth=4, rgsr__random_state=250923\n",
      "[CV 3/5; 35/80] END rgsr__lambda=0.0005, rgsr__learning_rate=0.07, rgsr__max_depth=4, rgsr__random_state=250923; total time=   3.4s\n",
      "[CV 4/5; 35/80] START rgsr__lambda=0.0005, rgsr__learning_rate=0.07, rgsr__max_depth=4, rgsr__random_state=250923\n",
      "[CV 4/5; 35/80] END rgsr__lambda=0.0005, rgsr__learning_rate=0.07, rgsr__max_depth=4, rgsr__random_state=250923; total time=   3.0s\n",
      "[CV 5/5; 35/80] START rgsr__lambda=0.0005, rgsr__learning_rate=0.07, rgsr__max_depth=4, rgsr__random_state=250923\n",
      "[CV 5/5; 35/80] END rgsr__lambda=0.0005, rgsr__learning_rate=0.07, rgsr__max_depth=4, rgsr__random_state=250923; total time=   3.7s\n",
      "[CV 1/5; 36/80] START rgsr__lambda=0.0005, rgsr__learning_rate=0.07, rgsr__max_depth=5, rgsr__random_state=250923\n",
      "[CV 1/5; 36/80] END rgsr__lambda=0.0005, rgsr__learning_rate=0.07, rgsr__max_depth=5, rgsr__random_state=250923; total time=   4.5s\n",
      "[CV 2/5; 36/80] START rgsr__lambda=0.0005, rgsr__learning_rate=0.07, rgsr__max_depth=5, rgsr__random_state=250923\n",
      "[CV 2/5; 36/80] END rgsr__lambda=0.0005, rgsr__learning_rate=0.07, rgsr__max_depth=5, rgsr__random_state=250923; total time=   4.1s\n",
      "[CV 3/5; 36/80] START rgsr__lambda=0.0005, rgsr__learning_rate=0.07, rgsr__max_depth=5, rgsr__random_state=250923\n",
      "[CV 3/5; 36/80] END rgsr__lambda=0.0005, rgsr__learning_rate=0.07, rgsr__max_depth=5, rgsr__random_state=250923; total time=   3.4s\n",
      "[CV 4/5; 36/80] START rgsr__lambda=0.0005, rgsr__learning_rate=0.07, rgsr__max_depth=5, rgsr__random_state=250923\n",
      "[CV 4/5; 36/80] END rgsr__lambda=0.0005, rgsr__learning_rate=0.07, rgsr__max_depth=5, rgsr__random_state=250923; total time=   4.7s\n",
      "[CV 5/5; 36/80] START rgsr__lambda=0.0005, rgsr__learning_rate=0.07, rgsr__max_depth=5, rgsr__random_state=250923\n",
      "[CV 5/5; 36/80] END rgsr__lambda=0.0005, rgsr__learning_rate=0.07, rgsr__max_depth=5, rgsr__random_state=250923; total time=   3.9s\n",
      "[CV 1/5; 37/80] START rgsr__lambda=0.0005, rgsr__learning_rate=0.1, rgsr__max_depth=1, rgsr__random_state=250923\n",
      "[CV 1/5; 37/80] END rgsr__lambda=0.0005, rgsr__learning_rate=0.1, rgsr__max_depth=1, rgsr__random_state=250923; total time=   2.6s\n",
      "[CV 2/5; 37/80] START rgsr__lambda=0.0005, rgsr__learning_rate=0.1, rgsr__max_depth=1, rgsr__random_state=250923\n",
      "[CV 2/5; 37/80] END rgsr__lambda=0.0005, rgsr__learning_rate=0.1, rgsr__max_depth=1, rgsr__random_state=250923; total time=   2.5s\n",
      "[CV 3/5; 37/80] START rgsr__lambda=0.0005, rgsr__learning_rate=0.1, rgsr__max_depth=1, rgsr__random_state=250923\n",
      "[CV 3/5; 37/80] END rgsr__lambda=0.0005, rgsr__learning_rate=0.1, rgsr__max_depth=1, rgsr__random_state=250923; total time=   4.2s\n",
      "[CV 4/5; 37/80] START rgsr__lambda=0.0005, rgsr__learning_rate=0.1, rgsr__max_depth=1, rgsr__random_state=250923\n",
      "[CV 4/5; 37/80] END rgsr__lambda=0.0005, rgsr__learning_rate=0.1, rgsr__max_depth=1, rgsr__random_state=250923; total time=   2.6s\n",
      "[CV 5/5; 37/80] START rgsr__lambda=0.0005, rgsr__learning_rate=0.1, rgsr__max_depth=1, rgsr__random_state=250923\n",
      "[CV 5/5; 37/80] END rgsr__lambda=0.0005, rgsr__learning_rate=0.1, rgsr__max_depth=1, rgsr__random_state=250923; total time=   2.7s\n",
      "[CV 1/5; 38/80] START rgsr__lambda=0.0005, rgsr__learning_rate=0.1, rgsr__max_depth=3, rgsr__random_state=250923\n",
      "[CV 1/5; 38/80] END rgsr__lambda=0.0005, rgsr__learning_rate=0.1, rgsr__max_depth=3, rgsr__random_state=250923; total time=   5.1s\n",
      "[CV 2/5; 38/80] START rgsr__lambda=0.0005, rgsr__learning_rate=0.1, rgsr__max_depth=3, rgsr__random_state=250923\n",
      "[CV 2/5; 38/80] END rgsr__lambda=0.0005, rgsr__learning_rate=0.1, rgsr__max_depth=3, rgsr__random_state=250923; total time=   2.9s\n",
      "[CV 3/5; 38/80] START rgsr__lambda=0.0005, rgsr__learning_rate=0.1, rgsr__max_depth=3, rgsr__random_state=250923\n",
      "[CV 3/5; 38/80] END rgsr__lambda=0.0005, rgsr__learning_rate=0.1, rgsr__max_depth=3, rgsr__random_state=250923; total time=   4.6s\n",
      "[CV 4/5; 38/80] START rgsr__lambda=0.0005, rgsr__learning_rate=0.1, rgsr__max_depth=3, rgsr__random_state=250923\n",
      "[CV 4/5; 38/80] END rgsr__lambda=0.0005, rgsr__learning_rate=0.1, rgsr__max_depth=3, rgsr__random_state=250923; total time=   3.1s\n",
      "[CV 5/5; 38/80] START rgsr__lambda=0.0005, rgsr__learning_rate=0.1, rgsr__max_depth=3, rgsr__random_state=250923\n",
      "[CV 5/5; 38/80] END rgsr__lambda=0.0005, rgsr__learning_rate=0.1, rgsr__max_depth=3, rgsr__random_state=250923; total time=   3.4s\n",
      "[CV 1/5; 39/80] START rgsr__lambda=0.0005, rgsr__learning_rate=0.1, rgsr__max_depth=4, rgsr__random_state=250923\n",
      "[CV 1/5; 39/80] END rgsr__lambda=0.0005, rgsr__learning_rate=0.1, rgsr__max_depth=4, rgsr__random_state=250923; total time=   2.9s\n",
      "[CV 2/5; 39/80] START rgsr__lambda=0.0005, rgsr__learning_rate=0.1, rgsr__max_depth=4, rgsr__random_state=250923\n",
      "[CV 2/5; 39/80] END rgsr__lambda=0.0005, rgsr__learning_rate=0.1, rgsr__max_depth=4, rgsr__random_state=250923; total time=   3.3s\n",
      "[CV 3/5; 39/80] START rgsr__lambda=0.0005, rgsr__learning_rate=0.1, rgsr__max_depth=4, rgsr__random_state=250923\n",
      "[CV 3/5; 39/80] END rgsr__lambda=0.0005, rgsr__learning_rate=0.1, rgsr__max_depth=4, rgsr__random_state=250923; total time=   3.4s\n",
      "[CV 4/5; 39/80] START rgsr__lambda=0.0005, rgsr__learning_rate=0.1, rgsr__max_depth=4, rgsr__random_state=250923\n",
      "[CV 4/5; 39/80] END rgsr__lambda=0.0005, rgsr__learning_rate=0.1, rgsr__max_depth=4, rgsr__random_state=250923; total time=   4.9s\n",
      "[CV 5/5; 39/80] START rgsr__lambda=0.0005, rgsr__learning_rate=0.1, rgsr__max_depth=4, rgsr__random_state=250923\n",
      "[CV 5/5; 39/80] END rgsr__lambda=0.0005, rgsr__learning_rate=0.1, rgsr__max_depth=4, rgsr__random_state=250923; total time=   4.6s\n",
      "[CV 1/5; 40/80] START rgsr__lambda=0.0005, rgsr__learning_rate=0.1, rgsr__max_depth=5, rgsr__random_state=250923\n",
      "[CV 1/5; 40/80] END rgsr__lambda=0.0005, rgsr__learning_rate=0.1, rgsr__max_depth=5, rgsr__random_state=250923; total time=   3.7s\n",
      "[CV 2/5; 40/80] START rgsr__lambda=0.0005, rgsr__learning_rate=0.1, rgsr__max_depth=5, rgsr__random_state=250923\n",
      "[CV 2/5; 40/80] END rgsr__lambda=0.0005, rgsr__learning_rate=0.1, rgsr__max_depth=5, rgsr__random_state=250923; total time=   3.6s\n",
      "[CV 3/5; 40/80] START rgsr__lambda=0.0005, rgsr__learning_rate=0.1, rgsr__max_depth=5, rgsr__random_state=250923\n",
      "[CV 3/5; 40/80] END rgsr__lambda=0.0005, rgsr__learning_rate=0.1, rgsr__max_depth=5, rgsr__random_state=250923; total time=   3.7s\n",
      "[CV 4/5; 40/80] START rgsr__lambda=0.0005, rgsr__learning_rate=0.1, rgsr__max_depth=5, rgsr__random_state=250923\n",
      "[CV 4/5; 40/80] END rgsr__lambda=0.0005, rgsr__learning_rate=0.1, rgsr__max_depth=5, rgsr__random_state=250923; total time=   3.4s\n",
      "[CV 5/5; 40/80] START rgsr__lambda=0.0005, rgsr__learning_rate=0.1, rgsr__max_depth=5, rgsr__random_state=250923\n",
      "[CV 5/5; 40/80] END rgsr__lambda=0.0005, rgsr__learning_rate=0.1, rgsr__max_depth=5, rgsr__random_state=250923; total time=   3.7s\n",
      "[CV 1/5; 41/80] START rgsr__lambda=0.0005, rgsr__learning_rate=0.12, rgsr__max_depth=1, rgsr__random_state=250923\n",
      "[CV 1/5; 41/80] END rgsr__lambda=0.0005, rgsr__learning_rate=0.12, rgsr__max_depth=1, rgsr__random_state=250923; total time=   2.9s\n",
      "[CV 2/5; 41/80] START rgsr__lambda=0.0005, rgsr__learning_rate=0.12, rgsr__max_depth=1, rgsr__random_state=250923\n",
      "[CV 2/5; 41/80] END rgsr__lambda=0.0005, rgsr__learning_rate=0.12, rgsr__max_depth=1, rgsr__random_state=250923; total time=   2.4s\n",
      "[CV 3/5; 41/80] START rgsr__lambda=0.0005, rgsr__learning_rate=0.12, rgsr__max_depth=1, rgsr__random_state=250923\n",
      "[CV 3/5; 41/80] END rgsr__lambda=0.0005, rgsr__learning_rate=0.12, rgsr__max_depth=1, rgsr__random_state=250923; total time=   2.8s\n",
      "[CV 4/5; 41/80] START rgsr__lambda=0.0005, rgsr__learning_rate=0.12, rgsr__max_depth=1, rgsr__random_state=250923\n",
      "[CV 4/5; 41/80] END rgsr__lambda=0.0005, rgsr__learning_rate=0.12, rgsr__max_depth=1, rgsr__random_state=250923; total time=   2.7s\n",
      "[CV 5/5; 41/80] START rgsr__lambda=0.0005, rgsr__learning_rate=0.12, rgsr__max_depth=1, rgsr__random_state=250923\n",
      "[CV 5/5; 41/80] END rgsr__lambda=0.0005, rgsr__learning_rate=0.12, rgsr__max_depth=1, rgsr__random_state=250923; total time=   2.8s\n",
      "[CV 1/5; 42/80] START rgsr__lambda=0.0005, rgsr__learning_rate=0.12, rgsr__max_depth=3, rgsr__random_state=250923\n",
      "[CV 1/5; 42/80] END rgsr__lambda=0.0005, rgsr__learning_rate=0.12, rgsr__max_depth=3, rgsr__random_state=250923; total time=   2.9s\n",
      "[CV 2/5; 42/80] START rgsr__lambda=0.0005, rgsr__learning_rate=0.12, rgsr__max_depth=3, rgsr__random_state=250923\n",
      "[CV 2/5; 42/80] END rgsr__lambda=0.0005, rgsr__learning_rate=0.12, rgsr__max_depth=3, rgsr__random_state=250923; total time=   3.4s\n",
      "[CV 3/5; 42/80] START rgsr__lambda=0.0005, rgsr__learning_rate=0.12, rgsr__max_depth=3, rgsr__random_state=250923\n",
      "[CV 3/5; 42/80] END rgsr__lambda=0.0005, rgsr__learning_rate=0.12, rgsr__max_depth=3, rgsr__random_state=250923; total time=   5.9s\n",
      "[CV 4/5; 42/80] START rgsr__lambda=0.0005, rgsr__learning_rate=0.12, rgsr__max_depth=3, rgsr__random_state=250923\n",
      "[CV 4/5; 42/80] END rgsr__lambda=0.0005, rgsr__learning_rate=0.12, rgsr__max_depth=3, rgsr__random_state=250923; total time=   3.3s\n",
      "[CV 5/5; 42/80] START rgsr__lambda=0.0005, rgsr__learning_rate=0.12, rgsr__max_depth=3, rgsr__random_state=250923\n",
      "[CV 5/5; 42/80] END rgsr__lambda=0.0005, rgsr__learning_rate=0.12, rgsr__max_depth=3, rgsr__random_state=250923; total time=   3.3s\n",
      "[CV 1/5; 43/80] START rgsr__lambda=0.0005, rgsr__learning_rate=0.12, rgsr__max_depth=4, rgsr__random_state=250923\n",
      "[CV 1/5; 43/80] END rgsr__lambda=0.0005, rgsr__learning_rate=0.12, rgsr__max_depth=4, rgsr__random_state=250923; total time=   6.0s\n",
      "[CV 2/5; 43/80] START rgsr__lambda=0.0005, rgsr__learning_rate=0.12, rgsr__max_depth=4, rgsr__random_state=250923\n",
      "[CV 2/5; 43/80] END rgsr__lambda=0.0005, rgsr__learning_rate=0.12, rgsr__max_depth=4, rgsr__random_state=250923; total time=   4.4s\n",
      "[CV 3/5; 43/80] START rgsr__lambda=0.0005, rgsr__learning_rate=0.12, rgsr__max_depth=4, rgsr__random_state=250923\n",
      "[CV 3/5; 43/80] END rgsr__lambda=0.0005, rgsr__learning_rate=0.12, rgsr__max_depth=4, rgsr__random_state=250923; total time=   3.5s\n",
      "[CV 4/5; 43/80] START rgsr__lambda=0.0005, rgsr__learning_rate=0.12, rgsr__max_depth=4, rgsr__random_state=250923\n",
      "[CV 4/5; 43/80] END rgsr__lambda=0.0005, rgsr__learning_rate=0.12, rgsr__max_depth=4, rgsr__random_state=250923; total time=   6.9s\n",
      "[CV 5/5; 43/80] START rgsr__lambda=0.0005, rgsr__learning_rate=0.12, rgsr__max_depth=4, rgsr__random_state=250923\n",
      "[CV 5/5; 43/80] END rgsr__lambda=0.0005, rgsr__learning_rate=0.12, rgsr__max_depth=4, rgsr__random_state=250923; total time=   3.1s\n",
      "[CV 1/5; 44/80] START rgsr__lambda=0.0005, rgsr__learning_rate=0.12, rgsr__max_depth=5, rgsr__random_state=250923\n",
      "[CV 1/5; 44/80] END rgsr__lambda=0.0005, rgsr__learning_rate=0.12, rgsr__max_depth=5, rgsr__random_state=250923; total time=   5.6s\n",
      "[CV 2/5; 44/80] START rgsr__lambda=0.0005, rgsr__learning_rate=0.12, rgsr__max_depth=5, rgsr__random_state=250923\n",
      "[CV 2/5; 44/80] END rgsr__lambda=0.0005, rgsr__learning_rate=0.12, rgsr__max_depth=5, rgsr__random_state=250923; total time=   3.5s\n",
      "[CV 3/5; 44/80] START rgsr__lambda=0.0005, rgsr__learning_rate=0.12, rgsr__max_depth=5, rgsr__random_state=250923\n",
      "[CV 3/5; 44/80] END rgsr__lambda=0.0005, rgsr__learning_rate=0.12, rgsr__max_depth=5, rgsr__random_state=250923; total time=   3.5s\n",
      "[CV 4/5; 44/80] START rgsr__lambda=0.0005, rgsr__learning_rate=0.12, rgsr__max_depth=5, rgsr__random_state=250923\n",
      "[CV 4/5; 44/80] END rgsr__lambda=0.0005, rgsr__learning_rate=0.12, rgsr__max_depth=5, rgsr__random_state=250923; total time=   3.5s\n",
      "[CV 5/5; 44/80] START rgsr__lambda=0.0005, rgsr__learning_rate=0.12, rgsr__max_depth=5, rgsr__random_state=250923\n",
      "[CV 5/5; 44/80] END rgsr__lambda=0.0005, rgsr__learning_rate=0.12, rgsr__max_depth=5, rgsr__random_state=250923; total time=   3.6s\n",
      "[CV 1/5; 45/80] START rgsr__lambda=0.0005, rgsr__learning_rate=0.2, rgsr__max_depth=1, rgsr__random_state=250923\n",
      "[CV 1/5; 45/80] END rgsr__lambda=0.0005, rgsr__learning_rate=0.2, rgsr__max_depth=1, rgsr__random_state=250923; total time=   2.5s\n",
      "[CV 2/5; 45/80] START rgsr__lambda=0.0005, rgsr__learning_rate=0.2, rgsr__max_depth=1, rgsr__random_state=250923\n",
      "[CV 2/5; 45/80] END rgsr__lambda=0.0005, rgsr__learning_rate=0.2, rgsr__max_depth=1, rgsr__random_state=250923; total time=   5.1s\n",
      "[CV 3/5; 45/80] START rgsr__lambda=0.0005, rgsr__learning_rate=0.2, rgsr__max_depth=1, rgsr__random_state=250923\n",
      "[CV 3/5; 45/80] END rgsr__lambda=0.0005, rgsr__learning_rate=0.2, rgsr__max_depth=1, rgsr__random_state=250923; total time=   2.4s\n",
      "[CV 4/5; 45/80] START rgsr__lambda=0.0005, rgsr__learning_rate=0.2, rgsr__max_depth=1, rgsr__random_state=250923\n",
      "[CV 4/5; 45/80] END rgsr__lambda=0.0005, rgsr__learning_rate=0.2, rgsr__max_depth=1, rgsr__random_state=250923; total time=   2.6s\n",
      "[CV 5/5; 45/80] START rgsr__lambda=0.0005, rgsr__learning_rate=0.2, rgsr__max_depth=1, rgsr__random_state=250923\n",
      "[CV 5/5; 45/80] END rgsr__lambda=0.0005, rgsr__learning_rate=0.2, rgsr__max_depth=1, rgsr__random_state=250923; total time=   2.6s\n",
      "[CV 1/5; 46/80] START rgsr__lambda=0.0005, rgsr__learning_rate=0.2, rgsr__max_depth=3, rgsr__random_state=250923\n",
      "[CV 1/5; 46/80] END rgsr__lambda=0.0005, rgsr__learning_rate=0.2, rgsr__max_depth=3, rgsr__random_state=250923; total time=   3.3s\n",
      "[CV 2/5; 46/80] START rgsr__lambda=0.0005, rgsr__learning_rate=0.2, rgsr__max_depth=3, rgsr__random_state=250923\n",
      "[CV 2/5; 46/80] END rgsr__lambda=0.0005, rgsr__learning_rate=0.2, rgsr__max_depth=3, rgsr__random_state=250923; total time=   5.1s\n",
      "[CV 3/5; 46/80] START rgsr__lambda=0.0005, rgsr__learning_rate=0.2, rgsr__max_depth=3, rgsr__random_state=250923\n",
      "[CV 3/5; 46/80] END rgsr__lambda=0.0005, rgsr__learning_rate=0.2, rgsr__max_depth=3, rgsr__random_state=250923; total time=   3.4s\n",
      "[CV 4/5; 46/80] START rgsr__lambda=0.0005, rgsr__learning_rate=0.2, rgsr__max_depth=3, rgsr__random_state=250923\n",
      "[CV 4/5; 46/80] END rgsr__lambda=0.0005, rgsr__learning_rate=0.2, rgsr__max_depth=3, rgsr__random_state=250923; total time=   3.1s\n",
      "[CV 5/5; 46/80] START rgsr__lambda=0.0005, rgsr__learning_rate=0.2, rgsr__max_depth=3, rgsr__random_state=250923\n",
      "[CV 5/5; 46/80] END rgsr__lambda=0.0005, rgsr__learning_rate=0.2, rgsr__max_depth=3, rgsr__random_state=250923; total time=   2.9s\n",
      "[CV 1/5; 47/80] START rgsr__lambda=0.0005, rgsr__learning_rate=0.2, rgsr__max_depth=4, rgsr__random_state=250923\n",
      "[CV 1/5; 47/80] END rgsr__lambda=0.0005, rgsr__learning_rate=0.2, rgsr__max_depth=4, rgsr__random_state=250923; total time=   3.2s\n",
      "[CV 2/5; 47/80] START rgsr__lambda=0.0005, rgsr__learning_rate=0.2, rgsr__max_depth=4, rgsr__random_state=250923\n",
      "[CV 2/5; 47/80] END rgsr__lambda=0.0005, rgsr__learning_rate=0.2, rgsr__max_depth=4, rgsr__random_state=250923; total time=   3.3s\n",
      "[CV 3/5; 47/80] START rgsr__lambda=0.0005, rgsr__learning_rate=0.2, rgsr__max_depth=4, rgsr__random_state=250923\n",
      "[CV 3/5; 47/80] END rgsr__lambda=0.0005, rgsr__learning_rate=0.2, rgsr__max_depth=4, rgsr__random_state=250923; total time=   3.2s\n",
      "[CV 4/5; 47/80] START rgsr__lambda=0.0005, rgsr__learning_rate=0.2, rgsr__max_depth=4, rgsr__random_state=250923\n",
      "[CV 4/5; 47/80] END rgsr__lambda=0.0005, rgsr__learning_rate=0.2, rgsr__max_depth=4, rgsr__random_state=250923; total time=   3.2s\n",
      "[CV 5/5; 47/80] START rgsr__lambda=0.0005, rgsr__learning_rate=0.2, rgsr__max_depth=4, rgsr__random_state=250923\n",
      "[CV 5/5; 47/80] END rgsr__lambda=0.0005, rgsr__learning_rate=0.2, rgsr__max_depth=4, rgsr__random_state=250923; total time=   3.2s\n",
      "[CV 1/5; 48/80] START rgsr__lambda=0.0005, rgsr__learning_rate=0.2, rgsr__max_depth=5, rgsr__random_state=250923\n",
      "[CV 1/5; 48/80] END rgsr__lambda=0.0005, rgsr__learning_rate=0.2, rgsr__max_depth=5, rgsr__random_state=250923; total time=   4.3s\n",
      "[CV 2/5; 48/80] START rgsr__lambda=0.0005, rgsr__learning_rate=0.2, rgsr__max_depth=5, rgsr__random_state=250923\n",
      "[CV 2/5; 48/80] END rgsr__lambda=0.0005, rgsr__learning_rate=0.2, rgsr__max_depth=5, rgsr__random_state=250923; total time=   4.8s\n",
      "[CV 3/5; 48/80] START rgsr__lambda=0.0005, rgsr__learning_rate=0.2, rgsr__max_depth=5, rgsr__random_state=250923\n",
      "[CV 3/5; 48/80] END rgsr__lambda=0.0005, rgsr__learning_rate=0.2, rgsr__max_depth=5, rgsr__random_state=250923; total time=   3.5s\n",
      "[CV 4/5; 48/80] START rgsr__lambda=0.0005, rgsr__learning_rate=0.2, rgsr__max_depth=5, rgsr__random_state=250923\n",
      "[CV 4/5; 48/80] END rgsr__lambda=0.0005, rgsr__learning_rate=0.2, rgsr__max_depth=5, rgsr__random_state=250923; total time=   4.7s\n",
      "[CV 5/5; 48/80] START rgsr__lambda=0.0005, rgsr__learning_rate=0.2, rgsr__max_depth=5, rgsr__random_state=250923\n",
      "[CV 5/5; 48/80] END rgsr__lambda=0.0005, rgsr__learning_rate=0.2, rgsr__max_depth=5, rgsr__random_state=250923; total time=   3.4s\n",
      "[CV 1/5; 49/80] START rgsr__lambda=0.001, rgsr__learning_rate=0.07, rgsr__max_depth=1, rgsr__random_state=250923\n",
      "[CV 1/5; 49/80] END rgsr__lambda=0.001, rgsr__learning_rate=0.07, rgsr__max_depth=1, rgsr__random_state=250923; total time=   2.7s\n",
      "[CV 2/5; 49/80] START rgsr__lambda=0.001, rgsr__learning_rate=0.07, rgsr__max_depth=1, rgsr__random_state=250923\n",
      "[CV 2/5; 49/80] END rgsr__lambda=0.001, rgsr__learning_rate=0.07, rgsr__max_depth=1, rgsr__random_state=250923; total time=   2.8s\n",
      "[CV 3/5; 49/80] START rgsr__lambda=0.001, rgsr__learning_rate=0.07, rgsr__max_depth=1, rgsr__random_state=250923\n",
      "[CV 3/5; 49/80] END rgsr__lambda=0.001, rgsr__learning_rate=0.07, rgsr__max_depth=1, rgsr__random_state=250923; total time=   2.7s\n",
      "[CV 4/5; 49/80] START rgsr__lambda=0.001, rgsr__learning_rate=0.07, rgsr__max_depth=1, rgsr__random_state=250923\n",
      "[CV 4/5; 49/80] END rgsr__lambda=0.001, rgsr__learning_rate=0.07, rgsr__max_depth=1, rgsr__random_state=250923; total time=   2.6s\n",
      "[CV 5/5; 49/80] START rgsr__lambda=0.001, rgsr__learning_rate=0.07, rgsr__max_depth=1, rgsr__random_state=250923\n",
      "[CV 5/5; 49/80] END rgsr__lambda=0.001, rgsr__learning_rate=0.07, rgsr__max_depth=1, rgsr__random_state=250923; total time=   3.3s\n",
      "[CV 1/5; 50/80] START rgsr__lambda=0.001, rgsr__learning_rate=0.07, rgsr__max_depth=3, rgsr__random_state=250923\n",
      "[CV 1/5; 50/80] END rgsr__lambda=0.001, rgsr__learning_rate=0.07, rgsr__max_depth=3, rgsr__random_state=250923; total time=   3.5s\n",
      "[CV 2/5; 50/80] START rgsr__lambda=0.001, rgsr__learning_rate=0.07, rgsr__max_depth=3, rgsr__random_state=250923\n",
      "[CV 2/5; 50/80] END rgsr__lambda=0.001, rgsr__learning_rate=0.07, rgsr__max_depth=3, rgsr__random_state=250923; total time=   3.5s\n",
      "[CV 3/5; 50/80] START rgsr__lambda=0.001, rgsr__learning_rate=0.07, rgsr__max_depth=3, rgsr__random_state=250923\n",
      "[CV 3/5; 50/80] END rgsr__lambda=0.001, rgsr__learning_rate=0.07, rgsr__max_depth=3, rgsr__random_state=250923; total time=   2.8s\n",
      "[CV 4/5; 50/80] START rgsr__lambda=0.001, rgsr__learning_rate=0.07, rgsr__max_depth=3, rgsr__random_state=250923\n",
      "[CV 4/5; 50/80] END rgsr__lambda=0.001, rgsr__learning_rate=0.07, rgsr__max_depth=3, rgsr__random_state=250923; total time=   3.1s\n",
      "[CV 5/5; 50/80] START rgsr__lambda=0.001, rgsr__learning_rate=0.07, rgsr__max_depth=3, rgsr__random_state=250923\n",
      "[CV 5/5; 50/80] END rgsr__lambda=0.001, rgsr__learning_rate=0.07, rgsr__max_depth=3, rgsr__random_state=250923; total time=   4.4s\n",
      "[CV 1/5; 51/80] START rgsr__lambda=0.001, rgsr__learning_rate=0.07, rgsr__max_depth=4, rgsr__random_state=250923\n",
      "[CV 1/5; 51/80] END rgsr__lambda=0.001, rgsr__learning_rate=0.07, rgsr__max_depth=4, rgsr__random_state=250923; total time=   3.1s\n",
      "[CV 2/5; 51/80] START rgsr__lambda=0.001, rgsr__learning_rate=0.07, rgsr__max_depth=4, rgsr__random_state=250923\n",
      "[CV 2/5; 51/80] END rgsr__lambda=0.001, rgsr__learning_rate=0.07, rgsr__max_depth=4, rgsr__random_state=250923; total time=   3.3s\n",
      "[CV 3/5; 51/80] START rgsr__lambda=0.001, rgsr__learning_rate=0.07, rgsr__max_depth=4, rgsr__random_state=250923\n",
      "[CV 3/5; 51/80] END rgsr__lambda=0.001, rgsr__learning_rate=0.07, rgsr__max_depth=4, rgsr__random_state=250923; total time=   3.5s\n",
      "[CV 4/5; 51/80] START rgsr__lambda=0.001, rgsr__learning_rate=0.07, rgsr__max_depth=4, rgsr__random_state=250923\n",
      "[CV 4/5; 51/80] END rgsr__lambda=0.001, rgsr__learning_rate=0.07, rgsr__max_depth=4, rgsr__random_state=250923; total time=   3.3s\n",
      "[CV 5/5; 51/80] START rgsr__lambda=0.001, rgsr__learning_rate=0.07, rgsr__max_depth=4, rgsr__random_state=250923\n",
      "[CV 5/5; 51/80] END rgsr__lambda=0.001, rgsr__learning_rate=0.07, rgsr__max_depth=4, rgsr__random_state=250923; total time=   3.3s\n",
      "[CV 1/5; 52/80] START rgsr__lambda=0.001, rgsr__learning_rate=0.07, rgsr__max_depth=5, rgsr__random_state=250923\n",
      "[CV 1/5; 52/80] END rgsr__lambda=0.001, rgsr__learning_rate=0.07, rgsr__max_depth=5, rgsr__random_state=250923; total time=   3.4s\n",
      "[CV 2/5; 52/80] START rgsr__lambda=0.001, rgsr__learning_rate=0.07, rgsr__max_depth=5, rgsr__random_state=250923\n",
      "[CV 2/5; 52/80] END rgsr__lambda=0.001, rgsr__learning_rate=0.07, rgsr__max_depth=5, rgsr__random_state=250923; total time=   3.8s\n",
      "[CV 3/5; 52/80] START rgsr__lambda=0.001, rgsr__learning_rate=0.07, rgsr__max_depth=5, rgsr__random_state=250923\n",
      "[CV 3/5; 52/80] END rgsr__lambda=0.001, rgsr__learning_rate=0.07, rgsr__max_depth=5, rgsr__random_state=250923; total time=   4.0s\n",
      "[CV 4/5; 52/80] START rgsr__lambda=0.001, rgsr__learning_rate=0.07, rgsr__max_depth=5, rgsr__random_state=250923\n",
      "[CV 4/5; 52/80] END rgsr__lambda=0.001, rgsr__learning_rate=0.07, rgsr__max_depth=5, rgsr__random_state=250923; total time=  13.1s\n",
      "[CV 5/5; 52/80] START rgsr__lambda=0.001, rgsr__learning_rate=0.07, rgsr__max_depth=5, rgsr__random_state=250923\n",
      "[CV 5/5; 52/80] END rgsr__lambda=0.001, rgsr__learning_rate=0.07, rgsr__max_depth=5, rgsr__random_state=250923; total time=   4.0s\n",
      "[CV 1/5; 53/80] START rgsr__lambda=0.001, rgsr__learning_rate=0.1, rgsr__max_depth=1, rgsr__random_state=250923\n",
      "[CV 1/5; 53/80] END rgsr__lambda=0.001, rgsr__learning_rate=0.1, rgsr__max_depth=1, rgsr__random_state=250923; total time=   2.7s\n",
      "[CV 2/5; 53/80] START rgsr__lambda=0.001, rgsr__learning_rate=0.1, rgsr__max_depth=1, rgsr__random_state=250923\n",
      "[CV 2/5; 53/80] END rgsr__lambda=0.001, rgsr__learning_rate=0.1, rgsr__max_depth=1, rgsr__random_state=250923; total time=   2.6s\n",
      "[CV 3/5; 53/80] START rgsr__lambda=0.001, rgsr__learning_rate=0.1, rgsr__max_depth=1, rgsr__random_state=250923\n",
      "[CV 3/5; 53/80] END rgsr__lambda=0.001, rgsr__learning_rate=0.1, rgsr__max_depth=1, rgsr__random_state=250923; total time=   2.5s\n",
      "[CV 4/5; 53/80] START rgsr__lambda=0.001, rgsr__learning_rate=0.1, rgsr__max_depth=1, rgsr__random_state=250923\n",
      "[CV 4/5; 53/80] END rgsr__lambda=0.001, rgsr__learning_rate=0.1, rgsr__max_depth=1, rgsr__random_state=250923; total time=   4.6s\n",
      "[CV 5/5; 53/80] START rgsr__lambda=0.001, rgsr__learning_rate=0.1, rgsr__max_depth=1, rgsr__random_state=250923\n",
      "[CV 5/5; 53/80] END rgsr__lambda=0.001, rgsr__learning_rate=0.1, rgsr__max_depth=1, rgsr__random_state=250923; total time=   2.6s\n",
      "[CV 1/5; 54/80] START rgsr__lambda=0.001, rgsr__learning_rate=0.1, rgsr__max_depth=3, rgsr__random_state=250923\n",
      "[CV 1/5; 54/80] END rgsr__lambda=0.001, rgsr__learning_rate=0.1, rgsr__max_depth=3, rgsr__random_state=250923; total time=   3.0s\n",
      "[CV 2/5; 54/80] START rgsr__lambda=0.001, rgsr__learning_rate=0.1, rgsr__max_depth=3, rgsr__random_state=250923\n",
      "[CV 2/5; 54/80] END rgsr__lambda=0.001, rgsr__learning_rate=0.1, rgsr__max_depth=3, rgsr__random_state=250923; total time=   3.2s\n",
      "[CV 3/5; 54/80] START rgsr__lambda=0.001, rgsr__learning_rate=0.1, rgsr__max_depth=3, rgsr__random_state=250923\n",
      "[CV 3/5; 54/80] END rgsr__lambda=0.001, rgsr__learning_rate=0.1, rgsr__max_depth=3, rgsr__random_state=250923; total time=   3.0s\n",
      "[CV 4/5; 54/80] START rgsr__lambda=0.001, rgsr__learning_rate=0.1, rgsr__max_depth=3, rgsr__random_state=250923\n",
      "[CV 4/5; 54/80] END rgsr__lambda=0.001, rgsr__learning_rate=0.1, rgsr__max_depth=3, rgsr__random_state=250923; total time=   3.1s\n",
      "[CV 5/5; 54/80] START rgsr__lambda=0.001, rgsr__learning_rate=0.1, rgsr__max_depth=3, rgsr__random_state=250923\n",
      "[CV 5/5; 54/80] END rgsr__lambda=0.001, rgsr__learning_rate=0.1, rgsr__max_depth=3, rgsr__random_state=250923; total time=   5.2s\n",
      "[CV 1/5; 55/80] START rgsr__lambda=0.001, rgsr__learning_rate=0.1, rgsr__max_depth=4, rgsr__random_state=250923\n",
      "[CV 1/5; 55/80] END rgsr__lambda=0.001, rgsr__learning_rate=0.1, rgsr__max_depth=4, rgsr__random_state=250923; total time=   4.0s\n",
      "[CV 2/5; 55/80] START rgsr__lambda=0.001, rgsr__learning_rate=0.1, rgsr__max_depth=4, rgsr__random_state=250923\n",
      "[CV 2/5; 55/80] END rgsr__lambda=0.001, rgsr__learning_rate=0.1, rgsr__max_depth=4, rgsr__random_state=250923; total time=   4.4s\n",
      "[CV 3/5; 55/80] START rgsr__lambda=0.001, rgsr__learning_rate=0.1, rgsr__max_depth=4, rgsr__random_state=250923\n",
      "[CV 3/5; 55/80] END rgsr__lambda=0.001, rgsr__learning_rate=0.1, rgsr__max_depth=4, rgsr__random_state=250923; total time=   3.0s\n",
      "[CV 4/5; 55/80] START rgsr__lambda=0.001, rgsr__learning_rate=0.1, rgsr__max_depth=4, rgsr__random_state=250923\n",
      "[CV 4/5; 55/80] END rgsr__lambda=0.001, rgsr__learning_rate=0.1, rgsr__max_depth=4, rgsr__random_state=250923; total time=   3.1s\n",
      "[CV 5/5; 55/80] START rgsr__lambda=0.001, rgsr__learning_rate=0.1, rgsr__max_depth=4, rgsr__random_state=250923\n",
      "[CV 5/5; 55/80] END rgsr__lambda=0.001, rgsr__learning_rate=0.1, rgsr__max_depth=4, rgsr__random_state=250923; total time=   3.5s\n",
      "[CV 1/5; 56/80] START rgsr__lambda=0.001, rgsr__learning_rate=0.1, rgsr__max_depth=5, rgsr__random_state=250923\n",
      "[CV 1/5; 56/80] END rgsr__lambda=0.001, rgsr__learning_rate=0.1, rgsr__max_depth=5, rgsr__random_state=250923; total time=   3.3s\n",
      "[CV 2/5; 56/80] START rgsr__lambda=0.001, rgsr__learning_rate=0.1, rgsr__max_depth=5, rgsr__random_state=250923\n",
      "[CV 2/5; 56/80] END rgsr__lambda=0.001, rgsr__learning_rate=0.1, rgsr__max_depth=5, rgsr__random_state=250923; total time=   3.9s\n",
      "[CV 3/5; 56/80] START rgsr__lambda=0.001, rgsr__learning_rate=0.1, rgsr__max_depth=5, rgsr__random_state=250923\n",
      "[CV 3/5; 56/80] END rgsr__lambda=0.001, rgsr__learning_rate=0.1, rgsr__max_depth=5, rgsr__random_state=250923; total time=   3.6s\n",
      "[CV 4/5; 56/80] START rgsr__lambda=0.001, rgsr__learning_rate=0.1, rgsr__max_depth=5, rgsr__random_state=250923\n",
      "[CV 4/5; 56/80] END rgsr__lambda=0.001, rgsr__learning_rate=0.1, rgsr__max_depth=5, rgsr__random_state=250923; total time=   3.3s\n",
      "[CV 5/5; 56/80] START rgsr__lambda=0.001, rgsr__learning_rate=0.1, rgsr__max_depth=5, rgsr__random_state=250923\n",
      "[CV 5/5; 56/80] END rgsr__lambda=0.001, rgsr__learning_rate=0.1, rgsr__max_depth=5, rgsr__random_state=250923; total time=   3.9s\n",
      "[CV 1/5; 57/80] START rgsr__lambda=0.001, rgsr__learning_rate=0.12, rgsr__max_depth=1, rgsr__random_state=250923\n",
      "[CV 1/5; 57/80] END rgsr__lambda=0.001, rgsr__learning_rate=0.12, rgsr__max_depth=1, rgsr__random_state=250923; total time=   4.6s\n",
      "[CV 2/5; 57/80] START rgsr__lambda=0.001, rgsr__learning_rate=0.12, rgsr__max_depth=1, rgsr__random_state=250923\n",
      "[CV 2/5; 57/80] END rgsr__lambda=0.001, rgsr__learning_rate=0.12, rgsr__max_depth=1, rgsr__random_state=250923; total time=   3.8s\n",
      "[CV 3/5; 57/80] START rgsr__lambda=0.001, rgsr__learning_rate=0.12, rgsr__max_depth=1, rgsr__random_state=250923\n",
      "[CV 3/5; 57/80] END rgsr__lambda=0.001, rgsr__learning_rate=0.12, rgsr__max_depth=1, rgsr__random_state=250923; total time=  10.8s\n",
      "[CV 4/5; 57/80] START rgsr__lambda=0.001, rgsr__learning_rate=0.12, rgsr__max_depth=1, rgsr__random_state=250923\n",
      "[CV 4/5; 57/80] END rgsr__lambda=0.001, rgsr__learning_rate=0.12, rgsr__max_depth=1, rgsr__random_state=250923; total time=   5.8s\n",
      "[CV 5/5; 57/80] START rgsr__lambda=0.001, rgsr__learning_rate=0.12, rgsr__max_depth=1, rgsr__random_state=250923\n",
      "[CV 5/5; 57/80] END rgsr__lambda=0.001, rgsr__learning_rate=0.12, rgsr__max_depth=1, rgsr__random_state=250923; total time=   2.8s\n",
      "[CV 1/5; 58/80] START rgsr__lambda=0.001, rgsr__learning_rate=0.12, rgsr__max_depth=3, rgsr__random_state=250923\n",
      "[CV 1/5; 58/80] END rgsr__lambda=0.001, rgsr__learning_rate=0.12, rgsr__max_depth=3, rgsr__random_state=250923; total time=   3.1s\n",
      "[CV 2/5; 58/80] START rgsr__lambda=0.001, rgsr__learning_rate=0.12, rgsr__max_depth=3, rgsr__random_state=250923\n",
      "[CV 2/5; 58/80] END rgsr__lambda=0.001, rgsr__learning_rate=0.12, rgsr__max_depth=3, rgsr__random_state=250923; total time=   3.0s\n",
      "[CV 3/5; 58/80] START rgsr__lambda=0.001, rgsr__learning_rate=0.12, rgsr__max_depth=3, rgsr__random_state=250923\n",
      "[CV 3/5; 58/80] END rgsr__lambda=0.001, rgsr__learning_rate=0.12, rgsr__max_depth=3, rgsr__random_state=250923; total time=   3.0s\n",
      "[CV 4/5; 58/80] START rgsr__lambda=0.001, rgsr__learning_rate=0.12, rgsr__max_depth=3, rgsr__random_state=250923\n",
      "[CV 4/5; 58/80] END rgsr__lambda=0.001, rgsr__learning_rate=0.12, rgsr__max_depth=3, rgsr__random_state=250923; total time=   3.1s\n",
      "[CV 5/5; 58/80] START rgsr__lambda=0.001, rgsr__learning_rate=0.12, rgsr__max_depth=3, rgsr__random_state=250923\n",
      "[CV 5/5; 58/80] END rgsr__lambda=0.001, rgsr__learning_rate=0.12, rgsr__max_depth=3, rgsr__random_state=250923; total time=   2.8s\n",
      "[CV 1/5; 59/80] START rgsr__lambda=0.001, rgsr__learning_rate=0.12, rgsr__max_depth=4, rgsr__random_state=250923\n",
      "[CV 1/5; 59/80] END rgsr__lambda=0.001, rgsr__learning_rate=0.12, rgsr__max_depth=4, rgsr__random_state=250923; total time=   5.1s\n",
      "[CV 2/5; 59/80] START rgsr__lambda=0.001, rgsr__learning_rate=0.12, rgsr__max_depth=4, rgsr__random_state=250923\n",
      "[CV 2/5; 59/80] END rgsr__lambda=0.001, rgsr__learning_rate=0.12, rgsr__max_depth=4, rgsr__random_state=250923; total time=   3.2s\n",
      "[CV 3/5; 59/80] START rgsr__lambda=0.001, rgsr__learning_rate=0.12, rgsr__max_depth=4, rgsr__random_state=250923\n",
      "[CV 3/5; 59/80] END rgsr__lambda=0.001, rgsr__learning_rate=0.12, rgsr__max_depth=4, rgsr__random_state=250923; total time=   3.2s\n",
      "[CV 4/5; 59/80] START rgsr__lambda=0.001, rgsr__learning_rate=0.12, rgsr__max_depth=4, rgsr__random_state=250923\n",
      "[CV 4/5; 59/80] END rgsr__lambda=0.001, rgsr__learning_rate=0.12, rgsr__max_depth=4, rgsr__random_state=250923; total time=   3.2s\n",
      "[CV 5/5; 59/80] START rgsr__lambda=0.001, rgsr__learning_rate=0.12, rgsr__max_depth=4, rgsr__random_state=250923\n",
      "[CV 5/5; 59/80] END rgsr__lambda=0.001, rgsr__learning_rate=0.12, rgsr__max_depth=4, rgsr__random_state=250923; total time=   3.4s\n",
      "[CV 1/5; 60/80] START rgsr__lambda=0.001, rgsr__learning_rate=0.12, rgsr__max_depth=5, rgsr__random_state=250923\n",
      "[CV 1/5; 60/80] END rgsr__lambda=0.001, rgsr__learning_rate=0.12, rgsr__max_depth=5, rgsr__random_state=250923; total time=   3.3s\n",
      "[CV 2/5; 60/80] START rgsr__lambda=0.001, rgsr__learning_rate=0.12, rgsr__max_depth=5, rgsr__random_state=250923\n",
      "[CV 2/5; 60/80] END rgsr__lambda=0.001, rgsr__learning_rate=0.12, rgsr__max_depth=5, rgsr__random_state=250923; total time=   3.5s\n",
      "[CV 3/5; 60/80] START rgsr__lambda=0.001, rgsr__learning_rate=0.12, rgsr__max_depth=5, rgsr__random_state=250923\n",
      "[CV 3/5; 60/80] END rgsr__lambda=0.001, rgsr__learning_rate=0.12, rgsr__max_depth=5, rgsr__random_state=250923; total time=   3.6s\n",
      "[CV 4/5; 60/80] START rgsr__lambda=0.001, rgsr__learning_rate=0.12, rgsr__max_depth=5, rgsr__random_state=250923\n",
      "[CV 4/5; 60/80] END rgsr__lambda=0.001, rgsr__learning_rate=0.12, rgsr__max_depth=5, rgsr__random_state=250923; total time=   3.5s\n",
      "[CV 5/5; 60/80] START rgsr__lambda=0.001, rgsr__learning_rate=0.12, rgsr__max_depth=5, rgsr__random_state=250923\n",
      "[CV 5/5; 60/80] END rgsr__lambda=0.001, rgsr__learning_rate=0.12, rgsr__max_depth=5, rgsr__random_state=250923; total time=   3.5s\n",
      "[CV 1/5; 61/80] START rgsr__lambda=0.001, rgsr__learning_rate=0.2, rgsr__max_depth=1, rgsr__random_state=250923\n",
      "[CV 1/5; 61/80] END rgsr__lambda=0.001, rgsr__learning_rate=0.2, rgsr__max_depth=1, rgsr__random_state=250923; total time=   3.2s\n",
      "[CV 2/5; 61/80] START rgsr__lambda=0.001, rgsr__learning_rate=0.2, rgsr__max_depth=1, rgsr__random_state=250923\n",
      "[CV 2/5; 61/80] END rgsr__lambda=0.001, rgsr__learning_rate=0.2, rgsr__max_depth=1, rgsr__random_state=250923; total time=   3.8s\n",
      "[CV 3/5; 61/80] START rgsr__lambda=0.001, rgsr__learning_rate=0.2, rgsr__max_depth=1, rgsr__random_state=250923\n",
      "[CV 3/5; 61/80] END rgsr__lambda=0.001, rgsr__learning_rate=0.2, rgsr__max_depth=1, rgsr__random_state=250923; total time=   2.8s\n",
      "[CV 4/5; 61/80] START rgsr__lambda=0.001, rgsr__learning_rate=0.2, rgsr__max_depth=1, rgsr__random_state=250923\n",
      "[CV 4/5; 61/80] END rgsr__lambda=0.001, rgsr__learning_rate=0.2, rgsr__max_depth=1, rgsr__random_state=250923; total time=   2.9s\n",
      "[CV 5/5; 61/80] START rgsr__lambda=0.001, rgsr__learning_rate=0.2, rgsr__max_depth=1, rgsr__random_state=250923\n",
      "[CV 5/5; 61/80] END rgsr__lambda=0.001, rgsr__learning_rate=0.2, rgsr__max_depth=1, rgsr__random_state=250923; total time=   2.6s\n",
      "[CV 1/5; 62/80] START rgsr__lambda=0.001, rgsr__learning_rate=0.2, rgsr__max_depth=3, rgsr__random_state=250923\n",
      "[CV 1/5; 62/80] END rgsr__lambda=0.001, rgsr__learning_rate=0.2, rgsr__max_depth=3, rgsr__random_state=250923; total time=   3.0s\n",
      "[CV 2/5; 62/80] START rgsr__lambda=0.001, rgsr__learning_rate=0.2, rgsr__max_depth=3, rgsr__random_state=250923\n",
      "[CV 2/5; 62/80] END rgsr__lambda=0.001, rgsr__learning_rate=0.2, rgsr__max_depth=3, rgsr__random_state=250923; total time=   3.4s\n",
      "[CV 3/5; 62/80] START rgsr__lambda=0.001, rgsr__learning_rate=0.2, rgsr__max_depth=3, rgsr__random_state=250923\n",
      "[CV 3/5; 62/80] END rgsr__lambda=0.001, rgsr__learning_rate=0.2, rgsr__max_depth=3, rgsr__random_state=250923; total time=   4.6s\n",
      "[CV 4/5; 62/80] START rgsr__lambda=0.001, rgsr__learning_rate=0.2, rgsr__max_depth=3, rgsr__random_state=250923\n",
      "[CV 4/5; 62/80] END rgsr__lambda=0.001, rgsr__learning_rate=0.2, rgsr__max_depth=3, rgsr__random_state=250923; total time=   2.9s\n",
      "[CV 5/5; 62/80] START rgsr__lambda=0.001, rgsr__learning_rate=0.2, rgsr__max_depth=3, rgsr__random_state=250923\n",
      "[CV 5/5; 62/80] END rgsr__lambda=0.001, rgsr__learning_rate=0.2, rgsr__max_depth=3, rgsr__random_state=250923; total time=   3.0s\n",
      "[CV 1/5; 63/80] START rgsr__lambda=0.001, rgsr__learning_rate=0.2, rgsr__max_depth=4, rgsr__random_state=250923\n",
      "[CV 1/5; 63/80] END rgsr__lambda=0.001, rgsr__learning_rate=0.2, rgsr__max_depth=4, rgsr__random_state=250923; total time=   3.4s\n",
      "[CV 2/5; 63/80] START rgsr__lambda=0.001, rgsr__learning_rate=0.2, rgsr__max_depth=4, rgsr__random_state=250923\n",
      "[CV 2/5; 63/80] END rgsr__lambda=0.001, rgsr__learning_rate=0.2, rgsr__max_depth=4, rgsr__random_state=250923; total time=   3.1s\n",
      "[CV 3/5; 63/80] START rgsr__lambda=0.001, rgsr__learning_rate=0.2, rgsr__max_depth=4, rgsr__random_state=250923\n",
      "[CV 3/5; 63/80] END rgsr__lambda=0.001, rgsr__learning_rate=0.2, rgsr__max_depth=4, rgsr__random_state=250923; total time=   3.3s\n",
      "[CV 4/5; 63/80] START rgsr__lambda=0.001, rgsr__learning_rate=0.2, rgsr__max_depth=4, rgsr__random_state=250923\n",
      "[CV 4/5; 63/80] END rgsr__lambda=0.001, rgsr__learning_rate=0.2, rgsr__max_depth=4, rgsr__random_state=250923; total time=   3.6s\n",
      "[CV 5/5; 63/80] START rgsr__lambda=0.001, rgsr__learning_rate=0.2, rgsr__max_depth=4, rgsr__random_state=250923\n",
      "[CV 5/5; 63/80] END rgsr__lambda=0.001, rgsr__learning_rate=0.2, rgsr__max_depth=4, rgsr__random_state=250923; total time=   3.2s\n",
      "[CV 1/5; 64/80] START rgsr__lambda=0.001, rgsr__learning_rate=0.2, rgsr__max_depth=5, rgsr__random_state=250923\n",
      "[CV 1/5; 64/80] END rgsr__lambda=0.001, rgsr__learning_rate=0.2, rgsr__max_depth=5, rgsr__random_state=250923; total time=   3.4s\n",
      "[CV 2/5; 64/80] START rgsr__lambda=0.001, rgsr__learning_rate=0.2, rgsr__max_depth=5, rgsr__random_state=250923\n",
      "[CV 2/5; 64/80] END rgsr__lambda=0.001, rgsr__learning_rate=0.2, rgsr__max_depth=5, rgsr__random_state=250923; total time=   3.6s\n",
      "[CV 3/5; 64/80] START rgsr__lambda=0.001, rgsr__learning_rate=0.2, rgsr__max_depth=5, rgsr__random_state=250923\n",
      "[CV 3/5; 64/80] END rgsr__lambda=0.001, rgsr__learning_rate=0.2, rgsr__max_depth=5, rgsr__random_state=250923; total time=   3.5s\n",
      "[CV 4/5; 64/80] START rgsr__lambda=0.001, rgsr__learning_rate=0.2, rgsr__max_depth=5, rgsr__random_state=250923\n",
      "[CV 4/5; 64/80] END rgsr__lambda=0.001, rgsr__learning_rate=0.2, rgsr__max_depth=5, rgsr__random_state=250923; total time=   3.5s\n",
      "[CV 5/5; 64/80] START rgsr__lambda=0.001, rgsr__learning_rate=0.2, rgsr__max_depth=5, rgsr__random_state=250923\n",
      "[CV 5/5; 64/80] END rgsr__lambda=0.001, rgsr__learning_rate=0.2, rgsr__max_depth=5, rgsr__random_state=250923; total time=   3.5s\n",
      "[CV 1/5; 65/80] START rgsr__lambda=0.1, rgsr__learning_rate=0.07, rgsr__max_depth=1, rgsr__random_state=250923\n",
      "[CV 1/5; 65/80] END rgsr__lambda=0.1, rgsr__learning_rate=0.07, rgsr__max_depth=1, rgsr__random_state=250923; total time=   2.7s\n",
      "[CV 2/5; 65/80] START rgsr__lambda=0.1, rgsr__learning_rate=0.07, rgsr__max_depth=1, rgsr__random_state=250923\n",
      "[CV 2/5; 65/80] END rgsr__lambda=0.1, rgsr__learning_rate=0.07, rgsr__max_depth=1, rgsr__random_state=250923; total time=   2.7s\n",
      "[CV 3/5; 65/80] START rgsr__lambda=0.1, rgsr__learning_rate=0.07, rgsr__max_depth=1, rgsr__random_state=250923\n",
      "[CV 3/5; 65/80] END rgsr__lambda=0.1, rgsr__learning_rate=0.07, rgsr__max_depth=1, rgsr__random_state=250923; total time=   2.7s\n",
      "[CV 4/5; 65/80] START rgsr__lambda=0.1, rgsr__learning_rate=0.07, rgsr__max_depth=1, rgsr__random_state=250923\n",
      "[CV 4/5; 65/80] END rgsr__lambda=0.1, rgsr__learning_rate=0.07, rgsr__max_depth=1, rgsr__random_state=250923; total time=   2.7s\n",
      "[CV 5/5; 65/80] START rgsr__lambda=0.1, rgsr__learning_rate=0.07, rgsr__max_depth=1, rgsr__random_state=250923\n",
      "[CV 5/5; 65/80] END rgsr__lambda=0.1, rgsr__learning_rate=0.07, rgsr__max_depth=1, rgsr__random_state=250923; total time=   2.5s\n",
      "[CV 1/5; 66/80] START rgsr__lambda=0.1, rgsr__learning_rate=0.07, rgsr__max_depth=3, rgsr__random_state=250923\n",
      "[CV 1/5; 66/80] END rgsr__lambda=0.1, rgsr__learning_rate=0.07, rgsr__max_depth=3, rgsr__random_state=250923; total time=   2.9s\n",
      "[CV 2/5; 66/80] START rgsr__lambda=0.1, rgsr__learning_rate=0.07, rgsr__max_depth=3, rgsr__random_state=250923\n",
      "[CV 2/5; 66/80] END rgsr__lambda=0.1, rgsr__learning_rate=0.07, rgsr__max_depth=3, rgsr__random_state=250923; total time=   6.8s\n",
      "[CV 3/5; 66/80] START rgsr__lambda=0.1, rgsr__learning_rate=0.07, rgsr__max_depth=3, rgsr__random_state=250923\n",
      "[CV 3/5; 66/80] END rgsr__lambda=0.1, rgsr__learning_rate=0.07, rgsr__max_depth=3, rgsr__random_state=250923; total time=   4.7s\n",
      "[CV 4/5; 66/80] START rgsr__lambda=0.1, rgsr__learning_rate=0.07, rgsr__max_depth=3, rgsr__random_state=250923\n",
      "[CV 4/5; 66/80] END rgsr__lambda=0.1, rgsr__learning_rate=0.07, rgsr__max_depth=3, rgsr__random_state=250923; total time=   3.0s\n",
      "[CV 5/5; 66/80] START rgsr__lambda=0.1, rgsr__learning_rate=0.07, rgsr__max_depth=3, rgsr__random_state=250923\n",
      "[CV 5/5; 66/80] END rgsr__lambda=0.1, rgsr__learning_rate=0.07, rgsr__max_depth=3, rgsr__random_state=250923; total time=   2.9s\n",
      "[CV 1/5; 67/80] START rgsr__lambda=0.1, rgsr__learning_rate=0.07, rgsr__max_depth=4, rgsr__random_state=250923\n",
      "[CV 1/5; 67/80] END rgsr__lambda=0.1, rgsr__learning_rate=0.07, rgsr__max_depth=4, rgsr__random_state=250923; total time=   3.4s\n",
      "[CV 2/5; 67/80] START rgsr__lambda=0.1, rgsr__learning_rate=0.07, rgsr__max_depth=4, rgsr__random_state=250923\n",
      "[CV 2/5; 67/80] END rgsr__lambda=0.1, rgsr__learning_rate=0.07, rgsr__max_depth=4, rgsr__random_state=250923; total time=   2.9s\n",
      "[CV 3/5; 67/80] START rgsr__lambda=0.1, rgsr__learning_rate=0.07, rgsr__max_depth=4, rgsr__random_state=250923\n",
      "[CV 3/5; 67/80] END rgsr__lambda=0.1, rgsr__learning_rate=0.07, rgsr__max_depth=4, rgsr__random_state=250923; total time=   3.1s\n",
      "[CV 4/5; 67/80] START rgsr__lambda=0.1, rgsr__learning_rate=0.07, rgsr__max_depth=4, rgsr__random_state=250923\n",
      "[CV 4/5; 67/80] END rgsr__lambda=0.1, rgsr__learning_rate=0.07, rgsr__max_depth=4, rgsr__random_state=250923; total time=   3.2s\n",
      "[CV 5/5; 67/80] START rgsr__lambda=0.1, rgsr__learning_rate=0.07, rgsr__max_depth=4, rgsr__random_state=250923\n",
      "[CV 5/5; 67/80] END rgsr__lambda=0.1, rgsr__learning_rate=0.07, rgsr__max_depth=4, rgsr__random_state=250923; total time=   3.2s\n",
      "[CV 1/5; 68/80] START rgsr__lambda=0.1, rgsr__learning_rate=0.07, rgsr__max_depth=5, rgsr__random_state=250923\n",
      "[CV 1/5; 68/80] END rgsr__lambda=0.1, rgsr__learning_rate=0.07, rgsr__max_depth=5, rgsr__random_state=250923; total time=   3.1s\n",
      "[CV 2/5; 68/80] START rgsr__lambda=0.1, rgsr__learning_rate=0.07, rgsr__max_depth=5, rgsr__random_state=250923\n",
      "[CV 2/5; 68/80] END rgsr__lambda=0.1, rgsr__learning_rate=0.07, rgsr__max_depth=5, rgsr__random_state=250923; total time=   3.1s\n",
      "[CV 3/5; 68/80] START rgsr__lambda=0.1, rgsr__learning_rate=0.07, rgsr__max_depth=5, rgsr__random_state=250923\n",
      "[CV 3/5; 68/80] END rgsr__lambda=0.1, rgsr__learning_rate=0.07, rgsr__max_depth=5, rgsr__random_state=250923; total time=   3.6s\n",
      "[CV 4/5; 68/80] START rgsr__lambda=0.1, rgsr__learning_rate=0.07, rgsr__max_depth=5, rgsr__random_state=250923\n",
      "[CV 4/5; 68/80] END rgsr__lambda=0.1, rgsr__learning_rate=0.07, rgsr__max_depth=5, rgsr__random_state=250923; total time=   3.7s\n",
      "[CV 5/5; 68/80] START rgsr__lambda=0.1, rgsr__learning_rate=0.07, rgsr__max_depth=5, rgsr__random_state=250923\n",
      "[CV 5/5; 68/80] END rgsr__lambda=0.1, rgsr__learning_rate=0.07, rgsr__max_depth=5, rgsr__random_state=250923; total time=   3.1s\n",
      "[CV 1/5; 69/80] START rgsr__lambda=0.1, rgsr__learning_rate=0.1, rgsr__max_depth=1, rgsr__random_state=250923\n",
      "[CV 1/5; 69/80] END rgsr__lambda=0.1, rgsr__learning_rate=0.1, rgsr__max_depth=1, rgsr__random_state=250923; total time=   2.6s\n",
      "[CV 2/5; 69/80] START rgsr__lambda=0.1, rgsr__learning_rate=0.1, rgsr__max_depth=1, rgsr__random_state=250923\n",
      "[CV 2/5; 69/80] END rgsr__lambda=0.1, rgsr__learning_rate=0.1, rgsr__max_depth=1, rgsr__random_state=250923; total time=   2.7s\n",
      "[CV 3/5; 69/80] START rgsr__lambda=0.1, rgsr__learning_rate=0.1, rgsr__max_depth=1, rgsr__random_state=250923\n",
      "[CV 3/5; 69/80] END rgsr__lambda=0.1, rgsr__learning_rate=0.1, rgsr__max_depth=1, rgsr__random_state=250923; total time=   2.6s\n",
      "[CV 4/5; 69/80] START rgsr__lambda=0.1, rgsr__learning_rate=0.1, rgsr__max_depth=1, rgsr__random_state=250923\n",
      "[CV 4/5; 69/80] END rgsr__lambda=0.1, rgsr__learning_rate=0.1, rgsr__max_depth=1, rgsr__random_state=250923; total time=   2.9s\n",
      "[CV 5/5; 69/80] START rgsr__lambda=0.1, rgsr__learning_rate=0.1, rgsr__max_depth=1, rgsr__random_state=250923\n",
      "[CV 5/5; 69/80] END rgsr__lambda=0.1, rgsr__learning_rate=0.1, rgsr__max_depth=1, rgsr__random_state=250923; total time=   2.6s\n",
      "[CV 1/5; 70/80] START rgsr__lambda=0.1, rgsr__learning_rate=0.1, rgsr__max_depth=3, rgsr__random_state=250923\n",
      "[CV 1/5; 70/80] END rgsr__lambda=0.1, rgsr__learning_rate=0.1, rgsr__max_depth=3, rgsr__random_state=250923; total time=   3.3s\n",
      "[CV 2/5; 70/80] START rgsr__lambda=0.1, rgsr__learning_rate=0.1, rgsr__max_depth=3, rgsr__random_state=250923\n",
      "[CV 2/5; 70/80] END rgsr__lambda=0.1, rgsr__learning_rate=0.1, rgsr__max_depth=3, rgsr__random_state=250923; total time=   2.9s\n",
      "[CV 3/5; 70/80] START rgsr__lambda=0.1, rgsr__learning_rate=0.1, rgsr__max_depth=3, rgsr__random_state=250923\n",
      "[CV 3/5; 70/80] END rgsr__lambda=0.1, rgsr__learning_rate=0.1, rgsr__max_depth=3, rgsr__random_state=250923; total time=   2.8s\n",
      "[CV 4/5; 70/80] START rgsr__lambda=0.1, rgsr__learning_rate=0.1, rgsr__max_depth=3, rgsr__random_state=250923\n",
      "[CV 4/5; 70/80] END rgsr__lambda=0.1, rgsr__learning_rate=0.1, rgsr__max_depth=3, rgsr__random_state=250923; total time=   2.9s\n",
      "[CV 5/5; 70/80] START rgsr__lambda=0.1, rgsr__learning_rate=0.1, rgsr__max_depth=3, rgsr__random_state=250923\n",
      "[CV 5/5; 70/80] END rgsr__lambda=0.1, rgsr__learning_rate=0.1, rgsr__max_depth=3, rgsr__random_state=250923; total time=   3.0s\n",
      "[CV 1/5; 71/80] START rgsr__lambda=0.1, rgsr__learning_rate=0.1, rgsr__max_depth=4, rgsr__random_state=250923\n",
      "[CV 1/5; 71/80] END rgsr__lambda=0.1, rgsr__learning_rate=0.1, rgsr__max_depth=4, rgsr__random_state=250923; total time=   3.2s\n",
      "[CV 2/5; 71/80] START rgsr__lambda=0.1, rgsr__learning_rate=0.1, rgsr__max_depth=4, rgsr__random_state=250923\n",
      "[CV 2/5; 71/80] END rgsr__lambda=0.1, rgsr__learning_rate=0.1, rgsr__max_depth=4, rgsr__random_state=250923; total time=   3.9s\n",
      "[CV 3/5; 71/80] START rgsr__lambda=0.1, rgsr__learning_rate=0.1, rgsr__max_depth=4, rgsr__random_state=250923\n",
      "[CV 3/5; 71/80] END rgsr__lambda=0.1, rgsr__learning_rate=0.1, rgsr__max_depth=4, rgsr__random_state=250923; total time=   3.2s\n",
      "[CV 4/5; 71/80] START rgsr__lambda=0.1, rgsr__learning_rate=0.1, rgsr__max_depth=4, rgsr__random_state=250923\n",
      "[CV 4/5; 71/80] END rgsr__lambda=0.1, rgsr__learning_rate=0.1, rgsr__max_depth=4, rgsr__random_state=250923; total time=   3.0s\n",
      "[CV 5/5; 71/80] START rgsr__lambda=0.1, rgsr__learning_rate=0.1, rgsr__max_depth=4, rgsr__random_state=250923\n",
      "[CV 5/5; 71/80] END rgsr__lambda=0.1, rgsr__learning_rate=0.1, rgsr__max_depth=4, rgsr__random_state=250923; total time=   2.9s\n",
      "[CV 1/5; 72/80] START rgsr__lambda=0.1, rgsr__learning_rate=0.1, rgsr__max_depth=5, rgsr__random_state=250923\n",
      "[CV 1/5; 72/80] END rgsr__lambda=0.1, rgsr__learning_rate=0.1, rgsr__max_depth=5, rgsr__random_state=250923; total time=   3.4s\n",
      "[CV 2/5; 72/80] START rgsr__lambda=0.1, rgsr__learning_rate=0.1, rgsr__max_depth=5, rgsr__random_state=250923\n",
      "[CV 2/5; 72/80] END rgsr__lambda=0.1, rgsr__learning_rate=0.1, rgsr__max_depth=5, rgsr__random_state=250923; total time=   3.2s\n",
      "[CV 3/5; 72/80] START rgsr__lambda=0.1, rgsr__learning_rate=0.1, rgsr__max_depth=5, rgsr__random_state=250923\n",
      "[CV 3/5; 72/80] END rgsr__lambda=0.1, rgsr__learning_rate=0.1, rgsr__max_depth=5, rgsr__random_state=250923; total time=   3.5s\n",
      "[CV 4/5; 72/80] START rgsr__lambda=0.1, rgsr__learning_rate=0.1, rgsr__max_depth=5, rgsr__random_state=250923\n",
      "[CV 4/5; 72/80] END rgsr__lambda=0.1, rgsr__learning_rate=0.1, rgsr__max_depth=5, rgsr__random_state=250923; total time=   5.0s\n",
      "[CV 5/5; 72/80] START rgsr__lambda=0.1, rgsr__learning_rate=0.1, rgsr__max_depth=5, rgsr__random_state=250923\n",
      "[CV 5/5; 72/80] END rgsr__lambda=0.1, rgsr__learning_rate=0.1, rgsr__max_depth=5, rgsr__random_state=250923; total time=   3.2s\n",
      "[CV 1/5; 73/80] START rgsr__lambda=0.1, rgsr__learning_rate=0.12, rgsr__max_depth=1, rgsr__random_state=250923\n",
      "[CV 1/5; 73/80] END rgsr__lambda=0.1, rgsr__learning_rate=0.12, rgsr__max_depth=1, rgsr__random_state=250923; total time=   2.8s\n",
      "[CV 2/5; 73/80] START rgsr__lambda=0.1, rgsr__learning_rate=0.12, rgsr__max_depth=1, rgsr__random_state=250923\n",
      "[CV 2/5; 73/80] END rgsr__lambda=0.1, rgsr__learning_rate=0.12, rgsr__max_depth=1, rgsr__random_state=250923; total time=   2.8s\n",
      "[CV 3/5; 73/80] START rgsr__lambda=0.1, rgsr__learning_rate=0.12, rgsr__max_depth=1, rgsr__random_state=250923\n",
      "[CV 3/5; 73/80] END rgsr__lambda=0.1, rgsr__learning_rate=0.12, rgsr__max_depth=1, rgsr__random_state=250923; total time=   2.5s\n",
      "[CV 4/5; 73/80] START rgsr__lambda=0.1, rgsr__learning_rate=0.12, rgsr__max_depth=1, rgsr__random_state=250923\n",
      "[CV 4/5; 73/80] END rgsr__lambda=0.1, rgsr__learning_rate=0.12, rgsr__max_depth=1, rgsr__random_state=250923; total time=   4.1s\n",
      "[CV 5/5; 73/80] START rgsr__lambda=0.1, rgsr__learning_rate=0.12, rgsr__max_depth=1, rgsr__random_state=250923\n",
      "[CV 5/5; 73/80] END rgsr__lambda=0.1, rgsr__learning_rate=0.12, rgsr__max_depth=1, rgsr__random_state=250923; total time=   3.3s\n",
      "[CV 1/5; 74/80] START rgsr__lambda=0.1, rgsr__learning_rate=0.12, rgsr__max_depth=3, rgsr__random_state=250923\n",
      "[CV 1/5; 74/80] END rgsr__lambda=0.1, rgsr__learning_rate=0.12, rgsr__max_depth=3, rgsr__random_state=250923; total time=   3.3s\n",
      "[CV 2/5; 74/80] START rgsr__lambda=0.1, rgsr__learning_rate=0.12, rgsr__max_depth=3, rgsr__random_state=250923\n",
      "[CV 2/5; 74/80] END rgsr__lambda=0.1, rgsr__learning_rate=0.12, rgsr__max_depth=3, rgsr__random_state=250923; total time=   2.9s\n",
      "[CV 3/5; 74/80] START rgsr__lambda=0.1, rgsr__learning_rate=0.12, rgsr__max_depth=3, rgsr__random_state=250923\n",
      "[CV 3/5; 74/80] END rgsr__lambda=0.1, rgsr__learning_rate=0.12, rgsr__max_depth=3, rgsr__random_state=250923; total time=   4.7s\n",
      "[CV 4/5; 74/80] START rgsr__lambda=0.1, rgsr__learning_rate=0.12, rgsr__max_depth=3, rgsr__random_state=250923\n",
      "[CV 4/5; 74/80] END rgsr__lambda=0.1, rgsr__learning_rate=0.12, rgsr__max_depth=3, rgsr__random_state=250923; total time=   2.7s\n",
      "[CV 5/5; 74/80] START rgsr__lambda=0.1, rgsr__learning_rate=0.12, rgsr__max_depth=3, rgsr__random_state=250923\n",
      "[CV 5/5; 74/80] END rgsr__lambda=0.1, rgsr__learning_rate=0.12, rgsr__max_depth=3, rgsr__random_state=250923; total time=   2.8s\n",
      "[CV 1/5; 75/80] START rgsr__lambda=0.1, rgsr__learning_rate=0.12, rgsr__max_depth=4, rgsr__random_state=250923\n",
      "[CV 1/5; 75/80] END rgsr__lambda=0.1, rgsr__learning_rate=0.12, rgsr__max_depth=4, rgsr__random_state=250923; total time=   3.3s\n",
      "[CV 2/5; 75/80] START rgsr__lambda=0.1, rgsr__learning_rate=0.12, rgsr__max_depth=4, rgsr__random_state=250923\n",
      "[CV 2/5; 75/80] END rgsr__lambda=0.1, rgsr__learning_rate=0.12, rgsr__max_depth=4, rgsr__random_state=250923; total time=   4.1s\n",
      "[CV 3/5; 75/80] START rgsr__lambda=0.1, rgsr__learning_rate=0.12, rgsr__max_depth=4, rgsr__random_state=250923\n",
      "[CV 3/5; 75/80] END rgsr__lambda=0.1, rgsr__learning_rate=0.12, rgsr__max_depth=4, rgsr__random_state=250923; total time=   3.2s\n",
      "[CV 4/5; 75/80] START rgsr__lambda=0.1, rgsr__learning_rate=0.12, rgsr__max_depth=4, rgsr__random_state=250923\n",
      "[CV 4/5; 75/80] END rgsr__lambda=0.1, rgsr__learning_rate=0.12, rgsr__max_depth=4, rgsr__random_state=250923; total time=   5.4s\n",
      "[CV 5/5; 75/80] START rgsr__lambda=0.1, rgsr__learning_rate=0.12, rgsr__max_depth=4, rgsr__random_state=250923\n",
      "[CV 5/5; 75/80] END rgsr__lambda=0.1, rgsr__learning_rate=0.12, rgsr__max_depth=4, rgsr__random_state=250923; total time=   3.1s\n",
      "[CV 1/5; 76/80] START rgsr__lambda=0.1, rgsr__learning_rate=0.12, rgsr__max_depth=5, rgsr__random_state=250923\n",
      "[CV 1/5; 76/80] END rgsr__lambda=0.1, rgsr__learning_rate=0.12, rgsr__max_depth=5, rgsr__random_state=250923; total time=   5.7s\n",
      "[CV 2/5; 76/80] START rgsr__lambda=0.1, rgsr__learning_rate=0.12, rgsr__max_depth=5, rgsr__random_state=250923\n",
      "[CV 2/5; 76/80] END rgsr__lambda=0.1, rgsr__learning_rate=0.12, rgsr__max_depth=5, rgsr__random_state=250923; total time=   3.1s\n",
      "[CV 3/5; 76/80] START rgsr__lambda=0.1, rgsr__learning_rate=0.12, rgsr__max_depth=5, rgsr__random_state=250923\n",
      "[CV 3/5; 76/80] END rgsr__lambda=0.1, rgsr__learning_rate=0.12, rgsr__max_depth=5, rgsr__random_state=250923; total time=   6.6s\n",
      "[CV 4/5; 76/80] START rgsr__lambda=0.1, rgsr__learning_rate=0.12, rgsr__max_depth=5, rgsr__random_state=250923\n",
      "[CV 4/5; 76/80] END rgsr__lambda=0.1, rgsr__learning_rate=0.12, rgsr__max_depth=5, rgsr__random_state=250923; total time=   5.7s\n",
      "[CV 5/5; 76/80] START rgsr__lambda=0.1, rgsr__learning_rate=0.12, rgsr__max_depth=5, rgsr__random_state=250923\n",
      "[CV 5/5; 76/80] END rgsr__lambda=0.1, rgsr__learning_rate=0.12, rgsr__max_depth=5, rgsr__random_state=250923; total time=   4.3s\n",
      "[CV 1/5; 77/80] START rgsr__lambda=0.1, rgsr__learning_rate=0.2, rgsr__max_depth=1, rgsr__random_state=250923\n",
      "[CV 1/5; 77/80] END rgsr__lambda=0.1, rgsr__learning_rate=0.2, rgsr__max_depth=1, rgsr__random_state=250923; total time=   2.4s\n",
      "[CV 2/5; 77/80] START rgsr__lambda=0.1, rgsr__learning_rate=0.2, rgsr__max_depth=1, rgsr__random_state=250923\n",
      "[CV 2/5; 77/80] END rgsr__lambda=0.1, rgsr__learning_rate=0.2, rgsr__max_depth=1, rgsr__random_state=250923; total time=   2.7s\n",
      "[CV 3/5; 77/80] START rgsr__lambda=0.1, rgsr__learning_rate=0.2, rgsr__max_depth=1, rgsr__random_state=250923\n",
      "[CV 3/5; 77/80] END rgsr__lambda=0.1, rgsr__learning_rate=0.2, rgsr__max_depth=1, rgsr__random_state=250923; total time=   4.1s\n",
      "[CV 4/5; 77/80] START rgsr__lambda=0.1, rgsr__learning_rate=0.2, rgsr__max_depth=1, rgsr__random_state=250923\n",
      "[CV 4/5; 77/80] END rgsr__lambda=0.1, rgsr__learning_rate=0.2, rgsr__max_depth=1, rgsr__random_state=250923; total time=   2.5s\n",
      "[CV 5/5; 77/80] START rgsr__lambda=0.1, rgsr__learning_rate=0.2, rgsr__max_depth=1, rgsr__random_state=250923\n",
      "[CV 5/5; 77/80] END rgsr__lambda=0.1, rgsr__learning_rate=0.2, rgsr__max_depth=1, rgsr__random_state=250923; total time=   3.7s\n",
      "[CV 1/5; 78/80] START rgsr__lambda=0.1, rgsr__learning_rate=0.2, rgsr__max_depth=3, rgsr__random_state=250923\n",
      "[CV 1/5; 78/80] END rgsr__lambda=0.1, rgsr__learning_rate=0.2, rgsr__max_depth=3, rgsr__random_state=250923; total time=   3.1s\n",
      "[CV 2/5; 78/80] START rgsr__lambda=0.1, rgsr__learning_rate=0.2, rgsr__max_depth=3, rgsr__random_state=250923\n",
      "[CV 2/5; 78/80] END rgsr__lambda=0.1, rgsr__learning_rate=0.2, rgsr__max_depth=3, rgsr__random_state=250923; total time=   3.1s\n",
      "[CV 3/5; 78/80] START rgsr__lambda=0.1, rgsr__learning_rate=0.2, rgsr__max_depth=3, rgsr__random_state=250923\n",
      "[CV 3/5; 78/80] END rgsr__lambda=0.1, rgsr__learning_rate=0.2, rgsr__max_depth=3, rgsr__random_state=250923; total time=   5.7s\n",
      "[CV 4/5; 78/80] START rgsr__lambda=0.1, rgsr__learning_rate=0.2, rgsr__max_depth=3, rgsr__random_state=250923\n",
      "[CV 4/5; 78/80] END rgsr__lambda=0.1, rgsr__learning_rate=0.2, rgsr__max_depth=3, rgsr__random_state=250923; total time=   3.1s\n",
      "[CV 5/5; 78/80] START rgsr__lambda=0.1, rgsr__learning_rate=0.2, rgsr__max_depth=3, rgsr__random_state=250923\n",
      "[CV 5/5; 78/80] END rgsr__lambda=0.1, rgsr__learning_rate=0.2, rgsr__max_depth=3, rgsr__random_state=250923; total time=   3.0s\n",
      "[CV 1/5; 79/80] START rgsr__lambda=0.1, rgsr__learning_rate=0.2, rgsr__max_depth=4, rgsr__random_state=250923\n",
      "[CV 1/5; 79/80] END rgsr__lambda=0.1, rgsr__learning_rate=0.2, rgsr__max_depth=4, rgsr__random_state=250923; total time=   4.4s\n",
      "[CV 2/5; 79/80] START rgsr__lambda=0.1, rgsr__learning_rate=0.2, rgsr__max_depth=4, rgsr__random_state=250923\n",
      "[CV 2/5; 79/80] END rgsr__lambda=0.1, rgsr__learning_rate=0.2, rgsr__max_depth=4, rgsr__random_state=250923; total time=   3.3s\n",
      "[CV 3/5; 79/80] START rgsr__lambda=0.1, rgsr__learning_rate=0.2, rgsr__max_depth=4, rgsr__random_state=250923\n",
      "[CV 3/5; 79/80] END rgsr__lambda=0.1, rgsr__learning_rate=0.2, rgsr__max_depth=4, rgsr__random_state=250923; total time=   4.0s\n",
      "[CV 4/5; 79/80] START rgsr__lambda=0.1, rgsr__learning_rate=0.2, rgsr__max_depth=4, rgsr__random_state=250923\n",
      "[CV 4/5; 79/80] END rgsr__lambda=0.1, rgsr__learning_rate=0.2, rgsr__max_depth=4, rgsr__random_state=250923; total time=   3.0s\n",
      "[CV 5/5; 79/80] START rgsr__lambda=0.1, rgsr__learning_rate=0.2, rgsr__max_depth=4, rgsr__random_state=250923\n",
      "[CV 5/5; 79/80] END rgsr__lambda=0.1, rgsr__learning_rate=0.2, rgsr__max_depth=4, rgsr__random_state=250923; total time=   3.7s\n",
      "[CV 1/5; 80/80] START rgsr__lambda=0.1, rgsr__learning_rate=0.2, rgsr__max_depth=5, rgsr__random_state=250923\n",
      "[CV 1/5; 80/80] END rgsr__lambda=0.1, rgsr__learning_rate=0.2, rgsr__max_depth=5, rgsr__random_state=250923; total time=   5.6s\n",
      "[CV 2/5; 80/80] START rgsr__lambda=0.1, rgsr__learning_rate=0.2, rgsr__max_depth=5, rgsr__random_state=250923\n",
      "[CV 2/5; 80/80] END rgsr__lambda=0.1, rgsr__learning_rate=0.2, rgsr__max_depth=5, rgsr__random_state=250923; total time=   3.6s\n",
      "[CV 3/5; 80/80] START rgsr__lambda=0.1, rgsr__learning_rate=0.2, rgsr__max_depth=5, rgsr__random_state=250923\n",
      "[CV 3/5; 80/80] END rgsr__lambda=0.1, rgsr__learning_rate=0.2, rgsr__max_depth=5, rgsr__random_state=250923; total time=   3.5s\n",
      "[CV 4/5; 80/80] START rgsr__lambda=0.1, rgsr__learning_rate=0.2, rgsr__max_depth=5, rgsr__random_state=250923\n",
      "[CV 4/5; 80/80] END rgsr__lambda=0.1, rgsr__learning_rate=0.2, rgsr__max_depth=5, rgsr__random_state=250923; total time=   3.4s\n",
      "[CV 5/5; 80/80] START rgsr__lambda=0.1, rgsr__learning_rate=0.2, rgsr__max_depth=5, rgsr__random_state=250923\n",
      "[CV 5/5; 80/80] END rgsr__lambda=0.1, rgsr__learning_rate=0.2, rgsr__max_depth=5, rgsr__random_state=250923; total time=   3.4s\n",
      "(-6.287194458566644, Pipeline(steps=[('Sclr', StandardScaler()),\n",
      "                ('rgsr',\n",
      "                 XGBRegressor(base_score=0.5, booster='gbtree',\n",
      "                              colsample_bylevel=1, colsample_bynode=1,\n",
      "                              colsample_bytree=1, enable_categorical=False,\n",
      "                              gamma=0, gpu_id=-1, importance_type=None,\n",
      "                              interaction_constraints='', lambda=0.1,\n",
      "                              learning_rate=0.1, max_delta_step=0, max_depth=4,\n",
      "                              min_child_weight=1, missing=nan,\n",
      "                              monotone_constraints='()', n_estimators=100,\n",
      "                              n_jobs=8, num_parallel_tree=1, predictor='auto',\n",
      "                              random_state=250923, reg_alpha=0,\n",
      "                              reg_lambda=0.100000001, scale_pos_weight=1,\n",
      "                              subsample=1, tree_method='exact',\n",
      "                              validate_parameters=1, verbosity=None))]))\n",
      "CPU times: user 42min 58s, sys: 23.7 s, total: 43min 22s\n",
      "Wall time: 43min 46s\n"
     ]
    }
   ],
   "source": [
    "%%time\n",
    "result_XGB = model_run(model_XGB, param_XGB, X_train, y_train)\n",
    "result_list.append(round(result_XGB[0]*-1, 2))\n",
    "print(result_XGB)"
   ]
  },
  {
   "cell_type": "code",
   "execution_count": 84,
   "id": "42cd3d7e",
   "metadata": {},
   "outputs": [
    {
     "data": {
      "text/html": [
       "<div>\n",
       "<style scoped>\n",
       "    .dataframe tbody tr th:only-of-type {\n",
       "        vertical-align: middle;\n",
       "    }\n",
       "\n",
       "    .dataframe tbody tr th {\n",
       "        vertical-align: top;\n",
       "    }\n",
       "\n",
       "    .dataframe thead th {\n",
       "        text-align: right;\n",
       "    }\n",
       "</style>\n",
       "<table border=\"1\" class=\"dataframe\">\n",
       "  <thead>\n",
       "    <tr style=\"text-align: right;\">\n",
       "      <th></th>\n",
       "      <th>MAE</th>\n",
       "    </tr>\n",
       "  </thead>\n",
       "  <tbody>\n",
       "    <tr>\n",
       "      <th>Linear</th>\n",
       "      <td>6.57</td>\n",
       "    </tr>\n",
       "    <tr>\n",
       "      <th>RFR</th>\n",
       "      <td>6.40</td>\n",
       "    </tr>\n",
       "    <tr>\n",
       "      <th>LGBM</th>\n",
       "      <td>6.33</td>\n",
       "    </tr>\n",
       "    <tr>\n",
       "      <th>XGB</th>\n",
       "      <td>6.29</td>\n",
       "    </tr>\n",
       "  </tbody>\n",
       "</table>\n",
       "</div>"
      ],
      "text/plain": [
       "         MAE\n",
       "Linear  6.57\n",
       "RFR     6.40\n",
       "LGBM    6.33\n",
       "XGB     6.29"
      ]
     },
     "execution_count": 84,
     "metadata": {},
     "output_type": "execute_result"
    }
   ],
   "source": [
    "result_tab = pd.DataFrame({'MAE': result_list}, index=models)\n",
    "result_tab"
   ]
  },
  {
   "cell_type": "markdown",
   "id": "2cf12bab",
   "metadata": {},
   "source": [
    "##### Вывод по моделям"
   ]
  },
  {
   "cell_type": "markdown",
   "id": "7f8b81fa",
   "metadata": {},
   "source": [
    "Все модели преодолели заданный порог. Лучший показатель на тренировочной выборке - у XGB. Проверим его работу на тестовой."
   ]
  },
  {
   "cell_type": "markdown",
   "id": "2a7fda11",
   "metadata": {},
   "source": [
    "### Тестирование"
   ]
  },
  {
   "cell_type": "markdown",
   "id": "9417406a",
   "metadata": {},
   "source": [
    "Проверим лучшую модель на тестовой выборке."
   ]
  },
  {
   "cell_type": "code",
   "execution_count": 85,
   "id": "56cc8d57",
   "metadata": {},
   "outputs": [
    {
     "data": {
      "text/plain": [
       "5.66"
      ]
     },
     "execution_count": 85,
     "metadata": {},
     "output_type": "execute_result"
    }
   ],
   "source": [
    "result = result_XGB[1].predict(X_test)\n",
    "mae = mean_absolute_error(y_test, result)\n",
    "round(mae, 2)"
   ]
  },
  {
   "cell_type": "markdown",
   "id": "9289239c",
   "metadata": {},
   "source": [
    "Результат удовлетворителен."
   ]
  },
  {
   "cell_type": "markdown",
   "id": "65da7575",
   "metadata": {},
   "source": [
    "Посчитаем дополнительно коэффициент детерминации."
   ]
  },
  {
   "cell_type": "code",
   "execution_count": 86,
   "id": "57deaf0c",
   "metadata": {},
   "outputs": [
    {
     "data": {
      "text/plain": [
       "0.46"
      ]
     },
     "execution_count": 86,
     "metadata": {},
     "output_type": "execute_result"
    }
   ],
   "source": [
    "r2 = r2_score(y_test, result)\n",
    "round(r2, 2)"
   ]
  },
  {
   "cell_type": "markdown",
   "id": "4d8f7d09",
   "metadata": {},
   "source": [
    "R2 маловат. Это означает, что модель недостаточно хорошо уловила связи между признаками и таргетом. Возможно, большее количество данных поможет с этим справиться. Дополнительные признаки тоже могли бы помочь: например, масса стали в партии и температура окружающей среды."
   ]
  },
  {
   "cell_type": "markdown",
   "id": "5c2b6596",
   "metadata": {},
   "source": [
    "Получим важность признаков для выбранной модели."
   ]
  },
  {
   "cell_type": "code",
   "execution_count": 87,
   "id": "39bc56ee",
   "metadata": {},
   "outputs": [],
   "source": [
    "importances = result_XGB[1][1].feature_importances_\n",
    "forest_importances = pd.Series(importances, index=features.columns)"
   ]
  },
  {
   "cell_type": "markdown",
   "id": "e3f8ca39",
   "metadata": {},
   "source": [
    "Визуализируем признаки в порядке убывания важности."
   ]
  },
  {
   "cell_type": "code",
   "execution_count": 88,
   "id": "2c96a50b",
   "metadata": {},
   "outputs": [
    {
     "data": {
      "image/png": "[encoded data removed]",
      "text/plain": [
       "<Figure size 432x288 with 1 Axes>"
      ]
     },
     "metadata": {
      "needs_background": "light"
     },
     "output_type": "display_data"
    }
   ],
   "source": [
    "forest_importances.sort_values().plot(kind='barh');\n",
    "plt.title('Важность признаков');\n",
    "plt.xlabel('Важность');\n",
    "plt.ylabel('Признаки');\n",
    "plt.show()"
   ]
  },
  {
   "cell_type": "markdown",
   "id": "dee603b9",
   "metadata": {},
   "source": [
    "Проверим адекватность модели сравнением с константной."
   ]
  },
  {
   "cell_type": "code",
   "execution_count": 89,
   "id": "52f3eae2",
   "metadata": {},
   "outputs": [
    {
     "data": {
      "text/plain": [
       "7.41"
      ]
     },
     "execution_count": 89,
     "metadata": {},
     "output_type": "execute_result"
    }
   ],
   "source": [
    "dummy = DummyRegressor()\n",
    "dummy.fit(X_train, y_train);\n",
    "result_Dummy = dummy.predict(X_test)\n",
    "mae_Dummy = mean_absolute_error(y_test, result_Dummy)\n",
    "round(mae_Dummy, 2)"
   ]
  },
  {
   "cell_type": "markdown",
   "id": "7226aadb",
   "metadata": {},
   "source": [
    "Модель адекватна."
   ]
  },
  {
   "cell_type": "markdown",
   "id": "97bb7647",
   "metadata": {},
   "source": [
    "### Вывод"
   ]
  },
  {
   "cell_type": "markdown",
   "id": "fa3f5596",
   "metadata": {},
   "source": [
    "**В проекте были рассмотрены табличные данные об обработке стали - мощности, добавки, объем газа, замеры температуры. В данных имелись пропуски, аномалии, неподходящие типы данных. Во всех таблицах был общий признак - номер партии.**\n",
    "\n",
    "**Задачей было предсказать конечную температуру, используя все остальные признаки. Критерием выполнения была MAE не больше 6.8.**\n",
    "\n",
    "**Для решения задачи было сделано следующее:**\n",
    "\n",
    "- Выполнена предобработка данных, в рамках которой были обработаны или при необходимости удалены пропуски и аномалии, приведены типы данных. Также были созданы новые признаки - время нагрева и полная мощность. Партии, входившие не во все таблицы, были исключены из рассмотрения. Все таблицы были сгруппированы по общим номерам партий и объединены в один датафрейм. Из этого датафрейма был удален один признак, имевший сильную корреляцию с другим. Наконец датфрейм был разделен на обучающую и тестовую выборки в отношении 3:1.\n",
    "- Обучены модели: сначала линейная регрессия, потом случайный лес и два бустинга (LGBM и XGB) с подбором гиперпараметров. Лучшую MAE на тренировочной выборке продемострировал XGB.\n",
    "- Выбранная модель была проверена на адекватность константной моделью, важность признаков визуализирована. **MAE на тестовой выборке составила 5.66.**"
   ]
  }
 ],
 "metadata": {
  "ExecuteTimeLog": [
   {
    "duration": 661,
    "start_time": "2023-09-27T22:12:37.030Z"
   },
   {
    "duration": 3,
    "start_time": "2023-09-27T22:12:37.693Z"
   },
   {
    "duration": 554,
    "start_time": "2023-09-27T22:12:37.697Z"
   },
   {
    "duration": 4,
    "start_time": "2023-09-27T22:12:38.252Z"
   },
   {
    "duration": 67,
    "start_time": "2023-09-27T22:12:38.258Z"
   },
   {
    "duration": 292,
    "start_time": "2023-09-27T22:12:38.327Z"
   },
   {
    "duration": 10,
    "start_time": "2023-09-27T22:12:38.620Z"
   },
   {
    "duration": 21,
    "start_time": "2023-09-27T22:12:38.632Z"
   },
   {
    "duration": 83,
    "start_time": "2023-09-27T22:12:38.655Z"
   },
   {
    "duration": 414,
    "start_time": "2023-09-27T22:12:38.739Z"
   },
   {
    "duration": 4,
    "start_time": "2023-09-27T22:12:39.154Z"
   },
   {
    "duration": 75,
    "start_time": "2023-09-27T22:12:39.159Z"
   },
   {
    "duration": 8,
    "start_time": "2023-09-27T22:12:39.236Z"
   },
   {
    "duration": 3,
    "start_time": "2023-09-27T22:12:39.246Z"
   },
   {
    "duration": 47,
    "start_time": "2023-09-27T22:12:39.251Z"
   },
   {
    "duration": 6,
    "start_time": "2023-09-27T22:12:39.299Z"
   },
   {
    "duration": 124,
    "start_time": "2023-09-27T22:12:39.306Z"
   },
   {
    "duration": 4,
    "start_time": "2023-09-27T22:12:39.431Z"
   },
   {
    "duration": 59,
    "start_time": "2023-09-27T22:12:39.436Z"
   },
   {
    "duration": 5,
    "start_time": "2023-09-27T22:12:39.497Z"
   },
   {
    "duration": 109,
    "start_time": "2023-09-27T22:12:39.504Z"
   },
   {
    "duration": 9,
    "start_time": "2023-09-27T22:12:39.615Z"
   },
   {
    "duration": 6,
    "start_time": "2023-09-27T22:12:39.625Z"
   },
   {
    "duration": 141,
    "start_time": "2023-09-27T22:12:39.633Z"
   },
   {
    "duration": 12,
    "start_time": "2023-09-27T22:12:39.780Z"
   },
   {
    "duration": 7,
    "start_time": "2023-09-27T22:12:39.794Z"
   },
   {
    "duration": 3,
    "start_time": "2023-09-27T22:12:39.802Z"
   },
   {
    "duration": 77,
    "start_time": "2023-09-27T22:12:39.807Z"
   },
   {
    "duration": 971,
    "start_time": "2023-09-27T22:12:39.886Z"
   },
   {
    "duration": 4,
    "start_time": "2023-09-27T22:12:40.858Z"
   },
   {
    "duration": 59,
    "start_time": "2023-09-27T22:12:40.863Z"
   },
   {
    "duration": 7,
    "start_time": "2023-09-27T22:12:40.924Z"
   },
   {
    "duration": 11,
    "start_time": "2023-09-27T22:12:40.933Z"
   },
   {
    "duration": 6,
    "start_time": "2023-09-27T22:12:40.945Z"
   },
   {
    "duration": 29,
    "start_time": "2023-09-27T22:12:40.953Z"
   },
   {
    "duration": 10,
    "start_time": "2023-09-27T22:12:40.984Z"
   },
   {
    "duration": 15,
    "start_time": "2023-09-27T22:12:40.996Z"
   },
   {
    "duration": 10,
    "start_time": "2023-09-27T22:12:41.013Z"
   },
   {
    "duration": 50,
    "start_time": "2023-09-27T22:26:51.960Z"
   },
   {
    "duration": 53,
    "start_time": "2023-09-28T07:55:04.837Z"
   },
   {
    "duration": 924,
    "start_time": "2023-09-28T07:55:12.455Z"
   },
   {
    "duration": 3,
    "start_time": "2023-09-28T07:55:13.381Z"
   },
   {
    "duration": 614,
    "start_time": "2023-09-28T07:55:13.385Z"
   },
   {
    "duration": 4,
    "start_time": "2023-09-28T07:55:14.001Z"
   },
   {
    "duration": 77,
    "start_time": "2023-09-28T07:55:14.006Z"
   },
   {
    "duration": 322,
    "start_time": "2023-09-28T07:55:14.085Z"
   },
   {
    "duration": 21,
    "start_time": "2023-09-28T07:55:14.408Z"
   },
   {
    "duration": 7,
    "start_time": "2023-09-28T07:55:14.432Z"
   },
   {
    "duration": 105,
    "start_time": "2023-09-28T07:55:14.440Z"
   },
   {
    "duration": 56,
    "start_time": "2023-09-28T07:55:14.547Z"
   },
   {
    "duration": 0,
    "start_time": "2023-09-28T07:55:14.611Z"
   },
   {
    "duration": 0,
    "start_time": "2023-09-28T07:55:14.612Z"
   },
   {
    "duration": 0,
    "start_time": "2023-09-28T07:55:14.613Z"
   },
   {
    "duration": 0,
    "start_time": "2023-09-28T07:55:14.614Z"
   },
   {
    "duration": 0,
    "start_time": "2023-09-28T07:55:14.616Z"
   },
   {
    "duration": 0,
    "start_time": "2023-09-28T07:55:14.618Z"
   },
   {
    "duration": 0,
    "start_time": "2023-09-28T07:55:14.619Z"
   },
   {
    "duration": 0,
    "start_time": "2023-09-28T07:55:14.620Z"
   },
   {
    "duration": 0,
    "start_time": "2023-09-28T07:55:14.621Z"
   },
   {
    "duration": 0,
    "start_time": "2023-09-28T07:55:14.624Z"
   },
   {
    "duration": 0,
    "start_time": "2023-09-28T07:55:14.625Z"
   },
   {
    "duration": 0,
    "start_time": "2023-09-28T07:55:14.626Z"
   },
   {
    "duration": 0,
    "start_time": "2023-09-28T07:55:14.627Z"
   },
   {
    "duration": 0,
    "start_time": "2023-09-28T07:55:14.628Z"
   },
   {
    "duration": 0,
    "start_time": "2023-09-28T07:55:14.629Z"
   },
   {
    "duration": 1,
    "start_time": "2023-09-28T07:55:14.632Z"
   },
   {
    "duration": 0,
    "start_time": "2023-09-28T07:55:14.634Z"
   },
   {
    "duration": 0,
    "start_time": "2023-09-28T07:55:14.635Z"
   },
   {
    "duration": 0,
    "start_time": "2023-09-28T07:55:14.636Z"
   },
   {
    "duration": 0,
    "start_time": "2023-09-28T07:55:14.637Z"
   },
   {
    "duration": 0,
    "start_time": "2023-09-28T07:55:14.639Z"
   },
   {
    "duration": 0,
    "start_time": "2023-09-28T07:55:14.642Z"
   },
   {
    "duration": 0,
    "start_time": "2023-09-28T07:55:14.643Z"
   },
   {
    "duration": 0,
    "start_time": "2023-09-28T07:55:14.645Z"
   },
   {
    "duration": 0,
    "start_time": "2023-09-28T07:55:14.646Z"
   },
   {
    "duration": 0,
    "start_time": "2023-09-28T07:55:14.647Z"
   },
   {
    "duration": 0,
    "start_time": "2023-09-28T07:55:14.648Z"
   },
   {
    "duration": 0,
    "start_time": "2023-09-28T07:55:14.649Z"
   },
   {
    "duration": 672,
    "start_time": "2023-09-28T07:56:17.880Z"
   },
   {
    "duration": 399,
    "start_time": "2023-09-28T07:56:23.040Z"
   },
   {
    "duration": 400,
    "start_time": "2023-09-28T07:57:31.672Z"
   },
   {
    "duration": 325,
    "start_time": "2023-09-28T07:57:41.617Z"
   },
   {
    "duration": 427,
    "start_time": "2023-09-28T07:57:45.048Z"
   },
   {
    "duration": 477,
    "start_time": "2023-09-28T07:57:51.079Z"
   },
   {
    "duration": 376,
    "start_time": "2023-09-28T07:57:57.962Z"
   },
   {
    "duration": 389,
    "start_time": "2023-09-28T07:58:03.520Z"
   },
   {
    "duration": 2028,
    "start_time": "2023-09-28T08:03:15.941Z"
   },
   {
    "duration": 22,
    "start_time": "2023-09-28T08:03:33.519Z"
   },
   {
    "duration": 17,
    "start_time": "2023-09-28T08:04:22.622Z"
   },
   {
    "duration": 19,
    "start_time": "2023-09-28T08:05:06.757Z"
   },
   {
    "duration": 12,
    "start_time": "2023-09-28T08:05:31.485Z"
   },
   {
    "duration": 23,
    "start_time": "2023-09-28T08:05:43.093Z"
   },
   {
    "duration": 15,
    "start_time": "2023-09-28T08:06:40.948Z"
   },
   {
    "duration": 25,
    "start_time": "2023-09-28T08:06:52.740Z"
   },
   {
    "duration": 17,
    "start_time": "2023-09-28T08:08:01.101Z"
   },
   {
    "duration": 31,
    "start_time": "2023-09-28T08:08:09.435Z"
   },
   {
    "duration": 3,
    "start_time": "2023-09-28T08:14:04.891Z"
   },
   {
    "duration": 14,
    "start_time": "2023-09-28T08:14:04.896Z"
   },
   {
    "duration": 301,
    "start_time": "2023-09-28T08:14:04.911Z"
   },
   {
    "duration": 4,
    "start_time": "2023-09-28T08:14:05.214Z"
   },
   {
    "duration": 71,
    "start_time": "2023-09-28T08:14:05.221Z"
   },
   {
    "duration": 284,
    "start_time": "2023-09-28T08:14:05.309Z"
   },
   {
    "duration": 17,
    "start_time": "2023-09-28T08:14:05.594Z"
   },
   {
    "duration": 5,
    "start_time": "2023-09-28T08:14:05.613Z"
   },
   {
    "duration": 81,
    "start_time": "2023-09-28T08:14:05.620Z"
   },
   {
    "duration": 366,
    "start_time": "2023-09-28T08:14:05.709Z"
   },
   {
    "duration": 35,
    "start_time": "2023-09-28T08:14:06.076Z"
   },
   {
    "duration": 38,
    "start_time": "2023-09-28T08:14:06.112Z"
   },
   {
    "duration": 88,
    "start_time": "2023-09-28T08:14:06.152Z"
   },
   {
    "duration": 9,
    "start_time": "2023-09-28T08:14:06.243Z"
   },
   {
    "duration": 128,
    "start_time": "2023-09-28T08:14:06.254Z"
   },
   {
    "duration": 75,
    "start_time": "2023-09-28T08:14:06.384Z"
   },
   {
    "duration": 8,
    "start_time": "2023-09-28T08:14:06.460Z"
   },
   {
    "duration": 148,
    "start_time": "2023-09-28T08:14:06.470Z"
   },
   {
    "duration": 4,
    "start_time": "2023-09-28T08:14:06.620Z"
   },
   {
    "duration": 46,
    "start_time": "2023-09-28T08:14:06.626Z"
   },
   {
    "duration": 37,
    "start_time": "2023-09-28T08:14:06.674Z"
   },
   {
    "duration": 198,
    "start_time": "2023-09-28T08:14:06.713Z"
   },
   {
    "duration": 10,
    "start_time": "2023-09-28T08:14:06.913Z"
   },
   {
    "duration": 8,
    "start_time": "2023-09-28T08:14:06.924Z"
   },
   {
    "duration": 140,
    "start_time": "2023-09-28T08:14:06.933Z"
   },
   {
    "duration": 11,
    "start_time": "2023-09-28T08:14:07.075Z"
   },
   {
    "duration": 11,
    "start_time": "2023-09-28T08:14:07.087Z"
   },
   {
    "duration": 3,
    "start_time": "2023-09-28T08:14:07.109Z"
   },
   {
    "duration": 57,
    "start_time": "2023-09-28T08:14:07.114Z"
   },
   {
    "duration": 309,
    "start_time": "2023-09-28T08:14:07.173Z"
   },
   {
    "duration": 4,
    "start_time": "2023-09-28T08:14:07.484Z"
   },
   {
    "duration": 89,
    "start_time": "2023-09-28T08:14:07.490Z"
   },
   {
    "duration": 8,
    "start_time": "2023-09-28T08:14:07.581Z"
   },
   {
    "duration": 36,
    "start_time": "2023-09-28T08:14:07.591Z"
   },
   {
    "duration": 7,
    "start_time": "2023-09-28T08:14:07.629Z"
   },
   {
    "duration": 22,
    "start_time": "2023-09-28T08:14:07.638Z"
   },
   {
    "duration": 24,
    "start_time": "2023-09-28T08:14:07.662Z"
   },
   {
    "duration": 74,
    "start_time": "2023-09-28T08:14:07.688Z"
   },
   {
    "duration": 10,
    "start_time": "2023-09-28T08:14:07.764Z"
   },
   {
    "duration": 3,
    "start_time": "2023-09-28T08:18:16.888Z"
   },
   {
    "duration": 55,
    "start_time": "2023-09-28T08:18:18.743Z"
   },
   {
    "duration": 684,
    "start_time": "2023-09-28T08:19:13.919Z"
   },
   {
    "duration": 2,
    "start_time": "2023-09-28T08:19:14.605Z"
   },
   {
    "duration": 454,
    "start_time": "2023-09-28T08:19:14.609Z"
   },
   {
    "duration": 4,
    "start_time": "2023-09-28T08:19:15.065Z"
   },
   {
    "duration": 100,
    "start_time": "2023-09-28T08:19:15.071Z"
   },
   {
    "duration": 341,
    "start_time": "2023-09-28T08:19:15.173Z"
   },
   {
    "duration": 11,
    "start_time": "2023-09-28T08:19:15.515Z"
   },
   {
    "duration": 21,
    "start_time": "2023-09-28T08:19:15.527Z"
   },
   {
    "duration": 86,
    "start_time": "2023-09-28T08:19:15.550Z"
   },
   {
    "duration": 379,
    "start_time": "2023-09-28T08:19:15.639Z"
   },
   {
    "duration": 25,
    "start_time": "2023-09-28T08:19:16.019Z"
   },
   {
    "duration": 3,
    "start_time": "2023-09-28T08:19:16.046Z"
   },
   {
    "duration": 158,
    "start_time": "2023-09-28T08:19:16.051Z"
   },
   {
    "duration": 9,
    "start_time": "2023-09-28T08:19:16.211Z"
   },
   {
    "duration": 4,
    "start_time": "2023-09-28T08:19:16.222Z"
   },
   {
    "duration": 38,
    "start_time": "2023-09-28T08:19:16.227Z"
   },
   {
    "duration": 7,
    "start_time": "2023-09-28T08:19:16.267Z"
   },
   {
    "duration": 141,
    "start_time": "2023-09-28T08:19:16.275Z"
   },
   {
    "duration": 4,
    "start_time": "2023-09-28T08:19:16.418Z"
   },
   {
    "duration": 54,
    "start_time": "2023-09-28T08:19:16.423Z"
   },
   {
    "duration": 31,
    "start_time": "2023-09-28T08:19:16.479Z"
   },
   {
    "duration": 116,
    "start_time": "2023-09-28T08:19:16.512Z"
   },
   {
    "duration": 9,
    "start_time": "2023-09-28T08:19:16.630Z"
   },
   {
    "duration": 7,
    "start_time": "2023-09-28T08:19:16.641Z"
   },
   {
    "duration": 145,
    "start_time": "2023-09-28T08:19:16.649Z"
   },
   {
    "duration": 20,
    "start_time": "2023-09-28T08:19:16.795Z"
   },
   {
    "duration": 15,
    "start_time": "2023-09-28T08:19:16.817Z"
   },
   {
    "duration": 3,
    "start_time": "2023-09-28T08:19:16.837Z"
   },
   {
    "duration": 73,
    "start_time": "2023-09-28T08:19:16.842Z"
   },
   {
    "duration": 320,
    "start_time": "2023-09-28T08:19:16.916Z"
   },
   {
    "duration": 4,
    "start_time": "2023-09-28T08:19:17.238Z"
   },
   {
    "duration": 70,
    "start_time": "2023-09-28T08:19:17.243Z"
   },
   {
    "duration": 8,
    "start_time": "2023-09-28T08:19:17.314Z"
   },
   {
    "duration": 22,
    "start_time": "2023-09-28T08:19:17.323Z"
   },
   {
    "duration": 21,
    "start_time": "2023-09-28T08:19:17.347Z"
   },
   {
    "duration": 20,
    "start_time": "2023-09-28T08:19:17.369Z"
   },
   {
    "duration": 27,
    "start_time": "2023-09-28T08:19:17.392Z"
   },
   {
    "duration": 28,
    "start_time": "2023-09-28T08:19:17.421Z"
   },
   {
    "duration": 11,
    "start_time": "2023-09-28T08:19:17.450Z"
   },
   {
    "duration": 373,
    "start_time": "2023-09-28T08:21:15.887Z"
   },
   {
    "duration": 298,
    "start_time": "2023-09-28T08:21:44.207Z"
   },
   {
    "duration": 655,
    "start_time": "2023-09-28T08:21:56.064Z"
   },
   {
    "duration": 3,
    "start_time": "2023-09-28T08:21:56.721Z"
   },
   {
    "duration": 278,
    "start_time": "2023-09-28T08:21:56.726Z"
   },
   {
    "duration": 3,
    "start_time": "2023-09-28T08:21:57.007Z"
   },
   {
    "duration": 70,
    "start_time": "2023-09-28T08:21:57.012Z"
   },
   {
    "duration": 303,
    "start_time": "2023-09-28T08:21:57.084Z"
   },
   {
    "duration": 22,
    "start_time": "2023-09-28T08:21:57.389Z"
   },
   {
    "duration": 9,
    "start_time": "2023-09-28T08:21:57.412Z"
   },
   {
    "duration": 116,
    "start_time": "2023-09-28T08:21:57.423Z"
   },
   {
    "duration": 416,
    "start_time": "2023-09-28T08:21:57.542Z"
   },
   {
    "duration": 27,
    "start_time": "2023-09-28T08:21:57.960Z"
   },
   {
    "duration": 23,
    "start_time": "2023-09-28T08:21:57.988Z"
   },
   {
    "duration": 139,
    "start_time": "2023-09-28T08:21:58.014Z"
   },
   {
    "duration": 9,
    "start_time": "2023-09-28T08:21:58.154Z"
   },
   {
    "duration": 16,
    "start_time": "2023-09-28T08:21:58.165Z"
   },
   {
    "duration": 56,
    "start_time": "2023-09-28T08:21:58.183Z"
   },
   {
    "duration": 8,
    "start_time": "2023-09-28T08:21:58.241Z"
   },
   {
    "duration": 159,
    "start_time": "2023-09-28T08:21:58.251Z"
   },
   {
    "duration": 4,
    "start_time": "2023-09-28T08:21:58.411Z"
   },
   {
    "duration": 122,
    "start_time": "2023-09-28T08:21:58.416Z"
   },
   {
    "duration": 20,
    "start_time": "2023-09-28T08:21:58.541Z"
   },
   {
    "duration": 141,
    "start_time": "2023-09-28T08:21:58.563Z"
   },
   {
    "duration": 10,
    "start_time": "2023-09-28T08:21:58.706Z"
   },
   {
    "duration": 12,
    "start_time": "2023-09-28T08:21:58.718Z"
   },
   {
    "duration": 161,
    "start_time": "2023-09-28T08:21:58.731Z"
   },
   {
    "duration": 21,
    "start_time": "2023-09-28T08:21:58.894Z"
   },
   {
    "duration": 39,
    "start_time": "2023-09-28T08:21:58.917Z"
   },
   {
    "duration": 22,
    "start_time": "2023-09-28T08:21:58.959Z"
   },
   {
    "duration": 78,
    "start_time": "2023-09-28T08:21:58.983Z"
   },
   {
    "duration": 349,
    "start_time": "2023-09-28T08:21:59.062Z"
   },
   {
    "duration": 5,
    "start_time": "2023-09-28T08:21:59.413Z"
   },
   {
    "duration": 91,
    "start_time": "2023-09-28T08:21:59.420Z"
   },
   {
    "duration": 13,
    "start_time": "2023-09-28T08:21:59.513Z"
   },
   {
    "duration": 28,
    "start_time": "2023-09-28T08:21:59.528Z"
   },
   {
    "duration": 34,
    "start_time": "2023-09-28T08:21:59.558Z"
   },
   {
    "duration": 21,
    "start_time": "2023-09-28T08:21:59.594Z"
   },
   {
    "duration": 12,
    "start_time": "2023-09-28T08:21:59.616Z"
   },
   {
    "duration": 18,
    "start_time": "2023-09-28T08:21:59.630Z"
   },
   {
    "duration": 29,
    "start_time": "2023-09-28T08:21:59.650Z"
   },
   {
    "duration": 728,
    "start_time": "2023-09-28T20:01:05.109Z"
   },
   {
    "duration": 3,
    "start_time": "2023-09-28T20:01:05.839Z"
   },
   {
    "duration": 267,
    "start_time": "2023-09-28T20:01:05.846Z"
   },
   {
    "duration": 4,
    "start_time": "2023-09-28T20:01:06.121Z"
   },
   {
    "duration": 97,
    "start_time": "2023-09-28T20:01:06.128Z"
   },
   {
    "duration": 312,
    "start_time": "2023-09-28T20:01:06.229Z"
   },
   {
    "duration": 10,
    "start_time": "2023-09-28T20:01:06.543Z"
   },
   {
    "duration": 33,
    "start_time": "2023-09-28T20:01:06.555Z"
   },
   {
    "duration": 115,
    "start_time": "2023-09-28T20:01:06.590Z"
   },
   {
    "duration": 419,
    "start_time": "2023-09-28T20:01:06.708Z"
   },
   {
    "duration": 26,
    "start_time": "2023-09-28T20:01:07.129Z"
   },
   {
    "duration": 4,
    "start_time": "2023-09-28T20:01:07.157Z"
   },
   {
    "duration": 161,
    "start_time": "2023-09-28T20:01:07.164Z"
   },
   {
    "duration": 10,
    "start_time": "2023-09-28T20:01:07.327Z"
   },
   {
    "duration": 37,
    "start_time": "2023-09-28T20:01:07.339Z"
   },
   {
    "duration": 43,
    "start_time": "2023-09-28T20:01:07.378Z"
   },
   {
    "duration": 6,
    "start_time": "2023-09-28T20:01:07.425Z"
   },
   {
    "duration": 118,
    "start_time": "2023-09-28T20:01:07.433Z"
   },
   {
    "duration": 4,
    "start_time": "2023-09-28T20:01:07.554Z"
   },
   {
    "duration": 64,
    "start_time": "2023-09-28T20:01:07.560Z"
   },
   {
    "duration": 7,
    "start_time": "2023-09-28T20:01:07.627Z"
   },
   {
    "duration": 133,
    "start_time": "2023-09-28T20:01:07.636Z"
   },
   {
    "duration": 10,
    "start_time": "2023-09-28T20:01:07.771Z"
   },
   {
    "duration": 6,
    "start_time": "2023-09-28T20:01:07.783Z"
   },
   {
    "duration": 163,
    "start_time": "2023-09-28T20:01:07.790Z"
   },
   {
    "duration": 13,
    "start_time": "2023-09-28T20:01:07.955Z"
   },
   {
    "duration": 17,
    "start_time": "2023-09-28T20:01:07.970Z"
   },
   {
    "duration": 26,
    "start_time": "2023-09-28T20:01:07.989Z"
   },
   {
    "duration": 56,
    "start_time": "2023-09-28T20:01:08.016Z"
   },
   {
    "duration": 330,
    "start_time": "2023-09-28T20:01:08.073Z"
   },
   {
    "duration": 8,
    "start_time": "2023-09-28T20:01:08.405Z"
   },
   {
    "duration": 53,
    "start_time": "2023-09-28T20:01:08.423Z"
   },
   {
    "duration": 9,
    "start_time": "2023-09-28T20:01:08.478Z"
   },
   {
    "duration": 24,
    "start_time": "2023-09-28T20:01:08.488Z"
   },
   {
    "duration": 10,
    "start_time": "2023-09-28T20:01:08.515Z"
   },
   {
    "duration": 14,
    "start_time": "2023-09-28T20:01:08.527Z"
   },
   {
    "duration": 10,
    "start_time": "2023-09-28T20:01:08.543Z"
   },
   {
    "duration": 21,
    "start_time": "2023-09-28T20:01:08.555Z"
   },
   {
    "duration": 42,
    "start_time": "2023-09-28T20:01:08.578Z"
   },
   {
    "duration": 17807,
    "start_time": "2023-10-03T10:46:09.449Z"
   },
   {
    "duration": 11900,
    "start_time": "2023-10-03T10:46:27.346Z"
   },
   {
    "duration": 7,
    "start_time": "2023-10-03T10:46:39.248Z"
   },
   {
    "duration": 1396,
    "start_time": "2023-10-03T10:46:39.257Z"
   },
   {
    "duration": 94,
    "start_time": "2023-10-03T10:46:40.659Z"
   },
   {
    "duration": 695,
    "start_time": "2023-10-03T10:46:40.757Z"
   },
   {
    "duration": 2197,
    "start_time": "2023-10-03T10:46:41.455Z"
   },
   {
    "duration": 96,
    "start_time": "2023-10-03T10:46:43.654Z"
   },
   {
    "duration": 3,
    "start_time": "2023-10-03T10:46:43.756Z"
   },
   {
    "duration": 1186,
    "start_time": "2023-10-03T10:46:43.761Z"
   },
   {
    "duration": 2893,
    "start_time": "2023-10-03T10:46:44.952Z"
   },
   {
    "duration": 194,
    "start_time": "2023-10-03T10:46:47.852Z"
   },
   {
    "duration": 4,
    "start_time": "2023-10-03T10:46:48.049Z"
   },
   {
    "duration": 502,
    "start_time": "2023-10-03T10:46:48.145Z"
   },
   {
    "duration": 96,
    "start_time": "2023-10-03T10:46:48.651Z"
   },
   {
    "duration": 96,
    "start_time": "2023-10-03T10:46:48.750Z"
   },
   {
    "duration": 202,
    "start_time": "2023-10-03T10:46:48.945Z"
   },
   {
    "duration": 96,
    "start_time": "2023-10-03T10:46:49.153Z"
   },
   {
    "duration": 901,
    "start_time": "2023-10-03T10:46:49.251Z"
   },
   {
    "duration": 12,
    "start_time": "2023-10-03T10:46:50.243Z"
   },
   {
    "duration": 604,
    "start_time": "2023-10-03T10:46:50.352Z"
   },
   {
    "duration": 88,
    "start_time": "2023-10-03T10:46:50.959Z"
   },
   {
    "duration": 800,
    "start_time": "2023-10-03T10:46:51.050Z"
   },
   {
    "duration": 103,
    "start_time": "2023-10-03T10:46:51.945Z"
   },
   {
    "duration": 99,
    "start_time": "2023-10-03T10:46:52.052Z"
   },
   {
    "duration": 909,
    "start_time": "2023-10-03T10:46:52.247Z"
   },
   {
    "duration": 189,
    "start_time": "2023-10-03T10:46:53.157Z"
   },
   {
    "duration": 17,
    "start_time": "2023-10-03T10:46:53.446Z"
   },
   {
    "duration": 5,
    "start_time": "2023-10-03T10:46:53.545Z"
   },
   {
    "duration": 499,
    "start_time": "2023-10-03T10:46:53.553Z"
   },
   {
    "duration": 2393,
    "start_time": "2023-10-03T10:46:54.054Z"
   },
   {
    "duration": 4,
    "start_time": "2023-10-03T10:46:56.545Z"
   },
   {
    "duration": 504,
    "start_time": "2023-10-03T10:46:56.551Z"
   },
   {
    "duration": 93,
    "start_time": "2023-10-03T10:46:57.059Z"
   },
   {
    "duration": 96,
    "start_time": "2023-10-03T10:46:57.154Z"
   },
   {
    "duration": 93,
    "start_time": "2023-10-03T10:46:57.252Z"
   },
   {
    "duration": 95,
    "start_time": "2023-10-03T10:46:57.348Z"
   },
   {
    "duration": 102,
    "start_time": "2023-10-03T10:46:57.445Z"
   },
   {
    "duration": 102,
    "start_time": "2023-10-03T10:46:57.550Z"
   },
   {
    "duration": 189,
    "start_time": "2023-10-03T10:46:57.658Z"
   },
   {
    "duration": 97,
    "start_time": "2023-10-03T10:46:57.854Z"
   },
   {
    "duration": 100,
    "start_time": "2023-10-03T10:46:57.956Z"
   },
   {
    "duration": 194,
    "start_time": "2023-10-03T10:46:58.058Z"
   },
   {
    "duration": 103,
    "start_time": "2023-10-03T10:46:58.253Z"
   },
   {
    "duration": 7,
    "start_time": "2023-10-03T10:46:58.446Z"
   },
   {
    "duration": 94,
    "start_time": "2023-10-03T10:46:58.455Z"
   },
   {
    "duration": 95,
    "start_time": "2023-10-03T10:46:58.551Z"
   },
   {
    "duration": 99,
    "start_time": "2023-10-03T10:46:58.653Z"
   },
   {
    "duration": 195,
    "start_time": "2023-10-03T10:46:58.754Z"
   },
   {
    "duration": 192,
    "start_time": "2023-10-03T10:46:58.951Z"
   },
   {
    "duration": 100,
    "start_time": "2023-10-03T10:46:59.145Z"
   },
   {
    "duration": 210,
    "start_time": "2023-10-03T10:46:59.247Z"
   },
   {
    "duration": 293,
    "start_time": "2023-10-03T10:46:59.459Z"
   },
   {
    "duration": 96,
    "start_time": "2023-10-03T10:46:59.756Z"
   },
   {
    "duration": 93,
    "start_time": "2023-10-03T10:46:59.856Z"
   },
   {
    "duration": 96,
    "start_time": "2023-10-03T10:46:59.952Z"
   },
   {
    "duration": 98,
    "start_time": "2023-10-03T10:47:00.050Z"
   },
   {
    "duration": 194,
    "start_time": "2023-10-03T10:47:00.151Z"
   },
   {
    "duration": 5,
    "start_time": "2023-10-03T10:47:00.346Z"
   },
   {
    "duration": 298,
    "start_time": "2023-10-03T10:47:00.353Z"
   },
   {
    "duration": 200,
    "start_time": "2023-10-03T10:47:00.653Z"
   },
   {
    "duration": 2,
    "start_time": "2023-10-03T10:47:00.855Z"
   },
   {
    "duration": 997,
    "start_time": "2023-10-03T10:47:00.859Z"
   },
   {
    "duration": 8,
    "start_time": "2023-10-03T10:47:01.948Z"
   },
   {
    "duration": 390,
    "start_time": "2023-10-03T10:47:01.958Z"
   },
   {
    "duration": 33995,
    "start_time": "2023-10-03T10:47:02.350Z"
   },
   {
    "duration": 3,
    "start_time": "2023-10-03T10:47:36.348Z"
   },
   {
    "duration": 299,
    "start_time": "2023-10-03T10:47:36.353Z"
   },
   {
    "duration": 2083,
    "start_time": "2023-10-03T10:47:36.660Z"
   },
   {
    "duration": 5206,
    "start_time": "2023-10-03T10:47:38.750Z"
   },
   {
    "duration": 3699,
    "start_time": "2023-10-03T10:47:44.047Z"
   },
   {
    "duration": 2092,
    "start_time": "2023-10-03T10:47:47.756Z"
   },
   {
    "duration": 93,
    "start_time": "2023-10-03T10:47:49.853Z"
   },
   {
    "duration": 4,
    "start_time": "2023-10-03T10:47:49.948Z"
   },
   {
    "duration": 89,
    "start_time": "2023-10-03T10:47:49.958Z"
   },
   {
    "duration": 3,
    "start_time": "2023-10-03T10:47:50.053Z"
   },
   {
    "duration": 88,
    "start_time": "2023-10-03T10:47:50.058Z"
   },
   {
    "duration": 90,
    "start_time": "2023-10-03T10:47:50.156Z"
   },
   {
    "duration": 1309,
    "start_time": "2023-10-03T10:47:50.248Z"
   },
   {
    "duration": 92,
    "start_time": "2023-10-03T10:47:51.653Z"
   },
   {
    "duration": 2942,
    "start_time": "2023-10-03T13:16:48.582Z"
   },
   {
    "duration": 2803,
    "start_time": "2023-10-03T13:16:51.527Z"
   },
   {
    "duration": 3,
    "start_time": "2023-10-03T13:16:54.331Z"
   },
   {
    "duration": 659,
    "start_time": "2023-10-03T13:16:54.336Z"
   },
   {
    "duration": 4,
    "start_time": "2023-10-03T13:16:54.997Z"
   },
   {
    "duration": 65,
    "start_time": "2023-10-03T13:16:55.003Z"
   },
   {
    "duration": 361,
    "start_time": "2023-10-03T13:16:55.069Z"
   },
   {
    "duration": 19,
    "start_time": "2023-10-03T13:16:55.432Z"
   },
   {
    "duration": 12,
    "start_time": "2023-10-03T13:16:55.453Z"
   },
   {
    "duration": 164,
    "start_time": "2023-10-03T13:16:55.467Z"
   },
   {
    "duration": 399,
    "start_time": "2023-10-03T13:16:55.633Z"
   },
   {
    "duration": 28,
    "start_time": "2023-10-03T13:16:56.034Z"
   },
   {
    "duration": 21,
    "start_time": "2023-10-03T13:16:56.063Z"
   },
   {
    "duration": 77,
    "start_time": "2023-10-03T13:16:56.087Z"
   },
   {
    "duration": 9,
    "start_time": "2023-10-03T13:16:56.165Z"
   },
   {
    "duration": 44,
    "start_time": "2023-10-03T13:16:56.176Z"
   },
   {
    "duration": 27,
    "start_time": "2023-10-03T13:16:56.222Z"
   },
   {
    "duration": 15,
    "start_time": "2023-10-03T13:16:56.252Z"
   },
   {
    "duration": 120,
    "start_time": "2023-10-03T13:16:56.269Z"
   },
   {
    "duration": 4,
    "start_time": "2023-10-03T13:16:56.392Z"
   },
   {
    "duration": 58,
    "start_time": "2023-10-03T13:16:56.398Z"
   },
   {
    "duration": 6,
    "start_time": "2023-10-03T13:16:56.458Z"
   },
   {
    "duration": 125,
    "start_time": "2023-10-03T13:16:56.465Z"
   },
   {
    "duration": 10,
    "start_time": "2023-10-03T13:16:56.591Z"
   },
   {
    "duration": 13,
    "start_time": "2023-10-03T13:16:56.603Z"
   },
   {
    "duration": 137,
    "start_time": "2023-10-03T13:16:56.618Z"
   },
   {
    "duration": 14,
    "start_time": "2023-10-03T13:16:56.757Z"
   },
   {
    "duration": 27,
    "start_time": "2023-10-03T13:16:56.772Z"
   },
   {
    "duration": 12,
    "start_time": "2023-10-03T13:16:56.801Z"
   },
   {
    "duration": 54,
    "start_time": "2023-10-03T13:16:56.815Z"
   },
   {
    "duration": 307,
    "start_time": "2023-10-03T13:16:56.871Z"
   },
   {
    "duration": 4,
    "start_time": "2023-10-03T13:16:57.179Z"
   },
   {
    "duration": 69,
    "start_time": "2023-10-03T13:16:57.184Z"
   },
   {
    "duration": 8,
    "start_time": "2023-10-03T13:16:57.255Z"
   },
   {
    "duration": 25,
    "start_time": "2023-10-03T13:16:57.265Z"
   },
   {
    "duration": 9,
    "start_time": "2023-10-03T13:16:57.292Z"
   },
   {
    "duration": 24,
    "start_time": "2023-10-03T13:16:57.302Z"
   },
   {
    "duration": 37,
    "start_time": "2023-10-03T13:16:57.328Z"
   },
   {
    "duration": 23,
    "start_time": "2023-10-03T13:16:57.367Z"
   },
   {
    "duration": 10,
    "start_time": "2023-10-03T13:16:57.392Z"
   },
   {
    "duration": 35,
    "start_time": "2023-10-03T13:16:57.407Z"
   },
   {
    "duration": 24,
    "start_time": "2023-10-03T13:16:57.444Z"
   },
   {
    "duration": 12,
    "start_time": "2023-10-03T13:16:57.470Z"
   },
   {
    "duration": 26,
    "start_time": "2023-10-03T13:16:57.484Z"
   },
   {
    "duration": 33,
    "start_time": "2023-10-03T13:16:57.512Z"
   },
   {
    "duration": 25,
    "start_time": "2023-10-03T13:16:57.546Z"
   },
   {
    "duration": 22,
    "start_time": "2023-10-03T13:16:57.572Z"
   },
   {
    "duration": 32,
    "start_time": "2023-10-03T13:16:57.596Z"
   },
   {
    "duration": 31,
    "start_time": "2023-10-03T13:16:57.630Z"
   },
   {
    "duration": 23,
    "start_time": "2023-10-03T13:16:57.663Z"
   },
   {
    "duration": 19,
    "start_time": "2023-10-03T13:16:57.688Z"
   },
   {
    "duration": 38,
    "start_time": "2023-10-03T13:16:57.709Z"
   },
   {
    "duration": 22,
    "start_time": "2023-10-03T13:16:57.748Z"
   },
   {
    "duration": 7,
    "start_time": "2023-10-03T13:16:57.771Z"
   },
   {
    "duration": 19,
    "start_time": "2023-10-03T13:16:57.780Z"
   },
   {
    "duration": 20,
    "start_time": "2023-10-03T13:16:57.802Z"
   },
   {
    "duration": 17,
    "start_time": "2023-10-03T13:16:57.824Z"
   },
   {
    "duration": 13,
    "start_time": "2023-10-03T13:16:57.842Z"
   },
   {
    "duration": 17,
    "start_time": "2023-10-03T13:16:57.857Z"
   },
   {
    "duration": 41,
    "start_time": "2023-10-03T13:16:57.876Z"
   },
   {
    "duration": 50,
    "start_time": "2023-10-03T13:16:57.920Z"
   },
   {
    "duration": 15,
    "start_time": "2023-10-03T13:16:57.971Z"
   },
   {
    "duration": 145,
    "start_time": "2023-10-03T13:16:57.988Z"
   },
   {
    "duration": 5,
    "start_time": "2023-10-03T13:16:58.135Z"
   },
   {
    "duration": 33,
    "start_time": "2023-10-03T13:16:58.146Z"
   },
   {
    "duration": 5829,
    "start_time": "2023-10-03T13:16:58.181Z"
   },
   {
    "duration": 3,
    "start_time": "2023-10-03T13:17:04.011Z"
   },
   {
    "duration": 49,
    "start_time": "2023-10-03T13:17:04.015Z"
   },
   {
    "duration": 291,
    "start_time": "2023-10-03T13:17:04.066Z"
   },
   {
    "duration": 1040,
    "start_time": "2023-10-03T13:17:04.359Z"
   },
   {
    "duration": 490,
    "start_time": "2023-10-03T13:17:05.400Z"
   },
   {
    "duration": 314,
    "start_time": "2023-10-03T13:17:05.893Z"
   },
   {
    "duration": 6,
    "start_time": "2023-10-03T13:17:06.208Z"
   },
   {
    "duration": 68,
    "start_time": "2023-10-03T13:17:06.216Z"
   },
   {
    "duration": 30,
    "start_time": "2023-10-03T13:17:06.285Z"
   },
   {
    "duration": 87,
    "start_time": "2023-10-03T13:17:06.317Z"
   },
   {
    "duration": 45,
    "start_time": "2023-10-03T13:17:06.405Z"
   },
   {
    "duration": 52,
    "start_time": "2023-10-03T13:17:06.452Z"
   },
   {
    "duration": 543,
    "start_time": "2023-10-03T13:17:06.505Z"
   },
   {
    "duration": 96,
    "start_time": "2023-10-03T13:17:07.051Z"
   },
   {
    "duration": 1569068,
    "start_time": "2023-10-03T13:17:07.149Z"
   },
   {
    "duration": 149932,
    "start_time": "2023-10-03T13:43:16.219Z"
   },
   {
    "duration": 2626134,
    "start_time": "2023-10-03T13:45:46.153Z"
   },
   {
    "duration": 8,
    "start_time": "2023-10-03T14:29:32.289Z"
   },
   {
    "duration": 64,
    "start_time": "2023-10-03T14:29:32.299Z"
   },
   {
    "duration": 7,
    "start_time": "2023-10-03T14:29:32.365Z"
   },
   {
    "duration": 72,
    "start_time": "2023-10-03T14:29:32.374Z"
   },
   {
    "duration": 310,
    "start_time": "2023-10-03T14:29:32.448Z"
   },
   {
    "duration": 10,
    "start_time": "2023-10-03T14:29:32.759Z"
   }
  ],
  "kernelspec": {
   "display_name": "Python 3 (ipykernel)",
   "language": "python",
   "name": "python3"
  },
  "language_info": {
   "codemirror_mode": {
    "name": "ipython",
    "version": 3
   },
   "file_extension": ".py",
   "mimetype": "text/x-python",
   "name": "python",
   "nbconvert_exporter": "python",
   "pygments_lexer": "ipython3",
   "version": "3.9.13"
  },
  "toc": {
   "base_numbering": 1,
   "nav_menu": {},
   "number_sections": true,
   "sideBar": true,
   "skip_h1_title": true,
   "title_cell": "Table of Contents",
   "title_sidebar": "Contents",
   "toc_cell": false,
   "toc_position": {
    "height": "calc(100% - 180px)",
    "left": "10px",
    "top": "150px",
    "width": "370.594px"
   },
   "toc_section_display": true,
   "toc_window_display": true
  }
 },
 "nbformat": 4,
 "nbformat_minor": 5
}
