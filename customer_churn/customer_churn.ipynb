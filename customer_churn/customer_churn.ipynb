{
 "cells": [
  {
   "cell_type": "markdown",
   "metadata": {},
   "source": [
    "# Отток клиентов"
   ]
  },
  {
   "cell_type": "markdown",
   "metadata": {
    "toc": true
   },
   "source": [
    "<h1>Содержание<span class=\"tocSkip\"></span></h1>\n",
    "<div class=\"toc\"><ul class=\"toc-item\"><li><span><a href=\"#Подготовка-данных\" data-toc-modified-id=\"Подготовка-данных-1\"><span class=\"toc-item-num\">1&nbsp;&nbsp;</span>Подготовка данных</a></span></li><li><span><a href=\"#Исследование-задачи\" data-toc-modified-id=\"Исследование-задачи-2\"><span class=\"toc-item-num\">2&nbsp;&nbsp;</span>Исследование задачи</a></span></li><li><span><a href=\"#Борьба-с-дисбалансом\" data-toc-modified-id=\"Борьба-с-дисбалансом-3\"><span class=\"toc-item-num\">3&nbsp;&nbsp;</span>Борьба с дисбалансом</a></span><ul class=\"toc-item\"><li><span><a href=\"#Взвешивание-классов\" data-toc-modified-id=\"Взвешивание-классов-3.1\"><span class=\"toc-item-num\">3.1&nbsp;&nbsp;</span>Взвешивание классов</a></span></li><li><span><a href=\"#Увеличение-выборки\" data-toc-modified-id=\"Увеличение-выборки-3.2\"><span class=\"toc-item-num\">3.2&nbsp;&nbsp;</span>Увеличение выборки</a></span></li></ul></li><li><span><a href=\"#Тестирование-модели\" data-toc-modified-id=\"Тестирование-модели-4\"><span class=\"toc-item-num\">4&nbsp;&nbsp;</span>Тестирование модели</a></span></li><li><span><a href=\"#Вывод\" data-toc-modified-id=\"Вывод-5\"><span class=\"toc-item-num\">5&nbsp;&nbsp;</span>Вывод</a></span></li><li><span><a href=\"#Чек-лист-готовности-проекта\" data-toc-modified-id=\"Чек-лист-готовности-проекта-6\"><span class=\"toc-item-num\">6&nbsp;&nbsp;</span>Чек-лист готовности проекта</a></span></li></ul></div>"
   ]
  },
  {
   "cell_type": "markdown",
   "metadata": {},
   "source": [
    "Из «Бета-Банка» стали уходить клиенты. Каждый месяц. Немного, но заметно. Банковские маркетологи посчитали: сохранять текущих клиентов дешевле, чем привлекать новых.\n",
    "\n",
    "Нужно спрогнозировать, уйдёт клиент из банка в ближайшее время или нет. Вам предоставлены исторические данные о поведении клиентов и расторжении договоров с банком. \n",
    "\n",
    "Постройте модель с предельно большим значением *F1*-меры. Чтобы сдать проект успешно, нужно довести метрику до 0.59. Проверьте *F1*-меру на тестовой выборке самостоятельно.\n",
    "\n",
    "Дополнительно измеряйте *AUC-ROC*, сравнивайте её значение с *F1*-мерой.\n",
    "\n",
    "Источник данных: [https://www.kaggle.com/barelydedicated/bank-customer-churn-modeling](https://www.kaggle.com/barelydedicated/bank-customer-churn-modeling)"
   ]
  },
  {
   "cell_type": "markdown",
   "metadata": {},
   "source": [
    "## Подготовка данных"
   ]
  },
  {
   "cell_type": "code",
   "execution_count": 3,
   "metadata": {},
   "outputs": [],
   "source": [
    "import pandas as pd\n",
    "import numpy as np\n",
    "\n",
    "from sklearn.model_selection import train_test_split \n",
    "from sklearn.ensemble import RandomForestClassifier \n",
    "from sklearn.linear_model import LogisticRegression \n",
    "from sklearn.metrics import roc_auc_score, f1_score\n",
    "from sklearn.metrics import roc_curve \n",
    "import matplotlib.pyplot as plt\n",
    "from sklearn.preprocessing import StandardScaler\n",
    "from itertools import chain\n",
    "from sklearn.dummy import DummyClassifier\n",
    "from sklearn.utils import shuffle\n",
    "from sklearn.preprocessing import OneHotEncoder\n",
    "from sklearn.compose import make_column_transformer\n",
    "from sklearn.preprocessing import OrdinalEncoder "
   ]
  },
  {
   "cell_type": "code",
   "execution_count": 5,
   "metadata": {
    "scrolled": false
   },
   "outputs": [
    {
     "data": {
      "text/html": [
       "<div>\n",
       "<style scoped>\n",
       "    .dataframe tbody tr th:only-of-type {\n",
       "        vertical-align: middle;\n",
       "    }\n",
       "\n",
       "    .dataframe tbody tr th {\n",
       "        vertical-align: top;\n",
       "    }\n",
       "\n",
       "    .dataframe thead th {\n",
       "        text-align: right;\n",
       "    }\n",
       "</style>\n",
       "<table border=\"1\" class=\"dataframe\">\n",
       "  <thead>\n",
       "    <tr style=\"text-align: right;\">\n",
       "      <th></th>\n",
       "      <th>RowNumber</th>\n",
       "      <th>CustomerId</th>\n",
       "      <th>Surname</th>\n",
       "      <th>CreditScore</th>\n",
       "      <th>Geography</th>\n",
       "      <th>Gender</th>\n",
       "      <th>Age</th>\n",
       "      <th>Tenure</th>\n",
       "      <th>Balance</th>\n",
       "      <th>NumOfProducts</th>\n",
       "      <th>HasCrCard</th>\n",
       "      <th>IsActiveMember</th>\n",
       "      <th>EstimatedSalary</th>\n",
       "      <th>Exited</th>\n",
       "    </tr>\n",
       "  </thead>\n",
       "  <tbody>\n",
       "    <tr>\n",
       "      <th>0</th>\n",
       "      <td>1</td>\n",
       "      <td>15634602</td>\n",
       "      <td>Hargrave</td>\n",
       "      <td>619</td>\n",
       "      <td>France</td>\n",
       "      <td>Female</td>\n",
       "      <td>42</td>\n",
       "      <td>2.0</td>\n",
       "      <td>0.00</td>\n",
       "      <td>1</td>\n",
       "      <td>1</td>\n",
       "      <td>1</td>\n",
       "      <td>101348.88</td>\n",
       "      <td>1</td>\n",
       "    </tr>\n",
       "    <tr>\n",
       "      <th>1</th>\n",
       "      <td>2</td>\n",
       "      <td>15647311</td>\n",
       "      <td>Hill</td>\n",
       "      <td>608</td>\n",
       "      <td>Spain</td>\n",
       "      <td>Female</td>\n",
       "      <td>41</td>\n",
       "      <td>1.0</td>\n",
       "      <td>83807.86</td>\n",
       "      <td>1</td>\n",
       "      <td>0</td>\n",
       "      <td>1</td>\n",
       "      <td>112542.58</td>\n",
       "      <td>0</td>\n",
       "    </tr>\n",
       "    <tr>\n",
       "      <th>2</th>\n",
       "      <td>3</td>\n",
       "      <td>15619304</td>\n",
       "      <td>Onio</td>\n",
       "      <td>502</td>\n",
       "      <td>France</td>\n",
       "      <td>Female</td>\n",
       "      <td>42</td>\n",
       "      <td>8.0</td>\n",
       "      <td>159660.80</td>\n",
       "      <td>3</td>\n",
       "      <td>1</td>\n",
       "      <td>0</td>\n",
       "      <td>113931.57</td>\n",
       "      <td>1</td>\n",
       "    </tr>\n",
       "    <tr>\n",
       "      <th>3</th>\n",
       "      <td>4</td>\n",
       "      <td>15701354</td>\n",
       "      <td>Boni</td>\n",
       "      <td>699</td>\n",
       "      <td>France</td>\n",
       "      <td>Female</td>\n",
       "      <td>39</td>\n",
       "      <td>1.0</td>\n",
       "      <td>0.00</td>\n",
       "      <td>2</td>\n",
       "      <td>0</td>\n",
       "      <td>0</td>\n",
       "      <td>93826.63</td>\n",
       "      <td>0</td>\n",
       "    </tr>\n",
       "    <tr>\n",
       "      <th>4</th>\n",
       "      <td>5</td>\n",
       "      <td>15737888</td>\n",
       "      <td>Mitchell</td>\n",
       "      <td>850</td>\n",
       "      <td>Spain</td>\n",
       "      <td>Female</td>\n",
       "      <td>43</td>\n",
       "      <td>2.0</td>\n",
       "      <td>125510.82</td>\n",
       "      <td>1</td>\n",
       "      <td>1</td>\n",
       "      <td>1</td>\n",
       "      <td>79084.10</td>\n",
       "      <td>0</td>\n",
       "    </tr>\n",
       "  </tbody>\n",
       "</table>\n",
       "</div>"
      ],
      "text/plain": [
       "   RowNumber  CustomerId   Surname  CreditScore Geography  Gender  Age  \\\n",
       "0          1    15634602  Hargrave          619    France  Female   42   \n",
       "1          2    15647311      Hill          608     Spain  Female   41   \n",
       "2          3    15619304      Onio          502    France  Female   42   \n",
       "3          4    15701354      Boni          699    France  Female   39   \n",
       "4          5    15737888  Mitchell          850     Spain  Female   43   \n",
       "\n",
       "   Tenure    Balance  NumOfProducts  HasCrCard  IsActiveMember  \\\n",
       "0     2.0       0.00              1          1               1   \n",
       "1     1.0   83807.86              1          0               1   \n",
       "2     8.0  159660.80              3          1               0   \n",
       "3     1.0       0.00              2          0               0   \n",
       "4     2.0  125510.82              1          1               1   \n",
       "\n",
       "   EstimatedSalary  Exited  \n",
       "0        101348.88       1  \n",
       "1        112542.58       0  \n",
       "2        113931.57       1  \n",
       "3         93826.63       0  \n",
       "4         79084.10       0  "
      ]
     },
     "metadata": {},
     "output_type": "display_data"
    },
    {
     "name": "stdout",
     "output_type": "stream",
     "text": [
      "<class 'pandas.core.frame.DataFrame'>\n",
      "RangeIndex: 10000 entries, 0 to 9999\n",
      "Data columns (total 14 columns):\n",
      " #   Column           Non-Null Count  Dtype  \n",
      "---  ------           --------------  -----  \n",
      " 0   RowNumber        10000 non-null  int64  \n",
      " 1   CustomerId       10000 non-null  int64  \n",
      " 2   Surname          10000 non-null  object \n",
      " 3   CreditScore      10000 non-null  int64  \n",
      " 4   Geography        10000 non-null  object \n",
      " 5   Gender           10000 non-null  object \n",
      " 6   Age              10000 non-null  int64  \n",
      " 7   Tenure           9091 non-null   float64\n",
      " 8   Balance          10000 non-null  float64\n",
      " 9   NumOfProducts    10000 non-null  int64  \n",
      " 10  HasCrCard        10000 non-null  int64  \n",
      " 11  IsActiveMember   10000 non-null  int64  \n",
      " 12  EstimatedSalary  10000 non-null  float64\n",
      " 13  Exited           10000 non-null  int64  \n",
      "dtypes: float64(3), int64(8), object(3)\n",
      "memory usage: 1.1+ MB\n"
     ]
    }
   ],
   "source": [
    "df_raw = pd.read_csv('/datasets/Churn.csv')\n",
    "display(df_raw.head())\n",
    "df_raw.info()"
   ]
  },
  {
   "cell_type": "markdown",
   "metadata": {},
   "source": [
    "В датасете 10000 строк, есть пропуски в столбце \"Tenure\", удалим их. Помимо фамилии есть два нечисленных признака - географическое положение и пол. Порядки величин в столбцах отличаются - возраст, например, это несколько десятков, а примерная зарплата - десятки и сотни тысяч."
   ]
  },
  {
   "cell_type": "code",
   "execution_count": 9,
   "metadata": {},
   "outputs": [],
   "source": [
    "df_raw = df_raw.dropna()"
   ]
  },
  {
   "cell_type": "markdown",
   "metadata": {},
   "source": [
    "Разделим таблицу на признаки и цель. Разделим данные на обучающую, валидационную и тестовую выборки и отмасшабируем численные признаки."
   ]
  },
  {
   "cell_type": "code",
   "execution_count": 17,
   "metadata": {},
   "outputs": [
    {
     "data": {
      "text/html": [
       "<div>\n",
       "<style scoped>\n",
       "    .dataframe tbody tr th:only-of-type {\n",
       "        vertical-align: middle;\n",
       "    }\n",
       "\n",
       "    .dataframe tbody tr th {\n",
       "        vertical-align: top;\n",
       "    }\n",
       "\n",
       "    .dataframe thead th {\n",
       "        text-align: right;\n",
       "    }\n",
       "</style>\n",
       "<table border=\"1\" class=\"dataframe\">\n",
       "  <thead>\n",
       "    <tr style=\"text-align: right;\">\n",
       "      <th></th>\n",
       "      <th>Geography</th>\n",
       "      <th>Gender</th>\n",
       "    </tr>\n",
       "  </thead>\n",
       "  <tbody>\n",
       "    <tr>\n",
       "      <th>0</th>\n",
       "      <td>0.0</td>\n",
       "      <td>0.0</td>\n",
       "    </tr>\n",
       "    <tr>\n",
       "      <th>1</th>\n",
       "      <td>2.0</td>\n",
       "      <td>0.0</td>\n",
       "    </tr>\n",
       "    <tr>\n",
       "      <th>2</th>\n",
       "      <td>0.0</td>\n",
       "      <td>0.0</td>\n",
       "    </tr>\n",
       "    <tr>\n",
       "      <th>3</th>\n",
       "      <td>0.0</td>\n",
       "      <td>0.0</td>\n",
       "    </tr>\n",
       "    <tr>\n",
       "      <th>4</th>\n",
       "      <td>2.0</td>\n",
       "      <td>0.0</td>\n",
       "    </tr>\n",
       "    <tr>\n",
       "      <th>...</th>\n",
       "      <td>...</td>\n",
       "      <td>...</td>\n",
       "    </tr>\n",
       "    <tr>\n",
       "      <th>9086</th>\n",
       "      <td>0.0</td>\n",
       "      <td>0.0</td>\n",
       "    </tr>\n",
       "    <tr>\n",
       "      <th>9087</th>\n",
       "      <td>0.0</td>\n",
       "      <td>1.0</td>\n",
       "    </tr>\n",
       "    <tr>\n",
       "      <th>9088</th>\n",
       "      <td>0.0</td>\n",
       "      <td>1.0</td>\n",
       "    </tr>\n",
       "    <tr>\n",
       "      <th>9089</th>\n",
       "      <td>0.0</td>\n",
       "      <td>0.0</td>\n",
       "    </tr>\n",
       "    <tr>\n",
       "      <th>9090</th>\n",
       "      <td>1.0</td>\n",
       "      <td>1.0</td>\n",
       "    </tr>\n",
       "  </tbody>\n",
       "</table>\n",
       "<p>9091 rows × 2 columns</p>\n",
       "</div>"
      ],
      "text/plain": [
       "      Geography  Gender\n",
       "0           0.0     0.0\n",
       "1           2.0     0.0\n",
       "2           0.0     0.0\n",
       "3           0.0     0.0\n",
       "4           2.0     0.0\n",
       "...         ...     ...\n",
       "9086        0.0     0.0\n",
       "9087        0.0     1.0\n",
       "9088        0.0     1.0\n",
       "9089        0.0     0.0\n",
       "9090        1.0     1.0\n",
       "\n",
       "[9091 rows x 2 columns]"
      ]
     },
     "execution_count": 17,
     "metadata": {},
     "output_type": "execute_result"
    }
   ],
   "source": [
    "encoder = OrdinalEncoder() \n",
    "data_ordinal = pd.DataFrame(encoder.fit_transform(df_raw[['Geography', 'Gender']]), \n",
    "                                                      columns=df_raw[['Geography', 'Gender']].columns) \n",
    "data_ordinal"
   ]
  },
  {
   "cell_type": "code",
   "execution_count": 22,
   "metadata": {
    "scrolled": false
   },
   "outputs": [],
   "source": [
    "features = df_raw.drop(['Surname', 'Exited'], axis=1)\n",
    "target = df_raw['Exited']\n",
    "\n",
    "#сначала разбиение на выборки\n",
    "features_not_test, features_test, target_not_test, target_test = train_test_split(\n",
    "    features, target, test_size=0.2, random_state=12345, stratify=target) #отделяем тестовую\n",
    "features_train, features_valid, target_train, target_valid = train_test_split(\n",
    "    features_not_test, target_not_test, test_size=0.25, random_state=12345, stratify=target_not_test) #отделяем валидационную\n",
    "\n",
    "numeric = ['RowNumber', 'CustomerId', 'CreditScore', 'Age',\n",
    "       'Tenure', 'Balance', 'NumOfProducts', 'HasCrCard', 'IsActiveMember',\n",
    "       'EstimatedSalary']\n",
    "#масштабирование численных\n",
    "scaler = StandardScaler()\n",
    "scaler.fit(features_train[numeric])\n",
    "features_train_num = pd.DataFrame(scaler.transform(features_train[numeric]), columns=features_train[numeric].columns)\n",
    "features_valid_num = pd.DataFrame(scaler.transform(features_valid[numeric]), columns=features_valid[numeric].columns)\n",
    "features_test_num = pd.DataFrame(scaler.transform(features_test[numeric]), columns=features_test[numeric].columns)"
   ]
  },
  {
   "cell_type": "markdown",
   "metadata": {},
   "source": [
    "Посмотрим, сколько уникальных значений есть в столбцах 'Geography' и 'Gender', чтобы определиться с видом кодирования."
   ]
  },
  {
   "cell_type": "code",
   "execution_count": 23,
   "metadata": {
    "scrolled": true
   },
   "outputs": [
    {
     "name": "stdout",
     "output_type": "stream",
     "text": [
      "['France' 'Spain' 'Germany']\n",
      "['Female' 'Male']\n"
     ]
    }
   ],
   "source": [
    "print(df_raw['Geography'].unique())\n",
    "print(df_raw['Gender'].unique())"
   ]
  },
  {
   "cell_type": "markdown",
   "metadata": {},
   "source": [
    "Закодируем эти признаки с помощью OHE."
   ]
  },
  {
   "cell_type": "code",
   "execution_count": 24,
   "metadata": {
    "scrolled": true
   },
   "outputs": [
    {
     "data": {
      "text/html": [
       "<div>\n",
       "<style scoped>\n",
       "    .dataframe tbody tr th:only-of-type {\n",
       "        vertical-align: middle;\n",
       "    }\n",
       "\n",
       "    .dataframe tbody tr th {\n",
       "        vertical-align: top;\n",
       "    }\n",
       "\n",
       "    .dataframe thead th {\n",
       "        text-align: right;\n",
       "    }\n",
       "</style>\n",
       "<table border=\"1\" class=\"dataframe\">\n",
       "  <thead>\n",
       "    <tr style=\"text-align: right;\">\n",
       "      <th></th>\n",
       "      <th>onehotencoder__x0_Germany</th>\n",
       "      <th>onehotencoder__x0_Spain</th>\n",
       "      <th>onehotencoder__x1_Male</th>\n",
       "    </tr>\n",
       "  </thead>\n",
       "  <tbody>\n",
       "    <tr>\n",
       "      <th>0</th>\n",
       "      <td>1.0</td>\n",
       "      <td>0.0</td>\n",
       "      <td>1.0</td>\n",
       "    </tr>\n",
       "    <tr>\n",
       "      <th>1</th>\n",
       "      <td>0.0</td>\n",
       "      <td>0.0</td>\n",
       "      <td>1.0</td>\n",
       "    </tr>\n",
       "    <tr>\n",
       "      <th>2</th>\n",
       "      <td>1.0</td>\n",
       "      <td>0.0</td>\n",
       "      <td>0.0</td>\n",
       "    </tr>\n",
       "    <tr>\n",
       "      <th>3</th>\n",
       "      <td>0.0</td>\n",
       "      <td>0.0</td>\n",
       "      <td>1.0</td>\n",
       "    </tr>\n",
       "    <tr>\n",
       "      <th>4</th>\n",
       "      <td>1.0</td>\n",
       "      <td>0.0</td>\n",
       "      <td>1.0</td>\n",
       "    </tr>\n",
       "  </tbody>\n",
       "</table>\n",
       "</div>"
      ],
      "text/plain": [
       "   onehotencoder__x0_Germany  onehotencoder__x0_Spain  onehotencoder__x1_Male\n",
       "0                        1.0                      0.0                     1.0\n",
       "1                        0.0                      0.0                     1.0\n",
       "2                        1.0                      0.0                     0.0\n",
       "3                        0.0                      0.0                     1.0\n",
       "4                        1.0                      0.0                     1.0"
      ]
     },
     "metadata": {},
     "output_type": "display_data"
    }
   ],
   "source": [
    "#кодирование категориальных\n",
    "encoder = OrdinalEncoder() \n",
    "\n",
    "features_train_cat = features_train[['Geography', 'Gender']]\n",
    "features_valid_cat = features_valid[['Geography', 'Gender']]\n",
    "features_test_cat = features_test[['Geography', 'Gender']]\n",
    "\n",
    "transformer = make_column_transformer((OneHotEncoder(drop='first'), ['Geography', 'Gender']), remainder='passthrough')\n",
    "\n",
    "transformed = transformer.fit_transform(features_train_cat)\n",
    "features_train_cat = pd.DataFrame(transformed, columns=transformer.get_feature_names())\n",
    "\n",
    "transformed = transformer.transform(features_valid_cat)\n",
    "features_valid_cat = pd.DataFrame(transformed, columns=transformer.get_feature_names())\n",
    "\n",
    "transformed = transformer.transform(features_test_cat)\n",
    "features_test_cat = pd.DataFrame(transformed, columns=transformer.get_feature_names())\n",
    "\n",
    "display(features_test_cat.head())"
   ]
  },
  {
   "cell_type": "markdown",
   "metadata": {},
   "source": [
    "Объединим обработанные численные и закодированные категориальные признаки."
   ]
  },
  {
   "cell_type": "code",
   "execution_count": 25,
   "metadata": {},
   "outputs": [
    {
     "data": {
      "text/plain": [
       "(5454, 13)"
      ]
     },
     "metadata": {},
     "output_type": "display_data"
    },
    {
     "data": {
      "text/plain": [
       "(1818, 13)"
      ]
     },
     "metadata": {},
     "output_type": "display_data"
    },
    {
     "data": {
      "text/plain": [
       "(1819, 13)"
      ]
     },
     "metadata": {},
     "output_type": "display_data"
    },
    {
     "data": {
      "text/plain": [
       "(5454,)"
      ]
     },
     "metadata": {},
     "output_type": "display_data"
    },
    {
     "data": {
      "text/plain": [
       "(1818,)"
      ]
     },
     "metadata": {},
     "output_type": "display_data"
    },
    {
     "data": {
      "text/plain": [
       "(1819,)"
      ]
     },
     "metadata": {},
     "output_type": "display_data"
    }
   ],
   "source": [
    "features_train = pd.DataFrame.join(features_train_num, features_train_cat)\n",
    "features_valid = pd.DataFrame.join(features_valid_num, features_valid_cat)\n",
    "features_test = pd.DataFrame.join(features_test_num, features_test_cat)\n",
    "\n",
    "display(features_train.shape)\n",
    "display(features_valid.shape)\n",
    "display(features_test.shape)\n",
    "display(target_train.shape)\n",
    "display(target_valid.shape)\n",
    "display(target_test.shape)"
   ]
  },
  {
   "cell_type": "markdown",
   "metadata": {},
   "source": [
    "**Вывод по предобработке: пропуски удалены, нечисленные признаки были закодированы с помощью OHE, численные признаки были отмасштабированы. Данные разделены на обучающую, валидационную и тестовую выборки.**"
   ]
  },
  {
   "cell_type": "markdown",
   "metadata": {},
   "source": [
    "## Исследование задачи"
   ]
  },
  {
   "cell_type": "markdown",
   "metadata": {},
   "source": [
    "Стоящая перед нами задача - задача классификации, поэтому рассмотрим две модели, способные такие задачи решать: логистическую регрессию и случайный лес, то есть одну параметрическую и одну непараметрическую. Посмотрим на баланс классов."
   ]
  },
  {
   "cell_type": "code",
   "execution_count": 26,
   "metadata": {},
   "outputs": [
    {
     "data": {
      "text/plain": [
       "0    0.796062\n",
       "1    0.203938\n",
       "Name: Exited, dtype: float64"
      ]
     },
     "execution_count": 26,
     "metadata": {},
     "output_type": "execute_result"
    }
   ],
   "source": [
    "target.value_counts(normalize=True)"
   ]
  },
  {
   "cell_type": "markdown",
   "metadata": {},
   "source": [
    "Подберем параметры, обучим модели без учета дисбаланса классов, посмотрим, что получится. Оценивать успешность моделей будем F1-мерой на валидационной выборке. Сначала регрессия."
   ]
  },
  {
   "cell_type": "code",
   "execution_count": 27,
   "metadata": {},
   "outputs": [
    {
     "name": "stdout",
     "output_type": "stream",
     "text": [
      "F1-мера модели LR: 0.287\n",
      "AUC-ROC модели LR: 0.757\n",
      "C, solver лучшей модели LR: 0.1 liblinear\n",
      "CPU times: user 4.05 s, sys: 10.6 s, total: 14.7 s\n",
      "Wall time: 14.8 s\n"
     ]
    }
   ],
   "source": [
    "%%time\n",
    "best_model_LR = None\n",
    "best_f1_LR = 0\n",
    "best_roc_auc_LR = 0\n",
    "\n",
    "for solver_name in ['newton-cg', 'lbfgs', 'liblinear', 'sag', 'saga']:\n",
    "    for C in [0.001, 0.01, 0.1, 1, 10]:\n",
    "        \n",
    "        model_LR = LogisticRegression(C=C, random_state=12345, solver=solver_name, max_iter=1000)\n",
    "        model_LR.fit(features_train, target_train)\n",
    "        predictions = model_LR.predict(features_valid)\n",
    "        probabilities = model_LR.predict_proba(features_valid)\n",
    "        probabilities_one_valid = probabilities[:, 1]\n",
    "        f1 = f1_score(target_valid, predictions)\n",
    "        roc_auc = roc_auc_score(target_valid, probabilities_one_valid)\n",
    "        if f1>best_f1_LR:\n",
    "            best_f1_LR = f1\n",
    "            best_roc_auc_LR = roc_auc\n",
    "            best_model_LR = model_LR\n",
    "            best_C, best_solver = C, solver_name\n",
    "\n",
    "print('F1-мера модели LR:', round(best_f1_LR, 3))\n",
    "print('AUC-ROC модели LR:', round(best_roc_auc_LR, 3))\n",
    "print('C, solver лучшей модели LR:', best_C, best_solver)"
   ]
  },
  {
   "cell_type": "markdown",
   "metadata": {},
   "source": [
    "Результат по f1-мере неудовлетворительный, попробуем случайный лес."
   ]
  },
  {
   "cell_type": "code",
   "execution_count": 28,
   "metadata": {
    "scrolled": true
   },
   "outputs": [
    {
     "name": "stdout",
     "output_type": "stream",
     "text": [
      "F1-мера лучшей модели RF: 0.582\n",
      "AUC-ROC модели RF: 0.84\n",
      "n_estimators лучшей модели RF: 40\n",
      "min_samples_leaf лучшей модели RF: 1\n",
      "depth лучшей модели RF: 21\n",
      "CPU times: user 3min 11s, sys: 549 ms, total: 3min 11s\n",
      "Wall time: 3min 13s\n"
     ]
    }
   ],
   "source": [
    "%%time\n",
    "best_model_RF = None\n",
    "best_f1_RF = 0\n",
    "best_roc_auc_RF = 0\n",
    "\n",
    "for estimators in chain(range(1,11,2), range(20, 101, 10)):\n",
    "    for leaf in range (1,8):    \n",
    "        for depth in range(1,31,5):\n",
    "            \n",
    "            model_RF = RandomForestClassifier(random_state=12345, n_estimators=estimators, \n",
    "                                              min_samples_leaf = leaf, max_depth = depth) \n",
    "            model_RF.fit(features_train, target_train)\n",
    "            predictions = model_RF.predict(features_valid)\n",
    "            probabilities = model_RF.predict_proba(features_valid)\n",
    "            probabilities_one_valid = probabilities[:, 1]\n",
    "            f1 = f1_score(target_valid, predictions)\n",
    "            roc_auc = roc_auc_score(target_valid, probabilities_one_valid)\n",
    "            if f1 > best_f1_RF:\n",
    "                best_model_RF = model_RF\n",
    "                best_f1_RF = f1\n",
    "                best_roc_auc_RF = roc_auc\n",
    "                best_estimators = estimators\n",
    "                best_leaf = leaf\n",
    "                best_depth = depth\n",
    "\n",
    "print(\"F1-мера лучшей модели RF:\", round(best_f1_RF, 3))\n",
    "print('AUC-ROC модели RF:', round(best_roc_auc_RF, 3))\n",
    "print(\"n_estimators лучшей модели RF:\", best_estimators)\n",
    "print(\"min_samples_leaf лучшей модели RF:\", best_leaf)\n",
    "print(\"depth лучшей модели RF:\", best_depth)"
   ]
  },
  {
   "cell_type": "markdown",
   "metadata": {},
   "source": [
    "Тут результат хоть стал лучше, но все еще немного не дотягивает до требований. Разберемся с дисбалансом и попробуем обучить модели еще раз."
   ]
  },
  {
   "cell_type": "markdown",
   "metadata": {},
   "source": [
    "## Борьба с дисбалансом"
   ]
  },
  {
   "cell_type": "markdown",
   "metadata": {},
   "source": [
    "### Взвешивание классов"
   ]
  },
  {
   "cell_type": "markdown",
   "metadata": {},
   "source": [
    "Для начала применим самый простой метод борьбы с дисбалансом классов - параметр class_weight='balanced' в обеих моделях."
   ]
  },
  {
   "cell_type": "code",
   "execution_count": 29,
   "metadata": {},
   "outputs": [
    {
     "name": "stdout",
     "output_type": "stream",
     "text": [
      "F1-мера модели LR: 0.489\n",
      "AUC-ROC модели LR: 0.76\n",
      "C, solver лучшей модели LR: 0.1 liblinear\n",
      "CPU times: user 4.43 s, sys: 9.08 s, total: 13.5 s\n",
      "Wall time: 13.5 s\n"
     ]
    }
   ],
   "source": [
    "%%time\n",
    "best_model_LR = None\n",
    "best_f1_LR = 0\n",
    "best_roc_auc_LR = 0\n",
    "\n",
    "for solver_name in ['newton-cg', 'lbfgs', 'liblinear', 'sag', 'saga']:\n",
    "    for C in [0.001, 0.01, 0.1, 1, 10]:\n",
    "        \n",
    "        model_LR = LogisticRegression(C=C, random_state=12345, solver=solver_name, max_iter=1000, class_weight='balanced')\n",
    "        model_LR.fit(features_train, target_train)\n",
    "        predictions = model_LR.predict(features_valid)\n",
    "        probabilities = model_LR.predict_proba(features_valid)\n",
    "        probabilities_one_valid = probabilities[:, 1]\n",
    "        f1 = f1_score(target_valid, predictions)\n",
    "        roc_auc = roc_auc_score(target_valid, probabilities_one_valid)\n",
    "        if f1>best_f1_LR:\n",
    "            best_f1_LR = f1\n",
    "            best_roc_auc_LR = roc_auc\n",
    "            best_model_LR = model_LR\n",
    "            best_C, best_solver = C, solver_name\n",
    "\n",
    "print(\"F1-мера модели LR:\", round(best_f1_LR, 3))\n",
    "print('AUC-ROC модели LR:', round(best_roc_auc_LR, 3))\n",
    "print('C, solver лучшей модели LR:', best_C, best_solver)"
   ]
  },
  {
   "cell_type": "code",
   "execution_count": 30,
   "metadata": {},
   "outputs": [
    {
     "name": "stdout",
     "output_type": "stream",
     "text": [
      "F1-мера лучшей модели RF: 0.6237\n",
      "AUC-ROC модели RF: 0.8611\n",
      "n_estimators лучшей модели RF: 50\n",
      "min_samples_leaf лучшей модели RF: 7\n",
      "depth лучшей модели RF: 11\n",
      "CPU times: user 5min 2s, sys: 1.18 s, total: 5min 3s\n",
      "Wall time: 5min 7s\n"
     ]
    }
   ],
   "source": [
    "%%time\n",
    "best_model_RF = None\n",
    "best_f1_RF = 0\n",
    "best_roc_auc_RF = 0\n",
    "\n",
    "for estimators in chain(range(1,17,3), range(20, 101, 10)):\n",
    "    for leaf in range (1,10):    \n",
    "        for depth in range(1,32,5):\n",
    "            \n",
    "            model_RF = RandomForestClassifier(random_state=12345, n_estimators=estimators,\n",
    "                                              min_samples_leaf = leaf, max_depth = depth, class_weight='balanced') \n",
    "            model_RF.fit(features_train, target_train)\n",
    "            predictions = model_RF.predict(features_valid)\n",
    "            probabilities = model_RF.predict_proba(features_valid)\n",
    "            probabilities_one_valid = probabilities[:, 1]\n",
    "            f1 = f1_score(target_valid, predictions)\n",
    "            roc_auc = roc_auc_score(target_valid, probabilities_one_valid)\n",
    "            if f1 > best_f1_RF:\n",
    "                best_model_RF = model_RF\n",
    "                best_f1_RF = f1\n",
    "                best_roc_auc_RF = roc_auc\n",
    "                best_estimators = estimators\n",
    "                best_leaf = leaf\n",
    "                best_depth = depth\n",
    "\n",
    "print(\"F1-мера лучшей модели RF:\", round(best_f1_RF, 4))\n",
    "print('AUC-ROC модели RF:', round(best_roc_auc_RF, 4))\n",
    "print(\"n_estimators лучшей модели RF:\", best_estimators)\n",
    "print(\"min_samples_leaf лучшей модели RF:\", best_leaf)\n",
    "print(\"depth лучшей модели RF:\", best_depth)"
   ]
  },
  {
   "cell_type": "markdown",
   "metadata": {},
   "source": [
    "Обе модели показывают повышение метрик, у случайного леса f1-мера даже перешла требуемый порог. Посмотрим, как повлияет на результат другой способ борьбы с дисбалансом - увеличение выборки."
   ]
  },
  {
   "cell_type": "markdown",
   "metadata": {},
   "source": [
    "### Увеличение выборки"
   ]
  },
  {
   "cell_type": "code",
   "execution_count": 31,
   "metadata": {},
   "outputs": [],
   "source": [
    "def upsample(features, target, repeat):\n",
    "    features_zeros = features[np.array(target == 0)]\n",
    "    features_ones = features[np.array(target == 1)]\n",
    "    target_zeros = target[np.array(target == 0)]\n",
    "    target_ones = target[np.array(target == 1)]\n",
    "\n",
    "    features_upsampled = pd.concat([features_zeros] + [features_ones] * repeat)\n",
    "    target_upsampled = pd.concat([target_zeros] + [target_ones] * repeat)\n",
    "\n",
    "    features_upsampled, target_upsampled = shuffle(\n",
    "        features_upsampled, target_upsampled, random_state=12345)\n",
    "    \n",
    "    return features_upsampled, target_upsampled\n",
    "\n",
    "features_upsampled, target_upsampled = upsample(features_train, target_train, 4)\n"
   ]
  },
  {
   "cell_type": "code",
   "execution_count": 32,
   "metadata": {},
   "outputs": [
    {
     "name": "stdout",
     "output_type": "stream",
     "text": [
      "F1-мера модели LR: 0.488\n",
      "AUC-ROC модели LR: 0.76\n",
      "C, solver лучшей модели LR: 0.1 newton-cg\n",
      "CPU times: user 3.84 s, sys: 7.48 s, total: 11.3 s\n",
      "Wall time: 11.3 s\n"
     ]
    }
   ],
   "source": [
    "%%time\n",
    "best_model_LR = None\n",
    "best_f1_LR = 0\n",
    "best_roc_auc_LR = 0\n",
    "\n",
    "for solver_name in ['newton-cg', 'lbfgs', 'liblinear', 'sag', 'saga']:\n",
    "    for C in [0.001, 0.01, 0.1, 1, 10]:\n",
    "        \n",
    "        model_LR = LogisticRegression(C=C, random_state=12345, solver=solver_name, max_iter=1000)\n",
    "        model_LR.fit(features_upsampled, target_upsampled)\n",
    "        predictions = model_LR.predict(features_valid)\n",
    "        probabilities = model_LR.predict_proba(features_valid)\n",
    "        probabilities_one_valid = probabilities[:, 1]\n",
    "        f1 = f1_score(target_valid, predictions)\n",
    "        roc_auc = roc_auc_score(target_valid, probabilities_one_valid)\n",
    "        if f1>best_f1_LR:\n",
    "            best_f1_LR = f1\n",
    "            best_roc_auc_LR = roc_auc\n",
    "            best_model_LR = model_LR\n",
    "            best_C, best_solver = C, solver_name\n",
    "\n",
    "print(\"F1-мера модели LR:\", round(best_f1_LR, 3))\n",
    "print('AUC-ROC модели LR:', round(best_roc_auc_LR, 3))\n",
    "print('C, solver лучшей модели LR:', best_C, best_solver)"
   ]
  },
  {
   "cell_type": "markdown",
   "metadata": {},
   "source": [
    "У логистической регрессии f1-мера стала немного ниже в третьем знаке после запятой, а AUC-ROC не изменилась."
   ]
  },
  {
   "cell_type": "code",
   "execution_count": 33,
   "metadata": {
    "scrolled": true
   },
   "outputs": [
    {
     "name": "stdout",
     "output_type": "stream",
     "text": [
      "F1-мера лучшей модели RF: 0.6209\n",
      "AUC-ROC модели RF: 0.8641\n",
      "n_estimators лучшей модели RF: 80\n",
      "min_samples_leaf лучшей модели RF: 5\n",
      "depth лучшей модели RF: 26\n",
      "CPU times: user 6min 56s, sys: 1.3 s, total: 6min 57s\n",
      "Wall time: 7min 3s\n"
     ]
    }
   ],
   "source": [
    "%%time\n",
    "best_model_RF = None\n",
    "best_result_RF = 0\n",
    "best_f1_RF = 0\n",
    "best_roc_auc_RF = 0\n",
    "\n",
    "for estimators in chain(range(1,17,3), range(20, 101, 10)):\n",
    "    for leaf in range (1,10):    \n",
    "        for depth in range(1,32,5):\n",
    "            \n",
    "            model_RF = RandomForestClassifier(random_state=12345, n_estimators=estimators, \n",
    "                                              min_samples_leaf = leaf, max_depth = depth) \n",
    "            model_RF.fit(features_upsampled, target_upsampled)\n",
    "            predictions = model_RF.predict(features_valid)\n",
    "            probabilities = model_RF.predict_proba(features_valid)\n",
    "            probabilities_one_valid = probabilities[:, 1]\n",
    "            f1 = f1_score(target_valid, predictions)\n",
    "            roc_auc = roc_auc_score(target_valid, probabilities_one_valid)\n",
    "            if f1 > best_f1_RF:\n",
    "                best_model_RF = model_RF\n",
    "                best_f1_RF = f1\n",
    "                best_roc_auc_RF = roc_auc\n",
    "                best_estimators = estimators\n",
    "                best_leaf = leaf\n",
    "                best_depth = depth\n",
    "\n",
    "print(\"F1-мера лучшей модели RF:\", round(best_f1_RF, 4))\n",
    "print('AUC-ROC модели RF:', round(best_roc_auc_RF, 4))\n",
    "print(\"n_estimators лучшей модели RF:\", best_estimators)\n",
    "print(\"min_samples_leaf лучшей модели RF:\", best_leaf)\n",
    "print(\"depth лучшей модели RF:\", best_depth)"
   ]
  },
  {
   "cell_type": "markdown",
   "metadata": {},
   "source": [
    "У случайного леса f1-мера немного понизилась, AOC-ROC немного повысилась по сравнению со взвешиванием классов. Итого лучшая модель по критерию f1-меры - случайный лес со взвешиванием классов.."
   ]
  },
  {
   "cell_type": "markdown",
   "metadata": {},
   "source": [
    "## Тестирование модели"
   ]
  },
  {
   "cell_type": "code",
   "execution_count": 34,
   "metadata": {},
   "outputs": [
    {
     "name": "stdout",
     "output_type": "stream",
     "text": [
      "F1-мера лучшей модели: 0.618\n",
      "AUC-ROC модели RF: 0.855\n"
     ]
    }
   ],
   "source": [
    "best_model = RandomForestClassifier(random_state=12345, n_estimators=50, \n",
    "                                              min_samples_leaf = 7, max_depth = 11, class_weight='balanced') \n",
    "best_model.fit(features_train, target_train)\n",
    "predictions = best_model.predict(features_test)\n",
    "probabilities = best_model.predict_proba(features_test)\n",
    "probabilities_one_test = probabilities[:, 1]\n",
    "f1 = f1_score(target_test, predictions)\n",
    "roc_auc = roc_auc_score(target_test, probabilities_one_test)\n",
    "print('F1-мера лучшей модели:', round(f1,3))\n",
    "\n",
    "print('AUC-ROC модели RF:', round(roc_auc,3))"
   ]
  },
  {
   "cell_type": "markdown",
   "metadata": {},
   "source": [
    "Построим ROC кривую для выбранной модели."
   ]
  },
  {
   "cell_type": "code",
   "execution_count": 35,
   "metadata": {},
   "outputs": [
    {
     "data": {
      "image/png": "[encoded data removed]",
      "text/plain": [
       "<Figure size 432x288 with 1 Axes>"
      ]
     },
     "metadata": {
      "needs_background": "light"
     },
     "output_type": "display_data"
    }
   ],
   "source": [
    "fpr, tpr, thresholds = roc_curve(target_test, probabilities_one_test)\n",
    "\n",
    "plt.figure()\n",
    "plt.plot(fpr, tpr)\n",
    "plt.xlim(0,1)\n",
    "plt.ylim(0,1)\n",
    "plt.xlabel('False Positive Rate')\n",
    "plt.ylabel('True Positive Rate')\n",
    "plt.title(\"ROC-кривая лучшей модели\")\n",
    "\n",
    "plt.show()"
   ]
  },
  {
   "cell_type": "markdown",
   "metadata": {},
   "source": [
    "## Вывод"
   ]
  },
  {
   "cell_type": "markdown",
   "metadata": {},
   "source": [
    "**В проекте были рассмотрены данные - 10000 строк о клиентах банка и расторжениях договоров с этим банком. Задачей было предсказать, уйдет клиент в ближайшее время или нет. Для этого данные были подготовлены (пропуски удалены, нечисловые признаки закодированы, все признаки отмасштабированы), разделены на 3 выборки - обучающую, валидационную и тестовую, и на этих выборках были протестированы 2 модели - случайный лес и логистическая регрессия. Критерием оценки эффективности модели была f1-мера. Значение метрики оказалось недостаточным (порог в задании 0.59), поэтому был обработан дисбаланс классов, после чего модель случайного леса достигла значения f1-меры в 0.618. Дополнительно у моделей измерялась AUC-ROC, ее значение для выбранной модели на тестовой выборке 0.855.** "
   ]
  }
 ],
 "metadata": {
  "ExecuteTimeLog": [
   {
    "duration": 47,
    "start_time": "2023-05-12T08:23:40.545Z"
   },
   {
    "duration": 1258,
    "start_time": "2023-05-12T08:23:42.631Z"
   },
   {
    "duration": 202,
    "start_time": "2023-05-12T08:23:46.582Z"
   },
   {
    "duration": 65,
    "start_time": "2023-05-12T08:26:41.256Z"
   },
   {
    "duration": 62,
    "start_time": "2023-05-12T08:26:46.197Z"
   },
   {
    "duration": 9,
    "start_time": "2023-05-12T08:35:12.547Z"
   },
   {
    "duration": 6,
    "start_time": "2023-05-12T08:35:32.560Z"
   },
   {
    "duration": 6,
    "start_time": "2023-05-12T08:35:44.234Z"
   },
   {
    "duration": 5,
    "start_time": "2023-05-12T08:43:26.215Z"
   },
   {
    "duration": 243,
    "start_time": "2023-05-12T08:44:25.426Z"
   },
   {
    "duration": 10,
    "start_time": "2023-05-12T08:46:19.274Z"
   },
   {
    "duration": 10,
    "start_time": "2023-05-12T08:46:44.465Z"
   },
   {
    "duration": 11,
    "start_time": "2023-05-12T08:46:55.209Z"
   },
   {
    "duration": 60,
    "start_time": "2023-05-12T08:48:24.689Z"
   },
   {
    "duration": 5,
    "start_time": "2023-05-12T08:48:38.064Z"
   },
   {
    "duration": 6,
    "start_time": "2023-05-12T08:48:38.872Z"
   },
   {
    "duration": 64,
    "start_time": "2023-05-12T08:50:33.175Z"
   },
   {
    "duration": 13,
    "start_time": "2023-05-12T08:50:43.695Z"
   },
   {
    "duration": 25,
    "start_time": "2023-05-12T08:50:52.303Z"
   },
   {
    "duration": 14,
    "start_time": "2023-05-12T08:51:09.607Z"
   },
   {
    "duration": 150,
    "start_time": "2023-05-12T08:53:13.118Z"
   },
   {
    "duration": 71,
    "start_time": "2023-05-12T08:53:19.917Z"
   },
   {
    "duration": 15,
    "start_time": "2023-05-12T08:53:23.462Z"
   },
   {
    "duration": 4,
    "start_time": "2023-05-12T08:54:20.502Z"
   },
   {
    "duration": 17,
    "start_time": "2023-05-12T08:54:24.708Z"
   },
   {
    "duration": 14,
    "start_time": "2023-05-12T08:55:12.020Z"
   },
   {
    "duration": 13,
    "start_time": "2023-05-12T08:56:28.964Z"
   },
   {
    "duration": 34,
    "start_time": "2023-05-12T08:56:58.947Z"
   },
   {
    "duration": 17,
    "start_time": "2023-05-12T08:57:35.115Z"
   },
   {
    "duration": 19,
    "start_time": "2023-05-12T08:57:40.859Z"
   },
   {
    "duration": 30,
    "start_time": "2023-05-12T08:57:42.715Z"
   },
   {
    "duration": 20,
    "start_time": "2023-05-12T08:57:50.979Z"
   },
   {
    "duration": 19,
    "start_time": "2023-05-12T08:58:40.916Z"
   },
   {
    "duration": 18,
    "start_time": "2023-05-12T08:59:08.267Z"
   },
   {
    "duration": 20,
    "start_time": "2023-05-12T08:59:15.058Z"
   },
   {
    "duration": 22,
    "start_time": "2023-05-12T09:01:14.211Z"
   },
   {
    "duration": 30,
    "start_time": "2023-05-12T09:02:27.276Z"
   },
   {
    "duration": 31,
    "start_time": "2023-05-12T09:04:12.216Z"
   },
   {
    "duration": 20,
    "start_time": "2023-05-12T09:06:29.214Z"
   },
   {
    "duration": 25,
    "start_time": "2023-05-12T09:10:18.172Z"
   },
   {
    "duration": 20,
    "start_time": "2023-05-12T09:10:23.542Z"
   },
   {
    "duration": 13,
    "start_time": "2023-05-12T09:15:42.217Z"
   },
   {
    "duration": 111,
    "start_time": "2023-05-12T09:16:20.639Z"
   },
   {
    "duration": 7,
    "start_time": "2023-05-12T09:16:27.600Z"
   },
   {
    "duration": 7,
    "start_time": "2023-05-12T09:16:58.216Z"
   },
   {
    "duration": 24,
    "start_time": "2023-05-12T09:17:04.744Z"
   },
   {
    "duration": 3,
    "start_time": "2023-05-12T09:17:11.688Z"
   },
   {
    "duration": 4,
    "start_time": "2023-05-12T09:17:32.546Z"
   },
   {
    "duration": 103,
    "start_time": "2023-05-12T09:17:32.553Z"
   },
   {
    "duration": 3,
    "start_time": "2023-05-12T09:17:32.659Z"
   },
   {
    "duration": 42,
    "start_time": "2023-05-12T09:17:32.665Z"
   },
   {
    "duration": 55,
    "start_time": "2023-05-12T09:17:32.709Z"
   },
   {
    "duration": 54,
    "start_time": "2023-05-12T15:10:00.294Z"
   },
   {
    "duration": 1477,
    "start_time": "2023-05-12T15:10:05.587Z"
   },
   {
    "duration": 258,
    "start_time": "2023-05-12T15:10:07.066Z"
   },
   {
    "duration": 3,
    "start_time": "2023-05-12T15:10:07.326Z"
   },
   {
    "duration": 35,
    "start_time": "2023-05-12T15:10:07.331Z"
   },
   {
    "duration": 65,
    "start_time": "2023-05-12T15:10:07.368Z"
   },
   {
    "duration": 99,
    "start_time": "2023-05-12T15:10:14.894Z"
   },
   {
    "duration": 17,
    "start_time": "2023-05-12T15:10:59.829Z"
   },
   {
    "duration": 26,
    "start_time": "2023-05-12T15:11:10.037Z"
   },
   {
    "duration": 21,
    "start_time": "2023-05-12T15:11:19.397Z"
   },
   {
    "duration": 20,
    "start_time": "2023-05-12T15:12:13.102Z"
   },
   {
    "duration": 33,
    "start_time": "2023-05-12T15:12:17.217Z"
   },
   {
    "duration": 33,
    "start_time": "2023-05-12T15:12:28.405Z"
   },
   {
    "duration": 60,
    "start_time": "2023-05-12T15:14:36.893Z"
   },
   {
    "duration": 25,
    "start_time": "2023-05-12T15:14:49.192Z"
   },
   {
    "duration": 112,
    "start_time": "2023-05-12T15:15:44.059Z"
   },
   {
    "duration": 45,
    "start_time": "2023-05-12T15:15:52.747Z"
   },
   {
    "duration": 18,
    "start_time": "2023-05-12T15:16:02.721Z"
   },
   {
    "duration": 17,
    "start_time": "2023-05-12T15:16:49.612Z"
   },
   {
    "duration": 19,
    "start_time": "2023-05-12T15:26:05.333Z"
   },
   {
    "duration": 36,
    "start_time": "2023-05-12T15:30:32.704Z"
   },
   {
    "duration": 21,
    "start_time": "2023-05-12T15:32:03.449Z"
   },
   {
    "duration": 39,
    "start_time": "2023-05-12T15:42:07.236Z"
   },
   {
    "duration": 19,
    "start_time": "2023-05-12T15:42:24.200Z"
   },
   {
    "duration": 1099,
    "start_time": "2023-05-15T13:30:08.590Z"
   },
   {
    "duration": 176,
    "start_time": "2023-05-15T13:30:09.691Z"
   },
   {
    "duration": 3,
    "start_time": "2023-05-15T13:30:09.868Z"
   },
   {
    "duration": 9,
    "start_time": "2023-05-15T13:30:09.872Z"
   },
   {
    "duration": 18,
    "start_time": "2023-05-15T13:30:09.883Z"
   },
   {
    "duration": 17,
    "start_time": "2023-05-15T13:30:09.903Z"
   },
   {
    "duration": 115,
    "start_time": "2023-05-15T13:30:14.387Z"
   },
   {
    "duration": 9,
    "start_time": "2023-05-15T13:31:13.511Z"
   },
   {
    "duration": 4,
    "start_time": "2023-05-15T13:31:19.013Z"
   },
   {
    "duration": 89,
    "start_time": "2023-05-15T13:31:19.019Z"
   },
   {
    "duration": 7,
    "start_time": "2023-05-15T13:31:19.110Z"
   },
   {
    "duration": 9,
    "start_time": "2023-05-15T13:31:19.119Z"
   },
   {
    "duration": 55,
    "start_time": "2023-05-15T13:31:19.130Z"
   },
   {
    "duration": 17,
    "start_time": "2023-05-15T13:31:19.186Z"
   },
   {
    "duration": 78,
    "start_time": "2023-05-15T13:31:22.660Z"
   },
   {
    "duration": 50,
    "start_time": "2023-05-15T13:31:35.388Z"
   },
   {
    "duration": 14,
    "start_time": "2023-05-15T13:33:43.910Z"
   },
   {
    "duration": 24,
    "start_time": "2023-05-15T13:34:43.019Z"
   },
   {
    "duration": 3356,
    "start_time": "2023-05-15T13:35:20.996Z"
   },
   {
    "duration": 3304,
    "start_time": "2023-05-15T13:36:02.257Z"
   },
   {
    "duration": 4453,
    "start_time": "2023-05-15T13:36:27.105Z"
   },
   {
    "duration": 4465,
    "start_time": "2023-05-15T13:36:47.397Z"
   },
   {
    "duration": 144932,
    "start_time": "2023-05-15T13:38:12.495Z"
   },
   {
    "duration": 4908,
    "start_time": "2023-05-15T13:45:23.357Z"
   },
   {
    "duration": 143206,
    "start_time": "2023-05-15T13:46:21.641Z"
   },
   {
    "duration": 48,
    "start_time": "2023-05-15T13:50:33.785Z"
   },
   {
    "duration": 45,
    "start_time": "2023-05-15T13:50:52.481Z"
   },
   {
    "duration": 141395,
    "start_time": "2023-05-15T14:37:45.896Z"
   },
   {
    "duration": 20,
    "start_time": "2023-05-15T14:40:07.293Z"
   },
   {
    "duration": 6,
    "start_time": "2023-05-15T14:42:07.949Z"
   },
   {
    "duration": 9,
    "start_time": "2023-05-15T14:42:26.621Z"
   },
   {
    "duration": 20,
    "start_time": "2023-05-15T14:44:11.556Z"
   },
   {
    "duration": 20,
    "start_time": "2023-05-15T14:44:19.267Z"
   },
   {
    "duration": 4,
    "start_time": "2023-05-15T14:44:32.539Z"
   },
   {
    "duration": 20,
    "start_time": "2023-05-15T14:44:37.392Z"
   },
   {
    "duration": 29,
    "start_time": "2023-05-15T14:45:00.853Z"
   },
   {
    "duration": 4,
    "start_time": "2023-05-15T14:45:17.890Z"
   },
   {
    "duration": 14,
    "start_time": "2023-05-15T14:45:23.507Z"
   },
   {
    "duration": 7599,
    "start_time": "2023-05-15T14:46:12.739Z"
   },
   {
    "duration": 270719,
    "start_time": "2023-05-15T14:46:56.427Z"
   },
   {
    "duration": 267911,
    "start_time": "2023-05-15T14:59:33.164Z"
   },
   {
    "duration": 6491,
    "start_time": "2023-05-15T15:19:58.312Z"
   },
   {
    "duration": 6,
    "start_time": "2023-05-15T15:22:17.431Z"
   },
   {
    "duration": 12,
    "start_time": "2023-05-15T15:22:40.455Z"
   },
   {
    "duration": 4213,
    "start_time": "2023-05-15T15:22:43.647Z"
   },
   {
    "duration": 182561,
    "start_time": "2023-05-15T15:22:52.622Z"
   },
   {
    "duration": 15,
    "start_time": "2023-05-15T15:26:41.697Z"
   },
   {
    "duration": 7165,
    "start_time": "2023-05-15T15:26:44.604Z"
   },
   {
    "duration": 10,
    "start_time": "2023-05-15T15:27:00.165Z"
   },
   {
    "duration": 5629,
    "start_time": "2023-05-15T15:27:07.808Z"
   },
   {
    "duration": 4,
    "start_time": "2023-05-15T15:28:40.117Z"
   },
   {
    "duration": 63,
    "start_time": "2023-05-15T15:28:40.123Z"
   },
   {
    "duration": 10,
    "start_time": "2023-05-15T15:28:40.188Z"
   },
   {
    "duration": 190,
    "start_time": "2023-05-15T15:28:40.200Z"
   },
   {
    "duration": 30,
    "start_time": "2023-05-15T15:28:40.392Z"
   },
   {
    "duration": 23,
    "start_time": "2023-05-15T15:28:40.424Z"
   },
   {
    "duration": 6,
    "start_time": "2023-05-15T15:28:40.449Z"
   },
   {
    "duration": 8296,
    "start_time": "2023-05-15T15:28:40.457Z"
   },
   {
    "duration": 144400,
    "start_time": "2023-05-15T15:28:48.755Z"
   },
   {
    "duration": 4082,
    "start_time": "2023-05-15T15:31:13.156Z"
   },
   {
    "duration": 139544,
    "start_time": "2023-05-15T15:31:17.240Z"
   },
   {
    "duration": 10,
    "start_time": "2023-05-15T15:33:36.786Z"
   },
   {
    "duration": 5183,
    "start_time": "2023-05-15T15:33:36.797Z"
   },
   {
    "duration": 183025,
    "start_time": "2023-05-15T15:36:04.647Z"
   },
   {
    "duration": 62,
    "start_time": "2023-05-15T15:46:13.994Z"
   },
   {
    "duration": 628,
    "start_time": "2023-05-15T15:46:28.282Z"
   },
   {
    "duration": 438,
    "start_time": "2023-05-15T15:47:46.135Z"
   },
   {
    "duration": 465,
    "start_time": "2023-05-15T15:48:07.119Z"
   },
   {
    "duration": 573,
    "start_time": "2023-05-15T15:48:27.879Z"
   },
   {
    "duration": 773,
    "start_time": "2023-05-15T15:48:54.655Z"
   },
   {
    "duration": 646,
    "start_time": "2023-05-15T15:49:00.143Z"
   },
   {
    "duration": 545,
    "start_time": "2023-05-15T15:49:02.526Z"
   },
   {
    "duration": 738,
    "start_time": "2023-05-15T15:55:09.098Z"
   },
   {
    "duration": 631,
    "start_time": "2023-05-15T15:55:24.487Z"
   },
   {
    "duration": 652,
    "start_time": "2023-05-15T15:55:58.737Z"
   },
   {
    "duration": 13294,
    "start_time": "2023-05-15T16:01:13.950Z"
   },
   {
    "duration": 150793,
    "start_time": "2023-05-15T16:03:01.174Z"
   },
   {
    "duration": 7080,
    "start_time": "2023-05-15T16:05:31.970Z"
   },
   {
    "duration": 4,
    "start_time": "2023-05-15T16:06:55.673Z"
   },
   {
    "duration": 71,
    "start_time": "2023-05-15T16:06:55.679Z"
   },
   {
    "duration": 8,
    "start_time": "2023-05-15T16:06:55.751Z"
   },
   {
    "duration": 6,
    "start_time": "2023-05-15T16:06:55.761Z"
   },
   {
    "duration": 21,
    "start_time": "2023-05-15T16:06:55.769Z"
   },
   {
    "duration": 16,
    "start_time": "2023-05-15T16:06:55.791Z"
   },
   {
    "duration": 29,
    "start_time": "2023-05-15T16:06:55.809Z"
   },
   {
    "duration": 8022,
    "start_time": "2023-05-15T16:06:55.840Z"
   },
   {
    "duration": 147150,
    "start_time": "2023-05-15T16:07:14.483Z"
   },
   {
    "duration": 144771,
    "start_time": "2023-05-15T16:11:44.483Z"
   },
   {
    "duration": 5670,
    "start_time": "2023-05-15T16:14:34.767Z"
   },
   {
    "duration": 143178,
    "start_time": "2023-05-15T16:15:21.230Z"
   },
   {
    "duration": 5395,
    "start_time": "2023-05-15T16:18:08.672Z"
   },
   {
    "duration": 5,
    "start_time": "2023-05-15T16:21:16.115Z"
   },
   {
    "duration": 80,
    "start_time": "2023-05-15T16:21:16.122Z"
   },
   {
    "duration": 10,
    "start_time": "2023-05-15T16:21:16.204Z"
   },
   {
    "duration": 6,
    "start_time": "2023-05-15T16:21:16.218Z"
   },
   {
    "duration": 35,
    "start_time": "2023-05-15T16:21:16.226Z"
   },
   {
    "duration": 18,
    "start_time": "2023-05-15T16:21:16.263Z"
   },
   {
    "duration": 6,
    "start_time": "2023-05-15T16:21:16.283Z"
   },
   {
    "duration": 4354,
    "start_time": "2023-05-15T16:21:16.291Z"
   },
   {
    "duration": 144955,
    "start_time": "2023-05-15T16:21:20.648Z"
   },
   {
    "duration": 9958,
    "start_time": "2023-05-15T16:23:45.606Z"
   },
   {
    "duration": 142504,
    "start_time": "2023-05-15T16:23:55.567Z"
   },
   {
    "duration": 13,
    "start_time": "2023-05-15T16:26:18.073Z"
   },
   {
    "duration": 4969,
    "start_time": "2023-05-15T16:26:18.088Z"
   },
   {
    "duration": 179020,
    "start_time": "2023-05-15T16:26:23.059Z"
   },
   {
    "duration": 174169,
    "start_time": "2023-05-15T16:30:52.590Z"
   },
   {
    "duration": 1445,
    "start_time": "2023-05-16T10:44:54.661Z"
   },
   {
    "duration": 125,
    "start_time": "2023-05-16T10:45:53.157Z"
   },
   {
    "duration": 5,
    "start_time": "2023-05-16T10:45:59.739Z"
   },
   {
    "duration": 162,
    "start_time": "2023-05-16T10:45:59.747Z"
   },
   {
    "duration": 14,
    "start_time": "2023-05-16T10:45:59.912Z"
   },
   {
    "duration": 7,
    "start_time": "2023-05-16T10:45:59.929Z"
   },
   {
    "duration": 41,
    "start_time": "2023-05-16T10:45:59.938Z"
   },
   {
    "duration": 34,
    "start_time": "2023-05-16T10:45:59.983Z"
   },
   {
    "duration": 34,
    "start_time": "2023-05-16T10:46:00.019Z"
   },
   {
    "duration": 11267,
    "start_time": "2023-05-16T10:46:00.055Z"
   },
   {
    "duration": 155933,
    "start_time": "2023-05-16T10:46:11.402Z"
   },
   {
    "duration": 7581,
    "start_time": "2023-05-16T10:48:47.337Z"
   },
   {
    "duration": 141908,
    "start_time": "2023-05-16T10:48:54.921Z"
   },
   {
    "duration": 13,
    "start_time": "2023-05-16T10:51:16.831Z"
   },
   {
    "duration": 10263,
    "start_time": "2023-05-16T10:51:16.847Z"
   },
   {
    "duration": 68088,
    "start_time": "2023-05-16T10:51:27.112Z"
   },
   {
    "duration": 680,
    "start_time": "2023-05-16T10:52:35.202Z"
   },
   {
    "duration": 11189,
    "start_time": "2023-05-16T10:52:46.414Z"
   },
   {
    "duration": 190601,
    "start_time": "2023-05-16T10:53:15.386Z"
   },
   {
    "duration": 700,
    "start_time": "2023-05-16T10:56:50.224Z"
   },
   {
    "duration": 70,
    "start_time": "2023-05-16T10:56:53.793Z"
   },
   {
    "duration": 51,
    "start_time": "2023-05-16T10:57:58.132Z"
   },
   {
    "duration": 48,
    "start_time": "2023-05-16T10:58:10.720Z"
   },
   {
    "duration": 442,
    "start_time": "2023-05-16T10:58:29.766Z"
   },
   {
    "duration": 273,
    "start_time": "2023-05-16T10:58:34.100Z"
   },
   {
    "duration": 198416,
    "start_time": "2023-05-16T11:16:39.972Z"
   },
   {
    "duration": 714,
    "start_time": "2023-05-16T11:22:48.216Z"
   },
   {
    "duration": 678,
    "start_time": "2023-05-16T11:23:13.602Z"
   },
   {
    "duration": 676,
    "start_time": "2023-05-16T11:23:39.410Z"
   },
   {
    "duration": 171,
    "start_time": "2023-05-16T11:26:03.268Z"
   },
   {
    "duration": 4,
    "start_time": "2023-05-16T11:27:12.307Z"
   },
   {
    "duration": 74,
    "start_time": "2023-05-16T11:27:12.313Z"
   },
   {
    "duration": 7,
    "start_time": "2023-05-16T11:27:12.389Z"
   },
   {
    "duration": 13,
    "start_time": "2023-05-16T11:27:12.398Z"
   },
   {
    "duration": 30,
    "start_time": "2023-05-16T11:27:12.413Z"
   },
   {
    "duration": 18,
    "start_time": "2023-05-16T11:27:12.445Z"
   },
   {
    "duration": 5,
    "start_time": "2023-05-16T11:27:12.465Z"
   },
   {
    "duration": 6926,
    "start_time": "2023-05-16T11:27:12.472Z"
   },
   {
    "duration": 155105,
    "start_time": "2023-05-16T11:27:19.401Z"
   },
   {
    "duration": 6690,
    "start_time": "2023-05-16T11:29:54.508Z"
   },
   {
    "duration": 151154,
    "start_time": "2023-05-16T11:30:01.201Z"
   },
   {
    "duration": 11,
    "start_time": "2023-05-16T11:32:32.357Z"
   },
   {
    "duration": 6829,
    "start_time": "2023-05-16T11:32:32.370Z"
   },
   {
    "duration": 196671,
    "start_time": "2023-05-16T11:32:39.203Z"
   },
   {
    "duration": 700,
    "start_time": "2023-05-16T11:35:55.876Z"
   },
   {
    "duration": 209,
    "start_time": "2023-05-16T11:35:56.578Z"
   },
   {
    "duration": 5,
    "start_time": "2023-05-16T11:48:46.167Z"
   },
   {
    "duration": 99,
    "start_time": "2023-05-16T11:48:46.174Z"
   },
   {
    "duration": 9,
    "start_time": "2023-05-16T11:48:46.275Z"
   },
   {
    "duration": 22,
    "start_time": "2023-05-16T11:48:46.286Z"
   },
   {
    "duration": 31,
    "start_time": "2023-05-16T11:48:46.312Z"
   },
   {
    "duration": 20,
    "start_time": "2023-05-16T11:48:46.345Z"
   },
   {
    "duration": 6,
    "start_time": "2023-05-16T11:48:46.368Z"
   },
   {
    "duration": 9529,
    "start_time": "2023-05-16T11:48:46.376Z"
   },
   {
    "duration": 157036,
    "start_time": "2023-05-16T11:48:55.912Z"
   },
   {
    "duration": 11855,
    "start_time": "2023-05-16T11:51:32.950Z"
   },
   {
    "duration": 151427,
    "start_time": "2023-05-16T11:51:44.811Z"
   },
   {
    "duration": 12,
    "start_time": "2023-05-16T11:54:16.240Z"
   },
   {
    "duration": 10253,
    "start_time": "2023-05-16T11:54:16.254Z"
   },
   {
    "duration": 190798,
    "start_time": "2023-05-16T11:54:26.515Z"
   },
   {
    "duration": 738,
    "start_time": "2023-05-16T11:57:37.315Z"
   },
   {
    "duration": 190,
    "start_time": "2023-05-16T11:57:38.055Z"
   },
   {
    "duration": 4,
    "start_time": "2023-05-16T12:03:28.649Z"
   },
   {
    "duration": 115,
    "start_time": "2023-05-16T12:03:28.656Z"
   },
   {
    "duration": 6,
    "start_time": "2023-05-16T12:03:28.773Z"
   },
   {
    "duration": 35,
    "start_time": "2023-05-16T12:03:28.781Z"
   },
   {
    "duration": 64,
    "start_time": "2023-05-16T12:03:28.819Z"
   },
   {
    "duration": 46,
    "start_time": "2023-05-16T12:03:28.884Z"
   },
   {
    "duration": 31,
    "start_time": "2023-05-16T12:03:28.932Z"
   },
   {
    "duration": 10059,
    "start_time": "2023-05-16T12:03:28.965Z"
   },
   {
    "duration": 173302,
    "start_time": "2023-05-16T12:03:39.027Z"
   },
   {
    "duration": 11019,
    "start_time": "2023-05-16T12:06:32.331Z"
   },
   {
    "duration": 158979,
    "start_time": "2023-05-16T12:06:43.410Z"
   },
   {
    "duration": 17,
    "start_time": "2023-05-16T12:09:22.391Z"
   },
   {
    "duration": 12989,
    "start_time": "2023-05-16T12:09:22.411Z"
   },
   {
    "duration": 203685,
    "start_time": "2023-05-16T12:09:35.403Z"
   },
   {
    "duration": 733,
    "start_time": "2023-05-16T12:12:59.090Z"
   },
   {
    "duration": 191,
    "start_time": "2023-05-16T12:12:59.824Z"
   },
   {
    "duration": 7422,
    "start_time": "2023-05-16T16:55:22.725Z"
   },
   {
    "duration": 777,
    "start_time": "2023-05-16T16:55:30.149Z"
   },
   {
    "duration": 9,
    "start_time": "2023-05-16T16:55:30.927Z"
   },
   {
    "duration": 286,
    "start_time": "2023-05-16T16:55:30.941Z"
   },
   {
    "duration": 411,
    "start_time": "2023-05-16T16:55:31.231Z"
   },
   {
    "duration": 180,
    "start_time": "2023-05-16T16:55:31.646Z"
   },
   {
    "duration": 6,
    "start_time": "2023-05-16T16:55:31.830Z"
   },
   {
    "duration": 16108,
    "start_time": "2023-05-16T16:55:31.838Z"
   },
   {
    "duration": 810011,
    "start_time": "2023-05-16T16:55:48.031Z"
   },
   {
    "duration": 12492,
    "start_time": "2023-05-16T17:09:18.045Z"
   },
   {
    "duration": 866197,
    "start_time": "2023-05-16T17:09:30.539Z"
   },
   {
    "duration": 10,
    "start_time": "2023-05-16T17:23:56.826Z"
   },
   {
    "duration": 7697,
    "start_time": "2023-05-16T17:23:56.934Z"
   },
   {
    "duration": 1734,
    "start_time": "2023-05-17T14:34:23.104Z"
   },
   {
    "duration": 179,
    "start_time": "2023-05-17T14:38:09.617Z"
   },
   {
    "duration": 5,
    "start_time": "2023-05-17T14:38:17.193Z"
   },
   {
    "duration": 206,
    "start_time": "2023-05-17T14:38:17.201Z"
   },
   {
    "duration": 17,
    "start_time": "2023-05-17T14:38:17.410Z"
   },
   {
    "duration": 7,
    "start_time": "2023-05-17T14:38:17.430Z"
   },
   {
    "duration": 14,
    "start_time": "2023-05-17T14:38:19.825Z"
   },
   {
    "duration": 54,
    "start_time": "2023-05-17T14:38:35.138Z"
   },
   {
    "duration": 62,
    "start_time": "2023-05-17T14:38:40.981Z"
   },
   {
    "duration": 54,
    "start_time": "2023-05-17T14:38:48.638Z"
   },
   {
    "duration": 24,
    "start_time": "2023-05-17T14:39:09.433Z"
   },
   {
    "duration": 25,
    "start_time": "2023-05-17T14:39:25.511Z"
   },
   {
    "duration": 25,
    "start_time": "2023-05-17T14:40:28.337Z"
   },
   {
    "duration": 10,
    "start_time": "2023-05-17T14:44:03.882Z"
   },
   {
    "duration": 11,
    "start_time": "2023-05-17T14:45:42.798Z"
   },
   {
    "duration": 12,
    "start_time": "2023-05-17T14:45:49.683Z"
   },
   {
    "duration": 20,
    "start_time": "2023-05-17T14:45:55.615Z"
   },
   {
    "duration": 20,
    "start_time": "2023-05-17T14:46:11.714Z"
   },
   {
    "duration": 10,
    "start_time": "2023-05-17T14:46:20.140Z"
   },
   {
    "duration": 16,
    "start_time": "2023-05-17T14:47:48.947Z"
   },
   {
    "duration": 28,
    "start_time": "2023-05-17T14:47:54.272Z"
   },
   {
    "duration": 64,
    "start_time": "2023-05-17T14:48:00.208Z"
   },
   {
    "duration": 56,
    "start_time": "2023-05-17T14:49:05.517Z"
   },
   {
    "duration": 40,
    "start_time": "2023-05-17T14:51:44.521Z"
   },
   {
    "duration": 42,
    "start_time": "2023-05-17T14:56:45.716Z"
   },
   {
    "duration": 44,
    "start_time": "2023-05-17T14:57:07.301Z"
   },
   {
    "duration": 54,
    "start_time": "2023-05-17T15:00:16.946Z"
   },
   {
    "duration": 66,
    "start_time": "2023-05-17T15:00:44.401Z"
   },
   {
    "duration": 86,
    "start_time": "2023-05-17T15:00:56.033Z"
   },
   {
    "duration": 64,
    "start_time": "2023-05-17T15:01:03.522Z"
   },
   {
    "duration": 8,
    "start_time": "2023-05-17T15:09:53.837Z"
   },
   {
    "duration": 110,
    "start_time": "2023-05-17T15:13:13.229Z"
   },
   {
    "duration": 5,
    "start_time": "2023-05-17T15:13:19.950Z"
   },
   {
    "duration": 78,
    "start_time": "2023-05-17T15:13:19.957Z"
   },
   {
    "duration": 8,
    "start_time": "2023-05-17T15:13:20.037Z"
   },
   {
    "duration": 10,
    "start_time": "2023-05-17T15:13:20.047Z"
   },
   {
    "duration": 77,
    "start_time": "2023-05-17T15:13:20.059Z"
   },
   {
    "duration": 68,
    "start_time": "2023-05-17T15:13:20.139Z"
   },
   {
    "duration": 12,
    "start_time": "2023-05-17T15:13:20.209Z"
   },
   {
    "duration": 115,
    "start_time": "2023-05-17T15:13:23.733Z"
   },
   {
    "duration": 113,
    "start_time": "2023-05-17T15:15:59.524Z"
   },
   {
    "duration": 7,
    "start_time": "2023-05-17T15:17:00.227Z"
   },
   {
    "duration": 113,
    "start_time": "2023-05-17T15:17:28.747Z"
   },
   {
    "duration": 5,
    "start_time": "2023-05-17T15:19:07.345Z"
   },
   {
    "duration": 28,
    "start_time": "2023-05-17T15:19:19.075Z"
   },
   {
    "duration": 65,
    "start_time": "2023-05-17T15:20:09.719Z"
   },
   {
    "duration": 30,
    "start_time": "2023-05-17T15:20:39.928Z"
   },
   {
    "duration": 32,
    "start_time": "2023-05-17T15:20:52.610Z"
   },
   {
    "duration": 111,
    "start_time": "2023-05-17T15:22:21.522Z"
   },
   {
    "duration": 1601,
    "start_time": "2023-05-17T15:22:35.087Z"
   },
   {
    "duration": 90,
    "start_time": "2023-05-17T15:24:40.961Z"
   },
   {
    "duration": 108,
    "start_time": "2023-05-17T15:24:45.516Z"
   },
   {
    "duration": 26,
    "start_time": "2023-05-17T15:25:06.350Z"
   },
   {
    "duration": 71,
    "start_time": "2023-05-17T15:25:16.810Z"
   },
   {
    "duration": 66,
    "start_time": "2023-05-17T15:26:02.509Z"
   },
   {
    "duration": 64,
    "start_time": "2023-05-17T15:26:54.246Z"
   },
   {
    "duration": 42,
    "start_time": "2023-05-17T15:27:35.702Z"
   },
   {
    "duration": 9,
    "start_time": "2023-05-17T15:27:40.241Z"
   },
   {
    "duration": 12514,
    "start_time": "2023-05-17T15:27:42.974Z"
   },
   {
    "duration": 9642,
    "start_time": "2023-05-17T15:28:18.150Z"
   },
   {
    "duration": 249370,
    "start_time": "2023-05-17T15:28:55.621Z"
   },
   {
    "duration": 167841,
    "start_time": "2023-05-17T15:34:33.850Z"
   },
   {
    "duration": 10632,
    "start_time": "2023-05-17T15:38:19.774Z"
   },
   {
    "duration": 161113,
    "start_time": "2023-05-17T15:39:07.327Z"
   },
   {
    "duration": 12,
    "start_time": "2023-05-17T15:45:04.783Z"
   },
   {
    "duration": 9,
    "start_time": "2023-05-17T15:45:27.940Z"
   },
   {
    "duration": 7205,
    "start_time": "2023-05-17T15:45:55.589Z"
   },
   {
    "duration": 223886,
    "start_time": "2023-05-17T15:47:36.130Z"
   },
   {
    "duration": 256,
    "start_time": "2023-05-17T15:57:54.389Z"
   },
   {
    "duration": 141,
    "start_time": "2023-05-17T15:58:12.490Z"
   },
   {
    "duration": 17,
    "start_time": "2023-05-17T16:11:15.992Z"
   },
   {
    "duration": 10,
    "start_time": "2023-05-17T16:11:41.324Z"
   },
   {
    "duration": 12,
    "start_time": "2023-05-17T16:12:05.613Z"
   },
   {
    "duration": 273,
    "start_time": "2023-05-17T16:12:34.387Z"
   },
   {
    "duration": 240,
    "start_time": "2023-05-17T16:12:39.203Z"
   },
   {
    "duration": 206,
    "start_time": "2023-05-17T16:14:37.355Z"
   },
   {
    "duration": 44,
    "start_time": "2023-05-17T16:22:18.294Z"
   },
   {
    "duration": 34,
    "start_time": "2023-05-17T16:25:49.207Z"
   },
   {
    "duration": 5,
    "start_time": "2023-05-17T16:26:04.639Z"
   },
   {
    "duration": 84,
    "start_time": "2023-05-17T16:26:04.647Z"
   },
   {
    "duration": 11,
    "start_time": "2023-05-17T16:26:04.733Z"
   },
   {
    "duration": 7,
    "start_time": "2023-05-17T16:26:04.747Z"
   },
   {
    "duration": 75,
    "start_time": "2023-05-17T16:26:04.757Z"
   },
   {
    "duration": 73,
    "start_time": "2023-05-17T16:26:04.834Z"
   },
   {
    "duration": 0,
    "start_time": "2023-05-17T16:26:04.910Z"
   },
   {
    "duration": 0,
    "start_time": "2023-05-17T16:26:04.912Z"
   },
   {
    "duration": 0,
    "start_time": "2023-05-17T16:26:04.913Z"
   },
   {
    "duration": 0,
    "start_time": "2023-05-17T16:26:04.914Z"
   },
   {
    "duration": 0,
    "start_time": "2023-05-17T16:26:04.915Z"
   },
   {
    "duration": 0,
    "start_time": "2023-05-17T16:26:04.916Z"
   },
   {
    "duration": 0,
    "start_time": "2023-05-17T16:26:04.918Z"
   },
   {
    "duration": 0,
    "start_time": "2023-05-17T16:26:04.920Z"
   },
   {
    "duration": 0,
    "start_time": "2023-05-17T16:26:04.922Z"
   },
   {
    "duration": 0,
    "start_time": "2023-05-17T16:26:04.925Z"
   },
   {
    "duration": 6,
    "start_time": "2023-05-17T16:26:10.670Z"
   },
   {
    "duration": 101,
    "start_time": "2023-05-17T16:26:10.714Z"
   },
   {
    "duration": 10,
    "start_time": "2023-05-17T16:26:10.824Z"
   },
   {
    "duration": 14,
    "start_time": "2023-05-17T16:26:10.837Z"
   },
   {
    "duration": 67,
    "start_time": "2023-05-17T16:26:10.857Z"
   },
   {
    "duration": 51,
    "start_time": "2023-05-17T16:26:10.927Z"
   },
   {
    "duration": 0,
    "start_time": "2023-05-17T16:26:10.981Z"
   },
   {
    "duration": 0,
    "start_time": "2023-05-17T16:26:10.983Z"
   },
   {
    "duration": 0,
    "start_time": "2023-05-17T16:26:10.984Z"
   },
   {
    "duration": 0,
    "start_time": "2023-05-17T16:26:10.986Z"
   },
   {
    "duration": 0,
    "start_time": "2023-05-17T16:26:10.987Z"
   },
   {
    "duration": 0,
    "start_time": "2023-05-17T16:26:10.999Z"
   },
   {
    "duration": 0,
    "start_time": "2023-05-17T16:26:11.007Z"
   },
   {
    "duration": 0,
    "start_time": "2023-05-17T16:26:11.015Z"
   },
   {
    "duration": 0,
    "start_time": "2023-05-17T16:26:11.016Z"
   },
   {
    "duration": 0,
    "start_time": "2023-05-17T16:26:11.020Z"
   },
   {
    "duration": 46,
    "start_time": "2023-05-17T16:27:35.213Z"
   },
   {
    "duration": 34,
    "start_time": "2023-05-17T16:28:32.621Z"
   },
   {
    "duration": 4,
    "start_time": "2023-05-17T16:28:37.665Z"
   },
   {
    "duration": 101,
    "start_time": "2023-05-17T16:28:37.675Z"
   },
   {
    "duration": 21,
    "start_time": "2023-05-17T16:28:37.779Z"
   },
   {
    "duration": 21,
    "start_time": "2023-05-17T16:28:37.802Z"
   },
   {
    "duration": 58,
    "start_time": "2023-05-17T16:28:37.825Z"
   },
   {
    "duration": 55,
    "start_time": "2023-05-17T16:28:37.886Z"
   },
   {
    "duration": 9,
    "start_time": "2023-05-17T16:28:37.942Z"
   },
   {
    "duration": 12048,
    "start_time": "2023-05-17T16:28:37.953Z"
   },
   {
    "duration": 194939,
    "start_time": "2023-05-17T16:28:50.010Z"
   },
   {
    "duration": 12976,
    "start_time": "2023-05-17T16:32:04.950Z"
   },
   {
    "duration": 192887,
    "start_time": "2023-05-17T16:32:17.993Z"
   },
   {
    "duration": 16,
    "start_time": "2023-05-17T16:35:30.885Z"
   },
   {
    "duration": 9118,
    "start_time": "2023-05-17T16:35:30.904Z"
   },
   {
    "duration": 278535,
    "start_time": "2023-05-17T16:35:40.031Z"
   },
   {
    "duration": 312,
    "start_time": "2023-05-17T16:40:18.570Z"
   },
   {
    "duration": 168,
    "start_time": "2023-05-17T16:40:18.884Z"
   },
   {
    "duration": 257,
    "start_time": "2023-05-17T16:41:24.582Z"
   },
   {
    "duration": 265136,
    "start_time": "2023-05-17T16:42:30.477Z"
   },
   {
    "duration": 319,
    "start_time": "2023-05-17T16:47:52.942Z"
   },
   {
    "duration": 312,
    "start_time": "2023-05-17T16:48:44.613Z"
   },
   {
    "duration": 7,
    "start_time": "2023-05-17T16:49:29.716Z"
   },
   {
    "duration": 122,
    "start_time": "2023-05-17T16:49:29.725Z"
   },
   {
    "duration": 10,
    "start_time": "2023-05-17T16:49:29.849Z"
   },
   {
    "duration": 9,
    "start_time": "2023-05-17T16:49:29.862Z"
   },
   {
    "duration": 66,
    "start_time": "2023-05-17T16:49:29.873Z"
   },
   {
    "duration": 45,
    "start_time": "2023-05-17T16:49:29.941Z"
   },
   {
    "duration": 11,
    "start_time": "2023-05-17T16:49:30.001Z"
   },
   {
    "duration": 9907,
    "start_time": "2023-05-17T16:49:30.015Z"
   },
   {
    "duration": 198640,
    "start_time": "2023-05-17T16:49:39.996Z"
   },
   {
    "duration": 9258,
    "start_time": "2023-05-17T16:52:58.643Z"
   },
   {
    "duration": 264310,
    "start_time": "2023-05-17T16:53:07.913Z"
   },
   {
    "duration": 29,
    "start_time": "2023-05-17T16:57:32.226Z"
   },
   {
    "duration": 12448,
    "start_time": "2023-05-17T16:57:32.257Z"
   },
   {
    "duration": 270559,
    "start_time": "2023-05-17T16:57:44.707Z"
   },
   {
    "duration": 314,
    "start_time": "2023-05-17T17:02:15.269Z"
   },
   {
    "duration": 156,
    "start_time": "2023-05-17T17:02:15.592Z"
   },
   {
    "duration": 268,
    "start_time": "2023-05-17T17:09:00.912Z"
   },
   {
    "duration": 134,
    "start_time": "2023-05-17T17:09:03.543Z"
   },
   {
    "duration": 2807,
    "start_time": "2023-05-18T07:40:14.295Z"
   },
   {
    "duration": 158,
    "start_time": "2023-05-18T07:40:17.104Z"
   },
   {
    "duration": 10,
    "start_time": "2023-05-18T07:40:17.265Z"
   },
   {
    "duration": 14,
    "start_time": "2023-05-18T07:40:17.277Z"
   },
   {
    "duration": 63,
    "start_time": "2023-05-18T07:40:17.294Z"
   },
   {
    "duration": 35,
    "start_time": "2023-05-18T07:40:17.363Z"
   },
   {
    "duration": 8,
    "start_time": "2023-05-18T07:40:17.400Z"
   },
   {
    "duration": 10615,
    "start_time": "2023-05-18T07:40:17.425Z"
   },
   {
    "duration": 165454,
    "start_time": "2023-05-18T07:40:28.043Z"
   },
   {
    "duration": 10832,
    "start_time": "2023-05-18T07:43:13.499Z"
   },
   {
    "duration": 216803,
    "start_time": "2023-05-18T07:43:24.339Z"
   },
   {
    "duration": 18,
    "start_time": "2023-05-18T07:47:01.151Z"
   },
   {
    "duration": 10951,
    "start_time": "2023-05-18T07:47:01.175Z"
   },
   {
    "duration": 221469,
    "start_time": "2023-05-18T07:47:12.130Z"
   },
   {
    "duration": 273,
    "start_time": "2023-05-18T07:50:53.601Z"
   },
   {
    "duration": 151,
    "start_time": "2023-05-18T07:50:53.876Z"
   },
   {
    "duration": 1737,
    "start_time": "2023-05-18T10:58:40.604Z"
   },
   {
    "duration": 222,
    "start_time": "2023-05-18T10:58:42.344Z"
   },
   {
    "duration": 10,
    "start_time": "2023-05-18T10:58:42.567Z"
   },
   {
    "duration": 144,
    "start_time": "2023-05-18T10:58:42.579Z"
   },
   {
    "duration": 0,
    "start_time": "2023-05-18T10:58:42.725Z"
   },
   {
    "duration": 8,
    "start_time": "2023-05-18T10:59:45.325Z"
   },
   {
    "duration": 42,
    "start_time": "2023-05-18T11:00:30.563Z"
   },
   {
    "duration": 39,
    "start_time": "2023-05-18T11:01:01.493Z"
   },
   {
    "duration": 64,
    "start_time": "2023-05-18T11:01:20.751Z"
   },
   {
    "duration": 6,
    "start_time": "2023-05-18T11:01:56.352Z"
   },
   {
    "duration": 92,
    "start_time": "2023-05-18T11:01:56.362Z"
   },
   {
    "duration": 9,
    "start_time": "2023-05-18T11:01:56.456Z"
   },
   {
    "duration": 6,
    "start_time": "2023-05-18T11:01:56.468Z"
   },
   {
    "duration": 44,
    "start_time": "2023-05-18T11:01:56.490Z"
   },
   {
    "duration": 0,
    "start_time": "2023-05-18T11:01:56.536Z"
   },
   {
    "duration": 90,
    "start_time": "2023-05-18T11:02:31.878Z"
   },
   {
    "duration": 54,
    "start_time": "2023-05-18T11:04:50.529Z"
   },
   {
    "duration": 55,
    "start_time": "2023-05-18T11:05:01.655Z"
   },
   {
    "duration": 1602,
    "start_time": "2023-05-18T11:10:09.764Z"
   },
   {
    "duration": 47,
    "start_time": "2023-05-18T11:10:25.466Z"
   },
   {
    "duration": 42,
    "start_time": "2023-05-18T11:10:38.778Z"
   },
   {
    "duration": 31,
    "start_time": "2023-05-18T11:13:25.509Z"
   },
   {
    "duration": 8,
    "start_time": "2023-05-18T11:15:01.656Z"
   },
   {
    "duration": 59,
    "start_time": "2023-05-18T11:15:38.009Z"
   },
   {
    "duration": 26,
    "start_time": "2023-05-18T11:15:45.013Z"
   },
   {
    "duration": 6,
    "start_time": "2023-05-18T11:17:16.513Z"
   },
   {
    "duration": 100,
    "start_time": "2023-05-18T11:17:16.521Z"
   },
   {
    "duration": 12,
    "start_time": "2023-05-18T11:17:16.624Z"
   },
   {
    "duration": 42,
    "start_time": "2023-05-18T11:17:16.643Z"
   },
   {
    "duration": 11,
    "start_time": "2023-05-18T11:17:16.690Z"
   },
   {
    "duration": 49,
    "start_time": "2023-05-18T11:17:16.711Z"
   },
   {
    "duration": 25,
    "start_time": "2023-05-18T11:17:20.214Z"
   },
   {
    "duration": 79,
    "start_time": "2023-05-18T11:17:40.877Z"
   },
   {
    "duration": 68,
    "start_time": "2023-05-18T11:17:53.789Z"
   },
   {
    "duration": 10,
    "start_time": "2023-05-18T11:18:35.671Z"
   },
   {
    "duration": 11383,
    "start_time": "2023-05-18T11:18:41.513Z"
   },
   {
    "duration": 219144,
    "start_time": "2023-05-18T11:19:25.379Z"
   },
   {
    "duration": 17205,
    "start_time": "2023-05-18T11:23:55.847Z"
   },
   {
    "duration": 280862,
    "start_time": "2023-05-18T11:26:48.686Z"
   },
   {
    "duration": 14,
    "start_time": "2023-05-18T11:32:00.814Z"
   },
   {
    "duration": 13336,
    "start_time": "2023-05-18T11:32:07.679Z"
   },
   {
    "duration": 243381,
    "start_time": "2023-05-18T11:33:02.588Z"
   },
   {
    "duration": 695,
    "start_time": "2023-05-18T11:38:55.171Z"
   },
   {
    "duration": 104,
    "start_time": "2023-05-18T11:39:22.596Z"
   },
   {
    "duration": 17,
    "start_time": "2023-05-18T11:39:25.613Z"
   },
   {
    "duration": 205,
    "start_time": "2023-05-18T11:39:44.304Z"
   },
   {
    "duration": 326,
    "start_time": "2023-05-18T11:41:00.552Z"
   },
   {
    "duration": 138358,
    "start_time": "2023-05-18T11:41:38.908Z"
   },
   {
    "duration": 372415,
    "start_time": "2023-05-18T11:44:54.692Z"
   },
   {
    "duration": 241403,
    "start_time": "2023-05-18T11:58:08.479Z"
   },
   {
    "duration": 550208,
    "start_time": "2023-05-18T12:02:40.702Z"
   },
   {
    "duration": 6,
    "start_time": "2023-05-18T12:13:32.746Z"
   },
   {
    "duration": 104,
    "start_time": "2023-05-18T12:13:32.756Z"
   },
   {
    "duration": 12,
    "start_time": "2023-05-18T12:13:32.864Z"
   },
   {
    "duration": 56,
    "start_time": "2023-05-18T12:13:32.879Z"
   },
   {
    "duration": 8,
    "start_time": "2023-05-18T12:13:32.939Z"
   },
   {
    "duration": 45,
    "start_time": "2023-05-18T12:13:32.949Z"
   },
   {
    "duration": 28,
    "start_time": "2023-05-18T12:13:32.998Z"
   },
   {
    "duration": 10,
    "start_time": "2023-05-18T12:13:33.028Z"
   },
   {
    "duration": 13759,
    "start_time": "2023-05-18T12:13:33.040Z"
   },
   {
    "duration": 187056,
    "start_time": "2023-05-18T12:13:46.809Z"
   },
   {
    "duration": 11330,
    "start_time": "2023-05-18T12:16:53.869Z"
   },
   {
    "duration": 246735,
    "start_time": "2023-05-18T12:17:05.207Z"
   },
   {
    "duration": 12,
    "start_time": "2023-05-18T12:21:11.943Z"
   },
   {
    "duration": 15741,
    "start_time": "2023-05-18T12:21:11.958Z"
   },
   {
    "duration": 345174,
    "start_time": "2023-05-18T12:21:27.703Z"
   },
   {
    "duration": 297,
    "start_time": "2023-05-18T12:27:12.880Z"
   },
   {
    "duration": 183,
    "start_time": "2023-05-18T12:27:13.179Z"
   },
   {
    "duration": 1906,
    "start_time": "2023-05-18T16:16:03.176Z"
   },
   {
    "duration": 273,
    "start_time": "2023-05-18T16:16:05.085Z"
   },
   {
    "duration": 11,
    "start_time": "2023-05-18T16:16:05.361Z"
   },
   {
    "duration": 60,
    "start_time": "2023-05-18T16:16:05.375Z"
   },
   {
    "duration": 7,
    "start_time": "2023-05-18T16:16:05.445Z"
   },
   {
    "duration": 29,
    "start_time": "2023-05-18T16:16:05.454Z"
   },
   {
    "duration": 37,
    "start_time": "2023-05-18T16:16:05.485Z"
   },
   {
    "duration": 9,
    "start_time": "2023-05-18T16:16:05.524Z"
   },
   {
    "duration": 12883,
    "start_time": "2023-05-18T16:16:05.535Z"
   },
   {
    "duration": 184460,
    "start_time": "2023-05-18T16:16:18.424Z"
   },
   {
    "duration": 13307,
    "start_time": "2023-05-18T16:19:22.886Z"
   },
   {
    "duration": 286220,
    "start_time": "2023-05-18T16:21:22.521Z"
   },
   {
    "duration": 14,
    "start_time": "2023-05-18T16:27:52.910Z"
   },
   {
    "duration": 15195,
    "start_time": "2023-05-18T16:27:54.914Z"
   },
   {
    "duration": 398880,
    "start_time": "2023-05-18T16:28:15.265Z"
   },
   {
    "duration": 443,
    "start_time": "2023-05-18T16:35:31.110Z"
   },
   {
    "duration": 424,
    "start_time": "2023-05-18T16:37:07.513Z"
   },
   {
    "duration": 167,
    "start_time": "2023-05-18T16:37:13.762Z"
   },
   {
    "duration": 5,
    "start_time": "2023-05-18T16:38:11.429Z"
   },
   {
    "duration": 91,
    "start_time": "2023-05-18T16:38:11.436Z"
   },
   {
    "duration": 7,
    "start_time": "2023-05-18T16:38:11.531Z"
   },
   {
    "duration": 30,
    "start_time": "2023-05-18T16:38:11.540Z"
   },
   {
    "duration": 5,
    "start_time": "2023-05-18T16:38:11.572Z"
   },
   {
    "duration": 145,
    "start_time": "2023-05-18T16:38:11.579Z"
   },
   {
    "duration": 14,
    "start_time": "2023-05-18T16:38:11.728Z"
   },
   {
    "duration": 8,
    "start_time": "2023-05-18T16:38:11.743Z"
   },
   {
    "duration": 14781,
    "start_time": "2023-05-18T16:38:11.754Z"
   },
   {
    "duration": 193488,
    "start_time": "2023-05-18T16:38:26.608Z"
   },
   {
    "duration": 13510,
    "start_time": "2023-05-18T16:41:40.104Z"
   },
   {
    "duration": 307246,
    "start_time": "2023-05-18T16:41:53.621Z"
   },
   {
    "duration": 15,
    "start_time": "2023-05-18T16:47:00.875Z"
   },
   {
    "duration": 11356,
    "start_time": "2023-05-18T16:47:00.892Z"
   },
   {
    "duration": 423680,
    "start_time": "2023-05-18T16:47:12.292Z"
   },
   {
    "duration": 455,
    "start_time": "2023-05-18T16:54:15.973Z"
   },
   {
    "duration": 193,
    "start_time": "2023-05-18T16:54:16.430Z"
   },
   {
    "duration": 21,
    "start_time": "2023-05-18T17:44:33.422Z"
   },
   {
    "duration": 1859,
    "start_time": "2023-05-19T13:15:00.544Z"
   },
   {
    "duration": 169,
    "start_time": "2023-05-19T13:15:04.656Z"
   },
   {
    "duration": 4,
    "start_time": "2023-05-19T13:15:30.575Z"
   },
   {
    "duration": 8,
    "start_time": "2023-05-19T13:15:40.370Z"
   },
   {
    "duration": 101,
    "start_time": "2023-05-19T13:15:45.190Z"
   },
   {
    "duration": 17,
    "start_time": "2023-05-19T13:15:48.679Z"
   },
   {
    "duration": 11,
    "start_time": "2023-05-19T13:16:40.142Z"
   },
   {
    "duration": 9,
    "start_time": "2023-05-19T13:17:02.718Z"
   },
   {
    "duration": 9,
    "start_time": "2023-05-19T13:17:11.242Z"
   },
   {
    "duration": 11,
    "start_time": "2023-05-19T13:17:17.342Z"
   },
   {
    "duration": 11,
    "start_time": "2023-05-19T13:17:45.685Z"
   },
   {
    "duration": 13,
    "start_time": "2023-05-19T13:17:51.942Z"
   },
   {
    "duration": 38,
    "start_time": "2023-05-19T13:18:37.510Z"
   },
   {
    "duration": 19,
    "start_time": "2023-05-19T13:19:00.757Z"
   },
   {
    "duration": 10,
    "start_time": "2023-05-19T13:19:20.548Z"
   },
   {
    "duration": 17,
    "start_time": "2023-05-19T13:19:27.044Z"
   },
   {
    "duration": 16,
    "start_time": "2023-05-19T13:19:43.031Z"
   }
  ],
  "kernelspec": {
   "display_name": "Python 3 (ipykernel)",
   "language": "python",
   "name": "python3"
  },
  "language_info": {
   "codemirror_mode": {
    "name": "ipython",
    "version": 3
   },
   "file_extension": ".py",
   "mimetype": "text/x-python",
   "name": "python",
   "nbconvert_exporter": "python",
   "pygments_lexer": "ipython3",
   "version": "3.9.13"
  },
  "toc": {
   "base_numbering": 1,
   "nav_menu": {
    "height": "209.983px",
    "width": "206.997px"
   },
   "number_sections": true,
   "sideBar": true,
   "skip_h1_title": true,
   "title_cell": "Содержание",
   "title_sidebar": "Contents",
   "toc_cell": true,
   "toc_position": {
    "height": "calc(100% - 180px)",
    "left": "10px",
    "top": "150px",
    "width": "404.653px"
   },
   "toc_section_display": true,
   "toc_window_display": true
  }
 },
 "nbformat": 4,
 "nbformat_minor": 2
}
