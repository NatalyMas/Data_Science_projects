{
 "cells": [
  {
   "cell_type": "markdown",
   "metadata": {},
   "source": [
    "# Выбор локации для скважины"
   ]
  },
  {
   "cell_type": "markdown",
   "metadata": {},
   "source": [
    "Допустим, вы работаете в добывающей компании «ГлавРосГосНефть». Нужно решить, где бурить новую скважину.\n",
    "\n",
    "Вам предоставлены пробы нефти в трёх регионах: в каждом 10 000 месторождений, где измерили качество нефти и объём её запасов. Постройте модель машинного обучения, которая поможет определить регион, где добыча принесёт наибольшую прибыль. Проанализируйте возможную прибыль и риски техникой *Bootstrap.*\n",
    "\n",
    "Шаги для выбора локации:\n",
    "\n",
    "- В избранном регионе ищут месторождения, для каждого определяют значения признаков;\n",
    "- Строят модель и оценивают объём запасов;\n",
    "- Выбирают месторождения с самым высокими оценками значений. Количество месторождений зависит от бюджета компании и стоимости разработки одной скважины;\n",
    "- Прибыль равна суммарной прибыли отобранных месторождений."
   ]
  },
  {
   "cell_type": "markdown",
   "metadata": {},
   "source": [
    "## Загрузка и подготовка данных"
   ]
  },
  {
   "cell_type": "code",
   "execution_count": 1,
   "metadata": {},
   "outputs": [],
   "source": [
    "import pandas as pd\n",
    "import numpy as np\n",
    "import seaborn as sns\n",
    "import matplotlib.pyplot as plt\n",
    "\n",
    "from sklearn.model_selection import train_test_split\n",
    "from sklearn.preprocessing import StandardScaler\n",
    "from sklearn.linear_model import LinearRegression \n",
    "from sklearn.metrics import mean_squared_error\n",
    "from math import sqrt\n",
    "from scipy import stats as st\n",
    "\n",
    "state = np.random.RandomState(12345)"
   ]
  },
  {
   "cell_type": "code",
   "execution_count": 2,
   "metadata": {},
   "outputs": [],
   "source": [
    "POINTS_NUM = 500\n",
    "TOP_POINTS = 200\n",
    "BUDGET = 10000000000\n",
    "PROFIT_PER_KBAR = 450000 "
   ]
  },
  {
   "cell_type": "code",
   "execution_count": 3,
   "metadata": {},
   "outputs": [
    {
     "data": {
      "text/html": [
       "<div>\n",
       "<style scoped>\n",
       "    .dataframe tbody tr th:only-of-type {\n",
       "        vertical-align: middle;\n",
       "    }\n",
       "\n",
       "    .dataframe tbody tr th {\n",
       "        vertical-align: top;\n",
       "    }\n",
       "\n",
       "    .dataframe thead th {\n",
       "        text-align: right;\n",
       "    }\n",
       "</style>\n",
       "<table border=\"1\" class=\"dataframe\">\n",
       "  <thead>\n",
       "    <tr style=\"text-align: right;\">\n",
       "      <th></th>\n",
       "      <th>id</th>\n",
       "      <th>f0</th>\n",
       "      <th>f1</th>\n",
       "      <th>f2</th>\n",
       "      <th>product</th>\n",
       "    </tr>\n",
       "  </thead>\n",
       "  <tbody>\n",
       "    <tr>\n",
       "      <th>0</th>\n",
       "      <td>txEyH</td>\n",
       "      <td>0.705745</td>\n",
       "      <td>-0.497823</td>\n",
       "      <td>1.221170</td>\n",
       "      <td>105.280062</td>\n",
       "    </tr>\n",
       "    <tr>\n",
       "      <th>1</th>\n",
       "      <td>2acmU</td>\n",
       "      <td>1.334711</td>\n",
       "      <td>-0.340164</td>\n",
       "      <td>4.365080</td>\n",
       "      <td>73.037750</td>\n",
       "    </tr>\n",
       "    <tr>\n",
       "      <th>2</th>\n",
       "      <td>409Wp</td>\n",
       "      <td>1.022732</td>\n",
       "      <td>0.151990</td>\n",
       "      <td>1.419926</td>\n",
       "      <td>85.265647</td>\n",
       "    </tr>\n",
       "    <tr>\n",
       "      <th>3</th>\n",
       "      <td>iJLyR</td>\n",
       "      <td>-0.032172</td>\n",
       "      <td>0.139033</td>\n",
       "      <td>2.978566</td>\n",
       "      <td>168.620776</td>\n",
       "    </tr>\n",
       "    <tr>\n",
       "      <th>4</th>\n",
       "      <td>Xdl7t</td>\n",
       "      <td>1.988431</td>\n",
       "      <td>0.155413</td>\n",
       "      <td>4.751769</td>\n",
       "      <td>154.036647</td>\n",
       "    </tr>\n",
       "  </tbody>\n",
       "</table>\n",
       "</div>"
      ],
      "text/plain": [
       "      id        f0        f1        f2     product\n",
       "0  txEyH  0.705745 -0.497823  1.221170  105.280062\n",
       "1  2acmU  1.334711 -0.340164  4.365080   73.037750\n",
       "2  409Wp  1.022732  0.151990  1.419926   85.265647\n",
       "3  iJLyR -0.032172  0.139033  2.978566  168.620776\n",
       "4  Xdl7t  1.988431  0.155413  4.751769  154.036647"
      ]
     },
     "metadata": {},
     "output_type": "display_data"
    },
    {
     "name": "stdout",
     "output_type": "stream",
     "text": [
      "<class 'pandas.core.frame.DataFrame'>\n",
      "RangeIndex: 100000 entries, 0 to 99999\n",
      "Data columns (total 5 columns):\n",
      " #   Column   Non-Null Count   Dtype  \n",
      "---  ------   --------------   -----  \n",
      " 0   id       100000 non-null  object \n",
      " 1   f0       100000 non-null  float64\n",
      " 2   f1       100000 non-null  float64\n",
      " 3   f2       100000 non-null  float64\n",
      " 4   product  100000 non-null  float64\n",
      "dtypes: float64(4), object(1)\n",
      "memory usage: 3.8+ MB\n"
     ]
    },
    {
     "data": {
      "text/html": [
       "<div>\n",
       "<style scoped>\n",
       "    .dataframe tbody tr th:only-of-type {\n",
       "        vertical-align: middle;\n",
       "    }\n",
       "\n",
       "    .dataframe tbody tr th {\n",
       "        vertical-align: top;\n",
       "    }\n",
       "\n",
       "    .dataframe thead th {\n",
       "        text-align: right;\n",
       "    }\n",
       "</style>\n",
       "<table border=\"1\" class=\"dataframe\">\n",
       "  <thead>\n",
       "    <tr style=\"text-align: right;\">\n",
       "      <th></th>\n",
       "      <th>id</th>\n",
       "      <th>f0</th>\n",
       "      <th>f1</th>\n",
       "      <th>f2</th>\n",
       "      <th>product</th>\n",
       "    </tr>\n",
       "  </thead>\n",
       "  <tbody>\n",
       "    <tr>\n",
       "      <th>0</th>\n",
       "      <td>kBEdx</td>\n",
       "      <td>-15.001348</td>\n",
       "      <td>-8.276000</td>\n",
       "      <td>-0.005876</td>\n",
       "      <td>3.179103</td>\n",
       "    </tr>\n",
       "    <tr>\n",
       "      <th>1</th>\n",
       "      <td>62mP7</td>\n",
       "      <td>14.272088</td>\n",
       "      <td>-3.475083</td>\n",
       "      <td>0.999183</td>\n",
       "      <td>26.953261</td>\n",
       "    </tr>\n",
       "    <tr>\n",
       "      <th>2</th>\n",
       "      <td>vyE1P</td>\n",
       "      <td>6.263187</td>\n",
       "      <td>-5.948386</td>\n",
       "      <td>5.001160</td>\n",
       "      <td>134.766305</td>\n",
       "    </tr>\n",
       "    <tr>\n",
       "      <th>3</th>\n",
       "      <td>KcrkZ</td>\n",
       "      <td>-13.081196</td>\n",
       "      <td>-11.506057</td>\n",
       "      <td>4.999415</td>\n",
       "      <td>137.945408</td>\n",
       "    </tr>\n",
       "    <tr>\n",
       "      <th>4</th>\n",
       "      <td>AHL4O</td>\n",
       "      <td>12.702195</td>\n",
       "      <td>-8.147433</td>\n",
       "      <td>5.004363</td>\n",
       "      <td>134.766305</td>\n",
       "    </tr>\n",
       "  </tbody>\n",
       "</table>\n",
       "</div>"
      ],
      "text/plain": [
       "      id         f0         f1        f2     product\n",
       "0  kBEdx -15.001348  -8.276000 -0.005876    3.179103\n",
       "1  62mP7  14.272088  -3.475083  0.999183   26.953261\n",
       "2  vyE1P   6.263187  -5.948386  5.001160  134.766305\n",
       "3  KcrkZ -13.081196 -11.506057  4.999415  137.945408\n",
       "4  AHL4O  12.702195  -8.147433  5.004363  134.766305"
      ]
     },
     "metadata": {},
     "output_type": "display_data"
    },
    {
     "name": "stdout",
     "output_type": "stream",
     "text": [
      "<class 'pandas.core.frame.DataFrame'>\n",
      "RangeIndex: 100000 entries, 0 to 99999\n",
      "Data columns (total 5 columns):\n",
      " #   Column   Non-Null Count   Dtype  \n",
      "---  ------   --------------   -----  \n",
      " 0   id       100000 non-null  object \n",
      " 1   f0       100000 non-null  float64\n",
      " 2   f1       100000 non-null  float64\n",
      " 3   f2       100000 non-null  float64\n",
      " 4   product  100000 non-null  float64\n",
      "dtypes: float64(4), object(1)\n",
      "memory usage: 3.8+ MB\n"
     ]
    },
    {
     "data": {
      "text/html": [
       "<div>\n",
       "<style scoped>\n",
       "    .dataframe tbody tr th:only-of-type {\n",
       "        vertical-align: middle;\n",
       "    }\n",
       "\n",
       "    .dataframe tbody tr th {\n",
       "        vertical-align: top;\n",
       "    }\n",
       "\n",
       "    .dataframe thead th {\n",
       "        text-align: right;\n",
       "    }\n",
       "</style>\n",
       "<table border=\"1\" class=\"dataframe\">\n",
       "  <thead>\n",
       "    <tr style=\"text-align: right;\">\n",
       "      <th></th>\n",
       "      <th>id</th>\n",
       "      <th>f0</th>\n",
       "      <th>f1</th>\n",
       "      <th>f2</th>\n",
       "      <th>product</th>\n",
       "    </tr>\n",
       "  </thead>\n",
       "  <tbody>\n",
       "    <tr>\n",
       "      <th>0</th>\n",
       "      <td>fwXo0</td>\n",
       "      <td>-1.146987</td>\n",
       "      <td>0.963328</td>\n",
       "      <td>-0.828965</td>\n",
       "      <td>27.758673</td>\n",
       "    </tr>\n",
       "    <tr>\n",
       "      <th>1</th>\n",
       "      <td>WJtFt</td>\n",
       "      <td>0.262778</td>\n",
       "      <td>0.269839</td>\n",
       "      <td>-2.530187</td>\n",
       "      <td>56.069697</td>\n",
       "    </tr>\n",
       "    <tr>\n",
       "      <th>2</th>\n",
       "      <td>ovLUW</td>\n",
       "      <td>0.194587</td>\n",
       "      <td>0.289035</td>\n",
       "      <td>-5.586433</td>\n",
       "      <td>62.871910</td>\n",
       "    </tr>\n",
       "    <tr>\n",
       "      <th>3</th>\n",
       "      <td>q6cA6</td>\n",
       "      <td>2.236060</td>\n",
       "      <td>-0.553760</td>\n",
       "      <td>0.930038</td>\n",
       "      <td>114.572842</td>\n",
       "    </tr>\n",
       "    <tr>\n",
       "      <th>4</th>\n",
       "      <td>WPMUX</td>\n",
       "      <td>-0.515993</td>\n",
       "      <td>1.716266</td>\n",
       "      <td>5.899011</td>\n",
       "      <td>149.600746</td>\n",
       "    </tr>\n",
       "  </tbody>\n",
       "</table>\n",
       "</div>"
      ],
      "text/plain": [
       "      id        f0        f1        f2     product\n",
       "0  fwXo0 -1.146987  0.963328 -0.828965   27.758673\n",
       "1  WJtFt  0.262778  0.269839 -2.530187   56.069697\n",
       "2  ovLUW  0.194587  0.289035 -5.586433   62.871910\n",
       "3  q6cA6  2.236060 -0.553760  0.930038  114.572842\n",
       "4  WPMUX -0.515993  1.716266  5.899011  149.600746"
      ]
     },
     "metadata": {},
     "output_type": "display_data"
    },
    {
     "name": "stdout",
     "output_type": "stream",
     "text": [
      "<class 'pandas.core.frame.DataFrame'>\n",
      "RangeIndex: 100000 entries, 0 to 99999\n",
      "Data columns (total 5 columns):\n",
      " #   Column   Non-Null Count   Dtype  \n",
      "---  ------   --------------   -----  \n",
      " 0   id       100000 non-null  object \n",
      " 1   f0       100000 non-null  float64\n",
      " 2   f1       100000 non-null  float64\n",
      " 3   f2       100000 non-null  float64\n",
      " 4   product  100000 non-null  float64\n",
      "dtypes: float64(4), object(1)\n",
      "memory usage: 3.8+ MB\n"
     ]
    }
   ],
   "source": [
    "df0 = pd.read_csv('/datasets/geo_data_0.csv')\n",
    "df1 = pd.read_csv('/datasets/geo_data_1.csv')\n",
    "df2 = pd.read_csv('/datasets/geo_data_2.csv')\n",
    "\n",
    "display(df0.head())\n",
    "df0.info()\n",
    "\n",
    "display(df1.head())\n",
    "df1.info()\n",
    "\n",
    "display(df2.head())\n",
    "df2.info()"
   ]
  },
  {
   "cell_type": "markdown",
   "metadata": {},
   "source": [
    "В трех датасетах по 100000 строк, пропусков нет. Порядки величин в столбцах отличаются, может потребоваться масштабирование. Типы данных соотвествуют содержимому. Есть один нечисловой признак - 'id'."
   ]
  },
  {
   "cell_type": "markdown",
   "metadata": {},
   "source": [
    "Проверим, нет ли дубликатов."
   ]
  },
  {
   "cell_type": "code",
   "execution_count": 4,
   "metadata": {},
   "outputs": [
    {
     "data": {
      "text/plain": [
       "0"
      ]
     },
     "metadata": {},
     "output_type": "display_data"
    },
    {
     "data": {
      "text/plain": [
       "0"
      ]
     },
     "metadata": {},
     "output_type": "display_data"
    },
    {
     "data": {
      "text/plain": [
       "0"
      ]
     },
     "metadata": {},
     "output_type": "display_data"
    }
   ],
   "source": [
    "display(df0.duplicated().sum())\n",
    "display(df1.duplicated().sum())\n",
    "display(df2.duplicated().sum())"
   ]
  },
  {
   "cell_type": "markdown",
   "metadata": {},
   "source": [
    "Дубликатов нет. Посмотрим, сколько есть уникальных значений id, чтобы понять, имеет ли смысл их кодировать и использовать в дальнейшем."
   ]
  },
  {
   "cell_type": "code",
   "execution_count": 5,
   "metadata": {},
   "outputs": [
    {
     "data": {
      "text/plain": [
       "TtcGQ    2\n",
       "74z30    2\n",
       "AGS9W    2\n",
       "QcMuo    2\n",
       "A5aEY    2\n",
       "bsk9y    2\n",
       "HZww2    2\n",
       "bxg6G    2\n",
       "Tdehs    2\n",
       "fiKDv    2\n",
       "YHkBm    1\n",
       "Name: id, dtype: int64"
      ]
     },
     "metadata": {},
     "output_type": "display_data"
    },
    {
     "data": {
      "text/plain": [
       "bfPNe    2\n",
       "5ltQ6    2\n",
       "LHZR0    2\n",
       "wt4Uk    2\n",
       "rmNX4    1\n",
       "        ..\n",
       "e6xFZ    1\n",
       "Rld8J    1\n",
       "eh22n    1\n",
       "RyErF    1\n",
       "FNcM1    1\n",
       "Name: id, Length: 99996, dtype: int64"
      ]
     },
     "metadata": {},
     "output_type": "display_data"
    },
    {
     "data": {
      "text/plain": [
       "Vcm5J    2\n",
       "KUPhW    2\n",
       "VF7Jo    2\n",
       "xCHr8    2\n",
       "lZldF    1\n",
       "        ..\n",
       "GzwPg    1\n",
       "tdOZx    1\n",
       "jpZXA    1\n",
       "UXR5S    1\n",
       "2u1WK    1\n",
       "Name: id, Length: 99996, dtype: int64"
      ]
     },
     "metadata": {},
     "output_type": "display_data"
    }
   ],
   "source": [
    "display(df0['id'].value_counts().head(11))\n",
    "display(df1['id'].value_counts())\n",
    "display(df2['id'].value_counts())"
   ]
  },
  {
   "cell_type": "markdown",
   "metadata": {},
   "source": [
    "Уникальных идентификаторов почти столько же, сколько строк. Есть несколько повторяющихся названий. Посмотрим на эти строки, чтобы убедиться, что это не дубликаты."
   ]
  },
  {
   "cell_type": "code",
   "execution_count": 6,
   "metadata": {},
   "outputs": [
    {
     "data": {
      "text/html": [
       "<div>\n",
       "<style scoped>\n",
       "    .dataframe tbody tr th:only-of-type {\n",
       "        vertical-align: middle;\n",
       "    }\n",
       "\n",
       "    .dataframe tbody tr th {\n",
       "        vertical-align: top;\n",
       "    }\n",
       "\n",
       "    .dataframe thead th {\n",
       "        text-align: right;\n",
       "    }\n",
       "</style>\n",
       "<table border=\"1\" class=\"dataframe\">\n",
       "  <thead>\n",
       "    <tr style=\"text-align: right;\">\n",
       "      <th></th>\n",
       "      <th>id</th>\n",
       "      <th>f0</th>\n",
       "      <th>f1</th>\n",
       "      <th>f2</th>\n",
       "      <th>product</th>\n",
       "    </tr>\n",
       "  </thead>\n",
       "  <tbody>\n",
       "    <tr>\n",
       "      <th>66136</th>\n",
       "      <td>74z30</td>\n",
       "      <td>1.084962</td>\n",
       "      <td>-0.312358</td>\n",
       "      <td>6.990771</td>\n",
       "      <td>127.643327</td>\n",
       "    </tr>\n",
       "    <tr>\n",
       "      <th>64022</th>\n",
       "      <td>74z30</td>\n",
       "      <td>0.741456</td>\n",
       "      <td>0.459229</td>\n",
       "      <td>5.153109</td>\n",
       "      <td>140.771492</td>\n",
       "    </tr>\n",
       "    <tr>\n",
       "      <th>51970</th>\n",
       "      <td>A5aEY</td>\n",
       "      <td>-0.180335</td>\n",
       "      <td>0.935548</td>\n",
       "      <td>-2.094773</td>\n",
       "      <td>33.020205</td>\n",
       "    </tr>\n",
       "    <tr>\n",
       "      <th>3389</th>\n",
       "      <td>A5aEY</td>\n",
       "      <td>-0.039949</td>\n",
       "      <td>0.156872</td>\n",
       "      <td>0.209861</td>\n",
       "      <td>89.249364</td>\n",
       "    </tr>\n",
       "    <tr>\n",
       "      <th>69163</th>\n",
       "      <td>AGS9W</td>\n",
       "      <td>-0.933795</td>\n",
       "      <td>0.116194</td>\n",
       "      <td>-3.655896</td>\n",
       "      <td>19.230453</td>\n",
       "    </tr>\n",
       "    <tr>\n",
       "      <th>42529</th>\n",
       "      <td>AGS9W</td>\n",
       "      <td>1.454747</td>\n",
       "      <td>-0.479651</td>\n",
       "      <td>0.683380</td>\n",
       "      <td>126.370504</td>\n",
       "    </tr>\n",
       "    <tr>\n",
       "      <th>931</th>\n",
       "      <td>HZww2</td>\n",
       "      <td>0.755284</td>\n",
       "      <td>0.368511</td>\n",
       "      <td>1.863211</td>\n",
       "      <td>30.681774</td>\n",
       "    </tr>\n",
       "    <tr>\n",
       "      <th>7530</th>\n",
       "      <td>HZww2</td>\n",
       "      <td>1.061194</td>\n",
       "      <td>-0.373969</td>\n",
       "      <td>10.430210</td>\n",
       "      <td>158.828695</td>\n",
       "    </tr>\n",
       "    <tr>\n",
       "      <th>63593</th>\n",
       "      <td>QcMuo</td>\n",
       "      <td>0.635635</td>\n",
       "      <td>-0.473422</td>\n",
       "      <td>0.862670</td>\n",
       "      <td>64.578675</td>\n",
       "    </tr>\n",
       "    <tr>\n",
       "      <th>1949</th>\n",
       "      <td>QcMuo</td>\n",
       "      <td>0.506563</td>\n",
       "      <td>-0.323775</td>\n",
       "      <td>-2.215583</td>\n",
       "      <td>75.496502</td>\n",
       "    </tr>\n",
       "    <tr>\n",
       "      <th>75715</th>\n",
       "      <td>Tdehs</td>\n",
       "      <td>0.112079</td>\n",
       "      <td>0.430296</td>\n",
       "      <td>3.218993</td>\n",
       "      <td>60.964018</td>\n",
       "    </tr>\n",
       "    <tr>\n",
       "      <th>21426</th>\n",
       "      <td>Tdehs</td>\n",
       "      <td>0.829407</td>\n",
       "      <td>0.298807</td>\n",
       "      <td>-0.049563</td>\n",
       "      <td>96.035308</td>\n",
       "    </tr>\n",
       "    <tr>\n",
       "      <th>92341</th>\n",
       "      <td>TtcGQ</td>\n",
       "      <td>0.110711</td>\n",
       "      <td>1.022689</td>\n",
       "      <td>0.911381</td>\n",
       "      <td>101.318008</td>\n",
       "    </tr>\n",
       "    <tr>\n",
       "      <th>60140</th>\n",
       "      <td>TtcGQ</td>\n",
       "      <td>0.569276</td>\n",
       "      <td>-0.104876</td>\n",
       "      <td>6.440215</td>\n",
       "      <td>85.350186</td>\n",
       "    </tr>\n",
       "    <tr>\n",
       "      <th>89582</th>\n",
       "      <td>bsk9y</td>\n",
       "      <td>0.398908</td>\n",
       "      <td>-0.400253</td>\n",
       "      <td>10.122376</td>\n",
       "      <td>163.433078</td>\n",
       "    </tr>\n",
       "    <tr>\n",
       "      <th>97785</th>\n",
       "      <td>bsk9y</td>\n",
       "      <td>0.378429</td>\n",
       "      <td>0.005837</td>\n",
       "      <td>0.160827</td>\n",
       "      <td>160.637302</td>\n",
       "    </tr>\n",
       "    <tr>\n",
       "      <th>41724</th>\n",
       "      <td>bxg6G</td>\n",
       "      <td>-0.823752</td>\n",
       "      <td>0.546319</td>\n",
       "      <td>3.630479</td>\n",
       "      <td>93.007798</td>\n",
       "    </tr>\n",
       "    <tr>\n",
       "      <th>1364</th>\n",
       "      <td>bxg6G</td>\n",
       "      <td>0.411645</td>\n",
       "      <td>0.856830</td>\n",
       "      <td>-3.653440</td>\n",
       "      <td>73.604260</td>\n",
       "    </tr>\n",
       "    <tr>\n",
       "      <th>16633</th>\n",
       "      <td>fiKDv</td>\n",
       "      <td>0.157341</td>\n",
       "      <td>1.028359</td>\n",
       "      <td>5.585586</td>\n",
       "      <td>95.817889</td>\n",
       "    </tr>\n",
       "    <tr>\n",
       "      <th>90815</th>\n",
       "      <td>fiKDv</td>\n",
       "      <td>0.049883</td>\n",
       "      <td>0.841313</td>\n",
       "      <td>6.394613</td>\n",
       "      <td>137.346586</td>\n",
       "    </tr>\n",
       "  </tbody>\n",
       "</table>\n",
       "</div>"
      ],
      "text/plain": [
       "          id        f0        f1         f2     product\n",
       "66136  74z30  1.084962 -0.312358   6.990771  127.643327\n",
       "64022  74z30  0.741456  0.459229   5.153109  140.771492\n",
       "51970  A5aEY -0.180335  0.935548  -2.094773   33.020205\n",
       "3389   A5aEY -0.039949  0.156872   0.209861   89.249364\n",
       "69163  AGS9W -0.933795  0.116194  -3.655896   19.230453\n",
       "42529  AGS9W  1.454747 -0.479651   0.683380  126.370504\n",
       "931    HZww2  0.755284  0.368511   1.863211   30.681774\n",
       "7530   HZww2  1.061194 -0.373969  10.430210  158.828695\n",
       "63593  QcMuo  0.635635 -0.473422   0.862670   64.578675\n",
       "1949   QcMuo  0.506563 -0.323775  -2.215583   75.496502\n",
       "75715  Tdehs  0.112079  0.430296   3.218993   60.964018\n",
       "21426  Tdehs  0.829407  0.298807  -0.049563   96.035308\n",
       "92341  TtcGQ  0.110711  1.022689   0.911381  101.318008\n",
       "60140  TtcGQ  0.569276 -0.104876   6.440215   85.350186\n",
       "89582  bsk9y  0.398908 -0.400253  10.122376  163.433078\n",
       "97785  bsk9y  0.378429  0.005837   0.160827  160.637302\n",
       "41724  bxg6G -0.823752  0.546319   3.630479   93.007798\n",
       "1364   bxg6G  0.411645  0.856830  -3.653440   73.604260\n",
       "16633  fiKDv  0.157341  1.028359   5.585586   95.817889\n",
       "90815  fiKDv  0.049883  0.841313   6.394613  137.346586"
      ]
     },
     "metadata": {},
     "output_type": "display_data"
    },
    {
     "data": {
      "text/html": [
       "<div>\n",
       "<style scoped>\n",
       "    .dataframe tbody tr th:only-of-type {\n",
       "        vertical-align: middle;\n",
       "    }\n",
       "\n",
       "    .dataframe tbody tr th {\n",
       "        vertical-align: top;\n",
       "    }\n",
       "\n",
       "    .dataframe thead th {\n",
       "        text-align: right;\n",
       "    }\n",
       "</style>\n",
       "<table border=\"1\" class=\"dataframe\">\n",
       "  <thead>\n",
       "    <tr style=\"text-align: right;\">\n",
       "      <th></th>\n",
       "      <th>id</th>\n",
       "      <th>f0</th>\n",
       "      <th>f1</th>\n",
       "      <th>f2</th>\n",
       "      <th>product</th>\n",
       "    </tr>\n",
       "  </thead>\n",
       "  <tbody>\n",
       "    <tr>\n",
       "      <th>5849</th>\n",
       "      <td>5ltQ6</td>\n",
       "      <td>-3.435401</td>\n",
       "      <td>-12.296043</td>\n",
       "      <td>1.999796</td>\n",
       "      <td>57.085625</td>\n",
       "    </tr>\n",
       "    <tr>\n",
       "      <th>84461</th>\n",
       "      <td>5ltQ6</td>\n",
       "      <td>18.213839</td>\n",
       "      <td>2.191999</td>\n",
       "      <td>3.993869</td>\n",
       "      <td>107.813044</td>\n",
       "    </tr>\n",
       "    <tr>\n",
       "      <th>1305</th>\n",
       "      <td>LHZR0</td>\n",
       "      <td>11.170835</td>\n",
       "      <td>-1.945066</td>\n",
       "      <td>3.002872</td>\n",
       "      <td>80.859783</td>\n",
       "    </tr>\n",
       "    <tr>\n",
       "      <th>41906</th>\n",
       "      <td>LHZR0</td>\n",
       "      <td>-8.989672</td>\n",
       "      <td>-4.286607</td>\n",
       "      <td>2.009139</td>\n",
       "      <td>57.085625</td>\n",
       "    </tr>\n",
       "    <tr>\n",
       "      <th>2721</th>\n",
       "      <td>bfPNe</td>\n",
       "      <td>-9.494442</td>\n",
       "      <td>-5.463692</td>\n",
       "      <td>4.006042</td>\n",
       "      <td>110.992147</td>\n",
       "    </tr>\n",
       "    <tr>\n",
       "      <th>82178</th>\n",
       "      <td>bfPNe</td>\n",
       "      <td>-6.202799</td>\n",
       "      <td>-4.820045</td>\n",
       "      <td>2.995107</td>\n",
       "      <td>84.038886</td>\n",
       "    </tr>\n",
       "    <tr>\n",
       "      <th>47591</th>\n",
       "      <td>wt4Uk</td>\n",
       "      <td>-9.091098</td>\n",
       "      <td>-8.109279</td>\n",
       "      <td>-0.002314</td>\n",
       "      <td>3.179103</td>\n",
       "    </tr>\n",
       "    <tr>\n",
       "      <th>82873</th>\n",
       "      <td>wt4Uk</td>\n",
       "      <td>10.259972</td>\n",
       "      <td>-9.376355</td>\n",
       "      <td>4.994297</td>\n",
       "      <td>134.766305</td>\n",
       "    </tr>\n",
       "  </tbody>\n",
       "</table>\n",
       "</div>"
      ],
      "text/plain": [
       "          id         f0         f1        f2     product\n",
       "5849   5ltQ6  -3.435401 -12.296043  1.999796   57.085625\n",
       "84461  5ltQ6  18.213839   2.191999  3.993869  107.813044\n",
       "1305   LHZR0  11.170835  -1.945066  3.002872   80.859783\n",
       "41906  LHZR0  -8.989672  -4.286607  2.009139   57.085625\n",
       "2721   bfPNe  -9.494442  -5.463692  4.006042  110.992147\n",
       "82178  bfPNe  -6.202799  -4.820045  2.995107   84.038886\n",
       "47591  wt4Uk  -9.091098  -8.109279 -0.002314    3.179103\n",
       "82873  wt4Uk  10.259972  -9.376355  4.994297  134.766305"
      ]
     },
     "metadata": {},
     "output_type": "display_data"
    },
    {
     "data": {
      "text/html": [
       "<div>\n",
       "<style scoped>\n",
       "    .dataframe tbody tr th:only-of-type {\n",
       "        vertical-align: middle;\n",
       "    }\n",
       "\n",
       "    .dataframe tbody tr th {\n",
       "        vertical-align: top;\n",
       "    }\n",
       "\n",
       "    .dataframe thead th {\n",
       "        text-align: right;\n",
       "    }\n",
       "</style>\n",
       "<table border=\"1\" class=\"dataframe\">\n",
       "  <thead>\n",
       "    <tr style=\"text-align: right;\">\n",
       "      <th></th>\n",
       "      <th>id</th>\n",
       "      <th>f0</th>\n",
       "      <th>f1</th>\n",
       "      <th>f2</th>\n",
       "      <th>product</th>\n",
       "    </tr>\n",
       "  </thead>\n",
       "  <tbody>\n",
       "    <tr>\n",
       "      <th>45404</th>\n",
       "      <td>KUPhW</td>\n",
       "      <td>0.231846</td>\n",
       "      <td>-1.698941</td>\n",
       "      <td>4.990775</td>\n",
       "      <td>11.716299</td>\n",
       "    </tr>\n",
       "    <tr>\n",
       "      <th>55967</th>\n",
       "      <td>KUPhW</td>\n",
       "      <td>1.211150</td>\n",
       "      <td>3.176408</td>\n",
       "      <td>5.543540</td>\n",
       "      <td>132.831802</td>\n",
       "    </tr>\n",
       "    <tr>\n",
       "      <th>11449</th>\n",
       "      <td>VF7Jo</td>\n",
       "      <td>2.122656</td>\n",
       "      <td>-0.858275</td>\n",
       "      <td>5.746001</td>\n",
       "      <td>181.716817</td>\n",
       "    </tr>\n",
       "    <tr>\n",
       "      <th>49564</th>\n",
       "      <td>VF7Jo</td>\n",
       "      <td>-0.883115</td>\n",
       "      <td>0.560537</td>\n",
       "      <td>0.723601</td>\n",
       "      <td>136.233420</td>\n",
       "    </tr>\n",
       "    <tr>\n",
       "      <th>44378</th>\n",
       "      <td>Vcm5J</td>\n",
       "      <td>-1.229484</td>\n",
       "      <td>-2.439204</td>\n",
       "      <td>1.222909</td>\n",
       "      <td>137.968290</td>\n",
       "    </tr>\n",
       "    <tr>\n",
       "      <th>95090</th>\n",
       "      <td>Vcm5J</td>\n",
       "      <td>2.587702</td>\n",
       "      <td>1.986875</td>\n",
       "      <td>2.482245</td>\n",
       "      <td>92.327572</td>\n",
       "    </tr>\n",
       "    <tr>\n",
       "      <th>28039</th>\n",
       "      <td>xCHr8</td>\n",
       "      <td>1.633027</td>\n",
       "      <td>0.368135</td>\n",
       "      <td>-2.378367</td>\n",
       "      <td>6.120525</td>\n",
       "    </tr>\n",
       "    <tr>\n",
       "      <th>43233</th>\n",
       "      <td>xCHr8</td>\n",
       "      <td>-0.847066</td>\n",
       "      <td>2.101796</td>\n",
       "      <td>5.597130</td>\n",
       "      <td>184.388641</td>\n",
       "    </tr>\n",
       "  </tbody>\n",
       "</table>\n",
       "</div>"
      ],
      "text/plain": [
       "          id        f0        f1        f2     product\n",
       "45404  KUPhW  0.231846 -1.698941  4.990775   11.716299\n",
       "55967  KUPhW  1.211150  3.176408  5.543540  132.831802\n",
       "11449  VF7Jo  2.122656 -0.858275  5.746001  181.716817\n",
       "49564  VF7Jo -0.883115  0.560537  0.723601  136.233420\n",
       "44378  Vcm5J -1.229484 -2.439204  1.222909  137.968290\n",
       "95090  Vcm5J  2.587702  1.986875  2.482245   92.327572\n",
       "28039  xCHr8  1.633027  0.368135 -2.378367    6.120525\n",
       "43233  xCHr8 -0.847066  2.101796  5.597130  184.388641"
      ]
     },
     "metadata": {},
     "output_type": "display_data"
    }
   ],
   "source": [
    "display(df0[df0['id'].isin(['TtcGQ', 'fiKDv', 'bxg6G', 'A5aEY', 'AGS9W', 'QcMuo', 'HZww2', 'bsk9y',\n",
    "                           'Tdehs', '74z30'])].sort_values(by='id'))\n",
    "display(df1[df1['id'].isin(['bfPNe', '5ltQ6', 'wt4Uk', 'LHZR0'])].sort_values(by='id'))\n",
    "display(df2[df2['id'].isin(['xCHr8', 'Vcm5J', 'KUPhW', 'VF7Jo'])].sort_values(by='id'))"
   ]
  },
  {
   "cell_type": "markdown",
   "metadata": {},
   "source": [
    "Ничего общего, кроме id. Это не дубликаты, оставляем их."
   ]
  },
  {
   "cell_type": "markdown",
   "metadata": {},
   "source": [
    "Линейная регрессия, которую необходимо использовать по условию задачи, требует чтобы все признаки были численными. Кодировать идентификаторы смысла нет, потому что они почти все разные. К тому же они не имеют никакого отношения к параметрам скважины. Поэтому для модели возьмем только численные признаки. Посмотрим корреляцию признаков с целевым *и распределение целевого.*"
   ]
  },
  {
   "cell_type": "code",
   "execution_count": 7,
   "metadata": {},
   "outputs": [],
   "source": [
    "def df_corr(df):\n",
    "    corr = df.corr()\n",
    "    sns.heatmap(corr, xticklabels=corr.columns, yticklabels=corr.columns, annot = True)"
   ]
  },
  {
   "cell_type": "code",
   "execution_count": 8,
   "metadata": {},
   "outputs": [
    {
     "data": {
      "image/png": "[encoded data removed]",
      "text/plain": [
       "<Figure size 432x288 with 2 Axes>"
      ]
     },
     "metadata": {
      "needs_background": "light"
     },
     "output_type": "display_data"
    }
   ],
   "source": [
    "df_corr(df0)"
   ]
  },
  {
   "cell_type": "code",
   "execution_count": 9,
   "metadata": {},
   "outputs": [
    {
     "data": {
      "image/png": "[encoded data removed]",
      "text/plain": [
       "<Figure size 432x288 with 2 Axes>"
      ]
     },
     "metadata": {
      "needs_background": "light"
     },
     "output_type": "display_data"
    }
   ],
   "source": [
    "df_corr(df1)"
   ]
  },
  {
   "cell_type": "code",
   "execution_count": 10,
   "metadata": {},
   "outputs": [
    {
     "data": {
      "image/png": "[encoded data removed]",
      "text/plain": [
       "<Figure size 432x288 with 2 Axes>"
      ]
     },
     "metadata": {
      "needs_background": "light"
     },
     "output_type": "display_data"
    }
   ],
   "source": [
    "df_corr(df2)"
   ]
  },
  {
   "cell_type": "code",
   "execution_count": 11,
   "metadata": {},
   "outputs": [
    {
     "data": {
      "image/png": "[encoded data removed]",
      "text/plain": [
       "<Figure size 432x288 with 1 Axes>"
      ]
     },
     "metadata": {
      "needs_background": "light"
     },
     "output_type": "display_data"
    }
   ],
   "source": [
    "plt.boxplot([df0['product'], df1['product'], df2['product']], labels=['Регион 0', 'Регион 1', 'Регион 2']);\n",
    "plt.title('Распределение целевого признака');"
   ]
  },
  {
   "cell_type": "code",
   "execution_count": 13,
   "metadata": {},
   "outputs": [
    {
     "data": {
      "image/png": "[encoded data removed]",
      "text/plain": [
       "<Figure size 432x288 with 1 Axes>"
      ]
     },
     "metadata": {
      "needs_background": "light"
     },
     "output_type": "display_data"
    },
    {
     "data": {
      "image/png": "[encoded data removed]",
      "text/plain": [
       "<Figure size 432x288 with 1 Axes>"
      ]
     },
     "metadata": {
      "needs_background": "light"
     },
     "output_type": "display_data"
    },
    {
     "data": {
      "image/png": "[encoded data removed]",
      "text/plain": [
       "<Figure size 432x288 with 1 Axes>"
      ]
     },
     "metadata": {
      "needs_background": "light"
     },
     "output_type": "display_data"
    }
   ],
   "source": [
    "plt.hist(df0['product'])\n",
    "plt.title('Распределение целевого признака первого региона')\n",
    "plt.xlabel('Запасы сырья')\n",
    "plt.ylabel('Количество наблюдений')\n",
    "plt.show()\n",
    "\n",
    "plt.hist(df1['product'])\n",
    "plt.title('Распределение целевого признака второго региона')\n",
    "plt.xlabel('Запасы сырья')\n",
    "plt.ylabel('Количество наблюдений')\n",
    "plt.show()\n",
    "\n",
    "plt.hist(df2['product'])\n",
    "plt.title('Распределение целевого признака третьего региона')\n",
    "plt.xlabel('Запасы сырья')\n",
    "plt.ylabel('Количество наблюдений')\n",
    "plt.show()"
   ]
  },
  {
   "cell_type": "code",
   "execution_count": 14,
   "metadata": {},
   "outputs": [
    {
     "data": {
      "image/png": "[encoded data removed]",
      "text/plain": [
       "<Figure size 432x288 with 1 Axes>"
      ]
     },
     "metadata": {
      "needs_background": "light"
     },
     "output_type": "display_data"
    }
   ],
   "source": [
    "plt.hist(df1['f2'])\n",
    "plt.title('Распределение признака f2 второго региона')\n",
    "plt.xlabel('Запасы сырья')\n",
    "plt.ylabel('Количество наблюдений')\n",
    "plt.show()"
   ]
  },
  {
   "cell_type": "markdown",
   "metadata": {},
   "source": [
    "В 1 регионе признак f2 сильно коррелирует с целевым. *Целевой признак распределен примерно одинаково во всех трех регионах, разве что в регионе 1 медиана меньше, но все распределение немного уже, чем  у остальных.* Разделим все датасеты на обучающие и валидационные выборки в соотношении 75:25 и отмасштабируем признаки."
   ]
  },
  {
   "cell_type": "code",
   "execution_count": 12,
   "metadata": {},
   "outputs": [],
   "source": [
    "numeric = ['f0', 'f1', 'f2', 'product']\n",
    "\n",
    "def preparation (df, target_name):\n",
    "\n",
    "    target = df[target_name]\n",
    "    features = df.drop(target_name, axis=1)\n",
    "    features_train, features_valid, target_train, target_valid = train_test_split(\n",
    "    features, target, test_size=0.25, random_state=12345)\n",
    "    column_names = df.columns[:-1]\n",
    "    scaler = StandardScaler()\n",
    "    scaler.fit(features_train[column_names])\n",
    "    features_train = pd.DataFrame(scaler.transform(features_train), index=features_train.index, columns=column_names)\n",
    "    features_valid = pd.DataFrame(scaler.transform(features_valid), index=features_valid.index, columns=column_names)\n",
    "    return features_train, target_train, features_valid, target_valid\n",
    "\n",
    "features_train0, target_train0, features_valid0, target_valid0 = preparation (df0[numeric], 'product')\n",
    "features_train1, target_train1, features_valid1, target_valid1 = preparation (df1[numeric], 'product')\n",
    "features_train2, target_train2, features_valid2, target_valid2 = preparation (df2[numeric], 'product')"
   ]
  },
  {
   "cell_type": "markdown",
   "metadata": {},
   "source": [
    "Данные подготовлены: проверено отсутствие явных и неявных дубликатов, визуализированы корреляции численных признаков и распределение целевого; данные отмасшабированы и разделены на выборки - обучающие и валидационные.  \n",
    "\n",
    "В 1 регионе признак f2 сильно коррелирует с целевым. Целевой признак распределен примерно одинаково во всех трех регионах."
   ]
  },
  {
   "cell_type": "markdown",
   "metadata": {},
   "source": [
    "## Обучение и проверка модели"
   ]
  },
  {
   "cell_type": "code",
   "execution_count": 13,
   "metadata": {
    "scrolled": true
   },
   "outputs": [
    {
     "name": "stdout",
     "output_type": "stream",
     "text": [
      "Средний объем и ошибка для региона 0: 92.59, 37.58\n",
      "Средний объем и ошибка для региона 1: 68.73, 0.89\n",
      "Средний объем и ошибка для региона 2: 94.97, 40.03\n"
     ]
    }
   ],
   "source": [
    "def LinearReg_train_and_check (features_train, target_train, features_valid, target_valid):\n",
    "    \n",
    "    model = LinearRegression()\n",
    "    model.fit(features_train, target_train)\n",
    "    predictions = pd.Series(model.predict(features_valid), index=target_valid.index)\n",
    "    mean_estimated = predictions.mean()\n",
    "    rmse = sqrt(mean_squared_error(target_valid, predictions))\n",
    "    return predictions, mean_estimated, rmse\n",
    "\n",
    "predictions0, mean_estimated0, rmse0 = LinearReg_train_and_check (features_train0, target_train0, \n",
    "                                                                  features_valid0, target_valid0)\n",
    "predictions1, mean_estimated1, rmse1 = LinearReg_train_and_check (features_train1, target_train1, \n",
    "                                                                  features_valid1, target_valid1)\n",
    "predictions2, mean_estimated2, rmse2 = LinearReg_train_and_check (features_train2, target_train2, \n",
    "                                                                  features_valid2, target_valid2)\n",
    "\n",
    "print('Средний объем и ошибка для региона 0:', '%.2f, %.2f' % (mean_estimated0, rmse0))\n",
    "print('Средний объем и ошибка для региона 1:', '%.2f, %.2f' % (mean_estimated1, rmse1))\n",
    "print('Средний объем и ошибка для региона 2:', '%.2f, %.2f' % (mean_estimated2, rmse2))"
   ]
  },
  {
   "cell_type": "markdown",
   "metadata": {},
   "source": [
    "По оценке модели, наибольший средний объем нефти во 2 регионе - 94.97т.б. Регион 0 отстает ненамного - 92.59т.б. Регион 1 имеет значительно меньшие запасы - 68.73т.б. Среднеквадратичное отклонение у 1 региона низкое из-за корреляции."
   ]
  },
  {
   "cell_type": "markdown",
   "metadata": {},
   "source": [
    "## Подготовка к расчёту прибыли"
   ]
  },
  {
   "cell_type": "markdown",
   "metadata": {},
   "source": [
    "При разведке региона исследуют 500 точек, из которых с помощью машинного обучения выбирают 200 лучших для разработки.\n",
    "\n",
    "Бюджет на разработку скважин в регионе — 10 млрд рублей.\n",
    "\n",
    "При нынешних ценах один баррель сырья приносит 450 рублей дохода. Доход с каждой единицы продукта составляет 450 тыс. рублей, поскольку объём указан в тысячах баррелей.\n",
    "\n",
    "После оценки рисков нужно оставить лишь те регионы, в которых вероятность убытков меньше 2.5%. Среди них выбирают регион с наибольшей средней прибылью."
   ]
  },
  {
   "cell_type": "code",
   "execution_count": 14,
   "metadata": {},
   "outputs": [
    {
     "name": "stdout",
     "output_type": "stream",
     "text": [
      "Минимальный объем для безубыточной разработки: 111.11\n"
     ]
    }
   ],
   "source": [
    "MIN_VOLUME = BUDGET / PROFIT_PER_KBAR / TOP_POINTS\n",
    "print('Минимальный объем для безубыточной разработки:', '%.2f' % MIN_VOLUME)"
   ]
  },
  {
   "cell_type": "markdown",
   "metadata": {},
   "source": [
    "Требуемый объем больше предсказанных средних объемов для всех трех регионов. Причем в регионе 1 средний объем скважины составляет всего 61% от необходимого. Но эти значения (92, 68, 94) - средние, т.е. это ожидаемый объем среднестатистичекой скважины в регионе, рассчитанный на основе 25000 точек, а будущая разработка предполагает только 200. Для оценки прибыли и рисков в каждом регионе воспользуемся техникой Bootstrap - рассмотрим 500 случайных точек, выберем из них 200 лучших и посчитаем прибыль на них, а потом повторим эти операции 1000 раз. Это позволит сделать вывод о том, какая вероятность соотвествует каждой возможной прибыли в регионе."
   ]
  },
  {
   "cell_type": "markdown",
   "metadata": {},
   "source": [
    "## Расчёт прибыли и рисков "
   ]
  },
  {
   "cell_type": "markdown",
   "metadata": {},
   "source": [
    "Напишем функцию для расчёта прибыли по выбранным скважинам и предсказаниям модели."
   ]
  },
  {
   "cell_type": "code",
   "execution_count": 15,
   "metadata": {},
   "outputs": [],
   "source": [
    "#функция определения прибыли с лучших count точек при цене за единицу price минус инвестиции (здесь budget)\n",
    "#деление на 1000000000 дает результат в млрд.руб\n",
    "def revenue(target, predictions, count, price):\n",
    "    pred_sorted = predictions.sort_values(ascending=False)\n",
    "    selected = target[pred_sorted.index][:count]\n",
    "    return (price * selected.sum() - BUDGET)/1000000000"
   ]
  },
  {
   "cell_type": "markdown",
   "metadata": {},
   "source": [
    "Применим эту функцию, т.е. узнаем, сколько прибыли (в млрд.руб.) принесут самые лучшие скважины за вычетом вложенных 10млрд."
   ]
  },
  {
   "cell_type": "code",
   "execution_count": 16,
   "metadata": {},
   "outputs": [
    {
     "name": "stdout",
     "output_type": "stream",
     "text": [
      "3.321\n",
      "2.415\n",
      "2.71\n"
     ]
    }
   ],
   "source": [
    "rev0 = revenue(target_valid0, predictions0, TOP_POINTS, PROFIT_PER_KBAR)\n",
    "rev1 = revenue(target_valid1, predictions1, TOP_POINTS, PROFIT_PER_KBAR)\n",
    "rev2 = revenue(target_valid2, predictions2, TOP_POINTS, PROFIT_PER_KBAR)\n",
    "print(round(rev0,3))\n",
    "print(round(rev1,3))\n",
    "print(round(rev2,3))"
   ]
  },
  {
   "cell_type": "markdown",
   "metadata": {},
   "source": [
    "Наибольшую прибыль обещают лучшие скважины в 0 регионе, наименьшую - в 1."
   ]
  },
  {
   "cell_type": "markdown",
   "metadata": {},
   "source": [
    "Применим технику Bootstrap с 1000 выборок, чтобы найти распределение прибыли для каждого региона."
   ]
  },
  {
   "cell_type": "code",
   "execution_count": 17,
   "metadata": {},
   "outputs": [],
   "source": [
    "#функция для применения n итераций бутстрапа с выборками размера sample_size и отбираемыми selected_size лучшимим\n",
    "#дополнительно оценивает вероятность отрицательной прибыли\n",
    "\n",
    "def Bootstrap (target, predictions, sample_size, selected_size, n):\n",
    "    profits = []\n",
    "    losses = 0\n",
    "    for i in range(n):\n",
    "        target_subsample = target.sample(sample_size, replace=True, random_state=state)\n",
    "        pred_subsample = predictions[target_subsample.index]\n",
    "        rev = revenue(target_subsample, pred_subsample, selected_size, PROFIT_PER_KBAR)\n",
    "        profits.append(revenue(target_subsample, pred_subsample, selected_size, PROFIT_PER_KBAR))\n",
    "        if rev<0:\n",
    "            losses+=1\n",
    "    profits = pd.Series(profits)\n",
    "    losses_prob = losses/n\n",
    "    return profits, losses_prob   "
   ]
  },
  {
   "cell_type": "code",
   "execution_count": 18,
   "metadata": {
    "scrolled": false
   },
   "outputs": [
    {
     "name": "stdout",
     "output_type": "stream",
     "text": [
      "0 регион\n",
      "Средняя прибыль в регионе: 0.43 млрд.руб.\n",
      "Доверительный 95% интервал: (-0.102; 0.948)\n",
      "Вероятность убытков: 6.0%\n"
     ]
    },
    {
     "data": {
      "image/png": "[encoded data removed]",
      "text/plain": [
       "<Figure size 432x288 with 1 Axes>"
      ]
     },
     "metadata": {
      "needs_background": "light"
     },
     "output_type": "display_data"
    }
   ],
   "source": [
    "profits0, losses_prob_0 = Bootstrap(target_valid0, predictions0, POINTS_NUM, TOP_POINTS, 1000)\n",
    "profits0.hist(bins=30, color='green');\n",
    "plt.title('Распределение прибыли в регионе 0')\n",
    "plt.ylabel('Частота появления')\n",
    "plt.xlabel('Прибыль')\n",
    "print('0 регион')\n",
    "print(f'Средняя прибыль в регионе: {round(profits0.mean(), 2)} млрд.руб.')\n",
    "print(f'Доверительный 95% интервал: ({round(profits0.quantile(0.025),3)}; {round(profits0.quantile(0.975),3)})')\n",
    "print(f'Вероятность убытков: {round(losses_prob_0*100, 3)}%')"
   ]
  },
  {
   "cell_type": "code",
   "execution_count": 19,
   "metadata": {},
   "outputs": [
    {
     "name": "stdout",
     "output_type": "stream",
     "text": [
      "1 регион\n",
      "Средняя прибыль в регионе: 0.52 млрд.руб.\n",
      "Доверительный 95% интервал: (0.128; 0.954)\n",
      "Вероятность убытков: 0.3%\n"
     ]
    },
    {
     "data": {
      "image/png": "[encoded data removed]",
      "text/plain": [
       "<Figure size 432x288 with 1 Axes>"
      ]
     },
     "metadata": {
      "needs_background": "light"
     },
     "output_type": "display_data"
    }
   ],
   "source": [
    "profits1, losses_prob_1 = Bootstrap(target_valid1, predictions1, POINTS_NUM, TOP_POINTS, 1000)\n",
    "profits1.hist(bins=30, color='purple');\n",
    "plt.title('Распределение прибыли в регионе 1')\n",
    "plt.ylabel('Частота появления')\n",
    "plt.xlabel('Прибыль')\n",
    "print('1 регион')\n",
    "print(f'Средняя прибыль в регионе: {round(profits1.mean(), 2)} млрд.руб.')\n",
    "print(f'Доверительный 95% интервал: ({round(profits1.quantile(0.025),3)}; {round(profits1.quantile(0.975),3)})')\n",
    "print(f'Вероятность убытков: {round(losses_prob_1*100, 3)}%')"
   ]
  },
  {
   "cell_type": "code",
   "execution_count": 20,
   "metadata": {},
   "outputs": [
    {
     "name": "stdout",
     "output_type": "stream",
     "text": [
      "2 регион\n",
      "Средняя прибыль в регионе: 0.42 млрд.руб.\n",
      "Доверительный 95% интервал: (-0.116; 0.99)\n",
      "Вероятность убытков: 6.2%\n"
     ]
    },
    {
     "data": {
      "image/png": "[encoded data removed]",
      "text/plain": [
       "<Figure size 432x288 with 1 Axes>"
      ]
     },
     "metadata": {
      "needs_background": "light"
     },
     "output_type": "display_data"
    }
   ],
   "source": [
    "profits2, losses_prob_2 = Bootstrap(target_valid2, predictions2, POINTS_NUM, TOP_POINTS, 1000)\n",
    "profits2.hist(bins=30, color='orange');\n",
    "plt.title('Распределение прибыли в регионе 2')\n",
    "plt.ylabel('Частота появления')\n",
    "plt.xlabel('Прибыль')\n",
    "print('2 регион')\n",
    "print(f'Средняя прибыль в регионе: {round(profits2.mean(), 2)} млрд.руб.')\n",
    "print(f'Доверительный 95% интервал: ({round(profits2.quantile(0.025),3)}; {round(profits2.quantile(0.975),3)})')\n",
    "print(f'Вероятность убытков: {round(losses_prob_2*100, 3)}%')"
   ]
  },
  {
   "cell_type": "markdown",
   "metadata": {},
   "source": [
    "Многообещающие 0 и 2 регионы не удовлетворяют требованию в отношении рисков. В 1 регионе вероятность рисков очень низка по причине сильной корреляции одного из признаков с целевым именно в этом регионе. По условию максимума средней прибыли побеждает также 1 регион.\n",
    "\n",
    "**В результате наиболее перспективный регион для разработки - 1.**"
   ]
  },
  {
   "cell_type": "markdown",
   "metadata": {},
   "source": [
    "## Вывод "
   ]
  },
  {
   "cell_type": "markdown",
   "metadata": {},
   "source": [
    "**В проекте были рассмотрены 3 датасета - 100000 строк в каждом, содержащие характеристики месторождений нефти в 3 регионах. Задачей было определить наиболее прибыльный регион для добычи при установленных условиях (бюджет, цена за баррель, число скважин, допустимый риск потерь). Данные были подготовлены (отмасштабированы, разделены на обучающую и валидационную выборки), после чего, с помощью линейной регрессии и техники Bootstrap, для каждого региона были получены: средняя прибыль, доверительный 95% интервал и вероятность убытков. По условию ограничения рисков прошел только регион 1: хоть и средний объем скважины здесь наименьший, этот регион самый предсказуемый. Чрезвычайно низкая вероятность убытков в нем вызвана очень высокой (0.99) корреляцией одного из признаков с целевым в датасете по этому региону.**\n",
    "\n",
    "**Примечание: наличие такого сильно коррелирующего признака в остальных двух датасетах может привести к изменению результатов в сторону увеличения потенциальной прибыли, так как регионы 0 и 2 имеют, в среднем, скважины большего объема. Возможно, стоит поработать со сбором данных в этих регионах.** "
   ]
  }
 ],
 "metadata": {
  "ExecuteTimeLog": [
   {
    "duration": 1190,
    "start_time": "2023-05-25T12:08:59.090Z"
   },
   {
    "duration": 842,
    "start_time": "2023-05-25T12:09:00.431Z"
   },
   {
    "duration": 400,
    "start_time": "2023-05-25T12:09:35.578Z"
   },
   {
    "duration": 398,
    "start_time": "2023-05-25T12:10:24.336Z"
   },
   {
    "duration": 90,
    "start_time": "2023-05-25T12:15:07.591Z"
   },
   {
    "duration": 127,
    "start_time": "2023-05-25T12:15:10.955Z"
   },
   {
    "duration": 108,
    "start_time": "2023-05-25T12:20:26.168Z"
   },
   {
    "duration": 71,
    "start_time": "2023-05-25T12:21:09.657Z"
   },
   {
    "duration": 52,
    "start_time": "2023-05-25T12:21:16.328Z"
   },
   {
    "duration": 52,
    "start_time": "2023-05-25T12:21:19.425Z"
   },
   {
    "duration": 184,
    "start_time": "2023-05-25T12:21:56.728Z"
   },
   {
    "duration": 14,
    "start_time": "2023-05-25T12:22:32.970Z"
   },
   {
    "duration": 8,
    "start_time": "2023-05-25T12:49:03.674Z"
   },
   {
    "duration": 4,
    "start_time": "2023-05-25T12:49:10.696Z"
   },
   {
    "duration": 3,
    "start_time": "2023-05-25T12:49:20.920Z"
   },
   {
    "duration": 118,
    "start_time": "2023-05-25T12:51:30.096Z"
   },
   {
    "duration": 104,
    "start_time": "2023-05-25T12:52:12.472Z"
   },
   {
    "duration": 8,
    "start_time": "2023-05-25T12:52:20.654Z"
   },
   {
    "duration": 9,
    "start_time": "2023-05-25T12:52:31.974Z"
   },
   {
    "duration": 8,
    "start_time": "2023-05-25T12:52:52.072Z"
   },
   {
    "duration": 10,
    "start_time": "2023-05-25T13:16:57.905Z"
   },
   {
    "duration": 19,
    "start_time": "2023-05-25T13:17:02.968Z"
   },
   {
    "duration": 55,
    "start_time": "2023-05-25T13:17:05.511Z"
   },
   {
    "duration": 14,
    "start_time": "2023-05-25T13:17:18.752Z"
   },
   {
    "duration": 1683,
    "start_time": "2023-05-25T13:17:33.712Z"
   },
   {
    "duration": 1670,
    "start_time": "2023-05-25T13:21:18.054Z"
   },
   {
    "duration": 16,
    "start_time": "2023-05-25T13:21:43.407Z"
   },
   {
    "duration": 2807,
    "start_time": "2023-05-25T13:22:01.606Z"
   },
   {
    "duration": 2266,
    "start_time": "2023-05-25T13:23:24.141Z"
   },
   {
    "duration": 2428,
    "start_time": "2023-05-25T13:23:55.092Z"
   },
   {
    "duration": 1771,
    "start_time": "2023-05-25T13:24:53.092Z"
   },
   {
    "duration": 44,
    "start_time": "2023-05-25T13:25:27.740Z"
   },
   {
    "duration": 50,
    "start_time": "2023-05-25T13:26:06.776Z"
   },
   {
    "duration": 49,
    "start_time": "2023-05-25T13:26:24.446Z"
   },
   {
    "duration": 26,
    "start_time": "2023-05-25T13:26:57.483Z"
   },
   {
    "duration": 26,
    "start_time": "2023-05-25T13:27:17.210Z"
   },
   {
    "duration": 26,
    "start_time": "2023-05-25T13:28:07.898Z"
   },
   {
    "duration": 24,
    "start_time": "2023-05-25T13:29:12.084Z"
   },
   {
    "duration": 24,
    "start_time": "2023-05-25T13:29:21.640Z"
   },
   {
    "duration": 24,
    "start_time": "2023-05-25T13:29:27.241Z"
   },
   {
    "duration": 26,
    "start_time": "2023-05-25T13:29:36.810Z"
   },
   {
    "duration": 28,
    "start_time": "2023-05-25T13:29:54.220Z"
   },
   {
    "duration": 27,
    "start_time": "2023-05-25T13:30:24.393Z"
   },
   {
    "duration": 50,
    "start_time": "2023-05-25T13:30:56.217Z"
   },
   {
    "duration": 3,
    "start_time": "2023-05-25T13:34:30.318Z"
   },
   {
    "duration": 1275,
    "start_time": "2023-05-25T13:36:07.710Z"
   },
   {
    "duration": 49,
    "start_time": "2023-05-25T13:36:49.568Z"
   },
   {
    "duration": 48,
    "start_time": "2023-05-25T13:37:15.502Z"
   },
   {
    "duration": 3099,
    "start_time": "2023-05-25T13:39:41.181Z"
   },
   {
    "duration": 56,
    "start_time": "2023-05-25T13:40:36.316Z"
   },
   {
    "duration": 51,
    "start_time": "2023-05-25T13:40:42.573Z"
   },
   {
    "duration": 48,
    "start_time": "2023-05-25T13:40:46.155Z"
   },
   {
    "duration": 2249,
    "start_time": "2023-05-25T13:41:16.675Z"
   },
   {
    "duration": 48,
    "start_time": "2023-05-25T13:43:21.548Z"
   },
   {
    "duration": 54,
    "start_time": "2023-05-25T13:43:32.058Z"
   },
   {
    "duration": 49,
    "start_time": "2023-05-25T13:44:33.163Z"
   },
   {
    "duration": 3,
    "start_time": "2023-05-25T14:07:23.631Z"
   },
   {
    "duration": 399,
    "start_time": "2023-05-25T14:07:23.635Z"
   },
   {
    "duration": 118,
    "start_time": "2023-05-25T14:07:24.035Z"
   },
   {
    "duration": 51,
    "start_time": "2023-05-25T14:07:24.162Z"
   },
   {
    "duration": 71,
    "start_time": "2023-05-25T14:07:24.215Z"
   },
   {
    "duration": 21,
    "start_time": "2023-05-25T14:07:28.075Z"
   },
   {
    "duration": 20,
    "start_time": "2023-05-25T14:07:48.722Z"
   },
   {
    "duration": 3,
    "start_time": "2023-05-25T14:08:05.699Z"
   },
   {
    "duration": 12,
    "start_time": "2023-05-25T14:08:10.115Z"
   },
   {
    "duration": 13,
    "start_time": "2023-05-25T14:08:20.610Z"
   },
   {
    "duration": 9,
    "start_time": "2023-05-25T14:41:17.280Z"
   },
   {
    "duration": 13,
    "start_time": "2023-05-25T14:41:44.327Z"
   },
   {
    "duration": 470,
    "start_time": "2023-05-25T14:42:45.963Z"
   },
   {
    "duration": 16,
    "start_time": "2023-05-25T14:42:50.276Z"
   },
   {
    "duration": 116,
    "start_time": "2023-05-25T14:42:54.315Z"
   },
   {
    "duration": 15,
    "start_time": "2023-05-25T14:42:58.353Z"
   },
   {
    "duration": 27,
    "start_time": "2023-05-25T14:43:33.950Z"
   },
   {
    "duration": 216,
    "start_time": "2023-05-25T14:44:15.253Z"
   },
   {
    "duration": 123,
    "start_time": "2023-05-25T14:44:25.158Z"
   },
   {
    "duration": 193,
    "start_time": "2023-05-25T14:45:37.879Z"
   },
   {
    "duration": 255,
    "start_time": "2023-05-25T14:52:59.721Z"
   },
   {
    "duration": 127,
    "start_time": "2023-05-25T14:53:19.952Z"
   },
   {
    "duration": 6,
    "start_time": "2023-05-25T14:57:46.127Z"
   },
   {
    "duration": 5,
    "start_time": "2023-05-25T14:57:58.502Z"
   },
   {
    "duration": 6,
    "start_time": "2023-05-25T14:58:03.418Z"
   },
   {
    "duration": 13,
    "start_time": "2023-05-25T14:59:03.053Z"
   },
   {
    "duration": 1275,
    "start_time": "2023-05-25T15:12:48.678Z"
   },
   {
    "duration": 46,
    "start_time": "2023-05-25T15:13:04.094Z"
   },
   {
    "duration": 2198,
    "start_time": "2023-05-25T15:15:06.421Z"
   },
   {
    "duration": 51,
    "start_time": "2023-05-25T15:15:23.252Z"
   },
   {
    "duration": 50,
    "start_time": "2023-05-25T15:16:43.036Z"
   },
   {
    "duration": 40,
    "start_time": "2023-05-25T15:17:27.004Z"
   },
   {
    "duration": 54,
    "start_time": "2023-05-25T15:17:49.476Z"
   },
   {
    "duration": 50,
    "start_time": "2023-05-25T15:18:11.178Z"
   },
   {
    "duration": 15,
    "start_time": "2023-05-25T15:18:22.538Z"
   },
   {
    "duration": 54,
    "start_time": "2023-05-25T15:18:29.619Z"
   },
   {
    "duration": 12,
    "start_time": "2023-05-25T15:21:19.539Z"
   },
   {
    "duration": 12,
    "start_time": "2023-05-25T15:21:22.737Z"
   },
   {
    "duration": 20,
    "start_time": "2023-05-25T15:21:43.137Z"
   },
   {
    "duration": 29,
    "start_time": "2023-05-25T15:22:09.168Z"
   },
   {
    "duration": 164,
    "start_time": "2023-05-25T15:31:29.402Z"
   },
   {
    "duration": 8,
    "start_time": "2023-05-25T15:54:38.398Z"
   },
   {
    "duration": 133,
    "start_time": "2023-05-25T15:54:53.271Z"
   },
   {
    "duration": 527,
    "start_time": "2023-05-25T15:55:41.900Z"
   },
   {
    "duration": 129,
    "start_time": "2023-05-25T15:55:50.965Z"
   },
   {
    "duration": 35,
    "start_time": "2023-05-25T15:56:04.388Z"
   },
   {
    "duration": 267,
    "start_time": "2023-05-25T15:59:21.844Z"
   },
   {
    "duration": 279,
    "start_time": "2023-05-25T15:59:37.122Z"
   },
   {
    "duration": 230,
    "start_time": "2023-05-25T15:59:44.122Z"
   },
   {
    "duration": 304,
    "start_time": "2023-05-25T16:00:08.642Z"
   },
   {
    "duration": 306,
    "start_time": "2023-05-25T16:00:37.050Z"
   },
   {
    "duration": 534,
    "start_time": "2023-05-25T16:01:02.954Z"
   },
   {
    "duration": 328,
    "start_time": "2023-05-25T16:01:15.773Z"
   },
   {
    "duration": 467,
    "start_time": "2023-05-25T16:01:21.713Z"
   },
   {
    "duration": 537,
    "start_time": "2023-05-25T16:01:27.489Z"
   },
   {
    "duration": 307,
    "start_time": "2023-05-25T16:01:45.394Z"
   },
   {
    "duration": 543,
    "start_time": "2023-05-25T16:02:04.921Z"
   },
   {
    "duration": 336,
    "start_time": "2023-05-25T16:02:31.897Z"
   },
   {
    "duration": 301,
    "start_time": "2023-05-25T16:02:55.232Z"
   },
   {
    "duration": 311,
    "start_time": "2023-05-25T16:03:11.529Z"
   },
   {
    "duration": 399,
    "start_time": "2023-05-25T16:21:43.781Z"
   },
   {
    "duration": 381,
    "start_time": "2023-05-25T16:21:55.334Z"
   },
   {
    "duration": 417,
    "start_time": "2023-05-25T16:22:00.862Z"
   },
   {
    "duration": 305,
    "start_time": "2023-05-25T16:22:20.918Z"
   },
   {
    "duration": 326,
    "start_time": "2023-05-25T16:22:25.863Z"
   },
   {
    "duration": 330,
    "start_time": "2023-05-25T16:22:30.661Z"
   },
   {
    "duration": 288,
    "start_time": "2023-05-25T16:22:55.293Z"
   },
   {
    "duration": 314,
    "start_time": "2023-05-25T16:23:03.574Z"
   },
   {
    "duration": 452,
    "start_time": "2023-05-25T16:23:09.525Z"
   },
   {
    "duration": 398,
    "start_time": "2023-05-25T16:25:04.989Z"
   },
   {
    "duration": 317,
    "start_time": "2023-05-25T16:25:15.652Z"
   },
   {
    "duration": 323,
    "start_time": "2023-05-25T16:25:17.300Z"
   },
   {
    "duration": 324,
    "start_time": "2023-05-25T16:25:19.580Z"
   },
   {
    "duration": 4,
    "start_time": "2023-05-25T16:29:53.393Z"
   },
   {
    "duration": 83,
    "start_time": "2023-05-25T16:31:57.800Z"
   },
   {
    "duration": 102,
    "start_time": "2023-05-25T16:33:45.743Z"
   },
   {
    "duration": 104,
    "start_time": "2023-05-25T16:33:53.890Z"
   },
   {
    "duration": 4,
    "start_time": "2023-05-25T16:34:26.000Z"
   },
   {
    "duration": 29,
    "start_time": "2023-05-25T16:35:29.190Z"
   },
   {
    "duration": 992,
    "start_time": "2023-05-25T16:35:38.734Z"
   },
   {
    "duration": 1597,
    "start_time": "2023-05-25T16:36:10.007Z"
   },
   {
    "duration": 43,
    "start_time": "2023-05-25T16:36:20.730Z"
   },
   {
    "duration": 47,
    "start_time": "2023-05-25T16:36:32.533Z"
   },
   {
    "duration": 39,
    "start_time": "2023-05-25T16:36:55.781Z"
   },
   {
    "duration": 45,
    "start_time": "2023-05-25T16:37:01.472Z"
   },
   {
    "duration": 51,
    "start_time": "2023-05-25T16:37:20.621Z"
   },
   {
    "duration": 64,
    "start_time": "2023-05-25T16:37:35.989Z"
   },
   {
    "duration": 57,
    "start_time": "2023-05-25T16:56:57.779Z"
   },
   {
    "duration": 63,
    "start_time": "2023-05-25T16:57:25.891Z"
   },
   {
    "duration": 61,
    "start_time": "2023-05-25T16:57:37.891Z"
   },
   {
    "duration": 61,
    "start_time": "2023-05-25T16:59:12.386Z"
   },
   {
    "duration": 61,
    "start_time": "2023-05-25T16:59:18.977Z"
   },
   {
    "duration": 1929,
    "start_time": "2023-05-26T08:40:00.637Z"
   },
   {
    "duration": 1801,
    "start_time": "2023-05-26T08:40:03.476Z"
   },
   {
    "duration": 148,
    "start_time": "2023-05-26T08:48:27.732Z"
   },
   {
    "duration": 58,
    "start_time": "2023-05-26T08:49:12.183Z"
   },
   {
    "duration": 46,
    "start_time": "2023-05-26T08:49:23.801Z"
   },
   {
    "duration": 10,
    "start_time": "2023-05-26T08:55:36.249Z"
   },
   {
    "duration": 44,
    "start_time": "2023-05-26T08:55:42.085Z"
   },
   {
    "duration": 4,
    "start_time": "2023-05-26T08:57:04.196Z"
   },
   {
    "duration": 9,
    "start_time": "2023-05-26T08:57:16.651Z"
   },
   {
    "duration": 5,
    "start_time": "2023-05-26T08:57:24.030Z"
   },
   {
    "duration": 24,
    "start_time": "2023-05-26T08:57:36.695Z"
   },
   {
    "duration": 23,
    "start_time": "2023-05-26T08:57:46.635Z"
   },
   {
    "duration": 25,
    "start_time": "2023-05-26T08:58:05.306Z"
   },
   {
    "duration": 29,
    "start_time": "2023-05-26T08:58:19.299Z"
   },
   {
    "duration": 28,
    "start_time": "2023-05-26T08:58:47.767Z"
   },
   {
    "duration": 38,
    "start_time": "2023-05-26T08:59:02.892Z"
   },
   {
    "duration": 31,
    "start_time": "2023-05-26T08:59:07.396Z"
   },
   {
    "duration": 41,
    "start_time": "2023-05-26T08:59:37.975Z"
   },
   {
    "duration": 37,
    "start_time": "2023-05-26T09:00:22.811Z"
   },
   {
    "duration": 30,
    "start_time": "2023-05-26T09:00:39.225Z"
   },
   {
    "duration": 27,
    "start_time": "2023-05-26T09:00:42.388Z"
   },
   {
    "duration": 38,
    "start_time": "2023-05-26T09:01:10.337Z"
   },
   {
    "duration": 39,
    "start_time": "2023-05-26T09:01:31.993Z"
   },
   {
    "duration": 8,
    "start_time": "2023-05-26T09:02:52.354Z"
   },
   {
    "duration": 496,
    "start_time": "2023-05-26T09:02:52.364Z"
   },
   {
    "duration": 380,
    "start_time": "2023-05-26T09:02:52.866Z"
   },
   {
    "duration": 359,
    "start_time": "2023-05-26T09:02:53.250Z"
   },
   {
    "duration": 354,
    "start_time": "2023-05-26T09:02:53.612Z"
   },
   {
    "duration": 30,
    "start_time": "2023-05-26T09:02:58.504Z"
   },
   {
    "duration": 30,
    "start_time": "2023-05-26T09:03:32.872Z"
   },
   {
    "duration": 33,
    "start_time": "2023-05-26T09:03:47.073Z"
   },
   {
    "duration": 43,
    "start_time": "2023-05-26T09:04:39.936Z"
   },
   {
    "duration": 110,
    "start_time": "2023-05-26T09:06:39.797Z"
   },
   {
    "duration": 66,
    "start_time": "2023-05-26T09:06:43.798Z"
   },
   {
    "duration": 57,
    "start_time": "2023-05-26T09:07:13.080Z"
   },
   {
    "duration": 60,
    "start_time": "2023-05-26T09:07:22.525Z"
   },
   {
    "duration": 57,
    "start_time": "2023-05-26T09:07:27.965Z"
   },
   {
    "duration": 17,
    "start_time": "2023-05-26T09:10:24.643Z"
   },
   {
    "duration": 3,
    "start_time": "2023-05-26T09:10:28.695Z"
   },
   {
    "duration": 5,
    "start_time": "2023-05-26T09:10:32.435Z"
   },
   {
    "duration": 19,
    "start_time": "2023-05-26T09:10:33.591Z"
   },
   {
    "duration": 3,
    "start_time": "2023-05-26T09:10:53.892Z"
   },
   {
    "duration": 3,
    "start_time": "2023-05-26T09:10:56.491Z"
   },
   {
    "duration": 246,
    "start_time": "2023-05-26T09:10:57.672Z"
   },
   {
    "duration": 4,
    "start_time": "2023-05-26T09:11:16.331Z"
   },
   {
    "duration": 20,
    "start_time": "2023-05-26T09:11:17.051Z"
   },
   {
    "duration": 6,
    "start_time": "2023-05-26T09:11:43.515Z"
   },
   {
    "duration": 22,
    "start_time": "2023-05-26T09:11:44.404Z"
   },
   {
    "duration": 4,
    "start_time": "2023-05-26T09:11:51.084Z"
   },
   {
    "duration": 21,
    "start_time": "2023-05-26T09:11:52.099Z"
   },
   {
    "duration": 19,
    "start_time": "2023-05-26T09:12:00.452Z"
   },
   {
    "duration": 351,
    "start_time": "2023-05-26T09:12:01.403Z"
   },
   {
    "duration": 268,
    "start_time": "2023-05-26T09:12:18.219Z"
   },
   {
    "duration": 235,
    "start_time": "2023-05-26T09:12:20.099Z"
   },
   {
    "duration": 70,
    "start_time": "2023-05-26T09:13:17.792Z"
   },
   {
    "duration": 3,
    "start_time": "2023-05-26T09:13:32.390Z"
   },
   {
    "duration": 498,
    "start_time": "2023-05-26T09:13:32.395Z"
   },
   {
    "duration": 98,
    "start_time": "2023-05-26T09:13:32.894Z"
   },
   {
    "duration": 1874,
    "start_time": "2023-05-26T09:13:32.994Z"
   },
   {
    "duration": 0,
    "start_time": "2023-05-26T09:13:34.870Z"
   },
   {
    "duration": 0,
    "start_time": "2023-05-26T09:13:34.871Z"
   },
   {
    "duration": 0,
    "start_time": "2023-05-26T09:13:34.873Z"
   },
   {
    "duration": 0,
    "start_time": "2023-05-26T09:13:34.874Z"
   },
   {
    "duration": 4,
    "start_time": "2023-05-26T09:14:11.212Z"
   },
   {
    "duration": 457,
    "start_time": "2023-05-26T09:14:11.219Z"
   },
   {
    "duration": 145,
    "start_time": "2023-05-26T09:14:11.678Z"
   },
   {
    "duration": 81,
    "start_time": "2023-05-26T09:14:11.825Z"
   },
   {
    "duration": 3,
    "start_time": "2023-05-26T09:14:11.908Z"
   },
   {
    "duration": 222,
    "start_time": "2023-05-26T09:14:11.913Z"
   },
   {
    "duration": 227,
    "start_time": "2023-05-26T09:14:12.137Z"
   },
   {
    "duration": 222,
    "start_time": "2023-05-26T09:14:12.365Z"
   },
   {
    "duration": 76,
    "start_time": "2023-05-26T09:14:12.588Z"
   },
   {
    "duration": 187,
    "start_time": "2023-05-26T09:16:19.468Z"
   },
   {
    "duration": 3,
    "start_time": "2023-05-26T09:26:21.715Z"
   },
   {
    "duration": 4,
    "start_time": "2023-05-26T09:26:55.368Z"
   },
   {
    "duration": 2,
    "start_time": "2023-05-26T09:30:04.594Z"
   },
   {
    "duration": 4,
    "start_time": "2023-05-26T09:30:46.313Z"
   },
   {
    "duration": 225,
    "start_time": "2023-05-26T09:31:12.490Z"
   },
   {
    "duration": 117,
    "start_time": "2023-05-26T09:31:16.396Z"
   },
   {
    "duration": 4,
    "start_time": "2023-05-26T09:31:56.773Z"
   },
   {
    "duration": 5,
    "start_time": "2023-05-26T09:32:39.600Z"
   },
   {
    "duration": 311,
    "start_time": "2023-05-26T09:44:04.410Z"
   },
   {
    "duration": 290,
    "start_time": "2023-05-26T09:44:06.252Z"
   },
   {
    "duration": 252,
    "start_time": "2023-05-26T09:44:07.930Z"
   },
   {
    "duration": 99,
    "start_time": "2023-05-26T09:45:16.682Z"
   },
   {
    "duration": 381,
    "start_time": "2023-05-26T09:45:19.185Z"
   },
   {
    "duration": 4,
    "start_time": "2023-05-26T09:47:23.213Z"
   },
   {
    "duration": 460,
    "start_time": "2023-05-26T09:47:23.219Z"
   },
   {
    "duration": 172,
    "start_time": "2023-05-26T09:47:23.681Z"
   },
   {
    "duration": 79,
    "start_time": "2023-05-26T09:47:23.860Z"
   },
   {
    "duration": 17,
    "start_time": "2023-05-26T09:47:23.941Z"
   },
   {
    "duration": 252,
    "start_time": "2023-05-26T09:47:23.961Z"
   },
   {
    "duration": 257,
    "start_time": "2023-05-26T09:47:24.216Z"
   },
   {
    "duration": 337,
    "start_time": "2023-05-26T09:47:24.476Z"
   },
   {
    "duration": 68,
    "start_time": "2023-05-26T09:47:24.815Z"
   },
   {
    "duration": 82,
    "start_time": "2023-05-26T09:47:24.886Z"
   },
   {
    "duration": 6,
    "start_time": "2023-05-26T09:47:24.970Z"
   },
   {
    "duration": 85,
    "start_time": "2023-05-26T09:47:24.978Z"
   },
   {
    "duration": 104,
    "start_time": "2023-05-26T09:51:07.126Z"
   },
   {
    "duration": 5,
    "start_time": "2023-05-26T09:51:13.867Z"
   },
   {
    "duration": 14,
    "start_time": "2023-05-26T09:53:21.725Z"
   },
   {
    "duration": 4,
    "start_time": "2023-05-26T09:54:32.517Z"
   },
   {
    "duration": 31,
    "start_time": "2023-05-26T09:54:33.917Z"
   },
   {
    "duration": 4,
    "start_time": "2023-05-26T09:59:15.402Z"
   },
   {
    "duration": 14,
    "start_time": "2023-05-26T09:59:17.451Z"
   },
   {
    "duration": 4,
    "start_time": "2023-05-26T10:00:38.761Z"
   },
   {
    "duration": 4,
    "start_time": "2023-05-26T10:00:54.258Z"
   },
   {
    "duration": 4,
    "start_time": "2023-05-26T10:01:20.961Z"
   },
   {
    "duration": 3,
    "start_time": "2023-05-26T10:01:23.825Z"
   },
   {
    "duration": 23,
    "start_time": "2023-05-26T10:01:25.633Z"
   },
   {
    "duration": 3,
    "start_time": "2023-05-26T10:01:52.896Z"
   },
   {
    "duration": 4,
    "start_time": "2023-05-26T10:02:25.260Z"
   },
   {
    "duration": 12,
    "start_time": "2023-05-26T10:02:28.048Z"
   },
   {
    "duration": 24,
    "start_time": "2023-05-26T10:02:29.217Z"
   },
   {
    "duration": 21,
    "start_time": "2023-05-26T10:03:54.841Z"
   },
   {
    "duration": 25,
    "start_time": "2023-05-26T10:04:04.065Z"
   },
   {
    "duration": 4,
    "start_time": "2023-05-26T10:05:09.880Z"
   },
   {
    "duration": 22,
    "start_time": "2023-05-26T10:05:11.760Z"
   },
   {
    "duration": 21,
    "start_time": "2023-05-26T10:05:20.936Z"
   },
   {
    "duration": 25,
    "start_time": "2023-05-26T10:05:27.071Z"
   },
   {
    "duration": 20,
    "start_time": "2023-05-26T10:05:35.720Z"
   },
   {
    "duration": 4,
    "start_time": "2023-05-26T10:06:19.695Z"
   },
   {
    "duration": 20,
    "start_time": "2023-05-26T10:06:22.279Z"
   },
   {
    "duration": 17,
    "start_time": "2023-05-26T10:06:31.511Z"
   },
   {
    "duration": 21,
    "start_time": "2023-05-26T10:06:44.680Z"
   },
   {
    "duration": 37,
    "start_time": "2023-05-26T10:06:48.911Z"
   },
   {
    "duration": 28,
    "start_time": "2023-05-26T10:07:12.647Z"
   },
   {
    "duration": 21,
    "start_time": "2023-05-26T10:07:30.271Z"
   },
   {
    "duration": 26,
    "start_time": "2023-05-26T10:08:28.414Z"
   },
   {
    "duration": 56,
    "start_time": "2023-05-26T10:10:10.125Z"
   },
   {
    "duration": 110,
    "start_time": "2023-05-26T10:10:14.845Z"
   },
   {
    "duration": 4,
    "start_time": "2023-05-26T10:10:30.973Z"
   },
   {
    "duration": 9,
    "start_time": "2023-05-26T10:10:37.629Z"
   },
   {
    "duration": 55,
    "start_time": "2023-05-26T10:12:09.932Z"
   },
   {
    "duration": 9,
    "start_time": "2023-05-26T10:12:12.347Z"
   },
   {
    "duration": 5,
    "start_time": "2023-05-26T10:12:49.187Z"
   },
   {
    "duration": 55,
    "start_time": "2023-05-26T10:21:56.175Z"
   },
   {
    "duration": 37,
    "start_time": "2023-05-26T10:34:58.392Z"
   },
   {
    "duration": 41,
    "start_time": "2023-05-26T10:35:07.075Z"
   },
   {
    "duration": 92,
    "start_time": "2023-05-26T10:35:31.674Z"
   },
   {
    "duration": 14,
    "start_time": "2023-05-26T10:35:54.542Z"
   },
   {
    "duration": 4,
    "start_time": "2023-05-26T10:36:17.603Z"
   },
   {
    "duration": 456,
    "start_time": "2023-05-26T10:36:17.609Z"
   },
   {
    "duration": 136,
    "start_time": "2023-05-26T10:36:18.067Z"
   },
   {
    "duration": 91,
    "start_time": "2023-05-26T10:36:18.206Z"
   },
   {
    "duration": 3,
    "start_time": "2023-05-26T10:36:18.301Z"
   },
   {
    "duration": 278,
    "start_time": "2023-05-26T10:36:18.306Z"
   },
   {
    "duration": 208,
    "start_time": "2023-05-26T10:36:18.586Z"
   },
   {
    "duration": 208,
    "start_time": "2023-05-26T10:36:18.796Z"
   },
   {
    "duration": 76,
    "start_time": "2023-05-26T10:36:25.847Z"
   },
   {
    "duration": 10,
    "start_time": "2023-05-26T10:36:27.399Z"
   },
   {
    "duration": 68,
    "start_time": "2023-05-26T10:36:46.503Z"
   },
   {
    "duration": 69,
    "start_time": "2023-05-26T10:37:27.791Z"
   },
   {
    "duration": 72,
    "start_time": "2023-05-26T10:39:17.332Z"
   },
   {
    "duration": 66,
    "start_time": "2023-05-26T10:44:42.053Z"
   },
   {
    "duration": 65,
    "start_time": "2023-05-26T10:45:07.644Z"
   },
   {
    "duration": 5,
    "start_time": "2023-05-26T10:45:20.669Z"
   },
   {
    "duration": 11,
    "start_time": "2023-05-26T10:45:27.909Z"
   },
   {
    "duration": 64,
    "start_time": "2023-05-26T10:45:51.092Z"
   },
   {
    "duration": 13,
    "start_time": "2023-05-26T10:45:52.444Z"
   },
   {
    "duration": 11,
    "start_time": "2023-05-26T10:45:56.523Z"
   },
   {
    "duration": 267,
    "start_time": "2023-05-26T10:46:06.692Z"
   },
   {
    "duration": 3,
    "start_time": "2023-05-26T10:46:09.914Z"
   },
   {
    "duration": 4,
    "start_time": "2023-05-26T10:46:11.043Z"
   },
   {
    "duration": 4,
    "start_time": "2023-05-26T10:46:12.635Z"
   },
   {
    "duration": 4,
    "start_time": "2023-05-26T10:46:22.219Z"
   },
   {
    "duration": 24,
    "start_time": "2023-05-26T10:46:23.507Z"
   },
   {
    "duration": 58,
    "start_time": "2023-05-26T10:46:44.492Z"
   },
   {
    "duration": 4,
    "start_time": "2023-05-26T10:46:47.843Z"
   },
   {
    "duration": 23,
    "start_time": "2023-05-26T10:46:48.864Z"
   },
   {
    "duration": 4,
    "start_time": "2023-05-26T10:47:11.794Z"
   },
   {
    "duration": 5,
    "start_time": "2023-05-26T10:47:34.074Z"
   },
   {
    "duration": 22,
    "start_time": "2023-05-26T10:47:35.154Z"
   },
   {
    "duration": 63,
    "start_time": "2023-05-26T10:47:55.417Z"
   },
   {
    "duration": 285,
    "start_time": "2023-05-26T10:47:57.372Z"
   },
   {
    "duration": 17,
    "start_time": "2023-05-26T10:48:00.098Z"
   },
   {
    "duration": 19,
    "start_time": "2023-05-26T10:51:14.269Z"
   },
   {
    "duration": 3,
    "start_time": "2023-05-26T10:51:24.167Z"
   },
   {
    "duration": 13,
    "start_time": "2023-05-26T10:51:25.503Z"
   },
   {
    "duration": 8,
    "start_time": "2023-05-26T10:51:39.769Z"
   },
   {
    "duration": 10,
    "start_time": "2023-05-26T10:51:47.605Z"
   },
   {
    "duration": 4,
    "start_time": "2023-05-26T10:54:30.427Z"
   },
   {
    "duration": 11,
    "start_time": "2023-05-26T10:54:31.469Z"
   },
   {
    "duration": 14,
    "start_time": "2023-05-26T10:54:50.284Z"
   },
   {
    "duration": 14,
    "start_time": "2023-05-26T10:55:07.468Z"
   },
   {
    "duration": 21,
    "start_time": "2023-05-26T10:55:48.979Z"
   },
   {
    "duration": 43,
    "start_time": "2023-05-26T15:12:21.374Z"
   },
   {
    "duration": 1448,
    "start_time": "2023-05-26T15:12:26.912Z"
   },
   {
    "duration": 2028,
    "start_time": "2023-05-26T15:12:28.362Z"
   },
   {
    "duration": 117,
    "start_time": "2023-05-26T15:12:30.392Z"
   },
   {
    "duration": 56,
    "start_time": "2023-05-26T15:12:30.511Z"
   },
   {
    "duration": 3,
    "start_time": "2023-05-26T15:12:30.570Z"
   },
   {
    "duration": 225,
    "start_time": "2023-05-26T15:12:30.574Z"
   },
   {
    "duration": 165,
    "start_time": "2023-05-26T15:12:30.800Z"
   },
   {
    "duration": 170,
    "start_time": "2023-05-26T15:12:30.966Z"
   },
   {
    "duration": 69,
    "start_time": "2023-05-26T15:12:31.137Z"
   },
   {
    "duration": 9,
    "start_time": "2023-05-26T15:12:31.208Z"
   },
   {
    "duration": 192,
    "start_time": "2023-05-26T15:12:31.218Z"
   },
   {
    "duration": 4,
    "start_time": "2023-05-26T15:12:31.412Z"
   },
   {
    "duration": 90,
    "start_time": "2023-05-26T15:12:31.418Z"
   },
   {
    "duration": 18,
    "start_time": "2023-05-26T15:12:31.510Z"
   },
   {
    "duration": 30,
    "start_time": "2023-05-26T15:12:31.529Z"
   },
   {
    "duration": 17,
    "start_time": "2023-05-26T15:14:56.639Z"
   },
   {
    "duration": 16,
    "start_time": "2023-05-26T15:15:14.553Z"
   },
   {
    "duration": 78,
    "start_time": "2023-05-26T15:15:50.443Z"
   },
   {
    "duration": 22,
    "start_time": "2023-05-26T15:16:03.325Z"
   },
   {
    "duration": 123,
    "start_time": "2023-05-26T15:16:14.936Z"
   },
   {
    "duration": 16,
    "start_time": "2023-05-26T15:16:27.897Z"
   },
   {
    "duration": 16,
    "start_time": "2023-05-26T15:16:58.152Z"
   },
   {
    "duration": 16,
    "start_time": "2023-05-26T15:17:05.768Z"
   },
   {
    "duration": 102,
    "start_time": "2023-05-26T15:17:47.273Z"
   },
   {
    "duration": 16,
    "start_time": "2023-05-26T15:17:56.359Z"
   },
   {
    "duration": 16,
    "start_time": "2023-05-26T15:18:09.542Z"
   },
   {
    "duration": 16,
    "start_time": "2023-05-26T15:18:49.063Z"
   },
   {
    "duration": 16,
    "start_time": "2023-05-26T15:18:53.154Z"
   },
   {
    "duration": 17,
    "start_time": "2023-05-26T15:19:03.279Z"
   },
   {
    "duration": 15,
    "start_time": "2023-05-26T15:19:23.744Z"
   },
   {
    "duration": 16,
    "start_time": "2023-05-26T15:21:14.105Z"
   },
   {
    "duration": 98,
    "start_time": "2023-05-26T15:28:18.844Z"
   },
   {
    "duration": 3,
    "start_time": "2023-05-26T15:28:23.049Z"
   },
   {
    "duration": 3,
    "start_time": "2023-05-26T15:29:05.109Z"
   },
   {
    "duration": 8,
    "start_time": "2023-05-26T15:29:46.742Z"
   },
   {
    "duration": 12,
    "start_time": "2023-05-26T15:29:56.356Z"
   },
   {
    "duration": 5,
    "start_time": "2023-05-26T15:30:17.511Z"
   },
   {
    "duration": 14,
    "start_time": "2023-05-26T15:30:24.042Z"
   },
   {
    "duration": 6,
    "start_time": "2023-05-26T15:30:52.536Z"
   },
   {
    "duration": 3,
    "start_time": "2023-05-26T15:31:00.213Z"
   },
   {
    "duration": 37,
    "start_time": "2023-05-26T15:33:01.575Z"
   },
   {
    "duration": 3,
    "start_time": "2023-05-26T15:33:05.919Z"
   },
   {
    "duration": 3,
    "start_time": "2023-05-26T15:33:06.680Z"
   },
   {
    "duration": 3,
    "start_time": "2023-05-26T15:33:08.210Z"
   },
   {
    "duration": 4,
    "start_time": "2023-05-26T15:33:12.462Z"
   },
   {
    "duration": 18,
    "start_time": "2023-05-26T15:33:13.949Z"
   },
   {
    "duration": 4,
    "start_time": "2023-05-26T15:33:17.047Z"
   },
   {
    "duration": 5,
    "start_time": "2023-05-26T15:33:21.743Z"
   },
   {
    "duration": 13,
    "start_time": "2023-05-26T15:33:28.126Z"
   },
   {
    "duration": 4,
    "start_time": "2023-05-26T15:34:01.518Z"
   },
   {
    "duration": 3,
    "start_time": "2023-05-26T15:34:36.454Z"
   },
   {
    "duration": 3,
    "start_time": "2023-05-26T15:34:44.805Z"
   },
   {
    "duration": 3,
    "start_time": "2023-05-26T15:34:46.918Z"
   },
   {
    "duration": 1527,
    "start_time": "2023-05-26T15:34:47.933Z"
   },
   {
    "duration": 1688,
    "start_time": "2023-05-26T15:35:04.053Z"
   },
   {
    "duration": 3,
    "start_time": "2023-05-26T15:35:49.815Z"
   },
   {
    "duration": 2900,
    "start_time": "2023-05-26T15:35:51.253Z"
   },
   {
    "duration": 4,
    "start_time": "2023-05-26T15:36:17.469Z"
   },
   {
    "duration": 3025,
    "start_time": "2023-05-26T15:36:18.133Z"
   },
   {
    "duration": 3,
    "start_time": "2023-05-26T15:36:32.029Z"
   },
   {
    "duration": 2556,
    "start_time": "2023-05-26T15:36:33.469Z"
   },
   {
    "duration": 3,
    "start_time": "2023-05-26T15:36:47.573Z"
   },
   {
    "duration": 2555,
    "start_time": "2023-05-26T15:36:48.313Z"
   },
   {
    "duration": 2672,
    "start_time": "2023-05-26T15:37:07.469Z"
   },
   {
    "duration": 2875,
    "start_time": "2023-05-26T15:37:30.676Z"
   },
   {
    "duration": 12853,
    "start_time": "2023-05-26T15:37:40.061Z"
   },
   {
    "duration": 2910,
    "start_time": "2023-05-26T15:38:22.469Z"
   },
   {
    "duration": 2708,
    "start_time": "2023-05-26T15:38:47.869Z"
   },
   {
    "duration": 3,
    "start_time": "2023-05-26T15:40:00.014Z"
   },
   {
    "duration": 4,
    "start_time": "2023-05-26T15:40:01.307Z"
   },
   {
    "duration": 2060,
    "start_time": "2023-05-26T15:40:03.172Z"
   },
   {
    "duration": 2056,
    "start_time": "2023-05-26T15:40:36.379Z"
   },
   {
    "duration": 2079,
    "start_time": "2023-05-26T15:40:48.288Z"
   },
   {
    "duration": 2175,
    "start_time": "2023-05-26T15:41:04.650Z"
   },
   {
    "duration": 2055,
    "start_time": "2023-05-26T15:41:34.818Z"
   },
   {
    "duration": 2031,
    "start_time": "2023-05-26T15:41:46.634Z"
   },
   {
    "duration": 3,
    "start_time": "2023-05-26T15:42:22.692Z"
   },
   {
    "duration": 2247,
    "start_time": "2023-05-26T15:42:28.002Z"
   },
   {
    "duration": 1937,
    "start_time": "2023-05-26T15:42:34.626Z"
   },
   {
    "duration": 3,
    "start_time": "2023-05-26T15:42:40.259Z"
   },
   {
    "duration": 2128,
    "start_time": "2023-05-26T15:42:41.138Z"
   },
   {
    "duration": 2078,
    "start_time": "2023-05-26T15:42:46.097Z"
   },
   {
    "duration": 2156,
    "start_time": "2023-05-26T15:42:50.769Z"
   },
   {
    "duration": 2093,
    "start_time": "2023-05-26T15:42:56.809Z"
   },
   {
    "duration": 2194,
    "start_time": "2023-05-26T15:43:11.674Z"
   },
   {
    "duration": 2223,
    "start_time": "2023-05-26T15:43:15.017Z"
   },
   {
    "duration": 2140,
    "start_time": "2023-05-26T15:43:28.137Z"
   },
   {
    "duration": 2146,
    "start_time": "2023-05-26T15:43:43.316Z"
   },
   {
    "duration": 2211,
    "start_time": "2023-05-26T15:43:56.753Z"
   },
   {
    "duration": 6,
    "start_time": "2023-05-26T15:52:12.612Z"
   },
   {
    "duration": 2008,
    "start_time": "2023-05-26T15:52:13.404Z"
   },
   {
    "duration": 2008,
    "start_time": "2023-05-26T15:52:27.395Z"
   },
   {
    "duration": 2285,
    "start_time": "2023-05-26T15:52:35.631Z"
   },
   {
    "duration": 16,
    "start_time": "2023-05-26T15:54:09.571Z"
   },
   {
    "duration": 4,
    "start_time": "2023-05-26T15:54:40.193Z"
   },
   {
    "duration": 2072,
    "start_time": "2023-05-26T15:54:41.475Z"
   },
   {
    "duration": 4,
    "start_time": "2023-05-26T15:55:00.379Z"
   },
   {
    "duration": 2750,
    "start_time": "2023-05-26T15:55:01.370Z"
   },
   {
    "duration": 3,
    "start_time": "2023-05-26T15:55:34.435Z"
   },
   {
    "duration": 17,
    "start_time": "2023-05-26T15:55:36.194Z"
   },
   {
    "duration": 4,
    "start_time": "2023-05-26T15:55:38.411Z"
   },
   {
    "duration": 4,
    "start_time": "2023-05-26T15:56:34.692Z"
   },
   {
    "duration": 2443,
    "start_time": "2023-05-26T15:56:36.874Z"
   },
   {
    "duration": 4,
    "start_time": "2023-05-26T15:56:47.391Z"
   },
   {
    "duration": 2064,
    "start_time": "2023-05-26T15:56:49.162Z"
   },
   {
    "duration": 2191,
    "start_time": "2023-05-26T15:57:34.059Z"
   },
   {
    "duration": 2285,
    "start_time": "2023-05-26T15:57:53.337Z"
   },
   {
    "duration": 2034,
    "start_time": "2023-05-26T15:58:07.713Z"
   },
   {
    "duration": 2126,
    "start_time": "2023-05-26T15:58:38.553Z"
   },
   {
    "duration": 2081,
    "start_time": "2023-05-26T15:58:46.849Z"
   },
   {
    "duration": 145,
    "start_time": "2023-05-26T15:59:02.913Z"
   },
   {
    "duration": 103,
    "start_time": "2023-05-26T15:59:10.456Z"
   },
   {
    "duration": 3,
    "start_time": "2023-05-26T15:59:23.841Z"
   },
   {
    "duration": 2062,
    "start_time": "2023-05-26T15:59:49.999Z"
   },
   {
    "duration": 1891,
    "start_time": "2023-05-26T16:00:06.664Z"
   },
   {
    "duration": 2086,
    "start_time": "2023-05-26T16:00:22.720Z"
   },
   {
    "duration": 2097,
    "start_time": "2023-05-26T16:00:53.393Z"
   },
   {
    "duration": 59,
    "start_time": "2023-05-26T16:01:14.996Z"
   },
   {
    "duration": 10,
    "start_time": "2023-05-26T16:01:17.186Z"
   },
   {
    "duration": 154,
    "start_time": "2023-05-26T16:01:23.952Z"
   },
   {
    "duration": 4,
    "start_time": "2023-05-26T16:01:27.759Z"
   },
   {
    "duration": 3,
    "start_time": "2023-05-26T16:01:28.607Z"
   },
   {
    "duration": 3,
    "start_time": "2023-05-26T16:01:29.895Z"
   },
   {
    "duration": 17,
    "start_time": "2023-05-26T16:01:31.345Z"
   },
   {
    "duration": 4,
    "start_time": "2023-05-26T16:01:33.599Z"
   },
   {
    "duration": 2134,
    "start_time": "2023-05-26T16:01:35.007Z"
   },
   {
    "duration": 2049,
    "start_time": "2023-05-26T16:01:37.255Z"
   },
   {
    "duration": 2160,
    "start_time": "2023-05-26T16:01:41.511Z"
   },
   {
    "duration": 2134,
    "start_time": "2023-05-26T16:01:52.246Z"
   },
   {
    "duration": 2091,
    "start_time": "2023-05-26T16:01:58.791Z"
   },
   {
    "duration": 2131,
    "start_time": "2023-05-26T16:02:02.870Z"
   },
   {
    "duration": 6,
    "start_time": "2023-05-26T16:04:23.605Z"
   },
   {
    "duration": 3,
    "start_time": "2023-05-26T16:06:16.325Z"
   },
   {
    "duration": 4,
    "start_time": "2023-05-26T16:16:27.902Z"
   },
   {
    "duration": 3,
    "start_time": "2023-05-26T16:16:32.174Z"
   },
   {
    "duration": 172,
    "start_time": "2023-05-26T16:16:34.805Z"
   },
   {
    "duration": 2335,
    "start_time": "2023-05-26T16:19:18.098Z"
   },
   {
    "duration": 2096,
    "start_time": "2023-05-26T16:19:27.716Z"
   },
   {
    "duration": 2493,
    "start_time": "2023-05-26T16:22:13.702Z"
   },
   {
    "duration": 2432,
    "start_time": "2023-05-26T16:23:37.698Z"
   },
   {
    "duration": 2260,
    "start_time": "2023-05-26T16:24:31.778Z"
   },
   {
    "duration": 2250,
    "start_time": "2023-05-26T16:24:42.405Z"
   },
   {
    "duration": 2728,
    "start_time": "2023-05-26T16:26:02.169Z"
   },
   {
    "duration": 2371,
    "start_time": "2023-05-26T16:27:41.855Z"
   },
   {
    "duration": 2204,
    "start_time": "2023-05-26T16:28:15.023Z"
   },
   {
    "duration": 2595,
    "start_time": "2023-05-26T16:30:02.071Z"
   },
   {
    "duration": 2228,
    "start_time": "2023-05-26T16:30:25.039Z"
   },
   {
    "duration": 2327,
    "start_time": "2023-05-26T16:30:32.022Z"
   },
   {
    "duration": 2289,
    "start_time": "2023-05-26T16:30:54.534Z"
   },
   {
    "duration": 2395,
    "start_time": "2023-05-26T16:31:11.900Z"
   },
   {
    "duration": 10,
    "start_time": "2023-05-26T16:40:43.049Z"
   },
   {
    "duration": 618,
    "start_time": "2023-05-26T16:40:43.061Z"
   },
   {
    "duration": 169,
    "start_time": "2023-05-26T16:40:43.685Z"
   },
   {
    "duration": 86,
    "start_time": "2023-05-26T16:40:43.860Z"
   },
   {
    "duration": 5,
    "start_time": "2023-05-26T16:40:43.947Z"
   },
   {
    "duration": 305,
    "start_time": "2023-05-26T16:40:43.954Z"
   },
   {
    "duration": 252,
    "start_time": "2023-05-26T16:40:44.260Z"
   },
   {
    "duration": 245,
    "start_time": "2023-05-26T16:40:44.514Z"
   },
   {
    "duration": 86,
    "start_time": "2023-05-26T16:40:44.765Z"
   },
   {
    "duration": 151,
    "start_time": "2023-05-26T16:40:44.857Z"
   },
   {
    "duration": 18,
    "start_time": "2023-05-26T16:40:45.056Z"
   },
   {
    "duration": 20,
    "start_time": "2023-05-26T16:40:45.076Z"
   },
   {
    "duration": 33,
    "start_time": "2023-05-26T16:40:45.097Z"
   },
   {
    "duration": 51,
    "start_time": "2023-05-26T16:40:45.138Z"
   },
   {
    "duration": 6,
    "start_time": "2023-05-26T16:40:45.191Z"
   },
   {
    "duration": 2979,
    "start_time": "2023-05-26T16:40:45.198Z"
   },
   {
    "duration": 3143,
    "start_time": "2023-05-26T16:40:48.178Z"
   },
   {
    "duration": 2680,
    "start_time": "2023-05-26T16:40:51.322Z"
   },
   {
    "duration": 4,
    "start_time": "2023-05-26T17:00:46.444Z"
   },
   {
    "duration": 386,
    "start_time": "2023-05-26T17:00:46.450Z"
   },
   {
    "duration": 115,
    "start_time": "2023-05-26T17:00:46.837Z"
   },
   {
    "duration": 69,
    "start_time": "2023-05-26T17:00:46.954Z"
   },
   {
    "duration": 3,
    "start_time": "2023-05-26T17:00:47.027Z"
   },
   {
    "duration": 191,
    "start_time": "2023-05-26T17:00:47.031Z"
   },
   {
    "duration": 167,
    "start_time": "2023-05-26T17:00:47.224Z"
   },
   {
    "duration": 180,
    "start_time": "2023-05-26T17:00:47.392Z"
   },
   {
    "duration": 63,
    "start_time": "2023-05-26T17:00:47.574Z"
   },
   {
    "duration": 86,
    "start_time": "2023-05-26T17:00:47.639Z"
   },
   {
    "duration": 80,
    "start_time": "2023-05-26T17:00:47.727Z"
   },
   {
    "duration": 103,
    "start_time": "2023-05-26T17:00:47.808Z"
   },
   {
    "duration": 38,
    "start_time": "2023-05-26T17:00:47.915Z"
   },
   {
    "duration": 25,
    "start_time": "2023-05-26T17:00:47.955Z"
   },
   {
    "duration": 4,
    "start_time": "2023-05-26T17:00:47.981Z"
   },
   {
    "duration": 2177,
    "start_time": "2023-05-26T17:00:47.986Z"
   },
   {
    "duration": 2324,
    "start_time": "2023-05-26T17:00:50.167Z"
   },
   {
    "duration": 2353,
    "start_time": "2023-05-26T17:00:52.493Z"
   },
   {
    "duration": 3,
    "start_time": "2023-05-26T17:12:53.698Z"
   },
   {
    "duration": 4,
    "start_time": "2023-05-26T17:20:57.104Z"
   },
   {
    "duration": 402,
    "start_time": "2023-05-26T17:20:57.110Z"
   },
   {
    "duration": 128,
    "start_time": "2023-05-26T17:20:57.515Z"
   },
   {
    "duration": 73,
    "start_time": "2023-05-26T17:20:57.644Z"
   },
   {
    "duration": 3,
    "start_time": "2023-05-26T17:20:57.718Z"
   },
   {
    "duration": 189,
    "start_time": "2023-05-26T17:20:57.723Z"
   },
   {
    "duration": 167,
    "start_time": "2023-05-26T17:20:57.914Z"
   },
   {
    "duration": 171,
    "start_time": "2023-05-26T17:20:58.083Z"
   },
   {
    "duration": 61,
    "start_time": "2023-05-26T17:20:58.256Z"
   },
   {
    "duration": 296,
    "start_time": "2023-05-26T17:20:58.319Z"
   },
   {
    "duration": 4,
    "start_time": "2023-05-26T17:20:58.618Z"
   },
   {
    "duration": 87,
    "start_time": "2023-05-26T17:20:58.624Z"
   },
   {
    "duration": 8,
    "start_time": "2023-05-26T17:20:58.712Z"
   },
   {
    "duration": 18,
    "start_time": "2023-05-26T17:20:58.807Z"
   },
   {
    "duration": 4,
    "start_time": "2023-05-26T17:20:58.828Z"
   },
   {
    "duration": 2202,
    "start_time": "2023-05-26T17:20:58.833Z"
   },
   {
    "duration": 2372,
    "start_time": "2023-05-26T17:21:01.036Z"
   },
   {
    "duration": 2340,
    "start_time": "2023-05-26T17:21:03.409Z"
   },
   {
    "duration": 2183,
    "start_time": "2023-05-26T17:26:14.228Z"
   },
   {
    "duration": 16,
    "start_time": "2023-05-26T17:26:53.216Z"
   },
   {
    "duration": 5,
    "start_time": "2023-05-26T17:27:02.230Z"
   },
   {
    "duration": 2330,
    "start_time": "2023-05-26T17:27:18.478Z"
   },
   {
    "duration": 2283,
    "start_time": "2023-05-26T17:27:30.743Z"
   },
   {
    "duration": 4,
    "start_time": "2023-05-26T17:27:55.638Z"
   },
   {
    "duration": 2261,
    "start_time": "2023-05-26T17:28:00.133Z"
   },
   {
    "duration": 2223,
    "start_time": "2023-05-26T17:28:18.045Z"
   },
   {
    "duration": 2107,
    "start_time": "2023-05-26T17:29:07.533Z"
   },
   {
    "duration": 2149,
    "start_time": "2023-05-26T17:29:14.038Z"
   },
   {
    "duration": 2222,
    "start_time": "2023-05-26T17:29:29.740Z"
   },
   {
    "duration": 2435,
    "start_time": "2023-05-26T17:29:42.022Z"
   },
   {
    "duration": 3,
    "start_time": "2023-05-26T17:29:53.527Z"
   },
   {
    "duration": 410,
    "start_time": "2023-05-26T17:29:53.533Z"
   },
   {
    "duration": 113,
    "start_time": "2023-05-26T17:29:53.945Z"
   },
   {
    "duration": 66,
    "start_time": "2023-05-26T17:29:54.060Z"
   },
   {
    "duration": 2,
    "start_time": "2023-05-26T17:29:54.128Z"
   },
   {
    "duration": 186,
    "start_time": "2023-05-26T17:29:54.131Z"
   },
   {
    "duration": 176,
    "start_time": "2023-05-26T17:29:54.318Z"
   },
   {
    "duration": 178,
    "start_time": "2023-05-26T17:29:54.496Z"
   },
   {
    "duration": 61,
    "start_time": "2023-05-26T17:29:54.675Z"
   },
   {
    "duration": 179,
    "start_time": "2023-05-26T17:29:54.738Z"
   },
   {
    "duration": 2,
    "start_time": "2023-05-26T17:29:55.006Z"
   },
   {
    "duration": 100,
    "start_time": "2023-05-26T17:29:55.010Z"
   },
   {
    "duration": 10,
    "start_time": "2023-05-26T17:29:55.111Z"
   },
   {
    "duration": 29,
    "start_time": "2023-05-26T17:29:55.124Z"
   },
   {
    "duration": 3,
    "start_time": "2023-05-26T17:29:55.155Z"
   },
   {
    "duration": 2123,
    "start_time": "2023-05-26T17:29:55.160Z"
   },
   {
    "duration": 2097,
    "start_time": "2023-05-26T17:29:57.285Z"
   },
   {
    "duration": 2130,
    "start_time": "2023-05-26T17:29:59.383Z"
   },
   {
    "duration": 50,
    "start_time": "2023-05-26T17:34:32.337Z"
   },
   {
    "duration": 2223,
    "start_time": "2023-05-26T17:40:48.121Z"
   },
   {
    "duration": 2850,
    "start_time": "2023-05-26T17:41:02.624Z"
   },
   {
    "duration": 2257,
    "start_time": "2023-05-26T17:42:03.910Z"
   },
   {
    "duration": 2102,
    "start_time": "2023-05-26T17:42:32.776Z"
   },
   {
    "duration": 2193,
    "start_time": "2023-05-26T17:42:41.975Z"
   },
   {
    "duration": 2238,
    "start_time": "2023-05-26T17:43:29.628Z"
   },
   {
    "duration": 2143,
    "start_time": "2023-05-26T17:44:19.037Z"
   },
   {
    "duration": 5,
    "start_time": "2023-05-26T17:44:29.577Z"
   },
   {
    "duration": 411,
    "start_time": "2023-05-26T17:44:29.584Z"
   },
   {
    "duration": 142,
    "start_time": "2023-05-26T17:44:29.997Z"
   },
   {
    "duration": 83,
    "start_time": "2023-05-26T17:44:30.141Z"
   },
   {
    "duration": 9,
    "start_time": "2023-05-26T17:44:30.226Z"
   },
   {
    "duration": 213,
    "start_time": "2023-05-26T17:44:30.236Z"
   },
   {
    "duration": 173,
    "start_time": "2023-05-26T17:44:30.464Z"
   },
   {
    "duration": 199,
    "start_time": "2023-05-26T17:44:30.639Z"
   },
   {
    "duration": 53,
    "start_time": "2023-05-26T17:44:30.839Z"
   },
   {
    "duration": 122,
    "start_time": "2023-05-26T17:44:30.893Z"
   },
   {
    "duration": 5,
    "start_time": "2023-05-26T17:44:31.107Z"
   },
   {
    "duration": 112,
    "start_time": "2023-05-26T17:44:31.115Z"
   },
   {
    "duration": 50,
    "start_time": "2023-05-26T17:44:31.229Z"
   },
   {
    "duration": 45,
    "start_time": "2023-05-26T17:44:31.282Z"
   },
   {
    "duration": 18,
    "start_time": "2023-05-26T17:44:31.329Z"
   },
   {
    "duration": 2258,
    "start_time": "2023-05-26T17:44:31.349Z"
   },
   {
    "duration": 2177,
    "start_time": "2023-05-26T17:44:33.608Z"
   },
   {
    "duration": 2123,
    "start_time": "2023-05-26T17:44:35.787Z"
   },
   {
    "duration": 2130,
    "start_time": "2023-05-26T17:54:48.478Z"
   },
   {
    "duration": 2197,
    "start_time": "2023-05-26T17:54:53.358Z"
   },
   {
    "duration": 2157,
    "start_time": "2023-05-26T17:54:57.149Z"
   },
   {
    "duration": 6,
    "start_time": "2023-05-26T17:56:01.795Z"
   },
   {
    "duration": 403,
    "start_time": "2023-05-26T17:56:01.803Z"
   },
   {
    "duration": 126,
    "start_time": "2023-05-26T17:56:02.208Z"
   },
   {
    "duration": 73,
    "start_time": "2023-05-26T17:56:02.336Z"
   },
   {
    "duration": 2,
    "start_time": "2023-05-26T17:56:02.412Z"
   },
   {
    "duration": 293,
    "start_time": "2023-05-26T17:56:02.416Z"
   },
   {
    "duration": 389,
    "start_time": "2023-05-26T17:56:02.711Z"
   },
   {
    "duration": 215,
    "start_time": "2023-05-26T17:56:03.101Z"
   },
   {
    "duration": 56,
    "start_time": "2023-05-26T17:56:03.317Z"
   },
   {
    "duration": 136,
    "start_time": "2023-05-26T17:56:03.375Z"
   },
   {
    "duration": 3,
    "start_time": "2023-05-26T17:56:03.513Z"
   },
   {
    "duration": 98,
    "start_time": "2023-05-26T17:56:03.517Z"
   },
   {
    "duration": 91,
    "start_time": "2023-05-26T17:56:03.616Z"
   },
   {
    "duration": 30,
    "start_time": "2023-05-26T17:56:03.709Z"
   },
   {
    "duration": 17,
    "start_time": "2023-05-26T17:56:03.741Z"
   },
   {
    "duration": 2181,
    "start_time": "2023-05-26T17:56:03.759Z"
   },
   {
    "duration": 2122,
    "start_time": "2023-05-26T17:56:05.942Z"
   },
   {
    "duration": 2114,
    "start_time": "2023-05-26T17:56:08.066Z"
   },
   {
    "duration": 2247,
    "start_time": "2023-05-26T18:02:12.889Z"
   },
   {
    "duration": 2388,
    "start_time": "2023-05-26T18:02:20.142Z"
   },
   {
    "duration": 2224,
    "start_time": "2023-05-26T18:02:24.353Z"
   },
   {
    "duration": 2288,
    "start_time": "2023-05-26T18:02:28.873Z"
   },
   {
    "duration": 2142,
    "start_time": "2023-05-26T18:05:26.144Z"
   },
   {
    "duration": 2148,
    "start_time": "2023-05-26T18:05:56.799Z"
   },
   {
    "duration": 106,
    "start_time": "2023-05-26T18:07:23.447Z"
   },
   {
    "duration": 2216,
    "start_time": "2023-05-26T18:07:31.592Z"
   },
   {
    "duration": 2085,
    "start_time": "2023-05-26T18:08:24.086Z"
   },
   {
    "duration": 2077,
    "start_time": "2023-05-26T18:08:46.071Z"
   },
   {
    "duration": 2112,
    "start_time": "2023-05-26T18:08:59.021Z"
   },
   {
    "duration": 2072,
    "start_time": "2023-05-26T18:09:06.526Z"
   },
   {
    "duration": 2353,
    "start_time": "2023-05-26T18:09:19.653Z"
   },
   {
    "duration": 2111,
    "start_time": "2023-05-26T18:09:24.043Z"
   },
   {
    "duration": 2053,
    "start_time": "2023-05-26T18:10:04.557Z"
   },
   {
    "duration": 2162,
    "start_time": "2023-05-26T18:10:11.812Z"
   },
   {
    "duration": 2156,
    "start_time": "2023-05-26T18:10:21.997Z"
   },
   {
    "duration": 2187,
    "start_time": "2023-05-26T18:10:35.724Z"
   },
   {
    "duration": 2171,
    "start_time": "2023-05-26T18:11:04.709Z"
   },
   {
    "duration": 2086,
    "start_time": "2023-05-26T18:11:25.453Z"
   },
   {
    "duration": 3,
    "start_time": "2023-05-26T18:12:08.776Z"
   },
   {
    "duration": 368,
    "start_time": "2023-05-26T18:12:08.781Z"
   },
   {
    "duration": 118,
    "start_time": "2023-05-26T18:12:09.150Z"
   },
   {
    "duration": 65,
    "start_time": "2023-05-26T18:12:09.270Z"
   },
   {
    "duration": 2,
    "start_time": "2023-05-26T18:12:09.337Z"
   },
   {
    "duration": 201,
    "start_time": "2023-05-26T18:12:09.341Z"
   },
   {
    "duration": 183,
    "start_time": "2023-05-26T18:12:09.544Z"
   },
   {
    "duration": 184,
    "start_time": "2023-05-26T18:12:09.729Z"
   },
   {
    "duration": 57,
    "start_time": "2023-05-26T18:12:09.915Z"
   },
   {
    "duration": 235,
    "start_time": "2023-05-26T18:12:09.975Z"
   },
   {
    "duration": 4,
    "start_time": "2023-05-26T18:12:10.211Z"
   },
   {
    "duration": 98,
    "start_time": "2023-05-26T18:12:10.216Z"
   },
   {
    "duration": 4,
    "start_time": "2023-05-26T18:12:10.316Z"
   },
   {
    "duration": 97,
    "start_time": "2023-05-26T18:12:10.322Z"
   },
   {
    "duration": 5,
    "start_time": "2023-05-26T18:12:10.420Z"
   },
   {
    "duration": 2262,
    "start_time": "2023-05-26T18:12:10.426Z"
   },
   {
    "duration": 2207,
    "start_time": "2023-05-26T18:12:12.690Z"
   },
   {
    "duration": 2140,
    "start_time": "2023-05-26T18:12:14.898Z"
   },
   {
    "duration": 4,
    "start_time": "2023-05-26T18:16:49.515Z"
   },
   {
    "duration": 365,
    "start_time": "2023-05-26T18:16:49.520Z"
   },
   {
    "duration": 112,
    "start_time": "2023-05-26T18:16:49.886Z"
   },
   {
    "duration": 55,
    "start_time": "2023-05-26T18:16:50.006Z"
   },
   {
    "duration": 3,
    "start_time": "2023-05-26T18:16:50.062Z"
   },
   {
    "duration": 183,
    "start_time": "2023-05-26T18:16:50.066Z"
   },
   {
    "duration": 329,
    "start_time": "2023-05-26T18:16:50.250Z"
   },
   {
    "duration": 175,
    "start_time": "2023-05-26T18:16:50.580Z"
   },
   {
    "duration": 60,
    "start_time": "2023-05-26T18:16:50.756Z"
   },
   {
    "duration": 190,
    "start_time": "2023-05-26T18:16:50.819Z"
   },
   {
    "duration": 4,
    "start_time": "2023-05-26T18:16:51.011Z"
   },
   {
    "duration": 99,
    "start_time": "2023-05-26T18:16:51.016Z"
   },
   {
    "duration": 92,
    "start_time": "2023-05-26T18:16:51.116Z"
   },
   {
    "duration": 29,
    "start_time": "2023-05-26T18:16:51.210Z"
   },
   {
    "duration": 4,
    "start_time": "2023-05-26T18:16:51.240Z"
   },
   {
    "duration": 2133,
    "start_time": "2023-05-26T18:16:51.245Z"
   },
   {
    "duration": 2106,
    "start_time": "2023-05-26T18:16:53.379Z"
   },
   {
    "duration": 2105,
    "start_time": "2023-05-26T18:16:55.487Z"
   },
   {
    "duration": 46,
    "start_time": "2023-05-28T08:50:53.380Z"
   },
   {
    "duration": 1578,
    "start_time": "2023-05-28T08:50:56.827Z"
   },
   {
    "duration": 1913,
    "start_time": "2023-05-28T08:50:58.407Z"
   },
   {
    "duration": 156,
    "start_time": "2023-05-28T08:51:00.322Z"
   },
   {
    "duration": 100,
    "start_time": "2023-05-28T08:51:00.480Z"
   },
   {
    "duration": 27,
    "start_time": "2023-05-28T08:51:00.582Z"
   },
   {
    "duration": 14,
    "start_time": "2023-05-28T08:51:00.611Z"
   },
   {
    "duration": 252,
    "start_time": "2023-05-28T08:51:00.627Z"
   },
   {
    "duration": 207,
    "start_time": "2023-05-28T08:51:00.881Z"
   },
   {
    "duration": 213,
    "start_time": "2023-05-28T08:51:01.090Z"
   },
   {
    "duration": 80,
    "start_time": "2023-05-28T08:51:01.306Z"
   },
   {
    "duration": 269,
    "start_time": "2023-05-28T08:51:01.388Z"
   },
   {
    "duration": 3,
    "start_time": "2023-05-28T08:51:01.659Z"
   },
   {
    "duration": 113,
    "start_time": "2023-05-28T08:51:01.751Z"
   },
   {
    "duration": 36,
    "start_time": "2023-05-28T08:51:01.865Z"
   },
   {
    "duration": 41,
    "start_time": "2023-05-28T08:51:01.902Z"
   },
   {
    "duration": 10,
    "start_time": "2023-05-28T08:51:01.944Z"
   },
   {
    "duration": 2538,
    "start_time": "2023-05-28T08:51:01.956Z"
   },
   {
    "duration": 2508,
    "start_time": "2023-05-28T08:51:04.496Z"
   },
   {
    "duration": 2390,
    "start_time": "2023-05-28T08:51:07.006Z"
   },
   {
    "duration": 108,
    "start_time": "2023-05-28T08:51:49.761Z"
   },
   {
    "duration": 105,
    "start_time": "2023-05-28T08:51:56.704Z"
   },
   {
    "duration": 106,
    "start_time": "2023-05-28T08:52:04.041Z"
   },
   {
    "duration": 102,
    "start_time": "2023-05-28T08:52:43.120Z"
   },
   {
    "duration": 42,
    "start_time": "2023-05-28T08:53:01.019Z"
   },
   {
    "duration": 9,
    "start_time": "2023-05-28T08:53:57.464Z"
   },
   {
    "duration": 16,
    "start_time": "2023-05-28T08:54:00.831Z"
   },
   {
    "duration": 104,
    "start_time": "2023-05-28T08:54:08.034Z"
   },
   {
    "duration": 13,
    "start_time": "2023-05-28T08:54:25.854Z"
   },
   {
    "duration": 99,
    "start_time": "2023-05-28T08:54:47.806Z"
   },
   {
    "duration": 14,
    "start_time": "2023-05-28T08:55:17.692Z"
   },
   {
    "duration": 14,
    "start_time": "2023-05-28T08:55:44.796Z"
   },
   {
    "duration": 19,
    "start_time": "2023-05-28T08:56:44.685Z"
   },
   {
    "duration": 16,
    "start_time": "2023-05-28T08:57:18.572Z"
   },
   {
    "duration": 100,
    "start_time": "2023-05-28T08:57:57.303Z"
   },
   {
    "duration": 137,
    "start_time": "2023-05-28T08:58:04.543Z"
   },
   {
    "duration": 174,
    "start_time": "2023-05-28T08:58:18.116Z"
   },
   {
    "duration": 150,
    "start_time": "2023-05-28T08:58:22.349Z"
   },
   {
    "duration": 146,
    "start_time": "2023-05-28T08:58:24.629Z"
   },
   {
    "duration": 142,
    "start_time": "2023-05-28T08:58:38.444Z"
   },
   {
    "duration": 152,
    "start_time": "2023-05-28T08:58:55.428Z"
   },
   {
    "duration": 184,
    "start_time": "2023-05-28T08:59:04.321Z"
   },
   {
    "duration": 214,
    "start_time": "2023-05-28T08:59:15.853Z"
   },
   {
    "duration": 38,
    "start_time": "2023-05-28T08:59:55.040Z"
   },
   {
    "duration": 120,
    "start_time": "2023-05-28T09:00:30.555Z"
   },
   {
    "duration": 212,
    "start_time": "2023-05-28T09:00:37.795Z"
   },
   {
    "duration": 115,
    "start_time": "2023-05-28T09:00:50.747Z"
   },
   {
    "duration": 220,
    "start_time": "2023-05-28T09:01:03.147Z"
   },
   {
    "duration": 211,
    "start_time": "2023-05-28T09:01:50.107Z"
   },
   {
    "duration": 2181,
    "start_time": "2023-05-28T09:01:58.839Z"
   },
   {
    "duration": 210,
    "start_time": "2023-05-28T09:02:13.594Z"
   },
   {
    "duration": 42,
    "start_time": "2023-05-28T09:03:17.608Z"
   },
   {
    "duration": 9,
    "start_time": "2023-05-28T09:07:32.600Z"
   },
   {
    "duration": 10,
    "start_time": "2023-05-28T09:07:35.623Z"
   },
   {
    "duration": 111,
    "start_time": "2023-05-28T09:07:47.498Z"
   },
   {
    "duration": 9,
    "start_time": "2023-05-28T09:08:43.894Z"
   },
   {
    "duration": 9,
    "start_time": "2023-05-28T09:09:59.098Z"
   },
   {
    "duration": 114,
    "start_time": "2023-05-28T09:10:03.811Z"
   },
   {
    "duration": 112,
    "start_time": "2023-05-28T09:10:08.698Z"
   },
   {
    "duration": 167,
    "start_time": "2023-05-28T09:10:24.171Z"
   },
   {
    "duration": 131,
    "start_time": "2023-05-28T09:10:37.495Z"
   },
   {
    "duration": 141,
    "start_time": "2023-05-28T09:10:45.148Z"
   },
   {
    "duration": 171,
    "start_time": "2023-05-28T09:10:51.461Z"
   },
   {
    "duration": 177,
    "start_time": "2023-05-28T09:11:16.791Z"
   },
   {
    "duration": 282,
    "start_time": "2023-05-28T09:11:23.309Z"
   },
   {
    "duration": 167,
    "start_time": "2023-05-28T09:12:04.856Z"
   },
   {
    "duration": 143,
    "start_time": "2023-05-28T09:12:07.797Z"
   },
   {
    "duration": 172,
    "start_time": "2023-05-28T09:12:40.727Z"
   },
   {
    "duration": 196,
    "start_time": "2023-05-28T09:12:52.444Z"
   },
   {
    "duration": 145,
    "start_time": "2023-05-28T09:12:59.812Z"
   },
   {
    "duration": 135,
    "start_time": "2023-05-28T09:13:04.996Z"
   },
   {
    "duration": 3,
    "start_time": "2023-05-28T09:25:54.068Z"
   },
   {
    "duration": 4,
    "start_time": "2023-05-28T09:28:03.828Z"
   },
   {
    "duration": 4,
    "start_time": "2023-05-28T09:28:47.946Z"
   },
   {
    "duration": 3,
    "start_time": "2023-05-28T09:30:09.491Z"
   },
   {
    "duration": 18,
    "start_time": "2023-05-28T09:30:17.048Z"
   },
   {
    "duration": 6,
    "start_time": "2023-05-28T09:31:31.151Z"
   },
   {
    "duration": 4031,
    "start_time": "2023-05-28T09:31:54.939Z"
   },
   {
    "duration": 2548,
    "start_time": "2023-05-28T09:32:41.389Z"
   },
   {
    "duration": 2562,
    "start_time": "2023-05-28T09:32:46.061Z"
   },
   {
    "duration": 2662,
    "start_time": "2023-05-28T09:33:03.182Z"
   },
   {
    "duration": 25,
    "start_time": "2023-05-28T09:37:43.185Z"
   },
   {
    "duration": 2694,
    "start_time": "2023-05-28T09:38:09.758Z"
   },
   {
    "duration": 2734,
    "start_time": "2023-05-28T09:38:48.862Z"
   },
   {
    "duration": 2510,
    "start_time": "2023-05-28T09:40:04.628Z"
   },
   {
    "duration": 2508,
    "start_time": "2023-05-28T09:40:14.765Z"
   },
   {
    "duration": 2644,
    "start_time": "2023-05-28T09:40:20.161Z"
   },
   {
    "duration": 2673,
    "start_time": "2023-05-28T09:42:40.895Z"
   },
   {
    "duration": 2894,
    "start_time": "2023-05-28T09:44:07.998Z"
   },
   {
    "duration": 2883,
    "start_time": "2023-05-28T09:44:29.010Z"
   },
   {
    "duration": 2667,
    "start_time": "2023-05-28T09:45:31.194Z"
   },
   {
    "duration": 112,
    "start_time": "2023-05-28T09:46:18.818Z"
   },
   {
    "duration": 2719,
    "start_time": "2023-05-28T09:47:14.483Z"
   },
   {
    "duration": 2817,
    "start_time": "2023-05-28T09:47:21.608Z"
   },
   {
    "duration": 2556,
    "start_time": "2023-05-28T09:47:29.280Z"
   },
   {
    "duration": 1537,
    "start_time": "2023-05-28T09:52:38.463Z"
   },
   {
    "duration": 3,
    "start_time": "2023-05-28T09:52:40.002Z"
   },
   {
    "duration": 487,
    "start_time": "2023-05-28T09:52:40.006Z"
   },
   {
    "duration": 172,
    "start_time": "2023-05-28T09:52:40.494Z"
   },
   {
    "duration": 211,
    "start_time": "2023-05-28T09:52:40.671Z"
   },
   {
    "duration": 45,
    "start_time": "2023-05-28T09:52:40.884Z"
   },
   {
    "duration": 20,
    "start_time": "2023-05-28T09:52:40.931Z"
   },
   {
    "duration": 232,
    "start_time": "2023-05-28T09:52:40.964Z"
   },
   {
    "duration": 212,
    "start_time": "2023-05-28T09:52:41.198Z"
   },
   {
    "duration": 223,
    "start_time": "2023-05-28T09:52:41.412Z"
   },
   {
    "duration": 161,
    "start_time": "2023-05-28T09:52:41.636Z"
   },
   {
    "duration": 105,
    "start_time": "2023-05-28T09:52:41.799Z"
   },
   {
    "duration": 144,
    "start_time": "2023-05-28T09:52:41.906Z"
   },
   {
    "duration": 12,
    "start_time": "2023-05-28T09:52:42.054Z"
   },
   {
    "duration": 5,
    "start_time": "2023-05-28T09:52:42.071Z"
   },
   {
    "duration": 33,
    "start_time": "2023-05-28T09:52:42.150Z"
   },
   {
    "duration": 5,
    "start_time": "2023-05-28T09:52:42.185Z"
   },
   {
    "duration": 2788,
    "start_time": "2023-05-28T09:52:42.192Z"
   },
   {
    "duration": 2650,
    "start_time": "2023-05-28T09:52:44.982Z"
   },
   {
    "duration": 2604,
    "start_time": "2023-05-28T09:52:47.634Z"
   },
   {
    "duration": 1625,
    "start_time": "2023-05-28T10:11:16.455Z"
   },
   {
    "duration": 3,
    "start_time": "2023-05-28T10:11:18.082Z"
   },
   {
    "duration": 567,
    "start_time": "2023-05-28T10:11:18.087Z"
   },
   {
    "duration": 169,
    "start_time": "2023-05-28T10:11:18.656Z"
   },
   {
    "duration": 258,
    "start_time": "2023-05-28T10:11:18.827Z"
   },
   {
    "duration": 43,
    "start_time": "2023-05-28T10:11:19.088Z"
   },
   {
    "duration": 19,
    "start_time": "2023-05-28T10:11:19.132Z"
   },
   {
    "duration": 288,
    "start_time": "2023-05-28T10:11:19.153Z"
   },
   {
    "duration": 267,
    "start_time": "2023-05-28T10:11:19.443Z"
   },
   {
    "duration": 254,
    "start_time": "2023-05-28T10:11:19.713Z"
   },
   {
    "duration": 157,
    "start_time": "2023-05-28T10:11:19.969Z"
   },
   {
    "duration": 93,
    "start_time": "2023-05-28T10:11:20.128Z"
   },
   {
    "duration": 131,
    "start_time": "2023-05-28T10:11:20.223Z"
   },
   {
    "duration": 5,
    "start_time": "2023-05-28T10:11:20.357Z"
   },
   {
    "duration": 9,
    "start_time": "2023-05-28T10:11:20.366Z"
   },
   {
    "duration": 86,
    "start_time": "2023-05-28T10:11:20.377Z"
   },
   {
    "duration": 6,
    "start_time": "2023-05-28T10:11:20.465Z"
   },
   {
    "duration": 2745,
    "start_time": "2023-05-28T10:11:20.473Z"
   },
   {
    "duration": 2704,
    "start_time": "2023-05-28T10:11:23.220Z"
   },
   {
    "duration": 2698,
    "start_time": "2023-05-28T10:11:25.926Z"
   },
   {
    "duration": 2778,
    "start_time": "2023-05-28T10:17:12.436Z"
   },
   {
    "duration": 2795,
    "start_time": "2023-05-28T10:17:34.741Z"
   },
   {
    "duration": 2959,
    "start_time": "2023-05-28T10:17:37.538Z"
   },
   {
    "duration": 2624,
    "start_time": "2023-05-28T10:18:21.402Z"
   },
   {
    "duration": 2635,
    "start_time": "2023-05-28T10:18:49.839Z"
   },
   {
    "duration": 2561,
    "start_time": "2023-05-28T10:18:54.402Z"
   },
   {
    "duration": 2691,
    "start_time": "2023-05-28T10:18:58.610Z"
   },
   {
    "duration": 1413,
    "start_time": "2023-05-28T10:19:26.092Z"
   },
   {
    "duration": 4,
    "start_time": "2023-05-28T10:19:27.508Z"
   },
   {
    "duration": 486,
    "start_time": "2023-05-28T10:19:27.513Z"
   },
   {
    "duration": 167,
    "start_time": "2023-05-28T10:19:28.001Z"
   },
   {
    "duration": 255,
    "start_time": "2023-05-28T10:19:28.172Z"
   },
   {
    "duration": 66,
    "start_time": "2023-05-28T10:19:28.428Z"
   },
   {
    "duration": 3,
    "start_time": "2023-05-28T10:19:28.497Z"
   },
   {
    "duration": 241,
    "start_time": "2023-05-28T10:19:28.503Z"
   },
   {
    "duration": 213,
    "start_time": "2023-05-28T10:19:28.745Z"
   },
   {
    "duration": 209,
    "start_time": "2023-05-28T10:19:28.959Z"
   },
   {
    "duration": 147,
    "start_time": "2023-05-28T10:19:29.170Z"
   },
   {
    "duration": 79,
    "start_time": "2023-05-28T10:19:29.319Z"
   },
   {
    "duration": 72,
    "start_time": "2023-05-28T10:19:29.400Z"
   },
   {
    "duration": 80,
    "start_time": "2023-05-28T10:19:29.475Z"
   },
   {
    "duration": 6,
    "start_time": "2023-05-28T10:19:29.560Z"
   },
   {
    "duration": 102,
    "start_time": "2023-05-28T10:19:29.569Z"
   },
   {
    "duration": 4,
    "start_time": "2023-05-28T10:19:29.673Z"
   },
   {
    "duration": 2721,
    "start_time": "2023-05-28T10:19:29.679Z"
   },
   {
    "duration": 2685,
    "start_time": "2023-05-28T10:19:32.402Z"
   },
   {
    "duration": 2644,
    "start_time": "2023-05-28T10:19:35.089Z"
   },
   {
    "duration": 2391,
    "start_time": "2023-05-29T09:48:46.047Z"
   },
   {
    "duration": 3,
    "start_time": "2023-05-29T09:48:48.441Z"
   },
   {
    "duration": 2262,
    "start_time": "2023-05-29T09:48:48.446Z"
   },
   {
    "duration": 214,
    "start_time": "2023-05-29T09:48:50.711Z"
   },
   {
    "duration": 310,
    "start_time": "2023-05-29T09:48:50.927Z"
   },
   {
    "duration": 70,
    "start_time": "2023-05-29T09:48:51.239Z"
   },
   {
    "duration": 3,
    "start_time": "2023-05-29T09:48:51.311Z"
   },
   {
    "duration": 268,
    "start_time": "2023-05-29T09:48:51.316Z"
   },
   {
    "duration": 235,
    "start_time": "2023-05-29T09:48:51.585Z"
   },
   {
    "duration": 261,
    "start_time": "2023-05-29T09:48:51.822Z"
   },
   {
    "duration": 157,
    "start_time": "2023-05-29T09:48:52.085Z"
   },
   {
    "duration": 549,
    "start_time": "2023-05-29T09:48:52.245Z"
   },
   {
    "duration": 769,
    "start_time": "2023-05-29T09:49:01.214Z"
   },
   {
    "duration": 189,
    "start_time": "2023-05-29T09:50:46.795Z"
   }
  ],
  "kernelspec": {
   "display_name": "Python 3 (ipykernel)",
   "language": "python",
   "name": "python3"
  },
  "language_info": {
   "codemirror_mode": {
    "name": "ipython",
    "version": 3
   },
   "file_extension": ".py",
   "mimetype": "text/x-python",
   "name": "python",
   "nbconvert_exporter": "python",
   "pygments_lexer": "ipython3",
   "version": "3.9.13"
  },
  "toc": {
   "base_numbering": 1,
   "nav_menu": {
    "height": "144.983px",
    "width": "238.993px"
   },
   "number_sections": true,
   "sideBar": true,
   "skip_h1_title": true,
   "title_cell": "Table of Contents",
   "title_sidebar": "Contents",
   "toc_cell": false,
   "toc_position": {
    "height": "calc(100% - 180px)",
    "left": "10px",
    "top": "150px",
    "width": "165px"
   },
   "toc_section_display": true,
   "toc_window_display": true
  }
 },
 "nbformat": 4,
 "nbformat_minor": 2
}
