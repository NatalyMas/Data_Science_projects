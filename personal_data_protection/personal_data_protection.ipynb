{
 "cells": [
  {
   "cell_type": "markdown",
   "metadata": {},
   "source": [
    "# Защита персональных данных клиентов"
   ]
  },
  {
   "cell_type": "markdown",
   "metadata": {
    "toc": true
   },
   "source": [
    "<h1>Содержание<span class=\"tocSkip\"></span></h1>\n",
    "<div class=\"toc\"><ul class=\"toc-item\"><li><span><a href=\"#Загрузка-данных\" data-toc-modified-id=\"Загрузка-данных-1\"><span class=\"toc-item-num\">1&nbsp;&nbsp;</span>Загрузка данных</a></span></li><li><span><a href=\"#Умножение-матриц\" data-toc-modified-id=\"Умножение-матриц-2\"><span class=\"toc-item-num\">2&nbsp;&nbsp;</span>Умножение матриц</a></span></li><li><span><a href=\"#Алгоритм-преобразования\" data-toc-modified-id=\"Алгоритм-преобразования-3\"><span class=\"toc-item-num\">3&nbsp;&nbsp;</span>Алгоритм преобразования</a></span></li><li><span><a href=\"#Проверка-алгоритма\" data-toc-modified-id=\"Проверка-алгоритма-4\"><span class=\"toc-item-num\">4&nbsp;&nbsp;</span>Проверка алгоритма</a></span></li><li><span><a href=\"#Чек-лист-проверки\" data-toc-modified-id=\"Чек-лист-проверки-5\"><span class=\"toc-item-num\">5&nbsp;&nbsp;</span>Чек-лист проверки</a></span></li></ul></div>"
   ]
  },
  {
   "cell_type": "markdown",
   "metadata": {},
   "source": [
    "Вам нужно защитить данные клиентов страховой компании «Хоть потоп». Разработайте такой метод преобразования данных, чтобы по ним было сложно восстановить персональную информацию. Обоснуйте корректность его работы.\n",
    "\n",
    "Нужно защитить данные, чтобы при преобразовании качество моделей машинного обучения не ухудшилось. Подбирать наилучшую модель не требуется."
   ]
  },
  {
   "cell_type": "markdown",
   "metadata": {},
   "source": [
    "## Загрузка данных"
   ]
  },
  {
   "cell_type": "code",
   "execution_count": 1,
   "metadata": {},
   "outputs": [],
   "source": [
    "import pandas as pd\n",
    "import numpy as np\n",
    "from sklearn.linear_model import LinearRegression\n",
    "from sklearn.metrics import r2_score"
   ]
  },
  {
   "cell_type": "code",
   "execution_count": 2,
   "metadata": {},
   "outputs": [],
   "source": [
    "df = pd.read_csv('/datasets/insurance.csv')"
   ]
  },
  {
   "cell_type": "code",
   "execution_count": 3,
   "metadata": {
    "scrolled": false
   },
   "outputs": [
    {
     "name": "stdout",
     "output_type": "stream",
     "text": [
      "<class 'pandas.core.frame.DataFrame'>\n",
      "RangeIndex: 5000 entries, 0 to 4999\n",
      "Data columns (total 5 columns):\n",
      " #   Column             Non-Null Count  Dtype  \n",
      "---  ------             --------------  -----  \n",
      " 0   Пол                5000 non-null   int64  \n",
      " 1   Возраст            5000 non-null   float64\n",
      " 2   Зарплата           5000 non-null   float64\n",
      " 3   Члены семьи        5000 non-null   int64  \n",
      " 4   Страховые выплаты  5000 non-null   int64  \n",
      "dtypes: float64(2), int64(3)\n",
      "memory usage: 195.4 KB\n"
     ]
    },
    {
     "data": {
      "text/plain": [
       "None"
      ]
     },
     "metadata": {},
     "output_type": "display_data"
    },
    {
     "data": {
      "text/html": [
       "<div>\n",
       "<style scoped>\n",
       "    .dataframe tbody tr th:only-of-type {\n",
       "        vertical-align: middle;\n",
       "    }\n",
       "\n",
       "    .dataframe tbody tr th {\n",
       "        vertical-align: top;\n",
       "    }\n",
       "\n",
       "    .dataframe thead th {\n",
       "        text-align: right;\n",
       "    }\n",
       "</style>\n",
       "<table border=\"1\" class=\"dataframe\">\n",
       "  <thead>\n",
       "    <tr style=\"text-align: right;\">\n",
       "      <th></th>\n",
       "      <th>Пол</th>\n",
       "      <th>Возраст</th>\n",
       "      <th>Зарплата</th>\n",
       "      <th>Члены семьи</th>\n",
       "      <th>Страховые выплаты</th>\n",
       "    </tr>\n",
       "  </thead>\n",
       "  <tbody>\n",
       "    <tr>\n",
       "      <th>0</th>\n",
       "      <td>1</td>\n",
       "      <td>41.0</td>\n",
       "      <td>49600.0</td>\n",
       "      <td>1</td>\n",
       "      <td>0</td>\n",
       "    </tr>\n",
       "    <tr>\n",
       "      <th>1</th>\n",
       "      <td>0</td>\n",
       "      <td>46.0</td>\n",
       "      <td>38000.0</td>\n",
       "      <td>1</td>\n",
       "      <td>1</td>\n",
       "    </tr>\n",
       "    <tr>\n",
       "      <th>2</th>\n",
       "      <td>0</td>\n",
       "      <td>29.0</td>\n",
       "      <td>21000.0</td>\n",
       "      <td>0</td>\n",
       "      <td>0</td>\n",
       "    </tr>\n",
       "    <tr>\n",
       "      <th>3</th>\n",
       "      <td>0</td>\n",
       "      <td>21.0</td>\n",
       "      <td>41700.0</td>\n",
       "      <td>2</td>\n",
       "      <td>0</td>\n",
       "    </tr>\n",
       "    <tr>\n",
       "      <th>4</th>\n",
       "      <td>1</td>\n",
       "      <td>28.0</td>\n",
       "      <td>26100.0</td>\n",
       "      <td>0</td>\n",
       "      <td>0</td>\n",
       "    </tr>\n",
       "  </tbody>\n",
       "</table>\n",
       "</div>"
      ],
      "text/plain": [
       "   Пол  Возраст  Зарплата  Члены семьи  Страховые выплаты\n",
       "0    1     41.0   49600.0            1                  0\n",
       "1    0     46.0   38000.0            1                  1\n",
       "2    0     29.0   21000.0            0                  0\n",
       "3    0     21.0   41700.0            2                  0\n",
       "4    1     28.0   26100.0            0                  0"
      ]
     },
     "execution_count": 3,
     "metadata": {},
     "output_type": "execute_result"
    }
   ],
   "source": [
    "display(df.info())\n",
    "df.head()"
   ]
  },
  {
   "cell_type": "markdown",
   "metadata": {},
   "source": [
    "Датасет состоит из 5000 строк и 5 столбцов. Все значения - числовые, возраст и зарплата дробные, остальные целые, пропусков нет. Разделим данные на признаки и целевой."
   ]
  },
  {
   "cell_type": "code",
   "execution_count": 4,
   "metadata": {},
   "outputs": [],
   "source": [
    "features = df.drop('Страховые выплаты', axis = 1)\n",
    "target = df['Страховые выплаты']"
   ]
  },
  {
   "cell_type": "markdown",
   "metadata": {},
   "source": [
    "## Умножение матриц"
   ]
  },
  {
   "cell_type": "markdown",
   "metadata": {},
   "source": [
    "**Вопрос:** признаки умножают на обратимую матрицу, изменится ли качество линейной регрессии? (Её можно обучить заново.)"
   ]
  },
  {
   "cell_type": "markdown",
   "metadata": {},
   "source": [
    "Обозначения:\n",
    "\n",
    "- $X$ — матрица признаков (нулевой столбец состоит из единиц)\n",
    "\n",
    "- $y$ — вектор целевого признака\n",
    "\n",
    "- $P$ — матрица, на которую умножаются признаки\n",
    "\n",
    "- $w$ — вектор весов линейной регрессии (нулевой элемент равен сдвигу)"
   ]
  },
  {
   "cell_type": "markdown",
   "metadata": {},
   "source": [
    "Предсказания:\n",
    "\n",
    "$$\n",
    "a = Xw\n",
    "$$\n",
    "\n",
    "Задача обучения:\n",
    "\n",
    "$$\n",
    "w = \\arg\\min_w MSE(Xw, y)\n",
    "$$\n",
    "\n",
    "Формула обучения:\n",
    "\n",
    "$$\n",
    "w = (X^T X)^{-1} X^T y\n",
    "$$"
   ]
  },
  {
   "cell_type": "markdown",
   "metadata": {},
   "source": [
    "Качество линейной регрессии определяется предсказаниями *a*. Значит вопрос в том, как изменится *a*  при умножении матрицы *X* на обратимую матрицу *P*. Чтобы ответить на этот вопрос, запишем новое $a_P$ и посмотрим, как оно соотносится с исходным *a*."
   ]
  },
  {
   "cell_type": "markdown",
   "metadata": {},
   "source": [
    "Для выполнения преобразований понадобятся свойства обратных и транпcонированных матриц:\n",
    "\n",
    "$$\n",
    "(A B)^{-1} = B^{-1} A^{-1}\n",
    "$$\n",
    "\n",
    "$$\n",
    "(A B)^{T} = B^{T} A^{T}\n",
    "$$"
   ]
  },
  {
   "cell_type": "markdown",
   "metadata": {},
   "source": [
    "Сначала рассмотрим исходный вектор предсказаний:\n",
    "$$\n",
    "a = Xw = X (X^T X)^{-1} X^T y \n",
    "$$"
   ]
  },
  {
   "cell_type": "markdown",
   "metadata": {},
   "source": [
    "Проделаем преобразования с новым вектором предсказаний:\n",
    "$$\n",
    "a_P = (X P) w_P =\\\\\n",
    "= (X P) ((X P)^T (X P))^{-1} (X P)^{T} y = \\\\\n",
    "= X P (P^{T} X^{T} X P)^{-1} P^{T} X^{T} y =\\\\\n",
    "= X P (P^{T} (X^{T} X P))^{-1} P^{T} X^{T} y =\\\\\n",
    "= X P (X^{T} X P)^{-1} (P^{T})^{-1} P^{T} X^{T} y =\\\\\n",
    "= X P ((X^{T} X) P)^{-1} (P^{T})^{-1} P^{T} X^{T} y =\\\\\n",
    "= X P P^{-1} (X^{T} X)^{-1} (P^{T})^{-1} P^{T} X^{T} y\\\\\n",
    "$$"
   ]
  },
  {
   "cell_type": "markdown",
   "metadata": {},
   "source": [
    "$$P P^{-1} = E$$\n",
    "$$(P^{T})^{-1} P^{T} = E$$"
   ]
  },
  {
   "cell_type": "markdown",
   "metadata": {},
   "source": [
    "Поэтому выражение принимает вид:"
   ]
  },
  {
   "cell_type": "markdown",
   "metadata": {},
   "source": [
    "$$\n",
    "a_P = X E (X^{T} X)^{-1} E X^{T} y \\\\\n",
    "$$"
   ]
  },
  {
   "cell_type": "markdown",
   "metadata": {},
   "source": [
    "Умножение на единичную матрицу здесь ничего не меняет, поэтому:"
   ]
  },
  {
   "cell_type": "markdown",
   "metadata": {},
   "source": [
    "$$\n",
    "a_P = X (X^{T} X)^{-1} X^{T} y = a\n",
    "$$"
   ]
  },
  {
   "cell_type": "markdown",
   "metadata": {},
   "source": [
    "**Ответ: качество линейной регрессии не меняется при умножении признаков на обратимую матрицу.**"
   ]
  },
  {
   "cell_type": "markdown",
   "metadata": {},
   "source": [
    "## Алгоритм преобразования"
   ]
  },
  {
   "cell_type": "markdown",
   "metadata": {},
   "source": [
    "Для решения задачи можно предложить умножить таблицу признаков, то есть данные о клиентах, на случайную обратимую матрицу: на качество линейной регрессии это не повлияет, как мы только что видели, а для постороннего наблюдателя данные будут выглядеть бессмысленно.\n",
    "\n",
    "Обратимая матрица - квадратная матрица. Признаки точно не квадратные, но для возможности умножения остаточно, чтобы матрица *P* имела размерность, равную количеству признаков. Из-за особенностей матричного умножения структура датасета не поменяется, т.е. первая строка так и будет содержать данные о первом клиенте."
   ]
  },
  {
   "cell_type": "code",
   "execution_count": 5,
   "metadata": {},
   "outputs": [],
   "source": [
    "def transform_alg(features):  \n",
    "   \n",
    "    #создаем случайную матрицу\n",
    "    P = np.random.randint (-10, 10, (features.shape[1], features.shape[1]))\n",
    "    \n",
    "    #проверяем матрицу на обратимость\n",
    "    try:\n",
    "        np.linalg.inv(P)\n",
    "    except:\n",
    "        print('сгенерированная матрица необратима')\n",
    "        return None\n",
    "        \n",
    "    #трансформируем признаки\n",
    "    features_transformed = features @ P\n",
    "     \n",
    "    return features_transformed"
   ]
  },
  {
   "cell_type": "markdown",
   "metadata": {},
   "source": [
    "## Проверка алгоритма"
   ]
  },
  {
   "cell_type": "markdown",
   "metadata": {},
   "source": [
    "Чтобы убедиться, что все работает, сделаем предсказания линейной регрессией сначала на исходных данных, а потом на преобразованных, и сравним результаты."
   ]
  },
  {
   "cell_type": "code",
   "execution_count": 6,
   "metadata": {},
   "outputs": [
    {
     "data": {
      "text/html": [
       "<div>\n",
       "<style scoped>\n",
       "    .dataframe tbody tr th:only-of-type {\n",
       "        vertical-align: middle;\n",
       "    }\n",
       "\n",
       "    .dataframe tbody tr th {\n",
       "        vertical-align: top;\n",
       "    }\n",
       "\n",
       "    .dataframe thead th {\n",
       "        text-align: right;\n",
       "    }\n",
       "</style>\n",
       "<table border=\"1\" class=\"dataframe\">\n",
       "  <thead>\n",
       "    <tr style=\"text-align: right;\">\n",
       "      <th></th>\n",
       "      <th>0</th>\n",
       "      <th>1</th>\n",
       "      <th>2</th>\n",
       "      <th>3</th>\n",
       "    </tr>\n",
       "  </thead>\n",
       "  <tbody>\n",
       "    <tr>\n",
       "      <th>0</th>\n",
       "      <td>346831.0</td>\n",
       "      <td>-99365.0</td>\n",
       "      <td>-347278.0</td>\n",
       "      <td>49312.0</td>\n",
       "    </tr>\n",
       "    <tr>\n",
       "      <th>1</th>\n",
       "      <td>265585.0</td>\n",
       "      <td>-76182.0</td>\n",
       "      <td>-266085.0</td>\n",
       "      <td>37679.0</td>\n",
       "    </tr>\n",
       "    <tr>\n",
       "      <th>2</th>\n",
       "      <td>146739.0</td>\n",
       "      <td>-42116.0</td>\n",
       "      <td>-147058.0</td>\n",
       "      <td>20797.0</td>\n",
       "    </tr>\n",
       "    <tr>\n",
       "      <th>3</th>\n",
       "      <td>291709.0</td>\n",
       "      <td>-83480.0</td>\n",
       "      <td>-291928.0</td>\n",
       "      <td>41555.0</td>\n",
       "    </tr>\n",
       "    <tr>\n",
       "      <th>4</th>\n",
       "      <td>182449.0</td>\n",
       "      <td>-52315.0</td>\n",
       "      <td>-182759.0</td>\n",
       "      <td>25902.0</td>\n",
       "    </tr>\n",
       "    <tr>\n",
       "      <th>...</th>\n",
       "      <td>...</td>\n",
       "      <td>...</td>\n",
       "      <td>...</td>\n",
       "      <td>...</td>\n",
       "    </tr>\n",
       "    <tr>\n",
       "      <th>4995</th>\n",
       "      <td>249646.0</td>\n",
       "      <td>-71508.0</td>\n",
       "      <td>-249942.0</td>\n",
       "      <td>35506.0</td>\n",
       "    </tr>\n",
       "    <tr>\n",
       "      <th>4996</th>\n",
       "      <td>366493.0</td>\n",
       "      <td>-104934.0</td>\n",
       "      <td>-366861.0</td>\n",
       "      <td>52163.0</td>\n",
       "    </tr>\n",
       "    <tr>\n",
       "      <th>4997</th>\n",
       "      <td>237118.0</td>\n",
       "      <td>-67876.0</td>\n",
       "      <td>-237326.0</td>\n",
       "      <td>33762.0</td>\n",
       "    </tr>\n",
       "    <tr>\n",
       "      <th>4998</th>\n",
       "      <td>228700.0</td>\n",
       "      <td>-65485.0</td>\n",
       "      <td>-228926.0</td>\n",
       "      <td>32547.0</td>\n",
       "    </tr>\n",
       "    <tr>\n",
       "      <th>4999</th>\n",
       "      <td>283948.0</td>\n",
       "      <td>-81313.0</td>\n",
       "      <td>-284252.0</td>\n",
       "      <td>40403.0</td>\n",
       "    </tr>\n",
       "  </tbody>\n",
       "</table>\n",
       "<p>5000 rows × 4 columns</p>\n",
       "</div>"
      ],
      "text/plain": [
       "             0         1         2        3\n",
       "0     346831.0  -99365.0 -347278.0  49312.0\n",
       "1     265585.0  -76182.0 -266085.0  37679.0\n",
       "2     146739.0  -42116.0 -147058.0  20797.0\n",
       "3     291709.0  -83480.0 -291928.0  41555.0\n",
       "4     182449.0  -52315.0 -182759.0  25902.0\n",
       "...        ...       ...       ...      ...\n",
       "4995  249646.0  -71508.0 -249942.0  35506.0\n",
       "4996  366493.0 -104934.0 -366861.0  52163.0\n",
       "4997  237118.0  -67876.0 -237326.0  33762.0\n",
       "4998  228700.0  -65485.0 -228926.0  32547.0\n",
       "4999  283948.0  -81313.0 -284252.0  40403.0\n",
       "\n",
       "[5000 rows x 4 columns]"
      ]
     },
     "execution_count": 6,
     "metadata": {},
     "output_type": "execute_result"
    }
   ],
   "source": [
    "features_transformed = transform_alg(features)\n",
    "features_transformed"
   ]
  },
  {
   "cell_type": "markdown",
   "metadata": {},
   "source": [
    "Преобразованные данные выглядят бессмысленным набором чисел без подписей. То, что надо."
   ]
  },
  {
   "cell_type": "code",
   "execution_count": 7,
   "metadata": {},
   "outputs": [],
   "source": [
    "def linear_regression(features, target):\n",
    "    \n",
    "    model=LinearRegression()\n",
    "    model.fit(features, target)\n",
    "    return model.predict(features)"
   ]
  },
  {
   "cell_type": "code",
   "execution_count": 8,
   "metadata": {
    "scrolled": true
   },
   "outputs": [
    {
     "name": "stdout",
     "output_type": "stream",
     "text": [
      "R2 до преобразования:\n",
      " 0.4249455028666801\n",
      "R2 после преобразования:\n",
      " 0.4249455028666783\n"
     ]
    }
   ],
   "source": [
    "print('R2 до преобразования:\\n', r2_score(target, linear_regression(features, target)))\n",
    "print('R2 после преобразования:\\n', r2_score(target, linear_regression(features_transformed, target)))"
   ]
  },
  {
   "cell_type": "markdown",
   "metadata": {},
   "source": [
    "Качество линейной регрессии действительно не изменилось: метрики равны до 11-13 знака после запятой. \n",
    "\n",
    "*(random_state не указан специально, чтобы показать, что r2 равны вне зависимости от конкретных значений чисел в матрице.)*"
   ]
  },
  {
   "cell_type": "markdown",
   "metadata": {},
   "source": [
    "**Вывод: метод защиты персональных данных умножением их на обратимую матрицу работает: данные выглядят непонятно для человека, а линейная регрессия работает так же.**"
   ]
  },
  {
   "cell_type": "code",
   "execution_count": null,
   "metadata": {},
   "outputs": [],
   "source": []
  }
 ],
 "metadata": {
  "ExecuteTimeLog": [
   {
    "duration": 641,
    "start_time": "2023-06-28T07:45:13.454Z"
   },
   {
    "duration": 94,
    "start_time": "2023-06-28T07:45:34.503Z"
   },
   {
    "duration": 11,
    "start_time": "2023-06-28T07:45:46.407Z"
   },
   {
    "duration": 84,
    "start_time": "2023-06-28T07:46:08.713Z"
   },
   {
    "duration": 31,
    "start_time": "2023-06-28T07:46:12.641Z"
   },
   {
    "duration": 36,
    "start_time": "2023-06-28T07:46:44.029Z"
   },
   {
    "duration": 20,
    "start_time": "2023-06-28T07:57:02.524Z"
   },
   {
    "duration": 6,
    "start_time": "2023-06-28T12:45:42.208Z"
   },
   {
    "duration": 5,
    "start_time": "2023-06-28T12:46:39.702Z"
   },
   {
    "duration": 4,
    "start_time": "2023-06-28T12:47:19.734Z"
   },
   {
    "duration": 13,
    "start_time": "2023-06-28T12:47:23.086Z"
   },
   {
    "duration": 941,
    "start_time": "2023-06-28T12:47:37.029Z"
   },
   {
    "duration": 4,
    "start_time": "2023-06-28T12:49:37.382Z"
   },
   {
    "duration": 10,
    "start_time": "2023-06-28T12:49:37.853Z"
   },
   {
    "duration": 5,
    "start_time": "2023-06-28T12:50:06.147Z"
   },
   {
    "duration": 10,
    "start_time": "2023-06-28T12:50:06.861Z"
   },
   {
    "duration": 4,
    "start_time": "2023-06-28T12:50:16.048Z"
   },
   {
    "duration": 8,
    "start_time": "2023-06-28T12:50:16.620Z"
   },
   {
    "duration": 422,
    "start_time": "2023-06-28T12:50:28.590Z"
   },
   {
    "duration": 4,
    "start_time": "2023-06-28T12:50:32.917Z"
   },
   {
    "duration": 5,
    "start_time": "2023-06-28T12:50:36.049Z"
   },
   {
    "duration": 148,
    "start_time": "2023-06-28T12:50:36.607Z"
   },
   {
    "duration": 6,
    "start_time": "2023-06-28T12:50:37.478Z"
   },
   {
    "duration": 4,
    "start_time": "2023-06-28T12:50:38.393Z"
   },
   {
    "duration": 4,
    "start_time": "2023-06-28T12:50:39.179Z"
   },
   {
    "duration": 5,
    "start_time": "2023-06-28T12:50:50.915Z"
   },
   {
    "duration": 4,
    "start_time": "2023-06-28T12:50:54.315Z"
   },
   {
    "duration": 143,
    "start_time": "2023-06-28T12:52:27.357Z"
   },
   {
    "duration": 5,
    "start_time": "2023-06-28T12:52:29.586Z"
   },
   {
    "duration": 133,
    "start_time": "2023-06-28T12:52:30.819Z"
   },
   {
    "duration": 6,
    "start_time": "2023-06-28T12:52:31.956Z"
   },
   {
    "duration": 6,
    "start_time": "2023-06-28T12:52:32.635Z"
   },
   {
    "duration": 4,
    "start_time": "2023-06-28T12:52:36.810Z"
   },
   {
    "duration": 5,
    "start_time": "2023-06-28T12:52:38.866Z"
   },
   {
    "duration": 4,
    "start_time": "2023-06-28T13:08:40.561Z"
   },
   {
    "duration": 11,
    "start_time": "2023-06-28T13:08:49.952Z"
   },
   {
    "duration": 11,
    "start_time": "2023-06-28T13:08:57.841Z"
   },
   {
    "duration": 11,
    "start_time": "2023-06-28T13:09:05.433Z"
   },
   {
    "duration": 11,
    "start_time": "2023-06-28T13:09:18.267Z"
   },
   {
    "duration": 12,
    "start_time": "2023-06-28T13:09:29.500Z"
   },
   {
    "duration": 10,
    "start_time": "2023-06-28T13:09:57.876Z"
   },
   {
    "duration": 5,
    "start_time": "2023-06-28T13:10:05.232Z"
   },
   {
    "duration": 13,
    "start_time": "2023-06-28T13:10:16.841Z"
   },
   {
    "duration": 3,
    "start_time": "2023-06-28T13:10:48.292Z"
   },
   {
    "duration": 11,
    "start_time": "2023-06-28T13:10:48.989Z"
   },
   {
    "duration": 5,
    "start_time": "2023-06-28T13:11:43.352Z"
   },
   {
    "duration": 9,
    "start_time": "2023-06-28T13:11:54.327Z"
   },
   {
    "duration": 15,
    "start_time": "2023-06-28T13:14:13.592Z"
   },
   {
    "duration": 18,
    "start_time": "2023-06-28T13:14:25.892Z"
   },
   {
    "duration": 37,
    "start_time": "2023-06-28T13:15:30.727Z"
   },
   {
    "duration": 3,
    "start_time": "2023-06-28T13:16:29.164Z"
   },
   {
    "duration": 15,
    "start_time": "2023-06-28T13:16:52.559Z"
   },
   {
    "duration": 3,
    "start_time": "2023-06-28T13:23:57.953Z"
   },
   {
    "duration": 4,
    "start_time": "2023-06-28T13:26:41.631Z"
   },
   {
    "duration": 17,
    "start_time": "2023-06-28T13:26:42.928Z"
   },
   {
    "duration": 5,
    "start_time": "2023-06-28T13:27:01.343Z"
   },
   {
    "duration": 15,
    "start_time": "2023-06-28T13:27:02.240Z"
   },
   {
    "duration": 5,
    "start_time": "2023-06-28T13:27:37.335Z"
   },
   {
    "duration": 7,
    "start_time": "2023-06-28T13:27:55.891Z"
   },
   {
    "duration": 7,
    "start_time": "2023-06-28T13:28:02.006Z"
   },
   {
    "duration": 5,
    "start_time": "2023-06-28T13:28:11.179Z"
   },
   {
    "duration": 4,
    "start_time": "2023-06-28T13:28:27.662Z"
   },
   {
    "duration": 14,
    "start_time": "2023-06-28T13:28:29.213Z"
   },
   {
    "duration": 3,
    "start_time": "2023-06-28T13:28:43.293Z"
   },
   {
    "duration": 14,
    "start_time": "2023-06-28T13:28:44.431Z"
   },
   {
    "duration": 4,
    "start_time": "2023-06-28T13:29:09.150Z"
   },
   {
    "duration": 5,
    "start_time": "2023-06-28T13:29:10.461Z"
   },
   {
    "duration": 14,
    "start_time": "2023-06-28T13:29:12.046Z"
   },
   {
    "duration": 4,
    "start_time": "2023-06-28T13:30:16.893Z"
   },
   {
    "duration": 4,
    "start_time": "2023-06-28T13:30:18.894Z"
   },
   {
    "duration": 14,
    "start_time": "2023-06-28T13:30:20.317Z"
   },
   {
    "duration": 5,
    "start_time": "2023-06-28T13:30:33.845Z"
   },
   {
    "duration": 17,
    "start_time": "2023-06-28T13:30:35.501Z"
   },
   {
    "duration": 14,
    "start_time": "2023-06-28T13:31:07.453Z"
   },
   {
    "duration": 4,
    "start_time": "2023-06-28T13:31:08.796Z"
   },
   {
    "duration": 16,
    "start_time": "2023-06-28T13:31:09.844Z"
   },
   {
    "duration": 3,
    "start_time": "2023-06-28T13:31:25.781Z"
   },
   {
    "duration": 14,
    "start_time": "2023-06-28T13:31:27.377Z"
   },
   {
    "duration": 3,
    "start_time": "2023-06-28T13:31:36.012Z"
   },
   {
    "duration": 12,
    "start_time": "2023-06-28T13:31:37.211Z"
   },
   {
    "duration": 3,
    "start_time": "2023-06-28T13:31:58.860Z"
   },
   {
    "duration": 13,
    "start_time": "2023-06-28T13:32:00.164Z"
   },
   {
    "duration": 3,
    "start_time": "2023-06-28T13:32:07.364Z"
   },
   {
    "duration": 13,
    "start_time": "2023-06-28T13:32:08.723Z"
   },
   {
    "duration": 4,
    "start_time": "2023-06-28T13:32:43.611Z"
   },
   {
    "duration": 19,
    "start_time": "2023-06-28T13:32:44.548Z"
   },
   {
    "duration": 4,
    "start_time": "2023-06-28T13:33:16.131Z"
   },
   {
    "duration": 14,
    "start_time": "2023-06-28T13:33:17.185Z"
   },
   {
    "duration": 4,
    "start_time": "2023-06-28T13:33:41.796Z"
   },
   {
    "duration": 15,
    "start_time": "2023-06-28T13:33:43.198Z"
   },
   {
    "duration": 5,
    "start_time": "2023-06-28T13:34:24.843Z"
   },
   {
    "duration": 15,
    "start_time": "2023-06-28T13:34:25.923Z"
   },
   {
    "duration": 3,
    "start_time": "2023-06-28T13:34:46.899Z"
   },
   {
    "duration": 3,
    "start_time": "2023-06-28T13:35:07.730Z"
   },
   {
    "duration": 37,
    "start_time": "2023-06-28T13:35:07.736Z"
   },
   {
    "duration": 22,
    "start_time": "2023-06-28T13:35:07.774Z"
   },
   {
    "duration": 5,
    "start_time": "2023-06-28T13:35:07.799Z"
   },
   {
    "duration": 14,
    "start_time": "2023-06-28T13:35:07.806Z"
   },
   {
    "duration": 18,
    "start_time": "2023-06-28T13:35:10.731Z"
   },
   {
    "duration": 3,
    "start_time": "2023-06-28T13:35:28.515Z"
   },
   {
    "duration": 48,
    "start_time": "2023-06-28T13:35:28.520Z"
   },
   {
    "duration": 38,
    "start_time": "2023-06-28T13:35:28.570Z"
   },
   {
    "duration": 38,
    "start_time": "2023-06-28T13:35:28.609Z"
   },
   {
    "duration": 44,
    "start_time": "2023-06-28T13:35:28.649Z"
   },
   {
    "duration": 13,
    "start_time": "2023-06-28T13:35:30.288Z"
   },
   {
    "duration": 7,
    "start_time": "2023-06-28T13:35:45.202Z"
   },
   {
    "duration": 12,
    "start_time": "2023-06-28T13:35:52.922Z"
   },
   {
    "duration": 4,
    "start_time": "2023-06-28T13:35:58.210Z"
   },
   {
    "duration": 15,
    "start_time": "2023-06-28T13:36:00.538Z"
   },
   {
    "duration": 15,
    "start_time": "2023-06-28T13:36:15.089Z"
   },
   {
    "duration": 15,
    "start_time": "2023-06-28T13:36:19.401Z"
   },
   {
    "duration": 8,
    "start_time": "2023-06-28T13:36:28.329Z"
   },
   {
    "duration": 4,
    "start_time": "2023-06-28T13:37:58.505Z"
   },
   {
    "duration": 16,
    "start_time": "2023-06-28T13:38:00.937Z"
   },
   {
    "duration": 3,
    "start_time": "2023-06-28T13:38:28.398Z"
   },
   {
    "duration": 4,
    "start_time": "2023-06-28T13:38:29.995Z"
   },
   {
    "duration": 13,
    "start_time": "2023-06-28T13:38:31.256Z"
   },
   {
    "duration": 13,
    "start_time": "2023-06-28T13:38:55.594Z"
   },
   {
    "duration": 3,
    "start_time": "2023-06-28T13:39:07.633Z"
   },
   {
    "duration": 14,
    "start_time": "2023-06-28T13:39:09.817Z"
   },
   {
    "duration": 4,
    "start_time": "2023-06-28T13:39:20.855Z"
   },
   {
    "duration": 13,
    "start_time": "2023-06-28T13:39:21.605Z"
   },
   {
    "duration": 4,
    "start_time": "2023-06-28T13:43:22.686Z"
   },
   {
    "duration": 9,
    "start_time": "2023-06-28T13:43:23.581Z"
   },
   {
    "duration": 13,
    "start_time": "2023-06-28T13:43:25.099Z"
   },
   {
    "duration": 4,
    "start_time": "2023-06-28T13:43:31.637Z"
   },
   {
    "duration": 15,
    "start_time": "2023-06-28T13:43:32.880Z"
   },
   {
    "duration": 4,
    "start_time": "2023-06-28T13:44:27.645Z"
   },
   {
    "duration": 13,
    "start_time": "2023-06-28T13:44:29.889Z"
   },
   {
    "duration": 4,
    "start_time": "2023-06-28T13:44:36.590Z"
   },
   {
    "duration": 14,
    "start_time": "2023-06-28T13:44:38.212Z"
   },
   {
    "duration": 294,
    "start_time": "2023-06-28T13:47:28.643Z"
   },
   {
    "duration": 141,
    "start_time": "2023-06-28T13:47:35.692Z"
   },
   {
    "duration": 633,
    "start_time": "2023-06-28T13:47:39.547Z"
   },
   {
    "duration": 8,
    "start_time": "2023-06-28T13:47:44.499Z"
   },
   {
    "duration": 7,
    "start_time": "2023-06-28T13:47:47.123Z"
   },
   {
    "duration": 39,
    "start_time": "2023-06-28T13:48:10.010Z"
   },
   {
    "duration": 12,
    "start_time": "2023-06-28T13:50:12.586Z"
   },
   {
    "duration": 3,
    "start_time": "2023-06-28T13:50:15.250Z"
   },
   {
    "duration": 13,
    "start_time": "2023-06-28T13:50:16.093Z"
   },
   {
    "duration": 4,
    "start_time": "2023-06-28T13:50:29.025Z"
   },
   {
    "duration": 19,
    "start_time": "2023-06-28T13:50:29.792Z"
   },
   {
    "duration": 10,
    "start_time": "2023-06-28T13:50:34.841Z"
   },
   {
    "duration": 4,
    "start_time": "2023-06-28T13:52:25.664Z"
   },
   {
    "duration": 2,
    "start_time": "2023-06-28T13:52:28.632Z"
   },
   {
    "duration": 8,
    "start_time": "2023-06-28T13:53:36.904Z"
   },
   {
    "duration": 8,
    "start_time": "2023-06-28T13:53:44.293Z"
   },
   {
    "duration": 3,
    "start_time": "2023-06-28T13:53:51.913Z"
   },
   {
    "duration": 3,
    "start_time": "2023-06-28T13:55:04.759Z"
   },
   {
    "duration": 2,
    "start_time": "2023-06-28T13:55:25.799Z"
   },
   {
    "duration": 12,
    "start_time": "2023-06-28T13:55:52.439Z"
   },
   {
    "duration": 12,
    "start_time": "2023-06-28T13:56:03.735Z"
   },
   {
    "duration": 11,
    "start_time": "2023-06-28T13:56:05.040Z"
   },
   {
    "duration": 11,
    "start_time": "2023-06-28T13:56:07.247Z"
   },
   {
    "duration": 3,
    "start_time": "2023-06-28T13:56:15.898Z"
   },
   {
    "duration": 16,
    "start_time": "2023-06-28T13:57:15.601Z"
   },
   {
    "duration": 2,
    "start_time": "2023-06-28T13:57:27.230Z"
   },
   {
    "duration": 14,
    "start_time": "2023-06-28T13:57:29.855Z"
   },
   {
    "duration": 4,
    "start_time": "2023-06-28T13:57:42.412Z"
   },
   {
    "duration": 13,
    "start_time": "2023-06-28T13:58:14.135Z"
   },
   {
    "duration": 5,
    "start_time": "2023-06-28T13:58:27.366Z"
   },
   {
    "duration": 18,
    "start_time": "2023-06-28T13:58:57.489Z"
   },
   {
    "duration": 15,
    "start_time": "2023-06-28T13:59:33.148Z"
   },
   {
    "duration": 15,
    "start_time": "2023-06-28T13:59:35.404Z"
   },
   {
    "duration": 17,
    "start_time": "2023-06-28T13:59:37.956Z"
   },
   {
    "duration": 18,
    "start_time": "2023-06-28T14:00:26.983Z"
   },
   {
    "duration": 14,
    "start_time": "2023-06-28T14:00:33.060Z"
   },
   {
    "duration": 16,
    "start_time": "2023-06-28T14:00:43.904Z"
   },
   {
    "duration": 263,
    "start_time": "2023-06-28T14:00:50.940Z"
   },
   {
    "duration": 28,
    "start_time": "2023-06-28T14:00:53.404Z"
   },
   {
    "duration": 16,
    "start_time": "2023-06-28T14:01:00.524Z"
   },
   {
    "duration": 16,
    "start_time": "2023-06-28T14:04:35.317Z"
   },
   {
    "duration": 3,
    "start_time": "2023-06-28T14:04:38.100Z"
   },
   {
    "duration": 46,
    "start_time": "2023-06-28T14:04:38.104Z"
   },
   {
    "duration": 14,
    "start_time": "2023-06-28T14:04:38.152Z"
   },
   {
    "duration": 6,
    "start_time": "2023-06-28T14:04:38.168Z"
   },
   {
    "duration": 13,
    "start_time": "2023-06-28T14:04:38.176Z"
   },
   {
    "duration": 22,
    "start_time": "2023-06-28T14:04:38.191Z"
   },
   {
    "duration": 7,
    "start_time": "2023-06-28T14:04:38.215Z"
   },
   {
    "duration": 25,
    "start_time": "2023-06-28T14:04:38.223Z"
   },
   {
    "duration": 16,
    "start_time": "2023-06-28T14:05:25.761Z"
   },
   {
    "duration": 3,
    "start_time": "2023-06-28T14:05:34.008Z"
   },
   {
    "duration": 78,
    "start_time": "2023-06-28T14:05:34.013Z"
   },
   {
    "duration": 20,
    "start_time": "2023-06-28T14:05:34.093Z"
   },
   {
    "duration": 23,
    "start_time": "2023-06-28T14:05:34.114Z"
   },
   {
    "duration": 21,
    "start_time": "2023-06-28T14:05:34.139Z"
   },
   {
    "duration": 45,
    "start_time": "2023-06-28T14:05:34.162Z"
   },
   {
    "duration": 39,
    "start_time": "2023-06-28T14:05:34.208Z"
   },
   {
    "duration": 49,
    "start_time": "2023-06-28T14:05:34.248Z"
   },
   {
    "duration": 3,
    "start_time": "2023-06-28T14:05:57.997Z"
   },
   {
    "duration": 47,
    "start_time": "2023-06-28T14:05:58.001Z"
   },
   {
    "duration": 16,
    "start_time": "2023-06-28T14:05:58.049Z"
   },
   {
    "duration": 23,
    "start_time": "2023-06-28T14:05:58.066Z"
   },
   {
    "duration": 25,
    "start_time": "2023-06-28T14:05:58.091Z"
   },
   {
    "duration": 33,
    "start_time": "2023-06-28T14:05:58.117Z"
   },
   {
    "duration": 12,
    "start_time": "2023-06-28T14:05:58.151Z"
   },
   {
    "duration": 28,
    "start_time": "2023-06-28T14:05:58.165Z"
   },
   {
    "duration": 3,
    "start_time": "2023-06-28T14:06:16.844Z"
   },
   {
    "duration": 36,
    "start_time": "2023-06-28T14:06:16.849Z"
   },
   {
    "duration": 17,
    "start_time": "2023-06-28T14:06:16.886Z"
   },
   {
    "duration": 4,
    "start_time": "2023-06-28T14:06:16.904Z"
   },
   {
    "duration": 6,
    "start_time": "2023-06-28T14:06:16.909Z"
   },
   {
    "duration": 14,
    "start_time": "2023-06-28T14:06:16.917Z"
   },
   {
    "duration": 3,
    "start_time": "2023-06-28T14:06:16.932Z"
   },
   {
    "duration": 97,
    "start_time": "2023-06-28T14:06:16.937Z"
   },
   {
    "duration": 2,
    "start_time": "2023-06-28T14:06:32.107Z"
   },
   {
    "duration": 40,
    "start_time": "2023-06-28T14:06:32.112Z"
   },
   {
    "duration": 17,
    "start_time": "2023-06-28T14:06:32.153Z"
   },
   {
    "duration": 59,
    "start_time": "2023-06-28T14:06:32.172Z"
   },
   {
    "duration": 44,
    "start_time": "2023-06-28T14:06:32.233Z"
   },
   {
    "duration": 73,
    "start_time": "2023-06-28T14:06:32.279Z"
   },
   {
    "duration": 59,
    "start_time": "2023-06-28T14:06:32.353Z"
   },
   {
    "duration": 94,
    "start_time": "2023-06-28T14:06:32.414Z"
   },
   {
    "duration": 106,
    "start_time": "2023-06-28T14:10:07.826Z"
   },
   {
    "duration": 1143,
    "start_time": "2023-06-28T14:20:03.527Z"
   },
   {
    "duration": 28,
    "start_time": "2023-06-28T14:20:04.672Z"
   },
   {
    "duration": 27,
    "start_time": "2023-06-28T14:20:04.702Z"
   },
   {
    "duration": 5,
    "start_time": "2023-06-28T14:20:04.735Z"
   },
   {
    "duration": 18,
    "start_time": "2023-06-28T14:20:04.742Z"
   },
   {
    "duration": 27,
    "start_time": "2023-06-28T14:20:04.763Z"
   },
   {
    "duration": 3,
    "start_time": "2023-06-28T14:20:04.793Z"
   },
   {
    "duration": 54,
    "start_time": "2023-06-28T14:20:04.797Z"
   },
   {
    "duration": 1752,
    "start_time": "2023-06-28T14:38:18.879Z"
   },
   {
    "duration": 123,
    "start_time": "2023-06-28T14:38:20.633Z"
   },
   {
    "duration": 23,
    "start_time": "2023-06-28T14:38:20.757Z"
   },
   {
    "duration": 3,
    "start_time": "2023-06-28T14:38:20.781Z"
   },
   {
    "duration": 5,
    "start_time": "2023-06-28T14:38:20.786Z"
   },
   {
    "duration": 24,
    "start_time": "2023-06-28T14:38:20.792Z"
   },
   {
    "duration": 3,
    "start_time": "2023-06-28T14:38:20.817Z"
   },
   {
    "duration": 41,
    "start_time": "2023-06-28T14:38:20.821Z"
   },
   {
    "duration": 1363,
    "start_time": "2023-06-28T17:46:47.095Z"
   },
   {
    "duration": 90,
    "start_time": "2023-06-28T17:46:48.461Z"
   },
   {
    "duration": 46,
    "start_time": "2023-06-28T17:46:48.553Z"
   },
   {
    "duration": 18,
    "start_time": "2023-06-28T17:46:48.601Z"
   },
   {
    "duration": 20,
    "start_time": "2023-06-28T17:46:48.622Z"
   },
   {
    "duration": 40,
    "start_time": "2023-06-28T17:46:48.644Z"
   },
   {
    "duration": 4,
    "start_time": "2023-06-28T17:46:48.690Z"
   },
   {
    "duration": 72,
    "start_time": "2023-06-28T17:46:50.603Z"
   },
   {
    "duration": 1361,
    "start_time": "2023-06-29T08:35:12.160Z"
   },
   {
    "duration": 75,
    "start_time": "2023-06-29T08:35:13.523Z"
   },
   {
    "duration": 22,
    "start_time": "2023-06-29T08:35:13.600Z"
   },
   {
    "duration": 18,
    "start_time": "2023-06-29T08:35:13.624Z"
   },
   {
    "duration": 26,
    "start_time": "2023-06-29T08:35:13.643Z"
   },
   {
    "duration": 26,
    "start_time": "2023-06-29T08:35:13.670Z"
   },
   {
    "duration": 43,
    "start_time": "2023-06-29T08:35:13.698Z"
   },
   {
    "duration": 187,
    "start_time": "2023-06-29T08:35:13.744Z"
   },
   {
    "duration": 4,
    "start_time": "2023-06-29T08:35:42.130Z"
   },
   {
    "duration": 15,
    "start_time": "2023-06-29T08:35:59.809Z"
   },
   {
    "duration": 3,
    "start_time": "2023-06-29T08:38:05.424Z"
   },
   {
    "duration": 251,
    "start_time": "2023-06-29T08:38:16.597Z"
   },
   {
    "duration": 114,
    "start_time": "2023-06-29T08:38:53.891Z"
   },
   {
    "duration": 3,
    "start_time": "2023-06-29T08:39:16.001Z"
   },
   {
    "duration": 4,
    "start_time": "2023-06-29T08:39:31.598Z"
   },
   {
    "duration": 3,
    "start_time": "2023-06-29T08:40:36.499Z"
   },
   {
    "duration": 18,
    "start_time": "2023-06-29T08:40:39.633Z"
   },
   {
    "duration": 3,
    "start_time": "2023-06-29T09:06:43.001Z"
   },
   {
    "duration": 16,
    "start_time": "2023-06-29T09:06:45.106Z"
   },
   {
    "duration": 1209,
    "start_time": "2023-06-29T09:07:24.454Z"
   },
   {
    "duration": 35,
    "start_time": "2023-06-29T09:07:25.665Z"
   },
   {
    "duration": 25,
    "start_time": "2023-06-29T09:07:25.701Z"
   },
   {
    "duration": 8,
    "start_time": "2023-06-29T09:07:25.729Z"
   },
   {
    "duration": 20,
    "start_time": "2023-06-29T09:07:25.738Z"
   },
   {
    "duration": 38,
    "start_time": "2023-06-29T09:07:25.760Z"
   },
   {
    "duration": 31,
    "start_time": "2023-06-29T09:07:25.801Z"
   },
   {
    "duration": 200,
    "start_time": "2023-06-29T09:07:25.833Z"
   },
   {
    "duration": 1098,
    "start_time": "2023-06-29T09:10:47.720Z"
   },
   {
    "duration": 28,
    "start_time": "2023-06-29T09:10:48.820Z"
   },
   {
    "duration": 27,
    "start_time": "2023-06-29T09:10:48.850Z"
   },
   {
    "duration": 3,
    "start_time": "2023-06-29T09:10:48.879Z"
   },
   {
    "duration": 10,
    "start_time": "2023-06-29T09:10:48.884Z"
   },
   {
    "duration": 38,
    "start_time": "2023-06-29T09:10:48.896Z"
   },
   {
    "duration": 3,
    "start_time": "2023-06-29T09:10:48.936Z"
   },
   {
    "duration": 191,
    "start_time": "2023-06-29T09:10:48.942Z"
   },
   {
    "duration": 2098,
    "start_time": "2023-06-29T09:57:20.205Z"
   },
   {
    "duration": 28,
    "start_time": "2023-06-29T09:57:22.305Z"
   },
   {
    "duration": 23,
    "start_time": "2023-06-29T09:57:22.334Z"
   },
   {
    "duration": 3,
    "start_time": "2023-06-29T09:57:22.360Z"
   },
   {
    "duration": 18,
    "start_time": "2023-06-29T09:57:22.365Z"
   },
   {
    "duration": 48,
    "start_time": "2023-06-29T09:57:22.385Z"
   },
   {
    "duration": 8,
    "start_time": "2023-06-29T09:57:22.435Z"
   },
   {
    "duration": 186,
    "start_time": "2023-06-29T09:57:22.445Z"
   }
  ],
  "kernelspec": {
   "display_name": "Python 3 (ipykernel)",
   "language": "python",
   "name": "python3"
  },
  "language_info": {
   "codemirror_mode": {
    "name": "ipython",
    "version": 3
   },
   "file_extension": ".py",
   "mimetype": "text/x-python",
   "name": "python",
   "nbconvert_exporter": "python",
   "pygments_lexer": "ipython3",
   "version": "3.9.13"
  },
  "toc": {
   "base_numbering": 1,
   "nav_menu": {},
   "number_sections": true,
   "sideBar": true,
   "skip_h1_title": true,
   "title_cell": "Содержание",
   "title_sidebar": "Contents",
   "toc_cell": true,
   "toc_position": {},
   "toc_section_display": true,
   "toc_window_display": true
  }
 },
 "nbformat": 4,
 "nbformat_minor": 2
}
