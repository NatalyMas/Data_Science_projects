{
 "cells": [
  {
   "cell_type": "markdown",
   "metadata": {},
   "source": [
    "# Предсказание успешности игры"
   ]
  },
  {
   "cell_type": "markdown",
   "metadata": {},
   "source": [
    "Заказчик - интернет-магазин «Стримчик», который продаёт по всему миру компьютерные игры. В нашем распоряжении данные о продажах игр, оценки пользователей и экспертов, жанры и платформы. Нужно выявить определяющие успешность игры закономерности. Это позволит сделать ставку на потенциально популярный продукт и спланировать рекламные кампании."
   ]
  },
  {
   "cell_type": "markdown",
   "metadata": {},
   "source": [
    "## Общая информация о данных."
   ]
  },
  {
   "cell_type": "code",
   "execution_count": 1,
   "metadata": {},
   "outputs": [],
   "source": [
    "import pandas as pd\n",
    "import numpy as np\n",
    "import matplotlib.pyplot as plt\n",
    "from scipy import stats as st"
   ]
  },
  {
   "cell_type": "code",
   "execution_count": 2,
   "metadata": {},
   "outputs": [
    {
     "data": {
      "text/html": [
       "<div>\n",
       "<style scoped>\n",
       "    .dataframe tbody tr th:only-of-type {\n",
       "        vertical-align: middle;\n",
       "    }\n",
       "\n",
       "    .dataframe tbody tr th {\n",
       "        vertical-align: top;\n",
       "    }\n",
       "\n",
       "    .dataframe thead th {\n",
       "        text-align: right;\n",
       "    }\n",
       "</style>\n",
       "<table border=\"1\" class=\"dataframe\">\n",
       "  <thead>\n",
       "    <tr style=\"text-align: right;\">\n",
       "      <th></th>\n",
       "      <th>Name</th>\n",
       "      <th>Platform</th>\n",
       "      <th>Year_of_Release</th>\n",
       "      <th>Genre</th>\n",
       "      <th>NA_sales</th>\n",
       "      <th>EU_sales</th>\n",
       "      <th>JP_sales</th>\n",
       "      <th>Other_sales</th>\n",
       "      <th>Critic_Score</th>\n",
       "      <th>User_Score</th>\n",
       "      <th>Rating</th>\n",
       "    </tr>\n",
       "  </thead>\n",
       "  <tbody>\n",
       "    <tr>\n",
       "      <th>0</th>\n",
       "      <td>Wii Sports</td>\n",
       "      <td>Wii</td>\n",
       "      <td>2006.0</td>\n",
       "      <td>Sports</td>\n",
       "      <td>41.36</td>\n",
       "      <td>28.96</td>\n",
       "      <td>3.77</td>\n",
       "      <td>8.45</td>\n",
       "      <td>76.0</td>\n",
       "      <td>8</td>\n",
       "      <td>E</td>\n",
       "    </tr>\n",
       "    <tr>\n",
       "      <th>1</th>\n",
       "      <td>Super Mario Bros.</td>\n",
       "      <td>NES</td>\n",
       "      <td>1985.0</td>\n",
       "      <td>Platform</td>\n",
       "      <td>29.08</td>\n",
       "      <td>3.58</td>\n",
       "      <td>6.81</td>\n",
       "      <td>0.77</td>\n",
       "      <td>NaN</td>\n",
       "      <td>NaN</td>\n",
       "      <td>NaN</td>\n",
       "    </tr>\n",
       "    <tr>\n",
       "      <th>2</th>\n",
       "      <td>Mario Kart Wii</td>\n",
       "      <td>Wii</td>\n",
       "      <td>2008.0</td>\n",
       "      <td>Racing</td>\n",
       "      <td>15.68</td>\n",
       "      <td>12.76</td>\n",
       "      <td>3.79</td>\n",
       "      <td>3.29</td>\n",
       "      <td>82.0</td>\n",
       "      <td>8.3</td>\n",
       "      <td>E</td>\n",
       "    </tr>\n",
       "    <tr>\n",
       "      <th>3</th>\n",
       "      <td>Wii Sports Resort</td>\n",
       "      <td>Wii</td>\n",
       "      <td>2009.0</td>\n",
       "      <td>Sports</td>\n",
       "      <td>15.61</td>\n",
       "      <td>10.93</td>\n",
       "      <td>3.28</td>\n",
       "      <td>2.95</td>\n",
       "      <td>80.0</td>\n",
       "      <td>8</td>\n",
       "      <td>E</td>\n",
       "    </tr>\n",
       "    <tr>\n",
       "      <th>4</th>\n",
       "      <td>Pokemon Red/Pokemon Blue</td>\n",
       "      <td>GB</td>\n",
       "      <td>1996.0</td>\n",
       "      <td>Role-Playing</td>\n",
       "      <td>11.27</td>\n",
       "      <td>8.89</td>\n",
       "      <td>10.22</td>\n",
       "      <td>1.00</td>\n",
       "      <td>NaN</td>\n",
       "      <td>NaN</td>\n",
       "      <td>NaN</td>\n",
       "    </tr>\n",
       "    <tr>\n",
       "      <th>5</th>\n",
       "      <td>Tetris</td>\n",
       "      <td>GB</td>\n",
       "      <td>1989.0</td>\n",
       "      <td>Puzzle</td>\n",
       "      <td>23.20</td>\n",
       "      <td>2.26</td>\n",
       "      <td>4.22</td>\n",
       "      <td>0.58</td>\n",
       "      <td>NaN</td>\n",
       "      <td>NaN</td>\n",
       "      <td>NaN</td>\n",
       "    </tr>\n",
       "    <tr>\n",
       "      <th>6</th>\n",
       "      <td>New Super Mario Bros.</td>\n",
       "      <td>DS</td>\n",
       "      <td>2006.0</td>\n",
       "      <td>Platform</td>\n",
       "      <td>11.28</td>\n",
       "      <td>9.14</td>\n",
       "      <td>6.50</td>\n",
       "      <td>2.88</td>\n",
       "      <td>89.0</td>\n",
       "      <td>8.5</td>\n",
       "      <td>E</td>\n",
       "    </tr>\n",
       "    <tr>\n",
       "      <th>7</th>\n",
       "      <td>Wii Play</td>\n",
       "      <td>Wii</td>\n",
       "      <td>2006.0</td>\n",
       "      <td>Misc</td>\n",
       "      <td>13.96</td>\n",
       "      <td>9.18</td>\n",
       "      <td>2.93</td>\n",
       "      <td>2.84</td>\n",
       "      <td>58.0</td>\n",
       "      <td>6.6</td>\n",
       "      <td>E</td>\n",
       "    </tr>\n",
       "    <tr>\n",
       "      <th>8</th>\n",
       "      <td>New Super Mario Bros. Wii</td>\n",
       "      <td>Wii</td>\n",
       "      <td>2009.0</td>\n",
       "      <td>Platform</td>\n",
       "      <td>14.44</td>\n",
       "      <td>6.94</td>\n",
       "      <td>4.70</td>\n",
       "      <td>2.24</td>\n",
       "      <td>87.0</td>\n",
       "      <td>8.4</td>\n",
       "      <td>E</td>\n",
       "    </tr>\n",
       "    <tr>\n",
       "      <th>9</th>\n",
       "      <td>Duck Hunt</td>\n",
       "      <td>NES</td>\n",
       "      <td>1984.0</td>\n",
       "      <td>Shooter</td>\n",
       "      <td>26.93</td>\n",
       "      <td>0.63</td>\n",
       "      <td>0.28</td>\n",
       "      <td>0.47</td>\n",
       "      <td>NaN</td>\n",
       "      <td>NaN</td>\n",
       "      <td>NaN</td>\n",
       "    </tr>\n",
       "  </tbody>\n",
       "</table>\n",
       "</div>"
      ],
      "text/plain": [
       "                        Name Platform  Year_of_Release         Genre  \\\n",
       "0                 Wii Sports      Wii           2006.0        Sports   \n",
       "1          Super Mario Bros.      NES           1985.0      Platform   \n",
       "2             Mario Kart Wii      Wii           2008.0        Racing   \n",
       "3          Wii Sports Resort      Wii           2009.0        Sports   \n",
       "4   Pokemon Red/Pokemon Blue       GB           1996.0  Role-Playing   \n",
       "5                     Tetris       GB           1989.0        Puzzle   \n",
       "6      New Super Mario Bros.       DS           2006.0      Platform   \n",
       "7                   Wii Play      Wii           2006.0          Misc   \n",
       "8  New Super Mario Bros. Wii      Wii           2009.0      Platform   \n",
       "9                  Duck Hunt      NES           1984.0       Shooter   \n",
       "\n",
       "   NA_sales  EU_sales  JP_sales  Other_sales  Critic_Score User_Score Rating  \n",
       "0     41.36     28.96      3.77         8.45          76.0          8      E  \n",
       "1     29.08      3.58      6.81         0.77           NaN        NaN    NaN  \n",
       "2     15.68     12.76      3.79         3.29          82.0        8.3      E  \n",
       "3     15.61     10.93      3.28         2.95          80.0          8      E  \n",
       "4     11.27      8.89     10.22         1.00           NaN        NaN    NaN  \n",
       "5     23.20      2.26      4.22         0.58           NaN        NaN    NaN  \n",
       "6     11.28      9.14      6.50         2.88          89.0        8.5      E  \n",
       "7     13.96      9.18      2.93         2.84          58.0        6.6      E  \n",
       "8     14.44      6.94      4.70         2.24          87.0        8.4      E  \n",
       "9     26.93      0.63      0.28         0.47           NaN        NaN    NaN  "
      ]
     },
     "execution_count": 2,
     "metadata": {},
     "output_type": "execute_result"
    }
   ],
   "source": [
    "data = pd.read_csv('/datasets/games.csv')\n",
    "data.head(10)"
   ]
  },
  {
   "cell_type": "code",
   "execution_count": 3,
   "metadata": {},
   "outputs": [
    {
     "name": "stdout",
     "output_type": "stream",
     "text": [
      "<class 'pandas.core.frame.DataFrame'>\n",
      "RangeIndex: 16715 entries, 0 to 16714\n",
      "Data columns (total 11 columns):\n",
      " #   Column           Non-Null Count  Dtype  \n",
      "---  ------           --------------  -----  \n",
      " 0   Name             16713 non-null  object \n",
      " 1   Platform         16715 non-null  object \n",
      " 2   Year_of_Release  16446 non-null  float64\n",
      " 3   Genre            16713 non-null  object \n",
      " 4   NA_sales         16715 non-null  float64\n",
      " 5   EU_sales         16715 non-null  float64\n",
      " 6   JP_sales         16715 non-null  float64\n",
      " 7   Other_sales      16715 non-null  float64\n",
      " 8   Critic_Score     8137 non-null   float64\n",
      " 9   User_Score       10014 non-null  object \n",
      " 10  Rating           9949 non-null   object \n",
      "dtypes: float64(6), object(5)\n",
      "memory usage: 1.4+ MB\n"
     ]
    }
   ],
   "source": [
    "data.info()"
   ]
  },
  {
   "cell_type": "markdown",
   "metadata": {},
   "source": [
    "В файле таблица с данными по компьютерным играм до 2016г. Данные содержат около 17 тысячи строк, 11 столбцов, есть пропуски."
   ]
  },
  {
   "cell_type": "markdown",
   "metadata": {},
   "source": [
    "## Предобработка данных."
   ]
  },
  {
   "cell_type": "markdown",
   "metadata": {},
   "source": [
    "Приведем названия столбцов к нижнему регистру."
   ]
  },
  {
   "cell_type": "code",
   "execution_count": 4,
   "metadata": {},
   "outputs": [],
   "source": [
    "data.columns = data.columns.str.lower()"
   ]
  },
  {
   "cell_type": "markdown",
   "metadata": {},
   "source": [
    "Удалим строки с пропусками в названиях и годах выпуска, таких строк всего 1,6%, на анализе не скажется, а работать станет проще."
   ]
  },
  {
   "cell_type": "code",
   "execution_count": 5,
   "metadata": {},
   "outputs": [],
   "source": [
    "data = data.dropna(subset = ['name', 'year_of_release']).reset_index(drop = True)"
   ]
  },
  {
   "cell_type": "markdown",
   "metadata": {},
   "source": [
    "Преобразуем данные в нужные типы: год должен быть целым, рейтинг пользователей - числом. Рейтинг пользователей 'tbd' предположительно означает 'to be determined', то есть недостаточное количество пользователей оценило игру. Это равнозначно отсутствию рейтинга, поэтому заменим эти значения на NaN, а потом уже переведем столбец в числовой формат."
   ]
  },
  {
   "cell_type": "code",
   "execution_count": 6,
   "metadata": {
    "scrolled": true
   },
   "outputs": [],
   "source": [
    "data['year_of_release'] = data['year_of_release'].astype('int')\n",
    "data['user_score'] = data['user_score'].replace('tbd', np.nan)\n",
    "data['user_score'] = pd.to_numeric(data['user_score'])"
   ]
  },
  {
   "cell_type": "markdown",
   "metadata": {},
   "source": [
    "Добавим столбец с суммарными продажами."
   ]
  },
  {
   "cell_type": "code",
   "execution_count": 7,
   "metadata": {},
   "outputs": [],
   "source": [
    "data['total_sales'] = data['na_sales'] + data['eu_sales'] + data['jp_sales'] + data['other_sales']"
   ]
  },
  {
   "cell_type": "markdown",
   "metadata": {},
   "source": [
    "Посмотрим, как изменился датасет."
   ]
  },
  {
   "cell_type": "code",
   "execution_count": 8,
   "metadata": {},
   "outputs": [
    {
     "name": "stdout",
     "output_type": "stream",
     "text": [
      "<class 'pandas.core.frame.DataFrame'>\n",
      "RangeIndex: 16444 entries, 0 to 16443\n",
      "Data columns (total 12 columns):\n",
      " #   Column           Non-Null Count  Dtype  \n",
      "---  ------           --------------  -----  \n",
      " 0   name             16444 non-null  object \n",
      " 1   platform         16444 non-null  object \n",
      " 2   year_of_release  16444 non-null  int64  \n",
      " 3   genre            16444 non-null  object \n",
      " 4   na_sales         16444 non-null  float64\n",
      " 5   eu_sales         16444 non-null  float64\n",
      " 6   jp_sales         16444 non-null  float64\n",
      " 7   other_sales      16444 non-null  float64\n",
      " 8   critic_score     7983 non-null   float64\n",
      " 9   user_score       7463 non-null   float64\n",
      " 10  rating           9768 non-null   object \n",
      " 11  total_sales      16444 non-null  float64\n",
      "dtypes: float64(7), int64(1), object(4)\n",
      "memory usage: 1.5+ MB\n"
     ]
    }
   ],
   "source": [
    "data.info()"
   ]
  },
  {
   "cell_type": "code",
   "execution_count": 9,
   "metadata": {},
   "outputs": [
    {
     "data": {
      "text/html": [
       "<div>\n",
       "<style scoped>\n",
       "    .dataframe tbody tr th:only-of-type {\n",
       "        vertical-align: middle;\n",
       "    }\n",
       "\n",
       "    .dataframe tbody tr th {\n",
       "        vertical-align: top;\n",
       "    }\n",
       "\n",
       "    .dataframe thead th {\n",
       "        text-align: right;\n",
       "    }\n",
       "</style>\n",
       "<table border=\"1\" class=\"dataframe\">\n",
       "  <thead>\n",
       "    <tr style=\"text-align: right;\">\n",
       "      <th></th>\n",
       "      <th>name</th>\n",
       "      <th>platform</th>\n",
       "      <th>year_of_release</th>\n",
       "      <th>genre</th>\n",
       "      <th>na_sales</th>\n",
       "      <th>eu_sales</th>\n",
       "      <th>jp_sales</th>\n",
       "      <th>other_sales</th>\n",
       "      <th>critic_score</th>\n",
       "      <th>user_score</th>\n",
       "      <th>rating</th>\n",
       "      <th>total_sales</th>\n",
       "    </tr>\n",
       "  </thead>\n",
       "  <tbody>\n",
       "    <tr>\n",
       "      <th>0</th>\n",
       "      <td>Wii Sports</td>\n",
       "      <td>Wii</td>\n",
       "      <td>2006</td>\n",
       "      <td>Sports</td>\n",
       "      <td>41.36</td>\n",
       "      <td>28.96</td>\n",
       "      <td>3.77</td>\n",
       "      <td>8.45</td>\n",
       "      <td>76.0</td>\n",
       "      <td>8.0</td>\n",
       "      <td>E</td>\n",
       "      <td>82.54</td>\n",
       "    </tr>\n",
       "    <tr>\n",
       "      <th>1</th>\n",
       "      <td>Super Mario Bros.</td>\n",
       "      <td>NES</td>\n",
       "      <td>1985</td>\n",
       "      <td>Platform</td>\n",
       "      <td>29.08</td>\n",
       "      <td>3.58</td>\n",
       "      <td>6.81</td>\n",
       "      <td>0.77</td>\n",
       "      <td>NaN</td>\n",
       "      <td>NaN</td>\n",
       "      <td>NaN</td>\n",
       "      <td>40.24</td>\n",
       "    </tr>\n",
       "    <tr>\n",
       "      <th>2</th>\n",
       "      <td>Mario Kart Wii</td>\n",
       "      <td>Wii</td>\n",
       "      <td>2008</td>\n",
       "      <td>Racing</td>\n",
       "      <td>15.68</td>\n",
       "      <td>12.76</td>\n",
       "      <td>3.79</td>\n",
       "      <td>3.29</td>\n",
       "      <td>82.0</td>\n",
       "      <td>8.3</td>\n",
       "      <td>E</td>\n",
       "      <td>35.52</td>\n",
       "    </tr>\n",
       "    <tr>\n",
       "      <th>3</th>\n",
       "      <td>Wii Sports Resort</td>\n",
       "      <td>Wii</td>\n",
       "      <td>2009</td>\n",
       "      <td>Sports</td>\n",
       "      <td>15.61</td>\n",
       "      <td>10.93</td>\n",
       "      <td>3.28</td>\n",
       "      <td>2.95</td>\n",
       "      <td>80.0</td>\n",
       "      <td>8.0</td>\n",
       "      <td>E</td>\n",
       "      <td>32.77</td>\n",
       "    </tr>\n",
       "    <tr>\n",
       "      <th>4</th>\n",
       "      <td>Pokemon Red/Pokemon Blue</td>\n",
       "      <td>GB</td>\n",
       "      <td>1996</td>\n",
       "      <td>Role-Playing</td>\n",
       "      <td>11.27</td>\n",
       "      <td>8.89</td>\n",
       "      <td>10.22</td>\n",
       "      <td>1.00</td>\n",
       "      <td>NaN</td>\n",
       "      <td>NaN</td>\n",
       "      <td>NaN</td>\n",
       "      <td>31.38</td>\n",
       "    </tr>\n",
       "    <tr>\n",
       "      <th>5</th>\n",
       "      <td>Tetris</td>\n",
       "      <td>GB</td>\n",
       "      <td>1989</td>\n",
       "      <td>Puzzle</td>\n",
       "      <td>23.20</td>\n",
       "      <td>2.26</td>\n",
       "      <td>4.22</td>\n",
       "      <td>0.58</td>\n",
       "      <td>NaN</td>\n",
       "      <td>NaN</td>\n",
       "      <td>NaN</td>\n",
       "      <td>30.26</td>\n",
       "    </tr>\n",
       "    <tr>\n",
       "      <th>6</th>\n",
       "      <td>New Super Mario Bros.</td>\n",
       "      <td>DS</td>\n",
       "      <td>2006</td>\n",
       "      <td>Platform</td>\n",
       "      <td>11.28</td>\n",
       "      <td>9.14</td>\n",
       "      <td>6.50</td>\n",
       "      <td>2.88</td>\n",
       "      <td>89.0</td>\n",
       "      <td>8.5</td>\n",
       "      <td>E</td>\n",
       "      <td>29.80</td>\n",
       "    </tr>\n",
       "    <tr>\n",
       "      <th>7</th>\n",
       "      <td>Wii Play</td>\n",
       "      <td>Wii</td>\n",
       "      <td>2006</td>\n",
       "      <td>Misc</td>\n",
       "      <td>13.96</td>\n",
       "      <td>9.18</td>\n",
       "      <td>2.93</td>\n",
       "      <td>2.84</td>\n",
       "      <td>58.0</td>\n",
       "      <td>6.6</td>\n",
       "      <td>E</td>\n",
       "      <td>28.91</td>\n",
       "    </tr>\n",
       "    <tr>\n",
       "      <th>8</th>\n",
       "      <td>New Super Mario Bros. Wii</td>\n",
       "      <td>Wii</td>\n",
       "      <td>2009</td>\n",
       "      <td>Platform</td>\n",
       "      <td>14.44</td>\n",
       "      <td>6.94</td>\n",
       "      <td>4.70</td>\n",
       "      <td>2.24</td>\n",
       "      <td>87.0</td>\n",
       "      <td>8.4</td>\n",
       "      <td>E</td>\n",
       "      <td>28.32</td>\n",
       "    </tr>\n",
       "    <tr>\n",
       "      <th>9</th>\n",
       "      <td>Duck Hunt</td>\n",
       "      <td>NES</td>\n",
       "      <td>1984</td>\n",
       "      <td>Shooter</td>\n",
       "      <td>26.93</td>\n",
       "      <td>0.63</td>\n",
       "      <td>0.28</td>\n",
       "      <td>0.47</td>\n",
       "      <td>NaN</td>\n",
       "      <td>NaN</td>\n",
       "      <td>NaN</td>\n",
       "      <td>28.31</td>\n",
       "    </tr>\n",
       "  </tbody>\n",
       "</table>\n",
       "</div>"
      ],
      "text/plain": [
       "                        name platform  year_of_release         genre  \\\n",
       "0                 Wii Sports      Wii             2006        Sports   \n",
       "1          Super Mario Bros.      NES             1985      Platform   \n",
       "2             Mario Kart Wii      Wii             2008        Racing   \n",
       "3          Wii Sports Resort      Wii             2009        Sports   \n",
       "4   Pokemon Red/Pokemon Blue       GB             1996  Role-Playing   \n",
       "5                     Tetris       GB             1989        Puzzle   \n",
       "6      New Super Mario Bros.       DS             2006      Platform   \n",
       "7                   Wii Play      Wii             2006          Misc   \n",
       "8  New Super Mario Bros. Wii      Wii             2009      Platform   \n",
       "9                  Duck Hunt      NES             1984       Shooter   \n",
       "\n",
       "   na_sales  eu_sales  jp_sales  other_sales  critic_score  user_score rating  \\\n",
       "0     41.36     28.96      3.77         8.45          76.0         8.0      E   \n",
       "1     29.08      3.58      6.81         0.77           NaN         NaN    NaN   \n",
       "2     15.68     12.76      3.79         3.29          82.0         8.3      E   \n",
       "3     15.61     10.93      3.28         2.95          80.0         8.0      E   \n",
       "4     11.27      8.89     10.22         1.00           NaN         NaN    NaN   \n",
       "5     23.20      2.26      4.22         0.58           NaN         NaN    NaN   \n",
       "6     11.28      9.14      6.50         2.88          89.0         8.5      E   \n",
       "7     13.96      9.18      2.93         2.84          58.0         6.6      E   \n",
       "8     14.44      6.94      4.70         2.24          87.0         8.4      E   \n",
       "9     26.93      0.63      0.28         0.47           NaN         NaN    NaN   \n",
       "\n",
       "   total_sales  \n",
       "0        82.54  \n",
       "1        40.24  \n",
       "2        35.52  \n",
       "3        32.77  \n",
       "4        31.38  \n",
       "5        30.26  \n",
       "6        29.80  \n",
       "7        28.91  \n",
       "8        28.32  \n",
       "9        28.31  "
      ]
     },
     "execution_count": 9,
     "metadata": {},
     "output_type": "execute_result"
    }
   ],
   "source": [
    "data.head(10)"
   ]
  },
  {
   "cell_type": "markdown",
   "metadata": {},
   "source": [
    "Оставшиеся пропуски в столбцах с рейтингами могут объясняться тем, что эти игры просто не были оценены критиками, пользователями и ESRB. Игр много, не все они популярны, не до всех добираются критики. Конечно, это не единственное объяснение: могли быть и технические ошибки, например, маловероятно, что у суперпопулярного Tetris не появилось оценок за 27 лет существования. Вообще можно заметить, что у старых игр чаще встречаются пропуски в рейтингах. Проверим, так ли это."
   ]
  },
  {
   "cell_type": "code",
   "execution_count": 10,
   "metadata": {},
   "outputs": [
    {
     "data": {
      "image/png": "[encoded data removed]",
      "text/plain": [
       "<Figure size 432x288 with 1 Axes>"
      ]
     },
     "metadata": {
      "needs_background": "light"
     },
     "output_type": "display_data"
    }
   ],
   "source": [
    "data.groupby('year_of_release')[['critic_score', 'user_score']].count().plot();"
   ]
  },
  {
   "cell_type": "markdown",
   "metadata": {},
   "source": [
    "Действительно, до 2000 года очень небольшое количество игр имеет оценки. Возможно, это связано с тем, что эти игры вышли раньше, чем появился сам сервис, оценки были взяты со сторонних источников, и при копировании что-то пошло не так. Или, наоборот, сервис предлагает только оценки, поставленные за время его, сервиса, существования, а эти старые игры сейчас мало кто оценивает и среди пользователей, и среди критиков. Или раньше ставить игре оценку не было нормальной практикой. ESRB, например, до 1994г. не существовало. Вообще ESRB - американская компания, а законодательные нормы в отношении игр в разных странах разные. Выведем игры с самыми большими продажами, у которых отсутствует рейтинг ERSB."
   ]
  },
  {
   "cell_type": "code",
   "execution_count": 11,
   "metadata": {
    "scrolled": true
   },
   "outputs": [
    {
     "data": {
      "text/html": [
       "<div>\n",
       "<style scoped>\n",
       "    .dataframe tbody tr th:only-of-type {\n",
       "        vertical-align: middle;\n",
       "    }\n",
       "\n",
       "    .dataframe tbody tr th {\n",
       "        vertical-align: top;\n",
       "    }\n",
       "\n",
       "    .dataframe thead th {\n",
       "        text-align: right;\n",
       "    }\n",
       "</style>\n",
       "<table border=\"1\" class=\"dataframe\">\n",
       "  <thead>\n",
       "    <tr style=\"text-align: right;\">\n",
       "      <th></th>\n",
       "      <th>name</th>\n",
       "      <th>platform</th>\n",
       "      <th>year_of_release</th>\n",
       "      <th>genre</th>\n",
       "      <th>na_sales</th>\n",
       "      <th>eu_sales</th>\n",
       "      <th>jp_sales</th>\n",
       "      <th>other_sales</th>\n",
       "      <th>critic_score</th>\n",
       "      <th>user_score</th>\n",
       "      <th>rating</th>\n",
       "      <th>total_sales</th>\n",
       "    </tr>\n",
       "  </thead>\n",
       "  <tbody>\n",
       "    <tr>\n",
       "      <th>10</th>\n",
       "      <td>Nintendogs</td>\n",
       "      <td>DS</td>\n",
       "      <td>2005</td>\n",
       "      <td>Simulation</td>\n",
       "      <td>9.05</td>\n",
       "      <td>10.95</td>\n",
       "      <td>1.93</td>\n",
       "      <td>2.74</td>\n",
       "      <td>NaN</td>\n",
       "      <td>NaN</td>\n",
       "      <td>NaN</td>\n",
       "      <td>24.67</td>\n",
       "    </tr>\n",
       "    <tr>\n",
       "      <th>20</th>\n",
       "      <td>Pokemon Diamond/Pokemon Pearl</td>\n",
       "      <td>DS</td>\n",
       "      <td>2006</td>\n",
       "      <td>Role-Playing</td>\n",
       "      <td>6.38</td>\n",
       "      <td>4.46</td>\n",
       "      <td>6.04</td>\n",
       "      <td>1.36</td>\n",
       "      <td>NaN</td>\n",
       "      <td>NaN</td>\n",
       "      <td>NaN</td>\n",
       "      <td>18.24</td>\n",
       "    </tr>\n",
       "    <tr>\n",
       "      <th>25</th>\n",
       "      <td>Pokemon Ruby/Pokemon Sapphire</td>\n",
       "      <td>GBA</td>\n",
       "      <td>2002</td>\n",
       "      <td>Role-Playing</td>\n",
       "      <td>6.06</td>\n",
       "      <td>3.90</td>\n",
       "      <td>5.38</td>\n",
       "      <td>0.50</td>\n",
       "      <td>NaN</td>\n",
       "      <td>NaN</td>\n",
       "      <td>NaN</td>\n",
       "      <td>15.84</td>\n",
       "    </tr>\n",
       "    <tr>\n",
       "      <th>27</th>\n",
       "      <td>Pokemon Black/Pokemon White</td>\n",
       "      <td>DS</td>\n",
       "      <td>2010</td>\n",
       "      <td>Role-Playing</td>\n",
       "      <td>5.51</td>\n",
       "      <td>3.17</td>\n",
       "      <td>5.65</td>\n",
       "      <td>0.80</td>\n",
       "      <td>NaN</td>\n",
       "      <td>NaN</td>\n",
       "      <td>NaN</td>\n",
       "      <td>15.13</td>\n",
       "    </tr>\n",
       "    <tr>\n",
       "      <th>31</th>\n",
       "      <td>Call of Duty: Black Ops 3</td>\n",
       "      <td>PS4</td>\n",
       "      <td>2015</td>\n",
       "      <td>Shooter</td>\n",
       "      <td>6.03</td>\n",
       "      <td>5.86</td>\n",
       "      <td>0.36</td>\n",
       "      <td>2.38</td>\n",
       "      <td>NaN</td>\n",
       "      <td>NaN</td>\n",
       "      <td>NaN</td>\n",
       "      <td>14.63</td>\n",
       "    </tr>\n",
       "    <tr>\n",
       "      <th>33</th>\n",
       "      <td>Pokemon X/Pokemon Y</td>\n",
       "      <td>3DS</td>\n",
       "      <td>2013</td>\n",
       "      <td>Role-Playing</td>\n",
       "      <td>5.28</td>\n",
       "      <td>4.19</td>\n",
       "      <td>4.35</td>\n",
       "      <td>0.78</td>\n",
       "      <td>NaN</td>\n",
       "      <td>NaN</td>\n",
       "      <td>NaN</td>\n",
       "      <td>14.60</td>\n",
       "    </tr>\n",
       "    <tr>\n",
       "      <th>46</th>\n",
       "      <td>Pokemon HeartGold/Pokemon SoulSilver</td>\n",
       "      <td>DS</td>\n",
       "      <td>2009</td>\n",
       "      <td>Action</td>\n",
       "      <td>4.34</td>\n",
       "      <td>2.71</td>\n",
       "      <td>3.96</td>\n",
       "      <td>0.76</td>\n",
       "      <td>NaN</td>\n",
       "      <td>NaN</td>\n",
       "      <td>NaN</td>\n",
       "      <td>11.77</td>\n",
       "    </tr>\n",
       "    <tr>\n",
       "      <th>47</th>\n",
       "      <td>Pokemon Omega Ruby/Pokemon Alpha Sapphire</td>\n",
       "      <td>3DS</td>\n",
       "      <td>2014</td>\n",
       "      <td>Role-Playing</td>\n",
       "      <td>4.35</td>\n",
       "      <td>3.49</td>\n",
       "      <td>3.10</td>\n",
       "      <td>0.74</td>\n",
       "      <td>NaN</td>\n",
       "      <td>NaN</td>\n",
       "      <td>NaN</td>\n",
       "      <td>11.68</td>\n",
       "    </tr>\n",
       "    <tr>\n",
       "      <th>58</th>\n",
       "      <td>Pokemon FireRed/Pokemon LeafGreen</td>\n",
       "      <td>GBA</td>\n",
       "      <td>2004</td>\n",
       "      <td>Role-Playing</td>\n",
       "      <td>4.34</td>\n",
       "      <td>2.65</td>\n",
       "      <td>3.15</td>\n",
       "      <td>0.35</td>\n",
       "      <td>NaN</td>\n",
       "      <td>NaN</td>\n",
       "      <td>NaN</td>\n",
       "      <td>10.49</td>\n",
       "    </tr>\n",
       "    <tr>\n",
       "      <th>59</th>\n",
       "      <td>Super Mario 64</td>\n",
       "      <td>DS</td>\n",
       "      <td>2004</td>\n",
       "      <td>Platform</td>\n",
       "      <td>5.01</td>\n",
       "      <td>3.07</td>\n",
       "      <td>1.25</td>\n",
       "      <td>0.97</td>\n",
       "      <td>NaN</td>\n",
       "      <td>NaN</td>\n",
       "      <td>NaN</td>\n",
       "      <td>10.30</td>\n",
       "    </tr>\n",
       "    <tr>\n",
       "      <th>72</th>\n",
       "      <td>Minecraft</td>\n",
       "      <td>X360</td>\n",
       "      <td>2013</td>\n",
       "      <td>Misc</td>\n",
       "      <td>5.70</td>\n",
       "      <td>2.65</td>\n",
       "      <td>0.02</td>\n",
       "      <td>0.81</td>\n",
       "      <td>NaN</td>\n",
       "      <td>NaN</td>\n",
       "      <td>NaN</td>\n",
       "      <td>9.18</td>\n",
       "    </tr>\n",
       "    <tr>\n",
       "      <th>83</th>\n",
       "      <td>Pokemon Black 2/Pokemon White 2</td>\n",
       "      <td>DS</td>\n",
       "      <td>2012</td>\n",
       "      <td>Role-Playing</td>\n",
       "      <td>2.79</td>\n",
       "      <td>1.72</td>\n",
       "      <td>3.14</td>\n",
       "      <td>0.41</td>\n",
       "      <td>NaN</td>\n",
       "      <td>NaN</td>\n",
       "      <td>NaN</td>\n",
       "      <td>8.06</td>\n",
       "    </tr>\n",
       "    <tr>\n",
       "      <th>86</th>\n",
       "      <td>Mario &amp; Sonic at the Olympic Games</td>\n",
       "      <td>Wii</td>\n",
       "      <td>2007</td>\n",
       "      <td>Sports</td>\n",
       "      <td>2.57</td>\n",
       "      <td>3.86</td>\n",
       "      <td>0.66</td>\n",
       "      <td>0.91</td>\n",
       "      <td>NaN</td>\n",
       "      <td>NaN</td>\n",
       "      <td>NaN</td>\n",
       "      <td>8.00</td>\n",
       "    </tr>\n",
       "    <tr>\n",
       "      <th>87</th>\n",
       "      <td>Star Wars Battlefront (2015)</td>\n",
       "      <td>PS4</td>\n",
       "      <td>2015</td>\n",
       "      <td>Shooter</td>\n",
       "      <td>2.99</td>\n",
       "      <td>3.49</td>\n",
       "      <td>0.22</td>\n",
       "      <td>1.28</td>\n",
       "      <td>NaN</td>\n",
       "      <td>NaN</td>\n",
       "      <td>NaN</td>\n",
       "      <td>7.98</td>\n",
       "    </tr>\n",
       "    <tr>\n",
       "      <th>96</th>\n",
       "      <td>Super Smash Bros. for Wii U and 3DS</td>\n",
       "      <td>3DS</td>\n",
       "      <td>2014</td>\n",
       "      <td>Fighting</td>\n",
       "      <td>3.27</td>\n",
       "      <td>1.37</td>\n",
       "      <td>2.43</td>\n",
       "      <td>0.48</td>\n",
       "      <td>NaN</td>\n",
       "      <td>NaN</td>\n",
       "      <td>NaN</td>\n",
       "      <td>7.55</td>\n",
       "    </tr>\n",
       "    <tr>\n",
       "      <th>99</th>\n",
       "      <td>Call of Duty: Black Ops 3</td>\n",
       "      <td>XOne</td>\n",
       "      <td>2015</td>\n",
       "      <td>Shooter</td>\n",
       "      <td>4.59</td>\n",
       "      <td>2.11</td>\n",
       "      <td>0.01</td>\n",
       "      <td>0.68</td>\n",
       "      <td>NaN</td>\n",
       "      <td>NaN</td>\n",
       "      <td>NaN</td>\n",
       "      <td>7.39</td>\n",
       "    </tr>\n",
       "    <tr>\n",
       "      <th>108</th>\n",
       "      <td>Pokemon Sun/Moon</td>\n",
       "      <td>3DS</td>\n",
       "      <td>2016</td>\n",
       "      <td>Role-Playing</td>\n",
       "      <td>2.98</td>\n",
       "      <td>1.45</td>\n",
       "      <td>2.26</td>\n",
       "      <td>0.45</td>\n",
       "      <td>NaN</td>\n",
       "      <td>NaN</td>\n",
       "      <td>NaN</td>\n",
       "      <td>7.14</td>\n",
       "    </tr>\n",
       "    <tr>\n",
       "      <th>112</th>\n",
       "      <td>Mario Kart: Double Dash!!</td>\n",
       "      <td>GC</td>\n",
       "      <td>2003</td>\n",
       "      <td>Racing</td>\n",
       "      <td>4.12</td>\n",
       "      <td>1.77</td>\n",
       "      <td>0.87</td>\n",
       "      <td>0.19</td>\n",
       "      <td>NaN</td>\n",
       "      <td>NaN</td>\n",
       "      <td>NaN</td>\n",
       "      <td>6.95</td>\n",
       "    </tr>\n",
       "    <tr>\n",
       "      <th>122</th>\n",
       "      <td>FIFA 12</td>\n",
       "      <td>PS3</td>\n",
       "      <td>2011</td>\n",
       "      <td>Sports</td>\n",
       "      <td>0.84</td>\n",
       "      <td>4.30</td>\n",
       "      <td>0.11</td>\n",
       "      <td>1.39</td>\n",
       "      <td>NaN</td>\n",
       "      <td>NaN</td>\n",
       "      <td>NaN</td>\n",
       "      <td>6.64</td>\n",
       "    </tr>\n",
       "    <tr>\n",
       "      <th>167</th>\n",
       "      <td>Super Mario World</td>\n",
       "      <td>GBA</td>\n",
       "      <td>2001</td>\n",
       "      <td>Platform</td>\n",
       "      <td>3.21</td>\n",
       "      <td>1.11</td>\n",
       "      <td>0.95</td>\n",
       "      <td>0.20</td>\n",
       "      <td>NaN</td>\n",
       "      <td>NaN</td>\n",
       "      <td>NaN</td>\n",
       "      <td>5.47</td>\n",
       "    </tr>\n",
       "    <tr>\n",
       "      <th>180</th>\n",
       "      <td>Minecraft</td>\n",
       "      <td>PS3</td>\n",
       "      <td>2014</td>\n",
       "      <td>Misc</td>\n",
       "      <td>2.03</td>\n",
       "      <td>2.37</td>\n",
       "      <td>0.00</td>\n",
       "      <td>0.87</td>\n",
       "      <td>NaN</td>\n",
       "      <td>NaN</td>\n",
       "      <td>NaN</td>\n",
       "      <td>5.27</td>\n",
       "    </tr>\n",
       "    <tr>\n",
       "      <th>183</th>\n",
       "      <td>Tomodachi Life</td>\n",
       "      <td>3DS</td>\n",
       "      <td>2013</td>\n",
       "      <td>Simulation</td>\n",
       "      <td>0.97</td>\n",
       "      <td>2.11</td>\n",
       "      <td>1.90</td>\n",
       "      <td>0.24</td>\n",
       "      <td>NaN</td>\n",
       "      <td>NaN</td>\n",
       "      <td>NaN</td>\n",
       "      <td>5.22</td>\n",
       "    </tr>\n",
       "    <tr>\n",
       "      <th>186</th>\n",
       "      <td>Super Mario Bros. 3</td>\n",
       "      <td>GBA</td>\n",
       "      <td>2003</td>\n",
       "      <td>Platform</td>\n",
       "      <td>2.93</td>\n",
       "      <td>1.25</td>\n",
       "      <td>0.83</td>\n",
       "      <td>0.20</td>\n",
       "      <td>NaN</td>\n",
       "      <td>NaN</td>\n",
       "      <td>NaN</td>\n",
       "      <td>5.21</td>\n",
       "    </tr>\n",
       "    <tr>\n",
       "      <th>197</th>\n",
       "      <td>Mario &amp; Sonic at the Olympic Games</td>\n",
       "      <td>DS</td>\n",
       "      <td>2008</td>\n",
       "      <td>Sports</td>\n",
       "      <td>1.63</td>\n",
       "      <td>2.45</td>\n",
       "      <td>0.44</td>\n",
       "      <td>0.57</td>\n",
       "      <td>NaN</td>\n",
       "      <td>NaN</td>\n",
       "      <td>NaN</td>\n",
       "      <td>5.09</td>\n",
       "    </tr>\n",
       "    <tr>\n",
       "      <th>209</th>\n",
       "      <td>Pokemon Mystery Dungeon: Explorers of Time/Exp...</td>\n",
       "      <td>DS</td>\n",
       "      <td>2007</td>\n",
       "      <td>Role-Playing</td>\n",
       "      <td>1.83</td>\n",
       "      <td>1.19</td>\n",
       "      <td>1.54</td>\n",
       "      <td>0.37</td>\n",
       "      <td>NaN</td>\n",
       "      <td>NaN</td>\n",
       "      <td>NaN</td>\n",
       "      <td>4.93</td>\n",
       "    </tr>\n",
       "    <tr>\n",
       "      <th>214</th>\n",
       "      <td>Monster Hunter Freedom 3</td>\n",
       "      <td>PSP</td>\n",
       "      <td>2010</td>\n",
       "      <td>Role-Playing</td>\n",
       "      <td>0.00</td>\n",
       "      <td>0.00</td>\n",
       "      <td>4.87</td>\n",
       "      <td>0.00</td>\n",
       "      <td>NaN</td>\n",
       "      <td>NaN</td>\n",
       "      <td>NaN</td>\n",
       "      <td>4.87</td>\n",
       "    </tr>\n",
       "    <tr>\n",
       "      <th>215</th>\n",
       "      <td>Super Smash Bros. for Wii U and 3DS</td>\n",
       "      <td>WiiU</td>\n",
       "      <td>2014</td>\n",
       "      <td>Fighting</td>\n",
       "      <td>2.60</td>\n",
       "      <td>1.08</td>\n",
       "      <td>0.81</td>\n",
       "      <td>0.38</td>\n",
       "      <td>NaN</td>\n",
       "      <td>NaN</td>\n",
       "      <td>NaN</td>\n",
       "      <td>4.87</td>\n",
       "    </tr>\n",
       "    <tr>\n",
       "      <th>224</th>\n",
       "      <td>The Last of Us</td>\n",
       "      <td>PS4</td>\n",
       "      <td>2014</td>\n",
       "      <td>Action</td>\n",
       "      <td>1.88</td>\n",
       "      <td>2.00</td>\n",
       "      <td>0.07</td>\n",
       "      <td>0.77</td>\n",
       "      <td>NaN</td>\n",
       "      <td>NaN</td>\n",
       "      <td>NaN</td>\n",
       "      <td>4.72</td>\n",
       "    </tr>\n",
       "    <tr>\n",
       "      <th>225</th>\n",
       "      <td>The Simpsons: Hit &amp; Run</td>\n",
       "      <td>PS2</td>\n",
       "      <td>2003</td>\n",
       "      <td>Racing</td>\n",
       "      <td>1.73</td>\n",
       "      <td>2.19</td>\n",
       "      <td>0.00</td>\n",
       "      <td>0.79</td>\n",
       "      <td>NaN</td>\n",
       "      <td>NaN</td>\n",
       "      <td>NaN</td>\n",
       "      <td>4.71</td>\n",
       "    </tr>\n",
       "    <tr>\n",
       "      <th>236</th>\n",
       "      <td>Mario &amp; Sonic at the Olympic Winter Games</td>\n",
       "      <td>Wii</td>\n",
       "      <td>2009</td>\n",
       "      <td>Sports</td>\n",
       "      <td>1.87</td>\n",
       "      <td>1.96</td>\n",
       "      <td>0.22</td>\n",
       "      <td>0.48</td>\n",
       "      <td>NaN</td>\n",
       "      <td>NaN</td>\n",
       "      <td>NaN</td>\n",
       "      <td>4.53</td>\n",
       "    </tr>\n",
       "  </tbody>\n",
       "</table>\n",
       "</div>"
      ],
      "text/plain": [
       "                                                  name platform  \\\n",
       "10                                          Nintendogs       DS   \n",
       "20                       Pokemon Diamond/Pokemon Pearl       DS   \n",
       "25                       Pokemon Ruby/Pokemon Sapphire      GBA   \n",
       "27                         Pokemon Black/Pokemon White       DS   \n",
       "31                           Call of Duty: Black Ops 3      PS4   \n",
       "33                                 Pokemon X/Pokemon Y      3DS   \n",
       "46                Pokemon HeartGold/Pokemon SoulSilver       DS   \n",
       "47           Pokemon Omega Ruby/Pokemon Alpha Sapphire      3DS   \n",
       "58                   Pokemon FireRed/Pokemon LeafGreen      GBA   \n",
       "59                                      Super Mario 64       DS   \n",
       "72                                           Minecraft     X360   \n",
       "83                     Pokemon Black 2/Pokemon White 2       DS   \n",
       "86                  Mario & Sonic at the Olympic Games      Wii   \n",
       "87                        Star Wars Battlefront (2015)      PS4   \n",
       "96                 Super Smash Bros. for Wii U and 3DS      3DS   \n",
       "99                           Call of Duty: Black Ops 3     XOne   \n",
       "108                                   Pokemon Sun/Moon      3DS   \n",
       "112                          Mario Kart: Double Dash!!       GC   \n",
       "122                                            FIFA 12      PS3   \n",
       "167                                  Super Mario World      GBA   \n",
       "180                                          Minecraft      PS3   \n",
       "183                                     Tomodachi Life      3DS   \n",
       "186                                Super Mario Bros. 3      GBA   \n",
       "197                 Mario & Sonic at the Olympic Games       DS   \n",
       "209  Pokemon Mystery Dungeon: Explorers of Time/Exp...       DS   \n",
       "214                           Monster Hunter Freedom 3      PSP   \n",
       "215                Super Smash Bros. for Wii U and 3DS     WiiU   \n",
       "224                                     The Last of Us      PS4   \n",
       "225                            The Simpsons: Hit & Run      PS2   \n",
       "236          Mario & Sonic at the Olympic Winter Games      Wii   \n",
       "\n",
       "     year_of_release         genre  na_sales  eu_sales  jp_sales  other_sales  \\\n",
       "10              2005    Simulation      9.05     10.95      1.93         2.74   \n",
       "20              2006  Role-Playing      6.38      4.46      6.04         1.36   \n",
       "25              2002  Role-Playing      6.06      3.90      5.38         0.50   \n",
       "27              2010  Role-Playing      5.51      3.17      5.65         0.80   \n",
       "31              2015       Shooter      6.03      5.86      0.36         2.38   \n",
       "33              2013  Role-Playing      5.28      4.19      4.35         0.78   \n",
       "46              2009        Action      4.34      2.71      3.96         0.76   \n",
       "47              2014  Role-Playing      4.35      3.49      3.10         0.74   \n",
       "58              2004  Role-Playing      4.34      2.65      3.15         0.35   \n",
       "59              2004      Platform      5.01      3.07      1.25         0.97   \n",
       "72              2013          Misc      5.70      2.65      0.02         0.81   \n",
       "83              2012  Role-Playing      2.79      1.72      3.14         0.41   \n",
       "86              2007        Sports      2.57      3.86      0.66         0.91   \n",
       "87              2015       Shooter      2.99      3.49      0.22         1.28   \n",
       "96              2014      Fighting      3.27      1.37      2.43         0.48   \n",
       "99              2015       Shooter      4.59      2.11      0.01         0.68   \n",
       "108             2016  Role-Playing      2.98      1.45      2.26         0.45   \n",
       "112             2003        Racing      4.12      1.77      0.87         0.19   \n",
       "122             2011        Sports      0.84      4.30      0.11         1.39   \n",
       "167             2001      Platform      3.21      1.11      0.95         0.20   \n",
       "180             2014          Misc      2.03      2.37      0.00         0.87   \n",
       "183             2013    Simulation      0.97      2.11      1.90         0.24   \n",
       "186             2003      Platform      2.93      1.25      0.83         0.20   \n",
       "197             2008        Sports      1.63      2.45      0.44         0.57   \n",
       "209             2007  Role-Playing      1.83      1.19      1.54         0.37   \n",
       "214             2010  Role-Playing      0.00      0.00      4.87         0.00   \n",
       "215             2014      Fighting      2.60      1.08      0.81         0.38   \n",
       "224             2014        Action      1.88      2.00      0.07         0.77   \n",
       "225             2003        Racing      1.73      2.19      0.00         0.79   \n",
       "236             2009        Sports      1.87      1.96      0.22         0.48   \n",
       "\n",
       "     critic_score  user_score rating  total_sales  \n",
       "10            NaN         NaN    NaN        24.67  \n",
       "20            NaN         NaN    NaN        18.24  \n",
       "25            NaN         NaN    NaN        15.84  \n",
       "27            NaN         NaN    NaN        15.13  \n",
       "31            NaN         NaN    NaN        14.63  \n",
       "33            NaN         NaN    NaN        14.60  \n",
       "46            NaN         NaN    NaN        11.77  \n",
       "47            NaN         NaN    NaN        11.68  \n",
       "58            NaN         NaN    NaN        10.49  \n",
       "59            NaN         NaN    NaN        10.30  \n",
       "72            NaN         NaN    NaN         9.18  \n",
       "83            NaN         NaN    NaN         8.06  \n",
       "86            NaN         NaN    NaN         8.00  \n",
       "87            NaN         NaN    NaN         7.98  \n",
       "96            NaN         NaN    NaN         7.55  \n",
       "99            NaN         NaN    NaN         7.39  \n",
       "108           NaN         NaN    NaN         7.14  \n",
       "112           NaN         NaN    NaN         6.95  \n",
       "122           NaN         NaN    NaN         6.64  \n",
       "167           NaN         NaN    NaN         5.47  \n",
       "180           NaN         NaN    NaN         5.27  \n",
       "183           NaN         NaN    NaN         5.22  \n",
       "186           NaN         NaN    NaN         5.21  \n",
       "197           NaN         NaN    NaN         5.09  \n",
       "209           NaN         NaN    NaN         4.93  \n",
       "214           NaN         NaN    NaN         4.87  \n",
       "215           NaN         NaN    NaN         4.87  \n",
       "224           NaN         NaN    NaN         4.72  \n",
       "225           NaN         NaN    NaN         4.71  \n",
       "236           NaN         NaN    NaN         4.53  "
      ]
     },
     "execution_count": 11,
     "metadata": {},
     "output_type": "execute_result"
    }
   ],
   "source": [
    "data.query('rating.isna() and year_of_release > 2000').sort_values(by = 'total_sales', ascending = False).head(30)"
   ]
  },
  {
   "cell_type": "markdown",
   "metadata": {},
   "source": [
    "Заметим, что среди первых 30 только две игры (Minecraft и Call of Duty) вышли на Microsoft-овской XBox. Отсутствие рейтинга у них может быть вызвано ошибкой, а вот отсутствие его у игр на японских приставках неудивительно: в Японии этими рейтингами занимается другая компания - CERO. Заменим пропуски в этой колонке на \"Unknown\"."
   ]
  },
  {
   "cell_type": "code",
   "execution_count": 12,
   "metadata": {},
   "outputs": [
    {
     "data": {
      "text/plain": [
       "name                  0\n",
       "platform              0\n",
       "year_of_release       0\n",
       "genre                 0\n",
       "na_sales              0\n",
       "eu_sales              0\n",
       "jp_sales              0\n",
       "other_sales           0\n",
       "critic_score       8461\n",
       "user_score         8981\n",
       "rating                0\n",
       "total_sales           0\n",
       "dtype: int64"
      ]
     },
     "execution_count": 12,
     "metadata": {},
     "output_type": "execute_result"
    }
   ],
   "source": [
    "data['rating'] = data['rating'].fillna('Unknown')\n",
    "data.isna().sum()"
   ]
  },
  {
   "cell_type": "markdown",
   "metadata": {},
   "source": [
    "Проверим данные на наличие дубликатов, сначала явных, потом неявных."
   ]
  },
  {
   "cell_type": "code",
   "execution_count": 13,
   "metadata": {},
   "outputs": [
    {
     "data": {
      "text/plain": [
       "0"
      ]
     },
     "execution_count": 13,
     "metadata": {},
     "output_type": "execute_result"
    }
   ],
   "source": [
    "data.duplicated().sum()"
   ]
  },
  {
   "cell_type": "markdown",
   "metadata": {},
   "source": [
    "Явных дубликатов нет. Посмотрим, есть ли неполные дубликаты, возможно, одна и та же игра указывалась несколько раз."
   ]
  },
  {
   "cell_type": "code",
   "execution_count": 14,
   "metadata": {
    "scrolled": true
   },
   "outputs": [
    {
     "data": {
      "text/html": [
       "<div>\n",
       "<style scoped>\n",
       "    .dataframe tbody tr th:only-of-type {\n",
       "        vertical-align: middle;\n",
       "    }\n",
       "\n",
       "    .dataframe tbody tr th {\n",
       "        vertical-align: top;\n",
       "    }\n",
       "\n",
       "    .dataframe thead th {\n",
       "        text-align: right;\n",
       "    }\n",
       "</style>\n",
       "<table border=\"1\" class=\"dataframe\">\n",
       "  <thead>\n",
       "    <tr style=\"text-align: right;\">\n",
       "      <th></th>\n",
       "      <th>name</th>\n",
       "      <th>platform</th>\n",
       "      <th>year_of_release</th>\n",
       "      <th>genre</th>\n",
       "      <th>na_sales</th>\n",
       "      <th>eu_sales</th>\n",
       "      <th>jp_sales</th>\n",
       "      <th>other_sales</th>\n",
       "      <th>critic_score</th>\n",
       "      <th>user_score</th>\n",
       "      <th>rating</th>\n",
       "      <th>total_sales</th>\n",
       "    </tr>\n",
       "  </thead>\n",
       "  <tbody>\n",
       "    <tr>\n",
       "      <th>600</th>\n",
       "      <td>Madden NFL 13</td>\n",
       "      <td>PS3</td>\n",
       "      <td>2012</td>\n",
       "      <td>Sports</td>\n",
       "      <td>2.11</td>\n",
       "      <td>0.22</td>\n",
       "      <td>0.0</td>\n",
       "      <td>0.23</td>\n",
       "      <td>83.0</td>\n",
       "      <td>5.5</td>\n",
       "      <td>E</td>\n",
       "      <td>2.56</td>\n",
       "    </tr>\n",
       "    <tr>\n",
       "      <th>15969</th>\n",
       "      <td>Madden NFL 13</td>\n",
       "      <td>PS3</td>\n",
       "      <td>2012</td>\n",
       "      <td>Sports</td>\n",
       "      <td>0.00</td>\n",
       "      <td>0.01</td>\n",
       "      <td>0.0</td>\n",
       "      <td>0.00</td>\n",
       "      <td>83.0</td>\n",
       "      <td>5.5</td>\n",
       "      <td>E</td>\n",
       "      <td>0.01</td>\n",
       "    </tr>\n",
       "  </tbody>\n",
       "</table>\n",
       "</div>"
      ],
      "text/plain": [
       "                name platform  year_of_release   genre  na_sales  eu_sales  \\\n",
       "600    Madden NFL 13      PS3             2012  Sports      2.11      0.22   \n",
       "15969  Madden NFL 13      PS3             2012  Sports      0.00      0.01   \n",
       "\n",
       "       jp_sales  other_sales  critic_score  user_score rating  total_sales  \n",
       "600         0.0         0.23          83.0         5.5      E         2.56  \n",
       "15969       0.0         0.00          83.0         5.5      E         0.01  "
      ]
     },
     "execution_count": 14,
     "metadata": {},
     "output_type": "execute_result"
    }
   ],
   "source": [
    "data[data[['name', 'platform','year_of_release']].duplicated(keep=False)]"
   ]
  },
  {
   "cell_type": "markdown",
   "metadata": {},
   "source": [
    "Найден один дубликат: для игры \"Madden NFL 13\" 0.01 из европейских продаж почему-то указана отдельно. Соединим информацию по этим двум строкам в одну, а потом лишнюю удалим."
   ]
  },
  {
   "cell_type": "code",
   "execution_count": 15,
   "metadata": {},
   "outputs": [
    {
     "data": {
      "text/plain": [
       "name               Madden NFL 13\n",
       "platform                     PS3\n",
       "year_of_release             2012\n",
       "genre                     Sports\n",
       "na_sales                    2.11\n",
       "eu_sales                    0.23\n",
       "jp_sales                     0.0\n",
       "other_sales                 0.23\n",
       "critic_score                83.0\n",
       "user_score                   5.5\n",
       "rating                         E\n",
       "total_sales                 2.56\n",
       "Name: 600, dtype: object"
      ]
     },
     "execution_count": 15,
     "metadata": {},
     "output_type": "execute_result"
    }
   ],
   "source": [
    "data.loc[600,'eu_sales'] = data.loc[600,'eu_sales'] + data.loc[15969,'eu_sales']\n",
    "data = data.drop(index = [15969]).reset_index(drop=True)\n",
    "data.loc[600]"
   ]
  },
  {
   "cell_type": "markdown",
   "metadata": {},
   "source": [
    "Убедимся, что теперь дубликатов нет, а в датафрейме стало на одну строчку меньше."
   ]
  },
  {
   "cell_type": "code",
   "execution_count": 16,
   "metadata": {},
   "outputs": [
    {
     "data": {
      "text/html": [
       "<div>\n",
       "<style scoped>\n",
       "    .dataframe tbody tr th:only-of-type {\n",
       "        vertical-align: middle;\n",
       "    }\n",
       "\n",
       "    .dataframe tbody tr th {\n",
       "        vertical-align: top;\n",
       "    }\n",
       "\n",
       "    .dataframe thead th {\n",
       "        text-align: right;\n",
       "    }\n",
       "</style>\n",
       "<table border=\"1\" class=\"dataframe\">\n",
       "  <thead>\n",
       "    <tr style=\"text-align: right;\">\n",
       "      <th></th>\n",
       "      <th>name</th>\n",
       "      <th>platform</th>\n",
       "      <th>year_of_release</th>\n",
       "      <th>genre</th>\n",
       "      <th>na_sales</th>\n",
       "      <th>eu_sales</th>\n",
       "      <th>jp_sales</th>\n",
       "      <th>other_sales</th>\n",
       "      <th>critic_score</th>\n",
       "      <th>user_score</th>\n",
       "      <th>rating</th>\n",
       "      <th>total_sales</th>\n",
       "    </tr>\n",
       "  </thead>\n",
       "  <tbody>\n",
       "  </tbody>\n",
       "</table>\n",
       "</div>"
      ],
      "text/plain": [
       "Empty DataFrame\n",
       "Columns: [name, platform, year_of_release, genre, na_sales, eu_sales, jp_sales, other_sales, critic_score, user_score, rating, total_sales]\n",
       "Index: []"
      ]
     },
     "metadata": {},
     "output_type": "display_data"
    },
    {
     "name": "stdout",
     "output_type": "stream",
     "text": [
      "<class 'pandas.core.frame.DataFrame'>\n",
      "RangeIndex: 16443 entries, 0 to 16442\n",
      "Data columns (total 12 columns):\n",
      " #   Column           Non-Null Count  Dtype  \n",
      "---  ------           --------------  -----  \n",
      " 0   name             16443 non-null  object \n",
      " 1   platform         16443 non-null  object \n",
      " 2   year_of_release  16443 non-null  int64  \n",
      " 3   genre            16443 non-null  object \n",
      " 4   na_sales         16443 non-null  float64\n",
      " 5   eu_sales         16443 non-null  float64\n",
      " 6   jp_sales         16443 non-null  float64\n",
      " 7   other_sales      16443 non-null  float64\n",
      " 8   critic_score     7982 non-null   float64\n",
      " 9   user_score       7462 non-null   float64\n",
      " 10  rating           16443 non-null  object \n",
      " 11  total_sales      16443 non-null  float64\n",
      "dtypes: float64(7), int64(1), object(4)\n",
      "memory usage: 1.5+ MB\n"
     ]
    }
   ],
   "source": [
    "display(data[data[['name', 'platform','year_of_release']].duplicated(keep=False)])\n",
    "data.info()"
   ]
  },
  {
   "cell_type": "markdown",
   "metadata": {},
   "source": [
    "**Вывод по предобработке: названия столбцов приведены к более удобному виду, 271 строка с пропусками удалена, пропуски в столбце с рейтингом ESRB заменены на \"Unknown\", у некоторых данных преобразованы типы, рейтинг 'tbd' заменен на пропуск, добавлен столбец с суммарными продажами.**"
   ]
  },
  {
   "cell_type": "markdown",
   "metadata": {},
   "source": [
    "## Исследовательский анализ данных."
   ]
  },
  {
   "cell_type": "markdown",
   "metadata": {},
   "source": [
    "Посмотрим более подробно, как данные распределены по годам. В таблице для рейтингов приведено количество непустых значений, а для продаж посчитана сумма."
   ]
  },
  {
   "cell_type": "code",
   "execution_count": 17,
   "metadata": {},
   "outputs": [
    {
     "data": {
      "text/html": [
       "<div>\n",
       "<style scoped>\n",
       "    .dataframe tbody tr th:only-of-type {\n",
       "        vertical-align: middle;\n",
       "    }\n",
       "\n",
       "    .dataframe tbody tr th {\n",
       "        vertical-align: top;\n",
       "    }\n",
       "\n",
       "    .dataframe thead th {\n",
       "        text-align: right;\n",
       "    }\n",
       "</style>\n",
       "<table border=\"1\" class=\"dataframe\">\n",
       "  <thead>\n",
       "    <tr style=\"text-align: right;\">\n",
       "      <th></th>\n",
       "      <th>name</th>\n",
       "      <th>critic_score</th>\n",
       "      <th>user_score</th>\n",
       "      <th>rating</th>\n",
       "      <th>total_sales</th>\n",
       "    </tr>\n",
       "    <tr>\n",
       "      <th>year_of_release</th>\n",
       "      <th></th>\n",
       "      <th></th>\n",
       "      <th></th>\n",
       "      <th></th>\n",
       "      <th></th>\n",
       "    </tr>\n",
       "  </thead>\n",
       "  <tbody>\n",
       "    <tr>\n",
       "      <th>1980</th>\n",
       "      <td>9</td>\n",
       "      <td>0</td>\n",
       "      <td>0</td>\n",
       "      <td>9</td>\n",
       "      <td>11.38</td>\n",
       "    </tr>\n",
       "    <tr>\n",
       "      <th>1981</th>\n",
       "      <td>46</td>\n",
       "      <td>0</td>\n",
       "      <td>0</td>\n",
       "      <td>46</td>\n",
       "      <td>35.68</td>\n",
       "    </tr>\n",
       "    <tr>\n",
       "      <th>1982</th>\n",
       "      <td>36</td>\n",
       "      <td>0</td>\n",
       "      <td>0</td>\n",
       "      <td>36</td>\n",
       "      <td>28.88</td>\n",
       "    </tr>\n",
       "    <tr>\n",
       "      <th>1983</th>\n",
       "      <td>17</td>\n",
       "      <td>0</td>\n",
       "      <td>0</td>\n",
       "      <td>17</td>\n",
       "      <td>16.80</td>\n",
       "    </tr>\n",
       "    <tr>\n",
       "      <th>1984</th>\n",
       "      <td>14</td>\n",
       "      <td>0</td>\n",
       "      <td>0</td>\n",
       "      <td>14</td>\n",
       "      <td>50.35</td>\n",
       "    </tr>\n",
       "    <tr>\n",
       "      <th>1985</th>\n",
       "      <td>14</td>\n",
       "      <td>1</td>\n",
       "      <td>1</td>\n",
       "      <td>14</td>\n",
       "      <td>53.95</td>\n",
       "    </tr>\n",
       "    <tr>\n",
       "      <th>1986</th>\n",
       "      <td>21</td>\n",
       "      <td>0</td>\n",
       "      <td>0</td>\n",
       "      <td>21</td>\n",
       "      <td>37.08</td>\n",
       "    </tr>\n",
       "    <tr>\n",
       "      <th>1987</th>\n",
       "      <td>16</td>\n",
       "      <td>0</td>\n",
       "      <td>0</td>\n",
       "      <td>16</td>\n",
       "      <td>21.70</td>\n",
       "    </tr>\n",
       "    <tr>\n",
       "      <th>1988</th>\n",
       "      <td>15</td>\n",
       "      <td>1</td>\n",
       "      <td>1</td>\n",
       "      <td>15</td>\n",
       "      <td>47.21</td>\n",
       "    </tr>\n",
       "    <tr>\n",
       "      <th>1989</th>\n",
       "      <td>17</td>\n",
       "      <td>0</td>\n",
       "      <td>0</td>\n",
       "      <td>17</td>\n",
       "      <td>73.45</td>\n",
       "    </tr>\n",
       "    <tr>\n",
       "      <th>1990</th>\n",
       "      <td>16</td>\n",
       "      <td>0</td>\n",
       "      <td>0</td>\n",
       "      <td>16</td>\n",
       "      <td>49.37</td>\n",
       "    </tr>\n",
       "    <tr>\n",
       "      <th>1991</th>\n",
       "      <td>41</td>\n",
       "      <td>0</td>\n",
       "      <td>0</td>\n",
       "      <td>41</td>\n",
       "      <td>32.23</td>\n",
       "    </tr>\n",
       "    <tr>\n",
       "      <th>1992</th>\n",
       "      <td>43</td>\n",
       "      <td>1</td>\n",
       "      <td>1</td>\n",
       "      <td>43</td>\n",
       "      <td>76.16</td>\n",
       "    </tr>\n",
       "    <tr>\n",
       "      <th>1993</th>\n",
       "      <td>60</td>\n",
       "      <td>0</td>\n",
       "      <td>0</td>\n",
       "      <td>60</td>\n",
       "      <td>45.99</td>\n",
       "    </tr>\n",
       "    <tr>\n",
       "      <th>1994</th>\n",
       "      <td>121</td>\n",
       "      <td>1</td>\n",
       "      <td>1</td>\n",
       "      <td>121</td>\n",
       "      <td>79.23</td>\n",
       "    </tr>\n",
       "    <tr>\n",
       "      <th>1995</th>\n",
       "      <td>219</td>\n",
       "      <td>0</td>\n",
       "      <td>0</td>\n",
       "      <td>219</td>\n",
       "      <td>88.12</td>\n",
       "    </tr>\n",
       "    <tr>\n",
       "      <th>1996</th>\n",
       "      <td>263</td>\n",
       "      <td>8</td>\n",
       "      <td>8</td>\n",
       "      <td>263</td>\n",
       "      <td>199.15</td>\n",
       "    </tr>\n",
       "    <tr>\n",
       "      <th>1997</th>\n",
       "      <td>289</td>\n",
       "      <td>17</td>\n",
       "      <td>18</td>\n",
       "      <td>289</td>\n",
       "      <td>201.07</td>\n",
       "    </tr>\n",
       "    <tr>\n",
       "      <th>1998</th>\n",
       "      <td>379</td>\n",
       "      <td>28</td>\n",
       "      <td>31</td>\n",
       "      <td>379</td>\n",
       "      <td>256.31</td>\n",
       "    </tr>\n",
       "    <tr>\n",
       "      <th>1999</th>\n",
       "      <td>338</td>\n",
       "      <td>39</td>\n",
       "      <td>31</td>\n",
       "      <td>338</td>\n",
       "      <td>251.11</td>\n",
       "    </tr>\n",
       "    <tr>\n",
       "      <th>2000</th>\n",
       "      <td>350</td>\n",
       "      <td>143</td>\n",
       "      <td>107</td>\n",
       "      <td>350</td>\n",
       "      <td>201.66</td>\n",
       "    </tr>\n",
       "    <tr>\n",
       "      <th>2001</th>\n",
       "      <td>482</td>\n",
       "      <td>326</td>\n",
       "      <td>257</td>\n",
       "      <td>482</td>\n",
       "      <td>331.46</td>\n",
       "    </tr>\n",
       "    <tr>\n",
       "      <th>2002</th>\n",
       "      <td>829</td>\n",
       "      <td>627</td>\n",
       "      <td>464</td>\n",
       "      <td>829</td>\n",
       "      <td>394.97</td>\n",
       "    </tr>\n",
       "    <tr>\n",
       "      <th>2003</th>\n",
       "      <td>775</td>\n",
       "      <td>585</td>\n",
       "      <td>516</td>\n",
       "      <td>775</td>\n",
       "      <td>357.54</td>\n",
       "    </tr>\n",
       "    <tr>\n",
       "      <th>2004</th>\n",
       "      <td>762</td>\n",
       "      <td>561</td>\n",
       "      <td>489</td>\n",
       "      <td>762</td>\n",
       "      <td>418.68</td>\n",
       "    </tr>\n",
       "    <tr>\n",
       "      <th>2005</th>\n",
       "      <td>939</td>\n",
       "      <td>655</td>\n",
       "      <td>583</td>\n",
       "      <td>939</td>\n",
       "      <td>457.82</td>\n",
       "    </tr>\n",
       "    <tr>\n",
       "      <th>2006</th>\n",
       "      <td>1006</td>\n",
       "      <td>620</td>\n",
       "      <td>552</td>\n",
       "      <td>1006</td>\n",
       "      <td>517.71</td>\n",
       "    </tr>\n",
       "    <tr>\n",
       "      <th>2007</th>\n",
       "      <td>1197</td>\n",
       "      <td>692</td>\n",
       "      <td>629</td>\n",
       "      <td>1197</td>\n",
       "      <td>604.75</td>\n",
       "    </tr>\n",
       "    <tr>\n",
       "      <th>2008</th>\n",
       "      <td>1427</td>\n",
       "      <td>715</td>\n",
       "      <td>661</td>\n",
       "      <td>1427</td>\n",
       "      <td>671.50</td>\n",
       "    </tr>\n",
       "    <tr>\n",
       "      <th>2009</th>\n",
       "      <td>1426</td>\n",
       "      <td>651</td>\n",
       "      <td>614</td>\n",
       "      <td>1426</td>\n",
       "      <td>658.82</td>\n",
       "    </tr>\n",
       "    <tr>\n",
       "      <th>2010</th>\n",
       "      <td>1255</td>\n",
       "      <td>500</td>\n",
       "      <td>467</td>\n",
       "      <td>1255</td>\n",
       "      <td>590.13</td>\n",
       "    </tr>\n",
       "    <tr>\n",
       "      <th>2011</th>\n",
       "      <td>1136</td>\n",
       "      <td>500</td>\n",
       "      <td>501</td>\n",
       "      <td>1136</td>\n",
       "      <td>507.58</td>\n",
       "    </tr>\n",
       "    <tr>\n",
       "      <th>2012</th>\n",
       "      <td>652</td>\n",
       "      <td>320</td>\n",
       "      <td>338</td>\n",
       "      <td>652</td>\n",
       "      <td>355.83</td>\n",
       "    </tr>\n",
       "    <tr>\n",
       "      <th>2013</th>\n",
       "      <td>544</td>\n",
       "      <td>273</td>\n",
       "      <td>304</td>\n",
       "      <td>544</td>\n",
       "      <td>361.24</td>\n",
       "    </tr>\n",
       "    <tr>\n",
       "      <th>2014</th>\n",
       "      <td>581</td>\n",
       "      <td>261</td>\n",
       "      <td>329</td>\n",
       "      <td>581</td>\n",
       "      <td>331.53</td>\n",
       "    </tr>\n",
       "    <tr>\n",
       "      <th>2015</th>\n",
       "      <td>606</td>\n",
       "      <td>225</td>\n",
       "      <td>297</td>\n",
       "      <td>606</td>\n",
       "      <td>267.98</td>\n",
       "    </tr>\n",
       "    <tr>\n",
       "      <th>2016</th>\n",
       "      <td>502</td>\n",
       "      <td>232</td>\n",
       "      <td>262</td>\n",
       "      <td>502</td>\n",
       "      <td>129.94</td>\n",
       "    </tr>\n",
       "  </tbody>\n",
       "</table>\n",
       "</div>"
      ],
      "text/plain": [
       "                 name  critic_score  user_score  rating  total_sales\n",
       "year_of_release                                                     \n",
       "1980                9             0           0       9        11.38\n",
       "1981               46             0           0      46        35.68\n",
       "1982               36             0           0      36        28.88\n",
       "1983               17             0           0      17        16.80\n",
       "1984               14             0           0      14        50.35\n",
       "1985               14             1           1      14        53.95\n",
       "1986               21             0           0      21        37.08\n",
       "1987               16             0           0      16        21.70\n",
       "1988               15             1           1      15        47.21\n",
       "1989               17             0           0      17        73.45\n",
       "1990               16             0           0      16        49.37\n",
       "1991               41             0           0      41        32.23\n",
       "1992               43             1           1      43        76.16\n",
       "1993               60             0           0      60        45.99\n",
       "1994              121             1           1     121        79.23\n",
       "1995              219             0           0     219        88.12\n",
       "1996              263             8           8     263       199.15\n",
       "1997              289            17          18     289       201.07\n",
       "1998              379            28          31     379       256.31\n",
       "1999              338            39          31     338       251.11\n",
       "2000              350           143         107     350       201.66\n",
       "2001              482           326         257     482       331.46\n",
       "2002              829           627         464     829       394.97\n",
       "2003              775           585         516     775       357.54\n",
       "2004              762           561         489     762       418.68\n",
       "2005              939           655         583     939       457.82\n",
       "2006             1006           620         552    1006       517.71\n",
       "2007             1197           692         629    1197       604.75\n",
       "2008             1427           715         661    1427       671.50\n",
       "2009             1426           651         614    1426       658.82\n",
       "2010             1255           500         467    1255       590.13\n",
       "2011             1136           500         501    1136       507.58\n",
       "2012              652           320         338     652       355.83\n",
       "2013              544           273         304     544       361.24\n",
       "2014              581           261         329     581       331.53\n",
       "2015              606           225         297     606       267.98\n",
       "2016              502           232         262     502       129.94"
      ]
     },
     "execution_count": 17,
     "metadata": {},
     "output_type": "execute_result"
    }
   ],
   "source": [
    "data.groupby('year_of_release')[['name', 'critic_score', 'user_score', 'rating']].count().merge(\n",
    "    data.groupby('year_of_release')['total_sales'].sum(), how = 'right', on = 'year_of_release')"
   ]
  },
  {
   "cell_type": "code",
   "execution_count": 18,
   "metadata": {},
   "outputs": [
    {
     "data": {
      "image/png": "[encoded data removed]",
      "text/plain": [
       "<Figure size 432x288 with 1 Axes>"
      ]
     },
     "metadata": {
      "needs_background": "light"
     },
     "output_type": "display_data"
    }
   ],
   "source": [
    "data.groupby('year_of_release')['name'].count().plot(legend = True);\n",
    "data.groupby('year_of_release')['total_sales'].sum().plot(legend = True);"
   ]
  },
  {
   "cell_type": "markdown",
   "metadata": {},
   "source": [
    "По таблице и графикам видно, что до 1995 года и количество игр, и сумма продаж были небольшими. Потом идет плавный (1995-2000), затем резкий (2000-2007) рост обоих показателей, пик около 2007-2008 годов, а потом спад к уровню 2000-2001. \n",
    "Данные до 1995 года не представляют интереса, так как оба показателя там пренебрежимо малы. Это уже не говоря о том, что мир, в целом, и мир компьютерных игр, в особенности, был тогда совсем другим."
   ]
  },
  {
   "cell_type": "code",
   "execution_count": 19,
   "metadata": {},
   "outputs": [],
   "source": [
    "data_rel_rec = data[data['year_of_release']>1995] #rel_rec это relatively recent"
   ]
  },
  {
   "cell_type": "code",
   "execution_count": 20,
   "metadata": {},
   "outputs": [
    {
     "name": "stdout",
     "output_type": "stream",
     "text": [
      "<class 'pandas.core.frame.DataFrame'>\n",
      "Int64Index: 15738 entries, 0 to 16442\n",
      "Data columns (total 12 columns):\n",
      " #   Column           Non-Null Count  Dtype  \n",
      "---  ------           --------------  -----  \n",
      " 0   name             15738 non-null  object \n",
      " 1   platform         15738 non-null  object \n",
      " 2   year_of_release  15738 non-null  int64  \n",
      " 3   genre            15738 non-null  object \n",
      " 4   na_sales         15738 non-null  float64\n",
      " 5   eu_sales         15738 non-null  float64\n",
      " 6   jp_sales         15738 non-null  float64\n",
      " 7   other_sales      15738 non-null  float64\n",
      " 8   critic_score     7978 non-null   float64\n",
      " 9   user_score       7458 non-null   float64\n",
      " 10  rating           15738 non-null  object \n",
      " 11  total_sales      15738 non-null  float64\n",
      "dtypes: float64(7), int64(1), object(4)\n",
      "memory usage: 1.6+ MB\n"
     ]
    }
   ],
   "source": [
    "data_rel_rec.info()"
   ]
  },
  {
   "cell_type": "markdown",
   "metadata": {},
   "source": [
    "Посмотрим теперь, как распределены продажи по платформам."
   ]
  },
  {
   "cell_type": "code",
   "execution_count": 21,
   "metadata": {},
   "outputs": [
    {
     "data": {
      "text/plain": [
       "platform\n",
       "PS2     1233.56\n",
       "X360     961.24\n",
       "PS3      931.33\n",
       "Wii      891.18\n",
       "DS       802.76\n",
       "PS       685.59\n",
       "PS4      314.14\n",
       "GBA      312.88\n",
       "PSP      289.53\n",
       "3DS      257.81\n",
       "XB       251.57\n",
       "PC       235.57\n",
       "N64      218.01\n",
       "GC       196.73\n",
       "XOne     159.32\n",
       "GB       136.30\n",
       "WiiU      82.19\n",
       "PSV       53.81\n",
       "SAT       18.37\n",
       "SNES      17.39\n",
       "DC        15.95\n",
       "WS         1.42\n",
       "NG         0.10\n",
       "PCFX       0.03\n",
       "Name: total_sales, dtype: float64"
      ]
     },
     "execution_count": 21,
     "metadata": {},
     "output_type": "execute_result"
    }
   ],
   "source": [
    "data_rel_rec.groupby('platform')['total_sales'].sum().sort_values(ascending = False)"
   ]
  },
  {
   "cell_type": "markdown",
   "metadata": {},
   "source": [
    "Очевидно, не все платформы одинаково популярны. Посмотрим, как эта популярность менялась по годам для 5 самых популярных платформ."
   ]
  },
  {
   "cell_type": "code",
   "execution_count": 22,
   "metadata": {},
   "outputs": [
    {
     "data": {
      "image/png": "[encoded data removed]",
      "text/plain": [
       "<Figure size 1296x648 with 1 Axes>"
      ]
     },
     "metadata": {
      "needs_background": "light"
     },
     "output_type": "display_data"
    }
   ],
   "source": [
    "data_rel_rec[data_rel_rec['platform']=='PS2'].groupby('year_of_release')['total_sales'].sum().plot(figsize = (18,9),\n",
    "    label = 'PS2', ylabel ='total_sales', legend = True);\n",
    "data_rel_rec[data_rel_rec['platform']=='X360'].groupby('year_of_release')['total_sales'].sum().plot( \n",
    "    label = 'X360', ylabel ='total_sales', legend = True);\n",
    "data_rel_rec[data_rel_rec['platform']=='PS3'].groupby('year_of_release')['total_sales'].sum().plot( \n",
    "    label = 'PS3', ylabel ='total_sales', legend = True);\n",
    "data_rel_rec[data_rel_rec['platform']=='Wii'].groupby('year_of_release')['total_sales'].sum().plot( \n",
    "    label = 'Wii', ylabel ='total_sales', legend = True);\n",
    "data_rel_rec[data_rel_rec['platform']=='DS'].groupby('year_of_release')['total_sales'].sum().plot( \n",
    "    label = 'DS', ylabel ='total_sales', legend = True);"
   ]
  },
  {
   "cell_type": "markdown",
   "metadata": {},
   "source": [
    "Судя по графикам, время жизни платформы - около 10 лет. Причем несколько самых популярных совсем недавно платформ (X360, PS3, Wii) находятся в конце своего жизненного цикла, а самая популярная (PS2) мертва уже 5 лет как."
   ]
  },
  {
   "cell_type": "markdown",
   "metadata": {},
   "source": [
    "Чтобы строить прогнозы на 2017 год, возьмем данные только за <span style=\"color:#59afe1\">последние 3 года</span>, потому что:\n",
    "1. на этом интервале сохраняется тренд на снижение общего количества игр и продаж;\n",
    "2. не будут учтены уже неактуальные платформы."
   ]
  },
  {
   "cell_type": "code",
   "execution_count": 23,
   "metadata": {},
   "outputs": [],
   "source": [
    "data_rec = data[data['year_of_release']>2013].reset_index(drop = True) #rec - recent"
   ]
  },
  {
   "cell_type": "markdown",
   "metadata": {},
   "source": [
    "Построим графики продаж по всем платформам за последние <span style=\"color:#59afe1\">3 года.</span>"
   ]
  },
  {
   "cell_type": "code",
   "execution_count": 24,
   "metadata": {
    "scrolled": true
   },
   "outputs": [
    {
     "data": {
      "text/html": [
       "<div>\n",
       "<style scoped>\n",
       "    .dataframe tbody tr th:only-of-type {\n",
       "        vertical-align: middle;\n",
       "    }\n",
       "\n",
       "    .dataframe tbody tr th {\n",
       "        vertical-align: top;\n",
       "    }\n",
       "\n",
       "    .dataframe thead th {\n",
       "        text-align: right;\n",
       "    }\n",
       "</style>\n",
       "<table border=\"1\" class=\"dataframe\">\n",
       "  <thead>\n",
       "    <tr style=\"text-align: right;\">\n",
       "      <th>platform</th>\n",
       "      <th>3DS</th>\n",
       "      <th>PC</th>\n",
       "      <th>PS3</th>\n",
       "      <th>PS4</th>\n",
       "      <th>PSP</th>\n",
       "      <th>PSV</th>\n",
       "      <th>Wii</th>\n",
       "      <th>WiiU</th>\n",
       "      <th>X360</th>\n",
       "      <th>XOne</th>\n",
       "    </tr>\n",
       "    <tr>\n",
       "      <th>year_of_release</th>\n",
       "      <th></th>\n",
       "      <th></th>\n",
       "      <th></th>\n",
       "      <th></th>\n",
       "      <th></th>\n",
       "      <th></th>\n",
       "      <th></th>\n",
       "      <th></th>\n",
       "      <th></th>\n",
       "      <th></th>\n",
       "    </tr>\n",
       "  </thead>\n",
       "  <tbody>\n",
       "    <tr>\n",
       "      <th>2014</th>\n",
       "      <td>43.76</td>\n",
       "      <td>13.28</td>\n",
       "      <td>47.76</td>\n",
       "      <td>100.00</td>\n",
       "      <td>0.24</td>\n",
       "      <td>11.90</td>\n",
       "      <td>3.75</td>\n",
       "      <td>22.03</td>\n",
       "      <td>34.74</td>\n",
       "      <td>54.07</td>\n",
       "    </tr>\n",
       "    <tr>\n",
       "      <th>2015</th>\n",
       "      <td>27.78</td>\n",
       "      <td>8.52</td>\n",
       "      <td>16.82</td>\n",
       "      <td>118.90</td>\n",
       "      <td>0.12</td>\n",
       "      <td>6.25</td>\n",
       "      <td>1.14</td>\n",
       "      <td>16.35</td>\n",
       "      <td>11.96</td>\n",
       "      <td>60.14</td>\n",
       "    </tr>\n",
       "    <tr>\n",
       "      <th>2016</th>\n",
       "      <td>15.14</td>\n",
       "      <td>5.25</td>\n",
       "      <td>3.60</td>\n",
       "      <td>69.25</td>\n",
       "      <td>NaN</td>\n",
       "      <td>4.25</td>\n",
       "      <td>0.18</td>\n",
       "      <td>4.60</td>\n",
       "      <td>1.52</td>\n",
       "      <td>26.15</td>\n",
       "    </tr>\n",
       "  </tbody>\n",
       "</table>\n",
       "</div>"
      ],
      "text/plain": [
       "platform           3DS     PC    PS3     PS4   PSP    PSV   Wii   WiiU   X360  \\\n",
       "year_of_release                                                                 \n",
       "2014             43.76  13.28  47.76  100.00  0.24  11.90  3.75  22.03  34.74   \n",
       "2015             27.78   8.52  16.82  118.90  0.12   6.25  1.14  16.35  11.96   \n",
       "2016             15.14   5.25   3.60   69.25   NaN   4.25  0.18   4.60   1.52   \n",
       "\n",
       "platform          XOne  \n",
       "year_of_release         \n",
       "2014             54.07  \n",
       "2015             60.14  \n",
       "2016             26.15  "
      ]
     },
     "execution_count": 24,
     "metadata": {},
     "output_type": "execute_result"
    }
   ],
   "source": [
    "data_rec.pivot_table(index = 'year_of_release', columns = 'platform', values = 'total_sales', aggfunc = 'sum')"
   ]
  },
  {
   "cell_type": "code",
   "execution_count": 25,
   "metadata": {},
   "outputs": [
    {
     "data": {
      "image/png": "[encoded data removed]",
      "text/plain": [
       "<Figure size 1296x864 with 1 Axes>"
      ]
     },
     "metadata": {
      "needs_background": "light"
     },
     "output_type": "display_data"
    }
   ],
   "source": [
    "data_rec.pivot_table(index = 'year_of_release', columns = 'platform', values = 'total_sales', aggfunc = 'sum').plot(\n",
    "    figsize = (18,12), alpha = 0.8);\n",
    "plt.xticks([2014, 2015, 2016]);"
   ]
  },
  {
   "cell_type": "markdown",
   "metadata": {},
   "source": [
    "По всем платформам наблюдается снижение, но все равно есть лидеры и есть отстающие. PS4, XOne лидируют, а 3DS хоть и падает, но не так резко, как другие. А вот Wii, PS3 и X360 хоть и имели успех в прошлом, похоже уже устарели.\n",
    "Посмотрим на эти распределения под другим углом, с графиком boxplot."
   ]
  },
  {
   "cell_type": "code",
   "execution_count": 26,
   "metadata": {},
   "outputs": [
    {
     "data": {
      "image/png": "[encoded data removed]",
      "text/plain": [
       "<Figure size 1296x864 with 1 Axes>"
      ]
     },
     "metadata": {
      "needs_background": "light"
     },
     "output_type": "display_data"
    }
   ],
   "source": [
    "plot = data_rec[['platform', 'total_sales']].boxplot(column = 'total_sales', by = 'platform', figsize = (18,12));\n",
    "plt.ylim(0,8);"
   ]
  },
  {
   "cell_type": "markdown",
   "metadata": {},
   "source": [
    "Крупнее нижняя часть:"
   ]
  },
  {
   "cell_type": "code",
   "execution_count": 27,
   "metadata": {},
   "outputs": [
    {
     "data": {
      "text/plain": [
       "(0.0, 1.6)"
      ]
     },
     "execution_count": 27,
     "metadata": {},
     "output_type": "execute_result"
    },
    {
     "data": {
      "image/png": "[encoded data removed]",
      "text/plain": [
       "<Figure size 1296x864 with 1 Axes>"
      ]
     },
     "metadata": {
      "needs_background": "light"
     },
     "output_type": "display_data"
    }
   ],
   "source": [
    "plot = data_rec[['platform', 'total_sales']].boxplot(column = 'total_sales', by = 'platform', figsize = (18,12));\n",
    "plt.ylim(0,1.6)"
   ]
  },
  {
   "cell_type": "markdown",
   "metadata": {},
   "source": [
    "Все платформы объдиняет низкая медиана (не более 0.2 млн) и большое количество выбросов, эти выбросы - бестселлеры. Это значит, что из огромного количества игр лишь немногие \"выстреливают\" и становятся хитами, а большинство так и остается незамеченными широкой публикой. Распределения отличаются у разных платформ: у 3DS, PC, PS3, PSP и PSV 75% квантиль не превышает 0.4 млн, а у обеих Wii и обеих Xбоксов выше 0.5. Можно отметить, что PS4 - последнее детище PlayStation - на этом распределении больше похожа на конкурентов, чем на своих предшественников. Возможно, разработчики что-то изменили в своих подходах."
   ]
  },
  {
   "cell_type": "markdown",
   "metadata": {},
   "source": [
    "Посмотрим, как связаны между собой продажи и отзывы на примере одной популярной платформы - PS4. Сначала оценим влияние оценок критиков."
   ]
  },
  {
   "cell_type": "code",
   "execution_count": 28,
   "metadata": {},
   "outputs": [
    {
     "name": "stdout",
     "output_type": "stream",
     "text": [
      "Корреляция между отзывами критиков и продажами: 0.4\n"
     ]
    },
    {
     "data": {
      "image/png": "[encoded data removed]",
      "text/plain": [
       "<Figure size 864x648 with 1 Axes>"
      ]
     },
     "metadata": {
      "needs_background": "light"
     },
     "output_type": "display_data"
    }
   ],
   "source": [
    "data_rec.query(\"platform == 'PS4'\").plot(kind = 'scatter', x = 'critic_score', y = 'total_sales', \n",
    "                                         alpha=0.6, ylim = (0,1.5), figsize = (12,9))\n",
    "print('Корреляция между отзывами критиков и продажами:', \n",
    "     data_rec.query(\"platform == 'PS4'\")['critic_score'].corr(data_rec['total_sales']).round(2))"
   ]
  },
  {
   "cell_type": "markdown",
   "metadata": {},
   "source": [
    "Есть небольшая положительная корреляция. Теперь посмотрим на влияние оценнок пользователей."
   ]
  },
  {
   "cell_type": "code",
   "execution_count": 29,
   "metadata": {},
   "outputs": [
    {
     "name": "stdout",
     "output_type": "stream",
     "text": [
      "Корреляция между отзывами пользователей и продажами: -0.04\n"
     ]
    },
    {
     "data": {
      "image/png": "[encoded data removed]",
      "text/plain": [
       "<Figure size 864x648 with 1 Axes>"
      ]
     },
     "metadata": {
      "needs_background": "light"
     },
     "output_type": "display_data"
    }
   ],
   "source": [
    "data_rec.query(\"platform == 'PS4'\").plot(kind = 'scatter', x = 'user_score', y = 'total_sales', \n",
    "                                         alpha=0.4, ylim = (0,2), figsize = (12,9))\n",
    "print('Корреляция между отзывами пользователей и продажами:', \n",
    "     data_rec.query(\"platform == 'PS4'\")['user_score'].corr(data_rec['total_sales']).round(2))"
   ]
  },
  {
   "cell_type": "markdown",
   "metadata": {},
   "source": [
    "Корреляция -0.04 означает, что связь настолько слаба, что ее скорее нет. Может быть, дело в платформе: например, у PS4 чрезвычайно успешные рекламные кампании, которые склоняют пользователей покупать игры с низкими рейтингами.\n",
    "А как обстоят дела с этими связями у других платформ? Посчитаем для них коэффициенты корреляции сначала с оценками критиков, а потом с оценками пользователей."
   ]
  },
  {
   "cell_type": "code",
   "execution_count": 30,
   "metadata": {},
   "outputs": [
    {
     "name": "stdout",
     "output_type": "stream",
     "text": [
      "Корреляция между отзывами критиков и продажами у платформы PS4: 0.4\n",
      "Корреляция между отзывами критиков и продажами у платформы 3DS: 0.31\n",
      "Корреляция между отзывами критиков и продажами у платформы XOne: 0.43\n",
      "Корреляция между отзывами критиков и продажами у платформы WiiU: 0.37\n",
      "Корреляция между отзывами критиков и продажами у платформы PS3: 0.45\n",
      "Корреляция между отзывами критиков и продажами у платформы X360: 0.53\n",
      "Корреляция между отзывами критиков и продажами у платформы PC: 0.17\n",
      "Корреляция между отзывами критиков и продажами у платформы Wii: nan\n",
      "Корреляция между отзывами критиков и продажами у платформы PSV: 0.04\n",
      "Корреляция между отзывами критиков и продажами у платформы PSP: nan\n"
     ]
    }
   ],
   "source": [
    "for platform in data_rec['platform'].unique():\n",
    "    print(f'Корреляция между отзывами критиков и продажами у платформы {platform}:', \n",
    "    round(data_rec.query(\"platform == @platform\")['critic_score'].corr(data_rec['total_sales']), 2))"
   ]
  },
  {
   "cell_type": "code",
   "execution_count": 31,
   "metadata": {},
   "outputs": [
    {
     "name": "stdout",
     "output_type": "stream",
     "text": [
      "Корреляция между отзывами пользователей и продажами у платформы PS4: -0.04\n",
      "Корреляция между отзывами пользователей и продажами у платформы 3DS: 0.22\n",
      "Корреляция между отзывами пользователей и продажами у платформы XOne: -0.07\n",
      "Корреляция между отзывами пользователей и продажами у платформы WiiU: 0.41\n",
      "Корреляция между отзывами пользователей и продажами у платформы PS3: -0.17\n",
      "Корреляция между отзывами пользователей и продажами у платформы X360: -0.14\n",
      "Корреляция между отзывами пользователей и продажами у платформы PC: -0.07\n",
      "Корреляция между отзывами пользователей и продажами у платформы Wii: 1.0\n",
      "Корреляция между отзывами пользователей и продажами у платформы PSV: -0.17\n",
      "Корреляция между отзывами пользователей и продажами у платформы PSP: nan\n"
     ]
    }
   ],
   "source": [
    "for platform in data_rec['platform'].unique():\n",
    "    print(f'Корреляция между отзывами пользователей и продажами у платформы {platform}:', \n",
    "    round(data_rec.query(\"platform == @platform\")['user_score'].corr(data_rec['total_sales']),2))"
   ]
  },
  {
   "cell_type": "markdown",
   "metadata": {},
   "source": [
    "Подозрительная корреляция у платформы Wii. Посмотрим на данные, по которым считался этот коэффицент."
   ]
  },
  {
   "cell_type": "code",
   "execution_count": 32,
   "metadata": {},
   "outputs": [
    {
     "data": {
      "text/html": [
       "<div>\n",
       "<style scoped>\n",
       "    .dataframe tbody tr th:only-of-type {\n",
       "        vertical-align: middle;\n",
       "    }\n",
       "\n",
       "    .dataframe tbody tr th {\n",
       "        vertical-align: top;\n",
       "    }\n",
       "\n",
       "    .dataframe thead th {\n",
       "        text-align: right;\n",
       "    }\n",
       "</style>\n",
       "<table border=\"1\" class=\"dataframe\">\n",
       "  <thead>\n",
       "    <tr style=\"text-align: right;\">\n",
       "      <th></th>\n",
       "      <th>name</th>\n",
       "      <th>platform</th>\n",
       "      <th>year_of_release</th>\n",
       "      <th>genre</th>\n",
       "      <th>na_sales</th>\n",
       "      <th>eu_sales</th>\n",
       "      <th>jp_sales</th>\n",
       "      <th>other_sales</th>\n",
       "      <th>critic_score</th>\n",
       "      <th>user_score</th>\n",
       "      <th>rating</th>\n",
       "      <th>total_sales</th>\n",
       "    </tr>\n",
       "  </thead>\n",
       "  <tbody>\n",
       "    <tr>\n",
       "      <th>80</th>\n",
       "      <td>Just Dance 2015</td>\n",
       "      <td>Wii</td>\n",
       "      <td>2014</td>\n",
       "      <td>Misc</td>\n",
       "      <td>0.99</td>\n",
       "      <td>0.85</td>\n",
       "      <td>0.0</td>\n",
       "      <td>0.17</td>\n",
       "      <td>NaN</td>\n",
       "      <td>8.4</td>\n",
       "      <td>E10+</td>\n",
       "      <td>2.01</td>\n",
       "    </tr>\n",
       "    <tr>\n",
       "      <th>175</th>\n",
       "      <td>Just Dance 2016</td>\n",
       "      <td>Wii</td>\n",
       "      <td>2015</td>\n",
       "      <td>Misc</td>\n",
       "      <td>0.41</td>\n",
       "      <td>0.46</td>\n",
       "      <td>0.0</td>\n",
       "      <td>0.08</td>\n",
       "      <td>NaN</td>\n",
       "      <td>NaN</td>\n",
       "      <td>E10+</td>\n",
       "      <td>0.95</td>\n",
       "    </tr>\n",
       "    <tr>\n",
       "      <th>176</th>\n",
       "      <td>Skylanders: Trap Team</td>\n",
       "      <td>Wii</td>\n",
       "      <td>2014</td>\n",
       "      <td>Action</td>\n",
       "      <td>0.41</td>\n",
       "      <td>0.46</td>\n",
       "      <td>0.0</td>\n",
       "      <td>0.08</td>\n",
       "      <td>NaN</td>\n",
       "      <td>NaN</td>\n",
       "      <td>E10+</td>\n",
       "      <td>0.95</td>\n",
       "    </tr>\n",
       "    <tr>\n",
       "      <th>300</th>\n",
       "      <td>FIFA 15</td>\n",
       "      <td>Wii</td>\n",
       "      <td>2014</td>\n",
       "      <td>Sports</td>\n",
       "      <td>0.15</td>\n",
       "      <td>0.37</td>\n",
       "      <td>0.0</td>\n",
       "      <td>0.04</td>\n",
       "      <td>NaN</td>\n",
       "      <td>4.3</td>\n",
       "      <td>E</td>\n",
       "      <td>0.56</td>\n",
       "    </tr>\n",
       "    <tr>\n",
       "      <th>615</th>\n",
       "      <td>How to Train Your Dragon 2</td>\n",
       "      <td>Wii</td>\n",
       "      <td>2014</td>\n",
       "      <td>Adventure</td>\n",
       "      <td>0.04</td>\n",
       "      <td>0.13</td>\n",
       "      <td>0.0</td>\n",
       "      <td>0.01</td>\n",
       "      <td>NaN</td>\n",
       "      <td>NaN</td>\n",
       "      <td>E10+</td>\n",
       "      <td>0.18</td>\n",
       "    </tr>\n",
       "    <tr>\n",
       "      <th>616</th>\n",
       "      <td>Just Dance 2017</td>\n",
       "      <td>Wii</td>\n",
       "      <td>2016</td>\n",
       "      <td>Misc</td>\n",
       "      <td>0.06</td>\n",
       "      <td>0.11</td>\n",
       "      <td>0.0</td>\n",
       "      <td>0.01</td>\n",
       "      <td>NaN</td>\n",
       "      <td>NaN</td>\n",
       "      <td>E10+</td>\n",
       "      <td>0.18</td>\n",
       "    </tr>\n",
       "    <tr>\n",
       "      <th>686</th>\n",
       "      <td>Skylanders: SuperChargers</td>\n",
       "      <td>Wii</td>\n",
       "      <td>2015</td>\n",
       "      <td>Action</td>\n",
       "      <td>0.02</td>\n",
       "      <td>0.12</td>\n",
       "      <td>0.0</td>\n",
       "      <td>0.01</td>\n",
       "      <td>NaN</td>\n",
       "      <td>NaN</td>\n",
       "      <td>Unknown</td>\n",
       "      <td>0.15</td>\n",
       "    </tr>\n",
       "    <tr>\n",
       "      <th>1163</th>\n",
       "      <td>Disney Planes Fire &amp; Rescue</td>\n",
       "      <td>Wii</td>\n",
       "      <td>2014</td>\n",
       "      <td>Action</td>\n",
       "      <td>0.00</td>\n",
       "      <td>0.04</td>\n",
       "      <td>0.0</td>\n",
       "      <td>0.00</td>\n",
       "      <td>NaN</td>\n",
       "      <td>NaN</td>\n",
       "      <td>Unknown</td>\n",
       "      <td>0.04</td>\n",
       "    </tr>\n",
       "    <tr>\n",
       "      <th>1323</th>\n",
       "      <td>Barbie and Her Sisters Puppy Rescue</td>\n",
       "      <td>Wii</td>\n",
       "      <td>2015</td>\n",
       "      <td>Action</td>\n",
       "      <td>0.00</td>\n",
       "      <td>0.03</td>\n",
       "      <td>0.0</td>\n",
       "      <td>0.00</td>\n",
       "      <td>NaN</td>\n",
       "      <td>NaN</td>\n",
       "      <td>E</td>\n",
       "      <td>0.03</td>\n",
       "    </tr>\n",
       "    <tr>\n",
       "      <th>1555</th>\n",
       "      <td>Penguins of Madagascar</td>\n",
       "      <td>Wii</td>\n",
       "      <td>2014</td>\n",
       "      <td>Action</td>\n",
       "      <td>0.00</td>\n",
       "      <td>0.01</td>\n",
       "      <td>0.0</td>\n",
       "      <td>0.00</td>\n",
       "      <td>NaN</td>\n",
       "      <td>NaN</td>\n",
       "      <td>E</td>\n",
       "      <td>0.01</td>\n",
       "    </tr>\n",
       "    <tr>\n",
       "      <th>1587</th>\n",
       "      <td>Monster High: New Ghoul in School</td>\n",
       "      <td>Wii</td>\n",
       "      <td>2015</td>\n",
       "      <td>Action</td>\n",
       "      <td>0.00</td>\n",
       "      <td>0.01</td>\n",
       "      <td>0.0</td>\n",
       "      <td>0.00</td>\n",
       "      <td>NaN</td>\n",
       "      <td>NaN</td>\n",
       "      <td>E</td>\n",
       "      <td>0.01</td>\n",
       "    </tr>\n",
       "  </tbody>\n",
       "</table>\n",
       "</div>"
      ],
      "text/plain": [
       "                                     name platform  year_of_release  \\\n",
       "80                        Just Dance 2015      Wii             2014   \n",
       "175                       Just Dance 2016      Wii             2015   \n",
       "176                 Skylanders: Trap Team      Wii             2014   \n",
       "300                               FIFA 15      Wii             2014   \n",
       "615            How to Train Your Dragon 2      Wii             2014   \n",
       "616                       Just Dance 2017      Wii             2016   \n",
       "686             Skylanders: SuperChargers      Wii             2015   \n",
       "1163          Disney Planes Fire & Rescue      Wii             2014   \n",
       "1323  Barbie and Her Sisters Puppy Rescue      Wii             2015   \n",
       "1555               Penguins of Madagascar      Wii             2014   \n",
       "1587    Monster High: New Ghoul in School      Wii             2015   \n",
       "\n",
       "          genre  na_sales  eu_sales  jp_sales  other_sales  critic_score  \\\n",
       "80         Misc      0.99      0.85       0.0         0.17           NaN   \n",
       "175        Misc      0.41      0.46       0.0         0.08           NaN   \n",
       "176      Action      0.41      0.46       0.0         0.08           NaN   \n",
       "300      Sports      0.15      0.37       0.0         0.04           NaN   \n",
       "615   Adventure      0.04      0.13       0.0         0.01           NaN   \n",
       "616        Misc      0.06      0.11       0.0         0.01           NaN   \n",
       "686      Action      0.02      0.12       0.0         0.01           NaN   \n",
       "1163     Action      0.00      0.04       0.0         0.00           NaN   \n",
       "1323     Action      0.00      0.03       0.0         0.00           NaN   \n",
       "1555     Action      0.00      0.01       0.0         0.00           NaN   \n",
       "1587     Action      0.00      0.01       0.0         0.00           NaN   \n",
       "\n",
       "      user_score   rating  total_sales  \n",
       "80           8.4     E10+         2.01  \n",
       "175          NaN     E10+         0.95  \n",
       "176          NaN     E10+         0.95  \n",
       "300          4.3        E         0.56  \n",
       "615          NaN     E10+         0.18  \n",
       "616          NaN     E10+         0.18  \n",
       "686          NaN  Unknown         0.15  \n",
       "1163         NaN  Unknown         0.04  \n",
       "1323         NaN        E         0.03  \n",
       "1555         NaN        E         0.01  \n",
       "1587         NaN        E         0.01  "
      ]
     },
     "metadata": {},
     "output_type": "display_data"
    }
   ],
   "source": [
    "display(data_rec.query(\"platform == 'Wii'\"))"
   ]
  },
  {
   "cell_type": "markdown",
   "metadata": {},
   "source": [
    "Все понятно: y Wii было всего 11 игр за последние 3 года, а оценки пользователей есть только у 2 из них, отсюда и корреляция 1."
   ]
  },
  {
   "cell_type": "markdown",
   "metadata": {},
   "source": [
    "Похожая ситуация (корреляция с оценками критиков выше, чем с оценками пользователей) наблюдается почти на всех остальных платформах. Единственная платформа со значительной корреляцией с пользовательскими отзывами это WiiU. Можно заметить, что ее \"ящик с усами\" тоже отличается от остальных: имеет меньше выбросов.\n",
    "\n",
    "**Вывод: при построении прогнозов стоит больше опираться на оценки критиков, чем на оценки пользователей.**"
   ]
  },
  {
   "cell_type": "markdown",
   "metadata": {},
   "source": [
    "Рассмотрим влияние жанра на продажи."
   ]
  },
  {
   "cell_type": "code",
   "execution_count": 33,
   "metadata": {},
   "outputs": [
    {
     "data": {
      "text/plain": [
       "genre\n",
       "Action          199.36\n",
       "Shooter         170.94\n",
       "Sports          109.48\n",
       "Role-Playing    101.44\n",
       "Misc             37.55\n",
       "Fighting         28.22\n",
       "Racing           27.52\n",
       "Platform         18.09\n",
       "Adventure        17.55\n",
       "Simulation       13.13\n",
       "Strategy          3.96\n",
       "Puzzle            2.21\n",
       "Name: total_sales, dtype: float64"
      ]
     },
     "execution_count": 33,
     "metadata": {},
     "output_type": "execute_result"
    }
   ],
   "source": [
    "data_rec.groupby('genre')['total_sales'].sum().sort_values(ascending = False)"
   ]
  },
  {
   "cell_type": "markdown",
   "metadata": {},
   "source": [
    "Жанр Action впереди с большим отрывом, за ним следуют Shooter и Sports. \"Гиковые\" Strategy и Puzzle покупают реже всех. Построим графики типа по boxplot жанрам."
   ]
  },
  {
   "cell_type": "code",
   "execution_count": 34,
   "metadata": {
    "scrolled": false
   },
   "outputs": [
    {
     "data": {
      "image/png": "[encoded data removed]",
      "text/plain": [
       "<Figure size 1296x1080 with 1 Axes>"
      ]
     },
     "metadata": {
      "needs_background": "light"
     },
     "output_type": "display_data"
    }
   ],
   "source": [
    "plot = data_rec[['genre', 'total_sales']].boxplot(column = 'total_sales', by = 'genre', figsize = (18,15));\n",
    "plt.ylim(0,5);"
   ]
  },
  {
   "cell_type": "markdown",
   "metadata": {},
   "source": [
    "По этим графикам видно, что жанр Action хоть и самый продающийся, вырывается вперед за счет большого количества выбросов, тогда как Shooter имеет значительно бо'льшую и медиану, и 75% квантиль. Sports в этом смысле занимает промежуточную позицию между лидерами. Итого: Shooter - наиболее надежный жанр."
   ]
  },
  {
   "cell_type": "markdown",
   "metadata": {},
   "source": [
    "**Выводы по исследовательскому анализу:**\n",
    "1. Активное развитие сферы компьютерных игр началось в 1995г. Последние 8 лет наблюдается устойчивое снижение продаж по всем жанрам и платформам. \n",
    "2. Время жизни платформы - около 10 лет. Наиболее актуальные платформы - PS4, XOne, WiiU, 3DS. PC - платформа-долгожитель. \n",
    "3. Мнение критиков имеет большее влияние на продажи, чем мнение пользователей. \n",
    "4. Наиболее успешные жанры - Action, Shooter и Sports, причем Shooter наиболее стабильно приносит высокий доход."
   ]
  },
  {
   "cell_type": "markdown",
   "metadata": {},
   "source": [
    "## Портрет пользователя по регионам."
   ]
  },
  {
   "cell_type": "markdown",
   "metadata": {},
   "source": [
    "Определим для пользователя каждого региона (NA, EU, JP):\n",
    "1. самые популярные платформы (топ-5).\n",
    "2. самые популярные жанры (топ-5).\n",
    "3. влияет ли рейтинг ESRB на продажи в отдельном регионе.\n",
    "\n",
    "Начнем с платформ."
   ]
  },
  {
   "cell_type": "code",
   "execution_count": 35,
   "metadata": {},
   "outputs": [
    {
     "data": {
      "text/html": [
       "<div>\n",
       "<style scoped>\n",
       "    .dataframe tbody tr th:only-of-type {\n",
       "        vertical-align: middle;\n",
       "    }\n",
       "\n",
       "    .dataframe tbody tr th {\n",
       "        vertical-align: top;\n",
       "    }\n",
       "\n",
       "    .dataframe thead th {\n",
       "        text-align: right;\n",
       "    }\n",
       "</style>\n",
       "<table border=\"1\" class=\"dataframe\">\n",
       "  <thead>\n",
       "    <tr style=\"text-align: right;\">\n",
       "      <th></th>\n",
       "      <th>na_sales</th>\n",
       "    </tr>\n",
       "    <tr>\n",
       "      <th>platform</th>\n",
       "      <th></th>\n",
       "    </tr>\n",
       "  </thead>\n",
       "  <tbody>\n",
       "    <tr>\n",
       "      <th>PS4</th>\n",
       "      <td>98.61</td>\n",
       "    </tr>\n",
       "    <tr>\n",
       "      <th>XOne</th>\n",
       "      <td>81.27</td>\n",
       "    </tr>\n",
       "    <tr>\n",
       "      <th>X360</th>\n",
       "      <td>28.30</td>\n",
       "    </tr>\n",
       "    <tr>\n",
       "      <th>3DS</th>\n",
       "      <td>22.64</td>\n",
       "    </tr>\n",
       "    <tr>\n",
       "      <th>PS3</th>\n",
       "      <td>22.05</td>\n",
       "    </tr>\n",
       "  </tbody>\n",
       "</table>\n",
       "</div>"
      ],
      "text/plain": [
       "          na_sales\n",
       "platform          \n",
       "PS4          98.61\n",
       "XOne         81.27\n",
       "X360         28.30\n",
       "3DS          22.64\n",
       "PS3          22.05"
      ]
     },
     "metadata": {},
     "output_type": "display_data"
    },
    {
     "data": {
      "text/html": [
       "<div>\n",
       "<style scoped>\n",
       "    .dataframe tbody tr th:only-of-type {\n",
       "        vertical-align: middle;\n",
       "    }\n",
       "\n",
       "    .dataframe tbody tr th {\n",
       "        vertical-align: top;\n",
       "    }\n",
       "\n",
       "    .dataframe thead th {\n",
       "        text-align: right;\n",
       "    }\n",
       "</style>\n",
       "<table border=\"1\" class=\"dataframe\">\n",
       "  <thead>\n",
       "    <tr style=\"text-align: right;\">\n",
       "      <th></th>\n",
       "      <th>eu_sales</th>\n",
       "    </tr>\n",
       "    <tr>\n",
       "      <th>platform</th>\n",
       "      <th></th>\n",
       "    </tr>\n",
       "  </thead>\n",
       "  <tbody>\n",
       "    <tr>\n",
       "      <th>PS4</th>\n",
       "      <td>130.04</td>\n",
       "    </tr>\n",
       "    <tr>\n",
       "      <th>XOne</th>\n",
       "      <td>46.25</td>\n",
       "    </tr>\n",
       "    <tr>\n",
       "      <th>PS3</th>\n",
       "      <td>25.54</td>\n",
       "    </tr>\n",
       "    <tr>\n",
       "      <th>PC</th>\n",
       "      <td>17.97</td>\n",
       "    </tr>\n",
       "    <tr>\n",
       "      <th>3DS</th>\n",
       "      <td>16.12</td>\n",
       "    </tr>\n",
       "  </tbody>\n",
       "</table>\n",
       "</div>"
      ],
      "text/plain": [
       "          eu_sales\n",
       "platform          \n",
       "PS4         130.04\n",
       "XOne         46.25\n",
       "PS3          25.54\n",
       "PC           17.97\n",
       "3DS          16.12"
      ]
     },
     "metadata": {},
     "output_type": "display_data"
    },
    {
     "data": {
      "text/html": [
       "<div>\n",
       "<style scoped>\n",
       "    .dataframe tbody tr th:only-of-type {\n",
       "        vertical-align: middle;\n",
       "    }\n",
       "\n",
       "    .dataframe tbody tr th {\n",
       "        vertical-align: top;\n",
       "    }\n",
       "\n",
       "    .dataframe thead th {\n",
       "        text-align: right;\n",
       "    }\n",
       "</style>\n",
       "<table border=\"1\" class=\"dataframe\">\n",
       "  <thead>\n",
       "    <tr style=\"text-align: right;\">\n",
       "      <th></th>\n",
       "      <th>jp_sales</th>\n",
       "    </tr>\n",
       "    <tr>\n",
       "      <th>platform</th>\n",
       "      <th></th>\n",
       "    </tr>\n",
       "  </thead>\n",
       "  <tbody>\n",
       "    <tr>\n",
       "      <th>3DS</th>\n",
       "      <td>44.24</td>\n",
       "    </tr>\n",
       "    <tr>\n",
       "      <th>PS4</th>\n",
       "      <td>15.02</td>\n",
       "    </tr>\n",
       "    <tr>\n",
       "      <th>PSV</th>\n",
       "      <td>14.54</td>\n",
       "    </tr>\n",
       "    <tr>\n",
       "      <th>PS3</th>\n",
       "      <td>11.22</td>\n",
       "    </tr>\n",
       "    <tr>\n",
       "      <th>WiiU</th>\n",
       "      <td>7.31</td>\n",
       "    </tr>\n",
       "  </tbody>\n",
       "</table>\n",
       "</div>"
      ],
      "text/plain": [
       "          jp_sales\n",
       "platform          \n",
       "3DS          44.24\n",
       "PS4          15.02\n",
       "PSV          14.54\n",
       "PS3          11.22\n",
       "WiiU          7.31"
      ]
     },
     "metadata": {},
     "output_type": "display_data"
    },
    {
     "name": "stdout",
     "output_type": "stream",
     "text": [
      "Суммарные продажи в na: 284.06\n",
      "Суммарные продажи в eu: 270.68\n",
      "Суммарные продажи в jp: 93.09\n"
     ]
    }
   ],
   "source": [
    "display(data_rec.groupby('platform').agg({'na_sales' : 'sum'}).sort_values(by = 'na_sales', ascending = False).head(5))\n",
    "display(data_rec.groupby('platform').agg({'eu_sales' : 'sum'}).sort_values(by = 'eu_sales', ascending = False).head(5))\n",
    "display(data_rec.groupby('platform').agg({'jp_sales' : 'sum'}).sort_values(by = 'jp_sales', ascending = False).head(5))\n",
    "for region in ['na_sales', 'eu_sales', 'jp_sales']:\n",
    "    print(f'Суммарные продажи в {region[:2]}:', data_rec[region].sum().round(2))"
   ]
  },
  {
   "cell_type": "markdown",
   "metadata": {},
   "source": [
    "В Северной Америке и Европе PS4 и XOne уже опережают своих предшественников, 3DS держится в хвосте. В Японии же 3DS уверенно лидирует, следующие 3 места почти поровну делят представители PlayStation, WiiU замыкает пятерку лидеров, а X360 и XOne даже не попали в топ. Можно заметить, что американский и европейский рынки схожи между собой в гораздо большей степени, чем в сравнении с японским.\n",
    "Американский рынок - самый крупный, японский - самый скромный, общее число продаж в США в 3 раза больше, чем в Японии.\n",
    "\n",
    "Теперь определим топ-5 самых популярных жанров в разных регионах."
   ]
  },
  {
   "cell_type": "code",
   "execution_count": 36,
   "metadata": {},
   "outputs": [
    {
     "data": {
      "text/html": [
       "<div>\n",
       "<style scoped>\n",
       "    .dataframe tbody tr th:only-of-type {\n",
       "        vertical-align: middle;\n",
       "    }\n",
       "\n",
       "    .dataframe tbody tr th {\n",
       "        vertical-align: top;\n",
       "    }\n",
       "\n",
       "    .dataframe thead th {\n",
       "        text-align: right;\n",
       "    }\n",
       "</style>\n",
       "<table border=\"1\" class=\"dataframe\">\n",
       "  <thead>\n",
       "    <tr style=\"text-align: right;\">\n",
       "      <th></th>\n",
       "      <th>na_sales</th>\n",
       "    </tr>\n",
       "    <tr>\n",
       "      <th>genre</th>\n",
       "      <th></th>\n",
       "    </tr>\n",
       "  </thead>\n",
       "  <tbody>\n",
       "    <tr>\n",
       "      <th>Shooter</th>\n",
       "      <td>79.02</td>\n",
       "    </tr>\n",
       "    <tr>\n",
       "      <th>Action</th>\n",
       "      <td>72.53</td>\n",
       "    </tr>\n",
       "    <tr>\n",
       "      <th>Sports</th>\n",
       "      <td>46.13</td>\n",
       "    </tr>\n",
       "    <tr>\n",
       "      <th>Role-Playing</th>\n",
       "      <td>33.47</td>\n",
       "    </tr>\n",
       "    <tr>\n",
       "      <th>Misc</th>\n",
       "      <td>15.05</td>\n",
       "    </tr>\n",
       "  </tbody>\n",
       "</table>\n",
       "</div>"
      ],
      "text/plain": [
       "              na_sales\n",
       "genre                 \n",
       "Shooter          79.02\n",
       "Action           72.53\n",
       "Sports           46.13\n",
       "Role-Playing     33.47\n",
       "Misc             15.05"
      ]
     },
     "metadata": {},
     "output_type": "display_data"
    },
    {
     "data": {
      "text/html": [
       "<div>\n",
       "<style scoped>\n",
       "    .dataframe tbody tr th:only-of-type {\n",
       "        vertical-align: middle;\n",
       "    }\n",
       "\n",
       "    .dataframe tbody tr th {\n",
       "        vertical-align: top;\n",
       "    }\n",
       "\n",
       "    .dataframe thead th {\n",
       "        text-align: right;\n",
       "    }\n",
       "</style>\n",
       "<table border=\"1\" class=\"dataframe\">\n",
       "  <thead>\n",
       "    <tr style=\"text-align: right;\">\n",
       "      <th></th>\n",
       "      <th>eu_sales</th>\n",
       "    </tr>\n",
       "    <tr>\n",
       "      <th>genre</th>\n",
       "      <th></th>\n",
       "    </tr>\n",
       "  </thead>\n",
       "  <tbody>\n",
       "    <tr>\n",
       "      <th>Action</th>\n",
       "      <td>74.68</td>\n",
       "    </tr>\n",
       "    <tr>\n",
       "      <th>Shooter</th>\n",
       "      <td>65.52</td>\n",
       "    </tr>\n",
       "    <tr>\n",
       "      <th>Sports</th>\n",
       "      <td>45.73</td>\n",
       "    </tr>\n",
       "    <tr>\n",
       "      <th>Role-Playing</th>\n",
       "      <td>28.17</td>\n",
       "    </tr>\n",
       "    <tr>\n",
       "      <th>Racing</th>\n",
       "      <td>14.13</td>\n",
       "    </tr>\n",
       "  </tbody>\n",
       "</table>\n",
       "</div>"
      ],
      "text/plain": [
       "              eu_sales\n",
       "genre                 \n",
       "Action           74.68\n",
       "Shooter          65.52\n",
       "Sports           45.73\n",
       "Role-Playing     28.17\n",
       "Racing           14.13"
      ]
     },
     "metadata": {},
     "output_type": "display_data"
    },
    {
     "data": {
      "text/html": [
       "<div>\n",
       "<style scoped>\n",
       "    .dataframe tbody tr th:only-of-type {\n",
       "        vertical-align: middle;\n",
       "    }\n",
       "\n",
       "    .dataframe tbody tr th {\n",
       "        vertical-align: top;\n",
       "    }\n",
       "\n",
       "    .dataframe thead th {\n",
       "        text-align: right;\n",
       "    }\n",
       "</style>\n",
       "<table border=\"1\" class=\"dataframe\">\n",
       "  <thead>\n",
       "    <tr style=\"text-align: right;\">\n",
       "      <th></th>\n",
       "      <th>jp_sales</th>\n",
       "    </tr>\n",
       "    <tr>\n",
       "      <th>genre</th>\n",
       "      <th></th>\n",
       "    </tr>\n",
       "  </thead>\n",
       "  <tbody>\n",
       "    <tr>\n",
       "      <th>Role-Playing</th>\n",
       "      <td>31.16</td>\n",
       "    </tr>\n",
       "    <tr>\n",
       "      <th>Action</th>\n",
       "      <td>29.58</td>\n",
       "    </tr>\n",
       "    <tr>\n",
       "      <th>Fighting</th>\n",
       "      <td>6.37</td>\n",
       "    </tr>\n",
       "    <tr>\n",
       "      <th>Misc</th>\n",
       "      <td>5.61</td>\n",
       "    </tr>\n",
       "    <tr>\n",
       "      <th>Shooter</th>\n",
       "      <td>4.87</td>\n",
       "    </tr>\n",
       "  </tbody>\n",
       "</table>\n",
       "</div>"
      ],
      "text/plain": [
       "              jp_sales\n",
       "genre                 \n",
       "Role-Playing     31.16\n",
       "Action           29.58\n",
       "Fighting          6.37\n",
       "Misc              5.61\n",
       "Shooter           4.87"
      ]
     },
     "metadata": {},
     "output_type": "display_data"
    }
   ],
   "source": [
    "display(data_rec.groupby('genre').agg({'na_sales' : 'sum'}).sort_values(by = 'na_sales', ascending = False).head(5))\n",
    "display(data_rec.groupby('genre').agg({'eu_sales' : 'sum'}).sort_values(by = 'eu_sales', ascending = False).head(5))\n",
    "display(data_rec.groupby('genre').agg({'jp_sales' : 'sum'}).sort_values(by = 'jp_sales', ascending = False).head(5))"
   ]
  },
  {
   "cell_type": "markdown",
   "metadata": {},
   "source": [
    "Снова картины в США и Европе очень похожи: Action, Shooter и Sports уверенно лидируют. В Японии Action отодвинут на второе место RPG, Shooter хоть и присутствует в пятерке, но занимает последнюю строчку, а вот Sports, такой популярный на западе, вовсе не вошел в топ."
   ]
  },
  {
   "cell_type": "markdown",
   "metadata": {},
   "source": [
    "Выясним, влияет ли рейтинг ESRB на продажи в отдельном регионе. Расшифровки рейтингов (взято из интернета):\n",
    "1. **EC**. Для детей младшего возраста. Подходит для детей от 3 лет, неприемлемое содержание отсутствует.\n",
    "2. **E**. Подходит для всех возрастных категорий. Игра не должна содержать звуков или изображений, которые могут напугать маленьких детей. Не должна использоваться ненормативная лексика.\n",
    "3. **E 10+**. Подходит для лиц старше 10 лет. Игра может содержать умеренные формы насилия, а некоторые сцены могут пугать детей.\n",
    "4. **T**. Подходит для лиц старше 13 лет. Игра может содержать более реалистичные и натуралистические сцены насилия.\n",
    "5. **M**. Подходит для лиц старше 17 лет. Этот рейтинг используется, когда насилие становится реалистичным и похожим на реальную жизнь. Также может присутствовать ненормативная лексика, употребление табака, алкоголя или запрещенных наркотиков. \n",
    "6. **AO**. Подходит для взрослых старше 18 лет. Классификация «для взрослых» используется, когда в игре присутствует крайний уровень насилия и немотивированного убийства. Также может присутствовать романтизация наркотиков, азартных игр и сексуальной активности.\n",
    "7. **RP**. Категория ещё не присвоена. Играм с категорией RP еще не присвоен окончательный рейтинг ESRB."
   ]
  },
  {
   "cell_type": "code",
   "execution_count": 37,
   "metadata": {},
   "outputs": [
    {
     "data": {
      "text/html": [
       "<div>\n",
       "<style scoped>\n",
       "    .dataframe tbody tr th:only-of-type {\n",
       "        vertical-align: middle;\n",
       "    }\n",
       "\n",
       "    .dataframe tbody tr th {\n",
       "        vertical-align: top;\n",
       "    }\n",
       "\n",
       "    .dataframe thead th {\n",
       "        text-align: right;\n",
       "    }\n",
       "</style>\n",
       "<table border=\"1\" class=\"dataframe\">\n",
       "  <thead>\n",
       "    <tr style=\"text-align: right;\">\n",
       "      <th></th>\n",
       "      <th>na_sales</th>\n",
       "    </tr>\n",
       "    <tr>\n",
       "      <th>rating</th>\n",
       "      <th></th>\n",
       "    </tr>\n",
       "  </thead>\n",
       "  <tbody>\n",
       "    <tr>\n",
       "      <th>M</th>\n",
       "      <td>96.42</td>\n",
       "    </tr>\n",
       "    <tr>\n",
       "      <th>Unknown</th>\n",
       "      <td>64.72</td>\n",
       "    </tr>\n",
       "    <tr>\n",
       "      <th>E</th>\n",
       "      <td>50.74</td>\n",
       "    </tr>\n",
       "    <tr>\n",
       "      <th>T</th>\n",
       "      <td>38.95</td>\n",
       "    </tr>\n",
       "    <tr>\n",
       "      <th>E10+</th>\n",
       "      <td>33.23</td>\n",
       "    </tr>\n",
       "  </tbody>\n",
       "</table>\n",
       "</div>"
      ],
      "text/plain": [
       "         na_sales\n",
       "rating           \n",
       "M           96.42\n",
       "Unknown     64.72\n",
       "E           50.74\n",
       "T           38.95\n",
       "E10+        33.23"
      ]
     },
     "metadata": {},
     "output_type": "display_data"
    },
    {
     "data": {
      "text/html": [
       "<div>\n",
       "<style scoped>\n",
       "    .dataframe tbody tr th:only-of-type {\n",
       "        vertical-align: middle;\n",
       "    }\n",
       "\n",
       "    .dataframe tbody tr th {\n",
       "        vertical-align: top;\n",
       "    }\n",
       "\n",
       "    .dataframe thead th {\n",
       "        text-align: right;\n",
       "    }\n",
       "</style>\n",
       "<table border=\"1\" class=\"dataframe\">\n",
       "  <thead>\n",
       "    <tr style=\"text-align: right;\">\n",
       "      <th></th>\n",
       "      <th>eu_sales</th>\n",
       "    </tr>\n",
       "    <tr>\n",
       "      <th>rating</th>\n",
       "      <th></th>\n",
       "    </tr>\n",
       "  </thead>\n",
       "  <tbody>\n",
       "    <tr>\n",
       "      <th>M</th>\n",
       "      <td>93.44</td>\n",
       "    </tr>\n",
       "    <tr>\n",
       "      <th>Unknown</th>\n",
       "      <td>58.95</td>\n",
       "    </tr>\n",
       "    <tr>\n",
       "      <th>E</th>\n",
       "      <td>58.06</td>\n",
       "    </tr>\n",
       "    <tr>\n",
       "      <th>T</th>\n",
       "      <td>34.07</td>\n",
       "    </tr>\n",
       "    <tr>\n",
       "      <th>E10+</th>\n",
       "      <td>26.16</td>\n",
       "    </tr>\n",
       "  </tbody>\n",
       "</table>\n",
       "</div>"
      ],
      "text/plain": [
       "         eu_sales\n",
       "rating           \n",
       "M           93.44\n",
       "Unknown     58.95\n",
       "E           58.06\n",
       "T           34.07\n",
       "E10+        26.16"
      ]
     },
     "metadata": {},
     "output_type": "display_data"
    },
    {
     "data": {
      "text/html": [
       "<div>\n",
       "<style scoped>\n",
       "    .dataframe tbody tr th:only-of-type {\n",
       "        vertical-align: middle;\n",
       "    }\n",
       "\n",
       "    .dataframe tbody tr th {\n",
       "        vertical-align: top;\n",
       "    }\n",
       "\n",
       "    .dataframe thead th {\n",
       "        text-align: right;\n",
       "    }\n",
       "</style>\n",
       "<table border=\"1\" class=\"dataframe\">\n",
       "  <thead>\n",
       "    <tr style=\"text-align: right;\">\n",
       "      <th></th>\n",
       "      <th>jp_sales</th>\n",
       "    </tr>\n",
       "    <tr>\n",
       "      <th>rating</th>\n",
       "      <th></th>\n",
       "    </tr>\n",
       "  </thead>\n",
       "  <tbody>\n",
       "    <tr>\n",
       "      <th>Unknown</th>\n",
       "      <td>56.90</td>\n",
       "    </tr>\n",
       "    <tr>\n",
       "      <th>T</th>\n",
       "      <td>14.78</td>\n",
       "    </tr>\n",
       "    <tr>\n",
       "      <th>E</th>\n",
       "      <td>8.94</td>\n",
       "    </tr>\n",
       "    <tr>\n",
       "      <th>M</th>\n",
       "      <td>8.01</td>\n",
       "    </tr>\n",
       "    <tr>\n",
       "      <th>E10+</th>\n",
       "      <td>4.46</td>\n",
       "    </tr>\n",
       "  </tbody>\n",
       "</table>\n",
       "</div>"
      ],
      "text/plain": [
       "         jp_sales\n",
       "rating           \n",
       "Unknown     56.90\n",
       "T           14.78\n",
       "E            8.94\n",
       "M            8.01\n",
       "E10+         4.46"
      ]
     },
     "metadata": {},
     "output_type": "display_data"
    }
   ],
   "source": [
    "display(data_rec.groupby('rating').agg({'na_sales' : 'sum'}).sort_values(by = 'na_sales', ascending = False))\n",
    "display(data_rec.groupby('rating').agg({'eu_sales' : 'sum'}).sort_values(by = 'eu_sales', ascending = False))\n",
    "display(data_rec.groupby('rating').agg({'jp_sales' : 'sum'}).sort_values(by = 'jp_sales', ascending = False))"
   ]
  },
  {
   "cell_type": "markdown",
   "metadata": {},
   "source": [
    "На западных рынках распределения абсолютно одинаковы: на первом месте М, то есть 17+, что, возможно, объясняется жанровыми предпочтениями (Shooter, следовательно, убийства, следовательно, насилие). В Японии на первом месте Unknown, что связано с тем, что ESRB не имеет там большого влияния. Игры с рейтином М в Японии далеко не так популярны, как в западных странах."
   ]
  },
  {
   "cell_type": "markdown",
   "metadata": {},
   "source": [
    "**Вывод по регионам: предпочтения пользователей США и Европы схожи: по платформам (PS4, XOne), жанрам (Action, Shooter) и возрастным рейтингам (M) распределения очень близки. Япония отличается: там популярна 3DS, жанр RPG, а про возрастные рейтинги сложно что-то сказать без дополнительных данных.**"
   ]
  },
  {
   "cell_type": "markdown",
   "metadata": {},
   "source": [
    "## Проверка гипотез."
   ]
  },
  {
   "cell_type": "markdown",
   "metadata": {},
   "source": [
    "Гипотеза номер один: средние пользовательские рейтинги платформ Xbox One и PC одинаковые. То есть среднее значение пользователького рейтинга на распределениях Xbox One и PC **равны**. Это утверждение и примем за нулевую гипотезу. Альтернативной тогда будет \"среднее значение пользователького рейтинга на распределениях Xbox One и PC **неравны**\".\n",
    "\n",
    "Будем использовать метод scipy.stats.ttest_ind (array1, array2, equal_var), т.к. он специально предназначен для сравнения средних значений двух множеств. Критерий: уровень статистической значимости не ниже заданного - 0.05."
   ]
  },
  {
   "cell_type": "code",
   "execution_count": 38,
   "metadata": {},
   "outputs": [
    {
     "name": "stdout",
     "output_type": "stream",
     "text": [
      "Результат сравнения средних по platform: XOne и PC\n",
      "Уровень статистической значимости равен 0.10450507919348415\n",
      "Не удалось опровергнуть нулевую гипотезу\n",
      "Среднее по XOne равно 6.59\n",
      "Среднее по PC равно 6.3\n"
     ]
    }
   ],
   "source": [
    "alpha = 0.05\n",
    "\n",
    "#запишем все детали в переменные в \"шапке\", чтобы потом менять только ее\n",
    "\n",
    "category_of_interest = 'platform'\n",
    "compare_list = ['XOne', 'PC'] \n",
    "value_of_interest = 'user_score'\n",
    "\n",
    "result = st.ttest_ind (data_rec[data_rec[category_of_interest] == compare_list[0]][value_of_interest].dropna(), \n",
    "                       data_rec[data_rec[category_of_interest] == compare_list[1]][value_of_interest].dropna())\n",
    "\n",
    "print(f'Результат сравнения средних по {category_of_interest}: {compare_list[0]} и {compare_list[1]}')\n",
    "print(f'Уровень статистической значимости равен {result[1]}')\n",
    "if result[1] < alpha:\n",
    "    print('Опровергаем нулевую гипотезу')\n",
    "else:\n",
    "    print('Не удалось опровергнуть нулевую гипотезу')\n",
    "\n",
    "for platform in compare_list:\n",
    "    print(f'Среднее по {platform} равно', \n",
    "          data_rec[data_rec[category_of_interest] == platform][value_of_interest].mean().round(2))"
   ]
  },
  {
   "cell_type": "code",
   "execution_count": 39,
   "metadata": {},
   "outputs": [
    {
     "data": {
      "image/png": "[encoded data removed]",
      "text/plain": [
       "<Figure size 432x288 with 1 Axes>"
      ]
     },
     "metadata": {
      "needs_background": "light"
     },
     "output_type": "display_data"
    }
   ],
   "source": [
    "data_rec[data_rec['platform'] == 'XOne']['user_score'].hist(bins = 70, label = 'XOne');\n",
    "data_rec[data_rec['platform'] == 'PC']['user_score'].hist(bins = 70, alpha = 0.5, label = 'PC');\n",
    "plt.legend();"
   ]
  },
  {
   "cell_type": "markdown",
   "metadata": {},
   "source": [
    "Действительно, средние значения довольно близки. Повторим этот процесс для второй гипотезы."
   ]
  },
  {
   "cell_type": "markdown",
   "metadata": {},
   "source": [
    "Гипотеза номер два: средние пользовательские рейтинги жанров Action и Sports разные. Нулевая гипотеза должна быть про равенство, поэтому здесь она будет противоположна исходному утверждению: \"средние пользовательские рейтинги жанров Action и Sports **равны**\". Соответственно, альтернативная гипотеза будет \"средние пользовательские рейтинги жанров Action и Sports **неравны**\""
   ]
  },
  {
   "cell_type": "code",
   "execution_count": 40,
   "metadata": {},
   "outputs": [
    {
     "name": "stdout",
     "output_type": "stream",
     "text": [
      "Результат сравнения средних по genre: Action и Sports\n",
      "Уровень статистической значимости равен 2.8711147985105864e-19\n",
      "Опровергаем нулевую гипотезу\n",
      "Среднее по Action равно 6.76\n",
      "Среднее по Sports равно 5.23\n"
     ]
    }
   ],
   "source": [
    "alpha = 0.05\n",
    "category_of_interest = 'genre'\n",
    "compare_list = ['Action', 'Sports'] \n",
    "value_of_interest = 'user_score'\n",
    "\n",
    "result = st.ttest_ind (data_rec[data_rec[category_of_interest] == compare_list[0]][value_of_interest].dropna(), \n",
    "                       data_rec[data_rec[category_of_interest] == compare_list[1]][value_of_interest].dropna())\n",
    "\n",
    "print(f'Результат сравнения средних по {category_of_interest}: {compare_list[0]} и {compare_list[1]}')\n",
    "print(f'Уровень статистической значимости равен {result[1]}')\n",
    "if result[1] < alpha:\n",
    "    print('Опровергаем нулевую гипотезу')\n",
    "else:\n",
    "    print('Не удалось опровергнуть нулевую гипотезу')\n",
    "\n",
    "for platform in compare_list:\n",
    "    print(f'Среднее по {platform} равно', \n",
    "          data_rec[data_rec[category_of_interest] == platform][value_of_interest].mean().round(2))"
   ]
  },
  {
   "cell_type": "code",
   "execution_count": 41,
   "metadata": {},
   "outputs": [
    {
     "data": {
      "image/png": "[encoded data removed]",
      "text/plain": [
       "<Figure size 432x288 with 1 Axes>"
      ]
     },
     "metadata": {
      "needs_background": "light"
     },
     "output_type": "display_data"
    }
   ],
   "source": [
    "data_rec[data_rec['genre'] == 'Action']['user_score'].hist(bins = 70, label = 'Action');\n",
    "data_rec[data_rec['genre'] == 'Sports']['user_score'].hist(bins = 70, label = 'Sports');\n",
    "plt.legend();"
   ]
  },
  {
   "cell_type": "markdown",
   "metadata": {},
   "source": [
    "Различия между средними достаточно, чтобы опровергнуть нулевую гипотезу, а значит склониться в пользу исходного утверждения."
   ]
  },
  {
   "cell_type": "markdown",
   "metadata": {},
   "source": [
    "**Вывод по гипотезам: гипотеза \"средние пользовательские рейтинги платформ Xbox One и PC одинаковые\" не опровергнута; гипотеза \"средние пользовательские рейтинги жанров Action и Sports разные\" не опровергнута.**"
   ]
  },
  {
   "cell_type": "markdown",
   "metadata": {},
   "source": [
    "## **Общий вывод**"
   ]
  },
  {
   "cell_type": "markdown",
   "metadata": {},
   "source": [
    "В проекте были рассмотрены данные по компьютерным играм с 1980 по 2016 годы.\n",
    "В данных имелись пропуски: незначительное количество в годах выпуска и названиях и значительное - в оценках критиков и пользователей, особенно в старых играх, выпущенных до 1995г. Пропуски могли быть вызваны как техническими проблемами, так и человеческим фактором.\n",
    "\n",
    "Сделано следующее:\n",
    "1. Выполнена предобработка данных, в рамках которой были удалены строки с пропусками в названиях и годах, преобразованы типы данных некоторых столбцов, пропуски в рейтинге ESRB заменены на \"Unknown\". Был добавлен новый столбец с суммарными продажам.\n",
    "2. Проведен исследовательский анализ данных. Выявлено, что рынок компьютерных игр активно развивался с 1995г, имел расцвет в 2007-2008 гг, после чего пошел на спад. За исключением PC платформы продаются в течение около 10 лет. Для дальнейшего анализа были взяты данные только с 2009г, это позволило не рассматривать уже устаревшие платформы и учесть тренд на снижение. X360 и PS3 были чрезвыйчайно популярны, но их время на исходе. **Наиболее перспективные платформы - PS4, XOne, WiiU, из портативных - 3DS (особенно в Японии). Оценки критиков положительно коррелируют с продажами.** \n",
    "3. Изучены различия предпочтений пользователей по регионам: американский и европейский рынки схожи настолько, что их можно объединить в один, вкусы японцев отличаются. **Наиболее популярные жанры на самом крупном (западном) рынке - Action, Shooter, Sports, возрастной рейтинг - М. В Японии популярен жанр RPG.**\n",
    "4. Были проверены  и не опровергнуты две гипотезы: \"средние пользовательские рейтинги платформ Xbox One и PC одинаковые\" и \"средние пользовательские рейтинги жанров Action и Sports разные\"\n",
    "\n",
    "В данных могла бы быть полезна дополнительная информация, например, не только количество продаж, но и суммы (в $) выручки. Так можно было бы учесть внутриигровые покупки у условно бесплатных, тем не менее крайне популярных игр (CS:GO, Dota). \n",
    "Также хотелось бы располагать не только американскими рейтингами ESRB, а еще и, например, CERO и PEGI."
   ]
  }
 ],
 "metadata": {
  "ExecuteTimeLog": [
   {
    "duration": 434,
    "start_time": "2023-04-10T10:52:20.368Z"
   },
   {
    "duration": 134,
    "start_time": "2023-04-10T10:53:13.972Z"
   },
   {
    "duration": 15,
    "start_time": "2023-04-10T10:53:30.802Z"
   },
   {
    "duration": 80,
    "start_time": "2023-04-10T11:06:37.668Z"
   },
   {
    "duration": 7,
    "start_time": "2023-04-10T11:06:42.099Z"
   },
   {
    "duration": 8,
    "start_time": "2023-04-10T11:11:04.300Z"
   },
   {
    "duration": 6,
    "start_time": "2023-04-10T11:11:13.578Z"
   },
   {
    "duration": 8,
    "start_time": "2023-04-10T11:26:46.682Z"
   },
   {
    "duration": 17,
    "start_time": "2023-04-10T11:26:53.383Z"
   },
   {
    "duration": 63,
    "start_time": "2023-04-10T11:27:07.999Z"
   },
   {
    "duration": 13,
    "start_time": "2023-04-10T11:27:09.377Z"
   },
   {
    "duration": 11,
    "start_time": "2023-04-10T11:28:26.342Z"
   },
   {
    "duration": 13,
    "start_time": "2023-04-10T11:28:27.343Z"
   },
   {
    "duration": 16,
    "start_time": "2023-04-10T11:29:36.558Z"
   },
   {
    "duration": 8,
    "start_time": "2023-04-10T11:29:56.150Z"
   },
   {
    "duration": 8,
    "start_time": "2023-04-10T11:30:06.517Z"
   },
   {
    "duration": 13,
    "start_time": "2023-04-10T11:30:12.149Z"
   },
   {
    "duration": 14,
    "start_time": "2023-04-10T11:30:13.671Z"
   },
   {
    "duration": 4,
    "start_time": "2023-04-10T11:33:00.609Z"
   },
   {
    "duration": 86,
    "start_time": "2023-04-10T11:33:00.615Z"
   },
   {
    "duration": 20,
    "start_time": "2023-04-10T11:33:00.703Z"
   },
   {
    "duration": 15,
    "start_time": "2023-04-10T11:33:00.726Z"
   },
   {
    "duration": 67,
    "start_time": "2023-04-10T11:33:00.743Z"
   },
   {
    "duration": 46,
    "start_time": "2023-04-10T11:33:00.812Z"
   },
   {
    "duration": 20,
    "start_time": "2023-04-10T11:33:21.235Z"
   },
   {
    "duration": 18,
    "start_time": "2023-04-10T11:33:27.179Z"
   },
   {
    "duration": 13,
    "start_time": "2023-04-10T11:33:36.747Z"
   },
   {
    "duration": 13,
    "start_time": "2023-04-10T11:35:18.339Z"
   },
   {
    "duration": 22,
    "start_time": "2023-04-10T11:35:20.802Z"
   },
   {
    "duration": 4,
    "start_time": "2023-04-10T11:35:28.141Z"
   },
   {
    "duration": 75,
    "start_time": "2023-04-10T11:35:28.147Z"
   },
   {
    "duration": 16,
    "start_time": "2023-04-10T11:35:28.224Z"
   },
   {
    "duration": 7,
    "start_time": "2023-04-10T11:35:28.243Z"
   },
   {
    "duration": 8,
    "start_time": "2023-04-10T11:35:28.253Z"
   },
   {
    "duration": 16,
    "start_time": "2023-04-10T11:35:28.286Z"
   },
   {
    "duration": 3,
    "start_time": "2023-04-10T11:35:37.442Z"
   },
   {
    "duration": 3,
    "start_time": "2023-04-10T11:35:41.898Z"
   },
   {
    "duration": 15,
    "start_time": "2023-04-10T11:35:44.553Z"
   },
   {
    "duration": 6,
    "start_time": "2023-04-10T11:36:18.465Z"
   },
   {
    "duration": 15,
    "start_time": "2023-04-10T11:36:19.321Z"
   },
   {
    "duration": 15,
    "start_time": "2023-04-10T11:36:36.656Z"
   },
   {
    "duration": 17,
    "start_time": "2023-04-10T11:36:37.520Z"
   },
   {
    "duration": 4,
    "start_time": "2023-04-10T11:37:19.769Z"
   },
   {
    "duration": 16,
    "start_time": "2023-04-10T11:37:20.864Z"
   },
   {
    "duration": 1397,
    "start_time": "2023-04-10T11:39:47.959Z"
   },
   {
    "duration": 5648,
    "start_time": "2023-04-10T11:40:04.720Z"
   },
   {
    "duration": 2210,
    "start_time": "2023-04-10T11:40:20.038Z"
   },
   {
    "duration": 1447,
    "start_time": "2023-04-10T11:40:43.791Z"
   },
   {
    "duration": 7,
    "start_time": "2023-04-10T11:40:59.382Z"
   },
   {
    "duration": 13,
    "start_time": "2023-04-10T11:41:07.134Z"
   },
   {
    "duration": 8,
    "start_time": "2023-04-10T11:41:29.782Z"
   },
   {
    "duration": 22,
    "start_time": "2023-04-10T11:42:54.469Z"
   },
   {
    "duration": 23,
    "start_time": "2023-04-10T11:43:31.766Z"
   },
   {
    "duration": 10,
    "start_time": "2023-04-10T11:46:48.468Z"
   },
   {
    "duration": 2,
    "start_time": "2023-04-10T11:47:00.525Z"
   },
   {
    "duration": 94,
    "start_time": "2023-04-10T11:47:00.529Z"
   },
   {
    "duration": 16,
    "start_time": "2023-04-10T11:47:00.625Z"
   },
   {
    "duration": 28,
    "start_time": "2023-04-10T11:47:00.643Z"
   },
   {
    "duration": 0,
    "start_time": "2023-04-10T11:47:00.673Z"
   },
   {
    "duration": 0,
    "start_time": "2023-04-10T11:47:00.675Z"
   },
   {
    "duration": 0,
    "start_time": "2023-04-10T11:47:00.676Z"
   },
   {
    "duration": 9,
    "start_time": "2023-04-10T11:47:31.075Z"
   },
   {
    "duration": 3,
    "start_time": "2023-04-10T11:47:36.062Z"
   },
   {
    "duration": 66,
    "start_time": "2023-04-10T11:47:36.067Z"
   },
   {
    "duration": 15,
    "start_time": "2023-04-10T11:47:36.135Z"
   },
   {
    "duration": 5,
    "start_time": "2023-04-10T11:47:36.152Z"
   },
   {
    "duration": 16,
    "start_time": "2023-04-10T11:47:36.160Z"
   },
   {
    "duration": 12,
    "start_time": "2023-04-10T11:47:36.188Z"
   },
   {
    "duration": 24,
    "start_time": "2023-04-10T11:47:36.206Z"
   },
   {
    "duration": 94,
    "start_time": "2023-04-10T11:48:06.036Z"
   },
   {
    "duration": 5,
    "start_time": "2023-04-10T11:49:02.577Z"
   },
   {
    "duration": 14,
    "start_time": "2023-04-10T11:49:04.162Z"
   },
   {
    "duration": 7,
    "start_time": "2023-04-10T11:49:11.835Z"
   },
   {
    "duration": 6,
    "start_time": "2023-04-10T11:49:14.465Z"
   },
   {
    "duration": 13,
    "start_time": "2023-04-10T11:49:15.641Z"
   },
   {
    "duration": 3,
    "start_time": "2023-04-10T11:49:35.075Z"
   },
   {
    "duration": 79,
    "start_time": "2023-04-10T11:49:35.080Z"
   },
   {
    "duration": 18,
    "start_time": "2023-04-10T11:49:35.161Z"
   },
   {
    "duration": 5,
    "start_time": "2023-04-10T11:49:35.181Z"
   },
   {
    "duration": 10,
    "start_time": "2023-04-10T11:49:35.190Z"
   },
   {
    "duration": 6,
    "start_time": "2023-04-10T11:49:35.202Z"
   },
   {
    "duration": 23,
    "start_time": "2023-04-10T11:49:35.209Z"
   },
   {
    "duration": 3,
    "start_time": "2023-04-10T11:50:01.233Z"
   },
   {
    "duration": 60,
    "start_time": "2023-04-10T11:50:02.129Z"
   },
   {
    "duration": 15,
    "start_time": "2023-04-10T11:50:03.928Z"
   },
   {
    "duration": 5,
    "start_time": "2023-04-10T11:50:13.065Z"
   },
   {
    "duration": 12,
    "start_time": "2023-04-10T11:50:29.305Z"
   },
   {
    "duration": 4,
    "start_time": "2023-04-10T11:50:31.113Z"
   },
   {
    "duration": 15,
    "start_time": "2023-04-10T11:50:34.249Z"
   },
   {
    "duration": 6,
    "start_time": "2023-04-10T11:53:00.719Z"
   },
   {
    "duration": 10,
    "start_time": "2023-04-10T11:53:02.215Z"
   },
   {
    "duration": 3,
    "start_time": "2023-04-10T11:53:33.487Z"
   },
   {
    "duration": 72,
    "start_time": "2023-04-10T11:53:33.493Z"
   },
   {
    "duration": 25,
    "start_time": "2023-04-10T11:53:33.568Z"
   },
   {
    "duration": 6,
    "start_time": "2023-04-10T11:53:33.595Z"
   },
   {
    "duration": 11,
    "start_time": "2023-04-10T11:53:33.603Z"
   },
   {
    "duration": 4,
    "start_time": "2023-04-10T11:53:33.616Z"
   },
   {
    "duration": 15,
    "start_time": "2023-04-10T11:53:33.622Z"
   },
   {
    "duration": 12,
    "start_time": "2023-04-10T11:57:40.270Z"
   },
   {
    "duration": 696,
    "start_time": "2023-04-10T11:57:51.341Z"
   },
   {
    "duration": 30,
    "start_time": "2023-04-10T12:00:31.212Z"
   },
   {
    "duration": 10,
    "start_time": "2023-04-10T12:01:44.053Z"
   },
   {
    "duration": 7,
    "start_time": "2023-04-10T12:02:02.938Z"
   },
   {
    "duration": 31,
    "start_time": "2023-04-10T12:02:11.586Z"
   },
   {
    "duration": 20,
    "start_time": "2023-04-10T12:02:20.218Z"
   },
   {
    "duration": 85,
    "start_time": "2023-04-10T12:03:45.561Z"
   },
   {
    "duration": 24,
    "start_time": "2023-04-10T12:03:54.321Z"
   },
   {
    "duration": 13,
    "start_time": "2023-04-10T12:04:14.265Z"
   },
   {
    "duration": 13,
    "start_time": "2023-04-10T12:04:21.665Z"
   },
   {
    "duration": 4,
    "start_time": "2023-04-10T12:05:28.384Z"
   },
   {
    "duration": 63,
    "start_time": "2023-04-10T12:05:28.390Z"
   },
   {
    "duration": 15,
    "start_time": "2023-04-10T12:05:28.455Z"
   },
   {
    "duration": 13,
    "start_time": "2023-04-10T12:05:28.472Z"
   },
   {
    "duration": 27,
    "start_time": "2023-04-10T12:05:28.489Z"
   },
   {
    "duration": 35,
    "start_time": "2023-04-10T12:05:33.680Z"
   },
   {
    "duration": 12,
    "start_time": "2023-04-10T12:05:41.529Z"
   },
   {
    "duration": 2,
    "start_time": "2023-04-10T12:06:18.061Z"
   },
   {
    "duration": 63,
    "start_time": "2023-04-10T12:06:18.066Z"
   },
   {
    "duration": 14,
    "start_time": "2023-04-10T12:06:18.130Z"
   },
   {
    "duration": 8,
    "start_time": "2023-04-10T12:06:18.146Z"
   },
   {
    "duration": 14,
    "start_time": "2023-04-10T12:06:18.155Z"
   },
   {
    "duration": 16,
    "start_time": "2023-04-10T12:06:20.264Z"
   },
   {
    "duration": 17,
    "start_time": "2023-04-10T12:07:00.415Z"
   },
   {
    "duration": 9,
    "start_time": "2023-04-10T12:07:11.470Z"
   },
   {
    "duration": 15,
    "start_time": "2023-04-10T12:08:57.502Z"
   },
   {
    "duration": 27,
    "start_time": "2023-04-10T12:09:17.086Z"
   },
   {
    "duration": 23,
    "start_time": "2023-04-10T12:09:28.838Z"
   },
   {
    "duration": 21,
    "start_time": "2023-04-10T12:09:50.383Z"
   },
   {
    "duration": 2,
    "start_time": "2023-04-10T12:10:08.741Z"
   },
   {
    "duration": 80,
    "start_time": "2023-04-10T12:10:08.745Z"
   },
   {
    "duration": 14,
    "start_time": "2023-04-10T12:10:08.827Z"
   },
   {
    "duration": 16,
    "start_time": "2023-04-10T12:10:08.842Z"
   },
   {
    "duration": 15,
    "start_time": "2023-04-10T12:10:08.861Z"
   },
   {
    "duration": 12,
    "start_time": "2023-04-10T12:10:11.126Z"
   },
   {
    "duration": 5,
    "start_time": "2023-04-10T12:10:13.967Z"
   },
   {
    "duration": 15,
    "start_time": "2023-04-10T12:10:15.629Z"
   },
   {
    "duration": 13,
    "start_time": "2023-04-10T12:10:42.229Z"
   },
   {
    "duration": 3,
    "start_time": "2023-04-10T12:10:50.852Z"
   },
   {
    "duration": 81,
    "start_time": "2023-04-10T12:10:50.857Z"
   },
   {
    "duration": 14,
    "start_time": "2023-04-10T12:10:50.939Z"
   },
   {
    "duration": 5,
    "start_time": "2023-04-10T12:10:50.954Z"
   },
   {
    "duration": 30,
    "start_time": "2023-04-10T12:10:54.190Z"
   },
   {
    "duration": 6,
    "start_time": "2023-04-10T12:10:58.214Z"
   },
   {
    "duration": 20,
    "start_time": "2023-04-10T12:11:00.820Z"
   },
   {
    "duration": 8,
    "start_time": "2023-04-10T12:11:25.324Z"
   },
   {
    "duration": 22,
    "start_time": "2023-04-10T12:11:26.677Z"
   },
   {
    "duration": 3,
    "start_time": "2023-04-10T12:11:52.075Z"
   },
   {
    "duration": 66,
    "start_time": "2023-04-10T12:11:52.080Z"
   },
   {
    "duration": 15,
    "start_time": "2023-04-10T12:11:52.147Z"
   },
   {
    "duration": 4,
    "start_time": "2023-04-10T12:11:52.164Z"
   },
   {
    "duration": 40,
    "start_time": "2023-04-10T12:11:52.169Z"
   },
   {
    "duration": 12,
    "start_time": "2023-04-10T12:11:53.940Z"
   },
   {
    "duration": 15,
    "start_time": "2023-04-10T12:11:55.348Z"
   },
   {
    "duration": 10,
    "start_time": "2023-04-10T12:15:43.267Z"
   },
   {
    "duration": 7,
    "start_time": "2023-04-10T12:15:45.314Z"
   },
   {
    "duration": 16,
    "start_time": "2023-04-10T12:15:46.241Z"
   },
   {
    "duration": 72,
    "start_time": "2023-04-10T12:17:55.690Z"
   },
   {
    "duration": 6,
    "start_time": "2023-04-10T12:20:15.391Z"
   },
   {
    "duration": 14,
    "start_time": "2023-04-10T12:20:16.471Z"
   },
   {
    "duration": 15,
    "start_time": "2023-04-10T12:20:38.031Z"
   },
   {
    "duration": 5,
    "start_time": "2023-04-10T12:20:54.815Z"
   },
   {
    "duration": 15,
    "start_time": "2023-04-10T12:20:56.713Z"
   },
   {
    "duration": 25,
    "start_time": "2023-04-10T12:21:49.087Z"
   },
   {
    "duration": 17,
    "start_time": "2023-04-10T12:21:52.958Z"
   },
   {
    "duration": 19,
    "start_time": "2023-04-10T12:26:22.501Z"
   },
   {
    "duration": 3,
    "start_time": "2023-04-10T13:18:30.498Z"
   },
   {
    "duration": 88,
    "start_time": "2023-04-10T13:18:30.504Z"
   },
   {
    "duration": 17,
    "start_time": "2023-04-10T13:18:30.594Z"
   },
   {
    "duration": 24,
    "start_time": "2023-04-10T13:18:30.613Z"
   },
   {
    "duration": 25,
    "start_time": "2023-04-10T13:18:30.640Z"
   },
   {
    "duration": 28,
    "start_time": "2023-04-10T13:18:30.667Z"
   },
   {
    "duration": 24,
    "start_time": "2023-04-10T13:18:30.698Z"
   },
   {
    "duration": 26,
    "start_time": "2023-04-10T13:18:30.724Z"
   },
   {
    "duration": 34,
    "start_time": "2023-04-10T13:18:30.752Z"
   },
   {
    "duration": 64,
    "start_time": "2023-04-10T13:18:36.885Z"
   },
   {
    "duration": 30,
    "start_time": "2023-04-10T13:19:35.485Z"
   },
   {
    "duration": 25,
    "start_time": "2023-04-10T13:20:41.140Z"
   },
   {
    "duration": 17,
    "start_time": "2023-04-10T13:21:10.349Z"
   },
   {
    "duration": 11,
    "start_time": "2023-04-10T13:23:19.010Z"
   },
   {
    "duration": 3,
    "start_time": "2023-04-10T13:23:28.367Z"
   },
   {
    "duration": 82,
    "start_time": "2023-04-10T13:23:28.372Z"
   },
   {
    "duration": 16,
    "start_time": "2023-04-10T13:23:28.457Z"
   },
   {
    "duration": 10,
    "start_time": "2023-04-10T13:23:28.476Z"
   },
   {
    "duration": 10,
    "start_time": "2023-04-10T13:23:28.488Z"
   },
   {
    "duration": 11,
    "start_time": "2023-04-10T13:23:28.500Z"
   },
   {
    "duration": 6,
    "start_time": "2023-04-10T13:23:28.513Z"
   },
   {
    "duration": 15,
    "start_time": "2023-04-10T13:23:28.521Z"
   },
   {
    "duration": 48,
    "start_time": "2023-04-10T13:23:28.538Z"
   },
   {
    "duration": 10,
    "start_time": "2023-04-10T13:23:35.969Z"
   },
   {
    "duration": 23,
    "start_time": "2023-04-10T13:24:07.865Z"
   },
   {
    "duration": 13,
    "start_time": "2023-04-10T13:25:03.610Z"
   },
   {
    "duration": 16,
    "start_time": "2023-04-10T13:27:54.247Z"
   },
   {
    "duration": 4,
    "start_time": "2023-04-10T13:28:40.740Z"
   },
   {
    "duration": 72,
    "start_time": "2023-04-10T13:28:40.746Z"
   },
   {
    "duration": 15,
    "start_time": "2023-04-10T13:28:40.819Z"
   },
   {
    "duration": 14,
    "start_time": "2023-04-10T13:28:40.836Z"
   },
   {
    "duration": 24,
    "start_time": "2023-04-10T13:28:40.852Z"
   },
   {
    "duration": 24,
    "start_time": "2023-04-10T13:28:40.879Z"
   },
   {
    "duration": 6,
    "start_time": "2023-04-10T13:28:40.904Z"
   },
   {
    "duration": 32,
    "start_time": "2023-04-10T13:28:40.911Z"
   },
   {
    "duration": 28,
    "start_time": "2023-04-10T13:28:40.945Z"
   },
   {
    "duration": 24,
    "start_time": "2023-04-10T13:28:40.975Z"
   },
   {
    "duration": 20,
    "start_time": "2023-04-10T15:16:59.551Z"
   },
   {
    "duration": 6,
    "start_time": "2023-04-10T15:18:10.261Z"
   },
   {
    "duration": 565,
    "start_time": "2023-04-10T15:18:17.061Z"
   },
   {
    "duration": 219,
    "start_time": "2023-04-10T15:18:43.454Z"
   },
   {
    "duration": 261,
    "start_time": "2023-04-10T15:19:48.092Z"
   },
   {
    "duration": 1184,
    "start_time": "2023-04-10T15:20:25.284Z"
   },
   {
    "duration": 17,
    "start_time": "2023-04-10T15:21:39.556Z"
   },
   {
    "duration": 179,
    "start_time": "2023-04-10T15:22:15.355Z"
   },
   {
    "duration": 161,
    "start_time": "2023-04-10T15:22:20.116Z"
   },
   {
    "duration": 316,
    "start_time": "2023-04-10T15:22:56.218Z"
   },
   {
    "duration": 254,
    "start_time": "2023-04-10T15:23:11.203Z"
   },
   {
    "duration": 15,
    "start_time": "2023-04-10T15:23:50.018Z"
   },
   {
    "duration": 28,
    "start_time": "2023-04-10T15:24:37.083Z"
   },
   {
    "duration": 14,
    "start_time": "2023-04-10T15:25:00.035Z"
   },
   {
    "duration": 16,
    "start_time": "2023-04-10T15:25:35.305Z"
   },
   {
    "duration": 20,
    "start_time": "2023-04-10T15:26:17.851Z"
   },
   {
    "duration": 14,
    "start_time": "2023-04-10T15:26:27.795Z"
   },
   {
    "duration": 13,
    "start_time": "2023-04-10T15:27:42.145Z"
   },
   {
    "duration": 38,
    "start_time": "2023-04-10T15:29:16.783Z"
   },
   {
    "duration": 16,
    "start_time": "2023-04-10T15:29:50.446Z"
   },
   {
    "duration": 317,
    "start_time": "2023-04-10T15:32:43.317Z"
   },
   {
    "duration": 8,
    "start_time": "2023-04-10T15:33:20.190Z"
   },
   {
    "duration": 13,
    "start_time": "2023-04-10T15:34:19.316Z"
   },
   {
    "duration": 145,
    "start_time": "2023-04-10T15:34:26.213Z"
   },
   {
    "duration": 177,
    "start_time": "2023-04-10T15:34:58.372Z"
   },
   {
    "duration": 154,
    "start_time": "2023-04-10T15:36:56.290Z"
   },
   {
    "duration": 201,
    "start_time": "2023-04-10T15:38:14.242Z"
   },
   {
    "duration": 152,
    "start_time": "2023-04-10T15:38:25.962Z"
   },
   {
    "duration": 9,
    "start_time": "2023-04-10T15:39:00.889Z"
   },
   {
    "duration": 150,
    "start_time": "2023-04-10T15:39:05.417Z"
   },
   {
    "duration": 149,
    "start_time": "2023-04-10T15:39:52.220Z"
   },
   {
    "duration": 225,
    "start_time": "2023-04-10T15:39:56.041Z"
   },
   {
    "duration": 152,
    "start_time": "2023-04-10T15:40:00.505Z"
   },
   {
    "duration": 12,
    "start_time": "2023-04-10T15:40:37.696Z"
   },
   {
    "duration": 145,
    "start_time": "2023-04-10T15:41:13.224Z"
   },
   {
    "duration": 177,
    "start_time": "2023-04-10T15:41:23.793Z"
   },
   {
    "duration": 174,
    "start_time": "2023-04-10T15:41:33.897Z"
   },
   {
    "duration": 21,
    "start_time": "2023-04-10T15:42:50.199Z"
   },
   {
    "duration": 17,
    "start_time": "2023-04-10T15:44:17.510Z"
   },
   {
    "duration": 13,
    "start_time": "2023-04-10T15:45:10.398Z"
   },
   {
    "duration": 30,
    "start_time": "2023-04-10T15:45:24.039Z"
   },
   {
    "duration": 25,
    "start_time": "2023-04-10T15:46:08.037Z"
   },
   {
    "duration": 24,
    "start_time": "2023-04-10T15:46:37.645Z"
   },
   {
    "duration": 21,
    "start_time": "2023-04-10T15:47:12.389Z"
   },
   {
    "duration": 22,
    "start_time": "2023-04-10T15:49:57.507Z"
   },
   {
    "duration": 182,
    "start_time": "2023-04-10T15:50:57.259Z"
   },
   {
    "duration": 172,
    "start_time": "2023-04-10T16:03:33.171Z"
   },
   {
    "duration": 164,
    "start_time": "2023-04-10T16:03:38.626Z"
   },
   {
    "duration": 6,
    "start_time": "2023-04-10T16:08:53.720Z"
   },
   {
    "duration": 16,
    "start_time": "2023-04-10T16:09:48.624Z"
   },
   {
    "duration": 15,
    "start_time": "2023-04-10T16:10:09.103Z"
   },
   {
    "duration": 5,
    "start_time": "2023-04-10T16:10:22.383Z"
   },
   {
    "duration": 14,
    "start_time": "2023-04-10T16:10:23.318Z"
   },
   {
    "duration": 5,
    "start_time": "2023-04-10T16:10:31.031Z"
   },
   {
    "duration": 12,
    "start_time": "2023-04-10T16:10:31.807Z"
   },
   {
    "duration": 7,
    "start_time": "2023-04-10T16:10:39.599Z"
   },
   {
    "duration": 14,
    "start_time": "2023-04-10T16:10:40.799Z"
   },
   {
    "duration": 8,
    "start_time": "2023-04-10T16:12:37.901Z"
   },
   {
    "duration": 11,
    "start_time": "2023-04-10T16:13:20.126Z"
   },
   {
    "duration": 11,
    "start_time": "2023-04-10T16:13:27.285Z"
   },
   {
    "duration": 7,
    "start_time": "2023-04-10T16:13:44.549Z"
   },
   {
    "duration": 8,
    "start_time": "2023-04-10T16:13:53.029Z"
   },
   {
    "duration": 9,
    "start_time": "2023-04-10T16:14:30.196Z"
   },
   {
    "duration": 9,
    "start_time": "2023-04-10T16:14:42.628Z"
   },
   {
    "duration": 8,
    "start_time": "2023-04-10T16:14:48.549Z"
   },
   {
    "duration": 9,
    "start_time": "2023-04-10T16:27:28.045Z"
   },
   {
    "duration": 75,
    "start_time": "2023-04-10T16:28:08.221Z"
   },
   {
    "duration": 7,
    "start_time": "2023-04-10T16:28:14.653Z"
   },
   {
    "duration": 10,
    "start_time": "2023-04-10T16:28:21.005Z"
   },
   {
    "duration": 129,
    "start_time": "2023-04-10T16:28:32.797Z"
   },
   {
    "duration": 164,
    "start_time": "2023-04-10T16:28:52.325Z"
   },
   {
    "duration": 167,
    "start_time": "2023-04-10T16:29:08.709Z"
   },
   {
    "duration": 154,
    "start_time": "2023-04-10T16:29:33.716Z"
   },
   {
    "duration": 245,
    "start_time": "2023-04-10T16:29:45.388Z"
   },
   {
    "duration": 168,
    "start_time": "2023-04-10T16:32:25.795Z"
   },
   {
    "duration": 3,
    "start_time": "2023-04-10T16:32:39.985Z"
   },
   {
    "duration": 2,
    "start_time": "2023-04-10T16:33:03.787Z"
   },
   {
    "duration": 69,
    "start_time": "2023-04-10T16:33:03.791Z"
   },
   {
    "duration": 14,
    "start_time": "2023-04-10T16:33:03.861Z"
   },
   {
    "duration": 4,
    "start_time": "2023-04-10T16:33:03.877Z"
   },
   {
    "duration": 11,
    "start_time": "2023-04-10T16:33:03.882Z"
   },
   {
    "duration": 9,
    "start_time": "2023-04-10T16:33:03.894Z"
   },
   {
    "duration": 4,
    "start_time": "2023-04-10T16:33:03.905Z"
   },
   {
    "duration": 16,
    "start_time": "2023-04-10T16:33:03.911Z"
   },
   {
    "duration": 17,
    "start_time": "2023-04-10T16:33:03.929Z"
   },
   {
    "duration": 237,
    "start_time": "2023-04-10T16:33:03.949Z"
   },
   {
    "duration": 26,
    "start_time": "2023-04-10T16:33:04.188Z"
   },
   {
    "duration": 184,
    "start_time": "2023-04-10T16:33:04.216Z"
   },
   {
    "duration": 5,
    "start_time": "2023-04-10T16:33:04.402Z"
   },
   {
    "duration": 15,
    "start_time": "2023-04-10T16:33:04.408Z"
   },
   {
    "duration": 8,
    "start_time": "2023-04-10T16:33:04.425Z"
   },
   {
    "duration": 165,
    "start_time": "2023-04-10T16:33:07.514Z"
   },
   {
    "duration": 166,
    "start_time": "2023-04-10T16:33:59.953Z"
   },
   {
    "duration": 169,
    "start_time": "2023-04-10T16:34:26.818Z"
   },
   {
    "duration": 159,
    "start_time": "2023-04-10T16:34:44.177Z"
   },
   {
    "duration": 193,
    "start_time": "2023-04-10T16:35:03.753Z"
   },
   {
    "duration": 75,
    "start_time": "2023-04-10T16:36:40.512Z"
   },
   {
    "duration": 198,
    "start_time": "2023-04-10T16:36:48.383Z"
   },
   {
    "duration": 192,
    "start_time": "2023-04-10T16:40:34.941Z"
   },
   {
    "duration": 193,
    "start_time": "2023-04-10T16:41:33.845Z"
   },
   {
    "duration": 277,
    "start_time": "2023-04-10T16:41:43.373Z"
   },
   {
    "duration": 223,
    "start_time": "2023-04-10T16:42:07.629Z"
   },
   {
    "duration": 218,
    "start_time": "2023-04-10T16:42:39.860Z"
   },
   {
    "duration": 237,
    "start_time": "2023-04-10T16:43:12.140Z"
   },
   {
    "duration": 81,
    "start_time": "2023-04-10T16:44:49.131Z"
   },
   {
    "duration": 410,
    "start_time": "2023-04-10T16:44:54.739Z"
   },
   {
    "duration": 337,
    "start_time": "2023-04-10T16:45:01.403Z"
   },
   {
    "duration": 302,
    "start_time": "2023-04-10T16:45:07.403Z"
   },
   {
    "duration": 6,
    "start_time": "2023-04-10T17:05:47.646Z"
   },
   {
    "duration": 616,
    "start_time": "2023-04-10T17:05:54.878Z"
   },
   {
    "duration": 13,
    "start_time": "2023-04-10T17:06:25.247Z"
   },
   {
    "duration": 6,
    "start_time": "2023-04-10T17:07:15.757Z"
   },
   {
    "duration": 13,
    "start_time": "2023-04-10T17:07:16.902Z"
   },
   {
    "duration": 340,
    "start_time": "2023-04-10T17:08:53.835Z"
   },
   {
    "duration": 235,
    "start_time": "2023-04-10T17:09:24.404Z"
   },
   {
    "duration": 124,
    "start_time": "2023-04-10T17:09:39.941Z"
   },
   {
    "duration": 48,
    "start_time": "2023-04-10T17:11:50.675Z"
   },
   {
    "duration": 41,
    "start_time": "2023-04-10T17:12:25.699Z"
   },
   {
    "duration": 1864,
    "start_time": "2023-04-10T17:12:38.748Z"
   },
   {
    "duration": 9,
    "start_time": "2023-04-10T17:13:07.410Z"
   },
   {
    "duration": 9,
    "start_time": "2023-04-10T17:13:13.122Z"
   },
   {
    "duration": 9,
    "start_time": "2023-04-10T17:13:23.298Z"
   },
   {
    "duration": 27,
    "start_time": "2023-04-10T17:13:47.988Z"
   },
   {
    "duration": 287,
    "start_time": "2023-04-10T17:14:00.155Z"
   },
   {
    "duration": 299,
    "start_time": "2023-04-10T17:14:16.514Z"
   },
   {
    "duration": 351,
    "start_time": "2023-04-10T17:14:40.713Z"
   },
   {
    "duration": 330,
    "start_time": "2023-04-10T17:14:53.617Z"
   },
   {
    "duration": 353,
    "start_time": "2023-04-10T17:15:02.697Z"
   },
   {
    "duration": 65,
    "start_time": "2023-04-11T11:51:03.879Z"
   },
   {
    "duration": 470,
    "start_time": "2023-04-11T11:51:09.391Z"
   },
   {
    "duration": 193,
    "start_time": "2023-04-11T11:51:09.863Z"
   },
   {
    "duration": 15,
    "start_time": "2023-04-11T11:51:10.057Z"
   },
   {
    "duration": 11,
    "start_time": "2023-04-11T11:51:10.074Z"
   },
   {
    "duration": 32,
    "start_time": "2023-04-11T11:51:10.088Z"
   },
   {
    "duration": 31,
    "start_time": "2023-04-11T11:51:10.121Z"
   },
   {
    "duration": 20,
    "start_time": "2023-04-11T11:51:10.154Z"
   },
   {
    "duration": 27,
    "start_time": "2023-04-11T11:51:10.175Z"
   },
   {
    "duration": 21,
    "start_time": "2023-04-11T11:51:10.204Z"
   },
   {
    "duration": 537,
    "start_time": "2023-04-11T11:51:10.227Z"
   },
   {
    "duration": 20,
    "start_time": "2023-04-11T11:51:10.766Z"
   },
   {
    "duration": 165,
    "start_time": "2023-04-11T11:51:10.788Z"
   },
   {
    "duration": 6,
    "start_time": "2023-04-11T11:51:10.955Z"
   },
   {
    "duration": 26,
    "start_time": "2023-04-11T11:51:10.964Z"
   },
   {
    "duration": 15,
    "start_time": "2023-04-11T11:51:10.992Z"
   },
   {
    "duration": 347,
    "start_time": "2023-04-11T11:51:11.009Z"
   },
   {
    "duration": 6,
    "start_time": "2023-04-11T11:51:11.358Z"
   },
   {
    "duration": 33,
    "start_time": "2023-04-11T11:51:11.365Z"
   },
   {
    "duration": 1997,
    "start_time": "2023-04-11T11:51:11.399Z"
   },
   {
    "duration": 25,
    "start_time": "2023-04-11T11:51:46.962Z"
   },
   {
    "duration": 3,
    "start_time": "2023-04-11T11:52:46.340Z"
   },
   {
    "duration": 62,
    "start_time": "2023-04-11T11:53:09.777Z"
   },
   {
    "duration": 49,
    "start_time": "2023-04-11T11:53:27.320Z"
   },
   {
    "duration": 75,
    "start_time": "2023-04-11T11:53:35.001Z"
   },
   {
    "duration": 58,
    "start_time": "2023-04-11T11:54:35.433Z"
   },
   {
    "duration": 58,
    "start_time": "2023-04-11T11:54:59.216Z"
   },
   {
    "duration": 81,
    "start_time": "2023-04-11T11:55:14.408Z"
   },
   {
    "duration": 3,
    "start_time": "2023-04-11T11:56:32.098Z"
   },
   {
    "duration": 101,
    "start_time": "2023-04-11T11:56:32.103Z"
   },
   {
    "duration": 13,
    "start_time": "2023-04-11T11:56:32.205Z"
   },
   {
    "duration": 26,
    "start_time": "2023-04-11T11:56:32.220Z"
   },
   {
    "duration": 41,
    "start_time": "2023-04-11T11:56:32.248Z"
   },
   {
    "duration": 18,
    "start_time": "2023-04-11T11:56:32.290Z"
   },
   {
    "duration": 28,
    "start_time": "2023-04-11T11:56:32.309Z"
   },
   {
    "duration": 44,
    "start_time": "2023-04-11T11:56:32.339Z"
   },
   {
    "duration": 24,
    "start_time": "2023-04-11T11:56:32.384Z"
   },
   {
    "duration": 190,
    "start_time": "2023-04-11T11:56:32.410Z"
   },
   {
    "duration": 22,
    "start_time": "2023-04-11T11:56:32.602Z"
   },
   {
    "duration": 215,
    "start_time": "2023-04-11T11:56:32.625Z"
   },
   {
    "duration": 7,
    "start_time": "2023-04-11T11:56:32.842Z"
   },
   {
    "duration": 42,
    "start_time": "2023-04-11T11:56:32.851Z"
   },
   {
    "duration": 25,
    "start_time": "2023-04-11T11:56:32.894Z"
   },
   {
    "duration": 16,
    "start_time": "2023-04-11T11:56:39.807Z"
   },
   {
    "duration": 298,
    "start_time": "2023-04-11T11:57:31.823Z"
   },
   {
    "duration": 6,
    "start_time": "2023-04-11T11:57:36.526Z"
   },
   {
    "duration": 14,
    "start_time": "2023-04-11T11:57:38.734Z"
   },
   {
    "duration": 29,
    "start_time": "2023-04-11T11:58:27.920Z"
   },
   {
    "duration": 275,
    "start_time": "2023-04-11T11:59:12.589Z"
   },
   {
    "duration": 358,
    "start_time": "2023-04-11T11:59:32.109Z"
   },
   {
    "duration": 19,
    "start_time": "2023-04-11T12:02:44.979Z"
   },
   {
    "duration": 16,
    "start_time": "2023-04-11T12:02:51.889Z"
   },
   {
    "duration": 16,
    "start_time": "2023-04-11T12:03:05.899Z"
   },
   {
    "duration": 52,
    "start_time": "2023-04-11T12:03:08.707Z"
   },
   {
    "duration": 342,
    "start_time": "2023-04-11T12:03:13.435Z"
   },
   {
    "duration": 328,
    "start_time": "2023-04-11T12:03:17.507Z"
   },
   {
    "duration": 5,
    "start_time": "2023-04-11T12:04:11.810Z"
   },
   {
    "duration": 11,
    "start_time": "2023-04-11T12:04:13.819Z"
   },
   {
    "duration": 299,
    "start_time": "2023-04-11T12:04:17.172Z"
   },
   {
    "duration": 17,
    "start_time": "2023-04-11T12:04:50.538Z"
   },
   {
    "duration": 22,
    "start_time": "2023-04-11T12:05:11.258Z"
   },
   {
    "duration": 17,
    "start_time": "2023-04-11T12:05:23.306Z"
   },
   {
    "duration": 315,
    "start_time": "2023-04-11T12:05:35.530Z"
   },
   {
    "duration": 16,
    "start_time": "2023-04-11T12:06:15.465Z"
   },
   {
    "duration": 17,
    "start_time": "2023-04-11T12:06:21.601Z"
   },
   {
    "duration": 432,
    "start_time": "2023-04-11T12:06:33.738Z"
   },
   {
    "duration": 500,
    "start_time": "2023-04-11T12:06:45.769Z"
   },
   {
    "duration": 19,
    "start_time": "2023-04-11T12:06:58.138Z"
   },
   {
    "duration": 21,
    "start_time": "2023-04-11T12:07:16.241Z"
   },
   {
    "duration": 374,
    "start_time": "2023-04-11T12:08:01.265Z"
   },
   {
    "duration": 362,
    "start_time": "2023-04-11T12:09:04.736Z"
   },
   {
    "duration": 16,
    "start_time": "2023-04-11T12:10:47.343Z"
   },
   {
    "duration": 16,
    "start_time": "2023-04-11T12:10:53.239Z"
   },
   {
    "duration": 182,
    "start_time": "2023-04-11T12:10:59.247Z"
   },
   {
    "duration": 231,
    "start_time": "2023-04-11T12:11:21.047Z"
   },
   {
    "duration": 177,
    "start_time": "2023-04-11T12:11:53.191Z"
   },
   {
    "duration": 303,
    "start_time": "2023-04-11T12:12:55.343Z"
   },
   {
    "duration": 303,
    "start_time": "2023-04-11T12:12:59.854Z"
   },
   {
    "duration": 325,
    "start_time": "2023-04-11T12:13:14.005Z"
   },
   {
    "duration": 436,
    "start_time": "2023-04-11T12:13:24.165Z"
   },
   {
    "duration": 312,
    "start_time": "2023-04-11T12:15:37.364Z"
   },
   {
    "duration": 327,
    "start_time": "2023-04-11T12:15:43.442Z"
   },
   {
    "duration": 289,
    "start_time": "2023-04-11T12:29:02.020Z"
   },
   {
    "duration": 273,
    "start_time": "2023-04-11T12:29:13.412Z"
   },
   {
    "duration": 23,
    "start_time": "2023-04-11T12:31:06.628Z"
   },
   {
    "duration": 214,
    "start_time": "2023-04-11T12:31:27.842Z"
   },
   {
    "duration": 222,
    "start_time": "2023-04-11T12:31:41.074Z"
   },
   {
    "duration": 338,
    "start_time": "2023-04-11T12:31:51.411Z"
   },
   {
    "duration": 314,
    "start_time": "2023-04-11T12:32:32.994Z"
   },
   {
    "duration": 307,
    "start_time": "2023-04-11T12:32:45.721Z"
   },
   {
    "duration": 25,
    "start_time": "2023-04-11T12:59:16.699Z"
   },
   {
    "duration": 6,
    "start_time": "2023-04-11T13:06:37.295Z"
   },
   {
    "duration": 343,
    "start_time": "2023-04-11T13:06:41.479Z"
   },
   {
    "duration": 27,
    "start_time": "2023-04-11T13:11:32.195Z"
   },
   {
    "duration": 297,
    "start_time": "2023-04-11T13:11:36.900Z"
   },
   {
    "duration": 7,
    "start_time": "2023-04-11T13:15:09.499Z"
   },
   {
    "duration": 6,
    "start_time": "2023-04-11T13:15:26.152Z"
   },
   {
    "duration": 225,
    "start_time": "2023-04-11T13:19:14.229Z"
   },
   {
    "duration": 3,
    "start_time": "2023-04-11T13:19:28.398Z"
   },
   {
    "duration": 8,
    "start_time": "2023-04-11T13:32:29.661Z"
   },
   {
    "duration": 1826,
    "start_time": "2023-04-11T13:32:48.452Z"
   },
   {
    "duration": 7,
    "start_time": "2023-04-11T13:43:04.158Z"
   },
   {
    "duration": 1934,
    "start_time": "2023-04-11T13:48:30.955Z"
   },
   {
    "duration": 2564,
    "start_time": "2023-04-11T13:48:51.843Z"
   },
   {
    "duration": 490,
    "start_time": "2023-04-11T13:49:43.050Z"
   },
   {
    "duration": 341,
    "start_time": "2023-04-11T13:50:04.361Z"
   },
   {
    "duration": 7,
    "start_time": "2023-04-11T13:55:41.166Z"
   },
   {
    "duration": 9,
    "start_time": "2023-04-11T13:55:51.991Z"
   },
   {
    "duration": 107,
    "start_time": "2023-04-11T13:56:10.479Z"
   },
   {
    "duration": 104,
    "start_time": "2023-04-11T14:01:23.290Z"
   },
   {
    "duration": 109,
    "start_time": "2023-04-11T14:01:31.124Z"
   },
   {
    "duration": 351,
    "start_time": "2023-04-11T14:02:34.729Z"
   },
   {
    "duration": 418,
    "start_time": "2023-04-11T14:02:53.833Z"
   },
   {
    "duration": 183,
    "start_time": "2023-04-11T14:03:06.665Z"
   },
   {
    "duration": 170,
    "start_time": "2023-04-11T14:03:17.513Z"
   },
   {
    "duration": 416,
    "start_time": "2023-04-11T14:03:23.481Z"
   },
   {
    "duration": 404,
    "start_time": "2023-04-11T14:03:26.721Z"
   },
   {
    "duration": 171,
    "start_time": "2023-04-11T14:03:45.201Z"
   },
   {
    "duration": 407,
    "start_time": "2023-04-11T14:04:13.745Z"
   },
   {
    "duration": 433,
    "start_time": "2023-04-11T14:04:30.418Z"
   },
   {
    "duration": 210,
    "start_time": "2023-04-11T14:05:54.528Z"
   },
   {
    "duration": 103,
    "start_time": "2023-04-11T14:08:03.302Z"
   },
   {
    "duration": 4072,
    "start_time": "2023-04-11T14:38:44.645Z"
   },
   {
    "duration": 250,
    "start_time": "2023-04-11T14:39:16.461Z"
   },
   {
    "duration": 320,
    "start_time": "2023-04-11T14:41:27.876Z"
   },
   {
    "duration": 315,
    "start_time": "2023-04-11T14:41:33.732Z"
   },
   {
    "duration": 184,
    "start_time": "2023-04-11T14:42:22.451Z"
   },
   {
    "duration": 161,
    "start_time": "2023-04-11T14:42:39.108Z"
   },
   {
    "duration": 352,
    "start_time": "2023-04-11T14:43:36.733Z"
   },
   {
    "duration": 3,
    "start_time": "2023-04-11T14:44:05.482Z"
   },
   {
    "duration": 325,
    "start_time": "2023-04-11T14:44:11.578Z"
   },
   {
    "duration": 337,
    "start_time": "2023-04-11T14:44:28.514Z"
   },
   {
    "duration": 333,
    "start_time": "2023-04-11T14:44:33.083Z"
   },
   {
    "duration": 489,
    "start_time": "2023-04-11T14:59:47.337Z"
   },
   {
    "duration": 326,
    "start_time": "2023-04-11T15:01:52.312Z"
   },
   {
    "duration": 9,
    "start_time": "2023-04-11T15:04:16.398Z"
   },
   {
    "duration": 9,
    "start_time": "2023-04-11T15:04:20.302Z"
   },
   {
    "duration": 707,
    "start_time": "2023-04-12T12:34:46.331Z"
   },
   {
    "duration": 108,
    "start_time": "2023-04-12T12:34:47.040Z"
   },
   {
    "duration": 16,
    "start_time": "2023-04-12T12:34:47.149Z"
   },
   {
    "duration": 4,
    "start_time": "2023-04-12T12:34:51.918Z"
   },
   {
    "duration": 12,
    "start_time": "2023-04-12T12:34:54.103Z"
   },
   {
    "duration": 140,
    "start_time": "2023-04-12T12:35:08.803Z"
   },
   {
    "duration": 76,
    "start_time": "2023-04-12T12:41:32.756Z"
   },
   {
    "duration": 3,
    "start_time": "2023-04-12T12:41:39.139Z"
   },
   {
    "duration": 59,
    "start_time": "2023-04-12T12:41:39.144Z"
   },
   {
    "duration": 11,
    "start_time": "2023-04-12T12:41:39.204Z"
   },
   {
    "duration": 3,
    "start_time": "2023-04-12T12:41:39.217Z"
   },
   {
    "duration": 11,
    "start_time": "2023-04-12T12:41:39.222Z"
   },
   {
    "duration": 9,
    "start_time": "2023-04-12T12:41:39.235Z"
   },
   {
    "duration": 5,
    "start_time": "2023-04-12T12:41:39.245Z"
   },
   {
    "duration": 43,
    "start_time": "2023-04-12T12:41:39.252Z"
   },
   {
    "duration": 15,
    "start_time": "2023-04-12T12:41:39.297Z"
   },
   {
    "duration": 168,
    "start_time": "2023-04-12T12:41:39.314Z"
   },
   {
    "duration": 24,
    "start_time": "2023-04-12T12:41:39.484Z"
   },
   {
    "duration": 148,
    "start_time": "2023-04-12T12:41:39.509Z"
   },
   {
    "duration": 6,
    "start_time": "2023-04-12T12:41:39.659Z"
   },
   {
    "duration": 27,
    "start_time": "2023-04-12T12:41:39.667Z"
   },
   {
    "duration": 8,
    "start_time": "2023-04-12T12:41:39.696Z"
   },
   {
    "duration": 314,
    "start_time": "2023-04-12T12:41:39.706Z"
   },
   {
    "duration": 5,
    "start_time": "2023-04-12T12:41:40.021Z"
   },
   {
    "duration": 43,
    "start_time": "2023-04-12T12:41:40.027Z"
   },
   {
    "duration": 37,
    "start_time": "2023-04-12T12:41:40.071Z"
   },
   {
    "duration": 297,
    "start_time": "2023-04-12T12:41:40.109Z"
   },
   {
    "duration": 316,
    "start_time": "2023-04-12T12:41:40.407Z"
   },
   {
    "duration": 11,
    "start_time": "2023-04-12T12:41:43.059Z"
   },
   {
    "duration": 27,
    "start_time": "2023-04-12T12:42:07.722Z"
   },
   {
    "duration": 85,
    "start_time": "2023-04-12T12:42:34.156Z"
   },
   {
    "duration": 25,
    "start_time": "2023-04-12T12:42:41.986Z"
   },
   {
    "duration": 26,
    "start_time": "2023-04-12T12:42:53.796Z"
   },
   {
    "duration": 27,
    "start_time": "2023-04-12T12:43:36.091Z"
   },
   {
    "duration": 17,
    "start_time": "2023-04-12T12:43:42.755Z"
   },
   {
    "duration": 14,
    "start_time": "2023-04-12T12:45:10.817Z"
   },
   {
    "duration": 4,
    "start_time": "2023-04-12T12:45:41.821Z"
   },
   {
    "duration": 116,
    "start_time": "2023-04-12T12:45:52.784Z"
   },
   {
    "duration": 110,
    "start_time": "2023-04-12T12:46:09.616Z"
   },
   {
    "duration": 127,
    "start_time": "2023-04-12T12:54:47.685Z"
   },
   {
    "duration": 117,
    "start_time": "2023-04-12T12:54:52.258Z"
   },
   {
    "duration": 110,
    "start_time": "2023-04-12T12:55:08.771Z"
   },
   {
    "duration": 111,
    "start_time": "2023-04-12T12:55:22.635Z"
   },
   {
    "duration": 126,
    "start_time": "2023-04-12T12:55:38.718Z"
   },
   {
    "duration": 230,
    "start_time": "2023-04-12T12:56:02.864Z"
   },
   {
    "duration": 134,
    "start_time": "2023-04-12T12:56:08.618Z"
   },
   {
    "duration": 147,
    "start_time": "2023-04-12T12:56:17.442Z"
   },
   {
    "duration": 149,
    "start_time": "2023-04-12T12:58:06.228Z"
   },
   {
    "duration": 168,
    "start_time": "2023-04-12T12:58:21.368Z"
   },
   {
    "duration": 146,
    "start_time": "2023-04-12T13:04:37.285Z"
   },
   {
    "duration": 166,
    "start_time": "2023-04-12T14:45:57.095Z"
   },
   {
    "duration": 147,
    "start_time": "2023-04-12T14:46:03.725Z"
   },
   {
    "duration": 45,
    "start_time": "2023-04-12T14:51:01.603Z"
   },
   {
    "duration": 47,
    "start_time": "2023-04-12T14:51:34.833Z"
   },
   {
    "duration": 45,
    "start_time": "2023-04-12T14:51:42.002Z"
   },
   {
    "duration": 48,
    "start_time": "2023-04-12T14:51:45.041Z"
   },
   {
    "duration": 44,
    "start_time": "2023-04-12T14:52:11.777Z"
   },
   {
    "duration": 42,
    "start_time": "2023-04-12T14:52:24.297Z"
   },
   {
    "duration": 45,
    "start_time": "2023-04-12T14:52:32.664Z"
   },
   {
    "duration": 43,
    "start_time": "2023-04-12T14:52:37.729Z"
   },
   {
    "duration": 48,
    "start_time": "2023-04-12T14:52:57.393Z"
   },
   {
    "duration": 46,
    "start_time": "2023-04-12T14:53:01.986Z"
   },
   {
    "duration": 151,
    "start_time": "2023-04-12T14:53:05.256Z"
   },
   {
    "duration": 70,
    "start_time": "2023-04-12T14:54:21.664Z"
   },
   {
    "duration": 44,
    "start_time": "2023-04-12T14:54:47.649Z"
   },
   {
    "duration": 44,
    "start_time": "2023-04-12T14:55:56.400Z"
   },
   {
    "duration": 79,
    "start_time": "2023-04-12T14:56:48.879Z"
   },
   {
    "duration": 45,
    "start_time": "2023-04-12T14:57:46.975Z"
   },
   {
    "duration": 41,
    "start_time": "2023-04-12T14:58:16.774Z"
   },
   {
    "duration": 73,
    "start_time": "2023-04-12T15:01:11.724Z"
   },
   {
    "duration": 72,
    "start_time": "2023-04-12T15:01:21.195Z"
   },
   {
    "duration": 13,
    "start_time": "2023-04-12T15:01:24.036Z"
   },
   {
    "duration": 12,
    "start_time": "2023-04-12T15:01:59.733Z"
   },
   {
    "duration": 41,
    "start_time": "2023-04-12T15:02:35.435Z"
   },
   {
    "duration": 9,
    "start_time": "2023-04-12T15:03:07.412Z"
   },
   {
    "duration": 72,
    "start_time": "2023-04-12T15:03:14.850Z"
   },
   {
    "duration": 68,
    "start_time": "2023-04-12T15:04:23.810Z"
   },
   {
    "duration": 66,
    "start_time": "2023-04-12T15:04:36.515Z"
   },
   {
    "duration": 7,
    "start_time": "2023-04-12T15:05:01.858Z"
   },
   {
    "duration": 7,
    "start_time": "2023-04-12T15:05:08.914Z"
   },
   {
    "duration": 7,
    "start_time": "2023-04-12T15:05:30.809Z"
   },
   {
    "duration": 7,
    "start_time": "2023-04-12T15:06:31.562Z"
   },
   {
    "duration": 7,
    "start_time": "2023-04-12T15:06:53.681Z"
   },
   {
    "duration": 13,
    "start_time": "2023-04-12T15:07:01.873Z"
   },
   {
    "duration": 5,
    "start_time": "2023-04-12T15:07:29.705Z"
   },
   {
    "duration": 11,
    "start_time": "2023-04-12T15:07:33.576Z"
   },
   {
    "duration": 28,
    "start_time": "2023-04-12T15:07:33.589Z"
   },
   {
    "duration": 292,
    "start_time": "2023-04-12T15:07:33.618Z"
   },
   {
    "duration": 405,
    "start_time": "2023-04-12T15:07:33.912Z"
   },
   {
    "duration": 171,
    "start_time": "2023-04-12T15:07:34.318Z"
   },
   {
    "duration": 170,
    "start_time": "2023-04-12T15:07:34.493Z"
   },
   {
    "duration": 48,
    "start_time": "2023-04-12T15:07:34.665Z"
   },
   {
    "duration": 59,
    "start_time": "2023-04-12T15:07:34.714Z"
   },
   {
    "duration": 25,
    "start_time": "2023-04-12T15:07:34.774Z"
   },
   {
    "duration": 292,
    "start_time": "2023-04-12T15:08:16.096Z"
   },
   {
    "duration": 38,
    "start_time": "2023-04-12T15:08:30.864Z"
   },
   {
    "duration": 58,
    "start_time": "2023-04-12T15:08:44.440Z"
   },
   {
    "duration": 39,
    "start_time": "2023-04-12T15:08:55.968Z"
   },
   {
    "duration": 38,
    "start_time": "2023-04-12T15:09:15.343Z"
   },
   {
    "duration": 139,
    "start_time": "2023-04-12T15:27:52.740Z"
   },
   {
    "duration": 152,
    "start_time": "2023-04-12T15:27:56.236Z"
   },
   {
    "duration": 12,
    "start_time": "2023-04-12T15:30:07.747Z"
   },
   {
    "duration": 4,
    "start_time": "2023-04-12T15:30:21.763Z"
   },
   {
    "duration": 6,
    "start_time": "2023-04-12T15:30:35.763Z"
   },
   {
    "duration": 7,
    "start_time": "2023-04-12T15:30:45.626Z"
   },
   {
    "duration": 9,
    "start_time": "2023-04-12T15:30:56.707Z"
   },
   {
    "duration": 9,
    "start_time": "2023-04-12T15:31:01.931Z"
   },
   {
    "duration": 9,
    "start_time": "2023-04-12T15:31:07.338Z"
   },
   {
    "duration": 8,
    "start_time": "2023-04-12T15:31:11.746Z"
   },
   {
    "duration": 8,
    "start_time": "2023-04-12T15:31:15.203Z"
   },
   {
    "duration": 64,
    "start_time": "2023-04-13T14:04:00.331Z"
   },
   {
    "duration": 869,
    "start_time": "2023-04-13T14:04:04.156Z"
   },
   {
    "duration": 108,
    "start_time": "2023-04-13T14:04:05.028Z"
   },
   {
    "duration": 21,
    "start_time": "2023-04-13T14:04:05.138Z"
   },
   {
    "duration": 4,
    "start_time": "2023-04-13T14:04:05.162Z"
   },
   {
    "duration": 26,
    "start_time": "2023-04-13T14:04:05.168Z"
   },
   {
    "duration": 15,
    "start_time": "2023-04-13T14:04:05.197Z"
   },
   {
    "duration": 6,
    "start_time": "2023-04-13T14:04:05.215Z"
   },
   {
    "duration": 40,
    "start_time": "2023-04-13T14:04:05.224Z"
   },
   {
    "duration": 25,
    "start_time": "2023-04-13T14:04:05.266Z"
   },
   {
    "duration": 210,
    "start_time": "2023-04-13T14:04:05.294Z"
   },
   {
    "duration": 20,
    "start_time": "2023-04-13T14:04:05.506Z"
   },
   {
    "duration": 179,
    "start_time": "2023-04-13T14:04:05.528Z"
   },
   {
    "duration": 7,
    "start_time": "2023-04-13T14:04:05.709Z"
   },
   {
    "duration": 25,
    "start_time": "2023-04-13T14:04:05.717Z"
   },
   {
    "duration": 20,
    "start_time": "2023-04-13T14:04:05.744Z"
   },
   {
    "duration": 328,
    "start_time": "2023-04-13T14:04:05.766Z"
   },
   {
    "duration": 6,
    "start_time": "2023-04-13T14:04:06.096Z"
   },
   {
    "duration": 36,
    "start_time": "2023-04-13T14:04:06.103Z"
   },
   {
    "duration": 45,
    "start_time": "2023-04-13T14:04:06.141Z"
   },
   {
    "duration": 330,
    "start_time": "2023-04-13T14:04:06.187Z"
   },
   {
    "duration": 416,
    "start_time": "2023-04-13T14:04:06.519Z"
   },
   {
    "duration": 186,
    "start_time": "2023-04-13T14:04:06.937Z"
   },
   {
    "duration": 188,
    "start_time": "2023-04-13T14:04:07.125Z"
   },
   {
    "duration": 54,
    "start_time": "2023-04-13T14:04:07.315Z"
   },
   {
    "duration": 42,
    "start_time": "2023-04-13T14:04:07.371Z"
   },
   {
    "duration": 10,
    "start_time": "2023-04-13T14:04:07.415Z"
   },
   {
    "duration": 27,
    "start_time": "2023-04-13T14:04:07.434Z"
   },
   {
    "duration": 18,
    "start_time": "2023-04-13T14:04:17.344Z"
   },
   {
    "duration": 25,
    "start_time": "2023-04-13T14:05:12.261Z"
   },
   {
    "duration": 8,
    "start_time": "2023-04-13T14:05:45.174Z"
   },
   {
    "duration": 24,
    "start_time": "2023-04-13T14:05:51.365Z"
   },
   {
    "duration": 49,
    "start_time": "2023-04-13T14:07:34.814Z"
   },
   {
    "duration": 15,
    "start_time": "2023-04-13T14:07:39.901Z"
   },
   {
    "duration": 22,
    "start_time": "2023-04-13T14:07:48.052Z"
   },
   {
    "duration": 18,
    "start_time": "2023-04-13T14:08:07.685Z"
   },
   {
    "duration": 24,
    "start_time": "2023-04-13T14:08:15.924Z"
   },
   {
    "duration": 13,
    "start_time": "2023-04-13T14:08:26.653Z"
   },
   {
    "duration": 73,
    "start_time": "2023-04-13T14:08:44.245Z"
   },
   {
    "duration": 13,
    "start_time": "2023-04-13T14:09:01.972Z"
   },
   {
    "duration": 14,
    "start_time": "2023-04-13T14:09:24.963Z"
   },
   {
    "duration": 14,
    "start_time": "2023-04-13T14:09:29.940Z"
   },
   {
    "duration": 14,
    "start_time": "2023-04-13T14:09:34.396Z"
   },
   {
    "duration": 14,
    "start_time": "2023-04-13T14:09:38.179Z"
   },
   {
    "duration": 69,
    "start_time": "2023-04-13T14:09:56.587Z"
   },
   {
    "duration": 15,
    "start_time": "2023-04-13T14:10:01.035Z"
   },
   {
    "duration": 17,
    "start_time": "2023-04-13T14:10:05.804Z"
   },
   {
    "duration": 17,
    "start_time": "2023-04-13T14:10:32.588Z"
   },
   {
    "duration": 11,
    "start_time": "2023-04-13T14:10:40.324Z"
   },
   {
    "duration": 19,
    "start_time": "2023-04-13T14:12:13.478Z"
   },
   {
    "duration": 23,
    "start_time": "2023-04-13T14:12:29.626Z"
   },
   {
    "duration": 39,
    "start_time": "2023-04-13T14:12:38.531Z"
   },
   {
    "duration": 83,
    "start_time": "2023-04-13T14:13:19.538Z"
   },
   {
    "duration": 18,
    "start_time": "2023-04-13T14:13:26.201Z"
   },
   {
    "duration": 29,
    "start_time": "2023-04-13T14:14:54.068Z"
   },
   {
    "duration": 26,
    "start_time": "2023-04-13T14:15:13.722Z"
   },
   {
    "duration": 9,
    "start_time": "2023-04-13T14:19:08.879Z"
   },
   {
    "duration": 11,
    "start_time": "2023-04-13T14:19:25.646Z"
   },
   {
    "duration": 10,
    "start_time": "2023-04-13T14:19:43.279Z"
   },
   {
    "duration": 26,
    "start_time": "2023-04-13T14:19:56.458Z"
   },
   {
    "duration": 29,
    "start_time": "2023-04-13T14:42:25.863Z"
   },
   {
    "duration": 32,
    "start_time": "2023-04-13T14:42:49.037Z"
   },
   {
    "duration": 28,
    "start_time": "2023-04-13T14:43:02.011Z"
   },
   {
    "duration": 28,
    "start_time": "2023-04-13T14:43:12.309Z"
   },
   {
    "duration": 13,
    "start_time": "2023-04-13T14:45:18.163Z"
   },
   {
    "duration": 25,
    "start_time": "2023-04-13T14:46:23.666Z"
   },
   {
    "duration": 27,
    "start_time": "2023-04-13T15:06:02.079Z"
   },
   {
    "duration": 12,
    "start_time": "2023-04-13T15:06:21.326Z"
   },
   {
    "duration": 27,
    "start_time": "2023-04-13T15:06:36.503Z"
   },
   {
    "duration": 16,
    "start_time": "2023-04-13T17:14:58.014Z"
   },
   {
    "duration": 19,
    "start_time": "2023-04-13T17:15:07.504Z"
   },
   {
    "duration": 33,
    "start_time": "2023-04-13T17:15:14.704Z"
   },
   {
    "duration": 13,
    "start_time": "2023-04-13T17:15:49.368Z"
   },
   {
    "duration": 8,
    "start_time": "2023-04-13T17:16:13.310Z"
   },
   {
    "duration": 459,
    "start_time": "2023-04-13T17:16:49.363Z"
   },
   {
    "duration": 59,
    "start_time": "2023-04-13T17:16:49.824Z"
   },
   {
    "duration": 13,
    "start_time": "2023-04-13T17:16:49.885Z"
   },
   {
    "duration": 4,
    "start_time": "2023-04-13T17:16:49.900Z"
   },
   {
    "duration": 15,
    "start_time": "2023-04-13T17:16:49.906Z"
   },
   {
    "duration": 34,
    "start_time": "2023-04-13T17:16:49.924Z"
   },
   {
    "duration": 7,
    "start_time": "2023-04-13T17:16:49.961Z"
   },
   {
    "duration": 31,
    "start_time": "2023-04-13T17:16:49.970Z"
   },
   {
    "duration": 23,
    "start_time": "2023-04-13T17:16:50.003Z"
   },
   {
    "duration": 202,
    "start_time": "2023-04-13T17:16:50.030Z"
   },
   {
    "duration": 34,
    "start_time": "2023-04-13T17:16:50.234Z"
   },
   {
    "duration": 270,
    "start_time": "2023-04-13T17:16:50.270Z"
   },
   {
    "duration": 13,
    "start_time": "2023-04-13T17:16:50.542Z"
   },
   {
    "duration": 26,
    "start_time": "2023-04-13T17:16:50.558Z"
   },
   {
    "duration": 17,
    "start_time": "2023-04-13T17:16:50.586Z"
   },
   {
    "duration": 338,
    "start_time": "2023-04-13T17:16:50.606Z"
   },
   {
    "duration": 14,
    "start_time": "2023-04-13T17:16:50.947Z"
   },
   {
    "duration": 21,
    "start_time": "2023-04-13T17:16:50.965Z"
   },
   {
    "duration": 30,
    "start_time": "2023-04-13T17:16:50.988Z"
   },
   {
    "duration": 401,
    "start_time": "2023-04-13T17:16:51.020Z"
   },
   {
    "duration": 387,
    "start_time": "2023-04-13T17:16:51.424Z"
   },
   {
    "duration": 196,
    "start_time": "2023-04-13T17:16:51.813Z"
   },
   {
    "duration": 248,
    "start_time": "2023-04-13T17:16:52.011Z"
   },
   {
    "duration": 52,
    "start_time": "2023-04-13T17:16:52.261Z"
   },
   {
    "duration": 73,
    "start_time": "2023-04-13T17:16:52.315Z"
   },
   {
    "duration": 16,
    "start_time": "2023-04-13T17:16:52.390Z"
   },
   {
    "duration": 10,
    "start_time": "2023-04-13T17:16:52.408Z"
   },
   {
    "duration": 64,
    "start_time": "2023-04-13T17:16:52.422Z"
   },
   {
    "duration": 33,
    "start_time": "2023-04-13T17:16:52.488Z"
   },
   {
    "duration": 60,
    "start_time": "2023-04-13T17:16:52.523Z"
   },
   {
    "duration": 33,
    "start_time": "2023-04-13T17:17:26.805Z"
   },
   {
    "duration": 12,
    "start_time": "2023-04-13T17:17:33.712Z"
   },
   {
    "duration": 9,
    "start_time": "2023-04-13T17:17:40.852Z"
   },
   {
    "duration": 8,
    "start_time": "2023-04-13T17:17:58.534Z"
   },
   {
    "duration": 9,
    "start_time": "2023-04-13T17:18:13.540Z"
   },
   {
    "duration": 12,
    "start_time": "2023-04-13T17:18:37.780Z"
   },
   {
    "duration": 14,
    "start_time": "2023-04-13T17:19:55.172Z"
   },
   {
    "duration": 8,
    "start_time": "2023-04-13T17:20:18.243Z"
   },
   {
    "duration": 12,
    "start_time": "2023-04-13T17:21:15.306Z"
   },
   {
    "duration": 14,
    "start_time": "2023-04-13T17:21:25.995Z"
   },
   {
    "duration": 11,
    "start_time": "2023-04-13T17:21:47.899Z"
   },
   {
    "duration": 74,
    "start_time": "2023-04-13T17:24:41.376Z"
   },
   {
    "duration": 69,
    "start_time": "2023-04-13T17:24:50.401Z"
   },
   {
    "duration": 77,
    "start_time": "2023-04-13T17:24:57.824Z"
   },
   {
    "duration": 13,
    "start_time": "2023-04-13T17:25:06.994Z"
   },
   {
    "duration": 13,
    "start_time": "2023-04-13T17:25:12.758Z"
   },
   {
    "duration": 15,
    "start_time": "2023-04-13T17:25:24.247Z"
   },
   {
    "duration": 16,
    "start_time": "2023-04-13T17:29:24.085Z"
   },
   {
    "duration": 15,
    "start_time": "2023-04-13T17:29:29.885Z"
   },
   {
    "duration": 15,
    "start_time": "2023-04-13T17:29:39.781Z"
   },
   {
    "duration": 13,
    "start_time": "2023-04-13T17:40:02.742Z"
   },
   {
    "duration": 11,
    "start_time": "2023-04-13T17:40:07.750Z"
   },
   {
    "duration": 14,
    "start_time": "2023-04-13T17:40:12.166Z"
   },
   {
    "duration": 13,
    "start_time": "2023-04-13T17:43:37.668Z"
   },
   {
    "duration": 14,
    "start_time": "2023-04-13T17:43:48.971Z"
   },
   {
    "duration": 12,
    "start_time": "2023-04-13T17:44:55.592Z"
   },
   {
    "duration": 14,
    "start_time": "2023-04-13T17:46:30.418Z"
   },
   {
    "duration": 14,
    "start_time": "2023-04-13T17:47:07.153Z"
   },
   {
    "duration": 12,
    "start_time": "2023-04-13T17:47:17.538Z"
   },
   {
    "duration": 71,
    "start_time": "2023-04-13T17:48:51.083Z"
   },
   {
    "duration": 105,
    "start_time": "2023-04-13T17:49:02.536Z"
   },
   {
    "duration": 76,
    "start_time": "2023-04-13T17:49:07.768Z"
   },
   {
    "duration": 12,
    "start_time": "2023-04-13T17:49:16.664Z"
   },
   {
    "duration": 15,
    "start_time": "2023-04-13T17:49:30.609Z"
   },
   {
    "duration": 14,
    "start_time": "2023-04-13T17:49:35.937Z"
   },
   {
    "duration": 14,
    "start_time": "2023-04-13T17:49:57.015Z"
   },
   {
    "duration": 14,
    "start_time": "2023-04-13T17:50:11.519Z"
   },
   {
    "duration": 13,
    "start_time": "2023-04-13T17:50:15.823Z"
   },
   {
    "duration": 14,
    "start_time": "2023-04-13T17:50:18.511Z"
   },
   {
    "duration": 13,
    "start_time": "2023-04-13T17:58:57.741Z"
   },
   {
    "duration": 14,
    "start_time": "2023-04-13T17:59:46.046Z"
   },
   {
    "duration": 15,
    "start_time": "2023-04-13T18:00:02.095Z"
   },
   {
    "duration": 13,
    "start_time": "2023-04-13T18:01:45.126Z"
   },
   {
    "duration": 14,
    "start_time": "2023-04-13T18:01:49.957Z"
   },
   {
    "duration": 15,
    "start_time": "2023-04-13T18:02:06.213Z"
   },
   {
    "duration": 13,
    "start_time": "2023-04-13T18:02:10.845Z"
   },
   {
    "duration": 15,
    "start_time": "2023-04-13T18:02:15.333Z"
   },
   {
    "duration": 15,
    "start_time": "2023-04-13T18:02:22.757Z"
   },
   {
    "duration": 14,
    "start_time": "2023-04-13T18:03:19.253Z"
   },
   {
    "duration": 14,
    "start_time": "2023-04-13T18:03:21.638Z"
   },
   {
    "duration": 7,
    "start_time": "2023-04-13T18:12:19.035Z"
   },
   {
    "duration": 131,
    "start_time": "2023-04-13T18:12:26.171Z"
   },
   {
    "duration": 225,
    "start_time": "2023-04-13T18:12:34.963Z"
   },
   {
    "duration": 169,
    "start_time": "2023-04-13T18:12:56.867Z"
   },
   {
    "duration": 334,
    "start_time": "2023-04-13T18:13:29.786Z"
   },
   {
    "duration": 238,
    "start_time": "2023-04-13T18:13:31.233Z"
   },
   {
    "duration": 344,
    "start_time": "2023-04-13T18:13:45.034Z"
   },
   {
    "duration": 331,
    "start_time": "2023-04-13T18:14:15.634Z"
   },
   {
    "duration": 470,
    "start_time": "2023-04-13T18:14:58.509Z"
   },
   {
    "duration": 371,
    "start_time": "2023-04-13T18:15:09.985Z"
   },
   {
    "duration": 628,
    "start_time": "2023-04-13T18:16:28.514Z"
   },
   {
    "duration": 307,
    "start_time": "2023-04-13T18:16:37.240Z"
   },
   {
    "duration": 492,
    "start_time": "2023-04-13T18:16:53.681Z"
   },
   {
    "duration": 367,
    "start_time": "2023-04-13T18:18:13.616Z"
   },
   {
    "duration": 357,
    "start_time": "2023-04-13T18:18:20.511Z"
   },
   {
    "duration": 15,
    "start_time": "2023-04-13T18:18:41.315Z"
   },
   {
    "duration": 363,
    "start_time": "2023-04-13T18:18:48.611Z"
   },
   {
    "duration": 431,
    "start_time": "2023-04-13T18:19:04.855Z"
   },
   {
    "duration": 355,
    "start_time": "2023-04-13T18:19:15.079Z"
   },
   {
    "duration": 392,
    "start_time": "2023-04-13T18:19:30.910Z"
   },
   {
    "duration": 368,
    "start_time": "2023-04-13T18:19:37.552Z"
   },
   {
    "duration": 549,
    "start_time": "2023-04-13T18:19:51.679Z"
   },
   {
    "duration": 356,
    "start_time": "2023-04-13T18:19:55.312Z"
   },
   {
    "duration": 396,
    "start_time": "2023-04-13T18:20:33.936Z"
   },
   {
    "duration": 353,
    "start_time": "2023-04-13T18:20:41.247Z"
   },
   {
    "duration": 69,
    "start_time": "2023-04-13T18:25:39.001Z"
   },
   {
    "duration": 1452,
    "start_time": "2023-04-14T07:30:14.551Z"
   },
   {
    "duration": 137,
    "start_time": "2023-04-14T07:30:16.005Z"
   },
   {
    "duration": 22,
    "start_time": "2023-04-14T07:30:16.144Z"
   },
   {
    "duration": 6,
    "start_time": "2023-04-14T07:30:16.169Z"
   },
   {
    "duration": 28,
    "start_time": "2023-04-14T07:30:16.177Z"
   },
   {
    "duration": 10,
    "start_time": "2023-04-14T07:30:16.207Z"
   },
   {
    "duration": 5,
    "start_time": "2023-04-14T07:30:16.219Z"
   },
   {
    "duration": 17,
    "start_time": "2023-04-14T07:30:16.226Z"
   },
   {
    "duration": 35,
    "start_time": "2023-04-14T07:30:16.245Z"
   },
   {
    "duration": 204,
    "start_time": "2023-04-14T07:30:16.284Z"
   },
   {
    "duration": 22,
    "start_time": "2023-04-14T07:30:16.491Z"
   },
   {
    "duration": 196,
    "start_time": "2023-04-14T07:30:16.514Z"
   },
   {
    "duration": 7,
    "start_time": "2023-04-14T07:30:16.712Z"
   },
   {
    "duration": 18,
    "start_time": "2023-04-14T07:30:16.720Z"
   },
   {
    "duration": 38,
    "start_time": "2023-04-14T07:30:16.739Z"
   },
   {
    "duration": 352,
    "start_time": "2023-04-14T07:30:16.786Z"
   },
   {
    "duration": 6,
    "start_time": "2023-04-14T07:30:17.140Z"
   },
   {
    "duration": 69,
    "start_time": "2023-04-14T07:30:17.147Z"
   },
   {
    "duration": 376,
    "start_time": "2023-04-14T07:30:17.219Z"
   },
   {
    "duration": 391,
    "start_time": "2023-04-14T07:30:17.598Z"
   },
   {
    "duration": 184,
    "start_time": "2023-04-14T07:30:17.990Z"
   },
   {
    "duration": 213,
    "start_time": "2023-04-14T07:30:18.175Z"
   },
   {
    "duration": 44,
    "start_time": "2023-04-14T07:30:18.390Z"
   },
   {
    "duration": 51,
    "start_time": "2023-04-14T07:30:18.436Z"
   },
   {
    "duration": 12,
    "start_time": "2023-04-14T07:30:18.489Z"
   },
   {
    "duration": 30,
    "start_time": "2023-04-14T07:30:18.503Z"
   },
   {
    "duration": 41,
    "start_time": "2023-04-14T07:30:18.560Z"
   },
   {
    "duration": 26,
    "start_time": "2023-04-14T07:30:18.604Z"
   },
   {
    "duration": 40,
    "start_time": "2023-04-14T07:30:18.631Z"
   },
   {
    "duration": 475,
    "start_time": "2023-04-14T07:30:18.672Z"
   },
   {
    "duration": 19,
    "start_time": "2023-04-14T07:30:19.156Z"
   },
   {
    "duration": 394,
    "start_time": "2023-04-14T07:30:19.177Z"
   },
   {
    "duration": 8,
    "start_time": "2023-04-14T07:37:46.852Z"
   },
   {
    "duration": 77,
    "start_time": "2023-04-14T07:37:46.870Z"
   },
   {
    "duration": 21,
    "start_time": "2023-04-14T07:37:46.948Z"
   },
   {
    "duration": 4,
    "start_time": "2023-04-14T07:37:46.979Z"
   },
   {
    "duration": 17,
    "start_time": "2023-04-14T07:37:46.987Z"
   },
   {
    "duration": 10,
    "start_time": "2023-04-14T07:37:47.006Z"
   },
   {
    "duration": 5,
    "start_time": "2023-04-14T07:37:47.017Z"
   },
   {
    "duration": 37,
    "start_time": "2023-04-14T07:37:47.024Z"
   },
   {
    "duration": 22,
    "start_time": "2023-04-14T07:37:47.070Z"
   },
   {
    "duration": 187,
    "start_time": "2023-04-14T07:37:47.096Z"
   },
   {
    "duration": 25,
    "start_time": "2023-04-14T07:37:47.286Z"
   },
   {
    "duration": 199,
    "start_time": "2023-04-14T07:37:47.312Z"
   },
   {
    "duration": 6,
    "start_time": "2023-04-14T07:37:47.513Z"
   },
   {
    "duration": 15,
    "start_time": "2023-04-14T07:37:47.521Z"
   },
   {
    "duration": 42,
    "start_time": "2023-04-14T07:37:47.538Z"
   },
   {
    "duration": 305,
    "start_time": "2023-04-14T07:37:47.585Z"
   },
   {
    "duration": 6,
    "start_time": "2023-04-14T07:37:47.891Z"
   },
   {
    "duration": 28,
    "start_time": "2023-04-14T07:37:47.898Z"
   },
   {
    "duration": 363,
    "start_time": "2023-04-14T07:37:47.927Z"
   },
   {
    "duration": 378,
    "start_time": "2023-04-14T07:37:48.291Z"
   },
   {
    "duration": 311,
    "start_time": "2023-04-14T07:37:48.671Z"
   },
   {
    "duration": 199,
    "start_time": "2023-04-14T07:37:48.984Z"
   },
   {
    "duration": 44,
    "start_time": "2023-04-14T07:37:49.185Z"
   },
   {
    "duration": 64,
    "start_time": "2023-04-14T07:37:49.231Z"
   },
   {
    "duration": 8,
    "start_time": "2023-04-14T07:37:49.296Z"
   },
   {
    "duration": 28,
    "start_time": "2023-04-14T07:37:49.306Z"
   },
   {
    "duration": 36,
    "start_time": "2023-04-14T07:37:49.358Z"
   },
   {
    "duration": 30,
    "start_time": "2023-04-14T07:37:49.397Z"
   },
   {
    "duration": 43,
    "start_time": "2023-04-14T07:37:49.428Z"
   },
   {
    "duration": 408,
    "start_time": "2023-04-14T07:37:49.477Z"
   },
   {
    "duration": 15,
    "start_time": "2023-04-14T07:37:49.886Z"
   },
   {
    "duration": 427,
    "start_time": "2023-04-14T07:37:49.902Z"
   },
   {
    "duration": 1112,
    "start_time": "2023-04-14T07:52:10.912Z"
   },
   {
    "duration": 112,
    "start_time": "2023-04-14T07:52:12.026Z"
   },
   {
    "duration": 22,
    "start_time": "2023-04-14T07:52:12.139Z"
   },
   {
    "duration": 4,
    "start_time": "2023-04-14T07:52:12.164Z"
   },
   {
    "duration": 22,
    "start_time": "2023-04-14T07:52:12.170Z"
   },
   {
    "duration": 20,
    "start_time": "2023-04-14T07:52:12.194Z"
   },
   {
    "duration": 24,
    "start_time": "2023-04-14T07:52:12.216Z"
   },
   {
    "duration": 35,
    "start_time": "2023-04-14T07:52:12.242Z"
   },
   {
    "duration": 25,
    "start_time": "2023-04-14T07:52:12.279Z"
   },
   {
    "duration": 166,
    "start_time": "2023-04-14T07:52:12.307Z"
   },
   {
    "duration": 35,
    "start_time": "2023-04-14T07:52:12.475Z"
   },
   {
    "duration": 162,
    "start_time": "2023-04-14T07:52:12.512Z"
   },
   {
    "duration": 6,
    "start_time": "2023-04-14T07:52:12.675Z"
   },
   {
    "duration": 27,
    "start_time": "2023-04-14T07:52:12.682Z"
   },
   {
    "duration": 9,
    "start_time": "2023-04-14T07:52:12.711Z"
   },
   {
    "duration": 307,
    "start_time": "2023-04-14T07:52:12.721Z"
   },
   {
    "duration": 5,
    "start_time": "2023-04-14T07:52:13.030Z"
   },
   {
    "duration": 25,
    "start_time": "2023-04-14T07:52:13.036Z"
   },
   {
    "duration": 299,
    "start_time": "2023-04-14T07:52:13.063Z"
   },
   {
    "duration": 327,
    "start_time": "2023-04-14T07:52:13.364Z"
   },
   {
    "duration": 171,
    "start_time": "2023-04-14T07:52:13.692Z"
   },
   {
    "duration": 173,
    "start_time": "2023-04-14T07:52:13.865Z"
   },
   {
    "duration": 59,
    "start_time": "2023-04-14T07:52:14.047Z"
   },
   {
    "duration": 55,
    "start_time": "2023-04-14T07:52:14.113Z"
   },
   {
    "duration": 9,
    "start_time": "2023-04-14T07:52:14.169Z"
   },
   {
    "duration": 50,
    "start_time": "2023-04-14T07:52:14.180Z"
   },
   {
    "duration": 33,
    "start_time": "2023-04-14T07:52:14.232Z"
   },
   {
    "duration": 59,
    "start_time": "2023-04-14T07:52:14.269Z"
   },
   {
    "duration": 16,
    "start_time": "2023-04-14T07:52:14.333Z"
   },
   {
    "duration": 472,
    "start_time": "2023-04-14T07:52:14.351Z"
   },
   {
    "duration": 18,
    "start_time": "2023-04-14T07:52:14.827Z"
   },
   {
    "duration": 364,
    "start_time": "2023-04-14T07:52:14.847Z"
   },
   {
    "duration": 53,
    "start_time": "2023-04-14T11:13:43.348Z"
   },
   {
    "duration": 1342,
    "start_time": "2023-04-14T11:13:47.414Z"
   },
   {
    "duration": 220,
    "start_time": "2023-04-14T11:13:48.758Z"
   },
   {
    "duration": 16,
    "start_time": "2023-04-14T11:13:48.980Z"
   },
   {
    "duration": 27,
    "start_time": "2023-04-14T11:13:49.000Z"
   },
   {
    "duration": 24,
    "start_time": "2023-04-14T11:13:49.029Z"
   },
   {
    "duration": 25,
    "start_time": "2023-04-14T11:13:49.055Z"
   },
   {
    "duration": 30,
    "start_time": "2023-04-14T11:13:49.082Z"
   },
   {
    "duration": 26,
    "start_time": "2023-04-14T11:13:49.114Z"
   },
   {
    "duration": 35,
    "start_time": "2023-04-14T11:13:49.142Z"
   },
   {
    "duration": 191,
    "start_time": "2023-04-14T11:13:49.179Z"
   },
   {
    "duration": 21,
    "start_time": "2023-04-14T11:13:51.525Z"
   },
   {
    "duration": 16,
    "start_time": "2023-04-14T11:17:56.690Z"
   },
   {
    "duration": 16,
    "start_time": "2023-04-14T11:18:32.553Z"
   },
   {
    "duration": 1987,
    "start_time": "2023-04-14T11:25:17.514Z"
   },
   {
    "duration": 66,
    "start_time": "2023-04-14T11:25:24.599Z"
   },
   {
    "duration": 414,
    "start_time": "2023-04-14T11:25:28.398Z"
   },
   {
    "duration": 67,
    "start_time": "2023-04-14T11:25:50.410Z"
   },
   {
    "duration": 1124,
    "start_time": "2023-04-14T11:26:06.817Z"
   },
   {
    "duration": 934,
    "start_time": "2023-04-14T11:26:11.098Z"
   },
   {
    "duration": 7,
    "start_time": "2023-04-14T11:27:10.455Z"
   },
   {
    "duration": 6,
    "start_time": "2023-04-14T11:27:20.148Z"
   },
   {
    "duration": 4,
    "start_time": "2023-04-14T11:28:02.857Z"
   },
   {
    "duration": 49,
    "start_time": "2023-04-14T11:30:34.162Z"
   },
   {
    "duration": 249,
    "start_time": "2023-04-14T11:30:44.438Z"
   },
   {
    "duration": 5,
    "start_time": "2023-04-14T11:31:42.815Z"
   },
   {
    "duration": 8,
    "start_time": "2023-04-14T11:34:20.524Z"
   },
   {
    "duration": 8,
    "start_time": "2023-04-14T11:36:56.896Z"
   },
   {
    "duration": 7,
    "start_time": "2023-04-14T11:37:04.954Z"
   },
   {
    "duration": 4,
    "start_time": "2023-04-14T11:37:50.648Z"
   },
   {
    "duration": 78,
    "start_time": "2023-04-14T11:37:50.654Z"
   },
   {
    "duration": 13,
    "start_time": "2023-04-14T11:37:50.734Z"
   },
   {
    "duration": 11,
    "start_time": "2023-04-14T11:37:50.749Z"
   },
   {
    "duration": 41,
    "start_time": "2023-04-14T11:37:50.762Z"
   },
   {
    "duration": 34,
    "start_time": "2023-04-14T11:37:50.805Z"
   },
   {
    "duration": 13,
    "start_time": "2023-04-14T11:37:50.841Z"
   },
   {
    "duration": 21,
    "start_time": "2023-04-14T11:37:50.856Z"
   },
   {
    "duration": 26,
    "start_time": "2023-04-14T11:37:50.880Z"
   },
   {
    "duration": 166,
    "start_time": "2023-04-14T11:37:50.908Z"
   },
   {
    "duration": 22,
    "start_time": "2023-04-14T11:37:51.075Z"
   },
   {
    "duration": 20,
    "start_time": "2023-04-14T11:37:51.098Z"
   },
   {
    "duration": 10,
    "start_time": "2023-04-14T11:38:37.690Z"
   },
   {
    "duration": 16,
    "start_time": "2023-04-14T11:38:50.818Z"
   },
   {
    "duration": 27,
    "start_time": "2023-04-14T11:40:23.650Z"
   },
   {
    "duration": 11,
    "start_time": "2023-04-14T11:41:08.624Z"
   },
   {
    "duration": 6,
    "start_time": "2023-04-14T12:02:39.603Z"
   },
   {
    "duration": 3,
    "start_time": "2023-04-14T12:02:45.111Z"
   },
   {
    "duration": 77,
    "start_time": "2023-04-14T12:02:45.116Z"
   },
   {
    "duration": 15,
    "start_time": "2023-04-14T12:02:45.195Z"
   },
   {
    "duration": 5,
    "start_time": "2023-04-14T12:02:45.211Z"
   },
   {
    "duration": 13,
    "start_time": "2023-04-14T12:02:45.218Z"
   },
   {
    "duration": 9,
    "start_time": "2023-04-14T12:02:45.233Z"
   },
   {
    "duration": 5,
    "start_time": "2023-04-14T12:02:45.243Z"
   },
   {
    "duration": 38,
    "start_time": "2023-04-14T12:02:45.250Z"
   },
   {
    "duration": 18,
    "start_time": "2023-04-14T12:02:45.290Z"
   },
   {
    "duration": 175,
    "start_time": "2023-04-14T12:02:45.310Z"
   },
   {
    "duration": 17,
    "start_time": "2023-04-14T12:02:45.489Z"
   },
   {
    "duration": 21,
    "start_time": "2023-04-14T12:02:45.508Z"
   },
   {
    "duration": 10,
    "start_time": "2023-04-14T12:02:45.530Z"
   },
   {
    "duration": 55,
    "start_time": "2023-04-14T12:02:45.541Z"
   },
   {
    "duration": 20,
    "start_time": "2023-04-14T12:02:45.599Z"
   },
   {
    "duration": 194,
    "start_time": "2023-04-14T12:02:45.621Z"
   },
   {
    "duration": 6,
    "start_time": "2023-04-14T12:02:45.816Z"
   },
   {
    "duration": 15,
    "start_time": "2023-04-14T12:02:45.823Z"
   },
   {
    "duration": 8,
    "start_time": "2023-04-14T12:02:45.840Z"
   },
   {
    "duration": 341,
    "start_time": "2023-04-14T12:02:45.850Z"
   },
   {
    "duration": 23,
    "start_time": "2023-04-14T12:02:51.435Z"
   },
   {
    "duration": 23,
    "start_time": "2023-04-14T12:03:03.578Z"
   },
   {
    "duration": 332,
    "start_time": "2023-04-14T12:03:04.683Z"
   },
   {
    "duration": 92,
    "start_time": "2023-04-14T12:03:39.978Z"
   },
   {
    "duration": 330,
    "start_time": "2023-04-14T12:05:41.249Z"
   },
   {
    "duration": 329,
    "start_time": "2023-04-14T12:06:16.233Z"
   },
   {
    "duration": 324,
    "start_time": "2023-04-14T12:07:17.320Z"
   },
   {
    "duration": 4,
    "start_time": "2023-04-14T12:07:26.161Z"
   },
   {
    "duration": 361,
    "start_time": "2023-04-14T12:07:27.798Z"
   },
   {
    "duration": 322,
    "start_time": "2023-04-14T12:07:39.696Z"
   },
   {
    "duration": 303,
    "start_time": "2023-04-14T12:08:03.976Z"
   },
   {
    "duration": 314,
    "start_time": "2023-04-14T12:08:15.169Z"
   },
   {
    "duration": 305,
    "start_time": "2023-04-14T12:08:21.441Z"
   },
   {
    "duration": 294,
    "start_time": "2023-04-14T12:09:27.451Z"
   },
   {
    "duration": 280,
    "start_time": "2023-04-14T12:09:39.966Z"
   },
   {
    "duration": 285,
    "start_time": "2023-04-14T12:12:18.838Z"
   },
   {
    "duration": 303,
    "start_time": "2023-04-14T12:12:29.501Z"
   },
   {
    "duration": 397,
    "start_time": "2023-04-14T12:12:44.861Z"
   },
   {
    "duration": 299,
    "start_time": "2023-04-14T12:13:07.629Z"
   },
   {
    "duration": 302,
    "start_time": "2023-04-14T12:13:26.542Z"
   },
   {
    "duration": 345,
    "start_time": "2023-04-14T12:14:59.757Z"
   },
   {
    "duration": 64,
    "start_time": "2023-04-14T12:15:05.155Z"
   },
   {
    "duration": 303,
    "start_time": "2023-04-14T12:15:08.012Z"
   },
   {
    "duration": 169,
    "start_time": "2023-04-14T12:15:16.355Z"
   },
   {
    "duration": 404,
    "start_time": "2023-04-14T12:15:22.331Z"
   },
   {
    "duration": 331,
    "start_time": "2023-04-14T12:15:26.979Z"
   },
   {
    "duration": 3,
    "start_time": "2023-04-14T12:25:00.647Z"
   },
   {
    "duration": 114,
    "start_time": "2023-04-14T12:25:00.653Z"
   },
   {
    "duration": 23,
    "start_time": "2023-04-14T12:25:00.770Z"
   },
   {
    "duration": 75,
    "start_time": "2023-04-14T12:25:00.796Z"
   },
   {
    "duration": 28,
    "start_time": "2023-04-14T12:25:00.874Z"
   },
   {
    "duration": 41,
    "start_time": "2023-04-14T12:25:00.904Z"
   },
   {
    "duration": 56,
    "start_time": "2023-04-14T12:25:00.947Z"
   },
   {
    "duration": 62,
    "start_time": "2023-04-14T12:25:01.005Z"
   },
   {
    "duration": 80,
    "start_time": "2023-04-14T12:25:01.069Z"
   },
   {
    "duration": 250,
    "start_time": "2023-04-14T12:25:01.151Z"
   },
   {
    "duration": 16,
    "start_time": "2023-04-14T12:25:01.404Z"
   },
   {
    "duration": 64,
    "start_time": "2023-04-14T12:25:01.422Z"
   },
   {
    "duration": 63,
    "start_time": "2023-04-14T12:25:01.488Z"
   },
   {
    "duration": 78,
    "start_time": "2023-04-14T12:25:01.552Z"
   },
   {
    "duration": 57,
    "start_time": "2023-04-14T12:25:01.632Z"
   },
   {
    "duration": 210,
    "start_time": "2023-04-14T12:25:01.691Z"
   },
   {
    "duration": 6,
    "start_time": "2023-04-14T12:25:01.903Z"
   },
   {
    "duration": 76,
    "start_time": "2023-04-14T12:25:01.910Z"
   },
   {
    "duration": 53,
    "start_time": "2023-04-14T12:25:01.988Z"
   },
   {
    "duration": 353,
    "start_time": "2023-04-14T12:25:02.043Z"
   },
   {
    "duration": 5,
    "start_time": "2023-04-14T12:25:02.398Z"
   },
   {
    "duration": 47,
    "start_time": "2023-04-14T12:25:02.405Z"
   },
   {
    "duration": 301,
    "start_time": "2023-04-14T12:25:02.453Z"
   },
   {
    "duration": 335,
    "start_time": "2023-04-14T12:25:02.756Z"
   },
   {
    "duration": 332,
    "start_time": "2023-04-14T12:25:03.093Z"
   },
   {
    "duration": 269,
    "start_time": "2023-04-14T12:25:03.426Z"
   },
   {
    "duration": 174,
    "start_time": "2023-04-14T12:25:03.696Z"
   },
   {
    "duration": 40,
    "start_time": "2023-04-14T12:25:03.872Z"
   },
   {
    "duration": 0,
    "start_time": "2023-04-14T12:25:03.914Z"
   },
   {
    "duration": 34,
    "start_time": "2023-04-14T12:25:22.501Z"
   },
   {
    "duration": 33,
    "start_time": "2023-04-14T12:26:45.533Z"
   },
   {
    "duration": 48,
    "start_time": "2023-04-14T12:27:04.734Z"
   },
   {
    "duration": 31,
    "start_time": "2023-04-14T12:28:36.284Z"
   },
   {
    "duration": 20,
    "start_time": "2023-04-14T12:28:58.436Z"
   },
   {
    "duration": 24,
    "start_time": "2023-04-14T12:29:39.245Z"
   },
   {
    "duration": 19,
    "start_time": "2023-04-14T12:29:51.155Z"
   },
   {
    "duration": 25,
    "start_time": "2023-04-14T12:30:03.611Z"
   },
   {
    "duration": 9,
    "start_time": "2023-04-14T12:30:59.491Z"
   },
   {
    "duration": 20,
    "start_time": "2023-04-14T12:31:06.954Z"
   },
   {
    "duration": 41,
    "start_time": "2023-04-14T12:31:12.479Z"
   },
   {
    "duration": 53,
    "start_time": "2023-04-14T12:31:35.248Z"
   },
   {
    "duration": 19,
    "start_time": "2023-04-14T12:33:43.522Z"
   },
   {
    "duration": 178,
    "start_time": "2023-04-14T12:34:43.320Z"
   },
   {
    "duration": 172,
    "start_time": "2023-04-14T12:34:52.104Z"
   },
   {
    "duration": 183,
    "start_time": "2023-04-14T12:35:04.672Z"
   },
   {
    "duration": 173,
    "start_time": "2023-04-14T12:35:25.672Z"
   },
   {
    "duration": 2,
    "start_time": "2023-04-14T12:42:47.478Z"
   },
   {
    "duration": 112,
    "start_time": "2023-04-14T12:42:47.482Z"
   },
   {
    "duration": 21,
    "start_time": "2023-04-14T12:42:47.597Z"
   },
   {
    "duration": 7,
    "start_time": "2023-04-14T12:42:47.619Z"
   },
   {
    "duration": 27,
    "start_time": "2023-04-14T12:42:47.629Z"
   },
   {
    "duration": 26,
    "start_time": "2023-04-14T12:42:47.658Z"
   },
   {
    "duration": 26,
    "start_time": "2023-04-14T12:42:47.686Z"
   },
   {
    "duration": 26,
    "start_time": "2023-04-14T12:42:47.713Z"
   },
   {
    "duration": 31,
    "start_time": "2023-04-14T12:42:47.741Z"
   },
   {
    "duration": 7,
    "start_time": "2023-04-14T12:43:40.874Z"
   },
   {
    "duration": 7,
    "start_time": "2023-04-14T12:43:49.242Z"
   },
   {
    "duration": 8,
    "start_time": "2023-04-14T12:44:04.571Z"
   },
   {
    "duration": 8,
    "start_time": "2023-04-14T12:44:23.963Z"
   },
   {
    "duration": 9,
    "start_time": "2023-04-14T12:44:39.482Z"
   },
   {
    "duration": 8,
    "start_time": "2023-04-14T12:44:53.276Z"
   },
   {
    "duration": 9,
    "start_time": "2023-04-14T12:45:09.483Z"
   },
   {
    "duration": 8,
    "start_time": "2023-04-14T12:45:17.025Z"
   },
   {
    "duration": 10,
    "start_time": "2023-04-14T12:45:25.206Z"
   },
   {
    "duration": 12,
    "start_time": "2023-04-14T12:45:30.714Z"
   },
   {
    "duration": 6,
    "start_time": "2023-04-14T12:45:47.338Z"
   },
   {
    "duration": 9,
    "start_time": "2023-04-14T12:45:52.234Z"
   },
   {
    "duration": 8,
    "start_time": "2023-04-14T12:46:01.338Z"
   },
   {
    "duration": 27,
    "start_time": "2023-04-14T12:46:10.266Z"
   },
   {
    "duration": 14,
    "start_time": "2023-04-14T12:46:14.586Z"
   },
   {
    "duration": 7,
    "start_time": "2023-04-14T12:46:28.865Z"
   },
   {
    "duration": 10,
    "start_time": "2023-04-14T12:46:34.130Z"
   },
   {
    "duration": 10,
    "start_time": "2023-04-14T12:46:48.833Z"
   },
   {
    "duration": 25,
    "start_time": "2023-04-14T12:49:12.352Z"
   },
   {
    "duration": 10,
    "start_time": "2023-04-14T12:49:49.369Z"
   },
   {
    "duration": 20,
    "start_time": "2023-04-14T12:50:04.880Z"
   },
   {
    "duration": 9,
    "start_time": "2023-04-14T12:50:38.839Z"
   },
   {
    "duration": 27,
    "start_time": "2023-04-14T12:50:53.248Z"
   },
   {
    "duration": 21,
    "start_time": "2023-04-14T12:51:14.479Z"
   },
   {
    "duration": 35,
    "start_time": "2023-04-14T12:51:18.398Z"
   },
   {
    "duration": 35,
    "start_time": "2023-04-14T12:51:28.687Z"
   },
   {
    "duration": 28,
    "start_time": "2023-04-14T12:52:27.750Z"
   },
   {
    "duration": 27,
    "start_time": "2023-04-14T12:53:57.462Z"
   },
   {
    "duration": 20,
    "start_time": "2023-04-14T12:55:47.917Z"
   },
   {
    "duration": 95,
    "start_time": "2023-04-14T12:56:11.564Z"
   },
   {
    "duration": 55,
    "start_time": "2023-04-14T12:56:35.301Z"
   },
   {
    "duration": 18,
    "start_time": "2023-04-14T12:57:13.261Z"
   },
   {
    "duration": 34,
    "start_time": "2023-04-14T12:57:24.179Z"
   },
   {
    "duration": 17,
    "start_time": "2023-04-14T12:58:04.804Z"
   },
   {
    "duration": 31,
    "start_time": "2023-04-14T12:58:11.474Z"
   },
   {
    "duration": 14,
    "start_time": "2023-04-14T12:58:26.835Z"
   },
   {
    "duration": 14,
    "start_time": "2023-04-14T12:58:33.906Z"
   },
   {
    "duration": 27,
    "start_time": "2023-04-14T12:58:41.042Z"
   },
   {
    "duration": 38,
    "start_time": "2023-04-14T13:01:15.305Z"
   },
   {
    "duration": 8,
    "start_time": "2023-04-14T13:10:15.980Z"
   },
   {
    "duration": 11,
    "start_time": "2023-04-14T13:10:32.971Z"
   },
   {
    "duration": 11,
    "start_time": "2023-04-14T13:10:37.067Z"
   },
   {
    "duration": 11,
    "start_time": "2023-04-14T13:10:53.515Z"
   },
   {
    "duration": 10,
    "start_time": "2023-04-14T13:11:04.907Z"
   },
   {
    "duration": 376,
    "start_time": "2023-04-14T13:14:18.241Z"
   },
   {
    "duration": 356,
    "start_time": "2023-04-14T13:14:27.129Z"
   },
   {
    "duration": 442,
    "start_time": "2023-04-14T13:15:06.926Z"
   },
   {
    "duration": 3,
    "start_time": "2023-04-14T13:22:05.645Z"
   },
   {
    "duration": 85,
    "start_time": "2023-04-14T13:22:05.650Z"
   },
   {
    "duration": 15,
    "start_time": "2023-04-14T13:22:05.738Z"
   },
   {
    "duration": 29,
    "start_time": "2023-04-14T13:22:05.755Z"
   },
   {
    "duration": 21,
    "start_time": "2023-04-14T13:22:05.787Z"
   },
   {
    "duration": 25,
    "start_time": "2023-04-14T13:22:05.809Z"
   },
   {
    "duration": 31,
    "start_time": "2023-04-14T13:22:05.835Z"
   },
   {
    "duration": 21,
    "start_time": "2023-04-14T13:22:05.868Z"
   },
   {
    "duration": 20,
    "start_time": "2023-04-14T13:22:05.890Z"
   },
   {
    "duration": 169,
    "start_time": "2023-04-14T13:22:05.912Z"
   },
   {
    "duration": 31,
    "start_time": "2023-04-14T13:22:06.085Z"
   },
   {
    "duration": 12,
    "start_time": "2023-04-14T13:22:06.118Z"
   },
   {
    "duration": 23,
    "start_time": "2023-04-14T13:22:06.132Z"
   },
   {
    "duration": 42,
    "start_time": "2023-04-14T13:22:06.157Z"
   },
   {
    "duration": 11,
    "start_time": "2023-04-14T13:22:06.201Z"
   },
   {
    "duration": 33,
    "start_time": "2023-04-14T13:22:06.214Z"
   },
   {
    "duration": 44,
    "start_time": "2023-04-14T13:22:06.249Z"
   },
   {
    "duration": 186,
    "start_time": "2023-04-14T13:22:06.295Z"
   },
   {
    "duration": 8,
    "start_time": "2023-04-14T13:22:06.487Z"
   },
   {
    "duration": 27,
    "start_time": "2023-04-14T13:22:06.499Z"
   },
   {
    "duration": 8,
    "start_time": "2023-04-14T13:22:06.527Z"
   },
   {
    "duration": 289,
    "start_time": "2023-04-14T13:22:06.537Z"
   },
   {
    "duration": 6,
    "start_time": "2023-04-14T13:22:06.829Z"
   },
   {
    "duration": 34,
    "start_time": "2023-04-14T13:22:06.837Z"
   },
   {
    "duration": 293,
    "start_time": "2023-04-14T13:22:06.873Z"
   },
   {
    "duration": 311,
    "start_time": "2023-04-14T13:22:07.168Z"
   },
   {
    "duration": 311,
    "start_time": "2023-04-14T13:22:07.481Z"
   },
   {
    "duration": 187,
    "start_time": "2023-04-14T13:22:07.794Z"
   },
   {
    "duration": 184,
    "start_time": "2023-04-14T13:22:07.989Z"
   },
   {
    "duration": 37,
    "start_time": "2023-04-14T13:22:08.175Z"
   },
   {
    "duration": 32,
    "start_time": "2023-04-14T13:22:08.214Z"
   },
   {
    "duration": 43,
    "start_time": "2023-04-14T13:22:08.248Z"
   },
   {
    "duration": 7,
    "start_time": "2023-04-14T13:22:08.293Z"
   },
   {
    "duration": 450,
    "start_time": "2023-04-14T13:22:08.302Z"
   },
   {
    "duration": 25,
    "start_time": "2023-04-14T13:22:12.437Z"
   },
   {
    "duration": 24,
    "start_time": "2023-04-14T13:31:39.888Z"
   },
   {
    "duration": 23,
    "start_time": "2023-04-14T13:33:28.007Z"
   },
   {
    "duration": 3,
    "start_time": "2023-04-14T13:41:53.907Z"
   },
   {
    "duration": 69,
    "start_time": "2023-04-14T13:41:53.912Z"
   },
   {
    "duration": 14,
    "start_time": "2023-04-14T13:41:53.983Z"
   },
   {
    "duration": 6,
    "start_time": "2023-04-14T13:41:53.999Z"
   },
   {
    "duration": 16,
    "start_time": "2023-04-14T13:41:54.007Z"
   },
   {
    "duration": 10,
    "start_time": "2023-04-14T13:41:54.025Z"
   },
   {
    "duration": 4,
    "start_time": "2023-04-14T13:41:54.037Z"
   },
   {
    "duration": 29,
    "start_time": "2023-04-14T13:41:54.043Z"
   },
   {
    "duration": 17,
    "start_time": "2023-04-14T13:41:54.088Z"
   },
   {
    "duration": 170,
    "start_time": "2023-04-14T13:41:54.106Z"
   },
   {
    "duration": 35,
    "start_time": "2023-04-14T13:41:54.279Z"
   },
   {
    "duration": 12,
    "start_time": "2023-04-14T13:41:54.316Z"
   },
   {
    "duration": 35,
    "start_time": "2023-04-14T13:41:54.329Z"
   },
   {
    "duration": 25,
    "start_time": "2023-04-14T13:41:54.366Z"
   },
   {
    "duration": 11,
    "start_time": "2023-04-14T13:41:54.392Z"
   },
   {
    "duration": 32,
    "start_time": "2023-04-14T13:41:54.404Z"
   },
   {
    "duration": 20,
    "start_time": "2023-04-14T13:41:54.438Z"
   },
   {
    "duration": 194,
    "start_time": "2023-04-14T13:41:54.459Z"
   },
   {
    "duration": 6,
    "start_time": "2023-04-14T13:41:54.654Z"
   },
   {
    "duration": 44,
    "start_time": "2023-04-14T13:41:54.662Z"
   },
   {
    "duration": 24,
    "start_time": "2023-04-14T13:41:54.708Z"
   },
   {
    "duration": 292,
    "start_time": "2023-04-14T13:41:54.734Z"
   },
   {
    "duration": 4,
    "start_time": "2023-04-14T13:41:55.028Z"
   },
   {
    "duration": 36,
    "start_time": "2023-04-14T13:41:55.034Z"
   },
   {
    "duration": 315,
    "start_time": "2023-04-14T13:41:55.072Z"
   },
   {
    "duration": 307,
    "start_time": "2023-04-14T13:41:55.388Z"
   },
   {
    "duration": 310,
    "start_time": "2023-04-14T13:41:55.697Z"
   },
   {
    "duration": 179,
    "start_time": "2023-04-14T13:41:56.009Z"
   },
   {
    "duration": 332,
    "start_time": "2023-04-14T13:41:56.191Z"
   },
   {
    "duration": 31,
    "start_time": "2023-04-14T13:41:56.525Z"
   },
   {
    "duration": 50,
    "start_time": "2023-04-14T13:41:56.558Z"
   },
   {
    "duration": 18,
    "start_time": "2023-04-14T13:41:56.610Z"
   },
   {
    "duration": 14,
    "start_time": "2023-04-14T13:41:56.629Z"
   },
   {
    "duration": 354,
    "start_time": "2023-04-14T13:41:56.644Z"
   },
   {
    "duration": 26,
    "start_time": "2023-04-14T13:41:57.000Z"
   },
   {
    "duration": 21,
    "start_time": "2023-04-14T13:41:57.028Z"
   },
   {
    "duration": 52,
    "start_time": "2023-04-14T13:41:57.051Z"
   },
   {
    "duration": 12,
    "start_time": "2023-04-14T13:41:57.104Z"
   },
   {
    "duration": 383,
    "start_time": "2023-04-14T13:41:57.117Z"
   },
   {
    "duration": 13,
    "start_time": "2023-04-14T13:41:57.502Z"
   },
   {
    "duration": 352,
    "start_time": "2023-04-14T13:41:57.517Z"
   },
   {
    "duration": 16,
    "start_time": "2023-04-14T13:49:51.006Z"
   },
   {
    "duration": 16,
    "start_time": "2023-04-14T13:50:02.325Z"
   },
   {
    "duration": 193,
    "start_time": "2023-04-14T13:56:12.448Z"
   },
   {
    "duration": 175,
    "start_time": "2023-04-14T13:56:21.952Z"
   },
   {
    "duration": 409,
    "start_time": "2023-04-14T13:57:38.839Z"
   },
   {
    "duration": 330,
    "start_time": "2023-04-14T13:57:50.696Z"
   },
   {
    "duration": 324,
    "start_time": "2023-04-14T13:57:58.207Z"
   },
   {
    "duration": 295,
    "start_time": "2023-04-14T13:58:02.687Z"
   },
   {
    "duration": 902,
    "start_time": "2023-04-14T13:58:07.351Z"
   },
   {
    "duration": 428,
    "start_time": "2023-04-14T13:58:10.719Z"
   },
   {
    "duration": 335,
    "start_time": "2023-04-14T13:58:13.495Z"
   },
   {
    "duration": 326,
    "start_time": "2023-04-14T13:58:23.663Z"
   },
   {
    "duration": 3,
    "start_time": "2023-04-14T14:00:04.388Z"
   },
   {
    "duration": 94,
    "start_time": "2023-04-14T14:00:04.393Z"
   },
   {
    "duration": 14,
    "start_time": "2023-04-14T14:00:04.489Z"
   },
   {
    "duration": 30,
    "start_time": "2023-04-14T14:00:04.505Z"
   },
   {
    "duration": 40,
    "start_time": "2023-04-14T14:00:04.537Z"
   },
   {
    "duration": 32,
    "start_time": "2023-04-14T14:00:04.578Z"
   },
   {
    "duration": 43,
    "start_time": "2023-04-14T14:00:04.612Z"
   },
   {
    "duration": 22,
    "start_time": "2023-04-14T14:00:04.657Z"
   },
   {
    "duration": 45,
    "start_time": "2023-04-14T14:00:04.681Z"
   },
   {
    "duration": 180,
    "start_time": "2023-04-14T14:00:04.728Z"
   },
   {
    "duration": 30,
    "start_time": "2023-04-14T14:00:04.910Z"
   },
   {
    "duration": 21,
    "start_time": "2023-04-14T14:00:04.942Z"
   },
   {
    "duration": 36,
    "start_time": "2023-04-14T14:00:04.964Z"
   },
   {
    "duration": 42,
    "start_time": "2023-04-14T14:00:05.004Z"
   },
   {
    "duration": 32,
    "start_time": "2023-04-14T14:00:05.047Z"
   },
   {
    "duration": 67,
    "start_time": "2023-04-14T14:00:05.081Z"
   },
   {
    "duration": 20,
    "start_time": "2023-04-14T14:00:05.149Z"
   },
   {
    "duration": 178,
    "start_time": "2023-04-14T14:00:05.171Z"
   },
   {
    "duration": 6,
    "start_time": "2023-04-14T14:00:05.351Z"
   },
   {
    "duration": 32,
    "start_time": "2023-04-14T14:00:05.358Z"
   },
   {
    "duration": 48,
    "start_time": "2023-04-14T14:00:05.391Z"
   },
   {
    "duration": 292,
    "start_time": "2023-04-14T14:00:05.441Z"
   },
   {
    "duration": 5,
    "start_time": "2023-04-14T14:00:05.735Z"
   },
   {
    "duration": 66,
    "start_time": "2023-04-14T14:00:05.741Z"
   },
   {
    "duration": 307,
    "start_time": "2023-04-14T14:00:05.809Z"
   },
   {
    "duration": 324,
    "start_time": "2023-04-14T14:00:06.118Z"
   },
   {
    "duration": 426,
    "start_time": "2023-04-14T14:00:06.443Z"
   },
   {
    "duration": 197,
    "start_time": "2023-04-14T14:00:06.870Z"
   },
   {
    "duration": 202,
    "start_time": "2023-04-14T14:00:07.069Z"
   },
   {
    "duration": 43,
    "start_time": "2023-04-14T14:00:07.273Z"
   },
   {
    "duration": 30,
    "start_time": "2023-04-14T14:00:07.318Z"
   },
   {
    "duration": 38,
    "start_time": "2023-04-14T14:00:07.350Z"
   },
   {
    "duration": 9,
    "start_time": "2023-04-14T14:00:07.390Z"
   },
   {
    "duration": 342,
    "start_time": "2023-04-14T14:00:07.401Z"
   },
   {
    "duration": 23,
    "start_time": "2023-04-14T14:00:07.745Z"
   },
   {
    "duration": 51,
    "start_time": "2023-04-14T14:00:07.770Z"
   },
   {
    "duration": 29,
    "start_time": "2023-04-14T14:00:07.823Z"
   },
   {
    "duration": 28,
    "start_time": "2023-04-14T14:00:07.854Z"
   },
   {
    "duration": 387,
    "start_time": "2023-04-14T14:00:07.884Z"
   },
   {
    "duration": 18,
    "start_time": "2023-04-14T14:00:08.273Z"
   },
   {
    "duration": 361,
    "start_time": "2023-04-14T14:00:08.294Z"
   },
   {
    "duration": 3,
    "start_time": "2023-04-14T14:05:02.161Z"
   },
   {
    "duration": 90,
    "start_time": "2023-04-14T14:05:02.167Z"
   },
   {
    "duration": 14,
    "start_time": "2023-04-14T14:05:02.259Z"
   },
   {
    "duration": 21,
    "start_time": "2023-04-14T14:05:02.275Z"
   },
   {
    "duration": 45,
    "start_time": "2023-04-14T14:05:02.298Z"
   },
   {
    "duration": 48,
    "start_time": "2023-04-14T14:05:02.345Z"
   },
   {
    "duration": 32,
    "start_time": "2023-04-14T14:05:02.395Z"
   },
   {
    "duration": 40,
    "start_time": "2023-04-14T14:05:02.429Z"
   },
   {
    "duration": 18,
    "start_time": "2023-04-14T14:05:02.470Z"
   },
   {
    "duration": 260,
    "start_time": "2023-04-14T14:05:02.489Z"
   },
   {
    "duration": 40,
    "start_time": "2023-04-14T14:05:02.752Z"
   },
   {
    "duration": 14,
    "start_time": "2023-04-14T14:05:02.793Z"
   },
   {
    "duration": 16,
    "start_time": "2023-04-14T14:05:02.808Z"
   },
   {
    "duration": 21,
    "start_time": "2023-04-14T14:05:02.826Z"
   },
   {
    "duration": 43,
    "start_time": "2023-04-14T14:05:02.848Z"
   },
   {
    "duration": 24,
    "start_time": "2023-04-14T14:05:02.893Z"
   },
   {
    "duration": 19,
    "start_time": "2023-04-14T14:05:02.919Z"
   },
   {
    "duration": 186,
    "start_time": "2023-04-14T14:05:02.939Z"
   },
   {
    "duration": 5,
    "start_time": "2023-04-14T14:05:03.127Z"
   },
   {
    "duration": 22,
    "start_time": "2023-04-14T14:05:03.133Z"
   },
   {
    "duration": 6,
    "start_time": "2023-04-14T14:05:03.157Z"
   },
   {
    "duration": 303,
    "start_time": "2023-04-14T14:05:03.165Z"
   },
   {
    "duration": 6,
    "start_time": "2023-04-14T14:05:03.470Z"
   },
   {
    "duration": 31,
    "start_time": "2023-04-14T14:05:03.478Z"
   },
   {
    "duration": 294,
    "start_time": "2023-04-14T14:05:03.511Z"
   },
   {
    "duration": 307,
    "start_time": "2023-04-14T14:05:03.806Z"
   },
   {
    "duration": 302,
    "start_time": "2023-04-14T14:05:04.115Z"
   },
   {
    "duration": 204,
    "start_time": "2023-04-14T14:05:04.418Z"
   },
   {
    "duration": 198,
    "start_time": "2023-04-14T14:05:04.626Z"
   },
   {
    "duration": 34,
    "start_time": "2023-04-14T14:05:04.826Z"
   },
   {
    "duration": 56,
    "start_time": "2023-04-14T14:05:04.862Z"
   },
   {
    "duration": 18,
    "start_time": "2023-04-14T14:05:04.920Z"
   },
   {
    "duration": 15,
    "start_time": "2023-04-14T14:05:04.939Z"
   },
   {
    "duration": 450,
    "start_time": "2023-04-14T14:05:04.956Z"
   },
   {
    "duration": 29,
    "start_time": "2023-04-14T14:05:05.408Z"
   },
   {
    "duration": 49,
    "start_time": "2023-04-14T14:05:05.439Z"
   },
   {
    "duration": 23,
    "start_time": "2023-04-14T14:05:05.490Z"
   },
   {
    "duration": 35,
    "start_time": "2023-04-14T14:05:05.514Z"
   },
   {
    "duration": 377,
    "start_time": "2023-04-14T14:05:05.551Z"
   },
   {
    "duration": 11,
    "start_time": "2023-04-14T14:05:05.930Z"
   },
   {
    "duration": 348,
    "start_time": "2023-04-14T14:05:05.942Z"
   },
   {
    "duration": 1204,
    "start_time": "2023-04-14T16:37:11.934Z"
   },
   {
    "duration": 78,
    "start_time": "2023-04-14T16:37:13.140Z"
   },
   {
    "duration": 17,
    "start_time": "2023-04-14T16:37:13.220Z"
   },
   {
    "duration": 4,
    "start_time": "2023-04-14T16:37:13.239Z"
   },
   {
    "duration": 13,
    "start_time": "2023-04-14T16:37:13.244Z"
   },
   {
    "duration": 11,
    "start_time": "2023-04-14T16:37:13.259Z"
   },
   {
    "duration": 27,
    "start_time": "2023-04-14T16:37:13.272Z"
   },
   {
    "duration": 26,
    "start_time": "2023-04-14T16:37:13.302Z"
   },
   {
    "duration": 21,
    "start_time": "2023-04-14T16:37:13.330Z"
   },
   {
    "duration": 199,
    "start_time": "2023-04-14T16:37:13.353Z"
   },
   {
    "duration": 50,
    "start_time": "2023-04-14T16:37:13.553Z"
   },
   {
    "duration": 13,
    "start_time": "2023-04-14T16:37:13.614Z"
   },
   {
    "duration": 22,
    "start_time": "2023-04-14T16:37:13.629Z"
   },
   {
    "duration": 20,
    "start_time": "2023-04-14T16:37:13.653Z"
   },
   {
    "duration": 10,
    "start_time": "2023-04-14T16:37:13.674Z"
   },
   {
    "duration": 41,
    "start_time": "2023-04-14T16:37:13.696Z"
   },
   {
    "duration": 20,
    "start_time": "2023-04-14T16:37:13.739Z"
   },
   {
    "duration": 193,
    "start_time": "2023-04-14T16:37:13.761Z"
   },
   {
    "duration": 6,
    "start_time": "2023-04-14T16:37:13.956Z"
   },
   {
    "duration": 28,
    "start_time": "2023-04-14T16:37:13.963Z"
   },
   {
    "duration": 13,
    "start_time": "2023-04-14T16:37:13.994Z"
   },
   {
    "duration": 363,
    "start_time": "2023-04-14T16:37:14.018Z"
   },
   {
    "duration": 5,
    "start_time": "2023-04-14T16:37:14.383Z"
   },
   {
    "duration": 31,
    "start_time": "2023-04-14T16:37:14.389Z"
   },
   {
    "duration": 330,
    "start_time": "2023-04-14T16:37:14.422Z"
   },
   {
    "duration": 383,
    "start_time": "2023-04-14T16:37:14.754Z"
   },
   {
    "duration": 393,
    "start_time": "2023-04-14T16:37:15.139Z"
   },
   {
    "duration": 221,
    "start_time": "2023-04-14T16:37:15.536Z"
   },
   {
    "duration": 305,
    "start_time": "2023-04-14T16:37:15.759Z"
   },
   {
    "duration": 59,
    "start_time": "2023-04-14T16:37:16.066Z"
   },
   {
    "duration": 34,
    "start_time": "2023-04-14T16:37:16.128Z"
   },
   {
    "duration": 34,
    "start_time": "2023-04-14T16:37:16.163Z"
   },
   {
    "duration": 20,
    "start_time": "2023-04-14T16:37:16.199Z"
   },
   {
    "duration": 405,
    "start_time": "2023-04-14T16:37:16.220Z"
   },
   {
    "duration": 28,
    "start_time": "2023-04-14T16:37:16.627Z"
   },
   {
    "duration": 46,
    "start_time": "2023-04-14T16:37:16.656Z"
   },
   {
    "duration": 29,
    "start_time": "2023-04-14T16:37:16.703Z"
   },
   {
    "duration": 12,
    "start_time": "2023-04-14T16:37:16.734Z"
   },
   {
    "duration": 416,
    "start_time": "2023-04-14T16:37:16.748Z"
   },
   {
    "duration": 12,
    "start_time": "2023-04-14T16:37:17.165Z"
   },
   {
    "duration": 410,
    "start_time": "2023-04-14T16:37:17.179Z"
   }
  ],
  "kernelspec": {
   "display_name": "Python 3 (ipykernel)",
   "language": "python",
   "name": "python3"
  },
  "language_info": {
   "codemirror_mode": {
    "name": "ipython",
    "version": 3
   },
   "file_extension": ".py",
   "mimetype": "text/x-python",
   "name": "python",
   "nbconvert_exporter": "python",
   "pygments_lexer": "ipython3",
   "version": "3.9.13"
  },
  "toc": {
   "base_numbering": 1,
   "nav_menu": {
    "height": "132.986px",
    "width": "285.99px"
   },
   "number_sections": true,
   "sideBar": true,
   "skip_h1_title": true,
   "title_cell": "Table of Contents",
   "title_sidebar": "Contents",
   "toc_cell": false,
   "toc_position": {},
   "toc_section_display": true,
   "toc_window_display": false
  }
 },
 "nbformat": 4,
 "nbformat_minor": 2
}
